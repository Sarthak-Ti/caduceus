{
 "cells": [
  {
   "cell_type": "markdown",
   "metadata": {},
   "source": [
    "# FIMO formatting\n",
    "4/11/24\n",
    "\n",
    "quick jupyter notebook to gather all the sequences for our 10000 cCREs, then to put it in a fasta file to run with FIMO\n",
    "\n",
    "The basic way it works is by using the ccre number to index into the tra;in or test or val files (do all 3). That will then give us the ccre idx, which is what is used to find the sequence!!"
   ]
  },
  {
   "cell_type": "code",
   "execution_count": 4,
   "metadata": {},
   "outputs": [
    {
     "name": "stdout",
     "output_type": "stream",
     "text": [
      "(8396,) (830,) (774,) 10000\n"
     ]
    }
   ],
   "source": [
    "#first we load in the ccre indices\n",
    "import numpy as np\n",
    "train_idx = np.load('/data/leslie/sarthak/hyena/hyena-dna/shap_analysis/most_variable_cCREs2/train_idx.npy')\n",
    "val_idx = np.load('/data/leslie/sarthak/hyena/hyena-dna/shap_analysis/most_variable_cCREs2/val_idx.npy')\n",
    "test_idx = np.load('/data/leslie/sarthak/hyena/hyena-dna/shap_analysis/most_variable_cCREs2/test_idx.npy')\n",
    "print(train_idx.shape, val_idx.shape, test_idx.shape, sum([train_idx.shape[0], val_idx.shape[0], test_idx.shape[0]]))"
   ]
  },
  {
   "cell_type": "code",
   "execution_count": 5,
   "metadata": {},
   "outputs": [
    {
     "data": {
      "text/html": [
       "<div>\n",
       "<style scoped>\n",
       "    .dataframe tbody tr th:only-of-type {\n",
       "        vertical-align: middle;\n",
       "    }\n",
       "\n",
       "    .dataframe tbody tr th {\n",
       "        vertical-align: top;\n",
       "    }\n",
       "\n",
       "    .dataframe thead th {\n",
       "        text-align: right;\n",
       "    }\n",
       "</style>\n",
       "<table border=\"1\" class=\"dataframe\">\n",
       "  <thead>\n",
       "    <tr style=\"text-align: right;\">\n",
       "      <th></th>\n",
       "      <th>id</th>\n",
       "      <th>chromosome</th>\n",
       "      <th>sequence</th>\n",
       "    </tr>\n",
       "  </thead>\n",
       "  <tbody>\n",
       "    <tr>\n",
       "      <th>0</th>\n",
       "      <td>EH38D4327509</td>\n",
       "      <td>1</td>\n",
       "      <td>GGTGAAGGTAGAGAATCTGGTGGGGAAGCAAGCAAATGCCCATCAC...</td>\n",
       "    </tr>\n",
       "    <tr>\n",
       "      <th>1</th>\n",
       "      <td>EH38D4327520</td>\n",
       "      <td>1</td>\n",
       "      <td>TCAGCCACGAGGCAGGCACTAGGCCTGGAAATGGCCTCACAGTCAT...</td>\n",
       "    </tr>\n",
       "    <tr>\n",
       "      <th>2</th>\n",
       "      <td>EH38D4327525</td>\n",
       "      <td>1</td>\n",
       "      <td>ccctaacccctaaccctaaccctaaccctaaccctaaccctaaccc...</td>\n",
       "    </tr>\n",
       "    <tr>\n",
       "      <th>3</th>\n",
       "      <td>EH38D4327544</td>\n",
       "      <td>1</td>\n",
       "      <td>ttgggaggccgaggcgggtggatcacaaggtcaggagatcaagacg...</td>\n",
       "    </tr>\n",
       "    <tr>\n",
       "      <th>4</th>\n",
       "      <td>EH38D4327554</td>\n",
       "      <td>1</td>\n",
       "      <td>NNNNNNNNNNNNNNNNNNNNNNNNNNNNNNNNNNNNNNNNNNNNNN...</td>\n",
       "    </tr>\n",
       "  </tbody>\n",
       "</table>\n",
       "</div>"
      ],
      "text/plain": [
       "             id  chromosome                                           sequence\n",
       "0  EH38D4327509           1  GGTGAAGGTAGAGAATCTGGTGGGGAAGCAAGCAAATGCCCATCAC...\n",
       "1  EH38D4327520           1  TCAGCCACGAGGCAGGCACTAGGCCTGGAAATGGCCTCACAGTCAT...\n",
       "2  EH38D4327525           1  ccctaacccctaaccctaaccctaaccctaaccctaaccctaaccc...\n",
       "3  EH38D4327544           1  ttgggaggccgaggcgggtggatcacaaggtcaggagatcaagacg...\n",
       "4  EH38D4327554           1  NNNNNNNNNNNNNNNNNNNNNNNNNNNNNNNNNNNNNNNNNNNNNN..."
      ]
     },
     "execution_count": 5,
     "metadata": {},
     "output_type": "execute_result"
    }
   ],
   "source": [
    "#now that we have it, we can access some of the data!\n",
    "import pandas as pd\n",
    "#read train.csv\n",
    "train = pd.read_csv('/data/leslie/sarthak/data/train.csv')\n",
    "train.head()"
   ]
  },
  {
   "cell_type": "code",
   "execution_count": 6,
   "metadata": {},
   "outputs": [
    {
     "data": {
      "text/plain": [
       "(856076, 3)"
      ]
     },
     "execution_count": 6,
     "metadata": {},
     "output_type": "execute_result"
    }
   ],
   "source": [
    "train = train.to_numpy()\n",
    "train.shape"
   ]
  },
  {
   "cell_type": "code",
   "execution_count": 8,
   "metadata": {},
   "outputs": [
    {
     "name": "stdout",
     "output_type": "stream",
     "text": [
      "(8396,)\n"
     ]
    }
   ],
   "source": [
    "#now to access the CRE it's the same indexing scheme, we'll test this later\n",
    "train_seqs = train[train_idx,2]\n",
    "print(train_seqs.shape)"
   ]
  },
  {
   "cell_type": "code",
   "execution_count": 9,
   "metadata": {},
   "outputs": [
    {
     "name": "stdout",
     "output_type": "stream",
     "text": [
      "caTATCTGAACTACACTGAATTTGCTTTTTCAAGTGGGGAGAAAAATCATTTATAAGACACCCAAGGAAAAGTCCTAAGAAACTGGATACCCCAACTATTAATCATTAATTAAGCATCTACTTAATACCTGTTAGGTGTTCTGTGCTTTTCACTAAGCATACAAAACTCCTGCTTTTAATAGCTTATAGGTCTTGAATGCCCTCTCAATGTTTCTGAggccaaattaaataaaaaatgcaaattctaaaATCCTAAAACTaccacttctgttttctttcaaatattcacAAAGGGTaaaatccatttttataaatTCCACTATAATAAATATAACTAACAGAACCACTGATGTGTATCAATTCAAAATGATTTTATGATAATTGTATACATTAGATTTGATAAATGTGCTATTTTCTGACTCCAggcagaatatttgaaaataaaaaattactttacaGAAACTATCTATACTAGTTCATACCAGAAACTATACCAAAACCACATCAAGTTTCTCTAACACATTGTCTATTGCAAATGAACctgaacaaacaaaaatgtaagtgAAACTCACTTTATTACCATGATCAGAGTCTTCATTCATCTATTGTAAGATAGTCCAGACAAACCACTTTATGCAGGTTAGAAAATGTCACAAATGTAATAGGTTTGATTCTTAAAGAAATCAATTAacttcaaataagaaaaatgagttCTGTTCCTAGCTATTAATTAcaccaatttctctcattttgtaaaatgtaaataccaTTCAAGAGGGTCTCCATAGTTCACTTATGAAACCTCATTGCTCCAAGAAAAAATTCCAATGCATACAAAATTGTCATTAATTATACAAGGTAATTAACTCCATCTCTGTATAAgaaattaataagtatttattaagtgaACAGTTAGAACTATGAAAccaatgtattttctcttctcaaGGTACAATCAATGTGTgacaaagttttttttgttgttattaaggCACTTTGGATTGGTTAAGCTCTTTGTATAAGG\n"
     ]
    }
   ],
   "source": [
    "print(train_seqs[0]) #seems to be fine, now we need to save it one line at a time with the corresponding number"
   ]
  },
  {
   "cell_type": "code",
   "execution_count": 10,
   "metadata": {},
   "outputs": [],
   "source": [
    "fasta_file_path = \"/data/leslie/sarthak/hyena/hyena-dna/shap_analysis/modisco/sequences.fasta\"\n",
    "for i in range(train_seqs.shape[0]):\n",
    "    with open(fasta_file_path, 'a') as f:\n",
    "        f.write(f\">train{train_idx[i]}\\n\")\n",
    "        f.write(train_seqs[i].upper()+\"\\n\")"
   ]
  },
  {
   "cell_type": "code",
   "execution_count": 11,
   "metadata": {},
   "outputs": [],
   "source": [
    "#repeat for val\n",
    "val = pd.read_csv('/data/leslie/sarthak/data/val.csv').to_numpy()\n",
    "val_seqs = val[val_idx,2]"
   ]
  },
  {
   "cell_type": "code",
   "execution_count": 12,
   "metadata": {},
   "outputs": [],
   "source": [
    "#and now put it in the file\n",
    "for i in range(val_seqs.shape[0]):\n",
    "    with open(fasta_file_path, 'a') as f:\n",
    "        f.write(f\">val{val_idx[i]}\\n\")\n",
    "        f.write(val_seqs[i].upper()+\"\\n\")"
   ]
  },
  {
   "cell_type": "code",
   "execution_count": 13,
   "metadata": {},
   "outputs": [],
   "source": [
    "#and test\n",
    "test = pd.read_csv('/data/leslie/sarthak/data/test.csv').to_numpy()\n",
    "test_seqs = test[test_idx,2]\n",
    "for i in range(test_seqs.shape[0]):\n",
    "    with open(fasta_file_path, 'a') as f:\n",
    "        f.write(f\">test{test_idx[i]}\\n\")\n",
    "        f.write(test_seqs[i].upper()+\"\\n\")"
   ]
  },
  {
   "cell_type": "markdown",
   "metadata": {},
   "source": [
    "# testing to verify"
   ]
  },
  {
   "cell_type": "code",
   "execution_count": 25,
   "metadata": {},
   "outputs": [
    {
     "name": "stdout",
     "output_type": "stream",
     "text": [
      ">train757486\n",
      "\n"
     ]
    }
   ],
   "source": [
    "#let's now grab a random line, need an odd line as that tells us the motif number\n",
    "with open(fasta_file_path, 'r') as f:\n",
    "    for i, line in enumerate(f):\n",
    "        if i==15890:\n",
    "            print(line)\n",
    "            break"
   ]
  },
  {
   "cell_type": "code",
   "execution_count": 26,
   "metadata": {},
   "outputs": [
    {
     "name": "stdout",
     "output_type": "stream",
     "text": [
      "GCCTAAATTATTTTTCAGAGTGGATCCTCTGGATCATTCTGCTTATTTGTCTTCCAATTCAGCTGATCTCTAAGCTTGGTTCTTACTACAAAGGCATGGGAAATTACTGTGAAATCATGGGAACTTATTTTTCACCTTATCAAAATTGTGTTAATATTATTACCATTAAGAGCATGGTTTTGTTCTGGTTGTAGGAAGAAATTGGCATTTGTAACCCAAGAAAGCTTACTAACGTAAAGGTGTGGTCATCTTTACAGTGAAGTGCAAAAGAACCTCTTGTGCCTCTGTCAGTTTTCGCCGTGATAAAATAGGACAATAATCAGTCAAATGTGTTGTTGAAGAATGATTGCTCACTATAGTGAAGATTGGATTGGTGGTCAGCCCTTATCATAGGCTCAAGTACATAGTAGGGATATGTATATGACGTAAAATTATACTTAACCCTCTTTCATTCAAGATTTTGAGTTTGTAGGTGTTGTGCTGAATAGAGTCCTAGAATGTAGCAGTTCGTGGTTGGTTTCTCACTTGTTTGAGCTCTTTTCTCTTTATTGCCTGTTTCAGAATGATTAAACCAGAATTTAGCTATCTGTGGCACAGATGTTTGGTTACATACATGAGACACTAGCACTATGTCCCTAGGTCACTGATAGTGACATTTTCCTGCATTTATAAATATTTGTAAATATTAGCAGTTATTGACCCTGCTAATGACAGTTGACTAGGTATAGCTCCACTTTTTCAAGACCTCACCTCCTAGAAAATTCTAGGATGTTGAGTGCCAGGGTAAAAACATAAAGATCGTTTGAAGAATGACATGCTGTCCAGCTAGGTTGCAAAGTTGAGTAATAACAGTAAATAAGTCATGTGGTAGCTTGGGTTAATAATGTGGAGGTCACTGAATATTGGAGACTGCTTCTTGGTAAGGGAGTGATCAAAGCAGTGCTTCAAGAAGATTCATCTGGCTACAGATTGTAGGAATGCCTTGTTAGTTGGCATTACAAGACCCCCTTCTTATAATAGGTTT\n",
      "\n"
     ]
    }
   ],
   "source": [
    "#so we have this train file, let's see  if that's what we get and if it matches\n",
    "with open(fasta_file_path, 'r') as f:\n",
    "    for i, line in enumerate(f):\n",
    "        if i==15891:\n",
    "            print(line)\n",
    "            fastaseq = line\n",
    "            break"
   ]
  },
  {
   "cell_type": "code",
   "execution_count": 27,
   "metadata": {},
   "outputs": [
    {
     "name": "stdout",
     "output_type": "stream",
     "text": [
      "(4, 1023, 161)\n"
     ]
    },
    {
     "ename": "IndexError",
     "evalue": "arrays used as indices must be of integer (or boolean) type",
     "output_type": "error",
     "traceback": [
      "\u001b[0;31m---------------------------------------------------------------------------\u001b[0m",
      "\u001b[0;31mIndexError\u001b[0m                                Traceback (most recent call last)",
      "Cell \u001b[0;32mIn[27], line 8\u001b[0m\n\u001b[1;32m      6\u001b[0m utils \u001b[38;5;241m=\u001b[39m ISMUtils(\u001b[38;5;124m'\u001b[39m\u001b[38;5;124mDNase_allcelltypes\u001b[39m\u001b[38;5;124m'\u001b[39m, multitasking_path1, classification\u001b[38;5;241m=\u001b[39m\u001b[38;5;28;01mTrue\u001b[39;00m)\n\u001b[1;32m      7\u001b[0m \u001b[38;5;28mprint\u001b[39m(a\u001b[38;5;241m.\u001b[39mshape)\n\u001b[0;32m----> 8\u001b[0m out \u001b[38;5;241m=\u001b[39m \u001b[43mutils\u001b[49m\u001b[38;5;241;43m.\u001b[39;49m\u001b[43monehot_ism\u001b[49m\u001b[43m(\u001b[49m\u001b[43ma\u001b[49m\u001b[43m)\u001b[49m\n\u001b[1;32m      9\u001b[0m \u001b[38;5;28mprint\u001b[39m(\u001b[38;5;28mlen\u001b[39m(out))\n",
      "File \u001b[0;32m/lila/data/leslie/sarthak/hyena/hyena-dna/shap_analysis/ism_utils.py:400\u001b[0m, in \u001b[0;36mISMUtils.onehot_ism\u001b[0;34m(self, idx, name, ism)\u001b[0m\n\u001b[1;32m    398\u001b[0m     seq_idx \u001b[38;5;241m=\u001b[39m idx\n\u001b[1;32m    399\u001b[0m     start \u001b[38;5;241m=\u001b[39m \u001b[38;5;241m0\u001b[39m\n\u001b[0;32m--> 400\u001b[0m seq \u001b[38;5;241m=\u001b[39m \u001b[38;5;28;43mself\u001b[39;49m\u001b[38;5;241;43m.\u001b[39;49m\u001b[43mdataset\u001b[49m\u001b[38;5;241;43m.\u001b[39;49m\u001b[43marray\u001b[49m\u001b[43m[\u001b[49m\u001b[43mseq_idx\u001b[49m\u001b[43m,\u001b[49m\u001b[38;5;241;43m2\u001b[39;49m\u001b[43m]\u001b[49m\n\u001b[1;32m    401\u001b[0m seq \u001b[38;5;241m=\u001b[39m seq[:\u001b[38;5;241m-\u001b[39m\u001b[38;5;241m1\u001b[39m]\u001b[38;5;241m.\u001b[39mupper()\n\u001b[1;32m    402\u001b[0m mapping \u001b[38;5;241m=\u001b[39m {\u001b[38;5;124m'\u001b[39m\u001b[38;5;124mA\u001b[39m\u001b[38;5;124m'\u001b[39m: \u001b[38;5;241m0\u001b[39m, \u001b[38;5;124m'\u001b[39m\u001b[38;5;124mC\u001b[39m\u001b[38;5;124m'\u001b[39m: \u001b[38;5;241m1\u001b[39m, \u001b[38;5;124m'\u001b[39m\u001b[38;5;124mG\u001b[39m\u001b[38;5;124m'\u001b[39m: \u001b[38;5;241m2\u001b[39m, \u001b[38;5;124m'\u001b[39m\u001b[38;5;124mT\u001b[39m\u001b[38;5;124m'\u001b[39m: \u001b[38;5;241m3\u001b[39m}\n",
      "\u001b[0;31mIndexError\u001b[0m: arrays used as indices must be of integer (or boolean) type"
     ]
    }
   ],
   "source": [
    "#so first load in the sequence like before\n",
    "import numpy as np\n",
    "from shap_analysis.ism_utils import ISMUtils\n",
    "multitasking_path1 = '/data/leslie/sarthak/hyena/hyena-dna/outputs/2024-03-27/18-39-11-031863/checkpoints/25-val_loss=0.52186.ckpt' #the 25 epoch one\n",
    "a = np.load('/data/leslie/sarthak/hyena/hyena-dna/shap_analysis/most_variable_cCREs2/train/multitasking_25epoch_174906_reg.npy')\n",
    "utils = ISMUtils('DNase_allcelltypes', multitasking_path1, classification=True)\n",
    "print(a.shape)\n",
    "# out = utils.onehot_ism(a)\n",
    "# print(len(out))"
   ]
  },
  {
   "cell_type": "code",
   "execution_count": 28,
   "metadata": {},
   "outputs": [
    {
     "name": "stdout",
     "output_type": "stream",
     "text": [
      "tensor([ 9,  8,  8,  ...,  9, 10, 10])\n"
     ]
    }
   ],
   "source": [
    "#now we use the dataset class and do it!\n",
    "a,b = utils.dataset[757486]\n",
    "print(a)"
   ]
  },
  {
   "cell_type": "code",
   "execution_count": 30,
   "metadata": {},
   "outputs": [
    {
     "name": "stdout",
     "output_type": "stream",
     "text": [
      "GCCTAAATTATTTTTCAGAGTGGATCCTCTGGATCATTCTGCTTATTTGTCTTCCAATTCAGCTGATCTCTAAGCTTGGTTCTTACTACAAAGGCATGGGAAATTACTGTGAAATCATGGGAACTTATTTTTCACCTTATCAAAATTGTGTTAATATTATTACCATTAAGAGCATGGTTTTGTTCTGGTTGTAGGAAGAAATTGGCATTTGTAACCCAAGAAAGCTTACTAACGTAAAGGTGTGGTCATCTTTACAGTGAAGTGCAAAAGAACCTCTTGTGCCTCTGTCAGTTTTCGCCGTGATAAAATAGGACAATAATCAGTCAAATGTGTTGTTGAAGAATGATTGCTCACTATAGTGAAGATTGGATTGGTGGTCAGCCCTTATCATAGGCTCAAGTACATAGTAGGGATATGTATATGACGTAAAATTATACTTAACCCTCTTTCATTCAAGATTTTGAGTTTGTAGGTGTTGTGCTGAATAGAGTCCTAGAATGTAGCAGTTCGTGGTTGGTTTCTCACTTGTTTGAGCTCTTTTCTCTTTATTGCCTGTTTCAGAATGATTAAACCAGAATTTAGCTATCTGTGGCACAGATGTTTGGTTACATACATGAGACACTAGCACTATGTCCCTAGGTCACTGATAGTGACATTTTCCTGCATTTATAAATATTTGTAAATATTAGCAGTTATTGACCCTGCTAATGACAGTTGACTAGGTATAGCTCCACTTTTTCAAGACCTCACCTCCTAGAAAATTCTAGGATGTTGAGTGCCAGGGTAAAAACATAAAGATCGTTTGAAGAATGACATGCTGTCCAGCTAGGTTGCAAAGTTGAGTAATAACAGTAAATAAGTCATGTGGTAGCTTGGGTTAATAATGTGGAGGTCACTGAATATTGGAGACTGCTTCTTGGTAAGGGAGTGATCAAAGCAGTGCTTCAAGAAGATTCATCTGGCTACAGATTGTAGGAATGCCTTGTTAGTTGGCATTACAAGACCCCCTTCTTATAATAGGTT\n",
      "False\n"
     ]
    }
   ],
   "source": [
    "print(utils.dataset.tokenizer.decode(a))\n",
    "print(utils.dataset.tokenizer.decode(a) == fastaseq[:-1])"
   ]
  },
  {
   "cell_type": "code",
   "execution_count": 31,
   "metadata": {},
   "outputs": [
    {
     "name": "stdout",
     "output_type": "stream",
     "text": [
      "1025\n",
      "1023\n"
     ]
    }
   ],
   "source": [
    "print(len(fastaseq)) #wait why is this 1025??\n",
    "print(len(a))"
   ]
  },
  {
   "cell_type": "code",
   "execution_count": 35,
   "metadata": {},
   "outputs": [],
   "source": [
    "decoded = utils.dataset.tokenizer.decode(a)"
   ]
  },
  {
   "cell_type": "code",
   "execution_count": 36,
   "metadata": {},
   "outputs": [
    {
     "name": "stdout",
     "output_type": "stream",
     "text": [
      "GCCTA GCCTA\n"
     ]
    }
   ],
   "source": [
    "print(fastaseq[:5], decoded[:5])"
   ]
  },
  {
   "cell_type": "code",
   "execution_count": 37,
   "metadata": {},
   "outputs": [
    {
     "name": "stdout",
     "output_type": "stream",
     "text": [
      "GTTT\n",
      " AGGTT\n"
     ]
    }
   ],
   "source": [
    "print(fastaseq[-5:], decoded[-5:])\n",
    "#oh, there's the \\n at the end, that's actually part of the string!"
   ]
  },
  {
   "cell_type": "code",
   "execution_count": 38,
   "metadata": {},
   "outputs": [
    {
     "name": "stdout",
     "output_type": "stream",
     "text": [
      "True\n"
     ]
    }
   ],
   "source": [
    "print(utils.dataset.tokenizer.decode(a) == fastaseq[:-2]) #ok it works exactly like we would expect, let's grab a random val or test seq too"
   ]
  },
  {
   "cell_type": "code",
   "execution_count": 41,
   "metadata": {},
   "outputs": [
    {
     "name": "stdout",
     "output_type": "stream",
     "text": [
      ">test61168\n",
      "\n",
      "AAGCTTGGAACTTCCCAGAGACTTGGAGGGCTCAGAAGACAGAAAAGTGTGGGAAAGTTTGGAACTTCCTAGAGACTTGTTGAACGGCTTTGACTAAAATGCTGATAGTGATATAGACAATGAAGTCCAGGCTAAGGTGGTCTCAGATGGACCTGAGGAACTTATCGGGAACTGAAGTAAAGATCACTCTTGCTGCGCTTTAGCCAAAAGACTGGAGACTTTTTGCCCCTGCCCTAGAGATCTGTAGAACTTTAAACTTGAGAGAGATCATTTAGGGTATCTGGAGGAAGAAATTTCTAAGCAGCAAAGCATTCAAGAGGAAGCAGAGTATAAAAGTTTGGAAAATTTGCAGCCTGACGATGAGACAGAAAAGAAAAGCCCATTTTCTGGAGAGAAATTCAAGCCAGCTGCAGAAATTTGCATAAGTAATGAGGAGCCAAATGTTAATCACCAAGACAATGGGGAAAACATCAGGAGGGCATGTCAGAGACTTTCATAGCAGCCCCTCCTATCACAAGCCTGGAGCCCTAGGAGGGAAAAATGGTTTGGCGAGCTTGGCCCAGGGTCCCCCTGCTCTGTGCAGCCTCAGGACATGGTGCCCTGGATCCCAGCTGCTTCAGCTCCAGACATGGCTAAAAGGGGTCAACATACAGCTCAGACCATGGCTTCAGAGGGTGCAAGCCCCAAGCCTTGGTGGCTTACACATGGTGTTGGGACTGCAGGTGTGCAGAAGTCAAGAATTGAGGTATGGGAACTGTGCCTAGATTTCAGAGGATCTATGGAAATACCTGAATGTCCAGGCAGAGGTATGCTTCAGGGTGAAACCCTCATGGAGAAACTCTGCTAAGGCAGTGTAGAAGGAAAATGTGGGGTTGAAGCCCACACATAGGGTACCCACTGGGGCACAGCCTAGTGTACCTGTGAGAAGAGAGCCACCATCCTCCAGACCCTAGAATGGTAGATCCACTGACAGTTTGCACCGTGCACCCAGAAAAACCACAGACACTCAATGCCAGCACATGAA\n",
      "\n"
     ]
    }
   ],
   "source": [
    "#let's now grab a random line, need an odd line as that tells us the motif number\n",
    "with open(fasta_file_path, 'r') as f:\n",
    "    for i, line in enumerate(f):\n",
    "        if i==18890:\n",
    "            print(line)\n",
    "            print(fastaseq:=next(f))\n",
    "            break"
   ]
  },
  {
   "cell_type": "code",
   "execution_count": 45,
   "metadata": {},
   "outputs": [
    {
     "name": "stdout",
     "output_type": "stream",
     "text": [
      "AAGCTTGGAACTTCCCAGAGACTTGGAGGGCTCAGAAGACAGAAAAGTGTGGGAAAGTTTGGAACTTCCTAGAGACTTGTTGAACGGCTTTGACTAAAATGCTGATAGTGATATAGACAATGAAGTCCAGGCTAAGGTGGTCTCAGATGGACCTGAGGAACTTATCGGGAACTGAAGTAAAGATCACTCTTGCTGCGCTTTAGCCAAAAGACTGGAGACTTTTTGCCCCTGCCCTAGAGATCTGTAGAACTTTAAACTTGAGAGAGATCATTTAGGGTATCTGGAGGAAGAAATTTCTAAGCAGCAAAGCATTCAAGAGGAAGCAGAGTATAAAAGTTTGGAAAATTTGCAGCCTGACGATGAGACAGAAAAGAAAAGCCCATTTTCTGGAGAGAAATTCAAGCCAGCTGCAGAAATTTGCATAAGTAATGAGGAGCCAAATGTTAATCACCAAGACAATGGGGAAAACATCAGGAGGGCATGTCAGAGACTTTCATAGCAGCCCCTCCTATCACAAGCCTGGAGCCCTAGGAGGGAAAAATGGTTTGGCGAGCTTGGCCCAGGGTCCCCCTGCTCTGTGCAGCCTCAGGACATGGTGCCCTGGATCCCAGCTGCTTCAGCTCCAGACATGGCTAAAAGGGGTCAACATACAGCTCAGACCATGGCTTCAGAGGGTGCAAGCCCCAAGCCTTGGTGGCTTACACATGGTGTTGGGACTGCAGGTGTGCAGAAGTCAAGAATTGAGGTATGGGAACTGTGCCTAGATTTCAGAGGATCTATGGAAATACCTGAATGTCCAGGCAGAGGTATGCTTCAGGGTGAAACCCTCATGGAGAAACTCTGCTAAGGCAGTGTAGAAGGAAAATGTGGGGTTGAAGCCCACACATAGGGTACCCACTGGGGCACAGCCTAGTGTACCTGTGAGAAGAGAGCCACCATCCTCCAGACCCTAGAATGGTAGATCCACTGACAGTTTGCACCGTGCACCCAGAAAAACCACAGACACTCAATGCCAGCACATGAA\n",
      "\n"
     ]
    }
   ],
   "source": [
    "with open(fasta_file_path, 'r') as f:\n",
    "    for i, line in enumerate(f):\n",
    "        if i==18891:\n",
    "            print(line)\n",
    "            # print(fastaseq:=next(f))\n",
    "            break\n",
    "#same as above, we're fine"
   ]
  },
  {
   "cell_type": "code",
   "execution_count": 40,
   "metadata": {},
   "outputs": [],
   "source": [
    "ctst_path = '/data/leslie/sarthak/hyena/hyena-dna/outputs/2024-03-25/15-41-13-286486/checkpoints/last.ckpt'\n",
    "utils = ISMUtils('DNase_ctst', ctst_path, classification=True, split='test')"
   ]
  },
  {
   "cell_type": "code",
   "execution_count": 46,
   "metadata": {},
   "outputs": [
    {
     "name": "stdout",
     "output_type": "stream",
     "text": [
      "AAGCTTGGAACTTCCCAGAGACTTGGAGGGCTCAGAAGACAGAAAAGTGTGGGAAAGTTTGGAACTTCCTAGAGACTTGTTGAACGGCTTTGACTAAAATGCTGATAGTGATATAGACAATGAAGTCCAGGCTAAGGTGGTCTCAGATGGACCTGAGGAACTTATCGGGAACTGAAGTAAAGATCACTCTTGCTGCGCTTTAGCCAAAAGACTGGAGACTTTTTGCCCCTGCCCTAGAGATCTGTAGAACTTTAAACTTGAGAGAGATCATTTAGGGTATCTGGAGGAAGAAATTTCTAAGCAGCAAAGCATTCAAGAGGAAGCAGAGTATAAAAGTTTGGAAAATTTGCAGCCTGACGATGAGACAGAAAAGAAAAGCCCATTTTCTGGAGAGAAATTCAAGCCAGCTGCAGAAATTTGCATAAGTAATGAGGAGCCAAATGTTAATCACCAAGACAATGGGGAAAACATCAGGAGGGCATGTCAGAGACTTTCATAGCAGCCCCTCCTATCACAAGCCTGGAGCCCTAGGAGGGAAAAATGGTTTGGCGAGCTTGGCCCAGGGTCCCCCTGCTCTGTGCAGCCTCAGGACATGGTGCCCTGGATCCCAGCTGCTTCAGCTCCAGACATGGCTAAAAGGGGTCAACATACAGCTCAGACCATGGCTTCAGAGGGTGCAAGCCCCAAGCCTTGGTGGCTTACACATGGTGTTGGGACTGCAGGTGTGCAGAAGTCAAGAATTGAGGTATGGGAACTGTGCCTAGATTTCAGAGGATCTATGGAAATACCTGAATGTCCAGGCAGAGGTATGCTTCAGGGTGAAACCCTCATGGAGAAACTCTGCTAAGGCAGTGTAGAAGGAAAATGTGGGGTTGAAGCCCACACATAGGGTACCCACTGGGGCACAGCCTAGTGTACCTGTGAGAAGAGAGCCACCATCCTCCAGACCCTAGAATGGTAGATCCACTGACAGTTTGCACCGTGCACCCAGAAAAACCACAGACACTCAATGCCAGCACATGA\n"
     ]
    }
   ],
   "source": [
    "a,b = utils.dataset[61168*161] #need the 161 obviously, \n",
    "decoded = utils.dataset.tokenizer.decode(a[1:])\n",
    "print(decoded)"
   ]
  },
  {
   "cell_type": "code",
   "execution_count": 47,
   "metadata": {},
   "outputs": [
    {
     "name": "stdout",
     "output_type": "stream",
     "text": [
      "True\n"
     ]
    }
   ],
   "source": [
    "print(fastaseq[:-2] == decoded) #if we exclude the extra nucleotide and the new line, it is exaclty what we expect"
   ]
  }
 ],
 "metadata": {
  "kernelspec": {
   "display_name": "Python 3 (ipykernel)",
   "language": "python",
   "name": "python3"
  },
  "language_info": {
   "codemirror_mode": {
    "name": "ipython",
    "version": 3
   },
   "file_extension": ".py",
   "mimetype": "text/x-python",
   "name": "python",
   "nbconvert_exporter": "python",
   "pygments_lexer": "ipython3",
   "version": "3.11.7"
  }
 },
 "nbformat": 4,
 "nbformat_minor": 2
}
