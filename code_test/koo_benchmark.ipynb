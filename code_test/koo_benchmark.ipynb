{
 "cells": [
  {
   "cell_type": "markdown",
   "metadata": {},
   "source": [
    "# benchmarks from peter koo paper\n",
    "\n",
    "https://www.biorxiv.org/content/10.1101/2024.02.29.582810v2.full.pdf"
   ]
  },
  {
   "cell_type": "markdown",
   "metadata": {},
   "source": [
    "## task 1: MPRA"
   ]
  },
  {
   "cell_type": "code",
   "execution_count": 9,
   "metadata": {},
   "outputs": [
    {
     "name": "stdout",
     "output_type": "stream",
     "text": [
      "<KeysViewHDF5 ['10_x', '10_y', '10_y_avg', '1_x', '1_y', '1_y_avg', '2_x', '2_y', '2_y_avg', '3_x', '3_y', '3_y_avg', '4_x', '4_y', '4_y_avg', '5_x', '5_y', '5_y_avg', '6_x', '6_y', '6_y_avg', '7_x', '7_y', '7_y_avg', '8_x', '8_y', '8_y_avg', '9_x', '9_y', '9_y_avg']>\n"
     ]
    },
    {
     "data": {
      "text/plain": [
       "(24596, 230, 4)"
      ]
     },
     "execution_count": 9,
     "metadata": {},
     "output_type": "execute_result"
    }
   ],
   "source": [
    "#first thing is look at the data\n",
    "import h5py\n",
    "cell_name = 'lentiMPRA_HepG2.h5'\n",
    "data_file = h5py.File('/data1/lesliec/sarthak/data/joint_playground/koo_benchmark/data/lenti_MPRA/'+cell_name,'r')\n",
    "print(data_file.keys())\n",
    "# train_seq = data_file['seq_train']\n",
    "# y_train = data_file['y_train'][:]\n",
    "# valid_seq = data_file['seq_valid']\n",
    "# y_valid = data_file['y_valid'][:]\n",
    "# test_seq = data_file['seq_test']\n",
    "# y_test = np.squeeze(data_file['y_test'][:])\n",
    "\n",
    "# print('train_seq shape:', train_seq.shape)\n",
    "# print('y_train shape:', y_train.shape)\n",
    "# print('valid_seq shape:', valid_seq.shape)\n",
    "# print('y_valid shape:', y_valid.shape)\n",
    "# print('test_seq shape:', test_seq.shape)\n",
    "# print('y_test shape:', y_test.shape)\n",
    "data_file['10_x'].shape"
   ]
  },
  {
   "cell_type": "code",
   "execution_count": null,
   "metadata": {},
   "outputs": [
    {
     "data": {
      "text/plain": [
       "array([[1, 0, 0, 0],\n",
       "       [0, 0, 1, 0],\n",
       "       [0, 0, 1, 0],\n",
       "       [1, 0, 0, 0],\n",
       "       [0, 1, 0, 0],\n",
       "       [0, 1, 0, 0],\n",
       "       [0, 0, 1, 0],\n",
       "       [0, 0, 1, 0],\n",
       "       [1, 0, 0, 0],\n",
       "       [0, 0, 0, 1],\n",
       "       [0, 1, 0, 0],\n",
       "       [1, 0, 0, 0],\n",
       "       [1, 0, 0, 0],\n",
       "       [0, 1, 0, 0],\n",
       "       [0, 0, 0, 1],\n",
       "       [0, 0, 0, 1],\n",
       "       [0, 0, 1, 0],\n",
       "       [0, 0, 0, 1],\n",
       "       [0, 0, 0, 1],\n",
       "       [0, 0, 0, 1],\n",
       "       [0, 1, 0, 0],\n",
       "       [0, 0, 0, 1],\n",
       "       [0, 0, 0, 1],\n",
       "       [1, 0, 0, 0],\n",
       "       [0, 0, 1, 0],\n",
       "       [0, 0, 1, 0],\n",
       "       [1, 0, 0, 0],\n",
       "       [1, 0, 0, 0],\n",
       "       [1, 0, 0, 0],\n",
       "       [0, 0, 1, 0],\n",
       "       [0, 0, 1, 0],\n",
       "       [0, 1, 0, 0],\n",
       "       [0, 0, 1, 0],\n",
       "       [0, 0, 1, 0],\n",
       "       [0, 1, 0, 0],\n",
       "       [0, 1, 0, 0],\n",
       "       [1, 0, 0, 0],\n",
       "       [1, 0, 0, 0],\n",
       "       [0, 1, 0, 0],\n",
       "       [0, 1, 0, 0],\n",
       "       [0, 1, 0, 0],\n",
       "       [1, 0, 0, 0],\n",
       "       [0, 0, 1, 0],\n",
       "       [0, 0, 1, 0],\n",
       "       [0, 0, 1, 0],\n",
       "       [0, 0, 0, 1],\n",
       "       [0, 1, 0, 0],\n",
       "       [0, 0, 0, 1],\n",
       "       [0, 1, 0, 0],\n",
       "       [0, 1, 0, 0],\n",
       "       [1, 0, 0, 0],\n",
       "       [0, 0, 1, 0],\n",
       "       [0, 0, 0, 1],\n",
       "       [0, 0, 1, 0],\n",
       "       [1, 0, 0, 0],\n",
       "       [0, 1, 0, 0],\n",
       "       [1, 0, 0, 0],\n",
       "       [0, 1, 0, 0],\n",
       "       [0, 0, 1, 0],\n",
       "       [0, 0, 0, 1],\n",
       "       [0, 0, 0, 1],\n",
       "       [0, 0, 0, 1],\n",
       "       [0, 1, 0, 0],\n",
       "       [0, 1, 0, 0],\n",
       "       [0, 0, 1, 0],\n",
       "       [0, 0, 1, 0],\n",
       "       [0, 0, 1, 0],\n",
       "       [0, 0, 0, 1],\n",
       "       [0, 1, 0, 0],\n",
       "       [1, 0, 0, 0],\n",
       "       [0, 0, 0, 1],\n",
       "       [0, 1, 0, 0],\n",
       "       [1, 0, 0, 0],\n",
       "       [0, 0, 0, 1],\n",
       "       [0, 1, 0, 0],\n",
       "       [0, 1, 0, 0],\n",
       "       [0, 0, 1, 0],\n",
       "       [0, 0, 1, 0],\n",
       "       [0, 0, 0, 1],\n",
       "       [0, 0, 1, 0],\n",
       "       [0, 0, 1, 0],\n",
       "       [0, 1, 0, 0],\n",
       "       [0, 1, 0, 0],\n",
       "       [1, 0, 0, 0],\n",
       "       [0, 1, 0, 0],\n",
       "       [1, 0, 0, 0],\n",
       "       [0, 0, 1, 0],\n",
       "       [0, 0, 1, 0],\n",
       "       [0, 0, 1, 0],\n",
       "       [1, 0, 0, 0],\n",
       "       [1, 0, 0, 0],\n",
       "       [0, 0, 0, 1],\n",
       "       [0, 1, 0, 0],\n",
       "       [1, 0, 0, 0],\n",
       "       [0, 1, 0, 0],\n",
       "       [1, 0, 0, 0],\n",
       "       [0, 0, 1, 0],\n",
       "       [0, 0, 1, 0],\n",
       "       [0, 1, 0, 0],\n",
       "       [0, 0, 0, 1],\n",
       "       [0, 1, 0, 0],\n",
       "       [0, 0, 1, 0],\n",
       "       [0, 0, 1, 0],\n",
       "       [0, 0, 0, 1],\n",
       "       [0, 0, 1, 0],\n",
       "       [0, 0, 0, 1],\n",
       "       [0, 0, 1, 0],\n",
       "       [1, 0, 0, 0],\n",
       "       [0, 1, 0, 0],\n",
       "       [0, 0, 0, 1],\n",
       "       [0, 0, 0, 1],\n",
       "       [0, 0, 0, 1],\n",
       "       [0, 1, 0, 0],\n",
       "       [0, 0, 0, 1],\n",
       "       [0, 1, 0, 0],\n",
       "       [1, 0, 0, 0],\n",
       "       [0, 0, 1, 0],\n",
       "       [1, 0, 0, 0],\n",
       "       [0, 0, 1, 0],\n",
       "       [0, 1, 0, 0],\n",
       "       [0, 0, 1, 0],\n",
       "       [0, 1, 0, 0],\n",
       "       [0, 1, 0, 0],\n",
       "       [1, 0, 0, 0],\n",
       "       [0, 0, 0, 1],\n",
       "       [0, 0, 1, 0],\n",
       "       [0, 0, 1, 0],\n",
       "       [0, 0, 0, 1],\n",
       "       [0, 0, 1, 0],\n",
       "       [0, 1, 0, 0],\n",
       "       [0, 1, 0, 0],\n",
       "       [0, 1, 0, 0],\n",
       "       [0, 1, 0, 0],\n",
       "       [0, 0, 0, 1],\n",
       "       [0, 0, 1, 0],\n",
       "       [0, 0, 0, 1],\n",
       "       [0, 0, 1, 0],\n",
       "       [0, 0, 1, 0],\n",
       "       [0, 0, 1, 0],\n",
       "       [0, 0, 1, 0],\n",
       "       [0, 0, 0, 1],\n",
       "       [0, 0, 0, 1],\n",
       "       [0, 0, 0, 1],\n",
       "       [0, 1, 0, 0],\n",
       "       [0, 1, 0, 0],\n",
       "       [0, 1, 0, 0],\n",
       "       [1, 0, 0, 0],\n",
       "       [0, 0, 1, 0],\n",
       "       [0, 1, 0, 0],\n",
       "       [0, 1, 0, 0],\n",
       "       [0, 1, 0, 0],\n",
       "       [1, 0, 0, 0],\n",
       "       [0, 0, 0, 1],\n",
       "       [0, 1, 0, 0],\n",
       "       [0, 1, 0, 0],\n",
       "       [0, 0, 0, 1],\n",
       "       [0, 0, 1, 0],\n",
       "       [0, 0, 0, 1],\n",
       "       [0, 1, 0, 0],\n",
       "       [0, 1, 0, 0],\n",
       "       [0, 0, 0, 1],\n",
       "       [0, 0, 1, 0],\n",
       "       [0, 0, 0, 1],\n",
       "       [0, 0, 1, 0],\n",
       "       [0, 0, 1, 0],\n",
       "       [0, 0, 1, 0],\n",
       "       [1, 0, 0, 0],\n",
       "       [0, 1, 0, 0],\n",
       "       [1, 0, 0, 0],\n",
       "       [0, 0, 1, 0],\n",
       "       [0, 0, 1, 0],\n",
       "       [0, 1, 0, 0],\n",
       "       [1, 0, 0, 0],\n",
       "       [0, 0, 1, 0],\n",
       "       [1, 0, 0, 0],\n",
       "       [0, 0, 1, 0],\n",
       "       [0, 0, 1, 0],\n",
       "       [0, 1, 0, 0],\n",
       "       [0, 1, 0, 0],\n",
       "       [0, 1, 0, 0],\n",
       "       [1, 0, 0, 0],\n",
       "       [0, 0, 1, 0],\n",
       "       [0, 1, 0, 0],\n",
       "       [0, 1, 0, 0],\n",
       "       [0, 0, 1, 0],\n",
       "       [0, 0, 0, 1],\n",
       "       [0, 0, 1, 0],\n",
       "       [0, 0, 0, 1],\n",
       "       [0, 1, 0, 0],\n",
       "       [1, 0, 0, 0],\n",
       "       [0, 0, 0, 1],\n",
       "       [0, 1, 0, 0],\n",
       "       [0, 0, 1, 0],\n",
       "       [0, 0, 1, 0],\n",
       "       [1, 0, 0, 0],\n",
       "       [0, 0, 1, 0],\n",
       "       [0, 0, 0, 1],\n",
       "       [0, 0, 1, 0],\n",
       "       [1, 0, 0, 0],\n",
       "       [0, 1, 0, 0],\n",
       "       [0, 1, 0, 0],\n",
       "       [0, 0, 0, 1],\n",
       "       [0, 0, 0, 1],\n",
       "       [0, 0, 0, 1],\n",
       "       [0, 0, 1, 0],\n",
       "       [1, 0, 0, 0],\n",
       "       [0, 0, 1, 0],\n",
       "       [0, 1, 0, 0],\n",
       "       [0, 0, 0, 1],\n",
       "       [0, 1, 0, 0],\n",
       "       [0, 0, 0, 1],\n",
       "       [1, 0, 0, 0],\n",
       "       [1, 0, 0, 0],\n",
       "       [0, 1, 0, 0],\n",
       "       [0, 1, 0, 0],\n",
       "       [0, 1, 0, 0],\n",
       "       [1, 0, 0, 0],\n",
       "       [0, 0, 0, 1],\n",
       "       [0, 0, 0, 1],\n",
       "       [0, 0, 1, 0],\n",
       "       [0, 1, 0, 0],\n",
       "       [0, 0, 1, 0],\n",
       "       [0, 0, 0, 1],\n",
       "       [0, 0, 1, 0],\n",
       "       [1, 0, 0, 0],\n",
       "       [1, 0, 0, 0],\n",
       "       [0, 1, 0, 0],\n",
       "       [0, 1, 0, 0],\n",
       "       [0, 0, 1, 0],\n",
       "       [1, 0, 0, 0]], dtype=int8)"
      ]
     },
     "execution_count": 10,
     "metadata": {},
     "output_type": "execute_result"
    }
   ],
   "source": [
    "data_file['10_x'][0] #one hot encoded sequence I guess, length 230..."
   ]
  },
  {
   "cell_type": "code",
   "execution_count": null,
   "metadata": {},
   "outputs": [
    {
     "name": "stdout",
     "output_type": "stream",
     "text": [
      "(24596,)\n",
      "0.908\n"
     ]
    }
   ],
   "source": [
    "print(data_file['10_y'].shape)\n",
    "print(data_file['10_y'][0]) #this is the target score I guess?"
   ]
  },
  {
   "cell_type": "code",
   "execution_count": 13,
   "metadata": {},
   "outputs": [],
   "source": [
    "data_file.close()"
   ]
  },
  {
   "cell_type": "markdown",
   "metadata": {},
   "source": [
    "# downloaded the updated data instead!"
   ]
  },
  {
   "cell_type": "code",
   "execution_count": 14,
   "metadata": {},
   "outputs": [
    {
     "name": "stdout",
     "output_type": "stream",
     "text": [
      "<KeysViewHDF5 ['10_x', '10_y', '10_y_avg', '1_x', '1_y', '1_y_avg', '2_x', '2_y', '2_y_avg', '3_x', '3_y', '3_y_avg', '4_x', '4_y', '4_y_avg', '5_x', '5_y', '5_y_avg', '6_x', '6_y', '6_y_avg', '7_x', '7_y', '7_y_avg', '8_x', '8_y', '8_y_avg', '9_x', '9_y', '9_y_avg']>\n"
     ]
    }
   ],
   "source": [
    "cell_name = 'lentiMPRA_HepG2.h5'\n",
    "data_file = h5py.File('/data1/lesliec/sarthak/data/joint_playground/koo_benchmark/data/lenti_MPRA/'+cell_name,'r')\n",
    "print(data_file.keys())"
   ]
  },
  {
   "cell_type": "code",
   "execution_count": 15,
   "metadata": {},
   "outputs": [],
   "source": [
    "data_file.close()"
   ]
  },
  {
   "cell_type": "code",
   "execution_count": 1,
   "metadata": {},
   "outputs": [
    {
     "name": "stdout",
     "output_type": "stream",
     "text": [
      "<KeysViewHDF5 ['x_test', 'x_train', 'x_valid', 'y_test', 'y_train', 'y_valid']>\n"
     ]
    }
   ],
   "source": [
    "#wait it's part of the environment I guesss?\n",
    "import h5py\n",
    "data_file = h5py.File('/data1/lesliec/sarthak/data/joint_playground/koo_benchmark/gLM_finetune_weights/data/Processed_lentiMPRA_K562.h5')\n",
    "print(data_file.keys())"
   ]
  },
  {
   "cell_type": "code",
   "execution_count": 2,
   "metadata": {},
   "outputs": [
    {
     "name": "stdout",
     "output_type": "stream",
     "text": [
      "train_seq shape: (235996, 230, 4)\n",
      "y_train shape: (235996,)\n",
      "valid_seq shape: (78666, 230, 4)\n",
      "y_valid shape: (78666,)\n",
      "test_seq shape: (78666, 230, 4)\n",
      "y_test shape: (78666,)\n"
     ]
    }
   ],
   "source": [
    "#ahh this is what we awnt!\n",
    "import numpy as np\n",
    "train_seq = data_file['x_train']\n",
    "y_train = data_file['y_train'][:]\n",
    "valid_seq = data_file['x_valid']\n",
    "y_valid = data_file['y_valid'][:]\n",
    "test_seq = data_file['x_test']\n",
    "y_test = np.squeeze(data_file['y_test'][:])\n",
    "\n",
    "print('train_seq shape:', train_seq.shape)\n",
    "print('y_train shape:', y_train.shape)\n",
    "print('valid_seq shape:', valid_seq.shape)\n",
    "print('y_valid shape:', y_valid.shape)\n",
    "print('test_seq shape:', test_seq.shape)\n",
    "print('y_test shape:', y_test.shape)"
   ]
  },
  {
   "cell_type": "code",
   "execution_count": null,
   "metadata": {},
   "outputs": [
    {
     "data": {
      "text/plain": [
       "13.89544448"
      ]
     },
     "execution_count": 19,
     "metadata": {},
     "output_type": "execute_result"
    }
   ],
   "source": [
    "#big issue is so manyy training examples, but running model will be quite slow lmao. Maybe we can just save the output embeddings? Nah that's large\n",
    "235996 * 230 * 256 /1e9\n",
    "#eh actually not that massive, might be faster to precompute and save like 20 GB of data. Maybe use zarr then can easily train it!"
   ]
  },
  {
   "cell_type": "code",
   "execution_count": 25,
   "metadata": {},
   "outputs": [
    {
     "data": {
      "text/plain": [
       "393328"
      ]
     },
     "execution_count": 25,
     "metadata": {},
     "output_type": "execute_result"
    }
   ],
   "source": [
    "total_num = y_train.shape[0] + y_valid.shape[0] + y_test.shape[0]\n",
    "total_num"
   ]
  },
  {
   "cell_type": "code",
   "execution_count": 28,
   "metadata": {},
   "outputs": [
    {
     "data": {
      "text/plain": [
       "23.15915264"
      ]
     },
     "execution_count": 28,
     "metadata": {},
     "output_type": "execute_result"
    }
   ],
   "source": [
    "total_num *230*256/ 1e9 #24 GB is not that ridiculous?We can use evals to do it! Just modify it I guess..."
   ]
  },
  {
   "cell_type": "code",
   "execution_count": null,
   "metadata": {},
   "outputs": [],
   "source": [
    "#wait it's times 4, almost 100 GB. Yeah let's just run it lmao! Will be slow but oh well. Shouldn't be too bad since lots of frozen weights?\n",
    "#to make it more efficient, load model, manually freeze weights, then we aare pro! Let's do a manual train tbh, a little crazy but makes a ton of sense lmao! \n",
    "#that way no need for custom dataset, we can just use this and our brain!\n",
    "#makes it easier to follow too\n",
    "#point is don't need decoder head, and freeze weights so run with no grad? "
   ]
  },
  {
   "cell_type": "code",
   "execution_count": 3,
   "metadata": {},
   "outputs": [
    {
     "name": "stdout",
     "output_type": "stream",
     "text": [
      "JointMaskingDecoder: d_model=256, d_output1=5, d_output2=1\n",
      "JointMaskingEncoder: d_model=256, d_input1=6, d_input2=2, joint=False, kernel_size=15, combine=True, acc_type=continuous\n"
     ]
    }
   ],
   "source": [
    "import sys\n",
    "sys.path.append('/data1/lesliec/sarthak/caduceus/')\n",
    "# print(sys.path)\n",
    "from src.models.sequence.dna_embedding import DNAEmbeddingModelCaduceus\n",
    "from src.tasks.decoders import JointMaskingDecoder\n",
    "from src.tasks.encoders import JointCNN\n",
    "# from src.tasks.encoders import EnformerEncoder\n",
    "from caduceus.configuration_caduceus import CaduceusConfig\n",
    "import torch\n",
    "import numpy as np\n",
    "from src.dataloaders.datasets.general_dataset import GeneralDataset\n",
    "import yaml\n",
    "from omegaconf import OmegaConf\n",
    "import os\n",
    "import matplotlib.pyplot as plt\n",
    "# import seaborn as sns\n",
    "from tqdm import tqdm\n",
    "import argparse\n",
    "import itertools\n",
    "import inspect\n",
    "import zarr\n",
    "from numcodecs import Blosc\n",
    "from scipy.stats import spearmanr, pearsonr\n",
    "\n",
    "try:\n",
    "    OmegaConf.register_new_resolver('eval', eval)\n",
    "    OmegaConf.register_new_resolver('div_up', lambda x, y: (x + y - 1) // y)\n",
    "except ValueError as e:\n",
    "    if \"Resolver already registered\" in str(e):\n",
    "            print(\"Resolver already exists, skipping registration.\")\n",
    "    \n",
    "\n",
    "class Evals():\n",
    "    def __init__(self,\n",
    "                 ckpt_path,\n",
    "                 dataset=None,\n",
    "                 split = 'test',\n",
    "                 device = None,\n",
    "                 load_data=False,\n",
    "                 **dataset_overrides #Don't pass None into overrides unless you intentionally want it to be None! Pass in items only that you need\n",
    "                #  data_idxs=None, #the actual value in the full self.dataset.data (so for GM12878 it's 12 or 69). Lets you access a new celltype or just subset to a smaller set of celltypes\n",
    "                #  sequences_bed_file=None,\n",
    "                 ) -> None:\n",
    "        #TODO make it so that we can take in arbitrary dataset information in like a dict and adds options to dataset\n",
    "        \n",
    "        #now load the cfg from the checkpoint path\n",
    "        model_cfg_path = os.path.join(os.path.dirname(os.path.dirname(ckpt_path)), '.hydra', 'config.yaml')\n",
    "        cfg = yaml.load(open(model_cfg_path, 'r'), Loader=yaml.FullLoader)\n",
    "        cfg = OmegaConf.create(cfg)\n",
    "        self.cfg = OmegaConf.to_container(cfg, resolve=True)\n",
    "        \n",
    "        if self.cfg['train'].get('custom_metric', None) == 'ce_loss_mask_acc': #makes sure we never do softplus in the loss if it's a categorical model!\n",
    "            self.skip_softplus=True\n",
    "        else:\n",
    "            self.skip_softplus=False\n",
    "        \n",
    "        state_dict = torch.load(ckpt_path, map_location='cpu')\n",
    "        if device is not None:\n",
    "            #if we are given a device, we will use that device\n",
    "            self.device = torch.device(device)\n",
    "        else:\n",
    "            self.device = torch.device('cuda' if torch.cuda.is_available() else 'cpu')\n",
    "        self.split = split\n",
    "\n",
    "        #now set up dataset\n",
    "        if dataset is None:\n",
    "            dataset_args = self.cfg['dataset']\n",
    "            sig = inspect.signature(GeneralDataset.__init__)\n",
    "            sig = {k: v for k, v in sig.parameters.items() if k != 'self'}\n",
    "            to_remove = []\n",
    "            for k, v in dataset_args.items():\n",
    "                if k not in sig:\n",
    "                    # del dataset_args[k]\n",
    "                    to_remove.append(k)\n",
    "            for k in to_remove:\n",
    "                del dataset_args[k]\n",
    "            dataset_args['split'] = split\n",
    "            dataset_args['evaluating'] = True #this tells it to not do things like random shifting and rc aug, still does random masking tho, can get og sequence easily\n",
    "            dataset_args['load_in'] = load_data\n",
    "            \n",
    "            for k, v in dataset_overrides.items():\n",
    "                if k in sig:\n",
    "                    dataset_args[k] = v\n",
    "                    print(f\"Overriding {k} with {v}\")\n",
    "                else:\n",
    "                    print(f\"Warning: {k} not in dataset args, skipping\")\n",
    "            \n",
    "            # if data_idxs is not None:\n",
    "            #     dataset_args['data_idxs'] = data_idxs\n",
    "            # if sequences_bed_file is not None:\n",
    "            #     dataset_args['sequences_bed_file'] = sequences_bed_file\n",
    "            # dataset_args['rc_aug'] = False #we don't want to do rc aug in our evaluation class!!!\n",
    "            self.dataset_args = dataset_args\n",
    "            # self.dataset_args['rc_aug'] = False #we don't want to do rc aug in our evaluation class!!!\n",
    "            self.dataset = GeneralDataset(**dataset_args)\n",
    "            \n",
    "            # self.kmer_len = dataset_args['kmer_len']\n",
    "            # self.dataset = enformer_dataset.EnformerDataset(split, dataset_args['max_length'], rc_aug = dataset_args['rc_aug'],\n",
    "            #                                                 return_CAGE=dataset_args['return_CAGE'], cell_type=dataset_args.get('cell_type', None),\n",
    "            #                                                 kmer_len=dataset_args['kmer_len']) #could use dataloader instead, but again kinda complex\n",
    "        else:\n",
    "            self.dataset = dataset\n",
    "         \n",
    "        torch.nn.modules.utils.consume_prefix_in_state_dict_if_present(\n",
    "            state_dict[\"state_dict\"], \"model.\"\n",
    "        )\n",
    "        model_state_dict = state_dict[\"state_dict\"]\n",
    "        # need to remove torchmetrics. to remove keys, need to convert to list first\n",
    "        for key in list(model_state_dict.keys()):\n",
    "            if \"torchmetrics\" in key:\n",
    "                model_state_dict.pop(key)\n",
    "        # the state_dict keys slightly mismatch from Lightning..., so we fix it here\n",
    "        decoder_state_dict = {}\n",
    "        for key in list(model_state_dict.keys()):\n",
    "            if \"decoder\" in key:\n",
    "                decoder_state_dict[key[10:]] = model_state_dict.pop(key)\n",
    "        encoder_state_dict = {}\n",
    "        for key in list(model_state_dict.keys()):\n",
    "            if \"encoder\" in key:\n",
    "                encoder_state_dict[key[10:]] = model_state_dict.pop(key)\n",
    "        \n",
    "        cfg['model']['config'].pop('_target_')\n",
    "        # cfg['model']['config']['complement_map'] = self.dataset.tokenizer.complement_map\n",
    "        caduceus_cfg = CaduceusConfig(**cfg['model']['config'])\n",
    "        \n",
    "        self.backbone = DNAEmbeddingModelCaduceus(config=caduceus_cfg)\n",
    "        self.backbone.load_state_dict(model_state_dict, strict=True)\n",
    "        \n",
    "        #remove self.cfg['decoder']['_name_']\n",
    "        del self.cfg['decoder']['_name_']\n",
    "        self.cfg['decoder']['d_model'] = self.cfg['model']['config']['d_model']\n",
    "        self.decoder = JointMaskingDecoder(**self.cfg['decoder']) #could do with instantiating, but that is rather complex\n",
    "        self.decoder.load_state_dict(decoder_state_dict, strict=True)\n",
    "        \n",
    "        del self.cfg['encoder']['_name_']\n",
    "        self.cfg['encoder']['d_model'] = self.cfg['model']['config']['d_model']\n",
    "        self.encoder = JointCNN(**self.cfg['encoder'])\n",
    "        self.encoder.load_state_dict(encoder_state_dict, strict=True)\n",
    "        \n",
    "        self.encoder.to(self.device).eval()\n",
    "        self.backbone.to(self.device).eval()\n",
    "        self.decoder.to(self.device).eval()\n",
    "        \n",
    "    def __call__(self, idx=None, data=None, softplus=True, og=False, embed=False):\n",
    "        #now evaluate the model on one example\n",
    "        if data is None:\n",
    "            (seq,acc),(seq_unmask,acc_unmask) = self.dataset[idx]\n",
    "            \n",
    "            x = seq.unsqueeze(0)\n",
    "            y = acc.unsqueeze(0)\n",
    "        else:\n",
    "            x,y,seq_unmask,acc_unmask = data\n",
    "\n",
    "            if x.dim() == 2:\n",
    "                x = x.unsqueeze(0) #add batch dim\n",
    "                y = y.unsqueeze(0) #add batch dim\n",
    "        \n",
    "        x,y = x.to(self.device), y.to(self.device)\n",
    "        \n",
    "        with torch.no_grad():\n",
    "            x1 = self.encoder(x,y)\n",
    "            x1,_ = self.backbone(x1)\n",
    "            if embed:\n",
    "                return x1, y\n",
    "            x1 = self.decoder(x1)\n",
    "            seq,acc = x1\n",
    "\n",
    "            if softplus and not self.skip_softplus:\n",
    "                acc = torch.nn.functional.softplus(x1[1])\n",
    "        \n",
    "        return seq, acc, seq_unmask, acc_unmask\n",
    "    \n",
    "    def freeze(self):\n",
    "        '''freezes the model, so that it doesn't update the weights during training'''\n",
    "        for param in self.backbone.parameters():\n",
    "            param.requires_grad = False\n",
    "        for param in self.encoder.parameters():\n",
    "            param.requires_grad = False\n",
    "        for param in self.decoder.parameters():\n",
    "            param.requires_grad = False\n",
    "\n",
    "ckpt_path = '/data1/lesliec/sarthak/caduceus/outputs/2025-04-11/13-44-58-301569/checkpoints/last.ckpt'\n",
    "evals = Evals(ckpt_path, device=2)"
   ]
  },
  {
   "cell_type": "code",
   "execution_count": 4,
   "metadata": {},
   "outputs": [
    {
     "data": {
      "text/plain": [
       "(torch.Size([6, 524288]), torch.Size([2, 524288]))"
      ]
     },
     "execution_count": 4,
     "metadata": {},
     "output_type": "execute_result"
    }
   ],
   "source": [
    "out = evals.dataset[0]\n",
    "out[0][0].shape, out[0][1].shape"
   ]
  },
  {
   "cell_type": "code",
   "execution_count": 5,
   "metadata": {},
   "outputs": [
    {
     "data": {
      "text/plain": [
       "(1, 230, 4)"
      ]
     },
     "execution_count": 5,
     "metadata": {},
     "output_type": "execute_result"
    }
   ],
   "source": [
    "train_seq[0:1].shape"
   ]
  },
  {
   "cell_type": "code",
   "execution_count": 8,
   "metadata": {},
   "outputs": [
    {
     "data": {
      "text/plain": [
       "(1, 4, 230)"
      ]
     },
     "execution_count": 8,
     "metadata": {},
     "output_type": "execute_result"
    }
   ],
   "source": [
    "train_seq[0:1].transpose(0,2,1).shape"
   ]
  },
  {
   "cell_type": "code",
   "execution_count": 32,
   "metadata": {},
   "outputs": [],
   "source": [
    "N = 524288\n",
    "k = 230\n",
    "\n",
    "start = (N - k) // 2\n",
    "end   = start + k\n",
    "\n",
    "full_seq = torch.zeros((1, 6, 524288), dtype=torch.float32)\n",
    "full_seq[:, 4, :] = 1 #by default set all to N\n",
    "full_seq[:, :4, start:end] = torch.tensor(train_seq[0:1].transpose(0,2,1))\n",
    "full_seq[:, 4, start:end] = 0 #Get rid of the N"
   ]
  },
  {
   "cell_type": "code",
   "execution_count": 33,
   "metadata": {},
   "outputs": [
    {
     "data": {
      "text/plain": [
       "tensor([[[1., 0., 0.,  ..., 0., 0., 1.],\n",
       "         [0., 0., 0.,  ..., 1., 0., 0.],\n",
       "         [0., 1., 1.,  ..., 0., 1., 0.],\n",
       "         [0., 0., 0.,  ..., 0., 0., 0.],\n",
       "         [0., 0., 0.,  ..., 0., 0., 0.],\n",
       "         [0., 0., 0.,  ..., 0., 0., 0.]]])"
      ]
     },
     "execution_count": 33,
     "metadata": {},
     "output_type": "execute_result"
    }
   ],
   "source": [
    "full_seq[:,:,start:end]"
   ]
  },
  {
   "cell_type": "code",
   "execution_count": 34,
   "metadata": {},
   "outputs": [
    {
     "data": {
      "text/plain": [
       "tensor([[58., 63., 53., 56.,  0.,  0.]])"
      ]
     },
     "execution_count": 34,
     "metadata": {},
     "output_type": "execute_result"
    }
   ],
   "source": [
    "full_seq[:,:,start:end].sum(2) #no N or mask"
   ]
  },
  {
   "cell_type": "code",
   "execution_count": 35,
   "metadata": {},
   "outputs": [
    {
     "data": {
      "text/plain": [
       "tensor([[5.8000e+01, 6.3000e+01, 5.3000e+01, 5.6000e+01, 5.2406e+05, 0.0000e+00]])"
      ]
     },
     "execution_count": 35,
     "metadata": {},
     "output_type": "execute_result"
    }
   ],
   "source": [
    "full_seq.sum(2) #matches what we expect!!"
   ]
  },
  {
   "cell_type": "code",
   "execution_count": 36,
   "metadata": {},
   "outputs": [],
   "source": [
    "full_acc = torch.zeros((1, 2, 524288), dtype=torch.float32)\n",
    "full_acc[:, 1, :] = 1 #by default set all to mask token"
   ]
  },
  {
   "cell_type": "code",
   "execution_count": 37,
   "metadata": {},
   "outputs": [],
   "source": [
    "#now let's input into the model\n",
    "full_input = (full_seq, full_acc, None, None)\n",
    "out = evals(data=full_input, embed=True)"
   ]
  },
  {
   "cell_type": "code",
   "execution_count": 38,
   "metadata": {},
   "outputs": [
    {
     "data": {
      "text/plain": [
       "torch.Size([1, 524288, 256])"
      ]
     },
     "execution_count": 38,
     "metadata": {},
     "output_type": "execute_result"
    }
   ],
   "source": [
    "out[0].shape"
   ]
  },
  {
   "cell_type": "code",
   "execution_count": 39,
   "metadata": {},
   "outputs": [
    {
     "data": {
      "text/plain": [
       "torch.Size([1, 2, 524288])"
      ]
     },
     "execution_count": 39,
     "metadata": {},
     "output_type": "execute_result"
    }
   ],
   "source": [
    "out[1].shape"
   ]
  },
  {
   "cell_type": "code",
   "execution_count": 40,
   "metadata": {},
   "outputs": [
    {
     "data": {
      "text/plain": [
       "(230, 256)"
      ]
     },
     "execution_count": 40,
     "metadata": {},
     "output_type": "execute_result"
    }
   ],
   "source": [
    "embed = out[0][0,start:end,:].cpu().numpy()\n",
    "embed.shape #now is length x channels!"
   ]
  },
  {
   "cell_type": "code",
   "execution_count": 41,
   "metadata": {},
   "outputs": [
    {
     "data": {
      "text/plain": [
       "array([[ 8.94552250e-06,  3.78216684e-01,  1.17337452e-02, ...,\n",
       "         8.05438403e-03, -1.13417991e-02,  3.94007657e-04],\n",
       "       [ 1.13959195e-05,  5.23900092e-01,  1.45173753e-02, ...,\n",
       "        -1.90984868e-02, -9.93972272e-03,  3.65368789e-04],\n",
       "       [ 1.39155409e-05,  5.62545359e-01,  8.43012631e-02, ...,\n",
       "        -2.65018512e-02, -1.18921709e-03,  6.26180627e-05],\n",
       "       ...,\n",
       "       [ 5.74245360e-06,  2.23858878e-01,  3.35820280e-02, ...,\n",
       "        -5.68763576e-02,  3.73024009e-02,  5.14930754e-04],\n",
       "       [ 4.53502480e-06,  4.76841748e-01,  7.62563422e-02, ...,\n",
       "        -8.62073004e-02,  8.48264154e-03,  7.70364131e-04],\n",
       "       [ 1.13357942e-06,  4.63630676e-01,  5.27800061e-02, ...,\n",
       "        -8.29901919e-02,  1.32001210e-02,  7.98963709e-04]], dtype=float32)"
      ]
     },
     "execution_count": 41,
     "metadata": {},
     "output_type": "execute_result"
    }
   ],
   "source": [
    "embed"
   ]
  },
  {
   "cell_type": "code",
   "execution_count": 42,
   "metadata": {},
   "outputs": [],
   "source": [
    "embed_og = embed"
   ]
  },
  {
   "cell_type": "code",
   "execution_count": 24,
   "metadata": {},
   "outputs": [],
   "source": [
    "#can we input different size inputs\n",
    "full_seq = torch.zeros((1, 6, 500000), dtype=torch.float32)\n",
    "full_seq[:, 4, :] = 1 #by default set all to N\n",
    "full_seq[:, :4, start:end] = torch.tensor(train_seq[0:1].transpose(0,2,1))\n",
    "full_seq[:, 4, start:end] = 0 #Get rid of the N\n",
    "\n",
    "full_acc = torch.zeros((1, 2, 500000), dtype=torch.float32)\n",
    "full_acc[:, 1, :] = 1 #by default set all to mask token\n",
    "\n",
    "full_input = (full_seq, full_acc, None, None)\n",
    "out = evals(data=full_input, embed=True)"
   ]
  },
  {
   "cell_type": "code",
   "execution_count": 43,
   "metadata": {},
   "outputs": [
    {
     "data": {
      "text/plain": [
       "tensor([[[1., 0., 0.,  ..., 0., 0., 1.],\n",
       "         [0., 0., 0.,  ..., 1., 0., 0.],\n",
       "         [0., 1., 1.,  ..., 0., 1., 0.],\n",
       "         [0., 0., 0.,  ..., 0., 0., 0.],\n",
       "         [0., 0., 0.,  ..., 0., 0., 0.],\n",
       "         [0., 0., 0.,  ..., 0., 0., 0.]]])"
      ]
     },
     "execution_count": 43,
     "metadata": {},
     "output_type": "execute_result"
    }
   ],
   "source": [
    "#oh we can jsut input different lengths into my model. This is because mamba models are position invariant. It actually doesn't really matter. We could manmually right pad according to tri dao. \n",
    "full_seq = torch.zeros((1, 6, 230), dtype=torch.float32)\n",
    "full_seq[:, :4, :] = torch.tensor(train_seq[0:1].transpose(0,2,1)) #no need to set to N\n",
    "full_seq"
   ]
  },
  {
   "cell_type": "code",
   "execution_count": 44,
   "metadata": {},
   "outputs": [],
   "source": [
    "full_acc = torch.zeros((1, 2, 230), dtype=torch.float32)\n",
    "full_acc[:, 1, :] = 1 #by default set all to mask token"
   ]
  },
  {
   "cell_type": "code",
   "execution_count": 45,
   "metadata": {},
   "outputs": [],
   "source": [
    "#now input\n",
    "full_input = (full_seq, full_acc, None, None)\n",
    "out = evals(data=full_input, embed=True)"
   ]
  },
  {
   "cell_type": "code",
   "execution_count": 46,
   "metadata": {},
   "outputs": [
    {
     "data": {
      "text/plain": [
       "torch.Size([1, 230, 256])"
      ]
     },
     "execution_count": 46,
     "metadata": {},
     "output_type": "execute_result"
    }
   ],
   "source": [
    "out[0].shape #if for some reason it doesn't work, then we can "
   ]
  },
  {
   "cell_type": "code",
   "execution_count": 49,
   "metadata": {},
   "outputs": [
    {
     "data": {
      "text/plain": [
       "torch.Size([1, 230, 256])"
      ]
     },
     "execution_count": 49,
     "metadata": {},
     "output_type": "execute_result"
    }
   ],
   "source": [
    "out[0].shape"
   ]
  },
  {
   "cell_type": "code",
   "execution_count": 50,
   "metadata": {},
   "outputs": [
    {
     "data": {
      "text/plain": [
       "(230, 256)"
      ]
     },
     "execution_count": 50,
     "metadata": {},
     "output_type": "execute_result"
    }
   ],
   "source": [
    "embed.shape"
   ]
  },
  {
   "cell_type": "code",
   "execution_count": 51,
   "metadata": {},
   "outputs": [
    {
     "data": {
      "text/plain": [
       "tensor([[ 6.9250e-07, -1.6966e-01,  3.0803e-02,  ..., -1.6349e-02,\n",
       "          4.3387e-02,  3.2061e-04],\n",
       "        [ 2.5400e-06, -4.6585e-02,  5.8906e-02,  ...,  2.8285e-03,\n",
       "          4.7474e-02, -1.9876e-04],\n",
       "        [-1.8378e-06,  1.0134e-01,  6.2239e-02,  ..., -3.8568e-02,\n",
       "          4.1896e-02, -4.3522e-05],\n",
       "        ...,\n",
       "        [ 3.3813e-08, -2.3887e-01, -2.2688e-02,  ...,  6.7533e-02,\n",
       "          3.6544e-02,  1.0796e-04],\n",
       "        [ 2.1639e-06,  2.6132e-02,  2.0470e-02,  ...,  4.1174e-02,\n",
       "          3.2038e-03,  5.3097e-04],\n",
       "        [ 6.3550e-06,  1.2932e-01,  4.7991e-02,  ..., -3.4293e-02,\n",
       "          1.6990e-02, -5.0037e-04]], device='cuda:2')"
      ]
     },
     "execution_count": 51,
     "metadata": {},
     "output_type": "execute_result"
    }
   ],
   "source": [
    "out[0][0]"
   ]
  },
  {
   "cell_type": "code",
   "execution_count": 52,
   "metadata": {},
   "outputs": [
    {
     "data": {
      "text/plain": [
       "array([[ 8.94552250e-06,  3.78216684e-01,  1.17337452e-02, ...,\n",
       "         8.05438403e-03, -1.13417991e-02,  3.94007657e-04],\n",
       "       [ 1.13959195e-05,  5.23900092e-01,  1.45173753e-02, ...,\n",
       "        -1.90984868e-02, -9.93972272e-03,  3.65368789e-04],\n",
       "       [ 1.39155409e-05,  5.62545359e-01,  8.43012631e-02, ...,\n",
       "        -2.65018512e-02, -1.18921709e-03,  6.26180627e-05],\n",
       "       ...,\n",
       "       [ 5.74245360e-06,  2.23858878e-01,  3.35820280e-02, ...,\n",
       "        -5.68763576e-02,  3.73024009e-02,  5.14930754e-04],\n",
       "       [ 4.53502480e-06,  4.76841748e-01,  7.62563422e-02, ...,\n",
       "        -8.62073004e-02,  8.48264154e-03,  7.70364131e-04],\n",
       "       [ 1.13357942e-06,  4.63630676e-01,  5.27800061e-02, ...,\n",
       "        -8.29901919e-02,  1.32001210e-02,  7.98963709e-04]], dtype=float32)"
      ]
     },
     "execution_count": 52,
     "metadata": {},
     "output_type": "execute_result"
    }
   ],
   "source": [
    "embed"
   ]
  },
  {
   "cell_type": "code",
   "execution_count": null,
   "metadata": {},
   "outputs": [],
   "source": [
    "#of course it won't be perfectly identical as one is padded by N, the other is whatever. So let's just try the 230 for now! A bit of a weirder case, but oh well...\n",
    "#actually it probably does its own padding type thing? Let's manually pad, that's smarter!!"
   ]
  },
  {
   "cell_type": "code",
   "execution_count": 55,
   "metadata": {},
   "outputs": [
    {
     "data": {
      "text/plain": [
       "(230, 256)"
      ]
     },
     "execution_count": 55,
     "metadata": {},
     "output_type": "execute_result"
    }
   ],
   "source": [
    "N = 524288\n",
    "k = 230\n",
    "\n",
    "start = (N - k) // 2\n",
    "end   = start + k\n",
    "\n",
    "full_seq = torch.zeros((1, 6, 524288), dtype=torch.float32)\n",
    "full_seq[:, 4, :] = 1 #by default set all to N\n",
    "full_seq[:, :4, start:end] = torch.tensor(train_seq[0:1].transpose(0,2,1))\n",
    "full_seq[:, 4, start:end] = 0 #Get rid of the N\n",
    "\n",
    "full_acc = torch.zeros((1, 2, 524288), dtype=torch.float32)\n",
    "full_acc[:, 1, :] = 1 #by default set all to mask token\n",
    "\n",
    "#now let's input into the model\n",
    "full_input = (full_seq, full_acc, None, None)\n",
    "out = evals(data=full_input, embed=True)\n",
    "embed = out[0][0,start:end,:].cpu().numpy()\n",
    "embed.shape #now is length x channels!"
   ]
  },
  {
   "cell_type": "code",
   "execution_count": 56,
   "metadata": {},
   "outputs": [],
   "source": [
    "N = 524288\n",
    "k = 230\n",
    "\n",
    "start = (N - k) // 2\n",
    "end   = start + k\n",
    "\n",
    "full_seq = torch.zeros((1, 6, 524288), dtype=torch.float32)\n",
    "full_seq[:, 4, :] = 1 #by default set all to N\n",
    "full_seq[:, :4, start:end] = torch.tensor(train_seq[0:1].transpose(0,2,1))\n",
    "full_seq[:, 4, start:end] = 0 #Get rid of the N\n",
    "\n",
    "full_acc = torch.zeros((1, 2, 524288), dtype=torch.float32)\n",
    "full_acc[:, 1, :] = 1 #by default set all to mask token\n",
    "\n",
    "#now let's input into the model\n",
    "full_input = (full_seq, full_acc, None, None)\n",
    "out = evals(data=full_input, embed=True)"
   ]
  },
  {
   "cell_type": "code",
   "execution_count": null,
   "metadata": {},
   "outputs": [],
   "source": [
    "#it's the transfer to cpu that seems to be slow?\n",
    "embed = out[0][0,start:end,:].cpu().numpy() #wait this time it was instant?"
   ]
  },
  {
   "cell_type": "code",
   "execution_count": null,
   "metadata": {},
   "outputs": [
    {
     "data": {
      "text/plain": [
       "(230, 256)"
      ]
     },
     "execution_count": 58,
     "metadata": {},
     "output_type": "execute_result"
    }
   ],
   "source": [
    "embed.shape #yeah I have no clue sometimes slow other times fast?? Oh it's because gpu is asyync so out runs in the background."
   ]
  },
  {
   "cell_type": "markdown",
   "metadata": {},
   "source": [
    "# rest of the training loop\n",
    "\n",
    "Define the CNN and figure out how to set up the training exactly like they do!!\n",
    "\n",
    "We will actually do Ridge regression and we can then save out the mean embedding for all the samples"
   ]
  },
  {
   "cell_type": "code",
   "execution_count": null,
   "metadata": {},
   "outputs": [
    {
     "data": {
      "text/plain": [
       "0.100691968"
      ]
     },
     "execution_count": 1,
     "metadata": {},
     "output_type": "execute_result"
    }
   ],
   "source": [
    "393328*256/1e9 #not bad at all, perfectlyy fine"
   ]
  },
  {
   "cell_type": "code",
   "execution_count": 1,
   "metadata": {},
   "outputs": [
    {
     "name": "stdout",
     "output_type": "stream",
     "text": [
      "<KeysViewHDF5 ['x_test', 'x_train', 'x_valid', 'y_test', 'y_train', 'y_valid']>\n",
      "train_seq shape: (235996, 230, 4)\n",
      "y_train shape: (235996,)\n",
      "valid_seq shape: (78666, 230, 4)\n",
      "y_valid shape: (78666,)\n",
      "test_seq shape: (78666, 230, 4)\n",
      "y_test shape: (78666,)\n"
     ]
    }
   ],
   "source": [
    "#wait it's part of the environment I guesss?\n",
    "import h5py\n",
    "data_file = h5py.File('/data1/lesliec/sarthak/data/joint_playground/koo_benchmark/gLM_finetune_weights/data/Processed_lentiMPRA_K562.h5')\n",
    "print(data_file.keys())\n",
    "#ahh this is what we awnt!\n",
    "import numpy as np\n",
    "train_seq = data_file['x_train']\n",
    "y_train = data_file['y_train'][:]\n",
    "valid_seq = data_file['x_valid']\n",
    "y_valid = data_file['y_valid'][:]\n",
    "test_seq = data_file['x_test']\n",
    "y_test = np.squeeze(data_file['y_test'][:])\n",
    "\n",
    "print('train_seq shape:', train_seq.shape)\n",
    "print('y_train shape:', y_train.shape)\n",
    "print('valid_seq shape:', valid_seq.shape)\n",
    "print('y_valid shape:', y_valid.shape)\n",
    "print('test_seq shape:', test_seq.shape)\n",
    "print('y_test shape:', y_test.shape)"
   ]
  },
  {
   "cell_type": "code",
   "execution_count": 2,
   "metadata": {},
   "outputs": [
    {
     "name": "stdout",
     "output_type": "stream",
     "text": [
      "JointMaskingDecoder: d_model=256, d_output1=5, d_output2=1\n",
      "JointMaskingEncoder: d_model=256, d_input1=6, d_input2=2, joint=False, kernel_size=15, combine=True, acc_type=continuous\n"
     ]
    }
   ],
   "source": [
    "import sys\n",
    "sys.path.append('/data1/lesliec/sarthak/caduceus/')\n",
    "# print(sys.path)\n",
    "from src.models.sequence.dna_embedding import DNAEmbeddingModelCaduceus\n",
    "from src.tasks.decoders import JointMaskingDecoder\n",
    "from src.tasks.encoders import JointCNN\n",
    "# from src.tasks.encoders import EnformerEncoder\n",
    "from caduceus.configuration_caduceus import CaduceusConfig\n",
    "import torch\n",
    "import numpy as np\n",
    "from src.dataloaders.datasets.general_dataset import GeneralDataset\n",
    "import yaml\n",
    "from omegaconf import OmegaConf\n",
    "import os\n",
    "import matplotlib.pyplot as plt\n",
    "# import seaborn as sns\n",
    "from tqdm import tqdm\n",
    "import argparse\n",
    "import itertools\n",
    "import inspect\n",
    "import zarr\n",
    "from numcodecs import Blosc\n",
    "from scipy.stats import spearmanr, pearsonr\n",
    "\n",
    "try:\n",
    "    OmegaConf.register_new_resolver('eval', eval)\n",
    "    OmegaConf.register_new_resolver('div_up', lambda x, y: (x + y - 1) // y)\n",
    "except ValueError as e:\n",
    "    if \"Resolver already registered\" in str(e):\n",
    "            print(\"Resolver already exists, skipping registration.\")\n",
    "    \n",
    "\n",
    "class Evals():\n",
    "    def __init__(self,\n",
    "                 ckpt_path,\n",
    "                 dataset=None,\n",
    "                 split = 'test',\n",
    "                 device = None,\n",
    "                 load_data=False,\n",
    "                 **dataset_overrides #Don't pass None into overrides unless you intentionally want it to be None! Pass in items only that you need\n",
    "                #  data_idxs=None, #the actual value in the full self.dataset.data (so for GM12878 it's 12 or 69). Lets you access a new celltype or just subset to a smaller set of celltypes\n",
    "                #  sequences_bed_file=None,\n",
    "                 ) -> None:\n",
    "        #TODO make it so that we can take in arbitrary dataset information in like a dict and adds options to dataset\n",
    "        \n",
    "        #now load the cfg from the checkpoint path\n",
    "        model_cfg_path = os.path.join(os.path.dirname(os.path.dirname(ckpt_path)), '.hydra', 'config.yaml')\n",
    "        cfg = yaml.load(open(model_cfg_path, 'r'), Loader=yaml.FullLoader)\n",
    "        cfg = OmegaConf.create(cfg)\n",
    "        self.cfg = OmegaConf.to_container(cfg, resolve=True)\n",
    "        \n",
    "        if self.cfg['train'].get('custom_metric', None) == 'ce_loss_mask_acc': #makes sure we never do softplus in the loss if it's a categorical model!\n",
    "            self.skip_softplus=True\n",
    "        else:\n",
    "            self.skip_softplus=False\n",
    "        \n",
    "        state_dict = torch.load(ckpt_path, map_location='cpu')\n",
    "        if device is not None:\n",
    "            #if we are given a device, we will use that device\n",
    "            self.device = torch.device(device)\n",
    "        else:\n",
    "            self.device = torch.device('cuda' if torch.cuda.is_available() else 'cpu')\n",
    "        self.split = split\n",
    "\n",
    "        #now set up dataset\n",
    "        if dataset is None:\n",
    "            dataset_args = self.cfg['dataset']\n",
    "            sig = inspect.signature(GeneralDataset.__init__)\n",
    "            sig = {k: v for k, v in sig.parameters.items() if k != 'self'}\n",
    "            to_remove = []\n",
    "            for k, v in dataset_args.items():\n",
    "                if k not in sig:\n",
    "                    # del dataset_args[k]\n",
    "                    to_remove.append(k)\n",
    "            for k in to_remove:\n",
    "                del dataset_args[k]\n",
    "            dataset_args['split'] = split\n",
    "            dataset_args['evaluating'] = True #this tells it to not do things like random shifting and rc aug, still does random masking tho, can get og sequence easily\n",
    "            dataset_args['load_in'] = load_data\n",
    "            \n",
    "            for k, v in dataset_overrides.items():\n",
    "                if k in sig:\n",
    "                    dataset_args[k] = v\n",
    "                    print(f\"Overriding {k} with {v}\")\n",
    "                else:\n",
    "                    print(f\"Warning: {k} not in dataset args, skipping\")\n",
    "            \n",
    "            # if data_idxs is not None:\n",
    "            #     dataset_args['data_idxs'] = data_idxs\n",
    "            # if sequences_bed_file is not None:\n",
    "            #     dataset_args['sequences_bed_file'] = sequences_bed_file\n",
    "            # dataset_args['rc_aug'] = False #we don't want to do rc aug in our evaluation class!!!\n",
    "            self.dataset_args = dataset_args\n",
    "            # self.dataset_args['rc_aug'] = False #we don't want to do rc aug in our evaluation class!!!\n",
    "            self.dataset = GeneralDataset(**dataset_args)\n",
    "            \n",
    "            # self.kmer_len = dataset_args['kmer_len']\n",
    "            # self.dataset = enformer_dataset.EnformerDataset(split, dataset_args['max_length'], rc_aug = dataset_args['rc_aug'],\n",
    "            #                                                 return_CAGE=dataset_args['return_CAGE'], cell_type=dataset_args.get('cell_type', None),\n",
    "            #                                                 kmer_len=dataset_args['kmer_len']) #could use dataloader instead, but again kinda complex\n",
    "        else:\n",
    "            self.dataset = dataset\n",
    "         \n",
    "        torch.nn.modules.utils.consume_prefix_in_state_dict_if_present(\n",
    "            state_dict[\"state_dict\"], \"model.\"\n",
    "        )\n",
    "        model_state_dict = state_dict[\"state_dict\"]\n",
    "        # need to remove torchmetrics. to remove keys, need to convert to list first\n",
    "        for key in list(model_state_dict.keys()):\n",
    "            if \"torchmetrics\" in key:\n",
    "                model_state_dict.pop(key)\n",
    "        # the state_dict keys slightly mismatch from Lightning..., so we fix it here\n",
    "        decoder_state_dict = {}\n",
    "        for key in list(model_state_dict.keys()):\n",
    "            if \"decoder\" in key:\n",
    "                decoder_state_dict[key[10:]] = model_state_dict.pop(key)\n",
    "        encoder_state_dict = {}\n",
    "        for key in list(model_state_dict.keys()):\n",
    "            if \"encoder\" in key:\n",
    "                encoder_state_dict[key[10:]] = model_state_dict.pop(key)\n",
    "        \n",
    "        cfg['model']['config'].pop('_target_')\n",
    "        # cfg['model']['config']['complement_map'] = self.dataset.tokenizer.complement_map\n",
    "        caduceus_cfg = CaduceusConfig(**cfg['model']['config'])\n",
    "        \n",
    "        self.backbone = DNAEmbeddingModelCaduceus(config=caduceus_cfg)\n",
    "        self.backbone.load_state_dict(model_state_dict, strict=True)\n",
    "        \n",
    "        #remove self.cfg['decoder']['_name_']\n",
    "        del self.cfg['decoder']['_name_']\n",
    "        self.cfg['decoder']['d_model'] = self.cfg['model']['config']['d_model']\n",
    "        self.decoder = JointMaskingDecoder(**self.cfg['decoder']) #could do with instantiating, but that is rather complex\n",
    "        self.decoder.load_state_dict(decoder_state_dict, strict=True)\n",
    "        \n",
    "        del self.cfg['encoder']['_name_']\n",
    "        self.cfg['encoder']['d_model'] = self.cfg['model']['config']['d_model']\n",
    "        self.encoder = JointCNN(**self.cfg['encoder'])\n",
    "        self.encoder.load_state_dict(encoder_state_dict, strict=True)\n",
    "        \n",
    "        self.encoder.to(self.device).eval()\n",
    "        self.backbone.to(self.device).eval()\n",
    "        self.decoder.to(self.device).eval()\n",
    "        \n",
    "    def __call__(self, idx=None, data=None, softplus=True, og=False, embed=False):\n",
    "        #now evaluate the model on one example\n",
    "        if data is None:\n",
    "            (seq,acc),(seq_unmask,acc_unmask) = self.dataset[idx]\n",
    "            \n",
    "            x = seq.unsqueeze(0)\n",
    "            y = acc.unsqueeze(0)\n",
    "        else:\n",
    "            x,y,seq_unmask,acc_unmask = data\n",
    "\n",
    "            if x.dim() == 2:\n",
    "                x = x.unsqueeze(0) #add batch dim\n",
    "                y = y.unsqueeze(0) #add batch dim\n",
    "        \n",
    "        x,y = x.to(self.device), y.to(self.device)\n",
    "        \n",
    "        with torch.no_grad():\n",
    "            x1 = self.encoder(x,y)\n",
    "            x1,_ = self.backbone(x1)\n",
    "            if embed:\n",
    "                return x1, y\n",
    "            x1 = self.decoder(x1)\n",
    "            seq,acc = x1\n",
    "\n",
    "            if softplus and not self.skip_softplus:\n",
    "                acc = torch.nn.functional.softplus(x1[1])\n",
    "        \n",
    "        return seq, acc, seq_unmask, acc_unmask\n",
    "    \n",
    "    def freeze(self):\n",
    "        '''freezes the model, so that it doesn't update the weights during training'''\n",
    "        for param in self.backbone.parameters():\n",
    "            param.requires_grad = False\n",
    "        for param in self.encoder.parameters():\n",
    "            param.requires_grad = False\n",
    "        for param in self.decoder.parameters():\n",
    "            param.requires_grad = False\n",
    "\n",
    "ckpt_path = '/data1/lesliec/sarthak/caduceus/outputs/2025-04-11/13-44-58-301569/checkpoints/last.ckpt'\n",
    "evals = Evals(ckpt_path, device=0)"
   ]
  },
  {
   "cell_type": "code",
   "execution_count": 3,
   "metadata": {},
   "outputs": [],
   "source": [
    "N = 524288\n",
    "k = 230\n",
    "\n",
    "start = (N - k) // 2\n",
    "end   = start + k\n",
    "\n"
   ]
  },
  {
   "cell_type": "code",
   "execution_count": 5,
   "metadata": {},
   "outputs": [
    {
     "data": {
      "text/plain": [
       "(230, 256)"
      ]
     },
     "execution_count": 5,
     "metadata": {},
     "output_type": "execute_result"
    }
   ],
   "source": [
    "full_seq = torch.zeros((1, 6, 524288), dtype=torch.float32)\n",
    "full_seq[:, 4, :] = 1 #by default set all to N\n",
    "full_seq[:, :4, start:end] = torch.tensor(train_seq[0:1].transpose(0,2,1))\n",
    "full_seq[:, 4, start:end] = 0 #Get rid of the N\n",
    "\n",
    "full_acc = torch.zeros((1, 2, 524288), dtype=torch.float32)\n",
    "full_acc[:, 1, :] = 1 #by default set all to mask token and input no accessibility\n",
    "\n",
    "#now let's input into the model\n",
    "full_input = (full_seq, full_acc, None, None)\n",
    "out = evals(data=full_input, embed=True)\n",
    "embed = out[0][0,start:end,:].cpu().numpy()\n",
    "embed.shape #now is length x channels!"
   ]
  },
  {
   "cell_type": "code",
   "execution_count": null,
   "metadata": {},
   "outputs": [
    {
     "data": {
      "text/plain": [
       "(4, 230, 256)"
      ]
     },
     "execution_count": 8,
     "metadata": {},
     "output_type": "execute_result"
    }
   ],
   "source": [
    "#and let's do for batch size of 4\n",
    "full_seq = torch.zeros((4, 6, 524288), dtype=torch.float32)\n",
    "full_seq[:, 4, :] = 1 #by default set all to N\n",
    "full_seq[:, :4, start:end] = torch.tensor(train_seq[0:4].transpose(0,2,1)) #assign seq\n",
    "full_seq[:, 4, start:end] = 0 #Get rid of the N\n",
    "\n",
    "full_acc = torch.zeros((4, 2, 524288), dtype=torch.float32)\n",
    "full_acc[:, 1, :] = 1 #by default set all to mask token and input no accessibility\n",
    "\n",
    "#now let's input into the model\n",
    "full_input = (full_seq, full_acc, None, None)\n",
    "out = evals(data=full_input, embed=True)\n",
    "embed = out[0][:,start:end,:].cpu().numpy()\n",
    "embed.shape #now is length x channels!"
   ]
  },
  {
   "cell_type": "code",
   "execution_count": 9,
   "metadata": {},
   "outputs": [
    {
     "data": {
      "text/plain": [
       "393328"
      ]
     },
     "execution_count": 9,
     "metadata": {},
     "output_type": "execute_result"
    }
   ],
   "source": [
    "#total elements\n",
    "total_num = y_train.shape[0] + y_valid.shape[0] + y_test.shape[0]\n",
    "total_num"
   ]
  },
  {
   "cell_type": "code",
   "execution_count": 10,
   "metadata": {},
   "outputs": [
    {
     "data": {
      "text/plain": [
       "(393328, 256)"
      ]
     },
     "execution_count": 10,
     "metadata": {},
     "output_type": "execute_result"
    }
   ],
   "source": [
    "full_output = np.zeros((total_num,256), dtype=np.float32)\n",
    "full_output.shape"
   ]
  },
  {
   "cell_type": "code",
   "execution_count": null,
   "metadata": {},
   "outputs": [
    {
     "data": {
      "text/plain": [
       "0.402767872"
      ]
     },
     "execution_count": 12,
     "metadata": {},
     "output_type": "execute_result"
    }
   ],
   "source": [
    "full_output.nbytes/1e9 #yeah it's negligible"
   ]
  },
  {
   "cell_type": "code",
   "execution_count": null,
   "metadata": {},
   "outputs": [
    {
     "data": {
      "text/plain": [
       "[0, 3, 6, 9]"
      ]
     },
     "execution_count": 13,
     "metadata": {},
     "output_type": "execute_result"
    }
   ],
   "source": [
    "list(range(0,10,3)) #includes elements that might spillover which is fine"
   ]
  },
  {
   "cell_type": "code",
   "execution_count": 16,
   "metadata": {},
   "outputs": [
    {
     "name": "stderr",
     "output_type": "stream",
     "text": [
      "  0%|          | 14/98332 [00:59<115:32:30,  4.23s/it]\n"
     ]
    },
    {
     "ename": "KeyboardInterrupt",
     "evalue": "",
     "output_type": "error",
     "traceback": [
      "\u001b[0;31m---------------------------------------------------------------------------\u001b[0m",
      "\u001b[0;31mKeyboardInterrupt\u001b[0m                         Traceback (most recent call last)",
      "Cell \u001b[0;32mIn[16], line 19\u001b[0m\n\u001b[1;32m     17\u001b[0m full_input \u001b[38;5;241m=\u001b[39m (full_seq, full_acc, \u001b[38;5;28;01mNone\u001b[39;00m, \u001b[38;5;28;01mNone\u001b[39;00m)\n\u001b[1;32m     18\u001b[0m out \u001b[38;5;241m=\u001b[39m evals(data\u001b[38;5;241m=\u001b[39mfull_input, embed\u001b[38;5;241m=\u001b[39m\u001b[38;5;28;01mTrue\u001b[39;00m)\n\u001b[0;32m---> 19\u001b[0m embed \u001b[38;5;241m=\u001b[39m \u001b[43mout\u001b[49m\u001b[43m[\u001b[49m\u001b[38;5;241;43m0\u001b[39;49m\u001b[43m]\u001b[49m\u001b[43m[\u001b[49m\u001b[43m:\u001b[49m\u001b[43m,\u001b[49m\u001b[43mstart\u001b[49m\u001b[43m:\u001b[49m\u001b[43mend\u001b[49m\u001b[43m,\u001b[49m\u001b[43m:\u001b[49m\u001b[43m]\u001b[49m\u001b[38;5;241;43m.\u001b[39;49m\u001b[43msum\u001b[49m\u001b[43m(\u001b[49m\u001b[38;5;241;43m1\u001b[39;49m\u001b[43m)\u001b[49m\u001b[38;5;241;43m.\u001b[39;49m\u001b[43mcpu\u001b[49m\u001b[43m(\u001b[49m\u001b[43m)\u001b[49m\u001b[38;5;241m.\u001b[39mnumpy()\n\u001b[1;32m     21\u001b[0m \u001b[38;5;66;03m#save the output\u001b[39;00m\n\u001b[1;32m     22\u001b[0m full_output[i:i\u001b[38;5;241m+\u001b[39mbatch_size] \u001b[38;5;241m=\u001b[39m embed\n",
      "\u001b[0;31mKeyboardInterrupt\u001b[0m: "
     ]
    }
   ],
   "source": [
    "#now loop over batches\n",
    "batch_size = 4\n",
    "for i in tqdm(range(0, total_num, batch_size)):\n",
    "    #get the batch\n",
    "    if i + batch_size > total_num:\n",
    "        batch_size = total_num - i\n",
    "    \n",
    "    full_seq = torch.zeros((batch_size, 6, 524288), dtype=torch.float32)\n",
    "    full_seq[:, 4, :] = 1 #by default set all to N\n",
    "    full_seq[:, :4, start:end] = torch.tensor(train_seq[i:i+batch_size].transpose(0,2,1)) #assign seq\n",
    "    full_seq[:, 4, start:end] = 0 #Get rid of the N\n",
    "\n",
    "    full_acc = torch.zeros((batch_size, 2, 524288), dtype=torch.float32)\n",
    "    full_acc[:, 1, :] = 1 #by default set all to mask token and input no accessibility\n",
    "\n",
    "    #now let's input into the model\n",
    "    full_input = (full_seq, full_acc, None, None)\n",
    "    out = evals(data=full_input, embed=True)\n",
    "    embed = out[0][:,start:end,:].sum(1).cpu().numpy()\n",
    "    \n",
    "    #save the output\n",
    "    full_output[i:i+batch_size] = embed"
   ]
  },
  {
   "cell_type": "code",
   "execution_count": 17,
   "metadata": {},
   "outputs": [
    {
     "data": {
      "text/plain": [
       "(235996, 230, 4)"
      ]
     },
     "execution_count": 17,
     "metadata": {},
     "output_type": "execute_result"
    }
   ],
   "source": [
    "train_seq.shape"
   ]
  },
  {
   "cell_type": "code",
   "execution_count": null,
   "metadata": {},
   "outputs": [
    {
     "name": "stdout",
     "output_type": "stream",
     "text": [
      "torch.Size([393328, 256])\n"
     ]
    }
   ],
   "source": [
    "full_output = torch.zeros((total_num,256), dtype=torch.float32).to(evals.device)\n",
    "print(full_output.shape)\n",
    "full_seqs = torch.zeros((total_num, 230, 4), dtype=torch.float32)\n",
    "full_seqs[:train_seq.shape[0],:,:] = torch.tensor(train_seq)\n",
    "full_seqs[train_seq.shape[0]:train_seq.shape[0]+valid_seq.shape[0],:,:] = torch.tensor(valid_seq)\n",
    "full_seqs[train_seq.shape[0]+valid_seq.shape[0]:,:] = torch.tensor(test_seq)\n",
    "full_seqs = full_seqs.transpose(2,1)\n",
    "print(full_seqs.shape)"
   ]
  },
  {
   "cell_type": "code",
   "execution_count": 5,
   "metadata": {},
   "outputs": [
    {
     "name": "stdout",
     "output_type": "stream",
     "text": [
      "torch.Size([393328, 256])\n",
      "(393328, 4, 230)\n"
     ]
    }
   ],
   "source": [
    "#that's quire slow for some reason\n",
    "total_num = y_train.shape[0] + y_valid.shape[0] + y_test.shape[0]\n",
    "full_output = torch.zeros((total_num,256), dtype=torch.float32).to(evals.device)\n",
    "print(full_output.shape)\n",
    "full_seqs = np.zeros((total_num, 230, 4), dtype=np.float32)\n",
    "full_seqs[:train_seq.shape[0],:,:] = train_seq\n",
    "full_seqs[train_seq.shape[0]:train_seq.shape[0]+valid_seq.shape[0],:,:] = valid_seq\n",
    "full_seqs[train_seq.shape[0]+valid_seq.shape[0]:,:] = test_seq\n",
    "full_seqs = full_seqs.transpose(0,2,1)\n",
    "print(full_seqs.shape)"
   ]
  },
  {
   "cell_type": "code",
   "execution_count": 6,
   "metadata": {},
   "outputs": [
    {
     "name": "stdout",
     "output_type": "stream",
     "text": [
      "torch.Size([393328, 4, 230])\n"
     ]
    }
   ],
   "source": [
    "#now transfer to GPU\n",
    "full_seqs = torch.tensor(full_seqs).to(evals.device)\n",
    "print(full_seqs.shape)"
   ]
  },
  {
   "cell_type": "code",
   "execution_count": 8,
   "metadata": {},
   "outputs": [
    {
     "name": "stderr",
     "output_type": "stream",
     "text": [
      "  0%|          | 17/98332 [01:07<108:05:32,  3.96s/it]\n"
     ]
    },
    {
     "ename": "KeyboardInterrupt",
     "evalue": "",
     "output_type": "error",
     "traceback": [
      "\u001b[0;31m---------------------------------------------------------------------------\u001b[0m",
      "\u001b[0;31mKeyboardInterrupt\u001b[0m                         Traceback (most recent call last)",
      "Cell \u001b[0;32mIn[8], line 16\u001b[0m\n\u001b[1;32m     13\u001b[0m full_seq[:, :\u001b[38;5;241m4\u001b[39m, start:end] \u001b[38;5;241m=\u001b[39m full_seqs[i:i\u001b[38;5;241m+\u001b[39mbatch_size] \u001b[38;5;66;03m#assign seq\u001b[39;00m\n\u001b[1;32m     14\u001b[0m full_seq[:, \u001b[38;5;241m4\u001b[39m, start:end] \u001b[38;5;241m=\u001b[39m \u001b[38;5;241m0\u001b[39m \u001b[38;5;66;03m#Get rid of the N\u001b[39;00m\n\u001b[0;32m---> 16\u001b[0m full_acc \u001b[38;5;241m=\u001b[39m \u001b[43mtorch\u001b[49m\u001b[38;5;241;43m.\u001b[39;49m\u001b[43mzeros\u001b[49m\u001b[43m(\u001b[49m\u001b[43m(\u001b[49m\u001b[43mbatch_size\u001b[49m\u001b[43m,\u001b[49m\u001b[43m \u001b[49m\u001b[38;5;241;43m2\u001b[39;49m\u001b[43m,\u001b[49m\u001b[43m \u001b[49m\u001b[38;5;241;43m524288\u001b[39;49m\u001b[43m)\u001b[49m\u001b[43m,\u001b[49m\u001b[43m \u001b[49m\u001b[43mdtype\u001b[49m\u001b[38;5;241;43m=\u001b[39;49m\u001b[43mtorch\u001b[49m\u001b[38;5;241;43m.\u001b[39;49m\u001b[43mfloat32\u001b[49m\u001b[43m)\u001b[49m\n\u001b[1;32m     17\u001b[0m full_acc[:, \u001b[38;5;241m1\u001b[39m, :] \u001b[38;5;241m=\u001b[39m \u001b[38;5;241m1\u001b[39m \u001b[38;5;66;03m#by default set all to mask token and input no accessibility\u001b[39;00m\n\u001b[1;32m     19\u001b[0m \u001b[38;5;66;03m#now let's input into the model\u001b[39;00m\n",
      "\u001b[0;31mKeyboardInterrupt\u001b[0m: "
     ]
    }
   ],
   "source": [
    "#this will not only take forever, but it will also not work since trian seq doesn't go that far lol\n",
    "\n",
    "#let's minimize transfers to cpu\n",
    "\n",
    "batch_size = 4\n",
    "for i in tqdm(range(0, total_num, batch_size)):\n",
    "    #get the batch\n",
    "    if i + batch_size > total_num:\n",
    "        batch_size = total_num - i\n",
    "    \n",
    "    full_seq = torch.zeros((batch_size, 6, 524288), dtype=torch.float32)\n",
    "    full_seq[:, 4, :] = 1 #by default set all to N\n",
    "    full_seq[:, :4, start:end] = full_seqs[i:i+batch_size] #assign seq\n",
    "    full_seq[:, 4, start:end] = 0 #Get rid of the N\n",
    "\n",
    "    full_acc = torch.zeros((batch_size, 2, 524288), dtype=torch.float32)\n",
    "    full_acc[:, 1, :] = 1 #by default set all to mask token and input no accessibility\n",
    "\n",
    "    #now let's input into the model\n",
    "    full_input = (full_seq, full_acc, None, None)\n",
    "    out = evals(data=full_input, embed=True)\n",
    "    embed = out[0][:,start:end,:].sum(1)\n",
    "    \n",
    "    #save the output\n",
    "    full_output[i:i+batch_size] = embed"
   ]
  },
  {
   "cell_type": "code",
   "execution_count": 9,
   "metadata": {},
   "outputs": [
    {
     "name": "stderr",
     "output_type": "stream",
     "text": [
      "  0%|          | 0/49166 [00:00<?, ?it/s]\n"
     ]
    },
    {
     "ename": "OutOfMemoryError",
     "evalue": "CUDA out of memory. Tried to allocate 8.00 GiB. GPU 0 has a total capacty of 79.11 GiB of which 6.27 GiB is free. Including non-PyTorch memory, this process has 72.83 GiB memory in use. Of the allocated memory 69.17 GiB is allocated by PyTorch, and 2.63 GiB is reserved by PyTorch but unallocated. If reserved but unallocated memory is large try setting max_split_size_mb to avoid fragmentation.  See documentation for Memory Management and PYTORCH_CUDA_ALLOC_CONF",
     "output_type": "error",
     "traceback": [
      "\u001b[0;31m---------------------------------------------------------------------------\u001b[0m",
      "\u001b[0;31mOutOfMemoryError\u001b[0m                          Traceback (most recent call last)",
      "Cell \u001b[0;32mIn[9], line 18\u001b[0m\n\u001b[1;32m     16\u001b[0m \u001b[38;5;66;03m#now let's input into the model\u001b[39;00m\n\u001b[1;32m     17\u001b[0m full_input \u001b[38;5;241m=\u001b[39m (full_seq, full_acc, \u001b[38;5;28;01mNone\u001b[39;00m, \u001b[38;5;28;01mNone\u001b[39;00m)\n\u001b[0;32m---> 18\u001b[0m out \u001b[38;5;241m=\u001b[39m \u001b[43mevals\u001b[49m\u001b[43m(\u001b[49m\u001b[43mdata\u001b[49m\u001b[38;5;241;43m=\u001b[39;49m\u001b[43mfull_input\u001b[49m\u001b[43m,\u001b[49m\u001b[43m \u001b[49m\u001b[43membed\u001b[49m\u001b[38;5;241;43m=\u001b[39;49m\u001b[38;5;28;43;01mTrue\u001b[39;49;00m\u001b[43m)\u001b[49m\n\u001b[1;32m     19\u001b[0m embed \u001b[38;5;241m=\u001b[39m out[\u001b[38;5;241m0\u001b[39m][:,start:end,:]\u001b[38;5;241m.\u001b[39msum(\u001b[38;5;241m1\u001b[39m)\n\u001b[1;32m     21\u001b[0m \u001b[38;5;66;03m#save the output\u001b[39;00m\n",
      "Cell \u001b[0;32mIn[2], line 162\u001b[0m, in \u001b[0;36mEvals.__call__\u001b[0;34m(self, idx, data, softplus, og, embed)\u001b[0m\n\u001b[1;32m    160\u001b[0m \u001b[38;5;28;01mwith\u001b[39;00m torch\u001b[38;5;241m.\u001b[39mno_grad():\n\u001b[1;32m    161\u001b[0m     x1 \u001b[38;5;241m=\u001b[39m \u001b[38;5;28mself\u001b[39m\u001b[38;5;241m.\u001b[39mencoder(x,y)\n\u001b[0;32m--> 162\u001b[0m     x1,_ \u001b[38;5;241m=\u001b[39m \u001b[38;5;28;43mself\u001b[39;49m\u001b[38;5;241;43m.\u001b[39;49m\u001b[43mbackbone\u001b[49m\u001b[43m(\u001b[49m\u001b[43mx1\u001b[49m\u001b[43m)\u001b[49m\n\u001b[1;32m    163\u001b[0m     \u001b[38;5;28;01mif\u001b[39;00m embed:\n\u001b[1;32m    164\u001b[0m         \u001b[38;5;28;01mreturn\u001b[39;00m x1, y\n",
      "File \u001b[0;32m/data1/lesliec/sarthak/caduceus/.pixi/envs/default/lib/python3.11/site-packages/torch/nn/modules/module.py:1518\u001b[0m, in \u001b[0;36mModule._wrapped_call_impl\u001b[0;34m(self, *args, **kwargs)\u001b[0m\n\u001b[1;32m   1516\u001b[0m     \u001b[38;5;28;01mreturn\u001b[39;00m \u001b[38;5;28mself\u001b[39m\u001b[38;5;241m.\u001b[39m_compiled_call_impl(\u001b[38;5;241m*\u001b[39margs, \u001b[38;5;241m*\u001b[39m\u001b[38;5;241m*\u001b[39mkwargs)  \u001b[38;5;66;03m# type: ignore[misc]\u001b[39;00m\n\u001b[1;32m   1517\u001b[0m \u001b[38;5;28;01melse\u001b[39;00m:\n\u001b[0;32m-> 1518\u001b[0m     \u001b[38;5;28;01mreturn\u001b[39;00m \u001b[38;5;28;43mself\u001b[39;49m\u001b[38;5;241;43m.\u001b[39;49m\u001b[43m_call_impl\u001b[49m\u001b[43m(\u001b[49m\u001b[38;5;241;43m*\u001b[39;49m\u001b[43margs\u001b[49m\u001b[43m,\u001b[49m\u001b[43m \u001b[49m\u001b[38;5;241;43m*\u001b[39;49m\u001b[38;5;241;43m*\u001b[39;49m\u001b[43mkwargs\u001b[49m\u001b[43m)\u001b[49m\n",
      "File \u001b[0;32m/data1/lesliec/sarthak/caduceus/.pixi/envs/default/lib/python3.11/site-packages/torch/nn/modules/module.py:1527\u001b[0m, in \u001b[0;36mModule._call_impl\u001b[0;34m(self, *args, **kwargs)\u001b[0m\n\u001b[1;32m   1522\u001b[0m \u001b[38;5;66;03m# If we don't have any hooks, we want to skip the rest of the logic in\u001b[39;00m\n\u001b[1;32m   1523\u001b[0m \u001b[38;5;66;03m# this function, and just call forward.\u001b[39;00m\n\u001b[1;32m   1524\u001b[0m \u001b[38;5;28;01mif\u001b[39;00m \u001b[38;5;129;01mnot\u001b[39;00m (\u001b[38;5;28mself\u001b[39m\u001b[38;5;241m.\u001b[39m_backward_hooks \u001b[38;5;129;01mor\u001b[39;00m \u001b[38;5;28mself\u001b[39m\u001b[38;5;241m.\u001b[39m_backward_pre_hooks \u001b[38;5;129;01mor\u001b[39;00m \u001b[38;5;28mself\u001b[39m\u001b[38;5;241m.\u001b[39m_forward_hooks \u001b[38;5;129;01mor\u001b[39;00m \u001b[38;5;28mself\u001b[39m\u001b[38;5;241m.\u001b[39m_forward_pre_hooks\n\u001b[1;32m   1525\u001b[0m         \u001b[38;5;129;01mor\u001b[39;00m _global_backward_pre_hooks \u001b[38;5;129;01mor\u001b[39;00m _global_backward_hooks\n\u001b[1;32m   1526\u001b[0m         \u001b[38;5;129;01mor\u001b[39;00m _global_forward_hooks \u001b[38;5;129;01mor\u001b[39;00m _global_forward_pre_hooks):\n\u001b[0;32m-> 1527\u001b[0m     \u001b[38;5;28;01mreturn\u001b[39;00m \u001b[43mforward_call\u001b[49m\u001b[43m(\u001b[49m\u001b[38;5;241;43m*\u001b[39;49m\u001b[43margs\u001b[49m\u001b[43m,\u001b[49m\u001b[43m \u001b[49m\u001b[38;5;241;43m*\u001b[39;49m\u001b[38;5;241;43m*\u001b[39;49m\u001b[43mkwargs\u001b[49m\u001b[43m)\u001b[49m\n\u001b[1;32m   1529\u001b[0m \u001b[38;5;28;01mtry\u001b[39;00m:\n\u001b[1;32m   1530\u001b[0m     result \u001b[38;5;241m=\u001b[39m \u001b[38;5;28;01mNone\u001b[39;00m\n",
      "File \u001b[0;32m/data1/lesliec/sarthak/caduceus/src/models/sequence/dna_embedding.py:245\u001b[0m, in \u001b[0;36mDNAEmbeddingModelCaduceus.forward\u001b[0;34m(self, input_ids, position_ids, inference_params, state)\u001b[0m\n\u001b[1;32m    242\u001b[0m     \u001b[38;5;66;03m# Stack along channel dimension (dim=-1)\u001b[39;00m\n\u001b[1;32m    243\u001b[0m     \u001b[38;5;28;01mreturn\u001b[39;00m torch\u001b[38;5;241m.\u001b[39mstack([hidden_states, hidden_states_rc], dim\u001b[38;5;241m=\u001b[39m\u001b[38;5;241m-\u001b[39m\u001b[38;5;241m1\u001b[39m), \u001b[38;5;28;01mNone\u001b[39;00m\n\u001b[0;32m--> 245\u001b[0m \u001b[38;5;28;01mreturn\u001b[39;00m \u001b[38;5;28;43mself\u001b[39;49m\u001b[38;5;241;43m.\u001b[39;49m\u001b[43mcaduceus\u001b[49m\u001b[43m(\u001b[49m\u001b[43minput_ids\u001b[49m\u001b[43m,\u001b[49m\u001b[43m \u001b[49m\u001b[43mreturn_dict\u001b[49m\u001b[38;5;241;43m=\u001b[39;49m\u001b[38;5;28;43;01mFalse\u001b[39;49;00m\u001b[43m)\u001b[49m, \u001b[38;5;28;01mNone\u001b[39;00m\n",
      "File \u001b[0;32m/data1/lesliec/sarthak/caduceus/.pixi/envs/default/lib/python3.11/site-packages/torch/nn/modules/module.py:1518\u001b[0m, in \u001b[0;36mModule._wrapped_call_impl\u001b[0;34m(self, *args, **kwargs)\u001b[0m\n\u001b[1;32m   1516\u001b[0m     \u001b[38;5;28;01mreturn\u001b[39;00m \u001b[38;5;28mself\u001b[39m\u001b[38;5;241m.\u001b[39m_compiled_call_impl(\u001b[38;5;241m*\u001b[39margs, \u001b[38;5;241m*\u001b[39m\u001b[38;5;241m*\u001b[39mkwargs)  \u001b[38;5;66;03m# type: ignore[misc]\u001b[39;00m\n\u001b[1;32m   1517\u001b[0m \u001b[38;5;28;01melse\u001b[39;00m:\n\u001b[0;32m-> 1518\u001b[0m     \u001b[38;5;28;01mreturn\u001b[39;00m \u001b[38;5;28;43mself\u001b[39;49m\u001b[38;5;241;43m.\u001b[39;49m\u001b[43m_call_impl\u001b[49m\u001b[43m(\u001b[49m\u001b[38;5;241;43m*\u001b[39;49m\u001b[43margs\u001b[49m\u001b[43m,\u001b[49m\u001b[43m \u001b[49m\u001b[38;5;241;43m*\u001b[39;49m\u001b[38;5;241;43m*\u001b[39;49m\u001b[43mkwargs\u001b[49m\u001b[43m)\u001b[49m\n",
      "File \u001b[0;32m/data1/lesliec/sarthak/caduceus/.pixi/envs/default/lib/python3.11/site-packages/torch/nn/modules/module.py:1527\u001b[0m, in \u001b[0;36mModule._call_impl\u001b[0;34m(self, *args, **kwargs)\u001b[0m\n\u001b[1;32m   1522\u001b[0m \u001b[38;5;66;03m# If we don't have any hooks, we want to skip the rest of the logic in\u001b[39;00m\n\u001b[1;32m   1523\u001b[0m \u001b[38;5;66;03m# this function, and just call forward.\u001b[39;00m\n\u001b[1;32m   1524\u001b[0m \u001b[38;5;28;01mif\u001b[39;00m \u001b[38;5;129;01mnot\u001b[39;00m (\u001b[38;5;28mself\u001b[39m\u001b[38;5;241m.\u001b[39m_backward_hooks \u001b[38;5;129;01mor\u001b[39;00m \u001b[38;5;28mself\u001b[39m\u001b[38;5;241m.\u001b[39m_backward_pre_hooks \u001b[38;5;129;01mor\u001b[39;00m \u001b[38;5;28mself\u001b[39m\u001b[38;5;241m.\u001b[39m_forward_hooks \u001b[38;5;129;01mor\u001b[39;00m \u001b[38;5;28mself\u001b[39m\u001b[38;5;241m.\u001b[39m_forward_pre_hooks\n\u001b[1;32m   1525\u001b[0m         \u001b[38;5;129;01mor\u001b[39;00m _global_backward_pre_hooks \u001b[38;5;129;01mor\u001b[39;00m _global_backward_hooks\n\u001b[1;32m   1526\u001b[0m         \u001b[38;5;129;01mor\u001b[39;00m _global_forward_hooks \u001b[38;5;129;01mor\u001b[39;00m _global_forward_pre_hooks):\n\u001b[0;32m-> 1527\u001b[0m     \u001b[38;5;28;01mreturn\u001b[39;00m \u001b[43mforward_call\u001b[49m\u001b[43m(\u001b[49m\u001b[38;5;241;43m*\u001b[39;49m\u001b[43margs\u001b[49m\u001b[43m,\u001b[49m\u001b[43m \u001b[49m\u001b[38;5;241;43m*\u001b[39;49m\u001b[38;5;241;43m*\u001b[39;49m\u001b[43mkwargs\u001b[49m\u001b[43m)\u001b[49m\n\u001b[1;32m   1529\u001b[0m \u001b[38;5;28;01mtry\u001b[39;00m:\n\u001b[1;32m   1530\u001b[0m     result \u001b[38;5;241m=\u001b[39m \u001b[38;5;28;01mNone\u001b[39;00m\n",
      "File \u001b[0;32m/data1/lesliec/sarthak/caduceus/caduceus/modeling_caduceus.py:419\u001b[0m, in \u001b[0;36mCaduceus.forward\u001b[0;34m(self, input_ids, inputs_embeds, output_hidden_states, return_dict)\u001b[0m\n\u001b[1;32m    414\u001b[0m output_hidden_states \u001b[38;5;241m=\u001b[39m (\n\u001b[1;32m    415\u001b[0m     output_hidden_states \u001b[38;5;28;01mif\u001b[39;00m output_hidden_states \u001b[38;5;129;01mis\u001b[39;00m \u001b[38;5;129;01mnot\u001b[39;00m \u001b[38;5;28;01mNone\u001b[39;00m \u001b[38;5;28;01melse\u001b[39;00m \u001b[38;5;28mself\u001b[39m\u001b[38;5;241m.\u001b[39mconfig\u001b[38;5;241m.\u001b[39moutput_hidden_states\n\u001b[1;32m    416\u001b[0m )\n\u001b[1;32m    417\u001b[0m return_dict \u001b[38;5;241m=\u001b[39m return_dict \u001b[38;5;28;01mif\u001b[39;00m return_dict \u001b[38;5;129;01mis\u001b[39;00m \u001b[38;5;129;01mnot\u001b[39;00m \u001b[38;5;28;01mNone\u001b[39;00m \u001b[38;5;28;01melse\u001b[39;00m \u001b[38;5;28mself\u001b[39m\u001b[38;5;241m.\u001b[39mconfig\u001b[38;5;241m.\u001b[39muse_return_dict\n\u001b[0;32m--> 419\u001b[0m hidden_states, all_hidden_states \u001b[38;5;241m=\u001b[39m \u001b[38;5;28;43mself\u001b[39;49m\u001b[38;5;241;43m.\u001b[39;49m\u001b[43mbackbone\u001b[49m\u001b[43m(\u001b[49m\n\u001b[1;32m    420\u001b[0m \u001b[43m    \u001b[49m\u001b[43minput_ids\u001b[49m\u001b[43m,\u001b[49m\n\u001b[1;32m    421\u001b[0m \u001b[43m    \u001b[49m\u001b[43minputs_embeds\u001b[49m\u001b[38;5;241;43m=\u001b[39;49m\u001b[43minputs_embeds\u001b[49m\u001b[43m,\u001b[49m\n\u001b[1;32m    422\u001b[0m \u001b[43m    \u001b[49m\u001b[43moutput_hidden_states\u001b[49m\u001b[38;5;241;43m=\u001b[39;49m\u001b[43moutput_hidden_states\u001b[49m\n\u001b[1;32m    423\u001b[0m \u001b[43m\u001b[49m\u001b[43m)\u001b[49m\n\u001b[1;32m    424\u001b[0m \u001b[38;5;28;01mif\u001b[39;00m return_dict:\n\u001b[1;32m    425\u001b[0m     \u001b[38;5;28;01mreturn\u001b[39;00m BaseModelOutputWithNoAttention(\n\u001b[1;32m    426\u001b[0m         last_hidden_state\u001b[38;5;241m=\u001b[39mhidden_states,\n\u001b[1;32m    427\u001b[0m         hidden_states\u001b[38;5;241m=\u001b[39mall_hidden_states \u001b[38;5;28;01mif\u001b[39;00m output_hidden_states \u001b[38;5;28;01melse\u001b[39;00m \u001b[38;5;28;01mNone\u001b[39;00m\n\u001b[1;32m    428\u001b[0m     )\n",
      "File \u001b[0;32m/data1/lesliec/sarthak/caduceus/.pixi/envs/default/lib/python3.11/site-packages/torch/nn/modules/module.py:1518\u001b[0m, in \u001b[0;36mModule._wrapped_call_impl\u001b[0;34m(self, *args, **kwargs)\u001b[0m\n\u001b[1;32m   1516\u001b[0m     \u001b[38;5;28;01mreturn\u001b[39;00m \u001b[38;5;28mself\u001b[39m\u001b[38;5;241m.\u001b[39m_compiled_call_impl(\u001b[38;5;241m*\u001b[39margs, \u001b[38;5;241m*\u001b[39m\u001b[38;5;241m*\u001b[39mkwargs)  \u001b[38;5;66;03m# type: ignore[misc]\u001b[39;00m\n\u001b[1;32m   1517\u001b[0m \u001b[38;5;28;01melse\u001b[39;00m:\n\u001b[0;32m-> 1518\u001b[0m     \u001b[38;5;28;01mreturn\u001b[39;00m \u001b[38;5;28;43mself\u001b[39;49m\u001b[38;5;241;43m.\u001b[39;49m\u001b[43m_call_impl\u001b[49m\u001b[43m(\u001b[49m\u001b[38;5;241;43m*\u001b[39;49m\u001b[43margs\u001b[49m\u001b[43m,\u001b[49m\u001b[43m \u001b[49m\u001b[38;5;241;43m*\u001b[39;49m\u001b[38;5;241;43m*\u001b[39;49m\u001b[43mkwargs\u001b[49m\u001b[43m)\u001b[49m\n",
      "File \u001b[0;32m/data1/lesliec/sarthak/caduceus/.pixi/envs/default/lib/python3.11/site-packages/torch/nn/modules/module.py:1527\u001b[0m, in \u001b[0;36mModule._call_impl\u001b[0;34m(self, *args, **kwargs)\u001b[0m\n\u001b[1;32m   1522\u001b[0m \u001b[38;5;66;03m# If we don't have any hooks, we want to skip the rest of the logic in\u001b[39;00m\n\u001b[1;32m   1523\u001b[0m \u001b[38;5;66;03m# this function, and just call forward.\u001b[39;00m\n\u001b[1;32m   1524\u001b[0m \u001b[38;5;28;01mif\u001b[39;00m \u001b[38;5;129;01mnot\u001b[39;00m (\u001b[38;5;28mself\u001b[39m\u001b[38;5;241m.\u001b[39m_backward_hooks \u001b[38;5;129;01mor\u001b[39;00m \u001b[38;5;28mself\u001b[39m\u001b[38;5;241m.\u001b[39m_backward_pre_hooks \u001b[38;5;129;01mor\u001b[39;00m \u001b[38;5;28mself\u001b[39m\u001b[38;5;241m.\u001b[39m_forward_hooks \u001b[38;5;129;01mor\u001b[39;00m \u001b[38;5;28mself\u001b[39m\u001b[38;5;241m.\u001b[39m_forward_pre_hooks\n\u001b[1;32m   1525\u001b[0m         \u001b[38;5;129;01mor\u001b[39;00m _global_backward_pre_hooks \u001b[38;5;129;01mor\u001b[39;00m _global_backward_hooks\n\u001b[1;32m   1526\u001b[0m         \u001b[38;5;129;01mor\u001b[39;00m _global_forward_hooks \u001b[38;5;129;01mor\u001b[39;00m _global_forward_pre_hooks):\n\u001b[0;32m-> 1527\u001b[0m     \u001b[38;5;28;01mreturn\u001b[39;00m \u001b[43mforward_call\u001b[49m\u001b[43m(\u001b[49m\u001b[38;5;241;43m*\u001b[39;49m\u001b[43margs\u001b[49m\u001b[43m,\u001b[49m\u001b[43m \u001b[49m\u001b[38;5;241;43m*\u001b[39;49m\u001b[38;5;241;43m*\u001b[39;49m\u001b[43mkwargs\u001b[49m\u001b[43m)\u001b[49m\n\u001b[1;32m   1529\u001b[0m \u001b[38;5;28;01mtry\u001b[39;00m:\n\u001b[1;32m   1530\u001b[0m     result \u001b[38;5;241m=\u001b[39m \u001b[38;5;28;01mNone\u001b[39;00m\n",
      "File \u001b[0;32m/data1/lesliec/sarthak/caduceus/caduceus/modeling_caduceus.py:270\u001b[0m, in \u001b[0;36mCaduceusMixerModel.forward\u001b[0;34m(self, input_ids, inputs_embeds, output_hidden_states)\u001b[0m\n\u001b[1;32m    268\u001b[0m         all_hidden_states\u001b[38;5;241m.\u001b[39mappend(hidden_states)\n\u001b[1;32m    269\u001b[0m     \u001b[38;5;66;03m# TODO: Add support for gradient checkpointing\u001b[39;00m\n\u001b[0;32m--> 270\u001b[0m     hidden_states, residual \u001b[38;5;241m=\u001b[39m \u001b[43mlayer\u001b[49m\u001b[43m(\u001b[49m\n\u001b[1;32m    271\u001b[0m \u001b[43m        \u001b[49m\u001b[43mhidden_states\u001b[49m\u001b[43m,\u001b[49m\u001b[43m \u001b[49m\u001b[43mresidual\u001b[49m\u001b[43m,\u001b[49m\u001b[43m \u001b[49m\u001b[43minference_params\u001b[49m\u001b[38;5;241;43m=\u001b[39;49m\u001b[38;5;28;43;01mNone\u001b[39;49;00m\n\u001b[1;32m    272\u001b[0m \u001b[43m    \u001b[49m\u001b[43m)\u001b[49m\n\u001b[1;32m    274\u001b[0m \u001b[38;5;28;01mif\u001b[39;00m \u001b[38;5;129;01mnot\u001b[39;00m \u001b[38;5;28mself\u001b[39m\u001b[38;5;241m.\u001b[39mfused_add_norm:\n\u001b[1;32m    275\u001b[0m     \u001b[38;5;28;01mif\u001b[39;00m \u001b[38;5;28mself\u001b[39m\u001b[38;5;241m.\u001b[39mrcps:\n\u001b[1;32m    276\u001b[0m         \u001b[38;5;66;03m# Set prenorm=False here since we don't need the residual\u001b[39;00m\n",
      "File \u001b[0;32m/data1/lesliec/sarthak/caduceus/.pixi/envs/default/lib/python3.11/site-packages/torch/nn/modules/module.py:1518\u001b[0m, in \u001b[0;36mModule._wrapped_call_impl\u001b[0;34m(self, *args, **kwargs)\u001b[0m\n\u001b[1;32m   1516\u001b[0m     \u001b[38;5;28;01mreturn\u001b[39;00m \u001b[38;5;28mself\u001b[39m\u001b[38;5;241m.\u001b[39m_compiled_call_impl(\u001b[38;5;241m*\u001b[39margs, \u001b[38;5;241m*\u001b[39m\u001b[38;5;241m*\u001b[39mkwargs)  \u001b[38;5;66;03m# type: ignore[misc]\u001b[39;00m\n\u001b[1;32m   1517\u001b[0m \u001b[38;5;28;01melse\u001b[39;00m:\n\u001b[0;32m-> 1518\u001b[0m     \u001b[38;5;28;01mreturn\u001b[39;00m \u001b[38;5;28;43mself\u001b[39;49m\u001b[38;5;241;43m.\u001b[39;49m\u001b[43m_call_impl\u001b[49m\u001b[43m(\u001b[49m\u001b[38;5;241;43m*\u001b[39;49m\u001b[43margs\u001b[49m\u001b[43m,\u001b[49m\u001b[43m \u001b[49m\u001b[38;5;241;43m*\u001b[39;49m\u001b[38;5;241;43m*\u001b[39;49m\u001b[43mkwargs\u001b[49m\u001b[43m)\u001b[49m\n",
      "File \u001b[0;32m/data1/lesliec/sarthak/caduceus/.pixi/envs/default/lib/python3.11/site-packages/torch/nn/modules/module.py:1527\u001b[0m, in \u001b[0;36mModule._call_impl\u001b[0;34m(self, *args, **kwargs)\u001b[0m\n\u001b[1;32m   1522\u001b[0m \u001b[38;5;66;03m# If we don't have any hooks, we want to skip the rest of the logic in\u001b[39;00m\n\u001b[1;32m   1523\u001b[0m \u001b[38;5;66;03m# this function, and just call forward.\u001b[39;00m\n\u001b[1;32m   1524\u001b[0m \u001b[38;5;28;01mif\u001b[39;00m \u001b[38;5;129;01mnot\u001b[39;00m (\u001b[38;5;28mself\u001b[39m\u001b[38;5;241m.\u001b[39m_backward_hooks \u001b[38;5;129;01mor\u001b[39;00m \u001b[38;5;28mself\u001b[39m\u001b[38;5;241m.\u001b[39m_backward_pre_hooks \u001b[38;5;129;01mor\u001b[39;00m \u001b[38;5;28mself\u001b[39m\u001b[38;5;241m.\u001b[39m_forward_hooks \u001b[38;5;129;01mor\u001b[39;00m \u001b[38;5;28mself\u001b[39m\u001b[38;5;241m.\u001b[39m_forward_pre_hooks\n\u001b[1;32m   1525\u001b[0m         \u001b[38;5;129;01mor\u001b[39;00m _global_backward_pre_hooks \u001b[38;5;129;01mor\u001b[39;00m _global_backward_hooks\n\u001b[1;32m   1526\u001b[0m         \u001b[38;5;129;01mor\u001b[39;00m _global_forward_hooks \u001b[38;5;129;01mor\u001b[39;00m _global_forward_pre_hooks):\n\u001b[0;32m-> 1527\u001b[0m     \u001b[38;5;28;01mreturn\u001b[39;00m \u001b[43mforward_call\u001b[49m\u001b[43m(\u001b[49m\u001b[38;5;241;43m*\u001b[39;49m\u001b[43margs\u001b[49m\u001b[43m,\u001b[49m\u001b[43m \u001b[49m\u001b[38;5;241;43m*\u001b[39;49m\u001b[38;5;241;43m*\u001b[39;49m\u001b[43mkwargs\u001b[49m\u001b[43m)\u001b[49m\n\u001b[1;32m   1529\u001b[0m \u001b[38;5;28;01mtry\u001b[39;00m:\n\u001b[1;32m   1530\u001b[0m     result \u001b[38;5;241m=\u001b[39m \u001b[38;5;28;01mNone\u001b[39;00m\n",
      "File \u001b[0;32m/data1/lesliec/sarthak/caduceus/.pixi/envs/default/lib/python3.11/site-packages/mamba_ssm/modules/block.py:67\u001b[0m, in \u001b[0;36mBlock.forward\u001b[0;34m(self, hidden_states, residual, inference_params, **mixer_kwargs)\u001b[0m\n\u001b[1;32m     56\u001b[0m \u001b[38;5;28;01melse\u001b[39;00m:\n\u001b[1;32m     57\u001b[0m     hidden_states, residual \u001b[38;5;241m=\u001b[39m layer_norm_fn(\n\u001b[1;32m     58\u001b[0m         hidden_states,\n\u001b[1;32m     59\u001b[0m         \u001b[38;5;28mself\u001b[39m\u001b[38;5;241m.\u001b[39mnorm\u001b[38;5;241m.\u001b[39mweight,\n\u001b[0;32m   (...)\u001b[0m\n\u001b[1;32m     65\u001b[0m         is_rms_norm\u001b[38;5;241m=\u001b[39m\u001b[38;5;28misinstance\u001b[39m(\u001b[38;5;28mself\u001b[39m\u001b[38;5;241m.\u001b[39mnorm, RMSNorm)\n\u001b[1;32m     66\u001b[0m     )\n\u001b[0;32m---> 67\u001b[0m hidden_states \u001b[38;5;241m=\u001b[39m \u001b[38;5;28;43mself\u001b[39;49m\u001b[38;5;241;43m.\u001b[39;49m\u001b[43mmixer\u001b[49m\u001b[43m(\u001b[49m\u001b[43mhidden_states\u001b[49m\u001b[43m,\u001b[49m\u001b[43m \u001b[49m\u001b[43minference_params\u001b[49m\u001b[38;5;241;43m=\u001b[39;49m\u001b[43minference_params\u001b[49m\u001b[43m,\u001b[49m\u001b[43m \u001b[49m\u001b[38;5;241;43m*\u001b[39;49m\u001b[38;5;241;43m*\u001b[39;49m\u001b[43mmixer_kwargs\u001b[49m\u001b[43m)\u001b[49m\n\u001b[1;32m     69\u001b[0m \u001b[38;5;28;01mif\u001b[39;00m \u001b[38;5;28mself\u001b[39m\u001b[38;5;241m.\u001b[39mmlp \u001b[38;5;129;01mis\u001b[39;00m \u001b[38;5;129;01mnot\u001b[39;00m \u001b[38;5;28;01mNone\u001b[39;00m:\n\u001b[1;32m     70\u001b[0m     \u001b[38;5;28;01mif\u001b[39;00m \u001b[38;5;129;01mnot\u001b[39;00m \u001b[38;5;28mself\u001b[39m\u001b[38;5;241m.\u001b[39mfused_add_norm:\n",
      "File \u001b[0;32m/data1/lesliec/sarthak/caduceus/.pixi/envs/default/lib/python3.11/site-packages/torch/nn/modules/module.py:1518\u001b[0m, in \u001b[0;36mModule._wrapped_call_impl\u001b[0;34m(self, *args, **kwargs)\u001b[0m\n\u001b[1;32m   1516\u001b[0m     \u001b[38;5;28;01mreturn\u001b[39;00m \u001b[38;5;28mself\u001b[39m\u001b[38;5;241m.\u001b[39m_compiled_call_impl(\u001b[38;5;241m*\u001b[39margs, \u001b[38;5;241m*\u001b[39m\u001b[38;5;241m*\u001b[39mkwargs)  \u001b[38;5;66;03m# type: ignore[misc]\u001b[39;00m\n\u001b[1;32m   1517\u001b[0m \u001b[38;5;28;01melse\u001b[39;00m:\n\u001b[0;32m-> 1518\u001b[0m     \u001b[38;5;28;01mreturn\u001b[39;00m \u001b[38;5;28;43mself\u001b[39;49m\u001b[38;5;241;43m.\u001b[39;49m\u001b[43m_call_impl\u001b[49m\u001b[43m(\u001b[49m\u001b[38;5;241;43m*\u001b[39;49m\u001b[43margs\u001b[49m\u001b[43m,\u001b[49m\u001b[43m \u001b[49m\u001b[38;5;241;43m*\u001b[39;49m\u001b[38;5;241;43m*\u001b[39;49m\u001b[43mkwargs\u001b[49m\u001b[43m)\u001b[49m\n",
      "File \u001b[0;32m/data1/lesliec/sarthak/caduceus/.pixi/envs/default/lib/python3.11/site-packages/torch/nn/modules/module.py:1527\u001b[0m, in \u001b[0;36mModule._call_impl\u001b[0;34m(self, *args, **kwargs)\u001b[0m\n\u001b[1;32m   1522\u001b[0m \u001b[38;5;66;03m# If we don't have any hooks, we want to skip the rest of the logic in\u001b[39;00m\n\u001b[1;32m   1523\u001b[0m \u001b[38;5;66;03m# this function, and just call forward.\u001b[39;00m\n\u001b[1;32m   1524\u001b[0m \u001b[38;5;28;01mif\u001b[39;00m \u001b[38;5;129;01mnot\u001b[39;00m (\u001b[38;5;28mself\u001b[39m\u001b[38;5;241m.\u001b[39m_backward_hooks \u001b[38;5;129;01mor\u001b[39;00m \u001b[38;5;28mself\u001b[39m\u001b[38;5;241m.\u001b[39m_backward_pre_hooks \u001b[38;5;129;01mor\u001b[39;00m \u001b[38;5;28mself\u001b[39m\u001b[38;5;241m.\u001b[39m_forward_hooks \u001b[38;5;129;01mor\u001b[39;00m \u001b[38;5;28mself\u001b[39m\u001b[38;5;241m.\u001b[39m_forward_pre_hooks\n\u001b[1;32m   1525\u001b[0m         \u001b[38;5;129;01mor\u001b[39;00m _global_backward_pre_hooks \u001b[38;5;129;01mor\u001b[39;00m _global_backward_hooks\n\u001b[1;32m   1526\u001b[0m         \u001b[38;5;129;01mor\u001b[39;00m _global_forward_hooks \u001b[38;5;129;01mor\u001b[39;00m _global_forward_pre_hooks):\n\u001b[0;32m-> 1527\u001b[0m     \u001b[38;5;28;01mreturn\u001b[39;00m \u001b[43mforward_call\u001b[49m\u001b[43m(\u001b[49m\u001b[38;5;241;43m*\u001b[39;49m\u001b[43margs\u001b[49m\u001b[43m,\u001b[49m\u001b[43m \u001b[49m\u001b[38;5;241;43m*\u001b[39;49m\u001b[38;5;241;43m*\u001b[39;49m\u001b[43mkwargs\u001b[49m\u001b[43m)\u001b[49m\n\u001b[1;32m   1529\u001b[0m \u001b[38;5;28;01mtry\u001b[39;00m:\n\u001b[1;32m   1530\u001b[0m     result \u001b[38;5;241m=\u001b[39m \u001b[38;5;28;01mNone\u001b[39;00m\n",
      "File \u001b[0;32m/data1/lesliec/sarthak/caduceus/caduceus/modeling_caduceus.py:121\u001b[0m, in \u001b[0;36mBiMambaWrapper.forward\u001b[0;34m(self, hidden_states, inference_params)\u001b[0m\n\u001b[1;32m    119\u001b[0m out \u001b[38;5;241m=\u001b[39m \u001b[38;5;28mself\u001b[39m\u001b[38;5;241m.\u001b[39mmamba_fwd(hidden_states, inference_params\u001b[38;5;241m=\u001b[39minference_params)\n\u001b[1;32m    120\u001b[0m \u001b[38;5;28;01mif\u001b[39;00m \u001b[38;5;28mself\u001b[39m\u001b[38;5;241m.\u001b[39mbidirectional:\n\u001b[0;32m--> 121\u001b[0m     out_rev \u001b[38;5;241m=\u001b[39m \u001b[38;5;28;43mself\u001b[39;49m\u001b[38;5;241;43m.\u001b[39;49m\u001b[43mmamba_rev\u001b[49m\u001b[43m(\u001b[49m\n\u001b[1;32m    122\u001b[0m \u001b[43m        \u001b[49m\u001b[43mhidden_states\u001b[49m\u001b[38;5;241;43m.\u001b[39;49m\u001b[43mflip\u001b[49m\u001b[43m(\u001b[49m\u001b[43mdims\u001b[49m\u001b[38;5;241;43m=\u001b[39;49m\u001b[43m(\u001b[49m\u001b[38;5;241;43m1\u001b[39;49m\u001b[43m,\u001b[49m\u001b[43m)\u001b[49m\u001b[43m)\u001b[49m\u001b[43m,\u001b[49m\u001b[43m  \u001b[49m\u001b[38;5;66;43;03m# Flip along the sequence length dimension\u001b[39;49;00m\n\u001b[1;32m    123\u001b[0m \u001b[43m        \u001b[49m\u001b[43minference_params\u001b[49m\u001b[38;5;241;43m=\u001b[39;49m\u001b[43minference_params\u001b[49m\n\u001b[1;32m    124\u001b[0m \u001b[43m    \u001b[49m\u001b[43m)\u001b[49m\u001b[38;5;241m.\u001b[39mflip(dims\u001b[38;5;241m=\u001b[39m(\u001b[38;5;241m1\u001b[39m,))  \u001b[38;5;66;03m# Flip back for combining with forward hidden states\u001b[39;00m\n\u001b[1;32m    125\u001b[0m     \u001b[38;5;28;01mif\u001b[39;00m \u001b[38;5;28mself\u001b[39m\u001b[38;5;241m.\u001b[39mbidirectional_strategy \u001b[38;5;241m==\u001b[39m \u001b[38;5;124m\"\u001b[39m\u001b[38;5;124madd\u001b[39m\u001b[38;5;124m\"\u001b[39m:\n\u001b[1;32m    126\u001b[0m         out \u001b[38;5;241m=\u001b[39m out \u001b[38;5;241m+\u001b[39m out_rev\n",
      "File \u001b[0;32m/data1/lesliec/sarthak/caduceus/.pixi/envs/default/lib/python3.11/site-packages/torch/nn/modules/module.py:1518\u001b[0m, in \u001b[0;36mModule._wrapped_call_impl\u001b[0;34m(self, *args, **kwargs)\u001b[0m\n\u001b[1;32m   1516\u001b[0m     \u001b[38;5;28;01mreturn\u001b[39;00m \u001b[38;5;28mself\u001b[39m\u001b[38;5;241m.\u001b[39m_compiled_call_impl(\u001b[38;5;241m*\u001b[39margs, \u001b[38;5;241m*\u001b[39m\u001b[38;5;241m*\u001b[39mkwargs)  \u001b[38;5;66;03m# type: ignore[misc]\u001b[39;00m\n\u001b[1;32m   1517\u001b[0m \u001b[38;5;28;01melse\u001b[39;00m:\n\u001b[0;32m-> 1518\u001b[0m     \u001b[38;5;28;01mreturn\u001b[39;00m \u001b[38;5;28;43mself\u001b[39;49m\u001b[38;5;241;43m.\u001b[39;49m\u001b[43m_call_impl\u001b[49m\u001b[43m(\u001b[49m\u001b[38;5;241;43m*\u001b[39;49m\u001b[43margs\u001b[49m\u001b[43m,\u001b[49m\u001b[43m \u001b[49m\u001b[38;5;241;43m*\u001b[39;49m\u001b[38;5;241;43m*\u001b[39;49m\u001b[43mkwargs\u001b[49m\u001b[43m)\u001b[49m\n",
      "File \u001b[0;32m/data1/lesliec/sarthak/caduceus/.pixi/envs/default/lib/python3.11/site-packages/torch/nn/modules/module.py:1527\u001b[0m, in \u001b[0;36mModule._call_impl\u001b[0;34m(self, *args, **kwargs)\u001b[0m\n\u001b[1;32m   1522\u001b[0m \u001b[38;5;66;03m# If we don't have any hooks, we want to skip the rest of the logic in\u001b[39;00m\n\u001b[1;32m   1523\u001b[0m \u001b[38;5;66;03m# this function, and just call forward.\u001b[39;00m\n\u001b[1;32m   1524\u001b[0m \u001b[38;5;28;01mif\u001b[39;00m \u001b[38;5;129;01mnot\u001b[39;00m (\u001b[38;5;28mself\u001b[39m\u001b[38;5;241m.\u001b[39m_backward_hooks \u001b[38;5;129;01mor\u001b[39;00m \u001b[38;5;28mself\u001b[39m\u001b[38;5;241m.\u001b[39m_backward_pre_hooks \u001b[38;5;129;01mor\u001b[39;00m \u001b[38;5;28mself\u001b[39m\u001b[38;5;241m.\u001b[39m_forward_hooks \u001b[38;5;129;01mor\u001b[39;00m \u001b[38;5;28mself\u001b[39m\u001b[38;5;241m.\u001b[39m_forward_pre_hooks\n\u001b[1;32m   1525\u001b[0m         \u001b[38;5;129;01mor\u001b[39;00m _global_backward_pre_hooks \u001b[38;5;129;01mor\u001b[39;00m _global_backward_hooks\n\u001b[1;32m   1526\u001b[0m         \u001b[38;5;129;01mor\u001b[39;00m _global_forward_hooks \u001b[38;5;129;01mor\u001b[39;00m _global_forward_pre_hooks):\n\u001b[0;32m-> 1527\u001b[0m     \u001b[38;5;28;01mreturn\u001b[39;00m \u001b[43mforward_call\u001b[49m\u001b[43m(\u001b[49m\u001b[38;5;241;43m*\u001b[39;49m\u001b[43margs\u001b[49m\u001b[43m,\u001b[49m\u001b[43m \u001b[49m\u001b[38;5;241;43m*\u001b[39;49m\u001b[38;5;241;43m*\u001b[39;49m\u001b[43mkwargs\u001b[49m\u001b[43m)\u001b[49m\n\u001b[1;32m   1529\u001b[0m \u001b[38;5;28;01mtry\u001b[39;00m:\n\u001b[1;32m   1530\u001b[0m     result \u001b[38;5;241m=\u001b[39m \u001b[38;5;28;01mNone\u001b[39;00m\n",
      "File \u001b[0;32m/data1/lesliec/sarthak/caduceus/.pixi/envs/default/lib/python3.11/site-packages/mamba_ssm/modules/mamba_simple.py:146\u001b[0m, in \u001b[0;36mMamba.forward\u001b[0;34m(self, hidden_states, inference_params)\u001b[0m\n\u001b[1;32m    144\u001b[0m \u001b[38;5;66;03m# In the backward pass we write dx and dz next to each other to avoid torch.cat\u001b[39;00m\n\u001b[1;32m    145\u001b[0m \u001b[38;5;28;01mif\u001b[39;00m \u001b[38;5;28mself\u001b[39m\u001b[38;5;241m.\u001b[39muse_fast_path \u001b[38;5;129;01mand\u001b[39;00m causal_conv1d_fn \u001b[38;5;129;01mis\u001b[39;00m \u001b[38;5;129;01mnot\u001b[39;00m \u001b[38;5;28;01mNone\u001b[39;00m \u001b[38;5;129;01mand\u001b[39;00m inference_params \u001b[38;5;129;01mis\u001b[39;00m \u001b[38;5;28;01mNone\u001b[39;00m:  \u001b[38;5;66;03m# Doesn't support outputting the states\u001b[39;00m\n\u001b[0;32m--> 146\u001b[0m     out \u001b[38;5;241m=\u001b[39m \u001b[43mmamba_inner_fn\u001b[49m\u001b[43m(\u001b[49m\n\u001b[1;32m    147\u001b[0m \u001b[43m        \u001b[49m\u001b[43mxz\u001b[49m\u001b[43m,\u001b[49m\n\u001b[1;32m    148\u001b[0m \u001b[43m        \u001b[49m\u001b[38;5;28;43mself\u001b[39;49m\u001b[38;5;241;43m.\u001b[39;49m\u001b[43mconv1d\u001b[49m\u001b[38;5;241;43m.\u001b[39;49m\u001b[43mweight\u001b[49m\u001b[43m,\u001b[49m\n\u001b[1;32m    149\u001b[0m \u001b[43m        \u001b[49m\u001b[38;5;28;43mself\u001b[39;49m\u001b[38;5;241;43m.\u001b[39;49m\u001b[43mconv1d\u001b[49m\u001b[38;5;241;43m.\u001b[39;49m\u001b[43mbias\u001b[49m\u001b[43m,\u001b[49m\n\u001b[1;32m    150\u001b[0m \u001b[43m        \u001b[49m\u001b[38;5;28;43mself\u001b[39;49m\u001b[38;5;241;43m.\u001b[39;49m\u001b[43mx_proj\u001b[49m\u001b[38;5;241;43m.\u001b[39;49m\u001b[43mweight\u001b[49m\u001b[43m,\u001b[49m\n\u001b[1;32m    151\u001b[0m \u001b[43m        \u001b[49m\u001b[38;5;28;43mself\u001b[39;49m\u001b[38;5;241;43m.\u001b[39;49m\u001b[43mdt_proj\u001b[49m\u001b[38;5;241;43m.\u001b[39;49m\u001b[43mweight\u001b[49m\u001b[43m,\u001b[49m\n\u001b[1;32m    152\u001b[0m \u001b[43m        \u001b[49m\u001b[38;5;28;43mself\u001b[39;49m\u001b[38;5;241;43m.\u001b[39;49m\u001b[43mout_proj\u001b[49m\u001b[38;5;241;43m.\u001b[39;49m\u001b[43mweight\u001b[49m\u001b[43m,\u001b[49m\n\u001b[1;32m    153\u001b[0m \u001b[43m        \u001b[49m\u001b[38;5;28;43mself\u001b[39;49m\u001b[38;5;241;43m.\u001b[39;49m\u001b[43mout_proj\u001b[49m\u001b[38;5;241;43m.\u001b[39;49m\u001b[43mbias\u001b[49m\u001b[43m,\u001b[49m\n\u001b[1;32m    154\u001b[0m \u001b[43m        \u001b[49m\u001b[43mA\u001b[49m\u001b[43m,\u001b[49m\n\u001b[1;32m    155\u001b[0m \u001b[43m        \u001b[49m\u001b[38;5;28;43;01mNone\u001b[39;49;00m\u001b[43m,\u001b[49m\u001b[43m  \u001b[49m\u001b[38;5;66;43;03m# input-dependent B\u001b[39;49;00m\n\u001b[1;32m    156\u001b[0m \u001b[43m        \u001b[49m\u001b[38;5;28;43;01mNone\u001b[39;49;00m\u001b[43m,\u001b[49m\u001b[43m  \u001b[49m\u001b[38;5;66;43;03m# input-dependent C\u001b[39;49;00m\n\u001b[1;32m    157\u001b[0m \u001b[43m        \u001b[49m\u001b[38;5;28;43mself\u001b[39;49m\u001b[38;5;241;43m.\u001b[39;49m\u001b[43mD\u001b[49m\u001b[38;5;241;43m.\u001b[39;49m\u001b[43mfloat\u001b[49m\u001b[43m(\u001b[49m\u001b[43m)\u001b[49m\u001b[43m,\u001b[49m\n\u001b[1;32m    158\u001b[0m \u001b[43m        \u001b[49m\u001b[43mdelta_bias\u001b[49m\u001b[38;5;241;43m=\u001b[39;49m\u001b[38;5;28;43mself\u001b[39;49m\u001b[38;5;241;43m.\u001b[39;49m\u001b[43mdt_proj\u001b[49m\u001b[38;5;241;43m.\u001b[39;49m\u001b[43mbias\u001b[49m\u001b[38;5;241;43m.\u001b[39;49m\u001b[43mfloat\u001b[49m\u001b[43m(\u001b[49m\u001b[43m)\u001b[49m\u001b[43m,\u001b[49m\n\u001b[1;32m    159\u001b[0m \u001b[43m        \u001b[49m\u001b[43mdelta_softplus\u001b[49m\u001b[38;5;241;43m=\u001b[39;49m\u001b[38;5;28;43;01mTrue\u001b[39;49;00m\u001b[43m,\u001b[49m\n\u001b[1;32m    160\u001b[0m \u001b[43m    \u001b[49m\u001b[43m)\u001b[49m\n\u001b[1;32m    161\u001b[0m \u001b[38;5;28;01melse\u001b[39;00m:\n\u001b[1;32m    162\u001b[0m     x, z \u001b[38;5;241m=\u001b[39m xz\u001b[38;5;241m.\u001b[39mchunk(\u001b[38;5;241m2\u001b[39m, dim\u001b[38;5;241m=\u001b[39m\u001b[38;5;241m1\u001b[39m)\n",
      "File \u001b[0;32m/data1/lesliec/sarthak/caduceus/.pixi/envs/default/lib/python3.11/site-packages/mamba_ssm/ops/selective_scan_interface.py:317\u001b[0m, in \u001b[0;36mmamba_inner_fn\u001b[0;34m(xz, conv1d_weight, conv1d_bias, x_proj_weight, delta_proj_weight, out_proj_weight, out_proj_bias, A, B, C, D, delta_bias, B_proj_bias, C_proj_bias, delta_softplus)\u001b[0m\n\u001b[1;32m    311\u001b[0m \u001b[38;5;28;01mdef\u001b[39;00m \u001b[38;5;21mmamba_inner_fn\u001b[39m(\n\u001b[1;32m    312\u001b[0m     xz, conv1d_weight, conv1d_bias, x_proj_weight, delta_proj_weight,\n\u001b[1;32m    313\u001b[0m     out_proj_weight, out_proj_bias,\n\u001b[1;32m    314\u001b[0m     A, B\u001b[38;5;241m=\u001b[39m\u001b[38;5;28;01mNone\u001b[39;00m, C\u001b[38;5;241m=\u001b[39m\u001b[38;5;28;01mNone\u001b[39;00m, D\u001b[38;5;241m=\u001b[39m\u001b[38;5;28;01mNone\u001b[39;00m, delta_bias\u001b[38;5;241m=\u001b[39m\u001b[38;5;28;01mNone\u001b[39;00m, B_proj_bias\u001b[38;5;241m=\u001b[39m\u001b[38;5;28;01mNone\u001b[39;00m,\n\u001b[1;32m    315\u001b[0m     C_proj_bias\u001b[38;5;241m=\u001b[39m\u001b[38;5;28;01mNone\u001b[39;00m, delta_softplus\u001b[38;5;241m=\u001b[39m\u001b[38;5;28;01mTrue\u001b[39;00m\n\u001b[1;32m    316\u001b[0m ):\n\u001b[0;32m--> 317\u001b[0m     \u001b[38;5;28;01mreturn\u001b[39;00m \u001b[43mMambaInnerFn\u001b[49m\u001b[38;5;241;43m.\u001b[39;49m\u001b[43mapply\u001b[49m\u001b[43m(\u001b[49m\u001b[43mxz\u001b[49m\u001b[43m,\u001b[49m\u001b[43m \u001b[49m\u001b[43mconv1d_weight\u001b[49m\u001b[43m,\u001b[49m\u001b[43m \u001b[49m\u001b[43mconv1d_bias\u001b[49m\u001b[43m,\u001b[49m\u001b[43m \u001b[49m\u001b[43mx_proj_weight\u001b[49m\u001b[43m,\u001b[49m\u001b[43m \u001b[49m\u001b[43mdelta_proj_weight\u001b[49m\u001b[43m,\u001b[49m\n\u001b[1;32m    318\u001b[0m \u001b[43m                              \u001b[49m\u001b[43mout_proj_weight\u001b[49m\u001b[43m,\u001b[49m\u001b[43m \u001b[49m\u001b[43mout_proj_bias\u001b[49m\u001b[43m,\u001b[49m\n\u001b[1;32m    319\u001b[0m \u001b[43m                              \u001b[49m\u001b[43mA\u001b[49m\u001b[43m,\u001b[49m\u001b[43m \u001b[49m\u001b[43mB\u001b[49m\u001b[43m,\u001b[49m\u001b[43m \u001b[49m\u001b[43mC\u001b[49m\u001b[43m,\u001b[49m\u001b[43m \u001b[49m\u001b[43mD\u001b[49m\u001b[43m,\u001b[49m\u001b[43m \u001b[49m\u001b[43mdelta_bias\u001b[49m\u001b[43m,\u001b[49m\u001b[43m \u001b[49m\u001b[43mB_proj_bias\u001b[49m\u001b[43m,\u001b[49m\u001b[43m \u001b[49m\u001b[43mC_proj_bias\u001b[49m\u001b[43m,\u001b[49m\u001b[43m \u001b[49m\u001b[43mdelta_softplus\u001b[49m\u001b[43m)\u001b[49m\n",
      "File \u001b[0;32m/data1/lesliec/sarthak/caduceus/.pixi/envs/default/lib/python3.11/site-packages/torch/autograd/function.py:539\u001b[0m, in \u001b[0;36mFunction.apply\u001b[0;34m(cls, *args, **kwargs)\u001b[0m\n\u001b[1;32m    536\u001b[0m \u001b[38;5;28;01mif\u001b[39;00m \u001b[38;5;129;01mnot\u001b[39;00m torch\u001b[38;5;241m.\u001b[39m_C\u001b[38;5;241m.\u001b[39m_are_functorch_transforms_active():\n\u001b[1;32m    537\u001b[0m     \u001b[38;5;66;03m# See NOTE: [functorch vjp and autograd interaction]\u001b[39;00m\n\u001b[1;32m    538\u001b[0m     args \u001b[38;5;241m=\u001b[39m _functorch\u001b[38;5;241m.\u001b[39mutils\u001b[38;5;241m.\u001b[39munwrap_dead_wrappers(args)\n\u001b[0;32m--> 539\u001b[0m     \u001b[38;5;28;01mreturn\u001b[39;00m \u001b[38;5;28;43msuper\u001b[39;49m\u001b[43m(\u001b[49m\u001b[43m)\u001b[49m\u001b[38;5;241;43m.\u001b[39;49m\u001b[43mapply\u001b[49m\u001b[43m(\u001b[49m\u001b[38;5;241;43m*\u001b[39;49m\u001b[43margs\u001b[49m\u001b[43m,\u001b[49m\u001b[43m \u001b[49m\u001b[38;5;241;43m*\u001b[39;49m\u001b[38;5;241;43m*\u001b[39;49m\u001b[43mkwargs\u001b[49m\u001b[43m)\u001b[49m  \u001b[38;5;66;03m# type: ignore[misc]\u001b[39;00m\n\u001b[1;32m    541\u001b[0m \u001b[38;5;28;01mif\u001b[39;00m \u001b[38;5;28mcls\u001b[39m\u001b[38;5;241m.\u001b[39msetup_context \u001b[38;5;241m==\u001b[39m _SingleLevelFunction\u001b[38;5;241m.\u001b[39msetup_context:\n\u001b[1;32m    542\u001b[0m     \u001b[38;5;28;01mraise\u001b[39;00m \u001b[38;5;167;01mRuntimeError\u001b[39;00m(\n\u001b[1;32m    543\u001b[0m         \u001b[38;5;124m\"\u001b[39m\u001b[38;5;124mIn order to use an autograd.Function with functorch transforms \u001b[39m\u001b[38;5;124m\"\u001b[39m\n\u001b[1;32m    544\u001b[0m         \u001b[38;5;124m\"\u001b[39m\u001b[38;5;124m(vmap, grad, jvp, jacrev, ...), it must override the setup_context \u001b[39m\u001b[38;5;124m\"\u001b[39m\n\u001b[1;32m    545\u001b[0m         \u001b[38;5;124m\"\u001b[39m\u001b[38;5;124mstaticmethod. For more details, please see \u001b[39m\u001b[38;5;124m\"\u001b[39m\n\u001b[1;32m    546\u001b[0m         \u001b[38;5;124m\"\u001b[39m\u001b[38;5;124mhttps://pytorch.org/docs/master/notes/extending.func.html\u001b[39m\u001b[38;5;124m\"\u001b[39m\n\u001b[1;32m    547\u001b[0m     )\n",
      "File \u001b[0;32m/data1/lesliec/sarthak/caduceus/.pixi/envs/default/lib/python3.11/site-packages/torch/cuda/amp/autocast_mode.py:113\u001b[0m, in \u001b[0;36mcustom_fwd.<locals>.decorate_fwd\u001b[0;34m(*args, **kwargs)\u001b[0m\n\u001b[1;32m    111\u001b[0m \u001b[38;5;28;01mif\u001b[39;00m cast_inputs \u001b[38;5;129;01mis\u001b[39;00m \u001b[38;5;28;01mNone\u001b[39;00m:\n\u001b[1;32m    112\u001b[0m     args[\u001b[38;5;241m0\u001b[39m]\u001b[38;5;241m.\u001b[39m_fwd_used_autocast \u001b[38;5;241m=\u001b[39m torch\u001b[38;5;241m.\u001b[39mis_autocast_enabled()\n\u001b[0;32m--> 113\u001b[0m     \u001b[38;5;28;01mreturn\u001b[39;00m \u001b[43mfwd\u001b[49m\u001b[43m(\u001b[49m\u001b[38;5;241;43m*\u001b[39;49m\u001b[43margs\u001b[49m\u001b[43m,\u001b[49m\u001b[43m \u001b[49m\u001b[38;5;241;43m*\u001b[39;49m\u001b[38;5;241;43m*\u001b[39;49m\u001b[43mkwargs\u001b[49m\u001b[43m)\u001b[49m\n\u001b[1;32m    114\u001b[0m \u001b[38;5;28;01melse\u001b[39;00m:\n\u001b[1;32m    115\u001b[0m     autocast_context \u001b[38;5;241m=\u001b[39m torch\u001b[38;5;241m.\u001b[39mis_autocast_enabled()\n",
      "File \u001b[0;32m/data1/lesliec/sarthak/caduceus/.pixi/envs/default/lib/python3.11/site-packages/mamba_ssm/ops/selective_scan_interface.py:225\u001b[0m, in \u001b[0;36mMambaInnerFn.forward\u001b[0;34m(ctx, xz, conv1d_weight, conv1d_bias, x_proj_weight, delta_proj_weight, out_proj_weight, out_proj_bias, A, B, C, D, delta_bias, B_proj_bias, C_proj_bias, delta_softplus, checkpoint_lvl)\u001b[0m\n\u001b[1;32m    223\u001b[0m \u001b[38;5;28;01mif\u001b[39;00m D \u001b[38;5;129;01mis\u001b[39;00m \u001b[38;5;129;01mnot\u001b[39;00m \u001b[38;5;28;01mNone\u001b[39;00m:\n\u001b[1;32m    224\u001b[0m     D \u001b[38;5;241m=\u001b[39m D\u001b[38;5;241m.\u001b[39mcontiguous()\n\u001b[0;32m--> 225\u001b[0m out, scan_intermediates, out_z \u001b[38;5;241m=\u001b[39m \u001b[43mselective_scan_cuda\u001b[49m\u001b[38;5;241;43m.\u001b[39;49m\u001b[43mfwd\u001b[49m\u001b[43m(\u001b[49m\n\u001b[1;32m    226\u001b[0m \u001b[43m    \u001b[49m\u001b[43mconv1d_out\u001b[49m\u001b[43m,\u001b[49m\u001b[43m \u001b[49m\u001b[43mdelta\u001b[49m\u001b[43m,\u001b[49m\u001b[43m \u001b[49m\u001b[43mA\u001b[49m\u001b[43m,\u001b[49m\u001b[43m \u001b[49m\u001b[43mB\u001b[49m\u001b[43m,\u001b[49m\u001b[43m \u001b[49m\u001b[43mC\u001b[49m\u001b[43m,\u001b[49m\u001b[43m \u001b[49m\u001b[43mD\u001b[49m\u001b[43m,\u001b[49m\u001b[43m \u001b[49m\u001b[43mz\u001b[49m\u001b[43m,\u001b[49m\u001b[43m \u001b[49m\u001b[43mdelta_bias\u001b[49m\u001b[43m,\u001b[49m\u001b[43m \u001b[49m\u001b[43mdelta_softplus\u001b[49m\n\u001b[1;32m    227\u001b[0m \u001b[43m\u001b[49m\u001b[43m)\u001b[49m\n\u001b[1;32m    228\u001b[0m ctx\u001b[38;5;241m.\u001b[39mdelta_softplus \u001b[38;5;241m=\u001b[39m delta_softplus\n\u001b[1;32m    229\u001b[0m ctx\u001b[38;5;241m.\u001b[39mout_proj_bias_is_None \u001b[38;5;241m=\u001b[39m out_proj_bias \u001b[38;5;129;01mis\u001b[39;00m \u001b[38;5;28;01mNone\u001b[39;00m\n",
      "\u001b[0;31mOutOfMemoryError\u001b[0m: CUDA out of memory. Tried to allocate 8.00 GiB. GPU 0 has a total capacty of 79.11 GiB of which 6.27 GiB is free. Including non-PyTorch memory, this process has 72.83 GiB memory in use. Of the allocated memory 69.17 GiB is allocated by PyTorch, and 2.63 GiB is reserved by PyTorch but unallocated. If reserved but unallocated memory is large try setting max_split_size_mb to avoid fragmentation.  See documentation for Memory Management and PYTORCH_CUDA_ALLOC_CONF"
     ]
    }
   ],
   "source": [
    "#it's faster for sure, but still quite slow\n",
    "batch_size = 8\n",
    "for i in tqdm(range(0, total_num, batch_size)):\n",
    "    #get the batch\n",
    "    if i + batch_size > total_num:\n",
    "        batch_size = total_num - i\n",
    "    \n",
    "    full_seq = torch.zeros((batch_size, 6, 524288), dtype=torch.float32)\n",
    "    full_seq[:, 4, :] = 1 #by default set all to N\n",
    "    full_seq[:, :4, start:end] = full_seqs[i:i+batch_size] #assign seq\n",
    "    full_seq[:, 4, start:end] = 0 #Get rid of the N\n",
    "\n",
    "    full_acc = torch.zeros((batch_size, 2, 524288), dtype=torch.float32)\n",
    "    full_acc[:, 1, :] = 1 #by default set all to mask token and input no accessibility\n",
    "\n",
    "    #now let's input into the model\n",
    "    full_input = (full_seq, full_acc, None, None)\n",
    "    out = evals(data=full_input, embed=True)\n",
    "    embed = out[0][:,start:end,:].sum(1)\n",
    "    \n",
    "    #save the output\n",
    "    full_output[i:i+batch_size] = embed"
   ]
  },
  {
   "cell_type": "code",
   "execution_count": null,
   "metadata": {},
   "outputs": [],
   "source": [
    "#yeah can't do 8, can only do 4 and I guess we let it run for a bit? Idk why it's so slow dude...\n",
    "#just save it to script and let ir run for a while I guess. We'll use mean embedding for everything..."
   ]
  },
  {
   "cell_type": "markdown",
   "metadata": {},
   "source": [
    "# save it to a zarr so we can write to it in parallel"
   ]
  },
  {
   "cell_type": "code",
   "execution_count": 11,
   "metadata": {},
   "outputs": [],
   "source": [
    "import zarr\n",
    "\n",
    "#make an array\n",
    "total_num=393328\n",
    "zarr_path = \"/data1/lesliec/sarthak/data/joint_playground/koo_benchmark/embeddings_lentiMPRA_K562.zarr\"\n",
    "zarr_open = zarr.open(zarr_path, mode='w', shape=(total_num, 230, 256), chunks=(4, 230, 256), dtype='float32', zarr_format=2)"
   ]
  },
  {
   "cell_type": "code",
   "execution_count": 9,
   "metadata": {},
   "outputs": [
    {
     "data": {
      "text/plain": [
       "92.63661056"
      ]
     },
     "execution_count": 9,
     "metadata": {},
     "output_type": "execute_result"
    }
   ],
   "source": [
    "zarr_open.nbytes/1e9"
   ]
  },
  {
   "cell_type": "markdown",
   "metadata": {},
   "source": [
    "# now let's look at it"
   ]
  },
  {
   "cell_type": "code",
   "execution_count": 1,
   "metadata": {},
   "outputs": [
    {
     "data": {
      "text/plain": [
       "(393328, 230, 256)"
      ]
     },
     "execution_count": 1,
     "metadata": {},
     "output_type": "execute_result"
    }
   ],
   "source": [
    "#saved it let's open it\n",
    "import zarr\n",
    "zarr_path = \"/data1/lesliec/sarthak/data/joint_playground/koo_benchmark/embeddings_lentiMPRA_K562.zarr\"\n",
    "zarr_open = zarr.open(zarr_path, mode='r')\n",
    "zarr_open.shape"
   ]
  },
  {
   "cell_type": "code",
   "execution_count": 2,
   "metadata": {},
   "outputs": [
    {
     "data": {
      "text/plain": [
       "92.63661056"
      ]
     },
     "execution_count": 2,
     "metadata": {},
     "output_type": "execute_result"
    }
   ],
   "source": [
    "zarr_open.nbytes/1e9"
   ]
  },
  {
   "cell_type": "code",
   "execution_count": 6,
   "metadata": {},
   "outputs": [
    {
     "name": "stderr",
     "output_type": "stream",
     "text": [
      "  0%|          | 0/393328 [00:00<?, ?it/s]"
     ]
    },
    {
     "name": "stderr",
     "output_type": "stream",
     "text": [
      "100%|██████████| 393328/393328 [11:00<00:00, 595.24it/s]\n"
     ]
    }
   ],
   "source": [
    "import numpy as np\n",
    "from tqdm import tqdm\n",
    "total_num = zarr_open.shape[0]\n",
    "avg_embedding = np.zeros((total_num, 230), dtype=np.float32)\n",
    "for i in tqdm(range(total_num)):\n",
    "    avg_embedding[i] = zarr_open[i].mean(1)"
   ]
  },
  {
   "cell_type": "code",
   "execution_count": 7,
   "metadata": {},
   "outputs": [
    {
     "data": {
      "text/plain": [
       "3"
      ]
     },
     "execution_count": 7,
     "metadata": {},
     "output_type": "execute_result"
    }
   ],
   "source": [
    "3"
   ]
  },
  {
   "cell_type": "code",
   "execution_count": null,
   "metadata": {},
   "outputs": [
    {
     "data": {
      "text/plain": [
       "(393328, 230)"
      ]
     },
     "execution_count": 8,
     "metadata": {},
     "output_type": "execute_result"
    }
   ],
   "source": [
    "avg_embedding.shape\n",
    "#lmao we did the wrong mean!"
   ]
  },
  {
   "cell_type": "code",
   "execution_count": 2,
   "metadata": {},
   "outputs": [
    {
     "name": "stderr",
     "output_type": "stream",
     "text": [
      "100%|██████████| 98332/98332 [04:28<00:00, 366.82it/s]\n"
     ]
    }
   ],
   "source": [
    "#let's redo it\n",
    "import numpy as np\n",
    "from tqdm import tqdm\n",
    "total_num = zarr_open.shape[0]\n",
    "avg_embedding = np.zeros((total_num, 256), dtype=np.float32)\n",
    "\n",
    "chunk_size = 4\n",
    "\n",
    "for start in tqdm(range(0, total_num, chunk_size)):\n",
    "    end = min(start + chunk_size, total_num)\n",
    "    avg_embedding[start:end] = zarr_open[start:end].mean(1)"
   ]
  },
  {
   "cell_type": "code",
   "execution_count": 3,
   "metadata": {},
   "outputs": [
    {
     "name": "stdout",
     "output_type": "stream",
     "text": [
      "<KeysViewHDF5 ['x_test', 'x_train', 'x_valid', 'y_test', 'y_train', 'y_valid']>\n",
      "(78666,)\n"
     ]
    }
   ],
   "source": [
    "#now we can test it\n",
    "import h5py\n",
    "data_file = h5py.File('/data1/lesliec/sarthak/data/joint_playground/koo_benchmark/gLM_finetune_weights/data/Processed_lentiMPRA_K562.h5')\n",
    "print(data_file.keys())\n",
    "#ahh this is what we awnt!\n",
    "import numpy as np\n",
    "train_seq = data_file['x_train']\n",
    "y_train = data_file['y_train'][:]\n",
    "valid_seq = data_file['x_valid']\n",
    "y_valid = data_file['y_valid'][:]\n",
    "test_seq = data_file['x_test']\n",
    "y_test = np.squeeze(data_file['y_test'][:])\n",
    "\n",
    "train_size = train_seq.shape[0]\n",
    "valid_size = valid_seq.shape[0]\n",
    "test_size = test_seq.shape[0]\n",
    "# mean_embed = avg_embedding[:train_size+valid_size+test_size]\n",
    "print(y_test.shape)\n",
    "\n",
    "\n",
    "# cls_model = LinearRegression().fit(cls_embed[:train_size], y_train)\n",
    "# lr_cls.append(scipy.stats.pearsonr(np.squeeze(cls_model.predict(cls_embed[train_size+valid_size:])), y_test)[0])\n",
    "# embed_model = LinearRegression().fit(mean_embed[:train_size],y_train)\n",
    "# lr_embed.append(scipy.stats.pearsonr(np.squeeze(embed_model.predict(mean_embed[train_size+valid_size:])),y_test)[0])"
   ]
  },
  {
   "cell_type": "code",
   "execution_count": null,
   "metadata": {},
   "outputs": [],
   "source": [
    "# mean_embed = zarr_open[:].mean(axis=1)\n",
    "# mean_embed.shape"
   ]
  },
  {
   "cell_type": "code",
   "execution_count": 4,
   "metadata": {},
   "outputs": [
    {
     "name": "stderr",
     "output_type": "stream",
     "text": [
      "/data1/lesliec/sarthak/caduceus/.pixi/envs/default/lib/python3.11/site-packages/sklearn/linear_model/_ridge.py:215: LinAlgWarning: Ill-conditioned matrix (rcond=3.26482e-09): result may not be accurate.\n",
      "  return linalg.solve(A, Xy, assume_a=\"pos\", overwrite_a=True).T\n"
     ]
    }
   ],
   "source": [
    "from sklearn.linear_model import Ridge\n",
    "import scipy.stats\n",
    "mean_embed = avg_embedding[:train_size+valid_size+test_size]\n",
    "embed_model = Ridge(0.001).fit(mean_embed[:train_size],y_train)\n",
    "out = scipy.stats.pearsonr(np.squeeze(embed_model.predict(mean_embed[train_size+valid_size:])),y_test)[0]\n",
    "\n"
   ]
  },
  {
   "cell_type": "code",
   "execution_count": 6,
   "metadata": {},
   "outputs": [
    {
     "data": {
      "text/plain": [
       "(78666, 256)"
      ]
     },
     "execution_count": 6,
     "metadata": {},
     "output_type": "execute_result"
    }
   ],
   "source": [
    "mean_embed[train_size+valid_size:].shape"
   ]
  },
  {
   "cell_type": "code",
   "execution_count": 7,
   "metadata": {},
   "outputs": [
    {
     "data": {
      "text/plain": [
       "(78666,)"
      ]
     },
     "execution_count": 7,
     "metadata": {},
     "output_type": "execute_result"
    }
   ],
   "source": [
    "y_test.shape"
   ]
  },
  {
   "cell_type": "code",
   "execution_count": 8,
   "metadata": {},
   "outputs": [
    {
     "data": {
      "text/plain": [
       "(78666,)"
      ]
     },
     "execution_count": 8,
     "metadata": {},
     "output_type": "execute_result"
    }
   ],
   "source": [
    "embed_model.predict(mean_embed[train_size+valid_size:]).shape"
   ]
  },
  {
   "cell_type": "code",
   "execution_count": 5,
   "metadata": {},
   "outputs": [
    {
     "name": "stdout",
     "output_type": "stream",
     "text": [
      "0.5149897410210402\n"
     ]
    }
   ],
   "source": [
    "print(out)"
   ]
  },
  {
   "cell_type": "code",
   "execution_count": null,
   "metadata": {},
   "outputs": [
    {
     "data": {
      "text/html": [
       "<div>\n",
       "<style scoped>\n",
       "    .dataframe tbody tr th:only-of-type {\n",
       "        vertical-align: middle;\n",
       "    }\n",
       "\n",
       "    .dataframe tbody tr th {\n",
       "        vertical-align: top;\n",
       "    }\n",
       "\n",
       "    .dataframe thead th {\n",
       "        text-align: right;\n",
       "    }\n",
       "</style>\n",
       "<table border=\"1\" class=\"dataframe\">\n",
       "  <thead>\n",
       "    <tr style=\"text-align: right;\">\n",
       "      <th></th>\n",
       "      <th>LLM</th>\n",
       "      <th>Model</th>\n",
       "      <th>Performance</th>\n",
       "      <th>Cell Type</th>\n",
       "    </tr>\n",
       "  </thead>\n",
       "  <tbody>\n",
       "    <tr>\n",
       "      <th>1</th>\n",
       "      <td>hyena</td>\n",
       "      <td>Mean-embed-Ridge</td>\n",
       "      <td>0.379827</td>\n",
       "      <td>K562</td>\n",
       "    </tr>\n",
       "    <tr>\n",
       "      <th>3</th>\n",
       "      <td>gpn</td>\n",
       "      <td>Mean-embed-Ridge</td>\n",
       "      <td>0.453951</td>\n",
       "      <td>K562</td>\n",
       "    </tr>\n",
       "    <tr>\n",
       "      <th>6</th>\n",
       "      <td>dnabert</td>\n",
       "      <td>Mean-embed-Ridge</td>\n",
       "      <td>0.422725</td>\n",
       "      <td>K562</td>\n",
       "    </tr>\n",
       "    <tr>\n",
       "      <th>10</th>\n",
       "      <td>randbert</td>\n",
       "      <td>Mean-embed-Ridge</td>\n",
       "      <td>0.345997</td>\n",
       "      <td>K562</td>\n",
       "    </tr>\n",
       "  </tbody>\n",
       "</table>\n",
       "</div>"
      ],
      "text/plain": [
       "         LLM             Model  Performance Cell Type\n",
       "1      hyena  Mean-embed-Ridge     0.379827      K562\n",
       "3        gpn  Mean-embed-Ridge     0.453951      K562\n",
       "6    dnabert  Mean-embed-Ridge     0.422725      K562\n",
       "10  randbert  Mean-embed-Ridge     0.345997      K562"
      ]
     },
     "execution_count": 4,
     "metadata": {},
     "output_type": "execute_result"
    }
   ],
   "source": [
    "#let's plot it via bar plot\n",
    "import matplotlib.pyplot as plt\n",
    "import pandas as pd\n",
    "other_results = pd.read_csv('/data1/lesliec/sarthak/data/joint_playground/koo_benchmark/LLM_regression.csv')\n",
    "other_results = other_results[other_results['Model'] == 'Mean-embed-Ridge']\n",
    "other_results = other_results[other_results['Cell Type'] == 'K562']\n",
    "other_results"
   ]
  },
  {
   "cell_type": "code",
   "execution_count": 6,
   "metadata": {},
   "outputs": [
    {
     "data": {
      "text/html": [
       "<div>\n",
       "<style scoped>\n",
       "    .dataframe tbody tr th:only-of-type {\n",
       "        vertical-align: middle;\n",
       "    }\n",
       "\n",
       "    .dataframe tbody tr th {\n",
       "        vertical-align: top;\n",
       "    }\n",
       "\n",
       "    .dataframe thead th {\n",
       "        text-align: right;\n",
       "    }\n",
       "</style>\n",
       "<table border=\"1\" class=\"dataframe\">\n",
       "  <thead>\n",
       "    <tr style=\"text-align: right;\">\n",
       "      <th></th>\n",
       "      <th>LLM</th>\n",
       "      <th>Model</th>\n",
       "      <th>Performance</th>\n",
       "      <th>Cell Type</th>\n",
       "    </tr>\n",
       "  </thead>\n",
       "  <tbody>\n",
       "    <tr>\n",
       "      <th>0</th>\n",
       "      <td>hyena</td>\n",
       "      <td>Mean-embed-Ridge</td>\n",
       "      <td>0.379827</td>\n",
       "      <td>K562</td>\n",
       "    </tr>\n",
       "    <tr>\n",
       "      <th>1</th>\n",
       "      <td>gpn</td>\n",
       "      <td>Mean-embed-Ridge</td>\n",
       "      <td>0.453951</td>\n",
       "      <td>K562</td>\n",
       "    </tr>\n",
       "    <tr>\n",
       "      <th>2</th>\n",
       "      <td>dnabert</td>\n",
       "      <td>Mean-embed-Ridge</td>\n",
       "      <td>0.422725</td>\n",
       "      <td>K562</td>\n",
       "    </tr>\n",
       "    <tr>\n",
       "      <th>3</th>\n",
       "      <td>randbert</td>\n",
       "      <td>Mean-embed-Ridge</td>\n",
       "      <td>0.345997</td>\n",
       "      <td>K562</td>\n",
       "    </tr>\n",
       "    <tr>\n",
       "      <th>4</th>\n",
       "      <td>joint</td>\n",
       "      <td>Mean-embed-Ridge</td>\n",
       "      <td>0.514990</td>\n",
       "      <td>K562</td>\n",
       "    </tr>\n",
       "  </tbody>\n",
       "</table>\n",
       "</div>"
      ],
      "text/plain": [
       "        LLM             Model  Performance Cell Type\n",
       "0     hyena  Mean-embed-Ridge     0.379827      K562\n",
       "1       gpn  Mean-embed-Ridge     0.453951      K562\n",
       "2   dnabert  Mean-embed-Ridge     0.422725      K562\n",
       "3  randbert  Mean-embed-Ridge     0.345997      K562\n",
       "4     joint  Mean-embed-Ridge     0.514990      K562"
      ]
     },
     "execution_count": 6,
     "metadata": {},
     "output_type": "execute_result"
    }
   ],
   "source": [
    "#let's add a row at the bottom of the df\n",
    "out = 0.5149897410210402\n",
    "new_row = pd.DataFrame({'Model': ['Mean-embed-Ridge'], 'Cell Type': ['K562'], 'Performance': [out], 'LLM': ['joint']})\n",
    "other_results = pd.concat([other_results, new_row], ignore_index=True)\n",
    "other_results"
   ]
  },
  {
   "cell_type": "code",
   "execution_count": null,
   "metadata": {},
   "outputs": [],
   "source": [
    "#will do bar plot after MLP"
   ]
  },
  {
   "cell_type": "code",
   "execution_count": null,
   "metadata": {},
   "outputs": [],
   "source": [
    "#our value is definitely higher! like substantially higher!\n",
    "#seems that even without accessibility input, this learns a lot more about even general sequence features!!"
   ]
  },
  {
   "cell_type": "code",
   "execution_count": 9,
   "metadata": {},
   "outputs": [
    {
     "data": {
      "text/plain": [
       "(147510, 230, 4)"
      ]
     },
     "execution_count": 9,
     "metadata": {},
     "output_type": "execute_result"
    }
   ],
   "source": [
    "#let's see if the other data file is similar\n",
    "data_file.close()\n",
    "data_file = h5py.File('/data1/lesliec/sarthak/data/joint_playground/koo_benchmark/gLM_finetune_weights/data/Processed_lentiMPRA_HepG2.h5')\n",
    "x_train2 = data_file['x_train']\n",
    "x_train2.shape"
   ]
  },
  {
   "cell_type": "markdown",
   "metadata": {},
   "source": [
    "# redo analysis with MLP"
   ]
  },
  {
   "cell_type": "code",
   "execution_count": 1,
   "metadata": {},
   "outputs": [
    {
     "name": "stderr",
     "output_type": "stream",
     "text": [
      "100%|██████████| 98332/98332 [03:07<00:00, 524.90it/s]\n"
     ]
    }
   ],
   "source": [
    "#different dataset and number of sequences, but already super promising!!\n",
    "\n",
    "#saved it let's open it\n",
    "import zarr\n",
    "import numpy as np\n",
    "from tqdm import tqdm\n",
    "\n",
    "zarr_path = \"/data1/lesliec/sarthak/data/joint_playground/koo_benchmark/embeddings_lentiMPRA_K562.zarr\"\n",
    "zarr_open = zarr.open(zarr_path, mode='r')\n",
    "total_num = zarr_open.shape[0]\n",
    "avg_embedding = np.zeros((total_num, 256), dtype=np.float32)\n",
    "\n",
    "chunk_size = 4\n",
    "\n",
    "for start in tqdm(range(0, total_num, chunk_size)):\n",
    "    end = min(start + chunk_size, total_num)\n",
    "    avg_embedding[start:end] = zarr_open[start:end].mean(1)"
   ]
  },
  {
   "cell_type": "code",
   "execution_count": 2,
   "metadata": {},
   "outputs": [
    {
     "name": "stdout",
     "output_type": "stream",
     "text": [
      "<KeysViewHDF5 ['x_test', 'x_train', 'x_valid', 'y_test', 'y_train', 'y_valid']>\n",
      "(78666,)\n"
     ]
    }
   ],
   "source": [
    "import h5py\n",
    "data_file = h5py.File('/data1/lesliec/sarthak/data/joint_playground/koo_benchmark/gLM_finetune_weights/data/Processed_lentiMPRA_K562.h5')\n",
    "print(data_file.keys())\n",
    "#ahh this is what we awnt!\n",
    "import numpy as np\n",
    "train_seq = data_file['x_train']\n",
    "y_train = data_file['y_train'][:]\n",
    "valid_seq = data_file['x_valid']\n",
    "y_valid = data_file['y_valid'][:]\n",
    "test_seq = data_file['x_test']\n",
    "y_test = np.squeeze(data_file['y_test'][:])\n",
    "\n",
    "train_size = train_seq.shape[0]\n",
    "valid_size = valid_seq.shape[0]\n",
    "test_size = test_seq.shape[0]\n",
    "# mean_embed = avg_embedding[:train_size+valid_size+test_size]\n",
    "print(y_test.shape)"
   ]
  },
  {
   "cell_type": "code",
   "execution_count": 16,
   "metadata": {},
   "outputs": [],
   "source": [
    "#let's isntead do the different models!\n",
    "\n",
    "#start with MLP\n",
    "import torch\n",
    "import torch.nn as nn\n",
    "\n",
    "class RepMLP(nn.Module):\n",
    "    def __init__(self, input_shape, output_shape=1, factor=1):\n",
    "        super().__init__()\n",
    "        # figure out flattened input size\n",
    "        if isinstance(input_shape, int):\n",
    "            in_features = input_shape\n",
    "        else:\n",
    "            # e.g. (230, 256) or (230,)\n",
    "            in_features = 1\n",
    "            for d in input_shape:\n",
    "                in_features *= d\n",
    "\n",
    "        hidden1 = int(512 * factor)\n",
    "        hidden2 = int(256 * factor)\n",
    "\n",
    "        self.flatten = nn.Flatten()\n",
    "        self.net = nn.Sequential(\n",
    "            nn.Linear(in_features, hidden1),\n",
    "            nn.BatchNorm1d(hidden1),\n",
    "            nn.ReLU(inplace=True),\n",
    "            nn.Dropout(0.5),\n",
    "\n",
    "            nn.Linear(hidden1, hidden2),\n",
    "            nn.BatchNorm1d(hidden2),\n",
    "            nn.ReLU(inplace=True),\n",
    "            nn.Dropout(0.5),\n",
    "\n",
    "            nn.Linear(hidden2, output_shape)\n",
    "        )\n",
    "\n",
    "    def forward(self, x):\n",
    "        x = self.flatten(x)\n",
    "        return self.net(x)\n",
    "    \n",
    "\n",
    "#now let's train!\n",
    "\n"
   ]
  },
  {
   "cell_type": "code",
   "execution_count": 18,
   "metadata": {},
   "outputs": [
    {
     "data": {
      "text/plain": [
       "(235996,)"
      ]
     },
     "execution_count": 18,
     "metadata": {},
     "output_type": "execute_result"
    }
   ],
   "source": [
    "y_train.shape"
   ]
  },
  {
   "cell_type": "code",
   "execution_count": 22,
   "metadata": {},
   "outputs": [
    {
     "name": "stdout",
     "output_type": "stream",
     "text": [
      "\n",
      "=== factor=0.5 ===\n",
      "Epoch   1  train_loss=0.6706  val_loss=0.2754\n",
      "Epoch   2  train_loss=0.5989  val_loss=0.2746\n",
      "Epoch   3  train_loss=0.5726  val_loss=0.2777\n",
      "Epoch   4  train_loss=0.5482  val_loss=0.2841\n",
      "Epoch   5  train_loss=0.5223  val_loss=0.2900\n",
      "Epoch   6  train_loss=0.5015  val_loss=0.2923\n",
      "Epoch   7  train_loss=0.4844  val_loss=0.2904\n",
      "Epoch 00008: reducing learning rate of group 0 to 2.0000e-05.\n",
      "Epoch   8  train_loss=0.4679  val_loss=0.2863\n",
      "Epoch   9  train_loss=0.4576  val_loss=0.2821\n",
      "Epoch  10  train_loss=0.4553  val_loss=0.2784\n",
      "Epoch  11  train_loss=0.4520  val_loss=0.2748\n",
      "Epoch  12  train_loss=0.4513  val_loss=0.2715\n",
      "Epoch  13  train_loss=0.4482  val_loss=0.2680\n",
      "Epoch  14  train_loss=0.4422  val_loss=0.2647\n",
      "Epoch  15  train_loss=0.4433  val_loss=0.2613\n",
      "Epoch  16  train_loss=0.4400  val_loss=0.2582\n",
      "Epoch  17  train_loss=0.4386  val_loss=0.2552\n",
      "Epoch  18  train_loss=0.4359  val_loss=0.2525\n",
      "Epoch  19  train_loss=0.4351  val_loss=0.2501\n",
      "Epoch  20  train_loss=0.4314  val_loss=0.2479\n",
      "Epoch  21  train_loss=0.4284  val_loss=0.2461\n",
      "Epoch  22  train_loss=0.4290  val_loss=0.2447\n",
      "Epoch  23  train_loss=0.4248  val_loss=0.2436\n",
      "Epoch  24  train_loss=0.4233  val_loss=0.2426\n",
      "Epoch  25  train_loss=0.4217  val_loss=0.2418\n",
      "Epoch  26  train_loss=0.4181  val_loss=0.2410\n",
      "Epoch  27  train_loss=0.4181  val_loss=0.2404\n",
      "Epoch  28  train_loss=0.4143  val_loss=0.2399\n",
      "Epoch  29  train_loss=0.4136  val_loss=0.2394\n",
      "Epoch  30  train_loss=0.4101  val_loss=0.2389\n",
      "Epoch  31  train_loss=0.4108  val_loss=0.2385\n",
      "Epoch  32  train_loss=0.4092  val_loss=0.2381\n",
      "Epoch  33  train_loss=0.4049  val_loss=0.2378\n",
      "Epoch  34  train_loss=0.4044  val_loss=0.2374\n",
      "Epoch  35  train_loss=0.4041  val_loss=0.2371\n",
      "Epoch  36  train_loss=0.4005  val_loss=0.2367\n",
      "Epoch  37  train_loss=0.3975  val_loss=0.2364\n",
      "Epoch  38  train_loss=0.3972  val_loss=0.2362\n",
      "Epoch  39  train_loss=0.3948  val_loss=0.2359\n",
      "Epoch  40  train_loss=0.3934  val_loss=0.2357\n",
      "Epoch  41  train_loss=0.3933  val_loss=0.2354\n",
      "Epoch  42  train_loss=0.3912  val_loss=0.2352\n",
      "Epoch  43  train_loss=0.3889  val_loss=0.2348\n",
      "Epoch  44  train_loss=0.3887  val_loss=0.2345\n",
      "Epoch  45  train_loss=0.3880  val_loss=0.2343\n",
      "Epoch  46  train_loss=0.3846  val_loss=0.2341\n",
      "Epoch  47  train_loss=0.3834  val_loss=0.2339\n",
      "Epoch  48  train_loss=0.3809  val_loss=0.2336\n",
      "Epoch  49  train_loss=0.3796  val_loss=0.2334\n",
      "Epoch  50  train_loss=0.3792  val_loss=0.2333\n",
      "Epoch  51  train_loss=0.3775  val_loss=0.2331\n",
      "Epoch  52  train_loss=0.3765  val_loss=0.2329\n",
      "Epoch  53  train_loss=0.3748  val_loss=0.2327\n",
      "Epoch  54  train_loss=0.3740  val_loss=0.2325\n",
      "Epoch  55  train_loss=0.3713  val_loss=0.2323\n",
      "Epoch  56  train_loss=0.3701  val_loss=0.2322\n",
      "Epoch  57  train_loss=0.3711  val_loss=0.2319\n",
      "Epoch  58  train_loss=0.3682  val_loss=0.2317\n",
      "Epoch  59  train_loss=0.3670  val_loss=0.2316\n",
      "Epoch  60  train_loss=0.3646  val_loss=0.2314\n",
      "Epoch  61  train_loss=0.3639  val_loss=0.2312\n",
      "Epoch  62  train_loss=0.3625  val_loss=0.2310\n",
      "Epoch  63  train_loss=0.3627  val_loss=0.2309\n",
      "Epoch  64  train_loss=0.3604  val_loss=0.2307\n",
      "Epoch  65  train_loss=0.3586  val_loss=0.2305\n",
      "Epoch  66  train_loss=0.3587  val_loss=0.2304\n",
      "Epoch  67  train_loss=0.3587  val_loss=0.2302\n",
      "Epoch  68  train_loss=0.3569  val_loss=0.2301\n",
      "Epoch  69  train_loss=0.3547  val_loss=0.2299\n",
      "Epoch  70  train_loss=0.3532  val_loss=0.2298\n",
      "Epoch  71  train_loss=0.3541  val_loss=0.2296\n",
      "Epoch  72  train_loss=0.3522  val_loss=0.2295\n",
      "Epoch  73  train_loss=0.3502  val_loss=0.2293\n",
      "Epoch  74  train_loss=0.3496  val_loss=0.2292\n",
      "Epoch  75  train_loss=0.3481  val_loss=0.2291\n",
      "Epoch  76  train_loss=0.3473  val_loss=0.2289\n",
      "Epoch  77  train_loss=0.3459  val_loss=0.2288\n",
      "Epoch  78  train_loss=0.3455  val_loss=0.2286\n",
      "Epoch  79  train_loss=0.3448  val_loss=0.2285\n",
      "Epoch  80  train_loss=0.3426  val_loss=0.2283\n",
      "Epoch  81  train_loss=0.3429  val_loss=0.2282\n",
      "Epoch  82  train_loss=0.3412  val_loss=0.2280\n",
      "Epoch  83  train_loss=0.3404  val_loss=0.2279\n",
      "Epoch  84  train_loss=0.3396  val_loss=0.2278\n",
      "Epoch  85  train_loss=0.3383  val_loss=0.2278\n",
      "Epoch  86  train_loss=0.3363  val_loss=0.2276\n",
      "Epoch  87  train_loss=0.3352  val_loss=0.2275\n",
      "Epoch  88  train_loss=0.3345  val_loss=0.2273\n",
      "Epoch  89  train_loss=0.3341  val_loss=0.2272\n",
      "Epoch  90  train_loss=0.3337  val_loss=0.2271\n",
      "Epoch  91  train_loss=0.3325  val_loss=0.2270\n",
      "Epoch  92  train_loss=0.3321  val_loss=0.2269\n",
      "Epoch  93  train_loss=0.3290  val_loss=0.2268\n",
      "Epoch  94  train_loss=0.3305  val_loss=0.2266\n",
      "Epoch  95  train_loss=0.3290  val_loss=0.2265\n",
      "Epoch  96  train_loss=0.3287  val_loss=0.2264\n",
      "Epoch  97  train_loss=0.3267  val_loss=0.2262\n",
      "Epoch  98  train_loss=0.3249  val_loss=0.2261\n",
      "Epoch  99  train_loss=0.3262  val_loss=0.2260\n",
      "Epoch 100  train_loss=0.3250  val_loss=0.2259\n",
      "Pearson r on test: 0.4297\n",
      "\n",
      "=== factor=1 ===\n",
      "Epoch   1  train_loss=0.6578  val_loss=0.3055\n",
      "Epoch   2  train_loss=0.5872  val_loss=0.3338\n",
      "Epoch   3  train_loss=0.5368  val_loss=0.3717\n",
      "Epoch   4  train_loss=0.4952  val_loss=0.3986\n",
      "Epoch   5  train_loss=0.4627  val_loss=0.4040\n",
      "Epoch   6  train_loss=0.4367  val_loss=0.3906\n",
      "Epoch 00007: reducing learning rate of group 0 to 2.0000e-05.\n",
      "Epoch   7  train_loss=0.4181  val_loss=0.3658\n",
      "Epoch   8  train_loss=0.4076  val_loss=0.3434\n",
      "Epoch   9  train_loss=0.4061  val_loss=0.3260\n",
      "Epoch  10  train_loss=0.4035  val_loss=0.3118\n",
      "Epoch  11  train_loss=0.4006  val_loss=0.3004\n",
      "Epoch  12  train_loss=0.3994  val_loss=0.2909\n",
      "Epoch  13  train_loss=0.3969  val_loss=0.2825\n",
      "Epoch  14  train_loss=0.3933  val_loss=0.2745\n",
      "Epoch  15  train_loss=0.3919  val_loss=0.2668\n",
      "Epoch  16  train_loss=0.3892  val_loss=0.2599\n",
      "Epoch  17  train_loss=0.3885  val_loss=0.2544\n",
      "Epoch  18  train_loss=0.3860  val_loss=0.2503\n",
      "Epoch  19  train_loss=0.3830  val_loss=0.2474\n",
      "Epoch  20  train_loss=0.3835  val_loss=0.2455\n",
      "Epoch  21  train_loss=0.3822  val_loss=0.2440\n",
      "Epoch  22  train_loss=0.3805  val_loss=0.2427\n",
      "Epoch  23  train_loss=0.3790  val_loss=0.2419\n",
      "Epoch  24  train_loss=0.3768  val_loss=0.2416\n",
      "Epoch  25  train_loss=0.3754  val_loss=0.2410\n",
      "Epoch  26  train_loss=0.3736  val_loss=0.2404\n",
      "Epoch  27  train_loss=0.3710  val_loss=0.2400\n",
      "Epoch  28  train_loss=0.3695  val_loss=0.2394\n",
      "Epoch  29  train_loss=0.3691  val_loss=0.2387\n",
      "Epoch  30  train_loss=0.3683  val_loss=0.2379\n",
      "Epoch  31  train_loss=0.3668  val_loss=0.2375\n",
      "Epoch  32  train_loss=0.3655  val_loss=0.2374\n",
      "Epoch  33  train_loss=0.3616  val_loss=0.2373\n",
      "Epoch  34  train_loss=0.3616  val_loss=0.2372\n",
      "Epoch  35  train_loss=0.3627  val_loss=0.2369\n",
      "Epoch  36  train_loss=0.3570  val_loss=0.2364\n",
      "Epoch  37  train_loss=0.3577  val_loss=0.2359\n",
      "Epoch  38  train_loss=0.3591  val_loss=0.2354\n",
      "Epoch  39  train_loss=0.3568  val_loss=0.2351\n",
      "Epoch  40  train_loss=0.3555  val_loss=0.2347\n",
      "Epoch  41  train_loss=0.3520  val_loss=0.2343\n",
      "Epoch  42  train_loss=0.3521  val_loss=0.2340\n",
      "Epoch  43  train_loss=0.3508  val_loss=0.2336\n",
      "Epoch  44  train_loss=0.3479  val_loss=0.2332\n",
      "Epoch  45  train_loss=0.3479  val_loss=0.2329\n",
      "Epoch  46  train_loss=0.3474  val_loss=0.2326\n",
      "Epoch  47  train_loss=0.3459  val_loss=0.2324\n",
      "Epoch  48  train_loss=0.3446  val_loss=0.2322\n",
      "Epoch  49  train_loss=0.3416  val_loss=0.2321\n",
      "Epoch  50  train_loss=0.3431  val_loss=0.2318\n",
      "Epoch  51  train_loss=0.3397  val_loss=0.2315\n",
      "Epoch  52  train_loss=0.3392  val_loss=0.2311\n",
      "Epoch  53  train_loss=0.3377  val_loss=0.2306\n",
      "Epoch  54  train_loss=0.3374  val_loss=0.2303\n",
      "Epoch  55  train_loss=0.3370  val_loss=0.2302\n",
      "Epoch  56  train_loss=0.3348  val_loss=0.2302\n",
      "Epoch  57  train_loss=0.3346  val_loss=0.2301\n",
      "Epoch  58  train_loss=0.3333  val_loss=0.2299\n",
      "Epoch  59  train_loss=0.3315  val_loss=0.2294\n",
      "Epoch  60  train_loss=0.3329  val_loss=0.2290\n",
      "Epoch  61  train_loss=0.3300  val_loss=0.2288\n",
      "Epoch  62  train_loss=0.3285  val_loss=0.2287\n",
      "Epoch  63  train_loss=0.3276  val_loss=0.2284\n",
      "Epoch  64  train_loss=0.3268  val_loss=0.2281\n",
      "Epoch  65  train_loss=0.3253  val_loss=0.2279\n",
      "Epoch  66  train_loss=0.3247  val_loss=0.2277\n",
      "Epoch  67  train_loss=0.3255  val_loss=0.2274\n",
      "Epoch  68  train_loss=0.3224  val_loss=0.2271\n",
      "Epoch  69  train_loss=0.3229  val_loss=0.2269\n",
      "Epoch  70  train_loss=0.3223  val_loss=0.2267\n",
      "Epoch  71  train_loss=0.3206  val_loss=0.2265\n",
      "Epoch  72  train_loss=0.3213  val_loss=0.2263\n",
      "Epoch  73  train_loss=0.3179  val_loss=0.2261\n",
      "Epoch  74  train_loss=0.3180  val_loss=0.2259\n",
      "Epoch  75  train_loss=0.3180  val_loss=0.2256\n",
      "Epoch  76  train_loss=0.3162  val_loss=0.2254\n",
      "Epoch  77  train_loss=0.3157  val_loss=0.2251\n",
      "Epoch  78  train_loss=0.3154  val_loss=0.2248\n",
      "Epoch  79  train_loss=0.3129  val_loss=0.2245\n",
      "Epoch  80  train_loss=0.3130  val_loss=0.2243\n",
      "Epoch  81  train_loss=0.3116  val_loss=0.2242\n",
      "Epoch  82  train_loss=0.3100  val_loss=0.2241\n",
      "Epoch  83  train_loss=0.3107  val_loss=0.2239\n",
      "Epoch  84  train_loss=0.3107  val_loss=0.2236\n",
      "Epoch  85  train_loss=0.3084  val_loss=0.2233\n",
      "Epoch  86  train_loss=0.3098  val_loss=0.2231\n",
      "Epoch  87  train_loss=0.3066  val_loss=0.2228\n",
      "Epoch  88  train_loss=0.3065  val_loss=0.2226\n",
      "Epoch  89  train_loss=0.3065  val_loss=0.2224\n",
      "Epoch  90  train_loss=0.3053  val_loss=0.2222\n",
      "Epoch  91  train_loss=0.3056  val_loss=0.2220\n",
      "Epoch  92  train_loss=0.3031  val_loss=0.2219\n",
      "Epoch  93  train_loss=0.3026  val_loss=0.2217\n",
      "Epoch  94  train_loss=0.3024  val_loss=0.2216\n",
      "Epoch  95  train_loss=0.3012  val_loss=0.2213\n",
      "Epoch  96  train_loss=0.3011  val_loss=0.2211\n",
      "Epoch  97  train_loss=0.3000  val_loss=0.2208\n",
      "Epoch  98  train_loss=0.2997  val_loss=0.2206\n",
      "Epoch  99  train_loss=0.2998  val_loss=0.2204\n",
      "Epoch 100  train_loss=0.2987  val_loss=0.2202\n",
      "Pearson r on test: 0.4578\n",
      "\n",
      "=== factor=2 ===\n",
      "Epoch   1  train_loss=0.5554  val_loss=0.2764\n",
      "Epoch   2  train_loss=0.4920  val_loss=0.2797\n",
      "Epoch   3  train_loss=0.4649  val_loss=0.2830\n",
      "Epoch   4  train_loss=0.4430  val_loss=0.2976\n",
      "Epoch   5  train_loss=0.4238  val_loss=0.3172\n",
      "Epoch   6  train_loss=0.4088  val_loss=0.3316\n",
      "Epoch 00007: reducing learning rate of group 0 to 2.0000e-05.\n",
      "Epoch   7  train_loss=0.3933  val_loss=0.3454\n",
      "Epoch   8  train_loss=0.3850  val_loss=0.3501\n",
      "Epoch   9  train_loss=0.3846  val_loss=0.3472\n",
      "Epoch  10  train_loss=0.3809  val_loss=0.3391\n",
      "Epoch  11  train_loss=0.3796  val_loss=0.3278\n",
      "Stopping early at epoch 11\n",
      "Pearson r on test: 0.1946\n"
     ]
    }
   ],
   "source": [
    "import copy\n",
    "import numpy as np\n",
    "import torch\n",
    "import torch.nn as nn\n",
    "from torch.utils.data import TensorDataset, DataLoader\n",
    "from scipy.stats import pearsonr\n",
    "\n",
    "device = torch.device('cuda:2')\n",
    "\n",
    "# assume these are numpy arrays:\n",
    "# mean_train (N_train, D), y_train (N_train,), etc.\n",
    "# mean_valid, y_valid, mean_test, y_test\n",
    "\n",
    "perf_list = []\n",
    "batch_size = 65536\n",
    "max_epochs = 100\n",
    "early_stop_patience = 10\n",
    "dim = 256\n",
    "\n",
    "mean_train = avg_embedding[:train_size]\n",
    "mean_valid = avg_embedding[train_size:train_size+valid_size]\n",
    "mean_test = avg_embedding[train_size+valid_size:train_size+valid_size+test_size]\n",
    "\n",
    "for factor in [0.5, 1, 2]:\n",
    "    print(f\"\\n=== factor={factor} ===\")\n",
    "    model = RepMLP(input_shape=dim,\n",
    "                   factor=factor).to(device)\n",
    "\n",
    "    optimizer = torch.optim.Adam(model.parameters(), lr=1e-4)\n",
    "    criterion = nn.MSELoss()\n",
    "    scheduler = torch.optim.lr_scheduler.ReduceLROnPlateau(\n",
    "        optimizer, mode='min', factor=0.2, patience=5, min_lr=1e-8, verbose=True\n",
    "    )\n",
    "\n",
    "    # prepare data loaders\n",
    "    train_ds = TensorDataset(\n",
    "        torch.from_numpy(mean_train).float(),\n",
    "        torch.from_numpy(y_train).float()\n",
    "    )\n",
    "    valid_ds = TensorDataset(\n",
    "        torch.from_numpy(mean_valid).float(),\n",
    "        torch.from_numpy(y_valid).float()\n",
    "    )\n",
    "    train_loader = DataLoader(train_ds, batch_size=batch_size, shuffle=True)\n",
    "    valid_loader = DataLoader(valid_ds, batch_size=batch_size)\n",
    "\n",
    "    best_state = None\n",
    "    best_val_loss = float('inf')\n",
    "    epochs_no_improve = 0\n",
    "\n",
    "    for epoch in range(1, max_epochs+1):\n",
    "        # --- training ---\n",
    "        model.train()\n",
    "        running_loss = 0.0\n",
    "        for xb, yb in train_loader:\n",
    "            xb, yb = xb.to(device), yb.to(device)\n",
    "            optimizer.zero_grad()\n",
    "            preds = model(xb).squeeze()\n",
    "            loss = criterion(preds, yb)\n",
    "            loss.backward()\n",
    "            optimizer.step()\n",
    "            running_loss += loss.item() * xb.size(0)\n",
    "        train_loss = running_loss / len(train_loader.dataset)\n",
    "\n",
    "        # --- validation ---\n",
    "        model.eval()\n",
    "        val_loss = 0.0\n",
    "        with torch.no_grad():\n",
    "            for xb, yb in valid_loader:\n",
    "                xb, yb = xb.to(device), yb.to(device)\n",
    "                preds = model(xb).squeeze()\n",
    "                val_loss += criterion(preds, yb).item() * xb.size(0)\n",
    "        val_loss /= len(valid_loader.dataset)\n",
    "\n",
    "        scheduler.step(val_loss)\n",
    "\n",
    "        print(f\"Epoch {epoch:3d}  train_loss={train_loss:.4f}  val_loss={val_loss:.4f}\")\n",
    "\n",
    "        # early stopping check\n",
    "        if val_loss < best_val_loss:\n",
    "            best_val_loss = val_loss\n",
    "            best_state = copy.deepcopy(model.state_dict())\n",
    "            epochs_no_improve = 0\n",
    "        else:\n",
    "            epochs_no_improve += 1\n",
    "            if epochs_no_improve >= early_stop_patience:\n",
    "                print(f\"Stopping early at epoch {epoch}\")\n",
    "                break\n",
    "    \n",
    "    # load best state\n",
    "    # restore best model\n",
    "    model.load_state_dict(best_state)\n",
    "\n",
    "    # --- test predictions & Pearson r ---\n",
    "    model.eval()\n",
    "    xt = torch.from_numpy(mean_test).float().to(device)\n",
    "    with torch.no_grad():\n",
    "        y_pred = model(xt).cpu().numpy().squeeze()\n",
    "    r = pearsonr(y_pred, y_test)[0]\n",
    "    print(f\"Pearson r on test: {r:.4f}\")\n",
    "    \n"
   ]
  },
  {
   "cell_type": "markdown",
   "metadata": {},
   "source": [
    "# redoing the table and plots"
   ]
  },
  {
   "cell_type": "code",
   "execution_count": 2,
   "metadata": {},
   "outputs": [
    {
     "data": {
      "text/html": [
       "<div>\n",
       "<style scoped>\n",
       "    .dataframe tbody tr th:only-of-type {\n",
       "        vertical-align: middle;\n",
       "    }\n",
       "\n",
       "    .dataframe tbody tr th {\n",
       "        vertical-align: top;\n",
       "    }\n",
       "\n",
       "    .dataframe thead th {\n",
       "        text-align: right;\n",
       "    }\n",
       "</style>\n",
       "<table border=\"1\" class=\"dataframe\">\n",
       "  <thead>\n",
       "    <tr style=\"text-align: right;\">\n",
       "      <th></th>\n",
       "      <th>LLM</th>\n",
       "      <th>Model</th>\n",
       "      <th>Performance</th>\n",
       "      <th>Cell Type</th>\n",
       "    </tr>\n",
       "  </thead>\n",
       "  <tbody>\n",
       "    <tr>\n",
       "      <th>0</th>\n",
       "      <td>hyena</td>\n",
       "      <td>Mean-embed-Ridge</td>\n",
       "      <td>0.379827</td>\n",
       "      <td>K562</td>\n",
       "    </tr>\n",
       "    <tr>\n",
       "      <th>1</th>\n",
       "      <td>gpn</td>\n",
       "      <td>Mean-embed-Ridge</td>\n",
       "      <td>0.453951</td>\n",
       "      <td>K562</td>\n",
       "    </tr>\n",
       "    <tr>\n",
       "      <th>2</th>\n",
       "      <td>dnabert</td>\n",
       "      <td>Mean-embed-Ridge</td>\n",
       "      <td>0.422725</td>\n",
       "      <td>K562</td>\n",
       "    </tr>\n",
       "    <tr>\n",
       "      <th>3</th>\n",
       "      <td>dnabert</td>\n",
       "      <td>CLS-Ridge</td>\n",
       "      <td>0.377417</td>\n",
       "      <td>K562</td>\n",
       "    </tr>\n",
       "    <tr>\n",
       "      <th>4</th>\n",
       "      <td>randbert</td>\n",
       "      <td>Mean-embed-Ridge</td>\n",
       "      <td>0.345997</td>\n",
       "      <td>K562</td>\n",
       "    </tr>\n",
       "    <tr>\n",
       "      <th>5</th>\n",
       "      <td>randbert</td>\n",
       "      <td>CLS-Ridge</td>\n",
       "      <td>0.298684</td>\n",
       "      <td>K562</td>\n",
       "    </tr>\n",
       "    <tr>\n",
       "      <th>6</th>\n",
       "      <td>hyena</td>\n",
       "      <td>Mean-embed-MLP0.5</td>\n",
       "      <td>0.459357</td>\n",
       "      <td>K562</td>\n",
       "    </tr>\n",
       "    <tr>\n",
       "      <th>7</th>\n",
       "      <td>hyena</td>\n",
       "      <td>Mean-embed-MLP1</td>\n",
       "      <td>0.458520</td>\n",
       "      <td>K562</td>\n",
       "    </tr>\n",
       "    <tr>\n",
       "      <th>8</th>\n",
       "      <td>hyena</td>\n",
       "      <td>Mean-embed-MLP2</td>\n",
       "      <td>0.461516</td>\n",
       "      <td>K562</td>\n",
       "    </tr>\n",
       "    <tr>\n",
       "      <th>9</th>\n",
       "      <td>gpn</td>\n",
       "      <td>Mean-embed-MLP0.5</td>\n",
       "      <td>0.521315</td>\n",
       "      <td>K562</td>\n",
       "    </tr>\n",
       "    <tr>\n",
       "      <th>10</th>\n",
       "      <td>gpn</td>\n",
       "      <td>Mean-embed-MLP1</td>\n",
       "      <td>0.526365</td>\n",
       "      <td>K562</td>\n",
       "    </tr>\n",
       "    <tr>\n",
       "      <th>11</th>\n",
       "      <td>gpn</td>\n",
       "      <td>Mean-embed-MLP2</td>\n",
       "      <td>0.530288</td>\n",
       "      <td>K562</td>\n",
       "    </tr>\n",
       "    <tr>\n",
       "      <th>12</th>\n",
       "      <td>dnabert</td>\n",
       "      <td>Mean-embed-MLP0.5</td>\n",
       "      <td>0.498044</td>\n",
       "      <td>K562</td>\n",
       "    </tr>\n",
       "    <tr>\n",
       "      <th>13</th>\n",
       "      <td>dnabert</td>\n",
       "      <td>CLS-MLP0.5</td>\n",
       "      <td>0.458995</td>\n",
       "      <td>K562</td>\n",
       "    </tr>\n",
       "    <tr>\n",
       "      <th>14</th>\n",
       "      <td>dnabert</td>\n",
       "      <td>Mean-embed-MLP1</td>\n",
       "      <td>0.498018</td>\n",
       "      <td>K562</td>\n",
       "    </tr>\n",
       "    <tr>\n",
       "      <th>15</th>\n",
       "      <td>dnabert</td>\n",
       "      <td>CLS-MLP1</td>\n",
       "      <td>0.461529</td>\n",
       "      <td>K562</td>\n",
       "    </tr>\n",
       "    <tr>\n",
       "      <th>16</th>\n",
       "      <td>dnabert</td>\n",
       "      <td>Mean-embed-MLP2</td>\n",
       "      <td>0.497251</td>\n",
       "      <td>K562</td>\n",
       "    </tr>\n",
       "    <tr>\n",
       "      <th>17</th>\n",
       "      <td>dnabert</td>\n",
       "      <td>CLS-MLP2</td>\n",
       "      <td>0.461063</td>\n",
       "      <td>K562</td>\n",
       "    </tr>\n",
       "    <tr>\n",
       "      <th>18</th>\n",
       "      <td>randbert</td>\n",
       "      <td>Mean-embed-MLP0.5</td>\n",
       "      <td>0.417401</td>\n",
       "      <td>K562</td>\n",
       "    </tr>\n",
       "    <tr>\n",
       "      <th>19</th>\n",
       "      <td>randbert</td>\n",
       "      <td>CLS-MLP0.5</td>\n",
       "      <td>0.372417</td>\n",
       "      <td>K562</td>\n",
       "    </tr>\n",
       "    <tr>\n",
       "      <th>20</th>\n",
       "      <td>randbert</td>\n",
       "      <td>Mean-embed-MLP1</td>\n",
       "      <td>0.406271</td>\n",
       "      <td>K562</td>\n",
       "    </tr>\n",
       "    <tr>\n",
       "      <th>21</th>\n",
       "      <td>randbert</td>\n",
       "      <td>CLS-MLP1</td>\n",
       "      <td>0.374375</td>\n",
       "      <td>K562</td>\n",
       "    </tr>\n",
       "    <tr>\n",
       "      <th>22</th>\n",
       "      <td>randbert</td>\n",
       "      <td>Mean-embed-MLP2</td>\n",
       "      <td>0.411990</td>\n",
       "      <td>K562</td>\n",
       "    </tr>\n",
       "    <tr>\n",
       "      <th>23</th>\n",
       "      <td>randbert</td>\n",
       "      <td>CLS-MLP2</td>\n",
       "      <td>0.366239</td>\n",
       "      <td>K562</td>\n",
       "    </tr>\n",
       "    <tr>\n",
       "      <th>24</th>\n",
       "      <td>joint</td>\n",
       "      <td>Mean-embed-Ridge</td>\n",
       "      <td>0.514990</td>\n",
       "      <td>K562</td>\n",
       "    </tr>\n",
       "    <tr>\n",
       "      <th>25</th>\n",
       "      <td>joint</td>\n",
       "      <td>Mean-embed-MLP0.5</td>\n",
       "      <td>0.576333</td>\n",
       "      <td>K562</td>\n",
       "    </tr>\n",
       "    <tr>\n",
       "      <th>26</th>\n",
       "      <td>joint</td>\n",
       "      <td>Mean-embed-MLP1</td>\n",
       "      <td>0.576496</td>\n",
       "      <td>K562</td>\n",
       "    </tr>\n",
       "    <tr>\n",
       "      <th>27</th>\n",
       "      <td>joint</td>\n",
       "      <td>Mean-embed-MLP2</td>\n",
       "      <td>0.580848</td>\n",
       "      <td>K562</td>\n",
       "    </tr>\n",
       "  </tbody>\n",
       "</table>\n",
       "</div>"
      ],
      "text/plain": [
       "         LLM              Model  Performance Cell Type\n",
       "0      hyena   Mean-embed-Ridge     0.379827      K562\n",
       "1        gpn   Mean-embed-Ridge     0.453951      K562\n",
       "2    dnabert   Mean-embed-Ridge     0.422725      K562\n",
       "3    dnabert          CLS-Ridge     0.377417      K562\n",
       "4   randbert   Mean-embed-Ridge     0.345997      K562\n",
       "5   randbert          CLS-Ridge     0.298684      K562\n",
       "6      hyena  Mean-embed-MLP0.5     0.459357      K562\n",
       "7      hyena    Mean-embed-MLP1     0.458520      K562\n",
       "8      hyena    Mean-embed-MLP2     0.461516      K562\n",
       "9        gpn  Mean-embed-MLP0.5     0.521315      K562\n",
       "10       gpn    Mean-embed-MLP1     0.526365      K562\n",
       "11       gpn    Mean-embed-MLP2     0.530288      K562\n",
       "12   dnabert  Mean-embed-MLP0.5     0.498044      K562\n",
       "13   dnabert         CLS-MLP0.5     0.458995      K562\n",
       "14   dnabert    Mean-embed-MLP1     0.498018      K562\n",
       "15   dnabert           CLS-MLP1     0.461529      K562\n",
       "16   dnabert    Mean-embed-MLP2     0.497251      K562\n",
       "17   dnabert           CLS-MLP2     0.461063      K562\n",
       "18  randbert  Mean-embed-MLP0.5     0.417401      K562\n",
       "19  randbert         CLS-MLP0.5     0.372417      K562\n",
       "20  randbert    Mean-embed-MLP1     0.406271      K562\n",
       "21  randbert           CLS-MLP1     0.374375      K562\n",
       "22  randbert    Mean-embed-MLP2     0.411990      K562\n",
       "23  randbert           CLS-MLP2     0.366239      K562\n",
       "24     joint   Mean-embed-Ridge     0.514990      K562\n",
       "25     joint  Mean-embed-MLP0.5     0.576333      K562\n",
       "26     joint    Mean-embed-MLP1     0.576496      K562\n",
       "27     joint    Mean-embed-MLP2     0.580848      K562"
      ]
     },
     "execution_count": 2,
     "metadata": {},
     "output_type": "execute_result"
    }
   ],
   "source": [
    "#clearly different training dynamics, these are not good. Can retrain it in tensorflow like they do!\n",
    "\n",
    "#here's what we found. Factor 0.5 corr is 0.5763332384372235\n",
    "#Factor 1 corr is 0.5764957935084951\n",
    "#Factor 2 corr is 0.5808477895159255\n",
    "\n",
    "#let's make this in the table\n",
    "\n",
    "import matplotlib.pyplot as plt\n",
    "import pandas as pd\n",
    "other_results = pd.read_csv('/data1/lesliec/sarthak/data/joint_playground/koo_benchmark/LLM_regression.csv')\n",
    "# other_results = other_results[other_results['Model'] == 'Mean-embed-Ridge']\n",
    "other_results = other_results[other_results['Cell Type'] == 'K562']\n",
    "out = 0.5149897410210402\n",
    "new_row = pd.DataFrame({'Model': ['Mean-embed-Ridge'], 'Cell Type': ['K562'], 'Performance': [out], 'LLM': ['joint']})\n",
    "other_results = pd.concat([other_results, new_row], ignore_index=True)\n",
    "\n",
    "out = 0.5763332384372235\n",
    "new_row = pd.DataFrame({'Model': ['Mean-embed-MLP0.5'], 'Cell Type': ['K562'], 'Performance': [out], 'LLM': ['joint']})\n",
    "other_results = pd.concat([other_results, new_row], ignore_index=True)\n",
    "out = 0.5764957935084951\n",
    "new_row = pd.DataFrame({'Model': ['Mean-embed-MLP1'], 'Cell Type': ['K562'], 'Performance': [out], 'LLM': ['joint']})\n",
    "other_results = pd.concat([other_results, new_row], ignore_index=True)\n",
    "out = 0.5808477895159255\n",
    "new_row = pd.DataFrame({'Model': ['Mean-embed-MLP2'], 'Cell Type': ['K562'], 'Performance': [out], 'LLM': ['joint']})\n",
    "other_results = pd.concat([other_results, new_row], ignore_index=True)\n",
    "\n",
    "other_results"
   ]
  },
  {
   "cell_type": "code",
   "execution_count": 8,
   "metadata": {},
   "outputs": [
    {
     "data": {
      "image/png": "[encoded data removed]",
      "text/plain": [
       "<Figure size 800x500 with 1 Axes>"
      ]
     },
     "metadata": {},
     "output_type": "display_data"
    }
   ],
   "source": [
    "import numpy as np\n",
    "df = other_results\n",
    "\n",
    "# Filter out CLS-model entries\n",
    "df_filtered = df[~df['Model'].str.startswith('CLS')].copy()\n",
    "\n",
    "# Define the order of models on the x-axis\n",
    "model_order = ['Mean-embed-Ridge', 'Mean-embed-MLP0.5', \n",
    "               'Mean-embed-MLP1', 'Mean-embed-MLP2']\n",
    "x_positions = np.arange(len(model_order))\n",
    "\n",
    "# Create the scatter plot\n",
    "plt.figure(figsize=(8, 5))\n",
    "for llm in df_filtered['LLM'].unique():\n",
    "    df_llm = df_filtered[df_filtered['LLM'] == llm]\n",
    "    xs = [model_order.index(m) for m in df_llm['Model']]\n",
    "    ys = df_llm['Performance']\n",
    "    plt.plot(xs, ys, label=llm, marker='o', linestyle='-', markersize=8)\n",
    "\n",
    "plt.xticks(x_positions, model_order, rotation=45)\n",
    "plt.xlabel('Model')\n",
    "plt.ylabel('Performance (Pearson r)')\n",
    "plt.title('Model Performance by LLM')\n",
    "plt.legend(title='LLM', bbox_to_anchor=(1.05, 1), loc='upper left')\n",
    "plt.tight_layout()\n",
    "plt.show()"
   ]
  },
  {
   "cell_type": "markdown",
   "metadata": {},
   "source": [
    "# now we can compare it to the models with the CNN"
   ]
  },
  {
   "cell_type": "code",
   "execution_count": 1,
   "metadata": {},
   "outputs": [
    {
     "data": {
      "text/html": [
       "<div>\n",
       "<style scoped>\n",
       "    .dataframe tbody tr th:only-of-type {\n",
       "        vertical-align: middle;\n",
       "    }\n",
       "\n",
       "    .dataframe tbody tr th {\n",
       "        vertical-align: top;\n",
       "    }\n",
       "\n",
       "    .dataframe thead th {\n",
       "        text-align: right;\n",
       "    }\n",
       "</style>\n",
       "<table border=\"1\" class=\"dataframe\">\n",
       "  <thead>\n",
       "    <tr style=\"text-align: right;\">\n",
       "      <th></th>\n",
       "      <th>LLM</th>\n",
       "      <th>Model</th>\n",
       "      <th>Performance</th>\n",
       "      <th>Cell Type</th>\n",
       "    </tr>\n",
       "  </thead>\n",
       "  <tbody>\n",
       "    <tr>\n",
       "      <th>0</th>\n",
       "      <td>sei</td>\n",
       "      <td>CNN</td>\n",
       "      <td>0.734926</td>\n",
       "      <td>HepG2</td>\n",
       "    </tr>\n",
       "    <tr>\n",
       "      <th>1</th>\n",
       "      <td>sei</td>\n",
       "      <td>CNN</td>\n",
       "      <td>0.751267</td>\n",
       "      <td>K562</td>\n",
       "    </tr>\n",
       "    <tr>\n",
       "      <th>2</th>\n",
       "      <td>ResNet</td>\n",
       "      <td>CNN</td>\n",
       "      <td>0.752903</td>\n",
       "      <td>HepG2</td>\n",
       "    </tr>\n",
       "    <tr>\n",
       "      <th>3</th>\n",
       "      <td>rep_cnn</td>\n",
       "      <td>CNN</td>\n",
       "      <td>0.638292</td>\n",
       "      <td>HepG2</td>\n",
       "    </tr>\n",
       "    <tr>\n",
       "      <th>4</th>\n",
       "      <td>ResNet</td>\n",
       "      <td>CNN</td>\n",
       "      <td>0.789607</td>\n",
       "      <td>K562</td>\n",
       "    </tr>\n",
       "    <tr>\n",
       "      <th>5</th>\n",
       "      <td>rep_cnn</td>\n",
       "      <td>CNN</td>\n",
       "      <td>0.690583</td>\n",
       "      <td>K562</td>\n",
       "    </tr>\n",
       "    <tr>\n",
       "      <th>6</th>\n",
       "      <td>MPRAnn</td>\n",
       "      <td>CNN</td>\n",
       "      <td>0.712668</td>\n",
       "      <td>HepG2</td>\n",
       "    </tr>\n",
       "    <tr>\n",
       "      <th>7</th>\n",
       "      <td>MPRAnn</td>\n",
       "      <td>CNN</td>\n",
       "      <td>0.742255</td>\n",
       "      <td>K562</td>\n",
       "    </tr>\n",
       "    <tr>\n",
       "      <th>8</th>\n",
       "      <td>gpn</td>\n",
       "      <td>CNN0.5</td>\n",
       "      <td>0.609034</td>\n",
       "      <td>HepG2</td>\n",
       "    </tr>\n",
       "    <tr>\n",
       "      <th>9</th>\n",
       "      <td>gpn</td>\n",
       "      <td>CNN1.0</td>\n",
       "      <td>0.636665</td>\n",
       "      <td>HepG2</td>\n",
       "    </tr>\n",
       "    <tr>\n",
       "      <th>10</th>\n",
       "      <td>gpn</td>\n",
       "      <td>CNN2.0</td>\n",
       "      <td>0.626489</td>\n",
       "      <td>HepG2</td>\n",
       "    </tr>\n",
       "    <tr>\n",
       "      <th>11</th>\n",
       "      <td>gpn</td>\n",
       "      <td>CNN0.5</td>\n",
       "      <td>0.679863</td>\n",
       "      <td>K562</td>\n",
       "    </tr>\n",
       "    <tr>\n",
       "      <th>12</th>\n",
       "      <td>gpn</td>\n",
       "      <td>CNN1.0</td>\n",
       "      <td>0.678043</td>\n",
       "      <td>K562</td>\n",
       "    </tr>\n",
       "    <tr>\n",
       "      <th>13</th>\n",
       "      <td>gpn</td>\n",
       "      <td>CNN2.0</td>\n",
       "      <td>0.685116</td>\n",
       "      <td>K562</td>\n",
       "    </tr>\n",
       "    <tr>\n",
       "      <th>14</th>\n",
       "      <td>dnabert</td>\n",
       "      <td>CNN0.5</td>\n",
       "      <td>0.432314</td>\n",
       "      <td>HepG2</td>\n",
       "    </tr>\n",
       "    <tr>\n",
       "      <th>15</th>\n",
       "      <td>dnabert</td>\n",
       "      <td>CNN1.0</td>\n",
       "      <td>0.433643</td>\n",
       "      <td>HepG2</td>\n",
       "    </tr>\n",
       "    <tr>\n",
       "      <th>16</th>\n",
       "      <td>dnabert</td>\n",
       "      <td>CNN2.0</td>\n",
       "      <td>0.425810</td>\n",
       "      <td>HepG2</td>\n",
       "    </tr>\n",
       "    <tr>\n",
       "      <th>17</th>\n",
       "      <td>dnabert</td>\n",
       "      <td>CNN0.5</td>\n",
       "      <td>0.572129</td>\n",
       "      <td>K562</td>\n",
       "    </tr>\n",
       "    <tr>\n",
       "      <th>18</th>\n",
       "      <td>dnabert</td>\n",
       "      <td>CNN1.0</td>\n",
       "      <td>0.567828</td>\n",
       "      <td>K562</td>\n",
       "    </tr>\n",
       "    <tr>\n",
       "      <th>19</th>\n",
       "      <td>dnabert</td>\n",
       "      <td>CNN2.0</td>\n",
       "      <td>0.566508</td>\n",
       "      <td>K562</td>\n",
       "    </tr>\n",
       "    <tr>\n",
       "      <th>20</th>\n",
       "      <td>hyena</td>\n",
       "      <td>CNN0.5</td>\n",
       "      <td>0.560286</td>\n",
       "      <td>HepG2</td>\n",
       "    </tr>\n",
       "    <tr>\n",
       "      <th>21</th>\n",
       "      <td>hyena</td>\n",
       "      <td>CNN1.0</td>\n",
       "      <td>0.555975</td>\n",
       "      <td>HepG2</td>\n",
       "    </tr>\n",
       "    <tr>\n",
       "      <th>22</th>\n",
       "      <td>hyena</td>\n",
       "      <td>CNN2.0</td>\n",
       "      <td>0.562951</td>\n",
       "      <td>HepG2</td>\n",
       "    </tr>\n",
       "    <tr>\n",
       "      <th>23</th>\n",
       "      <td>hyena</td>\n",
       "      <td>CNN0.5</td>\n",
       "      <td>0.643521</td>\n",
       "      <td>K562</td>\n",
       "    </tr>\n",
       "    <tr>\n",
       "      <th>24</th>\n",
       "      <td>hyena</td>\n",
       "      <td>CNN1.0</td>\n",
       "      <td>0.650264</td>\n",
       "      <td>K562</td>\n",
       "    </tr>\n",
       "    <tr>\n",
       "      <th>25</th>\n",
       "      <td>hyena</td>\n",
       "      <td>CNN2.0</td>\n",
       "      <td>0.643448</td>\n",
       "      <td>K562</td>\n",
       "    </tr>\n",
       "    <tr>\n",
       "      <th>26</th>\n",
       "      <td>randbert</td>\n",
       "      <td>CNN0.5</td>\n",
       "      <td>0.351390</td>\n",
       "      <td>HepG2</td>\n",
       "    </tr>\n",
       "    <tr>\n",
       "      <th>27</th>\n",
       "      <td>randbert</td>\n",
       "      <td>CNN1.0</td>\n",
       "      <td>0.335476</td>\n",
       "      <td>HepG2</td>\n",
       "    </tr>\n",
       "    <tr>\n",
       "      <th>28</th>\n",
       "      <td>randbert</td>\n",
       "      <td>CNN2.0</td>\n",
       "      <td>0.348158</td>\n",
       "      <td>HepG2</td>\n",
       "    </tr>\n",
       "    <tr>\n",
       "      <th>29</th>\n",
       "      <td>randbert</td>\n",
       "      <td>CNN0.5</td>\n",
       "      <td>0.447123</td>\n",
       "      <td>K562</td>\n",
       "    </tr>\n",
       "    <tr>\n",
       "      <th>30</th>\n",
       "      <td>randbert</td>\n",
       "      <td>CNN1.0</td>\n",
       "      <td>0.434603</td>\n",
       "      <td>K562</td>\n",
       "    </tr>\n",
       "    <tr>\n",
       "      <th>31</th>\n",
       "      <td>randbert</td>\n",
       "      <td>CNN2.0</td>\n",
       "      <td>0.444155</td>\n",
       "      <td>K562</td>\n",
       "    </tr>\n",
       "  </tbody>\n",
       "</table>\n",
       "</div>"
      ],
      "text/plain": [
       "         LLM   Model  Performance Cell Type\n",
       "0        sei     CNN     0.734926     HepG2\n",
       "1        sei     CNN     0.751267      K562\n",
       "2     ResNet     CNN     0.752903     HepG2\n",
       "3    rep_cnn     CNN     0.638292     HepG2\n",
       "4     ResNet     CNN     0.789607      K562\n",
       "5    rep_cnn     CNN     0.690583      K562\n",
       "6     MPRAnn     CNN     0.712668     HepG2\n",
       "7     MPRAnn     CNN     0.742255      K562\n",
       "8        gpn  CNN0.5     0.609034     HepG2\n",
       "9        gpn  CNN1.0     0.636665     HepG2\n",
       "10       gpn  CNN2.0     0.626489     HepG2\n",
       "11       gpn  CNN0.5     0.679863      K562\n",
       "12       gpn  CNN1.0     0.678043      K562\n",
       "13       gpn  CNN2.0     0.685116      K562\n",
       "14   dnabert  CNN0.5     0.432314     HepG2\n",
       "15   dnabert  CNN1.0     0.433643     HepG2\n",
       "16   dnabert  CNN2.0     0.425810     HepG2\n",
       "17   dnabert  CNN0.5     0.572129      K562\n",
       "18   dnabert  CNN1.0     0.567828      K562\n",
       "19   dnabert  CNN2.0     0.566508      K562\n",
       "20     hyena  CNN0.5     0.560286     HepG2\n",
       "21     hyena  CNN1.0     0.555975     HepG2\n",
       "22     hyena  CNN2.0     0.562951     HepG2\n",
       "23     hyena  CNN0.5     0.643521      K562\n",
       "24     hyena  CNN1.0     0.650264      K562\n",
       "25     hyena  CNN2.0     0.643448      K562\n",
       "26  randbert  CNN0.5     0.351390     HepG2\n",
       "27  randbert  CNN1.0     0.335476     HepG2\n",
       "28  randbert  CNN2.0     0.348158     HepG2\n",
       "29  randbert  CNN0.5     0.447123      K562\n",
       "30  randbert  CNN1.0     0.434603      K562\n",
       "31  randbert  CNN2.0     0.444155      K562"
      ]
     },
     "execution_count": 1,
     "metadata": {},
     "output_type": "execute_result"
    }
   ],
   "source": [
    "import matplotlib.pyplot as plt\n",
    "import pandas as pd\n",
    "other_results = pd.read_csv('/data1/lesliec/sarthak/data/joint_playground/koo_benchmark/LLM_CNN.csv')\n",
    "other_results"
   ]
  },
  {
   "cell_type": "code",
   "execution_count": 2,
   "metadata": {},
   "outputs": [
    {
     "data": {
      "text/html": [
       "<div>\n",
       "<style scoped>\n",
       "    .dataframe tbody tr th:only-of-type {\n",
       "        vertical-align: middle;\n",
       "    }\n",
       "\n",
       "    .dataframe tbody tr th {\n",
       "        vertical-align: top;\n",
       "    }\n",
       "\n",
       "    .dataframe thead th {\n",
       "        text-align: right;\n",
       "    }\n",
       "</style>\n",
       "<table border=\"1\" class=\"dataframe\">\n",
       "  <thead>\n",
       "    <tr style=\"text-align: right;\">\n",
       "      <th></th>\n",
       "      <th>LLM</th>\n",
       "      <th>Model</th>\n",
       "      <th>Performance</th>\n",
       "      <th>Cell Type</th>\n",
       "    </tr>\n",
       "  </thead>\n",
       "  <tbody>\n",
       "    <tr>\n",
       "      <th>1</th>\n",
       "      <td>sei</td>\n",
       "      <td>CNN</td>\n",
       "      <td>0.751267</td>\n",
       "      <td>K562</td>\n",
       "    </tr>\n",
       "    <tr>\n",
       "      <th>4</th>\n",
       "      <td>ResNet</td>\n",
       "      <td>CNN</td>\n",
       "      <td>0.789607</td>\n",
       "      <td>K562</td>\n",
       "    </tr>\n",
       "    <tr>\n",
       "      <th>5</th>\n",
       "      <td>rep_cnn</td>\n",
       "      <td>CNN</td>\n",
       "      <td>0.690583</td>\n",
       "      <td>K562</td>\n",
       "    </tr>\n",
       "    <tr>\n",
       "      <th>7</th>\n",
       "      <td>MPRAnn</td>\n",
       "      <td>CNN</td>\n",
       "      <td>0.742255</td>\n",
       "      <td>K562</td>\n",
       "    </tr>\n",
       "    <tr>\n",
       "      <th>11</th>\n",
       "      <td>gpn</td>\n",
       "      <td>CNN0.5</td>\n",
       "      <td>0.679863</td>\n",
       "      <td>K562</td>\n",
       "    </tr>\n",
       "    <tr>\n",
       "      <th>12</th>\n",
       "      <td>gpn</td>\n",
       "      <td>CNN1.0</td>\n",
       "      <td>0.678043</td>\n",
       "      <td>K562</td>\n",
       "    </tr>\n",
       "    <tr>\n",
       "      <th>13</th>\n",
       "      <td>gpn</td>\n",
       "      <td>CNN2.0</td>\n",
       "      <td>0.685116</td>\n",
       "      <td>K562</td>\n",
       "    </tr>\n",
       "    <tr>\n",
       "      <th>17</th>\n",
       "      <td>dnabert</td>\n",
       "      <td>CNN0.5</td>\n",
       "      <td>0.572129</td>\n",
       "      <td>K562</td>\n",
       "    </tr>\n",
       "    <tr>\n",
       "      <th>18</th>\n",
       "      <td>dnabert</td>\n",
       "      <td>CNN1.0</td>\n",
       "      <td>0.567828</td>\n",
       "      <td>K562</td>\n",
       "    </tr>\n",
       "    <tr>\n",
       "      <th>19</th>\n",
       "      <td>dnabert</td>\n",
       "      <td>CNN2.0</td>\n",
       "      <td>0.566508</td>\n",
       "      <td>K562</td>\n",
       "    </tr>\n",
       "    <tr>\n",
       "      <th>23</th>\n",
       "      <td>hyena</td>\n",
       "      <td>CNN0.5</td>\n",
       "      <td>0.643521</td>\n",
       "      <td>K562</td>\n",
       "    </tr>\n",
       "    <tr>\n",
       "      <th>24</th>\n",
       "      <td>hyena</td>\n",
       "      <td>CNN1.0</td>\n",
       "      <td>0.650264</td>\n",
       "      <td>K562</td>\n",
       "    </tr>\n",
       "    <tr>\n",
       "      <th>25</th>\n",
       "      <td>hyena</td>\n",
       "      <td>CNN2.0</td>\n",
       "      <td>0.643448</td>\n",
       "      <td>K562</td>\n",
       "    </tr>\n",
       "    <tr>\n",
       "      <th>29</th>\n",
       "      <td>randbert</td>\n",
       "      <td>CNN0.5</td>\n",
       "      <td>0.447123</td>\n",
       "      <td>K562</td>\n",
       "    </tr>\n",
       "    <tr>\n",
       "      <th>30</th>\n",
       "      <td>randbert</td>\n",
       "      <td>CNN1.0</td>\n",
       "      <td>0.434603</td>\n",
       "      <td>K562</td>\n",
       "    </tr>\n",
       "    <tr>\n",
       "      <th>31</th>\n",
       "      <td>randbert</td>\n",
       "      <td>CNN2.0</td>\n",
       "      <td>0.444155</td>\n",
       "      <td>K562</td>\n",
       "    </tr>\n",
       "  </tbody>\n",
       "</table>\n",
       "</div>"
      ],
      "text/plain": [
       "         LLM   Model  Performance Cell Type\n",
       "1        sei     CNN     0.751267      K562\n",
       "4     ResNet     CNN     0.789607      K562\n",
       "5    rep_cnn     CNN     0.690583      K562\n",
       "7     MPRAnn     CNN     0.742255      K562\n",
       "11       gpn  CNN0.5     0.679863      K562\n",
       "12       gpn  CNN1.0     0.678043      K562\n",
       "13       gpn  CNN2.0     0.685116      K562\n",
       "17   dnabert  CNN0.5     0.572129      K562\n",
       "18   dnabert  CNN1.0     0.567828      K562\n",
       "19   dnabert  CNN2.0     0.566508      K562\n",
       "23     hyena  CNN0.5     0.643521      K562\n",
       "24     hyena  CNN1.0     0.650264      K562\n",
       "25     hyena  CNN2.0     0.643448      K562\n",
       "29  randbert  CNN0.5     0.447123      K562\n",
       "30  randbert  CNN1.0     0.434603      K562\n",
       "31  randbert  CNN2.0     0.444155      K562"
      ]
     },
     "execution_count": 2,
     "metadata": {},
     "output_type": "execute_result"
    }
   ],
   "source": [
    "other_results = other_results[other_results['Cell Type'] == 'K562']\n",
    "other_results"
   ]
  },
  {
   "cell_type": "code",
   "execution_count": 5,
   "metadata": {},
   "outputs": [
    {
     "data": {
      "text/html": [
       "<div>\n",
       "<style scoped>\n",
       "    .dataframe tbody tr th:only-of-type {\n",
       "        vertical-align: middle;\n",
       "    }\n",
       "\n",
       "    .dataframe tbody tr th {\n",
       "        vertical-align: top;\n",
       "    }\n",
       "\n",
       "    .dataframe thead th {\n",
       "        text-align: right;\n",
       "    }\n",
       "</style>\n",
       "<table border=\"1\" class=\"dataframe\">\n",
       "  <thead>\n",
       "    <tr style=\"text-align: right;\">\n",
       "      <th></th>\n",
       "      <th>LLM</th>\n",
       "      <th>Model</th>\n",
       "      <th>Performance</th>\n",
       "      <th>Cell Type</th>\n",
       "    </tr>\n",
       "  </thead>\n",
       "  <tbody>\n",
       "    <tr>\n",
       "      <th>1</th>\n",
       "      <td>sei</td>\n",
       "      <td>CNN</td>\n",
       "      <td>0.751267</td>\n",
       "      <td>K562</td>\n",
       "    </tr>\n",
       "    <tr>\n",
       "      <th>4</th>\n",
       "      <td>ResNet</td>\n",
       "      <td>CNN</td>\n",
       "      <td>0.789607</td>\n",
       "      <td>K562</td>\n",
       "    </tr>\n",
       "    <tr>\n",
       "      <th>5</th>\n",
       "      <td>rep_cnn</td>\n",
       "      <td>CNN</td>\n",
       "      <td>0.690583</td>\n",
       "      <td>K562</td>\n",
       "    </tr>\n",
       "    <tr>\n",
       "      <th>7</th>\n",
       "      <td>MPRAnn</td>\n",
       "      <td>CNN</td>\n",
       "      <td>0.742255</td>\n",
       "      <td>K562</td>\n",
       "    </tr>\n",
       "    <tr>\n",
       "      <th>13</th>\n",
       "      <td>gpn</td>\n",
       "      <td>CNN2.0</td>\n",
       "      <td>0.685116</td>\n",
       "      <td>K562</td>\n",
       "    </tr>\n",
       "    <tr>\n",
       "      <th>19</th>\n",
       "      <td>dnabert</td>\n",
       "      <td>CNN2.0</td>\n",
       "      <td>0.566508</td>\n",
       "      <td>K562</td>\n",
       "    </tr>\n",
       "    <tr>\n",
       "      <th>25</th>\n",
       "      <td>hyena</td>\n",
       "      <td>CNN2.0</td>\n",
       "      <td>0.643448</td>\n",
       "      <td>K562</td>\n",
       "    </tr>\n",
       "    <tr>\n",
       "      <th>31</th>\n",
       "      <td>randbert</td>\n",
       "      <td>CNN2.0</td>\n",
       "      <td>0.444155</td>\n",
       "      <td>K562</td>\n",
       "    </tr>\n",
       "  </tbody>\n",
       "</table>\n",
       "</div>"
      ],
      "text/plain": [
       "         LLM   Model  Performance Cell Type\n",
       "1        sei     CNN     0.751267      K562\n",
       "4     ResNet     CNN     0.789607      K562\n",
       "5    rep_cnn     CNN     0.690583      K562\n",
       "7     MPRAnn     CNN     0.742255      K562\n",
       "13       gpn  CNN2.0     0.685116      K562\n",
       "19   dnabert  CNN2.0     0.566508      K562\n",
       "25     hyena  CNN2.0     0.643448      K562\n",
       "31  randbert  CNN2.0     0.444155      K562"
      ]
     },
     "execution_count": 5,
     "metadata": {},
     "output_type": "execute_result"
    }
   ],
   "source": [
    "#now remove models CNN0.5 and CNN 1.0\n",
    "other_results = other_results[~other_results['Model'].str.contains('CNN0.5')]\n",
    "other_results = other_results[~other_results['Model'].str.contains('CNN1.0')]\n",
    "other_results"
   ]
  },
  {
   "cell_type": "code",
   "execution_count": 6,
   "metadata": {},
   "outputs": [
    {
     "data": {
      "text/html": [
       "<div>\n",
       "<style scoped>\n",
       "    .dataframe tbody tr th:only-of-type {\n",
       "        vertical-align: middle;\n",
       "    }\n",
       "\n",
       "    .dataframe tbody tr th {\n",
       "        vertical-align: top;\n",
       "    }\n",
       "\n",
       "    .dataframe thead th {\n",
       "        text-align: right;\n",
       "    }\n",
       "</style>\n",
       "<table border=\"1\" class=\"dataframe\">\n",
       "  <thead>\n",
       "    <tr style=\"text-align: right;\">\n",
       "      <th></th>\n",
       "      <th>LLM</th>\n",
       "      <th>Model</th>\n",
       "      <th>Performance</th>\n",
       "      <th>Cell Type</th>\n",
       "    </tr>\n",
       "  </thead>\n",
       "  <tbody>\n",
       "    <tr>\n",
       "      <th>0</th>\n",
       "      <td>sei</td>\n",
       "      <td>CNN</td>\n",
       "      <td>0.751267</td>\n",
       "      <td>K562</td>\n",
       "    </tr>\n",
       "    <tr>\n",
       "      <th>1</th>\n",
       "      <td>ResNet</td>\n",
       "      <td>CNN</td>\n",
       "      <td>0.789607</td>\n",
       "      <td>K562</td>\n",
       "    </tr>\n",
       "    <tr>\n",
       "      <th>2</th>\n",
       "      <td>rep_cnn</td>\n",
       "      <td>CNN</td>\n",
       "      <td>0.690583</td>\n",
       "      <td>K562</td>\n",
       "    </tr>\n",
       "    <tr>\n",
       "      <th>3</th>\n",
       "      <td>MPRAnn</td>\n",
       "      <td>CNN</td>\n",
       "      <td>0.742255</td>\n",
       "      <td>K562</td>\n",
       "    </tr>\n",
       "    <tr>\n",
       "      <th>4</th>\n",
       "      <td>gpn</td>\n",
       "      <td>CNN2.0</td>\n",
       "      <td>0.685116</td>\n",
       "      <td>K562</td>\n",
       "    </tr>\n",
       "    <tr>\n",
       "      <th>5</th>\n",
       "      <td>dnabert</td>\n",
       "      <td>CNN2.0</td>\n",
       "      <td>0.566508</td>\n",
       "      <td>K562</td>\n",
       "    </tr>\n",
       "    <tr>\n",
       "      <th>6</th>\n",
       "      <td>hyena</td>\n",
       "      <td>CNN2.0</td>\n",
       "      <td>0.643448</td>\n",
       "      <td>K562</td>\n",
       "    </tr>\n",
       "    <tr>\n",
       "      <th>7</th>\n",
       "      <td>randbert</td>\n",
       "      <td>CNN2.0</td>\n",
       "      <td>0.444155</td>\n",
       "      <td>K562</td>\n",
       "    </tr>\n",
       "    <tr>\n",
       "      <th>8</th>\n",
       "      <td>joint</td>\n",
       "      <td>CNN2.0</td>\n",
       "      <td>0.748400</td>\n",
       "      <td>K562</td>\n",
       "    </tr>\n",
       "  </tbody>\n",
       "</table>\n",
       "</div>"
      ],
      "text/plain": [
       "        LLM   Model  Performance Cell Type\n",
       "0       sei     CNN     0.751267      K562\n",
       "1    ResNet     CNN     0.789607      K562\n",
       "2   rep_cnn     CNN     0.690583      K562\n",
       "3    MPRAnn     CNN     0.742255      K562\n",
       "4       gpn  CNN2.0     0.685116      K562\n",
       "5   dnabert  CNN2.0     0.566508      K562\n",
       "6     hyena  CNN2.0     0.643448      K562\n",
       "7  randbert  CNN2.0     0.444155      K562\n",
       "8     joint  CNN2.0     0.748400      K562"
      ]
     },
     "execution_count": 6,
     "metadata": {},
     "output_type": "execute_result"
    }
   ],
   "source": [
    "#now let's add our own\n",
    "out = 0.7484\n",
    "new_row = pd.DataFrame({'Model': ['CNN2.0'], 'Cell Type': ['K562'], 'Performance': [out], 'LLM': ['joint']})\n",
    "other_results = pd.concat([other_results, new_row], ignore_index=True)\n",
    "other_results"
   ]
  },
  {
   "cell_type": "code",
   "execution_count": null,
   "metadata": {},
   "outputs": [
    {
     "data": {
      "text/html": [
       "<div>\n",
       "<style scoped>\n",
       "    .dataframe tbody tr th:only-of-type {\n",
       "        vertical-align: middle;\n",
       "    }\n",
       "\n",
       "    .dataframe tbody tr th {\n",
       "        vertical-align: top;\n",
       "    }\n",
       "\n",
       "    .dataframe thead th {\n",
       "        text-align: right;\n",
       "    }\n",
       "</style>\n",
       "<table border=\"1\" class=\"dataframe\">\n",
       "  <thead>\n",
       "    <tr style=\"text-align: right;\">\n",
       "      <th></th>\n",
       "      <th>LLM</th>\n",
       "      <th>Model</th>\n",
       "      <th>Performance</th>\n",
       "      <th>Cell Type</th>\n",
       "    </tr>\n",
       "  </thead>\n",
       "  <tbody>\n",
       "    <tr>\n",
       "      <th>0</th>\n",
       "      <td>sei</td>\n",
       "      <td>CNN</td>\n",
       "      <td>0.751267</td>\n",
       "      <td>K562</td>\n",
       "    </tr>\n",
       "    <tr>\n",
       "      <th>1</th>\n",
       "      <td>ResNet</td>\n",
       "      <td>CNN</td>\n",
       "      <td>0.789607</td>\n",
       "      <td>K562</td>\n",
       "    </tr>\n",
       "    <tr>\n",
       "      <th>2</th>\n",
       "      <td>rep_cnn</td>\n",
       "      <td>CNN</td>\n",
       "      <td>0.690583</td>\n",
       "      <td>K562</td>\n",
       "    </tr>\n",
       "    <tr>\n",
       "      <th>3</th>\n",
       "      <td>MPRAnn</td>\n",
       "      <td>CNN</td>\n",
       "      <td>0.742255</td>\n",
       "      <td>K562</td>\n",
       "    </tr>\n",
       "    <tr>\n",
       "      <th>4</th>\n",
       "      <td>gpn</td>\n",
       "      <td>CNN2.0</td>\n",
       "      <td>0.685116</td>\n",
       "      <td>K562</td>\n",
       "    </tr>\n",
       "    <tr>\n",
       "      <th>5</th>\n",
       "      <td>dnabert</td>\n",
       "      <td>CNN2.0</td>\n",
       "      <td>0.566508</td>\n",
       "      <td>K562</td>\n",
       "    </tr>\n",
       "    <tr>\n",
       "      <th>6</th>\n",
       "      <td>hyena</td>\n",
       "      <td>CNN2.0</td>\n",
       "      <td>0.643448</td>\n",
       "      <td>K562</td>\n",
       "    </tr>\n",
       "    <tr>\n",
       "      <th>7</th>\n",
       "      <td>randbert</td>\n",
       "      <td>CNN2.0</td>\n",
       "      <td>0.444155</td>\n",
       "      <td>K562</td>\n",
       "    </tr>\n",
       "    <tr>\n",
       "      <th>8</th>\n",
       "      <td>joint</td>\n",
       "      <td>CNN2.0</td>\n",
       "      <td>0.748400</td>\n",
       "      <td>K562</td>\n",
       "    </tr>\n",
       "  </tbody>\n",
       "</table>\n",
       "</div>"
      ],
      "text/plain": [
       "        LLM   Model  Performance Cell Type\n",
       "0       sei     CNN     0.751267      K562\n",
       "1    ResNet     CNN     0.789607      K562\n",
       "2   rep_cnn     CNN     0.690583      K562\n",
       "3    MPRAnn     CNN     0.742255      K562\n",
       "4       gpn  CNN2.0     0.685116      K562\n",
       "5   dnabert  CNN2.0     0.566508      K562\n",
       "6     hyena  CNN2.0     0.643448      K562\n",
       "7  randbert  CNN2.0     0.444155      K562\n",
       "8     joint  CNN2.0     0.748400      K562"
      ]
     },
     "execution_count": 36,
     "metadata": {},
     "output_type": "execute_result"
    }
   ],
   "source": [
    "other_results #4,6,5,7,0,2,1,3"
   ]
  },
  {
   "cell_type": "code",
   "execution_count": 21,
   "metadata": {},
   "outputs": [
    {
     "data": {
      "image/png": "[encoded data removed]",
      "text/plain": [
       "<Figure size 800x500 with 1 Axes>"
      ]
     },
     "metadata": {},
     "output_type": "display_data"
    }
   ],
   "source": [
    "df = other_results\n",
    "# Plot\n",
    "fig, ax = plt.subplots(figsize=(8, 5))\n",
    "y_pos = range(len(df))\n",
    "\n",
    "for i, (llm, perf) in enumerate(zip(df['LLM'], df['Performance'])):\n",
    "    # horizontal line\n",
    "    ax.hlines(y=i, xmin=0, xmax=perf, linewidth=2)\n",
    "    # marker\n",
    "    ax.plot(perf, i, marker='o')\n",
    "    # annotation\n",
    "    ax.text(perf + 0.01, i, f\"{perf:.3f}\", va='center')\n",
    "\n",
    "# Set y-axis labels\n",
    "ax.set_yticks(y_pos)\n",
    "ax.set_yticklabels(df['LLM'])\n",
    "ax.set_xlabel('Performance (Pearson r)')\n",
    "ax.set_ylim(-1, len(df))\n",
    "ax.set_xlim(-0.01,0.9)\n",
    "ax.set_title('Model Performance when train full embedding on CNN')\n",
    "plt.tight_layout()\n",
    "plt.show()"
   ]
  },
  {
   "cell_type": "code",
   "execution_count": 42,
   "metadata": {},
   "outputs": [
    {
     "data": {
      "image/png": "[encoded data removed]",
      "text/plain": [
       "<Figure size 800x500 with 1 Axes>"
      ]
     },
     "metadata": {},
     "output_type": "display_data"
    }
   ],
   "source": [
    "# Reorder your DataFrame according to the specified index order\n",
    "order = [4,6,5,7,0,2,1,3,8][::-1]\n",
    "df_ordered = other_results.loc[order].reset_index(drop=True)\n",
    "\n",
    "fig, ax = plt.subplots(figsize=(8, 5))\n",
    "n = len(df_ordered)\n",
    "\n",
    "for i, (llm, perf) in enumerate(zip(df_ordered['LLM'], df_ordered['Performance'])):\n",
    "    # determine color by “visual” position: top-down\n",
    "    if i >= n - 4:\n",
    "        color = 'blue'         # top 4\n",
    "    elif i == n - 5:\n",
    "        color = 'green'        # next 1\n",
    "    elif i >= n - 8:\n",
    "        color = 'goldenrod'    # next 3 (darker yellow)\n",
    "    else:\n",
    "        color = 'red'          # final 1\n",
    "\n",
    "    ax.hlines(y=i, xmin=0, xmax=perf, linewidth=2, color=color)\n",
    "    ax.plot(perf, i, 'o', color=color)\n",
    "    ax.text(perf + 0.01, i, f\"{perf:.3f}\", va='center')\n",
    "\n",
    "ax.set_yticks(range(n))\n",
    "ax.set_yticklabels(df_ordered['LLM'])\n",
    "ax.set_xlabel('Performance (Pearson r)')\n",
    "ax.set_xlim(-0.01, 0.9)\n",
    "ax.set_ylim(-1, n)\n",
    "ax.set_title('Model Performance when training full embedding on CNN')\n",
    "plt.tight_layout()\n",
    "plt.show()\n",
    "\n"
   ]
  },
  {
   "cell_type": "code",
   "execution_count": 43,
   "metadata": {},
   "outputs": [
    {
     "data": {
      "text/html": [
       "<div>\n",
       "<style scoped>\n",
       "    .dataframe tbody tr th:only-of-type {\n",
       "        vertical-align: middle;\n",
       "    }\n",
       "\n",
       "    .dataframe tbody tr th {\n",
       "        vertical-align: top;\n",
       "    }\n",
       "\n",
       "    .dataframe thead th {\n",
       "        text-align: right;\n",
       "    }\n",
       "</style>\n",
       "<table border=\"1\" class=\"dataframe\">\n",
       "  <thead>\n",
       "    <tr style=\"text-align: right;\">\n",
       "      <th></th>\n",
       "      <th>LLM</th>\n",
       "      <th>Model</th>\n",
       "      <th>Performance</th>\n",
       "      <th>Cell Type</th>\n",
       "    </tr>\n",
       "  </thead>\n",
       "  <tbody>\n",
       "    <tr>\n",
       "      <th>0</th>\n",
       "      <td>sei</td>\n",
       "      <td>CNN</td>\n",
       "      <td>0.751267</td>\n",
       "      <td>K562</td>\n",
       "    </tr>\n",
       "    <tr>\n",
       "      <th>1</th>\n",
       "      <td>ResNet</td>\n",
       "      <td>CNN</td>\n",
       "      <td>0.789607</td>\n",
       "      <td>K562</td>\n",
       "    </tr>\n",
       "    <tr>\n",
       "      <th>2</th>\n",
       "      <td>rep_cnn</td>\n",
       "      <td>CNN</td>\n",
       "      <td>0.690583</td>\n",
       "      <td>K562</td>\n",
       "    </tr>\n",
       "    <tr>\n",
       "      <th>3</th>\n",
       "      <td>MPRAnn</td>\n",
       "      <td>CNN</td>\n",
       "      <td>0.742255</td>\n",
       "      <td>K562</td>\n",
       "    </tr>\n",
       "    <tr>\n",
       "      <th>4</th>\n",
       "      <td>gpn</td>\n",
       "      <td>CNN2.0</td>\n",
       "      <td>0.685116</td>\n",
       "      <td>K562</td>\n",
       "    </tr>\n",
       "    <tr>\n",
       "      <th>5</th>\n",
       "      <td>dnabert</td>\n",
       "      <td>CNN2.0</td>\n",
       "      <td>0.566508</td>\n",
       "      <td>K562</td>\n",
       "    </tr>\n",
       "    <tr>\n",
       "      <th>6</th>\n",
       "      <td>hyena</td>\n",
       "      <td>CNN2.0</td>\n",
       "      <td>0.643448</td>\n",
       "      <td>K562</td>\n",
       "    </tr>\n",
       "    <tr>\n",
       "      <th>7</th>\n",
       "      <td>randbert</td>\n",
       "      <td>CNN2.0</td>\n",
       "      <td>0.444155</td>\n",
       "      <td>K562</td>\n",
       "    </tr>\n",
       "    <tr>\n",
       "      <th>8</th>\n",
       "      <td>joint</td>\n",
       "      <td>CNN2.0</td>\n",
       "      <td>0.748400</td>\n",
       "      <td>K562</td>\n",
       "    </tr>\n",
       "    <tr>\n",
       "      <th>9</th>\n",
       "      <td>NT</td>\n",
       "      <td>CNN2.0</td>\n",
       "      <td>0.551300</td>\n",
       "      <td>K562</td>\n",
       "    </tr>\n",
       "  </tbody>\n",
       "</table>\n",
       "</div>"
      ],
      "text/plain": [
       "        LLM   Model  Performance Cell Type\n",
       "0       sei     CNN     0.751267      K562\n",
       "1    ResNet     CNN     0.789607      K562\n",
       "2   rep_cnn     CNN     0.690583      K562\n",
       "3    MPRAnn     CNN     0.742255      K562\n",
       "4       gpn  CNN2.0     0.685116      K562\n",
       "5   dnabert  CNN2.0     0.566508      K562\n",
       "6     hyena  CNN2.0     0.643448      K562\n",
       "7  randbert  CNN2.0     0.444155      K562\n",
       "8     joint  CNN2.0     0.748400      K562\n",
       "9        NT  CNN2.0     0.551300      K562"
      ]
     },
     "execution_count": 43,
     "metadata": {},
     "output_type": "execute_result"
    }
   ],
   "source": [
    "#let's add a row of NT\n",
    "out = 0.5513\n",
    "new_row = pd.DataFrame({'Model': ['CNN2.0'], 'Cell Type': ['K562'], 'Performance': [out], 'LLM': ['NT']})\n",
    "other_results = pd.concat([other_results, new_row], ignore_index=True)\n",
    "other_results"
   ]
  },
  {
   "cell_type": "code",
   "execution_count": 45,
   "metadata": {},
   "outputs": [
    {
     "data": {
      "image/png": "[encoded data removed]",
      "text/plain": [
       "<Figure size 800x500 with 1 Axes>"
      ]
     },
     "metadata": {},
     "output_type": "display_data"
    }
   ],
   "source": [
    "order = [9,4,6,5,7,0,2,1,3,8][::-1]\n",
    "df_ordered = other_results.loc[order].reset_index(drop=True)\n",
    "\n",
    "fig, ax = plt.subplots(figsize=(8, 5))\n",
    "n = len(df_ordered)\n",
    "\n",
    "for i, (llm, perf) in enumerate(zip(df_ordered['LLM'], df_ordered['Performance'])):\n",
    "    # determine color by “visual” position: top-down\n",
    "    if i >= n - 5:\n",
    "        color = 'blue'         # top 4\n",
    "    elif i == n - 6:\n",
    "        color = 'green'        # next 1\n",
    "    elif i >= n - 9:\n",
    "        color = 'goldenrod'    # next 3 (darker yellow)\n",
    "    else:\n",
    "        color = 'red'          # final 1\n",
    "\n",
    "    ax.hlines(y=i, xmin=0, xmax=perf, linewidth=2, color=color)\n",
    "    ax.plot(perf, i, 'o', color=color)\n",
    "    ax.text(perf + 0.01, i, f\"{perf:.3f}\", va='center')\n",
    "\n",
    "ax.set_yticks(range(n))\n",
    "ax.set_yticklabels(df_ordered['LLM'])\n",
    "ax.set_xlabel('Performance (Pearson r)')\n",
    "ax.set_xlim(-0.01, 0.9)\n",
    "ax.set_ylim(-1, n)\n",
    "ax.set_title('Model Performance when training full embedding on CNN')\n",
    "plt.tight_layout()\n",
    "plt.show()"
   ]
  }
 ],
 "metadata": {
  "kernelspec": {
   "display_name": "default",
   "language": "python",
   "name": "python3"
  },
  "language_info": {
   "codemirror_mode": {
    "name": "ipython",
    "version": 3
   },
   "file_extension": ".py",
   "mimetype": "text/x-python",
   "name": "python",
   "nbconvert_exporter": "python",
   "pygments_lexer": "ipython3",
   "version": "3.11.7"
  }
 },
 "nbformat": 4,
 "nbformat_minor": 2
}
