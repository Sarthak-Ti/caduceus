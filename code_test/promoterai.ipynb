{
 "cells": [
  {
   "cell_type": "code",
   "execution_count": null,
   "id": "dafc3fae",
   "metadata": {},
   "outputs": [],
   "source": [
    "# I want to figure out how to score promoter AI variants. It's relatively straightforward since we have a TSV file"
   ]
  },
  {
   "cell_type": "code",
   "execution_count": 13,
   "id": "954523b3",
   "metadata": {},
   "outputs": [],
   "source": [
    "import numpy as np\n",
    "import pandas as pd\n",
    "import pickle\n",
    "import math\n",
    "\n",
    "qtls = pd.read_csv('/data1/lesliec/sarthak/data/joint_playground/eQTL/EPCOTv2_LCLs/LCLs.txt', sep=' ', header=None)\n",
    "qtls.columns = ['label', 'qtl_idx', 'gene_idx', 'chrom', 'gene_start', 'gene_end', 'strand', 'qtl_loc', 'ref', 'alt', 'sign_target']\n",
    "#some other things to load in\n",
    "tempgenome = np.load('/data1/lesliec/sarthak/data/chrombpnet_test/hg38_tokenized.npz')\n",
    "genome_loaded = {}\n",
    "for key in tempgenome:\n",
    "    genome_loaded[key] = tempgenome[key][:]\n",
    "\n",
    "\n",
    "\n",
    "\n",
    "base_dir = '/data1/lesliec/sarthak/data/joint_playground/eQTL/EPCOTv2_LCLs/'\n",
    "with open(base_dir+'genes.pickle', 'rb') as f:\n",
    "    gene_annotation = pickle.load(f)\n",
    "\n",
    "ordered_genes = sorted(list(gene_annotation.keys()))\n",
    "\n",
    "tmpgeneTSS = np.loadtxt(base_dir+'ensemblTSS.txt', dtype='str')\n",
    "geneTSS_dic = {tmpgeneTSS[i, 0]: int(tmpgeneTSS[i, 1]) for i in range(tmpgeneTSS.shape[0])}\n",
    "\n",
    "mapping = {'A':(1,0,0,0),'C':(0,1,0,0),'G':(0,0,1,0),'T':(0,0,0,1),'N':(0,0,0,0)}\n",
    "mapping_nuc = {'A':7, 'C':8,'G':9,'T':10, 'N':11} #to help us determine what our nucleotide is"
   ]
  },
  {
   "cell_type": "code",
   "execution_count": 14,
   "id": "6d3c8579",
   "metadata": {},
   "outputs": [
    {
     "data": {
      "text/html": [
       "<div>\n",
       "<style scoped>\n",
       "    .dataframe tbody tr th:only-of-type {\n",
       "        vertical-align: middle;\n",
       "    }\n",
       "\n",
       "    .dataframe tbody tr th {\n",
       "        vertical-align: top;\n",
       "    }\n",
       "\n",
       "    .dataframe thead th {\n",
       "        text-align: right;\n",
       "    }\n",
       "</style>\n",
       "<table border=\"1\" class=\"dataframe\">\n",
       "  <thead>\n",
       "    <tr style=\"text-align: right;\">\n",
       "      <th></th>\n",
       "      <th>label</th>\n",
       "      <th>qtl_idx</th>\n",
       "      <th>gene_idx</th>\n",
       "      <th>chrom</th>\n",
       "      <th>gene_start</th>\n",
       "      <th>gene_end</th>\n",
       "      <th>strand</th>\n",
       "      <th>qtl_loc</th>\n",
       "      <th>ref</th>\n",
       "      <th>alt</th>\n",
       "      <th>sign_target</th>\n",
       "    </tr>\n",
       "  </thead>\n",
       "  <tbody>\n",
       "    <tr>\n",
       "      <th>0</th>\n",
       "      <td>0</td>\n",
       "      <td>0</td>\n",
       "      <td>10057</td>\n",
       "      <td>14</td>\n",
       "      <td>23953734</td>\n",
       "      <td>23969279</td>\n",
       "      <td>1</td>\n",
       "      <td>23953727</td>\n",
       "      <td>C</td>\n",
       "      <td>G</td>\n",
       "      <td>-1</td>\n",
       "    </tr>\n",
       "    <tr>\n",
       "      <th>1</th>\n",
       "      <td>0</td>\n",
       "      <td>0</td>\n",
       "      <td>10057</td>\n",
       "      <td>14</td>\n",
       "      <td>23953734</td>\n",
       "      <td>23969279</td>\n",
       "      <td>1</td>\n",
       "      <td>23953798</td>\n",
       "      <td>G</td>\n",
       "      <td>A</td>\n",
       "      <td>-1</td>\n",
       "    </tr>\n",
       "    <tr>\n",
       "      <th>2</th>\n",
       "      <td>0</td>\n",
       "      <td>0</td>\n",
       "      <td>10057</td>\n",
       "      <td>14</td>\n",
       "      <td>23953734</td>\n",
       "      <td>23969279</td>\n",
       "      <td>1</td>\n",
       "      <td>23954373</td>\n",
       "      <td>A</td>\n",
       "      <td>G</td>\n",
       "      <td>-1</td>\n",
       "    </tr>\n",
       "    <tr>\n",
       "      <th>3</th>\n",
       "      <td>0</td>\n",
       "      <td>0</td>\n",
       "      <td>10119</td>\n",
       "      <td>1</td>\n",
       "      <td>2555639</td>\n",
       "      <td>2565382</td>\n",
       "      <td>1</td>\n",
       "      <td>2557169</td>\n",
       "      <td>T</td>\n",
       "      <td>C</td>\n",
       "      <td>1</td>\n",
       "    </tr>\n",
       "    <tr>\n",
       "      <th>4</th>\n",
       "      <td>0</td>\n",
       "      <td>0</td>\n",
       "      <td>10119</td>\n",
       "      <td>1</td>\n",
       "      <td>2555639</td>\n",
       "      <td>2565382</td>\n",
       "      <td>1</td>\n",
       "      <td>2568341</td>\n",
       "      <td>G</td>\n",
       "      <td>A</td>\n",
       "      <td>1</td>\n",
       "    </tr>\n",
       "    <tr>\n",
       "      <th>...</th>\n",
       "      <td>...</td>\n",
       "      <td>...</td>\n",
       "      <td>...</td>\n",
       "      <td>...</td>\n",
       "      <td>...</td>\n",
       "      <td>...</td>\n",
       "      <td>...</td>\n",
       "      <td>...</td>\n",
       "      <td>...</td>\n",
       "      <td>...</td>\n",
       "      <td>...</td>\n",
       "    </tr>\n",
       "    <tr>\n",
       "      <th>1326</th>\n",
       "      <td>1</td>\n",
       "      <td>0</td>\n",
       "      <td>9772</td>\n",
       "      <td>3</td>\n",
       "      <td>12484421</td>\n",
       "      <td>12541549</td>\n",
       "      <td>1</td>\n",
       "      <td>12484507</td>\n",
       "      <td>G</td>\n",
       "      <td>A</td>\n",
       "      <td>1</td>\n",
       "    </tr>\n",
       "    <tr>\n",
       "      <th>1327</th>\n",
       "      <td>1</td>\n",
       "      <td>0</td>\n",
       "      <td>9844</td>\n",
       "      <td>14</td>\n",
       "      <td>22773222</td>\n",
       "      <td>22829820</td>\n",
       "      <td>-1</td>\n",
       "      <td>22803905</td>\n",
       "      <td>T</td>\n",
       "      <td>C</td>\n",
       "      <td>1</td>\n",
       "    </tr>\n",
       "    <tr>\n",
       "      <th>1328</th>\n",
       "      <td>1</td>\n",
       "      <td>0</td>\n",
       "      <td>9854</td>\n",
       "      <td>9</td>\n",
       "      <td>71911510</td>\n",
       "      <td>71986054</td>\n",
       "      <td>1</td>\n",
       "      <td>71941892</td>\n",
       "      <td>A</td>\n",
       "      <td>G</td>\n",
       "      <td>1</td>\n",
       "    </tr>\n",
       "    <tr>\n",
       "      <th>1329</th>\n",
       "      <td>1</td>\n",
       "      <td>0</td>\n",
       "      <td>9921</td>\n",
       "      <td>1</td>\n",
       "      <td>111117163</td>\n",
       "      <td>111140203</td>\n",
       "      <td>-1</td>\n",
       "      <td>111139496</td>\n",
       "      <td>C</td>\n",
       "      <td>T</td>\n",
       "      <td>-1</td>\n",
       "    </tr>\n",
       "    <tr>\n",
       "      <th>1330</th>\n",
       "      <td>1</td>\n",
       "      <td>0</td>\n",
       "      <td>9933</td>\n",
       "      <td>21</td>\n",
       "      <td>29055805</td>\n",
       "      <td>29073797</td>\n",
       "      <td>-1</td>\n",
       "      <td>29073627</td>\n",
       "      <td>G</td>\n",
       "      <td>A</td>\n",
       "      <td>1</td>\n",
       "    </tr>\n",
       "  </tbody>\n",
       "</table>\n",
       "<p>1331 rows × 11 columns</p>\n",
       "</div>"
      ],
      "text/plain": [
       "      label  qtl_idx  gene_idx  chrom  gene_start   gene_end  strand  \\\n",
       "0         0        0     10057     14    23953734   23969279       1   \n",
       "1         0        0     10057     14    23953734   23969279       1   \n",
       "2         0        0     10057     14    23953734   23969279       1   \n",
       "3         0        0     10119      1     2555639    2565382       1   \n",
       "4         0        0     10119      1     2555639    2565382       1   \n",
       "...     ...      ...       ...    ...         ...        ...     ...   \n",
       "1326      1        0      9772      3    12484421   12541549       1   \n",
       "1327      1        0      9844     14    22773222   22829820      -1   \n",
       "1328      1        0      9854      9    71911510   71986054       1   \n",
       "1329      1        0      9921      1   111117163  111140203      -1   \n",
       "1330      1        0      9933     21    29055805   29073797      -1   \n",
       "\n",
       "        qtl_loc ref alt  sign_target  \n",
       "0      23953727   C   G           -1  \n",
       "1      23953798   G   A           -1  \n",
       "2      23954373   A   G           -1  \n",
       "3       2557169   T   C            1  \n",
       "4       2568341   G   A            1  \n",
       "...         ...  ..  ..          ...  \n",
       "1326   12484507   G   A            1  \n",
       "1327   22803905   T   C            1  \n",
       "1328   71941892   A   G            1  \n",
       "1329  111139496   C   T           -1  \n",
       "1330   29073627   G   A            1  \n",
       "\n",
       "[1331 rows x 11 columns]"
      ]
     },
     "execution_count": 14,
     "metadata": {},
     "output_type": "execute_result"
    }
   ],
   "source": [
    "qtls"
   ]
  },
  {
   "cell_type": "code",
   "execution_count": 15,
   "id": "4547f4bd",
   "metadata": {},
   "outputs": [
    {
     "data": {
      "text/html": [
       "<div>\n",
       "<style scoped>\n",
       "    .dataframe tbody tr th:only-of-type {\n",
       "        vertical-align: middle;\n",
       "    }\n",
       "\n",
       "    .dataframe tbody tr th {\n",
       "        vertical-align: top;\n",
       "    }\n",
       "\n",
       "    .dataframe thead th {\n",
       "        text-align: right;\n",
       "    }\n",
       "</style>\n",
       "<table border=\"1\" class=\"dataframe\">\n",
       "  <thead>\n",
       "    <tr style=\"text-align: right;\">\n",
       "      <th></th>\n",
       "      <th>label</th>\n",
       "      <th>qtl_idx</th>\n",
       "      <th>gene_idx</th>\n",
       "      <th>chrom</th>\n",
       "      <th>gene_start</th>\n",
       "      <th>gene_end</th>\n",
       "      <th>strand</th>\n",
       "      <th>qtl_loc</th>\n",
       "      <th>ref</th>\n",
       "      <th>alt</th>\n",
       "      <th>sign_target</th>\n",
       "      <th>distance</th>\n",
       "    </tr>\n",
       "  </thead>\n",
       "  <tbody>\n",
       "    <tr>\n",
       "      <th>0</th>\n",
       "      <td>0</td>\n",
       "      <td>0</td>\n",
       "      <td>10057</td>\n",
       "      <td>14</td>\n",
       "      <td>23953734</td>\n",
       "      <td>23969279</td>\n",
       "      <td>1</td>\n",
       "      <td>23953727</td>\n",
       "      <td>C</td>\n",
       "      <td>G</td>\n",
       "      <td>-1</td>\n",
       "      <td>7</td>\n",
       "    </tr>\n",
       "    <tr>\n",
       "      <th>1</th>\n",
       "      <td>0</td>\n",
       "      <td>0</td>\n",
       "      <td>10057</td>\n",
       "      <td>14</td>\n",
       "      <td>23953734</td>\n",
       "      <td>23969279</td>\n",
       "      <td>1</td>\n",
       "      <td>23953798</td>\n",
       "      <td>G</td>\n",
       "      <td>A</td>\n",
       "      <td>-1</td>\n",
       "      <td>-64</td>\n",
       "    </tr>\n",
       "    <tr>\n",
       "      <th>2</th>\n",
       "      <td>0</td>\n",
       "      <td>0</td>\n",
       "      <td>10057</td>\n",
       "      <td>14</td>\n",
       "      <td>23953734</td>\n",
       "      <td>23969279</td>\n",
       "      <td>1</td>\n",
       "      <td>23954373</td>\n",
       "      <td>A</td>\n",
       "      <td>G</td>\n",
       "      <td>-1</td>\n",
       "      <td>-639</td>\n",
       "    </tr>\n",
       "    <tr>\n",
       "      <th>3</th>\n",
       "      <td>0</td>\n",
       "      <td>0</td>\n",
       "      <td>10119</td>\n",
       "      <td>1</td>\n",
       "      <td>2555639</td>\n",
       "      <td>2565382</td>\n",
       "      <td>1</td>\n",
       "      <td>2557169</td>\n",
       "      <td>T</td>\n",
       "      <td>C</td>\n",
       "      <td>1</td>\n",
       "      <td>-1530</td>\n",
       "    </tr>\n",
       "    <tr>\n",
       "      <th>5</th>\n",
       "      <td>0</td>\n",
       "      <td>0</td>\n",
       "      <td>10162</td>\n",
       "      <td>18</td>\n",
       "      <td>21650901</td>\n",
       "      <td>21704780</td>\n",
       "      <td>-1</td>\n",
       "      <td>21655045</td>\n",
       "      <td>A</td>\n",
       "      <td>G</td>\n",
       "      <td>1</td>\n",
       "      <td>-4144</td>\n",
       "    </tr>\n",
       "    <tr>\n",
       "      <th>...</th>\n",
       "      <td>...</td>\n",
       "      <td>...</td>\n",
       "      <td>...</td>\n",
       "      <td>...</td>\n",
       "      <td>...</td>\n",
       "      <td>...</td>\n",
       "      <td>...</td>\n",
       "      <td>...</td>\n",
       "      <td>...</td>\n",
       "      <td>...</td>\n",
       "      <td>...</td>\n",
       "      <td>...</td>\n",
       "    </tr>\n",
       "    <tr>\n",
       "      <th>1316</th>\n",
       "      <td>1</td>\n",
       "      <td>0</td>\n",
       "      <td>8681</td>\n",
       "      <td>4</td>\n",
       "      <td>186191567</td>\n",
       "      <td>186213463</td>\n",
       "      <td>1</td>\n",
       "      <td>186191475</td>\n",
       "      <td>G</td>\n",
       "      <td>C</td>\n",
       "      <td>-1</td>\n",
       "      <td>92</td>\n",
       "    </tr>\n",
       "    <tr>\n",
       "      <th>1317</th>\n",
       "      <td>1</td>\n",
       "      <td>0</td>\n",
       "      <td>873</td>\n",
       "      <td>11</td>\n",
       "      <td>2301997</td>\n",
       "      <td>2318204</td>\n",
       "      <td>1</td>\n",
       "      <td>2301990</td>\n",
       "      <td>G</td>\n",
       "      <td>A</td>\n",
       "      <td>-1</td>\n",
       "      <td>7</td>\n",
       "    </tr>\n",
       "    <tr>\n",
       "      <th>1319</th>\n",
       "      <td>1</td>\n",
       "      <td>0</td>\n",
       "      <td>8995</td>\n",
       "      <td>8</td>\n",
       "      <td>143574785</td>\n",
       "      <td>143578649</td>\n",
       "      <td>-1</td>\n",
       "      <td>143578375</td>\n",
       "      <td>A</td>\n",
       "      <td>G</td>\n",
       "      <td>-1</td>\n",
       "      <td>-3590</td>\n",
       "    </tr>\n",
       "    <tr>\n",
       "      <th>1320</th>\n",
       "      <td>1</td>\n",
       "      <td>0</td>\n",
       "      <td>9109</td>\n",
       "      <td>10</td>\n",
       "      <td>132332154</td>\n",
       "      <td>132381508</td>\n",
       "      <td>1</td>\n",
       "      <td>132331810</td>\n",
       "      <td>A</td>\n",
       "      <td>G</td>\n",
       "      <td>1</td>\n",
       "      <td>344</td>\n",
       "    </tr>\n",
       "    <tr>\n",
       "      <th>1326</th>\n",
       "      <td>1</td>\n",
       "      <td>0</td>\n",
       "      <td>9772</td>\n",
       "      <td>3</td>\n",
       "      <td>12484421</td>\n",
       "      <td>12541549</td>\n",
       "      <td>1</td>\n",
       "      <td>12484507</td>\n",
       "      <td>G</td>\n",
       "      <td>A</td>\n",
       "      <td>1</td>\n",
       "      <td>-86</td>\n",
       "    </tr>\n",
       "  </tbody>\n",
       "</table>\n",
       "<p>342 rows × 12 columns</p>\n",
       "</div>"
      ],
      "text/plain": [
       "      label  qtl_idx  gene_idx  chrom  gene_start   gene_end  strand  \\\n",
       "0         0        0     10057     14    23953734   23969279       1   \n",
       "1         0        0     10057     14    23953734   23969279       1   \n",
       "2         0        0     10057     14    23953734   23969279       1   \n",
       "3         0        0     10119      1     2555639    2565382       1   \n",
       "5         0        0     10162     18    21650901   21704780      -1   \n",
       "...     ...      ...       ...    ...         ...        ...     ...   \n",
       "1316      1        0      8681      4   186191567  186213463       1   \n",
       "1317      1        0       873     11     2301997    2318204       1   \n",
       "1319      1        0      8995      8   143574785  143578649      -1   \n",
       "1320      1        0      9109     10   132332154  132381508       1   \n",
       "1326      1        0      9772      3    12484421   12541549       1   \n",
       "\n",
       "        qtl_loc ref alt  sign_target  distance  \n",
       "0      23953727   C   G           -1         7  \n",
       "1      23953798   G   A           -1       -64  \n",
       "2      23954373   A   G           -1      -639  \n",
       "3       2557169   T   C            1     -1530  \n",
       "5      21655045   A   G            1     -4144  \n",
       "...         ...  ..  ..          ...       ...  \n",
       "1316  186191475   G   C           -1        92  \n",
       "1317    2301990   G   A           -1         7  \n",
       "1319  143578375   A   G           -1     -3590  \n",
       "1320  132331810   A   G            1       344  \n",
       "1326   12484507   G   A            1       -86  \n",
       "\n",
       "[342 rows x 12 columns]"
      ]
     },
     "execution_count": 15,
     "metadata": {},
     "output_type": "execute_result"
    }
   ],
   "source": [
    "#let's also filter qtls to ones where the distance is less than 10k\n",
    "qtls['distance'] = qtls['gene_start'] - qtls['qtl_loc']\n",
    "qtls = qtls[(qtls['distance'] > -10000) & (qtls['distance'] < 10000)]\n",
    "qtls"
   ]
  },
  {
   "cell_type": "code",
   "execution_count": 19,
   "id": "827aa9a5",
   "metadata": {},
   "outputs": [
    {
     "data": {
      "text/html": [
       "<div>\n",
       "<style scoped>\n",
       "    .dataframe tbody tr th:only-of-type {\n",
       "        vertical-align: middle;\n",
       "    }\n",
       "\n",
       "    .dataframe tbody tr th {\n",
       "        vertical-align: top;\n",
       "    }\n",
       "\n",
       "    .dataframe thead th {\n",
       "        text-align: right;\n",
       "    }\n",
       "</style>\n",
       "<table border=\"1\" class=\"dataframe\">\n",
       "  <thead>\n",
       "    <tr style=\"text-align: right;\">\n",
       "      <th></th>\n",
       "      <th>label</th>\n",
       "      <th>qtl_idx</th>\n",
       "      <th>gene_idx</th>\n",
       "      <th>chrom</th>\n",
       "      <th>gene_start</th>\n",
       "      <th>gene_end</th>\n",
       "      <th>strand</th>\n",
       "      <th>qtl_loc</th>\n",
       "      <th>ref</th>\n",
       "      <th>alt</th>\n",
       "      <th>sign_target</th>\n",
       "      <th>distance</th>\n",
       "    </tr>\n",
       "  </thead>\n",
       "  <tbody>\n",
       "    <tr>\n",
       "      <th>1138</th>\n",
       "      <td>1</td>\n",
       "      <td>0</td>\n",
       "      <td>13893</td>\n",
       "      <td>1</td>\n",
       "      <td>1373730</td>\n",
       "      <td>1375207</td>\n",
       "      <td>-1</td>\n",
       "      <td>1374801</td>\n",
       "      <td>A</td>\n",
       "      <td>G</td>\n",
       "      <td>1</td>\n",
       "      <td>-1071</td>\n",
       "    </tr>\n",
       "    <tr>\n",
       "      <th>1169</th>\n",
       "      <td>1</td>\n",
       "      <td>0</td>\n",
       "      <td>17446</td>\n",
       "      <td>1</td>\n",
       "      <td>1512162</td>\n",
       "      <td>1534685</td>\n",
       "      <td>1</td>\n",
       "      <td>1511945</td>\n",
       "      <td>G</td>\n",
       "      <td>A</td>\n",
       "      <td>-1</td>\n",
       "      <td>217</td>\n",
       "    </tr>\n",
       "    <tr>\n",
       "      <th>554</th>\n",
       "      <td>0</td>\n",
       "      <td>0</td>\n",
       "      <td>34199</td>\n",
       "      <td>1</td>\n",
       "      <td>2549920</td>\n",
       "      <td>2557031</td>\n",
       "      <td>-1</td>\n",
       "      <td>2548544</td>\n",
       "      <td>A</td>\n",
       "      <td>G</td>\n",
       "      <td>1</td>\n",
       "      <td>1376</td>\n",
       "    </tr>\n",
       "    <tr>\n",
       "      <th>3</th>\n",
       "      <td>0</td>\n",
       "      <td>0</td>\n",
       "      <td>10119</td>\n",
       "      <td>1</td>\n",
       "      <td>2555639</td>\n",
       "      <td>2565382</td>\n",
       "      <td>1</td>\n",
       "      <td>2557169</td>\n",
       "      <td>T</td>\n",
       "      <td>C</td>\n",
       "      <td>1</td>\n",
       "      <td>-1530</td>\n",
       "    </tr>\n",
       "    <tr>\n",
       "      <th>1188</th>\n",
       "      <td>1</td>\n",
       "      <td>0</td>\n",
       "      <td>25588</td>\n",
       "      <td>1</td>\n",
       "      <td>6234692</td>\n",
       "      <td>6239444</td>\n",
       "      <td>1</td>\n",
       "      <td>6236178</td>\n",
       "      <td>T</td>\n",
       "      <td>G</td>\n",
       "      <td>-1</td>\n",
       "      <td>-1486</td>\n",
       "    </tr>\n",
       "    <tr>\n",
       "      <th>...</th>\n",
       "      <td>...</td>\n",
       "      <td>...</td>\n",
       "      <td>...</td>\n",
       "      <td>...</td>\n",
       "      <td>...</td>\n",
       "      <td>...</td>\n",
       "      <td>...</td>\n",
       "      <td>...</td>\n",
       "      <td>...</td>\n",
       "      <td>...</td>\n",
       "      <td>...</td>\n",
       "      <td>...</td>\n",
       "    </tr>\n",
       "    <tr>\n",
       "      <th>1173</th>\n",
       "      <td>1</td>\n",
       "      <td>0</td>\n",
       "      <td>1988</td>\n",
       "      <td>22</td>\n",
       "      <td>19479457</td>\n",
       "      <td>19520612</td>\n",
       "      <td>1</td>\n",
       "      <td>19480129</td>\n",
       "      <td>T</td>\n",
       "      <td>C</td>\n",
       "      <td>1</td>\n",
       "      <td>-672</td>\n",
       "    </tr>\n",
       "    <tr>\n",
       "      <th>864</th>\n",
       "      <td>0</td>\n",
       "      <td>0</td>\n",
       "      <td>5977</td>\n",
       "      <td>22</td>\n",
       "      <td>20080221</td>\n",
       "      <td>20111877</td>\n",
       "      <td>1</td>\n",
       "      <td>20080980</td>\n",
       "      <td>G</td>\n",
       "      <td>T</td>\n",
       "      <td>1</td>\n",
       "      <td>-759</td>\n",
       "    </tr>\n",
       "    <tr>\n",
       "      <th>1248</th>\n",
       "      <td>1</td>\n",
       "      <td>0</td>\n",
       "      <td>45491</td>\n",
       "      <td>22</td>\n",
       "      <td>46761893</td>\n",
       "      <td>46762564</td>\n",
       "      <td>-1</td>\n",
       "      <td>46762547</td>\n",
       "      <td>T</td>\n",
       "      <td>C</td>\n",
       "      <td>-1</td>\n",
       "      <td>-654</td>\n",
       "    </tr>\n",
       "    <tr>\n",
       "      <th>1286</th>\n",
       "      <td>1</td>\n",
       "      <td>0</td>\n",
       "      <td>60754</td>\n",
       "      <td>23</td>\n",
       "      <td>1661795</td>\n",
       "      <td>1662306</td>\n",
       "      <td>1</td>\n",
       "      <td>1662011</td>\n",
       "      <td>A</td>\n",
       "      <td>G</td>\n",
       "      <td>-1</td>\n",
       "      <td>-216</td>\n",
       "    </tr>\n",
       "    <tr>\n",
       "      <th>1207</th>\n",
       "      <td>1</td>\n",
       "      <td>0</td>\n",
       "      <td>31310</td>\n",
       "      <td>23</td>\n",
       "      <td>23772992</td>\n",
       "      <td>23782956</td>\n",
       "      <td>-1</td>\n",
       "      <td>23773407</td>\n",
       "      <td>C</td>\n",
       "      <td>T</td>\n",
       "      <td>1</td>\n",
       "      <td>-415</td>\n",
       "    </tr>\n",
       "  </tbody>\n",
       "</table>\n",
       "<p>342 rows × 12 columns</p>\n",
       "</div>"
      ],
      "text/plain": [
       "      label  qtl_idx  gene_idx  chrom  gene_start  gene_end  strand   qtl_loc  \\\n",
       "1138      1        0     13893      1     1373730   1375207      -1   1374801   \n",
       "1169      1        0     17446      1     1512162   1534685       1   1511945   \n",
       "554       0        0     34199      1     2549920   2557031      -1   2548544   \n",
       "3         0        0     10119      1     2555639   2565382       1   2557169   \n",
       "1188      1        0     25588      1     6234692   6239444       1   6236178   \n",
       "...     ...      ...       ...    ...         ...       ...     ...       ...   \n",
       "1173      1        0      1988     22    19479457  19520612       1  19480129   \n",
       "864       0        0      5977     22    20080221  20111877       1  20080980   \n",
       "1248      1        0     45491     22    46761893  46762564      -1  46762547   \n",
       "1286      1        0     60754     23     1661795   1662306       1   1662011   \n",
       "1207      1        0     31310     23    23772992  23782956      -1  23773407   \n",
       "\n",
       "     ref alt  sign_target  distance  \n",
       "1138   A   G            1     -1071  \n",
       "1169   G   A           -1       217  \n",
       "554    A   G            1      1376  \n",
       "3      T   C            1     -1530  \n",
       "1188   T   G           -1     -1486  \n",
       "...   ..  ..          ...       ...  \n",
       "1173   T   C            1      -672  \n",
       "864    G   T            1      -759  \n",
       "1248   T   C           -1      -654  \n",
       "1286   A   G           -1      -216  \n",
       "1207   C   T            1      -415  \n",
       "\n",
       "[342 rows x 12 columns]"
      ]
     },
     "execution_count": 19,
     "metadata": {},
     "output_type": "execute_result"
    }
   ],
   "source": [
    "#let's sort it by first the chrom and then the qtlloc collumns\n",
    "qtls = qtls.sort_values(by=['chrom', 'qtl_loc'])\n",
    "qtls"
   ]
  },
  {
   "cell_type": "code",
   "execution_count": 5,
   "id": "fdda6ee0",
   "metadata": {},
   "outputs": [
    {
     "data": {
      "text/html": [
       "<div>\n",
       "<style scoped>\n",
       "    .dataframe tbody tr th:only-of-type {\n",
       "        vertical-align: middle;\n",
       "    }\n",
       "\n",
       "    .dataframe tbody tr th {\n",
       "        vertical-align: top;\n",
       "    }\n",
       "\n",
       "    .dataframe thead th {\n",
       "        text-align: right;\n",
       "    }\n",
       "</style>\n",
       "<table border=\"1\" class=\"dataframe\">\n",
       "  <thead>\n",
       "    <tr style=\"text-align: right;\">\n",
       "      <th></th>\n",
       "      <th>chrom</th>\n",
       "      <th>pos</th>\n",
       "      <th>ref</th>\n",
       "      <th>alt</th>\n",
       "      <th>gene</th>\n",
       "      <th>gene_id</th>\n",
       "      <th>transcript_id</th>\n",
       "      <th>strand</th>\n",
       "      <th>tss_pos</th>\n",
       "      <th>promoterAI</th>\n",
       "    </tr>\n",
       "  </thead>\n",
       "  <tbody>\n",
       "    <tr>\n",
       "      <th>0</th>\n",
       "      <td>chr1</td>\n",
       "      <td>64918</td>\n",
       "      <td>T</td>\n",
       "      <td>A</td>\n",
       "      <td>OR4F5</td>\n",
       "      <td>ENSG00000186092</td>\n",
       "      <td>ENST00000641515.2</td>\n",
       "      <td>1</td>\n",
       "      <td>65418</td>\n",
       "      <td>-0.0024</td>\n",
       "    </tr>\n",
       "    <tr>\n",
       "      <th>1</th>\n",
       "      <td>chr1</td>\n",
       "      <td>64918</td>\n",
       "      <td>T</td>\n",
       "      <td>C</td>\n",
       "      <td>OR4F5</td>\n",
       "      <td>ENSG00000186092</td>\n",
       "      <td>ENST00000641515.2</td>\n",
       "      <td>1</td>\n",
       "      <td>65418</td>\n",
       "      <td>-0.0076</td>\n",
       "    </tr>\n",
       "    <tr>\n",
       "      <th>2</th>\n",
       "      <td>chr1</td>\n",
       "      <td>64918</td>\n",
       "      <td>T</td>\n",
       "      <td>G</td>\n",
       "      <td>OR4F5</td>\n",
       "      <td>ENSG00000186092</td>\n",
       "      <td>ENST00000641515.2</td>\n",
       "      <td>1</td>\n",
       "      <td>65418</td>\n",
       "      <td>-0.0152</td>\n",
       "    </tr>\n",
       "    <tr>\n",
       "      <th>3</th>\n",
       "      <td>chr1</td>\n",
       "      <td>64919</td>\n",
       "      <td>A</td>\n",
       "      <td>C</td>\n",
       "      <td>OR4F5</td>\n",
       "      <td>ENSG00000186092</td>\n",
       "      <td>ENST00000641515.2</td>\n",
       "      <td>1</td>\n",
       "      <td>65418</td>\n",
       "      <td>-0.0027</td>\n",
       "    </tr>\n",
       "    <tr>\n",
       "      <th>4</th>\n",
       "      <td>chr1</td>\n",
       "      <td>64919</td>\n",
       "      <td>A</td>\n",
       "      <td>G</td>\n",
       "      <td>OR4F5</td>\n",
       "      <td>ENSG00000186092</td>\n",
       "      <td>ENST00000641515.2</td>\n",
       "      <td>1</td>\n",
       "      <td>65418</td>\n",
       "      <td>-0.0066</td>\n",
       "    </tr>\n",
       "    <tr>\n",
       "      <th>...</th>\n",
       "      <td>...</td>\n",
       "      <td>...</td>\n",
       "      <td>...</td>\n",
       "      <td>...</td>\n",
       "      <td>...</td>\n",
       "      <td>...</td>\n",
       "      <td>...</td>\n",
       "      <td>...</td>\n",
       "      <td>...</td>\n",
       "      <td>...</td>\n",
       "    </tr>\n",
       "    <tr>\n",
       "      <th>495</th>\n",
       "      <td>chr1</td>\n",
       "      <td>65083</td>\n",
       "      <td>T</td>\n",
       "      <td>A</td>\n",
       "      <td>OR4F5</td>\n",
       "      <td>ENSG00000186092</td>\n",
       "      <td>ENST00000641515.2</td>\n",
       "      <td>1</td>\n",
       "      <td>65418</td>\n",
       "      <td>0.0005</td>\n",
       "    </tr>\n",
       "    <tr>\n",
       "      <th>496</th>\n",
       "      <td>chr1</td>\n",
       "      <td>65083</td>\n",
       "      <td>T</td>\n",
       "      <td>C</td>\n",
       "      <td>OR4F5</td>\n",
       "      <td>ENSG00000186092</td>\n",
       "      <td>ENST00000641515.2</td>\n",
       "      <td>1</td>\n",
       "      <td>65418</td>\n",
       "      <td>0.0106</td>\n",
       "    </tr>\n",
       "    <tr>\n",
       "      <th>497</th>\n",
       "      <td>chr1</td>\n",
       "      <td>65083</td>\n",
       "      <td>T</td>\n",
       "      <td>G</td>\n",
       "      <td>OR4F5</td>\n",
       "      <td>ENSG00000186092</td>\n",
       "      <td>ENST00000641515.2</td>\n",
       "      <td>1</td>\n",
       "      <td>65418</td>\n",
       "      <td>0.0033</td>\n",
       "    </tr>\n",
       "    <tr>\n",
       "      <th>498</th>\n",
       "      <td>chr1</td>\n",
       "      <td>65084</td>\n",
       "      <td>T</td>\n",
       "      <td>A</td>\n",
       "      <td>OR4F5</td>\n",
       "      <td>ENSG00000186092</td>\n",
       "      <td>ENST00000641515.2</td>\n",
       "      <td>1</td>\n",
       "      <td>65418</td>\n",
       "      <td>-0.0010</td>\n",
       "    </tr>\n",
       "    <tr>\n",
       "      <th>499</th>\n",
       "      <td>chr1</td>\n",
       "      <td>65084</td>\n",
       "      <td>T</td>\n",
       "      <td>C</td>\n",
       "      <td>OR4F5</td>\n",
       "      <td>ENSG00000186092</td>\n",
       "      <td>ENST00000641515.2</td>\n",
       "      <td>1</td>\n",
       "      <td>65418</td>\n",
       "      <td>0.0072</td>\n",
       "    </tr>\n",
       "  </tbody>\n",
       "</table>\n",
       "<p>500 rows × 10 columns</p>\n",
       "</div>"
      ],
      "text/plain": [
       "    chrom    pos ref alt   gene          gene_id      transcript_id  strand  \\\n",
       "0    chr1  64918   T   A  OR4F5  ENSG00000186092  ENST00000641515.2       1   \n",
       "1    chr1  64918   T   C  OR4F5  ENSG00000186092  ENST00000641515.2       1   \n",
       "2    chr1  64918   T   G  OR4F5  ENSG00000186092  ENST00000641515.2       1   \n",
       "3    chr1  64919   A   C  OR4F5  ENSG00000186092  ENST00000641515.2       1   \n",
       "4    chr1  64919   A   G  OR4F5  ENSG00000186092  ENST00000641515.2       1   \n",
       "..    ...    ...  ..  ..    ...              ...                ...     ...   \n",
       "495  chr1  65083   T   A  OR4F5  ENSG00000186092  ENST00000641515.2       1   \n",
       "496  chr1  65083   T   C  OR4F5  ENSG00000186092  ENST00000641515.2       1   \n",
       "497  chr1  65083   T   G  OR4F5  ENSG00000186092  ENST00000641515.2       1   \n",
       "498  chr1  65084   T   A  OR4F5  ENSG00000186092  ENST00000641515.2       1   \n",
       "499  chr1  65084   T   C  OR4F5  ENSG00000186092  ENST00000641515.2       1   \n",
       "\n",
       "     tss_pos  promoterAI  \n",
       "0      65418     -0.0024  \n",
       "1      65418     -0.0076  \n",
       "2      65418     -0.0152  \n",
       "3      65418     -0.0027  \n",
       "4      65418     -0.0066  \n",
       "..       ...         ...  \n",
       "495    65418      0.0005  \n",
       "496    65418      0.0106  \n",
       "497    65418      0.0033  \n",
       "498    65418     -0.0010  \n",
       "499    65418      0.0072  \n",
       "\n",
       "[500 rows x 10 columns]"
      ]
     },
     "execution_count": 5,
     "metadata": {},
     "output_type": "execute_result"
    }
   ],
   "source": [
    "#now let's load in the large promoter ai tsv\n",
    "promoterai = pd.read_csv('/data1/lesliec/sarthak/data/promoterAI/promoterAI_tss500.tsv', sep='\\t', nrows=500)\n",
    "promoterai"
   ]
  },
  {
   "cell_type": "code",
   "execution_count": 28,
   "id": "bf692008",
   "metadata": {},
   "outputs": [],
   "source": [
    "#we already know that the position of ref and alternate of qtls is pos -1 for proper indexing, let's ensure with promoterai\n",
    "#first redo for qtls\n",
    "\n",
    "genome = np.load('/data1/lesliec/sarthak/data/chrombpnet_test/hg38_tokenized.npz')\n",
    "genome_loaded = {}\n",
    "for key in genome:\n",
    "    genome_loaded[key] = genome[key][:]\n",
    "    "
   ]
  },
  {
   "cell_type": "code",
   "execution_count": null,
   "id": "6ab85c1a",
   "metadata": {},
   "outputs": [
    {
     "name": "stdout",
     "output_type": "stream",
     "text": [
      "Chromosome: chr1, Position: 1374801\n",
      "Ref: A, Alt: G\n",
      "true values: 9, and 7\n",
      "\n",
      "\n",
      "Chromosome: chr1, Position: 1511945\n",
      "Ref: G, Alt: A\n",
      "true values: 8, and 9\n",
      "\n",
      "\n",
      "Chromosome: chr1, Position: 2548544\n",
      "Ref: A, Alt: G\n",
      "true values: 10, and 7\n",
      "\n",
      "\n",
      "Chromosome: chr1, Position: 2557169\n",
      "Ref: T, Alt: C\n",
      "true values: 7, and 10\n",
      "\n",
      "\n",
      "Chromosome: chr1, Position: 6236178\n",
      "Ref: T, Alt: G\n",
      "true values: 9, and 10\n",
      "\n",
      "\n",
      "Chromosome: chr1, Position: 9235385\n",
      "Ref: T, Alt: C\n",
      "true values: 7, and 10\n",
      "\n",
      "\n",
      "Chromosome: chr1, Position: 28247532\n",
      "Ref: T, Alt: A\n",
      "true values: 7, and 10\n",
      "\n",
      "\n",
      "Chromosome: chr1, Position: 40699407\n",
      "Ref: C, Alt: A\n",
      "true values: 10, and 8\n",
      "\n",
      "\n",
      "Chromosome: chr1, Position: 46198577\n",
      "Ref: A, Alt: G\n",
      "true values: 9, and 7\n",
      "\n",
      "\n",
      "Chromosome: chr1, Position: 46340721\n",
      "Ref: T, Alt: C\n",
      "true values: 8, and 10\n",
      "\n",
      "\n"
     ]
    }
   ],
   "source": [
    "for i in range(10):\n",
    "    chrom = 'chr'+ str(qtls.iloc[i]['chrom'])\n",
    "    pos = qtls.iloc[i]['qtl_loc']\n",
    "    print(f'Chromosome: {chrom}, Position: {pos}')\n",
    "    print(f'Ref: {qtls.iloc[i][\"ref\"]}, Alt: {qtls.iloc[i][\"alt\"]}')\n",
    "    print(f'true values: {genome_loaded[chrom][pos]}, and {genome_loaded[chrom][pos-1]}')\n",
    "    print('\\n')\n",
    "#clearly it's the position -1, so it uses 1 indexing for variants"
   ]
  },
  {
   "cell_type": "code",
   "execution_count": null,
   "id": "313b86c4",
   "metadata": {},
   "outputs": [
    {
     "name": "stdout",
     "output_type": "stream",
     "text": [
      "Chromosome: chr1, Position: 64918\n",
      "Ref: T, Alt: A\n",
      "true values: 7, and 10\n",
      "\n",
      "\n",
      "Chromosome: chr1, Position: 64918\n",
      "Ref: T, Alt: C\n",
      "true values: 7, and 10\n",
      "\n",
      "\n",
      "Chromosome: chr1, Position: 64918\n",
      "Ref: T, Alt: G\n",
      "true values: 7, and 10\n",
      "\n",
      "\n",
      "Chromosome: chr1, Position: 64919\n",
      "Ref: A, Alt: C\n",
      "true values: 7, and 7\n",
      "\n",
      "\n",
      "Chromosome: chr1, Position: 64919\n",
      "Ref: A, Alt: G\n",
      "true values: 7, and 7\n",
      "\n",
      "\n",
      "Chromosome: chr1, Position: 64919\n",
      "Ref: A, Alt: T\n",
      "true values: 7, and 7\n",
      "\n",
      "\n",
      "Chromosome: chr1, Position: 64920\n",
      "Ref: A, Alt: C\n",
      "true values: 7, and 7\n",
      "\n",
      "\n",
      "Chromosome: chr1, Position: 64920\n",
      "Ref: A, Alt: G\n",
      "true values: 7, and 7\n",
      "\n",
      "\n",
      "Chromosome: chr1, Position: 64920\n",
      "Ref: A, Alt: T\n",
      "true values: 7, and 7\n",
      "\n",
      "\n",
      "Chromosome: chr1, Position: 64921\n",
      "Ref: A, Alt: C\n",
      "true values: 7, and 7\n",
      "\n",
      "\n",
      "Chromosome: chr1, Position: 64921\n",
      "Ref: A, Alt: G\n",
      "true values: 7, and 7\n",
      "\n",
      "\n",
      "Chromosome: chr1, Position: 64921\n",
      "Ref: A, Alt: T\n",
      "true values: 7, and 7\n",
      "\n",
      "\n",
      "Chromosome: chr1, Position: 64922\n",
      "Ref: A, Alt: C\n",
      "true values: 8, and 7\n",
      "\n",
      "\n",
      "Chromosome: chr1, Position: 64922\n",
      "Ref: A, Alt: G\n",
      "true values: 8, and 7\n",
      "\n",
      "\n",
      "Chromosome: chr1, Position: 64922\n",
      "Ref: A, Alt: T\n",
      "true values: 8, and 7\n",
      "\n",
      "\n",
      "Chromosome: chr1, Position: 64923\n",
      "Ref: C, Alt: A\n",
      "true values: 8, and 8\n",
      "\n",
      "\n",
      "Chromosome: chr1, Position: 64923\n",
      "Ref: C, Alt: G\n",
      "true values: 8, and 8\n",
      "\n",
      "\n",
      "Chromosome: chr1, Position: 64923\n",
      "Ref: C, Alt: T\n",
      "true values: 8, and 8\n",
      "\n",
      "\n",
      "Chromosome: chr1, Position: 64924\n",
      "Ref: C, Alt: A\n",
      "true values: 10, and 8\n",
      "\n",
      "\n",
      "Chromosome: chr1, Position: 64924\n",
      "Ref: C, Alt: G\n",
      "true values: 10, and 8\n",
      "\n",
      "\n",
      "Chromosome: chr1, Position: 64924\n",
      "Ref: C, Alt: T\n",
      "true values: 10, and 8\n",
      "\n",
      "\n",
      "Chromosome: chr1, Position: 64925\n",
      "Ref: T, Alt: A\n",
      "true values: 9, and 10\n",
      "\n",
      "\n",
      "Chromosome: chr1, Position: 64925\n",
      "Ref: T, Alt: C\n",
      "true values: 9, and 10\n",
      "\n",
      "\n",
      "Chromosome: chr1, Position: 64925\n",
      "Ref: T, Alt: G\n",
      "true values: 9, and 10\n",
      "\n",
      "\n",
      "Chromosome: chr1, Position: 64926\n",
      "Ref: G, Alt: A\n",
      "true values: 9, and 9\n",
      "\n",
      "\n",
      "Chromosome: chr1, Position: 64926\n",
      "Ref: G, Alt: C\n",
      "true values: 9, and 9\n",
      "\n",
      "\n",
      "Chromosome: chr1, Position: 64926\n",
      "Ref: G, Alt: T\n",
      "true values: 9, and 9\n",
      "\n",
      "\n",
      "Chromosome: chr1, Position: 64927\n",
      "Ref: G, Alt: A\n",
      "true values: 10, and 9\n",
      "\n",
      "\n",
      "Chromosome: chr1, Position: 64927\n",
      "Ref: G, Alt: C\n",
      "true values: 10, and 9\n",
      "\n",
      "\n",
      "Chromosome: chr1, Position: 64927\n",
      "Ref: G, Alt: T\n",
      "true values: 10, and 9\n",
      "\n",
      "\n",
      "Chromosome: chr1, Position: 64928\n",
      "Ref: T, Alt: A\n",
      "true values: 7, and 10\n",
      "\n",
      "\n",
      "Chromosome: chr1, Position: 64928\n",
      "Ref: T, Alt: C\n",
      "true values: 7, and 10\n",
      "\n",
      "\n",
      "Chromosome: chr1, Position: 64928\n",
      "Ref: T, Alt: G\n",
      "true values: 7, and 10\n",
      "\n",
      "\n",
      "Chromosome: chr1, Position: 64929\n",
      "Ref: A, Alt: C\n",
      "true values: 7, and 7\n",
      "\n",
      "\n",
      "Chromosome: chr1, Position: 64929\n",
      "Ref: A, Alt: G\n",
      "true values: 7, and 7\n",
      "\n",
      "\n",
      "Chromosome: chr1, Position: 64929\n",
      "Ref: A, Alt: T\n",
      "true values: 7, and 7\n",
      "\n",
      "\n",
      "Chromosome: chr1, Position: 64930\n",
      "Ref: A, Alt: C\n",
      "true values: 9, and 7\n",
      "\n",
      "\n",
      "Chromosome: chr1, Position: 64930\n",
      "Ref: A, Alt: G\n",
      "true values: 9, and 7\n",
      "\n",
      "\n",
      "Chromosome: chr1, Position: 64930\n",
      "Ref: A, Alt: T\n",
      "true values: 9, and 7\n",
      "\n",
      "\n",
      "Chromosome: chr1, Position: 64931\n",
      "Ref: G, Alt: A\n",
      "true values: 10, and 9\n",
      "\n",
      "\n",
      "Chromosome: chr1, Position: 64931\n",
      "Ref: G, Alt: C\n",
      "true values: 10, and 9\n",
      "\n",
      "\n",
      "Chromosome: chr1, Position: 64931\n",
      "Ref: G, Alt: T\n",
      "true values: 10, and 9\n",
      "\n",
      "\n",
      "Chromosome: chr1, Position: 64932\n",
      "Ref: T, Alt: A\n",
      "true values: 10, and 10\n",
      "\n",
      "\n",
      "Chromosome: chr1, Position: 64932\n",
      "Ref: T, Alt: C\n",
      "true values: 10, and 10\n",
      "\n",
      "\n",
      "Chromosome: chr1, Position: 64932\n",
      "Ref: T, Alt: G\n",
      "true values: 10, and 10\n",
      "\n",
      "\n",
      "Chromosome: chr1, Position: 64933\n",
      "Ref: T, Alt: A\n",
      "true values: 10, and 10\n",
      "\n",
      "\n",
      "Chromosome: chr1, Position: 64933\n",
      "Ref: T, Alt: C\n",
      "true values: 10, and 10\n",
      "\n",
      "\n",
      "Chromosome: chr1, Position: 64933\n",
      "Ref: T, Alt: G\n",
      "true values: 10, and 10\n",
      "\n",
      "\n",
      "Chromosome: chr1, Position: 64934\n",
      "Ref: T, Alt: A\n",
      "true values: 9, and 10\n",
      "\n",
      "\n",
      "Chromosome: chr1, Position: 64934\n",
      "Ref: T, Alt: C\n",
      "true values: 9, and 10\n",
      "\n",
      "\n",
      "Chromosome: chr1, Position: 64934\n",
      "Ref: T, Alt: G\n",
      "true values: 9, and 10\n",
      "\n",
      "\n",
      "Chromosome: chr1, Position: 64935\n",
      "Ref: G, Alt: A\n",
      "true values: 9, and 9\n",
      "\n",
      "\n",
      "Chromosome: chr1, Position: 64935\n",
      "Ref: G, Alt: C\n",
      "true values: 9, and 9\n",
      "\n",
      "\n",
      "Chromosome: chr1, Position: 64935\n",
      "Ref: G, Alt: T\n",
      "true values: 9, and 9\n",
      "\n",
      "\n",
      "Chromosome: chr1, Position: 64936\n",
      "Ref: G, Alt: A\n",
      "true values: 10, and 9\n",
      "\n",
      "\n",
      "Chromosome: chr1, Position: 64936\n",
      "Ref: G, Alt: C\n",
      "true values: 10, and 9\n",
      "\n",
      "\n",
      "Chromosome: chr1, Position: 64936\n",
      "Ref: G, Alt: T\n",
      "true values: 10, and 9\n",
      "\n",
      "\n",
      "Chromosome: chr1, Position: 64937\n",
      "Ref: T, Alt: A\n",
      "true values: 9, and 10\n",
      "\n",
      "\n",
      "Chromosome: chr1, Position: 64937\n",
      "Ref: T, Alt: C\n",
      "true values: 9, and 10\n",
      "\n",
      "\n",
      "Chromosome: chr1, Position: 64937\n",
      "Ref: T, Alt: G\n",
      "true values: 9, and 10\n",
      "\n",
      "\n",
      "Chromosome: chr1, Position: 64938\n",
      "Ref: G, Alt: A\n",
      "true values: 9, and 9\n",
      "\n",
      "\n",
      "Chromosome: chr1, Position: 64938\n",
      "Ref: G, Alt: C\n",
      "true values: 9, and 9\n",
      "\n",
      "\n",
      "Chromosome: chr1, Position: 64938\n",
      "Ref: G, Alt: T\n",
      "true values: 9, and 9\n",
      "\n",
      "\n",
      "Chromosome: chr1, Position: 64939\n",
      "Ref: G, Alt: A\n",
      "true values: 10, and 9\n",
      "\n",
      "\n",
      "Chromosome: chr1, Position: 64939\n",
      "Ref: G, Alt: C\n",
      "true values: 10, and 9\n",
      "\n",
      "\n",
      "Chromosome: chr1, Position: 64939\n",
      "Ref: G, Alt: T\n",
      "true values: 10, and 9\n",
      "\n",
      "\n",
      "Chromosome: chr1, Position: 64940\n",
      "Ref: T, Alt: A\n",
      "true values: 8, and 10\n",
      "\n",
      "\n",
      "Chromosome: chr1, Position: 64940\n",
      "Ref: T, Alt: C\n",
      "true values: 8, and 10\n",
      "\n",
      "\n",
      "Chromosome: chr1, Position: 64940\n",
      "Ref: T, Alt: G\n",
      "true values: 8, and 10\n",
      "\n",
      "\n",
      "Chromosome: chr1, Position: 64941\n",
      "Ref: C, Alt: A\n",
      "true values: 7, and 8\n",
      "\n",
      "\n",
      "Chromosome: chr1, Position: 64941\n",
      "Ref: C, Alt: G\n",
      "true values: 7, and 8\n",
      "\n",
      "\n",
      "Chromosome: chr1, Position: 64941\n",
      "Ref: C, Alt: T\n",
      "true values: 7, and 8\n",
      "\n",
      "\n",
      "Chromosome: chr1, Position: 64942\n",
      "Ref: A, Alt: C\n",
      "true values: 7, and 7\n",
      "\n",
      "\n",
      "Chromosome: chr1, Position: 64942\n",
      "Ref: A, Alt: G\n",
      "true values: 7, and 7\n",
      "\n",
      "\n",
      "Chromosome: chr1, Position: 64942\n",
      "Ref: A, Alt: T\n",
      "true values: 7, and 7\n",
      "\n",
      "\n",
      "Chromosome: chr1, Position: 64943\n",
      "Ref: A, Alt: C\n",
      "true values: 9, and 7\n",
      "\n",
      "\n",
      "Chromosome: chr1, Position: 64943\n",
      "Ref: A, Alt: G\n",
      "true values: 9, and 7\n",
      "\n",
      "\n",
      "Chromosome: chr1, Position: 64943\n",
      "Ref: A, Alt: T\n",
      "true values: 9, and 7\n",
      "\n",
      "\n",
      "Chromosome: chr1, Position: 64944\n",
      "Ref: G, Alt: A\n",
      "true values: 9, and 9\n",
      "\n",
      "\n",
      "Chromosome: chr1, Position: 64944\n",
      "Ref: G, Alt: C\n",
      "true values: 9, and 9\n",
      "\n",
      "\n",
      "Chromosome: chr1, Position: 64944\n",
      "Ref: G, Alt: T\n",
      "true values: 9, and 9\n",
      "\n",
      "\n",
      "Chromosome: chr1, Position: 64945\n",
      "Ref: G, Alt: A\n",
      "true values: 7, and 9\n",
      "\n",
      "\n",
      "Chromosome: chr1, Position: 64945\n",
      "Ref: G, Alt: C\n",
      "true values: 7, and 9\n",
      "\n",
      "\n",
      "Chromosome: chr1, Position: 64945\n",
      "Ref: G, Alt: T\n",
      "true values: 7, and 9\n",
      "\n",
      "\n",
      "Chromosome: chr1, Position: 64946\n",
      "Ref: A, Alt: C\n",
      "true values: 7, and 7\n",
      "\n",
      "\n",
      "Chromosome: chr1, Position: 64946\n",
      "Ref: A, Alt: G\n",
      "true values: 7, and 7\n",
      "\n",
      "\n",
      "Chromosome: chr1, Position: 64946\n",
      "Ref: A, Alt: T\n",
      "true values: 7, and 7\n",
      "\n",
      "\n",
      "Chromosome: chr1, Position: 64947\n",
      "Ref: A, Alt: C\n",
      "true values: 8, and 7\n",
      "\n",
      "\n",
      "Chromosome: chr1, Position: 64947\n",
      "Ref: A, Alt: G\n",
      "true values: 8, and 7\n",
      "\n",
      "\n",
      "Chromosome: chr1, Position: 64947\n",
      "Ref: A, Alt: T\n",
      "true values: 8, and 7\n",
      "\n",
      "\n",
      "Chromosome: chr1, Position: 64948\n",
      "Ref: C, Alt: A\n",
      "true values: 7, and 8\n",
      "\n",
      "\n",
      "Chromosome: chr1, Position: 64948\n",
      "Ref: C, Alt: G\n",
      "true values: 7, and 8\n",
      "\n",
      "\n",
      "Chromosome: chr1, Position: 64948\n",
      "Ref: C, Alt: T\n",
      "true values: 7, and 8\n",
      "\n",
      "\n",
      "Chromosome: chr1, Position: 64949\n",
      "Ref: A, Alt: C\n",
      "true values: 8, and 7\n",
      "\n",
      "\n",
      "Chromosome: chr1, Position: 64949\n",
      "Ref: A, Alt: G\n",
      "true values: 8, and 7\n",
      "\n",
      "\n",
      "Chromosome: chr1, Position: 64949\n",
      "Ref: A, Alt: T\n",
      "true values: 8, and 7\n",
      "\n",
      "\n",
      "Chromosome: chr1, Position: 64950\n",
      "Ref: C, Alt: A\n",
      "true values: 7, and 8\n",
      "\n",
      "\n",
      "Chromosome: chr1, Position: 64950\n",
      "Ref: C, Alt: G\n",
      "true values: 7, and 8\n",
      "\n",
      "\n",
      "Chromosome: chr1, Position: 64950\n",
      "Ref: C, Alt: T\n",
      "true values: 7, and 8\n",
      "\n",
      "\n",
      "Chromosome: chr1, Position: 64951\n",
      "Ref: A, Alt: C\n",
      "true values: 7, and 7\n",
      "\n",
      "\n"
     ]
    }
   ],
   "source": [
    "#now do for promoterai variants\n",
    "for i in range(100):\n",
    "    chrom = promoterai.iloc[i]['chrom']\n",
    "    pos = promoterai.iloc[i]['pos']\n",
    "    print(f'Chromosome: {chrom}, Position: {pos}')\n",
    "    print(f'Ref: {promoterai.iloc[i][\"ref\"]}, Alt: {promoterai.iloc[i][\"alt\"]}')\n",
    "    print(f'true values: {genome_loaded[chrom][pos]}, and {genome_loaded[chrom][pos-1]}')\n",
    "    assert genome_loaded[chrom][pos-1] == mapping_nuc[promoterai.iloc[i]['ref']]\n",
    "    print('\\n')\n",
    "\n",
    "#definitely true, so same indexing mechanism"
   ]
  },
  {
   "cell_type": "code",
   "execution_count": 20,
   "id": "9984320b",
   "metadata": {},
   "outputs": [
    {
     "data": {
      "text/plain": [
       "(23,\n",
       " array([ 1,  2,  3,  4,  5,  6,  7,  8,  9, 10, 11, 12, 13, 14, 15, 16, 17,\n",
       "        18, 19, 20, 21, 22, 23]))"
      ]
     },
     "execution_count": 20,
     "metadata": {},
     "output_type": "execute_result"
    }
   ],
   "source": [
    "len(qtls['chrom'].unique()), qtls['chrom'].unique() #so can't just exclude chromosomes..."
   ]
  },
  {
   "cell_type": "code",
   "execution_count": 11,
   "id": "a4520139",
   "metadata": {},
   "outputs": [
    {
     "name": "stdout",
     "output_type": "stream",
     "text": [
      "chrom object\n",
      "pos int64\n",
      "ref object\n",
      "alt object\n",
      "gene object\n",
      "gene_id object\n",
      "transcript_id object\n",
      "strand int64\n",
      "tss_pos int64\n",
      "promoterAI float64\n"
     ]
    }
   ],
   "source": [
    "#print dtypes of each row\n",
    "for col in promoterai.columns:\n",
    "    print(col, promoterai[col].dtype)"
   ]
  },
  {
   "cell_type": "code",
   "execution_count": 18,
   "id": "eaa28dd3",
   "metadata": {},
   "outputs": [
    {
     "name": "stdout",
     "output_type": "stream",
     "text": [
      "['chrom', 'pos', 'ref', 'alt', 'gene', 'gene_id', 'transcript_id', 'strand', 'tss_pos', 'promoterAI\\n']\n",
      "['chr1', '64918', 'T', 'A', 'OR4F5', 'ENSG00000186092', 'ENST00000641515.2', '1', '65418', '-0.0024\\n']\n",
      "['chr1', '64918', 'T', 'C', 'OR4F5', 'ENSG00000186092', 'ENST00000641515.2', '1', '65418', '-0.0076\\n']\n"
     ]
    }
   ],
   "source": [
    "matches = []\n",
    "with open('/data1/lesliec/sarthak/data/promoterAI/promoterAI_tss500.tsv', 'r') as f:\n",
    "    for i,line in enumerate(f):\n",
    "        # print(line)\n",
    "        print(line.split('\\t'))\n",
    "\n",
    "        if i == 2:\n",
    "            break"
   ]
  },
  {
   "cell_type": "code",
   "execution_count": 64,
   "id": "3cd38612",
   "metadata": {},
   "outputs": [
    {
     "name": "stderr",
     "output_type": "stream",
     "text": [
      "  0%|          | 330606/261666406 [00:02<33:02, 131852.75it/s]"
     ]
    },
    {
     "name": "stdout",
     "output_type": "stream",
     "text": [
      "Found match at 1:1374801\n"
     ]
    },
    {
     "name": "stderr",
     "output_type": "stream",
     "text": [
      "  0%|          | 410490/261666406 [00:03<32:50, 132609.99it/s]"
     ]
    },
    {
     "name": "stdout",
     "output_type": "stream",
     "text": [
      "Found match at 1:1511945\n"
     ]
    },
    {
     "name": "stderr",
     "output_type": "stream",
     "text": [
      "  0%|          | 755423/261666406 [00:05<33:13, 130907.02it/s]"
     ]
    },
    {
     "name": "stdout",
     "output_type": "stream",
     "text": [
      "No match at 1:2555138, moving to next qtl, distance: -1530\n",
      "No match at 1:2560181, moving to next qtl, distance: -1486\n"
     ]
    },
    {
     "name": "stderr",
     "output_type": "stream",
     "text": [
      "  0%|          | 1113256/261666406 [00:08<32:43, 132684.84it/s]"
     ]
    },
    {
     "name": "stdout",
     "output_type": "stream",
     "text": [
      "Found match at 1:6236178\n"
     ]
    },
    {
     "name": "stderr",
     "output_type": "stream",
     "text": [
      "  1%|          | 1552333/261666406 [00:11<32:45, 132350.15it/s]"
     ]
    },
    {
     "name": "stdout",
     "output_type": "stream",
     "text": [
      "No match at 1:9239343, moving to next qtl, distance: -8023\n"
     ]
    },
    {
     "name": "stderr",
     "output_type": "stream",
     "text": [
      "  2%|▏         | 4568914/261666406 [00:34<32:49, 130515.04it/s]"
     ]
    },
    {
     "name": "stdout",
     "output_type": "stream",
     "text": [
      "No match at 1:28259017, moving to next qtl, distance: -7759\n"
     ]
    },
    {
     "name": "stderr",
     "output_type": "stream",
     "text": [
      "  2%|▏         | 6372292/261666406 [00:48<32:34, 130631.92it/s]"
     ]
    },
    {
     "name": "stdout",
     "output_type": "stream",
     "text": [
      "No match at 1:40708856, moving to next qtl, distance: -9894\n"
     ]
    },
    {
     "name": "stderr",
     "output_type": "stream",
     "text": [
      "  3%|▎         | 7600754/261666406 [00:57<32:32, 130110.13it/s]"
     ]
    },
    {
     "name": "stdout",
     "output_type": "stream",
     "text": [
      "Found match at 1:46198577\n"
     ]
    },
    {
     "name": "stderr",
     "output_type": "stream",
     "text": [
      "  3%|▎         | 7652924/261666406 [00:58<32:31, 130172.06it/s]"
     ]
    },
    {
     "name": "stdout",
     "output_type": "stream",
     "text": [
      "Found match at 1:46340721\n",
      "Found match at 1:46340757\n",
      "No match at 1:46393816, moving to next qtl, distance: -7202\n",
      "No match at 1:46393816, moving to next qtl, distance: -7547\n",
      "No match at 1:46393816, moving to next qtl, distance: -7631\n",
      "No match at 1:46393816, moving to next qtl, distance: 294\n"
     ]
    },
    {
     "name": "stderr",
     "output_type": "stream",
     "text": [
      "  4%|▍         | 10455246/261666406 [01:19<32:07, 130361.56it/s]"
     ]
    },
    {
     "name": "stdout",
     "output_type": "stream",
     "text": [
      "Found match at 1:93179625\n",
      "Found match at 1:93180650\n"
     ]
    },
    {
     "name": "stderr",
     "output_type": "stream",
     "text": [
      "  4%|▍         | 11652487/261666406 [01:28<31:43, 131344.70it/s]"
     ]
    },
    {
     "name": "stdout",
     "output_type": "stream",
     "text": [
      "Found match at 1:109740350\n"
     ]
    },
    {
     "name": "stderr",
     "output_type": "stream",
     "text": [
      "  5%|▍         | 12595815/261666406 [01:36<31:29, 131839.12it/s]"
     ]
    },
    {
     "name": "stdout",
     "output_type": "stream",
     "text": [
      "Found match at 1:117060566\n"
     ]
    },
    {
     "name": "stderr",
     "output_type": "stream",
     "text": [
      "  5%|▍         | 12831898/261666406 [01:37<31:51, 130200.86it/s]"
     ]
    },
    {
     "name": "stdout",
     "output_type": "stream",
     "text": [
      "Found match at 1:121184715\n"
     ]
    },
    {
     "name": "stderr",
     "output_type": "stream",
     "text": [
      "  5%|▌         | 14298532/261666406 [01:49<31:57, 129019.42it/s]"
     ]
    },
    {
     "name": "stdout",
     "output_type": "stream",
     "text": [
      "Found match at 1:152786180\n"
     ]
    },
    {
     "name": "stderr",
     "output_type": "stream",
     "text": [
      "  6%|▌         | 15232171/261666406 [01:56<31:30, 130351.88it/s]"
     ]
    },
    {
     "name": "stdout",
     "output_type": "stream",
     "text": [
      "Found match at 1:155244275\n"
     ]
    },
    {
     "name": "stderr",
     "output_type": "stream",
     "text": [
      "  6%|▋         | 16682742/261666406 [02:07<31:12, 130829.46it/s]"
     ]
    },
    {
     "name": "stdout",
     "output_type": "stream",
     "text": [
      "Found match at 1:161038745\n"
     ]
    },
    {
     "name": "stderr",
     "output_type": "stream",
     "text": [
      "  6%|▋         | 16735269/261666406 [02:07<31:16, 130520.03it/s]"
     ]
    },
    {
     "name": "stdout",
     "output_type": "stream",
     "text": [
      "Found match at 1:161118210\n"
     ]
    },
    {
     "name": "stderr",
     "output_type": "stream",
     "text": [
      "  7%|▋         | 17011097/261666406 [02:09<30:58, 131637.79it/s]"
     ]
    },
    {
     "name": "stdout",
     "output_type": "stream",
     "text": [
      "Found match at 1:161367719\n",
      "Found match at 1:161367814\n"
     ]
    },
    {
     "name": "stderr",
     "output_type": "stream",
     "text": [
      "  7%|▋         | 18276586/261666406 [02:19<30:53, 131321.22it/s]"
     ]
    },
    {
     "name": "stdout",
     "output_type": "stream",
     "text": [
      "No match at 1:179084871, moving to next qtl, distance: 31\n"
     ]
    },
    {
     "name": "stderr",
     "output_type": "stream",
     "text": [
      "  8%|▊         | 21376292/261666406 [02:43<30:24, 131705.87it/s]"
     ]
    },
    {
     "name": "stdout",
     "output_type": "stream",
     "text": [
      "Found match at 1:224356827\n"
     ]
    },
    {
     "name": "stderr",
     "output_type": "stream",
     "text": [
      "  9%|▊         | 22570343/261666406 [02:52<30:52, 129038.97it/s]"
     ]
    },
    {
     "name": "stdout",
     "output_type": "stream",
     "text": [
      "No match at 1:236603987, moving to next qtl, distance: -2031\n"
     ]
    },
    {
     "name": "stderr",
     "output_type": "stream",
     "text": [
      "  9%|▉         | 23026763/261666406 [02:55<25:11, 157888.43it/s]"
     ]
    },
    {
     "name": "stdout",
     "output_type": "stream",
     "text": [
      "No match at 1:245016741, moving to next qtl, distance: -132\n"
     ]
    },
    {
     "name": "stderr",
     "output_type": "stream",
     "text": [
      "  9%|▉         | 23949815/261666406 [03:01<30:46, 128737.01it/s]"
     ]
    },
    {
     "name": "stdout",
     "output_type": "stream",
     "text": [
      "Found match at 2:9843575\n",
      "Found match at 2:9843831\n",
      "No match at 2:9875497, moving to next qtl, distance: -1257\n",
      "No match at 2:9875497, moving to next qtl, distance: -696\n"
     ]
    },
    {
     "name": "stderr",
     "output_type": "stream",
     "text": [
      "  9%|▉         | 24235243/261666406 [03:04<30:36, 129297.14it/s]"
     ]
    },
    {
     "name": "stdout",
     "output_type": "stream",
     "text": [
      "Found match at 2:15591874\n"
     ]
    },
    {
     "name": "stderr",
     "output_type": "stream",
     "text": [
      " 10%|▉         | 25786052/261666406 [03:16<30:24, 129255.02it/s]"
     ]
    },
    {
     "name": "stdout",
     "output_type": "stream",
     "text": [
      "No match at 2:33598748, moving to next qtl, distance: -190\n"
     ]
    },
    {
     "name": "stderr",
     "output_type": "stream",
     "text": [
      " 10%|█         | 26541081/261666406 [03:21<29:56, 130895.73it/s]"
     ]
    },
    {
     "name": "stdout",
     "output_type": "stream",
     "text": [
      "Found match at 2:46541996\n"
     ]
    },
    {
     "name": "stderr",
     "output_type": "stream",
     "text": [
      " 11%|█         | 27704925/261666406 [03:30<29:29, 132224.81it/s]"
     ]
    },
    {
     "name": "stdout",
     "output_type": "stream",
     "text": [
      "No match at 2:64550974, moving to next qtl, distance: -455\n"
     ]
    },
    {
     "name": "stderr",
     "output_type": "stream",
     "text": [
      " 11%|█         | 28416170/261666406 [03:36<29:27, 131991.69it/s]"
     ]
    },
    {
     "name": "stdout",
     "output_type": "stream",
     "text": [
      "Found match at 2:73386213\n",
      "No match at 2:73418622, moving to next qtl, distance: -903\n",
      "No match at 2:73418622, moving to next qtl, distance: -5681\n"
     ]
    },
    {
     "name": "stderr",
     "output_type": "stream",
     "text": [
      " 11%|█         | 28469308/261666406 [03:36<29:20, 132477.36it/s]"
     ]
    },
    {
     "name": "stdout",
     "output_type": "stream",
     "text": [
      "Found match at 2:73828835\n"
     ]
    },
    {
     "name": "stderr",
     "output_type": "stream",
     "text": [
      " 11%|█         | 28905345/261666406 [03:39<29:46, 130299.67it/s]"
     ]
    },
    {
     "name": "stdout",
     "output_type": "stream",
     "text": [
      "Found match at 2:74958729\n"
     ]
    },
    {
     "name": "stderr",
     "output_type": "stream",
     "text": [
      " 11%|█▏        | 29603873/261666406 [03:45<29:34, 130795.19it/s]"
     ]
    },
    {
     "name": "stdout",
     "output_type": "stream",
     "text": [
      "No match at 2:94588021, moving to next qtl, distance: 6402\n"
     ]
    },
    {
     "name": "stderr",
     "output_type": "stream",
     "text": [
      " 12%|█▏        | 31407079/261666406 [03:59<29:26, 130379.53it/s]"
     ]
    },
    {
     "name": "stdout",
     "output_type": "stream",
     "text": [
      "No match at 2:119759421, moving to next qtl, distance: -7701\n"
     ]
    },
    {
     "name": "stderr",
     "output_type": "stream",
     "text": [
      " 12%|█▏        | 31613832/261666406 [04:00<29:26, 130241.39it/s]"
     ]
    },
    {
     "name": "stdout",
     "output_type": "stream",
     "text": [
      "No match at 2:127342728, moving to next qtl, distance: -1332\n"
     ]
    },
    {
     "name": "stderr",
     "output_type": "stream",
     "text": [
      " 12%|█▏        | 32135777/261666406 [04:04<29:38, 129090.92it/s]"
     ]
    },
    {
     "name": "stdout",
     "output_type": "stream",
     "text": [
      "No match at 2:135230447, moving to next qtl, distance: -23\n"
     ]
    },
    {
     "name": "stderr",
     "output_type": "stream",
     "text": [
      " 14%|█▎        | 35365041/261666406 [04:29<29:27, 128067.81it/s]"
     ]
    },
    {
     "name": "stdout",
     "output_type": "stream",
     "text": [
      "No match at 2:195575476, moving to next qtl, distance: -357\n",
      "No match at 2:195575476, moving to next qtl, distance: 534\n"
     ]
    },
    {
     "name": "stderr",
     "output_type": "stream",
     "text": [
      " 14%|█▍        | 37041779/261666406 [04:42<28:54, 129526.95it/s]"
     ]
    },
    {
     "name": "stdout",
     "output_type": "stream",
     "text": [
      "Found match at 2:214809647\n"
     ]
    },
    {
     "name": "stderr",
     "output_type": "stream",
     "text": [
      " 15%|█▍        | 38934311/261666406 [04:57<28:08, 131902.86it/s]"
     ]
    },
    {
     "name": "stdout",
     "output_type": "stream",
     "text": [
      "No match at 2:231529944, moving to next qtl, distance: -8708\n"
     ]
    },
    {
     "name": "stderr",
     "output_type": "stream",
     "text": [
      " 15%|█▌        | 40411898/261666406 [05:08<28:05, 131297.39it/s]"
     ]
    },
    {
     "name": "stdout",
     "output_type": "stream",
     "text": [
      "Found match at 2:241323808\n"
     ]
    },
    {
     "name": "stderr",
     "output_type": "stream",
     "text": [
      " 16%|█▌        | 40584411/261666406 [05:09<22:13, 165789.97it/s]"
     ]
    },
    {
     "name": "stdout",
     "output_type": "stream",
     "text": [
      "Found match at 2:241734689\n"
     ]
    },
    {
     "name": "stderr",
     "output_type": "stream",
     "text": [
      " 16%|█▌        | 41820701/261666406 [05:18<27:52, 131418.38it/s]"
     ]
    },
    {
     "name": "stdout",
     "output_type": "stream",
     "text": [
      "Found match at 3:12484507\n"
     ]
    },
    {
     "name": "stderr",
     "output_type": "stream",
     "text": [
      " 17%|█▋        | 43641241/261666406 [05:32<27:36, 131642.97it/s]"
     ]
    },
    {
     "name": "stdout",
     "output_type": "stream",
     "text": [
      "No match at 3:39406219, moving to next qtl, distance: -217\n",
      "Found match at 3:39406933\n",
      "No match at 3:39466697, moving to next qtl, distance: -8178\n",
      "No match at 3:39466697, moving to next qtl, distance: 9905\n",
      "No match at 3:39466697, moving to next qtl, distance: 8174\n",
      "No match at 3:39466697, moving to next qtl, distance: 2715\n"
     ]
    },
    {
     "name": "stderr",
     "output_type": "stream",
     "text": [
      " 19%|█▉        | 49949985/261666406 [06:20<26:59, 130706.12it/s]"
     ]
    },
    {
     "name": "stdout",
     "output_type": "stream",
     "text": [
      "No match at 3:121834515, moving to next qtl, distance: -3426\n"
     ]
    },
    {
     "name": "stderr",
     "output_type": "stream",
     "text": [
      " 20%|██        | 53269508/261666406 [06:45<21:11, 163841.63it/s]"
     ]
    },
    {
     "name": "stdout",
     "output_type": "stream",
     "text": [
      "No match at 3:157436349, moving to next qtl, distance: -9659\n"
     ]
    },
    {
     "name": "stderr",
     "output_type": "stream",
     "text": [
      " 22%|██▏       | 58210637/261666406 [07:14<26:18, 128863.55it/s]"
     ]
    },
    {
     "name": "stdout",
     "output_type": "stream",
     "text": [
      "No match at 4:17614140, moving to next qtl, distance: 5604\n",
      "No match at 4:17614140, moving to next qtl, distance: 5307\n",
      "No match at 4:17614140, moving to next qtl, distance: 522\n",
      "No match at 4:17614140, moving to next qtl, distance: -233\n"
     ]
    },
    {
     "name": "stderr",
     "output_type": "stream",
     "text": [
      " 23%|██▎       | 59195494/261666406 [07:22<25:39, 131543.91it/s]"
     ]
    },
    {
     "name": "stdout",
     "output_type": "stream",
     "text": [
      "Found match at 4:41990735\n"
     ]
    },
    {
     "name": "stderr",
     "output_type": "stream",
     "text": [
      " 23%|██▎       | 60015137/261666406 [07:28<25:34, 131403.51it/s]"
     ]
    },
    {
     "name": "stdout",
     "output_type": "stream",
     "text": [
      "No match at 4:67545002, moving to next qtl, distance: -1018\n",
      "No match at 4:67644273, moving to next qtl, distance: -5724\n",
      "No match at 4:67644273, moving to next qtl, distance: -5621\n"
     ]
    },
    {
     "name": "stderr",
     "output_type": "stream",
     "text": [
      " 23%|██▎       | 60850747/261666406 [07:34<25:34, 130842.39it/s]"
     ]
    },
    {
     "name": "stdout",
     "output_type": "stream",
     "text": [
      "No match at 4:76147896, moving to next qtl, distance: -5746\n",
      "No match at 4:76147896, moving to next qtl, distance: 4106\n"
     ]
    },
    {
     "name": "stderr",
     "output_type": "stream",
     "text": [
      " 24%|██▍       | 62670427/261666406 [07:48<25:08, 131959.67it/s]"
     ]
    },
    {
     "name": "stdout",
     "output_type": "stream",
     "text": [
      "No match at 4:102809895, moving to next qtl, distance: 5589\n"
     ]
    },
    {
     "name": "stderr",
     "output_type": "stream",
     "text": [
      " 24%|██▍       | 63734201/261666406 [07:56<24:44, 133316.40it/s]"
     ]
    },
    {
     "name": "stdout",
     "output_type": "stream",
     "text": [
      "No match at 4:119518598, moving to next qtl, distance: 4945\n",
      "No match at 4:119518598, moving to next qtl, distance: 105\n"
     ]
    },
    {
     "name": "stderr",
     "output_type": "stream",
     "text": [
      " 24%|██▍       | 63800818/261666406 [07:57<24:54, 132388.30it/s]"
     ]
    },
    {
     "name": "stdout",
     "output_type": "stream",
     "text": [
      "Found match at 4:121801213\n"
     ]
    },
    {
     "name": "stderr",
     "output_type": "stream",
     "text": [
      " 24%|██▍       | 64013589/261666406 [07:58<24:47, 132887.58it/s]"
     ]
    },
    {
     "name": "stdout",
     "output_type": "stream",
     "text": [
      "No match at 4:127964642, moving to next qtl, distance: 92\n"
     ]
    },
    {
     "name": "stderr",
     "output_type": "stream",
     "text": [
      " 26%|██▌       | 66819477/261666406 [08:19<21:07, 153761.97it/s]"
     ]
    },
    {
     "name": "stdout",
     "output_type": "stream",
     "text": [
      "Found match at 4:186191475\n"
     ]
    },
    {
     "name": "stderr",
     "output_type": "stream",
     "text": [
      " 26%|██▌       | 67088791/261666406 [08:21<24:21, 133107.63it/s]"
     ]
    },
    {
     "name": "stdout",
     "output_type": "stream",
     "text": [
      "Found match at 5:1345359\n"
     ]
    },
    {
     "name": "stderr",
     "output_type": "stream",
     "text": [
      " 26%|██▋       | 69069423/261666406 [08:36<24:21, 131792.90it/s]"
     ]
    },
    {
     "name": "stdout",
     "output_type": "stream",
     "text": [
      "No match at 5:62346646, moving to next qtl, distance: -41\n"
     ]
    },
    {
     "name": "stderr",
     "output_type": "stream",
     "text": [
      " 27%|██▋       | 69932443/261666406 [08:43<24:18, 131481.31it/s]"
     ]
    },
    {
     "name": "stdout",
     "output_type": "stream",
     "text": [
      "Found match at 5:73565484\n"
     ]
    },
    {
     "name": "stderr",
     "output_type": "stream",
     "text": [
      " 27%|██▋       | 71670343/261666406 [08:56<23:57, 132212.68it/s]"
     ]
    },
    {
     "name": "stdout",
     "output_type": "stream",
     "text": [
      "No match at 5:113513193, moving to next qtl, distance: 279\n"
     ]
    },
    {
     "name": "stderr",
     "output_type": "stream",
     "text": [
      " 29%|██▊       | 74696079/261666406 [09:19<23:34, 132186.28it/s]"
     ]
    },
    {
     "name": "stdout",
     "output_type": "stream",
     "text": [
      "No match at 5:144170129, moving to next qtl, distance: -2101\n"
     ]
    },
    {
     "name": "stderr",
     "output_type": "stream",
     "text": [
      " 29%|██▊       | 74749251/261666406 [09:19<23:26, 132889.53it/s]"
     ]
    },
    {
     "name": "stdout",
     "output_type": "stream",
     "text": [
      "No match at 5:146181974, moving to next qtl, distance: 726\n"
     ]
    },
    {
     "name": "stderr",
     "output_type": "stream",
     "text": [
      " 29%|██▊       | 75226146/261666406 [09:23<23:33, 131887.03it/s]"
     ]
    },
    {
     "name": "stdout",
     "output_type": "stream",
     "text": [
      "No match at 5:150448412, moving to next qtl, distance: 108\n",
      "No match at 5:150448412, moving to next qtl, distance: -6040\n"
     ]
    },
    {
     "name": "stderr",
     "output_type": "stream",
     "text": [
      " 29%|██▉       | 75944688/261666406 [09:28<23:42, 130544.07it/s]"
     ]
    },
    {
     "name": "stdout",
     "output_type": "stream",
     "text": [
      "No match at 5:157345063, moving to next qtl, distance: 329\n"
     ]
    },
    {
     "name": "stderr",
     "output_type": "stream",
     "text": [
      " 30%|██▉       | 77511727/261666406 [09:40<23:15, 131999.54it/s]"
     ]
    },
    {
     "name": "stdout",
     "output_type": "stream",
     "text": [
      "Found match at 5:179023475\n",
      "Found match at 5:179023645\n",
      "Found match at 5:179023994\n",
      "Found match at 5:179024213\n"
     ]
    },
    {
     "name": "stderr",
     "output_type": "stream",
     "text": [
      " 30%|██▉       | 77994367/261666406 [09:44<17:41, 173099.86it/s]"
     ]
    },
    {
     "name": "stdout",
     "output_type": "stream",
     "text": [
      "No match at 5:180860162, moving to next qtl, distance: -2558\n"
     ]
    },
    {
     "name": "stderr",
     "output_type": "stream",
     "text": [
      " 30%|██▉       | 78181275/261666406 [09:45<21:15, 143829.93it/s]"
     ]
    },
    {
     "name": "stdout",
     "output_type": "stream",
     "text": [
      "No match at 6:1311597, moving to next qtl, distance: 45\n"
     ]
    },
    {
     "name": "stderr",
     "output_type": "stream",
     "text": [
      " 30%|███       | 79262695/261666406 [09:53<23:02, 131919.51it/s]"
     ]
    },
    {
     "name": "stdout",
     "output_type": "stream",
     "text": [
      "Found match at 6:24494822\n"
     ]
    },
    {
     "name": "stderr",
     "output_type": "stream",
     "text": [
      " 30%|███       | 79592833/261666406 [09:56<23:18, 130233.05it/s]"
     ]
    },
    {
     "name": "stdout",
     "output_type": "stream",
     "text": [
      "Found match at 6:26364702\n"
     ]
    },
    {
     "name": "stderr",
     "output_type": "stream",
     "text": [
      " 31%|███       | 80001564/261666406 [09:59<22:56, 131973.47it/s]"
     ]
    },
    {
     "name": "stdout",
     "output_type": "stream",
     "text": [
      "Found match at 6:28356161\n"
     ]
    },
    {
     "name": "stderr",
     "output_type": "stream",
     "text": [
      " 31%|███       | 80239129/261666406 [10:00<22:59, 131543.06it/s]"
     ]
    },
    {
     "name": "stdout",
     "output_type": "stream",
     "text": [
      "No match at 6:29826466, moving to next qtl, distance: -579\n",
      "No match at 6:29826466, moving to next qtl, distance: -586\n",
      "No match at 6:29826466, moving to next qtl, distance: -738\n",
      "No match at 6:29826466, moving to next qtl, distance: -8467\n",
      "No match at 6:29826466, moving to next qtl, distance: -8501\n",
      "No match at 6:29826466, moving to next qtl, distance: -8566\n",
      "No match at 6:29826466, moving to next qtl, distance: 4793\n"
     ]
    },
    {
     "name": "stderr",
     "output_type": "stream",
     "text": [
      " 31%|███       | 80831861/261666406 [10:05<22:55, 131487.81it/s]"
     ]
    },
    {
     "name": "stdout",
     "output_type": "stream",
     "text": [
      "No match at 6:31271568, moving to next qtl, distance: -1817\n",
      "No match at 6:31271568, moving to next qtl, distance: 387\n",
      "No match at 6:31271568, moving to next qtl, distance: -6317\n"
     ]
    },
    {
     "name": "stderr",
     "output_type": "stream",
     "text": [
      " 31%|███       | 81669253/261666406 [10:11<22:34, 132901.04it/s]"
     ]
    },
    {
     "name": "stdout",
     "output_type": "stream",
     "text": [
      "No match at 6:32589347, moving to next qtl, distance: 4270\n",
      "No match at 6:32627678, moving to next qtl, distance: 327\n",
      "Found match at 6:32627852\n",
      "Found match at 6:32628097\n",
      "Found match at 6:32628177\n",
      "Found match at 6:32628195\n",
      "No match at 6:32666151, moving to next qtl, distance: -55\n",
      "No match at 6:32666151, moving to next qtl, distance: -108\n",
      "No match at 6:32666151, moving to next qtl, distance: -121\n",
      "No match at 6:32666151, moving to next qtl, distance: -197\n",
      "No match at 6:32666151, moving to next qtl, distance: -216\n",
      "No match at 6:32666151, moving to next qtl, distance: -273\n",
      "No match at 6:32666151, moving to next qtl, distance: -356\n",
      "No match at 6:32666151, moving to next qtl, distance: -6604\n",
      "Found match at 6:32666484\n",
      "Found match at 6:32666485\n",
      "Found match at 6:32666737\n",
      "Found match at 6:32666779\n",
      "Found match at 6:32666816\n",
      "Found match at 6:32666869\n"
     ]
    },
    {
     "name": "stderr",
     "output_type": "stream",
     "text": [
      " 31%|███       | 81709211/261666406 [10:12<22:35, 132766.24it/s]"
     ]
    },
    {
     "name": "stdout",
     "output_type": "stream",
     "text": [
      "Found match at 6:32668361\n",
      "Found match at 6:32668369\n"
     ]
    },
    {
     "name": "stderr",
     "output_type": "stream",
     "text": [
      " 31%|███▏      | 81827870/261666406 [10:13<22:50, 131236.48it/s]"
     ]
    },
    {
     "name": "stdout",
     "output_type": "stream",
     "text": [
      "No match at 6:33068747, moving to next qtl, distance: 2421\n",
      "No match at 6:33068747, moving to next qtl, distance: -6675\n",
      "No match at 6:33179290, moving to next qtl, distance: -6754\n",
      "No match at 6:33179290, moving to next qtl, distance: -6758\n",
      "No match at 6:33179290, moving to next qtl, distance: -17\n"
     ]
    },
    {
     "name": "stderr",
     "output_type": "stream",
     "text": [
      " 31%|███▏      | 81906953/261666406 [10:13<22:50, 131139.69it/s]"
     ]
    },
    {
     "name": "stdout",
     "output_type": "stream",
     "text": [
      "Found match at 6:33272092\n"
     ]
    },
    {
     "name": "stderr",
     "output_type": "stream",
     "text": [
      " 32%|███▏      | 83343522/261666406 [10:24<22:45, 130592.37it/s]"
     ]
    },
    {
     "name": "stdout",
     "output_type": "stream",
     "text": [
      "Found match at 6:43013895\n"
     ]
    },
    {
     "name": "stderr",
     "output_type": "stream",
     "text": [
      " 33%|███▎      | 85170730/261666406 [10:38<22:25, 131215.98it/s]"
     ]
    },
    {
     "name": "stdout",
     "output_type": "stream",
     "text": [
      "No match at 6:78897691, moving to next qtl, distance: -49\n"
     ]
    },
    {
     "name": "stderr",
     "output_type": "stream",
     "text": [
      " 33%|███▎      | 86277042/261666406 [10:46<22:20, 130798.32it/s]"
     ]
    },
    {
     "name": "stdout",
     "output_type": "stream",
     "text": [
      "Found match at 6:106629627\n"
     ]
    },
    {
     "name": "stderr",
     "output_type": "stream",
     "text": [
      " 34%|███▍      | 88389856/261666406 [11:02<19:47, 145901.66it/s]"
     ]
    },
    {
     "name": "stdout",
     "output_type": "stream",
     "text": [
      "No match at 6:138403030, moving to next qtl, distance: -1161\n",
      "Found match at 6:138404692\n"
     ]
    },
    {
     "name": "stderr",
     "output_type": "stream",
     "text": [
      " 35%|███▍      | 90467654/261666406 [11:14<21:32, 132475.14it/s]"
     ]
    },
    {
     "name": "stdout",
     "output_type": "stream",
     "text": [
      "Found match at 7:1160154\n",
      "Found match at 7:1160276\n"
     ]
    },
    {
     "name": "stderr",
     "output_type": "stream",
     "text": [
      " 35%|███▍      | 90998446/261666406 [11:18<21:38, 131483.92it/s]"
     ]
    },
    {
     "name": "stdout",
     "output_type": "stream",
     "text": [
      "No match at 7:6447433, moving to next qtl, distance: -182\n"
     ]
    },
    {
     "name": "stderr",
     "output_type": "stream",
     "text": [
      " 35%|███▍      | 91051272/261666406 [11:18<21:34, 131825.39it/s]"
     ]
    },
    {
     "name": "stdout",
     "output_type": "stream",
     "text": [
      "Found match at 7:6577616\n"
     ]
    },
    {
     "name": "stderr",
     "output_type": "stream",
     "text": [
      " 35%|███▌      | 91755971/261666406 [11:23<21:18, 132905.37it/s]"
     ]
    },
    {
     "name": "stdout",
     "output_type": "stream",
     "text": [
      "No match at 7:23596881, moving to next qtl, distance: -668\n"
     ]
    },
    {
     "name": "stderr",
     "output_type": "stream",
     "text": [
      " 35%|███▌      | 92865112/261666406 [11:32<21:39, 129917.35it/s]"
     ]
    },
    {
     "name": "stdout",
     "output_type": "stream",
     "text": [
      "No match at 7:38462612, moving to next qtl, distance: -9627\n",
      "No match at 7:38462612, moving to next qtl, distance: 7296\n"
     ]
    },
    {
     "name": "stderr",
     "output_type": "stream",
     "text": [
      " 36%|███▌      | 94263832/261666406 [11:42<21:05, 132262.64it/s]"
     ]
    },
    {
     "name": "stdout",
     "output_type": "stream",
     "text": [
      "No match at 7:66740232, moving to next qtl, distance: -209\n"
     ]
    },
    {
     "name": "stderr",
     "output_type": "stream",
     "text": [
      " 36%|███▋      | 94964802/261666406 [11:48<21:10, 131252.73it/s]"
     ]
    },
    {
     "name": "stdout",
     "output_type": "stream",
     "text": [
      "Found match at 7:76048260\n"
     ]
    },
    {
     "name": "stderr",
     "output_type": "stream",
     "text": [
      " 37%|███▋      | 97632344/261666406 [12:08<20:50, 131213.38it/s]"
     ]
    },
    {
     "name": "stdout",
     "output_type": "stream",
     "text": [
      "No match at 7:101321263, moving to next qtl, distance: -790\n"
     ]
    },
    {
     "name": "stderr",
     "output_type": "stream",
     "text": [
      " 38%|███▊      | 99509399/261666406 [12:22<20:48, 129888.24it/s]"
     ]
    },
    {
     "name": "stdout",
     "output_type": "stream",
     "text": [
      "Found match at 7:128938247\n"
     ]
    },
    {
     "name": "stderr",
     "output_type": "stream",
     "text": [
      " 38%|███▊      | 99668574/261666406 [12:23<20:19, 132844.55it/s]"
     ]
    },
    {
     "name": "stdout",
     "output_type": "stream",
     "text": [
      "No match at 7:130344315, moving to next qtl, distance: 9424\n"
     ]
    },
    {
     "name": "stderr",
     "output_type": "stream",
     "text": [
      " 38%|███▊      | 99775115/261666406 [12:24<20:24, 132256.90it/s]"
     ]
    },
    {
     "name": "stdout",
     "output_type": "stream",
     "text": [
      "No match at 7:130485670, moving to next qtl, distance: 7723\n"
     ]
    },
    {
     "name": "stderr",
     "output_type": "stream",
     "text": [
      " 38%|███▊      | 99973115/261666406 [12:26<20:25, 131992.91it/s]"
     ]
    },
    {
     "name": "stdout",
     "output_type": "stream",
     "text": [
      "No match at 7:135168973, moving to next qtl, distance: -7091\n"
     ]
    },
    {
     "name": "stderr",
     "output_type": "stream",
     "text": [
      " 38%|███▊      | 100012774/261666406 [12:26<20:24, 132042.59it/s]"
     ]
    },
    {
     "name": "stdout",
     "output_type": "stream",
     "text": [
      "No match at 7:135437830, moving to next qtl, distance: -930\n"
     ]
    },
    {
     "name": "stderr",
     "output_type": "stream",
     "text": [
      " 39%|███▊      | 101177968/261666406 [12:35<20:15, 132024.98it/s]"
     ]
    },
    {
     "name": "stdout",
     "output_type": "stream",
     "text": [
      "Found match at 7:150324193\n"
     ]
    },
    {
     "name": "stderr",
     "output_type": "stream",
     "text": [
      " 39%|███▉      | 101559087/261666406 [12:38<16:43, 159500.89it/s]"
     ]
    },
    {
     "name": "stdout",
     "output_type": "stream",
     "text": [
      "No match at 7:151341271, moving to next qtl, distance: -4907\n"
     ]
    },
    {
     "name": "stderr",
     "output_type": "stream",
     "text": [
      " 39%|███▉      | 103110568/261666406 [12:48<20:01, 131996.83it/s]"
     ]
    },
    {
     "name": "stdout",
     "output_type": "stream",
     "text": [
      "No match at 8:17972082, moving to next qtl, distance: -74\n"
     ]
    },
    {
     "name": "stderr",
     "output_type": "stream",
     "text": [
      " 40%|███▉      | 103999608/261666406 [12:55<19:59, 131489.05it/s]"
     ]
    },
    {
     "name": "stdout",
     "output_type": "stream",
     "text": [
      "Found match at 8:25459273\n"
     ]
    },
    {
     "name": "stderr",
     "output_type": "stream",
     "text": [
      " 40%|████      | 105369649/261666406 [13:06<19:55, 130785.15it/s]"
     ]
    },
    {
     "name": "stdout",
     "output_type": "stream",
     "text": [
      "Found match at 8:42152948\n"
     ]
    },
    {
     "name": "stderr",
     "output_type": "stream",
     "text": [
      " 40%|████      | 105487628/261666406 [13:06<19:49, 131259.16it/s]"
     ]
    },
    {
     "name": "stdout",
     "output_type": "stream",
     "text": [
      "Found match at 8:42541861\n"
     ]
    },
    {
     "name": "stderr",
     "output_type": "stream",
     "text": [
      " 41%|████      | 107307288/261666406 [13:20<19:21, 132919.26it/s]"
     ]
    },
    {
     "name": "stdout",
     "output_type": "stream",
     "text": [
      "No match at 8:81841457, moving to next qtl, distance: -1634\n"
     ]
    },
    {
     "name": "stderr",
     "output_type": "stream",
     "text": [
      " 41%|████▏     | 108066630/261666406 [13:26<19:17, 132650.01it/s]"
     ]
    },
    {
     "name": "stdout",
     "output_type": "stream",
     "text": [
      "No match at 8:94822350, moving to next qtl, distance: -2159\n",
      "No match at 8:94822350, moving to next qtl, distance: -383\n"
     ]
    },
    {
     "name": "stderr",
     "output_type": "stream",
     "text": [
      " 42%|████▏     | 108766163/261666406 [13:31<19:21, 131603.33it/s]"
     ]
    },
    {
     "name": "stdout",
     "output_type": "stream",
     "text": [
      "No match at 8:102272430, moving to next qtl, distance: -4885\n"
     ]
    },
    {
     "name": "stderr",
     "output_type": "stream",
     "text": [
      " 42%|████▏     | 110878509/261666406 [13:47<19:05, 131641.51it/s]"
     ]
    },
    {
     "name": "stdout",
     "output_type": "stream",
     "text": [
      "Found match at 8:143578375\n",
      "Found match at 8:143578375\n"
     ]
    },
    {
     "name": "stderr",
     "output_type": "stream",
     "text": [
      " 42%|████▏     | 111038955/261666406 [13:49<18:43, 134084.94it/s]"
     ]
    },
    {
     "name": "stdout",
     "output_type": "stream",
     "text": [
      "Found match at 8:143617254\n"
     ]
    },
    {
     "name": "stderr",
     "output_type": "stream",
     "text": [
      " 43%|████▎     | 111332526/261666406 [13:51<18:58, 132093.41it/s]"
     ]
    },
    {
     "name": "stdout",
     "output_type": "stream",
     "text": [
      "Found match at 8:144094957\n",
      "Found match at 8:144095198\n",
      "Found match at 8:144103600\n",
      "Found match at 8:144104196\n"
     ]
    },
    {
     "name": "stderr",
     "output_type": "stream",
     "text": [
      " 43%|████▎     | 111522766/261666406 [13:52<17:08, 146046.47it/s]"
     ]
    },
    {
     "name": "stdout",
     "output_type": "stream",
     "text": [
      "Found match at 8:144428520\n",
      "Found match at 8:144428850\n",
      "Found match at 8:144428915\n"
     ]
    },
    {
     "name": "stderr",
     "output_type": "stream",
     "text": [
      " 43%|████▎     | 112181430/261666406 [13:57<18:44, 132877.99it/s]"
     ]
    },
    {
     "name": "stdout",
     "output_type": "stream",
     "text": [
      "Found match at 9:4679078\n"
     ]
    },
    {
     "name": "stderr",
     "output_type": "stream",
     "text": [
      " 44%|████▍     | 114958621/261666406 [14:18<18:46, 130206.64it/s]"
     ]
    },
    {
     "name": "stdout",
     "output_type": "stream",
     "text": [
      "Found match at 9:83980155\n"
     ]
    },
    {
     "name": "stderr",
     "output_type": "stream",
     "text": [
      " 44%|████▍     | 115367147/261666406 [14:21<18:34, 131286.15it/s]"
     ]
    },
    {
     "name": "stdout",
     "output_type": "stream",
     "text": [
      "Found match at 9:90801885\n"
     ]
    },
    {
     "name": "stderr",
     "output_type": "stream",
     "text": [
      " 44%|████▍     | 115420171/261666406 [14:21<18:27, 132042.67it/s]"
     ]
    },
    {
     "name": "stdout",
     "output_type": "stream",
     "text": [
      "Found match at 9:92293635\n",
      "Found match at 9:92293811\n",
      "No match at 9:92323660, moving to next qtl, distance: -4742\n"
     ]
    },
    {
     "name": "stderr",
     "output_type": "stream",
     "text": [
      " 44%|████▍     | 115777697/261666406 [14:24<18:22, 132295.56it/s]"
     ]
    },
    {
     "name": "stdout",
     "output_type": "stream",
     "text": [
      "Found match at 9:95876006\n"
     ]
    },
    {
     "name": "stderr",
     "output_type": "stream",
     "text": [
      " 45%|████▍     | 117346310/261666406 [14:36<18:23, 130835.97it/s]"
     ]
    },
    {
     "name": "stdout",
     "output_type": "stream",
     "text": [
      "No match at 9:122477425, moving to next qtl, distance: -8493\n"
     ]
    },
    {
     "name": "stderr",
     "output_type": "stream",
     "text": [
      " 45%|████▌     | 118063372/261666406 [14:41<18:05, 132259.63it/s]"
     ]
    },
    {
     "name": "stdout",
     "output_type": "stream",
     "text": [
      "Found match at 9:127803090\n"
     ]
    },
    {
     "name": "stderr",
     "output_type": "stream",
     "text": [
      " 45%|████▌     | 118799012/261666406 [14:47<18:01, 132060.56it/s]"
     ]
    },
    {
     "name": "stdout",
     "output_type": "stream",
     "text": [
      "Found match at 9:129803082\n",
      "No match at 9:129834774, moving to next qtl, distance: -1970\n"
     ]
    },
    {
     "name": "stderr",
     "output_type": "stream",
     "text": [
      " 46%|████▌     | 120430086/261666406 [14:59<14:10, 166007.69it/s]"
     ]
    },
    {
     "name": "stdout",
     "output_type": "stream",
     "text": [
      "No match at 9:137549883, moving to next qtl, distance: -708\n"
     ]
    },
    {
     "name": "stderr",
     "output_type": "stream",
     "text": [
      " 46%|████▋     | 121632152/261666406 [15:08<17:59, 129696.52it/s]"
     ]
    },
    {
     "name": "stdout",
     "output_type": "stream",
     "text": [
      "No match at 10:16483834, moving to next qtl, distance: 981\n"
     ]
    },
    {
     "name": "stderr",
     "output_type": "stream",
     "text": [
      " 47%|████▋     | 121775962/261666406 [15:09<17:53, 130273.43it/s]"
     ]
    },
    {
     "name": "stdout",
     "output_type": "stream",
     "text": [
      "No match at 10:18658930, moving to next qtl, distance: -575\n"
     ]
    },
    {
     "name": "stderr",
     "output_type": "stream",
     "text": [
      " 47%|████▋     | 122196780/261666406 [15:12<17:41, 131386.93it/s]"
     ]
    },
    {
     "name": "stdout",
     "output_type": "stream",
     "text": [
      "Found match at 10:27155399\n"
     ]
    },
    {
     "name": "stderr",
     "output_type": "stream",
     "text": [
      " 47%|████▋     | 122368569/261666406 [15:14<17:45, 130716.66it/s]"
     ]
    },
    {
     "name": "stdout",
     "output_type": "stream",
     "text": [
      "Found match at 10:28532515\n"
     ]
    },
    {
     "name": "stderr",
     "output_type": "stream",
     "text": [
      " 48%|████▊     | 124885106/261666406 [15:33<17:22, 131225.69it/s]"
     ]
    },
    {
     "name": "stdout",
     "output_type": "stream",
     "text": [
      "Found match at 10:73111011\n",
      "No match at 10:73134253, moving to next qtl, distance: -701\n"
     ]
    },
    {
     "name": "stderr",
     "output_type": "stream",
     "text": [
      " 48%|████▊     | 125305479/261666406 [15:36<17:21, 130914.91it/s]"
     ]
    },
    {
     "name": "stdout",
     "output_type": "stream",
     "text": [
      "Found match at 10:75210855\n"
     ]
    },
    {
     "name": "stderr",
     "output_type": "stream",
     "text": [
      " 49%|████▊     | 127130783/261666406 [15:50<17:10, 130532.49it/s]"
     ]
    },
    {
     "name": "stdout",
     "output_type": "stream",
     "text": [
      "No match at 10:98414681, moving to next qtl, distance: 160\n"
     ]
    },
    {
     "name": "stderr",
     "output_type": "stream",
     "text": [
      " 49%|████▉     | 128949308/261666406 [16:04<16:49, 131459.09it/s]"
     ]
    },
    {
     "name": "stdout",
     "output_type": "stream",
     "text": [
      "Found match at 10:120851145\n"
     ]
    },
    {
     "name": "stderr",
     "output_type": "stream",
     "text": [
      " 49%|████▉     | 129448987/261666406 [16:08<16:57, 129974.41it/s]"
     ]
    },
    {
     "name": "stdout",
     "output_type": "stream",
     "text": [
      "No match at 10:125795662, moving to next qtl, distance: -91\n"
     ]
    },
    {
     "name": "stderr",
     "output_type": "stream",
     "text": [
      " 50%|████▉     | 129595133/261666406 [16:09<16:43, 131614.34it/s]"
     ]
    },
    {
     "name": "stdout",
     "output_type": "stream",
     "text": [
      "Found match at 10:129467281\n"
     ]
    },
    {
     "name": "stderr",
     "output_type": "stream",
     "text": [
      " 50%|████▉     | 129709029/261666406 [16:10<14:12, 154789.75it/s]"
     ]
    },
    {
     "name": "stdout",
     "output_type": "stream",
     "text": [
      "Found match at 10:132331810\n"
     ]
    },
    {
     "name": "stderr",
     "output_type": "stream",
     "text": [
      " 50%|████▉     | 130156777/261666406 [16:12<16:39, 131634.99it/s]"
     ]
    },
    {
     "name": "stdout",
     "output_type": "stream",
     "text": [
      "Found match at 11:313755\n"
     ]
    },
    {
     "name": "stderr",
     "output_type": "stream",
     "text": [
      " 50%|████▉     | 130620563/261666406 [16:16<16:42, 130733.50it/s]"
     ]
    },
    {
     "name": "stdout",
     "output_type": "stream",
     "text": [
      "Found match at 11:827713\n"
     ]
    },
    {
     "name": "stderr",
     "output_type": "stream",
     "text": [
      " 50%|█████     | 131124357/261666406 [16:20<16:22, 132831.25it/s]"
     ]
    },
    {
     "name": "stdout",
     "output_type": "stream",
     "text": [
      "Found match at 11:2301968\n",
      "Found match at 11:2301990\n",
      "Found match at 11:2301990\n"
     ]
    },
    {
     "name": "stderr",
     "output_type": "stream",
     "text": [
      " 51%|█████     | 132676311/261666406 [16:32<16:11, 132772.26it/s]"
     ]
    },
    {
     "name": "stdout",
     "output_type": "stream",
     "text": [
      "No match at 11:8942515, moving to next qtl, distance: -24\n"
     ]
    },
    {
     "name": "stderr",
     "output_type": "stream",
     "text": [
      " 51%|█████     | 133759385/261666406 [16:40<16:18, 130683.85it/s]"
     ]
    },
    {
     "name": "stdout",
     "output_type": "stream",
     "text": [
      "Found match at 11:18412342\n"
     ]
    },
    {
     "name": "stderr",
     "output_type": "stream",
     "text": [
      " 51%|█████     | 133838040/261666406 [16:40<16:23, 129942.23it/s]"
     ]
    },
    {
     "name": "stdout",
     "output_type": "stream",
     "text": [
      "No match at 11:18725687, moving to next qtl, distance: 194\n"
     ]
    },
    {
     "name": "stderr",
     "output_type": "stream",
     "text": [
      " 51%|█████▏    | 134548331/261666406 [16:46<16:11, 130794.27it/s]"
     ]
    },
    {
     "name": "stdout",
     "output_type": "stream",
     "text": [
      "Found match at 11:33039223\n",
      "Found match at 11:33040192\n",
      "Found match at 11:33040268\n"
     ]
    },
    {
     "name": "stderr",
     "output_type": "stream",
     "text": [
      " 52%|█████▏    | 135194743/261666406 [16:51<15:54, 132506.39it/s]"
     ]
    },
    {
     "name": "stdout",
     "output_type": "stream",
     "text": [
      "Found match at 11:44066439\n",
      "Found match at 11:44066439\n"
     ]
    },
    {
     "name": "stderr",
     "output_type": "stream",
     "text": [
      " 52%|█████▏    | 136570530/261666406 [17:01<15:43, 132534.99it/s]"
     ]
    },
    {
     "name": "stdout",
     "output_type": "stream",
     "text": [
      "No match at 11:57647015, moving to next qtl, distance: -4732\n"
     ]
    },
    {
     "name": "stderr",
     "output_type": "stream",
     "text": [
      " 53%|█████▎    | 139654763/261666406 [17:24<15:16, 133162.70it/s]"
     ]
    },
    {
     "name": "stdout",
     "output_type": "stream",
     "text": [
      "No match at 11:65793208, moving to next qtl, distance: 34\n"
     ]
    },
    {
     "name": "stderr",
     "output_type": "stream",
     "text": [
      " 54%|█████▍    | 141117751/261666406 [17:35<15:14, 131864.98it/s]"
     ]
    },
    {
     "name": "stdout",
     "output_type": "stream",
     "text": [
      "Found match at 11:71453075\n",
      "Found match at 11:71453425\n"
     ]
    },
    {
     "name": "stderr",
     "output_type": "stream",
     "text": [
      " 55%|█████▍    | 142714996/261666406 [17:47<14:58, 132390.10it/s]"
     ]
    },
    {
     "name": "stdout",
     "output_type": "stream",
     "text": [
      "Found match at 11:78139778\n"
     ]
    },
    {
     "name": "stderr",
     "output_type": "stream",
     "text": [
      " 55%|█████▍    | 143798541/261666406 [17:56<14:52, 132022.97it/s]"
     ]
    },
    {
     "name": "stdout",
     "output_type": "stream",
     "text": [
      "Found match at 11:95789866\n"
     ]
    },
    {
     "name": "stderr",
     "output_type": "stream",
     "text": [
      " 56%|█████▌    | 146046121/261666406 [18:13<12:25, 155044.51it/s]"
     ]
    },
    {
     "name": "stdout",
     "output_type": "stream",
     "text": [
      "Found match at 11:119018668\n"
     ]
    },
    {
     "name": "stderr",
     "output_type": "stream",
     "text": [
      " 56%|█████▋    | 147662784/261666406 [18:21<13:43, 138392.45it/s]"
     ]
    },
    {
     "name": "stdout",
     "output_type": "stream",
     "text": [
      "No match at 12:643135, moving to next qtl, distance: -8708\n"
     ]
    },
    {
     "name": "stderr",
     "output_type": "stream",
     "text": [
      " 57%|█████▋    | 149746168/261666406 [18:37<14:14, 130983.55it/s]"
     ]
    },
    {
     "name": "stdout",
     "output_type": "stream",
     "text": [
      "No match at 12:10613090, moving to next qtl, distance: 354\n"
     ]
    },
    {
     "name": "stderr",
     "output_type": "stream",
     "text": [
      " 58%|█████▊    | 151522641/261666406 [18:50<13:54, 132054.19it/s]"
     ]
    },
    {
     "name": "stdout",
     "output_type": "stream",
     "text": [
      "Found match at 12:31073506\n",
      "Found match at 12:31073901\n",
      "Found match at 12:31074527\n",
      "Found match at 12:31074546\n"
     ]
    },
    {
     "name": "stderr",
     "output_type": "stream",
     "text": [
      " 59%|█████▉    | 155263871/261666406 [19:19<13:29, 131467.52it/s]"
     ]
    },
    {
     "name": "stdout",
     "output_type": "stream",
     "text": [
      "Found match at 12:56042145\n"
     ]
    },
    {
     "name": "stderr",
     "output_type": "stream",
     "text": [
      " 62%|██████▏   | 161224733/261666406 [20:04<12:52, 130030.00it/s]"
     ]
    },
    {
     "name": "stdout",
     "output_type": "stream",
     "text": [
      "Found match at 12:120469468\n"
     ]
    },
    {
     "name": "stderr",
     "output_type": "stream",
     "text": [
      " 62%|██████▏   | 162030114/261666406 [20:10<12:37, 131592.51it/s]"
     ]
    },
    {
     "name": "stdout",
     "output_type": "stream",
     "text": [
      "Found match at 12:123364504\n",
      "Found match at 12:123365227\n"
     ]
    },
    {
     "name": "stderr",
     "output_type": "stream",
     "text": [
      " 62%|██████▏   | 162079600/261666406 [20:11<10:28, 158462.72it/s]"
     ]
    },
    {
     "name": "stdout",
     "output_type": "stream",
     "text": [
      "Found match at 12:123601981\n"
     ]
    },
    {
     "name": "stderr",
     "output_type": "stream",
     "text": [
      " 62%|██████▏   | 162868786/261666406 [20:15<10:01, 164281.17it/s]"
     ]
    },
    {
     "name": "stdout",
     "output_type": "stream",
     "text": [
      "No match at 13:19502776, moving to next qtl, distance: -13\n"
     ]
    },
    {
     "name": "stderr",
     "output_type": "stream",
     "text": [
      " 62%|██████▏   | 163299789/261666406 [20:18<12:33, 130505.49it/s]"
     ]
    },
    {
     "name": "stdout",
     "output_type": "stream",
     "text": [
      "Found match at 13:27424632\n"
     ]
    },
    {
     "name": "stderr",
     "output_type": "stream",
     "text": [
      " 62%|██████▏   | 163326376/261666406 [20:18<12:26, 131814.85it/s]"
     ]
    },
    {
     "name": "stdout",
     "output_type": "stream",
     "text": [
      "Found match at 13:27621358\n"
     ]
    },
    {
     "name": "stderr",
     "output_type": "stream",
     "text": [
      " 63%|██████▎   | 165398985/261666406 [20:34<12:10, 131721.88it/s]"
     ]
    },
    {
     "name": "stdout",
     "output_type": "stream",
     "text": [
      "Found match at 13:79405544\n"
     ]
    },
    {
     "name": "stderr",
     "output_type": "stream",
     "text": [
      " 64%|██████▎   | 166202918/261666406 [20:40<10:33, 150624.90it/s]"
     ]
    },
    {
     "name": "stdout",
     "output_type": "stream",
     "text": [
      "No match at 13:110892631, moving to next qtl, distance: 8461\n",
      "No match at 13:110892631, moving to next qtl, distance: -9673\n",
      "No match at 13:110892631, moving to next qtl, distance: 1561\n",
      "No match at 13:110914505, moving to next qtl, distance: 449\n",
      "Found match at 13:110915555\n",
      "No match at 13:111114118, moving to next qtl, distance: -906\n"
     ]
    },
    {
     "name": "stderr",
     "output_type": "stream",
     "text": [
      " 64%|██████▍   | 167429313/261666406 [20:48<11:52, 132344.20it/s]"
     ]
    },
    {
     "name": "stdout",
     "output_type": "stream",
     "text": [
      "No match at 14:22588656, moving to next qtl, distance: 7\n"
     ]
    },
    {
     "name": "stderr",
     "output_type": "stream",
     "text": [
      " 64%|██████▍   | 168117237/261666406 [20:54<12:02, 129553.60it/s]"
     ]
    },
    {
     "name": "stdout",
     "output_type": "stream",
     "text": [
      "Found match at 14:23953727\n",
      "Found match at 14:23953798\n",
      "No match at 14:23965857, moving to next qtl, distance: -2880\n"
     ]
    },
    {
     "name": "stderr",
     "output_type": "stream",
     "text": [
      " 65%|██████▍   | 168843978/261666406 [20:59<11:49, 130873.33it/s]"
     ]
    },
    {
     "name": "stdout",
     "output_type": "stream",
     "text": [
      "Found match at 14:24442646\n"
     ]
    },
    {
     "name": "stderr",
     "output_type": "stream",
     "text": [
      " 65%|██████▍   | 169304986/261666406 [21:03<11:50, 129981.72it/s]"
     ]
    },
    {
     "name": "stdout",
     "output_type": "stream",
     "text": [
      "Found match at 14:34715040\n",
      "Found match at 14:34981897\n"
     ]
    },
    {
     "name": "stderr",
     "output_type": "stream",
     "text": [
      " 65%|██████▍   | 169581658/261666406 [21:05<11:42, 131096.82it/s]"
     ]
    },
    {
     "name": "stdout",
     "output_type": "stream",
     "text": [
      "No match at 14:39088222, moving to next qtl, distance: -154\n"
     ]
    },
    {
     "name": "stderr",
     "output_type": "stream",
     "text": [
      " 66%|██████▌   | 172204970/261666406 [21:25<11:20, 131507.93it/s]"
     ]
    },
    {
     "name": "stdout",
     "output_type": "stream",
     "text": [
      "Found match at 14:73787509\n",
      "No match at 14:73851330, moving to next qtl, distance: 7768\n"
     ]
    },
    {
     "name": "stderr",
     "output_type": "stream",
     "text": [
      " 66%|██████▌   | 172284466/261666406 [21:25<11:16, 132172.58it/s]"
     ]
    },
    {
     "name": "stdout",
     "output_type": "stream",
     "text": [
      "Found match at 14:73950242\n",
      "Found match at 14:73950242\n"
     ]
    },
    {
     "name": "stderr",
     "output_type": "stream",
     "text": [
      " 66%|██████▌   | 172496338/261666406 [21:27<11:16, 131755.69it/s]"
     ]
    },
    {
     "name": "stdout",
     "output_type": "stream",
     "text": [
      "Found match at 14:75002852\n"
     ]
    },
    {
     "name": "stderr",
     "output_type": "stream",
     "text": [
      " 66%|██████▌   | 172801580/261666406 [21:29<11:12, 132237.17it/s]"
     ]
    },
    {
     "name": "stdout",
     "output_type": "stream",
     "text": [
      "No match at 14:77028207, moving to next qtl, distance: -3237\n"
     ]
    },
    {
     "name": "stderr",
     "output_type": "stream",
     "text": [
      " 67%|██████▋   | 174672406/261666406 [21:43<11:00, 131784.85it/s]"
     ]
    },
    {
     "name": "stdout",
     "output_type": "stream",
     "text": [
      "No match at 14:100346328, moving to next qtl, distance: -121\n"
     ]
    },
    {
     "name": "stderr",
     "output_type": "stream",
     "text": [
      " 67%|██████▋   | 174882651/261666406 [21:45<11:07, 130040.13it/s]"
     ]
    },
    {
     "name": "stdout",
     "output_type": "stream",
     "text": [
      "No match at 14:101964072, moving to next qtl, distance: -9024\n"
     ]
    },
    {
     "name": "stderr",
     "output_type": "stream",
     "text": [
      " 67%|██████▋   | 175407378/261666406 [21:49<09:27, 151994.83it/s]"
     ]
    },
    {
     "name": "stdout",
     "output_type": "stream",
     "text": [
      "Found match at 14:103921312\n"
     ]
    },
    {
     "name": "stderr",
     "output_type": "stream",
     "text": [
      " 67%|██████▋   | 175885258/261666406 [21:51<10:20, 138277.74it/s]"
     ]
    },
    {
     "name": "stdout",
     "output_type": "stream",
     "text": [
      "No match at 15:22874734, moving to next qtl, distance: -455\n"
     ]
    },
    {
     "name": "stderr",
     "output_type": "stream",
     "text": [
      " 68%|██████▊   | 179001361/261666406 [22:15<10:29, 131320.13it/s]"
     ]
    },
    {
     "name": "stdout",
     "output_type": "stream",
     "text": [
      "Found match at 15:52180454\n"
     ]
    },
    {
     "name": "stderr",
     "output_type": "stream",
     "text": [
      " 69%|██████▉   | 180451916/261666406 [22:26<10:16, 131752.44it/s]"
     ]
    },
    {
     "name": "stdout",
     "output_type": "stream",
     "text": [
      "Found match at 15:66293569\n"
     ]
    },
    {
     "name": "stderr",
     "output_type": "stream",
     "text": [
      " 69%|██████▉   | 180518326/261666406 [22:26<10:16, 131715.39it/s]"
     ]
    },
    {
     "name": "stdout",
     "output_type": "stream",
     "text": [
      "Found match at 15:66498261\n"
     ]
    },
    {
     "name": "stderr",
     "output_type": "stream",
     "text": [
      " 70%|██████▉   | 182448588/261666406 [22:41<10:00, 131837.44it/s]"
     ]
    },
    {
     "name": "stdout",
     "output_type": "stream",
     "text": [
      "No match at 15:78809986, moving to next qtl, distance: -460\n"
     ]
    },
    {
     "name": "stderr",
     "output_type": "stream",
     "text": [
      " 70%|██████▉   | 182661230/261666406 [22:43<09:58, 131957.43it/s]"
     ]
    },
    {
     "name": "stdout",
     "output_type": "stream",
     "text": [
      "Found match at 15:80152950\n"
     ]
    },
    {
     "name": "stderr",
     "output_type": "stream",
     "text": [
      " 70%|███████   | 183599551/261666406 [22:50<08:23, 155028.32it/s]"
     ]
    },
    {
     "name": "stdout",
     "output_type": "stream",
     "text": [
      "No match at 15:90868087, moving to next qtl, distance: -1910\n"
     ]
    },
    {
     "name": "stderr",
     "output_type": "stream",
     "text": [
      " 71%|███████   | 184591155/261666406 [22:56<09:46, 131504.32it/s]"
     ]
    },
    {
     "name": "stdout",
     "output_type": "stream",
     "text": [
      "Found match at 16:636337\n"
     ]
    },
    {
     "name": "stderr",
     "output_type": "stream",
     "text": [
      " 71%|███████   | 185233235/261666406 [23:01<09:32, 133464.84it/s]"
     ]
    },
    {
     "name": "stdout",
     "output_type": "stream",
     "text": [
      "Found match at 16:1827174\n"
     ]
    },
    {
     "name": "stderr",
     "output_type": "stream",
     "text": [
      " 71%|███████   | 185527658/261666406 [23:03<09:30, 133408.10it/s]"
     ]
    },
    {
     "name": "stdout",
     "output_type": "stream",
     "text": [
      "Found match at 16:2205762\n",
      "No match at 16:2210332, moving to next qtl, distance: -516\n"
     ]
    },
    {
     "name": "stderr",
     "output_type": "stream",
     "text": [
      " 71%|███████   | 185674832/261666406 [23:04<09:31, 133012.15it/s]"
     ]
    },
    {
     "name": "stdout",
     "output_type": "stream",
     "text": [
      "Found match at 16:2460602\n"
     ]
    },
    {
     "name": "stderr",
     "output_type": "stream",
     "text": [
      " 72%|███████▏  | 187169448/261666406 [23:15<09:22, 132479.28it/s]"
     ]
    },
    {
     "name": "stdout",
     "output_type": "stream",
     "text": [
      "No match at 16:8861212, moving to next qtl, distance: 192\n"
     ]
    },
    {
     "name": "stderr",
     "output_type": "stream",
     "text": [
      " 72%|███████▏  | 187967034/261666406 [23:21<09:15, 132615.59it/s]"
     ]
    },
    {
     "name": "stdout",
     "output_type": "stream",
     "text": [
      "Found match at 16:16232314\n"
     ]
    },
    {
     "name": "stderr",
     "output_type": "stream",
     "text": [
      " 74%|███████▍  | 193270016/261666406 [24:01<08:39, 131685.74it/s]"
     ]
    },
    {
     "name": "stdout",
     "output_type": "stream",
     "text": [
      "Found match at 16:67430908\n"
     ]
    },
    {
     "name": "stderr",
     "output_type": "stream",
     "text": [
      " 74%|███████▍  | 193737689/261666406 [24:05<08:30, 133110.47it/s]"
     ]
    },
    {
     "name": "stdout",
     "output_type": "stream",
     "text": [
      "Found match at 16:68311042\n"
     ]
    },
    {
     "name": "stderr",
     "output_type": "stream",
     "text": [
      " 75%|███████▍  | 195992679/261666406 [24:22<08:14, 132726.75it/s]"
     ]
    },
    {
     "name": "stdout",
     "output_type": "stream",
     "text": [
      "No match at 16:88662590, moving to next qtl, distance: -2429\n"
     ]
    },
    {
     "name": "stderr",
     "output_type": "stream",
     "text": [
      " 75%|███████▍  | 196068557/261666406 [24:22<06:53, 158776.54it/s]"
     ]
    },
    {
     "name": "stdout",
     "output_type": "stream",
     "text": [
      "Found match at 16:88811768\n"
     ]
    },
    {
     "name": "stderr",
     "output_type": "stream",
     "text": [
      " 75%|███████▌  | 197259272/261666406 [24:30<08:06, 132317.18it/s]"
     ]
    },
    {
     "name": "stdout",
     "output_type": "stream",
     "text": [
      "Found match at 17:2304032\n"
     ]
    },
    {
     "name": "stderr",
     "output_type": "stream",
     "text": [
      " 75%|███████▌  | 197299135/261666406 [24:30<08:05, 132598.43it/s]"
     ]
    },
    {
     "name": "stdout",
     "output_type": "stream",
     "text": [
      "No match at 17:2400559, moving to next qtl, distance: -3715\n"
     ]
    },
    {
     "name": "stderr",
     "output_type": "stream",
     "text": [
      " 76%|███████▌  | 197885616/261666406 [24:35<07:59, 132961.74it/s]"
     ]
    },
    {
     "name": "stdout",
     "output_type": "stream",
     "text": [
      "Found match at 17:4903133\n",
      "Found match at 17:4903423\n"
     ]
    },
    {
     "name": "stderr",
     "output_type": "stream",
     "text": [
      " 76%|███████▌  | 199484214/261666406 [24:47<07:47, 132890.11it/s]"
     ]
    },
    {
     "name": "stdout",
     "output_type": "stream",
     "text": [
      "Found match at 17:8247860\n"
     ]
    },
    {
     "name": "stderr",
     "output_type": "stream",
     "text": [
      " 77%|███████▋  | 200853741/261666406 [24:57<07:41, 131868.56it/s]"
     ]
    },
    {
     "name": "stdout",
     "output_type": "stream",
     "text": [
      "Found match at 17:18858346\n",
      "Found match at 17:18858441\n"
     ]
    },
    {
     "name": "stderr",
     "output_type": "stream",
     "text": [
      " 77%|███████▋  | 202377423/261666406 [25:08<07:25, 133181.50it/s]"
     ]
    },
    {
     "name": "stdout",
     "output_type": "stream",
     "text": [
      "Found match at 17:31858873\n"
     ]
    },
    {
     "name": "stderr",
     "output_type": "stream",
     "text": [
      " 77%|███████▋  | 202749889/261666406 [25:11<07:26, 131878.12it/s]"
     ]
    },
    {
     "name": "stdout",
     "output_type": "stream",
     "text": [
      "No match at 17:35352630, moving to next qtl, distance: 8959\n"
     ]
    },
    {
     "name": "stderr",
     "output_type": "stream",
     "text": [
      " 78%|███████▊  | 203082973/261666406 [25:14<07:20, 133102.59it/s]"
     ]
    },
    {
     "name": "stdout",
     "output_type": "stream",
     "text": [
      "Found match at 17:36486677\n"
     ]
    },
    {
     "name": "stderr",
     "output_type": "stream",
     "text": [
      " 78%|███████▊  | 204944728/261666406 [25:28<07:13, 130946.27it/s]"
     ]
    },
    {
     "name": "stdout",
     "output_type": "stream",
     "text": [
      "No match at 17:42608873, moving to next qtl, distance: 3666\n"
     ]
    },
    {
     "name": "stderr",
     "output_type": "stream",
     "text": [
      " 79%|███████▉  | 206289241/261666406 [25:38<06:58, 132401.41it/s]"
     ]
    },
    {
     "name": "stdout",
     "output_type": "stream",
     "text": [
      "No match at 17:46038580, moving to next qtl, distance: 3457\n",
      "No match at 17:46038580, moving to next qtl, distance: 3456\n",
      "No match at 17:46038580, moving to next qtl, distance: -5461\n",
      "No match at 17:46038580, moving to next qtl, distance: 7340\n"
     ]
    },
    {
     "name": "stderr",
     "output_type": "stream",
     "text": [
      " 79%|███████▉  | 206329050/261666406 [25:38<06:57, 132638.93it/s]"
     ]
    },
    {
     "name": "stdout",
     "output_type": "stream",
     "text": [
      "No match at 17:46292232, moving to next qtl, distance: -132\n"
     ]
    },
    {
     "name": "stderr",
     "output_type": "stream",
     "text": [
      " 79%|███████▉  | 206979257/261666406 [25:43<06:52, 132560.84it/s]"
     ]
    },
    {
     "name": "stdout",
     "output_type": "stream",
     "text": [
      "Found match at 17:48892897\n",
      "Found match at 17:48908231\n",
      "Found match at 17:48944908\n"
     ]
    },
    {
     "name": "stderr",
     "output_type": "stream",
     "text": [
      " 79%|███████▉  | 207378706/261666406 [25:46<06:49, 132632.36it/s]"
     ]
    },
    {
     "name": "stdout",
     "output_type": "stream",
     "text": [
      "Found match at 17:50426058\n"
     ]
    },
    {
     "name": "stderr",
     "output_type": "stream",
     "text": [
      " 79%|███████▉  | 207458876/261666406 [25:47<06:49, 132454.01it/s]"
     ]
    },
    {
     "name": "stdout",
     "output_type": "stream",
     "text": [
      "Found match at 17:50547162\n"
     ]
    },
    {
     "name": "stderr",
     "output_type": "stream",
     "text": [
      " 80%|███████▉  | 208262634/261666406 [25:53<06:39, 133826.53it/s]"
     ]
    },
    {
     "name": "stdout",
     "output_type": "stream",
     "text": [
      "No match at 17:58709358, moving to next qtl, distance: -7753\n"
     ]
    },
    {
     "name": "stderr",
     "output_type": "stream",
     "text": [
      " 80%|███████▉  | 209077819/261666406 [25:59<06:34, 133337.59it/s]"
     ]
    },
    {
     "name": "stdout",
     "output_type": "stream",
     "text": [
      "Found match at 17:63827186\n",
      "Found match at 17:63827368\n"
     ]
    },
    {
     "name": "stderr",
     "output_type": "stream",
     "text": [
      " 80%|███████▉  | 209318297/261666406 [26:01<06:34, 132546.75it/s]"
     ]
    },
    {
     "name": "stdout",
     "output_type": "stream",
     "text": [
      "Found match at 17:64448998\n"
     ]
    },
    {
     "name": "stderr",
     "output_type": "stream",
     "text": [
      " 80%|████████  | 210360169/261666406 [26:09<06:29, 131690.08it/s]"
     ]
    },
    {
     "name": "stdout",
     "output_type": "stream",
     "text": [
      "No match at 17:75130757, moving to next qtl, distance: -560\n"
     ]
    },
    {
     "name": "stderr",
     "output_type": "stream",
     "text": [
      " 81%|████████  | 210681980/261666406 [26:11<06:21, 133700.60it/s]"
     ]
    },
    {
     "name": "stdout",
     "output_type": "stream",
     "text": [
      "No match at 17:75610198, moving to next qtl, distance: -3411\n"
     ]
    },
    {
     "name": "stderr",
     "output_type": "stream",
     "text": [
      " 81%|████████  | 210870208/261666406 [26:12<06:19, 133983.20it/s]"
     ]
    },
    {
     "name": "stdout",
     "output_type": "stream",
     "text": [
      "Found match at 17:75877575\n"
     ]
    },
    {
     "name": "stderr",
     "output_type": "stream",
     "text": [
      " 81%|████████  | 211523987/261666406 [26:17<06:18, 132502.58it/s]"
     ]
    },
    {
     "name": "stdout",
     "output_type": "stream",
     "text": [
      "Found match at 17:78132305\n",
      "Found match at 17:78169023\n"
     ]
    },
    {
     "name": "stderr",
     "output_type": "stream",
     "text": [
      " 81%|████████  | 211858280/261666406 [26:20<06:12, 133590.41it/s]"
     ]
    },
    {
     "name": "stdout",
     "output_type": "stream",
     "text": [
      "No match at 17:79735040, moving to next qtl, distance: -457\n"
     ]
    },
    {
     "name": "stderr",
     "output_type": "stream",
     "text": [
      " 81%|████████  | 212233446/261666406 [26:23<06:15, 131564.42it/s]"
     ]
    },
    {
     "name": "stdout",
     "output_type": "stream",
     "text": [
      "Found match at 17:81239762\n"
     ]
    },
    {
     "name": "stderr",
     "output_type": "stream",
     "text": [
      " 81%|████████  | 212322325/261666406 [26:23<05:11, 158197.80it/s]"
     ]
    },
    {
     "name": "stdout",
     "output_type": "stream",
     "text": [
      "No match at 17:81566101, moving to next qtl, distance: -770\n"
     ]
    },
    {
     "name": "stderr",
     "output_type": "stream",
     "text": [
      " 82%|████████▏ | 213473005/261666406 [26:29<05:39, 141876.14it/s]"
     ]
    },
    {
     "name": "stdout",
     "output_type": "stream",
     "text": [
      "No match at 18:712092, moving to next qtl, distance: 3081\n",
      "No match at 18:712092, moving to next qtl, distance: -422\n"
     ]
    },
    {
     "name": "stderr",
     "output_type": "stream",
     "text": [
      " 82%|████████▏ | 213582338/261666406 [26:30<06:00, 133468.50it/s]"
     ]
    },
    {
     "name": "stdout",
     "output_type": "stream",
     "text": [
      "Found match at 18:3261901\n"
     ]
    },
    {
     "name": "stderr",
     "output_type": "stream",
     "text": [
      " 82%|████████▏ | 213702167/261666406 [26:31<06:01, 132848.37it/s]"
     ]
    },
    {
     "name": "stdout",
     "output_type": "stream",
     "text": [
      "No match at 18:5294323, moving to next qtl, distance: -383\n",
      "No match at 18:5294323, moving to next qtl, distance: 384\n"
     ]
    },
    {
     "name": "stderr",
     "output_type": "stream",
     "text": [
      " 82%|████████▏ | 214007816/261666406 [26:33<06:02, 131427.64it/s]"
     ]
    },
    {
     "name": "stdout",
     "output_type": "stream",
     "text": [
      "No match at 18:10525526, moving to next qtl, distance: -940\n"
     ]
    },
    {
     "name": "stderr",
     "output_type": "stream",
     "text": [
      " 82%|████████▏ | 214154061/261666406 [26:34<05:59, 132327.17it/s]"
     ]
    },
    {
     "name": "stdout",
     "output_type": "stream",
     "text": [
      "Found match at 18:12308609\n"
     ]
    },
    {
     "name": "stderr",
     "output_type": "stream",
     "text": [
      " 82%|████████▏ | 214299026/261666406 [26:36<06:04, 130010.96it/s]"
     ]
    },
    {
     "name": "stdout",
     "output_type": "stream",
     "text": [
      "Found match at 18:12991394\n",
      "No match at 18:13029286, moving to next qtl, distance: -4144\n"
     ]
    },
    {
     "name": "stderr",
     "output_type": "stream",
     "text": [
      " 82%|████████▏ | 214471095/261666406 [26:37<05:55, 132748.40it/s]"
     ]
    },
    {
     "name": "stdout",
     "output_type": "stream",
     "text": [
      "No match at 18:21656455, moving to next qtl, distance: 6081\n"
     ]
    },
    {
     "name": "stderr",
     "output_type": "stream",
     "text": [
      " 82%|████████▏ | 215510390/261666406 [26:45<04:37, 166613.51it/s]"
     ]
    },
    {
     "name": "stdout",
     "output_type": "stream",
     "text": [
      "No match at 18:36798084, moving to next qtl, distance: -458\n"
     ]
    },
    {
     "name": "stderr",
     "output_type": "stream",
     "text": [
      " 83%|████████▎ | 218473979/261666406 [27:01<05:24, 133039.84it/s]"
     ]
    },
    {
     "name": "stdout",
     "output_type": "stream",
     "text": [
      "Found match at 19:1275988\n"
     ]
    },
    {
     "name": "stderr",
     "output_type": "stream",
     "text": [
      " 84%|████████▍ | 219174524/261666406 [27:06<05:22, 131642.38it/s]"
     ]
    },
    {
     "name": "stdout",
     "output_type": "stream",
     "text": [
      "Found match at 19:2977601\n"
     ]
    },
    {
     "name": "stderr",
     "output_type": "stream",
     "text": [
      " 84%|████████▍ | 219227555/261666406 [27:07<05:20, 132438.13it/s]"
     ]
    },
    {
     "name": "stdout",
     "output_type": "stream",
     "text": [
      "Found match at 19:3062859\n"
     ]
    },
    {
     "name": "stderr",
     "output_type": "stream",
     "text": [
      " 84%|████████▍ | 220458032/261666406 [27:16<05:08, 133551.01it/s]"
     ]
    },
    {
     "name": "stdout",
     "output_type": "stream",
     "text": [
      "Found match at 19:6737228\n"
     ]
    },
    {
     "name": "stderr",
     "output_type": "stream",
     "text": [
      " 85%|████████▍ | 221216552/261666406 [27:22<05:06, 132008.43it/s]"
     ]
    },
    {
     "name": "stdout",
     "output_type": "stream",
     "text": [
      "Found match at 19:9324196\n"
     ]
    },
    {
     "name": "stderr",
     "output_type": "stream",
     "text": [
      " 87%|████████▋ | 227204233/261666406 [28:07<04:21, 131926.77it/s]"
     ]
    },
    {
     "name": "stdout",
     "output_type": "stream",
     "text": [
      "Found match at 19:36114892\n"
     ]
    },
    {
     "name": "stderr",
     "output_type": "stream",
     "text": [
      " 87%|████████▋ | 227349924/261666406 [28:08<04:19, 132065.99it/s]"
     ]
    },
    {
     "name": "stdout",
     "output_type": "stream",
     "text": [
      "Found match at 19:36573148\n",
      "Found match at 19:36573365\n"
     ]
    },
    {
     "name": "stderr",
     "output_type": "stream",
     "text": [
      " 88%|████████▊ | 231084466/261666406 [28:36<03:49, 133471.29it/s]"
     ]
    },
    {
     "name": "stdout",
     "output_type": "stream",
     "text": [
      "No match at 19:45642061, moving to next qtl, distance: -73\n"
     ]
    },
    {
     "name": "stderr",
     "output_type": "stream",
     "text": [
      " 89%|████████▊ | 231855035/261666406 [28:42<03:46, 131339.82it/s]"
     ]
    },
    {
     "name": "stdout",
     "output_type": "stream",
     "text": [
      "No match at 19:48240562, moving to next qtl, distance: -5461\n"
     ]
    },
    {
     "name": "stderr",
     "output_type": "stream",
     "text": [
      " 89%|████████▉ | 232547339/261666406 [28:47<03:40, 132305.11it/s]"
     ]
    },
    {
     "name": "stdout",
     "output_type": "stream",
     "text": [
      "Found match at 19:49451759\n",
      "Found match at 19:49451965\n",
      "Found match at 19:49453753\n"
     ]
    },
    {
     "name": "stderr",
     "output_type": "stream",
     "text": [
      " 90%|█████████ | 236228547/261666406 [29:15<02:33, 165375.53it/s]"
     ]
    },
    {
     "name": "stdout",
     "output_type": "stream",
     "text": [
      "Found match at 19:57487814\n"
     ]
    },
    {
     "name": "stderr",
     "output_type": "stream",
     "text": [
      " 93%|█████████▎| 242635401/261666406 [30:02<01:58, 159925.22it/s]"
     ]
    },
    {
     "name": "stdout",
     "output_type": "stream",
     "text": [
      "No match at 20:63215630, moving to next qtl, distance: 5\n"
     ]
    },
    {
     "name": "stderr",
     "output_type": "stream",
     "text": [
      " 93%|█████████▎| 243752757/261666406 [30:10<02:16, 131715.44it/s]"
     ]
    },
    {
     "name": "stdout",
     "output_type": "stream",
     "text": [
      "Found match at 21:31659661\n"
     ]
    },
    {
     "name": "stderr",
     "output_type": "stream",
     "text": [
      " 93%|█████████▎| 244430590/261666406 [30:15<02:10, 132066.74it/s]"
     ]
    },
    {
     "name": "stdout",
     "output_type": "stream",
     "text": [
      "No match at 21:37081095, moving to next qtl, distance: 7684\n"
     ]
    },
    {
     "name": "stderr",
     "output_type": "stream",
     "text": [
      " 94%|█████████▍| 245351989/261666406 [30:22<01:42, 159088.90it/s]"
     ]
    },
    {
     "name": "stdout",
     "output_type": "stream",
     "text": [
      "No match at 21:44229588, moving to next qtl, distance: -238\n"
     ]
    },
    {
     "name": "stderr",
     "output_type": "stream",
     "text": [
      " 94%|█████████▍| 246149401/261666406 [30:27<01:58, 131202.49it/s]"
     ]
    },
    {
     "name": "stdout",
     "output_type": "stream",
     "text": [
      "Found match at 22:19432783\n"
     ]
    },
    {
     "name": "stderr",
     "output_type": "stream",
     "text": [
      " 94%|█████████▍| 246189537/261666406 [30:27<01:57, 132181.87it/s]"
     ]
    },
    {
     "name": "stdout",
     "output_type": "stream",
     "text": [
      "Found match at 22:19480129\n"
     ]
    },
    {
     "name": "stderr",
     "output_type": "stream",
     "text": [
      " 94%|█████████▍| 246403999/261666406 [30:29<01:54, 133257.60it/s]"
     ]
    },
    {
     "name": "stdout",
     "output_type": "stream",
     "text": [
      "Found match at 22:20080980\n"
     ]
    },
    {
     "name": "stderr",
     "output_type": "stream",
     "text": [
      " 96%|█████████▌| 250956428/261666406 [31:03<01:06, 160943.26it/s]"
     ]
    },
    {
     "name": "stdout",
     "output_type": "stream",
     "text": [
      "Found match at 22:46762547\n"
     ]
    },
    {
     "name": "stderr",
     "output_type": "stream",
     "text": [
      " 96%|█████████▌| 251567392/261666406 [31:07<01:27, 115698.09it/s]"
     ]
    },
    {
     "name": "stdout",
     "output_type": "stream",
     "text": [
      "No match at 23:2500054, moving to next qtl, distance: -415\n"
     ]
    },
    {
     "name": "stderr",
     "output_type": "stream",
     "text": [
      " 97%|█████████▋| 252858607/261666406 [31:18<01:05, 134614.81it/s]\n"
     ]
    },
    {
     "ename": "IndexError",
     "evalue": "single positional indexer is out-of-bounds",
     "output_type": "error",
     "traceback": [
      "\u001b[0;31m---------------------------------------------------------------------------\u001b[0m",
      "\u001b[0;31mIndexError\u001b[0m                                Traceback (most recent call last)",
      "Cell \u001b[0;32mIn[64], line 32\u001b[0m\n\u001b[1;32m     30\u001b[0m             matches[idx] \u001b[38;5;241m=\u001b[39m \u001b[38;5;28;01mNone\u001b[39;00m\n\u001b[1;32m     31\u001b[0m             idx \u001b[38;5;241m+\u001b[39m\u001b[38;5;241m=\u001b[39m \u001b[38;5;241m1\u001b[39m\n\u001b[0;32m---> 32\u001b[0m             current_qtl \u001b[38;5;241m=\u001b[39m \u001b[43mqtls\u001b[49m\u001b[38;5;241;43m.\u001b[39;49m\u001b[43miloc\u001b[49m\u001b[43m[\u001b[49m\u001b[43midx\u001b[49m\u001b[43m]\u001b[49m\n\u001b[1;32m     33\u001b[0m             \u001b[38;5;28mprint\u001b[39m(\u001b[38;5;124mf\u001b[39m\u001b[38;5;124m'\u001b[39m\u001b[38;5;124mNo match at \u001b[39m\u001b[38;5;132;01m{\u001b[39;00mchrom\u001b[38;5;132;01m}\u001b[39;00m\u001b[38;5;124m:\u001b[39m\u001b[38;5;132;01m{\u001b[39;00mpos\u001b[38;5;132;01m}\u001b[39;00m\u001b[38;5;124m, moving to next qtl, distance: \u001b[39m\u001b[38;5;132;01m{\u001b[39;00mcurrent_qtl[\u001b[38;5;124m\"\u001b[39m\u001b[38;5;124mdistance\u001b[39m\u001b[38;5;124m\"\u001b[39m]\u001b[38;5;132;01m}\u001b[39;00m\u001b[38;5;124m'\u001b[39m)\n\u001b[1;32m     35\u001b[0m \u001b[38;5;66;03m#most of the ones it skips are over 5k away, so it makes sense?\u001b[39;00m\n\u001b[1;32m     36\u001b[0m \u001b[38;5;66;03m#also do we really ahve 4 eqtls stacke don one another?\u001b[39;00m\n\u001b[1;32m     37\u001b[0m \u001b[38;5;66;03m#oh, we need a while loop and it's because jumps to next TSS!!!\u001b[39;00m\n",
      "File \u001b[0;32m/data1/lesliec/sarthak/caduceus/.pixi/envs/default/lib/python3.11/site-packages/pandas/core/indexing.py:1153\u001b[0m, in \u001b[0;36m_LocationIndexer.__getitem__\u001b[0;34m(self, key)\u001b[0m\n\u001b[1;32m   1150\u001b[0m axis \u001b[38;5;241m=\u001b[39m \u001b[38;5;28mself\u001b[39m\u001b[38;5;241m.\u001b[39maxis \u001b[38;5;129;01mor\u001b[39;00m \u001b[38;5;241m0\u001b[39m\n\u001b[1;32m   1152\u001b[0m maybe_callable \u001b[38;5;241m=\u001b[39m com\u001b[38;5;241m.\u001b[39mapply_if_callable(key, \u001b[38;5;28mself\u001b[39m\u001b[38;5;241m.\u001b[39mobj)\n\u001b[0;32m-> 1153\u001b[0m \u001b[38;5;28;01mreturn\u001b[39;00m \u001b[38;5;28;43mself\u001b[39;49m\u001b[38;5;241;43m.\u001b[39;49m\u001b[43m_getitem_axis\u001b[49m\u001b[43m(\u001b[49m\u001b[43mmaybe_callable\u001b[49m\u001b[43m,\u001b[49m\u001b[43m \u001b[49m\u001b[43maxis\u001b[49m\u001b[38;5;241;43m=\u001b[39;49m\u001b[43maxis\u001b[49m\u001b[43m)\u001b[49m\n",
      "File \u001b[0;32m/data1/lesliec/sarthak/caduceus/.pixi/envs/default/lib/python3.11/site-packages/pandas/core/indexing.py:1714\u001b[0m, in \u001b[0;36m_iLocIndexer._getitem_axis\u001b[0;34m(self, key, axis)\u001b[0m\n\u001b[1;32m   1711\u001b[0m     \u001b[38;5;28;01mraise\u001b[39;00m \u001b[38;5;167;01mTypeError\u001b[39;00m(\u001b[38;5;124m\"\u001b[39m\u001b[38;5;124mCannot index by location index with a non-integer key\u001b[39m\u001b[38;5;124m\"\u001b[39m)\n\u001b[1;32m   1713\u001b[0m \u001b[38;5;66;03m# validate the location\u001b[39;00m\n\u001b[0;32m-> 1714\u001b[0m \u001b[38;5;28;43mself\u001b[39;49m\u001b[38;5;241;43m.\u001b[39;49m\u001b[43m_validate_integer\u001b[49m\u001b[43m(\u001b[49m\u001b[43mkey\u001b[49m\u001b[43m,\u001b[49m\u001b[43m \u001b[49m\u001b[43maxis\u001b[49m\u001b[43m)\u001b[49m\n\u001b[1;32m   1716\u001b[0m \u001b[38;5;28;01mreturn\u001b[39;00m \u001b[38;5;28mself\u001b[39m\u001b[38;5;241m.\u001b[39mobj\u001b[38;5;241m.\u001b[39m_ixs(key, axis\u001b[38;5;241m=\u001b[39maxis)\n",
      "File \u001b[0;32m/data1/lesliec/sarthak/caduceus/.pixi/envs/default/lib/python3.11/site-packages/pandas/core/indexing.py:1647\u001b[0m, in \u001b[0;36m_iLocIndexer._validate_integer\u001b[0;34m(self, key, axis)\u001b[0m\n\u001b[1;32m   1645\u001b[0m len_axis \u001b[38;5;241m=\u001b[39m \u001b[38;5;28mlen\u001b[39m(\u001b[38;5;28mself\u001b[39m\u001b[38;5;241m.\u001b[39mobj\u001b[38;5;241m.\u001b[39m_get_axis(axis))\n\u001b[1;32m   1646\u001b[0m \u001b[38;5;28;01mif\u001b[39;00m key \u001b[38;5;241m>\u001b[39m\u001b[38;5;241m=\u001b[39m len_axis \u001b[38;5;129;01mor\u001b[39;00m key \u001b[38;5;241m<\u001b[39m \u001b[38;5;241m-\u001b[39mlen_axis:\n\u001b[0;32m-> 1647\u001b[0m     \u001b[38;5;28;01mraise\u001b[39;00m \u001b[38;5;167;01mIndexError\u001b[39;00m(\u001b[38;5;124m\"\u001b[39m\u001b[38;5;124msingle positional indexer is out-of-bounds\u001b[39m\u001b[38;5;124m\"\u001b[39m)\n",
      "\u001b[0;31mIndexError\u001b[0m: single positional indexer is out-of-bounds"
     ]
    }
   ],
   "source": [
    "from tqdm import tqdm\n",
    "matches = {}\n",
    "idx = 0\n",
    "current_qtl = qtls.iloc[idx]\n",
    "with open('/data1/lesliec/sarthak/data/promoterAI/promoterAI_tss500.tsv', 'r') as f:\n",
    "    for i,line in tqdm(enumerate(f), total=261666406):\n",
    "        if i == 0:\n",
    "            continue\n",
    "        # print(line)\n",
    "        splitline = line.split('\\t')\n",
    "        try:\n",
    "            chrom = int(splitline[0][3:])\n",
    "        except ValueError:\n",
    "            chrom = 23 # for chrX\n",
    "        pos = int(splitline[1])\n",
    "        \n",
    "        while chrom > current_qtl['chrom']: #if there's a jump in chromosomes\n",
    "            matches[idx] = None\n",
    "            idx += 1\n",
    "            current_qtl = qtls.iloc[idx]\n",
    "            print(f'No match at {chrom}:{pos}, moving to next qtl, distance: {current_qtl[\"distance\"]}')\n",
    "\n",
    "        if chrom == current_qtl['chrom'] and pos == current_qtl['qtl_loc']:\n",
    "            matches[idx] = splitline\n",
    "            idx += 1\n",
    "            current_qtl = qtls.iloc[idx]\n",
    "            print(f'Found match at {chrom}:{pos}')\n",
    "        \n",
    "        while chrom == current_qtl['chrom'] and pos > current_qtl['qtl_loc']: #do a while loop because maybe next one is also just behind, means we could miss some\n",
    "            matches[idx] = None\n",
    "            idx += 1\n",
    "            current_qtl = qtls.iloc[idx]\n",
    "            print(f'No match at {chrom}:{pos}, moving to next qtl, distance: {current_qtl[\"distance\"]}')\n",
    "\n",
    "#most of the ones it skips are over 5k away, so it makes sense?\n",
    "#also do we really ahve 4 eqtls stacke don one another?\n",
    "#oh, we need a while loop and it's because jumps to next TSS!!!"
   ]
  },
  {
   "cell_type": "code",
   "execution_count": 66,
   "id": "0d953805",
   "metadata": {},
   "outputs": [
    {
     "data": {
      "text/plain": [
       "342"
      ]
     },
     "execution_count": 66,
     "metadata": {},
     "output_type": "execute_result"
    }
   ],
   "source": [
    "len(matches)"
   ]
  },
  {
   "cell_type": "code",
   "execution_count": null,
   "id": "6ba8194e",
   "metadata": {},
   "outputs": [
    {
     "name": "stdout",
     "output_type": "stream",
     "text": [
      "Total non-matches: 159\n"
     ]
    }
   ],
   "source": [
    "#lots of ones that don't match, it's a bit strange, but we'll check later?\n",
    "#let's see how many don't have matches, if distance is greater than 5k, might not match\n",
    "nonetotal = 0\n",
    "for key in matches:\n",
    "    if matches[key] is None:\n",
    "        nonetotal += 1\n",
    "print(f'Total non-matches: {nonetotal}') #that's almost half lmfao! Ok we can subset qtls to only ones where it has a prediction, because it's so short range?"
   ]
  },
  {
   "cell_type": "code",
   "execution_count": 68,
   "id": "d8bb8094",
   "metadata": {},
   "outputs": [
    {
     "data": {
      "text/plain": [
       "label                 0\n",
       "qtl_idx               0\n",
       "gene_idx          10057\n",
       "chrom                14\n",
       "gene_start     23953734\n",
       "gene_end       23969279\n",
       "strand                1\n",
       "qtl_loc        23953727\n",
       "ref                   C\n",
       "alt                   G\n",
       "sign_target          -1\n",
       "distance              7\n",
       "Name: 0, dtype: object"
      ]
     },
     "execution_count": 68,
     "metadata": {},
     "output_type": "execute_result"
    }
   ],
   "source": [
    "#let's save this information out\n",
    "#first have to get idx information from the qtls\n",
    "\n",
    "qtls.loc[0]"
   ]
  },
  {
   "cell_type": "code",
   "execution_count": 69,
   "id": "435b249d",
   "metadata": {},
   "outputs": [
    {
     "data": {
      "text/plain": [
       "Index([1138, 1169,  554,    3, 1188,  895,  744, 1077, 1161,  689,\n",
       "       ...\n",
       "       1266, 1313,  179, 1101, 1153, 1173,  864, 1248, 1286, 1207],\n",
       "      dtype='int64', length=342)"
      ]
     },
     "execution_count": 69,
     "metadata": {},
     "output_type": "execute_result"
    }
   ],
   "source": [
    "#let's get the indices out of qtls\n",
    "qtls.index"
   ]
  },
  {
   "cell_type": "code",
   "execution_count": 75,
   "id": "73376b2a",
   "metadata": {},
   "outputs": [
    {
     "data": {
      "text/plain": [
       "['chr1',\n",
       " '46340757',\n",
       " 'A',\n",
       " 'C',\n",
       " 'NSUN4',\n",
       " 'ENSG00000117481',\n",
       " 'ENST00000474844.6',\n",
       " '1',\n",
       " '46340806',\n",
       " '-0.1116\\n']"
      ]
     },
     "execution_count": 75,
     "metadata": {},
     "output_type": "execute_result"
    }
   ],
   "source": [
    "matches[10]"
   ]
  },
  {
   "cell_type": "code",
   "execution_count": null,
   "id": "0d0c5774",
   "metadata": {},
   "outputs": [],
   "source": [
    "indices = qtls.index\n",
    "\n",
    "preds = np.zeros(1331, dtype='float64')\n",
    "\n",
    "for i,key in enumerate(matches):\n",
    "    if matches[key] is not None:\n",
    "        preds[indices[i]] = float(matches[key][-1][:-1]) #\\n is one character"
   ]
  },
  {
   "cell_type": "code",
   "execution_count": 83,
   "id": "41bfe8e8",
   "metadata": {},
   "outputs": [
    {
     "data": {
      "text/plain": [
       "array([-0.3109, -0.129 ,  0.    , ...,  0.    ,  0.    ,  0.    ])"
      ]
     },
     "execution_count": 83,
     "metadata": {},
     "output_type": "execute_result"
    }
   ],
   "source": [
    "preds"
   ]
  },
  {
   "cell_type": "code",
   "execution_count": 84,
   "id": "94e111d0",
   "metadata": {},
   "outputs": [
    {
     "data": {
      "text/plain": [
       "690"
      ]
     },
     "execution_count": 84,
     "metadata": {},
     "output_type": "execute_result"
    }
   ],
   "source": [
    "indices[10]"
   ]
  },
  {
   "cell_type": "code",
   "execution_count": 85,
   "id": "589ba392",
   "metadata": {},
   "outputs": [
    {
     "data": {
      "text/plain": [
       "-0.1116"
      ]
     },
     "execution_count": 85,
     "metadata": {},
     "output_type": "execute_result"
    }
   ],
   "source": [
    "preds[690]"
   ]
  },
  {
   "cell_type": "code",
   "execution_count": 86,
   "id": "4e55af8e",
   "metadata": {},
   "outputs": [],
   "source": [
    "#now we can save this out\n",
    "np.save('/data1/lesliec/sarthak/data/joint_playground/eQTL/EPCOTv2_LCLs/promoterAI_predictions.npy', preds)"
   ]
  }
 ],
 "metadata": {
  "kernelspec": {
   "display_name": "default",
   "language": "python",
   "name": "python3"
  },
  "language_info": {
   "codemirror_mode": {
    "name": "ipython",
    "version": 3
   },
   "file_extension": ".py",
   "mimetype": "text/x-python",
   "name": "python",
   "nbconvert_exporter": "python",
   "pygments_lexer": "ipython3",
   "version": "3.11.7"
  }
 },
 "nbformat": 4,
 "nbformat_minor": 5
}
