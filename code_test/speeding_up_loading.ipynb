{
 "cells": [
  {
   "cell_type": "markdown",
   "metadata": {},
   "source": [
    "# loading the data from h5py is incredibly slow, how can we "
   ]
  },
  {
   "cell_type": "code",
   "execution_count": null,
   "metadata": {},
   "outputs": [],
   "source": [
    "#so we installed the tfrecord package, let's use that\n",
    "\n",
    "#here's the original code\n",
    "\n",
    "'''\n",
    "import json\n",
    "import functools\n",
    "import os\n",
    "import tensorflow as tf\n",
    "import numpy as np\n",
    "import pandas as pd\n",
    "from tqdm import tqdm\n",
    "import numpy as np\n",
    "import h5py\n",
    "import tensorflow as tf\n",
    "import sonnet as snt\n",
    "from IPython.display import clear_output\n",
    "import time\n",
    "import sys\n",
    "sys.path.append('/data/leslie/sarthak/data/enformer')\n",
    "import enformer\n",
    "\n",
    "\n",
    "def organism_path(organism):\n",
    "  return os.path.join('/data/leslie/sarthak/data/enformer/data/', organism) #just leads to the organism path, quite easy\n",
    "\n",
    "\n",
    "def get_dataset(organism, subset, num_threads=4): #this gets the data and deserializes it\n",
    "  metadata = get_metadata(organism)\n",
    "  dataset = tf.data.TFRecordDataset(tfrecord_files(organism, subset),\n",
    "                                    compression_type='ZLIB',\n",
    "                                    num_parallel_reads=num_threads)\n",
    "  dataset = dataset.map(functools.partial(deserialize, metadata=metadata),\n",
    "                        num_parallel_calls=num_threads)\n",
    "  return dataset\n",
    "\n",
    "\n",
    "def get_metadata(organism):\n",
    "  # Keys:\n",
    "  # num_targets, train_seqs, valid_seqs, test_seqs, seq_length,\n",
    "  # pool_width, crop_bp, target_length\n",
    "  path = os.path.join(organism_path(organism), 'statistics.json')\n",
    "  with tf.io.gfile.GFile(path, 'r') as f:\n",
    "    return json.load(f)\n",
    "\n",
    "\n",
    "def tfrecord_files(organism, subset): #this is the function that gets the TFR files, gets all of them and sorts them\n",
    "  # Sort the values by int(*).\n",
    "  return sorted(tf.io.gfile.glob(os.path.join(\n",
    "      organism_path(organism), 'tfrecords', f'{subset}-*.tfr'\n",
    "  )), key=lambda x: int(x.split('-')[-1].split('.')[0]))\n",
    "\n",
    "\n",
    "def deserialize(serialized_example, metadata):\n",
    "  \"\"\"Deserialize bytes stored in TFRecordFile.\"\"\"\n",
    "  feature_map = {\n",
    "      'sequence': tf.io.FixedLenFeature([], tf.string),\n",
    "      'target': tf.io.FixedLenFeature([], tf.string),\n",
    "  }\n",
    "  example = tf.io.parse_example(serialized_example, feature_map)\n",
    "  sequence = tf.io.decode_raw(example['sequence'], tf.bool)\n",
    "  sequence = tf.reshape(sequence, (metadata['seq_length'], 4))\n",
    "  sequence = tf.cast(sequence, tf.float32)\n",
    "\n",
    "  target = tf.io.decode_raw(example['target'], tf.float16)\n",
    "  target = tf.reshape(target,\n",
    "                      (metadata['target_length'], metadata['num_targets']))\n",
    "  target = tf.cast(target, tf.float32)\n",
    "\n",
    "  return {'sequence': sequence,\n",
    "          'target': target}\n",
    "\n",
    "def get_targets(organism):\n",
    "  targets_txt = f'https://raw.githubusercontent.com/calico/basenji/master/manuscripts/cross2020/targets_{organism}.txt'\n",
    "  return pd.read_csv(targets_txt, sep='\\t')\n",
    "df_targets_human = get_targets('human')\n",
    "# df_targets_human.head()\n",
    "\n",
    "human_dataset = get_dataset('human', 'train')\n",
    "'''"
   ]
  },
  {
   "cell_type": "code",
   "execution_count": 2,
   "metadata": {},
   "outputs": [],
   "source": [
    "#what we want to do is load it in with minimal changes using tfrecord\n",
    "import os\n",
    "import json\n",
    "import functools\n",
    "import pandas as pd\n",
    "import glob\n",
    "import numpy as np\n",
    "from tfrecord.torch.dataset import TFRecordDataset\n",
    "# from tfrecord.torch.dataset import load_schema\n",
    "\n",
    "def organism_path(organism):\n",
    "    return os.path.join('/data/leslie/sarthak/data/enformer/data/', organism)\n",
    "\n",
    "def get_metadata(organism):\n",
    "    path = os.path.join(organism_path(organism), 'statistics.json')\n",
    "    with open(path, 'r') as f:\n",
    "        return json.load(f)\n",
    "\n",
    "def tfrecord_files(organism, subset):\n",
    "    return sorted(glob.glob(os.path.join(\n",
    "        organism_path(organism), 'tfrecords', f'{subset}-*.tfrecord'\n",
    "    )), key=lambda x: int(x.split('-')[-1].split('.')[0]))\n",
    "\n",
    "def parse_tfrecord(serialized_example, metadata):\n",
    "    feature_map = {\n",
    "        'sequence': 'byte',\n",
    "        'target': 'byte',\n",
    "    }\n",
    "    example = TFRecordDataset.deserialize_example(serialized_example, feature_map)\n",
    "    \n",
    "    sequence = np.frombuffer(example['sequence'], dtype=np.bool)\n",
    "    sequence = sequence.reshape((metadata['seq_length'], 4))\n",
    "    sequence = sequence.astype(np.float32)\n",
    "\n",
    "    target = np.frombuffer(example['target'], dtype=np.float16)\n",
    "    target = target.reshape((metadata['target_length'], metadata['num_targets']))\n",
    "    target = target.astype(np.float32)\n",
    "\n",
    "    return {'sequence': sequence, 'target': target}\n",
    "\n",
    "def get_dataset(organism, subset, num_threads=4):\n",
    "    metadata = get_metadata(organism)\n",
    "    files = tfrecord_files(organism, subset)\n",
    "    \n",
    "    dataset = TFRecordDataset(\n",
    "        files,\n",
    "        index_path=None,\n",
    "        description=None,\n",
    "        transform=functools.partial(parse_tfrecord, metadata=metadata),\n",
    "        shuffle_queue_size=2048\n",
    "    )\n",
    "    \n",
    "    return dataset\n",
    "\n",
    "def get_targets(organism):\n",
    "    targets_txt = f'https://raw.githubusercontent.com/calico/basenji/master/manuscripts/cross2020/targets_{organism}.txt'\n",
    "    return pd.read_csv(targets_txt, sep='\\t')\n",
    "\n",
    "df_targets_human = get_targets('human')\n",
    "human_dataset = get_dataset('human', 'train')"
   ]
  },
  {
   "cell_type": "code",
   "execution_count": 9,
   "metadata": {},
   "outputs": [],
   "source": [
    "#wait it was that simple?\n",
    "#now iterate\n",
    "human_eval_dataset = get_dataset('human', 'valid')"
   ]
  },
  {
   "cell_type": "code",
   "execution_count": 10,
   "metadata": {},
   "outputs": [
    {
     "data": {
      "text/plain": [
       "<tfrecord.torch.dataset.TFRecordDataset at 0x7f6ba4be93d0>"
      ]
     },
     "execution_count": 10,
     "metadata": {},
     "output_type": "execute_result"
    }
   ],
   "source": [
    "human_eval_dataset"
   ]
  },
  {
   "cell_type": "code",
   "execution_count": 11,
   "metadata": {},
   "outputs": [
    {
     "ename": "TypeError",
     "evalue": "expected str, bytes or os.PathLike object, not list",
     "output_type": "error",
     "traceback": [
      "\u001b[0;31m---------------------------------------------------------------------------\u001b[0m",
      "\u001b[0;31mTypeError\u001b[0m                                 Traceback (most recent call last)",
      "Cell \u001b[0;32mIn[11], line 1\u001b[0m\n\u001b[0;32m----> 1\u001b[0m \u001b[38;5;28;43;01mfor\u001b[39;49;00m\u001b[43m \u001b[49m\u001b[43mi\u001b[49m\u001b[43m,\u001b[49m\u001b[43m \u001b[49m\u001b[43mdata\u001b[49m\u001b[43m \u001b[49m\u001b[38;5;129;43;01min\u001b[39;49;00m\u001b[43m \u001b[49m\u001b[38;5;28;43menumerate\u001b[39;49m\u001b[43m(\u001b[49m\u001b[43mhuman_dataset\u001b[49m\u001b[43m)\u001b[49m\u001b[43m:\u001b[49m\n\u001b[1;32m      2\u001b[0m \u001b[43m    \u001b[49m\u001b[43msequence\u001b[49m\u001b[43m \u001b[49m\u001b[38;5;241;43m=\u001b[39;49m\u001b[43m \u001b[49m\u001b[43mdata\u001b[49m\u001b[43m[\u001b[49m\u001b[38;5;124;43m'\u001b[39;49m\u001b[38;5;124;43msequence\u001b[39;49m\u001b[38;5;124;43m'\u001b[39;49m\u001b[43m]\u001b[49m\n\u001b[1;32m      3\u001b[0m \u001b[43m    \u001b[49m\u001b[43mtarget\u001b[49m\u001b[43m \u001b[49m\u001b[38;5;241;43m=\u001b[39;49m\u001b[43m \u001b[49m\u001b[43mdata\u001b[49m\u001b[43m[\u001b[49m\u001b[38;5;124;43m'\u001b[39;49m\u001b[38;5;124;43mtarget\u001b[39;49m\u001b[38;5;124;43m'\u001b[39;49m\u001b[43m]\u001b[49m\n",
      "File \u001b[0;32m/data/leslie/sarthak/environments/hyena_backup3/lib/python3.11/site-packages/tfrecord/iterator_utils.py:81\u001b[0m, in \u001b[0;36mshuffle_iterator\u001b[0;34m(iterator, queue_size)\u001b[0m\n\u001b[1;32m     79\u001b[0m \u001b[38;5;28;01mtry\u001b[39;00m:\n\u001b[1;32m     80\u001b[0m     \u001b[38;5;28;01mfor\u001b[39;00m _ \u001b[38;5;129;01min\u001b[39;00m \u001b[38;5;28mrange\u001b[39m(queue_size):\n\u001b[0;32m---> 81\u001b[0m         buffer\u001b[38;5;241m.\u001b[39mappend(\u001b[38;5;28;43mnext\u001b[39;49m\u001b[43m(\u001b[49m\u001b[43miterator\u001b[49m\u001b[43m)\u001b[49m)\n\u001b[1;32m     82\u001b[0m \u001b[38;5;28;01mexcept\u001b[39;00m \u001b[38;5;167;01mStopIteration\u001b[39;00m:\n\u001b[1;32m     83\u001b[0m     warnings\u001b[38;5;241m.\u001b[39mwarn(\u001b[38;5;124m\"\u001b[39m\u001b[38;5;124mNumber of elements in the iterator is less than the \u001b[39m\u001b[38;5;124m\"\u001b[39m\n\u001b[1;32m     84\u001b[0m                   \u001b[38;5;124mf\u001b[39m\u001b[38;5;124m\"\u001b[39m\u001b[38;5;124mqueue size (N=\u001b[39m\u001b[38;5;132;01m{\u001b[39;00mqueue_size\u001b[38;5;132;01m}\u001b[39;00m\u001b[38;5;124m).\u001b[39m\u001b[38;5;124m\"\u001b[39m)\n",
      "File \u001b[0;32m/data/leslie/sarthak/environments/hyena_backup3/lib/python3.11/site-packages/tfrecord/reader.py:224\u001b[0m, in \u001b[0;36mexample_loader\u001b[0;34m(data_path, index_path, description, shard, compression_type)\u001b[0m\n\u001b[1;32m    211\u001b[0m typename_mapping \u001b[38;5;241m=\u001b[39m {\n\u001b[1;32m    212\u001b[0m     \u001b[38;5;124m\"\u001b[39m\u001b[38;5;124mbyte\u001b[39m\u001b[38;5;124m\"\u001b[39m: \u001b[38;5;124m\"\u001b[39m\u001b[38;5;124mbytes_list\u001b[39m\u001b[38;5;124m\"\u001b[39m,\n\u001b[1;32m    213\u001b[0m     \u001b[38;5;124m\"\u001b[39m\u001b[38;5;124mfloat\u001b[39m\u001b[38;5;124m\"\u001b[39m: \u001b[38;5;124m\"\u001b[39m\u001b[38;5;124mfloat_list\u001b[39m\u001b[38;5;124m\"\u001b[39m,\n\u001b[1;32m    214\u001b[0m     \u001b[38;5;124m\"\u001b[39m\u001b[38;5;124mint\u001b[39m\u001b[38;5;124m\"\u001b[39m: \u001b[38;5;124m\"\u001b[39m\u001b[38;5;124mint64_list\u001b[39m\u001b[38;5;124m\"\u001b[39m\n\u001b[1;32m    215\u001b[0m }\n\u001b[1;32m    217\u001b[0m record_iterator \u001b[38;5;241m=\u001b[39m tfrecord_iterator(\n\u001b[1;32m    218\u001b[0m     data_path\u001b[38;5;241m=\u001b[39mdata_path,\n\u001b[1;32m    219\u001b[0m     index_path\u001b[38;5;241m=\u001b[39mindex_path,\n\u001b[1;32m    220\u001b[0m     shard\u001b[38;5;241m=\u001b[39mshard,\n\u001b[1;32m    221\u001b[0m     compression_type\u001b[38;5;241m=\u001b[39mcompression_type,\n\u001b[1;32m    222\u001b[0m )\n\u001b[0;32m--> 224\u001b[0m \u001b[43m\u001b[49m\u001b[38;5;28;43;01mfor\u001b[39;49;00m\u001b[43m \u001b[49m\u001b[43mrecord\u001b[49m\u001b[43m \u001b[49m\u001b[38;5;129;43;01min\u001b[39;49;00m\u001b[43m \u001b[49m\u001b[43mrecord_iterator\u001b[49m\u001b[43m:\u001b[49m\n\u001b[1;32m    225\u001b[0m \u001b[43m    \u001b[49m\u001b[43mexample\u001b[49m\u001b[43m \u001b[49m\u001b[38;5;241;43m=\u001b[39;49m\u001b[43m \u001b[49m\u001b[43mexample_pb2\u001b[49m\u001b[38;5;241;43m.\u001b[39;49m\u001b[43mExample\u001b[49m\u001b[43m(\u001b[49m\u001b[43m)\u001b[49m\n\u001b[1;32m    226\u001b[0m \u001b[43m    \u001b[49m\u001b[43mexample\u001b[49m\u001b[38;5;241;43m.\u001b[39;49m\u001b[43mParseFromString\u001b[49m\u001b[43m(\u001b[49m\u001b[43mrecord\u001b[49m\u001b[43m)\u001b[49m\n",
      "File \u001b[0;32m/data/leslie/sarthak/environments/hyena_backup3/lib/python3.11/site-packages/tfrecord/reader.py:50\u001b[0m, in \u001b[0;36mtfrecord_iterator\u001b[0;34m(data_path, index_path, shard, compression_type)\u001b[0m\n\u001b[1;32m     48\u001b[0m     file \u001b[38;5;241m=\u001b[39m gzip\u001b[38;5;241m.\u001b[39mopen(data_path, \u001b[38;5;124m\"\u001b[39m\u001b[38;5;124mrb\u001b[39m\u001b[38;5;124m\"\u001b[39m)\n\u001b[1;32m     49\u001b[0m \u001b[38;5;28;01melif\u001b[39;00m compression_type \u001b[38;5;129;01mis\u001b[39;00m \u001b[38;5;28;01mNone\u001b[39;00m:\n\u001b[0;32m---> 50\u001b[0m     file \u001b[38;5;241m=\u001b[39m \u001b[43mio\u001b[49m\u001b[38;5;241;43m.\u001b[39;49m\u001b[43mopen\u001b[49m\u001b[43m(\u001b[49m\u001b[43mdata_path\u001b[49m\u001b[43m,\u001b[49m\u001b[43m \u001b[49m\u001b[38;5;124;43m\"\u001b[39;49m\u001b[38;5;124;43mrb\u001b[39;49m\u001b[38;5;124;43m\"\u001b[39;49m\u001b[43m)\u001b[49m\n\u001b[1;32m     51\u001b[0m \u001b[38;5;28;01melse\u001b[39;00m:\n\u001b[1;32m     52\u001b[0m     \u001b[38;5;28;01mraise\u001b[39;00m \u001b[38;5;167;01mValueError\u001b[39;00m(\u001b[38;5;124m\"\u001b[39m\u001b[38;5;124mcompression_type should be either \u001b[39m\u001b[38;5;124m'\u001b[39m\u001b[38;5;124mgzip\u001b[39m\u001b[38;5;124m'\u001b[39m\u001b[38;5;124m or None\u001b[39m\u001b[38;5;124m\"\u001b[39m)\n",
      "\u001b[0;31mTypeError\u001b[0m: expected str, bytes or os.PathLike object, not list"
     ]
    }
   ],
   "source": [
    "for i, data in enumerate(human_dataset):\n",
    "    sequence = data['sequence']\n",
    "    target = data['target']\n",
    "    print(f\"Sample {i}:\")\n",
    "    print(f\"Sequence shape: {sequence.shape}\")\n",
    "    print(f\"Target shape: {target.shape}\")\n",
    "    \n",
    "    # Just accessing the first few samples for demonstration\n",
    "    if i == 2:\n",
    "        break"
   ]
  },
  {
   "cell_type": "code",
   "execution_count": 13,
   "metadata": {},
   "outputs": [
    {
     "ename": "TypeError",
     "evalue": "expected str, bytes or os.PathLike object, not list",
     "output_type": "error",
     "traceback": [
      "\u001b[0;31m---------------------------------------------------------------------------\u001b[0m",
      "\u001b[0;31mTypeError\u001b[0m                                 Traceback (most recent call last)",
      "Cell \u001b[0;32mIn[13], line 7\u001b[0m\n\u001b[1;32m      4\u001b[0m dataloader \u001b[38;5;241m=\u001b[39m DataLoader(human_dataset, batch_size\u001b[38;5;241m=\u001b[39m\u001b[38;5;241m1\u001b[39m)\n\u001b[1;32m      6\u001b[0m \u001b[38;5;66;03m# Iterate over the DataLoader\u001b[39;00m\n\u001b[0;32m----> 7\u001b[0m \u001b[38;5;28;43;01mfor\u001b[39;49;00m\u001b[43m \u001b[49m\u001b[43mbatch\u001b[49m\u001b[43m \u001b[49m\u001b[38;5;129;43;01min\u001b[39;49;00m\u001b[43m \u001b[49m\u001b[43mdataloader\u001b[49m\u001b[43m:\u001b[49m\n\u001b[1;32m      8\u001b[0m \u001b[43m    \u001b[49m\u001b[43msequences\u001b[49m\u001b[43m \u001b[49m\u001b[38;5;241;43m=\u001b[39;49m\u001b[43m \u001b[49m\u001b[43mbatch\u001b[49m\u001b[43m[\u001b[49m\u001b[38;5;124;43m'\u001b[39;49m\u001b[38;5;124;43msequence\u001b[39;49m\u001b[38;5;124;43m'\u001b[39;49m\u001b[43m]\u001b[49m\n\u001b[1;32m      9\u001b[0m \u001b[43m    \u001b[49m\u001b[43mtargets\u001b[49m\u001b[43m \u001b[49m\u001b[38;5;241;43m=\u001b[39;49m\u001b[43m \u001b[49m\u001b[43mbatch\u001b[49m\u001b[43m[\u001b[49m\u001b[38;5;124;43m'\u001b[39;49m\u001b[38;5;124;43mtarget\u001b[39;49m\u001b[38;5;124;43m'\u001b[39;49m\u001b[43m]\u001b[49m\n",
      "File \u001b[0;32m/data/leslie/sarthak/environments/hyena_backup3/lib/python3.11/site-packages/torch/utils/data/dataloader.py:630\u001b[0m, in \u001b[0;36m_BaseDataLoaderIter.__next__\u001b[0;34m(self)\u001b[0m\n\u001b[1;32m    627\u001b[0m \u001b[38;5;28;01mif\u001b[39;00m \u001b[38;5;28mself\u001b[39m\u001b[38;5;241m.\u001b[39m_sampler_iter \u001b[38;5;129;01mis\u001b[39;00m \u001b[38;5;28;01mNone\u001b[39;00m:\n\u001b[1;32m    628\u001b[0m     \u001b[38;5;66;03m# TODO(https://github.com/pytorch/pytorch/issues/76750)\u001b[39;00m\n\u001b[1;32m    629\u001b[0m     \u001b[38;5;28mself\u001b[39m\u001b[38;5;241m.\u001b[39m_reset()  \u001b[38;5;66;03m# type: ignore[call-arg]\u001b[39;00m\n\u001b[0;32m--> 630\u001b[0m data \u001b[38;5;241m=\u001b[39m \u001b[38;5;28;43mself\u001b[39;49m\u001b[38;5;241;43m.\u001b[39;49m\u001b[43m_next_data\u001b[49m\u001b[43m(\u001b[49m\u001b[43m)\u001b[49m\n\u001b[1;32m    631\u001b[0m \u001b[38;5;28mself\u001b[39m\u001b[38;5;241m.\u001b[39m_num_yielded \u001b[38;5;241m+\u001b[39m\u001b[38;5;241m=\u001b[39m \u001b[38;5;241m1\u001b[39m\n\u001b[1;32m    632\u001b[0m \u001b[38;5;28;01mif\u001b[39;00m \u001b[38;5;28mself\u001b[39m\u001b[38;5;241m.\u001b[39m_dataset_kind \u001b[38;5;241m==\u001b[39m _DatasetKind\u001b[38;5;241m.\u001b[39mIterable \u001b[38;5;129;01mand\u001b[39;00m \\\n\u001b[1;32m    633\u001b[0m         \u001b[38;5;28mself\u001b[39m\u001b[38;5;241m.\u001b[39m_IterableDataset_len_called \u001b[38;5;129;01mis\u001b[39;00m \u001b[38;5;129;01mnot\u001b[39;00m \u001b[38;5;28;01mNone\u001b[39;00m \u001b[38;5;129;01mand\u001b[39;00m \\\n\u001b[1;32m    634\u001b[0m         \u001b[38;5;28mself\u001b[39m\u001b[38;5;241m.\u001b[39m_num_yielded \u001b[38;5;241m>\u001b[39m \u001b[38;5;28mself\u001b[39m\u001b[38;5;241m.\u001b[39m_IterableDataset_len_called:\n",
      "File \u001b[0;32m/data/leslie/sarthak/environments/hyena_backup3/lib/python3.11/site-packages/torch/utils/data/dataloader.py:674\u001b[0m, in \u001b[0;36m_SingleProcessDataLoaderIter._next_data\u001b[0;34m(self)\u001b[0m\n\u001b[1;32m    672\u001b[0m \u001b[38;5;28;01mdef\u001b[39;00m \u001b[38;5;21m_next_data\u001b[39m(\u001b[38;5;28mself\u001b[39m):\n\u001b[1;32m    673\u001b[0m     index \u001b[38;5;241m=\u001b[39m \u001b[38;5;28mself\u001b[39m\u001b[38;5;241m.\u001b[39m_next_index()  \u001b[38;5;66;03m# may raise StopIteration\u001b[39;00m\n\u001b[0;32m--> 674\u001b[0m     data \u001b[38;5;241m=\u001b[39m \u001b[38;5;28;43mself\u001b[39;49m\u001b[38;5;241;43m.\u001b[39;49m\u001b[43m_dataset_fetcher\u001b[49m\u001b[38;5;241;43m.\u001b[39;49m\u001b[43mfetch\u001b[49m\u001b[43m(\u001b[49m\u001b[43mindex\u001b[49m\u001b[43m)\u001b[49m  \u001b[38;5;66;03m# may raise StopIteration\u001b[39;00m\n\u001b[1;32m    675\u001b[0m     \u001b[38;5;28;01mif\u001b[39;00m \u001b[38;5;28mself\u001b[39m\u001b[38;5;241m.\u001b[39m_pin_memory:\n\u001b[1;32m    676\u001b[0m         data \u001b[38;5;241m=\u001b[39m _utils\u001b[38;5;241m.\u001b[39mpin_memory\u001b[38;5;241m.\u001b[39mpin_memory(data, \u001b[38;5;28mself\u001b[39m\u001b[38;5;241m.\u001b[39m_pin_memory_device)\n",
      "File \u001b[0;32m/data/leslie/sarthak/environments/hyena_backup3/lib/python3.11/site-packages/torch/utils/data/_utils/fetch.py:32\u001b[0m, in \u001b[0;36m_IterableDatasetFetcher.fetch\u001b[0;34m(self, possibly_batched_index)\u001b[0m\n\u001b[1;32m     30\u001b[0m \u001b[38;5;28;01mfor\u001b[39;00m _ \u001b[38;5;129;01min\u001b[39;00m possibly_batched_index:\n\u001b[1;32m     31\u001b[0m     \u001b[38;5;28;01mtry\u001b[39;00m:\n\u001b[0;32m---> 32\u001b[0m         data\u001b[38;5;241m.\u001b[39mappend(\u001b[38;5;28;43mnext\u001b[39;49m\u001b[43m(\u001b[49m\u001b[38;5;28;43mself\u001b[39;49m\u001b[38;5;241;43m.\u001b[39;49m\u001b[43mdataset_iter\u001b[49m\u001b[43m)\u001b[49m)\n\u001b[1;32m     33\u001b[0m     \u001b[38;5;28;01mexcept\u001b[39;00m \u001b[38;5;167;01mStopIteration\u001b[39;00m:\n\u001b[1;32m     34\u001b[0m         \u001b[38;5;28mself\u001b[39m\u001b[38;5;241m.\u001b[39mended \u001b[38;5;241m=\u001b[39m \u001b[38;5;28;01mTrue\u001b[39;00m\n",
      "File \u001b[0;32m/data/leslie/sarthak/environments/hyena_backup3/lib/python3.11/site-packages/tfrecord/iterator_utils.py:81\u001b[0m, in \u001b[0;36mshuffle_iterator\u001b[0;34m(iterator, queue_size)\u001b[0m\n\u001b[1;32m     79\u001b[0m \u001b[38;5;28;01mtry\u001b[39;00m:\n\u001b[1;32m     80\u001b[0m     \u001b[38;5;28;01mfor\u001b[39;00m _ \u001b[38;5;129;01min\u001b[39;00m \u001b[38;5;28mrange\u001b[39m(queue_size):\n\u001b[0;32m---> 81\u001b[0m         buffer\u001b[38;5;241m.\u001b[39mappend(\u001b[38;5;28;43mnext\u001b[39;49m\u001b[43m(\u001b[49m\u001b[43miterator\u001b[49m\u001b[43m)\u001b[49m)\n\u001b[1;32m     82\u001b[0m \u001b[38;5;28;01mexcept\u001b[39;00m \u001b[38;5;167;01mStopIteration\u001b[39;00m:\n\u001b[1;32m     83\u001b[0m     warnings\u001b[38;5;241m.\u001b[39mwarn(\u001b[38;5;124m\"\u001b[39m\u001b[38;5;124mNumber of elements in the iterator is less than the \u001b[39m\u001b[38;5;124m\"\u001b[39m\n\u001b[1;32m     84\u001b[0m                   \u001b[38;5;124mf\u001b[39m\u001b[38;5;124m\"\u001b[39m\u001b[38;5;124mqueue size (N=\u001b[39m\u001b[38;5;132;01m{\u001b[39;00mqueue_size\u001b[38;5;132;01m}\u001b[39;00m\u001b[38;5;124m).\u001b[39m\u001b[38;5;124m\"\u001b[39m)\n",
      "File \u001b[0;32m/data/leslie/sarthak/environments/hyena_backup3/lib/python3.11/site-packages/tfrecord/reader.py:224\u001b[0m, in \u001b[0;36mexample_loader\u001b[0;34m(data_path, index_path, description, shard, compression_type)\u001b[0m\n\u001b[1;32m    211\u001b[0m typename_mapping \u001b[38;5;241m=\u001b[39m {\n\u001b[1;32m    212\u001b[0m     \u001b[38;5;124m\"\u001b[39m\u001b[38;5;124mbyte\u001b[39m\u001b[38;5;124m\"\u001b[39m: \u001b[38;5;124m\"\u001b[39m\u001b[38;5;124mbytes_list\u001b[39m\u001b[38;5;124m\"\u001b[39m,\n\u001b[1;32m    213\u001b[0m     \u001b[38;5;124m\"\u001b[39m\u001b[38;5;124mfloat\u001b[39m\u001b[38;5;124m\"\u001b[39m: \u001b[38;5;124m\"\u001b[39m\u001b[38;5;124mfloat_list\u001b[39m\u001b[38;5;124m\"\u001b[39m,\n\u001b[1;32m    214\u001b[0m     \u001b[38;5;124m\"\u001b[39m\u001b[38;5;124mint\u001b[39m\u001b[38;5;124m\"\u001b[39m: \u001b[38;5;124m\"\u001b[39m\u001b[38;5;124mint64_list\u001b[39m\u001b[38;5;124m\"\u001b[39m\n\u001b[1;32m    215\u001b[0m }\n\u001b[1;32m    217\u001b[0m record_iterator \u001b[38;5;241m=\u001b[39m tfrecord_iterator(\n\u001b[1;32m    218\u001b[0m     data_path\u001b[38;5;241m=\u001b[39mdata_path,\n\u001b[1;32m    219\u001b[0m     index_path\u001b[38;5;241m=\u001b[39mindex_path,\n\u001b[1;32m    220\u001b[0m     shard\u001b[38;5;241m=\u001b[39mshard,\n\u001b[1;32m    221\u001b[0m     compression_type\u001b[38;5;241m=\u001b[39mcompression_type,\n\u001b[1;32m    222\u001b[0m )\n\u001b[0;32m--> 224\u001b[0m \u001b[43m\u001b[49m\u001b[38;5;28;43;01mfor\u001b[39;49;00m\u001b[43m \u001b[49m\u001b[43mrecord\u001b[49m\u001b[43m \u001b[49m\u001b[38;5;129;43;01min\u001b[39;49;00m\u001b[43m \u001b[49m\u001b[43mrecord_iterator\u001b[49m\u001b[43m:\u001b[49m\n\u001b[1;32m    225\u001b[0m \u001b[43m    \u001b[49m\u001b[43mexample\u001b[49m\u001b[43m \u001b[49m\u001b[38;5;241;43m=\u001b[39;49m\u001b[43m \u001b[49m\u001b[43mexample_pb2\u001b[49m\u001b[38;5;241;43m.\u001b[39;49m\u001b[43mExample\u001b[49m\u001b[43m(\u001b[49m\u001b[43m)\u001b[49m\n\u001b[1;32m    226\u001b[0m \u001b[43m    \u001b[49m\u001b[43mexample\u001b[49m\u001b[38;5;241;43m.\u001b[39;49m\u001b[43mParseFromString\u001b[49m\u001b[43m(\u001b[49m\u001b[43mrecord\u001b[49m\u001b[43m)\u001b[49m\n",
      "File \u001b[0;32m/data/leslie/sarthak/environments/hyena_backup3/lib/python3.11/site-packages/tfrecord/reader.py:50\u001b[0m, in \u001b[0;36mtfrecord_iterator\u001b[0;34m(data_path, index_path, shard, compression_type)\u001b[0m\n\u001b[1;32m     48\u001b[0m     file \u001b[38;5;241m=\u001b[39m gzip\u001b[38;5;241m.\u001b[39mopen(data_path, \u001b[38;5;124m\"\u001b[39m\u001b[38;5;124mrb\u001b[39m\u001b[38;5;124m\"\u001b[39m)\n\u001b[1;32m     49\u001b[0m \u001b[38;5;28;01melif\u001b[39;00m compression_type \u001b[38;5;129;01mis\u001b[39;00m \u001b[38;5;28;01mNone\u001b[39;00m:\n\u001b[0;32m---> 50\u001b[0m     file \u001b[38;5;241m=\u001b[39m \u001b[43mio\u001b[49m\u001b[38;5;241;43m.\u001b[39;49m\u001b[43mopen\u001b[49m\u001b[43m(\u001b[49m\u001b[43mdata_path\u001b[49m\u001b[43m,\u001b[49m\u001b[43m \u001b[49m\u001b[38;5;124;43m\"\u001b[39;49m\u001b[38;5;124;43mrb\u001b[39;49m\u001b[38;5;124;43m\"\u001b[39;49m\u001b[43m)\u001b[49m\n\u001b[1;32m     51\u001b[0m \u001b[38;5;28;01melse\u001b[39;00m:\n\u001b[1;32m     52\u001b[0m     \u001b[38;5;28;01mraise\u001b[39;00m \u001b[38;5;167;01mValueError\u001b[39;00m(\u001b[38;5;124m\"\u001b[39m\u001b[38;5;124mcompression_type should be either \u001b[39m\u001b[38;5;124m'\u001b[39m\u001b[38;5;124mgzip\u001b[39m\u001b[38;5;124m'\u001b[39m\u001b[38;5;124m or None\u001b[39m\u001b[38;5;124m\"\u001b[39m)\n",
      "\u001b[0;31mTypeError\u001b[0m: expected str, bytes or os.PathLike object, not list"
     ]
    }
   ],
   "source": [
    "from torch.utils.data import DataLoader\n",
    "\n",
    "# Create a DataLoader for the dataset\n",
    "dataloader = DataLoader(human_dataset, batch_size=1)\n",
    "\n",
    "# Iterate over the DataLoader\n",
    "for batch in dataloader:\n",
    "    sequences = batch['sequence']\n",
    "    targets = batch['target']\n",
    "    print(f\"Batch sequences shape: {sequences.shape}\")\n",
    "    print(f\"Batch targets shape: {targets.shape}\")\n",
    "    \n",
    "    # Accessing only the first batch for demonstration\n",
    "    break"
   ]
  },
  {
   "cell_type": "code",
   "execution_count": 14,
   "metadata": {},
   "outputs": [
    {
     "ename": "TypeError",
     "evalue": "expected str, bytes or os.PathLike object, not list",
     "output_type": "error",
     "traceback": [
      "\u001b[0;31m---------------------------------------------------------------------------\u001b[0m",
      "\u001b[0;31mTypeError\u001b[0m                                 Traceback (most recent call last)",
      "Cell \u001b[0;32mIn[14], line 69\u001b[0m\n\u001b[1;32m     66\u001b[0m human_dataset \u001b[38;5;241m=\u001b[39m get_dataset(\u001b[38;5;124m'\u001b[39m\u001b[38;5;124mhuman\u001b[39m\u001b[38;5;124m'\u001b[39m, \u001b[38;5;124m'\u001b[39m\u001b[38;5;124mtrain\u001b[39m\u001b[38;5;124m'\u001b[39m)\n\u001b[1;32m     68\u001b[0m \u001b[38;5;66;03m# Iterate over the dataset and access the data\u001b[39;00m\n\u001b[0;32m---> 69\u001b[0m \u001b[38;5;28;43;01mfor\u001b[39;49;00m\u001b[43m \u001b[49m\u001b[43mi\u001b[49m\u001b[43m,\u001b[49m\u001b[43m \u001b[49m\u001b[43mdata\u001b[49m\u001b[43m \u001b[49m\u001b[38;5;129;43;01min\u001b[39;49;00m\u001b[43m \u001b[49m\u001b[38;5;28;43menumerate\u001b[39;49m\u001b[43m(\u001b[49m\u001b[43mhuman_dataset\u001b[49m\u001b[43m)\u001b[49m\u001b[43m:\u001b[49m\n\u001b[1;32m     70\u001b[0m \u001b[43m    \u001b[49m\u001b[43msequence\u001b[49m\u001b[43m \u001b[49m\u001b[38;5;241;43m=\u001b[39;49m\u001b[43m \u001b[49m\u001b[43mdata\u001b[49m\u001b[43m[\u001b[49m\u001b[38;5;124;43m'\u001b[39;49m\u001b[38;5;124;43msequence\u001b[39;49m\u001b[38;5;124;43m'\u001b[39;49m\u001b[43m]\u001b[49m\n\u001b[1;32m     71\u001b[0m \u001b[43m    \u001b[49m\u001b[43mtarget\u001b[49m\u001b[43m \u001b[49m\u001b[38;5;241;43m=\u001b[39;49m\u001b[43m \u001b[49m\u001b[43mdata\u001b[49m\u001b[43m[\u001b[49m\u001b[38;5;124;43m'\u001b[39;49m\u001b[38;5;124;43mtarget\u001b[39;49m\u001b[38;5;124;43m'\u001b[39;49m\u001b[43m]\u001b[49m\n",
      "File \u001b[0;32m/data/leslie/sarthak/environments/hyena_backup3/lib/python3.11/site-packages/tfrecord/iterator_utils.py:81\u001b[0m, in \u001b[0;36mshuffle_iterator\u001b[0;34m(iterator, queue_size)\u001b[0m\n\u001b[1;32m     79\u001b[0m \u001b[38;5;28;01mtry\u001b[39;00m:\n\u001b[1;32m     80\u001b[0m     \u001b[38;5;28;01mfor\u001b[39;00m _ \u001b[38;5;129;01min\u001b[39;00m \u001b[38;5;28mrange\u001b[39m(queue_size):\n\u001b[0;32m---> 81\u001b[0m         buffer\u001b[38;5;241m.\u001b[39mappend(\u001b[38;5;28;43mnext\u001b[39;49m\u001b[43m(\u001b[49m\u001b[43miterator\u001b[49m\u001b[43m)\u001b[49m)\n\u001b[1;32m     82\u001b[0m \u001b[38;5;28;01mexcept\u001b[39;00m \u001b[38;5;167;01mStopIteration\u001b[39;00m:\n\u001b[1;32m     83\u001b[0m     warnings\u001b[38;5;241m.\u001b[39mwarn(\u001b[38;5;124m\"\u001b[39m\u001b[38;5;124mNumber of elements in the iterator is less than the \u001b[39m\u001b[38;5;124m\"\u001b[39m\n\u001b[1;32m     84\u001b[0m                   \u001b[38;5;124mf\u001b[39m\u001b[38;5;124m\"\u001b[39m\u001b[38;5;124mqueue size (N=\u001b[39m\u001b[38;5;132;01m{\u001b[39;00mqueue_size\u001b[38;5;132;01m}\u001b[39;00m\u001b[38;5;124m).\u001b[39m\u001b[38;5;124m\"\u001b[39m)\n",
      "File \u001b[0;32m/data/leslie/sarthak/environments/hyena_backup3/lib/python3.11/site-packages/tfrecord/reader.py:224\u001b[0m, in \u001b[0;36mexample_loader\u001b[0;34m(data_path, index_path, description, shard, compression_type)\u001b[0m\n\u001b[1;32m    211\u001b[0m typename_mapping \u001b[38;5;241m=\u001b[39m {\n\u001b[1;32m    212\u001b[0m     \u001b[38;5;124m\"\u001b[39m\u001b[38;5;124mbyte\u001b[39m\u001b[38;5;124m\"\u001b[39m: \u001b[38;5;124m\"\u001b[39m\u001b[38;5;124mbytes_list\u001b[39m\u001b[38;5;124m\"\u001b[39m,\n\u001b[1;32m    213\u001b[0m     \u001b[38;5;124m\"\u001b[39m\u001b[38;5;124mfloat\u001b[39m\u001b[38;5;124m\"\u001b[39m: \u001b[38;5;124m\"\u001b[39m\u001b[38;5;124mfloat_list\u001b[39m\u001b[38;5;124m\"\u001b[39m,\n\u001b[1;32m    214\u001b[0m     \u001b[38;5;124m\"\u001b[39m\u001b[38;5;124mint\u001b[39m\u001b[38;5;124m\"\u001b[39m: \u001b[38;5;124m\"\u001b[39m\u001b[38;5;124mint64_list\u001b[39m\u001b[38;5;124m\"\u001b[39m\n\u001b[1;32m    215\u001b[0m }\n\u001b[1;32m    217\u001b[0m record_iterator \u001b[38;5;241m=\u001b[39m tfrecord_iterator(\n\u001b[1;32m    218\u001b[0m     data_path\u001b[38;5;241m=\u001b[39mdata_path,\n\u001b[1;32m    219\u001b[0m     index_path\u001b[38;5;241m=\u001b[39mindex_path,\n\u001b[1;32m    220\u001b[0m     shard\u001b[38;5;241m=\u001b[39mshard,\n\u001b[1;32m    221\u001b[0m     compression_type\u001b[38;5;241m=\u001b[39mcompression_type,\n\u001b[1;32m    222\u001b[0m )\n\u001b[0;32m--> 224\u001b[0m \u001b[43m\u001b[49m\u001b[38;5;28;43;01mfor\u001b[39;49;00m\u001b[43m \u001b[49m\u001b[43mrecord\u001b[49m\u001b[43m \u001b[49m\u001b[38;5;129;43;01min\u001b[39;49;00m\u001b[43m \u001b[49m\u001b[43mrecord_iterator\u001b[49m\u001b[43m:\u001b[49m\n\u001b[1;32m    225\u001b[0m \u001b[43m    \u001b[49m\u001b[43mexample\u001b[49m\u001b[43m \u001b[49m\u001b[38;5;241;43m=\u001b[39;49m\u001b[43m \u001b[49m\u001b[43mexample_pb2\u001b[49m\u001b[38;5;241;43m.\u001b[39;49m\u001b[43mExample\u001b[49m\u001b[43m(\u001b[49m\u001b[43m)\u001b[49m\n\u001b[1;32m    226\u001b[0m \u001b[43m    \u001b[49m\u001b[43mexample\u001b[49m\u001b[38;5;241;43m.\u001b[39;49m\u001b[43mParseFromString\u001b[49m\u001b[43m(\u001b[49m\u001b[43mrecord\u001b[49m\u001b[43m)\u001b[49m\n",
      "File \u001b[0;32m/data/leslie/sarthak/environments/hyena_backup3/lib/python3.11/site-packages/tfrecord/reader.py:50\u001b[0m, in \u001b[0;36mtfrecord_iterator\u001b[0;34m(data_path, index_path, shard, compression_type)\u001b[0m\n\u001b[1;32m     48\u001b[0m     file \u001b[38;5;241m=\u001b[39m gzip\u001b[38;5;241m.\u001b[39mopen(data_path, \u001b[38;5;124m\"\u001b[39m\u001b[38;5;124mrb\u001b[39m\u001b[38;5;124m\"\u001b[39m)\n\u001b[1;32m     49\u001b[0m \u001b[38;5;28;01melif\u001b[39;00m compression_type \u001b[38;5;129;01mis\u001b[39;00m \u001b[38;5;28;01mNone\u001b[39;00m:\n\u001b[0;32m---> 50\u001b[0m     file \u001b[38;5;241m=\u001b[39m \u001b[43mio\u001b[49m\u001b[38;5;241;43m.\u001b[39;49m\u001b[43mopen\u001b[49m\u001b[43m(\u001b[49m\u001b[43mdata_path\u001b[49m\u001b[43m,\u001b[49m\u001b[43m \u001b[49m\u001b[38;5;124;43m\"\u001b[39;49m\u001b[38;5;124;43mrb\u001b[39;49m\u001b[38;5;124;43m\"\u001b[39;49m\u001b[43m)\u001b[49m\n\u001b[1;32m     51\u001b[0m \u001b[38;5;28;01melse\u001b[39;00m:\n\u001b[1;32m     52\u001b[0m     \u001b[38;5;28;01mraise\u001b[39;00m \u001b[38;5;167;01mValueError\u001b[39;00m(\u001b[38;5;124m\"\u001b[39m\u001b[38;5;124mcompression_type should be either \u001b[39m\u001b[38;5;124m'\u001b[39m\u001b[38;5;124mgzip\u001b[39m\u001b[38;5;124m'\u001b[39m\u001b[38;5;124m or None\u001b[39m\u001b[38;5;124m\"\u001b[39m)\n",
      "\u001b[0;31mTypeError\u001b[0m: expected str, bytes or os.PathLike object, not list"
     ]
    }
   ],
   "source": [
    "#I'm going to assume chatgpt just made it completely wrong\n",
    "def organism_path(organism):\n",
    "  return os.path.join('/data/leslie/sarthak/data/enformer/data/', organism) #just leads to the organism path, quite easy\n",
    "\n",
    "\n",
    "def get_dataset(organism, subset, num_threads=4): #this gets the data and deserializes it\n",
    "  metadata = get_metadata(organism)\n",
    "  dataset = TFRecordDataset(tfrecord_files(organism, subset),\n",
    "                                    compression_type='ZLIB',\n",
    "                                    num_parallel_reads=num_threads)\n",
    "  dataset = dataset.map(functools.partial(deserialize, metadata=metadata),\n",
    "                        num_parallel_calls=num_threads)\n",
    "  return dataset\n",
    "\n",
    "\n",
    "# def get_metadata(organism):\n",
    "#   # Keys:\n",
    "#   # num_targets, train_seqs, valid_seqs, test_seqs, seq_length,\n",
    "#   # pool_width, crop_bp, target_length\n",
    "#   path = os.path.join(organism_path(organism), 'statistics.json')\n",
    "#   with tf.io.gfile.GFile(path, 'r') as f:\n",
    "#     return json.load(f)\n",
    "  \n",
    "def get_metadata(organism):\n",
    "    path = os.path.join(organism_path(organism), 'statistics.json')\n",
    "    with open(path, 'r') as f:\n",
    "        return json.load(f)\n",
    "\n",
    "def tfrecord_files(organism, subset):\n",
    "    return sorted(glob.glob(os.path.join(\n",
    "        organism_path(organism), 'tfrecords', f'{subset}-*.tfrecord'\n",
    "    )), key=lambda x: int(x.split('-')[-1].split('.')[0]))\n",
    "    \n",
    "def parse_tfrecord(serialized_example, metadata):\n",
    "    feature_map = {\n",
    "        'sequence': 'byte',\n",
    "        'target': 'byte',\n",
    "    }\n",
    "    example = TFRecordDataset.deserialize_example(serialized_example, feature_map)\n",
    "    \n",
    "    sequence = np.frombuffer(example['sequence'], dtype=np.bool_)\n",
    "    sequence = sequence.reshape((metadata['seq_length'], 4))\n",
    "    sequence = sequence.astype(np.float32)\n",
    "\n",
    "    target = np.frombuffer(example['target'], dtype=np.float16)\n",
    "    target = target.reshape((metadata['target_length'], metadata['num_targets']))\n",
    "    target = target.astype(np.float32)\n",
    "\n",
    "    return {'sequence': sequence, 'target': target}\n",
    "\n",
    "def get_dataset(organism, subset, num_threads=4):\n",
    "    metadata = get_metadata(organism)\n",
    "    files = tfrecord_files(organism, subset)\n",
    "    \n",
    "    dataset = TFRecordDataset(\n",
    "        files,\n",
    "        index_path=None,\n",
    "        description=None,\n",
    "        transform=functools.partial(parse_tfrecord, metadata=metadata),\n",
    "        shuffle_queue_size=2048\n",
    "    )\n",
    "    \n",
    "    return dataset\n",
    "\n",
    "def get_targets(organism):\n",
    "    targets_txt = f'https://raw.githubusercontent.com/calico/basenji/master/manuscripts/cross2020/targets_{organism}.txt'\n",
    "    return pd.read_csv(targets_txt, sep='\\t')\n",
    "\n",
    "# Load the metadata and dataset\n",
    "df_targets_human = get_targets('human')\n",
    "human_dataset = get_dataset('human', 'train')\n",
    "\n",
    "# Iterate over the dataset and access the data\n",
    "for i, data in enumerate(human_dataset):\n",
    "    sequence = data['sequence']\n",
    "    target = data['target']\n",
    "    print(f\"Sample {i}:\")\n",
    "    print(f\"Sequence shape: {sequence.shape}\")\n",
    "    print(f\"Target shape: {target.shape}\")\n",
    "    \n",
    "    # Just accessing the first few samples for demonstration\n",
    "    if i == 2:\n",
    "        break"
   ]
  },
  {
   "cell_type": "code",
   "execution_count": 15,
   "metadata": {},
   "outputs": [
    {
     "data": {
      "text/plain": [
       "{'num_targets': 5313,\n",
       " 'train_seqs': 34021,\n",
       " 'valid_seqs': 2213,\n",
       " 'test_seqs': 1937,\n",
       " 'seq_length': 131072,\n",
       " 'pool_width': 128,\n",
       " 'crop_bp': 8192,\n",
       " 'target_length': 896}"
      ]
     },
     "execution_count": 15,
     "metadata": {},
     "output_type": "execute_result"
    }
   ],
   "source": [
    "#ok let's do things one at a time, we have som ekey functions we assume work just fine\n",
    "\n",
    "#get dataset requires deserialize\n",
    "#we have an alternate to get_metadata\n",
    "\n",
    "def get_metadata(organism):\n",
    "    path = os.path.join(organism_path(organism), 'statistics.json')\n",
    "    with open(path, 'r') as f:\n",
    "        return json.load(f)\n",
    "metadata = get_metadata('human')\n",
    "metadata\n",
    "#this works just fine"
   ]
  },
  {
   "cell_type": "code",
   "execution_count": 16,
   "metadata": {},
   "outputs": [
    {
     "data": {
      "text/plain": [
       "[]"
      ]
     },
     "execution_count": 16,
     "metadata": {},
     "output_type": "execute_result"
    }
   ],
   "source": [
    "def tfrecord_files(organism, subset):\n",
    "    return sorted(glob.glob(os.path.join(\n",
    "        organism_path(organism), 'tfrecords', f'{subset}-*.tfrecord'\n",
    "    )), key=lambda x: int(x.split('-')[-1].split('.')[0]))\n",
    "\n",
    "files = tfrecord_files('human', 'train')\n",
    "files\n",
    "#no so this seems to have an issue"
   ]
  },
  {
   "cell_type": "code",
   "execution_count": 17,
   "metadata": {},
   "outputs": [
    {
     "data": {
      "text/plain": [
       "'/data/leslie/sarthak/data/enformer/data/human'"
      ]
     },
     "execution_count": 17,
     "metadata": {},
     "output_type": "execute_result"
    }
   ],
   "source": [
    "organism_path('human')"
   ]
  },
  {
   "cell_type": "code",
   "execution_count": 18,
   "metadata": {},
   "outputs": [
    {
     "name": "stdout",
     "output_type": "stream",
     "text": [
      "['/data/leslie/sarthak/data/enformer/data/human/tfrecords/train-0-0.tfr', '/data/leslie/sarthak/data/enformer/data/human/tfrecords/train-0-1.tfr', '/data/leslie/sarthak/data/enformer/data/human/tfrecords/train-0-2.tfr', '/data/leslie/sarthak/data/enformer/data/human/tfrecords/train-0-3.tfr', '/data/leslie/sarthak/data/enformer/data/human/tfrecords/train-0-4.tfr', '/data/leslie/sarthak/data/enformer/data/human/tfrecords/train-0-5.tfr', '/data/leslie/sarthak/data/enformer/data/human/tfrecords/train-0-6.tfr', '/data/leslie/sarthak/data/enformer/data/human/tfrecords/train-0-7.tfr', '/data/leslie/sarthak/data/enformer/data/human/tfrecords/train-0-8.tfr', '/data/leslie/sarthak/data/enformer/data/human/tfrecords/train-0-9.tfr', '/data/leslie/sarthak/data/enformer/data/human/tfrecords/train-0-10.tfr', '/data/leslie/sarthak/data/enformer/data/human/tfrecords/train-0-11.tfr', '/data/leslie/sarthak/data/enformer/data/human/tfrecords/train-0-12.tfr', '/data/leslie/sarthak/data/enformer/data/human/tfrecords/train-0-13.tfr', '/data/leslie/sarthak/data/enformer/data/human/tfrecords/train-0-14.tfr', '/data/leslie/sarthak/data/enformer/data/human/tfrecords/train-0-15.tfr', '/data/leslie/sarthak/data/enformer/data/human/tfrecords/train-0-16.tfr', '/data/leslie/sarthak/data/enformer/data/human/tfrecords/train-0-17.tfr', '/data/leslie/sarthak/data/enformer/data/human/tfrecords/train-0-18.tfr', '/data/leslie/sarthak/data/enformer/data/human/tfrecords/train-0-19.tfr', '/data/leslie/sarthak/data/enformer/data/human/tfrecords/train-0-20.tfr', '/data/leslie/sarthak/data/enformer/data/human/tfrecords/train-0-21.tfr', '/data/leslie/sarthak/data/enformer/data/human/tfrecords/train-0-22.tfr', '/data/leslie/sarthak/data/enformer/data/human/tfrecords/train-0-23.tfr', '/data/leslie/sarthak/data/enformer/data/human/tfrecords/train-0-24.tfr', '/data/leslie/sarthak/data/enformer/data/human/tfrecords/train-0-25.tfr', '/data/leslie/sarthak/data/enformer/data/human/tfrecords/train-0-26.tfr', '/data/leslie/sarthak/data/enformer/data/human/tfrecords/train-0-27.tfr', '/data/leslie/sarthak/data/enformer/data/human/tfrecords/train-0-28.tfr', '/data/leslie/sarthak/data/enformer/data/human/tfrecords/train-0-29.tfr', '/data/leslie/sarthak/data/enformer/data/human/tfrecords/train-0-30.tfr', '/data/leslie/sarthak/data/enformer/data/human/tfrecords/train-0-31.tfr', '/data/leslie/sarthak/data/enformer/data/human/tfrecords/train-0-32.tfr', '/data/leslie/sarthak/data/enformer/data/human/tfrecords/train-0-33.tfr', '/data/leslie/sarthak/data/enformer/data/human/tfrecords/train-0-34.tfr', '/data/leslie/sarthak/data/enformer/data/human/tfrecords/train-0-35.tfr', '/data/leslie/sarthak/data/enformer/data/human/tfrecords/train-0-36.tfr', '/data/leslie/sarthak/data/enformer/data/human/tfrecords/train-0-37.tfr', '/data/leslie/sarthak/data/enformer/data/human/tfrecords/train-0-38.tfr', '/data/leslie/sarthak/data/enformer/data/human/tfrecords/train-0-39.tfr', '/data/leslie/sarthak/data/enformer/data/human/tfrecords/train-0-40.tfr', '/data/leslie/sarthak/data/enformer/data/human/tfrecords/train-0-41.tfr', '/data/leslie/sarthak/data/enformer/data/human/tfrecords/train-0-42.tfr', '/data/leslie/sarthak/data/enformer/data/human/tfrecords/train-0-43.tfr', '/data/leslie/sarthak/data/enformer/data/human/tfrecords/train-0-44.tfr', '/data/leslie/sarthak/data/enformer/data/human/tfrecords/train-0-45.tfr', '/data/leslie/sarthak/data/enformer/data/human/tfrecords/train-0-46.tfr', '/data/leslie/sarthak/data/enformer/data/human/tfrecords/train-0-47.tfr', '/data/leslie/sarthak/data/enformer/data/human/tfrecords/train-0-48.tfr', '/data/leslie/sarthak/data/enformer/data/human/tfrecords/train-0-49.tfr', '/data/leslie/sarthak/data/enformer/data/human/tfrecords/train-0-50.tfr', '/data/leslie/sarthak/data/enformer/data/human/tfrecords/train-0-51.tfr', '/data/leslie/sarthak/data/enformer/data/human/tfrecords/train-0-52.tfr', '/data/leslie/sarthak/data/enformer/data/human/tfrecords/train-0-53.tfr', '/data/leslie/sarthak/data/enformer/data/human/tfrecords/train-0-54.tfr', '/data/leslie/sarthak/data/enformer/data/human/tfrecords/train-0-55.tfr', '/data/leslie/sarthak/data/enformer/data/human/tfrecords/train-0-56.tfr', '/data/leslie/sarthak/data/enformer/data/human/tfrecords/train-0-57.tfr', '/data/leslie/sarthak/data/enformer/data/human/tfrecords/train-0-58.tfr', '/data/leslie/sarthak/data/enformer/data/human/tfrecords/train-0-59.tfr', '/data/leslie/sarthak/data/enformer/data/human/tfrecords/train-0-60.tfr', '/data/leslie/sarthak/data/enformer/data/human/tfrecords/train-0-61.tfr', '/data/leslie/sarthak/data/enformer/data/human/tfrecords/train-0-62.tfr', '/data/leslie/sarthak/data/enformer/data/human/tfrecords/train-0-63.tfr', '/data/leslie/sarthak/data/enformer/data/human/tfrecords/train-0-64.tfr', '/data/leslie/sarthak/data/enformer/data/human/tfrecords/train-0-65.tfr', '/data/leslie/sarthak/data/enformer/data/human/tfrecords/train-0-66.tfr', '/data/leslie/sarthak/data/enformer/data/human/tfrecords/train-0-67.tfr', '/data/leslie/sarthak/data/enformer/data/human/tfrecords/train-0-68.tfr', '/data/leslie/sarthak/data/enformer/data/human/tfrecords/train-0-69.tfr', '/data/leslie/sarthak/data/enformer/data/human/tfrecords/train-0-70.tfr', '/data/leslie/sarthak/data/enformer/data/human/tfrecords/train-0-71.tfr', '/data/leslie/sarthak/data/enformer/data/human/tfrecords/train-0-72.tfr', '/data/leslie/sarthak/data/enformer/data/human/tfrecords/train-0-73.tfr', '/data/leslie/sarthak/data/enformer/data/human/tfrecords/train-0-74.tfr', '/data/leslie/sarthak/data/enformer/data/human/tfrecords/train-0-75.tfr', '/data/leslie/sarthak/data/enformer/data/human/tfrecords/train-0-76.tfr', '/data/leslie/sarthak/data/enformer/data/human/tfrecords/train-0-77.tfr', '/data/leslie/sarthak/data/enformer/data/human/tfrecords/train-0-78.tfr', '/data/leslie/sarthak/data/enformer/data/human/tfrecords/train-0-79.tfr', '/data/leslie/sarthak/data/enformer/data/human/tfrecords/train-0-80.tfr', '/data/leslie/sarthak/data/enformer/data/human/tfrecords/train-0-81.tfr', '/data/leslie/sarthak/data/enformer/data/human/tfrecords/train-0-82.tfr', '/data/leslie/sarthak/data/enformer/data/human/tfrecords/train-0-83.tfr', '/data/leslie/sarthak/data/enformer/data/human/tfrecords/train-0-84.tfr', '/data/leslie/sarthak/data/enformer/data/human/tfrecords/train-0-85.tfr', '/data/leslie/sarthak/data/enformer/data/human/tfrecords/train-0-86.tfr', '/data/leslie/sarthak/data/enformer/data/human/tfrecords/train-0-87.tfr', '/data/leslie/sarthak/data/enformer/data/human/tfrecords/train-0-88.tfr', '/data/leslie/sarthak/data/enformer/data/human/tfrecords/train-0-89.tfr', '/data/leslie/sarthak/data/enformer/data/human/tfrecords/train-0-90.tfr', '/data/leslie/sarthak/data/enformer/data/human/tfrecords/train-0-91.tfr', '/data/leslie/sarthak/data/enformer/data/human/tfrecords/train-0-92.tfr', '/data/leslie/sarthak/data/enformer/data/human/tfrecords/train-0-93.tfr', '/data/leslie/sarthak/data/enformer/data/human/tfrecords/train-0-94.tfr', '/data/leslie/sarthak/data/enformer/data/human/tfrecords/train-0-95.tfr', '/data/leslie/sarthak/data/enformer/data/human/tfrecords/train-0-96.tfr', '/data/leslie/sarthak/data/enformer/data/human/tfrecords/train-0-97.tfr', '/data/leslie/sarthak/data/enformer/data/human/tfrecords/train-0-98.tfr', '/data/leslie/sarthak/data/enformer/data/human/tfrecords/train-0-99.tfr', '/data/leslie/sarthak/data/enformer/data/human/tfrecords/train-0-100.tfr', '/data/leslie/sarthak/data/enformer/data/human/tfrecords/train-0-101.tfr', '/data/leslie/sarthak/data/enformer/data/human/tfrecords/train-0-102.tfr', '/data/leslie/sarthak/data/enformer/data/human/tfrecords/train-0-103.tfr', '/data/leslie/sarthak/data/enformer/data/human/tfrecords/train-0-104.tfr', '/data/leslie/sarthak/data/enformer/data/human/tfrecords/train-0-105.tfr', '/data/leslie/sarthak/data/enformer/data/human/tfrecords/train-0-106.tfr', '/data/leslie/sarthak/data/enformer/data/human/tfrecords/train-0-107.tfr', '/data/leslie/sarthak/data/enformer/data/human/tfrecords/train-0-108.tfr', '/data/leslie/sarthak/data/enformer/data/human/tfrecords/train-0-109.tfr', '/data/leslie/sarthak/data/enformer/data/human/tfrecords/train-0-110.tfr', '/data/leslie/sarthak/data/enformer/data/human/tfrecords/train-0-111.tfr', '/data/leslie/sarthak/data/enformer/data/human/tfrecords/train-0-112.tfr', '/data/leslie/sarthak/data/enformer/data/human/tfrecords/train-0-113.tfr', '/data/leslie/sarthak/data/enformer/data/human/tfrecords/train-0-114.tfr', '/data/leslie/sarthak/data/enformer/data/human/tfrecords/train-0-115.tfr', '/data/leslie/sarthak/data/enformer/data/human/tfrecords/train-0-116.tfr', '/data/leslie/sarthak/data/enformer/data/human/tfrecords/train-0-117.tfr', '/data/leslie/sarthak/data/enformer/data/human/tfrecords/train-0-118.tfr', '/data/leslie/sarthak/data/enformer/data/human/tfrecords/train-0-119.tfr', '/data/leslie/sarthak/data/enformer/data/human/tfrecords/train-0-120.tfr', '/data/leslie/sarthak/data/enformer/data/human/tfrecords/train-0-121.tfr', '/data/leslie/sarthak/data/enformer/data/human/tfrecords/train-0-122.tfr', '/data/leslie/sarthak/data/enformer/data/human/tfrecords/train-0-123.tfr', '/data/leslie/sarthak/data/enformer/data/human/tfrecords/train-0-124.tfr', '/data/leslie/sarthak/data/enformer/data/human/tfrecords/train-0-125.tfr', '/data/leslie/sarthak/data/enformer/data/human/tfrecords/train-0-126.tfr', '/data/leslie/sarthak/data/enformer/data/human/tfrecords/train-0-127.tfr', '/data/leslie/sarthak/data/enformer/data/human/tfrecords/train-0-128.tfr', '/data/leslie/sarthak/data/enformer/data/human/tfrecords/train-0-129.tfr', '/data/leslie/sarthak/data/enformer/data/human/tfrecords/train-0-130.tfr', '/data/leslie/sarthak/data/enformer/data/human/tfrecords/train-0-131.tfr', '/data/leslie/sarthak/data/enformer/data/human/tfrecords/train-0-132.tfr']\n"
     ]
    }
   ],
   "source": [
    "def organism_path(organism):\n",
    "    return os.path.join('/data/leslie/sarthak/data/enformer/data/', organism)\n",
    "\n",
    "def tfrecord_files(organism, subset):\n",
    "    # Use glob to get all matching files\n",
    "    file_pattern = os.path.join(organism_path(organism), 'tfrecords', f'{subset}-*.tfr')\n",
    "    file_list = glob.glob(file_pattern)\n",
    "    \n",
    "    # Sort the files based on the integer value in the filename\n",
    "    sorted_files = sorted(file_list, key=lambda x: int(x.split('-')[-1].split('.')[0]))\n",
    "    \n",
    "    return sorted_files\n",
    "\n",
    "# Example usage:\n",
    "organism = 'human'\n",
    "subset = 'train'\n",
    "files = tfrecord_files(organism, subset)\n",
    "print(files)"
   ]
  },
  {
   "cell_type": "code",
   "execution_count": 19,
   "metadata": {},
   "outputs": [],
   "source": [
    "#see this works!\n",
    "\n",
    "def parse_tfrecord(serialized_example, metadata):\n",
    "    feature_map = {\n",
    "        'sequence': 'byte',\n",
    "        'target': 'byte',\n",
    "    }\n",
    "    example = TFRecordDataset.deserialize_example(serialized_example, feature_map)\n",
    "    \n",
    "    sequence = np.frombuffer(example['sequence'], dtype=np.bool_)\n",
    "    sequence = sequence.reshape((metadata['seq_length'], 4))\n",
    "    sequence = sequence.astype(np.float32)\n",
    "\n",
    "    target = np.frombuffer(example['target'], dtype=np.float16)\n",
    "    target = target.reshape((metadata['target_length'], metadata['num_targets']))\n",
    "    target = target.astype(np.float32)\n",
    "\n",
    "    return {'sequence': sequence, 'target': target}\n",
    "\n",
    "def get_dataset(organism, subset, num_threads=4):\n",
    "    metadata = get_metadata(organism)\n",
    "    files = tfrecord_files(organism, subset)\n",
    "    \n",
    "    dataset = TFRecordDataset(\n",
    "        files,\n",
    "        index_path=None,\n",
    "        description=None,\n",
    "        transform=functools.partial(parse_tfrecord, metadata=metadata),\n",
    "        shuffle_queue_size=2048\n",
    "    )\n",
    "    \n",
    "    return dataset\n",
    "\n",
    "dataset = get_dataset('human', 'train')"
   ]
  },
  {
   "cell_type": "code",
   "execution_count": 20,
   "metadata": {},
   "outputs": [
    {
     "ename": "TypeError",
     "evalue": "expected str, bytes or os.PathLike object, not list",
     "output_type": "error",
     "traceback": [
      "\u001b[0;31m---------------------------------------------------------------------------\u001b[0m",
      "\u001b[0;31mTypeError\u001b[0m                                 Traceback (most recent call last)",
      "Cell \u001b[0;32mIn[20], line 1\u001b[0m\n\u001b[0;32m----> 1\u001b[0m \u001b[38;5;28;43mnext\u001b[39;49m\u001b[43m(\u001b[49m\u001b[38;5;28;43miter\u001b[39;49m\u001b[43m(\u001b[49m\u001b[43mdataset\u001b[49m\u001b[43m)\u001b[49m\u001b[43m)\u001b[49m\n",
      "File \u001b[0;32m/data/leslie/sarthak/environments/hyena_backup3/lib/python3.11/site-packages/tfrecord/iterator_utils.py:81\u001b[0m, in \u001b[0;36mshuffle_iterator\u001b[0;34m(iterator, queue_size)\u001b[0m\n\u001b[1;32m     79\u001b[0m \u001b[38;5;28;01mtry\u001b[39;00m:\n\u001b[1;32m     80\u001b[0m     \u001b[38;5;28;01mfor\u001b[39;00m _ \u001b[38;5;129;01min\u001b[39;00m \u001b[38;5;28mrange\u001b[39m(queue_size):\n\u001b[0;32m---> 81\u001b[0m         buffer\u001b[38;5;241m.\u001b[39mappend(\u001b[38;5;28;43mnext\u001b[39;49m\u001b[43m(\u001b[49m\u001b[43miterator\u001b[49m\u001b[43m)\u001b[49m)\n\u001b[1;32m     82\u001b[0m \u001b[38;5;28;01mexcept\u001b[39;00m \u001b[38;5;167;01mStopIteration\u001b[39;00m:\n\u001b[1;32m     83\u001b[0m     warnings\u001b[38;5;241m.\u001b[39mwarn(\u001b[38;5;124m\"\u001b[39m\u001b[38;5;124mNumber of elements in the iterator is less than the \u001b[39m\u001b[38;5;124m\"\u001b[39m\n\u001b[1;32m     84\u001b[0m                   \u001b[38;5;124mf\u001b[39m\u001b[38;5;124m\"\u001b[39m\u001b[38;5;124mqueue size (N=\u001b[39m\u001b[38;5;132;01m{\u001b[39;00mqueue_size\u001b[38;5;132;01m}\u001b[39;00m\u001b[38;5;124m).\u001b[39m\u001b[38;5;124m\"\u001b[39m)\n",
      "File \u001b[0;32m/data/leslie/sarthak/environments/hyena_backup3/lib/python3.11/site-packages/tfrecord/reader.py:224\u001b[0m, in \u001b[0;36mexample_loader\u001b[0;34m(data_path, index_path, description, shard, compression_type)\u001b[0m\n\u001b[1;32m    211\u001b[0m typename_mapping \u001b[38;5;241m=\u001b[39m {\n\u001b[1;32m    212\u001b[0m     \u001b[38;5;124m\"\u001b[39m\u001b[38;5;124mbyte\u001b[39m\u001b[38;5;124m\"\u001b[39m: \u001b[38;5;124m\"\u001b[39m\u001b[38;5;124mbytes_list\u001b[39m\u001b[38;5;124m\"\u001b[39m,\n\u001b[1;32m    213\u001b[0m     \u001b[38;5;124m\"\u001b[39m\u001b[38;5;124mfloat\u001b[39m\u001b[38;5;124m\"\u001b[39m: \u001b[38;5;124m\"\u001b[39m\u001b[38;5;124mfloat_list\u001b[39m\u001b[38;5;124m\"\u001b[39m,\n\u001b[1;32m    214\u001b[0m     \u001b[38;5;124m\"\u001b[39m\u001b[38;5;124mint\u001b[39m\u001b[38;5;124m\"\u001b[39m: \u001b[38;5;124m\"\u001b[39m\u001b[38;5;124mint64_list\u001b[39m\u001b[38;5;124m\"\u001b[39m\n\u001b[1;32m    215\u001b[0m }\n\u001b[1;32m    217\u001b[0m record_iterator \u001b[38;5;241m=\u001b[39m tfrecord_iterator(\n\u001b[1;32m    218\u001b[0m     data_path\u001b[38;5;241m=\u001b[39mdata_path,\n\u001b[1;32m    219\u001b[0m     index_path\u001b[38;5;241m=\u001b[39mindex_path,\n\u001b[1;32m    220\u001b[0m     shard\u001b[38;5;241m=\u001b[39mshard,\n\u001b[1;32m    221\u001b[0m     compression_type\u001b[38;5;241m=\u001b[39mcompression_type,\n\u001b[1;32m    222\u001b[0m )\n\u001b[0;32m--> 224\u001b[0m \u001b[43m\u001b[49m\u001b[38;5;28;43;01mfor\u001b[39;49;00m\u001b[43m \u001b[49m\u001b[43mrecord\u001b[49m\u001b[43m \u001b[49m\u001b[38;5;129;43;01min\u001b[39;49;00m\u001b[43m \u001b[49m\u001b[43mrecord_iterator\u001b[49m\u001b[43m:\u001b[49m\n\u001b[1;32m    225\u001b[0m \u001b[43m    \u001b[49m\u001b[43mexample\u001b[49m\u001b[43m \u001b[49m\u001b[38;5;241;43m=\u001b[39;49m\u001b[43m \u001b[49m\u001b[43mexample_pb2\u001b[49m\u001b[38;5;241;43m.\u001b[39;49m\u001b[43mExample\u001b[49m\u001b[43m(\u001b[49m\u001b[43m)\u001b[49m\n\u001b[1;32m    226\u001b[0m \u001b[43m    \u001b[49m\u001b[43mexample\u001b[49m\u001b[38;5;241;43m.\u001b[39;49m\u001b[43mParseFromString\u001b[49m\u001b[43m(\u001b[49m\u001b[43mrecord\u001b[49m\u001b[43m)\u001b[49m\n",
      "File \u001b[0;32m/data/leslie/sarthak/environments/hyena_backup3/lib/python3.11/site-packages/tfrecord/reader.py:50\u001b[0m, in \u001b[0;36mtfrecord_iterator\u001b[0;34m(data_path, index_path, shard, compression_type)\u001b[0m\n\u001b[1;32m     48\u001b[0m     file \u001b[38;5;241m=\u001b[39m gzip\u001b[38;5;241m.\u001b[39mopen(data_path, \u001b[38;5;124m\"\u001b[39m\u001b[38;5;124mrb\u001b[39m\u001b[38;5;124m\"\u001b[39m)\n\u001b[1;32m     49\u001b[0m \u001b[38;5;28;01melif\u001b[39;00m compression_type \u001b[38;5;129;01mis\u001b[39;00m \u001b[38;5;28;01mNone\u001b[39;00m:\n\u001b[0;32m---> 50\u001b[0m     file \u001b[38;5;241m=\u001b[39m \u001b[43mio\u001b[49m\u001b[38;5;241;43m.\u001b[39;49m\u001b[43mopen\u001b[49m\u001b[43m(\u001b[49m\u001b[43mdata_path\u001b[49m\u001b[43m,\u001b[49m\u001b[43m \u001b[49m\u001b[38;5;124;43m\"\u001b[39;49m\u001b[38;5;124;43mrb\u001b[39;49m\u001b[38;5;124;43m\"\u001b[39;49m\u001b[43m)\u001b[49m\n\u001b[1;32m     51\u001b[0m \u001b[38;5;28;01melse\u001b[39;00m:\n\u001b[1;32m     52\u001b[0m     \u001b[38;5;28;01mraise\u001b[39;00m \u001b[38;5;167;01mValueError\u001b[39;00m(\u001b[38;5;124m\"\u001b[39m\u001b[38;5;124mcompression_type should be either \u001b[39m\u001b[38;5;124m'\u001b[39m\u001b[38;5;124mgzip\u001b[39m\u001b[38;5;124m'\u001b[39m\u001b[38;5;124m or None\u001b[39m\u001b[38;5;124m\"\u001b[39m)\n",
      "\u001b[0;31mTypeError\u001b[0m: expected str, bytes or os.PathLike object, not list"
     ]
    }
   ],
   "source": [
    "next(iter(dataset))"
   ]
  },
  {
   "cell_type": "code",
   "execution_count": 25,
   "metadata": {},
   "outputs": [],
   "source": [
    "#so the issue is not there, we now can give it the right list\n",
    "\n",
    "import numpy as np\n",
    "import struct\n",
    "\n",
    "def deserialize(serialized_example, metadata):\n",
    "    \"\"\"Deserialize bytes stored in TFRecordFile.\"\"\"\n",
    "    # Define feature map structure\n",
    "    feature_map = {\n",
    "        'sequence': ('sequence', np.float32),\n",
    "        'target': ('target', np.float32),\n",
    "    }\n",
    "\n",
    "    # Extract feature values\n",
    "    sequence_str_len = metadata['seq_length'] * 4\n",
    "    target_str_len = metadata['target_length'] * metadata['num_targets'] * 2\n",
    "\n",
    "    # Split serialized_example into sequence and target parts\n",
    "    sequence_bytes = serialized_example[:sequence_str_len]\n",
    "    target_bytes = serialized_example[sequence_str_len:sequence_str_len + target_str_len]\n",
    "\n",
    "    # Decode the sequence and target using numpy\n",
    "    sequence = np.frombuffer(sequence_bytes, dtype=np.uint8).astype(np.bool_)\n",
    "    sequence = np.reshape(sequence, (metadata['seq_length'], 4)).astype(np.float32)\n",
    "\n",
    "    target = np.frombuffer(target_bytes, dtype=np.float16).astype(np.float32)\n",
    "    target = np.reshape(target, (metadata['target_length'], metadata['num_targets']))\n",
    "\n",
    "    return {'sequence': sequence, 'target': target}\n",
    "\n"
   ]
  },
  {
   "cell_type": "code",
   "execution_count": 22,
   "metadata": {},
   "outputs": [],
   "source": [
    "human_dataset = get_dataset('human', 'train')"
   ]
  },
  {
   "cell_type": "code",
   "execution_count": 23,
   "metadata": {},
   "outputs": [
    {
     "ename": "TypeError",
     "evalue": "expected str, bytes or os.PathLike object, not list",
     "output_type": "error",
     "traceback": [
      "\u001b[0;31m---------------------------------------------------------------------------\u001b[0m",
      "\u001b[0;31mTypeError\u001b[0m                                 Traceback (most recent call last)",
      "Cell \u001b[0;32mIn[23], line 1\u001b[0m\n\u001b[0;32m----> 1\u001b[0m \u001b[38;5;28;43mnext\u001b[39;49m\u001b[43m(\u001b[49m\u001b[38;5;28;43miter\u001b[39;49m\u001b[43m(\u001b[49m\u001b[43mhuman_dataset\u001b[49m\u001b[43m)\u001b[49m\u001b[43m)\u001b[49m\n",
      "File \u001b[0;32m/data/leslie/sarthak/environments/hyena_backup3/lib/python3.11/site-packages/tfrecord/iterator_utils.py:81\u001b[0m, in \u001b[0;36mshuffle_iterator\u001b[0;34m(iterator, queue_size)\u001b[0m\n\u001b[1;32m     79\u001b[0m \u001b[38;5;28;01mtry\u001b[39;00m:\n\u001b[1;32m     80\u001b[0m     \u001b[38;5;28;01mfor\u001b[39;00m _ \u001b[38;5;129;01min\u001b[39;00m \u001b[38;5;28mrange\u001b[39m(queue_size):\n\u001b[0;32m---> 81\u001b[0m         buffer\u001b[38;5;241m.\u001b[39mappend(\u001b[38;5;28;43mnext\u001b[39;49m\u001b[43m(\u001b[49m\u001b[43miterator\u001b[49m\u001b[43m)\u001b[49m)\n\u001b[1;32m     82\u001b[0m \u001b[38;5;28;01mexcept\u001b[39;00m \u001b[38;5;167;01mStopIteration\u001b[39;00m:\n\u001b[1;32m     83\u001b[0m     warnings\u001b[38;5;241m.\u001b[39mwarn(\u001b[38;5;124m\"\u001b[39m\u001b[38;5;124mNumber of elements in the iterator is less than the \u001b[39m\u001b[38;5;124m\"\u001b[39m\n\u001b[1;32m     84\u001b[0m                   \u001b[38;5;124mf\u001b[39m\u001b[38;5;124m\"\u001b[39m\u001b[38;5;124mqueue size (N=\u001b[39m\u001b[38;5;132;01m{\u001b[39;00mqueue_size\u001b[38;5;132;01m}\u001b[39;00m\u001b[38;5;124m).\u001b[39m\u001b[38;5;124m\"\u001b[39m)\n",
      "File \u001b[0;32m/data/leslie/sarthak/environments/hyena_backup3/lib/python3.11/site-packages/tfrecord/reader.py:224\u001b[0m, in \u001b[0;36mexample_loader\u001b[0;34m(data_path, index_path, description, shard, compression_type)\u001b[0m\n\u001b[1;32m    211\u001b[0m typename_mapping \u001b[38;5;241m=\u001b[39m {\n\u001b[1;32m    212\u001b[0m     \u001b[38;5;124m\"\u001b[39m\u001b[38;5;124mbyte\u001b[39m\u001b[38;5;124m\"\u001b[39m: \u001b[38;5;124m\"\u001b[39m\u001b[38;5;124mbytes_list\u001b[39m\u001b[38;5;124m\"\u001b[39m,\n\u001b[1;32m    213\u001b[0m     \u001b[38;5;124m\"\u001b[39m\u001b[38;5;124mfloat\u001b[39m\u001b[38;5;124m\"\u001b[39m: \u001b[38;5;124m\"\u001b[39m\u001b[38;5;124mfloat_list\u001b[39m\u001b[38;5;124m\"\u001b[39m,\n\u001b[1;32m    214\u001b[0m     \u001b[38;5;124m\"\u001b[39m\u001b[38;5;124mint\u001b[39m\u001b[38;5;124m\"\u001b[39m: \u001b[38;5;124m\"\u001b[39m\u001b[38;5;124mint64_list\u001b[39m\u001b[38;5;124m\"\u001b[39m\n\u001b[1;32m    215\u001b[0m }\n\u001b[1;32m    217\u001b[0m record_iterator \u001b[38;5;241m=\u001b[39m tfrecord_iterator(\n\u001b[1;32m    218\u001b[0m     data_path\u001b[38;5;241m=\u001b[39mdata_path,\n\u001b[1;32m    219\u001b[0m     index_path\u001b[38;5;241m=\u001b[39mindex_path,\n\u001b[1;32m    220\u001b[0m     shard\u001b[38;5;241m=\u001b[39mshard,\n\u001b[1;32m    221\u001b[0m     compression_type\u001b[38;5;241m=\u001b[39mcompression_type,\n\u001b[1;32m    222\u001b[0m )\n\u001b[0;32m--> 224\u001b[0m \u001b[43m\u001b[49m\u001b[38;5;28;43;01mfor\u001b[39;49;00m\u001b[43m \u001b[49m\u001b[43mrecord\u001b[49m\u001b[43m \u001b[49m\u001b[38;5;129;43;01min\u001b[39;49;00m\u001b[43m \u001b[49m\u001b[43mrecord_iterator\u001b[49m\u001b[43m:\u001b[49m\n\u001b[1;32m    225\u001b[0m \u001b[43m    \u001b[49m\u001b[43mexample\u001b[49m\u001b[43m \u001b[49m\u001b[38;5;241;43m=\u001b[39;49m\u001b[43m \u001b[49m\u001b[43mexample_pb2\u001b[49m\u001b[38;5;241;43m.\u001b[39;49m\u001b[43mExample\u001b[49m\u001b[43m(\u001b[49m\u001b[43m)\u001b[49m\n\u001b[1;32m    226\u001b[0m \u001b[43m    \u001b[49m\u001b[43mexample\u001b[49m\u001b[38;5;241;43m.\u001b[39;49m\u001b[43mParseFromString\u001b[49m\u001b[43m(\u001b[49m\u001b[43mrecord\u001b[49m\u001b[43m)\u001b[49m\n",
      "File \u001b[0;32m/data/leslie/sarthak/environments/hyena_backup3/lib/python3.11/site-packages/tfrecord/reader.py:50\u001b[0m, in \u001b[0;36mtfrecord_iterator\u001b[0;34m(data_path, index_path, shard, compression_type)\u001b[0m\n\u001b[1;32m     48\u001b[0m     file \u001b[38;5;241m=\u001b[39m gzip\u001b[38;5;241m.\u001b[39mopen(data_path, \u001b[38;5;124m\"\u001b[39m\u001b[38;5;124mrb\u001b[39m\u001b[38;5;124m\"\u001b[39m)\n\u001b[1;32m     49\u001b[0m \u001b[38;5;28;01melif\u001b[39;00m compression_type \u001b[38;5;129;01mis\u001b[39;00m \u001b[38;5;28;01mNone\u001b[39;00m:\n\u001b[0;32m---> 50\u001b[0m     file \u001b[38;5;241m=\u001b[39m \u001b[43mio\u001b[49m\u001b[38;5;241;43m.\u001b[39;49m\u001b[43mopen\u001b[49m\u001b[43m(\u001b[49m\u001b[43mdata_path\u001b[49m\u001b[43m,\u001b[49m\u001b[43m \u001b[49m\u001b[38;5;124;43m\"\u001b[39;49m\u001b[38;5;124;43mrb\u001b[39;49m\u001b[38;5;124;43m\"\u001b[39;49m\u001b[43m)\u001b[49m\n\u001b[1;32m     51\u001b[0m \u001b[38;5;28;01melse\u001b[39;00m:\n\u001b[1;32m     52\u001b[0m     \u001b[38;5;28;01mraise\u001b[39;00m \u001b[38;5;167;01mValueError\u001b[39;00m(\u001b[38;5;124m\"\u001b[39m\u001b[38;5;124mcompression_type should be either \u001b[39m\u001b[38;5;124m'\u001b[39m\u001b[38;5;124mgzip\u001b[39m\u001b[38;5;124m'\u001b[39m\u001b[38;5;124m or None\u001b[39m\u001b[38;5;124m\"\u001b[39m)\n",
      "\u001b[0;31mTypeError\u001b[0m: expected str, bytes or os.PathLike object, not list"
     ]
    }
   ],
   "source": [
    "next(iter(human_dataset))"
   ]
  },
  {
   "cell_type": "code",
   "execution_count": 26,
   "metadata": {},
   "outputs": [
    {
     "ename": "OverflowError",
     "evalue": "Python int too large to convert to C ssize_t",
     "output_type": "error",
     "traceback": [
      "\u001b[0;31m---------------------------------------------------------------------------\u001b[0m",
      "\u001b[0;31mOverflowError\u001b[0m                             Traceback (most recent call last)",
      "Cell \u001b[0;32mIn[26], line 17\u001b[0m\n\u001b[1;32m     14\u001b[0m     \u001b[38;5;28;01mreturn\u001b[39;00m dataset\n\u001b[1;32m     16\u001b[0m human_dataset \u001b[38;5;241m=\u001b[39m get_dataset(\u001b[38;5;124m'\u001b[39m\u001b[38;5;124mhuman\u001b[39m\u001b[38;5;124m'\u001b[39m, \u001b[38;5;124m'\u001b[39m\u001b[38;5;124mtrain\u001b[39m\u001b[38;5;124m'\u001b[39m)\n\u001b[0;32m---> 17\u001b[0m \u001b[38;5;28mprint\u001b[39m(\u001b[38;5;28;43mnext\u001b[39;49m\u001b[43m(\u001b[49m\u001b[38;5;28;43miter\u001b[39;49m\u001b[43m(\u001b[49m\u001b[43mhuman_dataset\u001b[49m\u001b[43m)\u001b[49m\u001b[43m)\u001b[49m)\n",
      "File \u001b[0;32m/data/leslie/sarthak/environments/hyena_backup3/lib/python3.11/site-packages/tfrecord/iterator_utils.py:81\u001b[0m, in \u001b[0;36mshuffle_iterator\u001b[0;34m(iterator, queue_size)\u001b[0m\n\u001b[1;32m     79\u001b[0m \u001b[38;5;28;01mtry\u001b[39;00m:\n\u001b[1;32m     80\u001b[0m     \u001b[38;5;28;01mfor\u001b[39;00m _ \u001b[38;5;129;01min\u001b[39;00m \u001b[38;5;28mrange\u001b[39m(queue_size):\n\u001b[0;32m---> 81\u001b[0m         buffer\u001b[38;5;241m.\u001b[39mappend(\u001b[38;5;28mnext\u001b[39m(iterator))\n\u001b[1;32m     82\u001b[0m \u001b[38;5;28;01mexcept\u001b[39;00m \u001b[38;5;167;01mStopIteration\u001b[39;00m:\n\u001b[1;32m     83\u001b[0m     warnings\u001b[38;5;241m.\u001b[39mwarn(\u001b[38;5;124m\"\u001b[39m\u001b[38;5;124mNumber of elements in the iterator is less than the \u001b[39m\u001b[38;5;124m\"\u001b[39m\n\u001b[1;32m     84\u001b[0m                   \u001b[38;5;124mf\u001b[39m\u001b[38;5;124m\"\u001b[39m\u001b[38;5;124mqueue size (N=\u001b[39m\u001b[38;5;132;01m{\u001b[39;00mqueue_size\u001b[38;5;132;01m}\u001b[39;00m\u001b[38;5;124m).\u001b[39m\u001b[38;5;124m\"\u001b[39m)\n",
      "File \u001b[0;32m/data/leslie/sarthak/environments/hyena_backup3/lib/python3.11/site-packages/tfrecord/reader.py:224\u001b[0m, in \u001b[0;36mexample_loader\u001b[0;34m(data_path, index_path, description, shard, compression_type)\u001b[0m\n\u001b[1;32m    211\u001b[0m typename_mapping \u001b[38;5;241m=\u001b[39m {\n\u001b[1;32m    212\u001b[0m     \u001b[38;5;124m\"\u001b[39m\u001b[38;5;124mbyte\u001b[39m\u001b[38;5;124m\"\u001b[39m: \u001b[38;5;124m\"\u001b[39m\u001b[38;5;124mbytes_list\u001b[39m\u001b[38;5;124m\"\u001b[39m,\n\u001b[1;32m    213\u001b[0m     \u001b[38;5;124m\"\u001b[39m\u001b[38;5;124mfloat\u001b[39m\u001b[38;5;124m\"\u001b[39m: \u001b[38;5;124m\"\u001b[39m\u001b[38;5;124mfloat_list\u001b[39m\u001b[38;5;124m\"\u001b[39m,\n\u001b[1;32m    214\u001b[0m     \u001b[38;5;124m\"\u001b[39m\u001b[38;5;124mint\u001b[39m\u001b[38;5;124m\"\u001b[39m: \u001b[38;5;124m\"\u001b[39m\u001b[38;5;124mint64_list\u001b[39m\u001b[38;5;124m\"\u001b[39m\n\u001b[1;32m    215\u001b[0m }\n\u001b[1;32m    217\u001b[0m record_iterator \u001b[38;5;241m=\u001b[39m tfrecord_iterator(\n\u001b[1;32m    218\u001b[0m     data_path\u001b[38;5;241m=\u001b[39mdata_path,\n\u001b[1;32m    219\u001b[0m     index_path\u001b[38;5;241m=\u001b[39mindex_path,\n\u001b[1;32m    220\u001b[0m     shard\u001b[38;5;241m=\u001b[39mshard,\n\u001b[1;32m    221\u001b[0m     compression_type\u001b[38;5;241m=\u001b[39mcompression_type,\n\u001b[1;32m    222\u001b[0m )\n\u001b[0;32m--> 224\u001b[0m \u001b[43m\u001b[49m\u001b[38;5;28;43;01mfor\u001b[39;49;00m\u001b[43m \u001b[49m\u001b[43mrecord\u001b[49m\u001b[43m \u001b[49m\u001b[38;5;129;43;01min\u001b[39;49;00m\u001b[43m \u001b[49m\u001b[43mrecord_iterator\u001b[49m\u001b[43m:\u001b[49m\n\u001b[1;32m    225\u001b[0m \u001b[43m    \u001b[49m\u001b[43mexample\u001b[49m\u001b[43m \u001b[49m\u001b[38;5;241;43m=\u001b[39;49m\u001b[43m \u001b[49m\u001b[43mexample_pb2\u001b[49m\u001b[38;5;241;43m.\u001b[39;49m\u001b[43mExample\u001b[49m\u001b[43m(\u001b[49m\u001b[43m)\u001b[49m\n\u001b[1;32m    226\u001b[0m \u001b[43m    \u001b[49m\u001b[43mexample\u001b[49m\u001b[38;5;241;43m.\u001b[39;49m\u001b[43mParseFromString\u001b[49m\u001b[43m(\u001b[49m\u001b[43mrecord\u001b[49m\u001b[43m)\u001b[49m\n",
      "File \u001b[0;32m/data/leslie/sarthak/environments/hyena_backup3/lib/python3.11/site-packages/tfrecord/reader.py:85\u001b[0m, in \u001b[0;36mtfrecord_iterator\u001b[0;34m(data_path, index_path, shard, compression_type)\u001b[0m\n\u001b[1;32m     82\u001b[0m         \u001b[38;5;28;01myield\u001b[39;00m datum_bytes_view\n\u001b[1;32m     84\u001b[0m \u001b[38;5;28;01mif\u001b[39;00m index_path \u001b[38;5;129;01mis\u001b[39;00m \u001b[38;5;28;01mNone\u001b[39;00m:\n\u001b[0;32m---> 85\u001b[0m     \u001b[38;5;28;01myield from\u001b[39;00m read_records()\n\u001b[1;32m     86\u001b[0m \u001b[38;5;28;01melse\u001b[39;00m:\n\u001b[1;32m     87\u001b[0m     index \u001b[38;5;241m=\u001b[39m np\u001b[38;5;241m.\u001b[39mloadtxt(index_path, dtype\u001b[38;5;241m=\u001b[39mnp\u001b[38;5;241m.\u001b[39mint64)[:, \u001b[38;5;241m0\u001b[39m]\n",
      "File \u001b[0;32m/data/leslie/sarthak/environments/hyena_backup3/lib/python3.11/site-packages/tfrecord/reader.py:76\u001b[0m, in \u001b[0;36mtfrecord_iterator.<locals>.read_records\u001b[0;34m(start_offset, end_offset)\u001b[0m\n\u001b[1;32m     74\u001b[0m length, \u001b[38;5;241m=\u001b[39m struct\u001b[38;5;241m.\u001b[39munpack(\u001b[38;5;124m\"\u001b[39m\u001b[38;5;124m<Q\u001b[39m\u001b[38;5;124m\"\u001b[39m, length_bytes)\n\u001b[1;32m     75\u001b[0m \u001b[38;5;28;01mif\u001b[39;00m length \u001b[38;5;241m>\u001b[39m \u001b[38;5;28mlen\u001b[39m(datum_bytes):\n\u001b[0;32m---> 76\u001b[0m     datum_bytes \u001b[38;5;241m=\u001b[39m \u001b[43mdatum_bytes\u001b[49m\u001b[38;5;241;43m.\u001b[39;49m\u001b[43mzfill\u001b[49m\u001b[43m(\u001b[49m\u001b[38;5;28;43mint\u001b[39;49m\u001b[43m(\u001b[49m\u001b[43mlength\u001b[49m\u001b[43m \u001b[49m\u001b[38;5;241;43m*\u001b[39;49m\u001b[43m \u001b[49m\u001b[38;5;241;43m1.5\u001b[39;49m\u001b[43m)\u001b[49m\u001b[43m)\u001b[49m\n\u001b[1;32m     77\u001b[0m datum_bytes_view \u001b[38;5;241m=\u001b[39m \u001b[38;5;28mmemoryview\u001b[39m(datum_bytes)[:length]\n\u001b[1;32m     78\u001b[0m \u001b[38;5;28;01mif\u001b[39;00m file\u001b[38;5;241m.\u001b[39mreadinto(datum_bytes_view) \u001b[38;5;241m!=\u001b[39m length:\n",
      "\u001b[0;31mOverflowError\u001b[0m: Python int too large to convert to C ssize_t"
     ]
    }
   ],
   "source": [
    "#what if we just gave it a single example\n",
    "def get_dataset(organism, subset, num_threads=4):\n",
    "    metadata = get_metadata(organism)\n",
    "    files = tfrecord_files(organism, subset)\n",
    "    \n",
    "    dataset = TFRecordDataset(\n",
    "        files[0],\n",
    "        index_path=None,\n",
    "        description=None,\n",
    "        transform=functools.partial(parse_tfrecord, metadata=metadata),\n",
    "        shuffle_queue_size=2048\n",
    "    )\n",
    "    \n",
    "    return dataset\n",
    "\n",
    "human_dataset = get_dataset('human', 'train')\n",
    "print(next(iter(human_dataset)))"
   ]
  },
  {
   "cell_type": "markdown",
   "metadata": {},
   "source": [
    "# ok take a few steps back, what are we doing"
   ]
  },
  {
   "cell_type": "code",
   "execution_count": 28,
   "metadata": {},
   "outputs": [],
   "source": [
    "#what we know for sure is this\n",
    "def organism_path(organism):\n",
    "    return os.path.join('/data/leslie/sarthak/data/enformer/data/', organism)\n",
    "\n",
    "def tfrecord_files(organism, subset):\n",
    "    # Use glob to get all matching files\n",
    "    file_pattern = os.path.join(organism_path(organism), 'tfrecords', f'{subset}-*.tfr')\n",
    "    file_list = glob.glob(file_pattern)\n",
    "    \n",
    "    # Sort the files based on the integer value in the filename\n",
    "    sorted_files = sorted(file_list, key=lambda x: int(x.split('-')[-1].split('.')[0]))\n",
    "    \n",
    "    return sorted_files\n",
    "\n",
    "def get_targets(organism):\n",
    "  targets_txt = f'https://raw.githubusercontent.com/calico/basenji/master/manuscripts/cross2020/targets_{organism}.txt'\n",
    "  return pd.read_csv(targets_txt, sep='\\t')\n",
    "\n",
    "def get_metadata(organism):\n",
    "    path = os.path.join(organism_path(organism), 'statistics.json')\n",
    "    with open(path, 'r') as f:\n",
    "        return json.load(f)"
   ]
  },
  {
   "cell_type": "code",
   "execution_count": null,
   "metadata": {},
   "outputs": [],
   "source": [
    "#what we need to fix is \n",
    "def get_dataset(organism, subset, num_threads=4): #this gets the data and deserializes it\n",
    "  metadata = get_metadata(organism)\n",
    "  dataset = TFRecordDataset(tfrecord_files(organism, subset),\n",
    "                                    compression_type='ZLIB',\n",
    "                                    num_parallel_reads=num_threads)\n",
    "  dataset = dataset.map(functools.partial(deserialize, metadata=metadata),\n",
    "                        num_parallel_calls=num_threads)\n",
    "  return dataset\n",
    "\n",
    "#but what we need is deserialize to work"
   ]
  },
  {
   "cell_type": "code",
   "execution_count": 34,
   "metadata": {},
   "outputs": [],
   "source": [
    "#first get a dataset from the TFRecordDataset\n",
    "metadata = get_metadata('human')\n",
    "dataset = TFRecordDataset(tfrecord_files('human', 'train'), None)\n",
    "#wait seems to only accept gzip or None..."
   ]
  },
  {
   "cell_type": "code",
   "execution_count": 32,
   "metadata": {},
   "outputs": [
    {
     "data": {
      "text/plain": [
       "<tfrecord.torch.dataset.TFRecordDataset at 0x7f6ba4e30950>"
      ]
     },
     "execution_count": 32,
     "metadata": {},
     "output_type": "execute_result"
    }
   ],
   "source": [
    "#also it doesn't support zlib compression, so have to manually do it"
   ]
  },
  {
   "cell_type": "code",
   "execution_count": null,
   "metadata": {},
   "outputs": [],
   "source": [
    "# def deserialize(serialized_example, metadata):\n",
    "#   \"\"\"Deserialize bytes stored in TFRecordFile.\"\"\"\n",
    "#   feature_map = {\n",
    "#       'sequence': tf.io.FixedLenFeature([], tf.string),\n",
    "#       'target': tf.io.FixedLenFeature([], tf.string),\n",
    "#   }\n",
    "#   example = tf.io.parse_example(serialized_example, feature_map)\n",
    "#   sequence = tf.io.decode_raw(example['sequence'], tf.bool)\n",
    "#   sequence = tf.reshape(sequence, (metadata['seq_length'], 4))\n",
    "#   sequence = tf.cast(sequence, tf.float32)\n",
    "\n",
    "#   target = tf.io.decode_raw(example['target'], tf.float16)\n",
    "#   target = tf.reshape(target,\n",
    "#                       (metadata['target_length'], metadata['num_targets']))\n",
    "#   target = tf.cast(target, tf.float32)\n",
    "\n",
    "#   return {'sequence': sequence,\n",
    "#           'target': target}"
   ]
  },
  {
   "cell_type": "markdown",
   "metadata": {},
   "source": [
    "# just installed tensorflow let's try this"
   ]
  },
  {
   "cell_type": "code",
   "execution_count": 2,
   "metadata": {},
   "outputs": [
    {
     "name": "stderr",
     "output_type": "stream",
     "text": [
      "2024-07-31 19:51:37.974065: W tensorflow/core/common_runtime/gpu/gpu_device.cc:2343] Cannot dlopen some GPU libraries. Please make sure the missing libraries mentioned above are installed properly if you would like to use GPU. Follow the guide at https://www.tensorflow.org/install/gpu for how to download and setup the required libraries for your platform.\n",
      "Skipping registering GPU devices...\n"
     ]
    }
   ],
   "source": [
    "import json\n",
    "import functools\n",
    "import os\n",
    "import tensorflow as tf\n",
    "import numpy as np\n",
    "import pandas as pd\n",
    "from tqdm import tqdm\n",
    "import numpy as np\n",
    "import h5py\n",
    "import tensorflow as tf\n",
    "# import sonnet as snt\n",
    "from IPython.display import clear_output\n",
    "import time\n",
    "import sys\n",
    "sys.path.append('/data/leslie/sarthak/data/enformer')\n",
    "# import enformer\n",
    "\n",
    "\n",
    "def organism_path(organism):\n",
    "  return os.path.join('/data/leslie/sarthak/data/enformer/data/', organism) #just leads to the organism path, quite easy\n",
    "\n",
    "\n",
    "def get_dataset(organism, subset, num_threads=4): #this gets the data and deserializes it\n",
    "  metadata = get_metadata(organism)\n",
    "  dataset = tf.data.TFRecordDataset(tfrecord_files(organism, subset),\n",
    "                                    compression_type='ZLIB',\n",
    "                                    num_parallel_reads=num_threads)\n",
    "  dataset = dataset.map(functools.partial(deserialize, metadata=metadata),\n",
    "                        num_parallel_calls=num_threads)\n",
    "  return dataset\n",
    "\n",
    "\n",
    "def get_metadata(organism):\n",
    "  # Keys:\n",
    "  # num_targets, train_seqs, valid_seqs, test_seqs, seq_length,\n",
    "  # pool_width, crop_bp, target_length\n",
    "  path = os.path.join(organism_path(organism), 'statistics.json')\n",
    "  with tf.io.gfile.GFile(path, 'r') as f:\n",
    "    return json.load(f)\n",
    "\n",
    "\n",
    "def tfrecord_files(organism, subset): #this is the function that gets the TFR files, gets all of them and sorts them\n",
    "  # Sort the values by int(*).\n",
    "  return sorted(tf.io.gfile.glob(os.path.join(\n",
    "      organism_path(organism), 'tfrecords', f'{subset}-*.tfr'\n",
    "  )), key=lambda x: int(x.split('-')[-1].split('.')[0]))\n",
    "\n",
    "\n",
    "def deserialize(serialized_example, metadata):\n",
    "  \"\"\"Deserialize bytes stored in TFRecordFile.\"\"\"\n",
    "  feature_map = {\n",
    "      'sequence': tf.io.FixedLenFeature([], tf.string),\n",
    "      'target': tf.io.FixedLenFeature([], tf.string),\n",
    "  }\n",
    "  example = tf.io.parse_example(serialized_example, feature_map)\n",
    "  sequence = tf.io.decode_raw(example['sequence'], tf.bool)\n",
    "  sequence = tf.reshape(sequence, (metadata['seq_length'], 4))\n",
    "  sequence = tf.cast(sequence, tf.float32)\n",
    "\n",
    "  target = tf.io.decode_raw(example['target'], tf.float16)\n",
    "  target = tf.reshape(target,\n",
    "                      (metadata['target_length'], metadata['num_targets']))\n",
    "  target = tf.cast(target, tf.float32)\n",
    "\n",
    "  return {'sequence': sequence,\n",
    "          'target': target}\n",
    "\n",
    "def get_targets(organism):\n",
    "  targets_txt = f'https://raw.githubusercontent.com/calico/basenji/master/manuscripts/cross2020/targets_{organism}.txt'\n",
    "  return pd.read_csv(targets_txt, sep='\\t')\n",
    "df_targets_human = get_targets('human')\n",
    "# df_targets_human.head()\n",
    "\n",
    "human_dataset = get_dataset('human', 'train')"
   ]
  },
  {
   "cell_type": "code",
   "execution_count": 3,
   "metadata": {},
   "outputs": [
    {
     "name": "stderr",
     "output_type": "stream",
     "text": [
      "2024-07-31 19:51:43.387110: E tensorflow/core/util/util.cc:131] oneDNN supports DT_HALF only on platforms with AVX-512. Falling back to the default Eigen-based implementation if present.\n"
     ]
    },
    {
     "name": "stdout",
     "output_type": "stream",
     "text": [
      "{'sequence': <tf.Tensor: shape=(131072, 4), dtype=float32, numpy=\n",
      "array([[0., 0., 0., 1.],\n",
      "       [0., 0., 1., 0.],\n",
      "       [1., 0., 0., 0.],\n",
      "       ...,\n",
      "       [0., 0., 0., 1.],\n",
      "       [1., 0., 0., 0.],\n",
      "       [0., 0., 0., 1.]], dtype=float32)>, 'target': <tf.Tensor: shape=(896, 5313), dtype=float32, numpy=\n",
      "array([[0.10839844, 0.10760498, 0.04425049, ..., 0.        , 0.        ,\n",
      "        0.        ],\n",
      "       [0.10162354, 0.09332275, 0.0094986 , ..., 0.        , 0.        ,\n",
      "        0.        ],\n",
      "       [0.10272217, 0.15600586, 0.        , ..., 0.        , 0.        ,\n",
      "        0.        ],\n",
      "       ...,\n",
      "       [0.07714844, 0.07678223, 0.03509521, ..., 0.        , 0.01934814,\n",
      "        0.        ],\n",
      "       [0.07666016, 0.03826904, 0.05648804, ..., 0.        , 0.        ,\n",
      "        0.        ],\n",
      "       [0.08319092, 0.06051636, 0.02156067, ..., 0.        , 0.        ,\n",
      "        0.        ]], dtype=float32)>}\n"
     ]
    }
   ],
   "source": [
    "print(next(iter(human_dataset)))"
   ]
  },
  {
   "cell_type": "code",
   "execution_count": null,
   "metadata": {},
   "outputs": [],
   "source": [
    "#oh thank god, now we have to figure out how to index into this, but we're right there!!!"
   ]
  },
  {
   "cell_type": "markdown",
   "metadata": {},
   "source": [
    "# figuring out how to change the order"
   ]
  },
  {
   "cell_type": "code",
   "execution_count": 1,
   "metadata": {},
   "outputs": [
    {
     "name": "stderr",
     "output_type": "stream",
     "text": [
      "2024-08-01 13:09:39.620328: I tensorflow/core/util/port.cc:153] oneDNN custom operations are on. You may see slightly different numerical results due to floating-point round-off errors from different computation orders. To turn them off, set the environment variable `TF_ENABLE_ONEDNN_OPTS=0`.\n",
      "2024-08-01 13:09:39.622783: I external/local_xla/xla/tsl/cuda/cudart_stub.cc:32] Could not find cuda drivers on your machine, GPU will not be used.\n",
      "2024-08-01 13:09:41.031098: I external/local_xla/xla/tsl/cuda/cudart_stub.cc:32] Could not find cuda drivers on your machine, GPU will not be used.\n",
      "2024-08-01 13:09:41.471741: E external/local_xla/xla/stream_executor/cuda/cuda_fft.cc:485] Unable to register cuFFT factory: Attempting to register factory for plugin cuFFT when one has already been registered\n",
      "2024-08-01 13:09:41.848664: E external/local_xla/xla/stream_executor/cuda/cuda_dnn.cc:8454] Unable to register cuDNN factory: Attempting to register factory for plugin cuDNN when one has already been registered\n",
      "2024-08-01 13:09:41.887944: E external/local_xla/xla/stream_executor/cuda/cuda_blas.cc:1452] Unable to register cuBLAS factory: Attempting to register factory for plugin cuBLAS when one has already been registered\n",
      "2024-08-01 13:09:42.357688: I tensorflow/core/platform/cpu_feature_guard.cc:210] This TensorFlow binary is optimized to use available CPU instructions in performance-critical operations.\n",
      "To enable the following instructions: AVX2 AVX512F AVX512_VNNI FMA, in other operations, rebuild TensorFlow with the appropriate compiler flags.\n",
      "2024-08-01 13:10:00.852326: W tensorflow/compiler/tf2tensorrt/utils/py_utils.cc:38] TF-TRT Warning: Could not find TensorRT\n",
      "2024-08-01 13:10:27.171829: W tensorflow/core/common_runtime/gpu/gpu_device.cc:2343] Cannot dlopen some GPU libraries. Please make sure the missing libraries mentioned above are installed properly if you would like to use GPU. Follow the guide at https://www.tensorflow.org/install/gpu for how to download and setup the required libraries for your platform.\n",
      "Skipping registering GPU devices...\n"
     ]
    }
   ],
   "source": [
    "import json\n",
    "import functools\n",
    "import os\n",
    "import tensorflow as tf\n",
    "import numpy as np\n",
    "import pandas as pd\n",
    "from tqdm import tqdm\n",
    "import numpy as np\n",
    "import h5py\n",
    "import tensorflow as tf\n",
    "# import sonnet as snt\n",
    "from IPython.display import clear_output\n",
    "import time\n",
    "import sys\n",
    "sys.path.append('/data/leslie/sarthak/data/enformer')\n",
    "# import enformer\n",
    "\n",
    "\n",
    "def organism_path(organism):\n",
    "  return os.path.join('/data/leslie/sarthak/data/enformer/data/', organism) #just leads to the organism path, quite easy\n",
    "\n",
    "\n",
    "def get_dataset(organism, subset, num_threads=1): #this gets the data and deserializes it\n",
    "  metadata = get_metadata(organism)\n",
    "  dataset = tf.data.TFRecordDataset(tfrecord_files(organism, subset),\n",
    "                                    compression_type='ZLIB',\n",
    "                                    num_parallel_reads=num_threads)\n",
    "  dataset = dataset.map(functools.partial(deserialize, metadata=metadata),\n",
    "                        num_parallel_calls=num_threads)\n",
    "  return dataset\n",
    "\n",
    "\n",
    "def get_metadata(organism):\n",
    "  # Keys:\n",
    "  # num_targets, train_seqs, valid_seqs, test_seqs, seq_length,\n",
    "  # pool_width, crop_bp, target_length\n",
    "  path = os.path.join(organism_path(organism), 'statistics.json')\n",
    "  with tf.io.gfile.GFile(path, 'r') as f:\n",
    "    return json.load(f)\n",
    "\n",
    "\n",
    "def tfrecord_files(organism, subset): #this is the function that gets the TFR files, gets all of them and sorts them\n",
    "  # Sort the values by int(*).\n",
    "  return sorted(tf.io.gfile.glob(os.path.join(\n",
    "      organism_path(organism), 'tfrecords', f'{subset}-*.tfr'\n",
    "  )), key=lambda x: int(x.split('-')[-1].split('.')[0]))\n",
    "\n",
    "\n",
    "def deserialize(serialized_example, metadata):\n",
    "  \"\"\"Deserialize bytes stored in TFRecordFile.\"\"\"\n",
    "  feature_map = {\n",
    "      'sequence': tf.io.FixedLenFeature([], tf.string),\n",
    "      'target': tf.io.FixedLenFeature([], tf.string),\n",
    "  }\n",
    "  example = tf.io.parse_example(serialized_example, feature_map)\n",
    "  sequence = tf.io.decode_raw(example['sequence'], tf.bool)\n",
    "  sequence = tf.reshape(sequence, (metadata['seq_length'], 4))\n",
    "  sequence = tf.cast(sequence, tf.float32)\n",
    "\n",
    "  target = tf.io.decode_raw(example['target'], tf.float16)\n",
    "  target = tf.reshape(target,\n",
    "                      (metadata['target_length'], metadata['num_targets']))\n",
    "  target = tf.cast(target, tf.float32)\n",
    "\n",
    "  return {'sequence': sequence,\n",
    "          'target': target}\n",
    "\n",
    "def get_targets(organism):\n",
    "  targets_txt = f'https://raw.githubusercontent.com/calico/basenji/master/manuscripts/cross2020/targets_{organism}.txt'\n",
    "  return pd.read_csv(targets_txt, sep='\\t')\n",
    "df_targets_human = get_targets('human')\n",
    "# df_targets_human.head()\n",
    "\n",
    "human_dataset = get_dataset('human', 'train')"
   ]
  },
  {
   "cell_type": "code",
   "execution_count": 2,
   "metadata": {},
   "outputs": [
    {
     "name": "stderr",
     "output_type": "stream",
     "text": [
      "0it [00:00, ?it/s]2024-08-01 13:10:27.371224: E tensorflow/core/util/util.cc:131] oneDNN supports DT_HALF only on platforms with AVX-512. Falling back to the default Eigen-based implementation if present.\n",
      "300it [00:18, 16.27it/s]\n"
     ]
    }
   ],
   "source": [
    "#what if I just want to skip 300 elements, how long does that take\n",
    "from tqdm import tqdm\n",
    "for i, data in enumerate(tqdm(human_dataset)):\n",
    "    if i == 300:\n",
    "        break\n",
    "#roughly 17 it/s... so on the slower side\n"
   ]
  },
  {
   "cell_type": "code",
   "execution_count": 3,
   "metadata": {},
   "outputs": [
    {
     "name": "stdout",
     "output_type": "stream",
     "text": [
      "{'sequence': <tf.Tensor: shape=(131072, 4), dtype=float32, numpy=\n",
      "array([[0., 0., 0., 1.],\n",
      "       [0., 0., 1., 0.],\n",
      "       [1., 0., 0., 0.],\n",
      "       ...,\n",
      "       [0., 0., 0., 1.],\n",
      "       [1., 0., 0., 0.],\n",
      "       [0., 0., 0., 1.]], dtype=float32)>, 'target': <tf.Tensor: shape=(896, 5313), dtype=float32, numpy=\n",
      "array([[0.10839844, 0.10760498, 0.04425049, ..., 0.        , 0.        ,\n",
      "        0.        ],\n",
      "       [0.10162354, 0.09332275, 0.0094986 , ..., 0.        , 0.        ,\n",
      "        0.        ],\n",
      "       [0.10272217, 0.15600586, 0.        , ..., 0.        , 0.        ,\n",
      "        0.        ],\n",
      "       ...,\n",
      "       [0.07714844, 0.07678223, 0.03509521, ..., 0.        , 0.01934814,\n",
      "        0.        ],\n",
      "       [0.07666016, 0.03826904, 0.05648804, ..., 0.        , 0.        ,\n",
      "        0.        ],\n",
      "       [0.08319092, 0.06051636, 0.02156067, ..., 0.        , 0.        ,\n",
      "        0.        ]], dtype=float32)>}\n"
     ]
    }
   ],
   "source": [
    "#let's print the first element\n",
    "print(next(iter(human_dataset)))"
   ]
  },
  {
   "cell_type": "code",
   "execution_count": 4,
   "metadata": {},
   "outputs": [
    {
     "name": "stdout",
     "output_type": "stream",
     "text": [
      "{'sequence': <tf.Tensor: shape=(131072, 4), dtype=float32, numpy=\n",
      "array([[0., 0., 0., 1.],\n",
      "       [0., 0., 1., 0.],\n",
      "       [1., 0., 0., 0.],\n",
      "       ...,\n",
      "       [0., 0., 0., 1.],\n",
      "       [1., 0., 0., 0.],\n",
      "       [0., 0., 0., 1.]], dtype=float32)>, 'target': <tf.Tensor: shape=(896, 5313), dtype=float32, numpy=\n",
      "array([[0.10839844, 0.10760498, 0.04425049, ..., 0.        , 0.        ,\n",
      "        0.        ],\n",
      "       [0.10162354, 0.09332275, 0.0094986 , ..., 0.        , 0.        ,\n",
      "        0.        ],\n",
      "       [0.10272217, 0.15600586, 0.        , ..., 0.        , 0.        ,\n",
      "        0.        ],\n",
      "       ...,\n",
      "       [0.07714844, 0.07678223, 0.03509521, ..., 0.        , 0.01934814,\n",
      "        0.        ],\n",
      "       [0.07666016, 0.03826904, 0.05648804, ..., 0.        , 0.        ,\n",
      "        0.        ],\n",
      "       [0.08319092, 0.06051636, 0.02156067, ..., 0.        , 0.        ,\n",
      "        0.        ]], dtype=float32)>}\n"
     ]
    }
   ],
   "source": [
    "#let's now create a custom function that can shuffle the order of the dataset\n",
    "def get_dataset(organism, subset, num_threads=1): #this gets the data and deserializes it\n",
    "  metadata = get_metadata(organism)\n",
    "  dataset = tf.data.TFRecordDataset(tfrecord_files(organism, subset)[0],\n",
    "                                    compression_type='ZLIB',\n",
    "                                    num_parallel_reads=num_threads)\n",
    "  dataset = dataset.map(functools.partial(deserialize, metadata=metadata),\n",
    "                        num_parallel_calls=num_threads)\n",
    "  return dataset\n",
    "\n",
    "dataset2 = get_dataset('human', 'train')\n",
    "#print the first element\n",
    "print(next(iter(dataset2)))"
   ]
  },
  {
   "cell_type": "code",
   "execution_count": 5,
   "metadata": {},
   "outputs": [
    {
     "name": "stderr",
     "output_type": "stream",
     "text": [
      "256it [00:15, 16.37it/s]2024-08-01 13:14:19.811734: I tensorflow/core/framework/local_rendezvous.cc:404] Local rendezvous is aborting with status: OUT_OF_RANGE: End of sequence\n",
      "256it [00:15, 16.50it/s]\n"
     ]
    }
   ],
   "source": [
    "#iterate through it\n",
    "for i, data in enumerate(tqdm(dataset2)):\n",
    "    continue\n",
    "#roughly 256 elements in the first file. so 256 elements per file is fine"
   ]
  },
  {
   "cell_type": "code",
   "execution_count": 6,
   "metadata": {},
   "outputs": [],
   "source": [
    "#now let's swap the order\n",
    "\n",
    "def get_dataset(organism, subset, num_threads=1): #this gets the data and deserializes it\n",
    "  metadata = get_metadata(organism)\n",
    "  files = tfrecord_files(organism, subset)\n",
    "  #swap elements 0 and 1\n",
    "  files[0], files[1] = files[1], files[0]\n",
    "  dataset = tf.data.TFRecordDataset(files,\n",
    "                                    compression_type='ZLIB',\n",
    "                                    num_parallel_reads=num_threads)\n",
    "  dataset = dataset.map(functools.partial(deserialize, metadata=metadata),\n",
    "                        num_parallel_calls=num_threads)\n",
    "  return dataset\n",
    "dataset3 = get_dataset('human', 'train')"
   ]
  },
  {
   "cell_type": "code",
   "execution_count": 7,
   "metadata": {},
   "outputs": [
    {
     "name": "stdout",
     "output_type": "stream",
     "text": [
      "{'sequence': <tf.Tensor: shape=(131072, 4), dtype=float32, numpy=\n",
      "array([[0., 0., 0., 1.],\n",
      "       [0., 0., 0., 1.],\n",
      "       [1., 0., 0., 0.],\n",
      "       ...,\n",
      "       [0., 0., 0., 1.],\n",
      "       [0., 0., 0., 1.],\n",
      "       [1., 0., 0., 0.]], dtype=float32)>, 'target': <tf.Tensor: shape=(896, 5313), dtype=float32, numpy=\n",
      "array([[0.07519531, 0.01112366, 0.01609802, ..., 0.        , 0.        ,\n",
      "        0.        ],\n",
      "       [0.0881958 , 0.01392365, 0.03829956, ..., 0.        , 0.        ,\n",
      "        0.        ],\n",
      "       [0.05108643, 0.01622009, 0.01737976, ..., 0.        , 0.        ,\n",
      "        0.        ],\n",
      "       ...,\n",
      "       [0.00142574, 0.001544  , 0.        , ..., 0.        , 0.        ,\n",
      "        0.        ],\n",
      "       [0.00675964, 0.        , 0.        , ..., 0.        , 0.        ,\n",
      "        0.        ],\n",
      "       [0.05609131, 0.0559082 , 0.06762695, ..., 0.        , 0.        ,\n",
      "        0.        ]], dtype=float32)>}\n"
     ]
    }
   ],
   "source": [
    "print(next(iter(dataset3)))"
   ]
  },
  {
   "cell_type": "code",
   "execution_count": 8,
   "metadata": {},
   "outputs": [
    {
     "name": "stderr",
     "output_type": "stream",
     "text": [
      "256it [00:15, 16.38it/s]"
     ]
    },
    {
     "name": "stdout",
     "output_type": "stream",
     "text": [
      "{'sequence': <tf.Tensor: shape=(131072, 4), dtype=float32, numpy=\n",
      "array([[0., 0., 0., 1.],\n",
      "       [0., 0., 1., 0.],\n",
      "       [1., 0., 0., 0.],\n",
      "       ...,\n",
      "       [0., 0., 0., 1.],\n",
      "       [1., 0., 0., 0.],\n",
      "       [0., 0., 0., 1.]], dtype=float32)>, 'target': <tf.Tensor: shape=(896, 5313), dtype=float32, numpy=\n",
      "array([[0.10839844, 0.10760498, 0.04425049, ..., 0.        , 0.        ,\n",
      "        0.        ],\n",
      "       [0.10162354, 0.09332275, 0.0094986 , ..., 0.        , 0.        ,\n",
      "        0.        ],\n",
      "       [0.10272217, 0.15600586, 0.        , ..., 0.        , 0.        ,\n",
      "        0.        ],\n",
      "       ...,\n",
      "       [0.07714844, 0.07678223, 0.03509521, ..., 0.        , 0.01934814,\n",
      "        0.        ],\n",
      "       [0.07666016, 0.03826904, 0.05648804, ..., 0.        , 0.        ,\n",
      "        0.        ],\n",
      "       [0.08319092, 0.06051636, 0.02156067, ..., 0.        , 0.        ,\n",
      "        0.        ]], dtype=float32)>}\n"
     ]
    },
    {
     "name": "stderr",
     "output_type": "stream",
     "text": [
      "\n"
     ]
    }
   ],
   "source": [
    "#and now find element 257\n",
    "for i, data in enumerate(tqdm(dataset3)):\n",
    "    if i == 256:\n",
    "        print(data)\n",
    "        break"
   ]
  },
  {
   "cell_type": "code",
   "execution_count": null,
   "metadata": {},
   "outputs": [],
   "source": [
    "#this is just for label, for sequence, should be quite easy to pair it\n",
    "#we simply have to know the order of shuffled, then can access the specific index easily!\n",
    "#still have to shuffle it, which is based on the seed, then we just ignore the index that's asked for by the data loader?\n",
    "#and instead use the next element of the dataset? that could work... but terrible approach..."
   ]
  },
  {
   "cell_type": "code",
   "execution_count": 9,
   "metadata": {},
   "outputs": [
    {
     "name": "stdout",
     "output_type": "stream",
     "text": [
      "(34021, 896, 5313)\n"
     ]
    }
   ],
   "source": [
    "#let's compare this to the h5py method\n",
    "import h5py\n",
    "split = 'train'\n",
    "data_path=f'/data/leslie/sarthak/data/enformer/data/{split}_seq.npz'\n",
    "labels = h5py.File(data_path.replace('_seq.npz', '_label.h5'),'r')['labels']\n",
    "print(labels.shape)"
   ]
  },
  {
   "cell_type": "code",
   "execution_count": 10,
   "metadata": {},
   "outputs": [
    {
     "data": {
      "text/plain": [
       "array([[0.09265137, 0.19274902, 0.265625  , ..., 0.        , 0.        ,\n",
       "        0.        ],\n",
       "       [0.12792969, 0.16992188, 0.4387207 , ..., 0.        , 0.        ,\n",
       "        0.        ],\n",
       "       [0.12878418, 0.14343262, 0.44189453, ..., 0.        , 0.        ,\n",
       "        0.12255859],\n",
       "       ...,\n",
       "       [0.06341553, 0.08654785, 0.27294922, ..., 0.        , 0.        ,\n",
       "        0.        ],\n",
       "       [0.15966797, 0.12335205, 0.45141602, ..., 0.9736328 , 0.        ,\n",
       "        0.        ],\n",
       "       [0.14868164, 0.10693359, 0.27368164, ..., 0.        , 0.        ,\n",
       "        0.        ]], dtype=float32)"
      ]
     },
     "execution_count": 10,
     "metadata": {},
     "output_type": "execute_result"
    }
   ],
   "source": [
    "labels[10] #yeah see this is just incredibly slow to the point where it's the slowdown during training! Like 13 seconds"
   ]
  },
  {
   "cell_type": "code",
   "execution_count": 11,
   "metadata": {},
   "outputs": [
    {
     "data": {
      "text/plain": [
       "array([[0.10839844, 0.10760498, 0.04425049, ..., 0.        , 0.        ,\n",
       "        0.        ],\n",
       "       [0.10162354, 0.09332275, 0.0094986 , ..., 0.        , 0.        ,\n",
       "        0.        ],\n",
       "       [0.10272217, 0.15600586, 0.        , ..., 0.        , 0.        ,\n",
       "        0.        ],\n",
       "       ...,\n",
       "       [0.07714844, 0.07678223, 0.03509521, ..., 0.        , 0.01934814,\n",
       "        0.        ],\n",
       "       [0.07666016, 0.03826904, 0.05648804, ..., 0.        , 0.        ,\n",
       "        0.        ],\n",
       "       [0.08319092, 0.06051636, 0.02156067, ..., 0.        , 0.        ,\n",
       "        0.        ]], dtype=float32)"
      ]
     },
     "execution_count": 11,
     "metadata": {},
     "output_type": "execute_result"
    }
   ],
   "source": [
    "#let's try this again\n",
    "labels[0] #should correspond as well!"
   ]
  },
  {
   "cell_type": "code",
   "execution_count": 12,
   "metadata": {},
   "outputs": [
    {
     "name": "stdout",
     "output_type": "stream",
     "text": [
      "<_TakeDataset element_spec={'sequence': TensorSpec(shape=(131072, 4), dtype=tf.float32, name=None), 'target': TensorSpec(shape=(896, 5313), dtype=tf.float32, name=None)}>\n"
     ]
    }
   ],
   "source": [
    "#so use dataset 3 and do .skip(256) and then grab the element\n",
    "dataset3 = get_dataset('human', 'train')\n",
    "out = dataset3.skip(256).take(1)\n",
    "print(out)"
   ]
  },
  {
   "cell_type": "code",
   "execution_count": 15,
   "metadata": {},
   "outputs": [
    {
     "name": "stdout",
     "output_type": "stream",
     "text": [
      "{'sequence': <tf.Tensor: shape=(131072, 4), dtype=float32, numpy=\n",
      "array([[0., 0., 0., 1.],\n",
      "       [0., 0., 1., 0.],\n",
      "       [1., 0., 0., 0.],\n",
      "       ...,\n",
      "       [0., 0., 0., 1.],\n",
      "       [1., 0., 0., 0.],\n",
      "       [0., 0., 0., 1.]], dtype=float32)>, 'target': <tf.Tensor: shape=(896, 5313), dtype=float32, numpy=\n",
      "array([[0.10839844, 0.10760498, 0.04425049, ..., 0.        , 0.        ,\n",
      "        0.        ],\n",
      "       [0.10162354, 0.09332275, 0.0094986 , ..., 0.        , 0.        ,\n",
      "        0.        ],\n",
      "       [0.10272217, 0.15600586, 0.        , ..., 0.        , 0.        ,\n",
      "        0.        ],\n",
      "       ...,\n",
      "       [0.07714844, 0.07678223, 0.03509521, ..., 0.        , 0.01934814,\n",
      "        0.        ],\n",
      "       [0.07666016, 0.03826904, 0.05648804, ..., 0.        , 0.        ,\n",
      "        0.        ],\n",
      "       [0.08319092, 0.06051636, 0.02156067, ..., 0.        , 0.        ,\n",
      "        0.        ]], dtype=float32)>}\n"
     ]
    },
    {
     "name": "stderr",
     "output_type": "stream",
     "text": [
      "2024-08-01 13:25:30.793754: I tensorflow/core/framework/local_rendezvous.cc:404] Local rendezvous is aborting with status: OUT_OF_RANGE: End of sequence\n"
     ]
    }
   ],
   "source": [
    "#if this can be faster, we could potentially not iterate through a tfr file and instead grab the correct element... this could be really smart!!\n",
    "\n",
    "for elem in out:\n",
    "    print(elem)\n",
    "#this ends up being a bit slower, because up to 15 seconds to iterate through..."
   ]
  },
  {
   "cell_type": "code",
   "execution_count": null,
   "metadata": {},
   "outputs": [],
   "source": [
    "#the easy option and the less pythonic one is to just use the tfr and iterate through, can be smart and choose a specific element, however, still quite slow, roughly 8 seconds on average to load it, might even be slower than h5py in some circumstances...\n",
    "#the other weirder way is to use the dataset object itself, that way will be incredibly quick, can still easily find corresponding sequence because just use seed to shuffle it\n",
    "#let's see hwo dataloader is called"
   ]
  },
  {
   "cell_type": "markdown",
   "metadata": {},
   "source": [
    "# zarr"
   ]
  },
  {
   "cell_type": "code",
   "execution_count": 3,
   "metadata": {},
   "outputs": [],
   "source": [
    "#an alternative package, let's try this with \n",
    "\n",
    "batch_size = 128\n",
    "num_threads = 4\n",
    "#we're gonna use HDF5! It's the best way to store large numpy arrays and we can store it paired, but we'll store the seq separately\n",
    "#this will convert both the label and the sequence to the proper format and save it!\n",
    "\n",
    "import glob\n",
    "import json\n",
    "import functools\n",
    "import os\n",
    "import tensorflow as tf\n",
    "import numpy as np\n",
    "import pandas as pd\n",
    "from tqdm import tqdm\n",
    "import numpy as np\n",
    "import h5py\n",
    "import zarr\n",
    "\n",
    "def organism_path(organism):\n",
    "  return os.path.join('/data/leslie/sarthak/data/enformer/data/', organism) #just leads to the organism path, quite easy\n",
    "\n",
    "\n",
    "def get_dataset(organism, subset, num_threads=8): #this gets the data and deserializes it\n",
    "  metadata = get_metadata(organism)\n",
    "  dataset = tf.data.TFRecordDataset(tfrecord_files(organism, subset),\n",
    "                                    compression_type='ZLIB',\n",
    "                                    num_parallel_reads=num_threads)\n",
    "  dataset = dataset.map(functools.partial(deserialize, metadata=metadata),\n",
    "                        num_parallel_calls=num_threads)\n",
    "  return dataset\n",
    "\n",
    "\n",
    "def get_metadata(organism):\n",
    "  # Keys:\n",
    "  # num_targets, train_seqs, valid_seqs, test_seqs, seq_length,\n",
    "  # pool_width, crop_bp, target_length\n",
    "  path = os.path.join(organism_path(organism), 'statistics.json')\n",
    "  with tf.io.gfile.GFile(path, 'r') as f:\n",
    "    return json.load(f)\n",
    "\n",
    "\n",
    "def tfrecord_files(organism, subset): #this is the function that gets the TFR files, gets all of them and sorts them\n",
    "  # Sort the values by int(*).\n",
    "  return sorted(tf.io.gfile.glob(os.path.join(\n",
    "      organism_path(organism), 'tfrecords', f'{subset}-*.tfr'\n",
    "  )), key=lambda x: int(x.split('-')[-1].split('.')[0]))\n",
    "\n",
    "\n",
    "def deserialize(serialized_example, metadata):\n",
    "  \"\"\"Deserialize bytes stored in TFRecordFile.\"\"\"\n",
    "  feature_map = {\n",
    "      'sequence': tf.io.FixedLenFeature([], tf.string),\n",
    "      'target': tf.io.FixedLenFeature([], tf.string),\n",
    "  }\n",
    "  example = tf.io.parse_example(serialized_example, feature_map)\n",
    "  sequence = tf.io.decode_raw(example['sequence'], tf.bool)\n",
    "  sequence = tf.reshape(sequence, (metadata['seq_length'], 4))\n",
    "  sequence = tf.cast(sequence, tf.float32)\n",
    "\n",
    "  target = tf.io.decode_raw(example['target'], tf.float16)\n",
    "  target = tf.reshape(target,\n",
    "                      (metadata['target_length'], metadata['num_targets']))\n",
    "  target = tf.cast(target, tf.float32)\n",
    "\n",
    "  return {'sequence': sequence,\n",
    "          'target': target}\n",
    "\n",
    "def get_targets(organism):\n",
    "  targets_txt = f'https://raw.githubusercontent.com/calico/basenji/master/manuscripts/cross2020/targets_{organism}.txt'\n",
    "  return pd.read_csv(targets_txt, sep='\\t')\n",
    "\n",
    "\n",
    "# Function to create and save data incrementally\n",
    "def create_hdf5_file_and_np(dataset, filename, num_elems, chunk_size, compression='zlib'):\n",
    "    \"\"\"\n",
    "    Convert a TensorFlow dataset to an HDF5 file for the targets, and a tokenized np array for seq\n",
    "\n",
    "    Args:\n",
    "        dataset: TensorFlow dataset to be converted.\n",
    "        filename: Name of the output HDF5 file.\n",
    "        num_elems: Number of elements in the dataset.\n",
    "        batch_size: Batch size for processing the dataset.\n",
    "        chunk_size: Chunk size for HDF5 dataset.\n",
    "        compression: Compression type for HDF5 dataset.\n",
    "    \"\"\"\n",
    "    zarr_file = zarr.open(filename, mode='w')\n",
    "    \n",
    "    float16_data = zarr_file.create_dataset(\n",
    "        'labels',\n",
    "        shape=(num_elems, 896, 5313),\n",
    "        chunks=(chunk_size, 896, 5313),\n",
    "        dtype='f2',  # Use float32 for Zarr\n",
    "        compressor=zarr.Blosc(cname=compression, clevel=6, shuffle=zarr.Blosc.BITSHUFFLE),\n",
    "    )\n",
    "    idx = 0\n",
    "    for i, batch in tqdm(enumerate(dataset), total=num_elems // chunk_size):\n",
    "        label = batch['target'].numpy()\n",
    "        true_bsize = label.shape[0]\n",
    "        float16_data[idx:idx + true_bsize] = label\n",
    "        idx += true_bsize\n",
    "        \n"
   ]
  },
  {
   "cell_type": "code",
   "execution_count": 4,
   "metadata": {},
   "outputs": [
    {
     "name": "stderr",
     "output_type": "stream",
     "text": [
      "  0%|          | 0/121 [00:00<?, ?it/s]"
     ]
    },
    {
     "name": "stderr",
     "output_type": "stream",
     "text": [
      "122it [03:21,  1.26s/it]                         2024-08-01 13:59:14.920243: I tensorflow/core/framework/local_rendezvous.cc:404] Local rendezvous is aborting with status: OUT_OF_RANGE: End of sequence\n",
      "122it [03:21,  1.65s/it]\n"
     ]
    }
   ],
   "source": [
    "batch_size = 16\n",
    "human_test = get_dataset('human', 'test', num_threads=num_threads).batch(batch_size)\n",
    "filename = '/data/leslie/sarthak/data/enformer/data/test_label.zarr'\n",
    "create_hdf5_file_and_np(human_test, filename, 1937, batch_size)"
   ]
  },
  {
   "cell_type": "code",
   "execution_count": 5,
   "metadata": {},
   "outputs": [],
   "source": [
    "labels_zarr = zarr.open(filename, mode='r')['labels']"
   ]
  },
  {
   "cell_type": "code",
   "execution_count": 6,
   "metadata": {},
   "outputs": [
    {
     "name": "stdout",
     "output_type": "stream",
     "text": [
      "(1937, 896, 5313)\n"
     ]
    }
   ],
   "source": [
    "print(labels_zarr.shape)"
   ]
  },
  {
   "cell_type": "code",
   "execution_count": 7,
   "metadata": {},
   "outputs": [
    {
     "name": "stderr",
     "output_type": "stream",
     "text": [
      "100%|██████████| 1937/1937 [00:30<00:00, 63.10it/s]\n"
     ]
    }
   ],
   "source": [
    "#now loop through and access all elements\n",
    "for elem in tqdm(labels_zarr):\n",
    "    continue\n",
    "#eyo, 60 elements/second?? that's very fast!!"
   ]
  },
  {
   "cell_type": "code",
   "execution_count": 8,
   "metadata": {},
   "outputs": [
    {
     "name": "stdout",
     "output_type": "stream",
     "text": [
      "(1937, 896, 5313)\n"
     ]
    }
   ],
   "source": [
    "#try with the h5py\n",
    "filename = '/data/leslie/sarthak/data/enformer/data/test_label.h5'\n",
    "import h5py\n",
    "labels_h5 = h5py.File(filename, 'r')['labels']\n",
    "print(labels_h5.shape)"
   ]
  },
  {
   "cell_type": "code",
   "execution_count": 9,
   "metadata": {},
   "outputs": [
    {
     "name": "stderr",
     "output_type": "stream",
     "text": [
      "  0%|          | 4/1937 [00:40<5:25:26, 10.10s/it]\n"
     ]
    },
    {
     "ename": "KeyboardInterrupt",
     "evalue": "",
     "output_type": "error",
     "traceback": [
      "\u001b[0;31m---------------------------------------------------------------------------\u001b[0m",
      "\u001b[0;31mKeyboardInterrupt\u001b[0m                         Traceback (most recent call last)",
      "Cell \u001b[0;32mIn[9], line 1\u001b[0m\n\u001b[0;32m----> 1\u001b[0m \u001b[38;5;28;43;01mfor\u001b[39;49;00m\u001b[43m \u001b[49m\u001b[43melem\u001b[49m\u001b[43m \u001b[49m\u001b[38;5;129;43;01min\u001b[39;49;00m\u001b[43m \u001b[49m\u001b[43mtqdm\u001b[49m\u001b[43m(\u001b[49m\u001b[43mlabels_h5\u001b[49m\u001b[43m)\u001b[49m\u001b[43m:\u001b[49m\n\u001b[1;32m      2\u001b[0m \u001b[43m    \u001b[49m\u001b[38;5;28;43;01mcontinue\u001b[39;49;00m\n",
      "File \u001b[0;32m/data/leslie/sarthak/environments/hyena_backup3/lib/python3.11/site-packages/tqdm/std.py:1182\u001b[0m, in \u001b[0;36mtqdm.__iter__\u001b[0;34m(self)\u001b[0m\n\u001b[1;32m   1179\u001b[0m time \u001b[38;5;241m=\u001b[39m \u001b[38;5;28mself\u001b[39m\u001b[38;5;241m.\u001b[39m_time\n\u001b[1;32m   1181\u001b[0m \u001b[38;5;28;01mtry\u001b[39;00m:\n\u001b[0;32m-> 1182\u001b[0m \u001b[43m    \u001b[49m\u001b[38;5;28;43;01mfor\u001b[39;49;00m\u001b[43m \u001b[49m\u001b[43mobj\u001b[49m\u001b[43m \u001b[49m\u001b[38;5;129;43;01min\u001b[39;49;00m\u001b[43m \u001b[49m\u001b[43miterable\u001b[49m\u001b[43m:\u001b[49m\n\u001b[1;32m   1183\u001b[0m \u001b[43m        \u001b[49m\u001b[38;5;28;43;01myield\u001b[39;49;00m\u001b[43m \u001b[49m\u001b[43mobj\u001b[49m\n\u001b[1;32m   1184\u001b[0m \u001b[43m        \u001b[49m\u001b[38;5;66;43;03m# Update and possibly print the progressbar.\u001b[39;49;00m\n\u001b[1;32m   1185\u001b[0m \u001b[43m        \u001b[49m\u001b[38;5;66;43;03m# Note: does not call self.update(1) for speed optimisation.\u001b[39;49;00m\n",
      "File \u001b[0;32m/data/leslie/sarthak/environments/hyena_backup3/lib/python3.11/site-packages/h5py/_hl/dataset.py:715\u001b[0m, in \u001b[0;36mDataset.__iter__\u001b[0;34m(self)\u001b[0m\n\u001b[1;32m    713\u001b[0m     \u001b[38;5;28;01mraise\u001b[39;00m \u001b[38;5;167;01mTypeError\u001b[39;00m(\u001b[38;5;124m\"\u001b[39m\u001b[38;5;124mCan\u001b[39m\u001b[38;5;124m'\u001b[39m\u001b[38;5;124mt iterate over a scalar dataset\u001b[39m\u001b[38;5;124m\"\u001b[39m)\n\u001b[1;32m    714\u001b[0m \u001b[38;5;28;01mfor\u001b[39;00m i \u001b[38;5;129;01min\u001b[39;00m \u001b[38;5;28mrange\u001b[39m(shape[\u001b[38;5;241m0\u001b[39m]):\n\u001b[0;32m--> 715\u001b[0m     \u001b[38;5;28;01myield\u001b[39;00m \u001b[38;5;28;43mself\u001b[39;49m\u001b[43m[\u001b[49m\u001b[43mi\u001b[49m\u001b[43m]\u001b[49m\n",
      "File \u001b[0;32mh5py/_objects.pyx:54\u001b[0m, in \u001b[0;36mh5py._objects.with_phil.wrapper\u001b[0;34m()\u001b[0m\n",
      "File \u001b[0;32mh5py/_objects.pyx:55\u001b[0m, in \u001b[0;36mh5py._objects.with_phil.wrapper\u001b[0;34m()\u001b[0m\n",
      "File \u001b[0;32m/data/leslie/sarthak/environments/hyena_backup3/lib/python3.11/site-packages/h5py/_hl/dataset.py:758\u001b[0m, in \u001b[0;36mDataset.__getitem__\u001b[0;34m(self, args, new_dtype)\u001b[0m\n\u001b[1;32m    756\u001b[0m \u001b[38;5;28;01mif\u001b[39;00m \u001b[38;5;28mself\u001b[39m\u001b[38;5;241m.\u001b[39m_fast_read_ok \u001b[38;5;129;01mand\u001b[39;00m (new_dtype \u001b[38;5;129;01mis\u001b[39;00m \u001b[38;5;28;01mNone\u001b[39;00m):\n\u001b[1;32m    757\u001b[0m     \u001b[38;5;28;01mtry\u001b[39;00m:\n\u001b[0;32m--> 758\u001b[0m         \u001b[38;5;28;01mreturn\u001b[39;00m \u001b[38;5;28;43mself\u001b[39;49m\u001b[38;5;241;43m.\u001b[39;49m\u001b[43m_fast_reader\u001b[49m\u001b[38;5;241;43m.\u001b[39;49m\u001b[43mread\u001b[49m\u001b[43m(\u001b[49m\u001b[43margs\u001b[49m\u001b[43m)\u001b[49m\n\u001b[1;32m    759\u001b[0m     \u001b[38;5;28;01mexcept\u001b[39;00m \u001b[38;5;167;01mTypeError\u001b[39;00m:\n\u001b[1;32m    760\u001b[0m         \u001b[38;5;28;01mpass\u001b[39;00m  \u001b[38;5;66;03m# Fall back to Python read pathway below\u001b[39;00m\n",
      "\u001b[0;31mKeyboardInterrupt\u001b[0m: "
     ]
    }
   ],
   "source": [
    "for elem in tqdm(labels_h5):\n",
    "    continue\n",
    "#lmao 1 element per 8 seconds, that's the speed difference I guess"
   ]
  },
  {
   "cell_type": "code",
   "execution_count": 11,
   "metadata": {},
   "outputs": [
    {
     "ename": "AttributeError",
     "evalue": "module 'zarr' has no attribute 'close'",
     "output_type": "error",
     "traceback": [
      "\u001b[0;31m---------------------------------------------------------------------------\u001b[0m",
      "\u001b[0;31mAttributeError\u001b[0m                            Traceback (most recent call last)",
      "Cell \u001b[0;32mIn[11], line 3\u001b[0m\n\u001b[1;32m      1\u001b[0m \u001b[38;5;66;03m#the final thing we want to do is save out the data in 32 bit and maybe that's better?\u001b[39;00m\n\u001b[1;32m      2\u001b[0m \u001b[38;5;66;03m#first close the zarr file using zarr.close\u001b[39;00m\n\u001b[0;32m----> 3\u001b[0m \u001b[43mzarr\u001b[49m\u001b[38;5;241;43m.\u001b[39;49m\u001b[43mclose\u001b[49m(filename)\n",
      "\u001b[0;31mAttributeError\u001b[0m: module 'zarr' has no attribute 'close'"
     ]
    }
   ],
   "source": [
    "#the final thing we want to do is save out the data in 32 bit and maybe that's better?\n",
    "#first close the zarr file using zarr.close"
   ]
  },
  {
   "cell_type": "code",
   "execution_count": 12,
   "metadata": {},
   "outputs": [],
   "source": [
    "def create_hdf5_file_and_np(dataset, filename, num_elems, chunk_size, compression='zlib'):\n",
    "    \"\"\"\n",
    "    Convert a TensorFlow dataset to an HDF5 file for the targets, and a tokenized np array for seq\n",
    "\n",
    "    Args:\n",
    "        dataset: TensorFlow dataset to be converted.\n",
    "        filename: Name of the output HDF5 file.\n",
    "        num_elems: Number of elements in the dataset.\n",
    "        batch_size: Batch size for processing the dataset.\n",
    "        chunk_size: Chunk size for HDF5 dataset.\n",
    "        compression: Compression type for HDF5 dataset.\n",
    "    \"\"\"\n",
    "    zarr_file = zarr.open(filename, mode='w')\n",
    "    \n",
    "    float16_data = zarr_file.create_dataset(\n",
    "        'labels',\n",
    "        shape=(num_elems, 896, 5313),\n",
    "        chunks=(chunk_size, 896, 5313),\n",
    "        dtype='f4',  # Use float32 for Zarr\n",
    "        compressor=zarr.Blosc(cname=compression, clevel=9, shuffle=zarr.Blosc.BITSHUFFLE),\n",
    "    )\n",
    "    idx = 0\n",
    "    for i, batch in tqdm(enumerate(dataset), total=num_elems // chunk_size):\n",
    "        label = batch['target'].numpy()\n",
    "        true_bsize = label.shape[0]\n",
    "        float16_data[idx:idx + true_bsize] = label\n",
    "        idx += true_bsize"
   ]
  },
  {
   "cell_type": "code",
   "execution_count": 13,
   "metadata": {},
   "outputs": [
    {
     "name": "stderr",
     "output_type": "stream",
     "text": [
      "122it [06:18,  2.35s/it]                         2024-08-01 14:10:36.224076: I tensorflow/core/framework/local_rendezvous.cc:404] Local rendezvous is aborting with status: OUT_OF_RANGE: End of sequence\n",
      "122it [06:18,  3.10s/it]\n"
     ]
    }
   ],
   "source": [
    "batch_size = 16\n",
    "human_test = get_dataset('human', 'test', num_threads=num_threads).batch(batch_size)\n",
    "filename = '/data/leslie/sarthak/data/enformer/data/test_label.zarr'\n",
    "create_hdf5_file_and_np(human_test, filename, 1937, batch_size)"
   ]
  },
  {
   "cell_type": "code",
   "execution_count": 14,
   "metadata": {},
   "outputs": [
    {
     "name": "stdout",
     "output_type": "stream",
     "text": [
      "(1937, 896, 5313)\n"
     ]
    },
    {
     "name": "stderr",
     "output_type": "stream",
     "text": [
      "100%|██████████| 1937/1937 [00:37<00:00, 51.21it/s]\n"
     ]
    }
   ],
   "source": [
    "labels_zarr = zarr.open(filename, mode='r')['labels']\n",
    "print(labels_zarr.shape)\n",
    "#now loop through and access all elements\n",
    "for elem in tqdm(labels_zarr):\n",
    "    continue\n",
    "#eyo, 60 elements/second?? that's very fast!!\n",
    "#still extremely fast! 50 it/s!!!"
   ]
  },
  {
   "cell_type": "code",
   "execution_count": 16,
   "metadata": {},
   "outputs": [
    {
     "name": "stdout",
     "output_type": "stream",
     "text": [
      "[[0.03237915 0.07928467 0.02059937 ... 0.         0.         0.        ]\n",
      " [0.02607727 0.02429199 0.00772476 ... 0.         0.         0.        ]\n",
      " [0.04672241 0.0397644  0.02059937 ... 0.         0.         0.        ]\n",
      " ...\n",
      " [0.0484314  0.04342651 0.02076721 ... 0.         0.         0.        ]\n",
      " [0.02223206 0.01392365 0.04684448 ... 0.         0.4777832  0.47851562]\n",
      " [0.03710938 0.02336121 0.02510071 ... 0.         0.09411621 0.32055664]]\n",
      "[[0.03237915 0.07928467 0.02059937 ... 0.         0.         0.        ]\n",
      " [0.02607727 0.02429199 0.00772476 ... 0.         0.         0.        ]\n",
      " [0.04672241 0.0397644  0.02059937 ... 0.         0.         0.        ]\n",
      " ...\n",
      " [0.0484314  0.04342651 0.02076721 ... 0.         0.         0.        ]\n",
      " [0.02223206 0.01392365 0.04684448 ... 0.         0.4777832  0.47851562]\n",
      " [0.03710938 0.02336121 0.02510071 ... 0.         0.09411621 0.32055664]]\n"
     ]
    }
   ],
   "source": [
    "#let's access a ranodm element\n",
    "print(labels_zarr[10])\n",
    "print(labels_h5[10])"
   ]
  },
  {
   "cell_type": "code",
   "execution_count": 18,
   "metadata": {},
   "outputs": [
    {
     "name": "stderr",
     "output_type": "stream",
     "text": [
      "100%|██████████| 20/20 [02:50<00:00,  8.54s/it]\n"
     ]
    }
   ],
   "source": [
    "#pick 20 random elements and check if all close\n",
    "import random\n",
    "for i in tqdm(range(20)):\n",
    "    idx = random.randint(0, 1937)\n",
    "    assert np.allclose(labels_zarr[idx], labels_h5[idx])"
   ]
  },
  {
   "cell_type": "markdown",
   "metadata": {},
   "source": [
    "# comparing the zarr to h5py"
   ]
  },
  {
   "cell_type": "code",
   "execution_count": 1,
   "metadata": {},
   "outputs": [
    {
     "name": "stdout",
     "output_type": "stream",
     "text": [
      "(1937, 896, 5313)\n",
      "(1937, 896, 5313)\n"
     ]
    }
   ],
   "source": [
    "import h5py\n",
    "import zarr\n",
    "import numpy as np\n",
    "\n",
    "#load in the h5py file\n",
    "filename = '/data/leslie/sarthak/data/enformer/data/test_label.h5'\n",
    "labels_h5 = h5py.File(filename, 'r')['labels']\n",
    "\n",
    "#now the zarr file\n",
    "filename = '/data/leslie/sarthak/data/enformer/data/test_label.zarr'\n",
    "labels_zarr = zarr.open(filename, mode='r')['labels']\n",
    "\n",
    "print(labels_h5.shape)\n",
    "print(labels_zarr.shape)"
   ]
  },
  {
   "cell_type": "code",
   "execution_count": 2,
   "metadata": {},
   "outputs": [
    {
     "name": "stdout",
     "output_type": "stream",
     "text": [
      "[[0.03237915 0.07928467 0.02059937 ... 0.         0.         0.        ]\n",
      " [0.02607727 0.02429199 0.00772476 ... 0.         0.         0.        ]\n",
      " [0.04672241 0.0397644  0.02059937 ... 0.         0.         0.        ]\n",
      " ...\n",
      " [0.0484314  0.04342651 0.02076721 ... 0.         0.         0.        ]\n",
      " [0.02223206 0.01392365 0.04684448 ... 0.         0.4777832  0.47851562]\n",
      " [0.03710938 0.02336121 0.02510071 ... 0.         0.09411621 0.32055664]]\n",
      "[[0.03237915 0.07928467 0.02059937 ... 0.         0.         0.        ]\n",
      " [0.02607727 0.02429199 0.00772476 ... 0.         0.         0.        ]\n",
      " [0.04672241 0.0397644  0.02059937 ... 0.         0.         0.        ]\n",
      " ...\n",
      " [0.0484314  0.04342651 0.02076721 ... 0.         0.         0.        ]\n",
      " [0.02223206 0.01392365 0.04684448 ... 0.         0.4777832  0.47851562]\n",
      " [0.03710938 0.02336121 0.02510071 ... 0.         0.09411621 0.32055664]]\n"
     ]
    }
   ],
   "source": [
    "#now grab a random element\n",
    "idx = 10\n",
    "print(labels_h5[idx])\n",
    "print(labels_zarr[idx])"
   ]
  },
  {
   "cell_type": "code",
   "execution_count": 3,
   "metadata": {},
   "outputs": [
    {
     "name": "stdout",
     "output_type": "stream",
     "text": [
      "36.883951104\n"
     ]
    }
   ],
   "source": [
    "#see the size in nbytes of each\n",
    "print(labels_h5.nbytes/1e9)"
   ]
  },
  {
   "cell_type": "code",
   "execution_count": 4,
   "metadata": {},
   "outputs": [
    {
     "name": "stderr",
     "output_type": "stream",
     "text": [
      "  0%|          | 9/1937 [01:27<5:11:43,  9.70s/it]\n"
     ]
    },
    {
     "ename": "KeyboardInterrupt",
     "evalue": "",
     "output_type": "error",
     "traceback": [
      "\u001b[0;31m---------------------------------------------------------------------------\u001b[0m",
      "\u001b[0;31mKeyboardInterrupt\u001b[0m                         Traceback (most recent call last)",
      "Cell \u001b[0;32mIn[4], line 4\u001b[0m\n\u001b[1;32m      1\u001b[0m \u001b[38;5;28;01mfrom\u001b[39;00m \u001b[38;5;21;01mtqdm\u001b[39;00m \u001b[38;5;28;01mimport\u001b[39;00m tqdm\n\u001b[1;32m      2\u001b[0m \u001b[38;5;28;01mfor\u001b[39;00m i \u001b[38;5;129;01min\u001b[39;00m tqdm(\u001b[38;5;28mrange\u001b[39m(labels_h5\u001b[38;5;241m.\u001b[39mshape[\u001b[38;5;241m0\u001b[39m])):\n\u001b[1;32m      3\u001b[0m     \u001b[38;5;66;03m#load in the value\u001b[39;00m\n\u001b[0;32m----> 4\u001b[0m     h5_val \u001b[38;5;241m=\u001b[39m \u001b[43mlabels_h5\u001b[49m\u001b[43m[\u001b[49m\u001b[43mi\u001b[49m\u001b[43m]\u001b[49m\n\u001b[1;32m      5\u001b[0m     zarr_val \u001b[38;5;241m=\u001b[39m labels_zarr[i]\n\u001b[1;32m      6\u001b[0m     \u001b[38;5;66;03m#check if they're the same\u001b[39;00m\n",
      "File \u001b[0;32mh5py/_objects.pyx:54\u001b[0m, in \u001b[0;36mh5py._objects.with_phil.wrapper\u001b[0;34m()\u001b[0m\n",
      "File \u001b[0;32mh5py/_objects.pyx:55\u001b[0m, in \u001b[0;36mh5py._objects.with_phil.wrapper\u001b[0;34m()\u001b[0m\n",
      "File \u001b[0;32m/data/leslie/sarthak/environments/hyena_backup3/lib/python3.11/site-packages/h5py/_hl/dataset.py:758\u001b[0m, in \u001b[0;36mDataset.__getitem__\u001b[0;34m(self, args, new_dtype)\u001b[0m\n\u001b[1;32m    756\u001b[0m \u001b[38;5;28;01mif\u001b[39;00m \u001b[38;5;28mself\u001b[39m\u001b[38;5;241m.\u001b[39m_fast_read_ok \u001b[38;5;129;01mand\u001b[39;00m (new_dtype \u001b[38;5;129;01mis\u001b[39;00m \u001b[38;5;28;01mNone\u001b[39;00m):\n\u001b[1;32m    757\u001b[0m     \u001b[38;5;28;01mtry\u001b[39;00m:\n\u001b[0;32m--> 758\u001b[0m         \u001b[38;5;28;01mreturn\u001b[39;00m \u001b[38;5;28mself\u001b[39m\u001b[38;5;241m.\u001b[39m_fast_reader\u001b[38;5;241m.\u001b[39mread(args)\n\u001b[1;32m    759\u001b[0m     \u001b[38;5;28;01mexcept\u001b[39;00m \u001b[38;5;167;01mTypeError\u001b[39;00m:\n\u001b[1;32m    760\u001b[0m         \u001b[38;5;28;01mpass\u001b[39;00m  \u001b[38;5;66;03m# Fall back to Python read pathway below\u001b[39;00m\n",
      "\u001b[0;31mKeyboardInterrupt\u001b[0m: "
     ]
    }
   ],
   "source": [
    "from tqdm import tqdm\n",
    "for i in tqdm(range(labels_h5.shape[0])):\n",
    "    #load in the value\n",
    "    h5_val = labels_h5[i]\n",
    "    zarr_val = labels_zarr[i]\n",
    "    #check if they're the same\n",
    "    assert np.allclose(h5_val, zarr_val)"
   ]
  },
  {
   "cell_type": "code",
   "execution_count": 5,
   "metadata": {},
   "outputs": [
    {
     "name": "stdout",
     "output_type": "stream",
     "text": [
      "(34021, 896, 5313)\n",
      "(34021, 896, 5313)\n"
     ]
    }
   ],
   "source": [
    "#let's check the train vals\n",
    "\n",
    "filename = '/data/leslie/sarthak/data/enformer/data/train_label.h5'\n",
    "labels_h5 = h5py.File(filename, 'r')['labels']\n",
    "\n",
    "#now the zarr file\n",
    "filename = '/data/leslie/sarthak/data/enformer/data/train_label.zarr'\n",
    "labels_zarr = zarr.open(filename, mode='r')['labels']\n",
    "\n",
    "print(labels_h5.shape)\n",
    "print(labels_zarr.shape)"
   ]
  },
  {
   "cell_type": "code",
   "execution_count": 8,
   "metadata": {},
   "outputs": [
    {
     "name": "stderr",
     "output_type": "stream",
     "text": [
      "  4%|▍         | 44/1000 [00:16<05:55,  2.69it/s]\n"
     ]
    },
    {
     "ename": "KeyboardInterrupt",
     "evalue": "",
     "output_type": "error",
     "traceback": [
      "\u001b[0;31m---------------------------------------------------------------------------\u001b[0m",
      "\u001b[0;31mKeyboardInterrupt\u001b[0m                         Traceback (most recent call last)",
      "Cell \u001b[0;32mIn[8], line 2\u001b[0m\n\u001b[1;32m      1\u001b[0m \u001b[38;5;28;01mfor\u001b[39;00m i \u001b[38;5;129;01min\u001b[39;00m tqdm(\u001b[38;5;28mrange\u001b[39m(\u001b[38;5;241m1000\u001b[39m)):\n\u001b[0;32m----> 2\u001b[0m     test \u001b[38;5;241m=\u001b[39m \u001b[43mlabels_zarr\u001b[49m\u001b[43m[\u001b[49m\u001b[43mi\u001b[49m\u001b[43m]\u001b[49m\n\u001b[1;32m      3\u001b[0m \u001b[38;5;66;03m#loads in 1000 in the amount of time it would take to load in a\u001b[39;00m\n",
      "File \u001b[0;32m/data/leslie/sarthak/environments/hyena_backup3/lib/python3.11/site-packages/zarr/core.py:800\u001b[0m, in \u001b[0;36mArray.__getitem__\u001b[0;34m(self, selection)\u001b[0m\n\u001b[1;32m    798\u001b[0m     result \u001b[38;5;241m=\u001b[39m \u001b[38;5;28mself\u001b[39m\u001b[38;5;241m.\u001b[39mget_orthogonal_selection(pure_selection, fields\u001b[38;5;241m=\u001b[39mfields)\n\u001b[1;32m    799\u001b[0m \u001b[38;5;28;01melse\u001b[39;00m:\n\u001b[0;32m--> 800\u001b[0m     result \u001b[38;5;241m=\u001b[39m \u001b[38;5;28;43mself\u001b[39;49m\u001b[38;5;241;43m.\u001b[39;49m\u001b[43mget_basic_selection\u001b[49m\u001b[43m(\u001b[49m\u001b[43mpure_selection\u001b[49m\u001b[43m,\u001b[49m\u001b[43m \u001b[49m\u001b[43mfields\u001b[49m\u001b[38;5;241;43m=\u001b[39;49m\u001b[43mfields\u001b[49m\u001b[43m)\u001b[49m\n\u001b[1;32m    801\u001b[0m \u001b[38;5;28;01mreturn\u001b[39;00m result\n",
      "File \u001b[0;32m/data/leslie/sarthak/environments/hyena_backup3/lib/python3.11/site-packages/zarr/core.py:926\u001b[0m, in \u001b[0;36mArray.get_basic_selection\u001b[0;34m(self, selection, out, fields)\u001b[0m\n\u001b[1;32m    924\u001b[0m     \u001b[38;5;28;01mreturn\u001b[39;00m \u001b[38;5;28mself\u001b[39m\u001b[38;5;241m.\u001b[39m_get_basic_selection_zd(selection\u001b[38;5;241m=\u001b[39mselection, out\u001b[38;5;241m=\u001b[39mout, fields\u001b[38;5;241m=\u001b[39mfields)\n\u001b[1;32m    925\u001b[0m \u001b[38;5;28;01melse\u001b[39;00m:\n\u001b[0;32m--> 926\u001b[0m     \u001b[38;5;28;01mreturn\u001b[39;00m \u001b[38;5;28;43mself\u001b[39;49m\u001b[38;5;241;43m.\u001b[39;49m\u001b[43m_get_basic_selection_nd\u001b[49m\u001b[43m(\u001b[49m\u001b[43mselection\u001b[49m\u001b[38;5;241;43m=\u001b[39;49m\u001b[43mselection\u001b[49m\u001b[43m,\u001b[49m\u001b[43m \u001b[49m\u001b[43mout\u001b[49m\u001b[38;5;241;43m=\u001b[39;49m\u001b[43mout\u001b[49m\u001b[43m,\u001b[49m\u001b[43m \u001b[49m\u001b[43mfields\u001b[49m\u001b[38;5;241;43m=\u001b[39;49m\u001b[43mfields\u001b[49m\u001b[43m)\u001b[49m\n",
      "File \u001b[0;32m/data/leslie/sarthak/environments/hyena_backup3/lib/python3.11/site-packages/zarr/core.py:968\u001b[0m, in \u001b[0;36mArray._get_basic_selection_nd\u001b[0;34m(self, selection, out, fields)\u001b[0m\n\u001b[1;32m    962\u001b[0m \u001b[38;5;28;01mdef\u001b[39;00m \u001b[38;5;21m_get_basic_selection_nd\u001b[39m(\u001b[38;5;28mself\u001b[39m, selection, out\u001b[38;5;241m=\u001b[39m\u001b[38;5;28;01mNone\u001b[39;00m, fields\u001b[38;5;241m=\u001b[39m\u001b[38;5;28;01mNone\u001b[39;00m):\n\u001b[1;32m    963\u001b[0m     \u001b[38;5;66;03m# implementation of basic selection for array with at least one dimension\u001b[39;00m\n\u001b[1;32m    964\u001b[0m \n\u001b[1;32m    965\u001b[0m     \u001b[38;5;66;03m# setup indexer\u001b[39;00m\n\u001b[1;32m    966\u001b[0m     indexer \u001b[38;5;241m=\u001b[39m BasicIndexer(selection, \u001b[38;5;28mself\u001b[39m)\n\u001b[0;32m--> 968\u001b[0m     \u001b[38;5;28;01mreturn\u001b[39;00m \u001b[38;5;28;43mself\u001b[39;49m\u001b[38;5;241;43m.\u001b[39;49m\u001b[43m_get_selection\u001b[49m\u001b[43m(\u001b[49m\u001b[43mindexer\u001b[49m\u001b[38;5;241;43m=\u001b[39;49m\u001b[43mindexer\u001b[49m\u001b[43m,\u001b[49m\u001b[43m \u001b[49m\u001b[43mout\u001b[49m\u001b[38;5;241;43m=\u001b[39;49m\u001b[43mout\u001b[49m\u001b[43m,\u001b[49m\u001b[43m \u001b[49m\u001b[43mfields\u001b[49m\u001b[38;5;241;43m=\u001b[39;49m\u001b[43mfields\u001b[49m\u001b[43m)\u001b[49m\n",
      "File \u001b[0;32m/data/leslie/sarthak/environments/hyena_backup3/lib/python3.11/site-packages/zarr/core.py:1343\u001b[0m, in \u001b[0;36mArray._get_selection\u001b[0;34m(self, indexer, out, fields)\u001b[0m\n\u001b[1;32m   1340\u001b[0m \u001b[38;5;28;01mif\u001b[39;00m math\u001b[38;5;241m.\u001b[39mprod(out_shape) \u001b[38;5;241m>\u001b[39m \u001b[38;5;241m0\u001b[39m:\n\u001b[1;32m   1341\u001b[0m     \u001b[38;5;66;03m# allow storage to get multiple items at once\u001b[39;00m\n\u001b[1;32m   1342\u001b[0m     lchunk_coords, lchunk_selection, lout_selection \u001b[38;5;241m=\u001b[39m \u001b[38;5;28mzip\u001b[39m(\u001b[38;5;241m*\u001b[39mindexer)\n\u001b[0;32m-> 1343\u001b[0m     \u001b[38;5;28;43mself\u001b[39;49m\u001b[38;5;241;43m.\u001b[39;49m\u001b[43m_chunk_getitems\u001b[49m\u001b[43m(\u001b[49m\n\u001b[1;32m   1344\u001b[0m \u001b[43m        \u001b[49m\u001b[43mlchunk_coords\u001b[49m\u001b[43m,\u001b[49m\n\u001b[1;32m   1345\u001b[0m \u001b[43m        \u001b[49m\u001b[43mlchunk_selection\u001b[49m\u001b[43m,\u001b[49m\n\u001b[1;32m   1346\u001b[0m \u001b[43m        \u001b[49m\u001b[43mout\u001b[49m\u001b[43m,\u001b[49m\n\u001b[1;32m   1347\u001b[0m \u001b[43m        \u001b[49m\u001b[43mlout_selection\u001b[49m\u001b[43m,\u001b[49m\n\u001b[1;32m   1348\u001b[0m \u001b[43m        \u001b[49m\u001b[43mdrop_axes\u001b[49m\u001b[38;5;241;43m=\u001b[39;49m\u001b[43mindexer\u001b[49m\u001b[38;5;241;43m.\u001b[39;49m\u001b[43mdrop_axes\u001b[49m\u001b[43m,\u001b[49m\n\u001b[1;32m   1349\u001b[0m \u001b[43m        \u001b[49m\u001b[43mfields\u001b[49m\u001b[38;5;241;43m=\u001b[39;49m\u001b[43mfields\u001b[49m\u001b[43m,\u001b[49m\n\u001b[1;32m   1350\u001b[0m \u001b[43m    \u001b[49m\u001b[43m)\u001b[49m\n\u001b[1;32m   1351\u001b[0m \u001b[38;5;28;01mif\u001b[39;00m out\u001b[38;5;241m.\u001b[39mshape:\n\u001b[1;32m   1352\u001b[0m     \u001b[38;5;28;01mreturn\u001b[39;00m out\n",
      "File \u001b[0;32m/data/leslie/sarthak/environments/hyena_backup3/lib/python3.11/site-packages/zarr/core.py:2183\u001b[0m, in \u001b[0;36mArray._chunk_getitems\u001b[0;34m(self, lchunk_coords, lchunk_selection, out, lout_selection, drop_axes, fields)\u001b[0m\n\u001b[1;32m   2181\u001b[0m \u001b[38;5;28;01mfor\u001b[39;00m ckey, chunk_select, out_select \u001b[38;5;129;01min\u001b[39;00m \u001b[38;5;28mzip\u001b[39m(ckeys, lchunk_selection, lout_selection):\n\u001b[1;32m   2182\u001b[0m     \u001b[38;5;28;01mif\u001b[39;00m ckey \u001b[38;5;129;01min\u001b[39;00m cdatas:\n\u001b[0;32m-> 2183\u001b[0m         \u001b[38;5;28;43mself\u001b[39;49m\u001b[38;5;241;43m.\u001b[39;49m\u001b[43m_process_chunk\u001b[49m\u001b[43m(\u001b[49m\n\u001b[1;32m   2184\u001b[0m \u001b[43m            \u001b[49m\u001b[43mout\u001b[49m\u001b[43m,\u001b[49m\n\u001b[1;32m   2185\u001b[0m \u001b[43m            \u001b[49m\u001b[43mcdatas\u001b[49m\u001b[43m[\u001b[49m\u001b[43mckey\u001b[49m\u001b[43m]\u001b[49m\u001b[43m,\u001b[49m\n\u001b[1;32m   2186\u001b[0m \u001b[43m            \u001b[49m\u001b[43mchunk_select\u001b[49m\u001b[43m,\u001b[49m\n\u001b[1;32m   2187\u001b[0m \u001b[43m            \u001b[49m\u001b[43mdrop_axes\u001b[49m\u001b[43m,\u001b[49m\n\u001b[1;32m   2188\u001b[0m \u001b[43m            \u001b[49m\u001b[43mout_is_ndarray\u001b[49m\u001b[43m,\u001b[49m\n\u001b[1;32m   2189\u001b[0m \u001b[43m            \u001b[49m\u001b[43mfields\u001b[49m\u001b[43m,\u001b[49m\n\u001b[1;32m   2190\u001b[0m \u001b[43m            \u001b[49m\u001b[43mout_select\u001b[49m\u001b[43m,\u001b[49m\n\u001b[1;32m   2191\u001b[0m \u001b[43m            \u001b[49m\u001b[43mpartial_read_decode\u001b[49m\u001b[38;5;241;43m=\u001b[39;49m\u001b[43mpartial_read_decode\u001b[49m\u001b[43m,\u001b[49m\n\u001b[1;32m   2192\u001b[0m \u001b[43m        \u001b[49m\u001b[43m)\u001b[49m\n\u001b[1;32m   2193\u001b[0m     \u001b[38;5;28;01melse\u001b[39;00m:\n\u001b[1;32m   2194\u001b[0m         \u001b[38;5;66;03m# check exception type\u001b[39;00m\n\u001b[1;32m   2195\u001b[0m         \u001b[38;5;28;01mif\u001b[39;00m \u001b[38;5;28mself\u001b[39m\u001b[38;5;241m.\u001b[39m_fill_value \u001b[38;5;129;01mis\u001b[39;00m \u001b[38;5;129;01mnot\u001b[39;00m \u001b[38;5;28;01mNone\u001b[39;00m:\n",
      "File \u001b[0;32m/data/leslie/sarthak/environments/hyena_backup3/lib/python3.11/site-packages/zarr/core.py:2096\u001b[0m, in \u001b[0;36mArray._process_chunk\u001b[0;34m(self, out, cdata, chunk_selection, drop_axes, out_is_ndarray, fields, out_selection, partial_read_decode)\u001b[0m\n\u001b[1;32m   2094\u001b[0m \u001b[38;5;28;01mexcept\u001b[39;00m ArrayIndexError:\n\u001b[1;32m   2095\u001b[0m     cdata \u001b[38;5;241m=\u001b[39m cdata\u001b[38;5;241m.\u001b[39mread_full()\n\u001b[0;32m-> 2096\u001b[0m chunk \u001b[38;5;241m=\u001b[39m \u001b[38;5;28;43mself\u001b[39;49m\u001b[38;5;241;43m.\u001b[39;49m\u001b[43m_decode_chunk\u001b[49m\u001b[43m(\u001b[49m\u001b[43mcdata\u001b[49m\u001b[43m)\u001b[49m\n\u001b[1;32m   2098\u001b[0m \u001b[38;5;66;03m# select data from chunk\u001b[39;00m\n\u001b[1;32m   2099\u001b[0m \u001b[38;5;28;01mif\u001b[39;00m fields:\n",
      "File \u001b[0;32m/data/leslie/sarthak/environments/hyena_backup3/lib/python3.11/site-packages/zarr/core.py:2352\u001b[0m, in \u001b[0;36mArray._decode_chunk\u001b[0;34m(self, cdata, start, nitems, expected_shape)\u001b[0m\n\u001b[1;32m   2350\u001b[0m         chunk \u001b[38;5;241m=\u001b[39m \u001b[38;5;28mself\u001b[39m\u001b[38;5;241m.\u001b[39m_compressor\u001b[38;5;241m.\u001b[39mdecode_partial(cdata, start, nitems)\n\u001b[1;32m   2351\u001b[0m     \u001b[38;5;28;01melse\u001b[39;00m:\n\u001b[0;32m-> 2352\u001b[0m         chunk \u001b[38;5;241m=\u001b[39m \u001b[38;5;28;43mself\u001b[39;49m\u001b[38;5;241;43m.\u001b[39;49m\u001b[43m_compressor\u001b[49m\u001b[38;5;241;43m.\u001b[39;49m\u001b[43mdecode\u001b[49m\u001b[43m(\u001b[49m\u001b[43mcdata\u001b[49m\u001b[43m)\u001b[49m\n\u001b[1;32m   2353\u001b[0m \u001b[38;5;28;01melse\u001b[39;00m:\n\u001b[1;32m   2354\u001b[0m     chunk \u001b[38;5;241m=\u001b[39m cdata\n",
      "\u001b[0;31mKeyboardInterrupt\u001b[0m: "
     ]
    }
   ],
   "source": [
    "for i in tqdm(range(1000)):\n",
    "    test = labels_zarr[i]\n",
    "#this one is significantly slower than the test"
   ]
  },
  {
   "cell_type": "code",
   "execution_count": 9,
   "metadata": {},
   "outputs": [
    {
     "name": "stderr",
     "output_type": "stream",
     "text": [
      "  5%|▍         | 49/1000 [00:17<05:47,  2.74it/s]\n"
     ]
    },
    {
     "ename": "KeyboardInterrupt",
     "evalue": "",
     "output_type": "error",
     "traceback": [
      "\u001b[0;31m---------------------------------------------------------------------------\u001b[0m",
      "\u001b[0;31mKeyboardInterrupt\u001b[0m                         Traceback (most recent call last)",
      "Cell \u001b[0;32mIn[9], line 4\u001b[0m\n\u001b[1;32m      2\u001b[0m test_zarr \u001b[38;5;241m=\u001b[39m zarr\u001b[38;5;241m.\u001b[39mopen(filename, mode\u001b[38;5;241m=\u001b[39m\u001b[38;5;124m'\u001b[39m\u001b[38;5;124mr\u001b[39m\u001b[38;5;124m'\u001b[39m)[\u001b[38;5;124m'\u001b[39m\u001b[38;5;124mlabels\u001b[39m\u001b[38;5;124m'\u001b[39m]\n\u001b[1;32m      3\u001b[0m \u001b[38;5;28;01mfor\u001b[39;00m i \u001b[38;5;129;01min\u001b[39;00m tqdm(\u001b[38;5;28mrange\u001b[39m(\u001b[38;5;241m1000\u001b[39m)):\n\u001b[0;32m----> 4\u001b[0m     test \u001b[38;5;241m=\u001b[39m \u001b[43mtest_zarr\u001b[49m\u001b[43m[\u001b[49m\u001b[43mi\u001b[49m\u001b[43m]\u001b[49m\n",
      "File \u001b[0;32m/data/leslie/sarthak/environments/hyena_backup3/lib/python3.11/site-packages/zarr/core.py:800\u001b[0m, in \u001b[0;36mArray.__getitem__\u001b[0;34m(self, selection)\u001b[0m\n\u001b[1;32m    798\u001b[0m     result \u001b[38;5;241m=\u001b[39m \u001b[38;5;28mself\u001b[39m\u001b[38;5;241m.\u001b[39mget_orthogonal_selection(pure_selection, fields\u001b[38;5;241m=\u001b[39mfields)\n\u001b[1;32m    799\u001b[0m \u001b[38;5;28;01melse\u001b[39;00m:\n\u001b[0;32m--> 800\u001b[0m     result \u001b[38;5;241m=\u001b[39m \u001b[38;5;28;43mself\u001b[39;49m\u001b[38;5;241;43m.\u001b[39;49m\u001b[43mget_basic_selection\u001b[49m\u001b[43m(\u001b[49m\u001b[43mpure_selection\u001b[49m\u001b[43m,\u001b[49m\u001b[43m \u001b[49m\u001b[43mfields\u001b[49m\u001b[38;5;241;43m=\u001b[39;49m\u001b[43mfields\u001b[49m\u001b[43m)\u001b[49m\n\u001b[1;32m    801\u001b[0m \u001b[38;5;28;01mreturn\u001b[39;00m result\n",
      "File \u001b[0;32m/data/leslie/sarthak/environments/hyena_backup3/lib/python3.11/site-packages/zarr/core.py:926\u001b[0m, in \u001b[0;36mArray.get_basic_selection\u001b[0;34m(self, selection, out, fields)\u001b[0m\n\u001b[1;32m    924\u001b[0m     \u001b[38;5;28;01mreturn\u001b[39;00m \u001b[38;5;28mself\u001b[39m\u001b[38;5;241m.\u001b[39m_get_basic_selection_zd(selection\u001b[38;5;241m=\u001b[39mselection, out\u001b[38;5;241m=\u001b[39mout, fields\u001b[38;5;241m=\u001b[39mfields)\n\u001b[1;32m    925\u001b[0m \u001b[38;5;28;01melse\u001b[39;00m:\n\u001b[0;32m--> 926\u001b[0m     \u001b[38;5;28;01mreturn\u001b[39;00m \u001b[38;5;28;43mself\u001b[39;49m\u001b[38;5;241;43m.\u001b[39;49m\u001b[43m_get_basic_selection_nd\u001b[49m\u001b[43m(\u001b[49m\u001b[43mselection\u001b[49m\u001b[38;5;241;43m=\u001b[39;49m\u001b[43mselection\u001b[49m\u001b[43m,\u001b[49m\u001b[43m \u001b[49m\u001b[43mout\u001b[49m\u001b[38;5;241;43m=\u001b[39;49m\u001b[43mout\u001b[49m\u001b[43m,\u001b[49m\u001b[43m \u001b[49m\u001b[43mfields\u001b[49m\u001b[38;5;241;43m=\u001b[39;49m\u001b[43mfields\u001b[49m\u001b[43m)\u001b[49m\n",
      "File \u001b[0;32m/data/leslie/sarthak/environments/hyena_backup3/lib/python3.11/site-packages/zarr/core.py:968\u001b[0m, in \u001b[0;36mArray._get_basic_selection_nd\u001b[0;34m(self, selection, out, fields)\u001b[0m\n\u001b[1;32m    962\u001b[0m \u001b[38;5;28;01mdef\u001b[39;00m \u001b[38;5;21m_get_basic_selection_nd\u001b[39m(\u001b[38;5;28mself\u001b[39m, selection, out\u001b[38;5;241m=\u001b[39m\u001b[38;5;28;01mNone\u001b[39;00m, fields\u001b[38;5;241m=\u001b[39m\u001b[38;5;28;01mNone\u001b[39;00m):\n\u001b[1;32m    963\u001b[0m     \u001b[38;5;66;03m# implementation of basic selection for array with at least one dimension\u001b[39;00m\n\u001b[1;32m    964\u001b[0m \n\u001b[1;32m    965\u001b[0m     \u001b[38;5;66;03m# setup indexer\u001b[39;00m\n\u001b[1;32m    966\u001b[0m     indexer \u001b[38;5;241m=\u001b[39m BasicIndexer(selection, \u001b[38;5;28mself\u001b[39m)\n\u001b[0;32m--> 968\u001b[0m     \u001b[38;5;28;01mreturn\u001b[39;00m \u001b[38;5;28;43mself\u001b[39;49m\u001b[38;5;241;43m.\u001b[39;49m\u001b[43m_get_selection\u001b[49m\u001b[43m(\u001b[49m\u001b[43mindexer\u001b[49m\u001b[38;5;241;43m=\u001b[39;49m\u001b[43mindexer\u001b[49m\u001b[43m,\u001b[49m\u001b[43m \u001b[49m\u001b[43mout\u001b[49m\u001b[38;5;241;43m=\u001b[39;49m\u001b[43mout\u001b[49m\u001b[43m,\u001b[49m\u001b[43m \u001b[49m\u001b[43mfields\u001b[49m\u001b[38;5;241;43m=\u001b[39;49m\u001b[43mfields\u001b[49m\u001b[43m)\u001b[49m\n",
      "File \u001b[0;32m/data/leslie/sarthak/environments/hyena_backup3/lib/python3.11/site-packages/zarr/core.py:1343\u001b[0m, in \u001b[0;36mArray._get_selection\u001b[0;34m(self, indexer, out, fields)\u001b[0m\n\u001b[1;32m   1340\u001b[0m \u001b[38;5;28;01mif\u001b[39;00m math\u001b[38;5;241m.\u001b[39mprod(out_shape) \u001b[38;5;241m>\u001b[39m \u001b[38;5;241m0\u001b[39m:\n\u001b[1;32m   1341\u001b[0m     \u001b[38;5;66;03m# allow storage to get multiple items at once\u001b[39;00m\n\u001b[1;32m   1342\u001b[0m     lchunk_coords, lchunk_selection, lout_selection \u001b[38;5;241m=\u001b[39m \u001b[38;5;28mzip\u001b[39m(\u001b[38;5;241m*\u001b[39mindexer)\n\u001b[0;32m-> 1343\u001b[0m     \u001b[38;5;28;43mself\u001b[39;49m\u001b[38;5;241;43m.\u001b[39;49m\u001b[43m_chunk_getitems\u001b[49m\u001b[43m(\u001b[49m\n\u001b[1;32m   1344\u001b[0m \u001b[43m        \u001b[49m\u001b[43mlchunk_coords\u001b[49m\u001b[43m,\u001b[49m\n\u001b[1;32m   1345\u001b[0m \u001b[43m        \u001b[49m\u001b[43mlchunk_selection\u001b[49m\u001b[43m,\u001b[49m\n\u001b[1;32m   1346\u001b[0m \u001b[43m        \u001b[49m\u001b[43mout\u001b[49m\u001b[43m,\u001b[49m\n\u001b[1;32m   1347\u001b[0m \u001b[43m        \u001b[49m\u001b[43mlout_selection\u001b[49m\u001b[43m,\u001b[49m\n\u001b[1;32m   1348\u001b[0m \u001b[43m        \u001b[49m\u001b[43mdrop_axes\u001b[49m\u001b[38;5;241;43m=\u001b[39;49m\u001b[43mindexer\u001b[49m\u001b[38;5;241;43m.\u001b[39;49m\u001b[43mdrop_axes\u001b[49m\u001b[43m,\u001b[49m\n\u001b[1;32m   1349\u001b[0m \u001b[43m        \u001b[49m\u001b[43mfields\u001b[49m\u001b[38;5;241;43m=\u001b[39;49m\u001b[43mfields\u001b[49m\u001b[43m,\u001b[49m\n\u001b[1;32m   1350\u001b[0m \u001b[43m    \u001b[49m\u001b[43m)\u001b[49m\n\u001b[1;32m   1351\u001b[0m \u001b[38;5;28;01mif\u001b[39;00m out\u001b[38;5;241m.\u001b[39mshape:\n\u001b[1;32m   1352\u001b[0m     \u001b[38;5;28;01mreturn\u001b[39;00m out\n",
      "File \u001b[0;32m/data/leslie/sarthak/environments/hyena_backup3/lib/python3.11/site-packages/zarr/core.py:2179\u001b[0m, in \u001b[0;36mArray._chunk_getitems\u001b[0;34m(self, lchunk_coords, lchunk_selection, out, lout_selection, drop_axes, fields)\u001b[0m\n\u001b[1;32m   2177\u001b[0m     \u001b[38;5;28;01mif\u001b[39;00m \u001b[38;5;129;01mnot\u001b[39;00m \u001b[38;5;28misinstance\u001b[39m(\u001b[38;5;28mself\u001b[39m\u001b[38;5;241m.\u001b[39m_meta_array, np\u001b[38;5;241m.\u001b[39mndarray):\n\u001b[1;32m   2178\u001b[0m         contexts \u001b[38;5;241m=\u001b[39m ConstantMap(ckeys, constant\u001b[38;5;241m=\u001b[39mContext(meta_array\u001b[38;5;241m=\u001b[39m\u001b[38;5;28mself\u001b[39m\u001b[38;5;241m.\u001b[39m_meta_array))\n\u001b[0;32m-> 2179\u001b[0m     cdatas \u001b[38;5;241m=\u001b[39m \u001b[38;5;28;43mself\u001b[39;49m\u001b[38;5;241;43m.\u001b[39;49m\u001b[43mchunk_store\u001b[49m\u001b[38;5;241;43m.\u001b[39;49m\u001b[43mgetitems\u001b[49m\u001b[43m(\u001b[49m\u001b[43mckeys\u001b[49m\u001b[43m,\u001b[49m\u001b[43m \u001b[49m\u001b[43mcontexts\u001b[49m\u001b[38;5;241;43m=\u001b[39;49m\u001b[43mcontexts\u001b[49m\u001b[43m)\u001b[49m\n\u001b[1;32m   2181\u001b[0m \u001b[38;5;28;01mfor\u001b[39;00m ckey, chunk_select, out_select \u001b[38;5;129;01min\u001b[39;00m \u001b[38;5;28mzip\u001b[39m(ckeys, lchunk_selection, lout_selection):\n\u001b[1;32m   2182\u001b[0m     \u001b[38;5;28;01mif\u001b[39;00m ckey \u001b[38;5;129;01min\u001b[39;00m cdatas:\n",
      "File \u001b[0;32m/data/leslie/sarthak/environments/hyena_backup3/lib/python3.11/site-packages/zarr/_storage/store.py:179\u001b[0m, in \u001b[0;36mBaseStore.getitems\u001b[0;34m(self, keys, contexts)\u001b[0m\n\u001b[1;32m    154\u001b[0m \u001b[38;5;28;01mdef\u001b[39;00m \u001b[38;5;21mgetitems\u001b[39m(\n\u001b[1;32m    155\u001b[0m     \u001b[38;5;28mself\u001b[39m, keys: Sequence[\u001b[38;5;28mstr\u001b[39m], \u001b[38;5;241m*\u001b[39m, contexts: Mapping[\u001b[38;5;28mstr\u001b[39m, Context]\n\u001b[1;32m    156\u001b[0m ) \u001b[38;5;241m-\u001b[39m\u001b[38;5;241m>\u001b[39m Mapping[\u001b[38;5;28mstr\u001b[39m, Any]:\n\u001b[1;32m    157\u001b[0m \u001b[38;5;250m    \u001b[39m\u001b[38;5;124;03m\"\"\"Retrieve data from multiple keys.\u001b[39;00m\n\u001b[1;32m    158\u001b[0m \n\u001b[1;32m    159\u001b[0m \u001b[38;5;124;03m    Parameters\u001b[39;00m\n\u001b[0;32m   (...)\u001b[0m\n\u001b[1;32m    177\u001b[0m \u001b[38;5;124;03m    keys and/or to utilize the contexts.\u001b[39;00m\n\u001b[1;32m    178\u001b[0m \u001b[38;5;124;03m    \"\"\"\u001b[39;00m\n\u001b[0;32m--> 179\u001b[0m     \u001b[38;5;28;01mreturn\u001b[39;00m \u001b[43m{\u001b[49m\u001b[43mk\u001b[49m\u001b[43m:\u001b[49m\u001b[43m \u001b[49m\u001b[38;5;28;43mself\u001b[39;49m\u001b[43m[\u001b[49m\u001b[43mk\u001b[49m\u001b[43m]\u001b[49m\u001b[43m \u001b[49m\u001b[38;5;28;43;01mfor\u001b[39;49;00m\u001b[43m \u001b[49m\u001b[43mk\u001b[49m\u001b[43m \u001b[49m\u001b[38;5;129;43;01min\u001b[39;49;00m\u001b[43m \u001b[49m\u001b[43mkeys\u001b[49m\u001b[43m \u001b[49m\u001b[38;5;28;43;01mif\u001b[39;49;00m\u001b[43m \u001b[49m\u001b[43mk\u001b[49m\u001b[43m \u001b[49m\u001b[38;5;129;43;01min\u001b[39;49;00m\u001b[43m \u001b[49m\u001b[38;5;28;43mself\u001b[39;49m\u001b[43m}\u001b[49m\n",
      "File \u001b[0;32m/data/leslie/sarthak/environments/hyena_backup3/lib/python3.11/site-packages/zarr/_storage/store.py:179\u001b[0m, in \u001b[0;36m<dictcomp>\u001b[0;34m(.0)\u001b[0m\n\u001b[1;32m    154\u001b[0m \u001b[38;5;28;01mdef\u001b[39;00m \u001b[38;5;21mgetitems\u001b[39m(\n\u001b[1;32m    155\u001b[0m     \u001b[38;5;28mself\u001b[39m, keys: Sequence[\u001b[38;5;28mstr\u001b[39m], \u001b[38;5;241m*\u001b[39m, contexts: Mapping[\u001b[38;5;28mstr\u001b[39m, Context]\n\u001b[1;32m    156\u001b[0m ) \u001b[38;5;241m-\u001b[39m\u001b[38;5;241m>\u001b[39m Mapping[\u001b[38;5;28mstr\u001b[39m, Any]:\n\u001b[1;32m    157\u001b[0m \u001b[38;5;250m    \u001b[39m\u001b[38;5;124;03m\"\"\"Retrieve data from multiple keys.\u001b[39;00m\n\u001b[1;32m    158\u001b[0m \n\u001b[1;32m    159\u001b[0m \u001b[38;5;124;03m    Parameters\u001b[39;00m\n\u001b[0;32m   (...)\u001b[0m\n\u001b[1;32m    177\u001b[0m \u001b[38;5;124;03m    keys and/or to utilize the contexts.\u001b[39;00m\n\u001b[1;32m    178\u001b[0m \u001b[38;5;124;03m    \"\"\"\u001b[39;00m\n\u001b[0;32m--> 179\u001b[0m     \u001b[38;5;28;01mreturn\u001b[39;00m {k: \u001b[38;5;28;43mself\u001b[39;49m\u001b[43m[\u001b[49m\u001b[43mk\u001b[49m\u001b[43m]\u001b[49m \u001b[38;5;28;01mfor\u001b[39;00m k \u001b[38;5;129;01min\u001b[39;00m keys \u001b[38;5;28;01mif\u001b[39;00m k \u001b[38;5;129;01min\u001b[39;00m \u001b[38;5;28mself\u001b[39m}\n",
      "File \u001b[0;32m/data/leslie/sarthak/environments/hyena_backup3/lib/python3.11/site-packages/zarr/storage.py:1118\u001b[0m, in \u001b[0;36mDirectoryStore.__getitem__\u001b[0;34m(self, key)\u001b[0m\n\u001b[1;32m   1116\u001b[0m filepath \u001b[38;5;241m=\u001b[39m os\u001b[38;5;241m.\u001b[39mpath\u001b[38;5;241m.\u001b[39mjoin(\u001b[38;5;28mself\u001b[39m\u001b[38;5;241m.\u001b[39mpath, key)\n\u001b[1;32m   1117\u001b[0m \u001b[38;5;28;01mif\u001b[39;00m os\u001b[38;5;241m.\u001b[39mpath\u001b[38;5;241m.\u001b[39misfile(filepath):\n\u001b[0;32m-> 1118\u001b[0m     \u001b[38;5;28;01mreturn\u001b[39;00m \u001b[38;5;28;43mself\u001b[39;49m\u001b[38;5;241;43m.\u001b[39;49m\u001b[43m_fromfile\u001b[49m\u001b[43m(\u001b[49m\u001b[43mfilepath\u001b[49m\u001b[43m)\u001b[49m\n\u001b[1;32m   1119\u001b[0m \u001b[38;5;28;01melse\u001b[39;00m:\n\u001b[1;32m   1120\u001b[0m     \u001b[38;5;28;01mraise\u001b[39;00m \u001b[38;5;167;01mKeyError\u001b[39;00m(key)\n",
      "File \u001b[0;32m/data/leslie/sarthak/environments/hyena_backup3/lib/python3.11/site-packages/zarr/storage.py:1093\u001b[0m, in \u001b[0;36mDirectoryStore._fromfile\u001b[0;34m(fn)\u001b[0m\n\u001b[1;32m   1080\u001b[0m \u001b[38;5;250m\u001b[39m\u001b[38;5;124;03m\"\"\"Read data from a file\u001b[39;00m\n\u001b[1;32m   1081\u001b[0m \n\u001b[1;32m   1082\u001b[0m \u001b[38;5;124;03mParameters\u001b[39;00m\n\u001b[0;32m   (...)\u001b[0m\n\u001b[1;32m   1090\u001b[0m \u001b[38;5;124;03mfile reading logic.\u001b[39;00m\n\u001b[1;32m   1091\u001b[0m \u001b[38;5;124;03m\"\"\"\u001b[39;00m\n\u001b[1;32m   1092\u001b[0m \u001b[38;5;28;01mwith\u001b[39;00m \u001b[38;5;28mopen\u001b[39m(fn, \u001b[38;5;124m\"\u001b[39m\u001b[38;5;124mrb\u001b[39m\u001b[38;5;124m\"\u001b[39m) \u001b[38;5;28;01mas\u001b[39;00m f:\n\u001b[0;32m-> 1093\u001b[0m     \u001b[38;5;28;01mreturn\u001b[39;00m f\u001b[38;5;241m.\u001b[39mread()\n",
      "\u001b[0;31mKeyboardInterrupt\u001b[0m: "
     ]
    }
   ],
   "source": [
    "filename = '/data/leslie/sarthak/data/enformer/data/test_label.zarr'\n",
    "test_zarr = zarr.open(filename, mode='r')['labels']\n",
    "for i in tqdm(range(1000)):\n",
    "    test = test_zarr[i]\n",
    "    \n",
    "#also much slower, this is likely due to it being this node has slower transfer speeds, but regardless it's like a 16x speedup"
   ]
  },
  {
   "cell_type": "code",
   "execution_count": 10,
   "metadata": {},
   "outputs": [
    {
     "name": "stderr",
     "output_type": "stream",
     "text": [
      "  1%|          | 306/34021 [40:00<73:28:05,  7.84s/it]\n"
     ]
    },
    {
     "ename": "KeyboardInterrupt",
     "evalue": "",
     "output_type": "error",
     "traceback": [
      "\u001b[0;31m---------------------------------------------------------------------------\u001b[0m",
      "\u001b[0;31mKeyboardInterrupt\u001b[0m                         Traceback (most recent call last)",
      "Cell \u001b[0;32mIn[10], line 3\u001b[0m\n\u001b[1;32m      1\u001b[0m \u001b[38;5;28;01mfor\u001b[39;00m i \u001b[38;5;129;01min\u001b[39;00m tqdm(\u001b[38;5;28mrange\u001b[39m(labels_h5\u001b[38;5;241m.\u001b[39mshape[\u001b[38;5;241m0\u001b[39m])):\n\u001b[1;32m      2\u001b[0m     \u001b[38;5;66;03m#load in the value\u001b[39;00m\n\u001b[0;32m----> 3\u001b[0m     h5_val \u001b[38;5;241m=\u001b[39m \u001b[43mlabels_h5\u001b[49m\u001b[43m[\u001b[49m\u001b[43mi\u001b[49m\u001b[43m]\u001b[49m\n\u001b[1;32m      4\u001b[0m     zarr_val \u001b[38;5;241m=\u001b[39m labels_zarr[i]\n\u001b[1;32m      5\u001b[0m     \u001b[38;5;66;03m#check if they're the same\u001b[39;00m\n",
      "File \u001b[0;32mh5py/_objects.pyx:54\u001b[0m, in \u001b[0;36mh5py._objects.with_phil.wrapper\u001b[0;34m()\u001b[0m\n",
      "File \u001b[0;32mh5py/_objects.pyx:55\u001b[0m, in \u001b[0;36mh5py._objects.with_phil.wrapper\u001b[0;34m()\u001b[0m\n",
      "File \u001b[0;32m/data/leslie/sarthak/environments/hyena_backup3/lib/python3.11/site-packages/h5py/_hl/dataset.py:758\u001b[0m, in \u001b[0;36mDataset.__getitem__\u001b[0;34m(self, args, new_dtype)\u001b[0m\n\u001b[1;32m    756\u001b[0m \u001b[38;5;28;01mif\u001b[39;00m \u001b[38;5;28mself\u001b[39m\u001b[38;5;241m.\u001b[39m_fast_read_ok \u001b[38;5;129;01mand\u001b[39;00m (new_dtype \u001b[38;5;129;01mis\u001b[39;00m \u001b[38;5;28;01mNone\u001b[39;00m):\n\u001b[1;32m    757\u001b[0m     \u001b[38;5;28;01mtry\u001b[39;00m:\n\u001b[0;32m--> 758\u001b[0m         \u001b[38;5;28;01mreturn\u001b[39;00m \u001b[38;5;28mself\u001b[39m\u001b[38;5;241m.\u001b[39m_fast_reader\u001b[38;5;241m.\u001b[39mread(args)\n\u001b[1;32m    759\u001b[0m     \u001b[38;5;28;01mexcept\u001b[39;00m \u001b[38;5;167;01mTypeError\u001b[39;00m:\n\u001b[1;32m    760\u001b[0m         \u001b[38;5;28;01mpass\u001b[39;00m  \u001b[38;5;66;03m# Fall back to Python read pathway below\u001b[39;00m\n",
      "\u001b[0;31mKeyboardInterrupt\u001b[0m: "
     ]
    }
   ],
   "source": [
    "for i in tqdm(range(labels_h5.shape[0])):\n",
    "    #load in the value\n",
    "    h5_val = labels_h5[i]\n",
    "    zarr_val = labels_zarr[i]\n",
    "    #check if they're the same\n",
    "    assert np.allclose(h5_val, zarr_val)"
   ]
  },
  {
   "cell_type": "markdown",
   "metadata": {},
   "source": [
    "# comparing to the dataset class"
   ]
  },
  {
   "cell_type": "code",
   "execution_count": 2,
   "metadata": {},
   "outputs": [
    {
     "name": "stderr",
     "output_type": "stream",
     "text": [
      "  5%|▍         | 47/1000 [00:13<04:26,  3.58it/s]\n"
     ]
    },
    {
     "ename": "KeyboardInterrupt",
     "evalue": "",
     "output_type": "error",
     "traceback": [
      "\u001b[0;31m---------------------------------------------------------------------------\u001b[0m",
      "\u001b[0;31mKeyboardInterrupt\u001b[0m                         Traceback (most recent call last)",
      "Cell \u001b[0;32mIn[2], line 8\u001b[0m\n\u001b[1;32m      6\u001b[0m test_zarr \u001b[38;5;241m=\u001b[39m zarr\u001b[38;5;241m.\u001b[39mopen(filename, mode\u001b[38;5;241m=\u001b[39m\u001b[38;5;124m'\u001b[39m\u001b[38;5;124mr\u001b[39m\u001b[38;5;124m'\u001b[39m)[\u001b[38;5;124m'\u001b[39m\u001b[38;5;124mlabels\u001b[39m\u001b[38;5;124m'\u001b[39m]\n\u001b[1;32m      7\u001b[0m \u001b[38;5;28;01mfor\u001b[39;00m i \u001b[38;5;129;01min\u001b[39;00m tqdm(\u001b[38;5;28mrange\u001b[39m(\u001b[38;5;241m1000\u001b[39m)):\n\u001b[0;32m----> 8\u001b[0m     test \u001b[38;5;241m=\u001b[39m \u001b[43mtest_zarr\u001b[49m\u001b[43m[\u001b[49m\u001b[43mi\u001b[49m\u001b[43m]\u001b[49m\n",
      "File \u001b[0;32m/data/leslie/sarthak/environments/hyena_backup3/lib/python3.11/site-packages/zarr/core.py:800\u001b[0m, in \u001b[0;36mArray.__getitem__\u001b[0;34m(self, selection)\u001b[0m\n\u001b[1;32m    798\u001b[0m     result \u001b[38;5;241m=\u001b[39m \u001b[38;5;28mself\u001b[39m\u001b[38;5;241m.\u001b[39mget_orthogonal_selection(pure_selection, fields\u001b[38;5;241m=\u001b[39mfields)\n\u001b[1;32m    799\u001b[0m \u001b[38;5;28;01melse\u001b[39;00m:\n\u001b[0;32m--> 800\u001b[0m     result \u001b[38;5;241m=\u001b[39m \u001b[38;5;28;43mself\u001b[39;49m\u001b[38;5;241;43m.\u001b[39;49m\u001b[43mget_basic_selection\u001b[49m\u001b[43m(\u001b[49m\u001b[43mpure_selection\u001b[49m\u001b[43m,\u001b[49m\u001b[43m \u001b[49m\u001b[43mfields\u001b[49m\u001b[38;5;241;43m=\u001b[39;49m\u001b[43mfields\u001b[49m\u001b[43m)\u001b[49m\n\u001b[1;32m    801\u001b[0m \u001b[38;5;28;01mreturn\u001b[39;00m result\n",
      "File \u001b[0;32m/data/leslie/sarthak/environments/hyena_backup3/lib/python3.11/site-packages/zarr/core.py:926\u001b[0m, in \u001b[0;36mArray.get_basic_selection\u001b[0;34m(self, selection, out, fields)\u001b[0m\n\u001b[1;32m    924\u001b[0m     \u001b[38;5;28;01mreturn\u001b[39;00m \u001b[38;5;28mself\u001b[39m\u001b[38;5;241m.\u001b[39m_get_basic_selection_zd(selection\u001b[38;5;241m=\u001b[39mselection, out\u001b[38;5;241m=\u001b[39mout, fields\u001b[38;5;241m=\u001b[39mfields)\n\u001b[1;32m    925\u001b[0m \u001b[38;5;28;01melse\u001b[39;00m:\n\u001b[0;32m--> 926\u001b[0m     \u001b[38;5;28;01mreturn\u001b[39;00m \u001b[38;5;28;43mself\u001b[39;49m\u001b[38;5;241;43m.\u001b[39;49m\u001b[43m_get_basic_selection_nd\u001b[49m\u001b[43m(\u001b[49m\u001b[43mselection\u001b[49m\u001b[38;5;241;43m=\u001b[39;49m\u001b[43mselection\u001b[49m\u001b[43m,\u001b[49m\u001b[43m \u001b[49m\u001b[43mout\u001b[49m\u001b[38;5;241;43m=\u001b[39;49m\u001b[43mout\u001b[49m\u001b[43m,\u001b[49m\u001b[43m \u001b[49m\u001b[43mfields\u001b[49m\u001b[38;5;241;43m=\u001b[39;49m\u001b[43mfields\u001b[49m\u001b[43m)\u001b[49m\n",
      "File \u001b[0;32m/data/leslie/sarthak/environments/hyena_backup3/lib/python3.11/site-packages/zarr/core.py:968\u001b[0m, in \u001b[0;36mArray._get_basic_selection_nd\u001b[0;34m(self, selection, out, fields)\u001b[0m\n\u001b[1;32m    962\u001b[0m \u001b[38;5;28;01mdef\u001b[39;00m \u001b[38;5;21m_get_basic_selection_nd\u001b[39m(\u001b[38;5;28mself\u001b[39m, selection, out\u001b[38;5;241m=\u001b[39m\u001b[38;5;28;01mNone\u001b[39;00m, fields\u001b[38;5;241m=\u001b[39m\u001b[38;5;28;01mNone\u001b[39;00m):\n\u001b[1;32m    963\u001b[0m     \u001b[38;5;66;03m# implementation of basic selection for array with at least one dimension\u001b[39;00m\n\u001b[1;32m    964\u001b[0m \n\u001b[1;32m    965\u001b[0m     \u001b[38;5;66;03m# setup indexer\u001b[39;00m\n\u001b[1;32m    966\u001b[0m     indexer \u001b[38;5;241m=\u001b[39m BasicIndexer(selection, \u001b[38;5;28mself\u001b[39m)\n\u001b[0;32m--> 968\u001b[0m     \u001b[38;5;28;01mreturn\u001b[39;00m \u001b[38;5;28;43mself\u001b[39;49m\u001b[38;5;241;43m.\u001b[39;49m\u001b[43m_get_selection\u001b[49m\u001b[43m(\u001b[49m\u001b[43mindexer\u001b[49m\u001b[38;5;241;43m=\u001b[39;49m\u001b[43mindexer\u001b[49m\u001b[43m,\u001b[49m\u001b[43m \u001b[49m\u001b[43mout\u001b[49m\u001b[38;5;241;43m=\u001b[39;49m\u001b[43mout\u001b[49m\u001b[43m,\u001b[49m\u001b[43m \u001b[49m\u001b[43mfields\u001b[49m\u001b[38;5;241;43m=\u001b[39;49m\u001b[43mfields\u001b[49m\u001b[43m)\u001b[49m\n",
      "File \u001b[0;32m/data/leslie/sarthak/environments/hyena_backup3/lib/python3.11/site-packages/zarr/core.py:1343\u001b[0m, in \u001b[0;36mArray._get_selection\u001b[0;34m(self, indexer, out, fields)\u001b[0m\n\u001b[1;32m   1340\u001b[0m \u001b[38;5;28;01mif\u001b[39;00m math\u001b[38;5;241m.\u001b[39mprod(out_shape) \u001b[38;5;241m>\u001b[39m \u001b[38;5;241m0\u001b[39m:\n\u001b[1;32m   1341\u001b[0m     \u001b[38;5;66;03m# allow storage to get multiple items at once\u001b[39;00m\n\u001b[1;32m   1342\u001b[0m     lchunk_coords, lchunk_selection, lout_selection \u001b[38;5;241m=\u001b[39m \u001b[38;5;28mzip\u001b[39m(\u001b[38;5;241m*\u001b[39mindexer)\n\u001b[0;32m-> 1343\u001b[0m     \u001b[38;5;28;43mself\u001b[39;49m\u001b[38;5;241;43m.\u001b[39;49m\u001b[43m_chunk_getitems\u001b[49m\u001b[43m(\u001b[49m\n\u001b[1;32m   1344\u001b[0m \u001b[43m        \u001b[49m\u001b[43mlchunk_coords\u001b[49m\u001b[43m,\u001b[49m\n\u001b[1;32m   1345\u001b[0m \u001b[43m        \u001b[49m\u001b[43mlchunk_selection\u001b[49m\u001b[43m,\u001b[49m\n\u001b[1;32m   1346\u001b[0m \u001b[43m        \u001b[49m\u001b[43mout\u001b[49m\u001b[43m,\u001b[49m\n\u001b[1;32m   1347\u001b[0m \u001b[43m        \u001b[49m\u001b[43mlout_selection\u001b[49m\u001b[43m,\u001b[49m\n\u001b[1;32m   1348\u001b[0m \u001b[43m        \u001b[49m\u001b[43mdrop_axes\u001b[49m\u001b[38;5;241;43m=\u001b[39;49m\u001b[43mindexer\u001b[49m\u001b[38;5;241;43m.\u001b[39;49m\u001b[43mdrop_axes\u001b[49m\u001b[43m,\u001b[49m\n\u001b[1;32m   1349\u001b[0m \u001b[43m        \u001b[49m\u001b[43mfields\u001b[49m\u001b[38;5;241;43m=\u001b[39;49m\u001b[43mfields\u001b[49m\u001b[43m,\u001b[49m\n\u001b[1;32m   1350\u001b[0m \u001b[43m    \u001b[49m\u001b[43m)\u001b[49m\n\u001b[1;32m   1351\u001b[0m \u001b[38;5;28;01mif\u001b[39;00m out\u001b[38;5;241m.\u001b[39mshape:\n\u001b[1;32m   1352\u001b[0m     \u001b[38;5;28;01mreturn\u001b[39;00m out\n",
      "File \u001b[0;32m/data/leslie/sarthak/environments/hyena_backup3/lib/python3.11/site-packages/zarr/core.py:2179\u001b[0m, in \u001b[0;36mArray._chunk_getitems\u001b[0;34m(self, lchunk_coords, lchunk_selection, out, lout_selection, drop_axes, fields)\u001b[0m\n\u001b[1;32m   2177\u001b[0m     \u001b[38;5;28;01mif\u001b[39;00m \u001b[38;5;129;01mnot\u001b[39;00m \u001b[38;5;28misinstance\u001b[39m(\u001b[38;5;28mself\u001b[39m\u001b[38;5;241m.\u001b[39m_meta_array, np\u001b[38;5;241m.\u001b[39mndarray):\n\u001b[1;32m   2178\u001b[0m         contexts \u001b[38;5;241m=\u001b[39m ConstantMap(ckeys, constant\u001b[38;5;241m=\u001b[39mContext(meta_array\u001b[38;5;241m=\u001b[39m\u001b[38;5;28mself\u001b[39m\u001b[38;5;241m.\u001b[39m_meta_array))\n\u001b[0;32m-> 2179\u001b[0m     cdatas \u001b[38;5;241m=\u001b[39m \u001b[38;5;28;43mself\u001b[39;49m\u001b[38;5;241;43m.\u001b[39;49m\u001b[43mchunk_store\u001b[49m\u001b[38;5;241;43m.\u001b[39;49m\u001b[43mgetitems\u001b[49m\u001b[43m(\u001b[49m\u001b[43mckeys\u001b[49m\u001b[43m,\u001b[49m\u001b[43m \u001b[49m\u001b[43mcontexts\u001b[49m\u001b[38;5;241;43m=\u001b[39;49m\u001b[43mcontexts\u001b[49m\u001b[43m)\u001b[49m\n\u001b[1;32m   2181\u001b[0m \u001b[38;5;28;01mfor\u001b[39;00m ckey, chunk_select, out_select \u001b[38;5;129;01min\u001b[39;00m \u001b[38;5;28mzip\u001b[39m(ckeys, lchunk_selection, lout_selection):\n\u001b[1;32m   2182\u001b[0m     \u001b[38;5;28;01mif\u001b[39;00m ckey \u001b[38;5;129;01min\u001b[39;00m cdatas:\n",
      "File \u001b[0;32m/data/leslie/sarthak/environments/hyena_backup3/lib/python3.11/site-packages/zarr/_storage/store.py:179\u001b[0m, in \u001b[0;36mBaseStore.getitems\u001b[0;34m(self, keys, contexts)\u001b[0m\n\u001b[1;32m    154\u001b[0m \u001b[38;5;28;01mdef\u001b[39;00m \u001b[38;5;21mgetitems\u001b[39m(\n\u001b[1;32m    155\u001b[0m     \u001b[38;5;28mself\u001b[39m, keys: Sequence[\u001b[38;5;28mstr\u001b[39m], \u001b[38;5;241m*\u001b[39m, contexts: Mapping[\u001b[38;5;28mstr\u001b[39m, Context]\n\u001b[1;32m    156\u001b[0m ) \u001b[38;5;241m-\u001b[39m\u001b[38;5;241m>\u001b[39m Mapping[\u001b[38;5;28mstr\u001b[39m, Any]:\n\u001b[1;32m    157\u001b[0m \u001b[38;5;250m    \u001b[39m\u001b[38;5;124;03m\"\"\"Retrieve data from multiple keys.\u001b[39;00m\n\u001b[1;32m    158\u001b[0m \n\u001b[1;32m    159\u001b[0m \u001b[38;5;124;03m    Parameters\u001b[39;00m\n\u001b[0;32m   (...)\u001b[0m\n\u001b[1;32m    177\u001b[0m \u001b[38;5;124;03m    keys and/or to utilize the contexts.\u001b[39;00m\n\u001b[1;32m    178\u001b[0m \u001b[38;5;124;03m    \"\"\"\u001b[39;00m\n\u001b[0;32m--> 179\u001b[0m     \u001b[38;5;28;01mreturn\u001b[39;00m \u001b[43m{\u001b[49m\u001b[43mk\u001b[49m\u001b[43m:\u001b[49m\u001b[43m \u001b[49m\u001b[38;5;28;43mself\u001b[39;49m\u001b[43m[\u001b[49m\u001b[43mk\u001b[49m\u001b[43m]\u001b[49m\u001b[43m \u001b[49m\u001b[38;5;28;43;01mfor\u001b[39;49;00m\u001b[43m \u001b[49m\u001b[43mk\u001b[49m\u001b[43m \u001b[49m\u001b[38;5;129;43;01min\u001b[39;49;00m\u001b[43m \u001b[49m\u001b[43mkeys\u001b[49m\u001b[43m \u001b[49m\u001b[38;5;28;43;01mif\u001b[39;49;00m\u001b[43m \u001b[49m\u001b[43mk\u001b[49m\u001b[43m \u001b[49m\u001b[38;5;129;43;01min\u001b[39;49;00m\u001b[43m \u001b[49m\u001b[38;5;28;43mself\u001b[39;49m\u001b[43m}\u001b[49m\n",
      "File \u001b[0;32m/data/leslie/sarthak/environments/hyena_backup3/lib/python3.11/site-packages/zarr/_storage/store.py:179\u001b[0m, in \u001b[0;36m<dictcomp>\u001b[0;34m(.0)\u001b[0m\n\u001b[1;32m    154\u001b[0m \u001b[38;5;28;01mdef\u001b[39;00m \u001b[38;5;21mgetitems\u001b[39m(\n\u001b[1;32m    155\u001b[0m     \u001b[38;5;28mself\u001b[39m, keys: Sequence[\u001b[38;5;28mstr\u001b[39m], \u001b[38;5;241m*\u001b[39m, contexts: Mapping[\u001b[38;5;28mstr\u001b[39m, Context]\n\u001b[1;32m    156\u001b[0m ) \u001b[38;5;241m-\u001b[39m\u001b[38;5;241m>\u001b[39m Mapping[\u001b[38;5;28mstr\u001b[39m, Any]:\n\u001b[1;32m    157\u001b[0m \u001b[38;5;250m    \u001b[39m\u001b[38;5;124;03m\"\"\"Retrieve data from multiple keys.\u001b[39;00m\n\u001b[1;32m    158\u001b[0m \n\u001b[1;32m    159\u001b[0m \u001b[38;5;124;03m    Parameters\u001b[39;00m\n\u001b[0;32m   (...)\u001b[0m\n\u001b[1;32m    177\u001b[0m \u001b[38;5;124;03m    keys and/or to utilize the contexts.\u001b[39;00m\n\u001b[1;32m    178\u001b[0m \u001b[38;5;124;03m    \"\"\"\u001b[39;00m\n\u001b[0;32m--> 179\u001b[0m     \u001b[38;5;28;01mreturn\u001b[39;00m {k: \u001b[38;5;28;43mself\u001b[39;49m\u001b[43m[\u001b[49m\u001b[43mk\u001b[49m\u001b[43m]\u001b[49m \u001b[38;5;28;01mfor\u001b[39;00m k \u001b[38;5;129;01min\u001b[39;00m keys \u001b[38;5;28;01mif\u001b[39;00m k \u001b[38;5;129;01min\u001b[39;00m \u001b[38;5;28mself\u001b[39m}\n",
      "File \u001b[0;32m/data/leslie/sarthak/environments/hyena_backup3/lib/python3.11/site-packages/zarr/storage.py:1118\u001b[0m, in \u001b[0;36mDirectoryStore.__getitem__\u001b[0;34m(self, key)\u001b[0m\n\u001b[1;32m   1116\u001b[0m filepath \u001b[38;5;241m=\u001b[39m os\u001b[38;5;241m.\u001b[39mpath\u001b[38;5;241m.\u001b[39mjoin(\u001b[38;5;28mself\u001b[39m\u001b[38;5;241m.\u001b[39mpath, key)\n\u001b[1;32m   1117\u001b[0m \u001b[38;5;28;01mif\u001b[39;00m os\u001b[38;5;241m.\u001b[39mpath\u001b[38;5;241m.\u001b[39misfile(filepath):\n\u001b[0;32m-> 1118\u001b[0m     \u001b[38;5;28;01mreturn\u001b[39;00m \u001b[38;5;28;43mself\u001b[39;49m\u001b[38;5;241;43m.\u001b[39;49m\u001b[43m_fromfile\u001b[49m\u001b[43m(\u001b[49m\u001b[43mfilepath\u001b[49m\u001b[43m)\u001b[49m\n\u001b[1;32m   1119\u001b[0m \u001b[38;5;28;01melse\u001b[39;00m:\n\u001b[1;32m   1120\u001b[0m     \u001b[38;5;28;01mraise\u001b[39;00m \u001b[38;5;167;01mKeyError\u001b[39;00m(key)\n",
      "File \u001b[0;32m/data/leslie/sarthak/environments/hyena_backup3/lib/python3.11/site-packages/zarr/storage.py:1093\u001b[0m, in \u001b[0;36mDirectoryStore._fromfile\u001b[0;34m(fn)\u001b[0m\n\u001b[1;32m   1080\u001b[0m \u001b[38;5;250m\u001b[39m\u001b[38;5;124;03m\"\"\"Read data from a file\u001b[39;00m\n\u001b[1;32m   1081\u001b[0m \n\u001b[1;32m   1082\u001b[0m \u001b[38;5;124;03mParameters\u001b[39;00m\n\u001b[0;32m   (...)\u001b[0m\n\u001b[1;32m   1090\u001b[0m \u001b[38;5;124;03mfile reading logic.\u001b[39;00m\n\u001b[1;32m   1091\u001b[0m \u001b[38;5;124;03m\"\"\"\u001b[39;00m\n\u001b[1;32m   1092\u001b[0m \u001b[38;5;28;01mwith\u001b[39;00m \u001b[38;5;28mopen\u001b[39m(fn, \u001b[38;5;124m\"\u001b[39m\u001b[38;5;124mrb\u001b[39m\u001b[38;5;124m\"\u001b[39m) \u001b[38;5;28;01mas\u001b[39;00m f:\n\u001b[0;32m-> 1093\u001b[0m     \u001b[38;5;28;01mreturn\u001b[39;00m f\u001b[38;5;241m.\u001b[39mread()\n",
      "\u001b[0;31mKeyboardInterrupt\u001b[0m: "
     ]
    }
   ],
   "source": [
    "# final test is compar it to the dataset class and see if it aligns there too!!\n",
    "#first let's see the zarr speed\n",
    "import zarr\n",
    "from tqdm import tqdm\n",
    "filename = '/data/leslie/sarthak/data/enformer/data/test_label.zarr'\n",
    "test_zarr = zarr.open(filename, mode='r')['labels']\n",
    "for i in tqdm(range(1000)):\n",
    "    test = test_zarr[i]\n",
    "#this one is twice as fast, that's fine!"
   ]
  },
  {
   "cell_type": "code",
   "execution_count": 3,
   "metadata": {},
   "outputs": [
    {
     "name": "stderr",
     "output_type": "stream",
     "text": [
      "2024-08-02 11:08:33.732266: I tensorflow/core/util/port.cc:153] oneDNN custom operations are on. You may see slightly different numerical results due to floating-point round-off errors from different computation orders. To turn them off, set the environment variable `TF_ENABLE_ONEDNN_OPTS=0`.\n",
      "2024-08-02 11:08:33.740712: I external/local_xla/xla/tsl/cuda/cudart_stub.cc:32] Could not find cuda drivers on your machine, GPU will not be used.\n",
      "2024-08-02 11:08:37.363545: I external/local_xla/xla/tsl/cuda/cudart_stub.cc:32] Could not find cuda drivers on your machine, GPU will not be used.\n",
      "2024-08-02 11:08:38.055862: E external/local_xla/xla/stream_executor/cuda/cuda_fft.cc:485] Unable to register cuFFT factory: Attempting to register factory for plugin cuFFT when one has already been registered\n",
      "2024-08-02 11:08:39.179967: E external/local_xla/xla/stream_executor/cuda/cuda_dnn.cc:8454] Unable to register cuDNN factory: Attempting to register factory for plugin cuDNN when one has already been registered\n",
      "2024-08-02 11:08:39.202306: E external/local_xla/xla/stream_executor/cuda/cuda_blas.cc:1452] Unable to register cuBLAS factory: Attempting to register factory for plugin cuBLAS when one has already been registered\n",
      "2024-08-02 11:08:39.961954: I tensorflow/core/platform/cpu_feature_guard.cc:210] This TensorFlow binary is optimized to use available CPU instructions in performance-critical operations.\n",
      "To enable the following instructions: AVX2 AVX512F AVX512_VNNI FMA, in other operations, rebuild TensorFlow with the appropriate compiler flags.\n",
      "2024-08-02 11:09:18.114063: W tensorflow/compiler/tf2tensorrt/utils/py_utils.cc:38] TF-TRT Warning: Could not find TensorRT\n",
      "2024-08-02 11:10:15.811264: W tensorflow/core/common_runtime/gpu/gpu_device.cc:2343] Cannot dlopen some GPU libraries. Please make sure the missing libraries mentioned above are installed properly if you would like to use GPU. Follow the guide at https://www.tensorflow.org/install/gpu for how to download and setup the required libraries for your platform.\n",
      "Skipping registering GPU devices...\n"
     ]
    }
   ],
   "source": [
    "import glob\n",
    "import json\n",
    "import functools\n",
    "import os\n",
    "import tensorflow as tf\n",
    "import numpy as np\n",
    "import pandas as pd\n",
    "from tqdm import tqdm\n",
    "import numpy as np\n",
    "# import h5py\n",
    "import zarr\n",
    "\n",
    "def organism_path(organism):\n",
    "  return os.path.join('/data/leslie/sarthak/data/enformer/data/', organism) #just leads to the organism path, quite easy\n",
    "\n",
    "\n",
    "def get_dataset(organism, subset, num_threads=8): #this gets the data and deserializes it\n",
    "  metadata = get_metadata(organism)\n",
    "  dataset = tf.data.TFRecordDataset(tfrecord_files(organism, subset),\n",
    "                                    compression_type='ZLIB',\n",
    "                                    num_parallel_reads=num_threads)\n",
    "  dataset = dataset.map(functools.partial(deserialize, metadata=metadata),\n",
    "                        num_parallel_calls=num_threads)\n",
    "  return dataset\n",
    "\n",
    "\n",
    "def get_metadata(organism):\n",
    "  # Keys:\n",
    "  # num_targets, train_seqs, valid_seqs, test_seqs, seq_length,\n",
    "  # pool_width, crop_bp, target_length\n",
    "  path = os.path.join(organism_path(organism), 'statistics.json')\n",
    "  with tf.io.gfile.GFile(path, 'r') as f:\n",
    "    return json.load(f)\n",
    "\n",
    "\n",
    "def tfrecord_files(organism, subset): #this is the function that gets the TFR files, gets all of them and sorts them\n",
    "  # Sort the values by int(*).\n",
    "  return sorted(tf.io.gfile.glob(os.path.join(\n",
    "      organism_path(organism), 'tfrecords', f'{subset}-*.tfr'\n",
    "  )), key=lambda x: int(x.split('-')[-1].split('.')[0]))\n",
    "\n",
    "\n",
    "def deserialize(serialized_example, metadata):\n",
    "  \"\"\"Deserialize bytes stored in TFRecordFile.\"\"\"\n",
    "  feature_map = {\n",
    "      'sequence': tf.io.FixedLenFeature([], tf.string),\n",
    "      'target': tf.io.FixedLenFeature([], tf.string),\n",
    "  }\n",
    "  example = tf.io.parse_example(serialized_example, feature_map)\n",
    "  sequence = tf.io.decode_raw(example['sequence'], tf.bool)\n",
    "  sequence = tf.reshape(sequence, (metadata['seq_length'], 4))\n",
    "  sequence = tf.cast(sequence, tf.float32)\n",
    "\n",
    "  target = tf.io.decode_raw(example['target'], tf.float16)\n",
    "  target = tf.reshape(target,\n",
    "                      (metadata['target_length'], metadata['num_targets']))\n",
    "  target = tf.cast(target, tf.float32)\n",
    "\n",
    "  return {'sequence': sequence,\n",
    "          'target': target}\n",
    "\n",
    "def get_targets(organism):\n",
    "  targets_txt = f'https://raw.githubusercontent.com/calico/basenji/master/manuscripts/cross2020/targets_{organism}.txt'\n",
    "  return pd.read_csv(targets_txt, sep='\\t')\n",
    "\n",
    "dataset = get_dataset('human', 'test')"
   ]
  },
  {
   "cell_type": "code",
   "execution_count": 5,
   "metadata": {},
   "outputs": [
    {
     "name": "stdout",
     "output_type": "stream",
     "text": [
      "{'sequence': <tf.Tensor: shape=(131072, 4), dtype=float32, numpy=\n",
      "array([[0., 0., 0., 1.],\n",
      "       [1., 0., 0., 0.],\n",
      "       [0., 0., 0., 1.],\n",
      "       ...,\n",
      "       [0., 0., 1., 0.],\n",
      "       [1., 0., 0., 0.],\n",
      "       [0., 0., 1., 0.]], dtype=float32)>, 'target': <tf.Tensor: shape=(896, 5313), dtype=float32, numpy=\n",
      "array([[0.04208374, 0.04983521, 0.01158905, ..., 0.        , 0.        ,\n",
      "        0.        ],\n",
      "       [0.05300903, 0.04168701, 0.04956055, ..., 0.        , 0.        ,\n",
      "        0.        ],\n",
      "       [0.05258179, 0.0109787 , 0.01287842, ..., 0.        , 0.        ,\n",
      "        0.        ],\n",
      "       ...,\n",
      "       [0.09313965, 0.15600586, 0.32202148, ..., 0.        , 0.        ,\n",
      "        0.        ],\n",
      "       [0.07489014, 0.08380127, 0.23303223, ..., 0.        , 0.        ,\n",
      "        0.        ],\n",
      "       [0.11328125, 0.13024902, 0.16992188, ..., 0.        , 0.        ,\n",
      "        0.        ]], dtype=float32)>}\n"
     ]
    }
   ],
   "source": [
    "it = iter(dataset)\n",
    "print(next(it))"
   ]
  },
  {
   "cell_type": "code",
   "execution_count": 6,
   "metadata": {},
   "outputs": [
    {
     "name": "stdout",
     "output_type": "stream",
     "text": [
      "[[0.04208374 0.04983521 0.01158905 ... 0.         0.         0.        ]\n",
      " [0.05300903 0.04168701 0.04956055 ... 0.         0.         0.        ]\n",
      " [0.05258179 0.0109787  0.01287842 ... 0.         0.         0.        ]\n",
      " ...\n",
      " [0.09313965 0.15600586 0.32202148 ... 0.         0.         0.        ]\n",
      " [0.07489014 0.08380127 0.23303223 ... 0.         0.         0.        ]\n",
      " [0.11328125 0.13024902 0.16992188 ... 0.         0.         0.        ]]\n"
     ]
    }
   ],
   "source": [
    "print(test_zarr[0])"
   ]
  },
  {
   "cell_type": "code",
   "execution_count": 7,
   "metadata": {},
   "outputs": [
    {
     "name": "stderr",
     "output_type": "stream",
     "text": [
      "  0%|          | 4/1000 [00:01<06:50,  2.42it/s]\n"
     ]
    },
    {
     "ename": "AssertionError",
     "evalue": "",
     "output_type": "error",
     "traceback": [
      "\u001b[0;31m---------------------------------------------------------------------------\u001b[0m",
      "\u001b[0;31mAssertionError\u001b[0m                            Traceback (most recent call last)",
      "Cell \u001b[0;32mIn[7], line 4\u001b[0m\n\u001b[1;32m      2\u001b[0m \u001b[38;5;28;01mfor\u001b[39;00m i \u001b[38;5;129;01min\u001b[39;00m tqdm(\u001b[38;5;28mrange\u001b[39m(\u001b[38;5;241m1000\u001b[39m)):\n\u001b[1;32m      3\u001b[0m     data \u001b[38;5;241m=\u001b[39m \u001b[38;5;28mnext\u001b[39m(it)\n\u001b[0;32m----> 4\u001b[0m     \u001b[38;5;28;01massert\u001b[39;00m np\u001b[38;5;241m.\u001b[39mallclose(data[\u001b[38;5;124m'\u001b[39m\u001b[38;5;124mtarget\u001b[39m\u001b[38;5;124m'\u001b[39m], test_zarr[i])\n",
      "\u001b[0;31mAssertionError\u001b[0m: "
     ]
    }
   ],
   "source": [
    "it = iter(dataset)\n",
    "for i in tqdm(range(1000)):\n",
    "    data = next(it)\n",
    "    assert np.allclose(data['target'], test_zarr[i])"
   ]
  },
  {
   "cell_type": "code",
   "execution_count": 8,
   "metadata": {},
   "outputs": [
    {
     "data": {
      "text/plain": [
       "<tf.Tensor: shape=(896, 5313), dtype=float32, numpy=\n",
       "array([[0.03903198, 0.0092926 , 0.1381836 , ..., 0.        , 0.        ,\n",
       "        0.        ],\n",
       "       [0.00475693, 0.        , 0.01335907, ..., 0.        , 0.        ,\n",
       "        0.        ],\n",
       "       [0.01573181, 0.02508545, 0.01528931, ..., 0.        , 0.        ,\n",
       "        0.        ],\n",
       "       ...,\n",
       "       [0.04394531, 0.02938843, 0.00434494, ..., 0.27856445, 0.        ,\n",
       "        0.0430603 ],\n",
       "       [0.00847626, 0.        , 0.        , ..., 0.        , 0.        ,\n",
       "        0.        ],\n",
       "       [0.0479126 , 0.03167725, 0.04071045, ..., 0.        , 0.        ,\n",
       "        0.        ]], dtype=float32)>"
      ]
     },
     "execution_count": 8,
     "metadata": {},
     "output_type": "execute_result"
    }
   ],
   "source": [
    "data['target']"
   ]
  },
  {
   "cell_type": "code",
   "execution_count": 10,
   "metadata": {},
   "outputs": [
    {
     "data": {
      "text/plain": [
       "array([[0.03869629, 0.00365257, 0.        , ..., 0.        , 0.        ,\n",
       "        0.        ],\n",
       "       [0.03961182, 0.04876709, 0.00450516, ..., 0.        , 0.        ,\n",
       "        0.        ],\n",
       "       [0.04922485, 0.08099365, 0.01802063, ..., 0.        , 0.        ,\n",
       "        0.09619141],\n",
       "       ...,\n",
       "       [0.04544067, 0.08990479, 0.07336426, ..., 0.        , 0.        ,\n",
       "        0.        ],\n",
       "       [0.05267334, 0.05166626, 0.        , ..., 0.        , 0.        ,\n",
       "        0.11645508],\n",
       "       [0.08911133, 0.04251099, 0.06695557, ..., 0.        , 0.        ,\n",
       "        0.        ]], dtype=float32)"
      ]
     },
     "execution_count": 10,
     "metadata": {},
     "output_type": "execute_result"
    }
   ],
   "source": [
    "test_zarr[i]"
   ]
  },
  {
   "cell_type": "code",
   "execution_count": 11,
   "metadata": {},
   "outputs": [
    {
     "data": {
      "text/plain": [
       "(1937, 896, 5313)"
      ]
     },
     "execution_count": 11,
     "metadata": {},
     "output_type": "execute_result"
    }
   ],
   "source": [
    "#why isi this one different??\n",
    "test_zarr.shape"
   ]
  },
  {
   "cell_type": "code",
   "execution_count": 12,
   "metadata": {},
   "outputs": [
    {
     "data": {
      "text/plain": [
       "array([[0.03869629, 0.00365257, 0.        , ..., 0.        , 0.        ,\n",
       "        0.        ],\n",
       "       [0.03961182, 0.04876709, 0.00450516, ..., 0.        , 0.        ,\n",
       "        0.        ],\n",
       "       [0.04922485, 0.08099365, 0.01802063, ..., 0.        , 0.        ,\n",
       "        0.09619141],\n",
       "       ...,\n",
       "       [0.04544067, 0.08990479, 0.07336426, ..., 0.        , 0.        ,\n",
       "        0.        ],\n",
       "       [0.05267334, 0.05166626, 0.        , ..., 0.        , 0.        ,\n",
       "        0.11645508],\n",
       "       [0.08911133, 0.04251099, 0.06695557, ..., 0.        , 0.        ,\n",
       "        0.        ]], dtype=float32)"
      ]
     },
     "execution_count": 12,
     "metadata": {},
     "output_type": "execute_result"
    }
   ],
   "source": [
    "#load in labels h5\n",
    "filename = '/data/leslie/sarthak/data/enformer/data/test_label.h5'\n",
    "labels_h5 = h5py.File(filename, 'r')['labels']\n",
    "labels_h5[i]"
   ]
  },
  {
   "cell_type": "code",
   "execution_count": 13,
   "metadata": {},
   "outputs": [
    {
     "data": {
      "text/plain": [
       "['/data/leslie/sarthak/data/enformer/data/human/tfrecords/test-0-0.tfr',\n",
       " '/data/leslie/sarthak/data/enformer/data/human/tfrecords/test-0-1.tfr',\n",
       " '/data/leslie/sarthak/data/enformer/data/human/tfrecords/test-0-2.tfr',\n",
       " '/data/leslie/sarthak/data/enformer/data/human/tfrecords/test-0-3.tfr',\n",
       " '/data/leslie/sarthak/data/enformer/data/human/tfrecords/test-0-4.tfr',\n",
       " '/data/leslie/sarthak/data/enformer/data/human/tfrecords/test-0-5.tfr',\n",
       " '/data/leslie/sarthak/data/enformer/data/human/tfrecords/test-0-6.tfr',\n",
       " '/data/leslie/sarthak/data/enformer/data/human/tfrecords/test-0-7.tfr']"
      ]
     },
     "execution_count": 13,
     "metadata": {},
     "output_type": "execute_result"
    }
   ],
   "source": [
    "#check tfrecord files\n",
    "tfrecord_files('human', 'test')"
   ]
  },
  {
   "cell_type": "code",
   "execution_count": 18,
   "metadata": {},
   "outputs": [
    {
     "name": "stderr",
     "output_type": "stream",
     "text": [
      "\n",
      "\u001b[A\n",
      "\u001b[A\n",
      "\u001b[A\n",
      "\u001b[A\n",
      "\u001b[A\n",
      "\u001b[A\n",
      "\u001b[A\n",
      "\u001b[A\n",
      "\u001b[A\n",
      "\u001b[A\n",
      "\u001b[A\n",
      "\u001b[A\n",
      "\u001b[A\n",
      "\u001b[A\n",
      "\u001b[A\n",
      "\u001b[A\n",
      "\u001b[A\n",
      "\u001b[A\n",
      "\u001b[A\n",
      "\u001b[A\n",
      "\u001b[A\n",
      "\u001b[A\n",
      "\u001b[A\n",
      "\u001b[A\n",
      "\u001b[A\n",
      "\u001b[A\n",
      "\u001b[A\n",
      "\u001b[A\n",
      "\u001b[A\n",
      "\u001b[A\n",
      "\u001b[A\n",
      "\u001b[A\n",
      "\u001b[A\n",
      "  3%|▎         | 33/1000 [00:10<05:18,  3.04it/s]\n"
     ]
    },
    {
     "ename": "KeyboardInterrupt",
     "evalue": "",
     "output_type": "error",
     "traceback": [
      "\u001b[0;31m---------------------------------------------------------------------------\u001b[0m",
      "\u001b[0;31mKeyboardInterrupt\u001b[0m                         Traceback (most recent call last)",
      "Cell \u001b[0;32mIn[18], line 5\u001b[0m\n\u001b[1;32m      3\u001b[0m \u001b[38;5;28;01mfor\u001b[39;00m i \u001b[38;5;129;01min\u001b[39;00m tqdm(\u001b[38;5;28mrange\u001b[39m(\u001b[38;5;241m1000\u001b[39m)):\n\u001b[1;32m      4\u001b[0m     data \u001b[38;5;241m=\u001b[39m \u001b[38;5;28mnext\u001b[39m(it)\n\u001b[0;32m----> 5\u001b[0m     \u001b[38;5;28;01massert\u001b[39;00m np\u001b[38;5;241m.\u001b[39mallclose(data[\u001b[38;5;124m'\u001b[39m\u001b[38;5;124mtarget\u001b[39m\u001b[38;5;124m'\u001b[39m], \u001b[43mtest_zarr\u001b[49m\u001b[43m[\u001b[49m\u001b[43mi\u001b[49m\u001b[43m]\u001b[49m)\n",
      "File \u001b[0;32m/data/leslie/sarthak/environments/hyena_backup3/lib/python3.11/site-packages/zarr/core.py:800\u001b[0m, in \u001b[0;36mArray.__getitem__\u001b[0;34m(self, selection)\u001b[0m\n\u001b[1;32m    798\u001b[0m     result \u001b[38;5;241m=\u001b[39m \u001b[38;5;28mself\u001b[39m\u001b[38;5;241m.\u001b[39mget_orthogonal_selection(pure_selection, fields\u001b[38;5;241m=\u001b[39mfields)\n\u001b[1;32m    799\u001b[0m \u001b[38;5;28;01melse\u001b[39;00m:\n\u001b[0;32m--> 800\u001b[0m     result \u001b[38;5;241m=\u001b[39m \u001b[38;5;28;43mself\u001b[39;49m\u001b[38;5;241;43m.\u001b[39;49m\u001b[43mget_basic_selection\u001b[49m\u001b[43m(\u001b[49m\u001b[43mpure_selection\u001b[49m\u001b[43m,\u001b[49m\u001b[43m \u001b[49m\u001b[43mfields\u001b[49m\u001b[38;5;241;43m=\u001b[39;49m\u001b[43mfields\u001b[49m\u001b[43m)\u001b[49m\n\u001b[1;32m    801\u001b[0m \u001b[38;5;28;01mreturn\u001b[39;00m result\n",
      "File \u001b[0;32m/data/leslie/sarthak/environments/hyena_backup3/lib/python3.11/site-packages/zarr/core.py:926\u001b[0m, in \u001b[0;36mArray.get_basic_selection\u001b[0;34m(self, selection, out, fields)\u001b[0m\n\u001b[1;32m    924\u001b[0m     \u001b[38;5;28;01mreturn\u001b[39;00m \u001b[38;5;28mself\u001b[39m\u001b[38;5;241m.\u001b[39m_get_basic_selection_zd(selection\u001b[38;5;241m=\u001b[39mselection, out\u001b[38;5;241m=\u001b[39mout, fields\u001b[38;5;241m=\u001b[39mfields)\n\u001b[1;32m    925\u001b[0m \u001b[38;5;28;01melse\u001b[39;00m:\n\u001b[0;32m--> 926\u001b[0m     \u001b[38;5;28;01mreturn\u001b[39;00m \u001b[38;5;28;43mself\u001b[39;49m\u001b[38;5;241;43m.\u001b[39;49m\u001b[43m_get_basic_selection_nd\u001b[49m\u001b[43m(\u001b[49m\u001b[43mselection\u001b[49m\u001b[38;5;241;43m=\u001b[39;49m\u001b[43mselection\u001b[49m\u001b[43m,\u001b[49m\u001b[43m \u001b[49m\u001b[43mout\u001b[49m\u001b[38;5;241;43m=\u001b[39;49m\u001b[43mout\u001b[49m\u001b[43m,\u001b[49m\u001b[43m \u001b[49m\u001b[43mfields\u001b[49m\u001b[38;5;241;43m=\u001b[39;49m\u001b[43mfields\u001b[49m\u001b[43m)\u001b[49m\n",
      "File \u001b[0;32m/data/leslie/sarthak/environments/hyena_backup3/lib/python3.11/site-packages/zarr/core.py:968\u001b[0m, in \u001b[0;36mArray._get_basic_selection_nd\u001b[0;34m(self, selection, out, fields)\u001b[0m\n\u001b[1;32m    962\u001b[0m \u001b[38;5;28;01mdef\u001b[39;00m \u001b[38;5;21m_get_basic_selection_nd\u001b[39m(\u001b[38;5;28mself\u001b[39m, selection, out\u001b[38;5;241m=\u001b[39m\u001b[38;5;28;01mNone\u001b[39;00m, fields\u001b[38;5;241m=\u001b[39m\u001b[38;5;28;01mNone\u001b[39;00m):\n\u001b[1;32m    963\u001b[0m     \u001b[38;5;66;03m# implementation of basic selection for array with at least one dimension\u001b[39;00m\n\u001b[1;32m    964\u001b[0m \n\u001b[1;32m    965\u001b[0m     \u001b[38;5;66;03m# setup indexer\u001b[39;00m\n\u001b[1;32m    966\u001b[0m     indexer \u001b[38;5;241m=\u001b[39m BasicIndexer(selection, \u001b[38;5;28mself\u001b[39m)\n\u001b[0;32m--> 968\u001b[0m     \u001b[38;5;28;01mreturn\u001b[39;00m \u001b[38;5;28;43mself\u001b[39;49m\u001b[38;5;241;43m.\u001b[39;49m\u001b[43m_get_selection\u001b[49m\u001b[43m(\u001b[49m\u001b[43mindexer\u001b[49m\u001b[38;5;241;43m=\u001b[39;49m\u001b[43mindexer\u001b[49m\u001b[43m,\u001b[49m\u001b[43m \u001b[49m\u001b[43mout\u001b[49m\u001b[38;5;241;43m=\u001b[39;49m\u001b[43mout\u001b[49m\u001b[43m,\u001b[49m\u001b[43m \u001b[49m\u001b[43mfields\u001b[49m\u001b[38;5;241;43m=\u001b[39;49m\u001b[43mfields\u001b[49m\u001b[43m)\u001b[49m\n",
      "File \u001b[0;32m/data/leslie/sarthak/environments/hyena_backup3/lib/python3.11/site-packages/zarr/core.py:1343\u001b[0m, in \u001b[0;36mArray._get_selection\u001b[0;34m(self, indexer, out, fields)\u001b[0m\n\u001b[1;32m   1340\u001b[0m \u001b[38;5;28;01mif\u001b[39;00m math\u001b[38;5;241m.\u001b[39mprod(out_shape) \u001b[38;5;241m>\u001b[39m \u001b[38;5;241m0\u001b[39m:\n\u001b[1;32m   1341\u001b[0m     \u001b[38;5;66;03m# allow storage to get multiple items at once\u001b[39;00m\n\u001b[1;32m   1342\u001b[0m     lchunk_coords, lchunk_selection, lout_selection \u001b[38;5;241m=\u001b[39m \u001b[38;5;28mzip\u001b[39m(\u001b[38;5;241m*\u001b[39mindexer)\n\u001b[0;32m-> 1343\u001b[0m     \u001b[38;5;28;43mself\u001b[39;49m\u001b[38;5;241;43m.\u001b[39;49m\u001b[43m_chunk_getitems\u001b[49m\u001b[43m(\u001b[49m\n\u001b[1;32m   1344\u001b[0m \u001b[43m        \u001b[49m\u001b[43mlchunk_coords\u001b[49m\u001b[43m,\u001b[49m\n\u001b[1;32m   1345\u001b[0m \u001b[43m        \u001b[49m\u001b[43mlchunk_selection\u001b[49m\u001b[43m,\u001b[49m\n\u001b[1;32m   1346\u001b[0m \u001b[43m        \u001b[49m\u001b[43mout\u001b[49m\u001b[43m,\u001b[49m\n\u001b[1;32m   1347\u001b[0m \u001b[43m        \u001b[49m\u001b[43mlout_selection\u001b[49m\u001b[43m,\u001b[49m\n\u001b[1;32m   1348\u001b[0m \u001b[43m        \u001b[49m\u001b[43mdrop_axes\u001b[49m\u001b[38;5;241;43m=\u001b[39;49m\u001b[43mindexer\u001b[49m\u001b[38;5;241;43m.\u001b[39;49m\u001b[43mdrop_axes\u001b[49m\u001b[43m,\u001b[49m\n\u001b[1;32m   1349\u001b[0m \u001b[43m        \u001b[49m\u001b[43mfields\u001b[49m\u001b[38;5;241;43m=\u001b[39;49m\u001b[43mfields\u001b[49m\u001b[43m,\u001b[49m\n\u001b[1;32m   1350\u001b[0m \u001b[43m    \u001b[49m\u001b[43m)\u001b[49m\n\u001b[1;32m   1351\u001b[0m \u001b[38;5;28;01mif\u001b[39;00m out\u001b[38;5;241m.\u001b[39mshape:\n\u001b[1;32m   1352\u001b[0m     \u001b[38;5;28;01mreturn\u001b[39;00m out\n",
      "File \u001b[0;32m/data/leslie/sarthak/environments/hyena_backup3/lib/python3.11/site-packages/zarr/core.py:2183\u001b[0m, in \u001b[0;36mArray._chunk_getitems\u001b[0;34m(self, lchunk_coords, lchunk_selection, out, lout_selection, drop_axes, fields)\u001b[0m\n\u001b[1;32m   2181\u001b[0m \u001b[38;5;28;01mfor\u001b[39;00m ckey, chunk_select, out_select \u001b[38;5;129;01min\u001b[39;00m \u001b[38;5;28mzip\u001b[39m(ckeys, lchunk_selection, lout_selection):\n\u001b[1;32m   2182\u001b[0m     \u001b[38;5;28;01mif\u001b[39;00m ckey \u001b[38;5;129;01min\u001b[39;00m cdatas:\n\u001b[0;32m-> 2183\u001b[0m         \u001b[38;5;28;43mself\u001b[39;49m\u001b[38;5;241;43m.\u001b[39;49m\u001b[43m_process_chunk\u001b[49m\u001b[43m(\u001b[49m\n\u001b[1;32m   2184\u001b[0m \u001b[43m            \u001b[49m\u001b[43mout\u001b[49m\u001b[43m,\u001b[49m\n\u001b[1;32m   2185\u001b[0m \u001b[43m            \u001b[49m\u001b[43mcdatas\u001b[49m\u001b[43m[\u001b[49m\u001b[43mckey\u001b[49m\u001b[43m]\u001b[49m\u001b[43m,\u001b[49m\n\u001b[1;32m   2186\u001b[0m \u001b[43m            \u001b[49m\u001b[43mchunk_select\u001b[49m\u001b[43m,\u001b[49m\n\u001b[1;32m   2187\u001b[0m \u001b[43m            \u001b[49m\u001b[43mdrop_axes\u001b[49m\u001b[43m,\u001b[49m\n\u001b[1;32m   2188\u001b[0m \u001b[43m            \u001b[49m\u001b[43mout_is_ndarray\u001b[49m\u001b[43m,\u001b[49m\n\u001b[1;32m   2189\u001b[0m \u001b[43m            \u001b[49m\u001b[43mfields\u001b[49m\u001b[43m,\u001b[49m\n\u001b[1;32m   2190\u001b[0m \u001b[43m            \u001b[49m\u001b[43mout_select\u001b[49m\u001b[43m,\u001b[49m\n\u001b[1;32m   2191\u001b[0m \u001b[43m            \u001b[49m\u001b[43mpartial_read_decode\u001b[49m\u001b[38;5;241;43m=\u001b[39;49m\u001b[43mpartial_read_decode\u001b[49m\u001b[43m,\u001b[49m\n\u001b[1;32m   2192\u001b[0m \u001b[43m        \u001b[49m\u001b[43m)\u001b[49m\n\u001b[1;32m   2193\u001b[0m     \u001b[38;5;28;01melse\u001b[39;00m:\n\u001b[1;32m   2194\u001b[0m         \u001b[38;5;66;03m# check exception type\u001b[39;00m\n\u001b[1;32m   2195\u001b[0m         \u001b[38;5;28;01mif\u001b[39;00m \u001b[38;5;28mself\u001b[39m\u001b[38;5;241m.\u001b[39m_fill_value \u001b[38;5;129;01mis\u001b[39;00m \u001b[38;5;129;01mnot\u001b[39;00m \u001b[38;5;28;01mNone\u001b[39;00m:\n",
      "File \u001b[0;32m/data/leslie/sarthak/environments/hyena_backup3/lib/python3.11/site-packages/zarr/core.py:2096\u001b[0m, in \u001b[0;36mArray._process_chunk\u001b[0;34m(self, out, cdata, chunk_selection, drop_axes, out_is_ndarray, fields, out_selection, partial_read_decode)\u001b[0m\n\u001b[1;32m   2094\u001b[0m \u001b[38;5;28;01mexcept\u001b[39;00m ArrayIndexError:\n\u001b[1;32m   2095\u001b[0m     cdata \u001b[38;5;241m=\u001b[39m cdata\u001b[38;5;241m.\u001b[39mread_full()\n\u001b[0;32m-> 2096\u001b[0m chunk \u001b[38;5;241m=\u001b[39m \u001b[38;5;28;43mself\u001b[39;49m\u001b[38;5;241;43m.\u001b[39;49m\u001b[43m_decode_chunk\u001b[49m\u001b[43m(\u001b[49m\u001b[43mcdata\u001b[49m\u001b[43m)\u001b[49m\n\u001b[1;32m   2098\u001b[0m \u001b[38;5;66;03m# select data from chunk\u001b[39;00m\n\u001b[1;32m   2099\u001b[0m \u001b[38;5;28;01mif\u001b[39;00m fields:\n",
      "File \u001b[0;32m/data/leslie/sarthak/environments/hyena_backup3/lib/python3.11/site-packages/zarr/core.py:2352\u001b[0m, in \u001b[0;36mArray._decode_chunk\u001b[0;34m(self, cdata, start, nitems, expected_shape)\u001b[0m\n\u001b[1;32m   2350\u001b[0m         chunk \u001b[38;5;241m=\u001b[39m \u001b[38;5;28mself\u001b[39m\u001b[38;5;241m.\u001b[39m_compressor\u001b[38;5;241m.\u001b[39mdecode_partial(cdata, start, nitems)\n\u001b[1;32m   2351\u001b[0m     \u001b[38;5;28;01melse\u001b[39;00m:\n\u001b[0;32m-> 2352\u001b[0m         chunk \u001b[38;5;241m=\u001b[39m \u001b[38;5;28;43mself\u001b[39;49m\u001b[38;5;241;43m.\u001b[39;49m\u001b[43m_compressor\u001b[49m\u001b[38;5;241;43m.\u001b[39;49m\u001b[43mdecode\u001b[49m\u001b[43m(\u001b[49m\u001b[43mcdata\u001b[49m\u001b[43m)\u001b[49m\n\u001b[1;32m   2353\u001b[0m \u001b[38;5;28;01melse\u001b[39;00m:\n\u001b[1;32m   2354\u001b[0m     chunk \u001b[38;5;241m=\u001b[39m cdata\n",
      "\u001b[0;31mKeyboardInterrupt\u001b[0m: "
     ]
    }
   ],
   "source": [
    "dataset = get_dataset('human', 'test', num_threads=4)\n",
    "it = iter(dataset)\n",
    "for i in tqdm(range(1000)):\n",
    "    data = next(it)\n",
    "    assert np.allclose(data['target'], test_zarr[i])"
   ]
  },
  {
   "cell_type": "code",
   "execution_count": 22,
   "metadata": {},
   "outputs": [
    {
     "data": {
      "text/plain": [
       "(1937, 131072)"
      ]
     },
     "execution_count": 22,
     "metadata": {},
     "output_type": "execute_result"
    }
   ],
   "source": [
    "#so it appears that the threads is a real concern\n",
    "#thankfully it appears it's almost identical between the way it's loaded, but i don't know...\n",
    "seq = np.load('/data/leslie/sarthak/data/enformer/data/test_sequence.npy')\n",
    "seq.shape"
   ]
  },
  {
   "cell_type": "code",
   "execution_count": 26,
   "metadata": {},
   "outputs": [
    {
     "data": {
      "text/plain": [
       "array([[10,  7, 10, ...,  9,  7,  9],\n",
       "       [10,  7,  7, ..., 10,  7, 10],\n",
       "       [10, 10,  8, ...,  7,  7,  9],\n",
       "       ...,\n",
       "       [10,  9,  7, ...,  8, 10, 10],\n",
       "       [10,  8,  7, ...,  9,  8,  8],\n",
       "       [ 7,  8,  8, ..., 10, 10,  9]], dtype=int8)"
      ]
     },
     "execution_count": 26,
     "metadata": {},
     "output_type": "execute_result"
    }
   ],
   "source": [
    "seq = np.load('/data/leslie/sarthak/data/enformer/data/test_seq.npz')\n",
    "seq['sequence_array']"
   ]
  },
  {
   "cell_type": "code",
   "execution_count": 29,
   "metadata": {},
   "outputs": [
    {
     "name": "stdout",
     "output_type": "stream",
     "text": [
      "(131072, 4)\n"
     ]
    },
    {
     "data": {
      "text/plain": [
       "<tf.Tensor: shape=(131072, 4), dtype=float32, numpy=\n",
       "array([[0., 0., 0., 1.],\n",
       "       [1., 0., 0., 0.],\n",
       "       [0., 0., 0., 1.],\n",
       "       ...,\n",
       "       [0., 0., 1., 0.],\n",
       "       [1., 0., 0., 0.],\n",
       "       [0., 0., 1., 0.]], dtype=float32)>"
      ]
     },
     "execution_count": 29,
     "metadata": {},
     "output_type": "execute_result"
    }
   ],
   "source": [
    "a = next(iter(dataset))['sequence']\n",
    "print(a.shape)\n",
    "a"
   ]
  },
  {
   "cell_type": "markdown",
   "metadata": {},
   "source": [
    "# testing sequence"
   ]
  },
  {
   "cell_type": "code",
   "execution_count": 31,
   "metadata": {},
   "outputs": [
    {
     "data": {
      "text/plain": [
       "'TATTTTTTTAAGTTGCCATTTGCTTGATGCTTAAGACCAAATGAAATCACCACAAATAGAATTCATGGAAGGAAGGGCCATCACCGTTTATAGCTTGATTTAAAGTTTTCATGTCTTTCTTCAGAAATTGGTCATGGTTACATCTCATCAGAGCTGCAGCCAGCTGCCCGCTCCTAAGTTGTGCTGCTTATGATGTGGGTGCAGGCAATGACGTCCACTTGACAAAGCTTCTGAATCAGCCATGTCTGGGGAGCAAGAGAACTTGGCACCATTGGTCTTTGGCATGGGCACACATCTGCCTGTGGTGTCCCCATCATGACTTTTTTCAGTAAGGACTCACGCAACAGTAATCAGTGACAGCAGTTCTCAAACCTGGAGAGCAGAAGTGCACAGACTGGTCCCAGATATATTTCCCTGGTCACTTCTTCACTCCTCCAGGCCACTTCTGCCCCACCTTCTGAGCAGAAGCTGCTAAAAAGACAGGATGGACACTCGTTCTGAAGGTGTTTCTCAGCATACGGCAAGCCCTTTGATAGGCAGTAGAGAACTTTGAGCACTTGGCAGGGTCATTTTCTGATTCTTTTTCTTTCTTTCTGTAGCCATTAACATCTGGTAATTTTTGGATTCTCTTTTGCTTCATCCTCATTTGTGGCCTGGACTATGATAAGCAGACACAAGCTAGTAGGACCCATGTACTCCTTCAACATCAAGGAGACCTTCAACATCAAGGTCAAGAGACCTTGAAAAACACCTGCAGCTTTTGCTGCCTGTAAAACAGCATCCAGTGCTTCATAATATAGCCCTAGTTTATCTTCTAATTATATCTTGCCCGTCAATTGACAAACATCAATTGGTGCCTTTTGTGGACACATTCATGATCTCCCTTCCCCAAATATAGGGAACAAGTTTTTTACTTTTTTATTTTCCCCCACCTACACTCCACAGCGCAGAGCACTTACCAGGAAATTATTTAAAGTTCTCAAACAGGGTCTCACTCTGTCGCCCATACTGGAATGTAGTGGCATAATCAGAGCTCACTGCAACCCCAACCTCCTGGGTTCAAGCAATCCTCCCACCTCAGCCCCATGAGTAGCTGGGACTGCAGGCATGCCACCACACCCAGCTAATTTTTAAAATCTTTTGTAGAGATGTGGTCTCGCTATATTGCCCAGGCTTGTCTTGAACTCTTGTCCTCAAACATTTCTCCTACTATAGCCTCGCAAAGTGCTGAGATTACAGGTGTAAGCAACCATGTCCAGCTTTAGCAGGAATTATGATGTGACAAGTTCTGTCTCTGACAGTCCTGCTTCAAGCAGCTAATGAATCCCCTTGTACTATCTGTGATTGGATGAGGACTGTGGAAATGGTGTGGCAACCATAGAATAATGAGAGGTGGCTAACAAGTAAATAGGCTTCAAAATAGCTTGTGCCCATAGATATTTTTACTTGTTCAAACTCCTTCCCAGTTACCTCCTTACCAACGGGGCTCAACATGATGATGTCACTAATGTTGGGAATACTGGCAGCTCAAAGGTAGATTTGCTATAAGTCTCAACTGACATTTTCATTAAAATTCTCACTGAGCTTCAAGCGTCTGATTTCCTGCTCCCTTGGAGAATTATCATGTGTAATCTAAACATGCAAAATGGGGGAAATCCATTCTTTTTACACAATAAACTACTCCGAGCTCCGTGCTCATTGGTAGGGAATACAATATGAGTAAGAAAGGGTCATGTGTGAACAGGGAAAGATGCATGTAAACAGAGGTGTGCTATCAAACATTAAGGATGCAGAGGAAGAAATCATCTATTTTTTTAAAATTCCTTTTCTAGTGGTGGGGACTTGCTGTGTTGCCCAGGCTGGTCTCCAACTCTCAGGCTCAAGCGATCCTCCTCCCTCAGCCTGCCAAGTAACTAGGATTACAGACATGAGCCACCATGTGCAGTGGGAACAGTCTCTTTTATCTGGGGGGGCACTAATTAGGAAAGGTGACTTGACGTTTGACCTTTGTCTTGCAGGATACATAGATTTTCTTTTGATGATGTTGTAGGGAATACTGTGCCTAGAGAGATGCATCCTGAGAAAAGTCATGGCAGAACCCATGAGGCAACCTGGAAATCGCTTGGCATGGCCAGGCAAAGGGGACAAAGAGACACAGAGAAAAGTAAGTATGGAGTGAAACATGGTGCAAGAACATTTAGGGCCTTGTAGGCCAGGCTAAGAAGTTTAGGTGTTATCAGAAGACAAACAGGAGCCACTGGAAAGTTTTTAAATCCAGAGAGATATAATCAGATACTTGTCCTTGAAATATCAACCTTGGAGCCATCTTGAGGAAGGATTGAAGTGATAGAGAGGGCCAGGGAGAGAGGTCACCCTCCTGATTAACAACTTTTCAATAGCTTAAGATAAAATCCAGACTTCTAGCTGGTGCAGTGGCTCCCACCTGTAATCCCAGCACTTTGGGTGGCCTAGATGGGCAGATTACTTGAGGCCAGGAGTTTGAGACCATCCTGGCCAACATAGTGAAACCCCATCTCTACTAAAAATACAAAAAATTAGCCGGCCATGGTGGTGGACGCCTGTAGTCCCAGCTACTCAGGAGGCTGAGGCAGGAGAATGGTGTGAACCCAGGAGGTGGAGCTTGCAGTGATCCGAGATCGTGCCACTGCACTCTAGCCTGGGAAACAGAGCAAGACTCCACCTCAAAAAAAAAAATATATATATAGCCAGGCATGGTAGCATGCACCTGCAGTCCCAGCTACTACTCGGGAGGCTAAGGTGGGAGGATTGCTTAAGCCTGGGAGGTAGAGGCTGCAGTGGGCTGTGATTATACCACTGCACTCCAGCCTGGGCAACAGAATAAGATCTTGTCTCAAAAAAAGAAAATGAGAGAAGGCATGACATGCATAACAGCTTTTAACCTGCTGCACTGAACATGTGAGCAGGAATTTTATCAATATAGTAGGTGCTCTTGAGACCAGGAACCACCTCCACAGTCCAAACAATACAGTTTCCTTTCAGAAGTCTACTCTCTGAGAGTACATTCATACAGGTCCACTTATAGAGTTCCCTATTTTGTCTGTTTATGTAAGTAAAGTGTATTTCAAATAACAATAGGTTCAACTCTTTAATGGAGAAAGGAGAATATAAATAACAATAAAAATTATCTAAAACAATACTACAATGGGCTTTTCTTCCTTCTAGTTTTCTCCCCCTGACCACAGGCTTTATGAAGCATAGTCAAAAGTATATATAGAGAAACAGGAAATGCAAGGGAGAGAAGTTTATGAGGCAAAAAATATATATATTCATGTGTGTGTATATATATATGGGTGTGTGTGTGTGTATATATGTGTGTGTATATATATATATCTTGGTTTAAAAAAATAACCCAGAAGACAAGATATAATCTTTAAAAATTATTTTATTTTTATTAATGATTACGGGTACTTCATAGTGGTACATACTTATGGGGTACATATGATGTTTTTTGTTTTAGAGGTGAGGTCTTGCTGTGTTGCCCAGGCTGGTCTTGAACCCATGGCCTCACGTGATCCGCTCCCCTCAGCCTCTCAAGTAAATGGGACTGCAAGTGAGAGGCACTGTGTTTGGCATCTTGCTTTTTTTGGCTAAACCTTATCTTGTAAGCAGTTTCTTCCATACAGCCTCAGCTTTTTGATGACTGTATGATATTCTTTTCCCAATTATTGAACATTTAGGCCATTTCTAATTTTTCTCTATTTTAAATATATATAATGATTTAAAAAATCATTGTCTATTAGTTTGCTAGGGCTGCCATAACAAAATACAACAGATCTAGGTTGCTTAGGCAACAGAAATTTATTTTCTCACTGTCTGGAGGCTGGAAGTGAAAGATCAGGGTGTGAGCAGGATTAGTTTCTGCTGAGGCCCCTCTCCTCAGCTTGCCATTAGTCACCTTCTCCCTGTGTCCACACTGTCTTTCCTCTATATTTGGGCATCCCTGGTGTTTCTTTGTGTGTTCAAATGTCCTCTTCTTATATAAACACTGCTCAGATTGAATTAGGGCCCATTCTAATAGGCTCTTTTTAATTTAATCATCTCTATAAAGGCCCTGTTTCCAAATACAGTCACATTTTGAGGTACTGGGGTTAGGTTTTCAATATATGAATTGGGGGTTAGGGGGAGGCATAATTCAGCCCCATAACACATTATGTTTAATTTTTTCTCACTTGGGTTTCAGATCATTTTCTTTGCACAGATTCTCAGAGTGGGAATCACTGGATCAAATGATAAAAAATATTGTAAGGCTCTTGAAAACTACTTTCCCAAAGAATATAACAACTGGTACCAAAATAGCCTTGTTTTATTCTGTTCTCACGCTGCTAATAAAGACATACCAGAGACTGGGTAATTTATAAAGGAAAGAGGTTTAATGGACTCACAGTACCACATGGCTGGAGAGGCCTCACAATCATGGTGGAGGGCAAAGAGGAGCAAAGGCACATCTTACATGGTGGCAGGCAAAGAGGGCATGTGCAGGGGAACTGCCCTTTATAAAAGCATCAGATCTAGTGAGACTTATTCGCTATCACAAGAACAACATGGGAAAGACCTGCCCCCATGATTCAGTTACCTCCCACAACATGTAGGGATTATGGGAGCTACAATTCAAGATGAGATTTAGGTGGAGATATAGCCAAACCAAATCAAACCTTCTTAAAATTATTTTAAAATAACTGAATGAATTAACTAAGGATTCTGTTCAGCTGCATATAACAACAACTCATCCACAATGACGTAGCCAAATAGGGGTTTATTTTGTGACTTAAATTAAAGCCCAGGAAGCAGTTTAGAGCTTCCGCAGCAGCTTTGCACAGTATCAATGTTGTAGGCACCTTCTCTGATTCTTCTCTCTGGTCTTCCACCATCATTAGCATGTGGCTGTTATTGCCCTGGCCTGTGCACTTGCTGTTCTCTCTGCCTCTAACTCCCAGACCTCCAGATCTCTATTCAAAAGTCACCTTCTCAATTGGACATTTCCTGGCCACCCTTTCTAAAACTTCACTTTCTCTTCTCCTCCTACCCCCTCTTTTTTTTCCTCCATAGCATTTATTATTATTTAATATACTGTATCTTTTAATTATTCATGTTATTTGTTTCTTTTCTCCTAGAATGGAAGCTTCATAAAGGCTTAGGTTTGTCTGTTTTGTTTATTACTGTGTGTGCACACTCATGCACACATATACAGACACATGTACATACACAGACATGCATACATGTGCAAACACACATGTGTGCCCACACACACAGATACACAGATTTCCACTCTCAGGAAAGGCTAAGCAAGTCCAAACCGACCTTCTCTTCCCCTTCCCTCGCCCCTTCCCCCTCCCTTCCCCATCCCCTCCCCTCCCCTTCCCTTCCTCTCTCTTCCTTCCTCCCTTCCTTTCTTCTTCTCTTCTCTCCCTCTCTTTATCCCTTTCTCCCTCCTTTCCTTTCCTCCCTGCTTCCTTCCCTCCCTTCCTTCCTTCACATTGTGAAGTGGCTTGCCGAAGGTTATGCAGAAAGTTAGTGACAAAGACAGAAGAACCTAAACTCTAGTTTCCCAGTTGCCATTTCTATCATTCCAAAGCAAGAATGTCATTGACTCTTCAGAATTAGCCTAATATGTTTATAAATATACTTTGAGACTAAATTCAGATTTAACAAATCTTTTGAATCCAAATGCTGACTAGGCTACCTTTTAAAATCAGTAGTACAGTATTTCCACATCTTTAGTATATTTTCAGACATTAACTGGGAGGTAGGAGAGTGAGGCTAAAGTATATGTGTGTTCTGCCATGTTTATTCAATTGCTGATGAATCCTGAGCTGAGTTTTCCAAAATTTCCTTACGAGGTAAATTATGATGTATATAGTATATTTTTGTTTGTCTCTTTTTGTTTTTTTAACTATGTATACAGTATGTTAATGTTTGTTTAAAATGTGTGGTAAAAAATGTACTGGAACGTTCTTTTTTATTTTATTGTTATTTTTTAATAGAGATGGGGTTGTGCCATGTTGCCCAGGCTGGTCTCCAATTCTTGGGCTCAAGTGATCCTCCCACACCGGCCCCCAAAGTACTGGGATTACAGGCATAAGCCTCTGTGCCTGGCCAGAATGTTTTTACAGATGCACAAAATATCTCTGGAAGGCAACACAAGAAGCTCTCAAGGGTGAGGTGGGACAATGAATGAATGGCAGGGGCACAGGTGGGAGGGTGACTAGTCACCATAAAACCAACTCTACTTTTGAATGTGGTTGGAAAAGGTTAAAAACAAACTAACAAAAGAACCAAACTCTTAATCTCAATGCACTGTCTCAGTTAGGAAATGCTCATGGTGGCAGATGTGAAATGTATGAGTCCTACCATGTCCCCACATAATGAGGCCCTGTCCACGTTTCTGACCTTAACTCATACACATTTCCCCTTGTGTACTTTGCTCCAGCAACAAAAGTCTTCTTGCTGTTCCTTGACCATGTGGAATGCAGTGCTAAACAGGCCTTCTGGCTTGTGTTCCCTTTACATAGAAACTGCCTCCCCTCGATCTGTGCATGGTTCACTCCTTAACCTCATTCAGGTCTCTGCTCAAATGTCACCTCCTCAGGGGAGTTCTTTTTTAACCTCCACATTTTAAATGCATCTCTGATCTCTCTGTTATTCTCTCCTTGCTGCACTTTTATTTCTAATACTTACCACACCTATGTTGCCTATCTGTTTCCTTATTTACATAAGCTCCACAAGGCAGAGACAGTTTTCTTCACCACTACATCCTGATCACATAGAATAAGGCTTGCCTTGAAAAAGGCATTCCATTTTAGAAACAAGATCTCTGTCACCCAAGTTAGAGATCAGTGGTGCGGTCATAGCTCACTGCAGCCTCAAACTGCTGAGCTCAAGCGATCCTGCCCTGTAGAGATGGGGTCTTGCTATATTGCCCAGGCTGGTCTTGAACTCCTGACTTCACACAATCCTCCAGCCTAGCCTCCCAAAGTGCTGGGATTACAGGCATGGCCACTGTGCCTGGTCTCAAAAAATATTTTTTTGAATAAATTTAAAAATGCACAAATGAATTCTATTAGGGATCTTTTATGCAAGGCAGCATTGAAACTGCCTAGTTGAGGAGGGCAAGTAGGTTTCATTTACTGGCTCTGGCCAACAGAGCTGCTTGGAAAGCTATATTGAGATCTGGAGACTGACTCAGGTGGTAAGAGCCCTGTGATCAATTAGCAAGTTAAATGACAGGCAAAGTGGGGAAAGGATGACCCATGAATCATGTAAACAAAACTCCAGATTATCTAGTAGGATTGGCTAAAGCAGAAGCAGCCAGATTAAGAGCATTATGGCAGAATGTTCGTTTTGAATAATGAACTTAAAGAACATGAATGTATCAAACAAATGGTGAGATTATATCCTTGTGCCACATCTTACACTTCTCTGCCTGCCTATGCTATTTTATGACTAGAGACTCATTGTTCAATGGTTAGGGCCAAATGTTTAGAAAATTTTAAATATCAACGTATTTGTAAGCAAAATTATTTCATTGGCTCCAAAAGTGGTAGAAATTCTATTACAAATCATGGATCTTTAAAATGGAACTTACTTATAATTTAAAATTACAGTAGTATAATAAGTAAGAAAATGTGGATTTTTTTTTTTAATTGGAGACAGGGTCTCACTCTGTCACCCAGGCTGGAGTGCAATGATGCAATCACGGCTCACTGCAGCCCTGACTTCCTGGGCTCAAGTGATCCTCCTGCATCAGCCACACAAAATACTGGTATTACAGGTATGAGGCACTGCATGTGGCCCCCAAATGTGGATTTTTAAAAAGTCAATTAGATTTGGAGCATTAGATGGAACTCTGGGTTACAAAGGACAGAAGCAATTCAATTGGCAAATAGTCTGCAGTAAGATCTGATAGGGCTGGAAATAAACTCTCAAAACCAAATGCCAAAACTCCCTTCCAAGGACAAAGCCCCATACTGATAAGATGCTGGGAAAATAATCCAAGTTGAATGCCACAAAGGCAACCTGGTTCATTCCAGAGGAAGTATAAAGGCATGAATTCAGTCTTTTAAAACATGCTTTTTAGATATTGAGTAATAAACACACAATATAAGTAAAAATTAAAACACTACTGAAATTTGTAGAGACCACAGCTGCTTTTATTAAAGGGCAGAAAAATGTAAATTTAGGAGATCAAGAATATTATTATGAAATAGTTTGCTAACAGGATAGACAAATATTTAAAGGAAAGGAAACTAAAGCAGTATTTAAATCAAAGGAAGTGGCTGATTAGAAGAGACTTCGTAAGAGGCAACTTACTGTATGCTTTTGTTTCCCAGCATTACTCATACCAGGTTGTAGCATGTTTTTGAGAGAGCGGCTGGGATTGAGTATACTCTTGACTTAAATATGTTTGTTTATAAAGACAAATGGAGAAATCTGTTTTTTCTCCTGGATTCTTAGGCACACTTAAGTGAATAAAGAACCTTGACAGTATGCTGTCCCACACGTTTAAGGACAGAAGTTAGTGTAACACATTGTTTTCATATTTCATCTTATCTGTTTTGTAACTGTACTGACTTTTTAACTCCTGACCTTCTGTACTTATTAATGTCAAGTTTTAAGAGTAAAAATTACTGGTATATTAAGCAATTTTTTTCTCATATATTTCTAACTTTATTTTTTGTTATGGGGGACTTTTCCTTATTATAATGATAGCACAAGTGTCTGGAGAAATAAGCAAGATCATAGAGGAGCTTTCTTAATTGACTGAAGCCTTGAATAATTTGAAACCATTTTGAACTACTTGCATCATGGACAGCTCATTATAAATGAAGGCATTAATTTATTGGGTGAGTTTATGTAGAGTTTCAATATAATGATGTAATTGCTCACATTATTGTAAGTTTTAAGACTTCAGTTTTCTTTCAGTAGCAGCATATTTTCATAACATAAAAGTCTATCTTTTCTATTTTTTAAACGGAATGTTTTCACATGTATATGAGTGTGTATAGGTGTAGAAATAGATATAGGTAGCCGGGTGCAGTGGCTCACATCTGTAATCCCAGCACTTTGGGAGACCGAGGCAGGCAGATCACAAGGTCAAGAGATCCAGACCATCCTGGCCAATATGGTGAAAACCTGTCTCTAGGAGAAATACAAAAATTAGCTGGGCATGGTGGTGCGCACCTGTAGCCCCAGCTACTTGTGAGGCTGAGGGAGGAGAATCACTTGAACCCAGGAGATGGAGGTTGTAGTGAGCCGAGATCATCACACCACTGCACTCCAGTCTGGCAACAGAGCAAGACTCCATCTCAATAAATAAATAAATAAATAAATAAATAAATAAATAAATAAGAAAGAAATATAGGCACAGGCAGGTGGTCTTTCAGGTATGTAGTCTTTTTACGTTTGGATATATATCTAACCCATACACTTCAACTTTATATTCTAAATCAATTTAGATTCTGTTACAAGTGACTTTGAAGGATTTTATTGTTTTCTTTTGTAAAAATTAAATTGTGAATGTAACTTAGCTCCAAGTTATGGATATTCCCCACATTATGTGAGAACTAGTAGTCAAGAGGGGAAATCATGCTTTGCAATCATAAGACTAAATTAGAGTCTTGATTCTACAACTTACTAACTTTGGGAGACTAACTTGGGGAAAGTTTCTCTGAGTTATCTTGGAAAAATGAGTGTTAAATGCACTCATGGCTGGGCATGGTGTCTCATGCCTGTAATCCCAGCACTTTGAGAGGCCAAAGCACGTGGATCACTTGAGGTCAGGAGTTTGAGACCAGCCTGGCCAACATGGTGAAACCCCGTTTCTACTAAAAATACAAAAATCAGCCAGGGGTGGTGGCACACACCTGTAGTCCTAGCTATAGCTACTCAAGAGGTTGAGGTTGGTGGATTTCTTGAGCCCAGAAGTTTGAGGCTGTAGTGAGTTATGATTGTGCTACTGCACCCCAGCCTAGGCAACACAGCGAGACTCCATCTCAAAAATAACAACTAAAAAATCACTCTCATCCCTATCTACATCACAAGATTTTTGTGAAGGTTCATGGAGGTGATGTAGACAAAAGCCCTTATAAAACACTGGTTGCATATTTGTAAGCGAATAGGCCTCCAAATGACTGAAGTTGATCTGATGTTAGTACTTAAGGAGTGGTAGGCAGTGTGGCAATCATATATATATATATATATATATATATATATGTGTGTGTGTGTGTGTGTGTATGTATCCCTACACTTTTTAATTCAGATAATAAAATAGACTAGAATGTGAGACATTATATATGTGCATTATATATACATATATTATATATGTATGCATTGCGGGAAGTCAGGGACCCCACATGGAGGGACCAGCTGAAGCCACGGCAGAAGAACATAAATTATGAAGATTTCATGGACATTTATTAGTTCCCCAAATTGATACTTTTGTAATTTCTTACATCTGTCTTTACTGCAATCTCTGAACATAAATTGTGAAGATTTCATGGACATTTATCCCTTCCCCAGTCAATACTCTTGTGATTTCCTATGCCTGTCTTTACTTTAATCTCTTAATCCTGACATCTTTGTAAGCTGAGGATGAATGTCGCCTCAGGACCCTGTGATGATTGCGTTAACTGCACGAATTGTTTGTAGAGCATGAGTATTTGAAAAATATGAAATCTGGGCACCTTAAGAACAGGATAACAGCGATTTTCAGGGAACAAAGGAGATAACCTTGAAGTCTGGCTGCCTGTGGGCAGGCAGGACAGAGTCATATTTCTCTCATTACTGAAAATGGGTAAGATAAATGTCGCTGAATTCTTTTCCCAGTAAGAAATATTAATAATTAACGGCCCTGGGAAAAGAATGCATTCCCAGAGGAGGCCACTGAAATGGCTGCTCTGAGGGTGTCTGCCTTATGCAGATGTAGATAGGGATGAAACACACCCTAGTCTCCTGTAGTGCCCCCAGGCTTGCTACGATTAGGAAATTCTAGTCAGACCGGCTCTCTGCTCTTGAACCTTGTTTATCAATGACAATGCGTGCACAGCTGGACATGGAAGTTTATTAGTGATTCTAGTTTTGCCCTAACCTTCTGCCTTGTCATCTTTTGTTGCCCTTGAAGCATGTGATCTCTGTGACCCACACCCTATTCGTGCACTCCCTCCCCTTTGAAAATTGCTAATAAAAACTTGCTGGTTTTACGGCTCAGGGGGCATCATGGAACCTGCTGACGTGTGATGTCTCCCCCGGGCACCCAGCTTTAAAATTTCTCTCTTTTGTACTCCGTCCCTTTATTTCTCAGACTGGCCGACACTTAGGGAAAATAGAAAAGAACCTATGTGAAATATCGGGGTAAAATTCCCCTGATAGTATGTATATATATAACATCTCACATTCTATTCTTTTTATCTGAATTTTTATGTTTTAAATTTAGCAATCTTTAACTCACTAATCTTGTATTTCAACGTGTCCAAATAACTTTTAAACCCATCCCAATGGGTTCTTAATGAATTTTTAAAATTTCTGTTTAATTGATGCATAAGAATTGTGTATATTTATGGGGTACAATGTGATGTTTTGATGCTGGCTTTGTAAAATGAGTTTAGATGTACTTCAATTTTTTGAAATAGTTTGAGAAGGATTAGTATTAGTTCTTCTATAAATGTTGGTAGAATTCTGCTATGAAGCCATCTGTTCCAGAGCTTTTCTTTGGTGGGAGATTTTGTTATCATTATTATTATTATTGATTCAGTCTCCTTATTCCTTATTTAACGTTTGAATTTTCCATTTCTTTTTTTACTCAGTCTTGGTAGATTGTGTATGTCTAAGAACTTACTTATTTTTTCTGGATTATCGAACTTGATGTGGAACTCTAATTGTTCACAGTAGTCTCATGATATTTTGTATTTTGGTGGTAATATTTGTAACATCTTCTCTTTCATTTCTGATTTTATTTATTTGAGTCTTTTTTCTTTTGTCTTTAGTCTTGCTAAAAGTTTGTCAATTTTGTTTATCTTTTCAAAGAACCACTTGTAGTTTAATTCATCTGTTTTATTGTCTTTATTGTCTCTATTTCATTTATTTCTCCTCTGATATTTCTTATTTCCATACTTCTACTGACTTTAGACTTAGTTTGTTCTTTTTCTAGTTTTTTGATGTGTAATATTATTTATTTGAGATGTTTCTTTTTTGATGTAGGCATTTAATCCTATAAACTTCAAATTTAGAACTACTTTTGCTGCATCCCATAAGTTTTGTTATCCTGTGTTTCCATTTTCATTTGTCTTAAGATATTTTTAAATTTTACTTTTAATTTTTATCTTTGACCCATTTGTTGTTGGTGAGCATGTTGGTTAAGTTCCATGTATTCATGAATTTTCCAAAACTTTTCATGTTACTGATTTCTACTTTTATTCATTTGTGAACAGAAAAGATAGCTGATATGATTTCAAGCTTCCTAAATTTGTTTATACTTGTTTGTGGCCTAACATTCTCCTGGAGAATGTTTCATGTGAACTTTAGAAGAATGTGTATCTTACTGCTGCTGGATTAAATTTTCTGTATTTGTCTATTAGGTCTATTTGGTCTAAAGTGTTGTCCAAATCCATTGTTTCCCTACGGATTTTCTGTCTAGATAATTTATCCATTGTTGAACATGAGTGTCTTGAATTCATCTATCATTATTGTCTTGCAGTGTATCTCATACTTCAGATCTATTAATATTTGCTTTACATAGTTAGGTGCGCCAGTGTTGGGTGCGTACATACTTAAAATTCTTATGTCCTCTTGATGAGTTAACGTCTTTATCATCATATAATGACCTTCTTTGTCTCTTCTTACAGTTTTTGACTTAATTTTATTTTGTCTGATATGAGTATAGTCACTTCTATTTTCTTGTGGTTATCATTTGGCTGGGATACCTTTTTTTAATTATTTCTTTCCTCTCAGTTTATGTGTGCCCTTAAGTCTAAAGTGAATCTCTTGTAGGGAGCATATTATTCAATCTTGTCTTTTTATCCATTCAGCTACTCTATGTCTTTTGATTACAGGTTTTAATCCATTTACATTTGAAGTAGTTATTGACAGGTAAGAACTTACTACTGCCATCTTGCTAATTTTTTTTTTTTTAGTTTTGTAGTTCTTTTGTTTCACTCTTCCAGCCTTGCTGCCTTTTTGTGTGATTTGTTCTATTTCTGTGGTGATATGCTTTGATTCCTTTCTCTTTTGTGTATCTACTAGAGATTTTTTTCTTTGTGGTTACCATAAAGTTTGGATTAAAACATCTTAAAGTTATAATGCCCTAATTTAAGCTAATAGTATCTTAACTTCTATTGCATACAAAGAGTCTACACTTTTATTTCTCTCCTGAAATTTTATGCTATTGATGCATTCTTTACATCTATTTATATTGTGTATCTGTTGACTGTTTATAGTTGTTTTCAATAGTTTTGTTTTTTAATTCTTATACTAAAATTAAGAGTGATTTACATACCACCTTCACAGTATTAGAGTATGCTGAATTTGACTATATATTTACCTTTACCAGTGAATTTTGTACCTTAATATGTTTTCACATAGTTACTTATTATCTTTCTATTTCAATCCAAATAATTCTCTTAAGCATTCTTGTAAGGTCGGTCTCCTGGTGATGAACTCCCTCACCTTATTTGTCTTGGAATTTCTTTGTCTTTACTTCATTTATGGAGGACAGCTTTGCTGGGCAAAATATTCCTGATTTGTTTTCTTTTAGAATTTTGTGTATGTCACTTTACTCTCTCCTTGCTTGCAAACTTTCTGTTGAGAAGTCTACTGATAGCCTTATAGAATATCCTTTCTATATGACAAGTTTCTTCTCTCTTCCTTTATTCAAGAGTCTCTTTTCTCTCTTTCCTGATTTTTGACAATTTGATTATAATGTGTTTCAGAATATTTCTTTTTTAAAATTGATCTTGCTAGGAAAGCTTTGAGCTTCCTGAAACCGTATATTCATATTGCTTCCAAGATTTGGGAAGTTTTCAGACAGTATTTCTTTAAGTAAATGTTCTACCTCTTTGTCTCTTCTCTTTATGGTATTCTAGTAGTTTGTATACAGTTGGTCTTTCATATTTGCTTGTTCTGCATCCATGGATTCAACCTACCACTGATGGAAAATATTTTTTAAAAACAATAAAAATAACAATACAACAATAAAAATAATACTAGAAAACAACACAGTATAATAACTATTTATATAACTTTTATATTGTATTAAGTACTGTAAGTAATGGAGAGATTATTTAAAGCCTATTGTGAGGGTATGCATAGGTTATATAAAAATACTATGCCATTTTATATATGAGACTTGAGTATTAGCAGATTTTGATATTCATGAGGGGTTCTGGAACCAATTTCCTGTGGATACCAAGGGATAACTATATTCATATATTTGTTGGTTTCCCATAGGTTCCTATGCTTTCTTCACTCTTTTCAATATATTTTTATTGCTCTAATTGGTTAATTTCAAGTGACCTACTTTTGGGCTCACTAATTCTTTCTTCTGCATGATCAAGTCCACTGTTAGAACTAAGTTTTTCAGTTCTGTTGTATTATTCATCTGTTCTAGGGCTTCTGCTGAGTTCTTTATGTTTTCTATTTCCATATTAAACTTCTTTTTTTGTTCATTTAATATTTTTATAATTTTAGTTGTCTATGTGTATTTTCTTGCATCTCATTGAACTTCTTTAGGATAATTGTTTTGAATTATTTTTCAGACAATCCACACATCTCCATTTCTTTGGAGTCAATTATTGAAGTTCTATTAGTTTCCTTTGGTGGTATAATGTTTGTGTGATGATTTGTTATCTGTGTAGCTTTGCATTGATGTCTATGCATTGAAAGGAGCAAATTCATCTCTCAGGCTTTACAGATAGTATGTGCCAACTTAAAATCCTCTCCTATTAGGTCTTGGGTTAAAGAGATTGCCTCTGGGATTGTGGTAGGCAGTAGAGTGGGATTGGATCCAGGTCATGTGGCTGATGTTGGGTCGACAGTAGACACTATAATCAACAGGCCTCTTTCCAGAGGTTCTCATGGGCATGGGTTCTATCTGGTCCCTGGGTGAACTGGACCATCTCTAAGATCTTGGTATGTGGAGCTGGTGTTGAGATGATGTTCTGCTTCAGAATTTACCTAGTATGCTGATGAGTGTGGCTTCTTCTGAGTCTCTGAGAGAGCTCCTGTTGGATCACTGGTTGGATTATCTGCCCTGGGGTGGTTGTACTGCCCTGGTCCATGATTGAAATGGCTGGAATTAAGATACAAGGTTGTTTCAGGGCCCACACCTGAGACTGAGAACCTCAGACCAGTCTCCAGGATCATAAATAGGCATGTCTCCTGGTGGGTTCCTGGGTTAGCAGTCCTACTTTTAGACTGTAGTTGAGAAAGACTGGAGCCCATTTTTAAGGATTATTCAAGATCTATAATGGGACCAAAGTCAGGGCATTACCTATAGGGGCACCACTGGACCTGTCTCCCTCTGGGTCCCCAGGCAAGCAGAACTGTTCTCAATCTCTACACAAAAGGGGCATAAGATCTAGGGCCATTTGAGGATCAACTTTGGGACAAACTTTGGGAAGCCTACCATGGAAATTCAGGTGGGCATGCCTCCCAGTGGAATCCTAGTTGGGCAGAACTGCTTCCAGACCACAGCTGGGAGAGGCTAATGAATTCAGGCTTCAGGGCTAATTCACAATATGCTGTAAGATTGATGCTGGCAAGGCTGACTTGGTGGCATCGGTGGATGATATTCCTGGCCAGTTCCCTAATCAGACAGAATTGTTCCCAGACCACAGCTAAGATGGGGCTGGAGCTGAGATTCAGAACCCATTTGGGAACTGTTAGAGGATGGAGGCTGGCAAGCCTGTCCAGGTGCATCTCCTGAGATTTCCAAGCAGTACTAAGCTAGGAGTACAGCTGAGGGGGTGTTGGAGCTGAGTTACAAAATATCTTTTGGGTTCAATGCTGGGACCAATGTTGGCAGGCCTGTCTGCCCAGACACTAGTGTGCATGATTCCTCCTAGGCCCATTAGCAAATAGTTTCAGTAGCAGGGTCAAGGCCAAATAGGGCTGGAGTCAAACCCTTTAAAGAACAGAGACATTTCTGAATCTAAACCTTGGAGCATGGTGAATGCATCTGCCATGTGGGTGCATATCTGCACTCTCAAAGTGACACTCCTAGGTTCTCAGCTACTCTAGGATTTCACAACCTCCTGCCTGAAACACAAGGCTCCCATAAAGAGATTTTTGCTTGTGGAGGGTGCAGAATTCTTGTTGTCATCGGGGAAAGGAGGGGGTGACCTCCTATTTTGCTACCTTACTCATATCTACAAGGTCTTAATGAGTTCTTAATATCATATATTTTATTTTTTAGTTTATAATATCCTTTCAATTACTTTTAGTAAGTTCTGGTTCTTTGTTGAAAATTCTCTGAATTTTTATATATTTTTACATTCTTCTGTTTTCTGAATGTATCCAACAGTTACTTTAAATTCATCATCAATTAATACAGTAGTTTGATCACAAGTTGCTCTTGTGTTCTTCCCTGTTACTTATCGTTTATGGCATCTTATTCTTGATGTGGTGGATTTATTGCACTCAGGATCCTGAGTTTTACCCCTTCCTCTGTCCTCACATTTCTCCTTTTAACTTCCCAGTGTCCTTCCATTGGGCAGAGCGTTCTGCCACTTGAATCTAGGCGTAGCCACAGGGCTGGTTTGGGCCATGTTAGCAAAATGGCACAAGCAAAGGCTTGGAAAAGTGCCTGTGTGTATCATCTTGCCCATTTGCTCCTCTGTCCTTGTCACAAGAATAGGGACACATGAGCTTGCTGGGGAACGAGGCACAAGGAGCAGAGCCAAAACCACAATTTTTTTTCAGCCAAGTCAGACATCTCTTGGCCAACTGTCAGTCAGGAGAGACTCTGAAAACTGCCCATTTGAGGTTAGTCCAACTCATTGACTCCAGAACTCATGACTTATGTAATTATTGTATGGCCTTAAAGCTGAGTCGGTTTTTTTTGGTACATAGAATTATTGTGACAATATAAAACTGATACTTTAAATATATTCATTACATTTCAGTTGTGTGCTAGACATGGTTTATTGTAAAAAATTAGAAGCTTCAGATTACAATATCTACAAGAGATATTGTATCAACACTTTGCTAATCAAAGACTAGAGGCTTATTATCTTGTTAGTTATGAACTTAGCTGGATCAAGGCTGGGTTAAAGTTTCATTAAAACTTTGTCTATCTCTGGTTAGTTCCTGTCCCCAAGAATATGGATTTCAAGGGTTTATTTGAAATCATGATGATTTCGGCTCCTCAGTACCCAGAAATCTGGACCTTTGGCTTTGATTCTCAGAGAAATCACACACCCCTTGGTCAACTACCTGTCAGGGGAGACTCTGAAAACTGCCCATTTGAAGTTAGTCCAACTCATTGATTCTAGAACATACGACTTATGTAATTATTGTGTGGCCTTAGAGTTGAGGAATTTTTTTTTGTTTGTTTTTTGTTTTTAGGTCTATAGTCTTCCTCCATGAACAGCTTCAGAATGTGGCAAATGCCTTAAAGGAGATGCCTGCGGGGAGTTTAAAGCCCCTCAAATCTCTAATTTTGTCAATTCTAGCCACCAATGGTTCTACTATTTCTATCTCCTTAAAAGGGGCTCCTCTAGAGTCAGACCATCTAGCTGTGTCCATATCAGCAAAGCCTGCAGGAAATAAACAACTGGAGATTTTCTTTTTTTTTAAGTTTTATTTTACTTTTAATTGACAAATAGTAATTGCATATATTTATAGAGTACAAATTGATATTTTGATACATGCATGCATAGTAGAATGATCAAATAGGGTAATTAGCATATCTATAACCTCAAATATTTGTGTTTTCTTTGTAATGAGAACATTTAAAATGATCTGTTTTCACTATAAATGTACAATACATTCTTATCAAATATAGTCACCTTCTTCTGCAAGAGAACACCAGAATTTCTTCCTCCAACTAACTGTAGCTTTGTACCCATTGAACAACATCTCCCCTTCCTCCATCTACCTCCCACTTCCAGCATCTGGTAACCACTTGCTACTTGCCACTTCTGTGAATTCAACTTTTTTAGATTTCACATATAAGTGAGATCATGTGGTATCACTTTTCATTCAACGCTAATTATTGTTCTTAGAGTGTCCTCCTGGAAGACCTACTAAGCATTTTGAAAGTCTACTAAGCATTTTGAAACTTCACATTATGGAGCTATTATGACTTAGCTTTTTAGCCACCCCAGAGAGCCTTGGGCCCAGGCAGAGAACTGTTGTAGGGGTGGAGCCATGGCAGAGAACCCAACTAGGGCAATTTACAGTGGTGTTTTGGGGACAGAACCACCTCAAAGAGCCCCAACTACAGCAATGTGTGGTGGAGCTATGGGCCCAGGGTTACCTCCTTGATTTGTGGGGCCACTGGTGGACACCTTATGGGCTGTGTCTAAATGCCATGGGGATGGGGCCATTCAGAGTTTTGGGGGTCAAAACCCTGGGCCAATTCTCTCAGAACATGAGACATGGAGTCAAATAAGTTTATTCTCAAGCCTTAATATTTAATGTTGTTCACCCAACAGGGTTTTGAACTTACTTGGGACTATTAATAGTTACCCCTTTCTTCTTTCCTATGTATCCCTTTTAGAATGGGAATGTCCATCCTGTACCTATTTCACTGTTGTATTTTGGAAGCACATAACTTGTTTGATTTCATAAGCTCACAGCTTGAGATAAATTTGCCTCAGAATGGATCATTTCTTGAGTCTTATCTATATCTGATTTAGATGACATTTAGATGAGACTCTGGACTTCTTTAGACTTTTGAGTTGATACTGGCTATTGAGATGGAATGAATGCATTTTGCATGTGAGAAGGACATAAATTTTGGGAAGCCAGGAGTGGAATGCTATGGTCTGAACATTGGTTTCACCCCCAAAACTCCTATATTGAAACCTAGTAAGAGATGATTAAAACATGAGGGCTCCTCCCTTGTGACTGGGATTAGTGTCCTCATATATGAGATCTAAGGGAACTTGTTCACTCCTTCTGCCATGTTGGGACACACAGAAAGTGCCTCTGTGACAAACTAAGCTCTCACCAATCAATGAATCTGCCAGCACGTTGATCTTGGACTTCCAAGACTCCGGAACTATCAGTGAAAAATGTCTGCTGTTTGTAAATTACCCAGGCTCAAATATTTTGTTATAGAAACCCAAATGGACTTAAACACATGTATTTAGCTAATACAACTATAACAGTGTGTAGGGAAAACAACTTAGTAAGTAATAAATTGAAAGAGAAAATATTTGGTTAATTCTTTTCATAAGTATGTTGTGCATGAAAAACAAATGCACTGGATCCCATTGTTCAGGTCCAATTTCCTCTCCATGGGTTTTGTAAACTCTCTGTAAAACATTGACGATGGAAGTTAAGAAAGTAAAAAACTCACTTTCTGATTTAGAAGCAAAAATCTCGTACTATTTGAACAATATTATTCATTAGATTTCCTCCTTGCATCTTTAAATCGCATCTTGCATGCCATGACCATCGAGTACTGAAGCTATGTCACGGTTTTGTTGATTGTTATTTTTCTCAGTCTTGGATTCTACTTTTGCAATCAACCCCTAGCTTAGATAACATCAGTCGGATGTCACTGGGTTTTGTGGCTACAACTATATTATATAATCTTTACTTTCAAATGCTGACATCTTTTCACAAAGAAACTAAAAGTTCAATTTCATTCTTAAGACATTAGGCAGGCTGGGAACGGTGGCTCTCGCCTGTAATACCAGCACTTTGGGAGGCTGAGGTGGGCGGATCACGAGGTCAGGAGATCGAGACCAACCTGGCTAAAATGGTGAAACCCCGTCTCTACTAAAAATACAAAAAAAATTAGCCGGGCGTGGTGGCGGGTGCCTGTAGTCCCAGCTACGCCAGAGGCTGTAGCAGGAGAATGGTGTGAACATGGGAGGAGGAGCTTGCAGTGAGCCAAGATCGCGCCACTCCATTCCAGCCTGGGCAACAGAGCGAGACTCCGTCTCAAAAAAAAAAAAAAAAAAAAAAAAAGACATTAGGCAAAAACCTGGACCAATAAAATATGATAAATGTTCAGAATCTCAAAGGAAAAAGTTTGCTTTGATTTTTAATGGTTTAATTAGGCTGCATTGACAGGGAGCCAATTGGGTGTAGTACAAAGGGTTTGGAGTCTGAAGATCCATTTCTGAGTCTGGAGTCCGTAGGCCTGGACACATTTTGTAAAACCAGAGTTTCCTCAACTGGAAAGTGAAAGTTATGAAGTTGTGATGGGAAGATTTAACTAAGATAATAGAAACAAGACCATGCTATACAAATGTTTAAGTTATAAATTAAAATATTAAAAATTGCCCGATTCCCCAGTACAAAAAGAACTAATTTGGTGAAAAACTGTCTTTTATGTACAGTCGTAGAAAATCCTGAGCTGAGAGGCTCCCTCGTTGGGTGGGACCAGGATGTGGAGCTTCATTCGGAGGAGGAAGGAATGTTCACAGTGTAGATTACGGTGTCAATGCACAATGAAGTATTTAGAAACCATTCATCACCAAAGAGGGATTGTAATTTTAGAATTTTTCAGAACCATAATTTCTTAGTATAACTTTGCAAGAAAATAAGCTTTAACAACAAAAGAATGTAAAATACCTGATCCAGCACAGCAAGGGCAACCCTGTGGCTTGCTGACTCATTAAGTACCCATGCTACTTTATGAAACACATGTGAGTTGCATAGATTTATTAAATACTAATACTTTGAATAAATATGGACATACCCCTGCAGAATTGTGGAATATGACATATTTTAAAACACAGTTTCACCTGTGACTGTAAAACATGCATAAATTAGGTTGGAAACCTTGAGGTGGTAGTGAGTGTTTTGAAACATTAGAGATTGCACATTTACAAATCCACCAATTATAAATGTGATTTTTGAGCATATATGTAGTTTAAATATATAATTATGCTTATTCCATTGCACCTGCAACACCCAGTTCAACAAATATTTATTTTCTAGGATCTGGAGAGTTAAGATGAAAACTACCTTGATCATGACATGTAGGAGTTCAAAGTCTCATGTGGGGTGTGAACATCTAAATAGATAGTTCTAATTACTGTGGTGGGAAACTGGGGTCCTGTATGATGATCTTAGCCTACAGAGAAGAGGAGCACCTCTCCTGACTGGTCTAGAGAGAGCATTCAGTAGAAGTGAAGGTGTAACAATATGCGTCTCTGGTGAAAGGATGCCTGAGTTTGAGATATAAAAAGGGGTTTTGCCTGGCAAGGGGATACAGTGAGAAGCTGTGAGTTACACAACTGTGGTTTATTAGAAATAGAAGGGTAAAGGATAATCATACACAAGCAGAAACCCAAACACAAATGTTTATGTCCAAACATAAACTCTTTAGAAATTTGTGCATGAAAGTTGATATGTGCTTTATTCATAATGGCTGAAAACTGGAAATAACCCAAATGTCCATCATCAGGTGAATGGATAAACCATTGTGTTATGTCTGTGCAGTGGAATACTATTCAGCCTGAAAAGGAATTATCTGTTGAAACATTCAATGACTTCAGTGAGACTAAAAATACTTTTGTTGAGTTAAATGAGCTAAACAAAAAAGATAACATACTATATGGCTCCATATACATAAAGTTGTAGAAAAATCTATAGGTTCAGAAAGTAGATCTGTGATTATCTCTGAACAGGCAGATGAGAGATGTGAGGTAAGGGAATGGGAAGGACCCTACAGGGCACAAGGAAACCTCTGGTATTAATGGGTATGTTCATTATCTTCATTGCAGTGATAGCTTCTTGGGTGTACACTTCTAGCAAAATTCATCAAACTGCATGACTTAAATATGTATGATTTATTGTACATCAATTTTACTTAAAAAAGTTTTAAGTAATAGAGATGATTAAAATGATTTAAGCAGTAAAGTGGTATGGAAAGTTTTAGATTTCTGAAGTTAATGATGTTTTTCTGGTTTCTGGCTTGGATGATGAAGACTGGGAATGGTAATGGTTATAAACCTATTCTCTTCTTGTCTATAATTTATCCAGAAATGAAGCTAACTCAATGCAGGGCTACCTGTTTTTATTAGAGATTAATTTTCCAATTTAGTTATAAATAGGGCAACTGCAGACTAATGTTAGGATAGGCTTAATGTTTCACAAAAATGAGATCTATTGGTTTAGGTCTCTAGATGTTGCCTTGTTCTTGTCTGCCACTGTGAACATCATTACCTTCGTTGGCTCTAACAGTTTACAACACTGTGTCAGGACTGTAGAAGAATGAGGGACTCAAACATATCTAAGGCACCATCCAAGTTATTAGAGGTCATTGTTCAGTTAGCTCATAAATATTCCTTCCTGTCTTAAAAAGAGTAAAAAATAGTGACATTCATTGACTATTTACTGATGGCATTACATCCCTTCATCTTCACCACCCTATGAAGCATGTACCTTTATTATCCCAATTTTACACAAGAGGAAACAGGCTTAAAGATGTTTAGTCACTGGTTCTAGATCATGTTTAGATGATGTTGACCCGATTGGAGCCTGGCAATGTGATTCTCAAGCACATATGATTTCCCTAACTTTTCCTCCCCAGTATTTCTATATCCCAACAATTTTCTTTAAGAAATGGTCATTTGTGGCCAGGTGCGGTGGCTCACACCTGTAATCCCAGCACTTTGGGAGGCCTAGCCATGCAAATCACGAGGTCAGGAGATCGAGACCATCCTGGCTAACACGGTGAAACCCTGTCTCTACCTTTATACAAAAAATTAGCTAGCCGTGGTAGCAGACACCTCTAGTCCCAGCTACTCTGGAGGCTGAGGCAGGAGAATGGTGTGAACCCCAGAGGCGGAGCTTGCAGTGAGCCGAGATGGCGCCACTGCACTCCAGCCTGGGCAACAGAGTGAGACTCCGTCTCAAAAAAAAAAAAAAAAAAAGAGGTCATTTGTGGTATTGTAGTAAAAGAACTTAATGCCTTTATATATTCAGCTTCTATAAATGAAGAAAATGACACCAAACTCCTGCCATGTTTTATCCAAGTCATTTTTCTGTGCTTTCAAGCAAGAGCAGTGATGATGTCATGACCTGATGCCTGCACAGAATCACAGAATCTTCAGAATCCCTTAAGTGATGCTGCCAAGTATGTTTGTTTATTCACTTCATTTACAAACAAAAACCTGTCAGGTCAGATACTATATGCAGGGCTTAAAATGAAAAAGGGAAAGAAAATAAGAGCCCTTATGTATTTTTGATGATGCTCTTTGGTTTTCACAGGGAACAAATACAATCTTAAACTGCTTTTAAATCAGGTATATAGATTTGTACAGATATCATGTATTTGAATGTCTTTCTGCACATGTCTATGCACACATGCAGTTCAAAATCAAAACCAATTTACATTCTTCCTATGTTTTTTATTATAAACTAAAGTATATGCTCTGCTTACATGGTGTTCAATTATAACAACGGGTGAAGTGCTTTGCCTTTGAGTATCTGCAAAGATGGAAGTCTGAATACCTGGGTATTATTTGCTACTCTTTCTTGAATGGTATGTTTAATTGTTATTGGCCAGCATGGAACCTATTTGTCATTTTTTTTAACTAAGCTGGAAGGAATCTGGACTTTTCTTGGACTCTAAATGGCATTCTCACATCTAATAATATCACAATGGTTTAGAGTAAGAATAATTCTAGTCTCACATAAATTTAAAAAAATTGTTTTCTGATAATCCTCCATGTTGAGAAAACCATTTTGCTTATGAACTTTTACACATAAAATTGAAGATTTTATACATAATAAATTTTATACATATATAAATTATATATAATATACTATATATAGTATTATATATAAATTATAAATTATATATATATAATATAAATTTTGTTATATATATGACAACACTTTAAACTTTTAAAATGTGATGGACTGGGCAAGGTGGCTCACGCCTGTAATCCCAGCACTTTAGGAGGCCGAAGCAGGCGGATCCTGAGGTCAGGAGATCGAGACCATCCTGGCTAACATGGTGAAACCCTGTCTTTACTAAAAAAAAAAAAAAAATACAAAAAATTAGCCGGTCGTGGTGGTGGGCGCCTGTAATCCCTGCTACTCAGGAGGCTGAGGCAGGAGAATGGCGTGAACCCAGGAGGCGGAGCTCGCAGTGAGCTGAGATCATGCCATTGCACTACAGCCTGGGCAACAGAGCGAGACTCCGTCTCAAAAAAATTAAAATAATAAAATAAAATGTGATGTTTCCTGTGGAATGGAGATTATTTTAATGTTTTCTTTCTGATTTTCTGAGTTTTTTTCTCCTTCATATTATGTGGTACACACGCATCCTTTTAGGTTGGGAGAGCTGTCTCCATGCCACCTGTGAGGGGCCAAGGGCTGCCATGCGCTCTCTTCCCTGGGGCCTGCTGCCGCTTTTAGTGAAGCTTCCCACTCCCCGACTGTTCTCTTCTCATTCTTGCAGAAACGGTGGTATAAGAAAATCCTCTGGGGTGTTTTTTTACTGGAGAAGGAGAAAAAAACATATTTTTAGTAGTGCTTGTGGAAAACATTGCAGTAACTGACTTTAAAAATACTGAGTTGTGTGAAAGGAATCCCCACGGTAACAAGAGGTTTCATAAGGTTAAACACCTCTTCTGAAATGTCATGGGTGCGGTGGAAACATGGGATTGGCTTTTTTCCAATTATCTCATCAGATCCTTATTTTACTATTAATACCCTAAAGGGGCTGGGCATGGTGGTTCCCGCCTGCAATCAGCACTTTGGGAGGCCGAGGCCGGTAGATCTTCTGGGGACCAGACTGTCCAACATGGTGAAACCCCGTCCCTACTAAAAATACAACAAATTAGCCGGGCGTAGTGGTGCGCCTGTAATCCCAGCTACTCGGTGCGCCTGTAATCCCAGCTACTCAGGAAGCTGAGGCAGGAGAATCGCTTGAACCCGGGAAACAAAGGTTTCGGTGAGCCAAGATCACACCACTGCACTCTAGCCTTGGCAACAAGAGGGAAACTCCGTTTCAAAAAAAAAAATCCAAAGTTTCATATATTATTATTTATTATTTTTTTATTTTTTTTAGCTTTGAAAGCAGATGCCATGCTTGTTCACTCTTATAGGCAGCTCTGAGTCTGAAGGTTCTGGCTGATGAGATTTGCACAACTAGTCTTGTGTTTTATGCCCAAAGTGCTGATTGTTTCTGTGTAAATTGGTGGTGGACATATTTAACTAACTTCCCCATAATATGAATTTGCAAATTTGTTCTTCGGGGAATGATTGGATACAACTCAACGTGATTTTCTCTCCTCTCTCCTTTTTCTAATTTTTGTTCAGACTAAAATGGCAAATGAATAACACATTATTTTTTCTGAACCATATCCATGACTCATTTGACTCACCCAATAACTATACAAGAAGCATTGAAATAGTATTGATTTCCTTATTCCCTAACTTTTCCTCCCCAGTATTTTTATATCCCAACAATGTATAAATATATACATTTCTCTATGGAGAGTAACACACTTAGACACACATGGAAGTATGGCTTCCATGAAGCCAAAGGATACTGAATTAATTTCCTAAAGTCACAAATAAAACTAGGGAAGAGCCAAGGATTCTCAGCTCAGACTTTTCTAATATTTAGTTCCCTACATTTTTTCAGCTATAGATATTGGACTAAATCTGATCTGGATTGGCTGAAAAATGTAATTTCCATGTAACTATATGATTGCAGCAGCAGCATTTTGAGATGTTTCTGGTCAGAGGAAGACACCAAGGGGCTAATATTTGTTGAACCTTTGAAATTCTGGCAGTTATTTTATATAATTCTTACAATAACATGTGAGATTACTGTTATGATGTTCCTTTCATAGGTGAGAAAACTGTGACACAGGTTAACTTGCCAGAGGTCATGTAGCCTTTGAATAGTAAGGATGGGATCAGACCCACACCATGCGCTGTGCCATTTGCCTATGACATTTAGGAGGCAATACCAGCAACTTTGTTGAGCGTGTTGGGATTGTAGGAGGGGTTAGACCAAGTTATCTGCCACACCCTTTTATGCCATGTCAGGTCTCCAGTGCTGCAAACTCAGCTTTGCATAATCTAATCTAAGCACTAGTGGAATTCAGGAAACTCACAAAGTGCTGGAGAGGTGCTCCTGCCAAACCATCATTCCATTATTGGGCCTTTCCAAGCTGGACCTATTAAAATTCCAAAGAAATTTTATTGCCGAATTGTTTCACTCAAAATGTTTGAATATCAAAGCCGCAAGACACATTTTCTTTCCAGAACGTATGCCTCAGCATAGTTTGTCTGTGTCTTCTACATAGTAAGTGCTCAGTAAATGTTGATGACTTAATGAACTTAATTTCCCTAAATTAGAAGGTAGGAAAATTAATATAGTACACGGTTAATCTATGGTAACCCTAATTGCTAAAGTCAGGAACCTTGTTTACTACTACACAAAAAGCCATTGTCAGAGCTGAGCATGCACTTCTGACTTTCAATTCCCTGGCTATGACCACTAATCCACAGCTCTTCCTTTTCTATTATTTCACAAAATAATTTATATGTACTAAAGGGCCAATGTGGACAACAACATGAATTAAGTAAAATGTCAGCTGTAAGCCTTGCATGGTTCTCTTTGGAGAAAGGCAGATTCATATGCAAGATCATTCTGGGTCAGATCTCACTAACACTCTGGCCATTCATGCATGTGTCACTGCCTCACCACCTGTACAGTTTCATTGCTGCATTGAGGGCAAAATGAACAGGCTTCTGTTTCATGGGTAAGCTCCCAGGAGAAAACTGCATATTGTTCATAATGCTATGCTTGTTCCAATAAAATTTATAAAAATATTTCTTTCTCACTTCCCATAGCTTTCTTGGATGCCTGTGAGTTACAATAAGAATGTTTTATATGTCAGGTCAGCATGTAAATCCGTCTGCAATCACTTCTTGGATGAAAACCAAGATTTAAGTGCTATTAAAATAAATATTTAAGTTTATTCATGAATTATGTAGTTTAACCTTTTTAGGATACAAAAACATTAAAATTATATTTTAATGAAAGGCTAAAGATATATGAAACAATTTAAAACAGCTATAGATCAGTAATTCTTCCTGATTTTGCAAAATTATCTTTCAAACTTTTATAAGTAGTGAATTTATTAATATATACACTGGTTAAATTTAGACTTATTTTTAATTGAGAAATTAAACTATACCACAATAGTTCGCATTTCCAATAACTAATAATTTTGTTCTAATTTAATATATTATCTTAGCAGCTCACATTTTGTTAATTCACTTAGAAACCAATTTATTTATGACCCACTGTTTACAAAACTGAATACTGGACACATGGGTACAAAGTTGATGTTGATCAACTCTGAAGGCAAAATATATCTCTCATTATTTACTTAATATCTTTATTTTATAATTTGAAATCTAAGAATATAAAAAATTCCTGTTTGTTATTTTTTAAAATTATACATACCTGTGTTTTAAATGAATACTTATGGATGTCAGAATCCTTTCGTATAACCTCTTGATATATATATTAGTCAAAAACAATGACAACAAAAATGCAAGAGAAAAATAAATAGAATAAAATAAAGTTCTTTACACCTTTCTTATAATTTGGGGTGGAATTTTCACTTTGTTACTCTGAAATCTTAGAGAATAGTCAAGCATCCAGAGTTATAATCAAATTGTTTAGGCAGGAACACAGCAAACGCTCAGATATGTGAGACTATCTGATTACAGAATTCTTCTTTTTGAGTTTGTATATCTAAGGCTAAAGCCAAGGTATACTCTGCATTTTTAAAAATATGTTTCTCTAGCAGGATGTGCTGGTGCACACCTGTACTCCCAACTACTCAGGAGGTGGAAGCAGGAAGATCACTTGAGCTCAGGCAGGGCAACATAGAAAGACTCAGTCTTGAAAATAAATATAGATTTCTCTATGGAGAGTAACACACTTAGGTATGTATTTTAGAAAGACTAATTGTTAGGCCGGGTACGGTGGCTCATGCCTGTAATCCCAGCACTTTGGGAGGCCGAGGCGGGCGGATCACGAGATCAGGATATCAAGACCATCCTGGCTAACACAGTGAAACCCCGTCTCTACTAAAAATACAAAAAAATTAGCTGGGCTTGGTGGTGGGTGCCTGTAGTCCCAGCTACTTGGGAGGCTGAGGTGGGAGAATGGCGTGAACCTGGGAGGTAGAGCTTGCAGTGAGCCGAGATCGTGCCACTGCACTCCAACCTGGGCGACAGAGCAAGACTCTGTCTCAAAAAAAAAAAAAAGACTAATTGTTTCAGAACATAGAATGAAGCTGACCCAGATGGAAAGCAAAGATAACGATGAAAAGATTCATGTGGTAATCTAGGCCAGAAAGGACATTGCCTTGGGCAAAAGAAGTGACCATTTGGTTAGCAATGAGAAGACAAATTTTAAAAGTAGTTGGGACTCATTCTATGCACAAAAATTAACTCAAAGTAGATCATAGGCCCCAGTGTAAGAGCTTAAACATCTACAACTCCAAAAACAAATGTAGTGAATCTTCATAACCTTGGGCTAGGCAAAGTCATCTTTGATAGGATAATAAAAACACAGGCAACAAAAGAAAAAGTAAATACATTAGATCATCAGTTTTTAAAAATGTGTGTTTTAAAGGCTACCATCAAGAAAGTAAAAAGACAACCCACAGAATGGAAGAAATATTTTCTAAACATATATATGTGACTTGTAGGTAGAATATATAAAGAACTCTTACAAATTAACAATAAAAATTCAAAAGACACAGTTTAAAAATGGTCAAAGGATCTGAATAGATATTTCACCAAAGAAAATATACAACAACCAATGCGTACCCGAAAACATGCAAGACATAGTTAACCATCAGAAAAATGCAAACCAAAACTATAATGAGTTACTATTTGATACCTACTAGGATGGGTATAATAAAATCAGACAACCACACGTGTATGTGAAGATGTGGGGAAATTGGAACACTCGTAGACTGCTGGAAAATGTGTAAAATGGTGCAGTTACTTTGGAAAACAGTCTGGCAATCTCTCAAAAGGTTAAAAATAGAGTGATAATGGTAACATGACCCAGCACTTCCTCGTTTAGGTATGTACTTAAGATAAATGTAAACATATGTCCACACCCAAACTGTGCAAGAATGTCTGGCATTATTCTTAATAGCCAAAATGTGAAAACAGTTCAAATTTCTATCAGCTGATAAATGGATAAATATCCACACAGTAGAATTGTGGTTTTTATTTTCTTTTTTTGAGATGGAGTTTCGCTCTTGTCTCCCAGGCTAGAGTGCAATGGCACGATCTCGGCTCACTGCAACCTCCATCTCCCAGGTTCAAGCGATTCTCCTGCCTCAGCCTCCCAAGCAGCTGGGATTACAGGTGCCTGCCACCACGCCTGGCTAATTTTTGTATTTTCATAGAGACAGGTTTCACTATGTTGGCTAGGCTGGTCTTGAACTCCTGACCTCAAGTAATCTGCCCACCTCGGCCTCCCAACGTGCTGGGATTACAAGCATGAGCCACTATGCCCAGCCCATACAGTAGAATATTATTCAGCAATAAAAAGTACCAAAGTACTGATACTCGCTAAAACGTGGATGGACTTTAAAAATATTATGCTAAGTGAAAGAAATCAATTACAAAAGACCATATATTGTATTATTCCATTTATATACAACTTTCAGAATAGAAACATTTAGAGACAGAAAGAACAGTGGTTGCCTGGTGCTGGACACTTTGGGGAGAAATAGAGAGGGACTGCTTTCACGTACGGTGTTCCTTTTTTGTAGTGATGAAAATGTTTGAAAGTTGATTGTGGTGATAGTGGCACAACTTGTGAATATATTTTAAGAAAGGACTTGCATAGTTTAAATGGGTGAATCATACAGTGTGTGAATTATATCTCAATAAAACTATTATGTTACAAAAAATAATTTGGGAAGTAAATGGTTGAATCTTGATTATTGTTTAGATGTGAAATAAGAATATGGGGTGGGAAGAAAGCAAGCCTTTTTTATTTGTCTGTGGGGTAATGGGGCAATAAGGAATACAGAAAAACATGAAGGTTCACAGAAATTGATGAGCTCAGTTTGGGACGTAGCAAATTTGAAGAGTTGGAGATGAATCCATATTGCTAAAACTCAAGAGCAATGCCTAGGGTGGAGATGATACATTCTGGAAGCAGGACCATAAAAGTGGTCATTGAAGTCAGTGATGTGGGTGAGAAAAGGCCCGGACAGAAGTCTGTGGAGCCCCAGCGTTGAGGGGCATTCTTAGGAGAAGAACCAGCTAAGGAGACACAAGATTTCTTGAAACAGAACATTTGAATAAGCTAACACATGTCACATTCATCTATAAGAAGTAGGACTTCAAGGAAGTTTTGTGCCATTAATATGCTTGGATAAACCAAGTTCTAATAATGGAAATAGAAGCCTTGTAATAGGAAACAATACTGTTTTTTCCCCCTTTCTTCAAGTGATGTCAATTTTTTGGAACTGTTGTTTCGGAATAAAAAGAGTCTTAGGCCAGGTGTGGTGGTTCACACCTGTAATCCCAGCACTTTAGAAGGCTGAAGCAGGTGGATCACCTGAGATCAGGAGTTTGAAACAAGCCTGACCAACATGGTGAAACCCCGTGCTACTAAAGATACAAAAAAATTAGCTGGGGGCCAGGTGCAGTGGCTCACGCCTGTAATCCCAGCACTTTGGGAGGCCGAGGTGGGCGGATCACAAGGTCAAGAGATCAAGACCATCCTGAACCCCGTCTCTACTAAAAATAAAAAACATTAGCTGGGCATGGTGGTACGCGCCTATAGTCCCAGCTACTTGGGAGGCTGAGGCAGGAGAATTGCTTGAACCAGGGAGGCAGAGACTGCAGTGAGCAGAGATTGCGCCATTGCACTCCAGCCTGGTGACAGAGCGAGACTCCGTCTCAAAAAAAAAAAAAATTAGCTGCGTGTGGTTGTGGGTGCTTGTAATCCCAGCTAGCTACGCAGGAGGCTGGGGCAGGAGAATCGCTTGAATCTGGGAAGCAGAGGTTGCAGTGAGCCGAGATTGCACCATTGCCCTCCAGCCTGGGCAACGAGTGTGAGAATGTCTCAAAAAAAAAAAAAAGAGTTTTAACAAGTAAGATTAACATAATTTCATCATCTAGTTTTCTTAATATTTAAATTTGACTCCTAACCAAACTTGTCATCACATACAAGTAAATACATATTATATATGCCACTAAATTATATATTCTGTCACTTTCCTATAAACTGTTTGAATGAAAGACATTTTAGTTTTCTCCCCACAGCCTTAGCATGCTGTAACTTTAATAAGTAATCTATGAATATAATTTTTTTGTTATTTAAGCTGTGATTTTCTACAAACAGGTTAATTTTCAAAGGGAGATCAGCTATTTTAAGATCTTCTTCTACTGGATAATTTAGATTGTTTCTATTATTACAGCTTTTTGTTCAGAGTAACTTCATTAATGCTTATAATATGCTGTTTGGAATGCCCTGTTTTTCAAGATGAACTCACTGGAACTATTGACTTGGCAGCCAGCTGCTTTTTAAAAGCTTTGCACCAATCATATAAGAGTAATCAACTTAAATATTTACGTAAAACCTTTCCAAAATTATTACTTACAGGTCTCAAACCAGAATAACAGAATTTGAAGAGCAATTGCAGAAACACTTTTTTCTCACATGCTCGTTGAAGACAAACAACAGAAAACACTAATATATTGATGCTGATCACTGAAAAGGTATTGCTTAGAATGTGTTAGAATCTATGTCTTAGGCATTGGTGTGTATTTCTGTTAACCTGTTTTCCAGAAGTGTTATTTTTGTTTCCAGATATTTTCTGATTTGCTCAGAGCTCCAAATGGTATCAACAAGTGGTTTTCTACAATGAGAATGAGGCATGCCAGTGTGATGGTCCGTAATCGATATTTGCCAGCAGATCATTATTTTAAAAATATTATCAGGAATTTACCTATAAGAGTATCTAAGAATGGGGGTTATTAATTAGAAATTGTAATTTAAATATCCCTTTCCCCTTTTTCTAAAGAATGCTCAACTGAATGATATTTGTGTGTCATTTTCATGAAATTTACAGAACCAACAATATTTATTGTTCCAAAATTCTGATCTGGAATATTGCTTGGAAACTTTACACTTTCCTCTTTTTCAACATTAAAGGTGGTCTTGGAAAGTATCAAAGACATACAATGGAGAGGAGTTATGAAGAGTGACTGTTAACATGAAAATATTGGCAAGAGATGGAACAAGACCTATTTCTTTTTGAGACAGGTTCTTGCTCTGTTGCCCAGGCTAGAATGCAGTGGCCTGATCAAGACTCACTGCAGCCATGACTTCCCCAGCTCAAGCTGTCCTTCTGCCTCAGCCTCCAGAGCAGCTGCAACTACAGGCACATGCCACCAAGCCCAGCTAATCTTTTTTGTTTTTAGTTGTGACAAGGTCTCGCTATGCTGTCCAGGGTCTCTAACTCCTGTCCTCAAGCAATCCTCCCACCTCAGCCTCACAAAGTGCTGGGTTTACAGGAGTGAGCCACCATGCCTGGCCTCCCGTTTTCTAACTAAAGTAACAGCGTGTTTTCATGGCACCTGAACCCCTTATCTCTGGGGAAACATTATCAAGATCTGGTGAGTGAGAGTTTCTTGAGACAAGTAAAATAATGCAAATAGTCCTTGTCCTCCTTCTACGGCAGAGTGCACAAGAGGGTGCTTACCCAGAAGAGGTAGACGCAGGGCTGTGGTACAGTCGGAGTATTCAGGGCTCCTGTGACCTTGGAAAGCTATTGGATCAGAGCAGATTTCAGGGAAAGGAATGAAGAGCAGTAGCTTTGATTTCACAATTGACTTCAGGAGGCAGAGATTAAAGGGATATTTGATGCTTTCGTGTTGTGTAGTCATAATCAGCAGACAAGTGGCAGACAGGTTACAGGTCACAGGTTCCTGTGCATCTGGCAGAGGCCATAGCAGTTGCTGTCCAGCATCAAACAAATGCTGTCCTGCTTTAGCAATGAGTTGGGAAGACGTTCCATTGAGTAAAATGAATCTGCACTTTAAATTCTACTGGATGTGGAAGGTAAAAAAGAGGGAAGATTCGGCTGAGCACAGTGGGTCACATCTGTAATCCCAGCATTTTGGGAGGCCAAGGGAGGCAGATCACGTGAGGTCAGGGGTTCAAGACCAGCCTGGTCAACAGGGTGAAAACCCTGTCTCTACTAAAAATACAAAAATTGGCCGGGCATGGTGGCACATGCCTGTAATGCCAACTACTTGGGAGGCTGAGGTAAGAGAATTGCTTGAACTCGGGGGGCAGAGGTTGCAGTGAGCCGAGATCATGCCTTTGCACTTCAGCCTGGGCAACAAGAGCAAAAATCTGTCTCAAAAAAAAGAAAAAACAAAAAAGGAAGATTCTAGGAATTTTTCTTAAACATCACAAGTCTCTTCCCATCAGGCAGATTTCTCCATCAGCAATTGTAACATATAACACCTGCATTTCCTGGGTTGGTATACTTCTATTTTCATATTTAAGATGATCACTTAATTTAGTATTTAAAGGTTTTGCATGCAGCATCAAGGACATTTTTTATCTGAAAATTAACTATTACAATTTACATAATGGATTATTTTCCTTTTCAAATATACCAGAAAGAAAAAAGGGAAATAAATATATTTCTTAATTATATTTAAATTCTATATTGTATGAATGGATTTGAACAATTATGTTTATGTAGAGTTTTGTAACATATACTCAATTCTGTTCATAGTCACTTTTAACGTCTTTTTACGATTTAAATGAGACAGTTTTGTTGAGAAGCCAGGGCAGTAATAGATCATTTAGATCTTTCCCTGTTCAGTGTATCCTTCACCACATCAAGCTAACGGAGGAATGGGCAAGCTGATTTTGACCTTTCAGAGCATGTGGAACTAAACAGAAAATGGCTTTGTCAGAATTCTCCTAGCACACAGGTATCCTGCTTCCCAGCATATTGGAGATGGTCTTTTTTTCCAGGCAGATGGGGTGACTGCTCCAGTTACGTTTGGCCAGGTAAACAGCTCTCTTCATAAGATATCAGGATAGTGACTTATTAGAAGGCAATGATTTGCAGTTGCCTATGATCTCTGAGTAAAACTAATTATTCTGCTTCTATTTTGTTGTTATTGTTTTGCGTTTGAGAATTAGTATTTTGACTACTATGTCATCCCTGTCATTTTCTCTGTCTTCAAGGTGAGCCTTCACAGACTAAAGTAAAAAGTTCTCAGCCTGTTTTTATGACGATGTTGGCTATTTGTTCTACATTGAAATAATTTTTATGACCAACTCTGAGAAAATAGGTAGCCAAATGAATCCTAGCCAAATGATTCTAGAATCTATGGAAACTGATGTCATCCACAAAATGTCAAGAGATCACGCCACTGCACTCCAGCCTGAGTGACAGAGCAAGACTCTGTCTCAAAGATTACGGGATTTGAATTTGAATTCAATGAATTCCATAGCAGTTTGGAAACATTCTCCAACAATAGCAATTCTTGGACATTTCTATAGCTAAAATATGAGAGAAACAGGGAAGTTATTCTCACCACAATTTTAGTTATTTTTCCAAATTCAGAAAACTACAAAATTTTCCAGACTAATTAACATGCTCCTGATTCAGGACAGAAAGCTGCTTAGAGATGTGATAACATCTTCATGGATTCAGAAATGAAGTGCCTACTATGTTCTGGGCTCTGAGAGCACCACAGGGTATCTGTCCTTAGGAAGTTTACAGAAGGACAAAAGCAAAATACTCAGAGTGATTTATTGTTGAGGGTTTTTTTTCTGTTTTTTGTTTTGTTTTGTTTTGTTTTGAGACAGAGTCTCTCTGTGTCACCCAGGCTGGAGTGCAGTGGTGCAATCTCAGTTCACTGCAACCTCTGCCTCCCAAGTTCAAGTGATTCTCCTGCCTCAGCCTCCCAAGTAGCTAGAATTACAGGCACGCCACCACACCCAGCTAAGTTTTGTATTTTTAGTAGAGATGGGGTTTTGCCATGTTGGCCAGGCTGGTCTTGAACTCCTGACCTCAGATGATCCACCTGTCTTGGCCTCCCAAAGTGCTGGGATTACAGGCATGAGCCACCACACATGGCCTATTGTTGAGGTTTCATAATAGAAATACATTTAAGAGACAGAGCAGAATAGAGTCTAACTGGACATAAAATTGGAATCAGGATACATTTCATAGGGGAGACCATGGATGAACTCCAAAGAGAGGAATGGGATTTGCTGATTGGACAGCAAAGTCAGTAGTATGGCTTGAACAGGAGTTGAGCATAGGGAGATCTGGGTTAACAAAGGGATTAACAATGAGTTTAAAAAAAGAGGCAGGGTCTGCACATCATTAAAATAGCCTTGGCATTTATCTGTAACCATCAGAAAATTAATGAAGGGTGTTAAATAGGAGACTAGCCTGAGTATTGTGGCTGTGGTCTACTGGGTAGATTTGTGGATGTTCTAGAGACTCATGATAGGGAGACTAGTTACCAGAGCTGGACAGAAATGGAAAGATCTAAACTAAAACAATATCACTGGGAGTGAGTGAGACAGGGAGGGAAATTATTAGGGTGGTCCTATGGCATGCTCTTAGACCAGGATTGTCCACAGCAAGTACAGGAATGGAGCGTTCAAGCAAGAGTCCTGTTCTCTTTCATTAACCACACAATATGGAGATTAACCTAGTTGCCATGGTTAAGCAAGGAACTTAACACTATAGCTACACAATAAAATATGTTTATGGTTTCTGTTTGTTTGTCTTTTAAAAATACAATCAGGTATCTGTGAAATAAATACAACTTTTCTGTGAAAGTCATTAATTATCATCATTATTATTTTAGACAATGATTGAATGCACCAGGACTTTACCTTAGAGTTTCCTAAAGAGGACCTTGCCAGGGCATTGACTATAGATTTATCATGCCATTGAAATTTTATATATTATACTCACTGATAAAGAGTTTATCCAACATTACCTTTAAAGCCTATGATTATTTATTATTTTTTTAAAAAAAGCATAATTTCAGACTAAGGCTATAATTCAAAGTCATGTTTCTCCCTGAGGAAAAAAAATGTATTTGCTTTAAGTGATATTCTCATATATAAGGAGATTTATGTAGGAGTCAGTAAATGTCTTTCAGCAATGCCCTGCTGTGATGGGCAGCCTCTGAGATGGCACCAAATAATCCTCACTTCCTGGTACTCGTGCTCTTGTGTAATTCCTCTTCTTAAATGTGTGGTGGACCTAGCGAATATGGCAAGAGTGCTAGGATGTCACTTTGGAGATTAGGTTATGAACACATTGTGATATCTGTCTGTCTTTCCCTCTCTTGCTTTCTCACTGGCTTATGAGAAAAGCCAGTTTCCATGTTTTGAGCCATCTTGTGCAGAGCAGAGTGACAAGGACCCCATGTGACAAGGACCGGAGCTCTCCAGCCAACAGTCAGTGAAGACCCGAGGCCATCAATGGTCACATGAGGAAGCTAGAAGTTGAGCATCCCCTAGTCCAGCCTTAAGATGATGAGAGACCTGGTTGACAATGTTGATTGCAGGCTCATGAGATTCAGAGGCACCTGGCTAACCTACACCTGGGCACCTGACCCACTAAACTGTAACATGAAGACTACTGTTGTGGGATAATTTGTTAGGGAACAGTACATATCTAATAAACCTATTATTGTCAGTAACTCATATTTTACTAAGTTACAGCAAATAAAGGGTTGTATAAATAGTGGATGCTGTAATCTTTGATCTTTAAGTAACAAAATATTATACCTTCATGATTATATTATTTTCTAACAGCTATTCTTTTCCAAGGAATGATAGAATGTTCTAATAGCTATCAATTACATCTATCACTTACCTTAAATGTCAAACCAACCAAACAAACAAACAAACAACAAACCAGTAATTCCTATCTCTGGGCAACATGGAAAATATTATTACATAAAAAATTTTAATCATACAGCATTTAAAAAATTAATTTCCTGTTTTGATACAATGTTCAACTATCTTTCCCACTTTACCACTTGCGATTTTACAATTTTACTGTAAAAAAAATCAGGAAATTATCAGCAAGTACTGTACTACACATTTGAATGGGATTTCTTCATTAGCAAATCAACACCCCAAGTATGGATATCCTTTTATTTTCAGGGATTGGTTGGGCCCCATAACTTTTATGTAAACAATAATAATTCTTTTTCAAGTGGATACTTCTCTGCAAAACTTGGTTTATGAATATTTGCAGAATTTTGCCAATAGTCATGCACTACATAATGACATTTAATATTTAGTCAGAGATGGACTGCATCACTATGGCAGTCTTGTAGGATTATAATGGAGTTTTTTTTTCTTTCTTTTTTTTTTTTTTTTTTGAGACAGAATCTCACTCTGTTGCCCAAGGAGTAGCTGGGATTATAGGCGCATGCCACCACACCTGCCTAATTTTTGTATTTTTAGTAGAGACAGGGTTTCACCATGTTGGCCAGGCTGGTCTTGAACTCAAGTGATCCGTCTGCCTCAGCCTCCCAAAGTGCCGGGATTATAGGCGTGAGCCACTGCATCCAGCCAGAGCTTTTATAATGTATTTTTACTGTACCTTTCCTATGTTTAGATACAGAAACACTTACCATTGTACTCCAACTGCCAACAGTATTCAGTACAGTAACATGCTGTACAGGCGTGTACCCTAGGAGCTATAGGCTATACCATATAGCCTAGATGTGTAGGAGGCTATACCATCTAGGTTTGTGTAAATGCATTCTAGGATATTTGCACAAGAACAAAAGCTCCTAACAACACATTTCTCAGAAGGTATCTGTTGTTAAGTGATGCATGGACTGTAGTTAAACTGACCAGTATTAAACATGCAGTGTTGTGCTCATAAACCGAGATAATGGCATGGCTGGAGGTCTGCACGTGCAGCATTCACAACAGTCATGTTTGCTGGCAGGATTAGAGAATAGCAAGTATGTTAACAAACAGTGGAGTCATTAACTTGGGAATGGTTGCAAAAGGCAGCAAAATCAGAGAAATAGTATAAATTGCTTTTTAAAATTCAGCATTCCCGAAAAGGGCAGTTTTGAAAACCATGAATAGCATATTTAGTATTGGGAAAAAATCCTTGGATAGTAGCCTTAACAAAATAAATAAAGGAAAATAAGCTGAAAAGTAGGGGAGAAAACACTTTTATTTATATTTGAAGGGGTATGCACTGTAATCAGTAATACAAGAGAATCAGTAATACAAGTAGTGAAGTAATGAACTATTAGGTTTACAGAATATGTTAAAACTGTGAGTATGGAGATCCAAGGAATGTAATTAATGGAAAGGTGATTCTTTTAGCTGAATGGCATTACTGACCCATTAATGGTGGGGAATCAAATTTACTGTGCTCTTCAGTGTTTGTTATAGAATTATTTTGAGTTGTAAATATTTCTCCAATTCCTGTGCCATAAAACACACATATATCTTAGATCAATCACTTGGGGCAGATGCATTTCTTATGGAACCATATTCTACATTGTATCAAATTTTCTATCAGAAAGAAGTTTATAAACTAATCAGTTTATGAACATTAAGGTCAGTGAAGTATATTAGACTTAGTATTGTGTTGACGGAAACCTAATAGTTCATTACTTCCAATACTCACTTCTACTTTTACCAATGAAGAGTCTATGATCAACTTTTACCTTCCTTAGCACCATATCCAAATTAGCTGAGATAAATGGATACAAGTGGATAATTAATACCTTCGTGTGTGTGTGTGTGTGTGTGTGTGTGTGTGTGTTAGGTTGAATTTCTTGGAAACACAAAGTTGCCTTTACAGGTTTTCCAGGAAGGGCTCTTTGGAGACGTGAAGATGGCAGGATGGGGCAGAGGAAGAAAGTGACCAACAACTTGGTTATAACTGAGGCCTCAGCTCACCCAGAGGAAACTTCAATGGTTCTTTGAAGTGAGCCCACATTGAAGCATAGGGAACTTCGCTAGCGCCTCTCAGCTCTCCCCACCCCACCTTATGTGGGACAGCATGGTTAGAGTTGGCTAAGGTTAGTTATTTCCTCTCAGAGATACTGGAATTGAGTATTTCCCTTCTCCTGTGTGGAAGGCTAAAGGAGTGGAAGCTAACTATTTCCTTTCTGTCATGTGGAAGCTCGAGCAGGCTGGAATTGGGCATTTACCTTCTCCAAGTTGATTAGGCGCTGATAAAATCCCAATAATTTAGACTTTGGTAAAATAGTTTACCTTAAGGGCAGGTCTTGATAATAACAAAATAAACCATGATTTATTTCATACTGATTTTTTTTTATCCTTTCCCTGGCAAAAGCATAAGGAAATTTTTATCTGATATTCATTGTGAGGCCCTGATAGTGCTCCTGGAAATAAAAGTTGCAAAAGTATGAAGGTCCTTCTTAGACTGGACACTTTTGGAGTTTTTAACTCTCAAACTTATTCACTCTGAGCCTCCAGCAATTTGCCAACTACAGCTTAGGGTTTCCTACCCCTGTACTAATTCCTGCAGTGGTTCCTGCTCATGGATTTCTGTCCCAGTAGATTATGATTCTCCGTGCTCATATACCTGTTTCTTCAATTTGAGAAGCAGAGATTGGTCCTGTGATCTCACTTCTCTGAAAGATCTAAAAAGAGTTGTTGATTTTTCATTGTGTTCAGTTTTTCACATGTTGTTAGGATGGGATGTCAACTACCAGGCTTATATACCACATAAGAACAATAATATCTTTTTTGAATGCCCATTATCTTTCCCCTAAGGACTGTAAGTTCACTGAGTTATCTCCATAGTTTCCTTAGGCCTGGCCTCCTCTGGCTGCAGCCCCTACCTTGCAATCTGCTATAGTTTGGTTATGCTCCCCAACATTTCTGTGTTGGAAATGTAATCCCCAATGCAGCAGTGTTGGAATGTAGGGCCTAATGGGAGGTGATTGGGTCATGGGTGCACTGCCCTTATAAATTGATTGATTCTATTATCATCAGAGTGGGTTTGTTATTTAGGGAGTGCTTTCCTTACAAGAAGATGAGTTCGGTCCCTTCTTGCTCCCTGTCTTTCAGGCTCTCTTTCACACTTTTAACTTCTGCCATGGGAAGATGCAGCAGGAAGGCCCTCTACAGATGCCAGTTCCTCAGTCTTGGACTTCCCAGACTCCAGAACCATAAGCCAATAAACCATAAGCCAATAAATTTATGTTTATTATAAATTACCTATTCTGTTGTATTCTGTTATAGCCACACAAAACAGACAAAGACACCATCCATTACCATTGATTTTGCCAAACTTTTTTTCTGACAGTTAAGTACCAATTCCTGGCATCTGTTATTTCATCCCCTTTGCTCTCAAGGTACACAACTCTTGATAATATTGCCTCCCAGCAGCCCTGGCCTCCAGTAGAAAACCACGACTGAACATTTCAGTGACACTTTTGTTTCTTTTACTGTCATATTTCTTATTGTTTTGGAGAATGGAGTTTCCTCTGGCCTTTCCCATGAAAATAGTTAACTGGTGGAATTTCCTGATTTGTTGTATTCTGACATACCCATTTTTTCTACCTTTTGATTGTTTTATTCATCATGTGTCATGGCATTTCTGATATTTCTTCTTCACTTTGTGTGGGCTGTCACTCTCTCCAATATTCCACATTCCATCTCACCAGTGTGTTGATAATGTCTCCTAGGTTCTTCCTGGGGCAATAAATCTTGTAAAATTGGAGAGTGCTCTATATTCATGAACTCTACCTTCTCCAGTTTTGTATTCTGTGCCATGTAATCCAGCATTGTCAGAATCCAAGGCTTTAAATGTAGATCTTGAGATGGGGGCAGGAATTGTCATGAAGGCATCTGCCTCATTTGAGACTTTTGCATGATGTATATCTAAGATGTGCTATGTTTGGCTTTGTTTTTTTTCTTTCCAGGGAGGTATATGCTTTGATAAAGGGAGGTAGATGATTTTGTCAGATCCAGTAGGTTTAAGGGAGTTCAAGATTTCGAGTTGTATATACCCAGGTATTTCAGTCTCAAGTCTCAGTATCTCAGCATTTCCCTATTTGGGCACTCACATTAGCATATGATACCTGGTCAGGCTTTCTCTGAAGCTTTATTACTCCTCAAATTAAATCCTGAGCCTGCTGTTCTGCCCTGTTTGCATTTTAGCTATACAAAACTCACATCAAGAACATCCTCTGACTTTCATATTTTGTCTGAATTAGTAATTAACCTCCCCAATCTGACATTATCTCTTTTAGCAAATCATTGGTACTTAGTAATAGCTACCAACCTCCCAAATCCTTATATGTATCATTTGCTTTTGGATATGTTTCAACAGACAGCACATCTCCTTTCACTAGGATTCTCCCTCAGAGAAGGTTTACATCAGTGAAAGTCTAAAGAGTTTCACTTCTGCATAATAGTAGTTATCCATGCACCATCTATTAAAAGTAAGGGCCTTTATTGTCCAGCAGCCAGGCCCAAAATTACATTTCAGAGTTTGCCACTTAGGACCACTTCTGGAATCAGGAATCTGAATCTGAGACAGAGAATTTGCTATAATGAACACTGTGTATGCTACCTGGATCCTTGCTTACAGACCAAGGCACTCGTTGCCCTAGTTGCCAAGAGTTTTGCCTGCTGATGGCTCAAAGGGAAGTCTTTTCCCAAGATTTTCCTTCTGCTGAAAAGAGCTGCCTCACCCAAATCTATGGGCCTTTGTCAGGTGCAGCCTACATTCTATGAGTGCTTTAGGTGAAGGTACAAGGGCCTAGATCCCTTGCCTTGATTCAGTGAGACTATACAAGGCCATCCCAGCTCTGAACTCCCTGGAATTAGATAAAGCTTTAATTGCAATTGCATCAGAGTTCAACATTTTCCTCCACCCTTATTTCCCTAAAGGTATTGTTACTGAGAACACTCACCAATAAAAACTTTTGCATACAAATCCCTGCTTCCCAGGATTACATGCCTAAGACAAGTGCAATAAATTTGTTAGAAAGTGCTCTGAAGAAATATAAGTGTAAGGAGTTGAGGAAGGCAGGATTGAGCAAAGGAAAAGGTTGACTTCTGGGGCAGCTTCAAATCTAACGTTAGGGATTCCTGTGGGGAACTTTGTAGCTATAGCTGGAACTGACCCTCAGAATTTTGTTAACTTGTAGTAAGGGGGCCATTGACACTGACTGGCCATTGTTGTCACTTAGGAAAGATCATGCTTGAGTGAAGCAGTTTGGAAGTTGAGAACACTTTCCAATGAGAGACACAACTGTGAGCATCAGGAACAAATATTTCTACAAGCTGAGGAATGAGTTCACTGACCTCAAAAGCAATTTTGGAAGAGTACCAGGTATTCACTATAGTGTACTGTTGTATACATTTCAATATTTCCATATTAGCTAATACAATATTAAAATGTATATAGATTACAAATAATCATAAGCAAAACTCAGTATGAGTCTTTCTGCCCTTAAGATCTATATGCATCATTATTCTAGCTAGCAGCCTATCAATCTTATTTATTCTTCAAAATACAAACCTCTGGTTTTGTCAATCTTCTGTCTAGTTTCTGGTGTCTCAATTTTATTCTGTTCAGCTCTAAATTGGTTATTTCTTTTCTTCCGCTAGCTTTGGAGTTGATTTGCTCTTGTTTTGCTAGTTCCTCTAAATGTGATGTTAGGGGGGCATGTGACCAGGCACTAGTGTGTGTGCACCATCTTCTGCCTCCTGTCCCCCTAAAAAATAAAAATTAAAAATTAAATGTGATGCTAGGTTGTTAACTGGAGATCTTTTTATCTTTTTGACCTGCATGTGTAGTACTATAAACTTTCCTTTTAAGGTGGCTTTAACTGTGTCCCAGGTACTCTGATATGTTGTACCTTTGTTTTCTTTAGTTTCAAGGAATTCTTGGTTTCTGCCTTAATTTCATTCATTGTTTACACAGAAGTTATTCAGAAGCACATTGTTTAATTTCCACTTAATTTTATGGTTTTGAGTAAACTTCTTAGTATTGATTTTTATTTTTGTTGTGCTATGGTCTCAGAGTGTAGTTGTTATGATATGGCTTTCTTAAATTTGCTGAGAATTGTTTTATGGCCAATTGTGTAGTCAATTCTAGAGTATGCGCCACATGCAGAAGAGAAGAAACTATTTGGCCAAGTGTTTAATCCAGGTCCCAAATATCTTTGTTAGTGTTCTGCCTTGATGATCTGCCTAATACTTGGCACTTTTGTCTAACACAGTGACATGCTGAAGTCTCTCACTATTATTGTGTGGTTATCTAAGACTCTTTGTAGGTCTCTAAGAACTTGTTTTATGAATCTGGGTGCTCCTGTGTTGGGTGCATATATATGTATTTTCATATATATATATATGTTTTTTTAAATGTTGTGAGTACATAGTAGGCATATGTATTGATGGGATACATGAGTTATTTTGGTACAGGCATGAAATGCATAATAATCACATCATGGAAAATTGGAGATCCAAACCCTCAAGCATTTATCCTTTGTATTACAAACAATCCAGTTATATCTCTTAGTTATTTTTAAATGTATGATTAAATTATTATTGACTAAAGTCTCCCTTTTATGCTATCAAGTATTAGGTCTTATTCATTCTTTCTATTTTTTTGTACCCATTAACAATCCCACCTTGCTGTCACCCTGTTCCCCACCCTTCCCAACCTCTGGTAACCATCCTTCTACTCTCTATCTCCATGAATTCAATCGTTTTAATTTTTAGCTCCCACAAATAAGCGAGAACATGTGAAGTCTGTCTTTCTGTGTCTGGCTTATTTCACTTAACATAATTACCTACAGTTTCATCCATCCATGTTGTTGCAAATGACAGAATCTCATAATTTTTTATGGCTAAGTAGTACTCCATTGTGTATACATACCACATTTTCTTTATCCATTCATCTGTTCATGGACACTTGGGTTGCTTCCAAATCTTGACTATTGTGAATAATGCTGCAACAAACATGGGAGTGCAGTTATCATTTTGATATACTGATTTATTTTCTTTGGGATATATACCTAGGAGTGCAATGGCTGAATCATAAAGTACCTCTATTTTCAGATTTTTGATAAACCTCCAAATTGTTCTCCAAAGTGTTTGTACTAATTTACATTACCCTCAACAATGTACAAGGGTTACCTTTTCTCCCTGTCCTTGCCAGCATTTACTATTGCCTGACTTTTGGATAAACGCCATCTTAATTGTGATGAGGTGATATCTCAATGTAGTTTTCATTTGCATTTCTCTGATGATCAATGATGGTGAGCACTTTTTCATAGGCCTGTTTGTCATTTGTATATCTTCTTTTGAGAAATGTCTGTTCAAACTTTTTTCCCCATTTTTAAATCAGATTATTAGATATTTTCCATTAATTTACTCCTCCTGTCTAATTGCTCCAGCTAGACATTCAGTACTATGTTAAATAACAATGGTGGAAGTGGACATCTTTGTTGTGCTCCAGATCTAAGAGGAAAGATTTTAGTTTTTCCCCATTCAGTATGATATTACCTGTGGGTCTGTCATATATTGCTTTTACCATGTTAAGGTATGTTCCTTCTACACCCAGTTTTGGGGATAATTGAGTATTCTTATTGAATTGAACCCTTTACCATACATAATGCTGTTCTTTATCTTTTTTGATTGTTGTTGGTTTAAAGTCTGTTTTGTCTGAAATTAGAATAGCAACTCCTGCTTTTATTTGTTTTCCATTTGCTTGGTAGACTTGTCTTTATCCTTTACTTTGAGCCAATAAGTGTAATTGCATGTGAGATGGGTCTCTTGAAGACAGCACACATTTTGCTCTTGCTTCTTTATCCAGCTTGCCATTCTATGCCTTTTAATTGGTGCATTTAGCTTATTTACATTCAAGGTTAATATTGATATGTATGGATTTGATCCTGTCATCTTGTTGTTAGCTGGTTATTAAGCAGACTTTATTGTGTAGCTCCTTTACAGTGTTTACAGCTTTCATAGAAGCATTTTCATAGAAGTGTGGAGATAAATCATATTATGGCTAGGGGCCATGAATGGTAGGAGCAGTCATAAGAATTCTTGCAAAATGTGATGAGTGTATGCAAGTTAAATGAGCCACTTATCAGTAGGACTGATAACAGGATAATGGCTAGGGTGACCTCATATGAAATTGTCTGGGCCATAGCTCATAATGCATGGATTAGTGCATATTTTGAATTAGATGCTCATCCTGATCATAGAATAGAGTAGATGGTTAAGCTTGATGTGGCTAGTATAAATAGAAGACCTATATTAAAATTAATTAGATGATCTGGCATAGGGAGGGGAGTTCATAAGAGGAGAGCAATAGAAAGGGCTATGGTTGGAGCAATAATATAAAAGGTAATAGTAGATGTTGGAGGCTGTAAGGGTTCTTTGTTGAAAAGTTTTATTGCATCAGCAAAAGGTTGAAGCAGCCCATAGGGACCTACAATGTTGGGTCCCTTGCATAGTTGTTTATAGCCTAAGATTTCTCATTCCATGAGCATAAGGAATGCTATAGTGATAAGAGTGGGGATAATGAGTAGGAGAAGGTTAATTATAGGCATGTAGTTAAGAAGAGGAGTTCAACTCTGATTACAAAGTTTTAAGATTTATGCAATTGCTGGGCTCTGCCATCTTAACAAACCCTGTTCTTGGGTAGGGTGGTGATGATTTTTTAGATTGAGATAGCATCCTCTATGAAGTGAGGGCACTTTATGAAAGGGACTCTATTTCTCTTGTCCTTTCATACTTGGAGAAATGTTAAATAGATAGAAACCAACCTGGATTACTCCAGTCTGAACTCAGATCACATTAATTGACTTTAATCATTGAATAAATGAATCCTTAACAGTGGTTACACCATTAGGATGTCCTGATCTAACATCAAGGTCATAAACCCTATTGTCAATATGAACTGTAGAATGGATTGTGCTGTTATCCCTAGGGTACCTTACTCTGTTGATCAAATTATTGGGTCCATATGTATTAACTCACTTAGACTAGTGCAGTCTTAGTGTAGGTTGTTCAGAGGTTGAATTATGCTCCAAGGTCACCCCAACCAAAATTTTTAATGCAAGAATAGTAGGCTAGAGCCTGTAGGCTTGTTTGAGTTTTAATTTGCATTAATGAATTAAAGCTCCATAGGGAGCTTCTCATCTTATTTGTTTATATCTGCCTCTTCACGGATAGGTCAATTTCCCTGATTAAAAGTAAGAGGCAGCCGAACCCTCCTGTGGCCATTCATACAAGTCCCTATTTAGGGAACAAGTGATTATGCTACTTTTGCATGGTCAGGATACTGTGGCTGTTGAACAAATGTCACTGGGCAGGCAGTGCCTCAAATACTGGTAATGCTAGAGGTGTGTTTTTGGTAAACAGGCAGAGTATGATTTGCCGAGTTCCTTTTACTTTTTGTAATCTTTCCTTAGAGCATACCTGTGTTGGGTTAACAGTGTAAATAATAGGGTGTTTATTATATTGTTTATTAATATTAGGCTGTTAACTGTCAGTGGATTATTCTGGTCTGATGTAAGCTTATGCAATGGAGAATGTCTTCATGTTACTTATACTAACATTATTGTGTCTATTAAGTAATAGATTAGTCCAGTGTGATGTTAGGAGTTCAGTAGAGTGATTAGAATTTAAGATAGATGTTGAACTTAAACATGTTCTTAATTGGTGGCTGCTTTTGGGCCAACTGTGGTGGTAATATTTTTTATTTTCTGTAGGAAGGTTGTTTCCTAGGGTCTAAAGAGCTGTCCCTCTTTAGACTAACAGTTAAACTTACAGGGAGGTTAAGTAATTCTGTGTATAAGCTTAAAGTTGAACTAGGAGTCTATCTTGGACAACCAGCTATCACCAGGCTCCATAGCCTTGTCACTTCTACTCATGAATCTTCCCACTATCTTGCCACATAGGTGAGTGTGCTCTTTCAGCTGTTCTTGGGTAGCTTGGCTGGTTTTGGGGGACTTGGCTATAGTTCTCTGTGTAAAGTTATTTCTGGTTAATACATTATGCAGAAGGCATAAGGGCTTGTCTTTGCTTTTCAGTGCTTGATACAGTTCTTTCATCTTTCCCTTACTGTACTAAGTCTATTGTGCCAGGCTAAAAATTTCTATCACCTATACCTTTATTTAAGGTAAATGGTTTGATTAAGATAGTTTGATAATATTTTCATAGAAGTGTGTAGTTAAGTTTCATAGAATGTCTATGTAGTTAAGTGTTTTTGTGGTGGCCAGTAACAGTCTTTTGTTTTCATATTGAGCACTCCCTTTAAGATCTCTTATTGCTCTACCGTAAAGATATATCCATGTGTATGTTCATCACAGTACTATTCACAACAGCAAAGACATGGAATCAACCTAAATGCCCATCAAGGGTAGACTGGATTAAGAAAATTTGGTCATATACACCATGAAATACTATGTGCCCATAAAAAAGTATGAGATCATGCTTCTTGCAGCAGCAGCATGCATGGAGCTGGAGGCCATTATCCCAAGTCAACAGAAAACCAAATAATGCATGTTCTCACTTATAATTGGAAGCTAAACATTGAATACACATGAACACAAATAAAGAAACAATAGATATTGGGGCCTACTTGAGGGTAAAGGGTGGAGAAGAGAAGGGATCTAAAAACTGTCGGGTACTATGCTTATTACTTGAGTGACAAAATAATCAGTACACCAAACCCCAGTGACATGCAATTTACCTAGATTTCAAACCTGAACATGTACCCCCTGAAACTAAAACAAATTAAAAATCAAAAATCCGTAAGCATAAGCAAGTATCCATTGCAATACTTTAGAGAAATCTAATAATTTATTGGGGAAGCAGGGTATCTTCTCTTAACTATAGCTCTGTCCTGATTTATGAGCAATTGCACCATATCATATGTGATGGTTAATTTTATGTGTCAATTTGGCTAGGCTATAGTACCAATATATTTGGCCAAACACCACCAGTCTAGATATTGCCGTGAAGATATTTTTTAGATACAGTAAACAGTTAAATCAGCAGACTTGGAGTAAAGAAGATTACCTTCCATAATGTGGTGGGCATCATCCAATCAGTTGAAGACTGTAAAAGAAAAAGACTGAGGTCCCCAGAGGAAGAGGAAATTCTGCCTCCAGACTCAAGATGCAACATCAGCTCTTTCCTAGGTCTTTAGCCTGCTAATTTGCCCTGAAGATCTCAGACTTAGACTTGCTAACCTTTTGCACTGAGTCACAGCACATGAGCCAATTCATTAAAGTAAATATTAAAGTAAATCTCTCTAGGTAGGTAGGTAGGTAGATAGATAGAACACACACACTCACTCACACACACATACACATACTTACATGTGTGTGTGTGTGTATATGTATATATACACACACATATATGAGTTTTTTTGGTATTTATGTTGCTTAAGGATCTTATGCTTCTTAAATATGTGACTTAATATGTTTTACCAGTTTCAAAAAATTACCTCTTCACATATTTCTTTTAGCCATAAAACATCTTTTAAAGGGCTAAAGGAAATTAAATTTTAAACACACTTGCACCCCAAACGCATACAGAAATACTAGTAACAAACTATAGAAATGATCCCTGAAAGTATAATCTTGAAATACTAAGAGTTCTTCAGAGTCATATGTCTAGGTGGAGGGAAGGGAAGGAAAAATCAAAAGTACTAAATCTAAAAGAAGGTCATGAAAGAGAGCAAAAGGAACACAAAAGGTAGTCAATAGAAAACCATAGTAAAGAGTTCATTTAAATCCACTGTAGAAAACAAAATGATGGAAAAAGATGTATCAGGCAAAAGCTAACTTAAAAGAAACCTTGGATGGCTATACTAATATGGTACAAAGTATACCTGAAAGAATAAACATTAGTATTGACAAAAAGGACTTTTATGAGTCTAAAATAATCAACTAAAAGATGTATAATTCTACATTTGCATGCTCCTAATAATATAGTCACAAAATATGTAAACTCAGAACTTTCAGAAATAAAAAGAGAGGCAAATCTGCAGTCATAGTTGGTGATTTTCACACACTTCACTCAGTAACTGATAAAATATTTTGGTGTGGATAGAACTTGCATATGGTGTTGGTTAGAGAGTAAATTGGAACACTCACTTTAAAAGACTCTGACATTATTCATTGAAGTTGAATATACACATAGCCTATGGCCAGAGATTTTCCTCCCAGGGTATTGCCAATAGAATATCAAGAAATATGTACAAATGTTTACAGAGGCTATAGTTGTAAAAGGCAGACTGTAAATAACTGAAATGATCATCTATTGTAGAACTAGGAAATTTATTTGGATTTCATAATGATGATGGATTATCATCAGCAGGAAGAAAGAATGAACTAATATTATGTGCAATAATCTAAATGAATCTTACAAACATAATGACAGGTGAAATAAGTCAATTACAAATAATTCAAACCATAACATTCTATGAATAGAAAATTCAAAAAAATTCAACATAGTCTTATAAGTCAACGTGCCAGCTATATTTGGAAAGAGGCAATAGTCAGTGGAAGAGAACACAAGGGAAGTTCCTGAGACTTAAATAAAGTTCTATTTTCCTGAGACATGGATAGTGGCTTAATGGGTAATTTATTTTTGTGATAATTCAGTAAGCTTCTACTCATGAATATTCCCACTTAAGAGTGGAACACTTTATTTTATCCAAAATCTATTTTCAAGTTAAAGCATGCAATAGCATTGTGCAAAAACCGATTTACCTGATGAATTTAATCCTGTTCTATTGAATCATCACTTTCAAGTTCTACTCCTGAAGACAGGCTTGGTGTACCCTTTCAGGGCATTCAGCAATATTCTCTAGTGAAGTCAAACTGAAGACACACTAGCAAAGCATCTTAGAAATCCCGCAGAAATACAAACTACCATCAGAGAATACTACAAACACCTCTATGTAAATAAACTAGAAAATCTAGGAGAAATGGATAAATTCCTCAACACATACACTCTCCCAAGACTAAACCAGGAAGAAGTTGAATCTCTGAATAGACCAATAACAGGAGCTGAAAATGTGGCAATAATCAATAGCTTACCAACGAAAAAGAGTCCAGGACCAGATGGATTCACAGCCAAATTCTACCAGAGGTACAAGGAGGAACTGGTACCATTCCTTCTGAAACTATTCCAATCAATAAAAAAAGAGGGAATCCTCCCTAACTCATTTTTTGAGGCCAGCATCATCCTGATACCAAAGCCTGGCAGAGACACAACAAAAAAAGAGCATTTTAGACCAATATCCTTGATGAACAATGATGCAAAAATCCTCAATAAAATACTGGCAAACCAAATCCAGCAGCACATCAAAAAGCTTATCCACCATGATCAAGTGGGCTTCATCCCTGGGATGCAAGGCTGGTTCAATATATGCAAATCAATAAATGTAATCCAGCATATAAACAGAACCAAAGAGAAAAACCACATGATTATCTCAATAGATGCAGAAAAGGCCTTTGACAAAATTCAACAACCCTTCATGCTAAAAACTCTCAATAAATTAGGTATTGATGGGACGTATCTCAAAATAATAAGAGCTATCTATGACAAACCCACAGCCAATATCATACTGAATGGGCAAAAACTGGAAGCATTCCCTTTGAAAACTGGCACAAGACAGGGATGCCCTCTCTCACCACTCCTATTCAACATAGTGTTGGAAGTTCTGGACAGGGCAATTAGGCAGGAGAAGGAAATAAAGGGCATTCAATTAGGAAAAGAGGAAGTCGAATTGTCCCTGTTTGCAGATGACATGATCGTATATCTAGAAAACCCCATTGTCTCAGCCCAAAATCTCCTTAAGCTGATAAACAACTTCAGCAAAGTCTCAGGATACAAAATCAATGTACAAAAATCACAAGCATTCTTATACACCAACAACAGACAAACAGAGAGCCAAATCATGAGTGATCTCGCATTCACAATTGCTTCAAAGAGAATAAAATACCTAGGAATCCAACTTACAAGGGATGTGAAGGACCTCTTCAAGGAGAACTACAAACCACTGCTCAAGGAAATAAAAGAGGATACAAACAAATGGAAGAACATTCCATGCTCATGGGTAGGAAGAATCAATATCGTGAAAATGGCCATACTGCCCAAGGTAATTTACAGATTCAATGCCATCCCCATCAAGCTAACCAATGACTTTCTTCACAGAATTGGAAAAAACTACTTTAAAGTTCATACGGAACCAAAAAAGAGCCTGCGTCGCCAAGTCAATCCTAAGCCAAAAGAACAAAGCTGGAAGCATCACACTACCTGACTTCAAACTATACTACAAGGCTACAGTAACCAAAACAGCATGGTGCTGGTACCAAAACAGAGATATAGATCAACGGAACAGAACAGAGCCTCAGAAATAATGCCACATATCTACAACTATCTGATCTTTGACAAACCTGACAAAAACAAGCAATGGGGAAAGGATTCCCTATTTAATAAATGGTGCTGGGAAAACTGGCTAGCCATATGGAGAAAGCTGAAACTGGATCCCTTCCTTACACCTTATACAAAAATCAATTCAAGATGGATTAAAGACTTAAACGTTAGACCTAAAACCATAAAAACCCTAGAAGAAAACCTAGGCATTACCATTCAGGACATAGGCATGGGCAAGGACTTCATGTCTGAAACACCAAAAGCAATGGCAACAAAAGACAAAATTGACAAATGGGATCTAATTAAACAAAGGAGCTTCTGCACAGCAAAAGAAACTACCATCAGAATGAACAGGCAACCTACAAAATGGGAGAAAATTTTCGCAACCTACTCATCTGACAAAGGGCTAATATCCAGAATCTACAAAGAACTCAAACAAATTTACAAGAAAAAACAAACAACCCCATCAAAAAGTGGGCGAAGGACATTAACAGACACTTCTCAAAAGAAGACATTTATGCAGCCAACAGACACATGAAAAAATGCTCACCATCACTGGCCATCAGAGAAATGCAAATCAAAACCACAATGAGATACCATCTCACACCAGTTAAAATGGCAATCATTAAAAAGTCAGGAAACAACAGGTGCTGGAGAGGATGTGGAGAAATAGGAACACTTTTACGCTGTTGGTAGGACTGTAAACTAGTTCAACCATTGTGGAAGTCAATGTGGCGATTCCTCAGGGATCTAGAACTAGAAATACCATTTGGCCCAGCCATCCCATTACTGAGTATAAACCCAAAGGACTATAAATCATGCTGCTCTAAAGACACATGCACACGTATGTTTATTGCGGCACTATTCACAATAGCAAAGACTTGGAACCAACCCAAATGTCCAACAATGATAGACTGGATTAAGAAAATGTGGCACATATACACCGTGGAATACCATGCAGCCATAAAAAATGAAGAGTTCATGTCCTTTGTAGGGACATGGATGAAATTGGAAATCACTATTCTCAGTAAACTATCGCAAGGACAAAAAACCAAACACTGCATGTTCTCACTCATAGGTGGGAATTGAACAATGAGAACACATGGACACAGGAAGGGGAACATCACACTCTGGGGACTGTTGTGGGGTGGGGGGAGGGGGGAGGGATAACATTAGGAGATATACCTAATGCTAAATGACGAGTTAATGGGTGCAGTACACCAGCATGGCACATGTATACATATGTAACTAACCTGCACATTGTGCACATGTACCCTAAAACTTAAAATATAATAATAATAAAATAAAAAAAAAGAATTCAGAAGTGCCCTAAAATATTTAAATTGCAGGAACTATGTGTTTCGAAGTGTTTATCTGTGAGAAACTTTTCAAAACACAGCAAAAAGTGTACTAGTAAACTTGTTCTTCTATGTTGGCTTGGGAAATTATATCACTAAAGATGTATTAATGTTGCTAAATTTCACTGCATGAAATGTTAAATGTTCCGCATTGGATTTGTGGTACCAGAGTTTTAAAATGCTGTTTTTTTAAAAAAAAAAAAAGAAAAAAGAAAAAAAAACTATGTGAGTACTGTGTGTTATATTAGCAATCGACTTTTTCCAGAAGAGTAAAGGAGTGATTCAACCTATTAGTTATAAAAAGGATATTACATATGATAGGACTGAGGATAGCAAAGTGTACATGTCTGGAGTAGAGAGTAAGGGGTACTTTTACATGTTAAATATAGACACACATGGAGGCACTCATAACCTGCACACACAGCCTGAACTCTGACACAATATGTCTGTGCTTTTCCAATTGTCAATCTCAATCTTTTAGTGATCCATGACATCAATGCATAGGTTGGGACCAGAATTTTTTAATGAAATAAAGTAGAACAAATTAGAATGAAATGAAATGGAGTAGAGTGGAGTAGAGTGCAGTGGAATGGATGGAATAAGAGGAGATGAGATGAAATAGAATAGAATTGAATAGAATTCAGTATCAGTTTTGTTTCTGTTTTCATACCTGTGCTTATAAGTACATATTGTAAAATGCATCTTTTACTTTGGGCCAAAATGGTGGAAGCCATTGAGCTACACTACTGTACTTTATACAGAAGTCAAGTAACATTTTAAGGGGTTAATCATTTTTCTGTACCTGAGTGTTGAAGTTGGTTTTGATAGTGATTGATGGGAGAGGAAGAAACCTGAAGATACCAGTGATTACTACACATCTTGAGTTCTGTCTTTCACAGTTTGCCTGAATGGAAGTGATGGTGCTGGCACAAAACCAATTCTTTGCCTGAATGTTTGTGTTCCCCCAAAATTTGTATGTTAAAACCTAAACACCAAGGTGATGATGTTAGAAGTTGGGGGTCTTTGGGGATTGATTAGGTCATGAGAACGCCATCCTTGTGAATGGGATTAATGACATTGTGAAGGAGGCCCCAGAAGAAGCCTTGCCTCTTCCACCATGTGAGGACACATGGAAGGCACCAAATCTGCTGGTGTCTTGATCTTGGATTTCCCAGCCCCCAAAACCGTTCTAGTATTTATAAATTACCTAGTCTAAGGTATTTTTTTACCGCAGCCTGAATAAAGACAATTCATTATCCTCTTTCATCAGACTGGCACTGAATGTGCTTGCCTATGCTACAGCTACTGGAGATTTTGCTGTTTGCTTTGTGTTACTATTTGGTCTTACAGTTATGAAATGGGTAGAAATTATTCTCCCACATCCTTGCATCCCTCTGCTTTTTTCCTCTCCCTTCCCTTTGTTGCATTTGGTTCAGAGAATGTGTGTCCTTATGGTAACACTTCATCCTGGCTTCCCAGACTCCTCACTTCAGGGATCTATAAGGTGATTCTTTTTTTTCTCCTGTTTCTTTGAAACTTACCTGATCTCCATCTCATGACTCTGTGGCCTTACAGATGATCACCCAAGTTATTTTTCAGACACTGATTCAGACTGAAATAGTACTCAATGTGTATGTGGCACCTTCTAGGAGGTATTTTTATTTCTAATGGAAGCAGAGTATTAATGAAAAGGAATGAAAATAGCATAGGAGGCATATTTGGCTATAGTGGAAGCGGATTGCGGAAATTTAGAAAGTTTCTTTCTTATAAGGAAACCAAGAGAAACTCTGCCTAAACATACAACTGGTCTTCATTAAAGCTCCAGACACTCTTTTAGTCTGTTTCAAGCATGACAAAAATTAAGCCATTACTATATTTAAAAAATTATTTAAACAATTTGTTACTGAAGGCAAATTTAGAAATAGAACCAAGAAACTTTATTTATTTTGTCAACACTCTACTGAGCAATTATAACTTGAAAACTTACATTATTATTTATCCCTACTCTTTCTTTGCTATTTTGGCCCAAAATGTGCTGAGTTTTTCTGATTTGCACCCAGAATGTTTTGTTCCTTGCTTTGATCCCTCCTTTCTTTTCCTGTAGCAACTGTATTCATTTTATCTAGATGGAATATTTCAAGAGCCTCACAGTTTCTTCTCTTCCTCTTATTCATTCACGTTTTCATTTGTATTATACCTTCAAAACCATAGTTCTGATCATTTCACTCACTTGTGCAAAATCATATGTGTGCCTCAATTACCTATAGAATAAAATCCAATATTCTTCCCTTTGCTTCAAATTCCTCAACCATCTGGCTTCATCATTCCTTTTACTCATTAGCTAAAAGAAATTAATTGCTACTCATTGAATAGCCCACATACTTCTGTAATTATACTTTTGGTTACTCTTGTGCATACATCTTACTGGAATTTCCTTCCTACAGTGTCTGTGGTCCAGAATCCCTTATAATTTTCAAGGACCAGAAGAAATACCACCTTCTCTAAGACACCCACAATACCTGCTTCACAGAATGAACATAATCTCTTTTCTCCCCTCATAACTATCCTAGCACTTTGTGTGTTAAATTCTTGACCACTTTTTTCTTGTTTAATATTTTTACTTGAGAAAAACTTTATATATAGTAAAATGAACAATTCTCAATAATATAGTTTAATGTGTGCTAAGAAATGCTTACACCTGAAATAGAGATACAGAGTATGTACATTATCTCAGAAAATTCCCTACGGCCCTTGGATAGTCAATCCCCACTACTGCTCCTTGCCAAATGCAACTAGTGTTCTGACGTCTTTGACTACAGATTATTTTTGCTATTTCTACAATTTCATATAAAAAGAATCATTCAGTGTCTTCTTTTTTTTTTTTTTTTTTTTGAGATGAAGTCTTGCTCTTGTCCCCCAGGCTGGAGTGCAATGGCGCGATCTCGGCTCACTGCAACCTTCACCTCCCAGGTTCAAGTGATTATCCTGCCTCAGCCTCCCAAGTAGCTGGGATTACAGGTGCACACCAGCACACCCAGCTAATTTTTGTATTTAAGTAGAGACGGGGTTTCACCATGTTGGCCAAACTGGTCTCAAACTCCTGACCTCAGGTGATCCACCTGCCTCAGCCTCCCAAAGTGCTGGGATTACAGGCGTGAGCCACTGCATTGTAGTTTCTTTCACTTAAACTGTATTTGAGAGTCAGTCACGTTTTATCAGTAATCACTCATTTACTATTTTTAATGCTTAGTTGTATTCCACTGGATGAGTACAACACAATTTGTTCATTCATGGATGAAAATTTATTATTGTCCGTTTTTTGGCTATTATGAGAAAGTCACTATGAACAATCTTTTTATGAACATACATTTTCATTTCTCATGGATAAATAATGCCAACTGTATTCTCATGGATGAACCTGCCAGATTATTTGCCAAAATGGTTAAAACCTTTTATACTCCAGTGAGTAATGTATGAGAGCTCCAGTTGTCTACCTCTTCAATAGTTGATGTCAGTCCTTTTAACTTTAACTGTCTGGTGGGAAGGTAAGTTAGCACAGTTATAATTTTCATTTCCCTGATGACAAAAGCTGTTGAGCTCTTTTCATGCACAAATTGATAATTTATATTCTTTAGTAAAGTGTCTGTTTAAAACTTTGATCTAATTTTTAAACTTTGTTGTTTGCCCTTGTATTATTGAATTATGGGAGTTCTTTATATATTCCAGGTACAAATTATTTGTTATATGTATTTATTGTAAATGCTTTCTTCCAATTTGAGGGCTGACTATACCTGTTCTAAGTAGTGTTTTTTGATAAGTACAAGTTTCAATCTAGATTATGACCAATTTATCAAGCCCACATTTGGGACTCTCATTATCTAAAATAATGTCCAGGTGCAGATGAGGCCTTGCAGGTGAGTTTCTGCAAATACAGTTTCTCCAGTCAGAAGATCTATGAGCTAAAGATATCACCTGCTTCCCAGGCACCCAATGTGCAAGGGTAAGATCAGCAGAGCAAAACCACTGTAGATGTCCTATTTGAAGAAGAGGGAAACACGAGGCACTTCACACTCATTAGTCTATAGCAATTCTGAAATGCATGTGGGCACATGCTGCCAGTTCCTTGGCTATAACTTAGTTAGAAAAAGTCACTATTGCTCTCAGATTCACCCTCTGGATTCTTGGTCCCTCCCTGTGTGTCATCCAGCTGGTGTTTATGGCTAAGTACTTTCCTCAGGATCCCATATACATCTTGTGTTTTTTTTTGTTGTTGTTGGTTGTGTGTGTGTGTGTGTGTGTGTGTGTGTGTGTGTGTGTCCTGTGATCTCTTCTTTGCCCTCTGGGTTGCTTAAAAATGTGATTTTTGATTTTCATATATTTGGGGGATTCTACAAATATCTTTCTGCTTTTAATTTCTACTTTACTTCTGTTATGTTTGGAAAATACACTCTGTGTCATGTCAGTAGTCTTAAATTAATGAACTTATCTTATGTATCATTATATGGTGCATCTTTTTAAATATTCCATGTGTACCTGAAGAGTGTGTGTATTCTGCTGCTGGTTGATGAACTGTTGTATAAATATAAATTAGGTCAGGTGTACTGAGAGTGTTGATCAGACCTTTTATGTTCTTACTATTTTTTATTTTACTTTTGGTTTACTGTTTCTATTAATAATTGAAAGAGAAGAGTTAATATCTCCAATTATAATTGCAGATTTTTCTATCTCTCCTTTAATTATGTCAGTTTTTGTTTTATATATCTTGAATTTCTTTTATAAGGTGGATATATATGTCTCCTTGAAGAATTGAACCTTTTAGCATTATGAAATGCCCTTCTTTATCTCAGTTAACATTCCATGTTTGAAGCATCTACTTTCTACCCACTCTAGCCATTTTATGATTAACGTTTGCATGGTATATCTTTTCCCATCATTGTACTTTTAACCTAGTTGTGTTCTTATATTTAAAATAAATCTCCTGTTAAAAGCATATAATGAATCTTGTATGTGTGTTTTCTAGATGGACAATTTGTACTTTAAATTAGAGTGTTTCATCCATTTGCATTTAAAGTAATTATTGATGTAATTGAGTTTACATCCTGTCATTTCTCCCACTATTTGGCCCATCTATTCGGCCCATCTATTCTTTGTTTCCCTTTGCTTCTTTTCCTTACCTCTTTTGGATTAATAAGCGGTGTGTGTGTGTGTGTGTGTGTGTGTGTGTGTGTGTGTGTATTCTGTTTTATCTTGATTATTGTCTCATTAACAATACACTTTTGTTTTAGTTTTAGAGGTGGGTCTATTGCAAATGGAGACCATATCATAGTCTCTGTCAAAAGAGCAATACTACTTACCACTTCACATATTAGGTAAGAGATCTATAACAACATACTTTCACTGCTCCCTCATCCTTTATTCCACTGTTGTTGTATATTTTATTTCATTTTGTATATACCTCACAATACATTGCCATTATTTTGTTTTAAGGTTCAATTTTTTTGTTTTTTTTTTTTTTGAGATGGCGTCTCAGTCTGTTGCCCAGGCTGGAGTGCAGTGGCATGATCTCGGCTCACTGCAACCTCTGCTGCCTGTGTTCAAGCAATTCTCCTGCCTCAGCCTCCTGAGTAGCTTTACAGGCCCCTGCCACCACACTGGGCTAATTTTTGTATCTTCAGTAGACACAGGATTTCATCATCTTAACCAGGCTGGTCTTGAACTCCTGACCTTGTGATCCACCTGCCTCAGCCTCCCAAAGTGCTGGGATTACAGGTGTGAGCCATCACACCCAGCCTAAGGTTCAATTTTTTAAAACAAGTTTTTAAAAAAGAAAATGTCTTTATTTTTACCAATGTATTTCCTACTTCCATGGCTTTCATTTAGAAGTGTAATCCAAATTTCCACTTGACATTTTTCTCCTTTAGTCTGAAGAACCTTATTTGACATTTCTTTCAGTGCAAATTTGTGGTGCTGAATTCTTCTAACTTTTGTTTATTTTAAAATGTCTTTATTTTAACATCATTTTTAAAAAAATGTTCACTGGTTATAGAATTCTAGATTGACATGTTATCTTTTCTTTCAGTATTTTTAAGATAGAATTTCCATATCTTCTGGCTTGCATTGTCTTTTTTGTAAGAAACACAATACTTTTTATTTATGTTTTCCTTCTATTTGTGTGTATTATACTTAGTGTTTTGTTGCTTTTTAAGGTTTTCTCAGACCGGGAGCAGTGGTTCATGTCTGTAATCCCAGCATTTTGGGAGGCTGAGGTGGACAGATCACTTGAGGCCAGAAGTTTGAGACCAGCCTGGCCAACATGGCAAAACCCCATCTCTACTAAAAATACACACACACACACACAGACATACACACACATATGCACACACAAAAAATTAGCTGGGCATGGTGGCTCATGCCATAATCCCATCTTCTTGAAAGGCTGAGGCACAAAAATTGCTTGAACTCAAGAGGTGGAGGTTGCAGTGACCCGAGATTTTGTCACTGGACTAAGCCTGGGTGACAGAGTTAGACTCTGTCTTGGAAAAAAAAAGTTTGCTTTTTATCATTGTTTTTACAGAGATATGTCTATGATAGTTCTACAAGTTTTTTATTGTGTATATGTTCAATCTGCTTGTAATTTATTGAATGCTTAGGATCTAAGAGTTTATATTTTCAGCAAATTTGGAAAATTTGGGGCTATTTCTTCAAATGTGTTTTCTATCCCAATTTCTTTCTCCTTTCTTCCTAGGAGTCCAATTACATGTATGTGAGGGCATTGGATATTGTCCCACTGTCTTTAAGACTGTCATTATTTCATATTTCAGCATTTTTAGTCTATGTGCTTCATTTTTGTTATTTCTTACTGCAATTTCCTCAGATTTTCTGATATTGTTTCCACAGTATTCCACCAATTTACTAATTAGTTAAGTGATTAACTAATTTTAGATATTTTAGGTTTTAAGGTCTGCTATTTCCATGTTAACATTTTCTACAATTACCATTTCTCTACTGAGATTCCCCATCTGTTCACTCATTATGCTCATAATTTCCTTTATATTTGTCTGCTAATTCCAACATCTTTGTCATCTCTGGGTCTATAATTAACGACTTTCAAAAAATTCATTATTTATTAGTCACTTTTTCTATATCTAGTAATTAAAATGAAAATTATGCTGGATATGGTGAAATATCACTGCCAACCAGCAACACGATTGTAAGTCTAGTGCCAGACTCCAGTCCCAGACCCTCCCAGCTGCACCAGGTTATTTTCTTATACATCCAGCAATCTCTTAAAGGTAGAACCACCCTCCCTGCAGATACCTAAATTCCCAAGGGTGTTAGGGGACAAGGGAGCAAGAGTACAAAACGGGACTCTCCTTACACTGAGTTAGCTGCTGAGTGGGGAAGATGGAAAAGCAACCTCTCCACCCTGCAAGGCCGCTAGGAAGAGAGCCTACTCAGCTCTCAGGGTGCGCTCTCTGATCTGCCTGTAGTGAGAGATAGCTGTGACAGGTGTAAATACCTCATGTTGTAAATTTCATGAAAGTAATACACCTGGGCCATCTGGCCCAAAACCGCAGCCTGCTGTGCACTCCCCCTCCACACCCCAACTGCTGGGAGAAACACAATGCAAAGCCCACGTGCCTCCAGGGAGGGAAGAGCCAGGGCCACAGACAAGGCCTCCAGACTAGCAAAATCATCCCAGCTACCAGGTCGGAGCCCGGGCTACATGGCAGTTACTGCCGAAGTAAATTTTTTTACATCAATCCATTTACTCTCCTGAATGATGCTATAACTGAGATAATACCCTCATATCACCAATGAAACACAGACGCAAAAAGGCTGTCACATGCTCAGTGTCCTGAGCTCATCAGCAGCTGATCCCTGATTGAAGCCCAGGTCTGTTGACTCCAGTGCTCGCAATTTTTATGACTACACTAAAACATTTTTATCCTTCATTTCCTCCCTGGGTTCCTCTGCTCCCTTTCTCCAAGAGGTGGTAATAAGGGTTTGTTAATGTAAGAAAAATTGGTGATCTGTAAACTCTCAGCCCTAGAAAGTCTAAGCAGAACATTTTCTTAGCCTTTTAGAGGCTGCTGTGGGGCCAGACATCATAGTTAAACAGCTGGAAAAGTCACTTTAATGACTCACCAGGGGTGTACTTTCTTCTTTCCTTTTTTATTTTGGCACTGGCTGTTTGGATTAAAACATGGAAAATGTAATGAAACCTTGTAAAGAGAAGAGTGAAAAAATGACAACAGAAGCTGAGTTCTGAAATGCACTGAGATATGATGACAGACAAAAGCCATCATGGGGATGAAGTGCAGGAGAGTATCTCACTGTGTCTGCGGAAGAGCAGGCCCCCAAAACCAGGAGGCCCTTTATGCCAAACACCCCCACACCTTTACAGATCATGCTGATGTATTTAAGCGTCCATCACCAGTTCATCTGTGTCAGCTGTGGAACCGTGGGACTGATGTTTCAGAAGAACTGTGTTTCGGAGAAACTAGGCTATAACTACAAATTATTCTTACACACAATTCAGGATTTGTGTAGCATTAGGAAGCTGCTTAAAGCAACACCACTAAAGAAACTAACAATAAAAGACAACCTTGAAAAGCATATAATTTTTCAGGAGTTATCAGGAAAAGATCACACTGTAAGACTCCATTATAGTTCCAGCTACTTTTTTATGTATCTGACAGTGACTGCATCCATGTCCACACAGCACATGCTCAAGCACACTAGGTAATTACTGAAAACATGGTTGTGCAATTTAGTGGTGCTTACTGTTGACTCTCCTTTCTGCCCAATCTGTTTTCCCCGATGTCTCTGAGCTGCCAAGAGTGAGATCTGGATCTCAGCTTCAGGTTCAACTCCACCTAGTCCCTAAGCCAATCCTGCCTAAGGCTTATAGAACATCAGGGCCTCCCTTATCTCATGGAGGTTGTGGAAAATGTCTTGTCAGTTCAATAATTCTTGTTCCAAAATACCACTACTATGCCTACCAACCCATGTACCAGTTATCTTTATTACAAAACAAACCATCCCAAAACTCGGTGATACAAAAATCTCCACTCATTTAACTGGTTATGATTTTGGGTCCTTGCAGTGAGAGTGGGGTGTGGCAGGGACAGCTGGGCTCTGCTCATGTGGTATTGCCTGGGTGTCCTCGTGCACCTGCATCAGCCGGCAGCTCAGCTGGGGACAGGCTTACCTTAGGTGGCCTCACTCACCTTCCTGGTGGCCACCTGGGGCTGTTGGCTAAGGCACTTCAGCTCTCTTCCATGTGGCCTCTCATGCTCCAGGAGGCTGGGCAGGGCTCTAGTTCATGATGTAAAAAGCATTTCAAGAAGGCAAGAGCAGAAACTACAAGAGCTCTCGAGGCCTTACTCTGAAGTCATGCCCTGTAATGTCCATGTCGTCTATTGGGCAAAGCAAGTCACAAGGGCAGTCAAGATTCAAGGATCGGAAATTAAGCTCCATCTCTTACTGGGAGGGGCCTCAAAGAACGTGTGAACATTTTTAACCCAACCCAGTGTGTTTACAGCATTAAGTGATGCCCTCTGCTCTGTATATCTACATCCTTTTTTTTTTAAAGAGATAGAGTCCACTCTGTTGCCTAGGGTGGAGTGCAGTGGCACAATCACAGCTCACTTCAGTCTCATTCGAGGCTGGGGTCAAGCAATCCTCCTGCCTCAGCCTTCCAAGTAGCTGGGTCTACAGGGCATAACACCATACCTGACTGACTTTTTAATTTCTTGTAGAGACAGGATCTTGCTATGCTGCCCAGTCTGGTCTCAAACTCCTGGCCTCAGGCAATCCTCCCACCTTGGCCTCCCAAAGCACTGGGATTACAGGCATTACCTGCAGTGCCAGGCCCCATATATCTACATCCTTTGTGATATTGAATCCATTTTCTGATGGACATTGGTTAATTCACTGGGTCTAGAGTCCTATTCTGAGTCACAGCCTGTTGCTGTCCCCTGTTCCTCAGAGAATAACTGTACCCCTAGAGTCTGGCTGGAATTTTTTCTTTTTTCTTTTTTTTTTTTTTGAGATGGAGTCTCGCTTTGTTGCCCAGGCTGGAGTGTAATGGCACGATCTTGGCTCACTGCAAGCTCCGCCTCCTGGGTTCACGCCATTCTCTTGCCTCAGCCTCCTGAATAGATGGGACTACAGGTGCCCACCACCATGCCTGGCTAATTTTTTGTATTTTTAGTAGAGACGGGGTTTCACCGTGTTAGCCAGGATGGTCTTGATCTCCTGACCTCGAGATCTGCCCACCTCGGCCTCCCAAAGTGCTGGGATTACAGGCATGAGCCACTGTGCCCCAAGTCTAGTTGGAATCTTGTTCTGAACAGAAACATATTCTGATCATGACAAAAACACTGTGGCCTTTTTCTTTATCCGTAAAATCAGAGCACCTATATGTTAAAAGATTATTCATCCAACAAATATTTACTAGGCTTCTGCTATATGTCGCTAGACATTAGATACTTTAGTTTCTGATCTTTTGGAGAGATTGGATATTTGCATAGGTAAATTGCATTGTGATGTAATAATTGTGCTACAGAAGTAGGAATAACAAGCTGAAGGGCAACAAGGGCTTGGGAAGCTTGACAAAAGAGGGGATCTTTCAATTGGGTCATTAAGGGTGACTAGGAGTTGCCAATGGATGGTAGAGAAAGGACTTTCAGGTGAAAGAAGGTGCAAAGTTATGGCGAGAAACTAGATCAGACTTAGAAAAACCTAAGCCCTGTTTTATGTGAACATGGAGGAAGGCACAGGGAGGCAAGACTCGGGAGGTTGGTTAAGTCATATGAGAACCACCTAAGTGGAGGGGTTGGGTTTTTATCCTGCAGGCTGGAATCCAGTTGCTAGGTGTTCCCAGACTTGGCTGATCCTCAGATAGCCGGGATGTCAGCCCAGACCAATGAATCAGGAGAGCCTTGGAGCCTGGGAGTCTGAGTTATTAAAAACTACCCCAGTTCCTCTGATGACCAGCCATGCTGGGAGGCATGCCATCATCTAAGAGGGGAGCTCGCAGAAAGGCTTAAAATAGGGAAAGGGAAGTGATGACATTGAGATTTTGTAAAAGTGAGCCCAGCAGCTGTGTGGAGTTGCATGGCAGTGTGGAGAGAATGAGAAACCAGAGGTAAGGCTGGTGCAGTGACCCAAGGAAGACAGTAGTGGTGAGGGTCTGCACCATCAACACAGTTCTATGCAGAAGAGGAGAGTCAGGCTGAAGAGACATTTCTGTGGAAGAATGACCTGAATTTTATAGGGAAGAAGGTGGGGGAAATAAGAGAAATAAAGAAGAACACTATGGTTTCCAGCTCTGAAGTTTAAGTAGACAGGAATGTCATTAAATGGGGTCTGGTATTTAGAAGAACTGACTTGGAGATGAATGAGGGGGCATTTCACCTTGGACATGTGGAATTTGAGATATCAATGAGACACCAGGGTAGATTTGTCCACATAATAGTTGGAAATGTGGATTTGAAGCTTAAAAAGTAGGTAAAGAGCCCTAAATGTAAAGACATCTGCCAAGAGATGGTAGCAGAAGCCATGGCAGTAAATGAGTTGACTGGGCACCATGCAGAGTCTTAATTCTTAGACTCTGAGGTGCACAAGAATCATCTACGAAGGCTGCAGAAGGCACACTCCTTGAATCTCTTCCCAGGGATTCTGATCCAACAGGTCAGGGATGTAGCAAAGGGATGAATATTTGTAATCATAATTCTACAACCATATTCTTAAGAAACACAGATGAAGACAGAACACAGGAAACAGCTGAGGTAATTGCTGAGAGCACCAGAAAATAAGAGAGCAAAGGAGAATCCAGCAATAGGCAGTGTTATGGTCTCAATGATGTCCCCCACCAAATTCATATGTTGAAGTCTTTGCCCCTAGTATCTGGGAATGTACTGTATTAGAAGATATGACCCTTTAAGAGGTAATTACAGCAAAATGAGGTAACATAGGTAGCCAATGTGATGGCTGCCCCTATACATGAAAGAAATTTGGACACAGATATCCAGAGAGGGATGACTATATGAAGATACTAGAAAAAGATAGCCATCTGCAAGCCAAGAAGAGGCCTCAGAAGAAATCAACCCTACTGACACTTTGATCTTGAACTTCCAGCCTCCAGAACTGTGAGGAAATAAGTCTAGGTTGCATAAACCACTTGGTCTGTGGTACAGGGTTATGGAAGCCCTGGCAGACTGTTAGAGAAGCTAAGGCGCAAAAACAGGAAAGTCAGAAATGAAAGCAAGAGGAAGTGTACCAAAAAGATGTGGGAAGGCGTGGTCCACTGTGTCTCATTCTACAAGGAGGTCAAAGACAATAAGACCTGGGAAGAGGATAATTGTGAGGTGATGTCAGCAAGACCAGCATCAGCAGAATTATAAGGCCATAGGGAGGAGATGACTGGAAGCTGGGCCCACAGGGAGCTGTGGACTTCTCCTTCTAGAAGCATGGCAATTGTGAACTGGGCTTTAAGCTGAGGCCTTGAAGTGGGGCACACTTGAAAAATGTTTTTAAGATGGAAGAGTTAAACATATTTGAGAACAAGAAAAAAGACCATCAGATAAAGCTATATGGAAGGCTTTTTAAAAGTTTTTGTTTAAGTCTGGGGTCAACTAGAAAGATGGAAGGAAGCTAGAACACCAGAGTAGAGGGAGAAGAAGGAAGAAAGAGAAAGGAAGGAAGAATGAGGAGGAGAAGGGGTATAAAGTATGGGAGAAAGAGGAGGTTACACTTTTTTTCTACCACAGAAAAAGCAGAAAAAGATGGATGAAATGATAAATGAATTTGACATGGAAGATTGGGAAGGGAGGAAGTTGACAATCTGTACTCCTGAAAATAGGCATATTCTGTTCTAGTAAAGTAGAAGGTGTGGTTATCAGCTGGGAGAATTAGGGTCGGCAGGTGGGTGAATTTTTCTTTAGATTAACTGTACACATGGAATATGTTGAATGGGAACCTGTATGCTTGCAGTGAAGTGTAATGCTTGCAGTGAAGTGTGATGATGCAGGATAACCTAATTTTATCCAATTCCCCAAATAAAAAAAAGGGACCTTGGAGCCAATAACTTCTAACATTTTCTCTTCAGTGGATGAACTGCATCTGAAATTGGTCCAACCTGGCTGCACAAGGAACTCTTTGGTCAACACAATTCTTAAAATTAGAGGGTATGAGATGAGAAAGAGAACCATCTGGGCATGTGAGTATGCAGCCATTTTATATGATTGAGGATGGGCTTTCCTGCATTCAGCTTCCAGGTCTCCATTAGGTTTCTTATCTATGTCAATACGGTTGTGGGTAGCAATAAGAGAGGCAAAAATAAAGAAGATTTAGTGTTTGATCTTATATAGGTCACAATCTAATAGGAAAAAGAGAAATTGCATTCAGCATAAGTGCTGTCCTGGAGGAGGGCCTCAGAAGCCCTCGGTGGCTTCTTCCACTCCTGATACCCACTCACCTTGTGATAAGAGCTTTGCTGACTGTTAGCCACTGCTTATGAACTTGGCTGCTTTAATGGAGACCCCTGAAAATTTTTACAAAGGGCTTGAAGACCAAAGTAGTGAATTCCTAATGATGGAATTTCAGACCCTGTGACAACTGAATGCAATTTGGAGGAAACAGATGTTGCTTGATGCCGGTTAATCAACCTCTCCATGTCCACAGATGTATCAGGACCCAGGGTTTGACTGACCCGTCACATGGTCTGGCAGCACCTACAGTGGTTGAAATCAGGACCACCCAAGCACGCCCAGGATCCACTGGCATCTTTCACTGTCAGTATGGTCATCTTGTCCTTGCCATGCAAAAGGCATCCCACTCCTCAGACTGACCACATTTGTAGCTGGCCGATCTGTTTCTTGGCAACCAGAAGGCAAGCTGTTGTGTCTGCCAGCCTTCCCCACTGGTCATGTGTCTCGCTCCCCATGACCAATGGGGAAAACCAATATTACTGGTGAAAACCGGTATTACACTGAGCCCCAGCCCTTGCTGTGGTGGTGGATGTGGCCAGGAAATTAAACACACACATGTTCATTCAGGCTCCTGATTTTGCAAACACATTGTGACAAGTAGCACACCATCCTGAGCAGTACCACAAAGCCTTTGGTTTTGATTACATGAAACACCTCTGGTTAAAAAAACAAAGAGAGAGCACTAATTTTTTTTAAGCATCATGCAGTTGCAGACTGCAGATTTTGAGGGAAGCCCTGTGCACCCTGCCTAGAGGTCTGTGTGGAGCACTCTTCAATGTTGTGAGCTGAATTCTGCCTTTAGTTAGGCCAACCCTCCTAGCAACAGGAAGCCAGAATGGGAATCTTTTCCCACACATAGCTCAGCAGTGCTAAAATTTCCCAGACAGAGGGAAAAATGATGATCTTCCCTCATCTCTGGCTGTATTTATCTATAAGGCAGCTATTTGATATGTTGCATTCCTCTGTTGTAAATAAATCAATGAAGTGAGCCTTCCAGGTTATAGTTTTACTGTCAAGTATCAGGTGTCATGATCCATATCTTGATACAATAAAGTTAAGACTCTAGATCTAGTTAGAGTCACCTGTCAAAATAGCTGGGCTGTGCTGATGAACAGCCTGGCAGGACTGGTGCTATGGCCTTAAAGAGGCAAGCAGTATAAAAATCAATAGACATTTTGTTGAGTTACCATGATTTTTAGGGTGCCTTGCAAGAAGATAAGGAAAACAGCCAAGGGCAGGCATATGGAAGGCCTTTTTGTCACATTCTATGCCCAAGTCTTCCACTATTCTCTGCTGAAACACACTTATTGGAATGTGTTTTAAGTATTCTCAACCTGTCCTTTCTTCAGCTGCCACTTTCTATCCCTAAGTGTTCCACTATTCTCTGCTGAAATACACTTACTGGAATGTGTTTTAAGTATTTTCAACCTGTCCTTTCTGCAGCCACCATCACCCCTTCCACTCCTTAGATTTACCTTGTGGTGTCTAATGCTAGTCCTAGAAAACCTGAATGCAGGGAACACCCGGTGATTTATACATAAATGTGCGGTTAAGCCAATGTGATCCCTGTTCCCATTGCATTTTCAACCTGGTCTCTAAGCAAAGAAAGGAGAGGGAGACTTTGACCTTGTCTTATTTACCTTTGATTACTTTTCTTTGCCTATGGAGTAAAGTCCAAATTCCTGAACATTCAATCAACAAACATTTGAGCCCTTAACATTTTTTTTTGAGCCTTTGTATTTTCCATTATCGTTTTCCCTCGGGCCCGTGAGTTATTGTGTTTTCCAGATGTAACTAGGCTTGAGGCTGTCTTCCTGTGATTGACTTCTAACATTATTGCATTGTGATTAGAGAGCATGTCCTGCTTATCATCTCTGCTATTTTTTTTTTTTTTTGAGACAGAGTCTCGCTCTGTTGCCCAGGCTGGAGTGCAGTGGCGCGATCTCAGCTCACTGCAAGCTCCGCCTCCCGGGTTCACGCCATTCTCCTGCCTCAGCCTCCTGAGTAGCTGGGACCACAGGCACCCGCCACCACTCCCAGCTAATATTTTGTATTTTTAGTAGAGACGGGGTTTCACCGTGGCCCTTAACATTTTTATAGTATTGCCCTAATATATAGTATAACCCTATAAAAAAAACTCATCTATCAACAAAAGACATGGAGGACAAACCATAAATGTTTGCTGAAAGAACAAATAAGAGAGTGAACCAAGGTGTAAAAAAAAAGGCATATATTATTTCCCTATTTGTGTGAGCATTCTCATTGCAGAGGTAAAATATTTATTTAGAGTTATCATAACCATGTTTAAATCAATTAAGAAATAGGCAAGGAGCAGGAAGATGGAAATCAAGAGTATGTTCATTGCTGAGAATGACTCGGTTGGAAAATGTGTGTTGTGAGGCAATAATGGACTTCCTAACATGAATTCCCAGAATAAGACAAACCCACCTAGTCACAAACACATGTTGAAGTTGTCCCAAGGAAACTTCTCAAGCAGAGAAGCAAACTATAATGTATCTGGCAGCCTGGCTCCTGAGAGAGGAGGAGAGGGGAAAGGGACAAACTATGCCCTTTTTTTTATCCTGGTGTTACCAATCAGAGCGAGAAGCCAGAGTACTCAGGGAAAAATTCCTGCCTCCTGGAAACAAGAGGAGCTGGGAATAAGTGTTCCTCTCCCATTATAATTCATCATGAAAGCTAACACAATATGTGAATATGTAATTGCCTGACAAAAGACTAGTGTGGACAAGAATTTTAGGGAGGTACCATGCTGGAGTAAGGGAACAAACCAGGCCTGAGTCTTAAAGGGAGGATTTGAATAGAGAAAGAGGTGTTCTGGCCGGGTGCAGTGGCTCACGCCTGTAATCCCAGCACTTTGGGAGGACGAGGCAGGCGGATCACGAGGTCAGGAGATCGAGAAAGAGGTGTTCTTAGGACTGGAGGGAAGGTATTGGAACGGTGTTTGGGGAAGCTGGAAGTGAGCATAGAATTATCTGGCCTGACTTCCCCTCCCCATCCCTATCTCATCAGGCTCCAGCCACACCATTTGCACTCATCACTCCCTACACATGCCTCTCACGTCCTAGTCCCTGTATCTCTGGCTGCACTGGTCTGTGTGGCTGCCTGCCCTCCTACCTCACCTCTACCTGCAGGTACCCGAAAGATCCTCTGACATCTACCTCAAAGGCTGCTCCTCAAGAACACCCTTCTAGACTTCCTTGCTACCTGCTCCCCAAGTGGAATTCTGTGCTCCACTCCTGGATCTCACCTGGCTTTTCCTTCCGACACTTATCATATTCTGCACTGTTTCTTAGTCATTATTAAATACACCTGTCTCCCCAACAAGACTATAAAATCTGGATGGGCACAGTGGCTCACACCTGTAATCCAAGCACTTTGGGAGGCCTAGGTGGGCGGATTACTTGATGTCAGGAGTTTGAGACCAGCCTGGCCAATGTGGTGAAACCCCATCTCTACTAAAAATACAAAAATTAGCCAGGCATGATGATGGGCGCCTGTAGTCCCAGCTACTCTGGGAGGCTGAGGCAGGAGAATCACTTGAACCTGGAAGGCAGAGGTCGCAGTGAGCTGAGATCACACCACCATACTCCAGCCTGAGCAACAAGAGTGAAACTCGGTCTTGAAAAAATAAAGAAATAAAAAAAAAAGACTATAAAATCCAGTAGGATAAGGAACCTGTCTTTTTACCCCTCAAAAATCTAGGACCACCTGTGTTCAGTGAATGTATTTTTAATTATAGAAATCTCAAGCATTGGAGTATTATTTGGATAAAAATTAATCTTAGTTTCTGAAAAATCCTTCATAACCATGCATCTTAAAAGAAGCAGAGAAGCTTCACCAGCCCTGCCTCGTTTCTCTTATAATTAACAAAAGAGCAAGTTAGGCCTTTTAAAAAACTGCAAGTTGGGGTCCCAGAATCAACTGCTATCACTATCTGTAGCTCAAATGGTGAAATTAACTCAGGTGTCCTTAAGGGTAGGTTTTTAGGCACAGGAAAAATATGGTTACTTTGGACTTTATTATGATTTACTAAAGCTACTAATCAAAACTCTATGTTTCACCTAAGCTTTTAAATTTAATTTATAATTTAATAAGGAGCTTTAAAGATTTATAATCTTATAAATGTTAATTATTTATAACATATTATTTATAATATAAATTTAACAACTATTCATAAGGAGTCTTCTACAACTTCATTAATTGCCTTAAACTGCATATCTAAATGTAAAATATTTGATTTCTCTTATGTTCCTCAACTACCTCTAAGAACTAGAACCTTTCTAAAATATGTTTGTATAAATGAAATAAATTTAATGCATACGTTGGACAAATTTTTAGATTTTATTAATATATTAACACTGTTTACTACAATTAGTAAACTTAGAACTTTTGACTTAAAAGCACAATAATATCAACTATATTTTAAATTTGAATCATGAGCCCTATTTGTTAGATATCTTGATTTGGCCAGTATTTAAATTACCCAAACATGTACTAATAGATGATTCTTAAATACCGTATTGTGGGTCAGGTTTATTTAATTATTTCTGTAACTATGCTCATCATTCCCAGGGTTAAAAGGTGTTTATGGATTTCCAAACAAGTGGGTGTTTCCAGCTTGTTCCAATTTAGTTGATCAAGATTAATTATTAACCAGAGAAATTTGGGGCTGAGGTGCAAAAGAAATCAAATTCCTGGGCTTCAGCAATCCTCCTGCCTCAGCCTCCCAAAGTGCTAGGATTACAGGTGTGAGCCATCGTGCCTCAATCCCAATTCTTAAAGATAGCAATATGACACCCTGTTGGGTTCTGCATATCTCTCATGGCTTTGTGCAACTCTTTAGTTGTAATATTAAAGTCATGCTATGAAAGACAAATATGGGAAAAGATGTCTTACACTGCAGCTCCTGACCTTACTCAAACCGGACTCCCTCTTTGAATACTCCTGATGTTCCCTCCCTTGCTCTGCTTTTTCTGTAGCACCTACCACCTTCAAACATGATATAACATCATTTGTTTATTAAATTTTCTCCCCACTAACTAAACTATGAGCTCTATGAGGGCAGGGAGTTTTGCTGTCTTGCCCAATGATACATCCTTGCACCTAGAACAGTGCTTGACAGTTATTAGGCACTCAACAAAGATATGTTGAATCACTGATCATGAGAGAAATGCAAATCAAAACCACAATGAGATACCATCTCACGCCAGTCAGAATGGCAATTATTAAAAAGTCAAGAAGCAACAGATGCTGGGGAGGCTGTGGAGAAATAAGAACGATTTTACACTGTTGGTGGGAATGTAAATTTGTTCAACCATTGTGGAAGACCATGTGGTGATTCCTCAGATATCTAGAAGCAGAAATACCGTTTGACTCAGCAATCCCATTACTGGGTATATACCCAAAGGAATATAAATCATTCTATTATAAAGATACATGCATGCATATGTTCATTGCAGCACTATTCACAATAGCAAAGACATAGAATCAACCTACGTACTCATCAATGATAGACTGGATAAAGAAAATATGGTACATATACACTGTGGAATACTATGCAGCCATTAAAAAGAATGAGGTCATGTCCTTTGCAGGGACATGGATGGGACTAGAAGCCATTATCCTCAGCAACCTAATGCAGGAACAGAAAATCAAATACCACATGTTCTCACTTATAAGTGGGAGCTGAACAATGAGAACACATGGACACATGGTGGGGAACAACACATGCTGGGGCCTGTTGGGGAGGGGTTGGGGAAGGAGAGCATAAGGAAGAATAGCTAATGGATGCTCTGCTTAATACCTAGATGATGAGTTGATCTGTGTAGCAAACACATGTTTACCTATGTAACAAATCTGCACATCCTGCACATGTACCCTGGAACTTAAAATAAAAGTTGACAGAAAAAAAGAAAAAAAACATATACAATAGAGCAATGAAAAAATAAAATGCAATTACCACATTTTTAAAAAATTAATTTTATGTCTTAAAGTGGCCAGGGTCTAAGATATCCTGTTATTTTCTTTCTTTTTTTAAATTATACTTTAAGTTTTAGGGTACATGTGCACAATGTGCAGGTTAGTTACACATGTATACATGTGCCATGTTGGTGTCCTGCACCCATTAACTCGTCATTTAACATTAGGTATATCTCCTAATGCTATCCCTCCCCCCTCCCCCCACCCCACAGCAGGCCCCAGTGTGTGATATTCCCCTTCCTGTGTCCATGTGTTCTCATTGTTCAGTTCCCACCTATGAGTGAGAACATGTGGTGTTTGGTATTTTGTCCTTGCGATAGTTTGCTGAGAATGATGGTTTCCAGCTTCATCCATGTCCCTACAAAGGACATGAATTCATCCTTTTTTATGGCTGCATAGTATTCCATGGTGTATATGTGCCACATTTTCTTAATCCAGTCTATCATTGTTGGACATTTGGCTTTATTCCAAGTCTTTGCTATTGTGAATAGTACCGCAATAAACATACGTGTGCATCTATCTTTAAAGCAGCATGATTTACAAGCCTTTGGGTATATACCTAGTAATGGGATTTCTGGGTCAAATGGTATTTCTAGTTCTAGATCCCTGAGGAATTGCCACACTGACTTCCACAATGGTTGAACTAGTTTACAGTCCCACCAACAGGGCAAAAGTGTTCCTATTTCTCCACATCCTCTCCAGCACCTGTTGTTTCCTTTTTAATGATCACCATTCTAACTGGTGTGAGATGGTATCTCATTGTGGTTTTAATTTGCGTTTCTCTGATGGCCAGTAATGATAAGCATTTTTTTCATGTGTCTTTTGGCTGCATAAATGTCTTCTTTTGAGAAGTGTCTGAGTATCTGTTCATATCCTTCATCCACTTTTTGATAGGGTTGTTTGTTTCTTTTCTTGTAAATTTGTTAGAGTTCATTGTAGATTCTGGATATTAGCCCTTTGTCAGATGAGTAGATTGCAAAAATTTTCTCCCATTCTGTAGGTTGCCTGTTCACTCTGATGGTAGTTTCTTTTGCTGTGCAGAAGCTCTTTAGTTTAATTAGATCCCATTTGTCAATTTTGGCTTTGTTGCCATTGCTTTTGGTGTTTTAGACATGAAGTCCTTGCCCATGCCTATGTCTCGAATGGTATTGCCTAGGTTTTCTTCTAGGGTTTTTATGGTTTTAGGTCTAACATTTAAGTCTTTAATCCATCTTAAATTAATTTTTGTATAAGGTGTAAGGAAAGGATCCAGTTTCAGCTTTCTCCATATGGCTAGCCAGTTTTCCCAGCACCATTTATTAAATAGGGAATCCTTTCCCCATTGCTTGTTTTTGTCAGATTTGTCAAAGATCAGATAGTTGTAGATATGCGGCATTATTTCTGAGGGCTCTGTTCTGTTCCATTGGTCTATATCTCTGTTTTGGTACCAGTACCATGCTGTTTTGGTTACTGTAGCCTTGTAGTATAGTTTGAAGTCAGGTAGCATGATGCCTCCCACCTCGTTCTTTTGGCTTAGGATTGACTTGGCCATGCGGGCTTTTTTTTGGTTCCATGTGAACTTTAAAGCAGTTTTTTCCAATTCTGTGAAGAAAGTCATTGGTAGCTTGATGGGGATGGCATTGAATCTATAAATTACCTTGGGCAGTATGGCCATTTTCATGATATTGATTCTTCCTACCCATGAGCATGGAATATTCTTCCATTTGTTTGTATCCTCTTTTATTTCATTGAGCAGTGGTTTGCAGTTCTCCTTGAAGAGGTCCTTCACATCCCTTGTAAGTTGGATTCCTAGGTATTTTATTCTCTTTGAAGCAATTGTGAATGGGAGTTCACTCATGATTTGGCTCTCTGTTTGTCTCCTTTTGGTGTATAAGAATGCTTGTGATTTCTGCACATTGATTTTTTATCCTGAGACTTTGCTGAAGTTGCTTATCAGCTTAAGAGATTTTGGGCTGAGACGATGGGGTTTTCTAGATATACAATCATGTCATCTGCAAACAGAGACAATTTGACTTCCTCTTTTCCTAACTGAATACCCTTTATTTCCTTCTCCTGCCTGATTGCCCTGGCCAGAACTTCCAACACTATGTTGAATAGGAGTGGTGAGACAGGGCATCCCTGTCTTGTGCCAGTTTTCAAAGGGAATACTTCCAGTTTTTGCCCATTCACCATGATATTGGCTGTGGGTTTGTCATAAATAGCTCTTATTATTTTGAGATACGTCCCATCAATACCTAATTTATTGAGTTTTTAGCATGAAGGGTTGTTGAATTTTGTCAAAGGCCTTTTCTGCATCTATTGAGATAATCATGTGGTTTTTGTCATTGGTTCTGTGGATATGCTGGATTACAGGTATTGATTTGCACATGTTGAGCCAGCCTTGCATCACAGGGATGAAGCCCACTTGATCATGGTGGATAAGCTTTTTGATATGCTGCTGGATTTGGTTTGCCAGTATTTTATTGAGGATTTTTGCATCAATATTCATCAGGGATATTGGTCTAAAATGCTCTTTTTTTGTTGTGTCTCTGCCAGGCTTTGGTATCAGGATGATGCTGGCCTCATAAAATGAGTTAGGGAGGATTCCCTCTGTTTCTGTTGATTGGAATAATTTCAGAAGGAATAGTACCAGCTCCTCCTTGTACCTCTGGTAGAATTTGGCTGTGAATCCATCTGGTCCTGGACTTTTTTTGGTTGGTAAGCTATTAATTTTTGCCTCAATTTCAGGGCCTGTTATTGGTCTATTCAGAGATTCAACTTCTTCCTAGTTGAGTCTTGGGAGGGTGTATGTGTCGAGGAATTTATCCATTTCTTCTAGATTTTCTAGTTTATTTACATAGAAGTGTTTATAGTATTCTCTGATGGTAGTTTGTATTTCTGTGGGATCAGTGGTGATATCCCCTTTATCATTTTTTATTGCATCTATTTGATTCTTCTCTCTTTTCTTCTTTATTAGTCTTGCTAGCAGTCTATCAATTTTGTTGATCTTTTCAAAAAACCAGCTCCTGGATTCATTGATTTTTTGAAGGGTTTTTTGTGTCTCTATTTCCTTCAGTTCTGCTCTGATCTTAGTTATTTCTTGCCTTCTGCTAGCTTTTGAATGTGTTTGCTCTTGCTTCTCTAGTTCCTTTAATTGTGATGTTAGGGTGTCAATTTTAGATCTTTCCTGCTTTTGTGGGCATTTAGTGCTATAAATTTCCCTCTACACACTGCTTTAAATGTGTCCCAAAGATTCTGGCATGTTGTGTCTTTGTTCTCATCAGTTTCAAAGAACATCTTTATTTCTGCCTTCATTTTGTTATGTATCCAGCAGTCATTCAGGAGCAGGTTGTTCAGTTTCCACGTAGTTGAGCGGTTTTGAGTGAGTTTCTTAATCGTGAGTTCTAGTTTGATTGCACTGTGGTCTGAGAGATAGTTTGTTATAATTTCTGTTCTTTTACATTTGCTGAGGAATGCTTTACTTCCAACTATGTGGTCAATTTTGGAATAAGTGTGTTGTGGTGCTGAGAAGAATGTATATTCTGTTGATTTGGGGTGGAGAGTTCTGTAGATGTCTATTAGGTCTGCTTGGTGCAGAATTGAGTTCAATTCCTGGATATCCTTGTTAACTTTCTGTCTTGTTGATCTGTCTAATGTCGACAGTTTGGTATTAAAGTCTCCCATTATTATTGTGTGGGAGTCTAAGTCTCTTTGTAGGTCTCTAAGGACTTGCTTTATGAATCTGGGAGCTCCTGTATTGGGTGGCTATATATTTAGGATAGTTAGTTCTTCTTGTTGAATTGATCCCTTTACCATTATGTAATGGCCTTCTTTGTCTCTTTTGATCTCTGTTGGTTTAAAGTCTGTTTTATCAGAGACTAGGATTGCAACCCCTGCCTTTTCTGTTTTTTTCTTAAAATAGAAATACAGAAGCTACACTACTGGGAAATCAATAAAAGCCCAAAGCCTGATGTGTAGACATTTTAAATATGTTATTTCTATTGTACAGGATATTGTTCAAACATTTGAGTCTGCTAACAGTATTAAACAGAGCCAAGAGGAAAAAAAAAAAGGGCATGGCTATAAGCTGGATTGGCTACATAATTTGCACAGCCCATTGTAAAATGAAAATATAAAGCCCAGTTCAGAAGTTGTGAAGAATTTCAACATGGTAACAGCAGAATATTAGACCAAACATGGGCCCCATCTAAATAAGCATGCGGCCCTGTGCAACAACACAAACCACGAAGCCATAAAGCTGACCCTGAATGTGAGTGCGTATATGTATGTGTGGTGGTACATGGTACATGGAATGGTAATCATTTTTGTGCATCTTTCTGACCTACTTCGTTGTAAACTTGTGAACAGGGTTTGCATGTTCTTCATCTTTCTACCTCCAGTACTTAGCACAGTGCCTGGCAACAAACCAATAGATGTTTGCTTGAATGGACATAGAAATGGTTATAAAAGAATGCTCTGACAAAGAGCAAAGAGCATTTCAAATTCAGAATACGCTTTTAGCCACTGCTATCCCATGGATGGACTATGTTCATCACTAAAGGTGTAAGGTATTTTCAGTATTCATGTCTCATTTGGGAATCCTTGGGTCTGGAATTATTCTTGAAAACATCCATTAAAGAGTCATTAGCTATTCTTAGAGCATCTCTTTTTTTACAGAGAGAATTGGCACCAAGCAAGAGCAAGGAACCAGACATCAGTTACGGAAAATGTATCCCCACATCACATCATGGGAGCCTAGCTCACAGACACTGCCAATGGAAATTGCAGAAATAGATCAACTGCAAAAGGTTACATAGGGGACCCGCATGCTACATTAACTCTCTGTGAATAAATTACATGTAAAATTTGAGAACATGTTTTCATCAAATAAGTATTTGTGAAGGTAAATTTTAAGTTATGCCATGTGCATAATTTCATTGCATTGGTACCATATGAATAAGTATCTTCATAAAGATACTTTGTGAACAAGTCAAGAAGACAAAATAATTGTTACTAGTATTTACTTTTGTCCTTAAACACAGAGCTAAGATCTCTTTCTATTGACATTATATCCTCTATATCCCTAAAATAATCTAAATCATTAATTATAGAATTAATCAGTAAGGAATTTAAAACTAAGCTGGAAAGGCATGAAACAGGATGGATGGAGCAGAGGGATGTTGTTCCCCAGGATGAGAAAGAGAGAAAGGTCTTGCATTACCAAGGGTGAGTCTGGGTGACTGAGAGGTCACAAACTGATGAGTGAAGATAGAGTCAAGACAGAAAAATAAAGTCAGGAAAGCCAGTGCTGGTGGGGAAACAAACATTCAAAGCATAACTCACAGTTCTGGAAAAAACCCAGTATTTTCAGTCTCTGTCAGAACATAAATCAGATTTGCAGTTAAATATTTGACCGTTTACCTGAGGACAGTAAGTCTCAGGGAAAAGCACGTCCACATGTGCCTCCTCGGTGGGTTCTAGAATTCTTCCCTCTTCCATTCCCCAAATATGTATCAGTGTAATGTCTGAGCAGGGGAGTGCAGAGCAGGCAAGACACATAGAGAGGCACCAGGAAGGGAAATCTGTGCATCATTCCTTGTGTCACTAAGACAGCACCACAGAAGAGGTAAGCACAGAGCATGGTGGGTGAGATGCAATTTTTTTTTTTTTTTGAGACAGAGTCTCACTCTGTTACCCAGGCTGGAGTGCAGTGGCACTACCTTGGCTCACTGAAACCTTCATCTCCCGGGTTCAAGTGATTCTCCTGCCTCAACCTCCCGAGTAGCTGAGATTACAGGTATGCACAACCACACCCAACTAATTTTTGTATTTTTAGTAGAGACAGGGTTTCACCATGTTGGCCAGGCTGGTCTCAAACTCCTGACCTCAAGTGATCCATCTGCCTCAGCCTCCCAAAATGCTGGGATTACAGGTGTGACATCTCCATGAGATAGGGAAAAGCCAGAGGGAGCCTCTTAGCCTCCCAGAACACAATCGCATCCAGGAGGTACTTCTTTCTCCTATCTCTGCCATAGCCAGGCAGGACCAACAGACCCAGAGCTGTTGGAGCAGAAGAAGTGGAAGGGTCTTGCAGAAGGTGTGTAAAGCAGAAGACAACAGCTGCTGAAGCAGCACAATACAGTGACATCCTAGGAGGGAGGCCAAGGAGCTCACTCAGCTTAGAGGGCTTGGGGATTGACAGTGAGCTGCAAGATGTCCCCACGAGTCCGTTTCCTTGCCCATAATGAGAGGTGACAACGTGCCAGCAGCCTCGCTCGCTCTCGGCACCTTCTCGGCCTCGGTGTCTGCTCTGGCCATGCTTGAGGAGCCCTTCAGCCTGCCGCTGCACTGTGGGAGCCCCTCTCTGGGCTGGCCGAGGCCAGAGCCGGCTCCCTCTGCTTGTGGGGAGGTGTGGAGGGAGAGGCACGGGTGGGAAACAGGGCTGCACAAGCAGTGCTCACCCGCCAGCGTGAGTTCCAGGTGGGCGCGGGCTCAGTAGGCCCCACGCTAGGAGCGGCCAGCCAGCACCACCAGCCCCAGGCAGTGAGGGGCTTAGCACCTGTGCCAGCAGCTGCAGAGGGTGCGCTGGGTCCCCCAGCACTGCCGGTCCGCCCACGCTGTGCTCAAATTCTCAGTGAGCCTCCACTGCCTCCCTGCCTGCAGGGCTCGAAACCTGCAGCCTGCCATGACTGAGCGTGTGGCCCGAGCATGCGTGTGTGGTAGGGAGCACAGGTGGGGGCTGGTGCAGTGGGAGGCGGGGGCTAGATGAGACTAGGGTGAGAGCCCCTTGGTCAGGGCTGCCTGCTGCCCACAGAAGCACAGGGCAGTGAAGGTGCCCAGGAGCAGGTAGTTGGGTTGACTCAGGTTGGAGGGCCCGCTGAGGGTCAGCAGAAGAATGAGGGGTGGTGAGGGGCACTCCAGGCATGGTGGTGAGGTAGAGAGATGAGAGGCCTTTGCATTTTGCATATTCTGTTGGGGGAGGAAATGGTGAGCCATCAAGGGCTATTGGCAACCTCTCCGTAAACCAGCCTAGGAAATGCTGAAGGAGAGAGACTCAGAGCAAATATAGACCCACAGGGATGCCTGGGGCACAGACAGGGTCGGTTCAGGTTGCCGGGGATGCCATGGCACAAGTGGAGGACAGCTGGGAGCCTCCACGTGGTGCTGTCCCCCTTCTGCTCTCTTGGCTGAGCCAGGGCAAGGGGCAGGCTCCTCTAAGCTGGCAGTGGCTGCTCTGCCCCTGTACAGCAGGTATCAGAGTAGGCAGTTCAGGCCCAACACAAAACCCAAACATGCCTGCAGGAGCAGCTCCCAGCTGCACCCAGCTCCTAAAGGACACACCTGTGCCATAGATGACAGACAGAGCAGGACTTAGAACAAGTGACCAAAGTCCTCAGAGGACTTCATTGTAAGGGAGCATGCAATGAACATGAGCTCAAAAGAAGCAGCTCTCATGACAAACCAGTTGGAGATGTTGGGTGTAAAAAATATAATTTATAGATAGAATAGAATTCATAAATATAATGTATGAAACTGTAATATAATTCTAAATAAATATAATTGTTGAAAGGGGCTGGAAGATTTCACCAAAGGACTCTCCAGAAAGTATCAGGAGGGTATAAGGAGGTGGGAGGCAGGTTGAGAGGTGAGGAAGGTGGAACAAGACGGCCCCTGTCCGTCTCCGAGGAGTACTGGGAAGAAAGGAAGAATACGGGGCAGGAGAATATATATGAAGAAGGGCTGGCAGAGAATTTCCAAGAACTAAACACAGACACAAGACTTTAGATGGAAGTGTTCCCAGAGTGGCAAGCACACACACCAGAAAAATTAGAATCACAGAGGGAAAAACAGTTACAGAGAAACAAGAGTGAGTCTGACCTCAGAGTTCTCAAGGCCCCACAGAAGGCAGAAGACCAAGTCATCAGGTCAGTGGGGAGCATGGACAGGAGGTGTGAAGTGGGTATAGCTAAAAAATGAGAAGGATCGAATTGGAATTTCAGCCCAATATACCATTAGTGTGCACCACTAATGCCCACATAAATGATGCTTTGTATTTTTCTTATCTTCAAATACATGGAAATACAGCTGACCCTTAAACAATGTGGGGGCTAGGGGCACTGAACTCCCTCACAGTTGAAAATTTGCATATAACTTTTGACCTCCCCAAAACTACTAACAGCCTACTGTTCACCGAAGACTTACCAATAACACATACAGTCAATGAACACATGTTTTATAGGTTATATATATTATATTTTGTATTCTTTATTTTATTTTTATTTTTTGTTTACCCACACTACACAGATGTATCACATGCTGTATTCTTCAATGAAGTAGACTAGAGAAAAGAAAGTGGTATTGAGAAAATAATTAGCAAGACAAATGTATTTACTCATTAAGTGGAAGTGGAGCATCATAAAGTTCTTTATCATTGTCTTAAGCAGGCTGAGGAGGAGGAGGAAGAGAAGGAAAAGGTCTTGCTTTCTCAGGGGTGTCAGAGGCAGAAGAAAATCTGTGTGTAAGTGGATGTGTGTGGTTCAAACCCATGTTGTTCAAAGGTCAACTGTAAGTAAGTGGCATGTGGCCTGGAGAGGTACCACATATACAGGGAGGCTGCTGATGTAAGTGTGTGAGGAAGGAGATGGGGACACAGGAGAAGGGGTTAGACCAACACAATAGTAGCAGGGGCTGAAGTGGGGCCTTCACAGGCAGATGAAAAGGAGGGGGAAGGGAGGCACCCTGCCAACTGGGGACCACATAGCTTTGTACATCTGAAAGCTACTTAAAACAGGGAAATTTTATCACCTCTAGACCTGTAGGGAGGGAAAGGAAATAAGGAAACACAGTCTACTGGGGACCAAGAAAAAAGTGGTGGAAAGAAAGTAAGATGGTAAAAGTCATTGAAAATATCCTTAAGACAGTAAAATGTAATGATGTTACAGGACCACCAGGTTCCTACACCTGCTCCGCAGTTACAGACCAATGCACCAAGACAGCAGGCTTTGCAGCAGAGAAAGAGTTTACCGATCTCAGGGTGGCTGAGTGAGGGAGGAGGGACCCTCACTTCATCTCTCTGAGGAGTTTTGGGGTGGAATTTTTAAAGGATCATGGAGGGCAAGGGGTGGAAAATTGGGGCCACTGATTGGTTGGGGTAAAGAGGATGCAATCATCAGGGTGTGGACACTGCATGCTCTGGTGAGTCAACTGCTTGTGGGGTCCCTCAGACCAGATGCAGTCAGCTGTTTGATTGGCTTGCAGGACCTAAAAGGATATCTCAAGTGGACAGCTTAACACTTCACAATGTTCAAGTTGGTATCTATAGCGGATAGTTGTTACCTATCTGAACTTAGGAGAACTGGAGTCTTGTAACTGATTTTAAGGTGATTCTGAGGCAGTATGCATGGAATGGCAGTGAGGAAGGGTCAGAGAGCGAGCTGGCCTAGAAGCCAATGCTCAGGACCCTGCAAGCTTGGTTTATTTTCCTTTCTCTCCCTCCCTTATTTCTTAATTAATTTTATAAAACCTATAGGGATGGATTCGATAAGATTAAACTCATCTATTCAAAACACGGATTCTCAGGCTGTATATATATGTGTGTGTGTGTGTGTGTGTGTGTGTTTAAAGCAAGCTATCTGCTATGACATGTTAACAGAAAGGAAGTGGGTGTGGGAAGCGACCAGTAAGGCAGGGAGAGGTGCATGGGGTGGGGTTTGGGTTGCTACCAGGTAACTTGGAAGGAGGTTACCCACCTGGAAGATGCAGCCACCAGCCTCAGTGAGACAACAGCAAACCTAGCACATCCCCAGGCATGGTGGGAACTTTGAACATACCTTGCTCCGAAAATTTGCATCAAACAGAATAAAAATCATGAAAATAAAGAGACCTGAAATATAGACTTTAAGTTTGGGCTGCTGGGCAGATACAGAATCCTGCACCCCATGTGCAGGGCATTCACATTTTTTCCAGCACAGATGGAACATTTATAATACTGACCATGAAGGTGGCCAAAAAGGAGGCCGGGCATGGTGGCTCACGCCTGTAATCCCAGCACTTTGGGAGGCCGAGGCGGGAGATCACGAGGTCAGGAGATTGAGACTATCCTGGCTAACACAGTGAAACCCCGTCTCTACTAAAAATACAGAAAAATTAGCTGGGTGTGGTGGCGGGTGCCTGTAGTCCCAGCTACTCAGGAGGCTGAGGCAGGAGAATGGCGTGAACCCGGGAGGCGGAGCTTGCAGTGAGCTGAGATTGCACCACTGCACTCCAGCCTGGGCAACAGAGCGAGACTCTGTCTCAAAAAAAAAAAAAAAAATAGCAGAGATGATAAGCAGGACATGCTCTCTAATCACAATGCAATAATGTTAGAAGTCAATCACAGGAAGACAGCCTCAAGCCTAGTTACATCTGGAAAACACAATAACTCACGGGCCCGAGAGAAAACGATAATGGAAAATACAAAAGACATAAACCAAGCATTGATAGAAGCAGCGCATATTGACTCTCATGGGATGCAGGTAAAATGGCACTAGAAGGACATTTATAACCTTATAATATAAGGTTATGTTATAACCTATGTTAGAGAACAAAATAGAAGGTGAATTAATGAGCTCTGTGTTCAACACCAGATGGCACAGAACAGGCTCAGGGAAAAGGCTGAAGGCAGAGCCAGGCTGGAGAAGGAGAGCTCAGGGAGGCTGAGGGCAGTGGCCTGGGGAAGGGGCCTGAAGCCATGGGCCAAGGATGGAGTCCTGCTGGGAGTGTGGGGAGTGGGTCAAGGGTGCTGGATTCAGCATTTGAGGATGGGCTGTGCTGTGTGGATGAGCCATCAAGATAGACATCAGGCCCATCCAGGAACTGGCAAGACAGGAGGTAGAGCCAAGTGAATCCACGCCAGAGTCCTGGATTACTGTGAGCCATGGCAGTGGTGTGGAGAGACCACTCAGATTTCATGAGCCTGAAAGACTGTGGGTTCCGTCTGCTTACACGGGAGAGCTGGGATTAAAGGGAACAAAAGGCTTGGGGAAAGGGAGCGGGCTGCTCAGGGGAAGCAGATGTCAGTGAAAGCCAGGTTTTGTTTAAGGTGAGAGGTGAGATGTCCGTGCGAGCTGCGTGGAGGTGTCATGGGGCACCTGTTTCTCTGAGTCCCCAGGGGGCAGGGAGAGGGATGAGTGAGGGCTGGGTGGGGACCAGAGTGGCTGGTGGTGGTCGTTGTGCCCAAGCACAGCAGGGCTGAGACTGACAAGCTCATCCAGCTTCTGAATCCTGATGGAAGCCCCAGAGCCTGGTGCCCTGGGGACTCTGCAGAGGGTGGTGCAGGAGCACGGCCCTCAGGTGCTGGGAGTGAGGTGAGCAGGGTCACCCCACACCTGGCCTGCCCCCTCCTCCCTTGAAACCAGCGGGTGTGTCTGAGCACTGGGCCTGAAAGCACCGTATCCGGAGGCCCAAGGCTGAGGTCCATGGCCTCCTCTGCCAGCCCTGCTTGTCCAGGGTCTGAGCTGTCCTGGCCTCTCCCTCTGCTCCTTCACACAGAGGTCTTTAGGGCACCCTAATGTGTCCAATCAAGGCCAGGCTTGTTGGTGAGACACGCTTGGTCCCGAGCTCCATGCCAGATGTCTCCACCCTCAAAAGACCCAGCATCTCATGACTTCATGTCCCACTAGCAGTCCCTGTGCCCAGTTCACCCATCCCCACTGACCACCAGTGTTTGATTTTTCCTTCAGAAGCCTATGAGGAAATGGATTGTTGATTAGCCTGATTCAATCATTCTACATTGTAAACATATATCGAAGAATCACCTTGTATCCCATAAATGTGTATATTTATTATTTGTCAATAAAAAATAAAATTTAAAAAGATTCAGCTCCCAGCTGCCTCCTCCAGGAAGCCTGCAGTGCTTTCCCTTGCGGAGGACCAACTTTACACCAGTTCTTACCCTGGACCCTGCAGAGGGCACTTGGGTTGCCCATCAGGGACACATCCATGCCTCTCTAGCTTTCTAGCAAGCTTCCTGTCTGTTTTACTCAGCCCAGGACTTTGGGAAGCTGGAGGTGCCTACAGTCAGCACAGCTGCAGTTCAGAGGGAAGAGGCACAAAGTGCTCAGGTTGAAGTTGCCCAGCTGGAAATCTCGTTTCTCCCACTGAAAGGGGATAGTGATATTTGGGACTCACAGTTGATGTCACCATGGCACTGGATGGGAGGTCTACAGGCCTCAGGGGACCCTCTGGTCACCCCTTCCTCTCTGCAGGTGCCTCTGCTCTTGAGAAACTCAGGGCCAAGGACAGGTCACTGGATATGCTGGGGGCACCAGGGCTGGTGGGGTAGGGGGTTCCTTGGTGCTGGATTCACCCCAACCCCAGCAGGGAGAAAGAGCCTTGGACAGGCCCTGGCCCAGGGAGGGGGCGGCCAGGCAGGCCTGACTGGGGAGGCCCGGGCATCGCGCTTGGGCCAGGGGCCTGTGTGAGGGAGGCAGCCTCCCCTTCTCTAGGATGGGGCCAGTGCCCAGCTCTGCGAGACTCGTGTCCTGCACCCCACACCCCAGTGGAGAACAGCATGAGGCCCTCGGGCCTGAACCCATGGTTGTTAGTTCTGGGAGGAGATTTTGAATCCCGACTCAGTTGTCTTGAGGTTCATAGGCATATTTGGGTTTTCTATTTCTTTTCCAGACATGTTCCAAGTTTGGTCTCTTCGGCTTACTGTCTGTTTTGTCAGTTATTGGCATAATAATGTTCTATAGCAATTTGTAAAATGTCCATTATATTTAAAGTTATGTCTCCATTTGATTTCTTGTATTATATGCTGTGCCATCCCTCTTTTCATTTTCTTGGTCAATTATTCTAGAGGTTGGTTTATTTTCATTAGTATTTTCAAAGGACCACTATTTTGATTTTTGTTGACCCTTTTATTAATTTTTAATTTTCGTGGGTACATAGTAGGTGTATATATTTATGGAGTATGTGAGATATTTTGATACAGGCATGAAACATAATAATCACATCGGCTGGGTGCGGTATCTCATGCCTGTAATCCCAGCACTTTGGGAGGTCAAGGCAGGTGGATCACGAAGTCAGGAGTTTGAGACCAGCCTGAACAACATAGTGAAACCCTGTCTCTACTAAAAATACAAATATTAGCTGGACTTGGTGGCGGGTGCCTGTAATCCCAGCTACTCAGGAGGCTGAGGCAGATGAATCGCTTGAACCCAGGAGGCAGAGGTTGCAGTGAGACGAGATTGCACCATTGCACTCCAGACCAGGCGACAATGTGAGACTCCATTAAAAAAAAAAATTAAAAAATCACATCAGGGTAAATGGGTTATCCATCCCCTCAAGCATTTATCCTTTGTGTTATAAACAATCCAATTATACTCTTAGTTATTTTTAAATATACAATTGAATTACTATTGACTATTGACTATAGTCACCCTGTTGTACTAAATAGTAGGTCTTATTCATTCTTTCTATTTTCTTTGTACCTATTAATTTTCCTCATTTCTCTTACTCCCCCACTACCCTTCCCAGACTCTAGTGACCATCCTTCTACTCTCTACCTCCATGAGTTCAAGTGTTTTAATTTTTAGCTCCCACAAATAAGTGAGAACATGTGAAGTTTGTCTTTCTGTACCTGGCTTACTTCACTTAATATAATGACCTCCAGTTCCATCCATGTTGTTGCAAATGACAGGATCTCATTCTTTTTTATGGCTGAACAGTACTCCATTGTGTATATGTACTACATTTACTTTATCTATTCATCTGTTGATGGTCACTTAGGTTGCTTCCAAATCTTGGCTATTGTGAACAGTGCTGAAAACACAGGAATGTAGCTATCTCTTTGATATACTAATTTTCTTTCGAGTATATACCTAGCAGTGGGATTCCTGGATTGTATGGTAGCTGTATTTTTAGTTTTTTGAGGAATCTCCAAGTTGTTCTCTATAGTGGTTGTACTAATTTACATCACCACCAAGAGTGGACAAGGTTTCTCTTTTCTTCATATCCTTGCCAGCATTTGTTATTGCCTGTCTTTTGGATAAAAGCCATTTTAACTGGGGTGAGATGATAATCTCATTGTAGTTTTGATTTGAATTTCTCTGATGATCAATGATGTTGACTCCTTTTCATATGCCGACTTGCCATTTGTATGTCTTCTTTTGAGAAATGCCTATTCAAATCTGTGCTGAGACACCTGGAGTTGGAGGTGGGGTGACACAAGCATGCCTGTGGCTGCCACCATTGGGAGAGTGCTGGGCCAAACCTGAAACCAGCACAGCACTGGGTCTCACCCAGGGCCCACTGTAACCACTACCCGGCTACTACCTATGTTTGCTTAAGGCCCTAGAACTCTACATTCAGTAGTGGTGAAGCCAGCCAGGCTTATGTCCTTCCCTTCAAGGTGGCAAGTTCCCCCAGGCCCTGGGCAGGTCCAGAGATACTGTCTGGGAGCCAGTGACTGGAGTCAAGAACCTTAGAAATCTGCTTGATGCTTTATTCTACTGCAGGTAAGCCGGCACTGACATCACAAGACAAAGTCCTTCTCACTTTTCTCTCTGCTTTCCACAGGAAGAGGAACCTCTTCCATGGTCATGGCCACCACAGGCCTACATGGGATACTGCCAGGCTACCACCAATGTTCACTTTAAGACCAAGCGTCCTTCAGTCAGCTTATGGTCAATGCTGCCAGGCCTGGGACTCACCCTTCAGGGCAGTGGGCTCCCCTCTGGCCCAGGGCAGGTCCAGAAATGTCATCCAAGAGCCAAGGCCTTTGGAATCAGGGATCCCAGGAGCCTGCTCGGTGCTCTGCCCACTGAACTGAGCTGGTACACAAGGTGCAAGACTAAGTCCCCTTTACTTTTCCCTCTGCTTTTCTCAAGCAGAAGCAGTCTCTTACCATAACCACCATAGCTGGGAATGTGCTGGTTCTCCACTGAAGCCAGCATGTCTCAGAGTCTCACCCAAGGCCCATAGCATACTACCTGGATATCACTGCTGGTTCTTCAGGACCCAAGGGCTCTTTACTCAGAGGTGATGAATCCTGCCAGGACTTTGTCCTTCCCTTCAAGGCAGTGGGTTCCCTTCTGGCCCAGGGTGTGTCTAGAAATGTTATCTAAGAGCTAGGGCTCAAAATGAGGGCCTTATGATCCTGAACAGTGCCCTATTCTACTGTGGCTGAGCTGGTATCCAAGACACAAGACAAAGTTCTTTTTAGTTCCCTCTCCCCTCCTTAAGTGGAAGGAAGAAGTTGCTTTCATTGCTGTGAGCTGCGCTGCCTAGGATTGAGGGAAAGATAGCACAAGCATGCCCTCAGCCAGCCCAGCTGGTGCCTCACTAGGTCACATGCCTCCCACATCCACTGGATCTGAGCCCAGCACAGCATTAGGACTTGCCTAGGAATTGCAGTCCTTGTGGCCTAGATGGATTTTCAAGTCTATTTAGGACCCCAGAGCCTTTGAGCCCACAGTGGTGGGGCTTGCAAAAACTTATGTTCCATCCACTGGGATGGATGATGCCCCTCTGTCTAGGGCTGGTCTAAATGCTTCCTCTGTGGGTGGGTGTCAAGTGAGTTTAGCCTGTTTTTTTCTTTCTGCTATGACAGGGCAGCATAGAGTTCAATGCAGGGTCCCATAATCACTGCACTCTCCTTCCTCCAGTGCACAGATTTTCCATGCCACAGGACCACTACTGGGGAGTGGGGGAGGGGTGGCTTCAGGGATTCAAGACTGTGTTTTCTACCCTCCTCAGTGCCTCTTTCAGTGATAGAAAGTTAAAACCAGGTACTGTGGTCGCTCACCTGATTGTTGGCTCTATGAAGGCGTTTTTTTGTGTATGTAGATAGTAGTTAAATTTGGTGCTCCTGCAGTGGGGGCGATTGGTGAAATTTCTATTCAGCCATCTTGCTCTGCTCTCCCTTGACCCTTTCTGTTTTATCTTTGTTTTTCCATTTCATTAATTTTTGCTCAAATCTTGAGTATTTCTTTTTATCTACAAGTTTATTTCTAAACTTTTATTAACGTCTTCATCTGGGCTCTGAATAGCCTTTCTTAATATGTACTGTAAAGATTATAAATTCCTATAGTACCTTATAGTGGAAGCCCTCAATTTTTGATATGTATTATTTTATCAATGTTGAGTTACAAGCAGTTGCATAGTATGAAGTCTTATGTGTCTCACTTTTTGCACTCAATATTTTGTTTGTGACATGTTACATGTAGCCATAATTTATTTATTCTCAGATATTATACATAATCTTTCATAAATGAGTATGTCACCATTTTTCCATCTCTCTGTTTGTGCATATCTGGCTTGTTTCCAGTCTTTGGATATCATGAATAATGCTGCTGTGACCATCCTTGTACACGACTTTTGAGGTACATTTCGATACGCTTCTATTGATTATGTACCTAGGAGTGAAATCTCTGGGGCATAGGATATGCTTATATTAAATTCTATTCCATGATGACAACTGTTTTCCAAATTATTTGTACAATATGCACTCTCTCCAGCAGTGTGTGAGTACCTACCTCTGCTCCACAGTCTTGCCAATGCTTACTATTGTCAGTTTTTAAAATTTTAGCCATTTGGCAGATGTATAATGGTGGCTCAAAGAGGTGTGAATTTGAATTTTCCTGACTACTAATAGGTAAACAATTTTGTATGTGTGTATGAATTCCCTGCTGCTATGGTTTGAATGTCCCCTCTAAAACTCATGTGGAAACTTAATCCCCAATGTGGCAGTATTGAGAGGTGGGGGCCTTTAAGAGGTGATTGCATCATGAGGGCTCTGCTCCTAATTCATTCATGGATTAATGGGTTAATAAATTAATACATTATCATGAGAGGCAAACAGGTGGCTTTATAAGAAGAGGAAGAGAGACCTGAGCTAGCACATTAGCAATACTAAGCCCCCTTGCCCTGTGATACCTTGAGCCACCTTAGGGCCCTGCACAGAGTCCTCATCAGCAAGAAAGCTCTCAGCAGATGTGACCCCTTGATCTTGGACTTCTCAGACTCCATAACTGTAATAATTAAATTCCTTTTCTTTATACATTGCCCTTCTTTGGGTAAGTCCTAGTTCAGGTCTTCTATATTCTTGATTATTTTCTGTCTACTAGTTCTAACAGTTGCTGAGAGGGAGATTGAAGTCTCCAACTATAATTTTGAGTTTCTCTCTCCTTTCAGCTCTATCAGTGTTTGTTTCATGTATTTTTGAGGCACTGTTTTTGGTGCATATACATTTAGAATTGCTACGACTTCCTGGTGGATTTAATCATTGGTATGTTAGAGCTTAAGCCTACCATTTTGTTATTTGTTTTCTGTTTGTTTCCTCTGGTTATCATTCCTTTTTCTCTTTTCTTGTTAATTGAATAATTTTTAGTATTTCATTTTGACTTATTTATAGTGTTTTTGAGTGTGTTTCTTCATATAGCTTTTATTTCGGTTGCTCTGGATATTTCAATAGACATACGTGACTTATCGCAGTCTGCTGGTATCAACGTTTTGCCACCTTGAGTGACATGTGGAAACCTTTAATCCATTTAGGTCCCTTTACCTTTCACTTTATTTATTTATTTATTTATTTTTATTTTTATTTTTTTTTTGAGACAGAGTCTCGCTCTGTCACCTAGGCTGGAGTGCAATGAAGTGATCTTGGCTCACTGCAACCTCCGCCTCCTAGGTTCAAACGATTCTCCTGCCTCAGCCTCCCGAGTAGCTGGGATTACAGCCATTCACCACTATGCCCAGGTAATTTTTTGTATTTTTAGTGAGACGGTACTTCACCATGTTGGCCAGGCTCATCTTGAACTCCTGACCTCAAGTGATCTGCCAGCCTCAGCCTCCCAAAGTGCTGGGATTATAGGCATGAGCCACCGTGCCCAGCTCCTTTCATAATCTTATATATTGTTATCTTGAGCATCAGATAATGCTATAATTTTTGTTTTGATCTTCAGATTCTTAAAATAAAACTCATGTGAGAAAGGGTGGTCTATGGTTTGTACTCATATGCTTCATTGTTATGACATTCTTTCTTAAGCTCCATGGTTCCTTCTTTTATAATTTCCTTCCTGCTGAAGGTCTTCCTTTAGCCAATTTTTAAGGATAGGTCTGGAATTGACAAATTCTTCTAGCTTTCCTTCATCTGAGAATGTCTTTATTGCTCATTCATTTTGGTAAAATAGTTTTGCCAGATAGAGACTGTGGCTGACAGTTCTTTTCTTTCAGCACCTGAAAAATGTTGTACCAATTCCTTCTGGCCTTAAATATAAAAAAGATTTATTAAGATGACAAATCTTTTATAAGAGGTTATATCACCGATGGTTTCAAATACGAAATCCACTGTCATTCAAATGGCACTTGTAAGTAAAATGTCATTTTTTTCTGGTTGTTTTCAATCCTATCATCTTTAGTTTTAATAAGCTCAAATATGATATGTCTTCATTATTATGTATGTATAGATGACCTGTTGGCTCTCTTTCTCTGGAGAACCCTGACTCTTACATGGTCTATAAGCCTAGAACATTTTGTTGTGCCAGAAAGTACAGAAGTCCTTGAAAACTGATTAAAGCAAAAAAAAAAAAAAAAAAAAAAAAGGACCCAGGATCCAGCTTGATGAGGCTCCTGCTGGCCAAATCTGAGATAATATGAGCATAAAAATGAATAACGACAGGATTATAACCAAGTGACTAAGAACAGGATACATGTTACCATTTTAAGTTATAAAACGAATGAATGAACCTTCCTTTTTACAAGGAATGGTGTAGAATTTAAAAACCACCATATTGTAGCCACCATTGTAGTAATTGATTCAGGCAGAAAACATCAATGGATGCTCAAGTCATTAGATGGAAGTTAAATGAGAAATAGATTTATTTATATGAATTACTTTTTAATTTTAAAGGGGAGGAAAGATACCTTTACAATGGGAAAATCTGGCAGACACTACCATGATATTGACTGAAGATTAATAACATGAGTAACAAGACAAACCAGCATCACGGTGATGTCCTGGGAAGGATACATCACCATTCCTGCCAGAAATGCATGACCAAAGTCTAATCACAAAGGAATCTCAAACTCAAGTAAAACACATTCTACAGAATAGTGGCCTGCACTCTTCAACGATGTCAAAAAATCAATGTTAAATTAGATAATTATATTATGGTTATATAAGAGAATATCCTTGTTTTAGGACATAGGCTGAAATGTTTGGAAATTGTTGTGATATCTGCAAGGTATTCTTAAATGTTACAGAGAGAGAAAAAGAGAGAGAGAGCAAGAGAGCACAGGTAGGACAAAAATGTTACCTGGTGACTCCAGGCAAACGGTTTTTGGAGGGGGACTGTGTTACTCCTAAAACCAAGTGGGTTCTGCCCGCTCAGGGGTTCTTGGCTGCTTGGATTTTTGAAGCAAACACACACTCATCCAAGGGCTGTAAACAGTGCAGGTGACACAGCTGACTGCTATCTTGGTTTAAAAATGGAGACTCTGGAGCTGGATGATTGAATCTCTATTACACCCCCAACTTGGGTGATCTTGGTCAAGTTCTTTAACTTCTCTAGGCCTCAGTTCCCTTATCTGTAAAATAGTATGAGAATAGTCGCTGTGTTCTAAGATTGCTTTGAAGATTAACATGAGTTAATAATATCTATAATACTTATAAGGGTGCCTGGCACACAGTAACCACGCATAAATGCTAATTATTATATTTACTATTAGTAGTAATTGGACAGGCAACAAAGAAGATCCTTCAACTTTCTATGTCTCTCAGTGGTCTGAAACTTCCATCTGATACTATTTAAAAGAATTTGGGTAAGTCCTCATACAGAAAATGAGTCTTTCTTAATTTTGGAATGATGGTAAAACACTGGGTTTTAGTCCCACCAGGATCTTCTACCTGGAAAGGAACTGAGCCAGGTGGGTGGGCAGTACAGAAATGGAAGGAGGGAGCAGGGAACTAATGCTGTCTGCAAAGACAAGAGAACAAGGAGACCCCGGGGAATGCAGAAACTGGCAGCGTTTTCCTTCAACTACCATGAAAATGGCCAGACTGCCTGATATGGTTTGGCTGTGTCCCCACCCAAATCTCAACTTGAATTTTGTCTCCCAGAATTCCCACGTGTTGTGGGAGGGACCCAGGGGGAGGTAATTGAATCATGGCAGCTGGTCTTTCCCATGATAGTGAATAAGTCTCATGAGATCTGAAGGGCTTATCAGGGATTTCCACTTTTGCTTCTTCCTCATTTTCTCTTGCCACCACCATGTAAGAAGTACCTTTCACCTCCTGCCATGATTCTGAGGACTCCCCAGCCATGTGGAAGTATAAGTCCAATTAAACATCTTTTTCTTTCCAGTCTCAGATATGTCTTTATCAGCAGTGTGAAAACAGACTAATACACTGCCTGACACTCTCATTCATGAATAATTTTTGCATCAAAGAGTAAATTGGGAGTAAAATAACAGAAGATAAAAACAAAATATTTTGCAACCAAAAGAATAATTCCTAAGCTATACTCAGTAGTACATTCATAGTTTTAAATGGCCTTAAAATTTAAAAGAGAGAGTTTCATGAACCATTATGCTTATATCTTGCTTCTTCCAAAGTGCTGCTAAAGTCTTAGCCTGCTGCAATGACAGAGTACCTGGGCAGGTATGTGAAATACTCCACCTTGGTAGAGATAACAGAAACCTAACCTTGACCTTCCCATTAAAACTAAAGGGAAAATTTGACTGAAGTTTTCAAGTAGTACCCTTAAGGAATCACACATAGAAGGTACTCAATAAATATTACAGCTTGAATACATAAAACAATGCCACTGAGAGCCTCAAGGGTCTGGAGTACTCTCAGATAACTGGCATATTAGTTAGATATTGCTCTGTAGCAAACCACTTCAAAAGTTAGGGGCCTAAAATAGTAACCTTTTATTATTTCTCATGAGTCCACAGGTCGATGGGGCACTTCTGCTACTCTGGGCTGGATGTGGCTGATCTTAACTGGCTCATCAGTGATCAGCCAGTGGATTGGATGGGCCTGGCTCATCTCAGATGACTTCAGTCCTCCTCCCCGTGTTCTGCACATCCCTTCAGTAGGCTAAGCTGGGCTTGTTCTCATGGCAGTGCCAGAGGTCCAAGAAATGAGTGAAAATGCACATGTGCTTTTCCAAGCCTCTGATCCTGTCCTGTTGGCCAAAGCATGTCACAGCATCAAGCCCAACAGCATTTTGGGAGGGCCCTACTTAAACGAATGGCAAGAGTGATGCATGAAAAATTGGGCTGATTTCTGCAGTGAATCCTCTATAATTGAGAATCCCATAGAGAAGTGTTTTGGGACAGTTCATCCTAATGACAGACATAAAATAATGAAATGTCAAATGACAGACATAAAATATTGAAATGTGTGGCTGTCTCCTTACCACAGTTGATTCTAACCCAGTTGTTGAATTATTTGCCAAACCTCACCCAGTTCAGCAGGGCTATCACTATGATGCACCCTTGTATGTCTCTGAGGATTTATAAGAGACCTAAATTTTTAAAAAAGAAAGAAACTGGTCCACTCTCCAACAGTTCACAAAAATCAATTTCAGATATAGATCAAAGACCCAGATATAAAAGGCAAAATTTCAAATCTTTCAAAATTAAATGGGGGAGACTCTCTTAATATCTTTAGATTAGAAACAATTATTTAAAAAGATGAAAAATGCACTACCTATATAGGACACATTTTCAAATCTAGCCATATTGAAATTGAGAATTTTTGTTAATCAAAAGTTACCTCAAAGGGAATGTTTTTAAAAGTCATGATATGAGATAAAATATTTGTAGCACATGTAACCAAAAAGTGACTAGAACTTGAGTACATAAATAACTCCTGTAAACAGTGATGTTGATGTACTGGAAAATGTTTAACAACTGACCCTCAGGTCCCAAAAGTCCTTATTTTTAGCATTTGCTTGTTTCCAGGATATAAACACTTCCATGTGGCCAATTACAAGCCACTAATGTAAGGTCACCAAGTAGGGCCTTGGGGATAGATGGTTGCAGTTGGCTCTCACAAGGCAGGTATAAAGGCTGCAGCACAAAAGTCAACATGAAAAACAAAACAACCCAATGGGAAAAGTGCAAAAGAAGGCTTTTATGAGTGCTGTCTTAGTTCGTTCGTTTGTGTTGCTGTGAAGAAATACTTGAGTGTGGGTGGTTTACAAGGAAAAGAGTTGTATTTGGCTCAGCGTTCTGCAGGCTGTGCAAGAAGCATGGAGCTGGCATTAGGCAAGGGCCTCACACTGCTTCCACTCATGGCAGAAGGGGAAGGGAGCCCATGTGTGGAGATCACTCGGCAAGAGAGGAAGGCGAGGAGGTGCCAGCCTCTCTCTAACAACCAGGAACGAATAGAGTAAGAACTCACACTCCTTCCCCAGGGAGGGCAGTAAGGCATTCATGAGGGATCCGCCCCCATGATCCAAACACTTCCCATTAGGCCCCACCTCCAACACTGGGGATCAAATTTCAACATGAAACTTGGAGGAAACAGACAATATCAAACTATACCAGGGGCATAAAAGAGAAAACCTAAATGGACACTAAAAATACAAAAAGATGCTCAACCTAGTAACTGATGAGAGAAATGCAAATTAAAGTCACAATTAGATACATTTCACACCCTCCAGACTGACAGAAGTTAAAAAGTTTGTCAGTTTGGGGTTGGTGATTCGGAGATGTGGAAGCTCTCACCCATGGCTGAAGGAGCCTGTGCTAGTACAAACCACTGTGAGAAGCAGTTTGGCATTTCCTAAAAGAGGTGACTATGCCCACGTACGACCAGCACTTTCATTCCTGTAAATGTAAACATGCCCTAGGGAAACTCTTGCCCATACACCCCGCAGAACACACAGGGTTCGTGGGAGGACCATTAGCAATGGGAAAAAATGAAAACAACGCATGTGCCCATCAGCAACACAATAAATTATAGTCTCTATATATGATGGAATACAATTTCACAGTACTAAAAACTAATGAATTATGGCTACACGTATCAATATGGACAAATCCCAAGAACTTCATGGAGAGAGAGAGCATCACAAAAGAATACACGTAACATAACTGCAATACTATAAAGTTCCTCATCTATGCTAATAAAGACAGGGGGGGTTATCAGCAAAGTCAGGTTGGTGGTTGGAGAGGGAGGCAGGAGAGCAAGGGGGTTATGATCTGAGCATAGGACAGGAAGGGAGAGGGGCTATTCCACGCGACAGGAAATAGTCCATTCTCAAACGGTGTGAGTGTGGAGATGCTCTCTAAACTGTTGCTGCTGAGACATACGCTTGCATTGGATAGATTCTTCCACGTGTGTATTTCAAATTTGGCTTCATCAAAAGGCTTGTGGGGGAGTCACAGTGCAGTATATTAAGTGTGACAGCTGAGGAAAGCCCCAGCCGCAGAGGACAGAGAAAGGGGCGCATGTTGTCACCTGGCGGTGGGGTTGTTTCCGGAGAAGCGCCCAGGCTACAAACTGAGTTGTGAATCACGGAGGGACTTAGGTCCGGAAGGGGCAGCGCAGCGCCCTCCAGGCAGAGGAGAAGCCCCGCGGCCACCCTGCTGCGGTGCGGACTCCGCCTGTCCGGTTCCCTGTCACACCTGCTGCCTGCCCCCACCCTGCACACAGGTGCACACACACGGCGCGCATATCAGAGGCGGACGAAGAAGCCGCCAGAATTTAGCCAGTCTTCCTTCTTCATCTTCCCTCCTCCTAGTAAAACACACACACACACACACACACACACACACACACACACACACACACAAACACAAATGGGCATCACTCTTTTCTCTGGTCGTGCCTCTATTTCAGCTTGTGATTTTCACGTTTCACAAGGGTCTTCGCGGCAGAACCTGGCCGTCCCAACAGCCTGCGGAGGTTTCGGGTTGGATCTCGCGTTCGCTCCACTGCTTGGCCTGCGCTTCAGCCTCTAGCGACCAAAGACACCCATGCCACCGTCGGCAGCTCCATGCTCGCGAACTTAGACTTCAGACCTCTGTTTCACTGCAGTAATTAAAGAGACCATGGTGGGGATAGGGCGGAAAGTTATGTTCAATAAATACCTTTTAAATGATTTAAATGTGTCCTTCCTTCTCCAGCGCACACACGTACTCCTGAACTGGACACCTGGCAAGGCCAAGGAAAAAGGAGAAACTCTTTTGTAAGGCGGGAAGGATGCACCCCCTTAGCTACAGACAGGCTTCTAGGTGGCTCGCCTTCTACTAGTAGAACAGGTAGGGTTGTCTGCTAAAGTGTGGGACCTGCTACGTTGAAGCCAATCTTCTCTGAGCAAGACTCAATTTATCTTTTTCTTAATTACAACACATGAATTTTAGGTCACCAAGTAACACCACCAGTCAAAGGGTTTCATTTTATCTTTATTGCCTATTTATTACAATTCAGAAGAAAAATGACCAACTGGAAAAAAAAATATGTAACACGTATTACAGACTGTCAAATTTATTTCTTCTTCTTATTCTTTAGACAAGTTCTCACTCTGTGACCAGGCTGGAGTGCAGTGGTGTGATCTTGGCTTACTGTAGCCTTGAACTCCCAGGCTTAAGTGATTCTCCCACCTCAGCCTCCTGAGTAGCTGGGACTATGGCATGCACTACACACCTGGGTAATTTTTATATTTTTTTTGTAGAGACAAGGGTTTTGCCATGGGTCCAGGCTGGATTTTTTTCTTTATATATATGAAGACTTGGCAAAGGATATGGACAGACAGGTAATCCAGCTGGATCTTGAGCATATAACAAGATGCTCCACCACACTGGTAATTAGAAAACTATACTTTAAAACTACAAGATACTATTTTCCAGTCTCAGATTGGCCAAGTTCAAAAACGAGGAGAGTGGCTTGTGTCTGGGAGGCTGTGGGGGTCTGTGCTCTCACTCATTACTGACCGTGTGCCCCTAGGGAGATGGCATGGCAGGCAGTTTGCTAAGGCCTTCCAAAGGTAACAGTGCACACACTTTTTAACCCAGCAATTCTGCTTATTTGTCCTACAGATTTGTTTGCATATGAAATGGCCTGCCAGTGAGGATGTGCACTGCAACGTGGTTTCACTAACAAATATGCAACCAATCTACATCTCTATAAATAAATGGGTGAAATAAATAGTGATGCATCCATAGAACCATGAGTAGCCAAGAAAAAAAAAGTCTTTATATGAACTAATATGCAGAGATCTCTAAGAAATATTATTAAAAGAAATGCAAGGTGCAGAACCATGGGTACATCTACCACTAATGTAAAACACTAAAAAGCACTGTGTAAGGATATAAAAGAGGCTGTTGATAGTGTTCTTTCCAGGGAAAGAAAATGGGGTGACTGTGGGAAAAAGGTTAGAGGAGACTTAACTTTCACTTTCAAATTTTTTGCTGTGTTCAAACTTTGTCTATTCAAAAAAATTAACAAATAAAAATGCATTTAAAAAATTAGAGGCCAGTATTACCTACAGTTTCCAGCCTTCTGTGTAAAAGCAGATGTATTCACATTCTCCAGAGAAAGAGAACCACTAAGGTATCTATATTTCTATATCTATATCCATATCTCTATATCTGTCTATATAGAGAGATTTATTATAAGGAATTAGAGGCTGAGAAATCCAGACCCCAGGGAGCAAATAGTGGTATGTGACATGCCTTCATCAACAGAATATGCTGGAAGTAATGTTTTGAGGCTTAAAATTCCAATCTTTAGAGAATCGTTAGCCTCTGCTTCTCCTCTTCTAGAGTCCAGGCAAGGTAAGGTGTTAAACTGTACTGAGACAGTCATGCTGTAAGGAAGCCCAAGTTATCCATATGGAAAGAGAGACCACATAAGGGAGCATTGAGGTGCTAGACTTGTGAATGGAGCCTTCTTGGACCCTCTAACCTAGCTGAACTCCATATATGCAGTCCATGCCATGAGGAGGAGCAGAAGAGCTGCCCAGCCAAGCCCTGCCCAAACTCTCAACCCACAGAATTGTGAGAAACAATAAATTGTTGTCTTAAACCACTAAATTTTGGAATGTTTTGTTGCATAGCAATAGGTTTGCCCCAACATACTGGATGTCACTTACAAAGGTGACGATTCCTTTACAGGGACAGCCAAGTAACCATCCCATGGGAAACAAATATTTGCATTCCTTTATCTTGTTACTGAGGTGACATCTAATTGTATTCTTCTTTTTACCTTACATGAGACACTAATGGGCGTTTTTCTCCTTGATCTTTTATGGAAGCAAGCACAGTGTCAAACAGCAAGGGGCTTCTAATAGGGGATTTGCAGATGGCCAGCCTATCTCAGAATAGGACACAAAGATCTTGGGGTATCTTGTTTAGGATTCAGACAGTAGTCCCTGTAAATCCCATATACTTGCTATGAAAAGGAAAAATTGGCACATCAATTTGAGGTCAAAATGGTGGATATGAGGCAGGACTAACTTGCAGCTCCCACTCAGACAGACAGAGCAGCATGTGGAGACTCACATCATGAACTACCTCAGGAACATACCAGGAAAGCCAAGAGAATCCACAGGCCACCTGAAGGAGGTGGATTGCCACTGCAGGCTCCGTGGGACAGCTGAGGAAACTGCTAGTCTGTTTGCTTTCTCAGCTGGAAGGCTTGTAGCCTGAGGCAAGTTCTCAGCCTTGCTGACTGGCTGCCTGGAAATAAACTCAGTGCTGTTGCAGGGAGCATGGTGGGAGTGAGACCAGCCTTTTGGGCTGTGGGCTGCATGGGAGCTGGGTGACGCCTGTGGCTGCCAGCTTTCCCCCACTTCCCTGGCAACCTGTGTGATGCAGCAAGGCAGCCATAATTCCCTTGGGAACATAACTCCATTGGCCTGGGAACCACACCTCCATCCCACAAAGTAGCAGCAGCAGGCCTCGCACAAGGAGAGTCTGAGCTCAGACATGCCTAACCCTGCCCAGACCTGGTGGTCTTTCTCTACCTGCCCTGGTAGCAGAAGACAAAGGACACAATCTCTTAGGAACTGTATGGCCCTGCCTACCACCTGACCTTAGGGCAAGCTTCTATCCTCCCTATACTACTGCAGCTGATGTGCTCTTAAAAGCACCACCTCCTAGCTGGAGGCGAACCAAATAAAATTAGCACACTTTTTTTTTTGAGACAGAGTTTCGCTCTTGTCACCCAGACTGGAGTGCAATGGCATGATCTTGGCTCACTGCAACCTCCACCTCCCAGGTTCAAGCAATTCTCCTGCCTCAGCCTACCCAAGTAGCTTAGTTTTGTATCCAGCAAAGCTAAGCTTCATAAATTAGGGAAAAATACAATCTTTTTCAGACAAACAAACGCTGAGAGGATTTGCTACTGCAAAGCCATCACTACAAGAACTGCTAAAAGTAGCTCTAAATCTTGAAATAAATCTTTGAAATACACTAAAATATAATCTCCTTAAAGCATAAATCTCACAGGACCTATAAAACAATAACACAATGGGAAAAAAAGGTATTTAGACAACAAAAAGCATGATGAATAGAATAGTACCTCACATCTCAATAATAACATTGAATATAAATGGCCTAAATGCTCCACTTAAAATATACAGAATTGCAGAATGGATAAGAATTCACCAGTCAAGTATCTGCTGTCTTCAAGAGACTCACCTGACACATAAGGACTCACATAAACTTAAGGTAAAGGGGTGGAAAAAAGATATTCCATGCAAATAGCCCCCAATCCCTTCTAGCTTGTAGAGTCTCTGCTGAGAAGTCCACTGTTAATCTGACAGGTTTTCCTTCATAGATATTGGGGGAACCCGCCCCCAATATTTTAATGTATGTTCTTTCTATTTTCTGTAAGTGTTGGCCAGCTGAGAAATAAAGAGAAACAGTATAAAGAGAGGAATTTTACAGCTGGGCCGCCAGGGGTGACATCACATATTGGTAGGACCATGATGCCCACCTAAGTCTCAGACCAACAAGTTTTTATTAAGGGTTTCAAAAGGGAAGGGGGTGTAAGAACAGGGAGTAGGTACAAAGATCACATGCTTCTGAGGGTAAAAAGTGGAACCACTAATAAAGGTCTAACAAAGATCACATGCTTCTGAGGGAACAGGACAAAGGGCAAAAGCAGAACCACTGATAAGGGTCTATGTTCAGCGGTGCAAGTATTGTCTTGATAAACATCTTAAACAACAGAAAACAGGGTTCAAGAGCAGAGAACCCGTCTGACCACAAATTTACCAGGGTGGAGTTTTTCCCCACCCTAGTAAGCCTGAGGGTTCTGCAGGAGACCAGGGCATATCTCAGTCCTTGTCTCAACAGCACAAGACAGACATTCCCAGAGTGGCCATTTATAGACCGCCCCCCCAACCCCCCAGGAAAGCATTCCTTTCCCTGGGTATTAATATTCCTTGCTAGGAAAAGAATTTAGCGACATCTCTCCTACTTGCACGTCCATTTTATAGGCTCTCTGCAAGAAGAGAAATATGGTTCTTTTTGCCTGACCCCACAGGCAGTCAGACCTTATGGTTGTCTTCCCTTGTTCCACAAAAATCACTGTTATTCTGTTCTTTTTGAAGGTGCACTGATTTCATATTGTTCAAACACACATGTTTTACAATCAGTTTGTACAGTTAACACAATTATCACAGTGGTCCTGAGGTGACTTACATCCTCAGCTTATGAAGATAACAGGATTAAGAGATTAAAGTAAAGACACACATAAGAAATTATAAAAGTATTATTTGGGAGCTGACAAATGTCCATATTAAAATGAAATCTTCACAATTTATGTTCCTCTACCATGGCTCCAGCCGGTCCCTCCGTTCGGGGTCCCTGACTTCCTGCAACAATAGGTTACCTGATGCTTTTGCTGCATAACTCTTAAGATTCTTTCCTTCATCTTGACTAGATAATCTGATGAATATGTGCCAAGGTAATGATCTTTTTGTGACAAATTTCCCAGGTGCTCTTTGAGCTTCTTGTGTTTGGATGTCTAGGTCTCTAGCAAGGCCAGGGAAGTTTTCCTTGATTATTCCCTCAAATATGTTTTTTAAACTTTTATAGTTCTTTTCTTCCTCAGGAACACCAATTAGTCTTATATTTTGTCACTTAACAAAGCAAGCAGGAGTAGCTATTCTTATATCAGACAAAACAAACTTTAAAGCAGCAGCAGTTAAGAAAGACAAAAAGAGACATTATATAATGATAAACAGACTAGTCCAAAAGGAAAATATCACAATACTAAATATATATGCACCCAACACTGGAGCTCCCAAATTTATAACACAATTTCTACTAGACCTAAGAAATGAGATAGACAGCAACACAATAATAGTGGGGGACTTCAATACTCCACAGACGGCACTAGACAGGTCATCAAAACATAAAGTCAACAAAGAAGCAATAGACTTAAACTATACCCTGGAACAAATGGACTTAGCAGACATTTACAGAAGATTCTACCCAGCAACTGCAGAATATAGATTCTCTGCATCAGCATGTGGAATATTCTTCAAGATAGACCATATGATAGCCACAAAACAAGTCTCAGCAAATTTAAGAAAATAGAGATTATATCAAGTACTCTCTCAGACCACAGTGGAATAAAATTGGAAATCAACTACAAAAGGAACCCTCAAAACCACGCAAATACATGAAAATTTACCTGCTTTTGAATGACCGTTGAGTCAGCAATGAAATCAAGATGGAAATTAACAAATTCATTGAACTGAACAATAATAGTGACACAATCTATCAAACCCTCTGGGATACAGCAAACACAGTGCTAAGAGGAAAGTTCAGAGTGTTAAATGCCTACATCAAAAAGTCCGAAAGGGCACAAATAGACAATCTAAGGTCACCCCTCAAGGAACTAGAGAAATAAGAACAAACCAAACCCCAACCCAGCAGAAGAAAAGAAATAACCAAGATCAGAGCAGTACTAAATGAAATTAAAACAATGACAAAAAATACACAAGATAAATGGAACAAAAAGCTGGTTCAAAAGATAAATAAAATTGATAGACCATTAGTGAGATTAACCAACAAAAGAAGAGAGAAGATCCAAATAAGCTCAATCAGAAATGAAACAGCAGATATTACCACTGATACCACAGAAATACAAAAGATCATTCAAGACTACTATGAACACATTTACACACATAAACTAGAAAACCTAGATGAGATGAATACATTCCTGGAAATATACAACCCTCCTTGATTAAACCAGGAAGAAATAGAAACTCTGAACAGACCAATAACAAGGAGTGAGATTGAAATTGTATCTAAATAGTTACCAACAAAAAAAAGTCCAGGACCAGACGAATTCACAGCTGAATTTAGACATTCCAAGAAGAATTGGTACCAATCCTACTGACACTATTCCAAAAGACTATTCCAAAAGACTATTCCAAAAGATTATTGACAAACTGACACTAATCCAAAAGAGGATTCCAAAAGAGGGAATCCTCCCTAAATCATTCTATGAAGCCAGTATCACCCTAGTACCAAAACCAGGAAAGGAAATAACAAAAAAAGAAATCTACAGATCAATATCCCTGATGAATATAGATGTGAAAATCCTCAACAAAATACTAGCTATCTGAATCCAACAGCATATCAAAAAGATAATTCACCGTGATCAAGTGGGTTTCAAGTGCATACCAGGGATGCAGAGATGGTTTAATATATTCAAGTCAATAAATGTGATACAACACATAAAGAGAATTAAAAATAAACATCACATGATCATCTCAATACACACAGAAAAAGCATTTGACAAAATCCAGCACCACTTTATGATTAAAACCCTCAGCAAAATCCACATACAAGAGACATACATCACTGTAATAAAAGCCATCTATGACAAACCCACAGCAAACATAATACTGAATGGGAAAAAGTTGGAAGCATTCCCTCTGAGAACTGAAATAAAACAAGGATGCCCACTCTTACCAATCTATTCAACATAGTACTGGAAGTACTACCCAGAACATTCAGACAAGAGAAAGGAATAAAGGGCATCCAAATTGGTAAAGAGGACGTCAAACTGTCACTATATGCTGATGACATGATTACATACCTAGAAAACCGTAAGGGCTCATCCAAAAAGCTCCTAGAACTGGTAAATGAATTCAGCAAAGTTTCAGGATACAAAATTAATGTAAACAAATCAATAGCTCTGCTATATGCCAACAGCGAACAAGCTGAACATCAAATCAAGAACTCAATCCCTTTTACAATAGCTGCAAAAAAATAAAAATAAGAAACCTAGGGCTATACCTAACCAAGGAGGTGAAAGACCTCTACAAGGAAAACTACAAAACACTGCTGAAATAAATCATAGATGACACACAAATGGAAACACATCTGATGCTCGTGAATGGGTAGGATCAATATTGTGAAAATAACCATATTGTCAAAAGCAATCTATAGATACTATTCAATTCCCACCAAAATACCATCATCGTTCTTCACAGAACTAGAAAAAAAATTCTATAATTCAAATGAAACCAATAAAGACCCCACAGAGCCAAAGCAAGACTAAACAAACAAACAAAAAAATCTGGAGGCATCACATTACCTGACTTCAAACTATACTACAAAACTATAGTTACCAAAACAGTACGGTACTGGCTTAAAAATAGGCACATAGACCAATGGAACAGAATAGAGAACCCAGAAATACAGCCAAATACTTACATCAACTGATCTTTGACAAAGCAAGCAAAAACATAAAGTGGGGAAAGGACATCCTATTCAACAAATGGTGCTGGGATAATTGGCAAGCCACATGAAGCCGAATGAAACTGGATCCTCATCTCTCACCTTATACAAAAATCAACTCAAGATGGATCAAAGGCTTAAATGCAAGACGTGAAACCATAAAAATTCTAGAAGATAACATTGGAAAAACCCTTCTAGACATTGGCTTAGGCATAGACTTCATGACCAAAAACCCAAAAGCAAATGCAACAAAAACAAAGATAAATAATGGGACTGAATTAAACTAAAAAGCTTCTTCACAGCAGAAGAAATAACCTGCAGAATAAACAGACAACCCACAGAGTGGGAGAAAATCTTCACACTCTATACTTCTGACAAAGGACTGATAAACAAAATCTACGAGGAACTCAAACAAATCAGCAGGAAACACAAAAAAAAACAGAGAAAAAAAAACCCCCAAAATTGGGCAAATGACATGAATAGACAATTCTCAAAAGAAGATATACAAATGGCCAAAAAACATATGAAAAATGCTCAATATCACTAATTATAAGGGAAATGCAAATTAAAACCACAATGTGATACCACCTTACTCCTGCAAGAATGACCATAATCAAAAAATCAAAAAATAGATGTTGGCGTGGATATGGTGAAAAGGGACCACTTTTACACTGTTGGTAGGAATGTAAACTAGTACAATCACTATGGGAAACACCGTGGAGATTCCTTTAAAGAGCTAAAAGTAGACATAACATTTGATCCAGCAATCCCACTCCTAGGTATCCATCCAGAGGAAAATAAGTCATTATATGAAAAAGATACTTGCACACCCATGTTTATAGCAGTACAATTTGCAATTACAAAATATGGAACCAGCTCAAATGTCCATCAATCAATGAATGGATAAAGAAAATGTTGTATATATGTATATGTACCATGGAATACTACTCAGCCATAAAAAAGAACAAAATAATGGTATTTGCAACAACCTGGATGGAGTTAGAGACCATTATTATAAGTGAAGTTAACTCAGGAATGGAAAACTAAACATCATATGTTCTCACTCATAAGTGGGAGCTAAGCTATGAGGACACAAAGGCATAAAAATGATACGATGGACCTTGGGGACACAAGGGAAAGGGTGAGGGTGGATGAGGGATAAAAGTCTACATACTGGGTACAGTGTACACTACTTGGGTGATGAGTGCACCAAAATCTTAGAAATCACCACTAATGAACTTATTCATGTACAATAAATAAATCAATATTAACACAGGGAAAATTGGTACATGGAATGTCAAGAGGCCTCAGGCAAGGCCGCCCTGGGGCAGAACCCCCTCCTCCCCCACTAAGAAACAGAGCCCTCCCCAACCCTATCCAGCAGCTGGCCCTGAAGGAACAGAGTACACCTGAGAGGCCCAGGCAGGAGGCTGGAGCTTAGGGTGTAGAAGAGGAGCCAAGAGATTGTAAAGACAGAGTAGCTGCAGGGGAGGTGTAGACTCCACCACCTGAGGGGTGCCTGCAGGGGCTTGAGAACCAAGACCAAGGCTCTGCACCATGGGGAGGCCTCCTGCATCTCCCACCATGTGGACTCTGCACAGGTTGGACATTATATCCCTTGAAACTGAAGAGCTGCCTTAATATTTTTTGGGATTCTATGTTTGTGCTGACAACACCACCCCTTCCTTCCACAACACTGGGCATGGTGCCCAGCTTGGACCATGGGTTGGCAATCAATGAGTGGATGATCAGCCCTAAGGCCAAGTTCTCCTACAGCCTGTGTTTGTGAATGTTATTCATGTTATTGATCAAGGCCATGCCCATTGATGAACCTGTTGTTCATGGCTTCACTTCCTAATGGCAGAGTTGAGTTGTGACAGAGACCGTGTGGGCACAAAGCTTGAAATATTTACCCTCTGGCTCTTTACAGAAAGGGTTGTCAATTCTGAGGAAATCAATAGGAAGTAAACTATTCCAGTTCCTAAAAATGTGAGTGTTTTGTGTGGTGAGAGAGACCACACATTTCAAAGAAAAATGATAGAGATAGACTGGAGAAAATACTTACAACATATGCATTTAAAAAATTTAATAACTCTTGGCTGGGTGCAGTGGCTCATGCCTGTAATACCAGCACTTTGGGAGGCCAAGGCAGGTGAATAACTTGAGGTCAGGAGTTCAAGACCAGCCTGGCCAACATGGTGAAACCATGTGTCCACTAAAAATACTAAAATTAACAGGGCATGGTGGTGCATGCTTGTAATCCCATCTACTTAGGAGGCTGAGGGTGGAGGATTGCTTGAACCTGGGAGGTGGAGGTTGTGGTGAACTGAGATTGCACCACTACACTCCAGCCTGGGTGACAGAGCGAGACTCTGTCTCAAAAAAAAATTTAATAACTCTAATATTCTAAGGCTTCCACAAATTAATAAGAACAAGGCAAACACCATAGAATAGAAAAATAGAAAAATGGGCAAAGGAGTTGAACAGAAAAAGCGCACAAAAATACAAATGACTTATAAATTTATGATAGAGACAAATGTCATAAGTTATTATGAAAACAGAAATGTCACAGTGTTTTTCACTCACACTGATTGTATTGAGTCTTGATAAGGATGGAGGGCACATTGTGCCTTTGGGAGAAGCATCAATGAGCACACTTGTTTTGGAGGGGGTAATCTATCTAAAGTAAATGTTAAATTTTTTAAAAATGCATATCTTTTGCCAGATAATGTCATTTCTAGATGTCTAATCTATATAAATAGTCATACAAGTTCAAAAATAAATACGGAAGGATTTTCATCCTATCATTACATGAGATAACATTTTTTAAAAAAACCTGAATACTAATTAATGGAAAATGGTTACATAAATTGTAATGTATACATTTTCTAAAATATGCAGTTACTAAAAGGAATGAAAAGCGTTAATATTTTCTAAATGGAATAACTACTAAGATATATTGTTGAGCAAAAAAGCAAGTTGAATAACATTATGAATTACATGATTGCATTCTAAAATGTAAAATCTGTGTATGTACGTGTGTGTGTGTGCAGGTGTGTGTTCTAGGGAAAGGGGCCATGGCCACCTAACTCCTCCACTGGTGTGTAGTGGACAAGGTTGCTGCTGTATAAGGTAAGATATTGGTTTGGCTGCTTTAGCAAAGATCAAAATAACAGTAACTTAAAAAATAAAGAAGTTTGGTTCTCCCTCTTGTTAAAGTCTGGATTGGCAGAAGAGCCAGAGGTCAAAGTTTCCGGAGCCCTACCTGTCTCATCACTGTGCCATTCTGTCAGTGCATCTCTAGTCCACACGGTTGCAGCTGGAGGACCATGACCTGGAAAGTAGGAAGTGGGAATGTAGAGGAAAAGATAGACAGGCCCTGTGGAAGGCATGACCCAGAGTTGCACACGTGATTCACGTCACCTTCTTCTAGCCTAAGCATAGTCATGTGGCCACACCACGTAGGCCAAGAAAAAAGCAGTCCTTGGCTAGGCAGCCCCATGCCCAGCTAAAATGTAGAGGGCTCTGTTATTAAAAAGAAAACAGGAGAAGTCAATATTGGGGGATAATGAGTAGTCTCTCCCAAGGATGTCCTGCTGTCTTCCTTGCCAACAGAAAATCATAAAATCGACAAAGGAGAAACAGCAGACCATTTATGAAAGAATGCGGTTTGTCTTCAGCAGACTTATCCAAAACAGTAACAGGCAGCAGAAGATGGAAAATTATATTTGCAAAGTAGTGAGAGGAGCCAGTGTGAGCATAGCATTCTATATTATGTAAATGATCATTTAAGAAGAAAGGAAAGAGAAAAACATTTCAGAGCAAGACAGTGAGAATTGTCTGGGCACGGTGGCTCATGCCTGCAATCCCAGCATTTGGAGAAGGCAAAGCAGGAGGATTGCTTGAGCCCAGGAGTTCGAGACCAGGCTGGGCAACATGGTAAAATCCTGTCTCTATTAAAAACAAAACAAAACAGAAAGAAAAAAGATAGTGAGAATGTACCATTAATACATTAATACATTAGTACATTAAGACATGTGCTGAAAGAACTACTAACAGATATACTATATTTCAGGAAGAAGGAAATTGAACCCAGAAAGAACTAAGGTGCAACAAGTAATGGTATAGAAGAACACTGGAAATATATGGTATTTCTAGAAAGCTTTAGCTGAATCCATTAGTAATAATAACAGTAATAGTTCTGAATGTATAAAAGTAAATTGGAAAGCTCCAGCTAGAACAAGATGGCTTAGACTAGTTTTCCTTGCACCTTCCTTCTACACACAGCTAGAATAATGCAAGAGGCAAACAAAAAAACTCTCGTAGGTTTTAACAGGAAGGTGAACTGGTTTGGGCCTCAGGGATGGATGAAGTTCAGCTGCAGGGAATCTTATTTCCCCTTACCAGATGGAGGACAGTGACCCAGGTCCAGTGTTTCCATCCCGAACACAGTGACAGAAGGCAGCCAAGGAAGCCTTATTTCTGTCCTGGAACTACAGGAGTCCCTCCTACAGCACCAGGTGTATTTGCCTTCTGTTGTTGCTATAACAAAATTACCACAAACTTAGTAAGTTAAGTAACTACACATTTATTATCTTAGAGTTGTGGAGGTCAGAGGTCTCAAACTGGTCTCACTGGGCAAAACTCAAGGTCTCCAGGGCTGTATTCCCTTTGGAACTCTAGCAGGGAATCCATGTCTTTGTCATTTCCAGCTTTAGAGGCTGCTCACACTCCTTGGCTAGTGGCCCCTTCCTCCATCTCCAAGCCAGCCACATCGGGTTGAGTCCTGCTCATTCTTCCATCTCTTACTTTCTCTCTACTGCCTTCACCTTTCACTTATAAGAACCCTTGTGAAGATGTTGGATGTTTGTGATTACACTACAGAATCCAAGATGACCTCCCCATCTTAGAGTCAACTAATTAACACCTTAATTCTATTTGCAACCTTTGCCATTAGCATAACATATTCATGGGTCTAGGATTAGAGGTAGACATTTTTGTGGGAGGCATTAATCTGCCTACCACAGACTGCCTTCTGGCACCCAAAGATACACATCTATTCCATATGCAAAGTACATTCCACCCCAAGATTCCCAGGCTTATCAACCCATTAAAGTAACAACTCAAAGTCCAAAATCTCATCTAACTTTTAGATTAGCTCAAAAGTGCCAAATTGCATCATCCAAGGCTCTGGAAGTTATCCATCCTCAGGCACAATTCTTCTTCATCTGTGAACCTGGGAAATTCAAGAAACAAGTTATCTACTCCCAAAATACAAAGGTGAGATCGGCATGGGATAACAGTGAACCTGGGAAATTCGAGAAACAAGTTATCTACTCCCAAAATACAAAGGTGAGACAGGCGTAGGATAACAGTGATAGATATTTCCATTCAAAAAGAGAAGAGGAAGAAAAAGGAGTTGCCAGTCCCAATCAATTTCAAAATCAAGCCAGGCACATTCCATTTTGTTTCAAGGCTTGAGAATAATTATCTGTGACTCAAGGCTCAGACCCCCCCTCTGAGCTAGTGGCTCCGGCCTTGGAGTCTTCCTTCCTTTTTCTTGAAGTGTATCACATGTTTACAGCTGAGTAGCTTTATCATCACATTTCTTGCCTGTAGAATTTTGGTGGAGGGGGCTGTCTAACAGCCCTTTTTCATTTTGTATTCCGTCTGTCTTTTCTTTCCAAGCTGGCAGTGTTTCTGTTGGTATAACATCCTCATGAGTCTGTGAGTCTCCCATGTTTGTCACAGAGCTTTACACCATTGGACAAGAGACTCCTCTAAGGATCTTTCGTAGAGCTCTGTACCACCTGCAAGGGAGATATACCAGGATCCCATCATCAATAAGTGGGCAAGAGAAGTGCTCACCTCCTCCACAGCCTGAAACTCCCCTCTCGCATCAAGAAACAGCAGGCCAGGTGGAGAAGGCACTGGCAGAGGGCATCCTGTCATAAGTACTTACTCTTGGAAGACTCTCTGTGCCCTATAAGCAGAAGAGATCCTGCCATAAGGGCCCAGCTAGGAAAGCCTCTGTTTTTGTATGTGAACCTGAGCCTTCCCTACCCCATTGAGTGACACCAGGCCAACAAACCTAGGGAAATACCTTCAGCCCCCTGGGCAGCAACAGCAGGGACCAATGAGGAGCCTAGCAGCACCGGCTAAACCAAACAGGCAAAAATAACACCACAAAGTTTCTGAAAATTAAACTGTTATTGGAACCACGGCCCACAAAAGTAGGTCATTACCCACATACCAAGCCTTAACAGTGTAGTTGCCTTGCTACAATAGAAAATTTAAATAGAAATCAGTCTCCTAACAGAAGAAACAAAATGTCCAGATTACAGTAACATACCAAGAACCAGGAAAGCAACAACTGGAATGAGAAAAGACAATCAAATAACATCAACATGGGGATAAATTAGGTAATGAAATATTCTGACAAGGACTTTACAGGAACCATCATAAATATGCTTCAAAAATTAATTACAAATGAAAAAATAGAAAATATCATCAAAAAGTAGAAGTTATAAAAAAGAAGCAAATGTAAATTATAGAACTAAAAATACAATAAAAGAAATTAAAAACTTGCTGGATGAGCTCAATAGTAGAATGGAAATGACAAAGGATAAAATCTGTGAATTTGCCAGGAGCAGTGTCTCACGCCTGTAATCCCAGCACTTTGGGAGGCCAAGGCGGGCAGATCACCAGGTCGGGAGATGGAGACCATCCTGGCTAACACAGCGAAACCCCATCTCTACTAAAAATACAAAAAAATTAGCTGGGCATGGTGGCAGGTGCCTGTAGCCCCAGCTACTCGGGAGGCTGAGGCAGGAGAATGGCATGAACCCGGGAGGCAGAGCTTACAGTGAGCTGAGATCATGTCACTGCACTCCAGCCTGGGCGACAGAAAAAAAAAAAAAATCTGTGAATTTGAGAACAGATCAATAGCACTTGCTCATCATGTGAATAATATCATTAAGAATAACAGAAAAAAAATAGTCTGAAAAAAATGAACCGAGCCTCAGGGACCATGTTAGATTAAAAAAAAAAATCTGAGTTCCATACTATCAGAGTCTAAAAAGGAGAGAAGAAAGAGTTGAAAGAATATTTGAAGAAATAATTCCCATTTTGATGAAAGATATAAACCTATAGATTCAAGAAACTGTGATAATCACAAACAAGTAAACCCAAAGAAATCCATACTAAGACACATCATCATTAAACTTATTAAAACTAAAGACAAAAAAAAAGTGAAAACAGCCAGAAGAAATGACATCTTAACCTACAAGTGTCATTTGAATAGGAATGGATTTACTTCAAACCATGGATGATAAATATAAAACATAAAATAGAACATATTTTGCATAGAATATAGTCTCCAATAAAAATAAAATATAAAAGAAAAATCTCTTTGTAGGAGATTTGTATGGGAATTGGTGATTTTGGAGGCCTAGAAGTTCCACAATCTCCCATACACAAGCTGGAGCACCAGGAAAGCTGGCGGTGTCATTTAGTCCCAGGTCCAAGGCCTGAGAATCAGGCACTCCCATGTTCAAGGGCAGGAGAAAAGGGTTGTCCCAGTGGAGGGACAGAGGAAGAAAATTTGCCCTTTTCTCACTTCTTTGTTCTATAAGGTCCTCAGCAGACAGGAATATGTTCATCCACATTGGTGAAAGTAGATCTTCACTCAGTCCACCACTTCAAACGCTAATCTCTTCTAGAAGAACTCACAGACACACCCAGAAAAGATGTGTTACCAGCCATCAGGGCATCCTTTAGGCCAGTCAAGTTGACACATAAAATTAGCCATCATTGTGTACTTTTCCTGCCCTGGTCTTTGATTTAGCCTAGTGGTGATATGGAATTTAGAACCCCAGATCCAGTCTCTAGCTGTGCTCATTGCTCCTGGAGCACCATGCTTCTGGCCGTTTCAGAACAGAGGTAGGAAATATATGAGTTTTTCATTTGTTTGCTTTTTAAATCTATTTATCCTGTTCCCTCAAATTCTAATCAACACCACAGGACTCTTCTGGTCTTAGAGCTTCAAATTTATATTTGTTTTATCTGAGTTCCTTCCTCAGGAAAGGACCCTCAAGCCTGTCAACAAAAGTATCAAAGAACTGAAACTCACAAAATCACCACATCCTCATAATGAGATGCCAGAGCCCTCTTTCATCATGATTGCTTCCTTAACCTCTCTAGTTCCTGTTTTCTTATACATTGTTACATTTCTTCCCTGCTATATAAACCTTTAATTTTAGTGGGCTGGGCAGAAGAATTTGAGACTGAACTCCCATTTCCTTGGCTGCCTCAGTGATTGGCTGTGCAGCAAGCAGCAGGACCTAACTGAACCCCTGGTGTTTCAGTAACATAATCACATCATATTTCTCTTTCAATTTATTGGGTTAAATTACATTAATAGATTTTATTATGTAGAACCATCCTTACATTCTTGCAATAAACTGTATTAGTTGTGGATTGGTGTTATTTGACTAATATTTCATTCAGGTTTATAAATAAAATGTCTGTAATTATTGCTTCTGATGTTGTTCTTAACTGGTTTTGGAATCAAAATGAGGTTCACCTCATAGAATGAATTTTTGATATATTTTGGAACAATTAGCTTTACTTGATCATTTGTACATAATTTGAAAATTTTGTAAAATTTACCTTCAAAACCATTTTGGCCTGGGATTGTTTGTTCGAGGGGTTGATGGAAAGCAGTCTTTGAACTACTACAATTTTATTGTTTCCTGGTTTACATGTTCCAATTCTTTTTCTTCTTTTGCAGTTTTGGTTTTCTATATTTTTATAATATTTCATTCGTTTAATTGAGGGCTTTAATTTTTTCATGTATAGTAAAATATTCCTTTATGATTCTTAAAAATCTCCACTGTATTTGCAGTTATTACCTCTTTTTGTTCTGTATTTCCTTTCACAATTTACTTTTATGCTCATCTTTTTTCCTTGGTGAGTCTTGTGAGACGTGTCTATCTCGTTAATTTTTTCAATGACTTTATTTCTGCCTTTGTTAATTTTCTCCATTGTTTTATTTGATTGATCCCTGCCCTGATGGTTATCATCTCCTTTTGTGTGTGTGTTTTTTTTTTTTTTGGTTTTACTTTGTTGCTCTTATTCCAACTCTTGAGTTGAATGCTAGTTTGTTTTTAAAAATTTTATTTTCTGAAAAATGCTCTGAAAGCTATAATTTTCCTATTAACAATTGCTTTATTGGCAGTCTGTATTTTTATTATCATTTAGTTTTAAATATTCCTCAACTTCCTTTTAAATCCAAGAGTGATTTTGTAAAATGTTATTTATTTTTTAAAAAATTGGATTAAAAAAATCTTTTTTGGGCCAGGCACGGTGGCTTATGCCTGTAATCCCAGCACTTTTGGAGGCCCAGGTGGGTGGATCATGAGGTCAAGAGATCAAGACAATCTTGGCCAACATGGTGAAACCCCGTCTCTACTAAAAATATAAAAATTAGCTGGACGTGGTGCGTGCACCTGTAGTCCCAGCTACTCAGGAGGCTGAGGCAGGAGAATCGCTTGAACCCGGGAGGCAGAGGTTGCAGTGAGCTGAGATAGTGGCACGGCACTCCAGCCTGGCAACAGAGTGAGACCCCATCTCAAAAAAAAAAAAAGTATCTTTTGTTGTTTCAGTCGTATTATATTTAGGAAACATGCTTTGTGTGAAATTCATCCTTTGGAATTTAGGAGCGCTTTGCCTATATTCTAATGCTTGGTCAATTTTTGTACATGTTCCTTGATTGCCCTAATTTAACATGTATTACCTATTTTGGGAGGTTTAGAGTTCTTTTTGTATCTATTAATTATAGTGATCAGACCTTAATATGCATGCTAATTTTCTGGTCTGTTTTATCCATAAGTTTCTAAAGTAGTATGTTAAAATATCCTACTATAATTACTGATTCTTCTATTTATATCTACAATATTTTCAGTTGTCTTCTTATATATTTTGATGCTGTAATAGTGGGGACACAATTTCCTGATGTTGATATGTATGTTTTGTATTTCTTTTAAGTAGTTTAAATATCATTATTCTGGAAATTTTATCCTAAATTATGTTAGAAACATATTTCATTGTTTCTAAGTCAAGATTTTTAAACATTTTGGCATCTCTAAAACTGAGTTGCTAAGTTGCTAATTAATGAGCATAAAGTTCTCGTTAAACAAAATGAGTAAGTCTGCCATACAACATTGTAACCTATCCTTAACTATACCCTATTGAGTCATAATCCAGCCACTGTACTCCAGCCTGACCCACAGAGCAAGATCCTGTCTCTAAAAACCAACAATAGCTACAACAACAACATTGTATTGTACAGTTTACATGTATTAAGATGGTGATTTCGTGTTAAGTGTTCTTTTCACAGTAAAATAAAATTTTAAAATAAAATTGAGTTGTTTCTTTTATCTGCTGTCTGGGAGGCAGTAGATGTGACCTGGTTGTTATTGCCTGTGTTTATGTGAACATAATGATAACTGTTCTTTTTGGCATTACTTCAATTGAGTTATGTGCATTTTTTGGTACTGGATGTATTGAATTTAATTACTGTTTATAATTTCTTTAAAAGCTTATGATTTGGCATTGAAGTGAAAAGTTATGCCGTAGGCAGAAAGTTAACTACAAGAGGCTAGTGTGACCTGTTTATATGTTATGCAGGACTATAGTCAAGGTATCAAATATCAATTTGTCAGAAACTTGCTGCTGACTTTAATCTGAAGCTATTTAACTTCTAATAACATATGATTCCATTGAGAAAGGAAATGAAGCTGTGAATGAAATAAAAAATGAAATACTAATAAAACCCTGAGTTTTTACAGAACCATTGCTAACGGTGCTTATTATGAACACAGGTTAGAAAAGTATTACATCACTCTGATGCTATGCGTAATCACCAAAGGTCAAATGTTGCCACCATATTTAATTTTAAACCAAAAACAGTGTAAGCTATTTCCCCAAATATCTTAATGTGCTTGTACTAAAAAGGAAAATAAGGCATCAGATAAACTGATGACAGAATAACTAAAAGAGGCTGGGCGTGGTGGCATATGCCTGTAATCGCAGCACTTTGGGAAGCCGAGGCGGGTGGATCACCTGAGGTCAGGAGTTCGAGACTAGCCTGGCCAACATGGTGAAACCCTGTCTCTACTAATAACATAAAAATTAGCTGGGCGTGGTGGTGGGTGCCTGTAATCCCAACTACTTGGGAGGCTGAGGCAGCAGAATCACTTGAACCCAGGAGGCAGAGGTTGCAGTGAGCCAAGATCTCACCATTGCATTCCAGCCAGGGCAACAGAGTGAGACTCTGTCTCAAAAAAAAAAAAAAAAAAAAAAAAGAATAACTCAAAGAATCTGGAATGGATGTCTAGGAGACTAACTAACTAAGCATATTTGTTTGGATGCATCTGATCAGCTAAAGAATAAGTTCACTAAGAAGTGAATTAAGTTGGTTGTTGTTCCATAATGTATGACCCCTTGAAGATTCCATCAGCAAACCATTTAACAGTTATTTGAAGAAGGAACATGATTTCTGTTTGTTGTCTGAAAACCTTGCACTGATTGCAAGTTCTGGTAAGATCACTAAAGCACTGGCATCAACTTACAAATGGCATCCATATCTTGAAAGAGAAAAAATCCCAGACAACATTGAAGCACTCTTAAACGGTGCTTCATCACAAATTCTATCATTATCACACAGGACATTTGAGTATGCTCAAAAGCTTGGATAACTGACTCTGAGTGAAAAAGTAATTCGGGAGAATTATATTCTGATTTGGAAAAGTTTTTGTTTTCCTTTTATGTATTAGGGCTATTTCCAGAATTTGTAATTTAATTTTATTTTAATTTTTTGAGACAGAGTCTCACTCTGTCACCCAGGCTAGAGTGCAGTGGCACAACCTCGGCTCACTGCAACCTCTGTCTTCCAGGTTCAAACAATTCTCGCACCTCAGCCTCCTGAGTAGCTGGGAGTACAGGCACCCACAATCATGCCTGGCTAATTTTTGTATTTTTAATAGAGACAGGGTTTCACCATGTTTGCCAGGCTGGTCTCGAACCCCTGGCCTCAAGCAATCCACCTGCCTTCACTTCCCAAAGTGCTAGGATTACAGGCTAGAATTTTATTTTTAATTCTATTGTCTCTTTAGTTTAAATTTCTCCTGGAGACCACATATTGTTGGATACTGTTTTTGTTTCAAACTCTGAGAGTCCCAGCCATTTAATTGTTGGATTTAACCCATTTATATTTTGTAATTACTGTTATGTTAGTGATTATTTCTGCCAACTTCATATTTAAATTTACTTTTTTCCCATTAAGTATATTCTCTTTCATTGATTTAAAAGTTATAACTATATGTTCTATGACAATTGCCTTAATTTAATATCCAAATATATGTTTATTTGCCTCTTTTATTTTCTTAAGCATATTAATATATACATTTTCCCTTAAAAATAAAAGTAATTTTGATGTTCGTGTTACCATTGGTCTCCATTTCCTGCTCTCCTAATCCCTGTCATGTTGATATTATTTAAAATTTTAGTTCTTGGTTGCCATATATGTGTTTTTGTTTGCTTTTCTTTGGTCTTAGAGTGAGTGTATTTGCACTTTTCTTCCTTCCTAAGGCAAGGATAACACTTGCTGATTCATTTGAGGATGCTTTTTGCCTATTTCTCCTGTATCATCCTTCTGAATCTGCAGCTCTTCTTTTTTATGTACTTTCTCTGAAAGTATTTTCAGTGGGAGTCTTTGTTGATCTTTGTGTGGCAAGCCTGATACTCTAAATGCCTGAACATATTTTAAATACATACTTAGGTTTAATGAAAAATTGGAGATAAAAATTTGTTTCAAAATTTTTTATTTTCAATACTTTAAAATATTTCTCAGTTTTTCTATTGCTTCCAATGTTGTGTTTGAGAAGTTTGATGCCAATTTGATTCTTATTCCTTTGTAAGTGCTCTCTGCAAGCATTTAGAATTTTCTCTGTCTCCTAAATATTTTAAGTTCACTGTAATGTATCTGGGTGTGTCTTTTTCTTTTGTTTTCTGTTTGGTACTTTATGAGCCTTTTCCATTTGTCTTTATGTCTGGGAAATTCATCTTTGCTTTCCTTCAAATATTTCTTTTTCTCCCTCTTTCTCTTTTTCTTTTGGGACTCGATTTACCCCTACCCTTTGGATATTGGCACTTCTATATCTATCTTCCATATCTTTTATCATGTTTCACAGTTTAATCTCTTTATTCTTTCCTGCCTTCTGAAGTGTTATCAGCCTTCACTCTCAATTCTCTAACCTGCTCCTCAGCTCTGGCTGCCACTCTAGAAGGCCCATGCTAATAGACCTGTTGGTGGTTTTCTAACTTTTACCATCACACATAGCACTGTAGTGAATAACCCGCACATGTGAAAGGATCTCCAAGGGATAAATGCCCAAAATTTGAATTGTGAGTCAAAGGACATCTGAATTTCTAATTTCTGATAGTTAAATTTTTCTCCATAGTGGTGGACCGATTTGCACTCCACCCAGTGATGTGTAAGAGTACCTGCTTAAAATCTCAAATTTTAATGAGATTTTGTCAATCTGGTAGTTAAAAATAATTCTTAAGCTAGTTTTAATTTTTATTTCTTTCAATATGAGCAAGGTTGAACATCTTTTCAGAGTTCTTTATATTTTCAATGAACTTTCAATTCAACATCTTTCTTGTAGTTTATGTAAAAATTTGTTTGACCAAAATGTAGAAAAAGTGATACTATTACATATGATACAGTTGCAAGAATCTAAAGAAAAGTGTGGATTTTATTCAATTTGCACAATTTGCTAGTGTATTTCCTGGGTAGTGTGATGCTGAATAAATAGGAGTGGAGTGGTGGGGTCGGGTGGGTAGGGGATTCAGATAAATCAGAAGCAGGGTGATTTAGTCGGATCAATTCAACATCTTTAGGTATTTTTTAAAAATTGAATTCTGGCCTTATTTATGACAATTTCTAGGAGCCCTTTTTATGTTAGGGAGTTTACTCTTTGTCTAATATGAGACACAATGTTTCCCGCAGATTCTCTTTCATTTTCTGATATTGCTTATAGTTTTTTTTTTATTTTTTGCAAAGCAGATTTTCTAAACTTTCATTATAGTCACGTTCATCAGTCTTTTCTTTCATGGATTTTATATTTTGAGCATGTTTTTTAAAAAAAAGGCTTTCCCTACTTCAAAGTCTGAAAAATAATCTTATGCTTTCTTTTAGAACTTTTAGAACTTTTTATGTTCAGTTTTTAATATTGTAACCTGTGATGTATTTGGAATTTCTCCTGATTTAAAGGGTCGGGTATAGGTGTACTATTTTTTTAAGATGGCTATCAAGTTGTTGCCAGATCATTTATCAAAAAAACCATCTTTCTCTGGGCGCGGTGTCTCACGCCTGGAATCCCAGCACTTTGGGGGGCCGAGGTGGGTGGATCACGAGGTCAGGAGATCAAGACCATCCTGGCTAAAGCAGTGAAACCCCATCTCTACTAAAAATACAAAAAATTAGCAGGGCGCGGTGGCGGCACCTGTAGTCCCAGCTACTTGGGAGGCTGAGGCAGGAGAATGGCATGAACCTGGGAGGCAGAGCTTGCAGTGAGCCCAGATCGCAGCCACCACACTCCAGCCTGGGGGACAGGGTGAGACTCTGTCTCAAAAAAAAAAAAAAAAAAGAGAAAACCATCTTTCCTCTACTGTTTGAAATGCCACCTTTATTGCACACTAATTTACCCTATATGTTTGAATATATTACTTGGTTTTTAAATCTCTCCTATTGGTCTGTCTATAAAATCAGTGCCACACTATTCTATTTATCAAGGCTTTATAAAGCATTTTAATAACCAGCAGTGTTGCTCTATCACCATTACTTTTCTTCCTCTGAGTTTTACCAGACATTCTTGGCTCTTTAACTTTCCAATGTATAAAGAATGTTTGTCCAATTTTAAAAAGGTCTAATGATACTTTCACTGGATTCATATTAAATTATGAAGCAAGTTAGAGAAAATTCCCATTTTTGTTATTTACTTTTCATGTCTAATATCATGGTATGTCTTCCCATTTGTTCAAGACTTCTTTTTTGTTTCGTCAGTGCTATTTGACTACCTTAAAGTTTTCTTCATTTAAGTTTAACATACAAGTCTTGCATATTTCTTGAGTTTATCTCTAAGTATTTTAACTTAATAATGCTGTACTGAATTTGAGTCTTTTACTTTTATTTTTTCTTAAGACGGAGTCTTGTTCTGTCTCCCAGGTTGGAGTGCAGTGCTGCGATCATAGCTCACTGCAGCTTCTAACTCCTGGGCTCAAGTGATCCTCCTGTCTCAGTCTCCCAAGTAGCTAGGACTTCAGGTGCATGATACAACATCTGGCTGATCTGTTTCTTTTTAATTTTTTTTAAAGATCGAGATCTCGCTATATTGCCCAGGCTGGTCTCAAACTGGTGGCCTCAAGTGATCCTCCCACCTCAGCCTCCCAAAGTTGTGAGATTACAGGTATAAGCTACCATGCCTGGAAGGGTATTTTCTTAATTCATACATTCTTTTTCTTTTCAGAGCTTTATTGATATATACTTCACATACTGTAATATTTACAGAGTTTTGCAAATCTAATTTTAAAACATCTTCAAAACTCCAGAAAGAAATCACACACACATTAACAGTCATTCCAATTCCCACTCCTCCCGCTGCCCCACCTTGCCCCGGTTCCAGCCAACCATGAATCTACTTTTTGTCTCTGTGGATTTGCCTATTCTGAACATTTTACATAAATGAATCCTAGAATATGTGGTCCTTTTGACTGGCTTCTTTCACGTAGCACAGTGTTTTCAAGGTTCATTCATGTTTTTGCTTGCATCAGCATTTCACATTTTTATTGACAACATTTCACTATATGGATATACCACACTTTATCCATTTATCAGTTGATAAACATTTAGGTCATTTCCACTTTCGGACTATTATAAATAATGAAACTACAAACATTTGTTTACAAGTTTTTGTGTGAACATATGTTTTTAATTTTCTTGCATATATACCTAAAATTGAAGCTGCTGGATCATAAGGTAACTATGTTTAACTTTTATAGAAACTTCCAAACTGTTTTCTTAGTGGCTGCAACATTTTGCATTGCCATCAGTAGTTCGTGAGAGTTTCAATTTCTCCATAACCTCACCAATACTTGCTACTGTCTGTCTTTTTTATTATAGCCATCCTACAGAGTATGAAGTGGTATCTATTGTTTTTTTTTTTTTTTACATTTACCTAATGACAAATTGTGTTGAACATTGTTTCATGTGTTTATTGACCATCTGCATACCTTCTTTGGTGATTTCAATTCCAGTCCTTTGCCCATTAAAAAAATTAAGTTGTCATTTTATTATTGGGTTGTTAATTCGTATTTTCTACTTAATTGTTGCTTTTTTATGCTTGAAAAGCTGTGGGACTCAATATTAATTTTATTCACTGCTACTTTACTAAATTTTCTTATTATTTGTTGTACTTTTTCATTATGTTGGATTTTTCAGGCATGTAATCATGTGATCTGAAAATAGGCTAGCTCCTCATTCCTGCTGTTTCTCTTGTCATGCAATGTCAAATAACAATGGTTACAGGAGACATTCTTGTTTTGTTTCTGACACTCTCAGGAATCCTTCTAATGACGTGAATTTCGGGGCTGGAATAGATTTATATTGATAATGTTATGAAGTATTAACCTATTATTGGTTTAAAATATTAAAATCAGACTAGATTTAAATTTTCCATGGTCTATGGAACTGATAATATGATTTATCTCTTTAGAACCAAAGATTTTGTGAATTATATTAATTTCCTGATATTCAGTCATCCTCTTATTACTAGAATAAATTCTGCATATTCATAAGGAATATATTCTCATTCTAAGGCATTGTTATATTCTGTTTCCTAATGTTTTATTTAAGATTTTTAAATTGGAATTAATAAGTAAAATTGGTGTATAGCTTCCTTTTTTGTGACTATACTCCCTGCCAAATTTCAATGTTACATTTACGTCATAGAAAACATTTGGAAGTTTTTTTCATTTTTCAATGTTTTGTAGCAGTTTAAAAAACACTGAAAATGCCTGTTATTTATTAAAGACTATGTAAAGTCCCTTATAACATTATCAAAGGCTATTCTAGAGAATAGCTTATTGACAACTATATTAGTCTGCTGGGGTTGCCATAACAAAATATCACAAACTAAATGGCTTAAACAACAGAAATTTATTGTCTCACAGTTCTGAAGGCCAGAAGTTGAGATCAAAATGTCAGCAGGGCTGTGCTCTGCGGAAGGATCTGTCCAGGCCTCCCTCCACTTCTGGTGGTTCCTTGGTGTGTGGCAGCATCACTCCAGTCAGCACGTGGCATCCTCCCTGTGTGCCTGGGTCTGTGTCCAGACTTCGCCTTTTTTAAAAGGACACCAGCTGTGTTGAATGACAGCCCACCCGGCTCCAATGTGACCTCATTCTAACTTAACTAACATCTGCAATGACCCTGTTTCCAAACGAGGTCACAATCTGAGGGACTGGGGCTTAGGACTTCAACACAGGAGTTCTGGGGCATACAATTCAACCCAGAACAACAACCTTATCCATTTCTTCTCACAAATCACTCTATTTAAACTTCCTAACTTTTATGGAGTTCGTTGTGATAAGTTATATTTTTCTAGGAAATTATCCATTTCTTAAATGTTTTCAAATATATCTGAATAATATGGACCAAGTTAATGTTTATGATTTTATTAATTTTCTGTTTCTTTTTTCTCAACAAAAGTAAATAATTAACTTTTGTTTCTGGTTATTTCTCCCTCATTGTTTGTTCTTTGTGGTGTTTAAAAAGCTATTTTACATTATTTAGTGGTTTACACATTCCACTCCACCCCATCCCCCAACCATGAACTTTTGTATTTATTTCTCAATTGTGCTGTTTTTTTTCCCATAATCACTAATTTATATTTTCTTTGTTAATGCTTTATTTATGCTTTCTTTCAGTTTATTTTTCTTTAAATGACTAAATGTATTCATTTTTAAATAATTATACAGTAAAATTGACATTTTTTACTAGGGTAAAGTCCATGAATTATAACATATATACGTTCATGTGACTACTGCCATCATCGCGGTACACAGCTGTTCTATGATCTAAAAAGAAATCCCCCAAACAAGAAAATCTCGTGTGCTGTTGACACCCTCCCCCTGTCCCAGCCCCATCCCCCACTGATCTCCCTTGCATTCTGTTCTCCCCTACTGCAGTTTTGTGTTTTAGGCAATTCCATGCTAATAGAATCATCCAGTATATACTTTGGAGACCAATACTCTCACAAGCACAGTGCATTTGAGATTCATTCAGATTGTTCTGGGTGTCCATACAGGCCAGTCTCTGTGGGGCTGCTGTTTAGGTGGCTCAACCTTGCTGCAGCTTTTAACTCTACTGGCCAGCCTATCTTGTTTTTGGGACAAGCTGGGCCCTGCAACCAGTGCTTATAGTGGGGAGCATAGGGGAAGGCATGGGTGACAGCAAACATCCCACCTACCTTGCCCTCTCCTCCTTCACCTTTGTCACCCCACCCTGTAGTTGGCACCTGTTTCCACGGTGTCTCCCATGGTGTCTCCCACGTGGCCCCTGTCAGCCTAGGGATCAGCCTGCTATGAGAACCTGCCACCTTGTCCTAGCTGCCCACTCCAGGGTCCTCCCACTGCACTTACCCTTCTCAGAGCAGCCATTACCCTGCAGACCTGGCCAGGGCAGAGCATGTGGAGCCTGCACCATGGGAAGACCTGGTGAGGCTCAAGCTGAATTGTTCTACATGCTTTCCTATACGTTCCAAAAATGTCTGAAAAACACATCAAGAGTCCTCAGTCACTCCTCTCTCCTCCCTGGATGCATTTATTTCAGTCTTTTCTTTCCTTCCTGTCTCTGTTTCTCACGGAGGACGCTGTGCCAGCTCTCAATGCTGGGGGCTCTGCTGACCTTCCTCCAGCCTCATTCATTCCTCAGATGAGTGGTCCTATCTCAGGGCTGAACTCCCTACTCCATTAAATTCCTGCTTCTAAGGTGCCCCCAGACTGGATCAGGGGCGACCACATTCAGCCACCTCTGGCAGAGTGTACACATGGTTGCAATAATCCTGGGAGTTCCCAAGAAGGAAACCCCCACTGCGTGTTCTCCCTGGCCTCCTGGGGTACTTCTCAGAGCAAGTGGGAGGAGCAGGAAAAGTGGCTTCACCAGTATCTCTTGATGGCTATTGATAGAAATGCTATGTGGAAGGGTGGGAGTGGGGAGGGATACACACAGCCAAGGAGGCCCAGCACTCTCCCAAGGGCTAATCTTTGGAGTCCCTGGCAAGAGGTAGGGAGCGGGTAATGAAGGAGCAATGCCCAGCAGGAGTGAGTCATCGGACTGGAGACCAAGAAAGGCCCAAGGAGGCACTCAAGTGCTGAAGGAATAAATGGTGGGCTCTGGACTTTAGTTAGTGTTCCTCACAATGTGTTAGATGGGAAAAGGTCTGGGTTCAAATAGGCTAGGAAGTGCTGCTCACCCGCAGTTAAATGTGTTCATCTGCTGGACAGCCTCTCAGAGCCTCTCTGTTCATCTTCGTCAGAACTGAGAGGAAAAGTTGGCAGTGAGTAAAGGGAGCTGGGAGGCGACACAAGGAAACGACTTTGTGGGTCATTGATCCATTGACCCCTCTCCTGTAAACTCTGCCCCAGGGACATCACTCAAGGACAGCTGAAGGGTGGCCTGGAAGGGCCTGGAGGAGAGATAGTCATTGAGGTGGGACCCAGGGCAGTGGCCGTGGGGATATGGGAGGCGTGTGGCCAGTGGTCAGGACAGAGTTCTCCCTGGGGTGAAGCGTGGGCCCTGCGTGGTCACCGTGATCAGGGCGGGCCAGGGCACACTGAAGTAAGGCAGAACAAGGAGGCCTGGAGGCCATAAGCTGTGGGTGGGACCTGCGCTCATCCAGGGCTTTGCACAGCACTGTCCCAGTGAACATGGCTGAGGCCTCACTGTGGCCCTGTCCTTTCTTTCTGGGCATCCCTGTCCTTTCCTGGGAGGGAGAAGAAGCAGCAGATTGTCCTACCTTGGCCATAGCGGGATCATTCCTTCCAGGGGCCTGACTGACCCCGTGGCACTCAGGGCAGCCTGCTGGGCGTTGGCTCTTTTTGACCCCTAGCCCTGGTCTCCTGGGCAAACCCCTGAACCTAAAGAAGAAAGGCCCCCGCCAGCTCCATCCTAATCTCAACCCACTTCTCTCCAAGAAGCTAAAGGAGCCTGCTCGGCTTTCATTCTCTGGTTCTCTATCCTCCCCTAAGACCTCAGGCTCATCCCTGGCTCCAAGCCCTTCATCTTCTGCTCTTATTGCCTCCCGGCAGCCCAGGATTTGGGGCTGTCTAACGCCCTCCGCAGTCTGCCAACTCTCTATCAGCGAAGGCTGAAGAACTGCGTTTGCGAAGAGTGCGTGCGTGGGGCCTCAGCGGGGCTTCGGTGGAGAGGGCAGGGCCTCCTACGAAGGGCGTGGCCTGAGTGCGGGGGCGGGACCTGTGGGCGGGGCGCGGCCTGAGGGCACTGCTGAGGAAAGCCAGTTCCTCCTACTCCCCAGTCCTGTGCTCCCGTGTCCCCGTCTCAGCAGGTCCCCGCTTAGTCCAGCACCCTGGGGAATGCTGCCCCTGGCTGGCAGCACGCCCTGCCTGCGTTCCTCCCGTCTTTGCTCCTGGTCACTGTGCGTCCTGCACAGTTGCCATCCGTGCCCACACGCTGCCCCAGGGCCCTGGTCTCCCGGTGTGGCTCGGTCTTGGTGTCCCCGCTGCGGTCGTCCCATTTGCCACCGCCGTTTGCATGTGGGCCTTTCCACTAAGAAGCGGGCACCCTAAGGCCCGAAGCGCTGGAGCCTCTCTGACTCTCTGTCCAGTCTGGCCTGGGACAGACACCTGTGGACACCTGAGGCAAAGGGAAGTCGGGGGCCAGGGACATCTCAGAGTAATGGGGTCTCGGGAAAGCAGGGGAGGCCGGGGCTGCAAGGGGGAGCTGGGGCAGGCAGGGGAGCCCAGCCCTGCAAGAGGGCAGAATGAGCCGACGGCAGGCCCCGCGGGGCGGTGCGCGGGGCTATGGAGACCACGCTCCTCCGTCCCCTCCTGTGTGTCTCAAGAGACGCGGCAGGGCACAGGCGACCGCCTGCTCCTGGCTTCCCCGGCTTTCCCAGGCCCCGGGAGCCAGGACTGTCTGAGTGGGGTGATCCGCCTGGACATTTGTTCGGAGATCCCTGCGTGGAGGACGACCTAGCGGGGAGAGGCTGGAAACAGGCGAGGAGGAGCAGCGCGGCTAGGGGACTGGACGACTGGAACCGGGTCCTCCTTAGCTAAGAAAGGGAAGGGCCTCAGCCTTACTGAAAGGAGCGCCTGCGGAGGACGCGGCCCTGCACCTGCGGCTTTTCCGCACCCCGCACGCCCGGCGTAGGCATCTCCTCCCCAACACAAGCAGGGGCAGCCCAGCTGCAGCCGAATCCACCTTGAGCGCAGCGCTGGGGTCACAGCCTCCGACAGCTGCGTAAGACTTGTCCTCCCCGGGCCCTTTCAGCGGCCTTCCAGAGTTCAGCATCAGCGCTCCTGGCGCAGACCCCACTGCTGACTCCTTTCACTCCCCCGCCACCCCTTGAGCTATTTGAACTTCTCATCCACCTGCAGGGCCCCGATGTCACCGGCTGACGTCACCAGCTGTAGACAAACAGGAGCAGGTTTCTGTTTCCCCCTCCTGGCACCTGGCCAAATGCCCAGGTATGCACCCACCCCCTACTGCTGTCTCCGTGGGGCTGCCCACCAGACCCCAAGGAGATCGAATGGGGAGTCTGTAGATCCTGATGTTACCAAGCCTCAGAGGGCCAGGAGGAGCTCTGAGCCAGGCCCTCAAACCCAGTAGGGTCCACGGCTGGGAGAAGGTCAGGGGCCCAGCCTGCTCTCCCGCTGCGTGCTGTGGCTCGCTCCAAGGAGGATGGTGGCCACACTGCACACACCTCTGTCCCCCTGCAGGCTTTCTGGCCTCAGCTCCCACTGGGTTCGGACAAGGGCGCAGAGCCACCTGGGAGTAGCTCTTTTCCCAGGTCCCGCCCCGGCTGGGCTGCCGTGGGGGTGGCCTGCTCTACCAAACCCTGCTCCTGGCTCCTGCCAGGGCCGTCTCCAGGGCGACAGCCACACCTGCTGTTACCCAGTCAGGGCTCAAAGAGGTCACAGTTCCCTGTCCTTTCCAGTCTCCTCAGCCCCACCCACGCCTCTAAAACAGACTCTACCAACGCCCCCAGGGCAGTGCTGGGGTCCTGGCTGGTGGGTGTTTGCTCTCCTTGATTTCATTCCAGTCTTTGATAAGCATTCATTGAGCACCTGTTGTGTACACTAGGCCTGTTTAGGTGGTAGGACCGGAGGAATATGACTTGGGTCCTGGCCTGTGACAGGCAAGAGCAAAAGCAGGGGGGAGGAGGAAGTGGTAGGGAGATTTAGGGCCCCACGTGATCCCCAGCACCCCAATTCATGTCCCAGGAAGAAAAAAATGGTAACTCTTGGCCATGTTTTTCGATAGTCCCTAATCAGCTATGTCAGCTGAGAACACATCCAGACCACATAATATTTAATGATGATCTAGCACTGTCATTACCTATTTTTTAACAAGATGTCCAAGAAAGCCACCTGTGAGGATGTCAGATTGTCCTCCTGCTGTTTTTGTCATGCTCTACTTCTGCACACAGGAGACACACTCACAGGCAACATGCAAACACACATACATGGGAGAGACACACACACAGAGGAGAGTAGCAGGAACTAGAGGCTGGCCAGCTCTACCTTTTTTTCACTCCACCAACATGTTTTGAGTCCCCTCAGACAGATCAGGCCCCACCAGGTGTGGGGTTGCCCTTCCCTTGTGGAGGTCACCCAGGTAGTTCAGTCGGAGCTCCCAGTGGTGGCCAGGCCGAGAGCAGAGAGGCTTCTCTTGGTCCCTGTCACTCCTCCCTCCTACACTTCCTTTCCCCCTTGGCCCCGATGACCAAACCAACTATTGGACTAAGAGGCCTGTGGGGTCTCCTCAGGGTCTCCAGGCCTGGACACACCCTGCTGCTTTTCCTGGGCAAGAAGCTTGATGAGTTGGACATGCAGTGGTAGGTTGGAAGCTGAGGCAAGAGCGGGGCTAGAAAGAGTGGACCTGCTCTGGAATAAAGTATGGGAACATCAGGCATCTCTTGGAACACTGCAGGAAGGTGGGGGAAGGAATGGCACACAGTGGCAGCCTGAGCAGGGGCAGGAGGCCACTGTCCACTGAGCACCTTCAGGTGTTTGCCAACGTGCAACATGAACCCCTCCCTGAAGGCTGCCTCGCATTAGGCCTTGGTGCTCCCCCATGGGATCTGAGGAACACAGAGATGCCCATGGTGAAACGGCTCCATGAACTCAGCTGGCGTCAATAGGAGCTTCAGATCACAAGTGACCAGGAGAATATGTGCCCCTGAAGGACTATAGAAACCTGGAGGAGATGCTGGGTTTTCCGCAATTCCACCCGACCTGCACCCTGGGACAACATAGGGAAGCAGGTGCTGGTAAGGCTGCCGTTGCTGCCCCCCAGGCCCGTGGTGGGGGCAGGATGCACCATCACAGCCATTGGCCCCATTGGCAGAGCACACTTATATCACCCCCTGCTGCTCACACCAGCCCTGTGTATACTCAGGGATAGGGACAGGAATCATTCCCATTTTATAGATGGAAAAACTGTGTCCCGCAGAGAGGACATAATTGACCATACCTAGTAAGTGGTGCTATTAGGGCTGTTACTCAAGCCCCTGCCTGGAACCTGGACTTCCTCCTGCTGGGCTCGGAGAGCCCCATCAACCCACCCCTGCAGAAACCACCAGCTCCACACTGGCTTCCTAACCCACAAGCATCGCCAACTGTCCATCTCCCCGGAAAACATTCAGTTGCATCTCTATCTTATACCCTTCACGAAATACATTTTGGGTGGACTATTTCCTACATGCAAAATCCACAGTTGCCTTTATCTAAGTCTTAGGGTCAAAAACAGGAGGATAAGTTTGTAAACTTAGGTTAAAAATCTTCTCAATTAGCACACGAAAAGCAATAAATGAAAATAGTGATAAACTTGACTTCACTAAAATGAAAATTTTCCATATGATAAAAGATTCCACAGACAAGCTTGAAAGTCTTTCTACCAAATGGAGAAAGAATCTGCTATGTGTACAAGTGGCCAGAAAATATAAACAAGTCCTGCAAACCAACAGGAAAAGACTAACAATGCAGCGTGAGGCACAGGCCAAGGAGAACAAGGGCAAGTGCAAATGCAAGGTGGGAGGTGGGCAAGCTCACCACGGCCACAGCCATGGCCACTGAGGGAGTCTGAGCCATGCCCAGGTTGGCATTGAGTTTCCATCAGCTGGCAAATGTTTTGAGTTCATAACACACAGGAAGGGTGCGGGAGTGGGGAGCAGGTGTCTTCTGCATTGCCAGGGATTGTAAAGGGGCAGAGCTGCCCTGGGGCCTCCAGGCAGTGCTTACTGACATGCCACCCATGCACCTGGGAGCTGGCACTTCCATCCTCAGACTCCCCCAAGATTCCCCCAATATATATGCGGGCAGGTAAACAGAAGCCCAGCAGCACTGCCTATGACTGAAAACTGAAAGGTCTGGAAAGAATTGAAAATACCATTTGTAAGAAACTGGCAAAAGGAAACTATGTGTCTATGTGTGTGCATGTGCGCGTTTGTGTGTGTTCATCCATGTGTGTACGCCCATGCCATGGAATACAATGCTGCAATGAGGTGGACAACATCTCCAGTGAGGTAGACACAGGGTGATCTCCAAGGTCAGTGAAAATGTTCCGTGCACACCAGACCCATTGCTCTTGGAATCAAGACAAACCCACTCTCTGCCTTCCAGGCCCTCCCTAGCCCCTACTTCACTACCTGCCCTTGCTGTCAGCCCAGCTCCCAGGCCCTCTGCTCCCTTGTGGCCTTTCTCTGACCTTTCATCAACCTCAAGGCTGGCATGCATCCTTCACTCTGTTCTCCCCACTGGAGCCGGCCCTGAGGCTGCCTCCTATGGCAGCTTTTGCTAACCACTGCCCCTCAAGGTGCACCGTGCTCCTCACTGAGGTAAGACAGGTGCCCAGGGGCCCTGTCTGACTGCACGCTGCTCAGAGGCTGGCGGCAGCATTGGCGGCTCAAGGCCAGGCCAAGGTGGCAAGAGAGCAGCCTGTCGAAGGGCAGCCCTTATGAATGGGCTCTCGTCTGACTGTAATTGGAATTTGTATGAAGTCTCTACTTCCAAGAACTTCCCCAGCAGACGAATCTAGGCTAGAATCTGTTAGGAAAAAGGCTTATGGGGTGCCTGTATAAACTGGCTATAAAAATATGGGACAATAAGTTGTGGAAAGCCACAAGAGGCCTCTGAGGAGGAAAGCCTTCTTATCGCCATTATGTTCCCACGCTCTGAGTGTGACTTGCTGTCTTATCCATAAACACTGTGTTCAAGGAAAAAGACACTCCTTTAAAGCACTGGAATCTGGCCAGACGTGCAGGCTCCTAGTTAAGCCCGCTCCCACTAGCTACCCTCCAATAAGTTGAAGATACACTGAGCACAAAGGAGATCCATTTAAACTGCCACTGCTATAGATTACATGTATGACGCACTGCCTCCCTTTCACTATTTCGCCCTGAACATCTGCTTCTTAGATCTCAGTGATTGTACTCAATAAATAGTGTGGAGACCAGAGCTCTGAGTCTTTTGCAACCTCCATTTTGCAATTGACCCCCTAGCCCCTACTCTGTATGCACTTTTAACCTGTCTCTTCTCATTCCTTCATTGCCACCGGACTTTGGGTACCCTACAGGTGGTGTTGAGTCTGGTCCCCAGCAGAATCTCCTGGGAGCCAGCCATAAATCTTCCCAAAATGAGGGTGTGCAATCTCATTGCTCTGGAGGCACGCTGCTTGCCCTTGGAGCCGACCTGTCATTCTGCATCCTCCAGGCTCTGCCTGGAGCCAGGAGCCAGGCCAGGGAGAGGTGGACAGGAGTTGGCAGTCACTGTGAAGGAACACATTTTTATCATTTAATTAAGAGCCTCTCAGAAAAGCGAGCTCTGTTTCTTCTTGAGCTGGTCAAAGGAAATGAGAAGTGACATTTTCCCACTCCACCTTTCCCTTGGCCCAGGAAGCTCAAGCTGGAGGCACAGGATGTAGGCAGCCTCAGGCTGTGTGCATCCAGGGCTGGGCCCAGGGGCAGTGGCGAGGCGTGCAGCCTTTGCTGGGCTCTGGCTGTGCCCAGTGCTCTCACTCTCTCATTTGCTCTCATAAGTGCCGTCTGCATTATCGATCACCCTCTGGGTCCCTCCACAATGCAGGGGCTTCAGGCTGCACCCACTCTTTGAGAGTGCTGCACTCTTGTACTCTGCCTCTCCCAAGCATGTGTGTGACAGCAAGATGGCTGCAGATATGCAACTTCCAATAATCAATCAACTCTTAAATGATCCTCAATAAACACTGAGGTAATCACCAGGAGCCCCACACCAGCATGTCTGTACCCATCTGTTGCTCTATCCACCTTGATGCATGACTGACAAGTGTTCACACATGCACCACTGGCAGGCTCCGCTCCTGCTTTGGAGGATGCAGGCAGGGCGTCACTCTTGGGGCTCCCGTCTCCTGGGGAGATAGAGTGAGGGAGGGGCACTCACAAAGCACCTCCCAAGCCAGTTTCTGACCCTGCGATTGCCCAGCGTCTGAGGGAACTGACCCGCAAACTCACTGAG'"
      ]
     },
     "execution_count": 31,
     "metadata": {},
     "output_type": "execute_result"
    }
   ],
   "source": [
    "#let's check the first sequence and if it matches this\n",
    "\n",
    "#chr10\t37555537\t37686609\ttest\n",
    "\n",
    "import pyfaidx\n",
    "# ref genome is located /data/leslie/sarthak/data/chrombpnet_test/hg38.fa\n",
    "# let's extract the sequence for chr10:37555537-37686609\n",
    "fasta = pyfaidx.Fasta('/data/leslie/sarthak/data/chrombpnet_test/hg38.fa')\n",
    "seq = fasta['chr10'][37555537:37686609].seq\n",
    "seq"
   ]
  },
  {
   "cell_type": "code",
   "execution_count": 33,
   "metadata": {},
   "outputs": [
    {
     "name": "stderr",
     "output_type": "stream",
     "text": [
      "100%|██████████| 131072/131072 [01:24<00:00, 1556.77it/s]\n"
     ]
    },
    {
     "data": {
      "text/plain": [
       "'TATTTTTTTAAGTTGCCATTTGCTTGATGCTTAAGACCAAATGAAATCACCACAAATAGAATTCATGGAAGGAAGGGCCATCACCGTTTATAGCTTGATTTAAAGTTTTCATGTCTTTCTTCAGAAATTGGTCATGGTTACATCTCATCAGAGCTGCAGCCAGCTGCCCGCTCCTAAGTTGTGCTGCTTATGATGTGGGTGCAGGCAATGACGTCCACTTGACAAAGCTTCTGAATCAGCCATGTCTGGGGAGCAAGAGAACTTGGCACCATTGGTCTTTGGCATGGGCACACATCTGCCTGTGGTGTCCCCATCATGACTTTTTTCAGTAAGGACTCACGCAACAGTAATCAGTGACAGCAGTTCTCAAACCTGGAGAGCAGAAGTGCACAGACTGGTCCCAGATATATTTCCCTGGTCACTTCTTCACTCCTCCAGGCCACTTCTGCCCCACCTTCTGAGCAGAAGCTGCTAAAAAGACAGGATGGACACTCGTTCTGAAGGTGTTTCTCAGCATACGGCAAGCCCTTTGATAGGCAGTAGAGAACTTTGAGCACTTGGCAGGGTCATTTTCTGATTCTTTTTCTTTCTTTCTGTAGCCATTAACATCTGGTAATTTTTGGATTCTCTTTTGCTTCATCCTCATTTGTGGCCTGGACTATGATAAGCAGACACAAGCTAGTAGGACCCATGTACTCCTTCAACATCAAGGAGACCTTCAACATCAAGGTCAAGAGACCTTGAAAAACACCTGCAGCTTTTGCTGCCTGTAAAACAGCATCCAGTGCTTCATAATATAGCCCTAGTTTATCTTCTAATTATATCTTGCCCGTCAATTGACAAACATCAATTGGTGCCTTTTGTGGACACATTCATGATCTCCCTTCCCCAAATATAGGGAACAAGTTTTTTACTTTTTTATTTTCCCCCACCTACACTCCACAGCGCAGAGCACTTACCAGGAAATTATTTAAAGTTCTCAAACAGGGTCTCACTCTGTCGCCCATACTGGAATGTAGTGGCATAATCAGAGCTCACTGCAACCCCAACCTCCTGGGTTCAAGCAATCCTCCCACCTCAGCCCCATGAGTAGCTGGGACTGCAGGCATGCCACCACACCCAGCTAATTTTTAAAATCTTTTGTAGAGATGTGGTCTCGCTATATTGCCCAGGCTTGTCTTGAACTCTTGTCCTCAAACATTTCTCCTACTATAGCCTCGCAAAGTGCTGAGATTACAGGTGTAAGCAACCATGTCCAGCTTTAGCAGGAATTATGATGTGACAAGTTCTGTCTCTGACAGTCCTGCTTCAAGCAGCTAATGAATCCCCTTGTACTATCTGTGATTGGATGAGGACTGTGGAAATGGTGTGGCAACCATAGAATAATGAGAGGTGGCTAACAAGTAAATAGGCTTCAAAATAGCTTGTGCCCATAGATATTTTTACTTGTTCAAACTCCTTCCCAGTTACCTCCTTACCAACGGGGCTCAACATGATGATGTCACTAATGTTGGGAATACTGGCAGCTCAAAGGTAGATTTGCTATAAGTCTCAACTGACATTTTCATTAAAATTCTCACTGAGCTTCAAGCGTCTGATTTCCTGCTCCCTTGGAGAATTATCATGTGTAATCTAAACATGCAAAATGGGGGAAATCCATTCTTTTTACACAATAAACTACTCCGAGCTCCGTGCTCATTGGTAGGGAATACAATATGAGTAAGAAAGGGTCATGTGTGAACAGGGAAAGATGCATGTAAACAGAGGTGTGCTATCAAACATTAAGGATGCAGAGGAAGAAATCATCTATTTTTTTAAAATTCCTTTTCTAGTGGTGGGGACTTGCTGTGTTGCCCAGGCTGGTCTCCAACTCTCAGGCTCAAGCGATCCTCCTCCCTCAGCCTGCCAAGTAACTAGGATTACAGACATGAGCCACCATGTGCAGTGGGAACAGTCTCTTTTATCTGGGGGGGCACTAATTAGGAAAGGTGACTTGACGTTTGACCTTTGTCTTGCAGGATACATAGATTTTCTTTTGATGATGTTGTAGGGAATACTGTGCCTAGAGAGATGCATCCTGAGAAAAGTCATGGCAGAACCCATGAGGCAACCTGGAAATCGCTTGGCATGGCCAGGCAAAGGGGACAAAGAGACACAGAGAAAAGTAAGTATGGAGTGAAACATGGTGCAAGAACATTTAGGGCCTTGTAGGCCAGGCTAAGAAGTTTAGGTGTTATCAGAAGACAAACAGGAGCCACTGGAAAGTTTTTAAATCCAGAGAGATATAATCAGATACTTGTCCTTGAAATATCAACCTTGGAGCCATCTTGAGGAAGGATTGAAGTGATAGAGAGGGCCAGGGAGAGAGGTCACCCTCCTGATTAACAACTTTTCAATAGCTTAAGATAAAATCCAGACTTCTAGCTGGTGCAGTGGCTCCCACCTGTAATCCCAGCACTTTGGGTGGCCTAGATGGGCAGATTACTTGAGGCCAGGAGTTTGAGACCATCCTGGCCAACATAGTGAAACCCCATCTCTACTAAAAATACAAAAAATTAGCCGGCCATGGTGGTGGACGCCTGTAGTCCCAGCTACTCAGGAGGCTGAGGCAGGAGAATGGTGTGAACCCAGGAGGTGGAGCTTGCAGTGATCCGAGATCGTGCCACTGCACTCTAGCCTGGGAAACAGAGCAAGACTCCACCTCAAAAAAAAAAATATATATATAGCCAGGCATGGTAGCATGCACCTGCAGTCCCAGCTACTACTCGGGAGGCTAAGGTGGGAGGATTGCTTAAGCCTGGGAGGTAGAGGCTGCAGTGGGCTGTGATTATACCACTGCACTCCAGCCTGGGCAACAGAATAAGATCTTGTCTCAAAAAAAGAAAATGAGAGAAGGCATGACATGCATAACAGCTTTTAACCTGCTGCACTGAACATGTGAGCAGGAATTTTATCAATATAGTAGGTGCTCTTGAGACCAGGAACCACCTCCACAGTCCAAACAATACAGTTTCCTTTCAGAAGTCTACTCTCTGAGAGTACATTCATACAGGTCCACTTATAGAGTTCCCTATTTTGTCTGTTTATGTAAGTAAAGTGTATTTCAAATAACAATAGGTTCAACTCTTTAATGGAGAAAGGAGAATATAAATAACAATAAAAATTATCTAAAACAATACTACAATGGGCTTTTCTTCCTTCTAGTTTTCTCCCCCTGACCACAGGCTTTATGAAGCATAGTCAAAAGTATATATAGAGAAACAGGAAATGCAAGGGAGAGAAGTTTATGAGGCAAAAAATATATATATTCATGTGTGTGTATATATATATGGGTGTGTGTGTGTGTATATATGTGTGTGTATATATATATATCTTGGTTTAAAAAAATAACCCAGAAGACAAGATATAATCTTTAAAAATTATTTTATTTTTATTAATGATTACGGGTACTTCATAGTGGTACATACTTATGGGGTACATATGATGTTTTTTGTTTTAGAGGTGAGGTCTTGCTGTGTTGCCCAGGCTGGTCTTGAACCCATGGCCTCACGTGATCCGCTCCCCTCAGCCTCTCAAGTAAATGGGACTGCAAGTGAGAGGCACTGTGTTTGGCATCTTGCTTTTTTTGGCTAAACCTTATCTTGTAAGCAGTTTCTTCCATACAGCCTCAGCTTTTTGATGACTGTATGATATTCTTTTCCCAATTATTGAACATTTAGGCCATTTCTAATTTTTCTCTATTTTAAATATATATAATGATTTAAAAAATCATTGTCTATTAGTTTGCTAGGGCTGCCATAACAAAATACAACAGATCTAGGTTGCTTAGGCAACAGAAATTTATTTTCTCACTGTCTGGAGGCTGGAAGTGAAAGATCAGGGTGTGAGCAGGATTAGTTTCTGCTGAGGCCCCTCTCCTCAGCTTGCCATTAGTCACCTTCTCCCTGTGTCCACACTGTCTTTCCTCTATATTTGGGCATCCCTGGTGTTTCTTTGTGTGTTCAAATGTCCTCTTCTTATATAAACACTGCTCAGATTGAATTAGGGCCCATTCTAATAGGCTCTTTTTAATTTAATCATCTCTATAAAGGCCCTGTTTCCAAATACAGTCACATTTTGAGGTACTGGGGTTAGGTTTTCAATATATGAATTGGGGGTTAGGGGGAGGCATAATTCAGCCCCATAACACATTATGTTTAATTTTTTCTCACTTGGGTTTCAGATCATTTTCTTTGCACAGATTCTCAGAGTGGGAATCACTGGATCAAATGATAAAAAATATTGTAAGGCTCTTGAAAACTACTTTCCCAAAGAATATAACAACTGGTACCAAAATAGCCTTGTTTTATTCTGTTCTCACGCTGCTAATAAAGACATACCAGAGACTGGGTAATTTATAAAGGAAAGAGGTTTAATGGACTCACAGTACCACATGGCTGGAGAGGCCTCACAATCATGGTGGAGGGCAAAGAGGAGCAAAGGCACATCTTACATGGTGGCAGGCAAAGAGGGCATGTGCAGGGGAACTGCCCTTTATAAAAGCATCAGATCTAGTGAGACTTATTCGCTATCACAAGAACAACATGGGAAAGACCTGCCCCCATGATTCAGTTACCTCCCACAACATGTAGGGATTATGGGAGCTACAATTCAAGATGAGATTTAGGTGGAGATATAGCCAAACCAAATCAAACCTTCTTAAAATTATTTTAAAATAACTGAATGAATTAACTAAGGATTCTGTTCAGCTGCATATAACAACAACTCATCCACAATGACGTAGCCAAATAGGGGTTTATTTTGTGACTTAAATTAAAGCCCAGGAAGCAGTTTAGAGCTTCCGCAGCAGCTTTGCACAGTATCAATGTTGTAGGCACCTTCTCTGATTCTTCTCTCTGGTCTTCCACCATCATTAGCATGTGGCTGTTATTGCCCTGGCCTGTGCACTTGCTGTTCTCTCTGCCTCTAACTCCCAGACCTCCAGATCTCTATTCAAAAGTCACCTTCTCAATTGGACATTTCCTGGCCACCCTTTCTAAAACTTCACTTTCTCTTCTCCTCCTACCCCCTCTTTTTTTTCCTCCATAGCATTTATTATTATTTAATATACTGTATCTTTTAATTATTCATGTTATTTGTTTCTTTTCTCCTAGAATGGAAGCTTCATAAAGGCTTAGGTTTGTCTGTTTTGTTTATTACTGTGTGTGCACACTCATGCACACATATACAGACACATGTACATACACAGACATGCATACATGTGCAAACACACATGTGTGCCCACACACACAGATACACAGATTTCCACTCTCAGGAAAGGCTAAGCAAGTCCAAACCGACCTTCTCTTCCCCTTCCCTCGCCCCTTCCCCCTCCCTTCCCCATCCCCTCCCCTCCCCTTCCCTTCCTCTCTCTTCCTTCCTCCCTTCCTTTCTTCTTCTCTTCTCTCCCTCTCTTTATCCCTTTCTCCCTCCTTTCCTTTCCTCCCTGCTTCCTTCCCTCCCTTCCTTCCTTCACATTGTGAAGTGGCTTGCCGAAGGTTATGCAGAAAGTTAGTGACAAAGACAGAAGAACCTAAACTCTAGTTTCCCAGTTGCCATTTCTATCATTCCAAAGCAAGAATGTCATTGACTCTTCAGAATTAGCCTAATATGTTTATAAATATACTTTGAGACTAAATTCAGATTTAACAAATCTTTTGAATCCAAATGCTGACTAGGCTACCTTTTAAAATCAGTAGTACAGTATTTCCACATCTTTAGTATATTTTCAGACATTAACTGGGAGGTAGGAGAGTGAGGCTAAAGTATATGTGTGTTCTGCCATGTTTATTCAATTGCTGATGAATCCTGAGCTGAGTTTTCCAAAATTTCCTTACGAGGTAAATTATGATGTATATAGTATATTTTTGTTTGTCTCTTTTTGTTTTTTTAACTATGTATACAGTATGTTAATGTTTGTTTAAAATGTGTGGTAAAAAATGTACTGGAACGTTCTTTTTTATTTTATTGTTATTTTTTAATAGAGATGGGGTTGTGCCATGTTGCCCAGGCTGGTCTCCAATTCTTGGGCTCAAGTGATCCTCCCACACCGGCCCCCAAAGTACTGGGATTACAGGCATAAGCCTCTGTGCCTGGCCAGAATGTTTTTACAGATGCACAAAATATCTCTGGAAGGCAACACAAGAAGCTCTCAAGGGTGAGGTGGGACAATGAATGAATGGCAGGGGCACAGGTGGGAGGGTGACTAGTCACCATAAAACCAACTCTACTTTTGAATGTGGTTGGAAAAGGTTAAAAACAAACTAACAAAAGAACCAAACTCTTAATCTCAATGCACTGTCTCAGTTAGGAAATGCTCATGGTGGCAGATGTGAAATGTATGAGTCCTACCATGTCCCCACATAATGAGGCCCTGTCCACGTTTCTGACCTTAACTCATACACATTTCCCCTTGTGTACTTTGCTCCAGCAACAAAAGTCTTCTTGCTGTTCCTTGACCATGTGGAATGCAGTGCTAAACAGGCCTTCTGGCTTGTGTTCCCTTTACATAGAAACTGCCTCCCCTCGATCTGTGCATGGTTCACTCCTTAACCTCATTCAGGTCTCTGCTCAAATGTCACCTCCTCAGGGGAGTTCTTTTTTAACCTCCACATTTTAAATGCATCTCTGATCTCTCTGTTATTCTCTCCTTGCTGCACTTTTATTTCTAATACTTACCACACCTATGTTGCCTATCTGTTTCCTTATTTACATAAGCTCCACAAGGCAGAGACAGTTTTCTTCACCACTACATCCTGATCACATAGAATAAGGCTTGCCTTGAAAAAGGCATTCCATTTTAGAAACAAGATCTCTGTCACCCAAGTTAGAGATCAGTGGTGCGGTCATAGCTCACTGCAGCCTCAAACTGCTGAGCTCAAGCGATCCTGCCCTGTAGAGATGGGGTCTTGCTATATTGCCCAGGCTGGTCTTGAACTCCTGACTTCACACAATCCTCCAGCCTAGCCTCCCAAAGTGCTGGGATTACAGGCATGGCCACTGTGCCTGGTCTCAAAAAATATTTTTTTGAATAAATTTAAAAATGCACAAATGAATTCTATTAGGGATCTTTTATGCAAGGCAGCATTGAAACTGCCTAGTTGAGGAGGGCAAGTAGGTTTCATTTACTGGCTCTGGCCAACAGAGCTGCTTGGAAAGCTATATTGAGATCTGGAGACTGACTCAGGTGGTAAGAGCCCTGTGATCAATTAGCAAGTTAAATGACAGGCAAAGTGGGGAAAGGATGACCCATGAATCATGTAAACAAAACTCCAGATTATCTAGTAGGATTGGCTAAAGCAGAAGCAGCCAGATTAAGAGCATTATGGCAGAATGTTCGTTTTGAATAATGAACTTAAAGAACATGAATGTATCAAACAAATGGTGAGATTATATCCTTGTGCCACATCTTACACTTCTCTGCCTGCCTATGCTATTTTATGACTAGAGACTCATTGTTCAATGGTTAGGGCCAAATGTTTAGAAAATTTTAAATATCAACGTATTTGTAAGCAAAATTATTTCATTGGCTCCAAAAGTGGTAGAAATTCTATTACAAATCATGGATCTTTAAAATGGAACTTACTTATAATTTAAAATTACAGTAGTATAATAAGTAAGAAAATGTGGATTTTTTTTTTTAATTGGAGACAGGGTCTCACTCTGTCACCCAGGCTGGAGTGCAATGATGCAATCACGGCTCACTGCAGCCCTGACTTCCTGGGCTCAAGTGATCCTCCTGCATCAGCCACACAAAATACTGGTATTACAGGTATGAGGCACTGCATGTGGCCCCCAAATGTGGATTTTTAAAAAGTCAATTAGATTTGGAGCATTAGATGGAACTCTGGGTTACAAAGGACAGAAGCAATTCAATTGGCAAATAGTCTGCAGTAAGATCTGATAGGGCTGGAAATAAACTCTCAAAACCAAATGCCAAAACTCCCTTCCAAGGACAAAGCCCCATACTGATAAGATGCTGGGAAAATAATCCAAGTTGAATGCCACAAAGGCAACCTGGTTCATTCCAGAGGAAGTATAAAGGCATGAATTCAGTCTTTTAAAACATGCTTTTTAGATATTGAGTAATAAACACACAATATAAGTAAAAATTAAAACACTACTGAAATTTGTAGAGACCACAGCTGCTTTTATTAAAGGGCAGAAAAATGTAAATTTAGGAGATCAAGAATATTATTATGAAATAGTTTGCTAACAGGATAGACAAATATTTAAAGGAAAGGAAACTAAAGCAGTATTTAAATCAAAGGAAGTGGCTGATTAGAAGAGACTTCGTAAGAGGCAACTTACTGTATGCTTTTGTTTCCCAGCATTACTCATACCAGGTTGTAGCATGTTTTTGAGAGAGCGGCTGGGATTGAGTATACTCTTGACTTAAATATGTTTGTTTATAAAGACAAATGGAGAAATCTGTTTTTTCTCCTGGATTCTTAGGCACACTTAAGTGAATAAAGAACCTTGACAGTATGCTGTCCCACACGTTTAAGGACAGAAGTTAGTGTAACACATTGTTTTCATATTTCATCTTATCTGTTTTGTAACTGTACTGACTTTTTAACTCCTGACCTTCTGTACTTATTAATGTCAAGTTTTAAGAGTAAAAATTACTGGTATATTAAGCAATTTTTTTCTCATATATTTCTAACTTTATTTTTTGTTATGGGGGACTTTTCCTTATTATAATGATAGCACAAGTGTCTGGAGAAATAAGCAAGATCATAGAGGAGCTTTCTTAATTGACTGAAGCCTTGAATAATTTGAAACCATTTTGAACTACTTGCATCATGGACAGCTCATTATAAATGAAGGCATTAATTTATTGGGTGAGTTTATGTAGAGTTTCAATATAATGATGTAATTGCTCACATTATTGTAAGTTTTAAGACTTCAGTTTTCTTTCAGTAGCAGCATATTTTCATAACATAAAAGTCTATCTTTTCTATTTTTTAAACGGAATGTTTTCACATGTATATGAGTGTGTATAGGTGTAGAAATAGATATAGGTAGCCGGGTGCAGTGGCTCACATCTGTAATCCCAGCACTTTGGGAGACCGAGGCAGGCAGATCACAAGGTCAAGAGATCCAGACCATCCTGGCCAATATGGTGAAAACCTGTCTCTAGGAGAAATACAAAAATTAGCTGGGCATGGTGGTGCGCACCTGTAGCCCCAGCTACTTGTGAGGCTGAGGGAGGAGAATCACTTGAACCCAGGAGATGGAGGTTGTAGTGAGCCGAGATCATCACACCACTGCACTCCAGTCTGGCAACAGAGCAAGACTCCATCTCAATAAATAAATAAATAAATAAATAAATAAATAAATAAATAAGAAAGAAATATAGGCACAGGCAGGTGGTCTTTCAGGTATGTAGTCTTTTTACGTTTGGATATATATCTAACCCATACACTTCAACTTTATATTCTAAATCAATTTAGATTCTGTTACAAGTGACTTTGAAGGATTTTATTGTTTTCTTTTGTAAAAATTAAATTGTGAATGTAACTTAGCTCCAAGTTATGGATATTCCCCACATTATGTGAGAACTAGTAGTCAAGAGGGGAAATCATGCTTTGCAATCATAAGACTAAATTAGAGTCTTGATTCTACAACTTACTAACTTTGGGAGACTAACTTGGGGAAAGTTTCTCTGAGTTATCTTGGAAAAATGAGTGTTAAATGCACTCATGGCTGGGCATGGTGTCTCATGCCTGTAATCCCAGCACTTTGAGAGGCCAAAGCACGTGGATCACTTGAGGTCAGGAGTTTGAGACCAGCCTGGCCAACATGGTGAAACCCCGTTTCTACTAAAAATACAAAAATCAGCCAGGGGTGGTGGCACACACCTGTAGTCCTAGCTATAGCTACTCAAGAGGTTGAGGTTGGTGGATTTCTTGAGCCCAGAAGTTTGAGGCTGTAGTGAGTTATGATTGTGCTACTGCACCCCAGCCTAGGCAACACAGCGAGACTCCATCTCAAAAATAACAACTAAAAAATCACTCTCATCCCTATCTACATCACAAGATTTTTGTGAAGGTTCATGGAGGTGATGTAGACAAAAGCCCTTATAAAACACTGGTTGCATATTTGTAAGCGAATAGGCCTCCAAATGACTGAAGTTGATCTGATGTTAGTACTTAAGGAGTGGTAGGCAGTGTGGCAATCATATATATATATATATATATATATATATATGTGTGTGTGTGTGTGTGTGTATGTATCCCTACACTTTTTAATTCAGATAATAAAATAGACTAGAATGTGAGACATTATATATGTGCATTATATATACATATATTATATATGTATGCATTGCGGGAAGTCAGGGACCCCACATGGAGGGACCAGCTGAAGCCACGGCAGAAGAACATAAATTATGAAGATTTCATGGACATTTATTAGTTCCCCAAATTGATACTTTTGTAATTTCTTACATCTGTCTTTACTGCAATCTCTGAACATAAATTGTGAAGATTTCATGGACATTTATCCCTTCCCCAGTCAATACTCTTGTGATTTCCTATGCCTGTCTTTACTTTAATCTCTTAATCCTGACATCTTTGTAAGCTGAGGATGAATGTCGCCTCAGGACCCTGTGATGATTGCGTTAACTGCACGAATTGTTTGTAGAGCATGAGTATTTGAAAAATATGAAATCTGGGCACCTTAAGAACAGGATAACAGCGATTTTCAGGGAACAAAGGAGATAACCTTGAAGTCTGGCTGCCTGTGGGCAGGCAGGACAGAGTCATATTTCTCTCATTACTGAAAATGGGTAAGATAAATGTCGCTGAATTCTTTTCCCAGTAAGAAATATTAATAATTAACGGCCCTGGGAAAAGAATGCATTCCCAGAGGAGGCCACTGAAATGGCTGCTCTGAGGGTGTCTGCCTTATGCAGATGTAGATAGGGATGAAACACACCCTAGTCTCCTGTAGTGCCCCCAGGCTTGCTACGATTAGGAAATTCTAGTCAGACCGGCTCTCTGCTCTTGAACCTTGTTTATCAATGACAATGCGTGCACAGCTGGACATGGAAGTTTATTAGTGATTCTAGTTTTGCCCTAACCTTCTGCCTTGTCATCTTTTGTTGCCCTTGAAGCATGTGATCTCTGTGACCCACACCCTATTCGTGCACTCCCTCCCCTTTGAAAATTGCTAATAAAAACTTGCTGGTTTTACGGCTCAGGGGGCATCATGGAACCTGCTGACGTGTGATGTCTCCCCCGGGCACCCAGCTTTAAAATTTCTCTCTTTTGTACTCCGTCCCTTTATTTCTCAGACTGGCCGACACTTAGGGAAAATAGAAAAGAACCTATGTGAAATATCGGGGTAAAATTCCCCTGATAGTATGTATATATATAACATCTCACATTCTATTCTTTTTATCTGAATTTTTATGTTTTAAATTTAGCAATCTTTAACTCACTAATCTTGTATTTCAACGTGTCCAAATAACTTTTAAACCCATCCCAATGGGTTCTTAATGAATTTTTAAAATTTCTGTTTAATTGATGCATAAGAATTGTGTATATTTATGGGGTACAATGTGATGTTTTGATGCTGGCTTTGTAAAATGAGTTTAGATGTACTTCAATTTTTTGAAATAGTTTGAGAAGGATTAGTATTAGTTCTTCTATAAATGTTGGTAGAATTCTGCTATGAAGCCATCTGTTCCAGAGCTTTTCTTTGGTGGGAGATTTTGTTATCATTATTATTATTATTGATTCAGTCTCCTTATTCCTTATTTAACGTTTGAATTTTCCATTTCTTTTTTTACTCAGTCTTGGTAGATTGTGTATGTCTAAGAACTTACTTATTTTTTCTGGATTATCGAACTTGATGTGGAACTCTAATTGTTCACAGTAGTCTCATGATATTTTGTATTTTGGTGGTAATATTTGTAACATCTTCTCTTTCATTTCTGATTTTATTTATTTGAGTCTTTTTTCTTTTGTCTTTAGTCTTGCTAAAAGTTTGTCAATTTTGTTTATCTTTTCAAAGAACCACTTGTAGTTTAATTCATCTGTTTTATTGTCTTTATTGTCTCTATTTCATTTATTTCTCCTCTGATATTTCTTATTTCCATACTTCTACTGACTTTAGACTTAGTTTGTTCTTTTTCTAGTTTTTTGATGTGTAATATTATTTATTTGAGATGTTTCTTTTTTGATGTAGGCATTTAATCCTATAAACTTCAAATTTAGAACTACTTTTGCTGCATCCCATAAGTTTTGTTATCCTGTGTTTCCATTTTCATTTGTCTTAAGATATTTTTAAATTTTACTTTTAATTTTTATCTTTGACCCATTTGTTGTTGGTGAGCATGTTGGTTAAGTTCCATGTATTCATGAATTTTCCAAAACTTTTCATGTTACTGATTTCTACTTTTATTCATTTGTGAACAGAAAAGATAGCTGATATGATTTCAAGCTTCCTAAATTTGTTTATACTTGTTTGTGGCCTAACATTCTCCTGGAGAATGTTTCATGTGAACTTTAGAAGAATGTGTATCTTACTGCTGCTGGATTAAATTTTCTGTATTTGTCTATTAGGTCTATTTGGTCTAAAGTGTTGTCCAAATCCATTGTTTCCCTACGGATTTTCTGTCTAGATAATTTATCCATTGTTGAACATGAGTGTCTTGAATTCATCTATCATTATTGTCTTGCAGTGTATCTCATACTTCAGATCTATTAATATTTGCTTTACATAGTTAGGTGCGCCAGTGTTGGGTGCGTACATACTTAAAATTCTTATGTCCTCTTGATGAGTTAACGTCTTTATCATCATATAATGACCTTCTTTGTCTCTTCTTACAGTTTTTGACTTAATTTTATTTTGTCTGATATGAGTATAGTCACTTCTATTTTCTTGTGGTTATCATTTGGCTGGGATACCTTTTTTTAATTATTTCTTTCCTCTCAGTTTATGTGTGCCCTTAAGTCTAAAGTGAATCTCTTGTAGGGAGCATATTATTCAATCTTGTCTTTTTATCCATTCAGCTACTCTATGTCTTTTGATTACAGGTTTTAATCCATTTACATTTGAAGTAGTTATTGACAGGTAAGAACTTACTACTGCCATCTTGCTAATTTTTTTTTTTTTAGTTTTGTAGTTCTTTTGTTTCACTCTTCCAGCCTTGCTGCCTTTTTGTGTGATTTGTTCTATTTCTGTGGTGATATGCTTTGATTCCTTTCTCTTTTGTGTATCTACTAGAGATTTTTTTCTTTGTGGTTACCATAAAGTTTGGATTAAAACATCTTAAAGTTATAATGCCCTAATTTAAGCTAATAGTATCTTAACTTCTATTGCATACAAAGAGTCTACACTTTTATTTCTCTCCTGAAATTTTATGCTATTGATGCATTCTTTACATCTATTTATATTGTGTATCTGTTGACTGTTTATAGTTGTTTTCAATAGTTTTGTTTTTTAATTCTTATACTAAAATTAAGAGTGATTTACATACCACCTTCACAGTATTAGAGTATGCTGAATTTGACTATATATTTACCTTTACCAGTGAATTTTGTACCTTAATATGTTTTCACATAGTTACTTATTATCTTTCTATTTCAATCCAAATAATTCTCTTAAGCATTCTTGTAAGGTCGGTCTCCTGGTGATGAACTCCCTCACCTTATTTGTCTTGGAATTTCTTTGTCTTTACTTCATTTATGGAGGACAGCTTTGCTGGGCAAAATATTCCTGATTTGTTTTCTTTTAGAATTTTGTGTATGTCACTTTACTCTCTCCTTGCTTGCAAACTTTCTGTTGAGAAGTCTACTGATAGCCTTATAGAATATCCTTTCTATATGACAAGTTTCTTCTCTCTTCCTTTATTCAAGAGTCTCTTTTCTCTCTTTCCTGATTTTTGACAATTTGATTATAATGTGTTTCAGAATATTTCTTTTTTAAAATTGATCTTGCTAGGAAAGCTTTGAGCTTCCTGAAACCGTATATTCATATTGCTTCCAAGATTTGGGAAGTTTTCAGACAGTATTTCTTTAAGTAAATGTTCTACCTCTTTGTCTCTTCTCTTTATGGTATTCTAGTAGTTTGTATACAGTTGGTCTTTCATATTTGCTTGTTCTGCATCCATGGATTCAACCTACCACTGATGGAAAATATTTTTTAAAAACAATAAAAATAACAATACAACAATAAAAATAATACTAGAAAACAACACAGTATAATAACTATTTATATAACTTTTATATTGTATTAAGTACTGTAAGTAATGGAGAGATTATTTAAAGCCTATTGTGAGGGTATGCATAGGTTATATAAAAATACTATGCCATTTTATATATGAGACTTGAGTATTAGCAGATTTTGATATTCATGAGGGGTTCTGGAACCAATTTCCTGTGGATACCAAGGGATAACTATATTCATATATTTGTTGGTTTCCCATAGGTTCCTATGCTTTCTTCACTCTTTTCAATATATTTTTATTGCTCTAATTGGTTAATTTCAAGTGACCTACTTTTGGGCTCACTAATTCTTTCTTCTGCATGATCAAGTCCACTGTTAGAACTAAGTTTTTCAGTTCTGTTGTATTATTCATCTGTTCTAGGGCTTCTGCTGAGTTCTTTATGTTTTCTATTTCCATATTAAACTTCTTTTTTTGTTCATTTAATATTTTTATAATTTTAGTTGTCTATGTGTATTTTCTTGCATCTCATTGAACTTCTTTAGGATAATTGTTTTGAATTATTTTTCAGACAATCCACACATCTCCATTTCTTTGGAGTCAATTATTGAAGTTCTATTAGTTTCCTTTGGTGGTATAATGTTTGTGTGATGATTTGTTATCTGTGTAGCTTTGCATTGATGTCTATGCATTGAAAGGAGCAAATTCATCTCTCAGGCTTTACAGATAGTATGTGCCAACTTAAAATCCTCTCCTATTAGGTCTTGGGTTAAAGAGATTGCCTCTGGGATTGTGGTAGGCAGTAGAGTGGGATTGGATCCAGGTCATGTGGCTGATGTTGGGTCGACAGTAGACACTATAATCAACAGGCCTCTTTCCAGAGGTTCTCATGGGCATGGGTTCTATCTGGTCCCTGGGTGAACTGGACCATCTCTAAGATCTTGGTATGTGGAGCTGGTGTTGAGATGATGTTCTGCTTCAGAATTTACCTAGTATGCTGATGAGTGTGGCTTCTTCTGAGTCTCTGAGAGAGCTCCTGTTGGATCACTGGTTGGATTATCTGCCCTGGGGTGGTTGTACTGCCCTGGTCCATGATTGAAATGGCTGGAATTAAGATACAAGGTTGTTTCAGGGCCCACACCTGAGACTGAGAACCTCAGACCAGTCTCCAGGATCATAAATAGGCATGTCTCCTGGTGGGTTCCTGGGTTAGCAGTCCTACTTTTAGACTGTAGTTGAGAAAGACTGGAGCCCATTTTTAAGGATTATTCAAGATCTATAATGGGACCAAAGTCAGGGCATTACCTATAGGGGCACCACTGGACCTGTCTCCCTCTGGGTCCCCAGGCAAGCAGAACTGTTCTCAATCTCTACACAAAAGGGGCATAAGATCTAGGGCCATTTGAGGATCAACTTTGGGACAAACTTTGGGAAGCCTACCATGGAAATTCAGGTGGGCATGCCTCCCAGTGGAATCCTAGTTGGGCAGAACTGCTTCCAGACCACAGCTGGGAGAGGCTAATGAATTCAGGCTTCAGGGCTAATTCACAATATGCTGTAAGATTGATGCTGGCAAGGCTGACTTGGTGGCATCGGTGGATGATATTCCTGGCCAGTTCCCTAATCAGACAGAATTGTTCCCAGACCACAGCTAAGATGGGGCTGGAGCTGAGATTCAGAACCCATTTGGGAACTGTTAGAGGATGGAGGCTGGCAAGCCTGTCCAGGTGCATCTCCTGAGATTTCCAAGCAGTACTAAGCTAGGAGTACAGCTGAGGGGGTGTTGGAGCTGAGTTACAAAATATCTTTTGGGTTCAATGCTGGGACCAATGTTGGCAGGCCTGTCTGCCCAGACACTAGTGTGCATGATTCCTCCTAGGCCCATTAGCAAATAGTTTCAGTAGCAGGGTCAAGGCCAAATAGGGCTGGAGTCAAACCCTTTAAAGAACAGAGACATTTCTGAATCTAAACCTTGGAGCATGGTGAATGCATCTGCCATGTGGGTGCATATCTGCACTCTCAAAGTGACACTCCTAGGTTCTCAGCTACTCTAGGATTTCACAACCTCCTGCCTGAAACACAAGGCTCCCATAAAGAGATTTTTGCTTGTGGAGGGTGCAGAATTCTTGTTGTCATCGGGGAAAGGAGGGGGTGACCTCCTATTTTGCTACCTTACTCATATCTACAAGGTCTTAATGAGTTCTTAATATCATATATTTTATTTTTTAGTTTATAATATCCTTTCAATTACTTTTAGTAAGTTCTGGTTCTTTGTTGAAAATTCTCTGAATTTTTATATATTTTTACATTCTTCTGTTTTCTGAATGTATCCAACAGTTACTTTAAATTCATCATCAATTAATACAGTAGTTTGATCACAAGTTGCTCTTGTGTTCTTCCCTGTTACTTATCGTTTATGGCATCTTATTCTTGATGTGGTGGATTTATTGCACTCAGGATCCTGAGTTTTACCCCTTCCTCTGTCCTCACATTTCTCCTTTTAACTTCCCAGTGTCCTTCCATTGGGCAGAGCGTTCTGCCACTTGAATCTAGGCGTAGCCACAGGGCTGGTTTGGGCCATGTTAGCAAAATGGCACAAGCAAAGGCTTGGAAAAGTGCCTGTGTGTATCATCTTGCCCATTTGCTCCTCTGTCCTTGTCACAAGAATAGGGACACATGAGCTTGCTGGGGAACGAGGCACAAGGAGCAGAGCCAAAACCACAATTTTTTTTCAGCCAAGTCAGACATCTCTTGGCCAACTGTCAGTCAGGAGAGACTCTGAAAACTGCCCATTTGAGGTTAGTCCAACTCATTGACTCCAGAACTCATGACTTATGTAATTATTGTATGGCCTTAAAGCTGAGTCGGTTTTTTTTGGTACATAGAATTATTGTGACAATATAAAACTGATACTTTAAATATATTCATTACATTTCAGTTGTGTGCTAGACATGGTTTATTGTAAAAAATTAGAAGCTTCAGATTACAATATCTACAAGAGATATTGTATCAACACTTTGCTAATCAAAGACTAGAGGCTTATTATCTTGTTAGTTATGAACTTAGCTGGATCAAGGCTGGGTTAAAGTTTCATTAAAACTTTGTCTATCTCTGGTTAGTTCCTGTCCCCAAGAATATGGATTTCAAGGGTTTATTTGAAATCATGATGATTTCGGCTCCTCAGTACCCAGAAATCTGGACCTTTGGCTTTGATTCTCAGAGAAATCACACACCCCTTGGTCAACTACCTGTCAGGGGAGACTCTGAAAACTGCCCATTTGAAGTTAGTCCAACTCATTGATTCTAGAACATACGACTTATGTAATTATTGTGTGGCCTTAGAGTTGAGGAATTTTTTTTTGTTTGTTTTTTGTTTTTAGGTCTATAGTCTTCCTCCATGAACAGCTTCAGAATGTGGCAAATGCCTTAAAGGAGATGCCTGCGGGGAGTTTAAAGCCCCTCAAATCTCTAATTTTGTCAATTCTAGCCACCAATGGTTCTACTATTTCTATCTCCTTAAAAGGGGCTCCTCTAGAGTCAGACCATCTAGCTGTGTCCATATCAGCAAAGCCTGCAGGAAATAAACAACTGGAGATTTTCTTTTTTTTTAAGTTTTATTTTACTTTTAATTGACAAATAGTAATTGCATATATTTATAGAGTACAAATTGATATTTTGATACATGCATGCATAGTAGAATGATCAAATAGGGTAATTAGCATATCTATAACCTCAAATATTTGTGTTTTCTTTGTAATGAGAACATTTAAAATGATCTGTTTTCACTATAAATGTACAATACATTCTTATCAAATATAGTCACCTTCTTCTGCAAGAGAACACCAGAATTTCTTCCTCCAACTAACTGTAGCTTTGTACCCATTGAACAACATCTCCCCTTCCTCCATCTACCTCCCACTTCCAGCATCTGGTAACCACTTGCTACTTGCCACTTCTGTGAATTCAACTTTTTTAGATTTCACATATAAGTGAGATCATGTGGTATCACTTTTCATTCAACGCTAATTATTGTTCTTAGAGTGTCCTCCTGGAAGACCTACTAAGCATTTTGAAAGTCTACTAAGCATTTTGAAACTTCACATTATGGAGCTATTATGACTTAGCTTTTTAGCCACCCCAGAGAGCCTTGGGCCCAGGCAGAGAACTGTTGTAGGGGTGGAGCCATGGCAGAGAACCCAACTAGGGCAATTTACAGTGGTGTTTTGGGGACAGAACCACCTCAAAGAGCCCCAACTACAGCAATGTGTGGTGGAGCTATGGGCCCAGGGTTACCTCCTTGATTTGTGGGGCCACTGGTGGACACCTTATGGGCTGTGTCTAAATGCCATGGGGATGGGGCCATTCAGAGTTTTGGGGGTCAAAACCCTGGGCCAATTCTCTCAGAACATGAGACATGGAGTCAAATAAGTTTATTCTCAAGCCTTAATATTTAATGTTGTTCACCCAACAGGGTTTTGAACTTACTTGGGACTATTAATAGTTACCCCTTTCTTCTTTCCTATGTATCCCTTTTAGAATGGGAATGTCCATCCTGTACCTATTTCACTGTTGTATTTTGGAAGCACATAACTTGTTTGATTTCATAAGCTCACAGCTTGAGATAAATTTGCCTCAGAATGGATCATTTCTTGAGTCTTATCTATATCTGATTTAGATGACATTTAGATGAGACTCTGGACTTCTTTAGACTTTTGAGTTGATACTGGCTATTGAGATGGAATGAATGCATTTTGCATGTGAGAAGGACATAAATTTTGGGAAGCCAGGAGTGGAATGCTATGGTCTGAACATTGGTTTCACCCCCAAAACTCCTATATTGAAACCTAGTAAGAGATGATTAAAACATGAGGGCTCCTCCCTTGTGACTGGGATTAGTGTCCTCATATATGAGATCTAAGGGAACTTGTTCACTCCTTCTGCCATGTTGGGACACACAGAAAGTGCCTCTGTGACAAACTAAGCTCTCACCAATCAATGAATCTGCCAGCACGTTGATCTTGGACTTCCAAGACTCCGGAACTATCAGTGAAAAATGTCTGCTGTTTGTAAATTACCCAGGCTCAAATATTTTGTTATAGAAACCCAAATGGACTTAAACACATGTATTTAGCTAATACAACTATAACAGTGTGTAGGGAAAACAACTTAGTAAGTAATAAATTGAAAGAGAAAATATTTGGTTAATTCTTTTCATAAGTATGTTGTGCATGAAAAACAAATGCACTGGATCCCATTGTTCAGGTCCAATTTCCTCTCCATGGGTTTTGTAAACTCTCTGTAAAACATTGACGATGGAAGTTAAGAAAGTAAAAAACTCACTTTCTGATTTAGAAGCAAAAATCTCGTACTATTTGAACAATATTATTCATTAGATTTCCTCCTTGCATCTTTAAATCGCATCTTGCATGCCATGACCATCGAGTACTGAAGCTATGTCACGGTTTTGTTGATTGTTATTTTTCTCAGTCTTGGATTCTACTTTTGCAATCAACCCCTAGCTTAGATAACATCAGTCGGATGTCACTGGGTTTTGTGGCTACAACTATATTATATAATCTTTACTTTCAAATGCTGACATCTTTTCACAAAGAAACTAAAAGTTCAATTTCATTCTTAAGACATTAGGCAGGCTGGGAACGGTGGCTCTCGCCTGTAATACCAGCACTTTGGGAGGCTGAGGTGGGCGGATCACGAGGTCAGGAGATCGAGACCAACCTGGCTAAAATGGTGAAACCCCGTCTCTACTAAAAATACAAAAAAAATTAGCCGGGCGTGGTGGCGGGTGCCTGTAGTCCCAGCTACGCCAGAGGCTGTAGCAGGAGAATGGTGTGAACATGGGAGGAGGAGCTTGCAGTGAGCCAAGATCGCGCCACTCCATTCCAGCCTGGGCAACAGAGCGAGACTCCGTCTCAAAAAAAAAAAAAAAAAAAAAAAAAGACATTAGGCAAAAACCTGGACCAATAAAATATGATAAATGTTCAGAATCTCAAAGGAAAAAGTTTGCTTTGATTTTTAATGGTTTAATTAGGCTGCATTGACAGGGAGCCAATTGGGTGTAGTACAAAGGGTTTGGAGTCTGAAGATCCATTTCTGAGTCTGGAGTCCGTAGGCCTGGACACATTTTGTAAAACCAGAGTTTCCTCAACTGGAAAGTGAAAGTTATGAAGTTGTGATGGGAAGATTTAACTAAGATAATAGAAACAAGACCATGCTATACAAATGTTTAAGTTATAAATTAAAATATTAAAAATTGCCCGATTCCCCAGTACAAAAAGAACTAATTTGGTGAAAAACTGTCTTTTATGTACAGTCGTAGAAAATCCTGAGCTGAGAGGCTCCCTCGTTGGGTGGGACCAGGATGTGGAGCTTCATTCGGAGGAGGAAGGAATGTTCACAGTGTAGATTACGGTGTCAATGCACAATGAAGTATTTAGAAACCATTCATCACCAAAGAGGGATTGTAATTTTAGAATTTTTCAGAACCATAATTTCTTAGTATAACTTTGCAAGAAAATAAGCTTTAACAACAAAAGAATGTAAAATACCTGATCCAGCACAGCAAGGGCAACCCTGTGGCTTGCTGACTCATTAAGTACCCATGCTACTTTATGAAACACATGTGAGTTGCATAGATTTATTAAATACTAATACTTTGAATAAATATGGACATACCCCTGCAGAATTGTGGAATATGACATATTTTAAAACACAGTTTCACCTGTGACTGTAAAACATGCATAAATTAGGTTGGAAACCTTGAGGTGGTAGTGAGTGTTTTGAAACATTAGAGATTGCACATTTACAAATCCACCAATTATAAATGTGATTTTTGAGCATATATGTAGTTTAAATATATAATTATGCTTATTCCATTGCACCTGCAACACCCAGTTCAACAAATATTTATTTTCTAGGATCTGGAGAGTTAAGATGAAAACTACCTTGATCATGACATGTAGGAGTTCAAAGTCTCATGTGGGGTGTGAACATCTAAATAGATAGTTCTAATTACTGTGGTGGGAAACTGGGGTCCTGTATGATGATCTTAGCCTACAGAGAAGAGGAGCACCTCTCCTGACTGGTCTAGAGAGAGCATTCAGTAGAAGTGAAGGTGTAACAATATGCGTCTCTGGTGAAAGGATGCCTGAGTTTGAGATATAAAAAGGGGTTTTGCCTGGCAAGGGGATACAGTGAGAAGCTGTGAGTTACACAACTGTGGTTTATTAGAAATAGAAGGGTAAAGGATAATCATACACAAGCAGAAACCCAAACACAAATGTTTATGTCCAAACATAAACTCTTTAGAAATTTGTGCATGAAAGTTGATATGTGCTTTATTCATAATGGCTGAAAACTGGAAATAACCCAAATGTCCATCATCAGGTGAATGGATAAACCATTGTGTTATGTCTGTGCAGTGGAATACTATTCAGCCTGAAAAGGAATTATCTGTTGAAACATTCAATGACTTCAGTGAGACTAAAAATACTTTTGTTGAGTTAAATGAGCTAAACAAAAAAGATAACATACTATATGGCTCCATATACATAAAGTTGTAGAAAAATCTATAGGTTCAGAAAGTAGATCTGTGATTATCTCTGAACAGGCAGATGAGAGATGTGAGGTAAGGGAATGGGAAGGACCCTACAGGGCACAAGGAAACCTCTGGTATTAATGGGTATGTTCATTATCTTCATTGCAGTGATAGCTTCTTGGGTGTACACTTCTAGCAAAATTCATCAAACTGCATGACTTAAATATGTATGATTTATTGTACATCAATTTTACTTAAAAAAGTTTTAAGTAATAGAGATGATTAAAATGATTTAAGCAGTAAAGTGGTATGGAAAGTTTTAGATTTCTGAAGTTAATGATGTTTTTCTGGTTTCTGGCTTGGATGATGAAGACTGGGAATGGTAATGGTTATAAACCTATTCTCTTCTTGTCTATAATTTATCCAGAAATGAAGCTAACTCAATGCAGGGCTACCTGTTTTTATTAGAGATTAATTTTCCAATTTAGTTATAAATAGGGCAACTGCAGACTAATGTTAGGATAGGCTTAATGTTTCACAAAAATGAGATCTATTGGTTTAGGTCTCTAGATGTTGCCTTGTTCTTGTCTGCCACTGTGAACATCATTACCTTCGTTGGCTCTAACAGTTTACAACACTGTGTCAGGACTGTAGAAGAATGAGGGACTCAAACATATCTAAGGCACCATCCAAGTTATTAGAGGTCATTGTTCAGTTAGCTCATAAATATTCCTTCCTGTCTTAAAAAGAGTAAAAAATAGTGACATTCATTGACTATTTACTGATGGCATTACATCCCTTCATCTTCACCACCCTATGAAGCATGTACCTTTATTATCCCAATTTTACACAAGAGGAAACAGGCTTAAAGATGTTTAGTCACTGGTTCTAGATCATGTTTAGATGATGTTGACCCGATTGGAGCCTGGCAATGTGATTCTCAAGCACATATGATTTCCCTAACTTTTCCTCCCCAGTATTTCTATATCCCAACAATTTTCTTTAAGAAATGGTCATTTGTGGCCAGGTGCGGTGGCTCACACCTGTAATCCCAGCACTTTGGGAGGCCTAGCCATGCAAATCACGAGGTCAGGAGATCGAGACCATCCTGGCTAACACGGTGAAACCCTGTCTCTACCTTTATACAAAAAATTAGCTAGCCGTGGTAGCAGACACCTCTAGTCCCAGCTACTCTGGAGGCTGAGGCAGGAGAATGGTGTGAACCCCAGAGGCGGAGCTTGCAGTGAGCCGAGATGGCGCCACTGCACTCCAGCCTGGGCAACAGAGTGAGACTCCGTCTCAAAAAAAAAAAAAAAAAAAGAGGTCATTTGTGGTATTGTAGTAAAAGAACTTAATGCCTTTATATATTCAGCTTCTATAAATGAAGAAAATGACACCAAACTCCTGCCATGTTTTATCCAAGTCATTTTTCTGTGCTTTCAAGCAAGAGCAGTGATGATGTCATGACCTGATGCCTGCACAGAATCACAGAATCTTCAGAATCCCTTAAGTGATGCTGCCAAGTATGTTTGTTTATTCACTTCATTTACAAACAAAAACCTGTCAGGTCAGATACTATATGCAGGGCTTAAAATGAAAAAGGGAAAGAAAATAAGAGCCCTTATGTATTTTTGATGATGCTCTTTGGTTTTCACAGGGAACAAATACAATCTTAAACTGCTTTTAAATCAGGTATATAGATTTGTACAGATATCATGTATTTGAATGTCTTTCTGCACATGTCTATGCACACATGCAGTTCAAAATCAAAACCAATTTACATTCTTCCTATGTTTTTTATTATAAACTAAAGTATATGCTCTGCTTACATGGTGTTCAATTATAACAACGGGTGAAGTGCTTTGCCTTTGAGTATCTGCAAAGATGGAAGTCTGAATACCTGGGTATTATTTGCTACTCTTTCTTGAATGGTATGTTTAATTGTTATTGGCCAGCATGGAACCTATTTGTCATTTTTTTTAACTAAGCTGGAAGGAATCTGGACTTTTCTTGGACTCTAAATGGCATTCTCACATCTAATAATATCACAATGGTTTAGAGTAAGAATAATTCTAGTCTCACATAAATTTAAAAAAATTGTTTTCTGATAATCCTCCATGTTGAGAAAACCATTTTGCTTATGAACTTTTACACATAAAATTGAAGATTTTATACATAATAAATTTTATACATATATAAATTATATATAATATACTATATATAGTATTATATATAAATTATAAATTATATATATATAATATAAATTTTGTTATATATATGACAACACTTTAAACTTTTAAAATGTGATGGACTGGGCAAGGTGGCTCACGCCTGTAATCCCAGCACTTTAGGAGGCCGAAGCAGGCGGATCCTGAGGTCAGGAGATCGAGACCATCCTGGCTAACATGGTGAAACCCTGTCTTTACTAAAAAAAAAAAAAAAATACAAAAAATTAGCCGGTCGTGGTGGTGGGCGCCTGTAATCCCTGCTACTCAGGAGGCTGAGGCAGGAGAATGGCGTGAACCCAGGAGGCGGAGCTCGCAGTGAGCTGAGATCATGCCATTGCACTACAGCCTGGGCAACAGAGCGAGACTCCGTCTCAAAAAAATTAAAATAATAAAATAAAATGTGATGTTTCCTGTGGAATGGAGATTATTTTAATGTTTTCTTTCTGATTTTCTGAGTTTTTTTCTCCTTCATATTATGTGGTACACACGCATCCTTTTAGGTTGGGAGAGCTGTCTCCATGCCACCTGTGAGGGGCCAAGGGCTGCCATGCGCTCTCTTCCCTGGGGCCTGCTGCCGCTTTTAGTGAAGCTTCCCACTCCCCGACTGTTCTCTTCTCATTCTTGCAGAAACGGTGGTATAAGAAAATCCTCTGGGGTGTTTTTTTACTGGAGAAGGAGAAAAAAACATATTTTTAGTAGTGCTTGTGGAAAACATTGCAGTAACTGACTTTAAAAATACTGAGTTGTGTGAAAGGAATCCCCACGGTAACAAGAGGTTTCATAAGGTTAAACACCTCTTCTGAAATGTCATGGGTGCGGTGGAAACATGGGATTGGCTTTTTTCCAATTATCTCATCAGATCCTTATTTTACTATTAATACCCTAAAGGGGCTGGGCATGGTGGTTCCCGCCTGCAATCAGCACTTTGGGAGGCCGAGGCCGGTAGATCTTCTGGGGACCAGACTGTCCAACATGGTGAAACCCCGTCCCTACTAAAAATACAACAAATTAGCCGGGCGTAGTGGTGCGCCTGTAATCCCAGCTACTCGGTGCGCCTGTAATCCCAGCTACTCAGGAAGCTGAGGCAGGAGAATCGCTTGAACCCGGGAAACAAAGGTTTCGGTGAGCCAAGATCACACCACTGCACTCTAGCCTTGGCAACAAGAGGGAAACTCCGTTTCAAAAAAAAAAATCCAAAGTTTCATATATTATTATTTATTATTTTTTTATTTTTTTTAGCTTTGAAAGCAGATGCCATGCTTGTTCACTCTTATAGGCAGCTCTGAGTCTGAAGGTTCTGGCTGATGAGATTTGCACAACTAGTCTTGTGTTTTATGCCCAAAGTGCTGATTGTTTCTGTGTAAATTGGTGGTGGACATATTTAACTAACTTCCCCATAATATGAATTTGCAAATTTGTTCTTCGGGGAATGATTGGATACAACTCAACGTGATTTTCTCTCCTCTCTCCTTTTTCTAATTTTTGTTCAGACTAAAATGGCAAATGAATAACACATTATTTTTTCTGAACCATATCCATGACTCATTTGACTCACCCAATAACTATACAAGAAGCATTGAAATAGTATTGATTTCCTTATTCCCTAACTTTTCCTCCCCAGTATTTTTATATCCCAACAATGTATAAATATATACATTTCTCTATGGAGAGTAACACACTTAGACACACATGGAAGTATGGCTTCCATGAAGCCAAAGGATACTGAATTAATTTCCTAAAGTCACAAATAAAACTAGGGAAGAGCCAAGGATTCTCAGCTCAGACTTTTCTAATATTTAGTTCCCTACATTTTTTCAGCTATAGATATTGGACTAAATCTGATCTGGATTGGCTGAAAAATGTAATTTCCATGTAACTATATGATTGCAGCAGCAGCATTTTGAGATGTTTCTGGTCAGAGGAAGACACCAAGGGGCTAATATTTGTTGAACCTTTGAAATTCTGGCAGTTATTTTATATAATTCTTACAATAACATGTGAGATTACTGTTATGATGTTCCTTTCATAGGTGAGAAAACTGTGACACAGGTTAACTTGCCAGAGGTCATGTAGCCTTTGAATAGTAAGGATGGGATCAGACCCACACCATGCGCTGTGCCATTTGCCTATGACATTTAGGAGGCAATACCAGCAACTTTGTTGAGCGTGTTGGGATTGTAGGAGGGGTTAGACCAAGTTATCTGCCACACCCTTTTATGCCATGTCAGGTCTCCAGTGCTGCAAACTCAGCTTTGCATAATCTAATCTAAGCACTAGTGGAATTCAGGAAACTCACAAAGTGCTGGAGAGGTGCTCCTGCCAAACCATCATTCCATTATTGGGCCTTTCCAAGCTGGACCTATTAAAATTCCAAAGAAATTTTATTGCCGAATTGTTTCACTCAAAATGTTTGAATATCAAAGCCGCAAGACACATTTTCTTTCCAGAACGTATGCCTCAGCATAGTTTGTCTGTGTCTTCTACATAGTAAGTGCTCAGTAAATGTTGATGACTTAATGAACTTAATTTCCCTAAATTAGAAGGTAGGAAAATTAATATAGTACACGGTTAATCTATGGTAACCCTAATTGCTAAAGTCAGGAACCTTGTTTACTACTACACAAAAAGCCATTGTCAGAGCTGAGCATGCACTTCTGACTTTCAATTCCCTGGCTATGACCACTAATCCACAGCTCTTCCTTTTCTATTATTTCACAAAATAATTTATATGTACTAAAGGGCCAATGTGGACAACAACATGAATTAAGTAAAATGTCAGCTGTAAGCCTTGCATGGTTCTCTTTGGAGAAAGGCAGATTCATATGCAAGATCATTCTGGGTCAGATCTCACTAACACTCTGGCCATTCATGCATGTGTCACTGCCTCACCACCTGTACAGTTTCATTGCTGCATTGAGGGCAAAATGAACAGGCTTCTGTTTCATGGGTAAGCTCCCAGGAGAAAACTGCATATTGTTCATAATGCTATGCTTGTTCCAATAAAATTTATAAAAATATTTCTTTCTCACTTCCCATAGCTTTCTTGGATGCCTGTGAGTTACAATAAGAATGTTTTATATGTCAGGTCAGCATGTAAATCCGTCTGCAATCACTTCTTGGATGAAAACCAAGATTTAAGTGCTATTAAAATAAATATTTAAGTTTATTCATGAATTATGTAGTTTAACCTTTTTAGGATACAAAAACATTAAAATTATATTTTAATGAAAGGCTAAAGATATATGAAACAATTTAAAACAGCTATAGATCAGTAATTCTTCCTGATTTTGCAAAATTATCTTTCAAACTTTTATAAGTAGTGAATTTATTAATATATACACTGGTTAAATTTAGACTTATTTTTAATTGAGAAATTAAACTATACCACAATAGTTCGCATTTCCAATAACTAATAATTTTGTTCTAATTTAATATATTATCTTAGCAGCTCACATTTTGTTAATTCACTTAGAAACCAATTTATTTATGACCCACTGTTTACAAAACTGAATACTGGACACATGGGTACAAAGTTGATGTTGATCAACTCTGAAGGCAAAATATATCTCTCATTATTTACTTAATATCTTTATTTTATAATTTGAAATCTAAGAATATAAAAAATTCCTGTTTGTTATTTTTTAAAATTATACATACCTGTGTTTTAAATGAATACTTATGGATGTCAGAATCCTTTCGTATAACCTCTTGATATATATATTAGTCAAAAACAATGACAACAAAAATGCAAGAGAAAAATAAATAGAATAAAATAAAGTTCTTTACACCTTTCTTATAATTTGGGGTGGAATTTTCACTTTGTTACTCTGAAATCTTAGAGAATAGTCAAGCATCCAGAGTTATAATCAAATTGTTTAGGCAGGAACACAGCAAACGCTCAGATATGTGAGACTATCTGATTACAGAATTCTTCTTTTTGAGTTTGTATATCTAAGGCTAAAGCCAAGGTATACTCTGCATTTTTAAAAATATGTTTCTCTAGCAGGATGTGCTGGTGCACACCTGTACTCCCAACTACTCAGGAGGTGGAAGCAGGAAGATCACTTGAGCTCAGGCAGGGCAACATAGAAAGACTCAGTCTTGAAAATAAATATAGATTTCTCTATGGAGAGTAACACACTTAGGTATGTATTTTAGAAAGACTAATTGTTAGGCCGGGTACGGTGGCTCATGCCTGTAATCCCAGCACTTTGGGAGGCCGAGGCGGGCGGATCACGAGATCAGGATATCAAGACCATCCTGGCTAACACAGTGAAACCCCGTCTCTACTAAAAATACAAAAAAATTAGCTGGGCTTGGTGGTGGGTGCCTGTAGTCCCAGCTACTTGGGAGGCTGAGGTGGGAGAATGGCGTGAACCTGGGAGGTAGAGCTTGCAGTGAGCCGAGATCGTGCCACTGCACTCCAACCTGGGCGACAGAGCAAGACTCTGTCTCAAAAAAAAAAAAAAGACTAATTGTTTCAGAACATAGAATGAAGCTGACCCAGATGGAAAGCAAAGATAACGATGAAAAGATTCATGTGGTAATCTAGGCCAGAAAGGACATTGCCTTGGGCAAAAGAAGTGACCATTTGGTTAGCAATGAGAAGACAAATTTTAAAAGTAGTTGGGACTCATTCTATGCACAAAAATTAACTCAAAGTAGATCATAGGCCCCAGTGTAAGAGCTTAAACATCTACAACTCCAAAAACAAATGTAGTGAATCTTCATAACCTTGGGCTAGGCAAAGTCATCTTTGATAGGATAATAAAAACACAGGCAACAAAAGAAAAAGTAAATACATTAGATCATCAGTTTTTAAAAATGTGTGTTTTAAAGGCTACCATCAAGAAAGTAAAAAGACAACCCACAGAATGGAAGAAATATTTTCTAAACATATATATGTGACTTGTAGGTAGAATATATAAAGAACTCTTACAAATTAACAATAAAAATTCAAAAGACACAGTTTAAAAATGGTCAAAGGATCTGAATAGATATTTCACCAAAGAAAATATACAACAACCAATGCGTACCCGAAAACATGCAAGACATAGTTAACCATCAGAAAAATGCAAACCAAAACTATAATGAGTTACTATTTGATACCTACTAGGATGGGTATAATAAAATCAGACAACCACACGTGTATGTGAAGATGTGGGGAAATTGGAACACTCGTAGACTGCTGGAAAATGTGTAAAATGGTGCAGTTACTTTGGAAAACAGTCTGGCAATCTCTCAAAAGGTTAAAAATAGAGTGATAATGGTAACATGACCCAGCACTTCCTCGTTTAGGTATGTACTTAAGATAAATGTAAACATATGTCCACACCCAAACTGTGCAAGAATGTCTGGCATTATTCTTAATAGCCAAAATGTGAAAACAGTTCAAATTTCTATCAGCTGATAAATGGATAAATATCCACACAGTAGAATTGTGGTTTTTATTTTCTTTTTTTGAGATGGAGTTTCGCTCTTGTCTCCCAGGCTAGAGTGCAATGGCACGATCTCGGCTCACTGCAACCTCCATCTCCCAGGTTCAAGCGATTCTCCTGCCTCAGCCTCCCAAGCAGCTGGGATTACAGGTGCCTGCCACCACGCCTGGCTAATTTTTGTATTTTCATAGAGACAGGTTTCACTATGTTGGCTAGGCTGGTCTTGAACTCCTGACCTCAAGTAATCTGCCCACCTCGGCCTCCCAACGTGCTGGGATTACAAGCATGAGCCACTATGCCCAGCCCATACAGTAGAATATTATTCAGCAATAAAAAGTACCAAAGTACTGATACTCGCTAAAACGTGGATGGACTTTAAAAATATTATGCTAAGTGAAAGAAATCAATTACAAAAGACCATATATTGTATTATTCCATTTATATACAACTTTCAGAATAGAAACATTTAGAGACAGAAAGAACAGTGGTTGCCTGGTGCTGGACACTTTGGGGAGAAATAGAGAGGGACTGCTTTCACGTACGGTGTTCCTTTTTTGTAGTGATGAAAATGTTTGAAAGTTGATTGTGGTGATAGTGGCACAACTTGTGAATATATTTTAAGAAAGGACTTGCATAGTTTAAATGGGTGAATCATACAGTGTGTGAATTATATCTCAATAAAACTATTATGTTACAAAAAATAATTTGGGAAGTAAATGGTTGAATCTTGATTATTGTTTAGATGTGAAATAAGAATATGGGGTGGGAAGAAAGCAAGCCTTTTTTATTTGTCTGTGGGGTAATGGGGCAATAAGGAATACAGAAAAACATGAAGGTTCACAGAAATTGATGAGCTCAGTTTGGGACGTAGCAAATTTGAAGAGTTGGAGATGAATCCATATTGCTAAAACTCAAGAGCAATGCCTAGGGTGGAGATGATACATTCTGGAAGCAGGACCATAAAAGTGGTCATTGAAGTCAGTGATGTGGGTGAGAAAAGGCCCGGACAGAAGTCTGTGGAGCCCCAGCGTTGAGGGGCATTCTTAGGAGAAGAACCAGCTAAGGAGACACAAGATTTCTTGAAACAGAACATTTGAATAAGCTAACACATGTCACATTCATCTATAAGAAGTAGGACTTCAAGGAAGTTTTGTGCCATTAATATGCTTGGATAAACCAAGTTCTAATAATGGAAATAGAAGCCTTGTAATAGGAAACAATACTGTTTTTTCCCCCTTTCTTCAAGTGATGTCAATTTTTTGGAACTGTTGTTTCGGAATAAAAAGAGTCTTAGGCCAGGTGTGGTGGTTCACACCTGTAATCCCAGCACTTTAGAAGGCTGAAGCAGGTGGATCACCTGAGATCAGGAGTTTGAAACAAGCCTGACCAACATGGTGAAACCCCGTGCTACTAAAGATACAAAAAAATTAGCTGGGGGCCAGGTGCAGTGGCTCACGCCTGTAATCCCAGCACTTTGGGAGGCCGAGGTGGGCGGATCACAAGGTCAAGAGATCAAGACCATCCTGAACCCCGTCTCTACTAAAAATAAAAAACATTAGCTGGGCATGGTGGTACGCGCCTATAGTCCCAGCTACTTGGGAGGCTGAGGCAGGAGAATTGCTTGAACCAGGGAGGCAGAGACTGCAGTGAGCAGAGATTGCGCCATTGCACTCCAGCCTGGTGACAGAGCGAGACTCCGTCTCAAAAAAAAAAAAAATTAGCTGCGTGTGGTTGTGGGTGCTTGTAATCCCAGCTAGCTACGCAGGAGGCTGGGGCAGGAGAATCGCTTGAATCTGGGAAGCAGAGGTTGCAGTGAGCCGAGATTGCACCATTGCCCTCCAGCCTGGGCAACGAGTGTGAGAATGTCTCAAAAAAAAAAAAAAGAGTTTTAACAAGTAAGATTAACATAATTTCATCATCTAGTTTTCTTAATATTTAAATTTGACTCCTAACCAAACTTGTCATCACATACAAGTAAATACATATTATATATGCCACTAAATTATATATTCTGTCACTTTCCTATAAACTGTTTGAATGAAAGACATTTTAGTTTTCTCCCCACAGCCTTAGCATGCTGTAACTTTAATAAGTAATCTATGAATATAATTTTTTTGTTATTTAAGCTGTGATTTTCTACAAACAGGTTAATTTTCAAAGGGAGATCAGCTATTTTAAGATCTTCTTCTACTGGATAATTTAGATTGTTTCTATTATTACAGCTTTTTGTTCAGAGTAACTTCATTAATGCTTATAATATGCTGTTTGGAATGCCCTGTTTTTCAAGATGAACTCACTGGAACTATTGACTTGGCAGCCAGCTGCTTTTTAAAAGCTTTGCACCAATCATATAAGAGTAATCAACTTAAATATTTACGTAAAACCTTTCCAAAATTATTACTTACAGGTCTCAAACCAGAATAACAGAATTTGAAGAGCAATTGCAGAAACACTTTTTTCTCACATGCTCGTTGAAGACAAACAACAGAAAACACTAATATATTGATGCTGATCACTGAAAAGGTATTGCTTAGAATGTGTTAGAATCTATGTCTTAGGCATTGGTGTGTATTTCTGTTAACCTGTTTTCCAGAAGTGTTATTTTTGTTTCCAGATATTTTCTGATTTGCTCAGAGCTCCAAATGGTATCAACAAGTGGTTTTCTACAATGAGAATGAGGCATGCCAGTGTGATGGTCCGTAATCGATATTTGCCAGCAGATCATTATTTTAAAAATATTATCAGGAATTTACCTATAAGAGTATCTAAGAATGGGGGTTATTAATTAGAAATTGTAATTTAAATATCCCTTTCCCCTTTTTCTAAAGAATGCTCAACTGAATGATATTTGTGTGTCATTTTCATGAAATTTACAGAACCAACAATATTTATTGTTCCAAAATTCTGATCTGGAATATTGCTTGGAAACTTTACACTTTCCTCTTTTTCAACATTAAAGGTGGTCTTGGAAAGTATCAAAGACATACAATGGAGAGGAGTTATGAAGAGTGACTGTTAACATGAAAATATTGGCAAGAGATGGAACAAGACCTATTTCTTTTTGAGACAGGTTCTTGCTCTGTTGCCCAGGCTAGAATGCAGTGGCCTGATCAAGACTCACTGCAGCCATGACTTCCCCAGCTCAAGCTGTCCTTCTGCCTCAGCCTCCAGAGCAGCTGCAACTACAGGCACATGCCACCAAGCCCAGCTAATCTTTTTTGTTTTTAGTTGTGACAAGGTCTCGCTATGCTGTCCAGGGTCTCTAACTCCTGTCCTCAAGCAATCCTCCCACCTCAGCCTCACAAAGTGCTGGGTTTACAGGAGTGAGCCACCATGCCTGGCCTCCCGTTTTCTAACTAAAGTAACAGCGTGTTTTCATGGCACCTGAACCCCTTATCTCTGGGGAAACATTATCAAGATCTGGTGAGTGAGAGTTTCTTGAGACAAGTAAAATAATGCAAATAGTCCTTGTCCTCCTTCTACGGCAGAGTGCACAAGAGGGTGCTTACCCAGAAGAGGTAGACGCAGGGCTGTGGTACAGTCGGAGTATTCAGGGCTCCTGTGACCTTGGAAAGCTATTGGATCAGAGCAGATTTCAGGGAAAGGAATGAAGAGCAGTAGCTTTGATTTCACAATTGACTTCAGGAGGCAGAGATTAAAGGGATATTTGATGCTTTCGTGTTGTGTAGTCATAATCAGCAGACAAGTGGCAGACAGGTTACAGGTCACAGGTTCCTGTGCATCTGGCAGAGGCCATAGCAGTTGCTGTCCAGCATCAAACAAATGCTGTCCTGCTTTAGCAATGAGTTGGGAAGACGTTCCATTGAGTAAAATGAATCTGCACTTTAAATTCTACTGGATGTGGAAGGTAAAAAAGAGGGAAGATTCGGCTGAGCACAGTGGGTCACATCTGTAATCCCAGCATTTTGGGAGGCCAAGGGAGGCAGATCACGTGAGGTCAGGGGTTCAAGACCAGCCTGGTCAACAGGGTGAAAACCCTGTCTCTACTAAAAATACAAAAATTGGCCGGGCATGGTGGCACATGCCTGTAATGCCAACTACTTGGGAGGCTGAGGTAAGAGAATTGCTTGAACTCGGGGGGCAGAGGTTGCAGTGAGCCGAGATCATGCCTTTGCACTTCAGCCTGGGCAACAAGAGCAAAAATCTGTCTCAAAAAAAAGAAAAAACAAAAAAGGAAGATTCTAGGAATTTTTCTTAAACATCACAAGTCTCTTCCCATCAGGCAGATTTCTCCATCAGCAATTGTAACATATAACACCTGCATTTCCTGGGTTGGTATACTTCTATTTTCATATTTAAGATGATCACTTAATTTAGTATTTAAAGGTTTTGCATGCAGCATCAAGGACATTTTTTATCTGAAAATTAACTATTACAATTTACATAATGGATTATTTTCCTTTTCAAATATACCAGAAAGAAAAAAGGGAAATAAATATATTTCTTAATTATATTTAAATTCTATATTGTATGAATGGATTTGAACAATTATGTTTATGTAGAGTTTTGTAACATATACTCAATTCTGTTCATAGTCACTTTTAACGTCTTTTTACGATTTAAATGAGACAGTTTTGTTGAGAAGCCAGGGCAGTAATAGATCATTTAGATCTTTCCCTGTTCAGTGTATCCTTCACCACATCAAGCTAACGGAGGAATGGGCAAGCTGATTTTGACCTTTCAGAGCATGTGGAACTAAACAGAAAATGGCTTTGTCAGAATTCTCCTAGCACACAGGTATCCTGCTTCCCAGCATATTGGAGATGGTCTTTTTTTCCAGGCAGATGGGGTGACTGCTCCAGTTACGTTTGGCCAGGTAAACAGCTCTCTTCATAAGATATCAGGATAGTGACTTATTAGAAGGCAATGATTTGCAGTTGCCTATGATCTCTGAGTAAAACTAATTATTCTGCTTCTATTTTGTTGTTATTGTTTTGCGTTTGAGAATTAGTATTTTGACTACTATGTCATCCCTGTCATTTTCTCTGTCTTCAAGGTGAGCCTTCACAGACTAAAGTAAAAAGTTCTCAGCCTGTTTTTATGACGATGTTGGCTATTTGTTCTACATTGAAATAATTTTTATGACCAACTCTGAGAAAATAGGTAGCCAAATGAATCCTAGCCAAATGATTCTAGAATCTATGGAAACTGATGTCATCCACAAAATGTCAAGAGATCACGCCACTGCACTCCAGCCTGAGTGACAGAGCAAGACTCTGTCTCAAAGATTACGGGATTTGAATTTGAATTCAATGAATTCCATAGCAGTTTGGAAACATTCTCCAACAATAGCAATTCTTGGACATTTCTATAGCTAAAATATGAGAGAAACAGGGAAGTTATTCTCACCACAATTTTAGTTATTTTTCCAAATTCAGAAAACTACAAAATTTTCCAGACTAATTAACATGCTCCTGATTCAGGACAGAAAGCTGCTTAGAGATGTGATAACATCTTCATGGATTCAGAAATGAAGTGCCTACTATGTTCTGGGCTCTGAGAGCACCACAGGGTATCTGTCCTTAGGAAGTTTACAGAAGGACAAAAGCAAAATACTCAGAGTGATTTATTGTTGAGGGTTTTTTTTCTGTTTTTTGTTTTGTTTTGTTTTGTTTTGAGACAGAGTCTCTCTGTGTCACCCAGGCTGGAGTGCAGTGGTGCAATCTCAGTTCACTGCAACCTCTGCCTCCCAAGTTCAAGTGATTCTCCTGCCTCAGCCTCCCAAGTAGCTAGAATTACAGGCACGCCACCACACCCAGCTAAGTTTTGTATTTTTAGTAGAGATGGGGTTTTGCCATGTTGGCCAGGCTGGTCTTGAACTCCTGACCTCAGATGATCCACCTGTCTTGGCCTCCCAAAGTGCTGGGATTACAGGCATGAGCCACCACACATGGCCTATTGTTGAGGTTTCATAATAGAAATACATTTAAGAGACAGAGCAGAATAGAGTCTAACTGGACATAAAATTGGAATCAGGATACATTTCATAGGGGAGACCATGGATGAACTCCAAAGAGAGGAATGGGATTTGCTGATTGGACAGCAAAGTCAGTAGTATGGCTTGAACAGGAGTTGAGCATAGGGAGATCTGGGTTAACAAAGGGATTAACAATGAGTTTAAAAAAAGAGGCAGGGTCTGCACATCATTAAAATAGCCTTGGCATTTATCTGTAACCATCAGAAAATTAATGAAGGGTGTTAAATAGGAGACTAGCCTGAGTATTGTGGCTGTGGTCTACTGGGTAGATTTGTGGATGTTCTAGAGACTCATGATAGGGAGACTAGTTACCAGAGCTGGACAGAAATGGAAAGATCTAAACTAAAACAATATCACTGGGAGTGAGTGAGACAGGGAGGGAAATTATTAGGGTGGTCCTATGGCATGCTCTTAGACCAGGATTGTCCACAGCAAGTACAGGAATGGAGCGTTCAAGCAAGAGTCCTGTTCTCTTTCATTAACCACACAATATGGAGATTAACCTAGTTGCCATGGTTAAGCAAGGAACTTAACACTATAGCTACACAATAAAATATGTTTATGGTTTCTGTTTGTTTGTCTTTTAAAAATACAATCAGGTATCTGTGAAATAAATACAACTTTTCTGTGAAAGTCATTAATTATCATCATTATTATTTTAGACAATGATTGAATGCACCAGGACTTTACCTTAGAGTTTCCTAAAGAGGACCTTGCCAGGGCATTGACTATAGATTTATCATGCCATTGAAATTTTATATATTATACTCACTGATAAAGAGTTTATCCAACATTACCTTTAAAGCCTATGATTATTTATTATTTTTTTAAAAAAAGCATAATTTCAGACTAAGGCTATAATTCAAAGTCATGTTTCTCCCTGAGGAAAAAAAATGTATTTGCTTTAAGTGATATTCTCATATATAAGGAGATTTATGTAGGAGTCAGTAAATGTCTTTCAGCAATGCCCTGCTGTGATGGGCAGCCTCTGAGATGGCACCAAATAATCCTCACTTCCTGGTACTCGTGCTCTTGTGTAATTCCTCTTCTTAAATGTGTGGTGGACCTAGCGAATATGGCAAGAGTGCTAGGATGTCACTTTGGAGATTAGGTTATGAACACATTGTGATATCTGTCTGTCTTTCCCTCTCTTGCTTTCTCACTGGCTTATGAGAAAAGCCAGTTTCCATGTTTTGAGCCATCTTGTGCAGAGCAGAGTGACAAGGACCCCATGTGACAAGGACCGGAGCTCTCCAGCCAACAGTCAGTGAAGACCCGAGGCCATCAATGGTCACATGAGGAAGCTAGAAGTTGAGCATCCCCTAGTCCAGCCTTAAGATGATGAGAGACCTGGTTGACAATGTTGATTGCAGGCTCATGAGATTCAGAGGCACCTGGCTAACCTACACCTGGGCACCTGACCCACTAAACTGTAACATGAAGACTACTGTTGTGGGATAATTTGTTAGGGAACAGTACATATCTAATAAACCTATTATTGTCAGTAACTCATATTTTACTAAGTTACAGCAAATAAAGGGTTGTATAAATAGTGGATGCTGTAATCTTTGATCTTTAAGTAACAAAATATTATACCTTCATGATTATATTATTTTCTAACAGCTATTCTTTTCCAAGGAATGATAGAATGTTCTAATAGCTATCAATTACATCTATCACTTACCTTAAATGTCAAACCAACCAAACAAACAAACAAACAACAAACCAGTAATTCCTATCTCTGGGCAACATGGAAAATATTATTACATAAAAAATTTTAATCATACAGCATTTAAAAAATTAATTTCCTGTTTTGATACAATGTTCAACTATCTTTCCCACTTTACCACTTGCGATTTTACAATTTTACTGTAAAAAAAATCAGGAAATTATCAGCAAGTACTGTACTACACATTTGAATGGGATTTCTTCATTAGCAAATCAACACCCCAAGTATGGATATCCTTTTATTTTCAGGGATTGGTTGGGCCCCATAACTTTTATGTAAACAATAATAATTCTTTTTCAAGTGGATACTTCTCTGCAAAACTTGGTTTATGAATATTTGCAGAATTTTGCCAATAGTCATGCACTACATAATGACATTTAATATTTAGTCAGAGATGGACTGCATCACTATGGCAGTCTTGTAGGATTATAATGGAGTTTTTTTTTCTTTCTTTTTTTTTTTTTTTTTTGAGACAGAATCTCACTCTGTTGCCCAAGGAGTAGCTGGGATTATAGGCGCATGCCACCACACCTGCCTAATTTTTGTATTTTTAGTAGAGACAGGGTTTCACCATGTTGGCCAGGCTGGTCTTGAACTCAAGTGATCCGTCTGCCTCAGCCTCCCAAAGTGCCGGGATTATAGGCGTGAGCCACTGCATCCAGCCAGAGCTTTTATAATGTATTTTTACTGTACCTTTCCTATGTTTAGATACAGAAACACTTACCATTGTACTCCAACTGCCAACAGTATTCAGTACAGTAACATGCTGTACAGGCGTGTACCCTAGGAGCTATAGGCTATACCATATAGCCTAGATGTGTAGGAGGCTATACCATCTAGGTTTGTGTAAATGCATTCTAGGATATTTGCACAAGAACAAAAGCTCCTAACAACACATTTCTCAGAAGGTATCTGTTGTTAAGTGATGCATGGACTGTAGTTAAACTGACCAGTATTAAACATGCAGTGTTGTGCTCATAAACCGAGATAATGGCATGGCTGGAGGTCTGCACGTGCAGCATTCACAACAGTCATGTTTGCTGGCAGGATTAGAGAATAGCAAGTATGTTAACAAACAGTGGAGTCATTAACTTGGGAATGGTTGCAAAAGGCAGCAAAATCAGAGAAATAGTATAAATTGCTTTTTAAAATTCAGCATTCCCGAAAAGGGCAGTTTTGAAAACCATGAATAGCATATTTAGTATTGGGAAAAAATCCTTGGATAGTAGCCTTAACAAAATAAATAAAGGAAAATAAGCTGAAAAGTAGGGGAGAAAACACTTTTATTTATATTTGAAGGGGTATGCACTGTAATCAGTAATACAAGAGAATCAGTAATACAAGTAGTGAAGTAATGAACTATTAGGTTTACAGAATATGTTAAAACTGTGAGTATGGAGATCCAAGGAATGTAATTAATGGAAAGGTGATTCTTTTAGCTGAATGGCATTACTGACCCATTAATGGTGGGGAATCAAATTTACTGTGCTCTTCAGTGTTTGTTATAGAATTATTTTGAGTTGTAAATATTTCTCCAATTCCTGTGCCATAAAACACACATATATCTTAGATCAATCACTTGGGGCAGATGCATTTCTTATGGAACCATATTCTACATTGTATCAAATTTTCTATCAGAAAGAAGTTTATAAACTAATCAGTTTATGAACATTAAGGTCAGTGAAGTATATTAGACTTAGTATTGTGTTGACGGAAACCTAATAGTTCATTACTTCCAATACTCACTTCTACTTTTACCAATGAAGAGTCTATGATCAACTTTTACCTTCCTTAGCACCATATCCAAATTAGCTGAGATAAATGGATACAAGTGGATAATTAATACCTTCGTGTGTGTGTGTGTGTGTGTGTGTGTGTGTGTGTTAGGTTGAATTTCTTGGAAACACAAAGTTGCCTTTACAGGTTTTCCAGGAAGGGCTCTTTGGAGACGTGAAGATGGCAGGATGGGGCAGAGGAAGAAAGTGACCAACAACTTGGTTATAACTGAGGCCTCAGCTCACCCAGAGGAAACTTCAATGGTTCTTTGAAGTGAGCCCACATTGAAGCATAGGGAACTTCGCTAGCGCCTCTCAGCTCTCCCCACCCCACCTTATGTGGGACAGCATGGTTAGAGTTGGCTAAGGTTAGTTATTTCCTCTCAGAGATACTGGAATTGAGTATTTCCCTTCTCCTGTGTGGAAGGCTAAAGGAGTGGAAGCTAACTATTTCCTTTCTGTCATGTGGAAGCTCGAGCAGGCTGGAATTGGGCATTTACCTTCTCCAAGTTGATTAGGCGCTGATAAAATCCCAATAATTTAGACTTTGGTAAAATAGTTTACCTTAAGGGCAGGTCTTGATAATAACAAAATAAACCATGATTTATTTCATACTGATTTTTTTTTATCCTTTCCCTGGCAAAAGCATAAGGAAATTTTTATCTGATATTCATTGTGAGGCCCTGATAGTGCTCCTGGAAATAAAAGTTGCAAAAGTATGAAGGTCCTTCTTAGACTGGACACTTTTGGAGTTTTTAACTCTCAAACTTATTCACTCTGAGCCTCCAGCAATTTGCCAACTACAGCTTAGGGTTTCCTACCCCTGTACTAATTCCTGCAGTGGTTCCTGCTCATGGATTTCTGTCCCAGTAGATTATGATTCTCCGTGCTCATATACCTGTTTCTTCAATTTGAGAAGCAGAGATTGGTCCTGTGATCTCACTTCTCTGAAAGATCTAAAAAGAGTTGTTGATTTTTCATTGTGTTCAGTTTTTCACATGTTGTTAGGATGGGATGTCAACTACCAGGCTTATATACCACATAAGAACAATAATATCTTTTTTGAATGCCCATTATCTTTCCCCTAAGGACTGTAAGTTCACTGAGTTATCTCCATAGTTTCCTTAGGCCTGGCCTCCTCTGGCTGCAGCCCCTACCTTGCAATCTGCTATAGTTTGGTTATGCTCCCCAACATTTCTGTGTTGGAAATGTAATCCCCAATGCAGCAGTGTTGGAATGTAGGGCCTAATGGGAGGTGATTGGGTCATGGGTGCACTGCCCTTATAAATTGATTGATTCTATTATCATCAGAGTGGGTTTGTTATTTAGGGAGTGCTTTCCTTACAAGAAGATGAGTTCGGTCCCTTCTTGCTCCCTGTCTTTCAGGCTCTCTTTCACACTTTTAACTTCTGCCATGGGAAGATGCAGCAGGAAGGCCCTCTACAGATGCCAGTTCCTCAGTCTTGGACTTCCCAGACTCCAGAACCATAAGCCAATAAACCATAAGCCAATAAATTTATGTTTATTATAAATTACCTATTCTGTTGTATTCTGTTATAGCCACACAAAACAGACAAAGACACCATCCATTACCATTGATTTTGCCAAACTTTTTTTCTGACAGTTAAGTACCAATTCCTGGCATCTGTTATTTCATCCCCTTTGCTCTCAAGGTACACAACTCTTGATAATATTGCCTCCCAGCAGCCCTGGCCTCCAGTAGAAAACCACGACTGAACATTTCAGTGACACTTTTGTTTCTTTTACTGTCATATTTCTTATTGTTTTGGAGAATGGAGTTTCCTCTGGCCTTTCCCATGAAAATAGTTAACTGGTGGAATTTCCTGATTTGTTGTATTCTGACATACCCATTTTTTCTACCTTTTGATTGTTTTATTCATCATGTGTCATGGCATTTCTGATATTTCTTCTTCACTTTGTGTGGGCTGTCACTCTCTCCAATATTCCACATTCCATCTCACCAGTGTGTTGATAATGTCTCCTAGGTTCTTCCTGGGGCAATAAATCTTGTAAAATTGGAGAGTGCTCTATATTCATGAACTCTACCTTCTCCAGTTTTGTATTCTGTGCCATGTAATCCAGCATTGTCAGAATCCAAGGCTTTAAATGTAGATCTTGAGATGGGGGCAGGAATTGTCATGAAGGCATCTGCCTCATTTGAGACTTTTGCATGATGTATATCTAAGATGTGCTATGTTTGGCTTTGTTTTTTTTCTTTCCAGGGAGGTATATGCTTTGATAAAGGGAGGTAGATGATTTTGTCAGATCCAGTAGGTTTAAGGGAGTTCAAGATTTCGAGTTGTATATACCCAGGTATTTCAGTCTCAAGTCTCAGTATCTCAGCATTTCCCTATTTGGGCACTCACATTAGCATATGATACCTGGTCAGGCTTTCTCTGAAGCTTTATTACTCCTCAAATTAAATCCTGAGCCTGCTGTTCTGCCCTGTTTGCATTTTAGCTATACAAAACTCACATCAAGAACATCCTCTGACTTTCATATTTTGTCTGAATTAGTAATTAACCTCCCCAATCTGACATTATCTCTTTTAGCAAATCATTGGTACTTAGTAATAGCTACCAACCTCCCAAATCCTTATATGTATCATTTGCTTTTGGATATGTTTCAACAGACAGCACATCTCCTTTCACTAGGATTCTCCCTCAGAGAAGGTTTACATCAGTGAAAGTCTAAAGAGTTTCACTTCTGCATAATAGTAGTTATCCATGCACCATCTATTAAAAGTAAGGGCCTTTATTGTCCAGCAGCCAGGCCCAAAATTACATTTCAGAGTTTGCCACTTAGGACCACTTCTGGAATCAGGAATCTGAATCTGAGACAGAGAATTTGCTATAATGAACACTGTGTATGCTACCTGGATCCTTGCTTACAGACCAAGGCACTCGTTGCCCTAGTTGCCAAGAGTTTTGCCTGCTGATGGCTCAAAGGGAAGTCTTTTCCCAAGATTTTCCTTCTGCTGAAAAGAGCTGCCTCACCCAAATCTATGGGCCTTTGTCAGGTGCAGCCTACATTCTATGAGTGCTTTAGGTGAAGGTACAAGGGCCTAGATCCCTTGCCTTGATTCAGTGAGACTATACAAGGCCATCCCAGCTCTGAACTCCCTGGAATTAGATAAAGCTTTAATTGCAATTGCATCAGAGTTCAACATTTTCCTCCACCCTTATTTCCCTAAAGGTATTGTTACTGAGAACACTCACCAATAAAAACTTTTGCATACAAATCCCTGCTTCCCAGGATTACATGCCTAAGACAAGTGCAATAAATTTGTTAGAAAGTGCTCTGAAGAAATATAAGTGTAAGGAGTTGAGGAAGGCAGGATTGAGCAAAGGAAAAGGTTGACTTCTGGGGCAGCTTCAAATCTAACGTTAGGGATTCCTGTGGGGAACTTTGTAGCTATAGCTGGAACTGACCCTCAGAATTTTGTTAACTTGTAGTAAGGGGGCCATTGACACTGACTGGCCATTGTTGTCACTTAGGAAAGATCATGCTTGAGTGAAGCAGTTTGGAAGTTGAGAACACTTTCCAATGAGAGACACAACTGTGAGCATCAGGAACAAATATTTCTACAAGCTGAGGAATGAGTTCACTGACCTCAAAAGCAATTTTGGAAGAGTACCAGGTATTCACTATAGTGTACTGTTGTATACATTTCAATATTTCCATATTAGCTAATACAATATTAAAATGTATATAGATTACAAATAATCATAAGCAAAACTCAGTATGAGTCTTTCTGCCCTTAAGATCTATATGCATCATTATTCTAGCTAGCAGCCTATCAATCTTATTTATTCTTCAAAATACAAACCTCTGGTTTTGTCAATCTTCTGTCTAGTTTCTGGTGTCTCAATTTTATTCTGTTCAGCTCTAAATTGGTTATTTCTTTTCTTCCGCTAGCTTTGGAGTTGATTTGCTCTTGTTTTGCTAGTTCCTCTAAATGTGATGTTAGGGGGGCATGTGACCAGGCACTAGTGTGTGTGCACCATCTTCTGCCTCCTGTCCCCCTAAAAAATAAAAATTAAAAATTAAATGTGATGCTAGGTTGTTAACTGGAGATCTTTTTATCTTTTTGACCTGCATGTGTAGTACTATAAACTTTCCTTTTAAGGTGGCTTTAACTGTGTCCCAGGTACTCTGATATGTTGTACCTTTGTTTTCTTTAGTTTCAAGGAATTCTTGGTTTCTGCCTTAATTTCATTCATTGTTTACACAGAAGTTATTCAGAAGCACATTGTTTAATTTCCACTTAATTTTATGGTTTTGAGTAAACTTCTTAGTATTGATTTTTATTTTTGTTGTGCTATGGTCTCAGAGTGTAGTTGTTATGATATGGCTTTCTTAAATTTGCTGAGAATTGTTTTATGGCCAATTGTGTAGTCAATTCTAGAGTATGCGCCACATGCAGAAGAGAAGAAACTATTTGGCCAAGTGTTTAATCCAGGTCCCAAATATCTTTGTTAGTGTTCTGCCTTGATGATCTGCCTAATACTTGGCACTTTTGTCTAACACAGTGACATGCTGAAGTCTCTCACTATTATTGTGTGGTTATCTAAGACTCTTTGTAGGTCTCTAAGAACTTGTTTTATGAATCTGGGTGCTCCTGTGTTGGGTGCATATATATGTATTTTCATATATATATATATGTTTTTTTAAATGTTGTGAGTACATAGTAGGCATATGTATTGATGGGATACATGAGTTATTTTGGTACAGGCATGAAATGCATAATAATCACATCATGGAAAATTGGAGATCCAAACCCTCAAGCATTTATCCTTTGTATTACAAACAATCCAGTTATATCTCTTAGTTATTTTTAAATGTATGATTAAATTATTATTGACTAAAGTCTCCCTTTTATGCTATCAAGTATTAGGTCTTATTCATTCTTTCTATTTTTTTGTACCCATTAACAATCCCACCTTGCTGTCACCCTGTTCCCCACCCTTCCCAACCTCTGGTAACCATCCTTCTACTCTCTATCTCCATGAATTCAATCGTTTTAATTTTTAGCTCCCACAAATAAGCGAGAACATGTGAAGTCTGTCTTTCTGTGTCTGGCTTATTTCACTTAACATAATTACCTACAGTTTCATCCATCCATGTTGTTGCAAATGACAGAATCTCATAATTTTTTATGGCTAAGTAGTACTCCATTGTGTATACATACCACATTTTCTTTATCCATTCATCTGTTCATGGACACTTGGGTTGCTTCCAAATCTTGACTATTGTGAATAATGCTGCAACAAACATGGGAGTGCAGTTATCATTTTGATATACTGATTTATTTTCTTTGGGATATATACCTAGGAGTGCAATGGCTGAATCATAAAGTACCTCTATTTTCAGATTTTTGATAAACCTCCAAATTGTTCTCCAAAGTGTTTGTACTAATTTACATTACCCTCAACAATGTACAAGGGTTACCTTTTCTCCCTGTCCTTGCCAGCATTTACTATTGCCTGACTTTTGGATAAACGCCATCTTAATTGTGATGAGGTGATATCTCAATGTAGTTTTCATTTGCATTTCTCTGATGATCAATGATGGTGAGCACTTTTTCATAGGCCTGTTTGTCATTTGTATATCTTCTTTTGAGAAATGTCTGTTCAAACTTTTTTCCCCATTTTTAAATCAGATTATTAGATATTTTCCATTAATTTACTCCTCCTGTCTAATTGCTCCAGCTAGACATTCAGTACTATGTTAAATAACAATGGTGGAAGTGGACATCTTTGTTGTGCTCCAGATCTAAGAGGAAAGATTTTAGTTTTTCCCCATTCAGTATGATATTACCTGTGGGTCTGTCATATATTGCTTTTACCATGTTAAGGTATGTTCCTTCTACACCCAGTTTTGGGGATAATTGAGTATTCTTATTGAATTGAACCCTTTACCATACATAATGCTGTTCTTTATCTTTTTTGATTGTTGTTGGTTTAAAGTCTGTTTTGTCTGAAATTAGAATAGCAACTCCTGCTTTTATTTGTTTTCCATTTGCTTGGTAGACTTGTCTTTATCCTTTACTTTGAGCCAATAAGTGTAATTGCATGTGAGATGGGTCTCTTGAAGACAGCACACATTTTGCTCTTGCTTCTTTATCCAGCTTGCCATTCTATGCCTTTTAATTGGTGCATTTAGCTTATTTACATTCAAGGTTAATATTGATATGTATGGATTTGATCCTGTCATCTTGTTGTTAGCTGGTTATTAAGCAGACTTTATTGTGTAGCTCCTTTACAGTGTTTACAGCTTTCATAGAAGCATTTTCATAGAAGTGTGGAGATAAATCATATTATGGCTAGGGGCCATGAATGGTAGGAGCAGTCATAAGAATTCTTGCAAAATGTGATGAGTGTATGCAAGTTAAATGAGCCACTTATCAGTAGGACTGATAACAGGATAATGGCTAGGGTGACCTCATATGAAATTGTCTGGGCCATAGCTCATAATGCATGGATTAGTGCATATTTTGAATTAGATGCTCATCCTGATCATAGAATAGAGTAGATGGTTAAGCTTGATGTGGCTAGTATAAATAGAAGACCTATATTAAAATTAATTAGATGATCTGGCATAGGGAGGGGAGTTCATAAGAGGAGAGCAATAGAAAGGGCTATGGTTGGAGCAATAATATAAAAGGTAATAGTAGATGTTGGAGGCTGTAAGGGTTCTTTGTTGAAAAGTTTTATTGCATCAGCAAAAGGTTGAAGCAGCCCATAGGGACCTACAATGTTGGGTCCCTTGCATAGTTGTTTATAGCCTAAGATTTCTCATTCCATGAGCATAAGGAATGCTATAGTGATAAGAGTGGGGATAATGAGTAGGAGAAGGTTAATTATAGGCATGTAGTTAAGAAGAGGAGTTCAACTCTGATTACAAAGTTTTAAGATTTATGCAATTGCTGGGCTCTGCCATCTTAACAAACCCTGTTCTTGGGTAGGGTGGTGATGATTTTTTAGATTGAGATAGCATCCTCTATGAAGTGAGGGCACTTTATGAAAGGGACTCTATTTCTCTTGTCCTTTCATACTTGGAGAAATGTTAAATAGATAGAAACCAACCTGGATTACTCCAGTCTGAACTCAGATCACATTAATTGACTTTAATCATTGAATAAATGAATCCTTAACAGTGGTTACACCATTAGGATGTCCTGATCTAACATCAAGGTCATAAACCCTATTGTCAATATGAACTGTAGAATGGATTGTGCTGTTATCCCTAGGGTACCTTACTCTGTTGATCAAATTATTGGGTCCATATGTATTAACTCACTTAGACTAGTGCAGTCTTAGTGTAGGTTGTTCAGAGGTTGAATTATGCTCCAAGGTCACCCCAACCAAAATTTTTAATGCAAGAATAGTAGGCTAGAGCCTGTAGGCTTGTTTGAGTTTTAATTTGCATTAATGAATTAAAGCTCCATAGGGAGCTTCTCATCTTATTTGTTTATATCTGCCTCTTCACGGATAGGTCAATTTCCCTGATTAAAAGTAAGAGGCAGCCGAACCCTCCTGTGGCCATTCATACAAGTCCCTATTTAGGGAACAAGTGATTATGCTACTTTTGCATGGTCAGGATACTGTGGCTGTTGAACAAATGTCACTGGGCAGGCAGTGCCTCAAATACTGGTAATGCTAGAGGTGTGTTTTTGGTAAACAGGCAGAGTATGATTTGCCGAGTTCCTTTTACTTTTTGTAATCTTTCCTTAGAGCATACCTGTGTTGGGTTAACAGTGTAAATAATAGGGTGTTTATTATATTGTTTATTAATATTAGGCTGTTAACTGTCAGTGGATTATTCTGGTCTGATGTAAGCTTATGCAATGGAGAATGTCTTCATGTTACTTATACTAACATTATTGTGTCTATTAAGTAATAGATTAGTCCAGTGTGATGTTAGGAGTTCAGTAGAGTGATTAGAATTTAAGATAGATGTTGAACTTAAACATGTTCTTAATTGGTGGCTGCTTTTGGGCCAACTGTGGTGGTAATATTTTTTATTTTCTGTAGGAAGGTTGTTTCCTAGGGTCTAAAGAGCTGTCCCTCTTTAGACTAACAGTTAAACTTACAGGGAGGTTAAGTAATTCTGTGTATAAGCTTAAAGTTGAACTAGGAGTCTATCTTGGACAACCAGCTATCACCAGGCTCCATAGCCTTGTCACTTCTACTCATGAATCTTCCCACTATCTTGCCACATAGGTGAGTGTGCTCTTTCAGCTGTTCTTGGGTAGCTTGGCTGGTTTTGGGGGACTTGGCTATAGTTCTCTGTGTAAAGTTATTTCTGGTTAATACATTATGCAGAAGGCATAAGGGCTTGTCTTTGCTTTTCAGTGCTTGATACAGTTCTTTCATCTTTCCCTTACTGTACTAAGTCTATTGTGCCAGGCTAAAAATTTCTATCACCTATACCTTTATTTAAGGTAAATGGTTTGATTAAGATAGTTTGATAATATTTTCATAGAAGTGTGTAGTTAAGTTTCATAGAATGTCTATGTAGTTAAGTGTTTTTGTGGTGGCCAGTAACAGTCTTTTGTTTTCATATTGAGCACTCCCTTTAAGATCTCTTATTGCTCTACCGTAAAGATATATCCATGTGTATGTTCATCACAGTACTATTCACAACAGCAAAGACATGGAATCAACCTAAATGCCCATCAAGGGTAGACTGGATTAAGAAAATTTGGTCATATACACCATGAAATACTATGTGCCCATAAAAAAGTATGAGATCATGCTTCTTGCAGCAGCAGCATGCATGGAGCTGGAGGCCATTATCCCAAGTCAACAGAAAACCAAATAATGCATGTTCTCACTTATAATTGGAAGCTAAACATTGAATACACATGAACACAAATAAAGAAACAATAGATATTGGGGCCTACTTGAGGGTAAAGGGTGGAGAAGAGAAGGGATCTAAAAACTGTCGGGTACTATGCTTATTACTTGAGTGACAAAATAATCAGTACACCAAACCCCAGTGACATGCAATTTACCTAGATTTCAAACCTGAACATGTACCCCCTGAAACTAAAACAAATTAAAAATCAAAAATCCGTAAGCATAAGCAAGTATCCATTGCAATACTTTAGAGAAATCTAATAATTTATTGGGGAAGCAGGGTATCTTCTCTTAACTATAGCTCTGTCCTGATTTATGAGCAATTGCACCATATCATATGTGATGGTTAATTTTATGTGTCAATTTGGCTAGGCTATAGTACCAATATATTTGGCCAAACACCACCAGTCTAGATATTGCCGTGAAGATATTTTTTAGATACAGTAAACAGTTAAATCAGCAGACTTGGAGTAAAGAAGATTACCTTCCATAATGTGGTGGGCATCATCCAATCAGTTGAAGACTGTAAAAGAAAAAGACTGAGGTCCCCAGAGGAAGAGGAAATTCTGCCTCCAGACTCAAGATGCAACATCAGCTCTTTCCTAGGTCTTTAGCCTGCTAATTTGCCCTGAAGATCTCAGACTTAGACTTGCTAACCTTTTGCACTGAGTCACAGCACATGAGCCAATTCATTAAAGTAAATATTAAAGTAAATCTCTCTAGGTAGGTAGGTAGGTAGATAGATAGAACACACACACTCACTCACACACACATACACATACTTACATGTGTGTGTGTGTGTATATGTATATATACACACACATATATGAGTTTTTTTGGTATTTATGTTGCTTAAGGATCTTATGCTTCTTAAATATGTGACTTAATATGTTTTACCAGTTTCAAAAAATTACCTCTTCACATATTTCTTTTAGCCATAAAACATCTTTTAAAGGGCTAAAGGAAATTAAATTTTAAACACACTTGCACCCCAAACGCATACAGAAATACTAGTAACAAACTATAGAAATGATCCCTGAAAGTATAATCTTGAAATACTAAGAGTTCTTCAGAGTCATATGTCTAGGTGGAGGGAAGGGAAGGAAAAATCAAAAGTACTAAATCTAAAAGAAGGTCATGAAAGAGAGCAAAAGGAACACAAAAGGTAGTCAATAGAAAACCATAGTAAAGAGTTCATTTAAATCCACTGTAGAAAACAAAATGATGGAAAAAGATGTATCAGGCAAAAGCTAACTTAAAAGAAACCTTGGATGGCTATACTAATATGGTACAAAGTATACCTGAAAGAATAAACATTAGTATTGACAAAAAGGACTTTTATGAGTCTAAAATAATCAACTAAAAGATGTATAATTCTACATTTGCATGCTCCTAATAATATAGTCACAAAATATGTAAACTCAGAACTTTCAGAAATAAAAAGAGAGGCAAATCTGCAGTCATAGTTGGTGATTTTCACACACTTCACTCAGTAACTGATAAAATATTTTGGTGTGGATAGAACTTGCATATGGTGTTGGTTAGAGAGTAAATTGGAACACTCACTTTAAAAGACTCTGACATTATTCATTGAAGTTGAATATACACATAGCCTATGGCCAGAGATTTTCCTCCCAGGGTATTGCCAATAGAATATCAAGAAATATGTACAAATGTTTACAGAGGCTATAGTTGTAAAAGGCAGACTGTAAATAACTGAAATGATCATCTATTGTAGAACTAGGAAATTTATTTGGATTTCATAATGATGATGGATTATCATCAGCAGGAAGAAAGAATGAACTAATATTATGTGCAATAATCTAAATGAATCTTACAAACATAATGACAGGTGAAATAAGTCAATTACAAATAATTCAAACCATAACATTCTATGAATAGAAAATTCAAAAAAATTCAACATAGTCTTATAAGTCAACGTGCCAGCTATATTTGGAAAGAGGCAATAGTCAGTGGAAGAGAACACAAGGGAAGTTCCTGAGACTTAAATAAAGTTCTATTTTCCTGAGACATGGATAGTGGCTTAATGGGTAATTTATTTTTGTGATAATTCAGTAAGCTTCTACTCATGAATATTCCCACTTAAGAGTGGAACACTTTATTTTATCCAAAATCTATTTTCAAGTTAAAGCATGCAATAGCATTGTGCAAAAACCGATTTACCTGATGAATTTAATCCTGTTCTATTGAATCATCACTTTCAAGTTCTACTCCTGAAGACAGGCTTGGTGTACCCTTTCAGGGCATTCAGCAATATTCTCTAGTGAAGTCAAACTGAAGACACACTAGCAAAGCATCTTAGAAATCCCGCAGAAATACAAACTACCATCAGAGAATACTACAAACACCTCTATGTAAATAAACTAGAAAATCTAGGAGAAATGGATAAATTCCTCAACACATACACTCTCCCAAGACTAAACCAGGAAGAAGTTGAATCTCTGAATAGACCAATAACAGGAGCTGAAAATGTGGCAATAATCAATAGCTTACCAACGAAAAAGAGTCCAGGACCAGATGGATTCACAGCCAAATTCTACCAGAGGTACAAGGAGGAACTGGTACCATTCCTTCTGAAACTATTCCAATCAATAAAAAAAGAGGGAATCCTCCCTAACTCATTTTTTGAGGCCAGCATCATCCTGATACCAAAGCCTGGCAGAGACACAACAAAAAAAGAGCATTTTAGACCAATATCCTTGATGAACAATGATGCAAAAATCCTCAATAAAATACTGGCAAACCAAATCCAGCAGCACATCAAAAAGCTTATCCACCATGATCAAGTGGGCTTCATCCCTGGGATGCAAGGCTGGTTCAATATATGCAAATCAATAAATGTAATCCAGCATATAAACAGAACCAAAGAGAAAAACCACATGATTATCTCAATAGATGCAGAAAAGGCCTTTGACAAAATTCAACAACCCTTCATGCTAAAAACTCTCAATAAATTAGGTATTGATGGGACGTATCTCAAAATAATAAGAGCTATCTATGACAAACCCACAGCCAATATCATACTGAATGGGCAAAAACTGGAAGCATTCCCTTTGAAAACTGGCACAAGACAGGGATGCCCTCTCTCACCACTCCTATTCAACATAGTGTTGGAAGTTCTGGACAGGGCAATTAGGCAGGAGAAGGAAATAAAGGGCATTCAATTAGGAAAAGAGGAAGTCGAATTGTCCCTGTTTGCAGATGACATGATCGTATATCTAGAAAACCCCATTGTCTCAGCCCAAAATCTCCTTAAGCTGATAAACAACTTCAGCAAAGTCTCAGGATACAAAATCAATGTACAAAAATCACAAGCATTCTTATACACCAACAACAGACAAACAGAGAGCCAAATCATGAGTGATCTCGCATTCACAATTGCTTCAAAGAGAATAAAATACCTAGGAATCCAACTTACAAGGGATGTGAAGGACCTCTTCAAGGAGAACTACAAACCACTGCTCAAGGAAATAAAAGAGGATACAAACAAATGGAAGAACATTCCATGCTCATGGGTAGGAAGAATCAATATCGTGAAAATGGCCATACTGCCCAAGGTAATTTACAGATTCAATGCCATCCCCATCAAGCTAACCAATGACTTTCTTCACAGAATTGGAAAAAACTACTTTAAAGTTCATACGGAACCAAAAAAGAGCCTGCGTCGCCAAGTCAATCCTAAGCCAAAAGAACAAAGCTGGAAGCATCACACTACCTGACTTCAAACTATACTACAAGGCTACAGTAACCAAAACAGCATGGTGCTGGTACCAAAACAGAGATATAGATCAACGGAACAGAACAGAGCCTCAGAAATAATGCCACATATCTACAACTATCTGATCTTTGACAAACCTGACAAAAACAAGCAATGGGGAAAGGATTCCCTATTTAATAAATGGTGCTGGGAAAACTGGCTAGCCATATGGAGAAAGCTGAAACTGGATCCCTTCCTTACACCTTATACAAAAATCAATTCAAGATGGATTAAAGACTTAAACGTTAGACCTAAAACCATAAAAACCCTAGAAGAAAACCTAGGCATTACCATTCAGGACATAGGCATGGGCAAGGACTTCATGTCTGAAACACCAAAAGCAATGGCAACAAAAGACAAAATTGACAAATGGGATCTAATTAAACAAAGGAGCTTCTGCACAGCAAAAGAAACTACCATCAGAATGAACAGGCAACCTACAAAATGGGAGAAAATTTTCGCAACCTACTCATCTGACAAAGGGCTAATATCCAGAATCTACAAAGAACTCAAACAAATTTACAAGAAAAAACAAACAACCCCATCAAAAAGTGGGCGAAGGACATTAACAGACACTTCTCAAAAGAAGACATTTATGCAGCCAACAGACACATGAAAAAATGCTCACCATCACTGGCCATCAGAGAAATGCAAATCAAAACCACAATGAGATACCATCTCACACCAGTTAAAATGGCAATCATTAAAAAGTCAGGAAACAACAGGTGCTGGAGAGGATGTGGAGAAATAGGAACACTTTTACGCTGTTGGTAGGACTGTAAACTAGTTCAACCATTGTGGAAGTCAATGTGGCGATTCCTCAGGGATCTAGAACTAGAAATACCATTTGGCCCAGCCATCCCATTACTGAGTATAAACCCAAAGGACTATAAATCATGCTGCTCTAAAGACACATGCACACGTATGTTTATTGCGGCACTATTCACAATAGCAAAGACTTGGAACCAACCCAAATGTCCAACAATGATAGACTGGATTAAGAAAATGTGGCACATATACACCGTGGAATACCATGCAGCCATAAAAAATGAAGAGTTCATGTCCTTTGTAGGGACATGGATGAAATTGGAAATCACTATTCTCAGTAAACTATCGCAAGGACAAAAAACCAAACACTGCATGTTCTCACTCATAGGTGGGAATTGAACAATGAGAACACATGGACACAGGAAGGGGAACATCACACTCTGGGGACTGTTGTGGGGTGGGGGGAGGGGGGAGGGATAACATTAGGAGATATACCTAATGCTAAATGACGAGTTAATGGGTGCAGTACACCAGCATGGCACATGTATACATATGTAACTAACCTGCACATTGTGCACATGTACCCTAAAACTTAAAATATAATAATAATAAAATAAAAAAAAAGAATTCAGAAGTGCCCTAAAATATTTAAATTGCAGGAACTATGTGTTTCGAAGTGTTTATCTGTGAGAAACTTTTCAAAACACAGCAAAAAGTGTACTAGTAAACTTGTTCTTCTATGTTGGCTTGGGAAATTATATCACTAAAGATGTATTAATGTTGCTAAATTTCACTGCATGAAATGTTAAATGTTCCGCATTGGATTTGTGGTACCAGAGTTTTAAAATGCTGTTTTTTTAAAAAAAAAAAAAGAAAAAAGAAAAAAAAACTATGTGAGTACTGTGTGTTATATTAGCAATCGACTTTTTCCAGAAGAGTAAAGGAGTGATTCAACCTATTAGTTATAAAAAGGATATTACATATGATAGGACTGAGGATAGCAAAGTGTACATGTCTGGAGTAGAGAGTAAGGGGTACTTTTACATGTTAAATATAGACACACATGGAGGCACTCATAACCTGCACACACAGCCTGAACTCTGACACAATATGTCTGTGCTTTTCCAATTGTCAATCTCAATCTTTTAGTGATCCATGACATCAATGCATAGGTTGGGACCAGAATTTTTTAATGAAATAAAGTAGAACAAATTAGAATGAAATGAAATGGAGTAGAGTGGAGTAGAGTGCAGTGGAATGGATGGAATAAGAGGAGATGAGATGAAATAGAATAGAATTGAATAGAATTCAGTATCAGTTTTGTTTCTGTTTTCATACCTGTGCTTATAAGTACATATTGTAAAATGCATCTTTTACTTTGGGCCAAAATGGTGGAAGCCATTGAGCTACACTACTGTACTTTATACAGAAGTCAAGTAACATTTTAAGGGGTTAATCATTTTTCTGTACCTGAGTGTTGAAGTTGGTTTTGATAGTGATTGATGGGAGAGGAAGAAACCTGAAGATACCAGTGATTACTACACATCTTGAGTTCTGTCTTTCACAGTTTGCCTGAATGGAAGTGATGGTGCTGGCACAAAACCAATTCTTTGCCTGAATGTTTGTGTTCCCCCAAAATTTGTATGTTAAAACCTAAACACCAAGGTGATGATGTTAGAAGTTGGGGGTCTTTGGGGATTGATTAGGTCATGAGAACGCCATCCTTGTGAATGGGATTAATGACATTGTGAAGGAGGCCCCAGAAGAAGCCTTGCCTCTTCCACCATGTGAGGACACATGGAAGGCACCAAATCTGCTGGTGTCTTGATCTTGGATTTCCCAGCCCCCAAAACCGTTCTAGTATTTATAAATTACCTAGTCTAAGGTATTTTTTTACCGCAGCCTGAATAAAGACAATTCATTATCCTCTTTCATCAGACTGGCACTGAATGTGCTTGCCTATGCTACAGCTACTGGAGATTTTGCTGTTTGCTTTGTGTTACTATTTGGTCTTACAGTTATGAAATGGGTAGAAATTATTCTCCCACATCCTTGCATCCCTCTGCTTTTTTCCTCTCCCTTCCCTTTGTTGCATTTGGTTCAGAGAATGTGTGTCCTTATGGTAACACTTCATCCTGGCTTCCCAGACTCCTCACTTCAGGGATCTATAAGGTGATTCTTTTTTTTCTCCTGTTTCTTTGAAACTTACCTGATCTCCATCTCATGACTCTGTGGCCTTACAGATGATCACCCAAGTTATTTTTCAGACACTGATTCAGACTGAAATAGTACTCAATGTGTATGTGGCACCTTCTAGGAGGTATTTTTATTTCTAATGGAAGCAGAGTATTAATGAAAAGGAATGAAAATAGCATAGGAGGCATATTTGGCTATAGTGGAAGCGGATTGCGGAAATTTAGAAAGTTTCTTTCTTATAAGGAAACCAAGAGAAACTCTGCCTAAACATACAACTGGTCTTCATTAAAGCTCCAGACACTCTTTTAGTCTGTTTCAAGCATGACAAAAATTAAGCCATTACTATATTTAAAAAATTATTTAAACAATTTGTTACTGAAGGCAAATTTAGAAATAGAACCAAGAAACTTTATTTATTTTGTCAACACTCTACTGAGCAATTATAACTTGAAAACTTACATTATTATTTATCCCTACTCTTTCTTTGCTATTTTGGCCCAAAATGTGCTGAGTTTTTCTGATTTGCACCCAGAATGTTTTGTTCCTTGCTTTGATCCCTCCTTTCTTTTCCTGTAGCAACTGTATTCATTTTATCTAGATGGAATATTTCAAGAGCCTCACAGTTTCTTCTCTTCCTCTTATTCATTCACGTTTTCATTTGTATTATACCTTCAAAACCATAGTTCTGATCATTTCACTCACTTGTGCAAAATCATATGTGTGCCTCAATTACCTATAGAATAAAATCCAATATTCTTCCCTTTGCTTCAAATTCCTCAACCATCTGGCTTCATCATTCCTTTTACTCATTAGCTAAAAGAAATTAATTGCTACTCATTGAATAGCCCACATACTTCTGTAATTATACTTTTGGTTACTCTTGTGCATACATCTTACTGGAATTTCCTTCCTACAGTGTCTGTGGTCCAGAATCCCTTATAATTTTCAAGGACCAGAAGAAATACCACCTTCTCTAAGACACCCACAATACCTGCTTCACAGAATGAACATAATCTCTTTTCTCCCCTCATAACTATCCTAGCACTTTGTGTGTTAAATTCTTGACCACTTTTTTCTTGTTTAATATTTTTACTTGAGAAAAACTTTATATATAGTAAAATGAACAATTCTCAATAATATAGTTTAATGTGTGCTAAGAAATGCTTACACCTGAAATAGAGATACAGAGTATGTACATTATCTCAGAAAATTCCCTACGGCCCTTGGATAGTCAATCCCCACTACTGCTCCTTGCCAAATGCAACTAGTGTTCTGACGTCTTTGACTACAGATTATTTTTGCTATTTCTACAATTTCATATAAAAAGAATCATTCAGTGTCTTCTTTTTTTTTTTTTTTTTTTTGAGATGAAGTCTTGCTCTTGTCCCCCAGGCTGGAGTGCAATGGCGCGATCTCGGCTCACTGCAACCTTCACCTCCCAGGTTCAAGTGATTATCCTGCCTCAGCCTCCCAAGTAGCTGGGATTACAGGTGCACACCAGCACACCCAGCTAATTTTTGTATTTAAGTAGAGACGGGGTTTCACCATGTTGGCCAAACTGGTCTCAAACTCCTGACCTCAGGTGATCCACCTGCCTCAGCCTCCCAAAGTGCTGGGATTACAGGCGTGAGCCACTGCATTGTAGTTTCTTTCACTTAAACTGTATTTGAGAGTCAGTCACGTTTTATCAGTAATCACTCATTTACTATTTTTAATGCTTAGTTGTATTCCACTGGATGAGTACAACACAATTTGTTCATTCATGGATGAAAATTTATTATTGTCCGTTTTTTGGCTATTATGAGAAAGTCACTATGAACAATCTTTTTATGAACATACATTTTCATTTCTCATGGATAAATAATGCCAACTGTATTCTCATGGATGAACCTGCCAGATTATTTGCCAAAATGGTTAAAACCTTTTATACTCCAGTGAGTAATGTATGAGAGCTCCAGTTGTCTACCTCTTCAATAGTTGATGTCAGTCCTTTTAACTTTAACTGTCTGGTGGGAAGGTAAGTTAGCACAGTTATAATTTTCATTTCCCTGATGACAAAAGCTGTTGAGCTCTTTTCATGCACAAATTGATAATTTATATTCTTTAGTAAAGTGTCTGTTTAAAACTTTGATCTAATTTTTAAACTTTGTTGTTTGCCCTTGTATTATTGAATTATGGGAGTTCTTTATATATTCCAGGTACAAATTATTTGTTATATGTATTTATTGTAAATGCTTTCTTCCAATTTGAGGGCTGACTATACCTGTTCTAAGTAGTGTTTTTTGATAAGTACAAGTTTCAATCTAGATTATGACCAATTTATCAAGCCCACATTTGGGACTCTCATTATCTAAAATAATGTCCAGGTGCAGATGAGGCCTTGCAGGTGAGTTTCTGCAAATACAGTTTCTCCAGTCAGAAGATCTATGAGCTAAAGATATCACCTGCTTCCCAGGCACCCAATGTGCAAGGGTAAGATCAGCAGAGCAAAACCACTGTAGATGTCCTATTTGAAGAAGAGGGAAACACGAGGCACTTCACACTCATTAGTCTATAGCAATTCTGAAATGCATGTGGGCACATGCTGCCAGTTCCTTGGCTATAACTTAGTTAGAAAAAGTCACTATTGCTCTCAGATTCACCCTCTGGATTCTTGGTCCCTCCCTGTGTGTCATCCAGCTGGTGTTTATGGCTAAGTACTTTCCTCAGGATCCCATATACATCTTGTGTTTTTTTTTGTTGTTGTTGGTTGTGTGTGTGTGTGTGTGTGTGTGTGTGTGTGTGTGTGTCCTGTGATCTCTTCTTTGCCCTCTGGGTTGCTTAAAAATGTGATTTTTGATTTTCATATATTTGGGGGATTCTACAAATATCTTTCTGCTTTTAATTTCTACTTTACTTCTGTTATGTTTGGAAAATACACTCTGTGTCATGTCAGTAGTCTTAAATTAATGAACTTATCTTATGTATCATTATATGGTGCATCTTTTTAAATATTCCATGTGTACCTGAAGAGTGTGTGTATTCTGCTGCTGGTTGATGAACTGTTGTATAAATATAAATTAGGTCAGGTGTACTGAGAGTGTTGATCAGACCTTTTATGTTCTTACTATTTTTTATTTTACTTTTGGTTTACTGTTTCTATTAATAATTGAAAGAGAAGAGTTAATATCTCCAATTATAATTGCAGATTTTTCTATCTCTCCTTTAATTATGTCAGTTTTTGTTTTATATATCTTGAATTTCTTTTATAAGGTGGATATATATGTCTCCTTGAAGAATTGAACCTTTTAGCATTATGAAATGCCCTTCTTTATCTCAGTTAACATTCCATGTTTGAAGCATCTACTTTCTACCCACTCTAGCCATTTTATGATTAACGTTTGCATGGTATATCTTTTCCCATCATTGTACTTTTAACCTAGTTGTGTTCTTATATTTAAAATAAATCTCCTGTTAAAAGCATATAATGAATCTTGTATGTGTGTTTTCTAGATGGACAATTTGTACTTTAAATTAGAGTGTTTCATCCATTTGCATTTAAAGTAATTATTGATGTAATTGAGTTTACATCCTGTCATTTCTCCCACTATTTGGCCCATCTATTCGGCCCATCTATTCTTTGTTTCCCTTTGCTTCTTTTCCTTACCTCTTTTGGATTAATAAGCGGTGTGTGTGTGTGTGTGTGTGTGTGTGTGTGTGTGTGTGTATTCTGTTTTATCTTGATTATTGTCTCATTAACAATACACTTTTGTTTTAGTTTTAGAGGTGGGTCTATTGCAAATGGAGACCATATCATAGTCTCTGTCAAAAGAGCAATACTACTTACCACTTCACATATTAGGTAAGAGATCTATAACAACATACTTTCACTGCTCCCTCATCCTTTATTCCACTGTTGTTGTATATTTTATTTCATTTTGTATATACCTCACAATACATTGCCATTATTTTGTTTTAAGGTTCAATTTTTTTGTTTTTTTTTTTTTTGAGATGGCGTCTCAGTCTGTTGCCCAGGCTGGAGTGCAGTGGCATGATCTCGGCTCACTGCAACCTCTGCTGCCTGTGTTCAAGCAATTCTCCTGCCTCAGCCTCCTGAGTAGCTTTACAGGCCCCTGCCACCACACTGGGCTAATTTTTGTATCTTCAGTAGACACAGGATTTCATCATCTTAACCAGGCTGGTCTTGAACTCCTGACCTTGTGATCCACCTGCCTCAGCCTCCCAAAGTGCTGGGATTACAGGTGTGAGCCATCACACCCAGCCTAAGGTTCAATTTTTTAAAACAAGTTTTTAAAAAAGAAAATGTCTTTATTTTTACCAATGTATTTCCTACTTCCATGGCTTTCATTTAGAAGTGTAATCCAAATTTCCACTTGACATTTTTCTCCTTTAGTCTGAAGAACCTTATTTGACATTTCTTTCAGTGCAAATTTGTGGTGCTGAATTCTTCTAACTTTTGTTTATTTTAAAATGTCTTTATTTTAACATCATTTTTAAAAAAATGTTCACTGGTTATAGAATTCTAGATTGACATGTTATCTTTTCTTTCAGTATTTTTAAGATAGAATTTCCATATCTTCTGGCTTGCATTGTCTTTTTTGTAAGAAACACAATACTTTTTATTTATGTTTTCCTTCTATTTGTGTGTATTATACTTAGTGTTTTGTTGCTTTTTAAGGTTTTCTCAGACCGGGAGCAGTGGTTCATGTCTGTAATCCCAGCATTTTGGGAGGCTGAGGTGGACAGATCACTTGAGGCCAGAAGTTTGAGACCAGCCTGGCCAACATGGCAAAACCCCATCTCTACTAAAAATACACACACACACACACAGACATACACACACATATGCACACACAAAAAATTAGCTGGGCATGGTGGCTCATGCCATAATCCCATCTTCTTGAAAGGCTGAGGCACAAAAATTGCTTGAACTCAAGAGGTGGAGGTTGCAGTGACCCGAGATTTTGTCACTGGACTAAGCCTGGGTGACAGAGTTAGACTCTGTCTTGGAAAAAAAAAGTTTGCTTTTTATCATTGTTTTTACAGAGATATGTCTATGATAGTTCTACAAGTTTTTTATTGTGTATATGTTCAATCTGCTTGTAATTTATTGAATGCTTAGGATCTAAGAGTTTATATTTTCAGCAAATTTGGAAAATTTGGGGCTATTTCTTCAAATGTGTTTTCTATCCCAATTTCTTTCTCCTTTCTTCCTAGGAGTCCAATTACATGTATGTGAGGGCATTGGATATTGTCCCACTGTCTTTAAGACTGTCATTATTTCATATTTCAGCATTTTTAGTCTATGTGCTTCATTTTTGTTATTTCTTACTGCAATTTCCTCAGATTTTCTGATATTGTTTCCACAGTATTCCACCAATTTACTAATTAGTTAAGTGATTAACTAATTTTAGATATTTTAGGTTTTAAGGTCTGCTATTTCCATGTTAACATTTTCTACAATTACCATTTCTCTACTGAGATTCCCCATCTGTTCACTCATTATGCTCATAATTTCCTTTATATTTGTCTGCTAATTCCAACATCTTTGTCATCTCTGGGTCTATAATTAACGACTTTCAAAAAATTCATTATTTATTAGTCACTTTTTCTATATCTAGTAATTAAAATGAAAATTATGCTGGATATGGTGAAATATCACTGCCAACCAGCAACACGATTGTAAGTCTAGTGCCAGACTCCAGTCCCAGACCCTCCCAGCTGCACCAGGTTATTTTCTTATACATCCAGCAATCTCTTAAAGGTAGAACCACCCTCCCTGCAGATACCTAAATTCCCAAGGGTGTTAGGGGACAAGGGAGCAAGAGTACAAAACGGGACTCTCCTTACACTGAGTTAGCTGCTGAGTGGGGAAGATGGAAAAGCAACCTCTCCACCCTGCAAGGCCGCTAGGAAGAGAGCCTACTCAGCTCTCAGGGTGCGCTCTCTGATCTGCCTGTAGTGAGAGATAGCTGTGACAGGTGTAAATACCTCATGTTGTAAATTTCATGAAAGTAATACACCTGGGCCATCTGGCCCAAAACCGCAGCCTGCTGTGCACTCCCCCTCCACACCCCAACTGCTGGGAGAAACACAATGCAAAGCCCACGTGCCTCCAGGGAGGGAAGAGCCAGGGCCACAGACAAGGCCTCCAGACTAGCAAAATCATCCCAGCTACCAGGTCGGAGCCCGGGCTACATGGCAGTTACTGCCGAAGTAAATTTTTTTACATCAATCCATTTACTCTCCTGAATGATGCTATAACTGAGATAATACCCTCATATCACCAATGAAACACAGACGCAAAAAGGCTGTCACATGCTCAGTGTCCTGAGCTCATCAGCAGCTGATCCCTGATTGAAGCCCAGGTCTGTTGACTCCAGTGCTCGCAATTTTTATGACTACACTAAAACATTTTTATCCTTCATTTCCTCCCTGGGTTCCTCTGCTCCCTTTCTCCAAGAGGTGGTAATAAGGGTTTGTTAATGTAAGAAAAATTGGTGATCTGTAAACTCTCAGCCCTAGAAAGTCTAAGCAGAACATTTTCTTAGCCTTTTAGAGGCTGCTGTGGGGCCAGACATCATAGTTAAACAGCTGGAAAAGTCACTTTAATGACTCACCAGGGGTGTACTTTCTTCTTTCCTTTTTTATTTTGGCACTGGCTGTTTGGATTAAAACATGGAAAATGTAATGAAACCTTGTAAAGAGAAGAGTGAAAAAATGACAACAGAAGCTGAGTTCTGAAATGCACTGAGATATGATGACAGACAAAAGCCATCATGGGGATGAAGTGCAGGAGAGTATCTCACTGTGTCTGCGGAAGAGCAGGCCCCCAAAACCAGGAGGCCCTTTATGCCAAACACCCCCACACCTTTACAGATCATGCTGATGTATTTAAGCGTCCATCACCAGTTCATCTGTGTCAGCTGTGGAACCGTGGGACTGATGTTTCAGAAGAACTGTGTTTCGGAGAAACTAGGCTATAACTACAAATTATTCTTACACACAATTCAGGATTTGTGTAGCATTAGGAAGCTGCTTAAAGCAACACCACTAAAGAAACTAACAATAAAAGACAACCTTGAAAAGCATATAATTTTTCAGGAGTTATCAGGAAAAGATCACACTGTAAGACTCCATTATAGTTCCAGCTACTTTTTTATGTATCTGACAGTGACTGCATCCATGTCCACACAGCACATGCTCAAGCACACTAGGTAATTACTGAAAACATGGTTGTGCAATTTAGTGGTGCTTACTGTTGACTCTCCTTTCTGCCCAATCTGTTTTCCCCGATGTCTCTGAGCTGCCAAGAGTGAGATCTGGATCTCAGCTTCAGGTTCAACTCCACCTAGTCCCTAAGCCAATCCTGCCTAAGGCTTATAGAACATCAGGGCCTCCCTTATCTCATGGAGGTTGTGGAAAATGTCTTGTCAGTTCAATAATTCTTGTTCCAAAATACCACTACTATGCCTACCAACCCATGTACCAGTTATCTTTATTACAAAACAAACCATCCCAAAACTCGGTGATACAAAAATCTCCACTCATTTAACTGGTTATGATTTTGGGTCCTTGCAGTGAGAGTGGGGTGTGGCAGGGACAGCTGGGCTCTGCTCATGTGGTATTGCCTGGGTGTCCTCGTGCACCTGCATCAGCCGGCAGCTCAGCTGGGGACAGGCTTACCTTAGGTGGCCTCACTCACCTTCCTGGTGGCCACCTGGGGCTGTTGGCTAAGGCACTTCAGCTCTCTTCCATGTGGCCTCTCATGCTCCAGGAGGCTGGGCAGGGCTCTAGTTCATGATGTAAAAAGCATTTCAAGAAGGCAAGAGCAGAAACTACAAGAGCTCTCGAGGCCTTACTCTGAAGTCATGCCCTGTAATGTCCATGTCGTCTATTGGGCAAAGCAAGTCACAAGGGCAGTCAAGATTCAAGGATCGGAAATTAAGCTCCATCTCTTACTGGGAGGGGCCTCAAAGAACGTGTGAACATTTTTAACCCAACCCAGTGTGTTTACAGCATTAAGTGATGCCCTCTGCTCTGTATATCTACATCCTTTTTTTTTTAAAGAGATAGAGTCCACTCTGTTGCCTAGGGTGGAGTGCAGTGGCACAATCACAGCTCACTTCAGTCTCATTCGAGGCTGGGGTCAAGCAATCCTCCTGCCTCAGCCTTCCAAGTAGCTGGGTCTACAGGGCATAACACCATACCTGACTGACTTTTTAATTTCTTGTAGAGACAGGATCTTGCTATGCTGCCCAGTCTGGTCTCAAACTCCTGGCCTCAGGCAATCCTCCCACCTTGGCCTCCCAAAGCACTGGGATTACAGGCATTACCTGCAGTGCCAGGCCCCATATATCTACATCCTTTGTGATATTGAATCCATTTTCTGATGGACATTGGTTAATTCACTGGGTCTAGAGTCCTATTCTGAGTCACAGCCTGTTGCTGTCCCCTGTTCCTCAGAGAATAACTGTACCCCTAGAGTCTGGCTGGAATTTTTTCTTTTTTCTTTTTTTTTTTTTTGAGATGGAGTCTCGCTTTGTTGCCCAGGCTGGAGTGTAATGGCACGATCTTGGCTCACTGCAAGCTCCGCCTCCTGGGTTCACGCCATTCTCTTGCCTCAGCCTCCTGAATAGATGGGACTACAGGTGCCCACCACCATGCCTGGCTAATTTTTTGTATTTTTAGTAGAGACGGGGTTTCACCGTGTTAGCCAGGATGGTCTTGATCTCCTGACCTCGAGATCTGCCCACCTCGGCCTCCCAAAGTGCTGGGATTACAGGCATGAGCCACTGTGCCCCAAGTCTAGTTGGAATCTTGTTCTGAACAGAAACATATTCTGATCATGACAAAAACACTGTGGCCTTTTTCTTTATCCGTAAAATCAGAGCACCTATATGTTAAAAGATTATTCATCCAACAAATATTTACTAGGCTTCTGCTATATGTCGCTAGACATTAGATACTTTAGTTTCTGATCTTTTGGAGAGATTGGATATTTGCATAGGTAAATTGCATTGTGATGTAATAATTGTGCTACAGAAGTAGGAATAACAAGCTGAAGGGCAACAAGGGCTTGGGAAGCTTGACAAAAGAGGGGATCTTTCAATTGGGTCATTAAGGGTGACTAGGAGTTGCCAATGGATGGTAGAGAAAGGACTTTCAGGTGAAAGAAGGTGCAAAGTTATGGCGAGAAACTAGATCAGACTTAGAAAAACCTAAGCCCTGTTTTATGTGAACATGGAGGAAGGCACAGGGAGGCAAGACTCGGGAGGTTGGTTAAGTCATATGAGAACCACCTAAGTGGAGGGGTTGGGTTTTTATCCTGCAGGCTGGAATCCAGTTGCTAGGTGTTCCCAGACTTGGCTGATCCTCAGATAGCCGGGATGTCAGCCCAGACCAATGAATCAGGAGAGCCTTGGAGCCTGGGAGTCTGAGTTATTAAAAACTACCCCAGTTCCTCTGATGACCAGCCATGCTGGGAGGCATGCCATCATCTAAGAGGGGAGCTCGCAGAAAGGCTTAAAATAGGGAAAGGGAAGTGATGACATTGAGATTTTGTAAAAGTGAGCCCAGCAGCTGTGTGGAGTTGCATGGCAGTGTGGAGAGAATGAGAAACCAGAGGTAAGGCTGGTGCAGTGACCCAAGGAAGACAGTAGTGGTGAGGGTCTGCACCATCAACACAGTTCTATGCAGAAGAGGAGAGTCAGGCTGAAGAGACATTTCTGTGGAAGAATGACCTGAATTTTATAGGGAAGAAGGTGGGGGAAATAAGAGAAATAAAGAAGAACACTATGGTTTCCAGCTCTGAAGTTTAAGTAGACAGGAATGTCATTAAATGGGGTCTGGTATTTAGAAGAACTGACTTGGAGATGAATGAGGGGGCATTTCACCTTGGACATGTGGAATTTGAGATATCAATGAGACACCAGGGTAGATTTGTCCACATAATAGTTGGAAATGTGGATTTGAAGCTTAAAAAGTAGGTAAAGAGCCCTAAATGTAAAGACATCTGCCAAGAGATGGTAGCAGAAGCCATGGCAGTAAATGAGTTGACTGGGCACCATGCAGAGTCTTAATTCTTAGACTCTGAGGTGCACAAGAATCATCTACGAAGGCTGCAGAAGGCACACTCCTTGAATCTCTTCCCAGGGATTCTGATCCAACAGGTCAGGGATGTAGCAAAGGGATGAATATTTGTAATCATAATTCTACAACCATATTCTTAAGAAACACAGATGAAGACAGAACACAGGAAACAGCTGAGGTAATTGCTGAGAGCACCAGAAAATAAGAGAGCAAAGGAGAATCCAGCAATAGGCAGTGTTATGGTCTCAATGATGTCCCCCACCAAATTCATATGTTGAAGTCTTTGCCCCTAGTATCTGGGAATGTACTGTATTAGAAGATATGACCCTTTAAGAGGTAATTACAGCAAAATGAGGTAACATAGGTAGCCAATGTGATGGCTGCCCCTATACATGAAAGAAATTTGGACACAGATATCCAGAGAGGGATGACTATATGAAGATACTAGAAAAAGATAGCCATCTGCAAGCCAAGAAGAGGCCTCAGAAGAAATCAACCCTACTGACACTTTGATCTTGAACTTCCAGCCTCCAGAACTGTGAGGAAATAAGTCTAGGTTGCATAAACCACTTGGTCTGTGGTACAGGGTTATGGAAGCCCTGGCAGACTGTTAGAGAAGCTAAGGCGCAAAAACAGGAAAGTCAGAAATGAAAGCAAGAGGAAGTGTACCAAAAAGATGTGGGAAGGCGTGGTCCACTGTGTCTCATTCTACAAGGAGGTCAAAGACAATAAGACCTGGGAAGAGGATAATTGTGAGGTGATGTCAGCAAGACCAGCATCAGCAGAATTATAAGGCCATAGGGAGGAGATGACTGGAAGCTGGGCCCACAGGGAGCTGTGGACTTCTCCTTCTAGAAGCATGGCAATTGTGAACTGGGCTTTAAGCTGAGGCCTTGAAGTGGGGCACACTTGAAAAATGTTTTTAAGATGGAAGAGTTAAACATATTTGAGAACAAGAAAAAAGACCATCAGATAAAGCTATATGGAAGGCTTTTTAAAAGTTTTTGTTTAAGTCTGGGGTCAACTAGAAAGATGGAAGGAAGCTAGAACACCAGAGTAGAGGGAGAAGAAGGAAGAAAGAGAAAGGAAGGAAGAATGAGGAGGAGAAGGGGTATAAAGTATGGGAGAAAGAGGAGGTTACACTTTTTTTCTACCACAGAAAAAGCAGAAAAAGATGGATGAAATGATAAATGAATTTGACATGGAAGATTGGGAAGGGAGGAAGTTGACAATCTGTACTCCTGAAAATAGGCATATTCTGTTCTAGTAAAGTAGAAGGTGTGGTTATCAGCTGGGAGAATTAGGGTCGGCAGGTGGGTGAATTTTTCTTTAGATTAACTGTACACATGGAATATGTTGAATGGGAACCTGTATGCTTGCAGTGAAGTGTAATGCTTGCAGTGAAGTGTGATGATGCAGGATAACCTAATTTTATCCAATTCCCCAAATAAAAAAAAGGGACCTTGGAGCCAATAACTTCTAACATTTTCTCTTCAGTGGATGAACTGCATCTGAAATTGGTCCAACCTGGCTGCACAAGGAACTCTTTGGTCAACACAATTCTTAAAATTAGAGGGTATGAGATGAGAAAGAGAACCATCTGGGCATGTGAGTATGCAGCCATTTTATATGATTGAGGATGGGCTTTCCTGCATTCAGCTTCCAGGTCTCCATTAGGTTTCTTATCTATGTCAATACGGTTGTGGGTAGCAATAAGAGAGGCAAAAATAAAGAAGATTTAGTGTTTGATCTTATATAGGTCACAATCTAATAGGAAAAAGAGAAATTGCATTCAGCATAAGTGCTGTCCTGGAGGAGGGCCTCAGAAGCCCTCGGTGGCTTCTTCCACTCCTGATACCCACTCACCTTGTGATAAGAGCTTTGCTGACTGTTAGCCACTGCTTATGAACTTGGCTGCTTTAATGGAGACCCCTGAAAATTTTTACAAAGGGCTTGAAGACCAAAGTAGTGAATTCCTAATGATGGAATTTCAGACCCTGTGACAACTGAATGCAATTTGGAGGAAACAGATGTTGCTTGATGCCGGTTAATCAACCTCTCCATGTCCACAGATGTATCAGGACCCAGGGTTTGACTGACCCGTCACATGGTCTGGCAGCACCTACAGTGGTTGAAATCAGGACCACCCAAGCACGCCCAGGATCCACTGGCATCTTTCACTGTCAGTATGGTCATCTTGTCCTTGCCATGCAAAAGGCATCCCACTCCTCAGACTGACCACATTTGTAGCTGGCCGATCTGTTTCTTGGCAACCAGAAGGCAAGCTGTTGTGTCTGCCAGCCTTCCCCACTGGTCATGTGTCTCGCTCCCCATGACCAATGGGGAAAACCAATATTACTGGTGAAAACCGGTATTACACTGAGCCCCAGCCCTTGCTGTGGTGGTGGATGTGGCCAGGAAATTAAACACACACATGTTCATTCAGGCTCCTGATTTTGCAAACACATTGTGACAAGTAGCACACCATCCTGAGCAGTACCACAAAGCCTTTGGTTTTGATTACATGAAACACCTCTGGTTAAAAAAACAAAGAGAGAGCACTAATTTTTTTTAAGCATCATGCAGTTGCAGACTGCAGATTTTGAGGGAAGCCCTGTGCACCCTGCCTAGAGGTCTGTGTGGAGCACTCTTCAATGTTGTGAGCTGAATTCTGCCTTTAGTTAGGCCAACCCTCCTAGCAACAGGAAGCCAGAATGGGAATCTTTTCCCACACATAGCTCAGCAGTGCTAAAATTTCCCAGACAGAGGGAAAAATGATGATCTTCCCTCATCTCTGGCTGTATTTATCTATAAGGCAGCTATTTGATATGTTGCATTCCTCTGTTGTAAATAAATCAATGAAGTGAGCCTTCCAGGTTATAGTTTTACTGTCAAGTATCAGGTGTCATGATCCATATCTTGATACAATAAAGTTAAGACTCTAGATCTAGTTAGAGTCACCTGTCAAAATAGCTGGGCTGTGCTGATGAACAGCCTGGCAGGACTGGTGCTATGGCCTTAAAGAGGCAAGCAGTATAAAAATCAATAGACATTTTGTTGAGTTACCATGATTTTTAGGGTGCCTTGCAAGAAGATAAGGAAAACAGCCAAGGGCAGGCATATGGAAGGCCTTTTTGTCACATTCTATGCCCAAGTCTTCCACTATTCTCTGCTGAAACACACTTATTGGAATGTGTTTTAAGTATTCTCAACCTGTCCTTTCTTCAGCTGCCACTTTCTATCCCTAAGTGTTCCACTATTCTCTGCTGAAATACACTTACTGGAATGTGTTTTAAGTATTTTCAACCTGTCCTTTCTGCAGCCACCATCACCCCTTCCACTCCTTAGATTTACCTTGTGGTGTCTAATGCTAGTCCTAGAAAACCTGAATGCAGGGAACACCCGGTGATTTATACATAAATGTGCGGTTAAGCCAATGTGATCCCTGTTCCCATTGCATTTTCAACCTGGTCTCTAAGCAAAGAAAGGAGAGGGAGACTTTGACCTTGTCTTATTTACCTTTGATTACTTTTCTTTGCCTATGGAGTAAAGTCCAAATTCCTGAACATTCAATCAACAAACATTTGAGCCCTTAACATTTTTTTTTGAGCCTTTGTATTTTCCATTATCGTTTTCCCTCGGGCCCGTGAGTTATTGTGTTTTCCAGATGTAACTAGGCTTGAGGCTGTCTTCCTGTGATTGACTTCTAACATTATTGCATTGTGATTAGAGAGCATGTCCTGCTTATCATCTCTGCTATTTTTTTTTTTTTTTGAGACAGAGTCTCGCTCTGTTGCCCAGGCTGGAGTGCAGTGGCGCGATCTCAGCTCACTGCAAGCTCCGCCTCCCGGGTTCACGCCATTCTCCTGCCTCAGCCTCCTGAGTAGCTGGGACCACAGGCACCCGCCACCACTCCCAGCTAATATTTTGTATTTTTAGTAGAGACGGGGTTTCACCGTGGCCCTTAACATTTTTATAGTATTGCCCTAATATATAGTATAACCCTATAAAAAAAACTCATCTATCAACAAAAGACATGGAGGACAAACCATAAATGTTTGCTGAAAGAACAAATAAGAGAGTGAACCAAGGTGTAAAAAAAAAGGCATATATTATTTCCCTATTTGTGTGAGCATTCTCATTGCAGAGGTAAAATATTTATTTAGAGTTATCATAACCATGTTTAAATCAATTAAGAAATAGGCAAGGAGCAGGAAGATGGAAATCAAGAGTATGTTCATTGCTGAGAATGACTCGGTTGGAAAATGTGTGTTGTGAGGCAATAATGGACTTCCTAACATGAATTCCCAGAATAAGACAAACCCACCTAGTCACAAACACATGTTGAAGTTGTCCCAAGGAAACTTCTCAAGCAGAGAAGCAAACTATAATGTATCTGGCAGCCTGGCTCCTGAGAGAGGAGGAGAGGGGAAAGGGACAAACTATGCCCTTTTTTTTATCCTGGTGTTACCAATCAGAGCGAGAAGCCAGAGTACTCAGGGAAAAATTCCTGCCTCCTGGAAACAAGAGGAGCTGGGAATAAGTGTTCCTCTCCCATTATAATTCATCATGAAAGCTAACACAATATGTGAATATGTAATTGCCTGACAAAAGACTAGTGTGGACAAGAATTTTAGGGAGGTACCATGCTGGAGTAAGGGAACAAACCAGGCCTGAGTCTTAAAGGGAGGATTTGAATAGAGAAAGAGGTGTTCTGGCCGGGTGCAGTGGCTCACGCCTGTAATCCCAGCACTTTGGGAGGACGAGGCAGGCGGATCACGAGGTCAGGAGATCGAGAAAGAGGTGTTCTTAGGACTGGAGGGAAGGTATTGGAACGGTGTTTGGGGAAGCTGGAAGTGAGCATAGAATTATCTGGCCTGACTTCCCCTCCCCATCCCTATCTCATCAGGCTCCAGCCACACCATTTGCACTCATCACTCCCTACACATGCCTCTCACGTCCTAGTCCCTGTATCTCTGGCTGCACTGGTCTGTGTGGCTGCCTGCCCTCCTACCTCACCTCTACCTGCAGGTACCCGAAAGATCCTCTGACATCTACCTCAAAGGCTGCTCCTCAAGAACACCCTTCTAGACTTCCTTGCTACCTGCTCCCCAAGTGGAATTCTGTGCTCCACTCCTGGATCTCACCTGGCTTTTCCTTCCGACACTTATCATATTCTGCACTGTTTCTTAGTCATTATTAAATACACCTGTCTCCCCAACAAGACTATAAAATCTGGATGGGCACAGTGGCTCACACCTGTAATCCAAGCACTTTGGGAGGCCTAGGTGGGCGGATTACTTGATGTCAGGAGTTTGAGACCAGCCTGGCCAATGTGGTGAAACCCCATCTCTACTAAAAATACAAAAATTAGCCAGGCATGATGATGGGCGCCTGTAGTCCCAGCTACTCTGGGAGGCTGAGGCAGGAGAATCACTTGAACCTGGAAGGCAGAGGTCGCAGTGAGCTGAGATCACACCACCATACTCCAGCCTGAGCAACAAGAGTGAAACTCGGTCTTGAAAAAATAAAGAAATAAAAAAAAAAGACTATAAAATCCAGTAGGATAAGGAACCTGTCTTTTTACCCCTCAAAAATCTAGGACCACCTGTGTTCAGTGAATGTATTTTTAATTATAGAAATCTCAAGCATTGGAGTATTATTTGGATAAAAATTAATCTTAGTTTCTGAAAAATCCTTCATAACCATGCATCTTAAAAGAAGCAGAGAAGCTTCACCAGCCCTGCCTCGTTTCTCTTATAATTAACAAAAGAGCAAGTTAGGCCTTTTAAAAAACTGCAAGTTGGGGTCCCAGAATCAACTGCTATCACTATCTGTAGCTCAAATGGTGAAATTAACTCAGGTGTCCTTAAGGGTAGGTTTTTAGGCACAGGAAAAATATGGTTACTTTGGACTTTATTATGATTTACTAAAGCTACTAATCAAAACTCTATGTTTCACCTAAGCTTTTAAATTTAATTTATAATTTAATAAGGAGCTTTAAAGATTTATAATCTTATAAATGTTAATTATTTATAACATATTATTTATAATATAAATTTAACAACTATTCATAAGGAGTCTTCTACAACTTCATTAATTGCCTTAAACTGCATATCTAAATGTAAAATATTTGATTTCTCTTATGTTCCTCAACTACCTCTAAGAACTAGAACCTTTCTAAAATATGTTTGTATAAATGAAATAAATTTAATGCATACGTTGGACAAATTTTTAGATTTTATTAATATATTAACACTGTTTACTACAATTAGTAAACTTAGAACTTTTGACTTAAAAGCACAATAATATCAACTATATTTTAAATTTGAATCATGAGCCCTATTTGTTAGATATCTTGATTTGGCCAGTATTTAAATTACCCAAACATGTACTAATAGATGATTCTTAAATACCGTATTGTGGGTCAGGTTTATTTAATTATTTCTGTAACTATGCTCATCATTCCCAGGGTTAAAAGGTGTTTATGGATTTCCAAACAAGTGGGTGTTTCCAGCTTGTTCCAATTTAGTTGATCAAGATTAATTATTAACCAGAGAAATTTGGGGCTGAGGTGCAAAAGAAATCAAATTCCTGGGCTTCAGCAATCCTCCTGCCTCAGCCTCCCAAAGTGCTAGGATTACAGGTGTGAGCCATCGTGCCTCAATCCCAATTCTTAAAGATAGCAATATGACACCCTGTTGGGTTCTGCATATCTCTCATGGCTTTGTGCAACTCTTTAGTTGTAATATTAAAGTCATGCTATGAAAGACAAATATGGGAAAAGATGTCTTACACTGCAGCTCCTGACCTTACTCAAACCGGACTCCCTCTTTGAATACTCCTGATGTTCCCTCCCTTGCTCTGCTTTTTCTGTAGCACCTACCACCTTCAAACATGATATAACATCATTTGTTTATTAAATTTTCTCCCCACTAACTAAACTATGAGCTCTATGAGGGCAGGGAGTTTTGCTGTCTTGCCCAATGATACATCCTTGCACCTAGAACAGTGCTTGACAGTTATTAGGCACTCAACAAAGATATGTTGAATCACTGATCATGAGAGAAATGCAAATCAAAACCACAATGAGATACCATCTCACGCCAGTCAGAATGGCAATTATTAAAAAGTCAAGAAGCAACAGATGCTGGGGAGGCTGTGGAGAAATAAGAACGATTTTACACTGTTGGTGGGAATGTAAATTTGTTCAACCATTGTGGAAGACCATGTGGTGATTCCTCAGATATCTAGAAGCAGAAATACCGTTTGACTCAGCAATCCCATTACTGGGTATATACCCAAAGGAATATAAATCATTCTATTATAAAGATACATGCATGCATATGTTCATTGCAGCACTATTCACAATAGCAAAGACATAGAATCAACCTACGTACTCATCAATGATAGACTGGATAAAGAAAATATGGTACATATACACTGTGGAATACTATGCAGCCATTAAAAAGAATGAGGTCATGTCCTTTGCAGGGACATGGATGGGACTAGAAGCCATTATCCTCAGCAACCTAATGCAGGAACAGAAAATCAAATACCACATGTTCTCACTTATAAGTGGGAGCTGAACAATGAGAACACATGGACACATGGTGGGGAACAACACATGCTGGGGCCTGTTGGGGAGGGGTTGGGGAAGGAGAGCATAAGGAAGAATAGCTAATGGATGCTCTGCTTAATACCTAGATGATGAGTTGATCTGTGTAGCAAACACATGTTTACCTATGTAACAAATCTGCACATCCTGCACATGTACCCTGGAACTTAAAATAAAAGTTGACAGAAAAAAAGAAAAAAAACATATACAATAGAGCAATGAAAAAATAAAATGCAATTACCACATTTTTAAAAAATTAATTTTATGTCTTAAAGTGGCCAGGGTCTAAGATATCCTGTTATTTTCTTTCTTTTTTTAAATTATACTTTAAGTTTTAGGGTACATGTGCACAATGTGCAGGTTAGTTACACATGTATACATGTGCCATGTTGGTGTCCTGCACCCATTAACTCGTCATTTAACATTAGGTATATCTCCTAATGCTATCCCTCCCCCCTCCCCCCACCCCACAGCAGGCCCCAGTGTGTGATATTCCCCTTCCTGTGTCCATGTGTTCTCATTGTTCAGTTCCCACCTATGAGTGAGAACATGTGGTGTTTGGTATTTTGTCCTTGCGATAGTTTGCTGAGAATGATGGTTTCCAGCTTCATCCATGTCCCTACAAAGGACATGAATTCATCCTTTTTTATGGCTGCATAGTATTCCATGGTGTATATGTGCCACATTTTCTTAATCCAGTCTATCATTGTTGGACATTTGGCTTTATTCCAAGTCTTTGCTATTGTGAATAGTACCGCAATAAACATACGTGTGCATCTATCTTTAAAGCAGCATGATTTACAAGCCTTTGGGTATATACCTAGTAATGGGATTTCTGGGTCAAATGGTATTTCTAGTTCTAGATCCCTGAGGAATTGCCACACTGACTTCCACAATGGTTGAACTAGTTTACAGTCCCACCAACAGGGCAAAAGTGTTCCTATTTCTCCACATCCTCTCCAGCACCTGTTGTTTCCTTTTTAATGATCACCATTCTAACTGGTGTGAGATGGTATCTCATTGTGGTTTTAATTTGCGTTTCTCTGATGGCCAGTAATGATAAGCATTTTTTTCATGTGTCTTTTGGCTGCATAAATGTCTTCTTTTGAGAAGTGTCTGAGTATCTGTTCATATCCTTCATCCACTTTTTGATAGGGTTGTTTGTTTCTTTTCTTGTAAATTTGTTAGAGTTCATTGTAGATTCTGGATATTAGCCCTTTGTCAGATGAGTAGATTGCAAAAATTTTCTCCCATTCTGTAGGTTGCCTGTTCACTCTGATGGTAGTTTCTTTTGCTGTGCAGAAGCTCTTTAGTTTAATTAGATCCCATTTGTCAATTTTGGCTTTGTTGCCATTGCTTTTGGTGTTTTAGACATGAAGTCCTTGCCCATGCCTATGTCTCGAATGGTATTGCCTAGGTTTTCTTCTAGGGTTTTTATGGTTTTAGGTCTAACATTTAAGTCTTTAATCCATCTTAAATTAATTTTTGTATAAGGTGTAAGGAAAGGATCCAGTTTCAGCTTTCTCCATATGGCTAGCCAGTTTTCCCAGCACCATTTATTAAATAGGGAATCCTTTCCCCATTGCTTGTTTTTGTCAGATTTGTCAAAGATCAGATAGTTGTAGATATGCGGCATTATTTCTGAGGGCTCTGTTCTGTTCCATTGGTCTATATCTCTGTTTTGGTACCAGTACCATGCTGTTTTGGTTACTGTAGCCTTGTAGTATAGTTTGAAGTCAGGTAGCATGATGCCTCCCACCTCGTTCTTTTGGCTTAGGATTGACTTGGCCATGCGGGCTTTTTTTTGGTTCCATGTGAACTTTAAAGCAGTTTTTTCCAATTCTGTGAAGAAAGTCATTGGTAGCTTGATGGGGATGGCATTGAATCTATAAATTACCTTGGGCAGTATGGCCATTTTCATGATATTGATTCTTCCTACCCATGAGCATGGAATATTCTTCCATTTGTTTGTATCCTCTTTTATTTCATTGAGCAGTGGTTTGCAGTTCTCCTTGAAGAGGTCCTTCACATCCCTTGTAAGTTGGATTCCTAGGTATTTTATTCTCTTTGAAGCAATTGTGAATGGGAGTTCACTCATGATTTGGCTCTCTGTTTGTCTCCTTTTGGTGTATAAGAATGCTTGTGATTTCTGCACATTGATTTTTTATCCTGAGACTTTGCTGAAGTTGCTTATCAGCTTAAGAGATTTTGGGCTGAGACGATGGGGTTTTCTAGATATACAATCATGTCATCTGCAAACAGAGACAATTTGACTTCCTCTTTTCCTAACTGAATACCCTTTATTTCCTTCTCCTGCCTGATTGCCCTGGCCAGAACTTCCAACACTATGTTGAATAGGAGTGGTGAGACAGGGCATCCCTGTCTTGTGCCAGTTTTCAAAGGGAATACTTCCAGTTTTTGCCCATTCACCATGATATTGGCTGTGGGTTTGTCATAAATAGCTCTTATTATTTTGAGATACGTCCCATCAATACCTAATTTATTGAGTTTTTAGCATGAAGGGTTGTTGAATTTTGTCAAAGGCCTTTTCTGCATCTATTGAGATAATCATGTGGTTTTTGTCATTGGTTCTGTGGATATGCTGGATTACAGGTATTGATTTGCACATGTTGAGCCAGCCTTGCATCACAGGGATGAAGCCCACTTGATCATGGTGGATAAGCTTTTTGATATGCTGCTGGATTTGGTTTGCCAGTATTTTATTGAGGATTTTTGCATCAATATTCATCAGGGATATTGGTCTAAAATGCTCTTTTTTTGTTGTGTCTCTGCCAGGCTTTGGTATCAGGATGATGCTGGCCTCATAAAATGAGTTAGGGAGGATTCCCTCTGTTTCTGTTGATTGGAATAATTTCAGAAGGAATAGTACCAGCTCCTCCTTGTACCTCTGGTAGAATTTGGCTGTGAATCCATCTGGTCCTGGACTTTTTTTGGTTGGTAAGCTATTAATTTTTGCCTCAATTTCAGGGCCTGTTATTGGTCTATTCAGAGATTCAACTTCTTCCTAGTTGAGTCTTGGGAGGGTGTATGTGTCGAGGAATTTATCCATTTCTTCTAGATTTTCTAGTTTATTTACATAGAAGTGTTTATAGTATTCTCTGATGGTAGTTTGTATTTCTGTGGGATCAGTGGTGATATCCCCTTTATCATTTTTTATTGCATCTATTTGATTCTTCTCTCTTTTCTTCTTTATTAGTCTTGCTAGCAGTCTATCAATTTTGTTGATCTTTTCAAAAAACCAGCTCCTGGATTCATTGATTTTTTGAAGGGTTTTTTGTGTCTCTATTTCCTTCAGTTCTGCTCTGATCTTAGTTATTTCTTGCCTTCTGCTAGCTTTTGAATGTGTTTGCTCTTGCTTCTCTAGTTCCTTTAATTGTGATGTTAGGGTGTCAATTTTAGATCTTTCCTGCTTTTGTGGGCATTTAGTGCTATAAATTTCCCTCTACACACTGCTTTAAATGTGTCCCAAAGATTCTGGCATGTTGTGTCTTTGTTCTCATCAGTTTCAAAGAACATCTTTATTTCTGCCTTCATTTTGTTATGTATCCAGCAGTCATTCAGGAGCAGGTTGTTCAGTTTCCACGTAGTTGAGCGGTTTTGAGTGAGTTTCTTAATCGTGAGTTCTAGTTTGATTGCACTGTGGTCTGAGAGATAGTTTGTTATAATTTCTGTTCTTTTACATTTGCTGAGGAATGCTTTACTTCCAACTATGTGGTCAATTTTGGAATAAGTGTGTTGTGGTGCTGAGAAGAATGTATATTCTGTTGATTTGGGGTGGAGAGTTCTGTAGATGTCTATTAGGTCTGCTTGGTGCAGAATTGAGTTCAATTCCTGGATATCCTTGTTAACTTTCTGTCTTGTTGATCTGTCTAATGTCGACAGTTTGGTATTAAAGTCTCCCATTATTATTGTGTGGGAGTCTAAGTCTCTTTGTAGGTCTCTAAGGACTTGCTTTATGAATCTGGGAGCTCCTGTATTGGGTGGCTATATATTTAGGATAGTTAGTTCTTCTTGTTGAATTGATCCCTTTACCATTATGTAATGGCCTTCTTTGTCTCTTTTGATCTCTGTTGGTTTAAAGTCTGTTTTATCAGAGACTAGGATTGCAACCCCTGCCTTTTCTGTTTTTTTCTTAAAATAGAAATACAGAAGCTACACTACTGGGAAATCAATAAAAGCCCAAAGCCTGATGTGTAGACATTTTAAATATGTTATTTCTATTGTACAGGATATTGTTCAAACATTTGAGTCTGCTAACAGTATTAAACAGAGCCAAGAGGAAAAAAAAAAAGGGCATGGCTATAAGCTGGATTGGCTACATAATTTGCACAGCCCATTGTAAAATGAAAATATAAAGCCCAGTTCAGAAGTTGTGAAGAATTTCAACATGGTAACAGCAGAATATTAGACCAAACATGGGCCCCATCTAAATAAGCATGCGGCCCTGTGCAACAACACAAACCACGAAGCCATAAAGCTGACCCTGAATGTGAGTGCGTATATGTATGTGTGGTGGTACATGGTACATGGAATGGTAATCATTTTTGTGCATCTTTCTGACCTACTTCGTTGTAAACTTGTGAACAGGGTTTGCATGTTCTTCATCTTTCTACCTCCAGTACTTAGCACAGTGCCTGGCAACAAACCAATAGATGTTTGCTTGAATGGACATAGAAATGGTTATAAAAGAATGCTCTGACAAAGAGCAAAGAGCATTTCAAATTCAGAATACGCTTTTAGCCACTGCTATCCCATGGATGGACTATGTTCATCACTAAAGGTGTAAGGTATTTTCAGTATTCATGTCTCATTTGGGAATCCTTGGGTCTGGAATTATTCTTGAAAACATCCATTAAAGAGTCATTAGCTATTCTTAGAGCATCTCTTTTTTTACAGAGAGAATTGGCACCAAGCAAGAGCAAGGAACCAGACATCAGTTACGGAAAATGTATCCCCACATCACATCATGGGAGCCTAGCTCACAGACACTGCCAATGGAAATTGCAGAAATAGATCAACTGCAAAAGGTTACATAGGGGACCCGCATGCTACATTAACTCTCTGTGAATAAATTACATGTAAAATTTGAGAACATGTTTTCATCAAATAAGTATTTGTGAAGGTAAATTTTAAGTTATGCCATGTGCATAATTTCATTGCATTGGTACCATATGAATAAGTATCTTCATAAAGATACTTTGTGAACAAGTCAAGAAGACAAAATAATTGTTACTAGTATTTACTTTTGTCCTTAAACACAGAGCTAAGATCTCTTTCTATTGACATTATATCCTCTATATCCCTAAAATAATCTAAATCATTAATTATAGAATTAATCAGTAAGGAATTTAAAACTAAGCTGGAAAGGCATGAAACAGGATGGATGGAGCAGAGGGATGTTGTTCCCCAGGATGAGAAAGAGAGAAAGGTCTTGCATTACCAAGGGTGAGTCTGGGTGACTGAGAGGTCACAAACTGATGAGTGAAGATAGAGTCAAGACAGAAAAATAAAGTCAGGAAAGCCAGTGCTGGTGGGGAAACAAACATTCAAAGCATAACTCACAGTTCTGGAAAAAACCCAGTATTTTCAGTCTCTGTCAGAACATAAATCAGATTTGCAGTTAAATATTTGACCGTTTACCTGAGGACAGTAAGTCTCAGGGAAAAGCACGTCCACATGTGCCTCCTCGGTGGGTTCTAGAATTCTTCCCTCTTCCATTCCCCAAATATGTATCAGTGTAATGTCTGAGCAGGGGAGTGCAGAGCAGGCAAGACACATAGAGAGGCACCAGGAAGGGAAATCTGTGCATCATTCCTTGTGTCACTAAGACAGCACCACAGAAGAGGTAAGCACAGAGCATGGTGGGTGAGATGCAATTTTTTTTTTTTTTTGAGACAGAGTCTCACTCTGTTACCCAGGCTGGAGTGCAGTGGCACTACCTTGGCTCACTGAAACCTTCATCTCCCGGGTTCAAGTGATTCTCCTGCCTCAACCTCCCGAGTAGCTGAGATTACAGGTATGCACAACCACACCCAACTAATTTTTGTATTTTTAGTAGAGACAGGGTTTCACCATGTTGGCCAGGCTGGTCTCAAACTCCTGACCTCAAGTGATCCATCTGCCTCAGCCTCCCAAAATGCTGGGATTACAGGTGTGACATCTCCATGAGATAGGGAAAAGCCAGAGGGAGCCTCTTAGCCTCCCAGAACACAATCGCATCCAGGAGGTACTTCTTTCTCCTATCTCTGCCATAGCCAGGCAGGACCAACAGACCCAGAGCTGTTGGAGCAGAAGAAGTGGAAGGGTCTTGCAGAAGGTGTGTAAAGCAGAAGACAACAGCTGCTGAAGCAGCACAATACAGTGACATCCTAGGAGGGAGGCCAAGGAGCTCACTCAGCTTAGAGGGCTTGGGGATTGACAGTGAGCTGCAAGATGTCCCCACGAGTCCGTTTCCTTGCCCATAATGAGAGGTGACAACGTGCCAGCAGCCTCGCTCGCTCTCGGCACCTTCTCGGCCTCGGTGTCTGCTCTGGCCATGCTTGAGGAGCCCTTCAGCCTGCCGCTGCACTGTGGGAGCCCCTCTCTGGGCTGGCCGAGGCCAGAGCCGGCTCCCTCTGCTTGTGGGGAGGTGTGGAGGGAGAGGCACGGGTGGGAAACAGGGCTGCACAAGCAGTGCTCACCCGCCAGCGTGAGTTCCAGGTGGGCGCGGGCTCAGTAGGCCCCACGCTAGGAGCGGCCAGCCAGCACCACCAGCCCCAGGCAGTGAGGGGCTTAGCACCTGTGCCAGCAGCTGCAGAGGGTGCGCTGGGTCCCCCAGCACTGCCGGTCCGCCCACGCTGTGCTCAAATTCTCAGTGAGCCTCCACTGCCTCCCTGCCTGCAGGGCTCGAAACCTGCAGCCTGCCATGACTGAGCGTGTGGCCCGAGCATGCGTGTGTGGTAGGGAGCACAGGTGGGGGCTGGTGCAGTGGGAGGCGGGGGCTAGATGAGACTAGGGTGAGAGCCCCTTGGTCAGGGCTGCCTGCTGCCCACAGAAGCACAGGGCAGTGAAGGTGCCCAGGAGCAGGTAGTTGGGTTGACTCAGGTTGGAGGGCCCGCTGAGGGTCAGCAGAAGAATGAGGGGTGGTGAGGGGCACTCCAGGCATGGTGGTGAGGTAGAGAGATGAGAGGCCTTTGCATTTTGCATATTCTGTTGGGGGAGGAAATGGTGAGCCATCAAGGGCTATTGGCAACCTCTCCGTAAACCAGCCTAGGAAATGCTGAAGGAGAGAGACTCAGAGCAAATATAGACCCACAGGGATGCCTGGGGCACAGACAGGGTCGGTTCAGGTTGCCGGGGATGCCATGGCACAAGTGGAGGACAGCTGGGAGCCTCCACGTGGTGCTGTCCCCCTTCTGCTCTCTTGGCTGAGCCAGGGCAAGGGGCAGGCTCCTCTAAGCTGGCAGTGGCTGCTCTGCCCCTGTACAGCAGGTATCAGAGTAGGCAGTTCAGGCCCAACACAAAACCCAAACATGCCTGCAGGAGCAGCTCCCAGCTGCACCCAGCTCCTAAAGGACACACCTGTGCCATAGATGACAGACAGAGCAGGACTTAGAACAAGTGACCAAAGTCCTCAGAGGACTTCATTGTAAGGGAGCATGCAATGAACATGAGCTCAAAAGAAGCAGCTCTCATGACAAACCAGTTGGAGATGTTGGGTGTAAAAAATATAATTTATAGATAGAATAGAATTCATAAATATAATGTATGAAACTGTAATATAATTCTAAATAAATATAATTGTTGAAAGGGGCTGGAAGATTTCACCAAAGGACTCTCCAGAAAGTATCAGGAGGGTATAAGGAGGTGGGAGGCAGGTTGAGAGGTGAGGAAGGTGGAACAAGACGGCCCCTGTCCGTCTCCGAGGAGTACTGGGAAGAAAGGAAGAATACGGGGCAGGAGAATATATATGAAGAAGGGCTGGCAGAGAATTTCCAAGAACTAAACACAGACACAAGACTTTAGATGGAAGTGTTCCCAGAGTGGCAAGCACACACACCAGAAAAATTAGAATCACAGAGGGAAAAACAGTTACAGAGAAACAAGAGTGAGTCTGACCTCAGAGTTCTCAAGGCCCCACAGAAGGCAGAAGACCAAGTCATCAGGTCAGTGGGGAGCATGGACAGGAGGTGTGAAGTGGGTATAGCTAAAAAATGAGAAGGATCGAATTGGAATTTCAGCCCAATATACCATTAGTGTGCACCACTAATGCCCACATAAATGATGCTTTGTATTTTTCTTATCTTCAAATACATGGAAATACAGCTGACCCTTAAACAATGTGGGGGCTAGGGGCACTGAACTCCCTCACAGTTGAAAATTTGCATATAACTTTTGACCTCCCCAAAACTACTAACAGCCTACTGTTCACCGAAGACTTACCAATAACACATACAGTCAATGAACACATGTTTTATAGGTTATATATATTATATTTTGTATTCTTTATTTTATTTTTATTTTTTGTTTACCCACACTACACAGATGTATCACATGCTGTATTCTTCAATGAAGTAGACTAGAGAAAAGAAAGTGGTATTGAGAAAATAATTAGCAAGACAAATGTATTTACTCATTAAGTGGAAGTGGAGCATCATAAAGTTCTTTATCATTGTCTTAAGCAGGCTGAGGAGGAGGAGGAAGAGAAGGAAAAGGTCTTGCTTTCTCAGGGGTGTCAGAGGCAGAAGAAAATCTGTGTGTAAGTGGATGTGTGTGGTTCAAACCCATGTTGTTCAAAGGTCAACTGTAAGTAAGTGGCATGTGGCCTGGAGAGGTACCACATATACAGGGAGGCTGCTGATGTAAGTGTGTGAGGAAGGAGATGGGGACACAGGAGAAGGGGTTAGACCAACACAATAGTAGCAGGGGCTGAAGTGGGGCCTTCACAGGCAGATGAAAAGGAGGGGGAAGGGAGGCACCCTGCCAACTGGGGACCACATAGCTTTGTACATCTGAAAGCTACTTAAAACAGGGAAATTTTATCACCTCTAGACCTGTAGGGAGGGAAAGGAAATAAGGAAACACAGTCTACTGGGGACCAAGAAAAAAGTGGTGGAAAGAAAGTAAGATGGTAAAAGTCATTGAAAATATCCTTAAGACAGTAAAATGTAATGATGTTACAGGACCACCAGGTTCCTACACCTGCTCCGCAGTTACAGACCAATGCACCAAGACAGCAGGCTTTGCAGCAGAGAAAGAGTTTACCGATCTCAGGGTGGCTGAGTGAGGGAGGAGGGACCCTCACTTCATCTCTCTGAGGAGTTTTGGGGTGGAATTTTTAAAGGATCATGGAGGGCAAGGGGTGGAAAATTGGGGCCACTGATTGGTTGGGGTAAAGAGGATGCAATCATCAGGGTGTGGACACTGCATGCTCTGGTGAGTCAACTGCTTGTGGGGTCCCTCAGACCAGATGCAGTCAGCTGTTTGATTGGCTTGCAGGACCTAAAAGGATATCTCAAGTGGACAGCTTAACACTTCACAATGTTCAAGTTGGTATCTATAGCGGATAGTTGTTACCTATCTGAACTTAGGAGAACTGGAGTCTTGTAACTGATTTTAAGGTGATTCTGAGGCAGTATGCATGGAATGGCAGTGAGGAAGGGTCAGAGAGCGAGCTGGCCTAGAAGCCAATGCTCAGGACCCTGCAAGCTTGGTTTATTTTCCTTTCTCTCCCTCCCTTATTTCTTAATTAATTTTATAAAACCTATAGGGATGGATTCGATAAGATTAAACTCATCTATTCAAAACACGGATTCTCAGGCTGTATATATATGTGTGTGTGTGTGTGTGTGTGTGTGTTTAAAGCAAGCTATCTGCTATGACATGTTAACAGAAAGGAAGTGGGTGTGGGAAGCGACCAGTAAGGCAGGGAGAGGTGCATGGGGTGGGGTTTGGGTTGCTACCAGGTAACTTGGAAGGAGGTTACCCACCTGGAAGATGCAGCCACCAGCCTCAGTGAGACAACAGCAAACCTAGCACATCCCCAGGCATGGTGGGAACTTTGAACATACCTTGCTCCGAAAATTTGCATCAAACAGAATAAAAATCATGAAAATAAAGAGACCTGAAATATAGACTTTAAGTTTGGGCTGCTGGGCAGATACAGAATCCTGCACCCCATGTGCAGGGCATTCACATTTTTTCCAGCACAGATGGAACATTTATAATACTGACCATGAAGGTGGCCAAAAAGGAGGCCGGGCATGGTGGCTCACGCCTGTAATCCCAGCACTTTGGGAGGCCGAGGCGGGAGATCACGAGGTCAGGAGATTGAGACTATCCTGGCTAACACAGTGAAACCCCGTCTCTACTAAAAATACAGAAAAATTAGCTGGGTGTGGTGGCGGGTGCCTGTAGTCCCAGCTACTCAGGAGGCTGAGGCAGGAGAATGGCGTGAACCCGGGAGGCGGAGCTTGCAGTGAGCTGAGATTGCACCACTGCACTCCAGCCTGGGCAACAGAGCGAGACTCTGTCTCAAAAAAAAAAAAAAAAATAGCAGAGATGATAAGCAGGACATGCTCTCTAATCACAATGCAATAATGTTAGAAGTCAATCACAGGAAGACAGCCTCAAGCCTAGTTACATCTGGAAAACACAATAACTCACGGGCCCGAGAGAAAACGATAATGGAAAATACAAAAGACATAAACCAAGCATTGATAGAAGCAGCGCATATTGACTCTCATGGGATGCAGGTAAAATGGCACTAGAAGGACATTTATAACCTTATAATATAAGGTTATGTTATAACCTATGTTAGAGAACAAAATAGAAGGTGAATTAATGAGCTCTGTGTTCAACACCAGATGGCACAGAACAGGCTCAGGGAAAAGGCTGAAGGCAGAGCCAGGCTGGAGAAGGAGAGCTCAGGGAGGCTGAGGGCAGTGGCCTGGGGAAGGGGCCTGAAGCCATGGGCCAAGGATGGAGTCCTGCTGGGAGTGTGGGGAGTGGGTCAAGGGTGCTGGATTCAGCATTTGAGGATGGGCTGTGCTGTGTGGATGAGCCATCAAGATAGACATCAGGCCCATCCAGGAACTGGCAAGACAGGAGGTAGAGCCAAGTGAATCCACGCCAGAGTCCTGGATTACTGTGAGCCATGGCAGTGGTGTGGAGAGACCACTCAGATTTCATGAGCCTGAAAGACTGTGGGTTCCGTCTGCTTACACGGGAGAGCTGGGATTAAAGGGAACAAAAGGCTTGGGGAAAGGGAGCGGGCTGCTCAGGGGAAGCAGATGTCAGTGAAAGCCAGGTTTTGTTTAAGGTGAGAGGTGAGATGTCCGTGCGAGCTGCGTGGAGGTGTCATGGGGCACCTGTTTCTCTGAGTCCCCAGGGGGCAGGGAGAGGGATGAGTGAGGGCTGGGTGGGGACCAGAGTGGCTGGTGGTGGTCGTTGTGCCCAAGCACAGCAGGGCTGAGACTGACAAGCTCATCCAGCTTCTGAATCCTGATGGAAGCCCCAGAGCCTGGTGCCCTGGGGACTCTGCAGAGGGTGGTGCAGGAGCACGGCCCTCAGGTGCTGGGAGTGAGGTGAGCAGGGTCACCCCACACCTGGCCTGCCCCCTCCTCCCTTGAAACCAGCGGGTGTGTCTGAGCACTGGGCCTGAAAGCACCGTATCCGGAGGCCCAAGGCTGAGGTCCATGGCCTCCTCTGCCAGCCCTGCTTGTCCAGGGTCTGAGCTGTCCTGGCCTCTCCCTCTGCTCCTTCACACAGAGGTCTTTAGGGCACCCTAATGTGTCCAATCAAGGCCAGGCTTGTTGGTGAGACACGCTTGGTCCCGAGCTCCATGCCAGATGTCTCCACCCTCAAAAGACCCAGCATCTCATGACTTCATGTCCCACTAGCAGTCCCTGTGCCCAGTTCACCCATCCCCACTGACCACCAGTGTTTGATTTTTCCTTCAGAAGCCTATGAGGAAATGGATTGTTGATTAGCCTGATTCAATCATTCTACATTGTAAACATATATCGAAGAATCACCTTGTATCCCATAAATGTGTATATTTATTATTTGTCAATAAAAAATAAAATTTAAAAAGATTCAGCTCCCAGCTGCCTCCTCCAGGAAGCCTGCAGTGCTTTCCCTTGCGGAGGACCAACTTTACACCAGTTCTTACCCTGGACCCTGCAGAGGGCACTTGGGTTGCCCATCAGGGACACATCCATGCCTCTCTAGCTTTCTAGCAAGCTTCCTGTCTGTTTTACTCAGCCCAGGACTTTGGGAAGCTGGAGGTGCCTACAGTCAGCACAGCTGCAGTTCAGAGGGAAGAGGCACAAAGTGCTCAGGTTGAAGTTGCCCAGCTGGAAATCTCGTTTCTCCCACTGAAAGGGGATAGTGATATTTGGGACTCACAGTTGATGTCACCATGGCACTGGATGGGAGGTCTACAGGCCTCAGGGGACCCTCTGGTCACCCCTTCCTCTCTGCAGGTGCCTCTGCTCTTGAGAAACTCAGGGCCAAGGACAGGTCACTGGATATGCTGGGGGCACCAGGGCTGGTGGGGTAGGGGGTTCCTTGGTGCTGGATTCACCCCAACCCCAGCAGGGAGAAAGAGCCTTGGACAGGCCCTGGCCCAGGGAGGGGGCGGCCAGGCAGGCCTGACTGGGGAGGCCCGGGCATCGCGCTTGGGCCAGGGGCCTGTGTGAGGGAGGCAGCCTCCCCTTCTCTAGGATGGGGCCAGTGCCCAGCTCTGCGAGACTCGTGTCCTGCACCCCACACCCCAGTGGAGAACAGCATGAGGCCCTCGGGCCTGAACCCATGGTTGTTAGTTCTGGGAGGAGATTTTGAATCCCGACTCAGTTGTCTTGAGGTTCATAGGCATATTTGGGTTTTCTATTTCTTTTCCAGACATGTTCCAAGTTTGGTCTCTTCGGCTTACTGTCTGTTTTGTCAGTTATTGGCATAATAATGTTCTATAGCAATTTGTAAAATGTCCATTATATTTAAAGTTATGTCTCCATTTGATTTCTTGTATTATATGCTGTGCCATCCCTCTTTTCATTTTCTTGGTCAATTATTCTAGAGGTTGGTTTATTTTCATTAGTATTTTCAAAGGACCACTATTTTGATTTTTGTTGACCCTTTTATTAATTTTTAATTTTCGTGGGTACATAGTAGGTGTATATATTTATGGAGTATGTGAGATATTTTGATACAGGCATGAAACATAATAATCACATCGGCTGGGTGCGGTATCTCATGCCTGTAATCCCAGCACTTTGGGAGGTCAAGGCAGGTGGATCACGAAGTCAGGAGTTTGAGACCAGCCTGAACAACATAGTGAAACCCTGTCTCTACTAAAAATACAAATATTAGCTGGACTTGGTGGCGGGTGCCTGTAATCCCAGCTACTCAGGAGGCTGAGGCAGATGAATCGCTTGAACCCAGGAGGCAGAGGTTGCAGTGAGACGAGATTGCACCATTGCACTCCAGACCAGGCGACAATGTGAGACTCCATTAAAAAAAAAAATTAAAAAATCACATCAGGGTAAATGGGTTATCCATCCCCTCAAGCATTTATCCTTTGTGTTATAAACAATCCAATTATACTCTTAGTTATTTTTAAATATACAATTGAATTACTATTGACTATTGACTATAGTCACCCTGTTGTACTAAATAGTAGGTCTTATTCATTCTTTCTATTTTCTTTGTACCTATTAATTTTCCTCATTTCTCTTACTCCCCCACTACCCTTCCCAGACTCTAGTGACCATCCTTCTACTCTCTACCTCCATGAGTTCAAGTGTTTTAATTTTTAGCTCCCACAAATAAGTGAGAACATGTGAAGTTTGTCTTTCTGTACCTGGCTTACTTCACTTAATATAATGACCTCCAGTTCCATCCATGTTGTTGCAAATGACAGGATCTCATTCTTTTTTATGGCTGAACAGTACTCCATTGTGTATATGTACTACATTTACTTTATCTATTCATCTGTTGATGGTCACTTAGGTTGCTTCCAAATCTTGGCTATTGTGAACAGTGCTGAAAACACAGGAATGTAGCTATCTCTTTGATATACTAATTTTCTTTCGAGTATATACCTAGCAGTGGGATTCCTGGATTGTATGGTAGCTGTATTTTTAGTTTTTTGAGGAATCTCCAAGTTGTTCTCTATAGTGGTTGTACTAATTTACATCACCACCAAGAGTGGACAAGGTTTCTCTTTTCTTCATATCCTTGCCAGCATTTGTTATTGCCTGTCTTTTGGATAAAAGCCATTTTAACTGGGGTGAGATGATAATCTCATTGTAGTTTTGATTTGAATTTCTCTGATGATCAATGATGTTGACTCCTTTTCATATGCCGACTTGCCATTTGTATGTCTTCTTTTGAGAAATGCCTATTCAAATCTGTGCTGAGACACCTGGAGTTGGAGGTGGGGTGACACAAGCATGCCTGTGGCTGCCACCATTGGGAGAGTGCTGGGCCAAACCTGAAACCAGCACAGCACTGGGTCTCACCCAGGGCCCACTGTAACCACTACCCGGCTACTACCTATGTTTGCTTAAGGCCCTAGAACTCTACATTCAGTAGTGGTGAAGCCAGCCAGGCTTATGTCCTTCCCTTCAAGGTGGCAAGTTCCCCCAGGCCCTGGGCAGGTCCAGAGATACTGTCTGGGAGCCAGTGACTGGAGTCAAGAACCTTAGAAATCTGCTTGATGCTTTATTCTACTGCAGGTAAGCCGGCACTGACATCACAAGACAAAGTCCTTCTCACTTTTCTCTCTGCTTTCCACAGGAAGAGGAACCTCTTCCATGGTCATGGCCACCACAGGCCTACATGGGATACTGCCAGGCTACCACCAATGTTCACTTTAAGACCAAGCGTCCTTCAGTCAGCTTATGGTCAATGCTGCCAGGCCTGGGACTCACCCTTCAGGGCAGTGGGCTCCCCTCTGGCCCAGGGCAGGTCCAGAAATGTCATCCAAGAGCCAAGGCCTTTGGAATCAGGGATCCCAGGAGCCTGCTCGGTGCTCTGCCCACTGAACTGAGCTGGTACACAAGGTGCAAGACTAAGTCCCCTTTACTTTTCCCTCTGCTTTTCTCAAGCAGAAGCAGTCTCTTACCATAACCACCATAGCTGGGAATGTGCTGGTTCTCCACTGAAGCCAGCATGTCTCAGAGTCTCACCCAAGGCCCATAGCATACTACCTGGATATCACTGCTGGTTCTTCAGGACCCAAGGGCTCTTTACTCAGAGGTGATGAATCCTGCCAGGACTTTGTCCTTCCCTTCAAGGCAGTGGGTTCCCTTCTGGCCCAGGGTGTGTCTAGAAATGTTATCTAAGAGCTAGGGCTCAAAATGAGGGCCTTATGATCCTGAACAGTGCCCTATTCTACTGTGGCTGAGCTGGTATCCAAGACACAAGACAAAGTTCTTTTTAGTTCCCTCTCCCCTCCTTAAGTGGAAGGAAGAAGTTGCTTTCATTGCTGTGAGCTGCGCTGCCTAGGATTGAGGGAAAGATAGCACAAGCATGCCCTCAGCCAGCCCAGCTGGTGCCTCACTAGGTCACATGCCTCCCACATCCACTGGATCTGAGCCCAGCACAGCATTAGGACTTGCCTAGGAATTGCAGTCCTTGTGGCCTAGATGGATTTTCAAGTCTATTTAGGACCCCAGAGCCTTTGAGCCCACAGTGGTGGGGCTTGCAAAAACTTATGTTCCATCCACTGGGATGGATGATGCCCCTCTGTCTAGGGCTGGTCTAAATGCTTCCTCTGTGGGTGGGTGTCAAGTGAGTTTAGCCTGTTTTTTTCTTTCTGCTATGACAGGGCAGCATAGAGTTCAATGCAGGGTCCCATAATCACTGCACTCTCCTTCCTCCAGTGCACAGATTTTCCATGCCACAGGACCACTACTGGGGAGTGGGGGAGGGGTGGCTTCAGGGATTCAAGACTGTGTTTTCTACCCTCCTCAGTGCCTCTTTCAGTGATAGAAAGTTAAAACCAGGTACTGTGGTCGCTCACCTGATTGTTGGCTCTATGAAGGCGTTTTTTTGTGTATGTAGATAGTAGTTAAATTTGGTGCTCCTGCAGTGGGGGCGATTGGTGAAATTTCTATTCAGCCATCTTGCTCTGCTCTCCCTTGACCCTTTCTGTTTTATCTTTGTTTTTCCATTTCATTAATTTTTGCTCAAATCTTGAGTATTTCTTTTTATCTACAAGTTTATTTCTAAACTTTTATTAACGTCTTCATCTGGGCTCTGAATAGCCTTTCTTAATATGTACTGTAAAGATTATAAATTCCTATAGTACCTTATAGTGGAAGCCCTCAATTTTTGATATGTATTATTTTATCAATGTTGAGTTACAAGCAGTTGCATAGTATGAAGTCTTATGTGTCTCACTTTTTGCACTCAATATTTTGTTTGTGACATGTTACATGTAGCCATAATTTATTTATTCTCAGATATTATACATAATCTTTCATAAATGAGTATGTCACCATTTTTCCATCTCTCTGTTTGTGCATATCTGGCTTGTTTCCAGTCTTTGGATATCATGAATAATGCTGCTGTGACCATCCTTGTACACGACTTTTGAGGTACATTTCGATACGCTTCTATTGATTATGTACCTAGGAGTGAAATCTCTGGGGCATAGGATATGCTTATATTAAATTCTATTCCATGATGACAACTGTTTTCCAAATTATTTGTACAATATGCACTCTCTCCAGCAGTGTGTGAGTACCTACCTCTGCTCCACAGTCTTGCCAATGCTTACTATTGTCAGTTTTTAAAATTTTAGCCATTTGGCAGATGTATAATGGTGGCTCAAAGAGGTGTGAATTTGAATTTTCCTGACTACTAATAGGTAAACAATTTTGTATGTGTGTATGAATTCCCTGCTGCTATGGTTTGAATGTCCCCTCTAAAACTCATGTGGAAACTTAATCCCCAATGTGGCAGTATTGAGAGGTGGGGGCCTTTAAGAGGTGATTGCATCATGAGGGCTCTGCTCCTAATTCATTCATGGATTAATGGGTTAATAAATTAATACATTATCATGAGAGGCAAACAGGTGGCTTTATAAGAAGAGGAAGAGAGACCTGAGCTAGCACATTAGCAATACTAAGCCCCCTTGCCCTGTGATACCTTGAGCCACCTTAGGGCCCTGCACAGAGTCCTCATCAGCAAGAAAGCTCTCAGCAGATGTGACCCCTTGATCTTGGACTTCTCAGACTCCATAACTGTAATAATTAAATTCCTTTTCTTTATACATTGCCCTTCTTTGGGTAAGTCCTAGTTCAGGTCTTCTATATTCTTGATTATTTTCTGTCTACTAGTTCTAACAGTTGCTGAGAGGGAGATTGAAGTCTCCAACTATAATTTTGAGTTTCTCTCTCCTTTCAGCTCTATCAGTGTTTGTTTCATGTATTTTTGAGGCACTGTTTTTGGTGCATATACATTTAGAATTGCTACGACTTCCTGGTGGATTTAATCATTGGTATGTTAGAGCTTAAGCCTACCATTTTGTTATTTGTTTTCTGTTTGTTTCCTCTGGTTATCATTCCTTTTTCTCTTTTCTTGTTAATTGAATAATTTTTAGTATTTCATTTTGACTTATTTATAGTGTTTTTGAGTGTGTTTCTTCATATAGCTTTTATTTCGGTTGCTCTGGATATTTCAATAGACATACGTGACTTATCGCAGTCTGCTGGTATCAACGTTTTGCCACCTTGAGTGACATGTGGAAACCTTTAATCCATTTAGGTCCCTTTACCTTTCACTTTATTTATTTATTTATTTATTTTTATTTTTATTTTTTTTTTGAGACAGAGTCTCGCTCTGTCACCTAGGCTGGAGTGCAATGAAGTGATCTTGGCTCACTGCAACCTCCGCCTCCTAGGTTCAAACGATTCTCCTGCCTCAGCCTCCCGAGTAGCTGGGATTACAGCCATTCACCACTATGCCCAGGTAATTTTTTGTATTTTTAGTGAGACGGTACTTCACCATGTTGGCCAGGCTCATCTTGAACTCCTGACCTCAAGTGATCTGCCAGCCTCAGCCTCCCAAAGTGCTGGGATTATAGGCATGAGCCACCGTGCCCAGCTCCTTTCATAATCTTATATATTGTTATCTTGAGCATCAGATAATGCTATAATTTTTGTTTTGATCTTCAGATTCTTAAAATAAAACTCATGTGAGAAAGGGTGGTCTATGGTTTGTACTCATATGCTTCATTGTTATGACATTCTTTCTTAAGCTCCATGGTTCCTTCTTTTATAATTTCCTTCCTGCTGAAGGTCTTCCTTTAGCCAATTTTTAAGGATAGGTCTGGAATTGACAAATTCTTCTAGCTTTCCTTCATCTGAGAATGTCTTTATTGCTCATTCATTTTGGTAAAATAGTTTTGCCAGATAGAGACTGTGGCTGACAGTTCTTTTCTTTCAGCACCTGAAAAATGTTGTACCAATTCCTTCTGGCCTTAAATATAAAAAAGATTTATTAAGATGACAAATCTTTTATAAGAGGTTATATCACCGATGGTTTCAAATACGAAATCCACTGTCATTCAAATGGCACTTGTAAGTAAAATGTCATTTTTTTCTGGTTGTTTTCAATCCTATCATCTTTAGTTTTAATAAGCTCAAATATGATATGTCTTCATTATTATGTATGTATAGATGACCTGTTGGCTCTCTTTCTCTGGAGAACCCTGACTCTTACATGGTCTATAAGCCTAGAACATTTTGTTGTGCCAGAAAGTACAGAAGTCCTTGAAAACTGATTAAAGCAAAAAAAAAAAAAAAAAAAAAAAAGGACCCAGGATCCAGCTTGATGAGGCTCCTGCTGGCCAAATCTGAGATAATATGAGCATAAAAATGAATAACGACAGGATTATAACCAAGTGACTAAGAACAGGATACATGTTACCATTTTAAGTTATAAAACGAATGAATGAACCTTCCTTTTTACAAGGAATGGTGTAGAATTTAAAAACCACCATATTGTAGCCACCATTGTAGTAATTGATTCAGGCAGAAAACATCAATGGATGCTCAAGTCATTAGATGGAAGTTAAATGAGAAATAGATTTATTTATATGAATTACTTTTTAATTTTAAAGGGGAGGAAAGATACCTTTACAATGGGAAAATCTGGCAGACACTACCATGATATTGACTGAAGATTAATAACATGAGTAACAAGACAAACCAGCATCACGGTGATGTCCTGGGAAGGATACATCACCATTCCTGCCAGAAATGCATGACCAAAGTCTAATCACAAAGGAATCTCAAACTCAAGTAAAACACATTCTACAGAATAGTGGCCTGCACTCTTCAACGATGTCAAAAAATCAATGTTAAATTAGATAATTATATTATGGTTATATAAGAGAATATCCTTGTTTTAGGACATAGGCTGAAATGTTTGGAAATTGTTGTGATATCTGCAAGGTATTCTTAAATGTTACAGAGAGAGAAAAAGAGAGAGAGAGCAAGAGAGCACAGGTAGGACAAAAATGTTACCTGGTGACTCCAGGCAAACGGTTTTTGGAGGGGGACTGTGTTACTCCTAAAACCAAGTGGGTTCTGCCCGCTCAGGGGTTCTTGGCTGCTTGGATTTTTGAAGCAAACACACACTCATCCAAGGGCTGTAAACAGTGCAGGTGACACAGCTGACTGCTATCTTGGTTTAAAAATGGAGACTCTGGAGCTGGATGATTGAATCTCTATTACACCCCCAACTTGGGTGATCTTGGTCAAGTTCTTTAACTTCTCTAGGCCTCAGTTCCCTTATCTGTAAAATAGTATGAGAATAGTCGCTGTGTTCTAAGATTGCTTTGAAGATTAACATGAGTTAATAATATCTATAATACTTATAAGGGTGCCTGGCACACAGTAACCACGCATAAATGCTAATTATTATATTTACTATTAGTAGTAATTGGACAGGCAACAAAGAAGATCCTTCAACTTTCTATGTCTCTCAGTGGTCTGAAACTTCCATCTGATACTATTTAAAAGAATTTGGGTAAGTCCTCATACAGAAAATGAGTCTTTCTTAATTTTGGAATGATGGTAAAACACTGGGTTTTAGTCCCACCAGGATCTTCTACCTGGAAAGGAACTGAGCCAGGTGGGTGGGCAGTACAGAAATGGAAGGAGGGAGCAGGGAACTAATGCTGTCTGCAAAGACAAGAGAACAAGGAGACCCCGGGGAATGCAGAAACTGGCAGCGTTTTCCTTCAACTACCATGAAAATGGCCAGACTGCCTGATATGGTTTGGCTGTGTCCCCACCCAAATCTCAACTTGAATTTTGTCTCCCAGAATTCCCACGTGTTGTGGGAGGGACCCAGGGGGAGGTAATTGAATCATGGCAGCTGGTCTTTCCCATGATAGTGAATAAGTCTCATGAGATCTGAAGGGCTTATCAGGGATTTCCACTTTTGCTTCTTCCTCATTTTCTCTTGCCACCACCATGTAAGAAGTACCTTTCACCTCCTGCCATGATTCTGAGGACTCCCCAGCCATGTGGAAGTATAAGTCCAATTAAACATCTTTTTCTTTCCAGTCTCAGATATGTCTTTATCAGCAGTGTGAAAACAGACTAATACACTGCCTGACACTCTCATTCATGAATAATTTTTGCATCAAAGAGTAAATTGGGAGTAAAATAACAGAAGATAAAAACAAAATATTTTGCAACCAAAAGAATAATTCCTAAGCTATACTCAGTAGTACATTCATAGTTTTAAATGGCCTTAAAATTTAAAAGAGAGAGTTTCATGAACCATTATGCTTATATCTTGCTTCTTCCAAAGTGCTGCTAAAGTCTTAGCCTGCTGCAATGACAGAGTACCTGGGCAGGTATGTGAAATACTCCACCTTGGTAGAGATAACAGAAACCTAACCTTGACCTTCCCATTAAAACTAAAGGGAAAATTTGACTGAAGTTTTCAAGTAGTACCCTTAAGGAATCACACATAGAAGGTACTCAATAAATATTACAGCTTGAATACATAAAACAATGCCACTGAGAGCCTCAAGGGTCTGGAGTACTCTCAGATAACTGGCATATTAGTTAGATATTGCTCTGTAGCAAACCACTTCAAAAGTTAGGGGCCTAAAATAGTAACCTTTTATTATTTCTCATGAGTCCACAGGTCGATGGGGCACTTCTGCTACTCTGGGCTGGATGTGGCTGATCTTAACTGGCTCATCAGTGATCAGCCAGTGGATTGGATGGGCCTGGCTCATCTCAGATGACTTCAGTCCTCCTCCCCGTGTTCTGCACATCCCTTCAGTAGGCTAAGCTGGGCTTGTTCTCATGGCAGTGCCAGAGGTCCAAGAAATGAGTGAAAATGCACATGTGCTTTTCCAAGCCTCTGATCCTGTCCTGTTGGCCAAAGCATGTCACAGCATCAAGCCCAACAGCATTTTGGGAGGGCCCTACTTAAACGAATGGCAAGAGTGATGCATGAAAAATTGGGCTGATTTCTGCAGTGAATCCTCTATAATTGAGAATCCCATAGAGAAGTGTTTTGGGACAGTTCATCCTAATGACAGACATAAAATAATGAAATGTCAAATGACAGACATAAAATATTGAAATGTGTGGCTGTCTCCTTACCACAGTTGATTCTAACCCAGTTGTTGAATTATTTGCCAAACCTCACCCAGTTCAGCAGGGCTATCACTATGATGCACCCTTGTATGTCTCTGAGGATTTATAAGAGACCTAAATTTTTAAAAAAGAAAGAAACTGGTCCACTCTCCAACAGTTCACAAAAATCAATTTCAGATATAGATCAAAGACCCAGATATAAAAGGCAAAATTTCAAATCTTTCAAAATTAAATGGGGGAGACTCTCTTAATATCTTTAGATTAGAAACAATTATTTAAAAAGATGAAAAATGCACTACCTATATAGGACACATTTTCAAATCTAGCCATATTGAAATTGAGAATTTTTGTTAATCAAAAGTTACCTCAAAGGGAATGTTTTTAAAAGTCATGATATGAGATAAAATATTTGTAGCACATGTAACCAAAAAGTGACTAGAACTTGAGTACATAAATAACTCCTGTAAACAGTGATGTTGATGTACTGGAAAATGTTTAACAACTGACCCTCAGGTCCCAAAAGTCCTTATTTTTAGCATTTGCTTGTTTCCAGGATATAAACACTTCCATGTGGCCAATTACAAGCCACTAATGTAAGGTCACCAAGTAGGGCCTTGGGGATAGATGGTTGCAGTTGGCTCTCACAAGGCAGGTATAAAGGCTGCAGCACAAAAGTCAACATGAAAAACAAAACAACCCAATGGGAAAAGTGCAAAAGAAGGCTTTTATGAGTGCTGTCTTAGTTCGTTCGTTTGTGTTGCTGTGAAGAAATACTTGAGTGTGGGTGGTTTACAAGGAAAAGAGTTGTATTTGGCTCAGCGTTCTGCAGGCTGTGCAAGAAGCATGGAGCTGGCATTAGGCAAGGGCCTCACACTGCTTCCACTCATGGCAGAAGGGGAAGGGAGCCCATGTGTGGAGATCACTCGGCAAGAGAGGAAGGCGAGGAGGTGCCAGCCTCTCTCTAACAACCAGGAACGAATAGAGTAAGAACTCACACTCCTTCCCCAGGGAGGGCAGTAAGGCATTCATGAGGGATCCGCCCCCATGATCCAAACACTTCCCATTAGGCCCCACCTCCAACACTGGGGATCAAATTTCAACATGAAACTTGGAGGAAACAGACAATATCAAACTATACCAGGGGCATAAAAGAGAAAACCTAAATGGACACTAAAAATACAAAAAGATGCTCAACCTAGTAACTGATGAGAGAAATGCAAATTAAAGTCACAATTAGATACATTTCACACCCTCCAGACTGACAGAAGTTAAAAAGTTTGTCAGTTTGGGGTTGGTGATTCGGAGATGTGGAAGCTCTCACCCATGGCTGAAGGAGCCTGTGCTAGTACAAACCACTGTGAGAAGCAGTTTGGCATTTCCTAAAAGAGGTGACTATGCCCACGTACGACCAGCACTTTCATTCCTGTAAATGTAAACATGCCCTAGGGAAACTCTTGCCCATACACCCCGCAGAACACACAGGGTTCGTGGGAGGACCATTAGCAATGGGAAAAAATGAAAACAACGCATGTGCCCATCAGCAACACAATAAATTATAGTCTCTATATATGATGGAATACAATTTCACAGTACTAAAAACTAATGAATTATGGCTACACGTATCAATATGGACAAATCCCAAGAACTTCATGGAGAGAGAGAGCATCACAAAAGAATACACGTAACATAACTGCAATACTATAAAGTTCCTCATCTATGCTAATAAAGACAGGGGGGGTTATCAGCAAAGTCAGGTTGGTGGTTGGAGAGGGAGGCAGGAGAGCAAGGGGGTTATGATCTGAGCATAGGACAGGAAGGGAGAGGGGCTATTCCACGCGACAGGAAATAGTCCATTCTCAAACGGTGTGAGTGTGGAGATGCTCTCTAAACTGTTGCTGCTGAGACATACGCTTGCATTGGATAGATTCTTCCACGTGTGTATTTCAAATTTGGCTTCATCAAAAGGCTTGTGGGGGAGTCACAGTGCAGTATATTAAGTGTGACAGCTGAGGAAAGCCCCAGCCGCAGAGGACAGAGAAAGGGGCGCATGTTGTCACCTGGCGGTGGGGTTGTTTCCGGAGAAGCGCCCAGGCTACAAACTGAGTTGTGAATCACGGAGGGACTTAGGTCCGGAAGGGGCAGCGCAGCGCCCTCCAGGCAGAGGAGAAGCCCCGCGGCCACCCTGCTGCGGTGCGGACTCCGCCTGTCCGGTTCCCTGTCACACCTGCTGCCTGCCCCCACCCTGCACACAGGTGCACACACACGGCGCGCATATCAGAGGCGGACGAAGAAGCCGCCAGAATTTAGCCAGTCTTCCTTCTTCATCTTCCCTCCTCCTAGTAAAACACACACACACACACACACACACACACACACACACACACACACACAAACACAAATGGGCATCACTCTTTTCTCTGGTCGTGCCTCTATTTCAGCTTGTGATTTTCACGTTTCACAAGGGTCTTCGCGGCAGAACCTGGCCGTCCCAACAGCCTGCGGAGGTTTCGGGTTGGATCTCGCGTTCGCTCCACTGCTTGGCCTGCGCTTCAGCCTCTAGCGACCAAAGACACCCATGCCACCGTCGGCAGCTCCATGCTCGCGAACTTAGACTTCAGACCTCTGTTTCACTGCAGTAATTAAAGAGACCATGGTGGGGATAGGGCGGAAAGTTATGTTCAATAAATACCTTTTAAATGATTTAAATGTGTCCTTCCTTCTCCAGCGCACACACGTACTCCTGAACTGGACACCTGGCAAGGCCAAGGAAAAAGGAGAAACTCTTTTGTAAGGCGGGAAGGATGCACCCCCTTAGCTACAGACAGGCTTCTAGGTGGCTCGCCTTCTACTAGTAGAACAGGTAGGGTTGTCTGCTAAAGTGTGGGACCTGCTACGTTGAAGCCAATCTTCTCTGAGCAAGACTCAATTTATCTTTTTCTTAATTACAACACATGAATTTTAGGTCACCAAGTAACACCACCAGTCAAAGGGTTTCATTTTATCTTTATTGCCTATTTATTACAATTCAGAAGAAAAATGACCAACTGGAAAAAAAAATATGTAACACGTATTACAGACTGTCAAATTTATTTCTTCTTCTTATTCTTTAGACAAGTTCTCACTCTGTGACCAGGCTGGAGTGCAGTGGTGTGATCTTGGCTTACTGTAGCCTTGAACTCCCAGGCTTAAGTGATTCTCCCACCTCAGCCTCCTGAGTAGCTGGGACTATGGCATGCACTACACACCTGGGTAATTTTTATATTTTTTTTGTAGAGACAAGGGTTTTGCCATGGGTCCAGGCTGGATTTTTTTCTTTATATATATGAAGACTTGGCAAAGGATATGGACAGACAGGTAATCCAGCTGGATCTTGAGCATATAACAAGATGCTCCACCACACTGGTAATTAGAAAACTATACTTTAAAACTACAAGATACTATTTTCCAGTCTCAGATTGGCCAAGTTCAAAAACGAGGAGAGTGGCTTGTGTCTGGGAGGCTGTGGGGGTCTGTGCTCTCACTCATTACTGACCGTGTGCCCCTAGGGAGATGGCATGGCAGGCAGTTTGCTAAGGCCTTCCAAAGGTAACAGTGCACACACTTTTTAACCCAGCAATTCTGCTTATTTGTCCTACAGATTTGTTTGCATATGAAATGGCCTGCCAGTGAGGATGTGCACTGCAACGTGGTTTCACTAACAAATATGCAACCAATCTACATCTCTATAAATAAATGGGTGAAATAAATAGTGATGCATCCATAGAACCATGAGTAGCCAAGAAAAAAAAAGTCTTTATATGAACTAATATGCAGAGATCTCTAAGAAATATTATTAAAAGAAATGCAAGGTGCAGAACCATGGGTACATCTACCACTAATGTAAAACACTAAAAAGCACTGTGTAAGGATATAAAAGAGGCTGTTGATAGTGTTCTTTCCAGGGAAAGAAAATGGGGTGACTGTGGGAAAAAGGTTAGAGGAGACTTAACTTTCACTTTCAAATTTTTTGCTGTGTTCAAACTTTGTCTATTCAAAAAAATTAACAAATAAAAATGCATTTAAAAAATTAGAGGCCAGTATTACCTACAGTTTCCAGCCTTCTGTGTAAAAGCAGATGTATTCACATTCTCCAGAGAAAGAGAACCACTAAGGTATCTATATTTCTATATCTATATCCATATCTCTATATCTGTCTATATAGAGAGATTTATTATAAGGAATTAGAGGCTGAGAAATCCAGACCCCAGGGAGCAAATAGTGGTATGTGACATGCCTTCATCAACAGAATATGCTGGAAGTAATGTTTTGAGGCTTAAAATTCCAATCTTTAGAGAATCGTTAGCCTCTGCTTCTCCTCTTCTAGAGTCCAGGCAAGGTAAGGTGTTAAACTGTACTGAGACAGTCATGCTGTAAGGAAGCCCAAGTTATCCATATGGAAAGAGAGACCACATAAGGGAGCATTGAGGTGCTAGACTTGTGAATGGAGCCTTCTTGGACCCTCTAACCTAGCTGAACTCCATATATGCAGTCCATGCCATGAGGAGGAGCAGAAGAGCTGCCCAGCCAAGCCCTGCCCAAACTCTCAACCCACAGAATTGTGAGAAACAATAAATTGTTGTCTTAAACCACTAAATTTTGGAATGTTTTGTTGCATAGCAATAGGTTTGCCCCAACATACTGGATGTCACTTACAAAGGTGACGATTCCTTTACAGGGACAGCCAAGTAACCATCCCATGGGAAACAAATATTTGCATTCCTTTATCTTGTTACTGAGGTGACATCTAATTGTATTCTTCTTTTTACCTTACATGAGACACTAATGGGCGTTTTTCTCCTTGATCTTTTATGGAAGCAAGCACAGTGTCAAACAGCAAGGGGCTTCTAATAGGGGATTTGCAGATGGCCAGCCTATCTCAGAATAGGACACAAAGATCTTGGGGTATCTTGTTTAGGATTCAGACAGTAGTCCCTGTAAATCCCATATACTTGCTATGAAAAGGAAAAATTGGCACATCAATTTGAGGTCAAAATGGTGGATATGAGGCAGGACTAACTTGCAGCTCCCACTCAGACAGACAGAGCAGCATGTGGAGACTCACATCATGAACTACCTCAGGAACATACCAGGAAAGCCAAGAGAATCCACAGGCCACCTGAAGGAGGTGGATTGCCACTGCAGGCTCCGTGGGACAGCTGAGGAAACTGCTAGTCTGTTTGCTTTCTCAGCTGGAAGGCTTGTAGCCTGAGGCAAGTTCTCAGCCTTGCTGACTGGCTGCCTGGAAATAAACTCAGTGCTGTTGCAGGGAGCATGGTGGGAGTGAGACCAGCCTTTTGGGCTGTGGGCTGCATGGGAGCTGGGTGACGCCTGTGGCTGCCAGCTTTCCCCCACTTCCCTGGCAACCTGTGTGATGCAGCAAGGCAGCCATAATTCCCTTGGGAACATAACTCCATTGGCCTGGGAACCACACCTCCATCCCACAAAGTAGCAGCAGCAGGCCTCGCACAAGGAGAGTCTGAGCTCAGACATGCCTAACCCTGCCCAGACCTGGTGGTCTTTCTCTACCTGCCCTGGTAGCAGAAGACAAAGGACACAATCTCTTAGGAACTGTATGGCCCTGCCTACCACCTGACCTTAGGGCAAGCTTCTATCCTCCCTATACTACTGCAGCTGATGTGCTCTTAAAAGCACCACCTCCTAGCTGGAGGCGAACCAAATAAAATTAGCACACTTTTTTTTTTGAGACAGAGTTTCGCTCTTGTCACCCAGACTGGAGTGCAATGGCATGATCTTGGCTCACTGCAACCTCCACCTCCCAGGTTCAAGCAATTCTCCTGCCTCAGCCTACCCAAGTAGCTTAGTTTTGTATCCAGCAAAGCTAAGCTTCATAAATTAGGGAAAAATACAATCTTTTTCAGACAAACAAACGCTGAGAGGATTTGCTACTGCAAAGCCATCACTACAAGAACTGCTAAAAGTAGCTCTAAATCTTGAAATAAATCTTTGAAATACACTAAAATATAATCTCCTTAAAGCATAAATCTCACAGGACCTATAAAACAATAACACAATGGGAAAAAAAGGTATTTAGACAACAAAAAGCATGATGAATAGAATAGTACCTCACATCTCAATAATAACATTGAATATAAATGGCCTAAATGCTCCACTTAAAATATACAGAATTGCAGAATGGATAAGAATTCACCAGTCAAGTATCTGCTGTCTTCAAGAGACTCACCTGACACATAAGGACTCACATAAACTTAAGGTAAAGGGGTGGAAAAAAGATATTCCATGCAAATAGCCCCCAATCCCTTCTAGCTTGTAGAGTCTCTGCTGAGAAGTCCACTGTTAATCTGACAGGTTTTCCTTCATAGATATTGGGGGAACCCGCCCCCAATATTTTAATGTATGTTCTTTCTATTTTCTGTAAGTGTTGGCCAGCTGAGAAATAAAGAGAAACAGTATAAAGAGAGGAATTTTACAGCTGGGCCGCCAGGGGTGACATCACATATTGGTAGGACCATGATGCCCACCTAAGTCTCAGACCAACAAGTTTTTATTAAGGGTTTCAAAAGGGAAGGGGGTGTAAGAACAGGGAGTAGGTACAAAGATCACATGCTTCTGAGGGTAAAAAGTGGAACCACTAATAAAGGTCTAACAAAGATCACATGCTTCTGAGGGAACAGGACAAAGGGCAAAAGCAGAACCACTGATAAGGGTCTATGTTCAGCGGTGCAAGTATTGTCTTGATAAACATCTTAAACAACAGAAAACAGGGTTCAAGAGCAGAGAACCCGTCTGACCACAAATTTACCAGGGTGGAGTTTTTCCCCACCCTAGTAAGCCTGAGGGTTCTGCAGGAGACCAGGGCATATCTCAGTCCTTGTCTCAACAGCACAAGACAGACATTCCCAGAGTGGCCATTTATAGACCGCCCCCCCAACCCCCCAGGAAAGCATTCCTTTCCCTGGGTATTAATATTCCTTGCTAGGAAAAGAATTTAGCGACATCTCTCCTACTTGCACGTCCATTTTATAGGCTCTCTGCAAGAAGAGAAATATGGTTCTTTTTGCCTGACCCCACAGGCAGTCAGACCTTATGGTTGTCTTCCCTTGTTCCACAAAAATCACTGTTATTCTGTTCTTTTTGAAGGTGCACTGATTTCATATTGTTCAAACACACATGTTTTACAATCAGTTTGTACAGTTAACACAATTATCACAGTGGTCCTGAGGTGACTTACATCCTCAGCTTATGAAGATAACAGGATTAAGAGATTAAAGTAAAGACACACATAAGAAATTATAAAAGTATTATTTGGGAGCTGACAAATGTCCATATTAAAATGAAATCTTCACAATTTATGTTCCTCTACCATGGCTCCAGCCGGTCCCTCCGTTCGGGGTCCCTGACTTCCTGCAACAATAGGTTACCTGATGCTTTTGCTGCATAACTCTTAAGATTCTTTCCTTCATCTTGACTAGATAATCTGATGAATATGTGCCAAGGTAATGATCTTTTTGTGACAAATTTCCCAGGTGCTCTTTGAGCTTCTTGTGTTTGGATGTCTAGGTCTCTAGCAAGGCCAGGGAAGTTTTCCTTGATTATTCCCTCAAATATGTTTTTTAAACTTTTATAGTTCTTTTCTTCCTCAGGAACACCAATTAGTCTTATATTTTGTCACTTAACAAAGCAAGCAGGAGTAGCTATTCTTATATCAGACAAAACAAACTTTAAAGCAGCAGCAGTTAAGAAAGACAAAAAGAGACATTATATAATGATAAACAGACTAGTCCAAAAGGAAAATATCACAATACTAAATATATATGCACCCAACACTGGAGCTCCCAAATTTATAACACAATTTCTACTAGACCTAAGAAATGAGATAGACAGCAACACAATAATAGTGGGGGACTTCAATACTCCACAGACGGCACTAGACAGGTCATCAAAACATAAAGTCAACAAAGAAGCAATAGACTTAAACTATACCCTGGAACAAATGGACTTAGCAGACATTTACAGAAGATTCTACCCAGCAACTGCAGAATATAGATTCTCTGCATCAGCATGTGGAATATTCTTCAAGATAGACCATATGATAGCCACAAAACAAGTCTCAGCAAATTTAAGAAAATAGAGATTATATCAAGTACTCTCTCAGACCACAGTGGAATAAAATTGGAAATCAACTACAAAAGGAACCCTCAAAACCACGCAAATACATGAAAATTTACCTGCTTTTGAATGACCGTTGAGTCAGCAATGAAATCAAGATGGAAATTAACAAATTCATTGAACTGAACAATAATAGTGACACAATCTATCAAACCCTCTGGGATACAGCAAACACAGTGCTAAGAGGAAAGTTCAGAGTGTTAAATGCCTACATCAAAAAGTCCGAAAGGGCACAAATAGACAATCTAAGGTCACCCCTCAAGGAACTAGAGAAATAAGAACAAACCAAACCCCAACCCAGCAGAAGAAAAGAAATAACCAAGATCAGAGCAGTACTAAATGAAATTAAAACAATGACAAAAAATACACAAGATAAATGGAACAAAAAGCTGGTTCAAAAGATAAATAAAATTGATAGACCATTAGTGAGATTAACCAACAAAAGAAGAGAGAAGATCCAAATAAGCTCAATCAGAAATGAAACAGCAGATATTACCACTGATACCACAGAAATACAAAAGATCATTCAAGACTACTATGAACACATTTACACACATAAACTAGAAAACCTAGATGAGATGAATACATTCCTGGAAATATACAACCCTCCTTGATTAAACCAGGAAGAAATAGAAACTCTGAACAGACCAATAACAAGGAGTGAGATTGAAATTGTATCTAAATAGTTACCAACAAAAAAAAGTCCAGGACCAGACGAATTCACAGCTGAATTTAGACATTCCAAGAAGAATTGGTACCAATCCTACTGACACTATTCCAAAAGACTATTCCAAAAGACTATTCCAAAAGATTATTGACAAACTGACACTAATCCAAAAGAGGATTCCAAAAGAGGGAATCCTCCCTAAATCATTCTATGAAGCCAGTATCACCCTAGTACCAAAACCAGGAAAGGAAATAACAAAAAAAGAAATCTACAGATCAATATCCCTGATGAATATAGATGTGAAAATCCTCAACAAAATACTAGCTATCTGAATCCAACAGCATATCAAAAAGATAATTCACCGTGATCAAGTGGGTTTCAAGTGCATACCAGGGATGCAGAGATGGTTTAATATATTCAAGTCAATAAATGTGATACAACACATAAAGAGAATTAAAAATAAACATCACATGATCATCTCAATACACACAGAAAAAGCATTTGACAAAATCCAGCACCACTTTATGATTAAAACCCTCAGCAAAATCCACATACAAGAGACATACATCACTGTAATAAAAGCCATCTATGACAAACCCACAGCAAACATAATACTGAATGGGAAAAAGTTGGAAGCATTCCCTCTGAGAACTGAAATAAAACAAGGATGCCCACTCTTACCAATCTATTCAACATAGTACTGGAAGTACTACCCAGAACATTCAGACAAGAGAAAGGAATAAAGGGCATCCAAATTGGTAAAGAGGACGTCAAACTGTCACTATATGCTGATGACATGATTACATACCTAGAAAACCGTAAGGGCTCATCCAAAAAGCTCCTAGAACTGGTAAATGAATTCAGCAAAGTTTCAGGATACAAAATTAATGTAAACAAATCAATAGCTCTGCTATATGCCAACAGCGAACAAGCTGAACATCAAATCAAGAACTCAATCCCTTTTACAATAGCTGCAAAAAAATAAAAATAAGAAACCTAGGGCTATACCTAACCAAGGAGGTGAAAGACCTCTACAAGGAAAACTACAAAACACTGCTGAAATAAATCATAGATGACACACAAATGGAAACACATCTGATGCTCGTGAATGGGTAGGATCAATATTGTGAAAATAACCATATTGTCAAAAGCAATCTATAGATACTATTCAATTCCCACCAAAATACCATCATCGTTCTTCACAGAACTAGAAAAAAAATTCTATAATTCAAATGAAACCAATAAAGACCCCACAGAGCCAAAGCAAGACTAAACAAACAAACAAAAAAATCTGGAGGCATCACATTACCTGACTTCAAACTATACTACAAAACTATAGTTACCAAAACAGTACGGTACTGGCTTAAAAATAGGCACATAGACCAATGGAACAGAATAGAGAACCCAGAAATACAGCCAAATACTTACATCAACTGATCTTTGACAAAGCAAGCAAAAACATAAAGTGGGGAAAGGACATCCTATTCAACAAATGGTGCTGGGATAATTGGCAAGCCACATGAAGCCGAATGAAACTGGATCCTCATCTCTCACCTTATACAAAAATCAACTCAAGATGGATCAAAGGCTTAAATGCAAGACGTGAAACCATAAAAATTCTAGAAGATAACATTGGAAAAACCCTTCTAGACATTGGCTTAGGCATAGACTTCATGACCAAAAACCCAAAAGCAAATGCAACAAAAACAAAGATAAATAATGGGACTGAATTAAACTAAAAAGCTTCTTCACAGCAGAAGAAATAACCTGCAGAATAAACAGACAACCCACAGAGTGGGAGAAAATCTTCACACTCTATACTTCTGACAAAGGACTGATAAACAAAATCTACGAGGAACTCAAACAAATCAGCAGGAAACACAAAAAAAAACAGAGAAAAAAAAACCCCCAAAATTGGGCAAATGACATGAATAGACAATTCTCAAAAGAAGATATACAAATGGCCAAAAAACATATGAAAAATGCTCAATATCACTAATTATAAGGGAAATGCAAATTAAAACCACAATGTGATACCACCTTACTCCTGCAAGAATGACCATAATCAAAAAATCAAAAAATAGATGTTGGCGTGGATATGGTGAAAAGGGACCACTTTTACACTGTTGGTAGGAATGTAAACTAGTACAATCACTATGGGAAACACCGTGGAGATTCCTTTAAAGAGCTAAAAGTAGACATAACATTTGATCCAGCAATCCCACTCCTAGGTATCCATCCAGAGGAAAATAAGTCATTATATGAAAAAGATACTTGCACACCCATGTTTATAGCAGTACAATTTGCAATTACAAAATATGGAACCAGCTCAAATGTCCATCAATCAATGAATGGATAAAGAAAATGTTGTATATATGTATATGTACCATGGAATACTACTCAGCCATAAAAAAGAACAAAATAATGGTATTTGCAACAACCTGGATGGAGTTAGAGACCATTATTATAAGTGAAGTTAACTCAGGAATGGAAAACTAAACATCATATGTTCTCACTCATAAGTGGGAGCTAAGCTATGAGGACACAAAGGCATAAAAATGATACGATGGACCTTGGGGACACAAGGGAAAGGGTGAGGGTGGATGAGGGATAAAAGTCTACATACTGGGTACAGTGTACACTACTTGGGTGATGAGTGCACCAAAATCTTAGAAATCACCACTAATGAACTTATTCATGTACAATAAATAAATCAATATTAACACAGGGAAAATTGGTACATGGAATGTCAAGAGGCCTCAGGCAAGGCCGCCCTGGGGCAGAACCCCCTCCTCCCCCACTAAGAAACAGAGCCCTCCCCAACCCTATCCAGCAGCTGGCCCTGAAGGAACAGAGTACACCTGAGAGGCCCAGGCAGGAGGCTGGAGCTTAGGGTGTAGAAGAGGAGCCAAGAGATTGTAAAGACAGAGTAGCTGCAGGGGAGGTGTAGACTCCACCACCTGAGGGGTGCCTGCAGGGGCTTGAGAACCAAGACCAAGGCTCTGCACCATGGGGAGGCCTCCTGCATCTCCCACCATGTGGACTCTGCACAGGTTGGACATTATATCCCTTGAAACTGAAGAGCTGCCTTAATATTTTTTGGGATTCTATGTTTGTGCTGACAACACCACCCCTTCCTTCCACAACACTGGGCATGGTGCCCAGCTTGGACCATGGGTTGGCAATCAATGAGTGGATGATCAGCCCTAAGGCCAAGTTCTCCTACAGCCTGTGTTTGTGAATGTTATTCATGTTATTGATCAAGGCCATGCCCATTGATGAACCTGTTGTTCATGGCTTCACTTCCTAATGGCAGAGTTGAGTTGTGACAGAGACCGTGTGGGCACAAAGCTTGAAATATTTACCCTCTGGCTCTTTACAGAAAGGGTTGTCAATTCTGAGGAAATCAATAGGAAGTAAACTATTCCAGTTCCTAAAAATGTGAGTGTTTTGTGTGGTGAGAGAGACCACACATTTCAAAGAAAAATGATAGAGATAGACTGGAGAAAATACTTACAACATATGCATTTAAAAAATTTAATAACTCTTGGCTGGGTGCAGTGGCTCATGCCTGTAATACCAGCACTTTGGGAGGCCAAGGCAGGTGAATAACTTGAGGTCAGGAGTTCAAGACCAGCCTGGCCAACATGGTGAAACCATGTGTCCACTAAAAATACTAAAATTAACAGGGCATGGTGGTGCATGCTTGTAATCCCATCTACTTAGGAGGCTGAGGGTGGAGGATTGCTTGAACCTGGGAGGTGGAGGTTGTGGTGAACTGAGATTGCACCACTACACTCCAGCCTGGGTGACAGAGCGAGACTCTGTCTCAAAAAAAAATTTAATAACTCTAATATTCTAAGGCTTCCACAAATTAATAAGAACAAGGCAAACACCATAGAATAGAAAAATAGAAAAATGGGCAAAGGAGTTGAACAGAAAAAGCGCACAAAAATACAAATGACTTATAAATTTATGATAGAGACAAATGTCATAAGTTATTATGAAAACAGAAATGTCACAGTGTTTTTCACTCACACTGATTGTATTGAGTCTTGATAAGGATGGAGGGCACATTGTGCCTTTGGGAGAAGCATCAATGAGCACACTTGTTTTGGAGGGGGTAATCTATCTAAAGTAAATGTTAAATTTTTTAAAAATGCATATCTTTTGCCAGATAATGTCATTTCTAGATGTCTAATCTATATAAATAGTCATACAAGTTCAAAAATAAATACGGAAGGATTTTCATCCTATCATTACATGAGATAACATTTTTTAAAAAAACCTGAATACTAATTAATGGAAAATGGTTACATAAATTGTAATGTATACATTTTCTAAAATATGCAGTTACTAAAAGGAATGAAAAGCGTTAATATTTTCTAAATGGAATAACTACTAAGATATATTGTTGAGCAAAAAAGCAAGTTGAATAACATTATGAATTACATGATTGCATTCTAAAATGTAAAATCTGTGTATGTACGTGTGTGTGTGTGCAGGTGTGTGTTCTAGGGAAAGGGGCCATGGCCACCTAACTCCTCCACTGGTGTGTAGTGGACAAGGTTGCTGCTGTATAAGGTAAGATATTGGTTTGGCTGCTTTAGCAAAGATCAAAATAACAGTAACTTAAAAAATAAAGAAGTTTGGTTCTCCCTCTTGTTAAAGTCTGGATTGGCAGAAGAGCCAGAGGTCAAAGTTTCCGGAGCCCTACCTGTCTCATCACTGTGCCATTCTGTCAGTGCATCTCTAGTCCACACGGTTGCAGCTGGAGGACCATGACCTGGAAAGTAGGAAGTGGGAATGTAGAGGAAAAGATAGACAGGCCCTGTGGAAGGCATGACCCAGAGTTGCACACGTGATTCACGTCACCTTCTTCTAGCCTAAGCATAGTCATGTGGCCACACCACGTAGGCCAAGAAAAAAGCAGTCCTTGGCTAGGCAGCCCCATGCCCAGCTAAAATGTAGAGGGCTCTGTTATTAAAAAGAAAACAGGAGAAGTCAATATTGGGGGATAATGAGTAGTCTCTCCCAAGGATGTCCTGCTGTCTTCCTTGCCAACAGAAAATCATAAAATCGACAAAGGAGAAACAGCAGACCATTTATGAAAGAATGCGGTTTGTCTTCAGCAGACTTATCCAAAACAGTAACAGGCAGCAGAAGATGGAAAATTATATTTGCAAAGTAGTGAGAGGAGCCAGTGTGAGCATAGCATTCTATATTATGTAAATGATCATTTAAGAAGAAAGGAAAGAGAAAAACATTTCAGAGCAAGACAGTGAGAATTGTCTGGGCACGGTGGCTCATGCCTGCAATCCCAGCATTTGGAGAAGGCAAAGCAGGAGGATTGCTTGAGCCCAGGAGTTCGAGACCAGGCTGGGCAACATGGTAAAATCCTGTCTCTATTAAAAACAAAACAAAACAGAAAGAAAAAAGATAGTGAGAATGTACCATTAATACATTAATACATTAGTACATTAAGACATGTGCTGAAAGAACTACTAACAGATATACTATATTTCAGGAAGAAGGAAATTGAACCCAGAAAGAACTAAGGTGCAACAAGTAATGGTATAGAAGAACACTGGAAATATATGGTATTTCTAGAAAGCTTTAGCTGAATCCATTAGTAATAATAACAGTAATAGTTCTGAATGTATAAAAGTAAATTGGAAAGCTCCAGCTAGAACAAGATGGCTTAGACTAGTTTTCCTTGCACCTTCCTTCTACACACAGCTAGAATAATGCAAGAGGCAAACAAAAAAACTCTCGTAGGTTTTAACAGGAAGGTGAACTGGTTTGGGCCTCAGGGATGGATGAAGTTCAGCTGCAGGGAATCTTATTTCCCCTTACCAGATGGAGGACAGTGACCCAGGTCCAGTGTTTCCATCCCGAACACAGTGACAGAAGGCAGCCAAGGAAGCCTTATTTCTGTCCTGGAACTACAGGAGTCCCTCCTACAGCACCAGGTGTATTTGCCTTCTGTTGTTGCTATAACAAAATTACCACAAACTTAGTAAGTTAAGTAACTACACATTTATTATCTTAGAGTTGTGGAGGTCAGAGGTCTCAAACTGGTCTCACTGGGCAAAACTCAAGGTCTCCAGGGCTGTATTCCCTTTGGAACTCTAGCAGGGAATCCATGTCTTTGTCATTTCCAGCTTTAGAGGCTGCTCACACTCCTTGGCTAGTGGCCCCTTCCTCCATCTCCAAGCCAGCCACATCGGGTTGAGTCCTGCTCATTCTTCCATCTCTTACTTTCTCTCTACTGCCTTCACCTTTCACTTATAAGAACCCTTGTGAAGATGTTGGATGTTTGTGATTACACTACAGAATCCAAGATGACCTCCCCATCTTAGAGTCAACTAATTAACACCTTAATTCTATTTGCAACCTTTGCCATTAGCATAACATATTCATGGGTCTAGGATTAGAGGTAGACATTTTTGTGGGAGGCATTAATCTGCCTACCACAGACTGCCTTCTGGCACCCAAAGATACACATCTATTCCATATGCAAAGTACATTCCACCCCAAGATTCCCAGGCTTATCAACCCATTAAAGTAACAACTCAAAGTCCAAAATCTCATCTAACTTTTAGATTAGCTCAAAAGTGCCAAATTGCATCATCCAAGGCTCTGGAAGTTATCCATCCTCAGGCACAATTCTTCTTCATCTGTGAACCTGGGAAATTCAAGAAACAAGTTATCTACTCCCAAAATACAAAGGTGAGATCGGCATGGGATAACAGTGAACCTGGGAAATTCGAGAAACAAGTTATCTACTCCCAAAATACAAAGGTGAGACAGGCGTAGGATAACAGTGATAGATATTTCCATTCAAAAAGAGAAGAGGAAGAAAAAGGAGTTGCCAGTCCCAATCAATTTCAAAATCAAGCCAGGCACATTCCATTTTGTTTCAAGGCTTGAGAATAATTATCTGTGACTCAAGGCTCAGACCCCCCCTCTGAGCTAGTGGCTCCGGCCTTGGAGTCTTCCTTCCTTTTTCTTGAAGTGTATCACATGTTTACAGCTGAGTAGCTTTATCATCACATTTCTTGCCTGTAGAATTTTGGTGGAGGGGGCTGTCTAACAGCCCTTTTTCATTTTGTATTCCGTCTGTCTTTTCTTTCCAAGCTGGCAGTGTTTCTGTTGGTATAACATCCTCATGAGTCTGTGAGTCTCCCATGTTTGTCACAGAGCTTTACACCATTGGACAAGAGACTCCTCTAAGGATCTTTCGTAGAGCTCTGTACCACCTGCAAGGGAGATATACCAGGATCCCATCATCAATAAGTGGGCAAGAGAAGTGCTCACCTCCTCCACAGCCTGAAACTCCCCTCTCGCATCAAGAAACAGCAGGCCAGGTGGAGAAGGCACTGGCAGAGGGCATCCTGTCATAAGTACTTACTCTTGGAAGACTCTCTGTGCCCTATAAGCAGAAGAGATCCTGCCATAAGGGCCCAGCTAGGAAAGCCTCTGTTTTTGTATGTGAACCTGAGCCTTCCCTACCCCATTGAGTGACACCAGGCCAACAAACCTAGGGAAATACCTTCAGCCCCCTGGGCAGCAACAGCAGGGACCAATGAGGAGCCTAGCAGCACCGGCTAAACCAAACAGGCAAAAATAACACCACAAAGTTTCTGAAAATTAAACTGTTATTGGAACCACGGCCCACAAAAGTAGGTCATTACCCACATACCAAGCCTTAACAGTGTAGTTGCCTTGCTACAATAGAAAATTTAAATAGAAATCAGTCTCCTAACAGAAGAAACAAAATGTCCAGATTACAGTAACATACCAAGAACCAGGAAAGCAACAACTGGAATGAGAAAAGACAATCAAATAACATCAACATGGGGATAAATTAGGTAATGAAATATTCTGACAAGGACTTTACAGGAACCATCATAAATATGCTTCAAAAATTAATTACAAATGAAAAAATAGAAAATATCATCAAAAAGTAGAAGTTATAAAAAAGAAGCAAATGTAAATTATAGAACTAAAAATACAATAAAAGAAATTAAAAACTTGCTGGATGAGCTCAATAGTAGAATGGAAATGACAAAGGATAAAATCTGTGAATTTGCCAGGAGCAGTGTCTCACGCCTGTAATCCCAGCACTTTGGGAGGCCAAGGCGGGCAGATCACCAGGTCGGGAGATGGAGACCATCCTGGCTAACACAGCGAAACCCCATCTCTACTAAAAATACAAAAAAATTAGCTGGGCATGGTGGCAGGTGCCTGTAGCCCCAGCTACTCGGGAGGCTGAGGCAGGAGAATGGCATGAACCCGGGAGGCAGAGCTTACAGTGAGCTGAGATCATGTCACTGCACTCCAGCCTGGGCGACAGAAAAAAAAAAAAAATCTGTGAATTTGAGAACAGATCAATAGCACTTGCTCATCATGTGAATAATATCATTAAGAATAACAGAAAAAAAATAGTCTGAAAAAAATGAACCGAGCCTCAGGGACCATGTTAGATTAAAAAAAAAAATCTGAGTTCCATACTATCAGAGTCTAAAAAGGAGAGAAGAAAGAGTTGAAAGAATATTTGAAGAAATAATTCCCATTTTGATGAAAGATATAAACCTATAGATTCAAGAAACTGTGATAATCACAAACAAGTAAACCCAAAGAAATCCATACTAAGACACATCATCATTAAACTTATTAAAACTAAAGACAAAAAAAAAGTGAAAACAGCCAGAAGAAATGACATCTTAACCTACAAGTGTCATTTGAATAGGAATGGATTTACTTCAAACCATGGATGATAAATATAAAACATAAAATAGAACATATTTTGCATAGAATATAGTCTCCAATAAAAATAAAATATAAAAGAAAAATCTCTTTGTAGGAGATTTGTATGGGAATTGGTGATTTTGGAGGCCTAGAAGTTCCACAATCTCCCATACACAAGCTGGAGCACCAGGAAAGCTGGCGGTGTCATTTAGTCCCAGGTCCAAGGCCTGAGAATCAGGCACTCCCATGTTCAAGGGCAGGAGAAAAGGGTTGTCCCAGTGGAGGGACAGAGGAAGAAAATTTGCCCTTTTCTCACTTCTTTGTTCTATAAGGTCCTCAGCAGACAGGAATATGTTCATCCACATTGGTGAAAGTAGATCTTCACTCAGTCCACCACTTCAAACGCTAATCTCTTCTAGAAGAACTCACAGACACACCCAGAAAAGATGTGTTACCAGCCATCAGGGCATCCTTTAGGCCAGTCAAGTTGACACATAAAATTAGCCATCATTGTGTACTTTTCCTGCCCTGGTCTTTGATTTAGCCTAGTGGTGATATGGAATTTAGAACCCCAGATCCAGTCTCTAGCTGTGCTCATTGCTCCTGGAGCACCATGCTTCTGGCCGTTTCAGAACAGAGGTAGGAAATATATGAGTTTTTCATTTGTTTGCTTTTTAAATCTATTTATCCTGTTCCCTCAAATTCTAATCAACACCACAGGACTCTTCTGGTCTTAGAGCTTCAAATTTATATTTGTTTTATCTGAGTTCCTTCCTCAGGAAAGGACCCTCAAGCCTGTCAACAAAAGTATCAAAGAACTGAAACTCACAAAATCACCACATCCTCATAATGAGATGCCAGAGCCCTCTTTCATCATGATTGCTTCCTTAACCTCTCTAGTTCCTGTTTTCTTATACATTGTTACATTTCTTCCCTGCTATATAAACCTTTAATTTTAGTGGGCTGGGCAGAAGAATTTGAGACTGAACTCCCATTTCCTTGGCTGCCTCAGTGATTGGCTGTGCAGCAAGCAGCAGGACCTAACTGAACCCCTGGTGTTTCAGTAACATAATCACATCATATTTCTCTTTCAATTTATTGGGTTAAATTACATTAATAGATTTTATTATGTAGAACCATCCTTACATTCTTGCAATAAACTGTATTAGTTGTGGATTGGTGTTATTTGACTAATATTTCATTCAGGTTTATAAATAAAATGTCTGTAATTATTGCTTCTGATGTTGTTCTTAACTGGTTTTGGAATCAAAATGAGGTTCACCTCATAGAATGAATTTTTGATATATTTTGGAACAATTAGCTTTACTTGATCATTTGTACATAATTTGAAAATTTTGTAAAATTTACCTTCAAAACCATTTTGGCCTGGGATTGTTTGTTCGAGGGGTTGATGGAAAGCAGTCTTTGAACTACTACAATTTTATTGTTTCCTGGTTTACATGTTCCAATTCTTTTTCTTCTTTTGCAGTTTTGGTTTTCTATATTTTTATAATATTTCATTCGTTTAATTGAGGGCTTTAATTTTTTCATGTATAGTAAAATATTCCTTTATGATTCTTAAAAATCTCCACTGTATTTGCAGTTATTACCTCTTTTTGTTCTGTATTTCCTTTCACAATTTACTTTTATGCTCATCTTTTTTCCTTGGTGAGTCTTGTGAGACGTGTCTATCTCGTTAATTTTTTCAATGACTTTATTTCTGCCTTTGTTAATTTTCTCCATTGTTTTATTTGATTGATCCCTGCCCTGATGGTTATCATCTCCTTTTGTGTGTGTGTTTTTTTTTTTTTTGGTTTTACTTTGTTGCTCTTATTCCAACTCTTGAGTTGAATGCTAGTTTGTTTTTAAAAATTTTATTTTCTGAAAAATGCTCTGAAAGCTATAATTTTCCTATTAACAATTGCTTTATTGGCAGTCTGTATTTTTATTATCATTTAGTTTTAAATATTCCTCAACTTCCTTTTAAATCCAAGAGTGATTTTGTAAAATGTTATTTATTTTTTAAAAAATTGGATTAAAAAAATCTTTTTTGGGCCAGGCACGGTGGCTTATGCCTGTAATCCCAGCACTTTTGGAGGCCCAGGTGGGTGGATCATGAGGTCAAGAGATCAAGACAATCTTGGCCAACATGGTGAAACCCCGTCTCTACTAAAAATATAAAAATTAGCTGGACGTGGTGCGTGCACCTGTAGTCCCAGCTACTCAGGAGGCTGAGGCAGGAGAATCGCTTGAACCCGGGAGGCAGAGGTTGCAGTGAGCTGAGATAGTGGCACGGCACTCCAGCCTGGCAACAGAGTGAGACCCCATCTCAAAAAAAAAAAAAGTATCTTTTGTTGTTTCAGTCGTATTATATTTAGGAAACATGCTTTGTGTGAAATTCATCCTTTGGAATTTAGGAGCGCTTTGCCTATATTCTAATGCTTGGTCAATTTTTGTACATGTTCCTTGATTGCCCTAATTTAACATGTATTACCTATTTTGGGAGGTTTAGAGTTCTTTTTGTATCTATTAATTATAGTGATCAGACCTTAATATGCATGCTAATTTTCTGGTCTGTTTTATCCATAAGTTTCTAAAGTAGTATGTTAAAATATCCTACTATAATTACTGATTCTTCTATTTATATCTACAATATTTTCAGTTGTCTTCTTATATATTTTGATGCTGTAATAGTGGGGACACAATTTCCTGATGTTGATATGTATGTTTTGTATTTCTTTTAAGTAGTTTAAATATCATTATTCTGGAAATTTTATCCTAAATTATGTTAGAAACATATTTCATTGTTTCTAAGTCAAGATTTTTAAACATTTTGGCATCTCTAAAACTGAGTTGCTAAGTTGCTAATTAATGAGCATAAAGTTCTCGTTAAACAAAATGAGTAAGTCTGCCATACAACATTGTAACCTATCCTTAACTATACCCTATTGAGTCATAATCCAGCCACTGTACTCCAGCCTGACCCACAGAGCAAGATCCTGTCTCTAAAAACCAACAATAGCTACAACAACAACATTGTATTGTACAGTTTACATGTATTAAGATGGTGATTTCGTGTTAAGTGTTCTTTTCACAGTAAAATAAAATTTTAAAATAAAATTGAGTTGTTTCTTTTATCTGCTGTCTGGGAGGCAGTAGATGTGACCTGGTTGTTATTGCCTGTGTTTATGTGAACATAATGATAACTGTTCTTTTTGGCATTACTTCAATTGAGTTATGTGCATTTTTTGGTACTGGATGTATTGAATTTAATTACTGTTTATAATTTCTTTAAAAGCTTATGATTTGGCATTGAAGTGAAAAGTTATGCCGTAGGCAGAAAGTTAACTACAAGAGGCTAGTGTGACCTGTTTATATGTTATGCAGGACTATAGTCAAGGTATCAAATATCAATTTGTCAGAAACTTGCTGCTGACTTTAATCTGAAGCTATTTAACTTCTAATAACATATGATTCCATTGAGAAAGGAAATGAAGCTGTGAATGAAATAAAAAATGAAATACTAATAAAACCCTGAGTTTTTACAGAACCATTGCTAACGGTGCTTATTATGAACACAGGTTAGAAAAGTATTACATCACTCTGATGCTATGCGTAATCACCAAAGGTCAAATGTTGCCACCATATTTAATTTTAAACCAAAAACAGTGTAAGCTATTTCCCCAAATATCTTAATGTGCTTGTACTAAAAAGGAAAATAAGGCATCAGATAAACTGATGACAGAATAACTAAAAGAGGCTGGGCGTGGTGGCATATGCCTGTAATCGCAGCACTTTGGGAAGCCGAGGCGGGTGGATCACCTGAGGTCAGGAGTTCGAGACTAGCCTGGCCAACATGGTGAAACCCTGTCTCTACTAATAACATAAAAATTAGCTGGGCGTGGTGGTGGGTGCCTGTAATCCCAACTACTTGGGAGGCTGAGGCAGCAGAATCACTTGAACCCAGGAGGCAGAGGTTGCAGTGAGCCAAGATCTCACCATTGCATTCCAGCCAGGGCAACAGAGTGAGACTCTGTCTCAAAAAAAAAAAAAAAAAAAAAAAAGAATAACTCAAAGAATCTGGAATGGATGTCTAGGAGACTAACTAACTAAGCATATTTGTTTGGATGCATCTGATCAGCTAAAGAATAAGTTCACTAAGAAGTGAATTAAGTTGGTTGTTGTTCCATAATGTATGACCCCTTGAAGATTCCATCAGCAAACCATTTAACAGTTATTTGAAGAAGGAACATGATTTCTGTTTGTTGTCTGAAAACCTTGCACTGATTGCAAGTTCTGGTAAGATCACTAAAGCACTGGCATCAACTTACAAATGGCATCCATATCTTGAAAGAGAAAAAATCCCAGACAACATTGAAGCACTCTTAAACGGTGCTTCATCACAAATTCTATCATTATCACACAGGACATTTGAGTATGCTCAAAAGCTTGGATAACTGACTCTGAGTGAAAAAGTAATTCGGGAGAATTATATTCTGATTTGGAAAAGTTTTTGTTTTCCTTTTATGTATTAGGGCTATTTCCAGAATTTGTAATTTAATTTTATTTTAATTTTTTGAGACAGAGTCTCACTCTGTCACCCAGGCTAGAGTGCAGTGGCACAACCTCGGCTCACTGCAACCTCTGTCTTCCAGGTTCAAACAATTCTCGCACCTCAGCCTCCTGAGTAGCTGGGAGTACAGGCACCCACAATCATGCCTGGCTAATTTTTGTATTTTTAATAGAGACAGGGTTTCACCATGTTTGCCAGGCTGGTCTCGAACCCCTGGCCTCAAGCAATCCACCTGCCTTCACTTCCCAAAGTGCTAGGATTACAGGCTAGAATTTTATTTTTAATTCTATTGTCTCTTTAGTTTAAATTTCTCCTGGAGACCACATATTGTTGGATACTGTTTTTGTTTCAAACTCTGAGAGTCCCAGCCATTTAATTGTTGGATTTAACCCATTTATATTTTGTAATTACTGTTATGTTAGTGATTATTTCTGCCAACTTCATATTTAAATTTACTTTTTTCCCATTAAGTATATTCTCTTTCATTGATTTAAAAGTTATAACTATATGTTCTATGACAATTGCCTTAATTTAATATCCAAATATATGTTTATTTGCCTCTTTTATTTTCTTAAGCATATTAATATATACATTTTCCCTTAAAAATAAAAGTAATTTTGATGTTCGTGTTACCATTGGTCTCCATTTCCTGCTCTCCTAATCCCTGTCATGTTGATATTATTTAAAATTTTAGTTCTTGGTTGCCATATATGTGTTTTTGTTTGCTTTTCTTTGGTCTTAGAGTGAGTGTATTTGCACTTTTCTTCCTTCCTAAGGCAAGGATAACACTTGCTGATTCATTTGAGGATGCTTTTTGCCTATTTCTCCTGTATCATCCTTCTGAATCTGCAGCTCTTCTTTTTTATGTACTTTCTCTGAAAGTATTTTCAGTGGGAGTCTTTGTTGATCTTTGTGTGGCAAGCCTGATACTCTAAATGCCTGAACATATTTTAAATACATACTTAGGTTTAATGAAAAATTGGAGATAAAAATTTGTTTCAAAATTTTTTATTTTCAATACTTTAAAATATTTCTCAGTTTTTCTATTGCTTCCAATGTTGTGTTTGAGAAGTTTGATGCCAATTTGATTCTTATTCCTTTGTAAGTGCTCTCTGCAAGCATTTAGAATTTTCTCTGTCTCCTAAATATTTTAAGTTCACTGTAATGTATCTGGGTGTGTCTTTTTCTTTTGTTTTCTGTTTGGTACTTTATGAGCCTTTTCCATTTGTCTTTATGTCTGGGAAATTCATCTTTGCTTTCCTTCAAATATTTCTTTTTCTCCCTCTTTCTCTTTTTCTTTTGGGACTCGATTTACCCCTACCCTTTGGATATTGGCACTTCTATATCTATCTTCCATATCTTTTATCATGTTTCACAGTTTAATCTCTTTATTCTTTCCTGCCTTCTGAAGTGTTATCAGCCTTCACTCTCAATTCTCTAACCTGCTCCTCAGCTCTGGCTGCCACTCTAGAAGGCCCATGCTAATAGACCTGTTGGTGGTTTTCTAACTTTTACCATCACACATAGCACTGTAGTGAATAACCCGCACATGTGAAAGGATCTCCAAGGGATAAATGCCCAAAATTTGAATTGTGAGTCAAAGGACATCTGAATTTCTAATTTCTGATAGTTAAATTTTTCTCCATAGTGGTGGACCGATTTGCACTCCACCCAGTGATGTGTAAGAGTACCTGCTTAAAATCTCAAATTTTAATGAGATTTTGTCAATCTGGTAGTTAAAAATAATTCTTAAGCTAGTTTTAATTTTTATTTCTTTCAATATGAGCAAGGTTGAACATCTTTTCAGAGTTCTTTATATTTTCAATGAACTTTCAATTCAACATCTTTCTTGTAGTTTATGTAAAAATTTGTTTGACCAAAATGTAGAAAAAGTGATACTATTACATATGATACAGTTGCAAGAATCTAAAGAAAAGTGTGGATTTTATTCAATTTGCACAATTTGCTAGTGTATTTCCTGGGTAGTGTGATGCTGAATAAATAGGAGTGGAGTGGTGGGGTCGGGTGGGTAGGGGATTCAGATAAATCAGAAGCAGGGTGATTTAGTCGGATCAATTCAACATCTTTAGGTATTTTTTAAAAATTGAATTCTGGCCTTATTTATGACAATTTCTAGGAGCCCTTTTTATGTTAGGGAGTTTACTCTTTGTCTAATATGAGACACAATGTTTCCCGCAGATTCTCTTTCATTTTCTGATATTGCTTATAGTTTTTTTTTTATTTTTTGCAAAGCAGATTTTCTAAACTTTCATTATAGTCACGTTCATCAGTCTTTTCTTTCATGGATTTTATATTTTGAGCATGTTTTTTAAAAAAAAGGCTTTCCCTACTTCAAAGTCTGAAAAATAATCTTATGCTTTCTTTTAGAACTTTTAGAACTTTTTATGTTCAGTTTTTAATATTGTAACCTGTGATGTATTTGGAATTTCTCCTGATTTAAAGGGTCGGGTATAGGTGTACTATTTTTTTAAGATGGCTATCAAGTTGTTGCCAGATCATTTATCAAAAAAACCATCTTTCTCTGGGCGCGGTGTCTCACGCCTGGAATCCCAGCACTTTGGGGGGCCGAGGTGGGTGGATCACGAGGTCAGGAGATCAAGACCATCCTGGCTAAAGCAGTGAAACCCCATCTCTACTAAAAATACAAAAAATTAGCAGGGCGCGGTGGCGGCACCTGTAGTCCCAGCTACTTGGGAGGCTGAGGCAGGAGAATGGCATGAACCTGGGAGGCAGAGCTTGCAGTGAGCCCAGATCGCAGCCACCACACTCCAGCCTGGGGGACAGGGTGAGACTCTGTCTCAAAAAAAAAAAAAAAAAAGAGAAAACCATCTTTCCTCTACTGTTTGAAATGCCACCTTTATTGCACACTAATTTACCCTATATGTTTGAATATATTACTTGGTTTTTAAATCTCTCCTATTGGTCTGTCTATAAAATCAGTGCCACACTATTCTATTTATCAAGGCTTTATAAAGCATTTTAATAACCAGCAGTGTTGCTCTATCACCATTACTTTTCTTCCTCTGAGTTTTACCAGACATTCTTGGCTCTTTAACTTTCCAATGTATAAAGAATGTTTGTCCAATTTTAAAAAGGTCTAATGATACTTTCACTGGATTCATATTAAATTATGAAGCAAGTTAGAGAAAATTCCCATTTTTGTTATTTACTTTTCATGTCTAATATCATGGTATGTCTTCCCATTTGTTCAAGACTTCTTTTTTGTTTCGTCAGTGCTATTTGACTACCTTAAAGTTTTCTTCATTTAAGTTTAACATACAAGTCTTGCATATTTCTTGAGTTTATCTCTAAGTATTTTAACTTAATAATGCTGTACTGAATTTGAGTCTTTTACTTTTATTTTTTCTTAAGACGGAGTCTTGTTCTGTCTCCCAGGTTGGAGTGCAGTGCTGCGATCATAGCTCACTGCAGCTTCTAACTCCTGGGCTCAAGTGATCCTCCTGTCTCAGTCTCCCAAGTAGCTAGGACTTCAGGTGCATGATACAACATCTGGCTGATCTGTTTCTTTTTAATTTTTTTTAAAGATCGAGATCTCGCTATATTGCCCAGGCTGGTCTCAAACTGGTGGCCTCAAGTGATCCTCCCACCTCAGCCTCCCAAAGTTGTGAGATTACAGGTATAAGCTACCATGCCTGGAAGGGTATTTTCTTAATTCATACATTCTTTTTCTTTTCAGAGCTTTATTGATATATACTTCACATACTGTAATATTTACAGAGTTTTGCAAATCTAATTTTAAAACATCTTCAAAACTCCAGAAAGAAATCACACACACATTAACAGTCATTCCAATTCCCACTCCTCCCGCTGCCCCACCTTGCCCCGGTTCCAGCCAACCATGAATCTACTTTTTGTCTCTGTGGATTTGCCTATTCTGAACATTTTACATAAATGAATCCTAGAATATGTGGTCCTTTTGACTGGCTTCTTTCACGTAGCACAGTGTTTTCAAGGTTCATTCATGTTTTTGCTTGCATCAGCATTTCACATTTTTATTGACAACATTTCACTATATGGATATACCACACTTTATCCATTTATCAGTTGATAAACATTTAGGTCATTTCCACTTTCGGACTATTATAAATAATGAAACTACAAACATTTGTTTACAAGTTTTTGTGTGAACATATGTTTTTAATTTTCTTGCATATATACCTAAAATTGAAGCTGCTGGATCATAAGGTAACTATGTTTAACTTTTATAGAAACTTCCAAACTGTTTTCTTAGTGGCTGCAACATTTTGCATTGCCATCAGTAGTTCGTGAGAGTTTCAATTTCTCCATAACCTCACCAATACTTGCTACTGTCTGTCTTTTTTATTATAGCCATCCTACAGAGTATGAAGTGGTATCTATTGTTTTTTTTTTTTTTTACATTTACCTAATGACAAATTGTGTTGAACATTGTTTCATGTGTTTATTGACCATCTGCATACCTTCTTTGGTGATTTCAATTCCAGTCCTTTGCCCATTAAAAAAATTAAGTTGTCATTTTATTATTGGGTTGTTAATTCGTATTTTCTACTTAATTGTTGCTTTTTTATGCTTGAAAAGCTGTGGGACTCAATATTAATTTTATTCACTGCTACTTTACTAAATTTTCTTATTATTTGTTGTACTTTTTCATTATGTTGGATTTTTCAGGCATGTAATCATGTGATCTGAAAATAGGCTAGCTCCTCATTCCTGCTGTTTCTCTTGTCATGCAATGTCAAATAACAATGGTTACAGGAGACATTCTTGTTTTGTTTCTGACACTCTCAGGAATCCTTCTAATGACGTGAATTTCGGGGCTGGAATAGATTTATATTGATAATGTTATGAAGTATTAACCTATTATTGGTTTAAAATATTAAAATCAGACTAGATTTAAATTTTCCATGGTCTATGGAACTGATAATATGATTTATCTCTTTAGAACCAAAGATTTTGTGAATTATATTAATTTCCTGATATTCAGTCATCCTCTTATTACTAGAATAAATTCTGCATATTCATAAGGAATATATTCTCATTCTAAGGCATTGTTATATTCTGTTTCCTAATGTTTTATTTAAGATTTTTAAATTGGAATTAATAAGTAAAATTGGTGTATAGCTTCCTTTTTTGTGACTATACTCCCTGCCAAATTTCAATGTTACATTTACGTCATAGAAAACATTTGGAAGTTTTTTTCATTTTTCAATGTTTTGTAGCAGTTTAAAAAACACTGAAAATGCCTGTTATTTATTAAAGACTATGTAAAGTCCCTTATAACATTATCAAAGGCTATTCTAGAGAATAGCTTATTGACAACTATATTAGTCTGCTGGGGTTGCCATAACAAAATATCACAAACTAAATGGCTTAAACAACAGAAATTTATTGTCTCACAGTTCTGAAGGCCAGAAGTTGAGATCAAAATGTCAGCAGGGCTGTGCTCTGCGGAAGGATCTGTCCAGGCCTCCCTCCACTTCTGGTGGTTCCTTGGTGTGTGGCAGCATCACTCCAGTCAGCACGTGGCATCCTCCCTGTGTGCCTGGGTCTGTGTCCAGACTTCGCCTTTTTTAAAAGGACACCAGCTGTGTTGAATGACAGCCCACCCGGCTCCAATGTGACCTCATTCTAACTTAACTAACATCTGCAATGACCCTGTTTCCAAACGAGGTCACAATCTGAGGGACTGGGGCTTAGGACTTCAACACAGGAGTTCTGGGGCATACAATTCAACCCAGAACAACAACCTTATCCATTTCTTCTCACAAATCACTCTATTTAAACTTCCTAACTTTTATGGAGTTCGTTGTGATAAGTTATATTTTTCTAGGAAATTATCCATTTCTTAAATGTTTTCAAATATATCTGAATAATATGGACCAAGTTAATGTTTATGATTTTATTAATTTTCTGTTTCTTTTTTCTCAACAAAAGTAAATAATTAACTTTTGTTTCTGGTTATTTCTCCCTCATTGTTTGTTCTTTGTGGTGTTTAAAAAGCTATTTTACATTATTTAGTGGTTTACACATTCCACTCCACCCCATCCCCCAACCATGAACTTTTGTATTTATTTCTCAATTGTGCTGTTTTTTTTCCCATAATCACTAATTTATATTTTCTTTGTTAATGCTTTATTTATGCTTTCTTTCAGTTTATTTTTCTTTAAATGACTAAATGTATTCATTTTTAAATAATTATACAGTAAAATTGACATTTTTTACTAGGGTAAAGTCCATGAATTATAACATATATACGTTCATGTGACTACTGCCATCATCGCGGTACACAGCTGTTCTATGATCTAAAAAGAAATCCCCCAAACAAGAAAATCTCGTGTGCTGTTGACACCCTCCCCCTGTCCCAGCCCCATCCCCCACTGATCTCCCTTGCATTCTGTTCTCCCCTACTGCAGTTTTGTGTTTTAGGCAATTCCATGCTAATAGAATCATCCAGTATATACTTTGGAGACCAATACTCTCACAAGCACAGTGCATTTGAGATTCATTCAGATTGTTCTGGGTGTCCATACAGGCCAGTCTCTGTGGGGCTGCTGTTTAGGTGGCTCAACCTTGCTGCAGCTTTTAACTCTACTGGCCAGCCTATCTTGTTTTTGGGACAAGCTGGGCCCTGCAACCAGTGCTTATAGTGGGGAGCATAGGGGAAGGCATGGGTGACAGCAAACATCCCACCTACCTTGCCCTCTCCTCCTTCACCTTTGTCACCCCACCCTGTAGTTGGCACCTGTTTCCACGGTGTCTCCCATGGTGTCTCCCACGTGGCCCCTGTCAGCCTAGGGATCAGCCTGCTATGAGAACCTGCCACCTTGTCCTAGCTGCCCACTCCAGGGTCCTCCCACTGCACTTACCCTTCTCAGAGCAGCCATTACCCTGCAGACCTGGCCAGGGCAGAGCATGTGGAGCCTGCACCATGGGAAGACCTGGTGAGGCTCAAGCTGAATTGTTCTACATGCTTTCCTATACGTTCCAAAAATGTCTGAAAAACACATCAAGAGTCCTCAGTCACTCCTCTCTCCTCCCTGGATGCATTTATTTCAGTCTTTTCTTTCCTTCCTGTCTCTGTTTCTCACGGAGGACGCTGTGCCAGCTCTCAATGCTGGGGGCTCTGCTGACCTTCCTCCAGCCTCATTCATTCCTCAGATGAGTGGTCCTATCTCAGGGCTGAACTCCCTACTCCATTAAATTCCTGCTTCTAAGGTGCCCCCAGACTGGATCAGGGGCGACCACATTCAGCCACCTCTGGCAGAGTGTACACATGGTTGCAATAATCCTGGGAGTTCCCAAGAAGGAAACCCCCACTGCGTGTTCTCCCTGGCCTCCTGGGGTACTTCTCAGAGCAAGTGGGAGGAGCAGGAAAAGTGGCTTCACCAGTATCTCTTGATGGCTATTGATAGAAATGCTATGTGGAAGGGTGGGAGTGGGGAGGGATACACACAGCCAAGGAGGCCCAGCACTCTCCCAAGGGCTAATCTTTGGAGTCCCTGGCAAGAGGTAGGGAGCGGGTAATGAAGGAGCAATGCCCAGCAGGAGTGAGTCATCGGACTGGAGACCAAGAAAGGCCCAAGGAGGCACTCAAGTGCTGAAGGAATAAATGGTGGGCTCTGGACTTTAGTTAGTGTTCCTCACAATGTGTTAGATGGGAAAAGGTCTGGGTTCAAATAGGCTAGGAAGTGCTGCTCACCCGCAGTTAAATGTGTTCATCTGCTGGACAGCCTCTCAGAGCCTCTCTGTTCATCTTCGTCAGAACTGAGAGGAAAAGTTGGCAGTGAGTAAAGGGAGCTGGGAGGCGACACAAGGAAACGACTTTGTGGGTCATTGATCCATTGACCCCTCTCCTGTAAACTCTGCCCCAGGGACATCACTCAAGGACAGCTGAAGGGTGGCCTGGAAGGGCCTGGAGGAGAGATAGTCATTGAGGTGGGACCCAGGGCAGTGGCCGTGGGGATATGGGAGGCGTGTGGCCAGTGGTCAGGACAGAGTTCTCCCTGGGGTGAAGCGTGGGCCCTGCGTGGTCACCGTGATCAGGGCGGGCCAGGGCACACTGAAGTAAGGCAGAACAAGGAGGCCTGGAGGCCATAAGCTGTGGGTGGGACCTGCGCTCATCCAGGGCTTTGCACAGCACTGTCCCAGTGAACATGGCTGAGGCCTCACTGTGGCCCTGTCCTTTCTTTCTGGGCATCCCTGTCCTTTCCTGGGAGGGAGAAGAAGCAGCAGATTGTCCTACCTTGGCCATAGCGGGATCATTCCTTCCAGGGGCCTGACTGACCCCGTGGCACTCAGGGCAGCCTGCTGGGCGTTGGCTCTTTTTGACCCCTAGCCCTGGTCTCCTGGGCAAACCCCTGAACCTAAAGAAGAAAGGCCCCCGCCAGCTCCATCCTAATCTCAACCCACTTCTCTCCAAGAAGCTAAAGGAGCCTGCTCGGCTTTCATTCTCTGGTTCTCTATCCTCCCCTAAGACCTCAGGCTCATCCCTGGCTCCAAGCCCTTCATCTTCTGCTCTTATTGCCTCCCGGCAGCCCAGGATTTGGGGCTGTCTAACGCCCTCCGCAGTCTGCCAACTCTCTATCAGCGAAGGCTGAAGAACTGCGTTTGCGAAGAGTGCGTGCGTGGGGCCTCAGCGGGGCTTCGGTGGAGAGGGCAGGGCCTCCTACGAAGGGCGTGGCCTGAGTGCGGGGGCGGGACCTGTGGGCGGGGCGCGGCCTGAGGGCACTGCTGAGGAAAGCCAGTTCCTCCTACTCCCCAGTCCTGTGCTCCCGTGTCCCCGTCTCAGCAGGTCCCCGCTTAGTCCAGCACCCTGGGGAATGCTGCCCCTGGCTGGCAGCACGCCCTGCCTGCGTTCCTCCCGTCTTTGCTCCTGGTCACTGTGCGTCCTGCACAGTTGCCATCCGTGCCCACACGCTGCCCCAGGGCCCTGGTCTCCCGGTGTGGCTCGGTCTTGGTGTCCCCGCTGCGGTCGTCCCATTTGCCACCGCCGTTTGCATGTGGGCCTTTCCACTAAGAAGCGGGCACCCTAAGGCCCGAAGCGCTGGAGCCTCTCTGACTCTCTGTCCAGTCTGGCCTGGGACAGACACCTGTGGACACCTGAGGCAAAGGGAAGTCGGGGGCCAGGGACATCTCAGAGTAATGGGGTCTCGGGAAAGCAGGGGAGGCCGGGGCTGCAAGGGGGAGCTGGGGCAGGCAGGGGAGCCCAGCCCTGCAAGAGGGCAGAATGAGCCGACGGCAGGCCCCGCGGGGCGGTGCGCGGGGCTATGGAGACCACGCTCCTCCGTCCCCTCCTGTGTGTCTCAAGAGACGCGGCAGGGCACAGGCGACCGCCTGCTCCTGGCTTCCCCGGCTTTCCCAGGCCCCGGGAGCCAGGACTGTCTGAGTGGGGTGATCCGCCTGGACATTTGTTCGGAGATCCCTGCGTGGAGGACGACCTAGCGGGGAGAGGCTGGAAACAGGCGAGGAGGAGCAGCGCGGCTAGGGGACTGGACGACTGGAACCGGGTCCTCCTTAGCTAAGAAAGGGAAGGGCCTCAGCCTTACTGAAAGGAGCGCCTGCGGAGGACGCGGCCCTGCACCTGCGGCTTTTCCGCACCCCGCACGCCCGGCGTAGGCATCTCCTCCCCAACACAAGCAGGGGCAGCCCAGCTGCAGCCGAATCCACCTTGAGCGCAGCGCTGGGGTCACAGCCTCCGACAGCTGCGTAAGACTTGTCCTCCCCGGGCCCTTTCAGCGGCCTTCCAGAGTTCAGCATCAGCGCTCCTGGCGCAGACCCCACTGCTGACTCCTTTCACTCCCCCGCCACCCCTTGAGCTATTTGAACTTCTCATCCACCTGCAGGGCCCCGATGTCACCGGCTGACGTCACCAGCTGTAGACAAACAGGAGCAGGTTTCTGTTTCCCCCTCCTGGCACCTGGCCAAATGCCCAGGTATGCACCCACCCCCTACTGCTGTCTCCGTGGGGCTGCCCACCAGACCCCAAGGAGATCGAATGGGGAGTCTGTAGATCCTGATGTTACCAAGCCTCAGAGGGCCAGGAGGAGCTCTGAGCCAGGCCCTCAAACCCAGTAGGGTCCACGGCTGGGAGAAGGTCAGGGGCCCAGCCTGCTCTCCCGCTGCGTGCTGTGGCTCGCTCCAAGGAGGATGGTGGCCACACTGCACACACCTCTGTCCCCCTGCAGGCTTTCTGGCCTCAGCTCCCACTGGGTTCGGACAAGGGCGCAGAGCCACCTGGGAGTAGCTCTTTTCCCAGGTCCCGCCCCGGCTGGGCTGCCGTGGGGGTGGCCTGCTCTACCAAACCCTGCTCCTGGCTCCTGCCAGGGCCGTCTCCAGGGCGACAGCCACACCTGCTGTTACCCAGTCAGGGCTCAAAGAGGTCACAGTTCCCTGTCCTTTCCAGTCTCCTCAGCCCCACCCACGCCTCTAAAACAGACTCTACCAACGCCCCCAGGGCAGTGCTGGGGTCCTGGCTGGTGGGTGTTTGCTCTCCTTGATTTCATTCCAGTCTTTGATAAGCATTCATTGAGCACCTGTTGTGTACACTAGGCCTGTTTAGGTGGTAGGACCGGAGGAATATGACTTGGGTCCTGGCCTGTGACAGGCAAGAGCAAAAGCAGGGGGGAGGAGGAAGTGGTAGGGAGATTTAGGGCCCCACGTGATCCCCAGCACCCCAATTCATGTCCCAGGAAGAAAAAAATGGTAACTCTTGGCCATGTTTTTCGATAGTCCCTAATCAGCTATGTCAGCTGAGAACACATCCAGACCACATAATATTTAATGATGATCTAGCACTGTCATTACCTATTTTTTAACAAGATGTCCAAGAAAGCCACCTGTGAGGATGTCAGATTGTCCTCCTGCTGTTTTTGTCATGCTCTACTTCTGCACACAGGAGACACACTCACAGGCAACATGCAAACACACATACATGGGAGAGACACACACACAGAGGAGAGTAGCAGGAACTAGAGGCTGGCCAGCTCTACCTTTTTTTCACTCCACCAACATGTTTTGAGTCCCCTCAGACAGATCAGGCCCCACCAGGTGTGGGGTTGCCCTTCCCTTGTGGAGGTCACCCAGGTAGTTCAGTCGGAGCTCCCAGTGGTGGCCAGGCCGAGAGCAGAGAGGCTTCTCTTGGTCCCTGTCACTCCTCCCTCCTACACTTCCTTTCCCCCTTGGCCCCGATGACCAAACCAACTATTGGACTAAGAGGCCTGTGGGGTCTCCTCAGGGTCTCCAGGCCTGGACACACCCTGCTGCTTTTCCTGGGCAAGAAGCTTGATGAGTTGGACATGCAGTGGTAGGTTGGAAGCTGAGGCAAGAGCGGGGCTAGAAAGAGTGGACCTGCTCTGGAATAAAGTATGGGAACATCAGGCATCTCTTGGAACACTGCAGGAAGGTGGGGGAAGGAATGGCACACAGTGGCAGCCTGAGCAGGGGCAGGAGGCCACTGTCCACTGAGCACCTTCAGGTGTTTGCCAACGTGCAACATGAACCCCTCCCTGAAGGCTGCCTCGCATTAGGCCTTGGTGCTCCCCCATGGGATCTGAGGAACACAGAGATGCCCATGGTGAAACGGCTCCATGAACTCAGCTGGCGTCAATAGGAGCTTCAGATCACAAGTGACCAGGAGAATATGTGCCCCTGAAGGACTATAGAAACCTGGAGGAGATGCTGGGTTTTCCGCAATTCCACCCGACCTGCACCCTGGGACAACATAGGGAAGCAGGTGCTGGTAAGGCTGCCGTTGCTGCCCCCCAGGCCCGTGGTGGGGGCAGGATGCACCATCACAGCCATTGGCCCCATTGGCAGAGCACACTTATATCACCCCCTGCTGCTCACACCAGCCCTGTGTATACTCAGGGATAGGGACAGGAATCATTCCCATTTTATAGATGGAAAAACTGTGTCCCGCAGAGAGGACATAATTGACCATACCTAGTAAGTGGTGCTATTAGGGCTGTTACTCAAGCCCCTGCCTGGAACCTGGACTTCCTCCTGCTGGGCTCGGAGAGCCCCATCAACCCACCCCTGCAGAAACCACCAGCTCCACACTGGCTTCCTAACCCACAAGCATCGCCAACTGTCCATCTCCCCGGAAAACATTCAGTTGCATCTCTATCTTATACCCTTCACGAAATACATTTTGGGTGGACTATTTCCTACATGCAAAATCCACAGTTGCCTTTATCTAAGTCTTAGGGTCAAAAACAGGAGGATAAGTTTGTAAACTTAGGTTAAAAATCTTCTCAATTAGCACACGAAAAGCAATAAATGAAAATAGTGATAAACTTGACTTCACTAAAATGAAAATTTTCCATATGATAAAAGATTCCACAGACAAGCTTGAAAGTCTTTCTACCAAATGGAGAAAGAATCTGCTATGTGTACAAGTGGCCAGAAAATATAAACAAGTCCTGCAAACCAACAGGAAAAGACTAACAATGCAGCGTGAGGCACAGGCCAAGGAGAACAAGGGCAAGTGCAAATGCAAGGTGGGAGGTGGGCAAGCTCACCACGGCCACAGCCATGGCCACTGAGGGAGTCTGAGCCATGCCCAGGTTGGCATTGAGTTTCCATCAGCTGGCAAATGTTTTGAGTTCATAACACACAGGAAGGGTGCGGGAGTGGGGAGCAGGTGTCTTCTGCATTGCCAGGGATTGTAAAGGGGCAGAGCTGCCCTGGGGCCTCCAGGCAGTGCTTACTGACATGCCACCCATGCACCTGGGAGCTGGCACTTCCATCCTCAGACTCCCCCAAGATTCCCCCAATATATATGCGGGCAGGTAAACAGAAGCCCAGCAGCACTGCCTATGACTGAAAACTGAAAGGTCTGGAAAGAATTGAAAATACCATTTGTAAGAAACTGGCAAAAGGAAACTATGTGTCTATGTGTGTGCATGTGCGCGTTTGTGTGTGTTCATCCATGTGTGTACGCCCATGCCATGGAATACAATGCTGCAATGAGGTGGACAACATCTCCAGTGAGGTAGACACAGGGTGATCTCCAAGGTCAGTGAAAATGTTCCGTGCACACCAGACCCATTGCTCTTGGAATCAAGACAAACCCACTCTCTGCCTTCCAGGCCCTCCCTAGCCCCTACTTCACTACCTGCCCTTGCTGTCAGCCCAGCTCCCAGGCCCTCTGCTCCCTTGTGGCCTTTCTCTGACCTTTCATCAACCTCAAGGCTGGCATGCATCCTTCACTCTGTTCTCCCCACTGGAGCCGGCCCTGAGGCTGCCTCCTATGGCAGCTTTTGCTAACCACTGCCCCTCAAGGTGCACCGTGCTCCTCACTGAGGTAAGACAGGTGCCCAGGGGCCCTGTCTGACTGCACGCTGCTCAGAGGCTGGCGGCAGCATTGGCGGCTCAAGGCCAGGCCAAGGTGGCAAGAGAGCAGCCTGTCGAAGGGCAGCCCTTATGAATGGGCTCTCGTCTGACTGTAATTGGAATTTGTATGAAGTCTCTACTTCCAAGAACTTCCCCAGCAGACGAATCTAGGCTAGAATCTGTTAGGAAAAAGGCTTATGGGGTGCCTGTATAAACTGGCTATAAAAATATGGGACAATAAGTTGTGGAAAGCCACAAGAGGCCTCTGAGGAGGAAAGCCTTCTTATCGCCATTATGTTCCCACGCTCTGAGTGTGACTTGCTGTCTTATCCATAAACACTGTGTTCAAGGAAAAAGACACTCCTTTAAAGCACTGGAATCTGGCCAGACGTGCAGGCTCCTAGTTAAGCCCGCTCCCACTAGCTACCCTCCAATAAGTTGAAGATACACTGAGCACAAAGGAGATCCATTTAAACTGCCACTGCTATAGATTACATGTATGACGCACTGCCTCCCTTTCACTATTTCGCCCTGAACATCTGCTTCTTAGATCTCAGTGATTGTACTCAATAAATAGTGTGGAGACCAGAGCTCTGAGTCTTTTGCAACCTCCATTTTGCAATTGACCCCCTAGCCCCTACTCTGTATGCACTTTTAACCTGTCTCTTCTCATTCCTTCATTGCCACCGGACTTTGGGTACCCTACAGGTGGTGTTGAGTCTGGTCCCCAGCAGAATCTCCTGGGAGCCAGCCATAAATCTTCCCAAAATGAGGGTGTGCAATCTCATTGCTCTGGAGGCACGCTGCTTGCCCTTGGAGCCGACCTGTCATTCTGCATCCTCCAGGCTCTGCCTGGAGCCAGGAGCCAGGCCAGGGAGAGGTGGACAGGAGTTGGCAGTCACTGTGAAGGAACACATTTTTATCATTTAATTAAGAGCCTCTCAGAAAAGCGAGCTCTGTTTCTTCTTGAGCTGGTCAAAGGAAATGAGAAGTGACATTTTCCCACTCCACCTTTCCCTTGGCCCAGGAAGCTCAAGCTGGAGGCACAGGATGTAGGCAGCCTCAGGCTGTGTGCATCCAGGGCTGGGCCCAGGGGCAGTGGCGAGGCGTGCAGCCTTTGCTGGGCTCTGGCTGTGCCCAGTGCTCTCACTCTCTCATTTGCTCTCATAAGTGCCGTCTGCATTATCGATCACCCTCTGGGTCCCTCCACAATGCAGGGGCTTCAGGCTGCACCCACTCTTTGAGAGTGCTGCACTCTTGTACTCTGCCTCTCCCAAGCATGTGTGTGACAGCAAGATGGCTGCAGATATGCAACTTCCAATAATCAATCAACTCTTAAATGATCCTCAATAAACACTGAGGTAATCACCAGGAGCCCCACACCAGCATGTCTGTACCCATCTGTTGCTCTATCCACCTTGATGCATGACTGACAAGTGTTCACACATGCACCACTGGCAGGCTCCGCTCCTGCTTTGGAGGATGCAGGCAGGGCGTCACTCTTGGGGCTCCCGTCTCCTGGGGAGATAGAGTGAGGGAGGGGCACTCACAAAGCACCTCCCAAGCCAGTTTCTGACCCTGCGATTGCCCAGCGTCTGAGGGAACTGACCCGCAAACTCACTGAG'"
      ]
     },
     "execution_count": 33,
     "metadata": {},
     "output_type": "execute_result"
    }
   ],
   "source": [
    "#now let's convert a to a string\n",
    "def convert_to_string(a):\n",
    "    #convert to string\n",
    "    seq = ''\n",
    "    for i in tqdm(range(a.shape[0])):\n",
    "        if a[i, 0] == 1:\n",
    "            seq += 'A'\n",
    "        elif a[i, 1] == 1:\n",
    "            seq += 'C'\n",
    "        elif a[i, 2] == 1:\n",
    "            seq += 'G'\n",
    "        elif a[i, 3] == 1:\n",
    "            seq += 'T'\n",
    "    return seq\n",
    "stringseq = convert_to_string(a)\n",
    "stringseq"
   ]
  },
  {
   "cell_type": "code",
   "execution_count": 34,
   "metadata": {},
   "outputs": [
    {
     "data": {
      "text/plain": [
       "True"
      ]
     },
     "execution_count": 34,
     "metadata": {},
     "output_type": "execute_result"
    }
   ],
   "source": [
    "#looks identical!\n",
    "seq == stringseq\n",
    "#ok, so the bed file is in order"
   ]
  },
  {
   "cell_type": "code",
   "execution_count": 47,
   "metadata": {},
   "outputs": [
    {
     "name": "stderr",
     "output_type": "stream",
     "text": [
      "100%|██████████| 603/603 [00:33<00:00, 17.98it/s]\n"
     ]
    }
   ],
   "source": [
    "#let's test it by looking at example 603\n",
    "#chrX\t132168903\t132299975\ttest\n",
    "dataset = get_dataset('human', 'test', num_threads=1) #make sure num threads is 1!\n",
    "it = iter(dataset)\n",
    "for i in tqdm(range(603)):\n",
    "    data = next(it)\n",
    "# data = next(it) #this should be element 603"
   ]
  },
  {
   "cell_type": "code",
   "execution_count": 48,
   "metadata": {},
   "outputs": [
    {
     "data": {
      "text/plain": [
       "{'sequence': <tf.Tensor: shape=(131072, 4), dtype=float32, numpy=\n",
       " array([[0., 1., 0., 0.],\n",
       "        [0., 0., 0., 1.],\n",
       "        [0., 0., 0., 1.],\n",
       "        ...,\n",
       "        [1., 0., 0., 0.],\n",
       "        [0., 1., 0., 0.],\n",
       "        [0., 1., 0., 0.]], dtype=float32)>,\n",
       " 'target': <tf.Tensor: shape=(896, 5313), dtype=float32, numpy=\n",
       " array([[0.01841736, 0.0067215 , 0.00482941, ..., 0.        , 0.        ,\n",
       "         0.        ],\n",
       "        [0.00119877, 0.0221405 , 0.        , ..., 0.        , 0.        ,\n",
       "         0.        ],\n",
       "        [0.00652313, 0.01207733, 0.        , ..., 0.        , 0.        ,\n",
       "         0.        ],\n",
       "        ...,\n",
       "        [0.0617981 , 0.01374817, 0.02703857, ..., 0.        , 0.        ,\n",
       "         0.        ],\n",
       "        [0.02204895, 0.00998688, 0.01577759, ..., 0.        , 0.        ,\n",
       "         0.        ],\n",
       "        [0.02874756, 0.02783203, 0.01255035, ..., 0.        , 0.        ,\n",
       "         0.        ]], dtype=float32)>}"
      ]
     },
     "execution_count": 48,
     "metadata": {},
     "output_type": "execute_result"
    }
   ],
   "source": [
    "data"
   ]
  },
  {
   "cell_type": "code",
   "execution_count": 49,
   "metadata": {},
   "outputs": [
    {
     "data": {
      "text/plain": [
       "array([[8.5083008e-02, 2.9891968e-02, 0.0000000e+00, ..., 0.0000000e+00,\n",
       "        0.0000000e+00, 4.8291016e-01],\n",
       "       [6.6162109e-02, 1.9317627e-02, 1.6093254e-04, ..., 0.0000000e+00,\n",
       "        0.0000000e+00, 0.0000000e+00],\n",
       "       [7.3425293e-02, 3.1372070e-02, 2.8488159e-02, ..., 0.0000000e+00,\n",
       "        0.0000000e+00, 0.0000000e+00],\n",
       "       ...,\n",
       "       [6.0424805e-02, 5.1696777e-02, 0.0000000e+00, ..., 0.0000000e+00,\n",
       "        0.0000000e+00, 0.0000000e+00],\n",
       "       [5.7891846e-02, 3.4515381e-02, 2.7359009e-02, ..., 0.0000000e+00,\n",
       "        0.0000000e+00, 0.0000000e+00],\n",
       "       [1.0424805e-01, 4.7882080e-02, 2.0919800e-02, ..., 0.0000000e+00,\n",
       "        7.3303223e-02, 0.0000000e+00]], dtype=float32)"
      ]
     },
     "execution_count": 49,
     "metadata": {},
     "output_type": "execute_result"
    }
   ],
   "source": [
    "test_zarr[603] #this one is actually 604!"
   ]
  },
  {
   "cell_type": "code",
   "execution_count": 50,
   "metadata": {},
   "outputs": [
    {
     "name": "stderr",
     "output_type": "stream",
     "text": [
      "100%|██████████| 131072/131072 [01:24<00:00, 1543.84it/s]\n"
     ]
    }
   ],
   "source": [
    "stringseq = convert_to_string(data['sequence'])\n",
    "seq = fasta['chrX'][132168903:132299975].seq"
   ]
  },
  {
   "cell_type": "code",
   "execution_count": 51,
   "metadata": {},
   "outputs": [
    {
     "data": {
      "text/plain": [
       "True"
      ]
     },
     "execution_count": 51,
     "metadata": {},
     "output_type": "execute_result"
    }
   ],
   "source": [
    "seq==stringseq"
   ]
  },
  {
   "cell_type": "code",
   "execution_count": 54,
   "metadata": {},
   "outputs": [
    {
     "data": {
      "text/plain": [
       "32768"
      ]
     },
     "execution_count": 54,
     "metadata": {},
     "output_type": "execute_result"
    }
   ],
   "source": [
    "(196608-131072)//2"
   ]
  },
  {
   "cell_type": "code",
   "execution_count": 65,
   "metadata": {},
   "outputs": [
    {
     "name": "stdout",
     "output_type": "stream",
     "text": [
      "196608\n"
     ]
    }
   ],
   "source": [
    "#seems good, so we have to redo it, then extend the sequence, save the one hot encoded data, and then convert it to tokenized form\n",
    "#now the key is we don't want to just use 131072 of the data, but extend to 196608, so let's see how to extend the sequence\n",
    "start = 132168903; end = 132299975; chrom = 'chrX'; original_length = 131072\n",
    "#we want to extend to 196608\n",
    "diff = (196608 - original_length)//2\n",
    "start = start - diff\n",
    "end = end + diff\n",
    "seq = fasta[chrom][start:end].seq\n",
    "print(len(seq))"
   ]
  },
  {
   "cell_type": "code",
   "execution_count": 66,
   "metadata": {},
   "outputs": [
    {
     "data": {
      "text/plain": [
       "32768"
      ]
     },
     "execution_count": 66,
     "metadata": {},
     "output_type": "execute_result"
    }
   ],
   "source": [
    "diff"
   ]
  },
  {
   "cell_type": "code",
   "execution_count": 70,
   "metadata": {},
   "outputs": [
    {
     "data": {
      "text/plain": [
       "True"
      ]
     },
     "execution_count": 70,
     "metadata": {},
     "output_type": "execute_result"
    }
   ],
   "source": [
    "ogseq = fasta['chrX'][132168903:132299975].seq\n",
    "ogseq==seq[32768:-32768]"
   ]
  },
  {
   "cell_type": "code",
   "execution_count": 68,
   "metadata": {},
   "outputs": [
    {
     "data": {
      "text/plain": [
       "131072"
      ]
     },
     "execution_count": 68,
     "metadata": {},
     "output_type": "execute_result"
    }
   ],
   "source": [
    "len(ogseq)"
   ]
  },
  {
   "cell_type": "code",
   "execution_count": 71,
   "metadata": {},
   "outputs": [
    {
     "data": {
      "text/plain": [
       "131072"
      ]
     },
     "execution_count": 71,
     "metadata": {},
     "output_type": "execute_result"
    }
   ],
   "source": [
    "len(seq[32768:-32768])"
   ]
  },
  {
   "cell_type": "markdown",
   "metadata": {},
   "source": [
    "# figuring out how to extend and save seq"
   ]
  },
  {
   "cell_type": "code",
   "execution_count": 72,
   "metadata": {},
   "outputs": [
    {
     "data": {
      "text/html": [
       "<div>\n",
       "<style scoped>\n",
       "    .dataframe tbody tr th:only-of-type {\n",
       "        vertical-align: middle;\n",
       "    }\n",
       "\n",
       "    .dataframe tbody tr th {\n",
       "        vertical-align: top;\n",
       "    }\n",
       "\n",
       "    .dataframe thead th {\n",
       "        text-align: right;\n",
       "    }\n",
       "</style>\n",
       "<table border=\"1\" class=\"dataframe\">\n",
       "  <thead>\n",
       "    <tr style=\"text-align: right;\">\n",
       "      <th></th>\n",
       "      <th>0</th>\n",
       "      <th>1</th>\n",
       "      <th>2</th>\n",
       "      <th>3</th>\n",
       "    </tr>\n",
       "  </thead>\n",
       "  <tbody>\n",
       "    <tr>\n",
       "      <th>0</th>\n",
       "      <td>chr18</td>\n",
       "      <td>928386</td>\n",
       "      <td>1059458</td>\n",
       "      <td>train</td>\n",
       "    </tr>\n",
       "    <tr>\n",
       "      <th>1</th>\n",
       "      <td>chr4</td>\n",
       "      <td>113630947</td>\n",
       "      <td>113762019</td>\n",
       "      <td>train</td>\n",
       "    </tr>\n",
       "    <tr>\n",
       "      <th>2</th>\n",
       "      <td>chr11</td>\n",
       "      <td>18427720</td>\n",
       "      <td>18558792</td>\n",
       "      <td>train</td>\n",
       "    </tr>\n",
       "    <tr>\n",
       "      <th>3</th>\n",
       "      <td>chr16</td>\n",
       "      <td>85805681</td>\n",
       "      <td>85936753</td>\n",
       "      <td>train</td>\n",
       "    </tr>\n",
       "    <tr>\n",
       "      <th>4</th>\n",
       "      <td>chr3</td>\n",
       "      <td>158386188</td>\n",
       "      <td>158517260</td>\n",
       "      <td>train</td>\n",
       "    </tr>\n",
       "  </tbody>\n",
       "</table>\n",
       "</div>"
      ],
      "text/plain": [
       "       0          1          2      3\n",
       "0  chr18     928386    1059458  train\n",
       "1   chr4  113630947  113762019  train\n",
       "2  chr11   18427720   18558792  train\n",
       "3  chr16   85805681   85936753  train\n",
       "4   chr3  158386188  158517260  train"
      ]
     },
     "execution_count": 72,
     "metadata": {},
     "output_type": "execute_result"
    }
   ],
   "source": [
    "genome_np = np.load('/data/leslie/sarthak/data/chrombpnet_test/hg38_tokenized.npz')\n",
    "seqs = pd.read_csv('/data/leslie/sarthak/data/enformer/data/human/sequences.bed', sep='\\t', header=None)\n",
    "seqs.head()"
   ]
  },
  {
   "cell_type": "code",
   "execution_count": 73,
   "metadata": {},
   "outputs": [
    {
     "name": "stdout",
     "output_type": "stream",
     "text": [
      "(1937, 4)\n"
     ]
    }
   ],
   "source": [
    "#find only the ones in column 3 that are test\n",
    "test_seqs = seqs[seqs[3] == 'test']\n",
    "print(test_seqs.shape) #looks good!"
   ]
  },
  {
   "cell_type": "code",
   "execution_count": 76,
   "metadata": {},
   "outputs": [
    {
     "data": {
      "text/plain": [
       "0       chr14\n",
       "1    97944300\n",
       "2    98075372\n",
       "3        test\n",
       "Name: 36244, dtype: object"
      ]
     },
     "execution_count": 76,
     "metadata": {},
     "output_type": "execute_result"
    }
   ],
   "source": [
    "#now access row 10\n",
    "row = test_seqs.iloc[10]\n",
    "row"
   ]
  },
  {
   "cell_type": "code",
   "execution_count": 77,
   "metadata": {},
   "outputs": [
    {
     "data": {
      "text/plain": [
       "array([10,  9,  9, ...,  9,  7,  9], dtype=int8)"
      ]
     },
     "execution_count": 77,
     "metadata": {},
     "output_type": "execute_result"
    }
   ],
   "source": [
    "genome_np[chrom][start:end]"
   ]
  },
  {
   "cell_type": "code",
   "execution_count": 78,
   "metadata": {},
   "outputs": [],
   "source": [
    "genome_np = '/data/leslie/sarthak/data/chrombpnet_test/hg38_tokenized.npz'\n",
    "with np.load(genome_np) as data:\n",
    "    genome = {key: np.array(data[key]) for key in data}"
   ]
  },
  {
   "cell_type": "code",
   "execution_count": 79,
   "metadata": {},
   "outputs": [
    {
     "data": {
      "text/plain": [
       "array([10,  9,  9, ...,  9,  7,  9], dtype=int8)"
      ]
     },
     "execution_count": 79,
     "metadata": {},
     "output_type": "execute_result"
    }
   ],
   "source": [
    "genome[chrom][start:end]"
   ]
  },
  {
   "cell_type": "code",
   "execution_count": null,
   "metadata": {},
   "outputs": [],
   "source": [
    "#wait genius idea, what if we just save otu the zarr files? that way we can easily access data from the bed file if we need it!\n",
    "#we have super fast acess to it, so sequence access via bed, and target access via zarr, that way we can easily access the data!"
   ]
  },
  {
   "cell_type": "markdown",
   "metadata": {},
   "source": [
    "# first check if we extend are there any problematic regions of the chromosome"
   ]
  },
  {
   "cell_type": "code",
   "execution_count": 1,
   "metadata": {},
   "outputs": [
    {
     "data": {
      "text/html": [
       "<div>\n",
       "<style scoped>\n",
       "    .dataframe tbody tr th:only-of-type {\n",
       "        vertical-align: middle;\n",
       "    }\n",
       "\n",
       "    .dataframe tbody tr th {\n",
       "        vertical-align: top;\n",
       "    }\n",
       "\n",
       "    .dataframe thead th {\n",
       "        text-align: right;\n",
       "    }\n",
       "</style>\n",
       "<table border=\"1\" class=\"dataframe\">\n",
       "  <thead>\n",
       "    <tr style=\"text-align: right;\">\n",
       "      <th></th>\n",
       "      <th>0</th>\n",
       "      <th>1</th>\n",
       "      <th>2</th>\n",
       "      <th>3</th>\n",
       "    </tr>\n",
       "  </thead>\n",
       "  <tbody>\n",
       "    <tr>\n",
       "      <th>0</th>\n",
       "      <td>chr18</td>\n",
       "      <td>928386</td>\n",
       "      <td>1059458</td>\n",
       "      <td>train</td>\n",
       "    </tr>\n",
       "    <tr>\n",
       "      <th>1</th>\n",
       "      <td>chr4</td>\n",
       "      <td>113630947</td>\n",
       "      <td>113762019</td>\n",
       "      <td>train</td>\n",
       "    </tr>\n",
       "    <tr>\n",
       "      <th>2</th>\n",
       "      <td>chr11</td>\n",
       "      <td>18427720</td>\n",
       "      <td>18558792</td>\n",
       "      <td>train</td>\n",
       "    </tr>\n",
       "    <tr>\n",
       "      <th>3</th>\n",
       "      <td>chr16</td>\n",
       "      <td>85805681</td>\n",
       "      <td>85936753</td>\n",
       "      <td>train</td>\n",
       "    </tr>\n",
       "    <tr>\n",
       "      <th>4</th>\n",
       "      <td>chr3</td>\n",
       "      <td>158386188</td>\n",
       "      <td>158517260</td>\n",
       "      <td>train</td>\n",
       "    </tr>\n",
       "  </tbody>\n",
       "</table>\n",
       "</div>"
      ],
      "text/plain": [
       "       0          1          2      3\n",
       "0  chr18     928386    1059458  train\n",
       "1   chr4  113630947  113762019  train\n",
       "2  chr11   18427720   18558792  train\n",
       "3  chr16   85805681   85936753  train\n",
       "4   chr3  158386188  158517260  train"
      ]
     },
     "execution_count": 1,
     "metadata": {},
     "output_type": "execute_result"
    }
   ],
   "source": [
    "chrom_info= {'chr1': [10000, 248946422],\n",
    " 'chr2': [10000, 242183529],\n",
    " 'chr3': [10000, 198235559],\n",
    " 'chr4': [10000, 190204555],\n",
    " 'chr5': [10000, 181478259],\n",
    " 'chr6': [60000, 170745979],\n",
    " 'chr7': [10000, 159335973],\n",
    " 'chr8': [60000, 145078636],\n",
    " 'chr9': [10000, 138334717],\n",
    " 'chr10': [10000, 133787422],\n",
    " 'chr11': [60000, 135076622],\n",
    " 'chr12': [10000, 133265309],\n",
    " 'chr13': [16000000, 114354328],\n",
    " 'chr14': [16022637, 106883718],\n",
    " 'chr15': [17000000, 101981189],\n",
    " 'chr16': [10000, 90228345],\n",
    " 'chr17': [60000, 83247441],\n",
    " 'chr18': [10000, 80263285],\n",
    " 'chr19': [60000, 58607616],\n",
    " 'chr20': [60000, 64334167],\n",
    " 'chr21': [5010000, 46699983],\n",
    " 'chr22': [10510000, 50808468],\n",
    " 'chrX': [10000, 156030895],\n",
    " 'chrY': [2781479, 56887902],\n",
    "}\n",
    "\n",
    "import pandas as pd\n",
    "#load in the bed file\n",
    "seqs = pd.read_csv('/data/leslie/sarthak/data/enformer/data/human/sequences.bed', sep='\\t', header=None)\n",
    "seqs.head()"
   ]
  },
  {
   "cell_type": "code",
   "execution_count": 2,
   "metadata": {},
   "outputs": [],
   "source": [
    "#now loop through it\n",
    "seqs = seqs.to_numpy()"
   ]
  },
  {
   "cell_type": "code",
   "execution_count": 7,
   "metadata": {},
   "outputs": [
    {
     "name": "stderr",
     "output_type": "stream",
     "text": [
      "  0%|          | 0/38171 [00:00<?, ?it/s]"
     ]
    },
    {
     "name": "stderr",
     "output_type": "stream",
     "text": [
      "100%|██████████| 38171/38171 [00:00<00:00, 505073.67it/s]"
     ]
    },
    {
     "name": "stdout",
     "output_type": "stream",
     "text": [
      "Error: chr3 -22768 173840 train, iter: 1022\n",
      "Error: chr4 -22768 173840 train, iter: 25870\n",
      "Error: chr5 -22768 173840 train, iter: 27331\n",
      "Error: chr16 -22768 173840 train, iter: 28360\n",
      "Error: chr2 -22768 173840 train, iter: 30217\n",
      "Error: chr12 -22768 173840 train, iter: 31591\n",
      "Error: chr20 33567 230175 valid, iter: 34218\n",
      "Error: chr7 -22768 173840 valid, iter: 35954\n"
     ]
    },
    {
     "name": "stderr",
     "output_type": "stream",
     "text": [
      "\n"
     ]
    }
   ],
   "source": [
    "from tqdm import tqdm\n",
    "for i in tqdm(range(seqs.shape[0])):\n",
    "    row = seqs[i]\n",
    "    chrom = row[0]\n",
    "    start = row[1]\n",
    "    end = row[2]\n",
    "    length = end - start\n",
    "    diff = (196608 - length)//2\n",
    "    start = start - diff\n",
    "    end = end + diff\n",
    "    if start < chrom_info[chrom][0]:\n",
    "        print(f'Error: {chrom} {start} {end} {row[3]}, iter: {i}')"
   ]
  },
  {
   "cell_type": "code",
   "execution_count": 8,
   "metadata": {},
   "outputs": [
    {
     "name": "stderr",
     "output_type": "stream",
     "text": [
      "100%|██████████| 38171/38171 [00:00<00:00, 499420.66it/s]"
     ]
    },
    {
     "name": "stdout",
     "output_type": "stream",
     "text": [
      "Error: chr21 46509644 46706252 train, iter: 10285\n",
      "Error: chr7 159149400 159346008 train, iter: 13701\n",
      "Error: chr17 83078345 83274953 train, iter: 23503\n",
      "Error: chr11 134909011 135105619 train, iter: 26220\n",
      "Error: chr20 64159289 64355897 valid, iter: 34094\n"
     ]
    },
    {
     "name": "stderr",
     "output_type": "stream",
     "text": [
      "\n"
     ]
    }
   ],
   "source": [
    "from tqdm import tqdm\n",
    "for i in tqdm(range(seqs.shape[0])):\n",
    "    row = seqs[i]\n",
    "    chrom = row[0]\n",
    "    start = row[1]\n",
    "    end = row[2]\n",
    "    length = end - start\n",
    "    diff = (196608 - length)//2\n",
    "    start = start - diff\n",
    "    end = end + diff\n",
    "    if end > chrom_info[chrom][1]:\n",
    "        print(f'Error: {chrom} {start} {end} {row[3]}, iter: {i}')"
   ]
  },
  {
   "cell_type": "code",
   "execution_count": 11,
   "metadata": {},
   "outputs": [],
   "source": [
    "#so few examples, all in train 3 in valid, 0 in test. For those examples, just pad with N\n",
    "#if it's not negative, no need to even pad!\n",
    "import numpy as np\n",
    "genome_np = '/data/leslie/sarthak/data/chrombpnet_test/hg38_tokenized.npz'\n",
    "total_bytes = 0\n",
    "with np.load(genome_np) as data:\n",
    "    genome = {key: np.array(data[key]) for key in data}\n",
    "total_bytes += sum([genome[key].nbytes for key in genome])"
   ]
  },
  {
   "cell_type": "code",
   "execution_count": 12,
   "metadata": {},
   "outputs": [
    {
     "data": {
      "text/plain": [
       "3.0"
      ]
     },
     "execution_count": 12,
     "metadata": {},
     "output_type": "execute_result"
    }
   ],
   "source": [
    "total_bytes//1e9\n",
    "#3gb for the whole genome, makes sense as it's 3 billion base pairs each taking 1 byte"
   ]
  },
  {
   "cell_type": "code",
   "execution_count": 13,
   "metadata": {},
   "outputs": [
    {
     "data": {
      "text/plain": [
       "6.688800768"
      ]
     },
     "execution_count": 13,
     "metadata": {},
     "output_type": "execute_result"
    }
   ],
   "source": [
    "#so if we wanted to store all the sequences, that is \n",
    "34021*196608*1/1e9 #yeah, just put it all into memory"
   ]
  },
  {
   "cell_type": "code",
   "execution_count": 15,
   "metadata": {},
   "outputs": [
    {
     "data": {
      "text/plain": [
       "array([], dtype=float64)"
      ]
     },
     "execution_count": 15,
     "metadata": {},
     "output_type": "execute_result"
    }
   ],
   "source": [
    "a = np.zeros(0)\n",
    "a"
   ]
  },
  {
   "cell_type": "code",
   "execution_count": null,
   "metadata": {},
   "outputs": [],
   "source": [
    "split = 'test'\n",
    "max_length = 196608\n",
    "genome_np = '/data/leslie/sarthak/data/chrombpnet_test/hg38_tokenized.npz'\n",
    "total_bytes = 0\n",
    "with np.load(genome_np) as data:\n",
    "    genome = {key: np.array(data[key]) for key in data}"
   ]
  },
  {
   "cell_type": "code",
   "execution_count": 23,
   "metadata": {},
   "outputs": [],
   "source": [
    "seqs = pd.read_csv('/data/leslie/sarthak/data/enformer/data/human/sequences.bed', sep='\\t', header=None)\n",
    "seqs_bed = seqs[seqs[3] == split]\n",
    "seqs = np.zeros((len(seqs_bed), max_length), dtype=np.int8)\n",
    "length = 131072\n",
    "seqs_np = seqs_bed.to_numpy()\n",
    "for i in range(seqs_np.shape[0]):\n",
    "    row = seqs_np[i]\n",
    "    chrom = row[0]\n",
    "    start = row[1]\n",
    "    end = row[2]\n",
    "    diff = (196608 - length)//2 #note this works even if we want a shorter length!\n",
    "    start = start - diff\n",
    "    end = end + diff\n",
    "    leftpad = np.zeros(0)\n",
    "    rightpad = np.zeros(0)\n",
    "    if start < 0:\n",
    "        leftpad = np.ones(-start)*11\n",
    "        start = 0\n",
    "    chromlen = chrom_info[chrom][1]\n",
    "    if end > chromlen:\n",
    "        rightpad = np.ones(end-chromlen)*11\n",
    "        end = chromlen\n",
    "    seq = np.concatenate([leftpad, genome[chrom][start:end], rightpad])\n",
    "    seqs[i] = seq"
   ]
  },
  {
   "cell_type": "code",
   "execution_count": 24,
   "metadata": {},
   "outputs": [
    {
     "data": {
      "text/plain": [
       "array([[10, 10,  9, ...,  8, 10, 10],\n",
       "       [10,  7,  8, ...,  8,  8,  8],\n",
       "       [ 7, 10,  9, ...,  8,  8, 10],\n",
       "       ...,\n",
       "       [10,  7,  7, ..., 10,  8, 10],\n",
       "       [ 7,  9,  9, ..., 10,  8,  8],\n",
       "       [ 8, 10,  8, ...,  7,  7,  7]], dtype=int8)"
      ]
     },
     "execution_count": 24,
     "metadata": {},
     "output_type": "execute_result"
    }
   ],
   "source": [
    "seqs"
   ]
  },
  {
   "cell_type": "code",
   "execution_count": 25,
   "metadata": {},
   "outputs": [
    {
     "data": {
      "text/plain": [
       "(1937, 196608)"
      ]
     },
     "execution_count": 25,
     "metadata": {},
     "output_type": "execute_result"
    }
   ],
   "source": [
    "seqs.shape"
   ]
  },
  {
   "cell_type": "code",
   "execution_count": 26,
   "metadata": {},
   "outputs": [],
   "source": [
    "#let's try val which has values that have issues\n",
    "split = 'valid'\n",
    "seqs = pd.read_csv('/data/leslie/sarthak/data/enformer/data/human/sequences.bed', sep='\\t', header=None)\n",
    "seqs_bed = seqs[seqs[3] == split]\n",
    "seqs = np.zeros((len(seqs_bed), max_length), dtype=np.int8)\n",
    "length = 131072\n",
    "seqs_np = seqs_bed.to_numpy()\n",
    "for i in range(seqs_np.shape[0]):\n",
    "    row = seqs_np[i]\n",
    "    chrom = row[0]\n",
    "    start = row[1]\n",
    "    end = row[2]\n",
    "    diff = (196608 - length)//2 #note this works even if we want a shorter length!\n",
    "    start = start - diff\n",
    "    end = end + diff\n",
    "    leftpad = np.zeros(0)\n",
    "    rightpad = np.zeros(0)\n",
    "    if start < 0:\n",
    "        leftpad = np.ones(-start)*11\n",
    "        start = 0\n",
    "    chromlen = chrom_info[chrom][1]\n",
    "    if end > chromlen:\n",
    "        rightpad = np.ones(end-chromlen)*11\n",
    "        end = chromlen\n",
    "    seq = np.concatenate([leftpad, genome[chrom][start:end], rightpad])\n",
    "    seqs[i] = seq"
   ]
  },
  {
   "cell_type": "code",
   "execution_count": 27,
   "metadata": {},
   "outputs": [
    {
     "data": {
      "text/plain": [
       "array([[ 8,  8, 10, ...,  7, 10, 10],\n",
       "       [ 7,  9,  9, ..., 10, 10, 10],\n",
       "       [ 7, 10,  7, ...,  8,  7,  8],\n",
       "       ...,\n",
       "       [ 9,  9,  9, ...,  9,  8,  8],\n",
       "       [10, 10,  8, ...,  8,  9, 10],\n",
       "       [10, 10,  9, ..., 10,  9, 10]], dtype=int8)"
      ]
     },
     "execution_count": 27,
     "metadata": {},
     "output_type": "execute_result"
    }
   ],
   "source": [
    "seqs"
   ]
  },
  {
   "cell_type": "code",
   "execution_count": 29,
   "metadata": {},
   "outputs": [
    {
     "data": {
      "text/plain": [
       "array([11, 11, 11, 11, 11, 11, 11, 11, 11, 11, 11, 11, 11, 11, 11, 11, 11,\n",
       "       11, 11, 11, 11, 11, 11, 11, 11, 11, 11, 11, 11, 11, 11, 11, 11, 11,\n",
       "       11, 11, 11, 11, 11, 11, 11, 11, 11, 11, 11, 11, 11, 11, 11, 11, 11,\n",
       "       11, 11, 11, 11, 11, 11, 11, 11, 11, 11, 11, 11, 11, 11, 11, 11, 11,\n",
       "       11, 11, 11, 11, 11, 11, 11, 11, 11, 11, 11, 11, 11, 11, 11, 11, 11,\n",
       "       11, 11, 11, 11, 11, 11, 11, 11, 11, 11, 11, 11, 11, 11, 11],\n",
       "      dtype=int8)"
      ]
     },
     "execution_count": 29,
     "metadata": {},
     "output_type": "execute_result"
    }
   ],
   "source": [
    "seqs[34094-34021][-100:] #see it's padded with 11!"
   ]
  },
  {
   "cell_type": "code",
   "execution_count": 31,
   "metadata": {},
   "outputs": [
    {
     "name": "stdout",
     "output_type": "stream",
     "text": [
      "(1937, 896, 5313)\n"
     ]
    }
   ],
   "source": [
    "#this works, now load the corresponding data from the zarr file\n",
    "import zarr\n",
    "split = 'test'\n",
    "filename = f'/data/leslie/sarthak/data/enformer/data/{split}_label.zarr'\n",
    "labels_zarr = zarr.open(filename, mode='r')['labels']\n",
    "print(labels_zarr.shape)"
   ]
  },
  {
   "cell_type": "code",
   "execution_count": 32,
   "metadata": {},
   "outputs": [
    {
     "data": {
      "text/plain": [
       "array([[0.11419678, 0.06634521, 0.11108398, ..., 0.        , 0.        ,\n",
       "        0.        ],\n",
       "       [0.10870361, 0.07550049, 0.09332275, ..., 0.        , 0.        ,\n",
       "        0.48217773],\n",
       "       [0.07104492, 0.04669189, 0.08917236, ..., 0.        , 0.        ,\n",
       "        0.        ],\n",
       "       ...,\n",
       "       [0.13830566, 0.13903809, 0.17224121, ..., 0.        , 0.        ,\n",
       "        0.        ],\n",
       "       [0.11737061, 0.0871582 , 0.03991699, ..., 0.        , 0.        ,\n",
       "        0.        ],\n",
       "       [0.08679199, 0.08294678, 0.02993774, ..., 0.        , 0.        ,\n",
       "        0.        ]], dtype=float32)"
      ]
     },
     "execution_count": 32,
     "metadata": {},
     "output_type": "execute_result"
    }
   ],
   "source": [
    "labels_zarr[-1]"
   ]
  },
  {
   "cell_type": "code",
   "execution_count": 34,
   "metadata": {},
   "outputs": [
    {
     "name": "stderr",
     "output_type": "stream",
     "text": [
      "  5%|▍         | 49/1000 [00:33<10:51,  1.46it/s]\n"
     ]
    },
    {
     "ename": "KeyboardInterrupt",
     "evalue": "",
     "output_type": "error",
     "traceback": [
      "\u001b[0;31m---------------------------------------------------------------------------\u001b[0m",
      "\u001b[0;31mKeyboardInterrupt\u001b[0m                         Traceback (most recent call last)",
      "Cell \u001b[0;32mIn[34], line 2\u001b[0m\n\u001b[1;32m      1\u001b[0m \u001b[38;5;28;01mfor\u001b[39;00m i \u001b[38;5;129;01min\u001b[39;00m tqdm(\u001b[38;5;28mrange\u001b[39m(\u001b[38;5;241m1000\u001b[39m)):\n\u001b[0;32m----> 2\u001b[0m     test \u001b[38;5;241m=\u001b[39m \u001b[43mlabels_zarr\u001b[49m\u001b[43m[\u001b[49m\u001b[43mi\u001b[49m\u001b[43m]\u001b[49m\n",
      "File \u001b[0;32m/data/leslie/sarthak/environments/hyena_backup3/lib/python3.11/site-packages/zarr/core.py:800\u001b[0m, in \u001b[0;36mArray.__getitem__\u001b[0;34m(self, selection)\u001b[0m\n\u001b[1;32m    798\u001b[0m     result \u001b[38;5;241m=\u001b[39m \u001b[38;5;28mself\u001b[39m\u001b[38;5;241m.\u001b[39mget_orthogonal_selection(pure_selection, fields\u001b[38;5;241m=\u001b[39mfields)\n\u001b[1;32m    799\u001b[0m \u001b[38;5;28;01melse\u001b[39;00m:\n\u001b[0;32m--> 800\u001b[0m     result \u001b[38;5;241m=\u001b[39m \u001b[38;5;28;43mself\u001b[39;49m\u001b[38;5;241;43m.\u001b[39;49m\u001b[43mget_basic_selection\u001b[49m\u001b[43m(\u001b[49m\u001b[43mpure_selection\u001b[49m\u001b[43m,\u001b[49m\u001b[43m \u001b[49m\u001b[43mfields\u001b[49m\u001b[38;5;241;43m=\u001b[39;49m\u001b[43mfields\u001b[49m\u001b[43m)\u001b[49m\n\u001b[1;32m    801\u001b[0m \u001b[38;5;28;01mreturn\u001b[39;00m result\n",
      "File \u001b[0;32m/data/leslie/sarthak/environments/hyena_backup3/lib/python3.11/site-packages/zarr/core.py:926\u001b[0m, in \u001b[0;36mArray.get_basic_selection\u001b[0;34m(self, selection, out, fields)\u001b[0m\n\u001b[1;32m    924\u001b[0m     \u001b[38;5;28;01mreturn\u001b[39;00m \u001b[38;5;28mself\u001b[39m\u001b[38;5;241m.\u001b[39m_get_basic_selection_zd(selection\u001b[38;5;241m=\u001b[39mselection, out\u001b[38;5;241m=\u001b[39mout, fields\u001b[38;5;241m=\u001b[39mfields)\n\u001b[1;32m    925\u001b[0m \u001b[38;5;28;01melse\u001b[39;00m:\n\u001b[0;32m--> 926\u001b[0m     \u001b[38;5;28;01mreturn\u001b[39;00m \u001b[38;5;28;43mself\u001b[39;49m\u001b[38;5;241;43m.\u001b[39;49m\u001b[43m_get_basic_selection_nd\u001b[49m\u001b[43m(\u001b[49m\u001b[43mselection\u001b[49m\u001b[38;5;241;43m=\u001b[39;49m\u001b[43mselection\u001b[49m\u001b[43m,\u001b[49m\u001b[43m \u001b[49m\u001b[43mout\u001b[49m\u001b[38;5;241;43m=\u001b[39;49m\u001b[43mout\u001b[49m\u001b[43m,\u001b[49m\u001b[43m \u001b[49m\u001b[43mfields\u001b[49m\u001b[38;5;241;43m=\u001b[39;49m\u001b[43mfields\u001b[49m\u001b[43m)\u001b[49m\n",
      "File \u001b[0;32m/data/leslie/sarthak/environments/hyena_backup3/lib/python3.11/site-packages/zarr/core.py:968\u001b[0m, in \u001b[0;36mArray._get_basic_selection_nd\u001b[0;34m(self, selection, out, fields)\u001b[0m\n\u001b[1;32m    962\u001b[0m \u001b[38;5;28;01mdef\u001b[39;00m \u001b[38;5;21m_get_basic_selection_nd\u001b[39m(\u001b[38;5;28mself\u001b[39m, selection, out\u001b[38;5;241m=\u001b[39m\u001b[38;5;28;01mNone\u001b[39;00m, fields\u001b[38;5;241m=\u001b[39m\u001b[38;5;28;01mNone\u001b[39;00m):\n\u001b[1;32m    963\u001b[0m     \u001b[38;5;66;03m# implementation of basic selection for array with at least one dimension\u001b[39;00m\n\u001b[1;32m    964\u001b[0m \n\u001b[1;32m    965\u001b[0m     \u001b[38;5;66;03m# setup indexer\u001b[39;00m\n\u001b[1;32m    966\u001b[0m     indexer \u001b[38;5;241m=\u001b[39m BasicIndexer(selection, \u001b[38;5;28mself\u001b[39m)\n\u001b[0;32m--> 968\u001b[0m     \u001b[38;5;28;01mreturn\u001b[39;00m \u001b[38;5;28;43mself\u001b[39;49m\u001b[38;5;241;43m.\u001b[39;49m\u001b[43m_get_selection\u001b[49m\u001b[43m(\u001b[49m\u001b[43mindexer\u001b[49m\u001b[38;5;241;43m=\u001b[39;49m\u001b[43mindexer\u001b[49m\u001b[43m,\u001b[49m\u001b[43m \u001b[49m\u001b[43mout\u001b[49m\u001b[38;5;241;43m=\u001b[39;49m\u001b[43mout\u001b[49m\u001b[43m,\u001b[49m\u001b[43m \u001b[49m\u001b[43mfields\u001b[49m\u001b[38;5;241;43m=\u001b[39;49m\u001b[43mfields\u001b[49m\u001b[43m)\u001b[49m\n",
      "File \u001b[0;32m/data/leslie/sarthak/environments/hyena_backup3/lib/python3.11/site-packages/zarr/core.py:1343\u001b[0m, in \u001b[0;36mArray._get_selection\u001b[0;34m(self, indexer, out, fields)\u001b[0m\n\u001b[1;32m   1340\u001b[0m \u001b[38;5;28;01mif\u001b[39;00m math\u001b[38;5;241m.\u001b[39mprod(out_shape) \u001b[38;5;241m>\u001b[39m \u001b[38;5;241m0\u001b[39m:\n\u001b[1;32m   1341\u001b[0m     \u001b[38;5;66;03m# allow storage to get multiple items at once\u001b[39;00m\n\u001b[1;32m   1342\u001b[0m     lchunk_coords, lchunk_selection, lout_selection \u001b[38;5;241m=\u001b[39m \u001b[38;5;28mzip\u001b[39m(\u001b[38;5;241m*\u001b[39mindexer)\n\u001b[0;32m-> 1343\u001b[0m     \u001b[38;5;28;43mself\u001b[39;49m\u001b[38;5;241;43m.\u001b[39;49m\u001b[43m_chunk_getitems\u001b[49m\u001b[43m(\u001b[49m\n\u001b[1;32m   1344\u001b[0m \u001b[43m        \u001b[49m\u001b[43mlchunk_coords\u001b[49m\u001b[43m,\u001b[49m\n\u001b[1;32m   1345\u001b[0m \u001b[43m        \u001b[49m\u001b[43mlchunk_selection\u001b[49m\u001b[43m,\u001b[49m\n\u001b[1;32m   1346\u001b[0m \u001b[43m        \u001b[49m\u001b[43mout\u001b[49m\u001b[43m,\u001b[49m\n\u001b[1;32m   1347\u001b[0m \u001b[43m        \u001b[49m\u001b[43mlout_selection\u001b[49m\u001b[43m,\u001b[49m\n\u001b[1;32m   1348\u001b[0m \u001b[43m        \u001b[49m\u001b[43mdrop_axes\u001b[49m\u001b[38;5;241;43m=\u001b[39;49m\u001b[43mindexer\u001b[49m\u001b[38;5;241;43m.\u001b[39;49m\u001b[43mdrop_axes\u001b[49m\u001b[43m,\u001b[49m\n\u001b[1;32m   1349\u001b[0m \u001b[43m        \u001b[49m\u001b[43mfields\u001b[49m\u001b[38;5;241;43m=\u001b[39;49m\u001b[43mfields\u001b[49m\u001b[43m,\u001b[49m\n\u001b[1;32m   1350\u001b[0m \u001b[43m    \u001b[49m\u001b[43m)\u001b[49m\n\u001b[1;32m   1351\u001b[0m \u001b[38;5;28;01mif\u001b[39;00m out\u001b[38;5;241m.\u001b[39mshape:\n\u001b[1;32m   1352\u001b[0m     \u001b[38;5;28;01mreturn\u001b[39;00m out\n",
      "File \u001b[0;32m/data/leslie/sarthak/environments/hyena_backup3/lib/python3.11/site-packages/zarr/core.py:2183\u001b[0m, in \u001b[0;36mArray._chunk_getitems\u001b[0;34m(self, lchunk_coords, lchunk_selection, out, lout_selection, drop_axes, fields)\u001b[0m\n\u001b[1;32m   2181\u001b[0m \u001b[38;5;28;01mfor\u001b[39;00m ckey, chunk_select, out_select \u001b[38;5;129;01min\u001b[39;00m \u001b[38;5;28mzip\u001b[39m(ckeys, lchunk_selection, lout_selection):\n\u001b[1;32m   2182\u001b[0m     \u001b[38;5;28;01mif\u001b[39;00m ckey \u001b[38;5;129;01min\u001b[39;00m cdatas:\n\u001b[0;32m-> 2183\u001b[0m         \u001b[38;5;28;43mself\u001b[39;49m\u001b[38;5;241;43m.\u001b[39;49m\u001b[43m_process_chunk\u001b[49m\u001b[43m(\u001b[49m\n\u001b[1;32m   2184\u001b[0m \u001b[43m            \u001b[49m\u001b[43mout\u001b[49m\u001b[43m,\u001b[49m\n\u001b[1;32m   2185\u001b[0m \u001b[43m            \u001b[49m\u001b[43mcdatas\u001b[49m\u001b[43m[\u001b[49m\u001b[43mckey\u001b[49m\u001b[43m]\u001b[49m\u001b[43m,\u001b[49m\n\u001b[1;32m   2186\u001b[0m \u001b[43m            \u001b[49m\u001b[43mchunk_select\u001b[49m\u001b[43m,\u001b[49m\n\u001b[1;32m   2187\u001b[0m \u001b[43m            \u001b[49m\u001b[43mdrop_axes\u001b[49m\u001b[43m,\u001b[49m\n\u001b[1;32m   2188\u001b[0m \u001b[43m            \u001b[49m\u001b[43mout_is_ndarray\u001b[49m\u001b[43m,\u001b[49m\n\u001b[1;32m   2189\u001b[0m \u001b[43m            \u001b[49m\u001b[43mfields\u001b[49m\u001b[43m,\u001b[49m\n\u001b[1;32m   2190\u001b[0m \u001b[43m            \u001b[49m\u001b[43mout_select\u001b[49m\u001b[43m,\u001b[49m\n\u001b[1;32m   2191\u001b[0m \u001b[43m            \u001b[49m\u001b[43mpartial_read_decode\u001b[49m\u001b[38;5;241;43m=\u001b[39;49m\u001b[43mpartial_read_decode\u001b[49m\u001b[43m,\u001b[49m\n\u001b[1;32m   2192\u001b[0m \u001b[43m        \u001b[49m\u001b[43m)\u001b[49m\n\u001b[1;32m   2193\u001b[0m     \u001b[38;5;28;01melse\u001b[39;00m:\n\u001b[1;32m   2194\u001b[0m         \u001b[38;5;66;03m# check exception type\u001b[39;00m\n\u001b[1;32m   2195\u001b[0m         \u001b[38;5;28;01mif\u001b[39;00m \u001b[38;5;28mself\u001b[39m\u001b[38;5;241m.\u001b[39m_fill_value \u001b[38;5;129;01mis\u001b[39;00m \u001b[38;5;129;01mnot\u001b[39;00m \u001b[38;5;28;01mNone\u001b[39;00m:\n",
      "File \u001b[0;32m/data/leslie/sarthak/environments/hyena_backup3/lib/python3.11/site-packages/zarr/core.py:2096\u001b[0m, in \u001b[0;36mArray._process_chunk\u001b[0;34m(self, out, cdata, chunk_selection, drop_axes, out_is_ndarray, fields, out_selection, partial_read_decode)\u001b[0m\n\u001b[1;32m   2094\u001b[0m \u001b[38;5;28;01mexcept\u001b[39;00m ArrayIndexError:\n\u001b[1;32m   2095\u001b[0m     cdata \u001b[38;5;241m=\u001b[39m cdata\u001b[38;5;241m.\u001b[39mread_full()\n\u001b[0;32m-> 2096\u001b[0m chunk \u001b[38;5;241m=\u001b[39m \u001b[38;5;28;43mself\u001b[39;49m\u001b[38;5;241;43m.\u001b[39;49m\u001b[43m_decode_chunk\u001b[49m\u001b[43m(\u001b[49m\u001b[43mcdata\u001b[49m\u001b[43m)\u001b[49m\n\u001b[1;32m   2098\u001b[0m \u001b[38;5;66;03m# select data from chunk\u001b[39;00m\n\u001b[1;32m   2099\u001b[0m \u001b[38;5;28;01mif\u001b[39;00m fields:\n",
      "File \u001b[0;32m/data/leslie/sarthak/environments/hyena_backup3/lib/python3.11/site-packages/zarr/core.py:2352\u001b[0m, in \u001b[0;36mArray._decode_chunk\u001b[0;34m(self, cdata, start, nitems, expected_shape)\u001b[0m\n\u001b[1;32m   2350\u001b[0m         chunk \u001b[38;5;241m=\u001b[39m \u001b[38;5;28mself\u001b[39m\u001b[38;5;241m.\u001b[39m_compressor\u001b[38;5;241m.\u001b[39mdecode_partial(cdata, start, nitems)\n\u001b[1;32m   2351\u001b[0m     \u001b[38;5;28;01melse\u001b[39;00m:\n\u001b[0;32m-> 2352\u001b[0m         chunk \u001b[38;5;241m=\u001b[39m \u001b[38;5;28;43mself\u001b[39;49m\u001b[38;5;241;43m.\u001b[39;49m\u001b[43m_compressor\u001b[49m\u001b[38;5;241;43m.\u001b[39;49m\u001b[43mdecode\u001b[49m\u001b[43m(\u001b[49m\u001b[43mcdata\u001b[49m\u001b[43m)\u001b[49m\n\u001b[1;32m   2353\u001b[0m \u001b[38;5;28;01melse\u001b[39;00m:\n\u001b[1;32m   2354\u001b[0m     chunk \u001b[38;5;241m=\u001b[39m cdata\n",
      "\u001b[0;31mKeyboardInterrupt\u001b[0m: "
     ]
    }
   ],
   "source": [
    "for i in tqdm(range(1000)):\n",
    "    test = labels_zarr[i]\n",
    "#this is on the slower side but not bad at all\n",
    "#potentially it's slower because we hve lowercompression?\n",
    "#will test that too"
   ]
  },
  {
   "cell_type": "markdown",
   "metadata": {},
   "source": [
    "# lets create a faster tokenizer too"
   ]
  },
  {
   "cell_type": "code",
   "execution_count": 37,
   "metadata": {},
   "outputs": [
    {
     "name": "stdout",
     "output_type": "stream",
     "text": [
      "Number of combinations: 15625\n",
      "(7, 7, 7, 7, 7, 7): 0\n",
      "(7, 7, 7, 7, 7, 8): 1\n",
      "(7, 7, 7, 7, 7, 9): 2\n",
      "(7, 7, 7, 7, 7, 10): 3\n",
      "(7, 7, 7, 7, 7, 11): 4\n",
      "(7, 7, 7, 7, 8, 7): 5\n",
      "(7, 7, 7, 7, 8, 8): 6\n",
      "(7, 7, 7, 7, 8, 9): 7\n",
      "(7, 7, 7, 7, 8, 10): 8\n",
      "(7, 7, 7, 7, 8, 11): 9\n",
      "(7, 7, 7, 7, 9, 7): 10\n"
     ]
    }
   ],
   "source": [
    "#if we want 8 elements use itertools\n",
    "import itertools\n",
    "numbers = (7, 8, 9, 10, 11)\n",
    "length = 6\n",
    "\n",
    "# Generate all combinations of length 8\n",
    "combinations = itertools.product(numbers, repeat=length)\n",
    "\n",
    "# Create a dictionary mapping each combination to a number\n",
    "combination_dict = {comb: idx for idx, comb in enumerate(combinations)}\n",
    "\n",
    "# Verify the dictionary size\n",
    "print(f\"Number of combinations: {len(combination_dict)}\")  # Output: 65536\n",
    "\n",
    "# Example: Print a few entries to verify\n",
    "for i, (key, value) in enumerate(combination_dict.items()):\n",
    "    print(f\"{key}: {value}\")\n",
    "    if i == 10:  # Only print the first 5 for brevity\n",
    "        break"
   ]
  },
  {
   "cell_type": "code",
   "execution_count": 38,
   "metadata": {},
   "outputs": [
    {
     "data": {
      "text/plain": [
       "15625"
      ]
     },
     "execution_count": 38,
     "metadata": {},
     "output_type": "execute_result"
    }
   ],
   "source": [
    "len(combination_dict) #exactly what we expect, 5^6 because kmers of length 6!"
   ]
  },
  {
   "cell_type": "code",
   "execution_count": 39,
   "metadata": {},
   "outputs": [
    {
     "data": {
      "text/plain": [
       "(7, 8, 7, 7, 7, 9)"
      ]
     },
     "execution_count": 39,
     "metadata": {},
     "output_type": "execute_result"
    }
   ],
   "source": [
    "a = np.array([7,8,7,7,7,9,8,7,10,10,10,7,7,11,11,10])\n",
    "testtuple = tuple(a[0:6])\n",
    "testtuple"
   ]
  },
  {
   "cell_type": "code",
   "execution_count": 40,
   "metadata": {},
   "outputs": [
    {
     "data": {
      "text/plain": [
       "627"
      ]
     },
     "execution_count": 40,
     "metadata": {},
     "output_type": "execute_result"
    }
   ],
   "source": [
    "combination_dict[testtuple] #ok it found it!"
   ]
  },
  {
   "cell_type": "code",
   "execution_count": 41,
   "metadata": {},
   "outputs": [
    {
     "data": {
      "text/plain": [
       "15624"
      ]
     },
     "execution_count": 41,
     "metadata": {},
     "output_type": "execute_result"
    }
   ],
   "source": [
    "combination_dict[(11,11,11,11,11,11)] #the very last element, this is what we will set it to at the right ends so that the lengths are same"
   ]
  },
  {
   "cell_type": "code",
   "execution_count": 43,
   "metadata": {},
   "outputs": [
    {
     "data": {
      "text/plain": [
       "(248956422,)"
      ]
     },
     "execution_count": 43,
     "metadata": {},
     "output_type": "execute_result"
    }
   ],
   "source": [
    "genome['chr1'].shape"
   ]
  },
  {
   "cell_type": "code",
   "execution_count": 45,
   "metadata": {},
   "outputs": [
    {
     "name": "stderr",
     "output_type": "stream",
     "text": [
      " 29%|██▊       | 71325422/248956417 [12:57<32:16, 91725.06it/s]  \n"
     ]
    },
    {
     "ename": "KeyboardInterrupt",
     "evalue": "",
     "output_type": "error",
     "traceback": [
      "\u001b[0;31m---------------------------------------------------------------------------\u001b[0m",
      "\u001b[0;31mKeyboardInterrupt\u001b[0m                         Traceback (most recent call last)",
      "Cell \u001b[0;32mIn[45], line 7\u001b[0m\n\u001b[1;32m      5\u001b[0m \u001b[38;5;28;01mfor\u001b[39;00m i \u001b[38;5;129;01min\u001b[39;00m tqdm(\u001b[38;5;28mrange\u001b[39m(genome[chrom]\u001b[38;5;241m.\u001b[39mshape[\u001b[38;5;241m0\u001b[39m]\u001b[38;5;241m-\u001b[39m\u001b[38;5;241m5\u001b[39m)):\n\u001b[1;32m      6\u001b[0m     kmer \u001b[38;5;241m=\u001b[39m \u001b[38;5;28mtuple\u001b[39m(genome[chrom][i:i\u001b[38;5;241m+\u001b[39m\u001b[38;5;241m6\u001b[39m])\n\u001b[0;32m----> 7\u001b[0m     kmer_genome[chrom][i] \u001b[38;5;241m=\u001b[39m combination_dict[kmer]\n\u001b[1;32m      8\u001b[0m \u001b[38;5;28;01mbreak\u001b[39;00m\n",
      "\u001b[0;31mKeyboardInterrupt\u001b[0m: "
     ]
    }
   ],
   "source": [
    "#this way we can use int16\n",
    "kmer_genome = {}\n",
    "for chrom in genome:\n",
    "    kmer_genome[chrom] = np.ones((genome[chrom].shape), dtype=np.int16)*15624 #the default option\n",
    "    for i in tqdm(range(genome[chrom].shape[0]-5)):\n",
    "        kmer = tuple(genome[chrom][i:i+6])\n",
    "        kmer_genome[chrom][i] = combination_dict[kmer]\n",
    "    break"
   ]
  },
  {
   "cell_type": "code",
   "execution_count": 46,
   "metadata": {},
   "outputs": [
    {
     "name": "stdout",
     "output_type": "stream",
     "text": [
      "(1937, 896, 5313) (1937, 896, 5313)\n"
     ]
    }
   ],
   "source": [
    "#so let's test the speed of the zarr file\n",
    "labels_zarr = zarr.open(filename, mode='r')['labels']\n",
    "filename = f'/data/leslie/sarthak/data/enformer/data/{split}_label_9.zarr'\n",
    "labels_zarr9 = zarr.open(filename, mode='r')['labels']\n",
    "\n",
    "print(labels_zarr.shape, labels_zarr9.shape)"
   ]
  },
  {
   "cell_type": "code",
   "execution_count": 48,
   "metadata": {},
   "outputs": [
    {
     "name": "stderr",
     "output_type": "stream",
     "text": [
      "100%|██████████| 50/50 [00:43<00:00,  1.14it/s]\n"
     ]
    }
   ],
   "source": [
    "#now loop through and see the speed\n",
    "for i in tqdm(range(50)):\n",
    "    test = labels_zarr[i]"
   ]
  },
  {
   "cell_type": "code",
   "execution_count": 49,
   "metadata": {},
   "outputs": [
    {
     "name": "stderr",
     "output_type": "stream",
     "text": [
      "100%|██████████| 50/50 [00:42<00:00,  1.16it/s]\n"
     ]
    }
   ],
   "source": [
    "for i in tqdm(range(50)):\n",
    "    test = labels_zarr9[i]\n",
    "    \n",
    "#marginal to no speed icnrease, but it's smaller, so potentially later? We'll just leave it as it is for now"
   ]
  },
  {
   "cell_type": "markdown",
   "metadata": {},
   "source": [
    "# final test, compare the values"
   ]
  },
  {
   "cell_type": "code",
   "execution_count": 1,
   "metadata": {},
   "outputs": [
    {
     "name": "stderr",
     "output_type": "stream",
     "text": [
      "2024-08-02 23:39:37.430011: I tensorflow/core/util/port.cc:153] oneDNN custom operations are on. You may see slightly different numerical results due to floating-point round-off errors from different computation orders. To turn them off, set the environment variable `TF_ENABLE_ONEDNN_OPTS=0`.\n",
      "2024-08-02 23:39:41.262100: E external/local_xla/xla/stream_executor/cuda/cuda_fft.cc:485] Unable to register cuFFT factory: Attempting to register factory for plugin cuFFT when one has already been registered\n",
      "2024-08-02 23:39:42.180534: E external/local_xla/xla/stream_executor/cuda/cuda_dnn.cc:8454] Unable to register cuDNN factory: Attempting to register factory for plugin cuDNN when one has already been registered\n",
      "2024-08-02 23:39:42.245579: E external/local_xla/xla/stream_executor/cuda/cuda_blas.cc:1452] Unable to register cuBLAS factory: Attempting to register factory for plugin cuBLAS when one has already been registered\n",
      "2024-08-02 23:39:43.558249: I tensorflow/core/platform/cpu_feature_guard.cc:210] This TensorFlow binary is optimized to use available CPU instructions in performance-critical operations.\n",
      "To enable the following instructions: AVX2 AVX512F AVX512_VNNI FMA, in other operations, rebuild TensorFlow with the appropriate compiler flags.\n",
      "2024-08-02 23:40:27.956189: W tensorflow/compiler/tf2tensorrt/utils/py_utils.cc:38] TF-TRT Warning: Could not find TensorRT\n"
     ]
    }
   ],
   "source": [
    "#is it truly similar what i'm doing with what they have\n",
    "\n",
    "#first thing we do is load in the dataset\n",
    "\n",
    "import sys\n",
    "sys.path.append('/data/leslie/sarthak/hyena/hyena-dna/')\n",
    "import src.dataloaders.datasets.enformer_dataset as enformer_dataset\n",
    "dataset = enformer_dataset.EnformerDataset('test', 196608, return_CAGE=True)"
   ]
  },
  {
   "cell_type": "code",
   "execution_count": 2,
   "metadata": {},
   "outputs": [
    {
     "name": "stderr",
     "output_type": "stream",
     "text": [
      "2024-08-02 16:50:11.778276: W tensorflow/core/common_runtime/gpu/gpu_device.cc:2343] Cannot dlopen some GPU libraries. Please make sure the missing libraries mentioned above are installed properly if you would like to use GPU. Follow the guide at https://www.tensorflow.org/install/gpu for how to download and setup the required libraries for your platform.\n",
      "Skipping registering GPU devices...\n"
     ]
    }
   ],
   "source": [
    "import json\n",
    "import functools\n",
    "import os\n",
    "import tensorflow as tf\n",
    "import numpy as np\n",
    "import pandas as pd\n",
    "from tqdm import tqdm\n",
    "import numpy as np\n",
    "import h5py\n",
    "import tensorflow as tf\n",
    "# import sonnet as snt\n",
    "from IPython.display import clear_output\n",
    "import time\n",
    "import sys\n",
    "sys.path.append('/data/leslie/sarthak/data/enformer')\n",
    "# import enformer\n",
    "\n",
    "\n",
    "def organism_path(organism):\n",
    "  return os.path.join('/data/leslie/sarthak/data/enformer/data/', organism) #just leads to the organism path, quite easy\n",
    "\n",
    "\n",
    "def get_dataset(organism, subset, num_threads=1): #this gets the data and deserializes it\n",
    "  metadata = get_metadata(organism)\n",
    "  dataset = tf.data.TFRecordDataset(tfrecord_files(organism, subset),\n",
    "                                    compression_type='ZLIB',\n",
    "                                    num_parallel_reads=num_threads)\n",
    "  dataset = dataset.map(functools.partial(deserialize, metadata=metadata),\n",
    "                        num_parallel_calls=num_threads)\n",
    "  return dataset\n",
    "\n",
    "\n",
    "def get_metadata(organism):\n",
    "  # Keys:\n",
    "  # num_targets, train_seqs, valid_seqs, test_seqs, seq_length,\n",
    "  # pool_width, crop_bp, target_length\n",
    "  path = os.path.join(organism_path(organism), 'statistics.json')\n",
    "  with tf.io.gfile.GFile(path, 'r') as f:\n",
    "    return json.load(f)\n",
    "\n",
    "\n",
    "def tfrecord_files(organism, subset): #this is the function that gets the TFR files, gets all of them and sorts them\n",
    "  # Sort the values by int(*).\n",
    "  return sorted(tf.io.gfile.glob(os.path.join(\n",
    "      organism_path(organism), 'tfrecords', f'{subset}-*.tfr'\n",
    "  )), key=lambda x: int(x.split('-')[-1].split('.')[0]))\n",
    "\n",
    "\n",
    "def deserialize(serialized_example, metadata):\n",
    "  \"\"\"Deserialize bytes stored in TFRecordFile.\"\"\"\n",
    "  feature_map = {\n",
    "      'sequence': tf.io.FixedLenFeature([], tf.string),\n",
    "      'target': tf.io.FixedLenFeature([], tf.string),\n",
    "  }\n",
    "  example = tf.io.parse_example(serialized_example, feature_map)\n",
    "  sequence = tf.io.decode_raw(example['sequence'], tf.bool)\n",
    "  sequence = tf.reshape(sequence, (metadata['seq_length'], 4))\n",
    "  sequence = tf.cast(sequence, tf.float32)\n",
    "\n",
    "  target = tf.io.decode_raw(example['target'], tf.float16)\n",
    "  target = tf.reshape(target,\n",
    "                      (metadata['target_length'], metadata['num_targets']))\n",
    "  target = tf.cast(target, tf.float32)\n",
    "\n",
    "  return {'sequence': sequence,\n",
    "          'target': target}\n",
    "\n",
    "def get_targets(organism):\n",
    "  targets_txt = f'https://raw.githubusercontent.com/calico/basenji/master/manuscripts/cross2020/targets_{organism}.txt'\n",
    "  return pd.read_csv(targets_txt, sep='\\t')\n",
    "df_targets_human = get_targets('human')\n",
    "# df_targets_human.head()\n",
    "\n",
    "dataset_tf = get_dataset('human', 'test', num_threads=1)\n"
   ]
  },
  {
   "cell_type": "code",
   "execution_count": 4,
   "metadata": {},
   "outputs": [],
   "source": [
    "dataset.seq = dataset.seqs"
   ]
  },
  {
   "cell_type": "code",
   "execution_count": 13,
   "metadata": {},
   "outputs": [
    {
     "name": "stderr",
     "output_type": "stream",
     "text": [
      "  0%|          | 0/1937 [00:00<?, ?it/s]"
     ]
    },
    {
     "name": "stderr",
     "output_type": "stream",
     "text": [
      "100%|██████████| 1937/1937 [27:49<00:00,  1.16it/s] \n"
     ]
    }
   ],
   "source": [
    "import torch\n",
    "it = iter(dataset_tf)\n",
    "for i in tqdm(range(1937)):\n",
    "    data = next(it)\n",
    "    seq,label = dataset[i]\n",
    "    assert np.allclose(data['target'], label)\n",
    "    cutseq = seq[32768:-32768].unsqueeze(0)\n",
    "    x_onehot = torch.nn.functional.one_hot((cutseq-7)%4, num_classes=4).float().transpose(1, 2) #need to make sure it is the right order\n",
    "    if 11 in cutseq:\n",
    "        indices = torch.where(cutseq == 11)\n",
    "        for idx in range(len(indices[0])):\n",
    "            x_onehot[indices[0][idx], 0, indices[1][idx]] = 0\n",
    "    assert np.allclose(data['sequence'], x_onehot.squeeze().transpose(0,1).numpy())"
   ]
  },
  {
   "cell_type": "code",
   "execution_count": 3,
   "metadata": {},
   "outputs": [],
   "source": [
    "#and val data\n",
    "dataset = enformer_dataset.EnformerDataset('valid', 196608, return_CAGE=True)\n",
    "dataset_tf = get_dataset('human', 'valid', num_threads=1)"
   ]
  },
  {
   "cell_type": "code",
   "execution_count": null,
   "metadata": {},
   "outputs": [
    {
     "data": {
      "text/plain": [
       "array([], shape=(0, 196608), dtype=int8)"
      ]
     },
     "execution_count": 20,
     "metadata": {},
     "output_type": "execute_result"
    }
   ],
   "source": [
    "dataset.seq"
   ]
  },
  {
   "cell_type": "code",
   "execution_count": 4,
   "metadata": {},
   "outputs": [
    {
     "name": "stderr",
     "output_type": "stream",
     "text": [
      "100%|██████████| 2213/2213 [27:39<00:00,  1.33it/s]\n"
     ]
    }
   ],
   "source": [
    "import torch\n",
    "it = iter(dataset_tf)\n",
    "for i in tqdm(range(2213)):\n",
    "    data = next(it)\n",
    "    seq,label = dataset[i]\n",
    "    assert np.allclose(data['target'], label)\n",
    "    cutseq = seq[32768:-32768].unsqueeze(0)\n",
    "    x_onehot = torch.nn.functional.one_hot((cutseq-7)%4, num_classes=4).float().transpose(1, 2) #need to make sure it is the right order\n",
    "    if 11 in cutseq:\n",
    "        indices = torch.where(cutseq == 11)\n",
    "        for idx in range(len(indices[0])):\n",
    "            x_onehot[indices[0][idx], 0, indices[1][idx]] = 0\n",
    "    assert np.allclose(data['sequence'], x_onehot.squeeze().transpose(0,1).numpy())"
   ]
  },
  {
   "cell_type": "code",
   "execution_count": 2,
   "metadata": {},
   "outputs": [
    {
     "name": "stdout",
     "output_type": "stream",
     "text": [
      "torch.Size([196608]) torch.Size([896, 5313])\n",
      "torch.Size([196608]) torch.Size([896, 5313])\n",
      "torch.Size([196608]) torch.Size([896, 5313])\n",
      "torch.Size([196608]) torch.Size([896, 5313])\n",
      "torch.Size([196608]) torch.Size([896, 5313])\n",
      "torch.Size([196608]) torch.Size([896, 5313])\n",
      "torch.Size([196608]) torch.Size([896, 5313])\n",
      "torch.Size([196608]) torch.Size([896, 5313])\n",
      "torch.Size([196608]) torch.Size([896, 5313])\n",
      "torch.Size([196608]) torch.Size([896, 5313])\n",
      "torch.Size([196608]) torch.Size([896, 5313])\n",
      "torch.Size([196608]) torch.Size([896, 5313])\n",
      "torch.Size([196608]) torch.Size([896, 5313])\n",
      "torch.Size([196608]) torch.Size([896, 5313])\n",
      "torch.Size([196608]) torch.Size([896, 5313])\n",
      "torch.Size([196608]) torch.Size([896, 5313])\n",
      "torch.Size([196608]) torch.Size([896, 5313])\n",
      "torch.Size([196608]) torch.Size([896, 5313])\n",
      "torch.Size([196608]) torch.Size([896, 5313])\n",
      "torch.Size([196608]) torch.Size([896, 5313])\n",
      "torch.Size([196608]) torch.Size([896, 5313])\n",
      "torch.Size([196608]) torch.Size([896, 5313])\n",
      "torch.Size([196608]) torch.Size([896, 5313])\n",
      "torch.Size([196608]) torch.Size([896, 5313])\n",
      "torch.Size([196608]) torch.Size([896, 5313])\n",
      "torch.Size([196608]) torch.Size([896, 5313])\n",
      "torch.Size([196608]) torch.Size([896, 5313])\n",
      "torch.Size([196608]) torch.Size([896, 5313])\n",
      "torch.Size([196608]) torch.Size([896, 5313])\n",
      "torch.Size([196608]) torch.Size([896, 5313])\n",
      "torch.Size([196608]) torch.Size([896, 5313])\n",
      "torch.Size([196608]) torch.Size([896, 5313])\n",
      "torch.Size([196608]) torch.Size([896, 5313])\n",
      "torch.Size([196608]) torch.Size([896, 5313])\n",
      "torch.Size([196608]) torch.Size([896, 5313])\n",
      "torch.Size([196608]) torch.Size([896, 5313])\n",
      "torch.Size([196608]) torch.Size([896, 5313])\n",
      "torch.Size([196608]) torch.Size([896, 5313])\n",
      "torch.Size([196608]) torch.Size([896, 5313])\n",
      "torch.Size([196608]) torch.Size([896, 5313])\n"
     ]
    }
   ],
   "source": [
    "#so we can confirm that this is good!\n",
    "#so let's retrain!!\n",
    "dataset = enformer_dataset.EnformerDataset('train', 196608, return_CAGE=True)\n",
    "for i in range(40):\n",
    "    seq,label = dataset[i]\n",
    "    print(seq.shape, label.shape)\n",
    "\n",
    "#loads plenty fast, but slow part is still "
   ]
  }
 ],
 "metadata": {
  "kernelspec": {
   "display_name": "Python 3",
   "language": "python",
   "name": "python3"
  },
  "language_info": {
   "codemirror_mode": {
    "name": "ipython",
    "version": 3
   },
   "file_extension": ".py",
   "mimetype": "text/x-python",
   "name": "python",
   "nbconvert_exporter": "python",
   "pygments_lexer": "ipython3",
   "version": "3.11.7"
  }
 },
 "nbformat": 4,
 "nbformat_minor": 2
}
