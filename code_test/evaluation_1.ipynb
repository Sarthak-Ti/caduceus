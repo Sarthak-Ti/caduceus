{
 "cells": [
  {
   "cell_type": "code",
   "execution_count": 2,
   "metadata": {},
   "outputs": [
    {
     "name": "stdout",
     "output_type": "stream",
     "text": [
      "**Using Char-level tokenizer**\n",
      "**Using Char-level tokenizer**\n",
      "72\n"
     ]
    },
    {
     "name": "stderr",
     "output_type": "stream",
     "text": [
      "100%|█████████████████████████████████████████████████████████████████████████████████████████████████████████████████████████████████████| 1/1 [00:00<00:00, 195.14it/s]\n"
     ]
    },
    {
     "name": "stdout",
     "output_type": "stream",
     "text": [
      "torch.Size([1, 73, 16])\n"
     ]
    },
    {
     "name": "stderr",
     "output_type": "stream",
     "text": [
      "100%|█████████████████████████████████████████████████████████████████████████████████████████████████████████████████████████████████████| 1/1 [00:00<00:00, 218.41it/s]"
     ]
    },
    {
     "name": "stdout",
     "output_type": "stream",
     "text": [
      "torch.Size([1, 73, 16])\n"
     ]
    },
    {
     "name": "stderr",
     "output_type": "stream",
     "text": [
      "\n"
     ]
    }
   ],
   "source": [
    "#use logits and dataloader to evaluate our models\n",
    "\n",
    "#we can also load via the logits\n",
    "\n",
    "import torch \n",
    "\n",
    "import argparse\n",
    "import os\n",
    "import sys\n",
    "import yaml \n",
    "from tqdm import tqdm\n",
    "import json \n",
    "\n",
    "# sys.path.append(os.environ.get(\"SAFARI_PATH\", \".\"))\n",
    "\n",
    "from src.models.sequence.long_conv_lm import ConvLMHeadModel\n",
    "\n",
    "# from transformers import AutoTokenizer, GPT2LMHeadModel\n",
    "# from spacy.lang.en.stop_words import STOP_WORDS\n",
    "from src.dataloaders.datasets.hg38_char_tokenizer import CharacterTokenizer\n",
    "\n",
    "try:\n",
    "    from tokenizers import Tokenizer  \n",
    "except:\n",
    "    pass\n",
    "\n",
    "# https://github.com/openai/gpt-2/issues/131#issuecomment-492786058\n",
    "# def preprocess(text):\n",
    "#     text = text.replace(\"“\", '\"')\n",
    "#     text = text.replace(\"”\", '\"')\n",
    "#     return '\\n'+text.strip()\n",
    "\n",
    "\n",
    "class HG38Encoder:\n",
    "    \"Encoder inference for HG38 sequences\"\n",
    "    def __init__(self, model_cfg, ckpt_path, max_seq_len):\n",
    "        self.max_seq_len = max_seq_len\n",
    "        self.model, self.tokenizer = self.load_model(model_cfg, ckpt_path)\n",
    "        self.device = torch.device(\"cuda\" if torch.cuda.is_available() else \"cpu\")\n",
    "        self.model = self.model.to(self.device)\n",
    "\n",
    "    def encode(self, seqs):\n",
    "            \n",
    "        results = []\n",
    "\n",
    "        # sample code to loop thru each sample and tokenize first (char level)\n",
    "        for seq in tqdm(seqs):\n",
    "            \n",
    "            if isinstance(self.tokenizer, Tokenizer):\n",
    "                tokenized_seq = self.tokenizer.encode(seq).ids\n",
    "            else:\n",
    "                tokenized_seq = self.tokenizer.encode(seq)\n",
    "            \n",
    "            # can accept a batch, shape [B, seq_len, hidden_dim]\n",
    "            logits, __ = self.model(torch.tensor([tokenized_seq]).to(device=self.device))\n",
    "\n",
    "            # Using head, so just have logits\n",
    "            results.append(logits)\n",
    "\n",
    "        return results\n",
    "        \n",
    "            \n",
    "    def load_model(self, model_cfg, ckpt_path):\n",
    "        config = yaml.load(open(model_cfg, 'r'), Loader=yaml.FullLoader)\n",
    "        model = ConvLMHeadModel(**config['model_config'])\n",
    "        \n",
    "        state_dict = torch.load(ckpt_path, map_location='cpu')\n",
    "\n",
    "        # loads model from ddp by removing prexix to single if necessary\n",
    "        torch.nn.modules.utils.consume_prefix_in_state_dict_if_present(\n",
    "            state_dict[\"state_dict\"], \"model.\"\n",
    "        )\n",
    "\n",
    "        model_state_dict = state_dict[\"state_dict\"]\n",
    "\n",
    "        # need to remove torchmetrics. to remove keys, need to convert to list first\n",
    "        for key in list(model_state_dict.keys()):\n",
    "            if \"torchmetrics\" in key:\n",
    "                model_state_dict.pop(key)\n",
    "\n",
    "        model.load_state_dict(state_dict[\"state_dict\"])\n",
    "\n",
    "        # setup tokenizer\n",
    "        if config['tokenizer_name'] == 'char':\n",
    "            print(\"**Using Char-level tokenizer**\")\n",
    "\n",
    "            # add to vocab\n",
    "            tokenizer = CharacterTokenizer(\n",
    "                characters=['A', 'C', 'G', 'T', 'N'],\n",
    "                model_max_length=self.max_seq_len + 2,  # add 2 since default adds eos/eos tokens, crop later\n",
    "                add_special_tokens=False,\n",
    "            )\n",
    "            # print(tokenizer._vocab_str_to_int)\n",
    "        else:\n",
    "            raise NotImplementedError(\"You need to provide a custom tokenizer!\")\n",
    "\n",
    "        return model, tokenizer\n",
    "        \n",
    "        \n",
    "# if __name__ == \"__main__\":\n",
    "\n",
    "# SAFARI_PATH = os.getenv('SAFARI_PATH', '.')\n",
    "\n",
    "# parser = argparse.ArgumentParser()\n",
    "\n",
    "# parser.add_argument(\n",
    "#     \"--model_cfg\",\n",
    "#     default=f\"{SAFARI_PATH}/configs/evals/hyena_small_150b.yaml\",\n",
    "# )\n",
    "\n",
    "# parser.add_argument(\n",
    "#     \"--ckpt_path\",\n",
    "#     default=f\"\",\n",
    "#     help=\"Path to model state dict checkpoint\"\n",
    "# )\n",
    "    \n",
    "# args = parser.parse_args()\n",
    "    \n",
    "# task = HG38Encoder(args.model_cfg, args.ckpt_path, max_seq_len=1024)\n",
    "\n",
    "trained = HG38Encoder('/data/leslie/sarthak/hyena/hyena-dna/configs/evals/cCRE.yaml', '/data/leslie/sarthak/hyena/hyena-dna/outputs/2024-01-26/15-03-07-318248/checkpoints/last.ckpt', max_seq_len=1024)\n",
    "original = HG38Encoder('/data/leslie/sarthak/hyena/hyena-dna/configs/evals/cCRE.yaml', '/data/leslie/sarthak/hyena/hyena-dna/hyenadna-tiny-1k-seqlen/weights.ckpt', max_seq_len=1024)\n",
    "# # sample sequence, can pass a list of seqs (themselves a list of chars)\n",
    "seqs = [\"ACGTACGTACGTACGTACGTACGTACGTACGTACGTACGTACGTACGTACGTACGTACGTACGTACGTACGT\"]\n",
    "print(len(seqs[0]))\n",
    "logits = trained.encode(seqs)\n",
    "# print(logits)\n",
    "print(logits[0].logits.shape)\n",
    "logits2 = original.encode(seqs)\n",
    "print(logits2[0].logits.shape)\n",
    "# # breakpoint()\n",
    "\n",
    "# predict 73 when th elength is 72 because they also predict that last one that could be eos token\n",
    "# predict through the input but remember we have an output for every single input"
   ]
  },
  {
   "cell_type": "code",
   "execution_count": 9,
   "metadata": {},
   "outputs": [
    {
     "name": "stdout",
     "output_type": "stream",
     "text": [
      "**Using Char-level tokenizer**\n"
     ]
    },
    {
     "name": "stderr",
     "output_type": "stream",
     "text": [
      "100%|█████████████████████████████████████████████████████████████████████████████████████████████████████████████████████████████████████| 1/1 [00:00<00:00, 216.85it/s]"
     ]
    },
    {
     "name": "stdout",
     "output_type": "stream",
     "text": [
      "torch.Size([1, 73, 16])\n",
      "None\n",
      "1024\n"
     ]
    },
    {
     "name": "stderr",
     "output_type": "stream",
     "text": [
      "\n"
     ]
    }
   ],
   "source": [
    "#need to modify this class to also get the y prediction sequence and make sure it makes sense\n",
    "\n",
    "#use logits and dataloader to evaluate our models\n",
    "\n",
    "#we can also load via the logits\n",
    "\n",
    "import torch \n",
    "\n",
    "import argparse\n",
    "import os\n",
    "import sys\n",
    "import yaml \n",
    "from tqdm import tqdm\n",
    "import json \n",
    "\n",
    "# sys.path.append(os.environ.get(\"SAFARI_PATH\", \".\"))\n",
    "\n",
    "from src.models.sequence.long_conv_lm import ConvLMHeadModel\n",
    "\n",
    "# from transformers import AutoTokenizer, GPT2LMHeadModel\n",
    "# from spacy.lang.en.stop_words import STOP_WORDS\n",
    "from src.dataloaders.datasets.hg38_char_tokenizer import CharacterTokenizer\n",
    "\n",
    "try:\n",
    "    from tokenizers import Tokenizer  \n",
    "except:\n",
    "    pass\n",
    "\n",
    "# https://github.com/openai/gpt-2/issues/131#issuecomment-492786058\n",
    "# def preprocess(text):\n",
    "#     text = text.replace(\"“\", '\"')\n",
    "#     text = text.replace(\"”\", '\"')\n",
    "#     return '\\n'+text.strip()\n",
    "\n",
    "\n",
    "class HG38Encoder:\n",
    "    \"Encoder inference for HG38 sequences\"\n",
    "    def __init__(self, model_cfg, ckpt_path, max_seq_len):\n",
    "        self.max_seq_len = max_seq_len\n",
    "        self.model, self.tokenizer = self.load_model(model_cfg, ckpt_path)\n",
    "        self.device = torch.device(\"cuda\" if torch.cuda.is_available() else \"cpu\")\n",
    "        self.model = self.model.to(self.device)\n",
    "\n",
    "    def encode(self, seqs):\n",
    "            \n",
    "        results = []\n",
    "        # outputs = []\n",
    "\n",
    "        # sample code to loop thru each sample and tokenize first (char level)\n",
    "        for seq in tqdm(seqs):\n",
    "            \n",
    "            if isinstance(self.tokenizer, Tokenizer):\n",
    "                tokenized_seq = self.tokenizer.encode(seq).ids\n",
    "            else:\n",
    "                tokenized_seq = self.tokenizer.encode(seq)\n",
    "            \n",
    "            # can accept a batch, shape [B, seq_len, hidden_dim]\n",
    "            logits, _ = self.model(torch.tensor([tokenized_seq]).to(device=self.device))\n",
    "\n",
    "            # Using head, so just have logits\n",
    "            results.append(logits)\n",
    "            # outputs.append(output)\n",
    "\n",
    "        return results\n",
    "        \n",
    "            \n",
    "    def load_model(self, model_cfg, ckpt_path):\n",
    "        config = yaml.load(open(model_cfg, 'r'), Loader=yaml.FullLoader)\n",
    "        model = ConvLMHeadModel(**config['model_config'])\n",
    "        \n",
    "        state_dict = torch.load(ckpt_path, map_location='cuda:0')\n",
    "\n",
    "        # loads model from ddp by removing prexix to single if necessary\n",
    "        torch.nn.modules.utils.consume_prefix_in_state_dict_if_present(\n",
    "            state_dict[\"state_dict\"], \"model.\"\n",
    "        )\n",
    "\n",
    "        model_state_dict = state_dict[\"state_dict\"]\n",
    "\n",
    "        # need to remove torchmetrics. to remove keys, need to convert to list first\n",
    "        for key in list(model_state_dict.keys()):\n",
    "            if \"torchmetrics\" in key:\n",
    "                model_state_dict.pop(key)\n",
    "\n",
    "        model.load_state_dict(state_dict[\"state_dict\"])\n",
    "\n",
    "        # setup tokenizer\n",
    "        if config['tokenizer_name'] == 'char':\n",
    "            print(\"**Using Char-level tokenizer**\")\n",
    "\n",
    "            # add to vocab\n",
    "            tokenizer = CharacterTokenizer(\n",
    "                characters=['A', 'C', 'G', 'T', 'N'],\n",
    "                model_max_length=self.max_seq_len + 2,  # add 2 since default adds eos/eos tokens, crop later\n",
    "                add_special_tokens=False,\n",
    "                padding_side='left'\n",
    "            )\n",
    "            # print(tokenizer._vocab_str_to_int)\n",
    "\n",
    "        return model, tokenizer\n",
    "\n",
    "trained = HG38Encoder('/data/leslie/sarthak/hyena/hyena-dna/configs/evals/cCRE.yaml', '/data/leslie/sarthak/hyena/hyena-dna/outputs/2024-01-26/15-03-07-318248/checkpoints/last.ckpt', max_seq_len=1024)\n",
    "# original = HG38Encoder('/data/leslie/sarthak/hyena/hyena-dna/configs/evals/cCRE.yaml', '/data/leslie/sarthak/hyena/hyena-dna/hyenadna-tiny-1k-seqlen/weights.ckpt', max_seq_len=1024)\n",
    "# # sample sequence, can pass a list of seqs (themselves a list of chars)\n",
    "seqs = [\"ACGTACGTACGTACGTACGTACGTACGTACGTACGTACGTACGTACGTACGTACGTACGTACGTACGTACGT\"]\n",
    "y_hat = trained.encode(seqs)\n",
    "print(y_hat[0].logits.shape)\n",
    "print(y[0])\n",
    "print(trained.max_seq_len) #it is the 1024, but it's not padding here\n",
    "# print(y_hat[0].logits[0,16,:])\n",
    "# print(y[0][0,16,:])\n"
   ]
  },
  {
   "cell_type": "code",
   "execution_count": 15,
   "metadata": {},
   "outputs": [
    {
     "name": "stdout",
     "output_type": "stream",
     "text": [
      "False\n"
     ]
    }
   ],
   "source": [
    "print(isinstance(trained.tokenizer, Tokenizer)) #so doesn't do .ids, just tokenizes it"
   ]
  },
  {
   "cell_type": "code",
   "execution_count": 14,
   "metadata": {},
   "outputs": [
    {
     "name": "stdout",
     "output_type": "stream",
     "text": [
      "True\n",
      "[7, 1]\n",
      "[7, 1]\n"
     ]
    }
   ],
   "source": [
    "a = trained.tokenizer('A')['input_ids'] #completely identical tho\n",
    "b = trained.tokenizer.encode('A')\n",
    "print(a == b)\n",
    "print(a)\n",
    "print(b)\n",
    "#just all 4 and then 7 and eos token of 1\n",
    "#we need to do this padding, as this is what the model sees since it's always the same length\n"
   ]
  },
  {
   "cell_type": "code",
   "execution_count": 24,
   "metadata": {},
   "outputs": [
    {
     "name": "stdout",
     "output_type": "stream",
     "text": [
      "{'input_ids': [4, 4, 4, 4, 4, 4, 4, 4, 4, 4, 4, 4, 4, 4, 4, 4, 4, 4, 4, 4, 4, 4, 4, 4, 4, 4, 4, 4, 4, 4, 4, 4, 4, 4, 4, 4, 4, 4, 4, 4, 4, 4, 4, 4, 4, 4, 4, 4, 4, 4, 4, 4, 4, 4, 4, 4, 4, 4, 4, 4, 4, 4, 4, 4, 4, 4, 4, 4, 4, 4, 4, 4, 4, 4, 4, 4, 4, 4, 4, 4, 4, 4, 4, 4, 4, 4, 4, 4, 4, 4, 4, 4, 4, 4, 4, 4, 4, 4, 4, 4, 4, 4, 4, 4, 4, 4, 4, 4, 4, 4, 4, 4, 4, 4, 4, 4, 4, 4, 4, 4, 4, 4, 4, 4, 4, 4, 4, 4, 4, 4, 4, 4, 4, 4, 4, 4, 4, 4, 4, 4, 4, 4, 4, 4, 4, 4, 4, 4, 4, 4, 4, 4, 4, 4, 4, 4, 4, 4, 4, 4, 4, 4, 4, 4, 4, 4, 4, 4, 4, 4, 4, 4, 4, 4, 4, 4, 4, 4, 4, 4, 4, 4, 4, 4, 4, 4, 4, 4, 4, 4, 4, 4, 4, 4, 4, 4, 4, 4, 4, 4, 4, 4, 4, 4, 4, 4, 4, 4, 4, 4, 4, 4, 4, 4, 4, 4, 4, 4, 4, 4, 4, 4, 4, 4, 4, 4, 4, 4, 4, 4, 4, 4, 4, 4, 4, 4, 4, 4, 4, 4, 4, 4, 4, 4, 4, 4, 4, 4, 4, 4, 4, 4, 4, 4, 4, 4, 4, 4, 4, 4, 4, 4, 4, 4, 4, 4, 4, 4, 4, 4, 4, 4, 4, 4, 4, 4, 4, 4, 4, 4, 4, 4, 4, 4, 4, 4, 4, 4, 4, 4, 4, 4, 4, 4, 4, 4, 4, 4, 4, 4, 4, 4, 4, 4, 4, 4, 4, 4, 4, 4, 4, 4, 4, 4, 4, 4, 4, 4, 4, 4, 4, 4, 4, 4, 4, 4, 4, 4, 4, 4, 4, 4, 4, 4, 4, 4, 4, 4, 4, 4, 4, 4, 4, 4, 4, 4, 4, 4, 4, 4, 4, 4, 4, 4, 4, 4, 4, 4, 4, 4, 4, 4, 4, 4, 4, 4, 4, 4, 4, 4, 4, 4, 4, 4, 4, 4, 4, 4, 4, 4, 4, 4, 4, 4, 4, 4, 4, 4, 4, 4, 4, 4, 4, 4, 4, 4, 4, 4, 4, 4, 4, 4, 4, 4, 4, 4, 4, 4, 4, 4, 4, 4, 4, 4, 4, 4, 4, 4, 4, 4, 4, 4, 4, 4, 4, 4, 4, 4, 4, 4, 4, 4, 4, 4, 4, 4, 4, 4, 4, 4, 4, 4, 4, 4, 4, 4, 4, 4, 4, 4, 4, 4, 4, 4, 4, 4, 4, 4, 4, 4, 4, 4, 4, 4, 4, 4, 4, 4, 4, 4, 4, 4, 4, 4, 4, 4, 4, 4, 4, 4, 4, 4, 4, 4, 4, 4, 4, 4, 4, 4, 4, 4, 4, 4, 4, 4, 4, 4, 4, 4, 4, 4, 4, 4, 4, 4, 4, 4, 4, 4, 4, 4, 4, 4, 4, 4, 4, 4, 4, 4, 4, 4, 4, 4, 4, 4, 4, 4, 4, 4, 4, 4, 4, 4, 4, 4, 4, 4, 4, 4, 4, 4, 4, 4, 4, 4, 4, 4, 4, 4, 4, 4, 4, 4, 4, 4, 4, 4, 4, 4, 4, 4, 4, 4, 4, 4, 4, 4, 4, 4, 4, 4, 4, 4, 4, 4, 4, 4, 4, 4, 4, 4, 4, 4, 4, 4, 4, 4, 4, 4, 4, 4, 4, 4, 4, 4, 4, 4, 4, 4, 4, 4, 4, 4, 4, 4, 4, 4, 4, 4, 4, 4, 4, 4, 4, 4, 4, 4, 4, 4, 4, 4, 4, 4, 4, 4, 4, 4, 4, 4, 4, 4, 4, 4, 4, 4, 4, 4, 4, 4, 4, 4, 4, 4, 4, 4, 4, 4, 4, 4, 4, 4, 4, 4, 4, 4, 4, 4, 4, 4, 4, 4, 4, 4, 4, 4, 4, 4, 4, 4, 4, 4, 4, 4, 4, 4, 4, 4, 4, 4, 4, 4, 4, 4, 4, 4, 4, 4, 4, 4, 4, 4, 4, 4, 4, 4, 4, 4, 4, 4, 4, 4, 4, 4, 4, 4, 4, 4, 4, 4, 4, 4, 4, 4, 4, 4, 4, 4, 4, 4, 4, 4, 4, 4, 4, 4, 4, 4, 4, 4, 4, 4, 4, 4, 4, 4, 4, 4, 4, 4, 4, 4, 4, 4, 4, 4, 4, 4, 4, 4, 4, 4, 4, 4, 4, 4, 4, 4, 4, 4, 4, 4, 4, 4, 4, 4, 4, 4, 4, 4, 4, 4, 4, 4, 4, 4, 4, 4, 4, 4, 4, 4, 4, 4, 4, 4, 4, 4, 4, 4, 4, 4, 4, 4, 4, 4, 4, 4, 4, 4, 4, 4, 4, 4, 4, 4, 4, 4, 4, 4, 4, 4, 4, 4, 4, 4, 4, 4, 4, 4, 4, 4, 4, 4, 4, 4, 4, 4, 4, 4, 4, 4, 4, 4, 4, 4, 4, 4, 4, 4, 4, 4, 4, 4, 4, 4, 4, 4, 4, 4, 4, 4, 4, 4, 4, 4, 4, 4, 4, 4, 4, 4, 4, 4, 4, 4, 4, 4, 4, 4, 4, 4, 4, 4, 4, 4, 4, 4, 4, 4, 4, 4, 4, 4, 4, 4, 4, 4, 4, 4, 4, 4, 4, 4, 4, 4, 4, 4, 4, 4, 4, 4, 4, 4, 4, 4, 4, 4, 4, 4, 4, 4, 4, 4, 4, 4, 4, 4, 4, 4, 4, 4, 4, 4, 4, 4, 4, 4, 4, 4, 4, 4, 4, 4, 4, 4, 4, 4, 4, 4, 4, 4, 4, 4, 4, 4, 4, 4, 4, 4, 4, 4, 4, 4, 4, 4, 4, 4, 4, 4, 4, 4, 4, 4, 4, 4, 4, 4, 4, 4, 4, 4, 4, 4, 4, 4, 4, 4, 4, 4, 4, 4, 4, 4, 4, 4, 4, 4, 4, 4, 4, 4, 4, 4, 4, 4, 4, 4, 4, 4, 4, 4, 4, 4, 4, 4, 4, 4, 4, 4, 4, 4, 4, 4, 4, 4, 4, 4, 4, 4, 4, 4, 4, 4, 7, 1], 'token_type_ids': [0, 0, 0, 0, 0, 0, 0, 0, 0, 0, 0, 0, 0, 0, 0, 0, 0, 0, 0, 0, 0, 0, 0, 0, 0, 0, 0, 0, 0, 0, 0, 0, 0, 0, 0, 0, 0, 0, 0, 0, 0, 0, 0, 0, 0, 0, 0, 0, 0, 0, 0, 0, 0, 0, 0, 0, 0, 0, 0, 0, 0, 0, 0, 0, 0, 0, 0, 0, 0, 0, 0, 0, 0, 0, 0, 0, 0, 0, 0, 0, 0, 0, 0, 0, 0, 0, 0, 0, 0, 0, 0, 0, 0, 0, 0, 0, 0, 0, 0, 0, 0, 0, 0, 0, 0, 0, 0, 0, 0, 0, 0, 0, 0, 0, 0, 0, 0, 0, 0, 0, 0, 0, 0, 0, 0, 0, 0, 0, 0, 0, 0, 0, 0, 0, 0, 0, 0, 0, 0, 0, 0, 0, 0, 0, 0, 0, 0, 0, 0, 0, 0, 0, 0, 0, 0, 0, 0, 0, 0, 0, 0, 0, 0, 0, 0, 0, 0, 0, 0, 0, 0, 0, 0, 0, 0, 0, 0, 0, 0, 0, 0, 0, 0, 0, 0, 0, 0, 0, 0, 0, 0, 0, 0, 0, 0, 0, 0, 0, 0, 0, 0, 0, 0, 0, 0, 0, 0, 0, 0, 0, 0, 0, 0, 0, 0, 0, 0, 0, 0, 0, 0, 0, 0, 0, 0, 0, 0, 0, 0, 0, 0, 0, 0, 0, 0, 0, 0, 0, 0, 0, 0, 0, 0, 0, 0, 0, 0, 0, 0, 0, 0, 0, 0, 0, 0, 0, 0, 0, 0, 0, 0, 0, 0, 0, 0, 0, 0, 0, 0, 0, 0, 0, 0, 0, 0, 0, 0, 0, 0, 0, 0, 0, 0, 0, 0, 0, 0, 0, 0, 0, 0, 0, 0, 0, 0, 0, 0, 0, 0, 0, 0, 0, 0, 0, 0, 0, 0, 0, 0, 0, 0, 0, 0, 0, 0, 0, 0, 0, 0, 0, 0, 0, 0, 0, 0, 0, 0, 0, 0, 0, 0, 0, 0, 0, 0, 0, 0, 0, 0, 0, 0, 0, 0, 0, 0, 0, 0, 0, 0, 0, 0, 0, 0, 0, 0, 0, 0, 0, 0, 0, 0, 0, 0, 0, 0, 0, 0, 0, 0, 0, 0, 0, 0, 0, 0, 0, 0, 0, 0, 0, 0, 0, 0, 0, 0, 0, 0, 0, 0, 0, 0, 0, 0, 0, 0, 0, 0, 0, 0, 0, 0, 0, 0, 0, 0, 0, 0, 0, 0, 0, 0, 0, 0, 0, 0, 0, 0, 0, 0, 0, 0, 0, 0, 0, 0, 0, 0, 0, 0, 0, 0, 0, 0, 0, 0, 0, 0, 0, 0, 0, 0, 0, 0, 0, 0, 0, 0, 0, 0, 0, 0, 0, 0, 0, 0, 0, 0, 0, 0, 0, 0, 0, 0, 0, 0, 0, 0, 0, 0, 0, 0, 0, 0, 0, 0, 0, 0, 0, 0, 0, 0, 0, 0, 0, 0, 0, 0, 0, 0, 0, 0, 0, 0, 0, 0, 0, 0, 0, 0, 0, 0, 0, 0, 0, 0, 0, 0, 0, 0, 0, 0, 0, 0, 0, 0, 0, 0, 0, 0, 0, 0, 0, 0, 0, 0, 0, 0, 0, 0, 0, 0, 0, 0, 0, 0, 0, 0, 0, 0, 0, 0, 0, 0, 0, 0, 0, 0, 0, 0, 0, 0, 0, 0, 0, 0, 0, 0, 0, 0, 0, 0, 0, 0, 0, 0, 0, 0, 0, 0, 0, 0, 0, 0, 0, 0, 0, 0, 0, 0, 0, 0, 0, 0, 0, 0, 0, 0, 0, 0, 0, 0, 0, 0, 0, 0, 0, 0, 0, 0, 0, 0, 0, 0, 0, 0, 0, 0, 0, 0, 0, 0, 0, 0, 0, 0, 0, 0, 0, 0, 0, 0, 0, 0, 0, 0, 0, 0, 0, 0, 0, 0, 0, 0, 0, 0, 0, 0, 0, 0, 0, 0, 0, 0, 0, 0, 0, 0, 0, 0, 0, 0, 0, 0, 0, 0, 0, 0, 0, 0, 0, 0, 0, 0, 0, 0, 0, 0, 0, 0, 0, 0, 0, 0, 0, 0, 0, 0, 0, 0, 0, 0, 0, 0, 0, 0, 0, 0, 0, 0, 0, 0, 0, 0, 0, 0, 0, 0, 0, 0, 0, 0, 0, 0, 0, 0, 0, 0, 0, 0, 0, 0, 0, 0, 0, 0, 0, 0, 0, 0, 0, 0, 0, 0, 0, 0, 0, 0, 0, 0, 0, 0, 0, 0, 0, 0, 0, 0, 0, 0, 0, 0, 0, 0, 0, 0, 0, 0, 0, 0, 0, 0, 0, 0, 0, 0, 0, 0, 0, 0, 0, 0, 0, 0, 0, 0, 0, 0, 0, 0, 0, 0, 0, 0, 0, 0, 0, 0, 0, 0, 0, 0, 0, 0, 0, 0, 0, 0, 0, 0, 0, 0, 0, 0, 0, 0, 0, 0, 0, 0, 0, 0, 0, 0, 0, 0, 0, 0, 0, 0, 0, 0, 0, 0, 0, 0, 0, 0, 0, 0, 0, 0, 0, 0, 0, 0, 0, 0, 0, 0, 0, 0, 0, 0, 0, 0, 0, 0, 0, 0, 0, 0, 0, 0, 0, 0, 0, 0, 0, 0, 0, 0, 0, 0, 0, 0, 0, 0, 0, 0, 0, 0, 0, 0, 0, 0, 0, 0, 0, 0, 0, 0, 0, 0, 0, 0, 0, 0, 0, 0, 0, 0, 0, 0, 0, 0, 0, 0, 0, 0, 0, 0, 0, 0, 0, 0, 0, 0, 0, 0, 0, 0, 0, 0, 0, 0, 0, 0, 0, 0, 0, 0, 0, 0, 0, 0, 0, 0, 0, 0, 0, 0, 0, 0, 0, 0, 0, 0, 0, 0, 0, 0, 0, 0, 0, 0, 0, 0, 0, 0, 0, 0, 0, 0, 0, 0, 0, 0, 0, 0, 0, 0, 0, 0, 0, 0, 0, 0, 0, 0, 0, 0, 0, 0, 0, 0, 0, 0, 0, 0, 0, 0, 0, 0, 0, 0, 0, 0, 0, 0, 0, 0, 0, 0, 0, 0, 0, 0, 0, 0, 0, 0, 0, 0, 0, 0, 0, 0, 0, 0, 0, 0, 0, 0, 0, 0, 0, 0, 0, 0, 0, 0, 0, 0, 0, 0, 0, 0, 0, 0, 0, 0, 0, 0, 0, 0, 0, 0], 'attention_mask': [0, 0, 0, 0, 0, 0, 0, 0, 0, 0, 0, 0, 0, 0, 0, 0, 0, 0, 0, 0, 0, 0, 0, 0, 0, 0, 0, 0, 0, 0, 0, 0, 0, 0, 0, 0, 0, 0, 0, 0, 0, 0, 0, 0, 0, 0, 0, 0, 0, 0, 0, 0, 0, 0, 0, 0, 0, 0, 0, 0, 0, 0, 0, 0, 0, 0, 0, 0, 0, 0, 0, 0, 0, 0, 0, 0, 0, 0, 0, 0, 0, 0, 0, 0, 0, 0, 0, 0, 0, 0, 0, 0, 0, 0, 0, 0, 0, 0, 0, 0, 0, 0, 0, 0, 0, 0, 0, 0, 0, 0, 0, 0, 0, 0, 0, 0, 0, 0, 0, 0, 0, 0, 0, 0, 0, 0, 0, 0, 0, 0, 0, 0, 0, 0, 0, 0, 0, 0, 0, 0, 0, 0, 0, 0, 0, 0, 0, 0, 0, 0, 0, 0, 0, 0, 0, 0, 0, 0, 0, 0, 0, 0, 0, 0, 0, 0, 0, 0, 0, 0, 0, 0, 0, 0, 0, 0, 0, 0, 0, 0, 0, 0, 0, 0, 0, 0, 0, 0, 0, 0, 0, 0, 0, 0, 0, 0, 0, 0, 0, 0, 0, 0, 0, 0, 0, 0, 0, 0, 0, 0, 0, 0, 0, 0, 0, 0, 0, 0, 0, 0, 0, 0, 0, 0, 0, 0, 0, 0, 0, 0, 0, 0, 0, 0, 0, 0, 0, 0, 0, 0, 0, 0, 0, 0, 0, 0, 0, 0, 0, 0, 0, 0, 0, 0, 0, 0, 0, 0, 0, 0, 0, 0, 0, 0, 0, 0, 0, 0, 0, 0, 0, 0, 0, 0, 0, 0, 0, 0, 0, 0, 0, 0, 0, 0, 0, 0, 0, 0, 0, 0, 0, 0, 0, 0, 0, 0, 0, 0, 0, 0, 0, 0, 0, 0, 0, 0, 0, 0, 0, 0, 0, 0, 0, 0, 0, 0, 0, 0, 0, 0, 0, 0, 0, 0, 0, 0, 0, 0, 0, 0, 0, 0, 0, 0, 0, 0, 0, 0, 0, 0, 0, 0, 0, 0, 0, 0, 0, 0, 0, 0, 0, 0, 0, 0, 0, 0, 0, 0, 0, 0, 0, 0, 0, 0, 0, 0, 0, 0, 0, 0, 0, 0, 0, 0, 0, 0, 0, 0, 0, 0, 0, 0, 0, 0, 0, 0, 0, 0, 0, 0, 0, 0, 0, 0, 0, 0, 0, 0, 0, 0, 0, 0, 0, 0, 0, 0, 0, 0, 0, 0, 0, 0, 0, 0, 0, 0, 0, 0, 0, 0, 0, 0, 0, 0, 0, 0, 0, 0, 0, 0, 0, 0, 0, 0, 0, 0, 0, 0, 0, 0, 0, 0, 0, 0, 0, 0, 0, 0, 0, 0, 0, 0, 0, 0, 0, 0, 0, 0, 0, 0, 0, 0, 0, 0, 0, 0, 0, 0, 0, 0, 0, 0, 0, 0, 0, 0, 0, 0, 0, 0, 0, 0, 0, 0, 0, 0, 0, 0, 0, 0, 0, 0, 0, 0, 0, 0, 0, 0, 0, 0, 0, 0, 0, 0, 0, 0, 0, 0, 0, 0, 0, 0, 0, 0, 0, 0, 0, 0, 0, 0, 0, 0, 0, 0, 0, 0, 0, 0, 0, 0, 0, 0, 0, 0, 0, 0, 0, 0, 0, 0, 0, 0, 0, 0, 0, 0, 0, 0, 0, 0, 0, 0, 0, 0, 0, 0, 0, 0, 0, 0, 0, 0, 0, 0, 0, 0, 0, 0, 0, 0, 0, 0, 0, 0, 0, 0, 0, 0, 0, 0, 0, 0, 0, 0, 0, 0, 0, 0, 0, 0, 0, 0, 0, 0, 0, 0, 0, 0, 0, 0, 0, 0, 0, 0, 0, 0, 0, 0, 0, 0, 0, 0, 0, 0, 0, 0, 0, 0, 0, 0, 0, 0, 0, 0, 0, 0, 0, 0, 0, 0, 0, 0, 0, 0, 0, 0, 0, 0, 0, 0, 0, 0, 0, 0, 0, 0, 0, 0, 0, 0, 0, 0, 0, 0, 0, 0, 0, 0, 0, 0, 0, 0, 0, 0, 0, 0, 0, 0, 0, 0, 0, 0, 0, 0, 0, 0, 0, 0, 0, 0, 0, 0, 0, 0, 0, 0, 0, 0, 0, 0, 0, 0, 0, 0, 0, 0, 0, 0, 0, 0, 0, 0, 0, 0, 0, 0, 0, 0, 0, 0, 0, 0, 0, 0, 0, 0, 0, 0, 0, 0, 0, 0, 0, 0, 0, 0, 0, 0, 0, 0, 0, 0, 0, 0, 0, 0, 0, 0, 0, 0, 0, 0, 0, 0, 0, 0, 0, 0, 0, 0, 0, 0, 0, 0, 0, 0, 0, 0, 0, 0, 0, 0, 0, 0, 0, 0, 0, 0, 0, 0, 0, 0, 0, 0, 0, 0, 0, 0, 0, 0, 0, 0, 0, 0, 0, 0, 0, 0, 0, 0, 0, 0, 0, 0, 0, 0, 0, 0, 0, 0, 0, 0, 0, 0, 0, 0, 0, 0, 0, 0, 0, 0, 0, 0, 0, 0, 0, 0, 0, 0, 0, 0, 0, 0, 0, 0, 0, 0, 0, 0, 0, 0, 0, 0, 0, 0, 0, 0, 0, 0, 0, 0, 0, 0, 0, 0, 0, 0, 0, 0, 0, 0, 0, 0, 0, 0, 0, 0, 0, 0, 0, 0, 0, 0, 0, 0, 0, 0, 0, 0, 0, 0, 0, 0, 0, 0, 0, 0, 0, 0, 0, 0, 0, 0, 0, 0, 0, 0, 0, 0, 0, 0, 0, 0, 0, 0, 0, 0, 0, 0, 0, 0, 0, 0, 0, 0, 0, 0, 0, 0, 0, 0, 0, 0, 0, 0, 0, 0, 0, 0, 0, 0, 0, 0, 0, 0, 0, 0, 0, 0, 0, 0, 0, 0, 0, 0, 0, 0, 0, 0, 0, 0, 0, 0, 0, 0, 0, 0, 0, 0, 0, 0, 0, 0, 0, 0, 0, 0, 0, 0, 0, 0, 0, 0, 0, 0, 0, 0, 0, 0, 0, 0, 0, 0, 0, 0, 0, 0, 0, 0, 0, 0, 0, 0, 0, 0, 0, 0, 0, 0, 0, 0, 0, 0, 0, 0, 0, 0, 0, 0, 0, 0, 0, 0, 0, 0, 0, 0, 0, 0, 0, 0, 0, 0, 0, 0, 0, 0, 0, 0, 0, 0, 0, 0, 1, 1]}\n",
      "1026\n"
     ]
    }
   ],
   "source": [
    "print(a:=trained.tokenizer('A', padding=\"max_length\"))\n",
    "#it's 1024 length\n",
    "print(len(a['input_ids'])) #1024 + 2"
   ]
  },
  {
   "cell_type": "code",
   "execution_count": 27,
   "metadata": {},
   "outputs": [
    {
     "name": "stdout",
     "output_type": "stream",
     "text": [
      "{'input_ids': [4, 4, 4, 4, 4, 4, 4, 4, 4, 4, 4, 4, 4, 4, 4, 4, 4, 4, 4, 4, 4, 4, 4, 4, 4, 4, 4, 4, 4, 4, 4, 4, 4, 4, 4, 4, 4, 4, 4, 4, 4, 4, 4, 4, 4, 4, 4, 4, 4, 4, 4, 4, 4, 4, 4, 4, 4, 4, 4, 4, 4, 4, 4, 4, 4, 4, 4, 4, 4, 4, 4, 4, 4, 4, 4, 4, 4, 4, 4, 4, 4, 4, 4, 4, 4, 4, 4, 4, 4, 4, 4, 4, 4, 4, 4, 4, 4, 4, 4, 4, 4, 4, 4, 4, 4, 4, 4, 4, 4, 4, 4, 4, 4, 4, 4, 4, 4, 4, 4, 4, 4, 4, 4, 4, 4, 4, 4, 4, 4, 4, 4, 4, 4, 4, 4, 4, 4, 4, 4, 4, 4, 4, 4, 4, 4, 4, 4, 4, 4, 4, 4, 4, 4, 4, 4, 4, 4, 4, 4, 4, 4, 4, 4, 4, 4, 4, 4, 4, 4, 4, 4, 4, 4, 4, 4, 4, 4, 4, 4, 4, 4, 4, 4, 4, 4, 4, 4, 4, 4, 4, 4, 4, 4, 4, 4, 4, 4, 4, 4, 4, 4, 4, 4, 4, 4, 4, 4, 4, 4, 4, 4, 4, 4, 4, 4, 4, 4, 4, 4, 4, 4, 4, 4, 4, 4, 4, 4, 4, 4, 4, 4, 4, 4, 4, 4, 4, 4, 4, 4, 4, 4, 4, 4, 4, 4, 4, 4, 4, 4, 4, 4, 4, 4, 4, 4, 4, 4, 4, 4, 4, 4, 4, 4, 4, 4, 4, 4, 4, 4, 4, 4, 4, 4, 4, 4, 4, 4, 4, 4, 4, 4, 4, 4, 4, 4, 4, 4, 4, 4, 4, 4, 4, 4, 4, 4, 4, 4, 4, 4, 4, 4, 4, 4, 4, 4, 4, 4, 4, 4, 4, 4, 4, 4, 4, 4, 4, 4, 4, 4, 4, 4, 4, 4, 4, 4, 4, 4, 4, 4, 4, 4, 4, 4, 4, 4, 4, 4, 4, 4, 4, 4, 4, 4, 4, 4, 4, 4, 4, 4, 4, 4, 4, 4, 4, 4, 4, 4, 4, 4, 4, 4, 4, 4, 4, 4, 4, 4, 4, 4, 4, 4, 4, 4, 4, 4, 4, 4, 4, 4, 4, 4, 4, 4, 4, 4, 4, 4, 4, 4, 4, 4, 4, 4, 4, 4, 4, 4, 4, 4, 4, 4, 4, 4, 4, 4, 4, 4, 4, 4, 4, 4, 4, 4, 4, 4, 4, 4, 4, 4, 4, 4, 4, 4, 4, 4, 4, 4, 4, 4, 4, 4, 4, 4, 4, 4, 4, 4, 4, 4, 4, 4, 4, 4, 4, 4, 4, 4, 4, 4, 4, 4, 4, 4, 4, 4, 4, 4, 4, 4, 4, 4, 4, 4, 4, 4, 4, 4, 4, 4, 4, 4, 4, 4, 4, 4, 4, 4, 4, 4, 4, 4, 4, 4, 4, 4, 4, 4, 4, 4, 4, 4, 4, 4, 4, 4, 4, 4, 4, 4, 4, 4, 4, 4, 4, 4, 4, 4, 4, 4, 4, 4, 4, 4, 4, 4, 4, 4, 4, 4, 4, 4, 4, 4, 4, 4, 4, 4, 4, 4, 4, 4, 4, 4, 4, 4, 4, 4, 4, 4, 4, 4, 4, 4, 4, 4, 4, 4, 4, 4, 4, 4, 4, 4, 4, 4, 4, 4, 4, 4, 4, 4, 4, 4, 4, 4, 4, 4, 4, 4, 4, 4, 4, 4, 4, 4, 4, 4, 4, 4, 4, 4, 4, 4, 4, 4, 4, 4, 4, 4, 4, 4, 4, 4, 4, 4, 4, 4, 4, 4, 4, 4, 4, 4, 4, 4, 4, 4, 4, 4, 4, 4, 4, 4, 4, 4, 4, 4, 4, 4, 4, 4, 4, 4, 4, 4, 4, 4, 4, 4, 4, 4, 4, 4, 4, 4, 4, 4, 4, 4, 4, 4, 4, 4, 4, 4, 4, 4, 4, 4, 4, 4, 4, 4, 4, 4, 4, 4, 4, 4, 4, 4, 4, 4, 4, 4, 4, 4, 4, 4, 4, 4, 4, 4, 4, 4, 4, 4, 4, 4, 4, 4, 4, 4, 4, 4, 4, 4, 4, 4, 4, 4, 4, 4, 4, 4, 4, 4, 4, 4, 4, 4, 4, 4, 4, 4, 4, 4, 4, 4, 4, 4, 4, 4, 4, 4, 4, 4, 4, 4, 4, 4, 4, 4, 4, 4, 4, 4, 4, 4, 4, 4, 4, 4, 4, 4, 4, 4, 4, 4, 4, 4, 4, 4, 4, 4, 4, 4, 4, 4, 4, 4, 4, 4, 4, 4, 4, 4, 4, 4, 4, 4, 4, 4, 4, 4, 4, 4, 4, 4, 4, 4, 4, 4, 4, 4, 4, 4, 4, 4, 4, 4, 4, 4, 4, 4, 4, 4, 4, 4, 4, 4, 4, 4, 4, 4, 4, 4, 4, 4, 4, 4, 4, 4, 4, 4, 4, 4, 4, 4, 4, 4, 4, 4, 4, 4, 4, 4, 4, 4, 4, 4, 4, 4, 4, 4, 4, 4, 4, 4, 4, 4, 4, 4, 4, 4, 4, 4, 4, 4, 4, 4, 4, 4, 4, 4, 4, 4, 4, 4, 4, 4, 4, 4, 4, 4, 4, 4, 4, 4, 4, 4, 4, 4, 4, 4, 4, 4, 4, 4, 4, 4, 4, 4, 4, 4, 4, 4, 4, 4, 4, 4, 4, 4, 4, 4, 4, 4, 4, 4, 4, 4, 4, 4, 4, 4, 4, 4, 4, 4, 4, 4, 4, 4, 4, 4, 4, 4, 4, 4, 4, 4, 4, 4, 4, 4, 4, 4, 4, 4, 4, 4, 4, 4, 4, 4, 4, 4, 4, 4, 4, 4, 4, 4, 4, 4, 4, 4, 4, 4, 4, 4, 4, 4, 4, 4, 4, 4, 4, 4, 4, 4, 4, 4, 4, 4, 4, 4, 4, 4, 4, 4, 4, 4, 4, 4, 4, 4, 4, 4, 4, 4, 4, 4, 4, 4, 4, 4, 4, 4, 4, 4, 4, 4, 4, 4, 4, 4, 4, 4, 4, 4, 4, 4, 4, 4, 4, 4, 4, 4, 4, 4, 4, 4, 4, 4, 4, 4, 4, 4, 4, 4, 4, 4, 4, 4, 4, 4, 4, 4, 4, 4, 4, 4, 4, 7, 1], 'token_type_ids': [0, 0, 0, 0, 0, 0, 0, 0, 0, 0, 0, 0, 0, 0, 0, 0, 0, 0, 0, 0, 0, 0, 0, 0, 0, 0, 0, 0, 0, 0, 0, 0, 0, 0, 0, 0, 0, 0, 0, 0, 0, 0, 0, 0, 0, 0, 0, 0, 0, 0, 0, 0, 0, 0, 0, 0, 0, 0, 0, 0, 0, 0, 0, 0, 0, 0, 0, 0, 0, 0, 0, 0, 0, 0, 0, 0, 0, 0, 0, 0, 0, 0, 0, 0, 0, 0, 0, 0, 0, 0, 0, 0, 0, 0, 0, 0, 0, 0, 0, 0, 0, 0, 0, 0, 0, 0, 0, 0, 0, 0, 0, 0, 0, 0, 0, 0, 0, 0, 0, 0, 0, 0, 0, 0, 0, 0, 0, 0, 0, 0, 0, 0, 0, 0, 0, 0, 0, 0, 0, 0, 0, 0, 0, 0, 0, 0, 0, 0, 0, 0, 0, 0, 0, 0, 0, 0, 0, 0, 0, 0, 0, 0, 0, 0, 0, 0, 0, 0, 0, 0, 0, 0, 0, 0, 0, 0, 0, 0, 0, 0, 0, 0, 0, 0, 0, 0, 0, 0, 0, 0, 0, 0, 0, 0, 0, 0, 0, 0, 0, 0, 0, 0, 0, 0, 0, 0, 0, 0, 0, 0, 0, 0, 0, 0, 0, 0, 0, 0, 0, 0, 0, 0, 0, 0, 0, 0, 0, 0, 0, 0, 0, 0, 0, 0, 0, 0, 0, 0, 0, 0, 0, 0, 0, 0, 0, 0, 0, 0, 0, 0, 0, 0, 0, 0, 0, 0, 0, 0, 0, 0, 0, 0, 0, 0, 0, 0, 0, 0, 0, 0, 0, 0, 0, 0, 0, 0, 0, 0, 0, 0, 0, 0, 0, 0, 0, 0, 0, 0, 0, 0, 0, 0, 0, 0, 0, 0, 0, 0, 0, 0, 0, 0, 0, 0, 0, 0, 0, 0, 0, 0, 0, 0, 0, 0, 0, 0, 0, 0, 0, 0, 0, 0, 0, 0, 0, 0, 0, 0, 0, 0, 0, 0, 0, 0, 0, 0, 0, 0, 0, 0, 0, 0, 0, 0, 0, 0, 0, 0, 0, 0, 0, 0, 0, 0, 0, 0, 0, 0, 0, 0, 0, 0, 0, 0, 0, 0, 0, 0, 0, 0, 0, 0, 0, 0, 0, 0, 0, 0, 0, 0, 0, 0, 0, 0, 0, 0, 0, 0, 0, 0, 0, 0, 0, 0, 0, 0, 0, 0, 0, 0, 0, 0, 0, 0, 0, 0, 0, 0, 0, 0, 0, 0, 0, 0, 0, 0, 0, 0, 0, 0, 0, 0, 0, 0, 0, 0, 0, 0, 0, 0, 0, 0, 0, 0, 0, 0, 0, 0, 0, 0, 0, 0, 0, 0, 0, 0, 0, 0, 0, 0, 0, 0, 0, 0, 0, 0, 0, 0, 0, 0, 0, 0, 0, 0, 0, 0, 0, 0, 0, 0, 0, 0, 0, 0, 0, 0, 0, 0, 0, 0, 0, 0, 0, 0, 0, 0, 0, 0, 0, 0, 0, 0, 0, 0, 0, 0, 0, 0, 0, 0, 0, 0, 0, 0, 0, 0, 0, 0, 0, 0, 0, 0, 0, 0, 0, 0, 0, 0, 0, 0, 0, 0, 0, 0, 0, 0, 0, 0, 0, 0, 0, 0, 0, 0, 0, 0, 0, 0, 0, 0, 0, 0, 0, 0, 0, 0, 0, 0, 0, 0, 0, 0, 0, 0, 0, 0, 0, 0, 0, 0, 0, 0, 0, 0, 0, 0, 0, 0, 0, 0, 0, 0, 0, 0, 0, 0, 0, 0, 0, 0, 0, 0, 0, 0, 0, 0, 0, 0, 0, 0, 0, 0, 0, 0, 0, 0, 0, 0, 0, 0, 0, 0, 0, 0, 0, 0, 0, 0, 0, 0, 0, 0, 0, 0, 0, 0, 0, 0, 0, 0, 0, 0, 0, 0, 0, 0, 0, 0, 0, 0, 0, 0, 0, 0, 0, 0, 0, 0, 0, 0, 0, 0, 0, 0, 0, 0, 0, 0, 0, 0, 0, 0, 0, 0, 0, 0, 0, 0, 0, 0, 0, 0, 0, 0, 0, 0, 0, 0, 0, 0, 0, 0, 0, 0, 0, 0, 0, 0, 0, 0, 0, 0, 0, 0, 0, 0, 0, 0, 0, 0, 0, 0, 0, 0, 0, 0, 0, 0, 0, 0, 0, 0, 0, 0, 0, 0, 0, 0, 0, 0, 0, 0, 0, 0, 0, 0, 0, 0, 0, 0, 0, 0, 0, 0, 0, 0, 0, 0, 0, 0, 0, 0, 0, 0, 0, 0, 0, 0, 0, 0, 0, 0, 0, 0, 0, 0, 0, 0, 0, 0, 0, 0, 0, 0, 0, 0, 0, 0, 0, 0, 0, 0, 0, 0, 0, 0, 0, 0, 0, 0, 0, 0, 0, 0, 0, 0, 0, 0, 0, 0, 0, 0, 0, 0, 0, 0, 0, 0, 0, 0, 0, 0, 0, 0, 0, 0, 0, 0, 0, 0, 0, 0, 0, 0, 0, 0, 0, 0, 0, 0, 0, 0, 0, 0, 0, 0, 0, 0, 0, 0, 0, 0, 0, 0, 0, 0, 0, 0, 0, 0, 0, 0, 0, 0, 0, 0, 0, 0, 0, 0, 0, 0, 0, 0, 0, 0, 0, 0, 0, 0, 0, 0, 0, 0, 0, 0, 0, 0, 0, 0, 0, 0, 0, 0, 0, 0, 0, 0, 0, 0, 0, 0, 0, 0, 0, 0, 0, 0, 0, 0, 0, 0, 0, 0, 0, 0, 0, 0, 0, 0, 0, 0, 0, 0, 0, 0, 0, 0, 0, 0, 0, 0, 0, 0, 0, 0, 0, 0, 0, 0, 0, 0, 0, 0, 0, 0, 0, 0, 0, 0, 0, 0, 0, 0, 0, 0, 0, 0, 0, 0, 0, 0, 0, 0, 0, 0, 0, 0, 0, 0, 0, 0, 0, 0, 0, 0, 0, 0, 0, 0, 0, 0, 0, 0, 0, 0, 0, 0, 0, 0, 0, 0, 0, 0, 0, 0, 0, 0, 0, 0, 0, 0, 0, 0, 0, 0, 0, 0, 0, 0, 0, 0, 0, 0, 0, 0, 0, 0, 0, 0, 0, 0, 0, 0, 0, 0, 0, 0, 0, 0, 0, 0, 0, 0, 0, 0, 0, 0, 0, 0, 0, 0, 0, 0, 0, 0, 0, 0, 0, 0, 0, 0, 0, 0, 0, 0, 0], 'attention_mask': [0, 0, 0, 0, 0, 0, 0, 0, 0, 0, 0, 0, 0, 0, 0, 0, 0, 0, 0, 0, 0, 0, 0, 0, 0, 0, 0, 0, 0, 0, 0, 0, 0, 0, 0, 0, 0, 0, 0, 0, 0, 0, 0, 0, 0, 0, 0, 0, 0, 0, 0, 0, 0, 0, 0, 0, 0, 0, 0, 0, 0, 0, 0, 0, 0, 0, 0, 0, 0, 0, 0, 0, 0, 0, 0, 0, 0, 0, 0, 0, 0, 0, 0, 0, 0, 0, 0, 0, 0, 0, 0, 0, 0, 0, 0, 0, 0, 0, 0, 0, 0, 0, 0, 0, 0, 0, 0, 0, 0, 0, 0, 0, 0, 0, 0, 0, 0, 0, 0, 0, 0, 0, 0, 0, 0, 0, 0, 0, 0, 0, 0, 0, 0, 0, 0, 0, 0, 0, 0, 0, 0, 0, 0, 0, 0, 0, 0, 0, 0, 0, 0, 0, 0, 0, 0, 0, 0, 0, 0, 0, 0, 0, 0, 0, 0, 0, 0, 0, 0, 0, 0, 0, 0, 0, 0, 0, 0, 0, 0, 0, 0, 0, 0, 0, 0, 0, 0, 0, 0, 0, 0, 0, 0, 0, 0, 0, 0, 0, 0, 0, 0, 0, 0, 0, 0, 0, 0, 0, 0, 0, 0, 0, 0, 0, 0, 0, 0, 0, 0, 0, 0, 0, 0, 0, 0, 0, 0, 0, 0, 0, 0, 0, 0, 0, 0, 0, 0, 0, 0, 0, 0, 0, 0, 0, 0, 0, 0, 0, 0, 0, 0, 0, 0, 0, 0, 0, 0, 0, 0, 0, 0, 0, 0, 0, 0, 0, 0, 0, 0, 0, 0, 0, 0, 0, 0, 0, 0, 0, 0, 0, 0, 0, 0, 0, 0, 0, 0, 0, 0, 0, 0, 0, 0, 0, 0, 0, 0, 0, 0, 0, 0, 0, 0, 0, 0, 0, 0, 0, 0, 0, 0, 0, 0, 0, 0, 0, 0, 0, 0, 0, 0, 0, 0, 0, 0, 0, 0, 0, 0, 0, 0, 0, 0, 0, 0, 0, 0, 0, 0, 0, 0, 0, 0, 0, 0, 0, 0, 0, 0, 0, 0, 0, 0, 0, 0, 0, 0, 0, 0, 0, 0, 0, 0, 0, 0, 0, 0, 0, 0, 0, 0, 0, 0, 0, 0, 0, 0, 0, 0, 0, 0, 0, 0, 0, 0, 0, 0, 0, 0, 0, 0, 0, 0, 0, 0, 0, 0, 0, 0, 0, 0, 0, 0, 0, 0, 0, 0, 0, 0, 0, 0, 0, 0, 0, 0, 0, 0, 0, 0, 0, 0, 0, 0, 0, 0, 0, 0, 0, 0, 0, 0, 0, 0, 0, 0, 0, 0, 0, 0, 0, 0, 0, 0, 0, 0, 0, 0, 0, 0, 0, 0, 0, 0, 0, 0, 0, 0, 0, 0, 0, 0, 0, 0, 0, 0, 0, 0, 0, 0, 0, 0, 0, 0, 0, 0, 0, 0, 0, 0, 0, 0, 0, 0, 0, 0, 0, 0, 0, 0, 0, 0, 0, 0, 0, 0, 0, 0, 0, 0, 0, 0, 0, 0, 0, 0, 0, 0, 0, 0, 0, 0, 0, 0, 0, 0, 0, 0, 0, 0, 0, 0, 0, 0, 0, 0, 0, 0, 0, 0, 0, 0, 0, 0, 0, 0, 0, 0, 0, 0, 0, 0, 0, 0, 0, 0, 0, 0, 0, 0, 0, 0, 0, 0, 0, 0, 0, 0, 0, 0, 0, 0, 0, 0, 0, 0, 0, 0, 0, 0, 0, 0, 0, 0, 0, 0, 0, 0, 0, 0, 0, 0, 0, 0, 0, 0, 0, 0, 0, 0, 0, 0, 0, 0, 0, 0, 0, 0, 0, 0, 0, 0, 0, 0, 0, 0, 0, 0, 0, 0, 0, 0, 0, 0, 0, 0, 0, 0, 0, 0, 0, 0, 0, 0, 0, 0, 0, 0, 0, 0, 0, 0, 0, 0, 0, 0, 0, 0, 0, 0, 0, 0, 0, 0, 0, 0, 0, 0, 0, 0, 0, 0, 0, 0, 0, 0, 0, 0, 0, 0, 0, 0, 0, 0, 0, 0, 0, 0, 0, 0, 0, 0, 0, 0, 0, 0, 0, 0, 0, 0, 0, 0, 0, 0, 0, 0, 0, 0, 0, 0, 0, 0, 0, 0, 0, 0, 0, 0, 0, 0, 0, 0, 0, 0, 0, 0, 0, 0, 0, 0, 0, 0, 0, 0, 0, 0, 0, 0, 0, 0, 0, 0, 0, 0, 0, 0, 0, 0, 0, 0, 0, 0, 0, 0, 0, 0, 0, 0, 0, 0, 0, 0, 0, 0, 0, 0, 0, 0, 0, 0, 0, 0, 0, 0, 0, 0, 0, 0, 0, 0, 0, 0, 0, 0, 0, 0, 0, 0, 0, 0, 0, 0, 0, 0, 0, 0, 0, 0, 0, 0, 0, 0, 0, 0, 0, 0, 0, 0, 0, 0, 0, 0, 0, 0, 0, 0, 0, 0, 0, 0, 0, 0, 0, 0, 0, 0, 0, 0, 0, 0, 0, 0, 0, 0, 0, 0, 0, 0, 0, 0, 0, 0, 0, 0, 0, 0, 0, 0, 0, 0, 0, 0, 0, 0, 0, 0, 0, 0, 0, 0, 0, 0, 0, 0, 0, 0, 0, 0, 0, 0, 0, 0, 0, 0, 0, 0, 0, 0, 0, 0, 0, 0, 0, 0, 0, 0, 0, 0, 0, 0, 0, 0, 0, 0, 0, 0, 0, 0, 0, 0, 0, 0, 0, 0, 0, 0, 0, 0, 0, 0, 0, 0, 0, 0, 0, 0, 0, 0, 0, 0, 0, 0, 0, 0, 0, 0, 0, 0, 0, 0, 0, 0, 0, 0, 0, 0, 0, 0, 0, 0, 0, 0, 0, 0, 0, 0, 0, 0, 0, 0, 0, 0, 0, 0, 0, 0, 0, 0, 0, 0, 0, 0, 0, 0, 0, 0, 0, 0, 0, 0, 0, 0, 0, 0, 0, 0, 0, 0, 0, 0, 0, 0, 0, 0, 0, 0, 0, 0, 0, 0, 0, 0, 0, 0, 0, 0, 0, 0, 0, 0, 0, 0, 0, 0, 0, 0, 0, 0, 0, 0, 0, 0, 0, 0, 0, 0, 0, 0, 0, 0, 0, 0, 0, 0, 0, 0, 0, 0, 0, 0, 0, 0, 0, 0, 0, 0, 0, 0, 0, 0, 0, 0, 0, 0, 0, 1, 1]}\n",
      "1026\n",
      "1024\n"
     ]
    }
   ],
   "source": [
    "tokenizer = CharacterTokenizer(\n",
    "                characters=['A', 'C', 'G', 'T', 'N'],\n",
    "                model_max_length=trained.max_seq_len + 2,  # add 2 since default adds eos/eos tokens, crop later\n",
    "                add_special_tokens=False,\n",
    "                padding = 'max_length',\n",
    "                padding_side='left'\n",
    "            )\n",
    "print(a:=tokenizer('A', padding=\"max_length\"))\n",
    "print(len(a['input_ids'])) #1024 + 2\n",
    "#see how many 4s there are in input ids\n",
    "print(a['input_ids'].count(4)) #1024\n",
    "#so makes it go to 1026, but we need to cut off so total length is 1023 actually"
   ]
  },
  {
   "cell_type": "code",
   "execution_count": 29,
   "metadata": {},
   "outputs": [
    {
     "name": "stdout",
     "output_type": "stream",
     "text": [
      "cuda\n"
     ]
    }
   ],
   "source": [
    "print(trained.device) #eyo we got cuda"
   ]
  },
  {
   "cell_type": "markdown",
   "metadata": {},
   "source": [
    "# with the padding, almost finished"
   ]
  },
  {
   "cell_type": "code",
   "execution_count": 28,
   "metadata": {},
   "outputs": [
    {
     "name": "stdout",
     "output_type": "stream",
     "text": [
      "**Using Char-level tokenizer**\n"
     ]
    },
    {
     "name": "stderr",
     "output_type": "stream",
     "text": [
      "100%|██████████████████████████████████████████████████████████████████████████████████████████████████████████████████████████████████████| 1/1 [00:00<00:00, 10.26it/s]"
     ]
    },
    {
     "name": "stdout",
     "output_type": "stream",
     "text": [
      "torch.Size([1, 1023, 16])\n",
      "None\n"
     ]
    },
    {
     "name": "stderr",
     "output_type": "stream",
     "text": [
      "\n"
     ]
    }
   ],
   "source": [
    "#let's tokenize it with this option\n",
    "class HG38Encoder:\n",
    "    \"Encoder inference for HG38 sequences\"\n",
    "    def __init__(self, model_cfg, ckpt_path, max_seq_len):\n",
    "        self.max_seq_len = max_seq_len\n",
    "        self.model, self.tokenizer = self.load_model(model_cfg, ckpt_path)\n",
    "        self.device = torch.device(\"cuda\" if torch.cuda.is_available() else \"cpu\")\n",
    "        self.model = self.model.to(self.device)\n",
    "\n",
    "    def encode(self, seqs):\n",
    "            \n",
    "        results = []\n",
    "        # outputs = []\n",
    "\n",
    "        # sample code to loop thru each sample and tokenize first (char level)\n",
    "        for seq in tqdm(seqs):\n",
    "            \n",
    "            if isinstance(self.tokenizer, Tokenizer):\n",
    "                tokenized_seq = self.tokenizer.encode(seq, ).ids\n",
    "            else:\n",
    "                tokenized_seq = self.tokenizer(seq, padding=\"max_length\")['input_ids']\n",
    "            tokenized_seq = tokenized_seq[3:] #make it so the length is 1023 as that's what we expect\n",
    "            # can accept a batch, shape [B, seq_len, hidden_dim]\n",
    "            logits, _ = self.model(torch.tensor([tokenized_seq]).to(device=self.device))\n",
    "\n",
    "            # Using head, so just have logits\n",
    "            results.append(logits)\n",
    "            # outputs.append(output)\n",
    "\n",
    "        return results\n",
    "        \n",
    "            \n",
    "    def load_model(self, model_cfg, ckpt_path):\n",
    "        config = yaml.load(open(model_cfg, 'r'), Loader=yaml.FullLoader)\n",
    "        model = ConvLMHeadModel(**config['model_config'])\n",
    "        \n",
    "        state_dict = torch.load(ckpt_path, map_location='cuda:0')\n",
    "\n",
    "        # loads model from ddp by removing prexix to single if necessary\n",
    "        torch.nn.modules.utils.consume_prefix_in_state_dict_if_present(\n",
    "            state_dict[\"state_dict\"], \"model.\"\n",
    "        )\n",
    "\n",
    "        model_state_dict = state_dict[\"state_dict\"]\n",
    "\n",
    "        # need to remove torchmetrics. to remove keys, need to convert to list first\n",
    "        for key in list(model_state_dict.keys()):\n",
    "            if \"torchmetrics\" in key:\n",
    "                model_state_dict.pop(key)\n",
    "\n",
    "        model.load_state_dict(state_dict[\"state_dict\"])\n",
    "\n",
    "        # setup tokenizer\n",
    "        if config['tokenizer_name'] == 'char':\n",
    "            print(\"**Using Char-level tokenizer**\")\n",
    "\n",
    "            # add to vocab\n",
    "            tokenizer = CharacterTokenizer(\n",
    "                characters=['A', 'C', 'G', 'T', 'N'],\n",
    "                model_max_length=self.max_seq_len + 2,  # add 2 since default adds eos/eos tokens, crop later\n",
    "                add_special_tokens=False,\n",
    "                padding_side='left'\n",
    "            )\n",
    "            # print(tokenizer._vocab_str_to_int)\n",
    "\n",
    "        return model, tokenizer\n",
    "\n",
    "trained = HG38Encoder('/data/leslie/sarthak/hyena/hyena-dna/configs/evals/cCRE.yaml', '/data/leslie/sarthak/hyena/hyena-dna/outputs/2024-01-26/15-03-07-318248/checkpoints/last.ckpt', max_seq_len=1024)\n",
    "# original = HG38Encoder('/data/leslie/sarthak/hyena/hyena-dna/configs/evals/cCRE.yaml', '/data/leslie/sarthak/hyena/hyena-dna/hyenadna-tiny-1k-seqlen/weights.ckpt', max_seq_len=1024)\n",
    "# # sample sequence, can pass a list of seqs (themselves a list of chars)\n",
    "seqs = [\"ACGTACGTACGTACGTACGTACGTACGTACGTACGTACGTACGTACGTACGTACGTACGTACGTACGTACGT\"]\n",
    "y_hat = trained.encode(seqs)\n",
    "print(y_hat[0].logits.shape)\n",
    "print(y[0]) #wait this is none, ignore this"
   ]
  },
  {
   "cell_type": "markdown",
   "metadata": {},
   "source": [
    "# now test the data loader"
   ]
  },
  {
   "cell_type": "code",
   "execution_count": 37,
   "metadata": {},
   "outputs": [
    {
     "name": "stdout",
     "output_type": "stream",
     "text": [
      "torch.Size([1023])\n",
      "(tensor([ 4,  4,  4,  ...,  8, 10,  9]), tensor([ 4,  4,  4,  ..., 10,  9,  1]))\n"
     ]
    }
   ],
   "source": [
    "from src.dataloaders.datasets.ccre_dataset import CcreDataset\n",
    "\n",
    "import torch \n",
    "\n",
    "import argparse\n",
    "import os\n",
    "import sys\n",
    "import yaml \n",
    "from tqdm import tqdm\n",
    "import json \n",
    "\n",
    "# sys.path.append(os.environ.get(\"SAFARI_PATH\", \".\"))\n",
    "\n",
    "from src.models.sequence.long_conv_lm import ConvLMHeadModel\n",
    "\n",
    "# from transformers import AutoTokenizer, GPT2LMHeadModel\n",
    "# from spacy.lang.en.stop_words import STOP_WORDS\n",
    "from src.dataloaders.datasets.hg38_char_tokenizer import CharacterTokenizer\n",
    "\n",
    "try:\n",
    "    from tokenizers import Tokenizer  \n",
    "except:\n",
    "    pass\n",
    "\n",
    "#make sure this is correct from the yaml files\n",
    "tokenizer = CharacterTokenizer(\n",
    "                characters=['A', 'C', 'G', 'T', 'N'],\n",
    "                model_max_length=1024 + 2,  # add 2 since default adds eos/eos tokens, crop later\n",
    "                add_special_tokens=False,\n",
    "                padding_side='left'\n",
    "            )\n",
    "ccre = CcreDataset(max_length = 1024, split = 'test', tokenizer=tokenizer, rc_aug = False, tokenizer_name='char', add_eos='True')\n",
    "print(ccre[0][0].shape) #perfect, the length we expected, and it's already tokenized\n",
    "print(ccre[0])\n",
    "#add eos makes it so that it returns the right sequence length, adds the eos and bos and pads to make the right length, then remove box\n",
    "#eos token only added to the end"
   ]
  },
  {
   "cell_type": "code",
   "execution_count": 41,
   "metadata": {},
   "outputs": [
    {
     "name": "stdout",
     "output_type": "stream",
     "text": [
      "tensor([4, 4, 4, 4, 4, 4, 4, 4, 4, 4, 4, 4, 4, 4, 4, 4, 4, 4, 4, 4, 4, 4, 4, 7,\n",
      "        7])\n",
      "[SEP]\n",
      "{'[CLS]': 0, '[SEP]': 1, '[BOS]': 2, '[MASK]': 3, '[PAD]': 4, '[RESERVED]': 5, '[UNK]': 6, 'A': 7, 'C': 8, 'G': 9, 'T': 10, 'N': 11}\n"
     ]
    }
   ],
   "source": [
    "#let's make sure that the number of 4s matches what we expect\n",
    "print(ccre[0][0][0:25]) #1024\n",
    "#yes exactly 23 4s, so we're good, that's the same as in the data\n",
    "print(tokenizer.eos_token)\n",
    "#now print the full vocab\n",
    "print(tokenizer._vocab_str_to_int)\n",
    "#so we can see that the sep is the eos token for some reason, and that everything looks as expected"
   ]
  },
  {
   "cell_type": "code",
   "execution_count": 43,
   "metadata": {},
   "outputs": [
    {
     "name": "stdout",
     "output_type": "stream",
     "text": [
      "105252\n"
     ]
    }
   ],
   "source": [
    "#now we actually load some data in batches\n",
    "print(len(ccre))\n",
    "#a decent number of items, but small enough that evaluation will be easy"
   ]
  },
  {
   "cell_type": "code",
   "execution_count": 63,
   "metadata": {},
   "outputs": [
    {
     "name": "stdout",
     "output_type": "stream",
     "text": [
      "**Using Char-level tokenizer**\n",
      "torch.Size([1, 1023])\n",
      "torch.Size([1, 1023, 16])\n"
     ]
    }
   ],
   "source": [
    "#now put thorugh model, get logits and calculate ce loss\n",
    "\n",
    "class HG38Encoder:\n",
    "    \"Encoder inference for HG38 sequences\"\n",
    "    def __init__(self, model_cfg, ckpt_path, max_seq_len):\n",
    "        self.max_seq_len = max_seq_len\n",
    "        self.model, self.tokenizer = self.load_model(model_cfg, ckpt_path)\n",
    "        self.device = torch.device(\"cuda\" if torch.cuda.is_available() else \"cpu\")\n",
    "        self.model = self.model.to(self.device)\n",
    "\n",
    "    def encode(self, seqs):\n",
    "        # seqs = seqs.to(device=self.device)\n",
    "        results = []\n",
    "        # outputs = []\n",
    "\n",
    "        # sample code to loop thru each sample and tokenize first (char level)\n",
    "        \n",
    "        # if isinstance(self.tokenizer, Tokenizer):\n",
    "        #     tokenized_seq = self.tokenizer.encode(seq, ).ids\n",
    "        # else:\n",
    "        #     tokenized_seq = self.tokenizer(seq, padding=\"max_length\")['input_ids']\n",
    "        # tokenized_seq = tokenized_seq[3:] #make it so the length is 1023 as that's what we expect\n",
    "        # can accept a batch, shape [B, seq_len, hidden_dim]\n",
    "        logits = self.model(seqs)[0]\n",
    "\n",
    "        # Using head, so just have logits\n",
    "        results.append(logits)\n",
    "        # outputs.append(output)\n",
    "\n",
    "        return results\n",
    "        \n",
    "            \n",
    "    def load_model(self, model_cfg, ckpt_path):\n",
    "        config = yaml.load(open(model_cfg, 'r'), Loader=yaml.FullLoader)\n",
    "        model = ConvLMHeadModel(**config['model_config'])\n",
    "        \n",
    "        state_dict = torch.load(ckpt_path, map_location='cuda:0')\n",
    "\n",
    "        # loads model from ddp by removing prexix to single if necessary\n",
    "        torch.nn.modules.utils.consume_prefix_in_state_dict_if_present(\n",
    "            state_dict[\"state_dict\"], \"model.\"\n",
    "        )\n",
    "\n",
    "        model_state_dict = state_dict[\"state_dict\"]\n",
    "\n",
    "        # need to remove torchmetrics. to remove keys, need to convert to list first\n",
    "        for key in list(model_state_dict.keys()):\n",
    "            if \"torchmetrics\" in key:\n",
    "                model_state_dict.pop(key)\n",
    "\n",
    "        model.load_state_dict(state_dict[\"state_dict\"])\n",
    "\n",
    "        # setup tokenizer\n",
    "        if config['tokenizer_name'] == 'char':\n",
    "            print(\"**Using Char-level tokenizer**\")\n",
    "\n",
    "            # add to vocab\n",
    "            tokenizer = CharacterTokenizer(\n",
    "                characters=['A', 'C', 'G', 'T', 'N'],\n",
    "                model_max_length=self.max_seq_len + 2,  # add 2 since default adds eos/eos tokens, crop later\n",
    "                add_special_tokens=False,\n",
    "                padding_side='left'\n",
    "            )\n",
    "            # print(tokenizer._vocab_str_to_int)\n",
    "\n",
    "        return model, tokenizer\n",
    "\n",
    "trained = HG38Encoder('/data/leslie/sarthak/hyena/hyena-dna/configs/evals/cCRE.yaml', '/data/leslie/sarthak/hyena/hyena-dna/outputs/2024-01-26/15-03-07-318248/checkpoints/last.ckpt', max_seq_len=1024)\n",
    "\n",
    "seq, target = ccre[0]\n",
    "#now get the logits\n",
    "# print(seq.shape)\n",
    "#unsqueeze to make it a batch\n",
    "seq = seq.unsqueeze(0)\n",
    "seq = seq.to(device=trained.device)\n",
    "print(seq.shape)\n",
    "y_hat = trained.encode(seq)\n",
    "print(y_hat[0].logits.shape)"
   ]
  },
  {
   "cell_type": "code",
   "execution_count": 65,
   "metadata": {},
   "outputs": [
    {
     "name": "stdout",
     "output_type": "stream",
     "text": [
      "torch.Size([1023])\n",
      "tensor(4)\n",
      "tensor([ 0.8840, -0.4067,  0.7564,  0.7946,  9.7755,  0.8988,  0.8157,  0.2324,\n",
      "        -0.2248, -0.4690, -0.5704,  0.4473,  0.7938,  0.8818,  0.8177,  0.8402],\n",
      "       device='cuda:0', grad_fn=<SliceBackward0>)\n"
     ]
    }
   ],
   "source": [
    "#compare the targets\n",
    "print(target.shape)\n",
    "print(target[16])\n",
    "print(y_hat[0].logits[0,16,:])\n",
    "#understands the pad"
   ]
  },
  {
   "cell_type": "code",
   "execution_count": 68,
   "metadata": {},
   "outputs": [
    {
     "name": "stdout",
     "output_type": "stream",
     "text": [
      "tensor(9)\n",
      "tensor([-10.4342,  -5.4222, -10.2867, -10.5126, -10.5325, -10.2794, -10.3038,\n",
      "          0.5174,   0.6755,   1.0137,   0.2429,  -9.4974, -10.2678, -10.0635,\n",
      "        -10.2559, -10.3255], device='cuda:0', grad_fn=<SliceBackward0>)\n"
     ]
    },
    {
     "data": {
      "text/plain": [
       "'G'"
      ]
     },
     "execution_count": 68,
     "metadata": {},
     "output_type": "execute_result"
    }
   ],
   "source": [
    "#now test a different one\n",
    "print(target[200])\n",
    "print(y_hat[0].logits[0,200,:])\n",
    "#yeah doing that well too\n",
    "tokenizer.decode(9) #it's a G!"
   ]
  },
  {
   "cell_type": "code",
   "execution_count": 74,
   "metadata": {},
   "outputs": [
    {
     "name": "stdout",
     "output_type": "stream",
     "text": [
      "torch.Size([1023])\n"
     ]
    }
   ],
   "source": [
    "#finally let's calculation ce loss\n",
    "import torch.nn.functional as F\n",
    "a=F.cross_entropy(y_hat[0].logits[0,:,:], target.to(trained.device), reduction='none')\n",
    "print(a.shape)"
   ]
  },
  {
   "cell_type": "code",
   "execution_count": 75,
   "metadata": {},
   "outputs": [
    {
     "data": {
      "text/plain": [
       "[<matplotlib.lines.Line2D at 0x2ab937c68c90>]"
      ]
     },
     "execution_count": 75,
     "metadata": {},
     "output_type": "execute_result"
    },
    {
     "data": {
      "image/png": "[encoded data removed]",
      "text/plain": [
       "<Figure size 640x480 with 1 Axes>"
      ]
     },
     "metadata": {},
     "output_type": "display_data"
    }
   ],
   "source": [
    "#now we plot a\n",
    "import matplotlib.pyplot as plt\n",
    "plt.plot(a.detach().cpu().numpy())\n",
    "\n",
    "#0 loss on the pad, then its high on the rest of the sequence, which makes sense!"
   ]
  },
  {
   "cell_type": "code",
   "execution_count": 78,
   "metadata": {},
   "outputs": [
    {
     "name": "stdout",
     "output_type": "stream",
     "text": [
      "tensor(452)\n"
     ]
    }
   ],
   "source": [
    "#now find 'accuracy' using the argmax\n",
    "b = torch.argmax(y_hat[0].logits[0,:,:], dim=1).to('cpu')\n",
    "#find the number that match target\n",
    "print((b==target).sum())\n",
    "#452 out of 1023, not bad"
   ]
  },
  {
   "cell_type": "markdown",
   "metadata": {},
   "source": [
    "# full loop calculating loss"
   ]
  },
  {
   "cell_type": "code",
   "execution_count": 1,
   "metadata": {},
   "outputs": [
    {
     "name": "stdout",
     "output_type": "stream",
     "text": [
      "**Using Char-level tokenizer**\n",
      "**Using Char-level tokenizer**\n"
     ]
    }
   ],
   "source": [
    "#now put thorugh model, get logits and calculate ce loss\n",
    "\n",
    "from src.dataloaders.datasets.ccre_dataset import CcreDataset\n",
    "\n",
    "import torch \n",
    "\n",
    "import argparse\n",
    "import os\n",
    "import sys\n",
    "import yaml \n",
    "from tqdm import tqdm\n",
    "import json \n",
    "\n",
    "# sys.path.append(os.environ.get(\"SAFARI_PATH\", \".\"))\n",
    "\n",
    "from src.models.sequence.long_conv_lm import ConvLMHeadModel\n",
    "\n",
    "# from transformers import AutoTokenizer, GPT2LMHeadModel\n",
    "# from spacy.lang.en.stop_words import STOP_WORDS\n",
    "from src.dataloaders.datasets.hg38_char_tokenizer import CharacterTokenizer\n",
    "import torch.nn.functional as F\n",
    "\n",
    "\n",
    "try:\n",
    "    from tokenizers import Tokenizer  \n",
    "except:\n",
    "    pass\n",
    "\n",
    "#make sure this is correct from the yaml files\n",
    "tokenizer = CharacterTokenizer(\n",
    "                characters=['A', 'C', 'G', 'T', 'N'],\n",
    "                model_max_length=1024 + 2,  # add 2 since default adds eos/eos tokens, crop later\n",
    "                add_special_tokens=False,\n",
    "                padding_side='left'\n",
    "            )\n",
    "ccre = CcreDataset(max_length = 1024, split = 'test', tokenizer=tokenizer, rc_aug = False, tokenizer_name='char', add_eos='True')\n",
    "\n",
    "class HG38Encoder:\n",
    "    \"Encoder inference for HG38 sequences\"\n",
    "    def __init__(self, model_cfg, ckpt_path, max_seq_len):\n",
    "        self.max_seq_len = max_seq_len\n",
    "        self.model, self.tokenizer = self.load_model(model_cfg, ckpt_path)\n",
    "        self.device = torch.device(\"cuda\" if torch.cuda.is_available() else \"cpu\")\n",
    "        self.model = self.model.to(self.device)\n",
    "\n",
    "    def encode(self, seqs):\n",
    "        # seqs = seqs.to(device=self.device)\n",
    "        results = []\n",
    "        # outputs = []\n",
    "\n",
    "        # sample code to loop thru each sample and tokenize first (char level)\n",
    "        \n",
    "        # if isinstance(self.tokenizer, Tokenizer):\n",
    "        #     tokenized_seq = self.tokenizer.encode(seq, ).ids\n",
    "        # else:\n",
    "        #     tokenized_seq = self.tokenizer(seq, padding=\"max_length\")['input_ids']\n",
    "        # tokenized_seq = tokenized_seq[3:] #make it so the length is 1023 as that's what we expect\n",
    "        # can accept a batch, shape [B, seq_len, hidden_dim]\n",
    "        logits = self.model(seqs)[0]\n",
    "\n",
    "        # Using head, so just have logits\n",
    "        results.append(logits)\n",
    "        # outputs.append(output)\n",
    "\n",
    "        return results\n",
    "        \n",
    "            \n",
    "    def load_model(self, model_cfg, ckpt_path):\n",
    "        config = yaml.load(open(model_cfg, 'r'), Loader=yaml.FullLoader)\n",
    "        model = ConvLMHeadModel(**config['model_config'])\n",
    "        \n",
    "        state_dict = torch.load(ckpt_path, map_location='cuda:0')\n",
    "\n",
    "        # loads model from ddp by removing prexix to single if necessary\n",
    "        torch.nn.modules.utils.consume_prefix_in_state_dict_if_present(\n",
    "            state_dict[\"state_dict\"], \"model.\"\n",
    "        )\n",
    "\n",
    "        model_state_dict = state_dict[\"state_dict\"]\n",
    "\n",
    "        # need to remove torchmetrics. to remove keys, need to convert to list first\n",
    "        for key in list(model_state_dict.keys()):\n",
    "            if \"torchmetrics\" in key:\n",
    "                model_state_dict.pop(key)\n",
    "\n",
    "        model.load_state_dict(state_dict[\"state_dict\"])\n",
    "\n",
    "        # setup tokenizer\n",
    "        if config['tokenizer_name'] == 'char':\n",
    "            print(\"**Using Char-level tokenizer**\")\n",
    "\n",
    "            # add to vocab\n",
    "            tokenizer = CharacterTokenizer(\n",
    "                characters=['A', 'C', 'G', 'T', 'N'],\n",
    "                model_max_length=self.max_seq_len + 2,  # add 2 since default adds eos/eos tokens, crop later\n",
    "                add_special_tokens=False,\n",
    "                padding_side='left'\n",
    "            )\n",
    "            # print(tokenizer._vocab_str_to_int)\n",
    "\n",
    "        return model, tokenizer\n",
    "\n",
    "trained = HG38Encoder('/data/leslie/sarthak/hyena/hyena-dna/configs/evals/cCRE.yaml', '/data/leslie/sarthak/hyena/hyena-dna/outputs/2024-01-26/15-03-07-318248/checkpoints/last.ckpt', max_seq_len=1024)\n",
    "original = HG38Encoder('/data/leslie/sarthak/hyena/hyena-dna/configs/evals/cCRE.yaml', '/data/leslie/sarthak/hyena/hyena-dna/hyenadna-tiny-1k-seqlen/weights.ckpt', max_seq_len=1024)"
   ]
  },
  {
   "cell_type": "code",
   "execution_count": 2,
   "metadata": {},
   "outputs": [
    {
     "name": "stderr",
     "output_type": "stream",
     "text": [
      "100%|███████████████████████████████████████████████████████████████████████████████████████████████████████| 105252/105252 [16:02<00:00, 109.31it/s]\n"
     ]
    },
    {
     "name": "stdout",
     "output_type": "stream",
     "text": [
      "tensor(1.2147)\n",
      "tensor(0.4176)\n"
     ]
    }
   ],
   "source": [
    "full_loss = torch.zeros((len(ccre), 1023))\n",
    "full_acc = torch.zeros((len(ccre), 1023))\n",
    "for idx, (seq, target) in tqdm(enumerate(ccre), total=len(ccre)):\n",
    "    target = target.to(trained.device)\n",
    "    seq = seq.unsqueeze(0)\n",
    "    seq = seq.to(device=trained.device)\n",
    "    y_hat = trained.encode(seq)\n",
    "    a=F.cross_entropy(y_hat[0].logits[0,:,:], target, reduction='none')\n",
    "    full_loss[idx,:] = a.detach().cpu()\n",
    "    b = torch.argmax(y_hat[0].logits[0,:,:], dim=1)\n",
    "    full_acc[idx,:] = (b==target).detach().cpu()\n",
    "    \n",
    "#print the full mean of both loss and acc\n",
    "print(full_loss.mean())\n",
    "print(full_acc.mean())\n",
    "\n",
    "#I reran it, but original values were 1.2147 and 0.4177 respectively for loss and acc\n",
    "#actually is .4176 the second time, but I doubt it matters"
   ]
  },
  {
   "cell_type": "code",
   "execution_count": 3,
   "metadata": {},
   "outputs": [
    {
     "name": "stderr",
     "output_type": "stream",
     "text": [
      "100%|███████████████████████████████████████████████████████████████████████████████████████████████████████| 105252/105252 [16:01<00:00, 109.48it/s]\n"
     ]
    },
    {
     "name": "stdout",
     "output_type": "stream",
     "text": [
      "tensor(1.4388)\n",
      "tensor(0.3931)\n"
     ]
    }
   ],
   "source": [
    "#repeat for the original model\n",
    "\n",
    "full_loss2 = torch.zeros((len(ccre), 1023))\n",
    "full_acc2 = torch.zeros((len(ccre), 1023))\n",
    "for idx, (seq, target) in tqdm(enumerate(ccre), total=len(ccre)):\n",
    "    target = target.to(trained.device)\n",
    "    seq = seq.unsqueeze(0)\n",
    "    seq = seq.to(device=trained.device)\n",
    "    y_hat = original.encode(seq)\n",
    "    a=F.cross_entropy(y_hat[0].logits[0,:,:], target, reduction='none')\n",
    "    full_loss2[idx,:] = a.detach().cpu()\n",
    "    b = torch.argmax(y_hat[0].logits[0,:,:], dim=1)\n",
    "    full_acc2[idx,:] = (b==target).detach().cpu()\n",
    "    \n",
    "#print the full mean of both loss and acc\n",
    "print(full_loss2.mean())\n",
    "print(full_acc2.mean())\n",
    "\n",
    "#Again I reran it, but original values were 1.4388 and .3931 for the loss and accuracy respectively"
   ]
  },
  {
   "cell_type": "code",
   "execution_count": 89,
   "metadata": {},
   "outputs": [
    {
     "name": "stdout",
     "output_type": "stream",
     "text": [
      "tensor(1.4388)\n",
      "tensor(0.3931)\n"
     ]
    }
   ],
   "source": [
    "#i didn't change what I was appending... so these values are for the original model\n",
    "print(full_loss.mean())\n",
    "print(full_acc.mean())"
   ]
  },
  {
   "cell_type": "code",
   "execution_count": 12,
   "metadata": {},
   "outputs": [
    {
     "name": "stderr",
     "output_type": "stream",
     "text": [
      "100%|████████████████████████████████████████████████████████████████████████████████████████████████████████████| 3290/3290 [03:37<00:00, 15.14it/s]\n"
     ]
    },
    {
     "name": "stdout",
     "output_type": "stream",
     "text": [
      "tensor(1.2147)\n",
      "tensor(0.4176)\n"
     ]
    }
   ],
   "source": [
    "#let's test this batched approach\n",
    "from torch.utils.data import DataLoader\n",
    "\n",
    "# Assuming `ccre_dataset` is your dataset\n",
    "ccre_loader = DataLoader(ccre, batch_size=32, shuffle=False) #results are identical even if you shuffle, obviously since it's just the mean\n",
    "loader_loss = torch.zeros((len(ccre), 1023))\n",
    "loader_acc = torch.zeros((len(ccre), 1023))\n",
    "startidx = 0\n",
    "for idx, (seq, target) in tqdm(enumerate(ccre_loader), total=len(ccre_loader)):\n",
    "    b_size = seq.shape[0]\n",
    "    target = target.to(trained.device)\n",
    "    seq = seq.to(device=trained.device)\n",
    "    y_hat = trained.encode(seq)\n",
    "    # print(target.shape) #32, 1023\n",
    "    # print(seq.shape) #32, 1023\n",
    "    # print(len(y_hat)) #1\n",
    "    # print(y_hat[0].logits.shape) #32, 1023, 16 as expected\n",
    "    # break\n",
    "    #now fix the accuracy and loss to work with batches\n",
    "    logits_reshaped = y_hat[0].logits.view(-1, 16)\n",
    "    target_reshaped = target.view(-1)\n",
    "    \n",
    "    losses = F.cross_entropy(logits_reshaped, target_reshaped, reduction='none')\n",
    "    \n",
    "    losses = losses.view(b_size, 1023)\n",
    "    # print(losses.shape) #yeah as expected\n",
    "    # break\n",
    "    \n",
    "    loader_loss[startidx:startidx+b_size,:] = losses.detach().cpu()\n",
    "    \n",
    "    # a=F.cross_entropy(y_hat[0].logits[0,:,:], target, reduction='none')\n",
    "    # full_loss2[idx,:] = a.detach().cpu()\n",
    "    \n",
    "    b = torch.argmax(y_hat[0].logits, dim=2)\n",
    "    loader_acc[startidx:startidx+b_size,:] = (b==target).detach().cpu()\n",
    "    startidx += b_size\n",
    "    # full_acc2[idx,:] = (b==target).detach().cpu()\n",
    "print(loader_loss.mean())\n",
    "print(loader_acc.mean())\n",
    "#the real way to do it if we want to do it in batches\n",
    "#can increase batch size, but had a 11GB gpu for now, if had A100, could do 512\n",
    "#it does indeed work much faster, and the results are completely identical! So this is the new function we can use to evaluate our models!\n",
    "#and again this is without RC\n",
    "\n",
    "#also note this approach we use is near identical to what they do in terms of calculating loss and evlauating, so we just verified it "
   ]
  },
  {
   "cell_type": "code",
   "execution_count": 16,
   "metadata": {},
   "outputs": [
    {
     "name": "stdout",
     "output_type": "stream",
     "text": [
      "**Using Char-level tokenizer**\n"
     ]
    },
    {
     "name": "stderr",
     "output_type": "stream",
     "text": [
      "100%|████████████████████████████████████████████████████████████████████████████████████████████████████████████| 3290/3290 [03:53<00:00, 14.11it/s]\n"
     ]
    },
    {
     "name": "stdout",
     "output_type": "stream",
     "text": [
      "tensor(1.1938)\n",
      "tensor(0.4314)\n"
     ]
    }
   ],
   "source": [
    "#wait we had one with a lot more epochs, let's compare that too\n",
    "trained_100 = HG38Encoder('/data/leslie/sarthak/hyena/hyena-dna/configs/evals/cCRE.yaml', '/data/leslie/sarthak/hyena/hyena-dna/outputs/2024-01-26/20-02-31-396880/checkpoints/last.ckpt', max_seq_len=1024)\n",
    "\n",
    "e100loss = torch.zeros((len(ccre), 1023))\n",
    "e100acc = torch.zeros((len(ccre), 1023))\n",
    "startidx = 0\n",
    "for idx, (seq, target) in tqdm(enumerate(ccre_loader), total=len(ccre_loader)):\n",
    "    b_size = seq.shape[0]\n",
    "    target = target.to(trained.device)\n",
    "    seq = seq.to(device=trained.device)\n",
    "    y_hat = trained_100.encode(seq)\n",
    "    logits_reshaped = y_hat[0].logits.view(-1, 16)\n",
    "    target_reshaped = target.view(-1)\n",
    "    \n",
    "    losses = F.cross_entropy(logits_reshaped, target_reshaped, reduction='none')\n",
    "    \n",
    "    losses = losses.view(b_size, 1023)\n",
    "    \n",
    "    e100loss[startidx:startidx+b_size,:] = losses.detach().cpu()\n",
    "    \n",
    "    b = torch.argmax(y_hat[0].logits, dim=2)\n",
    "    e100acc[startidx:startidx+b_size,:] = (b==target).detach().cpu()\n",
    "    startidx += b_size\n",
    "    # full_acc2[idx,:] = (b==target).detach().cpu()\n",
    "print(e100loss.mean())\n",
    "print(e100acc.mean())"
   ]
  },
  {
   "cell_type": "code",
   "execution_count": 17,
   "metadata": {},
   "outputs": [
    {
     "name": "stdout",
     "output_type": "stream",
     "text": [
      "original loss after 24: 1.2463696002960205\n",
      "trained loss after 24: 1.2398368120193481\n",
      "trained 100 epochs loss after 24: 1.2197294235229492\n",
      "original accuracy after 24: 0.4019705355167389\n",
      "trained accuracy after 24: 0.40536975860595703\n",
      "trained 100 epochs accuracy after 24: 0.419145792722702\n"
     ]
    }
   ],
   "source": [
    "#since it might be the pad let's calculate the mean from 24 onwards\n",
    "print('original loss after 24:', float(full_loss2[:,24:].mean()))\n",
    "print('trained loss after 24:', float(full_loss[:,24:].mean()))\n",
    "print('trained 100 epochs loss after 24:', float(e100loss[:,24:].mean()))\n",
    "print('original accuracy after 24:', float(full_acc2[:,24:].mean()))\n",
    "print('trained accuracy after 24:', float(full_acc[:,24:].mean()))\n",
    "print('trained 100 epochs accuracy after 24:', float(e100acc[:,24:].mean()))\n",
    "\n",
    "#yeah... it might just straight up be the padding"
   ]
  },
  {
   "cell_type": "markdown",
   "metadata": {},
   "source": [
    "# evaluate it with the longer ones, see if the sequence matches what is expected\n",
    "so we will load the tokenizer, make sure all 1023 are translated exactly as expected, then the full length should be 1024"
   ]
  },
  {
   "cell_type": "code",
   "execution_count": 1,
   "metadata": {},
   "outputs": [
    {
     "name": "stdout",
     "output_type": "stream",
     "text": [
      "torch.Size([1023]) torch.Size([1023])\n"
     ]
    }
   ],
   "source": [
    "from src.dataloaders.datasets.ccre_dataset import CcreDataset\n",
    "\n",
    "import torch \n",
    "\n",
    "import argparse\n",
    "import os\n",
    "import sys\n",
    "import yaml \n",
    "from tqdm import tqdm\n",
    "import json \n",
    "\n",
    "# sys.path.append(os.environ.get(\"SAFARI_PATH\", \".\"))\n",
    "\n",
    "from src.models.sequence.long_conv_lm import ConvLMHeadModel\n",
    "\n",
    "# from transformers import AutoTokenizer, GPT2LMHeadModel\n",
    "# from spacy.lang.en.stop_words import STOP_WORDS\n",
    "from src.dataloaders.datasets.hg38_char_tokenizer import CharacterTokenizer\n",
    "import torch.nn.functional as F\n",
    "\n",
    "\n",
    "try:\n",
    "    from tokenizers import Tokenizer  \n",
    "except:\n",
    "    pass\n",
    "\n",
    "#make sure this is correct from the yaml files\n",
    "tokenizer = CharacterTokenizer(\n",
    "                characters=['A', 'C', 'G', 'T', 'N'],\n",
    "                model_max_length=1024 + 2,  # add 2 since default adds eos/eos tokens, crop later\n",
    "                add_special_tokens=False,\n",
    "                padding_side='left'\n",
    "            )\n",
    "ccre = CcreDataset(max_length = 1024, split = 'test', tokenizer=tokenizer, rc_aug = False, tokenizer_name='char', add_eos='True')\n",
    "\n",
    "a,b = ccre[0]\n",
    "print(a.shape, b.shape)"
   ]
  },
  {
   "cell_type": "code",
   "execution_count": 3,
   "metadata": {},
   "outputs": [
    {
     "name": "stdout",
     "output_type": "stream",
     "text": [
      "tensor([8, 7, 9,  ..., 9, 7, 8])\n",
      "tensor([7, 9, 7,  ..., 7, 8, 1])\n",
      "CAGAAGTTGGGCAAAAGCCTGATTTGAGGAAGTTTTGGGCTTCAAGAGTCAGCCACGAGGCAGGCACTAGGCCTGGAAATGGCCTCACAGTCATGAGTTGGGCCTAAATGGGCCACTGTGAGGGAGGAGCTGTGCCTGTTGAGGCTGCTGGCAGGCAGGCAGAAATTTGGCCTGGGGCAGCTGCCATGAGGCAAGAGCTGGGCCTGGAAAAAGCCCCTGGGAGGCAAGAGCAGGGCCTGCAGAGGCTGTTCTCAAGTCAAAGCTGGGCCTGTTGATGCCACCGGGAAGCAGAAGGTGGGCCTGGAGAGTTTGACTTGAGGAAGTTTTGGGCCTACATTGGCCGCCATGAGCTGGACAGGAACTGGGCCAAAAAAGGCTGTTGTGAGGCAGCAGTTGTGCCTGTAGACCCAGCCAAGAGGAAGAGGTGGGTCTGGAGAAGCCCCCATGAGGCAGAGGTTGGGCCTGTAGACGCTGACAGGAGGCAGGAGCTGGGCCTGGACAGGTCAACTTGAGGAGATTTTGGGCCTTCATAGGCCACCAGGAGGCAGTAGTTGGGACTAGAGAGTCTGACTTGAGTAAGTTTTGGGCCCGGAGATGACGTCCTGGGACAGGAGTTGGGCGTGGAGAGGCCACCGTGAGGCATAAGCTGGATGTAGAGAGGCCAGTGTGAGGCAAGACCTGGGCCTGTCTAGGCTGCTGGGAGACAGGCAGGAATCTGGCCAGGGAAGGTTGCCATGAGACAAAAGTTGGGCCTGGAAAGGCCCTTGTGAAGCATGAGCTTGGCCTAAAGAGGCCACTGGGTGGCAGGAGCTGGGTGTGTAGAAGCTGCTGAAAGGTTGGGAGCTTGGCTTGGGGGGTCCACAGTGAGGTAGATGCTGGGCGTGAAGAATCTGCTGTGAGGCAGACGTTGGGACTGTAGAGGCTGACGGGAGGCAGAGGCTGGGCCTGGAGGGGCCACCAAGATGCAGGAGCTGGGCCTGGAGAGGCTGCAAAGAAGCATGACCTGGGCCTGGTGAGGTCGAC\n",
      "AGAAGTTGGGCAAAAGCCTGATTTGAGGAAGTTTTGGGCTTCAAGAGTCAGCCACGAGGCAGGCACTAGGCCTGGAAATGGCCTCACAGTCATGAGTTGGGCCTAAATGGGCCACTGTGAGGGAGGAGCTGTGCCTGTTGAGGCTGCTGGCAGGCAGGCAGAAATTTGGCCTGGGGCAGCTGCCATGAGGCAAGAGCTGGGCCTGGAAAAAGCCCCTGGGAGGCAAGAGCAGGGCCTGCAGAGGCTGTTCTCAAGTCAAAGCTGGGCCTGTTGATGCCACCGGGAAGCAGAAGGTGGGCCTGGAGAGTTTGACTTGAGGAAGTTTTGGGCCTACATTGGCCGCCATGAGCTGGACAGGAACTGGGCCAAAAAAGGCTGTTGTGAGGCAGCAGTTGTGCCTGTAGACCCAGCCAAGAGGAAGAGGTGGGTCTGGAGAAGCCCCCATGAGGCAGAGGTTGGGCCTGTAGACGCTGACAGGAGGCAGGAGCTGGGCCTGGACAGGTCAACTTGAGGAGATTTTGGGCCTTCATAGGCCACCAGGAGGCAGTAGTTGGGACTAGAGAGTCTGACTTGAGTAAGTTTTGGGCCCGGAGATGACGTCCTGGGACAGGAGTTGGGCGTGGAGAGGCCACCGTGAGGCATAAGCTGGATGTAGAGAGGCCAGTGTGAGGCAAGACCTGGGCCTGTCTAGGCTGCTGGGAGACAGGCAGGAATCTGGCCAGGGAAGGTTGCCATGAGACAAAAGTTGGGCCTGGAAAGGCCCTTGTGAAGCATGAGCTTGGCCTAAAGAGGCCACTGGGTGGCAGGAGCTGGGTGTGTAGAAGCTGCTGAAAGGTTGGGAGCTTGGCTTGGGGGGTCCACAGTGAGGTAGATGCTGGGCGTGAAGAATCTGCTGTGAGGCAGACGTTGGGACTGTAGAGGCTGACGGGAGGCAGAGGCTGGGCCTGGAGGGGCCACCAAGATGCAGGAGCTGGGCCTGGAGAGGCTGCAAAGAAGCATGACCTGGGCCTGGTGAGGTCGAC[SEP]\n"
     ]
    }
   ],
   "source": [
    "#the actual sequence should be\n",
    "#CAGAAGTTGGGC\n",
    "print(a)\n",
    "print(b)\n",
    "\n",
    "print(tokenizer.decode(a))\n",
    "print(tokenizer.decode(b))\n",
    "\n",
    "#it shouldu end with GACT but it seems the last token is cut off, eh who really cares, it's because we added bos token at first then we removed it\n",
    "#which is fine, maybe it's there and it's 1025 actual length, or it's just 1023, doesn't really matter\n"
   ]
  },
  {
   "cell_type": "markdown",
   "metadata": {},
   "source": [
    "# testing the old head model\n",
    "most probably fine since it still predicts decently and can take this data as an input but doesn't hurt"
   ]
  },
  {
   "cell_type": "code",
   "execution_count": 2,
   "metadata": {},
   "outputs": [
    {
     "name": "stdout",
     "output_type": "stream",
     "text": [
      "**Using Char-level tokenizer**\n"
     ]
    }
   ],
   "source": [
    "#now put thorugh model, get logits and calculate ce loss\n",
    "\n",
    "from src.dataloaders.datasets.ccre_dataset import CcreDataset\n",
    "\n",
    "import torch \n",
    "\n",
    "import argparse\n",
    "import os\n",
    "import sys\n",
    "import yaml \n",
    "from tqdm import tqdm\n",
    "import json \n",
    "\n",
    "# sys.path.append(os.environ.get(\"SAFARI_PATH\", \".\"))\n",
    "\n",
    "from src.models.sequence.long_conv_lm import ConvLMHeadModel\n",
    "\n",
    "# from transformers import AutoTokenizer, GPT2LMHeadModel\n",
    "# from spacy.lang.en.stop_words import STOP_WORDS\n",
    "from src.dataloaders.datasets.hg38_char_tokenizer import CharacterTokenizer\n",
    "import torch.nn.functional as F\n",
    "\n",
    "\n",
    "try:\n",
    "    from tokenizers import Tokenizer  \n",
    "except:\n",
    "    pass\n",
    "\n",
    "#make sure this is correct from the yaml files\n",
    "tokenizer = CharacterTokenizer(\n",
    "                characters=['A', 'C', 'G', 'T', 'N'],\n",
    "                model_max_length=1024 + 2,  # add 2 since default adds eos/eos tokens, crop later\n",
    "                add_special_tokens=False,\n",
    "                padding_side='left'\n",
    "            )\n",
    "ccre = CcreDataset(max_length = 1024, split = 'test', tokenizer=tokenizer, rc_aug = False, tokenizer_name='char', add_eos='True')\n",
    "\n",
    "class HG38Encoder:\n",
    "    \"Encoder inference for HG38 sequences\"\n",
    "    def __init__(self, model_cfg, ckpt_path, max_seq_len):\n",
    "        self.max_seq_len = max_seq_len\n",
    "        self.model, self.tokenizer = self.load_model(model_cfg, ckpt_path)\n",
    "        self.device = torch.device(\"cuda\" if torch.cuda.is_available() else \"cpu\")\n",
    "        self.model = self.model.to(self.device)\n",
    "\n",
    "    def encode(self, seqs):\n",
    "        # seqs = seqs.to(device=self.device)\n",
    "        results = []\n",
    "        # outputs = []\n",
    "\n",
    "        # sample code to loop thru each sample and tokenize first (char level)\n",
    "        \n",
    "        # if isinstance(self.tokenizer, Tokenizer):\n",
    "        #     tokenized_seq = self.tokenizer.encode(seq, ).ids\n",
    "        # else:\n",
    "        #     tokenized_seq = self.tokenizer(seq, padding=\"max_length\")['input_ids']\n",
    "        # tokenized_seq = tokenized_seq[3:] #make it so the length is 1023 as that's what we expect\n",
    "        # can accept a batch, shape [B, seq_len, hidden_dim]\n",
    "        logits = self.model(seqs)[0]\n",
    "\n",
    "        # Using head, so just have logits\n",
    "        results.append(logits)\n",
    "        # outputs.append(output)\n",
    "\n",
    "        return results\n",
    "        \n",
    "            \n",
    "    def load_model(self, model_cfg, ckpt_path):\n",
    "        config = yaml.load(open(model_cfg, 'r'), Loader=yaml.FullLoader)\n",
    "        model = ConvLMHeadModel(**config['model_config'])\n",
    "        \n",
    "        state_dict = torch.load(ckpt_path, map_location='cuda:0')\n",
    "\n",
    "        # loads model from ddp by removing prexix to single if necessary\n",
    "        torch.nn.modules.utils.consume_prefix_in_state_dict_if_present(\n",
    "            state_dict[\"state_dict\"], \"model.\"\n",
    "        )\n",
    "\n",
    "        model_state_dict = state_dict[\"state_dict\"]\n",
    "\n",
    "        # need to remove torchmetrics. to remove keys, need to convert to list first\n",
    "        for key in list(model_state_dict.keys()):\n",
    "            if \"torchmetrics\" in key:\n",
    "                model_state_dict.pop(key)\n",
    "\n",
    "        model.load_state_dict(state_dict[\"state_dict\"])\n",
    "\n",
    "        # setup tokenizer\n",
    "        if config['tokenizer_name'] == 'char':\n",
    "            print(\"**Using Char-level tokenizer**\")\n",
    "\n",
    "            # add to vocab\n",
    "            tokenizer = CharacterTokenizer(\n",
    "                characters=['A', 'C', 'G', 'T', 'N'],\n",
    "                model_max_length=self.max_seq_len + 2,  # add 2 since default adds eos/eos tokens, crop later\n",
    "                add_special_tokens=False,\n",
    "                padding_side='left'\n",
    "            )\n",
    "            # print(tokenizer._vocab_str_to_int)\n",
    "\n",
    "        return model, tokenizer\n",
    "\n",
    "epoch = HG38Encoder('/data/leslie/sarthak/hyena/hyena-dna/configs/evals/cCRE.yaml', '/data/leslie/sarthak/hyena/hyena-dna/outputs/2024-01-29/16-27-39-527212/checkpoints/last.ckpt', max_seq_len=1024)\n",
    "\n"
   ]
  },
  {
   "cell_type": "code",
   "execution_count": 5,
   "metadata": {},
   "outputs": [
    {
     "name": "stderr",
     "output_type": "stream",
     "text": [
      "100%|██████████████████████████████████████████████████████████████████████████████████████████████████████████████| 206/206 [01:14<00:00,  2.77it/s]"
     ]
    },
    {
     "name": "stdout",
     "output_type": "stream",
     "text": [
      "tensor(1.2348)\n",
      "tensor(0.4076)\n"
     ]
    },
    {
     "name": "stderr",
     "output_type": "stream",
     "text": [
      "\n"
     ]
    }
   ],
   "source": [
    "from torch.utils.data import DataLoader\n",
    "ccre_loader = DataLoader(ccre, batch_size=512, shuffle=False) #results are identical even if you shuffle, obviously since it's just the mean\n",
    "e100loss = torch.zeros((len(ccre), 1023))\n",
    "e100acc = torch.zeros((len(ccre), 1023))\n",
    "startidx = 0\n",
    "for idx, (seq, target) in tqdm(enumerate(ccre_loader), total=len(ccre_loader)):\n",
    "    b_size = seq.shape[0]\n",
    "    target = target.to(epoch.device)\n",
    "    seq = seq.to(device=epoch.device)\n",
    "    y_hat = epoch.encode(seq)\n",
    "    logits_reshaped = y_hat[0].logits.view(-1, 16)\n",
    "    target_reshaped = target.view(-1)\n",
    "    \n",
    "    losses = F.cross_entropy(logits_reshaped, target_reshaped, reduction='none')\n",
    "    \n",
    "    losses = losses.view(b_size, 1023)\n",
    "    \n",
    "    e100loss[startidx:startidx+b_size,:] = losses.detach().cpu()\n",
    "    \n",
    "    b = torch.argmax(y_hat[0].logits, dim=2)\n",
    "    e100acc[startidx:startidx+b_size,:] = (b==target).detach().cpu()\n",
    "    startidx += b_size\n",
    "    # full_acc2[idx,:] = (b==target).detach().cpu()\n",
    "print(e100loss.mean())\n",
    "print(e100acc.mean())\n",
    "\n",
    "#seems fine and reasonable, so let's just reuse the head"
   ]
  }
 ],
 "metadata": {
  "kernelspec": {
   "display_name": "Python 3 (ipykernel)",
   "language": "python",
   "name": "python3"
  },
  "language_info": {
   "codemirror_mode": {
    "name": "ipython",
    "version": 3
   },
   "file_extension": ".py",
   "mimetype": "text/x-python",
   "name": "python",
   "nbconvert_exporter": "python",
   "pygments_lexer": "ipython3",
   "version": "3.11.7"
  }
 },
 "nbformat": 4,
 "nbformat_minor": 2
}
