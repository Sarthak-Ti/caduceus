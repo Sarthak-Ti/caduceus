{
 "cells": [
  {
   "cell_type": "code",
   "execution_count": null,
   "metadata": {},
   "outputs": [],
   "source": [
    "#I created a pretrained model, let's load it in and see if what it's doing is correct!"
   ]
  },
  {
   "cell_type": "code",
   "execution_count": 1,
   "metadata": {},
   "outputs": [],
   "source": [
    "#we'll use all the same settings, based on my evaluation_utils_enformer script, but loaded in manually\n",
    "import sys\n",
    "sys.path.append('/data/leslie/sarthak/caduceus/')\n",
    "from src.models.sequence.dna_embedding import DNAEmbeddingModelCaduceus\n",
    "from src.tasks.decoders import EnformerDecoder\n",
    "# from src.tasks.encoders import EnformerEncoder\n",
    "from caduceus.configuration_caduceus import CaduceusConfig\n",
    "import torch\n",
    "import numpy as np\n",
    "import src.dataloaders.datasets.enformer_dataset as enformer_dataset\n",
    "import yaml\n",
    "from omegaconf import OmegaConf\n",
    "import os\n",
    "import matplotlib.pyplot as plt\n",
    "# import seaborn as sns\n",
    "from tqdm import tqdm\n",
    "import argparse\n",
    "\n",
    "try:\n",
    "    OmegaConf.register_new_resolver('eval', eval)\n",
    "    OmegaConf.register_new_resolver('div_up', lambda x, y: (x + y - 1) // y)\n",
    "except ValueError as e:\n",
    "    if \"Resolver already registered\" in str(e):\n",
    "            print(\"Resolver already exists, skipping registration.\")\n",
    "\n",
    "#let's find it\n",
    "ckpt_path = '/data/leslie/sarthak/caduceus/outputs/2024-09-11/09-10-36-679751/checkpoints/last.ckpt'\n",
    "model_cfg_path = os.path.join(os.path.dirname(os.path.dirname(ckpt_path)), '.hydra', 'config.yaml')\n",
    "cfg = yaml.load(open(model_cfg_path, 'r'), Loader=yaml.FullLoader)\n",
    "cfg = OmegaConf.create(cfg)\n",
    "cfg = OmegaConf.to_container(cfg, resolve=True)\n",
    "state_dict = torch.load(ckpt_path, map_location='cpu')\n",
    "device = torch.device('cuda' if torch.cuda.is_available() else 'cpu')\n",
    "split = 'test'"
   ]
  },
  {
   "cell_type": "code",
   "execution_count": 2,
   "metadata": {},
   "outputs": [
    {
     "data": {
      "text/plain": [
       "{'_name_': 'KmerPretrainLoader',\n",
       " 'bed_file': None,\n",
       " 'fasta_file': None,\n",
       " 'dataset_name': 'KmerPretrainLoader',\n",
       " 'tokenizer_name': 'char',\n",
       " 'cache_dir': None,\n",
       " 'max_length': 196608,\n",
       " 'add_eos': False,\n",
       " 'batch_size': 1,\n",
       " 'batch_size_eval': 2,\n",
       " 'num_workers': 4,\n",
       " 'shuffle': True,\n",
       " 'pin_memory': True,\n",
       " '__train_len': 5087,\n",
       " '__l_max': 196608,\n",
       " 'max_length_val': 196608,\n",
       " 'max_length_test': 196608,\n",
       " 'pad_max_length': None,\n",
       " 'rc_aug': False,\n",
       " 'use_fixed_len_val': False,\n",
       " 'replace_N_token': False,\n",
       " 'pad_interval': False,\n",
       " 'kmer_len': 6,\n",
       " 'mlm': True,\n",
       " 'mlm_probability': 0.15}"
      ]
     },
     "execution_count": 2,
     "metadata": {},
     "output_type": "execute_result"
    }
   ],
   "source": [
    "dataset_args = cfg['dataset']\n",
    "dataset_args"
   ]
  },
  {
   "cell_type": "code",
   "execution_count": 3,
   "metadata": {},
   "outputs": [
    {
     "name": "stdout",
     "output_type": "stream",
     "text": [
      "Using kmer genome with length 6\n"
     ]
    }
   ],
   "source": [
    "dataset_args = cfg['dataset']\n",
    "import src.dataloaders.datasets.kmer_pretrain_dataset as kmer_pretrain_dataset\n",
    "dataset = kmer_pretrain_dataset.KmerPretrain(split, dataset_args['max_length'], tokenizer=None, rc_aug = dataset_args['rc_aug'], d_output=None,\n",
    "                                                            mlm_probability=dataset_args['mlm_probability'],\n",
    "                                                            kmer_len=dataset_args['kmer_len'], eligible_replacements=None) #could use dataloader instead, but again kinda complex"
   ]
  },
  {
   "cell_type": "code",
   "execution_count": 4,
   "metadata": {},
   "outputs": [],
   "source": [
    "x,y=dataset[0]"
   ]
  },
  {
   "cell_type": "code",
   "execution_count": 5,
   "metadata": {},
   "outputs": [
    {
     "name": "stdout",
     "output_type": "stream",
     "text": [
      "torch.Size([196608]) torch.Size([196608])\n"
     ]
    }
   ],
   "source": [
    "print(x.shape, y.shape)"
   ]
  },
  {
   "cell_type": "code",
   "execution_count": 6,
   "metadata": {},
   "outputs": [
    {
     "data": {
      "text/plain": [
       "tensor([ 6341, 15628,  2290, 11451, 10380,  5644,  9518,   715,  3577,  2260,\n",
       "        11300,  5997,  1250,  6250,     3,    15,    75,   375,  1876,  9381,\n",
       "           30,   153,   765,  3827,  3511,  1931,  9658,  1416,  7080,  4153,\n",
       "        15628, 10080,  3526,  2005, 10027, 15628,   686,  3430,  1526,  7633,\n",
       "        15628,  3340,  1075,  5375,  4563,  9390,    76,   380,  1901,  9508,\n",
       "          667,  3335,  1050,  5252, 10636,  6308,   292,  1461,  7306,  5280,\n",
       "        10775,  7000, 15628,  3126,     5,    25,   128, 15628,  3208,   415,\n",
       "         2078, 10391,  5082,  9788,  2068, 10343,  4843, 15628, 11711, 11681,\n",
       "        11533, 10790,  7076,  4132,  5038,  9565, 13349,  4758,  8168,  9590,\n",
       "         1078,  5391, 15628,  9775,  2001, 10008, 15628,   216,  1081,  5408])"
      ]
     },
     "execution_count": 6,
     "metadata": {},
     "output_type": "execute_result"
    }
   ],
   "source": [
    "x[:100]"
   ]
  },
  {
   "cell_type": "code",
   "execution_count": 7,
   "metadata": {},
   "outputs": [
    {
     "data": {
      "text/plain": [
       "tensor([15629,   458, 15629, 15629, 15629,  5028, 15629, 15629, 15629, 15629,\n",
       "        15629,  9625, 15629, 15629, 15629, 15629, 15629, 15629, 15629, 15629,\n",
       "        15629, 15629, 15629, 15629, 15629, 15629, 15629, 15629, 15629, 15629,\n",
       "         5141, 15629, 15629, 15629, 15629,  3262, 15629, 15629, 15629, 15629,\n",
       "         6918, 15629, 15629, 15629, 11253, 15629, 15629, 15629, 15629, 15629,\n",
       "        15629, 15629, 15629, 15629, 15629, 15629, 15629, 15629, 15629, 15629,\n",
       "        15629, 15629,  3750, 15629, 15629, 15629, 15629,   641, 15629, 15629,\n",
       "        15629, 15629, 15629, 15629, 15629, 15629, 15629,  8592, 15629, 15629,\n",
       "        15629, 15629, 15629,  4132, 15629, 15629,   951, 15629, 15629, 15629,\n",
       "        15629, 15629, 11330, 15629, 15629, 15629,  3168, 15629, 15629, 15629])"
      ]
     },
     "execution_count": 7,
     "metadata": {},
     "output_type": "execute_result"
    }
   ],
   "source": [
    "y[:100]"
   ]
  },
  {
   "cell_type": "code",
   "execution_count": 8,
   "metadata": {},
   "outputs": [
    {
     "data": {
      "text/plain": [
       "odict_keys(['train_torchmetrics.num_tokens.count', 'val_torchmetrics.num_tokens.count', 'test_torchmetrics.num_tokens.count', 'caduceus.backbone.embeddings.word_embeddings.complement_map', 'caduceus.backbone.embeddings.word_embeddings.embedding.weight', 'caduceus.backbone.layers.0.mixer.submodule.mamba_fwd.A_log', 'caduceus.backbone.layers.0.mixer.submodule.mamba_fwd.D', 'caduceus.backbone.layers.0.mixer.submodule.mamba_fwd.conv1d.bias', 'caduceus.backbone.layers.0.mixer.submodule.mamba_fwd.conv1d.weight', 'caduceus.backbone.layers.0.mixer.submodule.mamba_fwd.dt_proj.bias', 'caduceus.backbone.layers.0.mixer.submodule.mamba_fwd.dt_proj.weight', 'caduceus.backbone.layers.0.mixer.submodule.mamba_fwd.in_proj.weight', 'caduceus.backbone.layers.0.mixer.submodule.mamba_fwd.out_proj.weight', 'caduceus.backbone.layers.0.mixer.submodule.mamba_fwd.x_proj.weight', 'caduceus.backbone.layers.0.mixer.submodule.mamba_rev.A_log', 'caduceus.backbone.layers.0.mixer.submodule.mamba_rev.D', 'caduceus.backbone.layers.0.mixer.submodule.mamba_rev.conv1d.bias', 'caduceus.backbone.layers.0.mixer.submodule.mamba_rev.conv1d.weight', 'caduceus.backbone.layers.0.mixer.submodule.mamba_rev.dt_proj.bias', 'caduceus.backbone.layers.0.mixer.submodule.mamba_rev.dt_proj.weight', 'caduceus.backbone.layers.0.mixer.submodule.mamba_rev.in_proj.weight', 'caduceus.backbone.layers.0.mixer.submodule.mamba_rev.out_proj.weight', 'caduceus.backbone.layers.0.mixer.submodule.mamba_rev.x_proj.weight', 'caduceus.backbone.layers.0.norm.weight', 'caduceus.backbone.layers.1.mixer.submodule.mamba_fwd.A_log', 'caduceus.backbone.layers.1.mixer.submodule.mamba_fwd.D', 'caduceus.backbone.layers.1.mixer.submodule.mamba_fwd.conv1d.bias', 'caduceus.backbone.layers.1.mixer.submodule.mamba_fwd.conv1d.weight', 'caduceus.backbone.layers.1.mixer.submodule.mamba_fwd.dt_proj.bias', 'caduceus.backbone.layers.1.mixer.submodule.mamba_fwd.dt_proj.weight', 'caduceus.backbone.layers.1.mixer.submodule.mamba_fwd.in_proj.weight', 'caduceus.backbone.layers.1.mixer.submodule.mamba_fwd.out_proj.weight', 'caduceus.backbone.layers.1.mixer.submodule.mamba_fwd.x_proj.weight', 'caduceus.backbone.layers.1.mixer.submodule.mamba_rev.A_log', 'caduceus.backbone.layers.1.mixer.submodule.mamba_rev.D', 'caduceus.backbone.layers.1.mixer.submodule.mamba_rev.conv1d.bias', 'caduceus.backbone.layers.1.mixer.submodule.mamba_rev.conv1d.weight', 'caduceus.backbone.layers.1.mixer.submodule.mamba_rev.dt_proj.bias', 'caduceus.backbone.layers.1.mixer.submodule.mamba_rev.dt_proj.weight', 'caduceus.backbone.layers.1.mixer.submodule.mamba_rev.in_proj.weight', 'caduceus.backbone.layers.1.mixer.submodule.mamba_rev.out_proj.weight', 'caduceus.backbone.layers.1.mixer.submodule.mamba_rev.x_proj.weight', 'caduceus.backbone.layers.1.norm.weight', 'caduceus.backbone.layers.2.mixer.submodule.mamba_fwd.A_log', 'caduceus.backbone.layers.2.mixer.submodule.mamba_fwd.D', 'caduceus.backbone.layers.2.mixer.submodule.mamba_fwd.conv1d.bias', 'caduceus.backbone.layers.2.mixer.submodule.mamba_fwd.conv1d.weight', 'caduceus.backbone.layers.2.mixer.submodule.mamba_fwd.dt_proj.bias', 'caduceus.backbone.layers.2.mixer.submodule.mamba_fwd.dt_proj.weight', 'caduceus.backbone.layers.2.mixer.submodule.mamba_fwd.in_proj.weight', 'caduceus.backbone.layers.2.mixer.submodule.mamba_fwd.out_proj.weight', 'caduceus.backbone.layers.2.mixer.submodule.mamba_fwd.x_proj.weight', 'caduceus.backbone.layers.2.mixer.submodule.mamba_rev.A_log', 'caduceus.backbone.layers.2.mixer.submodule.mamba_rev.D', 'caduceus.backbone.layers.2.mixer.submodule.mamba_rev.conv1d.bias', 'caduceus.backbone.layers.2.mixer.submodule.mamba_rev.conv1d.weight', 'caduceus.backbone.layers.2.mixer.submodule.mamba_rev.dt_proj.bias', 'caduceus.backbone.layers.2.mixer.submodule.mamba_rev.dt_proj.weight', 'caduceus.backbone.layers.2.mixer.submodule.mamba_rev.in_proj.weight', 'caduceus.backbone.layers.2.mixer.submodule.mamba_rev.out_proj.weight', 'caduceus.backbone.layers.2.mixer.submodule.mamba_rev.x_proj.weight', 'caduceus.backbone.layers.2.norm.weight', 'caduceus.backbone.layers.3.mixer.submodule.mamba_fwd.A_log', 'caduceus.backbone.layers.3.mixer.submodule.mamba_fwd.D', 'caduceus.backbone.layers.3.mixer.submodule.mamba_fwd.conv1d.bias', 'caduceus.backbone.layers.3.mixer.submodule.mamba_fwd.conv1d.weight', 'caduceus.backbone.layers.3.mixer.submodule.mamba_fwd.dt_proj.bias', 'caduceus.backbone.layers.3.mixer.submodule.mamba_fwd.dt_proj.weight', 'caduceus.backbone.layers.3.mixer.submodule.mamba_fwd.in_proj.weight', 'caduceus.backbone.layers.3.mixer.submodule.mamba_fwd.out_proj.weight', 'caduceus.backbone.layers.3.mixer.submodule.mamba_fwd.x_proj.weight', 'caduceus.backbone.layers.3.mixer.submodule.mamba_rev.A_log', 'caduceus.backbone.layers.3.mixer.submodule.mamba_rev.D', 'caduceus.backbone.layers.3.mixer.submodule.mamba_rev.conv1d.bias', 'caduceus.backbone.layers.3.mixer.submodule.mamba_rev.conv1d.weight', 'caduceus.backbone.layers.3.mixer.submodule.mamba_rev.dt_proj.bias', 'caduceus.backbone.layers.3.mixer.submodule.mamba_rev.dt_proj.weight', 'caduceus.backbone.layers.3.mixer.submodule.mamba_rev.in_proj.weight', 'caduceus.backbone.layers.3.mixer.submodule.mamba_rev.out_proj.weight', 'caduceus.backbone.layers.3.mixer.submodule.mamba_rev.x_proj.weight', 'caduceus.backbone.layers.3.norm.weight', 'caduceus.backbone.layers.4.mixer.submodule.mamba_fwd.A_log', 'caduceus.backbone.layers.4.mixer.submodule.mamba_fwd.D', 'caduceus.backbone.layers.4.mixer.submodule.mamba_fwd.conv1d.bias', 'caduceus.backbone.layers.4.mixer.submodule.mamba_fwd.conv1d.weight', 'caduceus.backbone.layers.4.mixer.submodule.mamba_fwd.dt_proj.bias', 'caduceus.backbone.layers.4.mixer.submodule.mamba_fwd.dt_proj.weight', 'caduceus.backbone.layers.4.mixer.submodule.mamba_fwd.in_proj.weight', 'caduceus.backbone.layers.4.mixer.submodule.mamba_fwd.out_proj.weight', 'caduceus.backbone.layers.4.mixer.submodule.mamba_fwd.x_proj.weight', 'caduceus.backbone.layers.4.mixer.submodule.mamba_rev.A_log', 'caduceus.backbone.layers.4.mixer.submodule.mamba_rev.D', 'caduceus.backbone.layers.4.mixer.submodule.mamba_rev.conv1d.bias', 'caduceus.backbone.layers.4.mixer.submodule.mamba_rev.conv1d.weight', 'caduceus.backbone.layers.4.mixer.submodule.mamba_rev.dt_proj.bias', 'caduceus.backbone.layers.4.mixer.submodule.mamba_rev.dt_proj.weight', 'caduceus.backbone.layers.4.mixer.submodule.mamba_rev.in_proj.weight', 'caduceus.backbone.layers.4.mixer.submodule.mamba_rev.out_proj.weight', 'caduceus.backbone.layers.4.mixer.submodule.mamba_rev.x_proj.weight', 'caduceus.backbone.layers.4.norm.weight', 'caduceus.backbone.layers.5.mixer.submodule.mamba_fwd.A_log', 'caduceus.backbone.layers.5.mixer.submodule.mamba_fwd.D', 'caduceus.backbone.layers.5.mixer.submodule.mamba_fwd.conv1d.bias', 'caduceus.backbone.layers.5.mixer.submodule.mamba_fwd.conv1d.weight', 'caduceus.backbone.layers.5.mixer.submodule.mamba_fwd.dt_proj.bias', 'caduceus.backbone.layers.5.mixer.submodule.mamba_fwd.dt_proj.weight', 'caduceus.backbone.layers.5.mixer.submodule.mamba_fwd.in_proj.weight', 'caduceus.backbone.layers.5.mixer.submodule.mamba_fwd.out_proj.weight', 'caduceus.backbone.layers.5.mixer.submodule.mamba_fwd.x_proj.weight', 'caduceus.backbone.layers.5.mixer.submodule.mamba_rev.A_log', 'caduceus.backbone.layers.5.mixer.submodule.mamba_rev.D', 'caduceus.backbone.layers.5.mixer.submodule.mamba_rev.conv1d.bias', 'caduceus.backbone.layers.5.mixer.submodule.mamba_rev.conv1d.weight', 'caduceus.backbone.layers.5.mixer.submodule.mamba_rev.dt_proj.bias', 'caduceus.backbone.layers.5.mixer.submodule.mamba_rev.dt_proj.weight', 'caduceus.backbone.layers.5.mixer.submodule.mamba_rev.in_proj.weight', 'caduceus.backbone.layers.5.mixer.submodule.mamba_rev.out_proj.weight', 'caduceus.backbone.layers.5.mixer.submodule.mamba_rev.x_proj.weight', 'caduceus.backbone.layers.5.norm.weight', 'caduceus.backbone.layers.6.mixer.submodule.mamba_fwd.A_log', 'caduceus.backbone.layers.6.mixer.submodule.mamba_fwd.D', 'caduceus.backbone.layers.6.mixer.submodule.mamba_fwd.conv1d.bias', 'caduceus.backbone.layers.6.mixer.submodule.mamba_fwd.conv1d.weight', 'caduceus.backbone.layers.6.mixer.submodule.mamba_fwd.dt_proj.bias', 'caduceus.backbone.layers.6.mixer.submodule.mamba_fwd.dt_proj.weight', 'caduceus.backbone.layers.6.mixer.submodule.mamba_fwd.in_proj.weight', 'caduceus.backbone.layers.6.mixer.submodule.mamba_fwd.out_proj.weight', 'caduceus.backbone.layers.6.mixer.submodule.mamba_fwd.x_proj.weight', 'caduceus.backbone.layers.6.mixer.submodule.mamba_rev.A_log', 'caduceus.backbone.layers.6.mixer.submodule.mamba_rev.D', 'caduceus.backbone.layers.6.mixer.submodule.mamba_rev.conv1d.bias', 'caduceus.backbone.layers.6.mixer.submodule.mamba_rev.conv1d.weight', 'caduceus.backbone.layers.6.mixer.submodule.mamba_rev.dt_proj.bias', 'caduceus.backbone.layers.6.mixer.submodule.mamba_rev.dt_proj.weight', 'caduceus.backbone.layers.6.mixer.submodule.mamba_rev.in_proj.weight', 'caduceus.backbone.layers.6.mixer.submodule.mamba_rev.out_proj.weight', 'caduceus.backbone.layers.6.mixer.submodule.mamba_rev.x_proj.weight', 'caduceus.backbone.layers.6.norm.weight', 'caduceus.backbone.layers.7.mixer.submodule.mamba_fwd.A_log', 'caduceus.backbone.layers.7.mixer.submodule.mamba_fwd.D', 'caduceus.backbone.layers.7.mixer.submodule.mamba_fwd.conv1d.bias', 'caduceus.backbone.layers.7.mixer.submodule.mamba_fwd.conv1d.weight', 'caduceus.backbone.layers.7.mixer.submodule.mamba_fwd.dt_proj.bias', 'caduceus.backbone.layers.7.mixer.submodule.mamba_fwd.dt_proj.weight', 'caduceus.backbone.layers.7.mixer.submodule.mamba_fwd.in_proj.weight', 'caduceus.backbone.layers.7.mixer.submodule.mamba_fwd.out_proj.weight', 'caduceus.backbone.layers.7.mixer.submodule.mamba_fwd.x_proj.weight', 'caduceus.backbone.layers.7.mixer.submodule.mamba_rev.A_log', 'caduceus.backbone.layers.7.mixer.submodule.mamba_rev.D', 'caduceus.backbone.layers.7.mixer.submodule.mamba_rev.conv1d.bias', 'caduceus.backbone.layers.7.mixer.submodule.mamba_rev.conv1d.weight', 'caduceus.backbone.layers.7.mixer.submodule.mamba_rev.dt_proj.bias', 'caduceus.backbone.layers.7.mixer.submodule.mamba_rev.dt_proj.weight', 'caduceus.backbone.layers.7.mixer.submodule.mamba_rev.in_proj.weight', 'caduceus.backbone.layers.7.mixer.submodule.mamba_rev.out_proj.weight', 'caduceus.backbone.layers.7.mixer.submodule.mamba_rev.x_proj.weight', 'caduceus.backbone.layers.7.norm.weight', 'caduceus.backbone.layers.8.mixer.submodule.mamba_fwd.A_log', 'caduceus.backbone.layers.8.mixer.submodule.mamba_fwd.D', 'caduceus.backbone.layers.8.mixer.submodule.mamba_fwd.conv1d.bias', 'caduceus.backbone.layers.8.mixer.submodule.mamba_fwd.conv1d.weight', 'caduceus.backbone.layers.8.mixer.submodule.mamba_fwd.dt_proj.bias', 'caduceus.backbone.layers.8.mixer.submodule.mamba_fwd.dt_proj.weight', 'caduceus.backbone.layers.8.mixer.submodule.mamba_fwd.in_proj.weight', 'caduceus.backbone.layers.8.mixer.submodule.mamba_fwd.out_proj.weight', 'caduceus.backbone.layers.8.mixer.submodule.mamba_fwd.x_proj.weight', 'caduceus.backbone.layers.8.mixer.submodule.mamba_rev.A_log', 'caduceus.backbone.layers.8.mixer.submodule.mamba_rev.D', 'caduceus.backbone.layers.8.mixer.submodule.mamba_rev.conv1d.bias', 'caduceus.backbone.layers.8.mixer.submodule.mamba_rev.conv1d.weight', 'caduceus.backbone.layers.8.mixer.submodule.mamba_rev.dt_proj.bias', 'caduceus.backbone.layers.8.mixer.submodule.mamba_rev.dt_proj.weight', 'caduceus.backbone.layers.8.mixer.submodule.mamba_rev.in_proj.weight', 'caduceus.backbone.layers.8.mixer.submodule.mamba_rev.out_proj.weight', 'caduceus.backbone.layers.8.mixer.submodule.mamba_rev.x_proj.weight', 'caduceus.backbone.layers.8.norm.weight', 'caduceus.backbone.layers.9.mixer.submodule.mamba_fwd.A_log', 'caduceus.backbone.layers.9.mixer.submodule.mamba_fwd.D', 'caduceus.backbone.layers.9.mixer.submodule.mamba_fwd.conv1d.bias', 'caduceus.backbone.layers.9.mixer.submodule.mamba_fwd.conv1d.weight', 'caduceus.backbone.layers.9.mixer.submodule.mamba_fwd.dt_proj.bias', 'caduceus.backbone.layers.9.mixer.submodule.mamba_fwd.dt_proj.weight', 'caduceus.backbone.layers.9.mixer.submodule.mamba_fwd.in_proj.weight', 'caduceus.backbone.layers.9.mixer.submodule.mamba_fwd.out_proj.weight', 'caduceus.backbone.layers.9.mixer.submodule.mamba_fwd.x_proj.weight', 'caduceus.backbone.layers.9.mixer.submodule.mamba_rev.A_log', 'caduceus.backbone.layers.9.mixer.submodule.mamba_rev.D', 'caduceus.backbone.layers.9.mixer.submodule.mamba_rev.conv1d.bias', 'caduceus.backbone.layers.9.mixer.submodule.mamba_rev.conv1d.weight', 'caduceus.backbone.layers.9.mixer.submodule.mamba_rev.dt_proj.bias', 'caduceus.backbone.layers.9.mixer.submodule.mamba_rev.dt_proj.weight', 'caduceus.backbone.layers.9.mixer.submodule.mamba_rev.in_proj.weight', 'caduceus.backbone.layers.9.mixer.submodule.mamba_rev.out_proj.weight', 'caduceus.backbone.layers.9.mixer.submodule.mamba_rev.x_proj.weight', 'caduceus.backbone.layers.9.norm.weight', 'caduceus.backbone.norm_f.weight', 'lm_head.complement_map', 'lm_head.lm_head.weight'])"
      ]
     },
     "execution_count": 8,
     "metadata": {},
     "output_type": "execute_result"
    }
   ],
   "source": [
    "#now load in the model and test things with x and y!\n",
    "torch.nn.modules.utils.consume_prefix_in_state_dict_if_present(\n",
    "    state_dict[\"state_dict\"], \"model.\"\n",
    ")\n",
    "model_state_dict = state_dict[\"state_dict\"]\n",
    "model_state_dict.keys() #includes lm head weight, so it's the whole thing"
   ]
  },
  {
   "cell_type": "code",
   "execution_count": 9,
   "metadata": {},
   "outputs": [],
   "source": [
    "for key in list(model_state_dict.keys()):\n",
    "    if \"torchmetrics\" in key:\n",
    "        model_state_dict.pop(key)"
   ]
  },
  {
   "cell_type": "code",
   "execution_count": 10,
   "metadata": {},
   "outputs": [],
   "source": [
    "cfg['model']['config'].pop('_target_')\n",
    "cfg['model']['config']['complement_map'] = dataset.tokenizer.complement_map\n",
    "caduceus_cfg = CaduceusConfig(**cfg['model']['config'])"
   ]
  },
  {
   "cell_type": "code",
   "execution_count": 11,
   "metadata": {},
   "outputs": [],
   "source": [
    "#now we have to load in the model, it's not just the backbone\n",
    "#I think it's caduceus for masked lm?\n",
    "from caduceus.modeling_caduceus import CaduceusForMaskedLM\n",
    "model = CaduceusForMaskedLM(config=caduceus_cfg)"
   ]
  },
  {
   "cell_type": "code",
   "execution_count": 12,
   "metadata": {},
   "outputs": [
    {
     "data": {
      "text/plain": [
       "CaduceusForMaskedLM(\n",
       "  (caduceus): Caduceus(\n",
       "    (backbone): CaduceusMixerModel(\n",
       "      (embeddings): CaduceusEmbeddings(\n",
       "        (word_embeddings): RCPSEmbedding(\n",
       "          (embedding): Embedding(15632, 256)\n",
       "        )\n",
       "      )\n",
       "      (layers): ModuleList(\n",
       "        (0-9): 10 x RCPSMambaBlock(\n",
       "          (mixer): RCPSWrapper(\n",
       "            (submodule): BiMambaWrapper(\n",
       "              (mamba_fwd): Mamba(\n",
       "                (in_proj): Linear(in_features=256, out_features=1024, bias=False)\n",
       "                (conv1d): Conv1d(512, 512, kernel_size=(4,), stride=(1,), padding=(3,), groups=512)\n",
       "                (act): SiLU()\n",
       "                (x_proj): Linear(in_features=512, out_features=48, bias=False)\n",
       "                (dt_proj): Linear(in_features=16, out_features=512, bias=True)\n",
       "                (out_proj): Linear(in_features=512, out_features=256, bias=False)\n",
       "              )\n",
       "              (mamba_rev): Mamba(\n",
       "                (in_proj): Linear(in_features=256, out_features=1024, bias=False)\n",
       "                (conv1d): Conv1d(512, 512, kernel_size=(4,), stride=(1,), padding=(3,), groups=512)\n",
       "                (act): SiLU()\n",
       "                (x_proj): Linear(in_features=512, out_features=48, bias=False)\n",
       "                (dt_proj): Linear(in_features=16, out_features=512, bias=True)\n",
       "                (out_proj): Linear(in_features=512, out_features=256, bias=False)\n",
       "              )\n",
       "            )\n",
       "          )\n",
       "          (norm): RMSNorm()\n",
       "        )\n",
       "      )\n",
       "      (norm_f): RMSNorm()\n",
       "    )\n",
       "  )\n",
       "  (lm_head): RCPSLMHead(\n",
       "    (lm_head): Linear(in_features=256, out_features=15632, bias=False)\n",
       "  )\n",
       ")"
      ]
     },
     "execution_count": 12,
     "metadata": {},
     "output_type": "execute_result"
    }
   ],
   "source": [
    "model"
   ]
  },
  {
   "cell_type": "code",
   "execution_count": 13,
   "metadata": {},
   "outputs": [
    {
     "data": {
      "text/plain": [
       "<All keys matched successfully>"
      ]
     },
     "execution_count": 13,
     "metadata": {},
     "output_type": "execute_result"
    }
   ],
   "source": [
    "model.load_state_dict(model_state_dict)"
   ]
  },
  {
   "cell_type": "code",
   "execution_count": 14,
   "metadata": {},
   "outputs": [],
   "source": [
    "#ok that actually worked? let's put X into the model\n",
    "device = 'cuda'\n",
    "model.eval()\n",
    "model = model.to(device)\n",
    "with torch.no_grad():\n",
    "    if len(x.shape) == 1:\n",
    "        x = x.unsqueeze(0)\n",
    "        y = y.unsqueeze(0)\n",
    "    x = x.to(device)\n",
    "    y = y.to(device)\n",
    "    output = model(x)"
   ]
  },
  {
   "cell_type": "code",
   "execution_count": 16,
   "metadata": {},
   "outputs": [
    {
     "data": {
      "text/plain": [
       "MaskedLMOutput(loss=None, logits=tensor([[[ 8.0766,  8.5079,  9.0000,  ..., -5.1261, -3.2036, -4.1025],\n",
       "         [ 8.4685, 10.1660,  7.1920,  ..., -6.4935, -6.6539, -7.1757],\n",
       "         [ 6.5846,  2.2227,  4.4696,  ..., -3.4821, -3.3214, -1.1664],\n",
       "         ...,\n",
       "         [-0.2734,  1.1197,  8.0482,  ...,  1.8388,  0.4382,  1.3390],\n",
       "         [ 9.5767,  3.7154,  4.0232,  ..., -3.9732, -3.2254, -1.7098],\n",
       "         [ 7.5978,  1.8776, -2.5554,  ..., -5.5587, -2.7368, -4.7131]]],\n",
       "       device='cuda:0'), hidden_states=None, attentions=None)"
      ]
     },
     "execution_count": 16,
     "metadata": {},
     "output_type": "execute_result"
    }
   ],
   "source": [
    "#so this is the full output of the model\n",
    "output"
   ]
  },
  {
   "cell_type": "code",
   "execution_count": 17,
   "metadata": {},
   "outputs": [
    {
     "data": {
      "text/plain": [
       "torch.Size([1, 196608, 15632])"
      ]
     },
     "execution_count": 17,
     "metadata": {},
     "output_type": "execute_result"
    }
   ],
   "source": [
    "output.logits.shape #for each of the points we basically get a probability"
   ]
  },
  {
   "cell_type": "code",
   "execution_count": 19,
   "metadata": {},
   "outputs": [
    {
     "data": {
      "text/plain": [
       "tensor([[-40562.4023, -70612.1016, -20235.5781,  ...,   6733.6182,\n",
       "         -35315.5352, -40574.1133]], device='cuda:0')"
      ]
     },
     "execution_count": 19,
     "metadata": {},
     "output_type": "execute_result"
    }
   ],
   "source": [
    "torch.sum(output.logits, dim=-1) #summing over the last dimension, we get the probability of each point"
   ]
  },
  {
   "cell_type": "code",
   "execution_count": 20,
   "metadata": {},
   "outputs": [
    {
     "data": {
      "text/plain": [
       "torch.Size([1, 196608, 15632])"
      ]
     },
     "execution_count": 20,
     "metadata": {},
     "output_type": "execute_result"
    }
   ],
   "source": [
    "#we haven't yet done softmax yet that's the real issue\n",
    "#let's apply softmax\n",
    "softmaxed = torch.nn.functional.softmax(output.logits, dim=-1)\n",
    "softmaxed.shape"
   ]
  },
  {
   "cell_type": "code",
   "execution_count": 21,
   "metadata": {},
   "outputs": [
    {
     "data": {
      "text/plain": [
       "tensor([[1.0000, 1.0000, 1.0000,  ..., 1.0000, 1.0000, 1.0000]],\n",
       "       device='cuda:0')"
      ]
     },
     "execution_count": 21,
     "metadata": {},
     "output_type": "execute_result"
    }
   ],
   "source": [
    "#now sum\n",
    "torch.sum(softmaxed, dim=-1) #this seems about correct"
   ]
  },
  {
   "cell_type": "code",
   "execution_count": 22,
   "metadata": {},
   "outputs": [],
   "source": [
    "import torch.nn.functional as F\n",
    "def cross_entropy(logits, y, ignore_index=-100):\n",
    "    \"\"\"Cross entropy loss.\"\"\"\n",
    "    logits = logits.view(-1, logits.shape[-1])\n",
    "    y = y.view(-1)\n",
    "    return F.cross_entropy(logits, y, ignore_index=ignore_index) #ignore index is telling it to ignore non masked values"
   ]
  },
  {
   "cell_type": "code",
   "execution_count": 23,
   "metadata": {},
   "outputs": [
    {
     "data": {
      "text/plain": [
       "tensor(6.6700e-05, device='cuda:0')"
      ]
     },
     "execution_count": 23,
     "metadata": {},
     "output_type": "execute_result"
    }
   ],
   "source": [
    "loss = cross_entropy(output.logits, y, ignore_index=15629)\n",
    "loss"
   ]
  },
  {
   "cell_type": "code",
   "execution_count": 24,
   "metadata": {},
   "outputs": [
    {
     "data": {
      "text/plain": [
       "torch.Size([196608])"
      ]
     },
     "execution_count": 24,
     "metadata": {},
     "output_type": "execute_result"
    }
   ],
   "source": [
    "#ok so that's the overall loss, but let's back this up a bit\n",
    "#set reduction to none\n",
    "templogits = output.logits.view(-1, output.logits.shape[-1])\n",
    "tempy = y.view(-1)\n",
    "losses = F.cross_entropy(templogits, tempy, ignore_index=15629, reduction='none')\n",
    "losses.shape"
   ]
  },
  {
   "cell_type": "code",
   "execution_count": 26,
   "metadata": {},
   "outputs": [
    {
     "data": {
      "text/plain": [
       "tensor([15629,   458, 15629,  ..., 15629, 15629, 15629], device='cuda:0')"
      ]
     },
     "execution_count": 26,
     "metadata": {},
     "output_type": "execute_result"
    }
   ],
   "source": [
    "y.squeeze()"
   ]
  },
  {
   "cell_type": "code",
   "execution_count": 25,
   "metadata": {},
   "outputs": [
    {
     "data": {
      "text/plain": [
       "tensor([0.0000, 0.0342, 0.0000,  ..., 0.0000, 0.0000, 0.0000], device='cuda:0')"
      ]
     },
     "execution_count": 25,
     "metadata": {},
     "output_type": "execute_result"
    }
   ],
   "source": [
    "losses #where it's masked we don't even compute a loss! Where it is masked, we use the probability distribution to find what's up"
   ]
  },
  {
   "cell_type": "code",
   "execution_count": 27,
   "metadata": {},
   "outputs": [
    {
     "data": {
      "text/plain": [
       "tensor([ 8.4685, 10.1660,  7.1920,  ..., -6.4935, -6.6539, -7.1757],\n",
       "       device='cuda:0')"
      ]
     },
     "execution_count": 27,
     "metadata": {},
     "output_type": "execute_result"
    }
   ],
   "source": [
    "output.logits[0,1,:] #the variouis values"
   ]
  },
  {
   "cell_type": "code",
   "execution_count": 28,
   "metadata": {},
   "outputs": [
    {
     "data": {
      "text/plain": [
       "[<matplotlib.lines.Line2D at 0x2b39a3f3e550>]"
      ]
     },
     "execution_count": 28,
     "metadata": {},
     "output_type": "execute_result"
    },
    {
     "data": {
      "image/png": "[encoded data removed]",
      "text/plain": [
       "<Figure size 640x480 with 1 Axes>"
      ]
     },
     "metadata": {},
     "output_type": "display_data"
    }
   ],
   "source": [
    "#let's plot it\n",
    "plt.plot(output.logits[0,1,:].cpu().numpy())"
   ]
  },
  {
   "cell_type": "code",
   "execution_count": 29,
   "metadata": {},
   "outputs": [
    {
     "data": {
      "text/plain": [
       "[<matplotlib.lines.Line2D at 0x2b39a6018410>]"
      ]
     },
     "execution_count": 29,
     "metadata": {},
     "output_type": "execute_result"
    },
    {
     "data": {
      "image/png": "[encoded data removed]",
      "text/plain": [
       "<Figure size 640x480 with 1 Axes>"
      ]
     },
     "metadata": {},
     "output_type": "display_data"
    }
   ],
   "source": [
    "#and it softmaxed\n",
    "plt.plot(softmaxed[0,1,:].cpu().numpy()) #clealry only one value is even considered"
   ]
  },
  {
   "cell_type": "code",
   "execution_count": 31,
   "metadata": {},
   "outputs": [
    {
     "data": {
      "text/plain": [
       "tensor(458, device='cuda:0')"
      ]
     },
     "execution_count": 31,
     "metadata": {},
     "output_type": "execute_result"
    }
   ],
   "source": [
    "#the right answer is 458, let's see if it's the correct one\n",
    "#find the max index\n",
    "max_index = torch.argmax(softmaxed[0,1,:])\n",
    "max_index #yes indeed it is, so the model works and gets it correct and doesn't see the 458..."
   ]
  },
  {
   "cell_type": "code",
   "execution_count": null,
   "metadata": {},
   "outputs": [],
   "source": [
    "#oh my god I'm such an idiot. No wonder the perplexity is 1... we're doing overlapping kmers..."
   ]
  }
 ],
 "metadata": {
  "kernelspec": {
   "display_name": "Python 3 (ipykernel)",
   "language": "python",
   "name": "python3"
  },
  "language_info": {
   "codemirror_mode": {
    "name": "ipython",
    "version": 3
   },
   "file_extension": ".py",
   "mimetype": "text/x-python",
   "name": "python",
   "nbconvert_exporter": "python",
   "pygments_lexer": "ipython3",
   "version": "3.11.7"
  }
 },
 "nbformat": 4,
 "nbformat_minor": 2
}
