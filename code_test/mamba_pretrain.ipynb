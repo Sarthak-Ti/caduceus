{
 "cells": [
  {
   "cell_type": "code",
   "execution_count": 1,
   "metadata": {},
   "outputs": [
    {
     "name": "stdout",
     "output_type": "stream",
     "text": [
      "Using kmer genome with length 6\n"
     ]
    }
   ],
   "source": [
    "#we created the dataset, let's test it to see if it makes sense\n",
    "import sys\n",
    "sys.path.append('/data/leslie/sarthak/caduceus/')\n",
    "import src.dataloaders.datasets.kmer_pretrain_dataset as kmer_pretrain_dataset\n",
    "dataset = kmer_pretrain_dataset.KmerPretrain('train', 196608)"
   ]
  },
  {
   "cell_type": "code",
   "execution_count": 2,
   "metadata": {},
   "outputs": [
    {
     "name": "stdout",
     "output_type": "stream",
     "text": [
      "torch.Size([196608])\n",
      "torch.Size([196608])\n",
      "tensor([ 9406,   158,   790,  ..., 15628, 15628,   687])\n",
      "tensor([15629, 15629, 15629,  ...,  6902,  3262, 15629])\n",
      "[PAD]\n"
     ]
    }
   ],
   "source": [
    "out = dataset[0]\n",
    "print(out[0].shape)\n",
    "print(out[1].shape)\n",
    "print(out[0])\n",
    "print(out[1])\n",
    "print(dataset.tokenizer.decode(15629))"
   ]
  },
  {
   "cell_type": "code",
   "execution_count": 3,
   "metadata": {},
   "outputs": [
    {
     "data": {
      "text/plain": [
       "tensor([15629, 15629, 15629,  3950, 15629, 15629, 15629, 15629, 15629, 15629,\n",
       "        15629, 15629, 15629, 15629, 15629, 15629,  4126, 15629, 15629, 15629,\n",
       "        15629, 15629, 15629, 15629, 15629, 15629, 15629, 15629,  4126, 15629,\n",
       "        15629, 15629, 15629, 15629, 15629, 15629, 15629, 15629,   790, 15629,\n",
       "        15629, 15629, 15629,   158, 15629, 15629, 15629,  5006, 15629, 15629,\n",
       "        15629, 15629, 15629,  5006, 15629,   158, 15629, 15629, 15629, 15629,\n",
       "        15629, 15629, 15629, 15629, 15629, 15629,  9406, 15629, 15629, 15629,\n",
       "         4126, 15629, 15629, 15629, 15629, 15629, 15629, 15629, 15629, 15629,\n",
       "        15629, 15629, 15629, 15629,  9406, 15629, 15629, 15629,  4126, 15629,\n",
       "         9406, 15629, 15629, 15629, 15629,  5006, 15629, 15629, 15629, 15629])"
      ]
     },
     "execution_count": 3,
     "metadata": {},
     "output_type": "execute_result"
    }
   ],
   "source": [
    "out[1][:100]"
   ]
  },
  {
   "cell_type": "code",
   "execution_count": 4,
   "metadata": {},
   "outputs": [
    {
     "data": {
      "text/plain": [
       "tensor([ 9406,   158,   790, 15628,  4126,  5006,  9406,   158,   790,  3950,\n",
       "         4126,  5006,  9406,   158,   790,  3950,  9515,  5006,  9406,   158,\n",
       "          790,  3950,  4126,  5006,  9406,   158,   790,  3950, 15628,  5006,\n",
       "         9406,   158,   790,  3950,  4126,  5006,  9406,   158, 15628,  3950,\n",
       "         4126,  5006,  9406, 15628,   790,  3950,  4126,  5006,  9406,   158,\n",
       "          790,  3950,  4126, 15628,  9406, 15628,   790,  3950,  4126,  5006,\n",
       "         9406,   158,   790,  3950,  4126,  5006, 15628,   158,   790,  3950,\n",
       "        15628,  5006,  9406,   158,   790,  3950,  4126,  5006,  9406,   158,\n",
       "          790,  3950,  4126,  5006, 15628,   158,   790,  3950, 15628,  5006,\n",
       "         9406,   158,   790,  3950,  4126, 15628,  9406,   158,   790,  3950])"
      ]
     },
     "execution_count": 4,
     "metadata": {},
     "output_type": "execute_result"
    }
   ],
   "source": [
    "out[0][:100]"
   ]
  },
  {
   "cell_type": "code",
   "execution_count": 5,
   "metadata": {},
   "outputs": [
    {
     "name": "stdout",
     "output_type": "stream",
     "text": [
      "196608\n"
     ]
    }
   ],
   "source": [
    "#let's test mlm.get item\n",
    "#so we produce a sequence, let's just get that sequence\n",
    "idx = 0\n",
    "peak = dataset.data[idx]\n",
    "chrom = peak[0]\n",
    "center = int(peak[1])\n",
    "seq = dataset.genome[chrom][center-dataset.max_length//2:center+dataset.max_length//2]\n",
    "print(len(seq))"
   ]
  },
  {
   "cell_type": "code",
   "execution_count": 8,
   "metadata": {},
   "outputs": [
    {
     "data": {
      "text/plain": [
       "array([9406,  158,  790, 3950, 4126, 5006, 9406,  158,  790, 3950, 4126,\n",
       "       5006, 9406,  158,  790, 3950, 4126, 5006, 9406,  158,  790, 3950,\n",
       "       4126, 5006, 9406,  158,  790, 3950, 4126, 5006, 9406,  158,  790,\n",
       "       3950, 4126, 5006, 9406,  158,  790, 3950, 4126, 5006, 9406,  158,\n",
       "        790, 3950, 4126, 5006, 9406,  158,  790, 3950, 4126, 5006, 9406,\n",
       "        158,  790, 3950, 4126, 5006, 9406,  158,  790, 3950, 4126, 5006,\n",
       "       9406,  158,  790, 3950, 4126, 5006, 9406,  158,  790, 3950, 4126,\n",
       "       5006, 9406,  158,  790, 3950, 4126, 5006, 9406,  158,  790, 3950,\n",
       "       4126, 5006, 9406,  158,  790, 3950, 4126, 5006, 9406,  158,  790,\n",
       "       3950], dtype=int16)"
      ]
     },
     "execution_count": 8,
     "metadata": {},
     "output_type": "execute_result"
    }
   ],
   "source": [
    "seq[:100]"
   ]
  },
  {
   "cell_type": "code",
   "execution_count": 9,
   "metadata": {},
   "outputs": [
    {
     "name": "stdout",
     "output_type": "stream",
     "text": [
      "15632\n"
     ]
    }
   ],
   "source": [
    "#see seq is similar to the input data but slightly off\n",
    "#let's see an instance where it's off is like 4\n",
    "#there it's 3950, and that's what the target is, ahh as we expect\n",
    "#this means it's likely correct, so let's just use it\n",
    "#check number of elements in the tokenizer\n",
    "print(len(dataset.tokenizer))\n"
   ]
  }
 ],
 "metadata": {
  "kernelspec": {
   "display_name": "Python 3",
   "language": "python",
   "name": "python3"
  },
  "language_info": {
   "codemirror_mode": {
    "name": "ipython",
    "version": 3
   },
   "file_extension": ".py",
   "mimetype": "text/x-python",
   "name": "python",
   "nbconvert_exporter": "python",
   "pygments_lexer": "ipython3",
   "version": "3.11.7"
  }
 },
 "nbformat": 4,
 "nbformat_minor": 2
}
