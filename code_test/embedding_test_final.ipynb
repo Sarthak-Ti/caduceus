{
 "cells": [
  {
   "cell_type": "code",
   "execution_count": 1,
   "metadata": {},
   "outputs": [],
   "source": [
    "#i created a method to make sure it reuses the embeddings, we need to test to make sure it actually works\n",
    "\n",
    "import torch\n",
    "# import argparse\n",
    "# import os\n",
    "import sys\n",
    "import yaml \n",
    "from tqdm import tqdm\n",
    "# import json \n",
    "sys.path.append('/data/leslie/sarthak/hyena/hyena-dna/')\n",
    "# from src.dataloaders.datasets.DNase_dataset import DNaseDataset\n",
    "from src.tasks.decoders import SequenceDecoder\n",
    "import pytorch_lightning as pl\n",
    "from src.dataloaders.datasets.hg38_char_tokenizer import CharacterTokenizer\n",
    "from src.models.sequence.dna_embedding import DNAEmbeddingModel\n",
    "from torch.utils.data import DataLoader\n",
    "from src.dataloaders.datasets.ccre_dataset import CcreDataset\n",
    "from src.models.sequence.long_conv_lm import ConvLMHeadModel\n",
    "\n",
    "ckpt_path = '/data/leslie/sarthak/hyena/hyena-dna/outputs/2024-01-29/17-36-53-758146/checkpoints/last.ckpt'\n",
    "cfg = '/data/leslie/sarthak/hyena/hyena-dna/configs/evals/cCRE.yaml'\n",
    "tokenizer = CharacterTokenizer( #make sure to fix the tokenizer too\n",
    "    characters=['A', 'C', 'G', 'T', 'N'],\n",
    "    model_max_length=1024 + 2,  # add 2 since default adds eos/eos tokens, crop later\n",
    "    add_special_tokens=False,\n",
    "    padding_side='left'\n",
    ")\n",
    "# model = HG38Encoder(cfg, ckpt_path, 1024).eval()"
   ]
  },
  {
   "cell_type": "code",
   "execution_count": 3,
   "metadata": {},
   "outputs": [
    {
     "name": "stdout",
     "output_type": "stream",
     "text": [
      "**Using Char-level tokenizer**\n"
     ]
    }
   ],
   "source": [
    "class HG38Encoder:\n",
    "    \"Encoder inference for HG38 sequences\"\n",
    "    def __init__(self, model_cfg, ckpt_path, max_seq_len):\n",
    "        self.max_seq_len = max_seq_len\n",
    "        self.model, self.tokenizer = self.load_model(model_cfg, ckpt_path)\n",
    "        self.device = torch.device(\"cuda\" if torch.cuda.is_available() else \"cpu\")\n",
    "        self.model = self.model.to(self.device)\n",
    "\n",
    "    def encode(self, seqs):\n",
    "            \n",
    "        results = []\n",
    "\n",
    "        # sample code to loop thru each sample and tokenize first (char level)\n",
    "        for seq in tqdm(seqs):\n",
    "            \n",
    "            if isinstance(self.tokenizer, Tokenizer):\n",
    "                tokenized_seq = self.tokenizer.encode(seq).ids\n",
    "            else:\n",
    "                tokenized_seq = self.tokenizer.encode(seq)\n",
    "            \n",
    "            # can accept a batch, shape [B, seq_len, hidden_dim]\n",
    "            logits, __ = self.model(torch.tensor([tokenized_seq]).to(device=self.device))\n",
    "\n",
    "            # Using head, so just have logits\n",
    "            results.append(logits)\n",
    "\n",
    "        return results\n",
    "        \n",
    "            \n",
    "    def load_model(self, model_cfg, ckpt_path):\n",
    "        config = yaml.load(open(model_cfg, 'r'), Loader=yaml.FullLoader)\n",
    "        model = ConvLMHeadModel(**config['model_config'])\n",
    "        \n",
    "        state_dict = torch.load(ckpt_path, map_location='cpu')\n",
    "\n",
    "        # loads model from ddp by removing prexix to single if necessary\n",
    "        torch.nn.modules.utils.consume_prefix_in_state_dict_if_present(\n",
    "            state_dict[\"state_dict\"], \"model.\"\n",
    "        )\n",
    "\n",
    "        model_state_dict = state_dict[\"state_dict\"]\n",
    "\n",
    "        # need to remove torchmetrics. to remove keys, need to convert to list first\n",
    "        for key in list(model_state_dict.keys()):\n",
    "            if \"torchmetrics\" in key:\n",
    "                model_state_dict.pop(key)\n",
    "\n",
    "        model.load_state_dict(state_dict[\"state_dict\"])\n",
    "\n",
    "        # setup tokenizer\n",
    "        if config['tokenizer_name'] == 'char':\n",
    "            print(\"**Using Char-level tokenizer**\")\n",
    "\n",
    "            # add to vocab\n",
    "            tokenizer = CharacterTokenizer(\n",
    "                characters=['A', 'C', 'G', 'T', 'N'],\n",
    "                model_max_length=self.max_seq_len + 2,  # add 2 since default adds eos/eos tokens, crop later\n",
    "                add_special_tokens=False,\n",
    "            )\n",
    "            # print(tokenizer._vocab_str_to_int)\n",
    "        else:\n",
    "            raise NotImplementedError(\"You need to provide a custom tokenizer!\")\n",
    "\n",
    "        return model, tokenizer\n",
    "\n",
    "model = HG38Encoder(cfg, ckpt_path, 1024)"
   ]
  },
  {
   "cell_type": "code",
   "execution_count": 12,
   "metadata": {},
   "outputs": [
    {
     "data": {
      "text/plain": [
       "ConvLMHeadModel(\n",
       "  (backbone): LMBackbone(\n",
       "    (embeddings): GPT2Embeddings(\n",
       "      (word_embeddings): Embedding(16, 128)\n",
       "    )\n",
       "    (layers): ModuleList(\n",
       "      (0): Block(\n",
       "        (mixer): HyenaOperator(\n",
       "          (activation): Identity()\n",
       "          (dropout): Dropout(p=0.0, inplace=False)\n",
       "          (out_proj): Linear(in_features=128, out_features=128, bias=True)\n",
       "          (in_proj): Linear(in_features=128, out_features=384, bias=True)\n",
       "          (short_filter): Conv1d(384, 384, kernel_size=(3,), stride=(1,), padding=(2,), groups=384)\n",
       "          (filter_fn): HyenaFilter(\n",
       "            (dropout): Dropout(p=0.0, inplace=False)\n",
       "            (pos_emb): PositionalEmbedding()\n",
       "            (implicit_filter): Sequential(\n",
       "              (0): Linear(in_features=5, out_features=64, bias=True)\n",
       "              (1): Sin()\n",
       "              (2): Linear(in_features=64, out_features=64, bias=True)\n",
       "              (3): Sin()\n",
       "              (4): Linear(in_features=64, out_features=64, bias=True)\n",
       "              (5): Sin()\n",
       "              (6): Linear(in_features=64, out_features=128, bias=False)\n",
       "            )\n",
       "            (modulation): ExponentialModulation()\n",
       "          )\n",
       "        )\n",
       "        (dropout1): Dropout(p=0.1, inplace=False)\n",
       "        (drop_path1): StochasticDepth(p=0.0, mode=row)\n",
       "        (norm1): LayerNorm((128,), eps=1e-05, elementwise_affine=True)\n",
       "        (mlp): Mlp(\n",
       "          (fc1): Linear(in_features=128, out_features=512, bias=True)\n",
       "          (fc2): Linear(in_features=512, out_features=128, bias=True)\n",
       "        )\n",
       "        (dropout2): Dropout(p=0.0, inplace=False)\n",
       "        (drop_path2): StochasticDepth(p=0.0, mode=row)\n",
       "        (norm2): LayerNorm((128,), eps=1e-05, elementwise_affine=True)\n",
       "      )\n",
       "      (1): Block(\n",
       "        (mixer): HyenaOperator(\n",
       "          (activation): Identity()\n",
       "          (dropout): Dropout(p=0.0, inplace=False)\n",
       "          (out_proj): Linear(in_features=128, out_features=128, bias=True)\n",
       "          (in_proj): Linear(in_features=128, out_features=384, bias=True)\n",
       "          (short_filter): Conv1d(384, 384, kernel_size=(3,), stride=(1,), padding=(2,), groups=384)\n",
       "          (filter_fn): HyenaFilter(\n",
       "            (dropout): Dropout(p=0.0, inplace=False)\n",
       "            (pos_emb): PositionalEmbedding()\n",
       "            (implicit_filter): Sequential(\n",
       "              (0): Linear(in_features=5, out_features=64, bias=True)\n",
       "              (1): Sin()\n",
       "              (2): Linear(in_features=64, out_features=64, bias=True)\n",
       "              (3): Sin()\n",
       "              (4): Linear(in_features=64, out_features=64, bias=True)\n",
       "              (5): Sin()\n",
       "              (6): Linear(in_features=64, out_features=128, bias=False)\n",
       "            )\n",
       "            (modulation): ExponentialModulation()\n",
       "          )\n",
       "        )\n",
       "        (dropout1): Dropout(p=0.0, inplace=False)\n",
       "        (drop_path1): StochasticDepth(p=0.0, mode=row)\n",
       "        (norm1): LayerNorm((128,), eps=1e-05, elementwise_affine=True)\n",
       "        (mlp): Mlp(\n",
       "          (fc1): Linear(in_features=128, out_features=512, bias=True)\n",
       "          (fc2): Linear(in_features=512, out_features=128, bias=True)\n",
       "        )\n",
       "        (dropout2): Dropout(p=0.0, inplace=False)\n",
       "        (drop_path2): StochasticDepth(p=0.0, mode=row)\n",
       "        (norm2): LayerNorm((128,), eps=1e-05, elementwise_affine=True)\n",
       "      )\n",
       "    )\n",
       "    (drop_f): Dropout(p=0.0, inplace=False)\n",
       "    (ln_f): LayerNorm((128,), eps=1e-05, elementwise_affine=True)\n",
       "  )\n",
       "  (lm_head): Linear(in_features=128, out_features=16, bias=False)\n",
       ")"
      ]
     },
     "execution_count": 12,
     "metadata": {},
     "output_type": "execute_result"
    }
   ],
   "source": [
    "model.model"
   ]
  },
  {
   "cell_type": "code",
   "execution_count": 6,
   "metadata": {},
   "outputs": [
    {
     "data": {
      "text/plain": [
       "Embedding(16, 128)"
      ]
     },
     "execution_count": 6,
     "metadata": {},
     "output_type": "execute_result"
    }
   ],
   "source": [
    "model.model.backbone.embeddings.word_embeddings"
   ]
  },
  {
   "cell_type": "code",
   "execution_count": 7,
   "metadata": {},
   "outputs": [
    {
     "data": {
      "text/plain": [
       "Parameter containing:\n",
       "tensor([[ 1.0241, -0.3313,  1.4194,  ...,  1.1764,  0.9868, -1.3454],\n",
       "        [ 0.5616, -1.6004,  0.9799,  ...,  0.5916,  0.6237, -0.9597],\n",
       "        [ 1.0241, -0.3313,  1.4194,  ...,  1.1764,  0.9868, -1.3454],\n",
       "        ...,\n",
       "        [ 1.0241, -0.3313,  1.4194,  ...,  1.1764,  0.9868, -1.3454],\n",
       "        [ 1.0241, -0.3313,  1.4194,  ...,  1.1764,  0.9868, -1.3454],\n",
       "        [ 1.0241, -0.3313,  1.4194,  ...,  1.1764,  0.9868, -1.3454]],\n",
       "       device='cuda:0', requires_grad=True)"
      ]
     },
     "execution_count": 7,
     "metadata": {},
     "output_type": "execute_result"
    }
   ],
   "source": [
    "model.model.backbone.embeddings.word_embeddings.weight"
   ]
  },
  {
   "cell_type": "code",
   "execution_count": 9,
   "metadata": {},
   "outputs": [
    {
     "data": {
      "text/plain": [
       "Embedding(16, 128)"
      ]
     },
     "execution_count": 9,
     "metadata": {},
     "output_type": "execute_result"
    }
   ],
   "source": [
    "#load in the og embeddings\n",
    "e_og = torch.load('/data/leslie/sarthak/data/og_embeddings.pt')\n",
    "e_og"
   ]
  },
  {
   "cell_type": "code",
   "execution_count": 11,
   "metadata": {},
   "outputs": [
    {
     "data": {
      "text/plain": [
       "True"
      ]
     },
     "execution_count": 11,
     "metadata": {},
     "output_type": "execute_result"
    }
   ],
   "source": [
    "torch.allclose(e_og.weight, model.model.backbone.embeddings.word_embeddings.weight.cpu()) #seems our new approach is good, old approach is ass"
   ]
  },
  {
   "cell_type": "code",
   "execution_count": 14,
   "metadata": {},
   "outputs": [
    {
     "data": {
      "text/plain": [
       "Linear(in_features=128, out_features=16, bias=False)"
      ]
     },
     "execution_count": 14,
     "metadata": {},
     "output_type": "execute_result"
    }
   ],
   "source": [
    "model.model.lm_head #this is the linear layer that we map it to, should match the og embeddings, coool!!"
   ]
  },
  {
   "cell_type": "code",
   "execution_count": 17,
   "metadata": {},
   "outputs": [
    {
     "data": {
      "text/plain": [
       "True"
      ]
     },
     "execution_count": 17,
     "metadata": {},
     "output_type": "execute_result"
    }
   ],
   "source": [
    "torch.allclose(e_og.weight, model.model.lm_head.weight.cpu()) #ok this is cool!!"
   ]
  },
  {
   "cell_type": "code",
   "execution_count": 15,
   "metadata": {},
   "outputs": [
    {
     "data": {
      "text/plain": [
       "Parameter containing:\n",
       "tensor([[ 1.0241, -0.3313,  1.4194,  ...,  1.1764,  0.9868, -1.3454],\n",
       "        [ 0.5616, -1.6004,  0.9799,  ...,  0.5916,  0.6237, -0.9597],\n",
       "        [ 1.0241, -0.3313,  1.4194,  ...,  1.1764,  0.9868, -1.3454],\n",
       "        ...,\n",
       "        [ 1.0241, -0.3313,  1.4194,  ...,  1.1764,  0.9868, -1.3454],\n",
       "        [ 1.0241, -0.3313,  1.4194,  ...,  1.1764,  0.9868, -1.3454],\n",
       "        [ 1.0241, -0.3313,  1.4194,  ...,  1.1764,  0.9868, -1.3454]],\n",
       "       device='cuda:0', requires_grad=True)"
      ]
     },
     "execution_count": 15,
     "metadata": {},
     "output_type": "execute_result"
    }
   ],
   "source": [
    "model.model.lm_head.weight"
   ]
  },
  {
   "cell_type": "code",
   "execution_count": 18,
   "metadata": {},
   "outputs": [
    {
     "name": "stdout",
     "output_type": "stream",
     "text": [
      "tensor(3)\n"
     ]
    }
   ],
   "source": [
    "a = torch.tensor(3)\n",
    "a.cuda()\n",
    "print(a)"
   ]
  }
 ],
 "metadata": {
  "kernelspec": {
   "display_name": "Python 3 (ipykernel)",
   "language": "python",
   "name": "python3"
  },
  "language_info": {
   "codemirror_mode": {
    "name": "ipython",
    "version": 3
   },
   "file_extension": ".py",
   "mimetype": "text/x-python",
   "name": "python",
   "nbconvert_exporter": "python",
   "pygments_lexer": "ipython3",
   "version": "3.11.7"
  }
 },
 "nbformat": 4,
 "nbformat_minor": 2
}
