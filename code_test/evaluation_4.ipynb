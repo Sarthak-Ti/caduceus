{
 "cells": [
  {
   "cell_type": "markdown",
   "metadata": {},
   "source": [
    "# evaluation_4\n",
    "## 3/21/24\n",
    "This file contains the code to evaluate the models that do both classification and regression, we will implement a unique evals.utils file, that we can then put back in the evals.utils as a separate one for classification, or we just modify it to work regardless, that may be better, have to think of unique approaches"
   ]
  },
  {
   "cell_type": "code",
   "execution_count": 1,
   "metadata": {},
   "outputs": [],
   "source": [
    "#first let's decide on which models to use\n",
    "#we started training yesterday, so only 3 epochs on ctst model and 100 on multitasking, use most recent ctst, but can use any decent multitasking\n",
    "#for the ctst it is\n",
    "ctst_path = '/data/leslie/sarthak/hyena/hyena-dna/outputs/2024-03-20/16-22-11-658258/checkpoints/02-val_loss=0.40410.ckpt'\n",
    "#and for multitasking\n",
    "multitasking_path = '/data/leslie/sarthak/hyena/hyena-dna/outputs/2024-03-20/22-26-03-326937/checkpoints/138-val_loss=0.37743.ckpt'\n",
    "#now let's define our utils\n"
   ]
  },
  {
   "cell_type": "code",
   "execution_count": 6,
   "metadata": {},
   "outputs": [],
   "source": [
    "\n",
    "import torch\n",
    "# import argparse\n",
    "# import os\n",
    "import sys\n",
    "import yaml \n",
    "from tqdm import tqdm\n",
    "# import json \n",
    "sys.path.append('/data/leslie/sarthak/hyena/hyena-dna/')\n",
    "# from src.dataloaders.datasets.DNase_dataset import DNaseDataset\n",
    "from src.tasks.decoders import SequenceDecoder\n",
    "import pytorch_lightning as pl\n",
    "from src.dataloaders.datasets.hg38_char_tokenizer import CharacterTokenizer\n",
    "from src.models.sequence.dna_embedding import DNAEmbeddingModel\n",
    "from torch.utils.data import DataLoader\n",
    "from src.dataloaders.datasets.ccre_dataset import CcreDataset\n",
    "from src.models.sequence.long_conv_lm import ConvLMHeadModel\n",
    "\n",
    "class Evals():\n",
    "    def __init__(self, model_type, ckpt_path, filter=True, cfg = None, classification=True):\n",
    "        #model type is like ccre, DNase, DNase_ctst etc.\n",
    "        #ckpt_path is the path to the model checkpoint\n",
    "        #filter is a boolean which is true if you want to filter the dataset to only include the cell types present in the training set\n",
    "        #cfg is the path to the config file, if it's not provided, it will be inferred from the model type, but if you need a specific config, this is good to provide\n",
    "        type_list = ['ccre', 'DNase_ctst', 'DNase_allcelltypes', 'DNase']\n",
    "        if model_type not in type_list:\n",
    "            raise ValueError('Model type not recognized')\n",
    "        self.model_type = model_type   \n",
    "        self.filter = filter\n",
    "        self.classification = classification\n",
    "        self.ckpt_path = ckpt_path\n",
    "        self.device = torch.device(\"cuda\" if torch.cuda.is_available() else \"cpu\")\n",
    "        self.cfg = cfg #this is for if we want to define a separate one\n",
    "        self.tokenizer = self.setup_tokenizer()\n",
    "        self.setup_model()\n",
    "        self.dataset = self.setup_dataset()\n",
    "        \n",
    "        \n",
    "    def setup_tokenizer(self):\n",
    "        model_type = self.model_type\n",
    "        acgtn_list = ['ccre', 'DNase_ctst', 'DNase_allcelltypes']\n",
    "        extra_list = ['DNase']\n",
    "        if model_type in acgtn_list:\n",
    "            tokenizer = CharacterTokenizer( #make sure to fix the tokenizer too\n",
    "                characters=['A', 'C', 'G', 'T', 'N'],\n",
    "                model_max_length=1024 + 2,  # add 2 since default adds eos/eos tokens, crop later\n",
    "                add_special_tokens=False,\n",
    "                padding_side='left'\n",
    "            )\n",
    "            return tokenizer\n",
    "        else:\n",
    "            tokenizer = CharacterTokenizer( #make sure to fix the tokenizer too\n",
    "                characters=['A', 'C', 'G', 'T', 'N', 'S', 'U', 'V', 'W', 'X', 'Y', 'Z'],\n",
    "                model_max_length=1024 + 2,  # add 2 since default adds eos/eos tokens, crop later\n",
    "                add_special_tokens=False,\n",
    "                padding_side='left'\n",
    "            )\n",
    "            return tokenizer\n",
    "        \n",
    "    def setup_model(self):\n",
    "        model_type = self.model_type\n",
    "        if model_type == 'ccre':\n",
    "            cfg = '/data/leslie/sarthak/hyena/hyena-dna/configs/evals/ccre.yaml'\n",
    "            self.model = HG38Encoder(cfg, self.ckpt_path, 1024).eval()\n",
    "        elif model_type == 'DNase_ctst':\n",
    "            if self.classification:\n",
    "                cfg = '/data/leslie/sarthak/hyena/hyena-dna/configs/evals/DNase_ctst_classification.yaml'\n",
    "            else:\n",
    "                cfg = '/data/leslie/sarthak/hyena/hyena-dna/configs/evals/DNase_ctst.yaml'\n",
    "            self.regression_head(cfg, adjust_embedding=False) #new 171 dimensional vocab and lm head size\n",
    "        elif model_type == 'DNase_allcelltypes':\n",
    "            if self.classification:\n",
    "                cfg = '/data/leslie/sarthak/hyena/hyena-dna/configs/evals/DNase_allcelltypes_classification.yaml'\n",
    "            else:\n",
    "                cfg = '/data/leslie/sarthak/hyena/hyena-dna/configs/evals/DNase_allcelltypes.yaml'\n",
    "            self.regression_head(cfg, adjust_embedding=False) #original 16 dimensional vocab and lm head size\n",
    "        elif model_type == 'DNase':\n",
    "            cfg = '/data/leslie/sarthak/hyena/hyena-dna/configs/evals/DNase.yaml'\n",
    "            self.regression_head(cfg, adjust_embedding=True) #20 dimensional input but 16 output lm size\n",
    "    \n",
    "    def setup_dataset(self):\n",
    "        model_type = self.model_type\n",
    "        if model_type == 'ccre':\n",
    "            dataset = CcreDataset(max_length = 1024, split = 'test', tokenizer=self.tokenizer, rc_aug = False, tokenizer_name='char', add_eos='True')\n",
    "            return dataset\n",
    "        elif model_type == 'DNase':\n",
    "            from src.dataloaders.datasets.DNase_dataset import DNaseDataset\n",
    "            dataset = DNaseDataset(max_length = 1024, split = 'test', tokenizer=self.tokenizer, rc_aug = False, tokenizer_name='char', add_eos='True', filter = self.filter, classification=self.classification)\n",
    "            return dataset\n",
    "        elif model_type == 'DNase_ctst':\n",
    "            from src.dataloaders.datasets.DNase_ctst_dataset import DNaseCtstDataset\n",
    "            dataset = DNaseCtstDataset(max_length = 1024, split = 'test', tokenizer=self.tokenizer, rc_aug = False, tokenizer_name='char', add_eos='True', filter = self.filter, classification=self.classification)\n",
    "            return dataset\n",
    "        elif model_type == 'DNase_allcelltypes':\n",
    "            from src.dataloaders.datasets.DNase_allcelltypes import DNaseAllCellTypeDataset\n",
    "            dataset = DNaseAllCellTypeDataset(max_length = 1024, split = 'test', tokenizer=self.tokenizer, rc_aug = False, tokenizer_name='char', add_eos='True', filter = self.filter, classification=self.classification)\n",
    "            return dataset\n",
    "        \n",
    "    def regression_head(self, cfg, adjust_embedding=False):\n",
    "        if self.cfg is None:\n",
    "            cfg = yaml.load(open(cfg, 'r'), Loader=yaml.FullLoader)\n",
    "        else:\n",
    "            cfg = '/data/leslie/sarthak/hyena/hyena-dna/configs/evals/' + self.cfg\n",
    "            cfg = yaml.load(open(cfg, 'r'), Loader=yaml.FullLoader)\n",
    "        train_cfg = cfg['train']  # grab section `train` section of config\n",
    "        model_cfg = cfg['model_config']  # grab the `model` section of config\n",
    "        d_output = train_cfg['d_output']  #TODO make it so that we just adjust this with self.classificaiton, no need for evals\n",
    "        backbone = DNAEmbeddingModel(**model_cfg)\n",
    "        decoder = SequenceDecoder(model_cfg['d_model'], d_output=d_output, l_output=0, mode='pool')\n",
    "        state_dict = torch.load(self.ckpt_path, map_location='cpu')  # has both backbone and decoder\n",
    "        # loads model from ddp by removing prexix to single if necessary\n",
    "        torch.nn.modules.utils.consume_prefix_in_state_dict_if_present(\n",
    "            state_dict[\"state_dict\"], \"model.\"\n",
    "        )\n",
    "        model_state_dict = state_dict[\"state_dict\"]\n",
    "        # need to remove torchmetrics. to remove keys, need to convert to list first\n",
    "        for key in list(model_state_dict.keys()):\n",
    "            if \"torchmetrics\" in key:\n",
    "                model_state_dict.pop(key)\n",
    "        # the state_dict keys slightly mismatch from Lightning..., so we fix it here\n",
    "        decoder_state_dict = {}\n",
    "        decoder_state_dict['output_transform.weight'] = model_state_dict.pop('decoder.0.output_transform.weight')\n",
    "        decoder_state_dict['output_transform.bias'] = model_state_dict.pop('decoder.0.output_transform.bias')\n",
    "        if adjust_embedding:\n",
    "            embedding = torch.nn.Embedding(20, 128)\n",
    "            backbone.backbone.embeddings.word_embeddings = embedding\n",
    "        # now actually load the state dict to the decoder and backbone separately\n",
    "        decoder.load_state_dict(decoder_state_dict, strict=True)\n",
    "        backbone.load_state_dict(model_state_dict, strict=True)\n",
    "        self.decoder = decoder.to(self.device).eval()\n",
    "        self.backbone = backbone.to(self.device).eval()\n",
    "        \n",
    "    def evaluate(self, batch_size=4096, num_workers=4):\n",
    "        if self.model_type == 'ccre':\n",
    "            targets = torch.zeros((len(self.dataset), 1023))\n",
    "            predicts = torch.zeros((len(self.dataset), 1023))\n",
    "            ccre = DataLoader(self.dataset, batch_size=4096, shuffle=False, num_workers=4) #results are identical even if you shuffle, obviously since it's just the mean\n",
    "            with torch.no_grad():\n",
    "                idx = 0\n",
    "                for i, batch in tqdm(enumerate(ccre), total = len(ccre)):\n",
    "                    seq, target = batch\n",
    "                    seq = seq.unsqueeze(0)\n",
    "                    seq = seq.to(self.device)\n",
    "                    b_size = seq.shape[0]\n",
    "                    y_hat = self.model.encode(seq)\n",
    "                    y_hat = y_hat[0].logits[0,:,:]\n",
    "                    targets[idx:b_size+idx,:] = target\n",
    "                    predicts[idx:b_size+idx,:] = y_hat.detach().cpu()\n",
    "                    idx += b_size\n",
    "        elif self.model_type == 'DNase' or self.model_type == 'DNase_ctst': #this does the flatten then reshape\n",
    "            targets_flat = torch.zeros(len(self.dataset)) #because output is just a single value, it's so obvious it's kind of stupid\n",
    "            predicts_flat = torch.zeros(len(self.dataset))\n",
    "            DNase = DataLoader(self.dataset, batch_size=batch_size, shuffle=False, num_workers=num_workers) #results are identical even if you shuffle, obviously since it's just the mean\n",
    "            with torch.no_grad():\n",
    "                idx = 0\n",
    "                for i, batch in tqdm(enumerate(DNase), total = len(DNase)):\n",
    "                    seq, target = batch\n",
    "                    seq = seq.to(self.device)\n",
    "                    b_size = seq.shape[0]\n",
    "                    # target = target.to(device)\n",
    "                    y_hat, _ = self.backbone(seq)\n",
    "                    y_hat = self.decoder(y_hat)\n",
    "                    # print(y_hat)\n",
    "                    # print(target)\n",
    "                    targets_flat[idx:b_size+idx] = target.squeeze()\n",
    "                    predicts_flat[idx:b_size+idx] = y_hat.detach().cpu().squeeze()\n",
    "                    idx += b_size\n",
    "                    # if i == 5:\n",
    "                    #     break\n",
    "            targets = targets_flat.reshape(-1, self.dataset.cell_types)\n",
    "            predicts = predicts_flat.reshape(-1, self.dataset.cell_types)\n",
    "            return targets, predicts\n",
    "        elif self.model_type == 'DNase_allcelltypes':\n",
    "            targets = torch.zeros((len(self.dataset), 161))\n",
    "            predicts = torch.zeros((len(self.dataset), 161))\n",
    "            DNase = DataLoader(self.dataset, batch_size=batch_size, shuffle=False, num_workers=num_workers) #results are identical even if you shuffle, obviously since it's just the mean\n",
    "            with torch.no_grad():\n",
    "                idx = 0\n",
    "                for i, batch in tqdm(enumerate(DNase), total = len(DNase)):\n",
    "                    seq, target = batch\n",
    "                    seq = seq.to(self.device)\n",
    "                    b_size = seq.shape[0]\n",
    "                    # target = target.to(device)\n",
    "                    y_hat, _ = self.backbone(seq)\n",
    "                    y_hat = self.decoder(y_hat)\n",
    "                    # print(y_hat)\n",
    "                    # print(target)\n",
    "                    targets[idx:b_size+idx,:] = target\n",
    "                    predicts[idx:b_size+idx,:] = y_hat.detach().cpu()\n",
    "                    idx += b_size\n",
    "            return targets, predicts"
   ]
  },
  {
   "cell_type": "code",
   "execution_count": 7,
   "metadata": {},
   "outputs": [
    {
     "data": {
      "text/plain": [
       "DNAEmbeddingModel(\n",
       "  (backbone): LMBackbone(\n",
       "    (embeddings): GPT2Embeddings(\n",
       "      (word_embeddings): Embedding(180, 128)\n",
       "    )\n",
       "    (layers): ModuleList(\n",
       "      (0): Block(\n",
       "        (mixer): HyenaOperator(\n",
       "          (activation): Identity()\n",
       "          (dropout): Dropout(p=0.0, inplace=False)\n",
       "          (out_proj): Linear(in_features=128, out_features=128, bias=True)\n",
       "          (in_proj): Linear(in_features=128, out_features=384, bias=True)\n",
       "          (short_filter): Conv1d(384, 384, kernel_size=(3,), stride=(1,), padding=(2,), groups=384)\n",
       "          (filter_fn): HyenaFilter(\n",
       "            (dropout): Dropout(p=0.0, inplace=False)\n",
       "            (pos_emb): PositionalEmbedding()\n",
       "            (implicit_filter): Sequential(\n",
       "              (0): Linear(in_features=5, out_features=64, bias=True)\n",
       "              (1): Sin()\n",
       "              (2): Linear(in_features=64, out_features=64, bias=True)\n",
       "              (3): Sin()\n",
       "              (4): Linear(in_features=64, out_features=64, bias=True)\n",
       "              (5): Sin()\n",
       "              (6): Linear(in_features=64, out_features=128, bias=False)\n",
       "            )\n",
       "            (modulation): ExponentialModulation()\n",
       "          )\n",
       "        )\n",
       "        (dropout1): Dropout(p=0.1, inplace=False)\n",
       "        (drop_path1): StochasticDepth(p=0.0, mode=row)\n",
       "        (norm1): LayerNorm((128,), eps=1e-05, elementwise_affine=True)\n",
       "        (mlp): Mlp(\n",
       "          (fc1): Linear(in_features=128, out_features=512, bias=True)\n",
       "          (fc2): Linear(in_features=512, out_features=128, bias=True)\n",
       "        )\n",
       "        (dropout2): Dropout(p=0.0, inplace=False)\n",
       "        (drop_path2): StochasticDepth(p=0.0, mode=row)\n",
       "        (norm2): LayerNorm((128,), eps=1e-05, elementwise_affine=True)\n",
       "      )\n",
       "      (1): Block(\n",
       "        (mixer): HyenaOperator(\n",
       "          (activation): Identity()\n",
       "          (dropout): Dropout(p=0.0, inplace=False)\n",
       "          (out_proj): Linear(in_features=128, out_features=128, bias=True)\n",
       "          (in_proj): Linear(in_features=128, out_features=384, bias=True)\n",
       "          (short_filter): Conv1d(384, 384, kernel_size=(3,), stride=(1,), padding=(2,), groups=384)\n",
       "          (filter_fn): HyenaFilter(\n",
       "            (dropout): Dropout(p=0.0, inplace=False)\n",
       "            (pos_emb): PositionalEmbedding()\n",
       "            (implicit_filter): Sequential(\n",
       "              (0): Linear(in_features=5, out_features=64, bias=True)\n",
       "              (1): Sin()\n",
       "              (2): Linear(in_features=64, out_features=64, bias=True)\n",
       "              (3): Sin()\n",
       "              (4): Linear(in_features=64, out_features=64, bias=True)\n",
       "              (5): Sin()\n",
       "              (6): Linear(in_features=64, out_features=128, bias=False)\n",
       "            )\n",
       "            (modulation): ExponentialModulation()\n",
       "          )\n",
       "        )\n",
       "        (dropout1): Dropout(p=0.0, inplace=False)\n",
       "        (drop_path1): StochasticDepth(p=0.0, mode=row)\n",
       "        (norm1): LayerNorm((128,), eps=1e-05, elementwise_affine=True)\n",
       "        (mlp): Mlp(\n",
       "          (fc1): Linear(in_features=128, out_features=512, bias=True)\n",
       "          (fc2): Linear(in_features=512, out_features=128, bias=True)\n",
       "        )\n",
       "        (dropout2): Dropout(p=0.0, inplace=False)\n",
       "        (drop_path2): StochasticDepth(p=0.0, mode=row)\n",
       "        (norm2): LayerNorm((128,), eps=1e-05, elementwise_affine=True)\n",
       "      )\n",
       "    )\n",
       "    (drop_f): Dropout(p=0.0, inplace=False)\n",
       "    (ln_f): LayerNorm((128,), eps=1e-05, elementwise_affine=True)\n",
       "  )\n",
       "  (lm_head): Linear(in_features=128, out_features=180, bias=False)\n",
       ")"
      ]
     },
     "execution_count": 7,
     "metadata": {},
     "output_type": "execute_result"
    }
   ],
   "source": [
    "#have to adjust the eval function, but for now let's test to see if we can load\n",
    "ctst = Evals('DNase_ctst', ctst_path, filter=True, classification=True)\n",
    "#let's check the model\n",
    "ctst.backbone"
   ]
  },
  {
   "cell_type": "code",
   "execution_count": 8,
   "metadata": {},
   "outputs": [
    {
     "name": "stdout",
     "output_type": "stream",
     "text": [
      "(tensor([0]), tensor([-10.]))\n"
     ]
    }
   ],
   "source": [
    "a,b = ctst.dataset[0]\n",
    "print(b)"
   ]
  },
  {
   "cell_type": "code",
   "execution_count": 9,
   "metadata": {},
   "outputs": [
    {
     "name": "stdout",
     "output_type": "stream",
     "text": [
      "tensor([[3.7671, 0.5146]], grad_fn=<AddmmBackward0>)\n"
     ]
    }
   ],
   "source": [
    "out,_ = ctst.backbone(a.unsqueeze(0))\n",
    "out2 = ctst.decoder(out)\n",
    "print(out2)\n",
    "#a really bad prediction because it is saying a high number when should be low..."
   ]
  },
  {
   "cell_type": "code",
   "execution_count": 11,
   "metadata": {},
   "outputs": [
    {
     "data": {
      "text/plain": [
       "DNAEmbeddingModel(\n",
       "  (backbone): LMBackbone(\n",
       "    (embeddings): GPT2Embeddings(\n",
       "      (word_embeddings): Embedding(16, 128)\n",
       "    )\n",
       "    (layers): ModuleList(\n",
       "      (0): Block(\n",
       "        (mixer): HyenaOperator(\n",
       "          (activation): Identity()\n",
       "          (dropout): Dropout(p=0.0, inplace=False)\n",
       "          (out_proj): Linear(in_features=128, out_features=128, bias=True)\n",
       "          (in_proj): Linear(in_features=128, out_features=384, bias=True)\n",
       "          (short_filter): Conv1d(384, 384, kernel_size=(3,), stride=(1,), padding=(2,), groups=384)\n",
       "          (filter_fn): HyenaFilter(\n",
       "            (dropout): Dropout(p=0.0, inplace=False)\n",
       "            (pos_emb): PositionalEmbedding()\n",
       "            (implicit_filter): Sequential(\n",
       "              (0): Linear(in_features=5, out_features=64, bias=True)\n",
       "              (1): Sin()\n",
       "              (2): Linear(in_features=64, out_features=64, bias=True)\n",
       "              (3): Sin()\n",
       "              (4): Linear(in_features=64, out_features=64, bias=True)\n",
       "              (5): Sin()\n",
       "              (6): Linear(in_features=64, out_features=128, bias=False)\n",
       "            )\n",
       "            (modulation): ExponentialModulation()\n",
       "          )\n",
       "        )\n",
       "        (dropout1): Dropout(p=0.1, inplace=False)\n",
       "        (drop_path1): StochasticDepth(p=0.0, mode=row)\n",
       "        (norm1): LayerNorm((128,), eps=1e-05, elementwise_affine=True)\n",
       "        (mlp): Mlp(\n",
       "          (fc1): Linear(in_features=128, out_features=512, bias=True)\n",
       "          (fc2): Linear(in_features=512, out_features=128, bias=True)\n",
       "        )\n",
       "        (dropout2): Dropout(p=0.0, inplace=False)\n",
       "        (drop_path2): StochasticDepth(p=0.0, mode=row)\n",
       "        (norm2): LayerNorm((128,), eps=1e-05, elementwise_affine=True)\n",
       "      )\n",
       "      (1): Block(\n",
       "        (mixer): HyenaOperator(\n",
       "          (activation): Identity()\n",
       "          (dropout): Dropout(p=0.0, inplace=False)\n",
       "          (out_proj): Linear(in_features=128, out_features=128, bias=True)\n",
       "          (in_proj): Linear(in_features=128, out_features=384, bias=True)\n",
       "          (short_filter): Conv1d(384, 384, kernel_size=(3,), stride=(1,), padding=(2,), groups=384)\n",
       "          (filter_fn): HyenaFilter(\n",
       "            (dropout): Dropout(p=0.0, inplace=False)\n",
       "            (pos_emb): PositionalEmbedding()\n",
       "            (implicit_filter): Sequential(\n",
       "              (0): Linear(in_features=5, out_features=64, bias=True)\n",
       "              (1): Sin()\n",
       "              (2): Linear(in_features=64, out_features=64, bias=True)\n",
       "              (3): Sin()\n",
       "              (4): Linear(in_features=64, out_features=64, bias=True)\n",
       "              (5): Sin()\n",
       "              (6): Linear(in_features=64, out_features=128, bias=False)\n",
       "            )\n",
       "            (modulation): ExponentialModulation()\n",
       "          )\n",
       "        )\n",
       "        (dropout1): Dropout(p=0.0, inplace=False)\n",
       "        (drop_path1): StochasticDepth(p=0.0, mode=row)\n",
       "        (norm1): LayerNorm((128,), eps=1e-05, elementwise_affine=True)\n",
       "        (mlp): Mlp(\n",
       "          (fc1): Linear(in_features=128, out_features=512, bias=True)\n",
       "          (fc2): Linear(in_features=512, out_features=128, bias=True)\n",
       "        )\n",
       "        (dropout2): Dropout(p=0.0, inplace=False)\n",
       "        (drop_path2): StochasticDepth(p=0.0, mode=row)\n",
       "        (norm2): LayerNorm((128,), eps=1e-05, elementwise_affine=True)\n",
       "      )\n",
       "    )\n",
       "    (drop_f): Dropout(p=0.0, inplace=False)\n",
       "    (ln_f): LayerNorm((128,), eps=1e-05, elementwise_affine=True)\n",
       "  )\n",
       "  (lm_head): Linear(in_features=128, out_features=16, bias=False)\n",
       ")"
      ]
     },
     "execution_count": 11,
     "metadata": {},
     "output_type": "execute_result"
    }
   ],
   "source": [
    "#since it's closed, we never calculated mse\n",
    "#but now let's try the multitasking model\n",
    "multitasking = Evals('DNase_allcelltypes', multitasking_path, filter=True, classification=True)\n",
    "multitasking.backbone"
   ]
  },
  {
   "cell_type": "code",
   "execution_count": 12,
   "metadata": {},
   "outputs": [
    {
     "name": "stdout",
     "output_type": "stream",
     "text": [
      "(tensor([0, 1, 0, 0, 1, 0, 1, 1, 1, 1, 1, 1, 0, 0, 0, 0, 0, 0, 0, 1, 1, 0, 0, 1,\n",
      "        0, 0, 0, 1, 1, 0, 0, 0, 1, 0, 0, 1, 1, 1, 1, 0, 0, 0, 0, 0, 0, 1, 0, 1,\n",
      "        0, 0, 0, 1, 0, 1, 0, 1, 1, 1, 0, 0, 1, 0, 1, 0, 1, 0, 0, 0, 0, 0, 0, 0,\n",
      "        0, 0, 1, 1, 0, 0, 0, 0, 0, 1, 0, 1, 1, 1, 1, 1, 0, 1, 1, 1, 0, 0, 1, 0,\n",
      "        0, 1, 0, 0, 0, 0, 1, 1, 1, 1, 1, 1, 1, 1, 0, 0, 0, 1, 1, 0, 0, 0, 0, 1,\n",
      "        0, 0, 0, 1, 1, 0, 1, 1, 1, 1, 1, 0, 1, 1, 0, 1, 1, 1, 0, 1, 0, 0, 0, 1,\n",
      "        0, 0, 0, 1, 1, 1, 0, 0, 0, 0, 1, 1, 0, 0, 0, 1, 0]), tensor([-1.0000e+01, -4.5808e-01, -1.0000e+01, -1.0000e+01, -1.8792e+00,\n",
      "        -1.0000e+01, -2.3478e+00, -1.8173e+00, -6.1973e-01, -3.1970e+00,\n",
      "        -3.1362e+00, -6.3732e-01, -1.0000e+01, -1.0000e+01, -1.0000e+01,\n",
      "        -1.0000e+01, -1.0000e+01, -1.0000e+01, -1.0000e+01, -1.6359e+00,\n",
      "        -2.9812e+00, -1.0000e+01, -1.0000e+01, -1.9674e+00, -1.0000e+01,\n",
      "        -1.0000e+01, -1.0000e+01, -1.1343e+00, -1.4971e+00, -1.0000e+01,\n",
      "        -1.0000e+01, -1.0000e+01, -1.6084e+00, -1.0000e+01, -1.0000e+01,\n",
      "        -2.0236e+00, -2.5367e+00, -1.1614e-01, -5.7076e-01, -1.0000e+01,\n",
      "        -1.0000e+01, -1.0000e+01, -1.0000e+01, -1.0000e+01, -1.0000e+01,\n",
      "        -6.2989e-01, -1.0000e+01, -3.2462e-01, -1.0000e+01, -1.0000e+01,\n",
      "        -1.0000e+01, -2.0274e-01, -1.0000e+01, -1.7594e+00, -1.0000e+01,\n",
      "        -7.5590e-01, -1.1066e+00, -1.7550e+00, -1.0000e+01, -1.0000e+01,\n",
      "        -1.2859e+00, -1.0000e+01, -4.0290e-02, -1.0000e+01, -5.8336e-01,\n",
      "        -1.0000e+01, -1.0000e+01, -1.0000e+01, -1.0000e+01, -1.0000e+01,\n",
      "        -1.0000e+01, -1.0000e+01, -1.0000e+01, -1.0000e+01, -7.3588e-01,\n",
      "        -4.0794e-01, -1.0000e+01, -1.0000e+01, -1.0000e+01, -1.0000e+01,\n",
      "        -1.0000e+01, -2.7017e+00, -1.0000e+01,  1.8350e+00, -5.8716e-02,\n",
      "        -2.0472e+00,  6.2031e-04, -1.5060e+00, -1.0000e+01,  3.8892e-01,\n",
      "        -5.4557e-01, -7.9473e-01, -1.0000e+01, -1.0000e+01, -2.2882e+00,\n",
      "        -1.0000e+01, -1.0000e+01, -1.7029e+00, -1.0000e+01, -1.0000e+01,\n",
      "        -1.0000e+01, -1.0000e+01, -1.0525e+00, -5.3042e-01,  3.1996e-01,\n",
      "        -2.8669e-01, -9.9336e-01, -2.0395e-01, -1.0798e+00, -1.5536e-01,\n",
      "        -1.0000e+01, -1.0000e+01, -1.0000e+01,  1.6758e-01,  2.8610e-01,\n",
      "        -1.0000e+01, -1.0000e+01, -1.0000e+01, -1.0000e+01,  1.6354e-01,\n",
      "        -1.0000e+01, -1.0000e+01, -1.0000e+01, -2.0694e+00, -1.7942e+00,\n",
      "        -1.0000e+01, -7.3466e-01, -1.0402e+00,  9.2766e-02, -1.6520e+00,\n",
      "        -1.2083e+00, -1.0000e+01, -1.5517e+00,  1.2717e-01, -1.0000e+01,\n",
      "        -1.9727e+00, -1.7651e+00, -1.5085e+00, -1.0000e+01, -1.1466e+00,\n",
      "        -1.0000e+01, -1.0000e+01, -1.0000e+01, -1.2911e-01, -1.0000e+01,\n",
      "        -1.0000e+01, -1.0000e+01, -8.9330e-01, -2.7886e+00, -8.8353e-01,\n",
      "        -1.0000e+01, -1.0000e+01, -1.0000e+01, -1.0000e+01, -1.5294e+00,\n",
      "        -6.4778e-01, -1.0000e+01, -1.0000e+01, -1.0000e+01, -1.7576e+00,\n",
      "        -1.0000e+01]))\n"
     ]
    }
   ],
   "source": [
    "a,b = multitasking.dataset[0]\n",
    "print(b)"
   ]
  },
  {
   "cell_type": "code",
   "execution_count": 14,
   "metadata": {},
   "outputs": [
    {
     "name": "stdout",
     "output_type": "stream",
     "text": [
      "tensor([ 1.3113e+00,  1.0276e+00,  2.4768e+00,  3.5758e+00,  3.2231e+00,\n",
      "         3.1419e+00,  4.0295e+00,  3.1059e+00,  2.3982e+00,  3.9641e+00,\n",
      "         3.5131e+00,  1.7574e+00,  1.5665e+00,  3.9942e+00,  3.3422e+00,\n",
      "         1.4613e+00,  1.6208e+00,  1.8042e+00,  1.1558e+00,  3.8076e+00,\n",
      "         3.3139e+00,  1.6151e+00,  2.5940e+00,  2.3656e+00,  2.2174e+00,\n",
      "         3.8411e-01,  3.4716e+00,  1.1116e+00,  2.4532e+00,  4.0679e-01,\n",
      "         3.7172e+00,  7.6932e-01,  2.7121e+00,  2.5579e-01,  2.6654e+00,\n",
      "         2.9993e+00,  3.2487e+00,  5.2166e+00,  1.4840e+00,  1.7232e+00,\n",
      "         1.0848e+00,  7.1434e-01,  1.4387e+00,  1.1965e+00, -1.0544e-01,\n",
      "         2.4211e+00,  1.9824e+00,  1.6224e+00,  1.6123e+00,  1.0640e+00,\n",
      "         9.6699e-01,  3.3873e+00,  2.0803e+00,  4.1015e+00,  1.9808e+00,\n",
      "         3.4188e+00,  4.1627e+00,  4.1555e+00,  2.8186e+00,  1.4098e+00,\n",
      "         4.4016e+00,  4.4631e+00,  3.0001e+00,  4.3283e+00,  2.2662e+00,\n",
      "         5.6704e+00,  5.0758e+00,  3.9410e+00,  1.4551e+00,  1.1284e+00,\n",
      "         1.7845e+00,  5.3990e+00,  1.1197e+00,  3.4247e+00,  4.7378e+00,\n",
      "         4.2357e+00,  4.6024e+00,  4.3283e+00,  1.2087e+00,  1.2397e+00,\n",
      "         1.0487e+00,  5.4778e+00,  4.9358e+00,  3.6838e+00,  3.6702e+00,\n",
      "         4.3725e+00,  3.9893e+00,  3.6546e+00,  3.1744e+00,  3.5800e+00,\n",
      "         1.6608e+00,  2.8509e+00,  3.7004e+00,  1.0278e+00,  4.5025e+00,\n",
      "         1.4859e+00,  1.3261e+00,  3.9891e+00,  3.9178e+00,  4.4254e-01,\n",
      "         2.4902e+00,  4.3682e+00,  5.2011e+00,  2.4211e+00,  3.5032e+00,\n",
      "         5.7117e+00,  4.2205e+00,  1.4426e+00,  3.8724e+00,  7.1110e+00,\n",
      "         3.2949e+00,  5.1039e+00,  3.1853e+00,  3.4408e+00,  5.1286e+00,\n",
      "         5.1867e+00,  3.5571e+00,  2.7918e+00,  3.5567e+00,  5.9497e+00,\n",
      "         5.0125e+00,  4.8003e+00,  7.1169e+00,  5.1303e+00,  3.6971e+00,\n",
      "         3.7845e+00,  3.7227e+00,  4.4481e+00,  5.3725e+00,  3.3070e+00,\n",
      "         4.4944e+00,  2.4806e+00,  3.8602e+00,  2.8220e+00,  4.7107e+00,\n",
      "         2.9423e+00,  4.1470e+00,  4.2547e+00,  5.1644e+00,  5.2357e+00,\n",
      "         4.6765e+00,  6.3771e+00,  4.6519e+00,  3.7713e+00,  3.9108e+00,\n",
      "         4.0364e+00,  5.2221e+00,  2.6143e+00,  5.2898e+00,  2.0804e+00,\n",
      "         3.8716e+00,  5.0564e+00,  3.1343e+00,  3.2875e+00,  4.9956e+00,\n",
      "         5.4824e+00,  6.6309e+00,  2.8555e+00,  2.2193e+00,  4.1963e+00,\n",
      "         3.7032e+00, -4.0793e-01, -7.0077e-01, -8.2043e-01, -6.3974e-01,\n",
      "        -8.4327e-01, -5.9162e-01, -5.6325e-01, -4.3040e-01, -4.3390e-01,\n",
      "        -6.0619e-01, -6.9457e-01, -4.2223e-01, -3.4600e-01, -6.1540e-01,\n",
      "        -7.6530e-01, -4.3422e-01, -3.6974e-01, -5.6472e-01, -4.1536e-01,\n",
      "        -5.9585e-01, -4.0293e-01, -9.5498e-01, -8.5171e-01, -7.4781e-01,\n",
      "        -2.1455e-01, -5.9553e-01,  6.4518e-02, -4.5009e-01, -2.1587e-01,\n",
      "        -8.1024e-01, -3.5717e-01, -1.0024e+00, -5.8076e-01, -6.4380e-01,\n",
      "        -8.9086e-01, -5.2465e-01, -4.5028e-01,  6.7619e-01, -2.6818e-01,\n",
      "        -1.0867e-01, -7.9924e-03,  6.7718e-02, -2.6205e-02,  1.4927e-01,\n",
      "        -2.2923e-01,  2.5359e-01, -5.5144e-02,  2.6303e-01,  7.0747e-01,\n",
      "        -7.1805e-02,  5.2179e-02,  3.9919e-01,  4.4399e-01,  8.7860e-01,\n",
      "         3.3296e-01,  8.4286e-01,  7.4004e-01, -2.1417e-01,  8.1955e-02,\n",
      "        -1.5852e-02,  1.4378e-01,  1.5989e-01,  3.7886e-01,  3.7647e-02,\n",
      "         5.6810e-01,  5.7310e-02,  2.8499e-01,  3.7772e-02, -2.3553e-01,\n",
      "         2.6983e-01,  6.3502e-02,  1.1449e-01, -1.9825e-01,  1.5282e-01,\n",
      "         9.8465e-02, -2.6616e-01,  8.7346e-04, -4.3441e-01, -4.1186e-01,\n",
      "        -4.4040e-02, -7.5625e-03, -1.0154e-01, -1.4528e-01,  7.4750e-01,\n",
      "         2.1477e-01,  3.9873e-01,  1.0658e+00, -3.9826e-01,  1.0284e-01,\n",
      "         7.2643e-01,  3.0639e-01, -1.1907e-01,  5.1461e-01, -2.3135e-02,\n",
      "        -1.4920e-01, -2.1298e-01, -1.3334e-01,  7.1476e-01, -1.9903e-01,\n",
      "        -4.3269e-02,  7.1644e-01,  3.2336e-01,  1.0736e+00,  7.2253e-01,\n",
      "         8.8417e-01,  7.1777e-01,  3.0682e-01,  2.0650e-01,  2.9770e-01,\n",
      "         8.5822e-01,  5.2140e-01,  7.1224e-01, -1.5185e-01,  6.8692e-02,\n",
      "         7.8677e-01,  5.4247e-01,  1.6795e-01,  7.1625e-01,  4.3007e-02,\n",
      "         8.6641e-01, -1.3358e-01,  8.9321e-01,  5.9611e-01,  5.0551e-01,\n",
      "         2.7810e-01,  4.8360e-01,  2.8150e-01,  5.9087e-01,  1.0058e+00,\n",
      "        -3.0718e-01,  8.6455e-01,  9.1465e-02,  2.0312e-01,  7.7703e-01,\n",
      "         9.8736e-01,  5.8890e-01, -2.6372e-01,  1.7818e-01,  2.0443e-01,\n",
      "         9.2163e-01,  2.7764e-01,  6.2234e-01,  9.3478e-02,  8.1714e-01,\n",
      "         4.3689e-01,  7.2437e-01,  2.8793e-01,  2.2269e-01,  2.0812e-01,\n",
      "        -3.6507e-01,  6.0363e-01,  6.5482e-01,  7.9458e-01,  7.2942e-01,\n",
      "         1.1299e+00,  9.3590e-01,  1.0249e+00,  2.4061e-01,  2.4404e-01,\n",
      "         3.0525e-01,  2.9615e-01], grad_fn=<SelectBackward0>)\n"
     ]
    }
   ],
   "source": [
    "out,_ = multitasking.backbone(a.unsqueeze(0))\n",
    "out2 = multitasking.decoder(out)\n",
    "print(out2[0]) #for the 0th one, 1.3 is much better..."
   ]
  },
  {
   "cell_type": "code",
   "execution_count": 16,
   "metadata": {},
   "outputs": [
    {
     "data": {
      "text/plain": [
       "torch.Size([1, 322])"
      ]
     },
     "execution_count": 16,
     "metadata": {},
     "output_type": "execute_result"
    }
   ],
   "source": [
    "out2.shape"
   ]
  },
  {
   "cell_type": "code",
   "execution_count": 18,
   "metadata": {},
   "outputs": [
    {
     "data": {
      "text/plain": [
       "<matplotlib.collections.PathCollection at 0x2b3696a83090>"
      ]
     },
     "execution_count": 18,
     "metadata": {},
     "output_type": "execute_result"
    },
    {
     "data": {
      "image/png": "[encoded data removed]",
      "text/plain": [
       "<Figure size 640x480 with 1 Axes>"
      ]
     },
     "metadata": {},
     "output_type": "display_data"
    }
   ],
   "source": [
    "#now we have the models, let's see how we would need to evaluate them\n",
    "#let's think of a baseline, we can do auc or something?\n",
    "#let's plot the predicted vs actual for the multitasking model on the regression\n",
    "import matplotlib.pyplot as plt\n",
    "plt.scatter(b[1], out2[0,161:].detach().cpu().numpy())"
   ]
  },
  {
   "cell_type": "code",
   "execution_count": 21,
   "metadata": {},
   "outputs": [
    {
     "data": {
      "text/plain": [
       "[<matplotlib.lines.Line2D at 0x2b3697144810>]"
      ]
     },
     "execution_count": 21,
     "metadata": {},
     "output_type": "execute_result"
    },
    {
     "data": {
      "image/png": "[encoded data removed]",
      "text/plain": [
       "<Figure size 640x480 with 1 Axes>"
      ]
     },
     "metadata": {},
     "output_type": "display_data"
    }
   ],
   "source": [
    "#remove the -10 values\n",
    "mask = b[1] != -10\n",
    "plt.scatter(b[1][mask], out2[0,161:][mask].detach().cpu().numpy())\n",
    "#and regression 1,1, line\n",
    "plt.plot([-3,2],[-3,2], color='red')\n",
    "#we can see for this ccre it does mostly suck"
   ]
  },
  {
   "cell_type": "code",
   "execution_count": 23,
   "metadata": {},
   "outputs": [],
   "source": [
    "#let's do a confusion matrix for the classification\n",
    "from sklearn.metrics import confusion_matrix\n",
    "import numpy as np\n",
    "#let's do the first one\n",
    "y_true = b[0].detach().cpu().numpy()\n",
    "y_pred = out2[0,:161].detach().cpu().numpy()\n",
    "#the threshold is 0 for now\n",
    "y_pred = np.where(y_pred > 0, 1, 0)\n",
    "cm = confusion_matrix(y_true, y_pred)"
   ]
  },
  {
   "cell_type": "code",
   "execution_count": 25,
   "metadata": {},
   "outputs": [
    {
     "data": {
      "text/plain": [
       "array([[ 1, 88],\n",
       "       [ 0, 72]])"
      ]
     },
     "execution_count": 25,
     "metadata": {},
     "output_type": "execute_result"
    }
   ],
   "source": [
    "cm"
   ]
  },
  {
   "cell_type": "code",
   "execution_count": 26,
   "metadata": {},
   "outputs": [
    {
     "data": {
      "text/plain": [
       "[<matplotlib.lines.Line2D at 0x2b369dd78050>]"
      ]
     },
     "execution_count": 26,
     "metadata": {},
     "output_type": "execute_result"
    },
    {
     "data": {
      "image/png": "[encoded data removed]",
      "text/plain": [
       "<Figure size 640x480 with 1 Axes>"
      ]
     },
     "metadata": {},
     "output_type": "display_data"
    }
   ],
   "source": [
    "#let's try an roc curve\n",
    "from sklearn.metrics import roc_curve\n",
    "fpr, tpr, thresholds = roc_curve(y_true, y_pred)\n",
    "plt.plot(fpr, tpr)\n",
    "plt.plot([0,1],[0,1], color='red')\n",
    "# that is literally right on the 0,1 line... that's very bad!"
   ]
  },
  {
   "cell_type": "code",
   "execution_count": 33,
   "metadata": {},
   "outputs": [],
   "source": [
    "#let's try this for the ctst model\n",
    "real_class = []\n",
    "real_reg = []\n",
    "pred_class = []\n",
    "pred_reg = []\n",
    "for i in range(161):\n",
    "    a,b = ctst.dataset[i]\n",
    "    out,_ = ctst.backbone(a.unsqueeze(0))\n",
    "    out2 = ctst.decoder(out).squeeze()\n",
    "    # print(out.shape)\n",
    "    real_class.append(b[0].detach().cpu().numpy())\n",
    "    real_reg.append(b[1].detach().cpu().numpy())\n",
    "    pred_reg.append(out2[1].detach().cpu().numpy())\n",
    "    pred_class.append(out2[0].detach().cpu().numpy())"
   ]
  },
  {
   "cell_type": "code",
   "execution_count": 37,
   "metadata": {},
   "outputs": [
    {
     "data": {
      "text/plain": [
       "[<matplotlib.lines.Line2D at 0x2b369fc3dc10>]"
      ]
     },
     "execution_count": 37,
     "metadata": {},
     "output_type": "execute_result"
    },
    {
     "data": {
      "image/png": "[encoded data removed]",
      "text/plain": [
       "<Figure size 640x480 with 1 Axes>"
      ]
     },
     "metadata": {},
     "output_type": "display_data"
    }
   ],
   "source": [
    "#now let's do regression\n",
    "mask = np.array(real_reg) != -10\n",
    "mask = mask.squeeze()\n",
    "mask_real = np.array(real_reg)[mask]\n",
    "mask_pred = np.array(pred_reg)[mask]\n",
    "plt.plot(mask_real, mask_pred, 'o')\n",
    "#and regression 1,1, line\n",
    "plt.plot([-3,2],[-3,2], color='red')"
   ]
  },
  {
   "cell_type": "code",
   "execution_count": 39,
   "metadata": {},
   "outputs": [
    {
     "data": {
      "text/plain": [
       "array([[ 0, 89],\n",
       "       [ 0, 72]])"
      ]
     },
     "execution_count": 39,
     "metadata": {},
     "output_type": "execute_result"
    }
   ],
   "source": [
    "#and cm\n",
    "y_true = np.array(real_class).flatten()\n",
    "y_pred = np.array(pred_class).flatten()\n",
    "y_pred = np.where(y_pred > 0, 1, 0)\n",
    "cm = confusion_matrix(y_true, y_pred)\n",
    "cm"
   ]
  },
  {
   "cell_type": "code",
   "execution_count": 47,
   "metadata": {},
   "outputs": [
    {
     "name": "stdout",
     "output_type": "stream",
     "text": [
      "[array([0]), array([1]), array([0]), array([0]), array([1]), array([0]), array([1]), array([1]), array([1]), array([1]), array([1]), array([1]), array([0]), array([0]), array([0]), array([0]), array([0]), array([0]), array([0]), array([1]), array([1]), array([0]), array([0]), array([1]), array([0]), array([0]), array([0]), array([1]), array([1]), array([0]), array([0]), array([0]), array([1]), array([0]), array([0]), array([1]), array([1]), array([1]), array([1]), array([0]), array([0]), array([0]), array([0]), array([0]), array([0]), array([1]), array([0]), array([1]), array([0]), array([0]), array([0]), array([1]), array([0]), array([1]), array([0]), array([1]), array([1]), array([1]), array([0]), array([0]), array([1]), array([0]), array([1]), array([0]), array([1]), array([0]), array([0]), array([0]), array([0]), array([0]), array([0]), array([0]), array([0]), array([0]), array([1]), array([1]), array([0]), array([0]), array([0]), array([0]), array([0]), array([1]), array([0]), array([1]), array([1]), array([1]), array([1]), array([1]), array([0]), array([1]), array([1]), array([1]), array([0]), array([0]), array([1]), array([0]), array([0]), array([1]), array([0]), array([0]), array([0]), array([0]), array([1]), array([1]), array([1]), array([1]), array([1]), array([1]), array([1]), array([1]), array([0]), array([0]), array([0]), array([1]), array([1]), array([0]), array([0]), array([0]), array([0]), array([1]), array([0]), array([0]), array([0]), array([1]), array([1]), array([0]), array([1]), array([1]), array([1]), array([1]), array([1]), array([0]), array([1]), array([1]), array([0]), array([1]), array([1]), array([1]), array([0]), array([1]), array([0]), array([0]), array([0]), array([1]), array([0]), array([0]), array([0]), array([1]), array([1]), array([1]), array([0]), array([0]), array([0]), array([0]), array([1]), array([1]), array([0]), array([0]), array([0]), array([1]), array([0])]\n",
      "(161, 1)\n",
      "(161,)\n"
     ]
    }
   ],
   "source": [
    "print(real_class)\n",
    "print(np.array(real_class).shape)\n",
    "print(np.array(real_class).flatten().shape)"
   ]
  },
  {
   "cell_type": "code",
   "execution_count": 50,
   "metadata": {},
   "outputs": [
    {
     "name": "stdout",
     "output_type": "stream",
     "text": [
      "[[ 4 71]\n",
      " [ 0 86]]\n"
     ]
    },
    {
     "data": {
      "text/plain": [
       "[<matplotlib.lines.Line2D at 0x2b36a035bf90>]"
      ]
     },
     "execution_count": 50,
     "metadata": {},
     "output_type": "execute_result"
    },
    {
     "data": {
      "image/png": "[encoded data removed]",
      "text/plain": [
       "<Figure size 640x480 with 1 Axes>"
      ]
     },
     "metadata": {},
     "output_type": "display_data"
    }
   ],
   "source": [
    "#this is really bad, let's see how the next ccre is\n",
    "a,b = multitasking.dataset[1]\n",
    "out,_ = multitasking.backbone(a.unsqueeze(0))\n",
    "out2 = multitasking.decoder(out)\n",
    "mask = b[1] != -10\n",
    "plt.scatter(b[1][mask], out2[0,161:][mask].detach().cpu().numpy())\n",
    "# plt.plot([-3,2],[-3,2], color='red')\n",
    "#we can see for this ccre it does mostly suck\n",
    "#let's do a confusion matrix for the classification\n",
    "#let's do the first one\n",
    "y_true = b[0].detach().cpu().numpy()\n",
    "y_pred = out2[0,:161].detach().cpu().numpy()\n",
    "#the threshold is 0 for now\n",
    "y_pred = np.where(y_pred > 0, 1, 0)\n",
    "cm = confusion_matrix(y_true, y_pred)\n",
    "print(cm)\n",
    "#let's try an roc curve\n",
    "fpr, tpr, thresholds = roc_curve(y_true, y_pred)\n",
    "plt.plot(fpr, tpr)\n",
    "# plt.plot([0,1],[0,1], color='red')\n",
    "# that is literally right on the 0,1 line... that's very bad!"
   ]
  },
  {
   "cell_type": "code",
   "execution_count": 59,
   "metadata": {},
   "outputs": [
    {
     "data": {
      "text/plain": [
       "[<matplotlib.lines.Line2D at 0x2b36a079fd10>]"
      ]
     },
     "execution_count": 59,
     "metadata": {},
     "output_type": "execute_result"
    },
    {
     "data": {
      "image/png": "[encoded data removed]",
      "text/plain": [
       "<Figure size 640x480 with 1 Axes>"
      ]
     },
     "metadata": {},
     "output_type": "display_data"
    }
   ],
   "source": [
    "#and roc\n",
    "fpr, tpr, thresholds = roc_curve(y_true, y_pred)\n",
    "plt.plot(fpr, tpr)\n",
    "plt.plot([0,1],[0,1], color='red')\n",
    "#that's also really bad, it's the 0,1 line"
   ]
  },
  {
   "cell_type": "code",
   "execution_count": 60,
   "metadata": {},
   "outputs": [
    {
     "data": {
      "text/plain": [
       "0.5266666666666666"
      ]
     },
     "execution_count": 60,
     "metadata": {},
     "output_type": "execute_result"
    }
   ],
   "source": [
    "#find the auc\n",
    "from sklearn.metrics import roc_auc_score\n",
    "roc_auc_score(y_true, y_pred)\n",
    "#oh god..."
   ]
  },
  {
   "cell_type": "code",
   "execution_count": 54,
   "metadata": {},
   "outputs": [
    {
     "name": "stderr",
     "output_type": "stream",
     "text": [
      "ic| y_true: array([0, 1, 0, 1, 0, 0, 0, 0, 0, 1, 1, 1, 0, 1, 0, 0, 0, 0, 0, 1, 0, 0,\n",
      "                   0, 0, 0, 0, 0, 0, 0, 0, 1, 0, 0, 0, 0, 1, 1, 0, 0, 1, 0, 0, 0, 0,\n",
      "                   0, 1, 0, 0, 0, 0, 0, 1, 1, 1, 1, 1, 1, 0, 0, 0, 1, 1, 1, 1, 1, 1,\n",
      "                   1, 1, 0, 0, 0, 1, 0, 0, 1, 1, 0, 0, 0, 0, 0, 1, 0, 1, 1, 1, 1, 1,\n",
      "                   1, 0, 1, 1, 0, 1, 1, 0, 0, 1, 0, 0, 0, 1, 1, 0, 1, 0, 1, 0, 1, 1,\n",
      "                   0, 1, 0, 1, 1, 1, 0, 1, 1, 1, 1, 1, 1, 1, 1, 1, 1, 1, 1, 1, 1, 1,\n",
      "                   0, 1, 0, 1, 1, 0, 1, 1, 0, 1, 1, 1, 1, 1, 1, 1, 1, 0, 0, 1, 0, 1,\n",
      "                   1, 1, 1, 0, 0, 1, 1])\n",
      "ic| y_pred: array([1, 1, 1, 1, 1, 1, 1, 1, 1, 1, 1, 1, 1, 1, 1, 1, 1, 1, 1, 1, 1, 1,\n",
      "                   1, 1, 1, 1, 1, 1, 1, 1, 1, 1, 1, 1, 1, 1, 1, 1, 1, 1, 0, 0, 1, 1,\n",
      "                   0, 1, 1, 1, 1, 1, 1, 1, 1, 1, 1, 1, 1, 1, 1, 1, 1, 1, 1, 1, 1, 1,\n",
      "                   1, 1, 1, 1, 1, 1, 1, 1, 1, 1, 1, 1, 1, 0, 1, 1, 1, 1, 1, 1, 1, 1,\n",
      "                   1, 1, 1, 1, 1, 1, 1, 1, 1, 1, 1, 1, 1, 1, 1, 1, 1, 1, 1, 1, 1, 1,\n",
      "                   1, 1, 1, 1, 1, 1, 1, 1, 1, 1, 1, 1, 1, 1, 1, 1, 1, 1, 1, 1, 1, 1,\n",
      "                   1, 1, 1, 1, 1, 1, 1, 1, 1, 1, 1, 1, 1, 1, 1, 1, 1, 1, 1, 1, 1, 1,\n",
      "                   1, 1, 1, 1, 1, 1, 1])\n"
     ]
    },
    {
     "data": {
      "text/plain": [
       "array([1, 1, 1, 1, 1, 1, 1, 1, 1, 1, 1, 1, 1, 1, 1, 1, 1, 1, 1, 1, 1, 1,\n",
       "       1, 1, 1, 1, 1, 1, 1, 1, 1, 1, 1, 1, 1, 1, 1, 1, 1, 1, 0, 0, 1, 1,\n",
       "       0, 1, 1, 1, 1, 1, 1, 1, 1, 1, 1, 1, 1, 1, 1, 1, 1, 1, 1, 1, 1, 1,\n",
       "       1, 1, 1, 1, 1, 1, 1, 1, 1, 1, 1, 1, 1, 0, 1, 1, 1, 1, 1, 1, 1, 1,\n",
       "       1, 1, 1, 1, 1, 1, 1, 1, 1, 1, 1, 1, 1, 1, 1, 1, 1, 1, 1, 1, 1, 1,\n",
       "       1, 1, 1, 1, 1, 1, 1, 1, 1, 1, 1, 1, 1, 1, 1, 1, 1, 1, 1, 1, 1, 1,\n",
       "       1, 1, 1, 1, 1, 1, 1, 1, 1, 1, 1, 1, 1, 1, 1, 1, 1, 1, 1, 1, 1, 1,\n",
       "       1, 1, 1, 1, 1, 1, 1])"
      ]
     },
     "execution_count": 54,
     "metadata": {},
     "output_type": "execute_result"
    }
   ],
   "source": [
    "from icecream import ic\n",
    "ic(y_true)\n",
    "ic(y_pred)"
   ]
  },
  {
   "cell_type": "code",
   "execution_count": 57,
   "metadata": {},
   "outputs": [
    {
     "name": "stdout",
     "output_type": "stream",
     "text": [
      "[ 0.910824    1.2558777   2.4029753   3.2680554   3.262619    2.804256\n",
      "  3.5543451   2.7804961   1.8730447   3.7445486   3.479189    1.6740255\n",
      "  1.6501521   3.735212    3.4148295   1.3095558   1.2819684   1.5438032\n",
      "  0.7256227   3.4055667   3.2870147   1.6660674   2.3312614   2.1868112\n",
      "  2.051857    0.35353088  2.6901278   1.0601867   2.0740273   0.7415642\n",
      "  3.0978518   0.64912367  2.5373118   0.17148133  2.4581728   3.2919354\n",
      "  2.952386    4.0435095   0.11508785  0.48928943 -0.02641942 -0.18345077\n",
      "  0.30343434  0.57666945 -0.25261837  1.1773988   1.0293881   0.6405176\n",
      "  0.55249333  0.52214867  0.08532227  3.479997    0.9820168   5.329087\n",
      "  1.1972818   1.7238861   4.4306393   3.620887    1.298208    1.08733\n",
      "  4.1307645   3.7710478   1.2534729   3.485188    1.1620421   5.3433847\n",
      "  5.867626    4.4795055   1.5606143   0.03122206  0.9285956   5.5417786\n",
      "  0.03567004  1.2816051   4.152771    4.251111    4.707676    4.3046165\n",
      "  0.44952857 -0.1630093   0.09764364  5.636457    5.077259    4.677182\n",
      "  2.9524727   4.598809    5.675656    4.1474624   2.503293    1.6444083\n",
      "  0.43731883  1.0142815   4.5790153   0.38293415  4.4688225   0.45516068\n",
      "  0.10164619  3.9926956   4.3594594   1.1015264   0.53044575  4.2614856\n",
      "  4.523813    1.0372192   3.1969523   4.881488    3.4762592   0.8409969\n",
      "  3.7466722   6.274299    1.9116414   5.3511415   2.5363653   3.1645155\n",
      "  4.6083183   5.341605    4.0674677   1.4399438   2.814139    5.614542\n",
      "  5.905738    5.375974    5.9743156   6.0135617   4.8706484   4.479004\n",
      "  5.2525125   4.372509    6.5158143   4.2006392   4.792324    2.741959\n",
      "  4.732957    0.9354414   2.8493361   2.1207752   5.673051    5.447136\n",
      "  5.116403    5.0532455   4.332406    6.500001    4.358913    3.5946362\n",
      "  2.5422235   5.5656996   4.773467    1.7503611   5.8561716   1.97669\n",
      "  4.5586934   5.909512    1.2384347   2.0182395   5.196632    5.6788435\n",
      "  5.916572    1.7242321   1.1981788   5.6988554   4.1233087 ]\n"
     ]
    }
   ],
   "source": [
    "print(out2[0,:161].detach().cpu().numpy())"
   ]
  },
  {
   "cell_type": "code",
   "execution_count": 61,
   "metadata": {},
   "outputs": [
    {
     "name": "stderr",
     "output_type": "stream",
     "text": [
      "100%|██████████| 10000/10000 [06:45<00:00, 24.67it/s]\n"
     ]
    },
    {
     "data": {
      "text/plain": [
       "[<matplotlib.lines.Line2D at 0x2b36a0758c90>]"
      ]
     },
     "execution_count": 61,
     "metadata": {},
     "output_type": "execute_result"
    },
    {
     "data": {
      "image/png": "[encoded data removed]",
      "text/plain": [
       "<Figure size 640x480 with 1 Axes>"
      ]
     },
     "metadata": {},
     "output_type": "display_data"
    }
   ],
   "source": [
    "#this is really bad, sure only 2 epochs, but... it's not promising in the slightest!\n",
    "#let's try evaluating it for a bunch of them\n",
    "#let's try this for the ctst model\n",
    "real_class = []\n",
    "real_reg = []\n",
    "pred_class = []\n",
    "pred_reg = []\n",
    "for i in tqdm(range(10000)):\n",
    "    a,b = ctst.dataset[i]\n",
    "    out,_ = ctst.backbone(a.unsqueeze(0))\n",
    "    out2 = ctst.decoder(out).squeeze()\n",
    "    # print(out.shape)\n",
    "    real_class.append(b[0].detach().cpu().numpy())\n",
    "    real_reg.append(b[1].detach().cpu().numpy())\n",
    "    pred_reg.append(out2[1].detach().cpu().numpy())\n",
    "    pred_class.append(out2[0].detach().cpu().numpy())\n",
    "#now let's do regression\n",
    "mask = np.array(real_reg) != -10\n",
    "mask = mask.squeeze()\n",
    "mask_real = np.array(real_reg)[mask]\n",
    "mask_pred = np.array(pred_reg)[mask]\n",
    "plt.plot(mask_real, mask_pred, 'o')\n",
    "#and regression 1,1, line\n",
    "plt.plot([-3,2],[-3,2], color='red')"
   ]
  },
  {
   "cell_type": "code",
   "execution_count": 62,
   "metadata": {},
   "outputs": [
    {
     "data": {
      "text/plain": [
       "array([[   5,  437],\n",
       "       [   2, 9556]])"
      ]
     },
     "execution_count": 62,
     "metadata": {},
     "output_type": "execute_result"
    }
   ],
   "source": [
    "#seems somewhat reasonable, now let's do classification\n",
    "y_true = np.array(real_class).flatten()\n",
    "y_pred = np.array(pred_class).flatten()\n",
    "y_pred = np.where(y_pred > 0, 1, 0)\n",
    "cm = confusion_matrix(y_true, y_pred)\n",
    "cm"
   ]
  },
  {
   "cell_type": "code",
   "execution_count": 63,
   "metadata": {},
   "outputs": [
    {
     "data": {
      "text/plain": [
       "[<matplotlib.lines.Line2D at 0x2b36a1231090>]"
      ]
     },
     "execution_count": 63,
     "metadata": {},
     "output_type": "execute_result"
    },
    {
     "data": {
      "image/png": "[encoded data removed]",
      "text/plain": [
       "<Figure size 640x480 with 1 Axes>"
      ]
     },
     "metadata": {},
     "output_type": "display_data"
    }
   ],
   "source": [
    "#just a lot of open ones and tends to favor predicting open lol\n",
    "#now let's see the roc curve\n",
    "fpr, tpr, thresholds = roc_curve(y_true, y_pred)\n",
    "plt.plot(fpr, tpr)\n",
    "plt.plot([0,1],[0,1], color='red')\n",
    "#yeah, exactly as we expected..."
   ]
  },
  {
   "cell_type": "code",
   "execution_count": null,
   "metadata": {},
   "outputs": [],
   "source": [
    "#let's work on making that evaluation utils\n",
    "def evaluate(self, batch_size=4096, num_workers=4):\n",
    "    if self.model_type == 'ccre':\n",
    "        targets = torch.zeros((len(self.dataset), 1023))\n",
    "        predicts = torch.zeros((len(self.dataset), 1023))\n",
    "        ccre = DataLoader(self.dataset, batch_size=4096, shuffle=False, num_workers=4) #results are identical even if you shuffle, obviously since it's just the mean\n",
    "        with torch.no_grad():\n",
    "            idx = 0\n",
    "            for i, batch in tqdm(enumerate(ccre), total = len(ccre)):\n",
    "                seq, target = batch\n",
    "                seq = seq.unsqueeze(0)\n",
    "                seq = seq.to(self.device)\n",
    "                b_size = seq.shape[0]\n",
    "                y_hat = self.model.encode(seq)\n",
    "                y_hat = y_hat[0].logits[0,:,:]\n",
    "                targets[idx:b_size+idx,:] = target\n",
    "                predicts[idx:b_size+idx,:] = y_hat.detach().cpu()\n",
    "                idx += b_size\n",
    "    elif self.model_type == 'DNase' or self.model_type == 'DNase_ctst': #this does the flatten then reshape\n",
    "        targets_flat = torch.zeros(len(self.dataset)) #because output is just a single value, it's so obvious it's kind of stupid\n",
    "        predicts_flat = torch.zeros(len(self.dataset))\n",
    "        targets_class_flat = torch.zeros(len(self.dataset))\n",
    "        predicts_class_flat = torch.zeros(len(self.dataset))\n",
    "        DNase = DataLoader(self.dataset, batch_size=batch_size, shuffle=False, num_workers=num_workers) #results are identical even if you shuffle, obviously since it's just the mean\n",
    "        with torch.no_grad():\n",
    "            idx = 0\n",
    "            for i, batch in tqdm(enumerate(DNase), total = len(DNase)):\n",
    "                seq, target = batch\n",
    "                seq = seq.to(self.device)\n",
    "                b_size = seq.shape[0]\n",
    "                y_hat, _ = self.backbone(seq)\n",
    "                y_hat = self.decoder(y_hat)\n",
    "                if self.classification:\n",
    "                    targets_flat[idx:b_size+idx] = target[1].squeeze()\n",
    "                    targets_class_flat[idx:b_size+idx] = target[0].squeeze()\n",
    "                    predicts_flat[idx:b_size+idx] = y_hat[:,1].detach().cpu().squeeze() #note the .squeeze not necessary\n",
    "                    predicts_class_flat[idx:b_size+idx] = y_hat[:,0].detach().cpu().squeeze()\n",
    "                else:\n",
    "                    targets_flat[idx:b_size+idx] = target.squeeze()\n",
    "                    predicts_flat[idx:b_size+idx] = y_hat.detach().cpu().squeeze()\n",
    "                idx += b_size\n",
    "                # if i == 5:\n",
    "                #     break\n",
    "        targets = targets_flat.reshape(-1, self.dataset.cell_types)\n",
    "        predicts = predicts_flat.reshape(-1, self.dataset.cell_types)\n",
    "        targets2 = targets_class_flat.reshape(-1, self.dataset.cell_types)\n",
    "        predicts2 = predicts_class_flat.reshape(-1, self.dataset.cell_types)\n",
    "        if self.classification:\n",
    "            targets = (targets2, targets)\n",
    "            predicts = (predicts2, predicts)\n",
    "        return targets, predicts\n",
    "    elif self.model_type == 'DNase_allcelltypes':\n",
    "        targets = torch.zeros((len(self.dataset), 161))\n",
    "        predicts = torch.zeros((len(self.dataset), 161))\n",
    "        DNase = DataLoader(self.dataset, batch_size=batch_size, shuffle=False, num_workers=num_workers) #results are identical even if you shuffle, obviously since it's just the mean\n",
    "        with torch.no_grad():\n",
    "            idx = 0\n",
    "            for i, batch in tqdm(enumerate(DNase), total = len(DNase)):\n",
    "                seq, target = batch\n",
    "                seq = seq.to(self.device)\n",
    "                b_size = seq.shape[0]\n",
    "                # target = target.to(device)\n",
    "                y_hat, _ = self.backbone(seq)\n",
    "                y_hat = self.decoder(y_hat)\n",
    "                # print(y_hat)\n",
    "                # print(target)\n",
    "                targets[idx:b_size+idx,:] = target\n",
    "                predicts[idx:b_size+idx,:] = y_hat.detach().cpu()\n",
    "                idx += b_size\n",
    "        return targets, predicts"
   ]
  },
  {
   "cell_type": "code",
   "execution_count": 65,
   "metadata": {},
   "outputs": [
    {
     "name": "stdout",
     "output_type": "stream",
     "text": [
      "0\n",
      "[tensor([[12,  8,  7,  ...,  9,  7,  8],\n",
      "        [13,  8,  7,  ...,  9,  7,  8],\n",
      "        [14,  8,  7,  ...,  9,  7,  8],\n",
      "        ...,\n",
      "        [73,  8,  7,  ...,  9,  7,  8],\n",
      "        [74,  8,  7,  ...,  9,  7,  8],\n",
      "        [75,  8,  7,  ...,  9,  7,  8]]), [tensor([[0],\n",
      "        [1],\n",
      "        [0],\n",
      "        [0],\n",
      "        [1],\n",
      "        [0],\n",
      "        [1],\n",
      "        [1],\n",
      "        [1],\n",
      "        [1],\n",
      "        [1],\n",
      "        [1],\n",
      "        [0],\n",
      "        [0],\n",
      "        [0],\n",
      "        [0],\n",
      "        [0],\n",
      "        [0],\n",
      "        [0],\n",
      "        [1],\n",
      "        [1],\n",
      "        [0],\n",
      "        [0],\n",
      "        [1],\n",
      "        [0],\n",
      "        [0],\n",
      "        [0],\n",
      "        [1],\n",
      "        [1],\n",
      "        [0],\n",
      "        [0],\n",
      "        [0],\n",
      "        [1],\n",
      "        [0],\n",
      "        [0],\n",
      "        [1],\n",
      "        [1],\n",
      "        [1],\n",
      "        [1],\n",
      "        [0],\n",
      "        [0],\n",
      "        [0],\n",
      "        [0],\n",
      "        [0],\n",
      "        [0],\n",
      "        [1],\n",
      "        [0],\n",
      "        [1],\n",
      "        [0],\n",
      "        [0],\n",
      "        [0],\n",
      "        [1],\n",
      "        [0],\n",
      "        [1],\n",
      "        [0],\n",
      "        [1],\n",
      "        [1],\n",
      "        [1],\n",
      "        [0],\n",
      "        [0],\n",
      "        [1],\n",
      "        [0],\n",
      "        [1],\n",
      "        [0]]), tensor([[-10.0000],\n",
      "        [ -0.4581],\n",
      "        [-10.0000],\n",
      "        [-10.0000],\n",
      "        [ -1.8792],\n",
      "        [-10.0000],\n",
      "        [ -2.3478],\n",
      "        [ -1.8173],\n",
      "        [ -0.6197],\n",
      "        [ -3.1970],\n",
      "        [ -3.1362],\n",
      "        [ -0.6373],\n",
      "        [-10.0000],\n",
      "        [-10.0000],\n",
      "        [-10.0000],\n",
      "        [-10.0000],\n",
      "        [-10.0000],\n",
      "        [-10.0000],\n",
      "        [-10.0000],\n",
      "        [ -1.6359],\n",
      "        [ -2.9812],\n",
      "        [-10.0000],\n",
      "        [-10.0000],\n",
      "        [ -1.9674],\n",
      "        [-10.0000],\n",
      "        [-10.0000],\n",
      "        [-10.0000],\n",
      "        [ -1.1343],\n",
      "        [ -1.4971],\n",
      "        [-10.0000],\n",
      "        [-10.0000],\n",
      "        [-10.0000],\n",
      "        [ -1.6084],\n",
      "        [-10.0000],\n",
      "        [-10.0000],\n",
      "        [ -2.0236],\n",
      "        [ -2.5367],\n",
      "        [ -0.1161],\n",
      "        [ -0.5708],\n",
      "        [-10.0000],\n",
      "        [-10.0000],\n",
      "        [-10.0000],\n",
      "        [-10.0000],\n",
      "        [-10.0000],\n",
      "        [-10.0000],\n",
      "        [ -0.6299],\n",
      "        [-10.0000],\n",
      "        [ -0.3246],\n",
      "        [-10.0000],\n",
      "        [-10.0000],\n",
      "        [-10.0000],\n",
      "        [ -0.2027],\n",
      "        [-10.0000],\n",
      "        [ -1.7594],\n",
      "        [-10.0000],\n",
      "        [ -0.7559],\n",
      "        [ -1.1066],\n",
      "        [ -1.7550],\n",
      "        [-10.0000],\n",
      "        [-10.0000],\n",
      "        [ -1.2859],\n",
      "        [-10.0000],\n",
      "        [ -0.0403],\n",
      "        [-10.0000]])]]\n"
     ]
    },
    {
     "ename": "AttributeError",
     "evalue": "'list' object has no attribute 'shape'",
     "output_type": "error",
     "traceback": [
      "\u001b[0;31m---------------------------------------------------------------------------\u001b[0m",
      "\u001b[0;31mAttributeError\u001b[0m                            Traceback (most recent call last)",
      "Cell \u001b[0;32mIn[65], line 7\u001b[0m\n\u001b[1;32m      5\u001b[0m     \u001b[38;5;28;01mif\u001b[39;00m i \u001b[38;5;241m==\u001b[39m \u001b[38;5;241m0\u001b[39m:\n\u001b[1;32m      6\u001b[0m         \u001b[38;5;28;01mbreak\u001b[39;00m\n\u001b[0;32m----> 7\u001b[0m \u001b[38;5;28mprint\u001b[39m(\u001b[43mbatch\u001b[49m\u001b[38;5;241;43m.\u001b[39;49m\u001b[43mshape\u001b[49m)\n",
      "\u001b[0;31mAttributeError\u001b[0m: 'list' object has no attribute 'shape'"
     ]
    }
   ],
   "source": [
    "loader = DataLoader(ctst.dataset, batch_size=64, shuffle=False, num_workers=1)\n",
    "for i, batch in enumerate(loader):\n",
    "    print(i)\n",
    "    print(batch)\n",
    "    if i == 0:\n",
    "        break\n",
    "print(batch.shape)"
   ]
  },
  {
   "cell_type": "code",
   "execution_count": 66,
   "metadata": {},
   "outputs": [
    {
     "data": {
      "text/plain": [
       "torch.Size([64, 1024])"
      ]
     },
     "execution_count": 66,
     "metadata": {},
     "output_type": "execute_result"
    }
   ],
   "source": [
    "seq,target = batch\n",
    "seq.shape"
   ]
  },
  {
   "cell_type": "code",
   "execution_count": 68,
   "metadata": {},
   "outputs": [
    {
     "name": "stdout",
     "output_type": "stream",
     "text": [
      "torch.Size([64, 2])\n"
     ]
    }
   ],
   "source": [
    "#run seq through\n",
    "out,_ = ctst.backbone(seq)\n",
    "out2 = ctst.decoder(out)\n",
    "print(out2.shape)"
   ]
  },
  {
   "cell_type": "code",
   "execution_count": 69,
   "metadata": {},
   "outputs": [
    {
     "data": {
      "text/plain": [
       "torch.Size([64])"
      ]
     },
     "execution_count": 69,
     "metadata": {},
     "output_type": "execute_result"
    }
   ],
   "source": [
    "out2[:,0].shape"
   ]
  },
  {
   "cell_type": "code",
   "execution_count": 67,
   "metadata": {},
   "outputs": [
    {
     "name": "stdout",
     "output_type": "stream",
     "text": [
      "torch.Size([64, 1]) torch.Size([64, 1])\n"
     ]
    }
   ],
   "source": [
    "target1,target2 = target\n",
    "print(target1.shape,target2.shape)"
   ]
  },
  {
   "cell_type": "code",
   "execution_count": 94,
   "metadata": {},
   "outputs": [],
   "source": [
    "#now let's test this full class\n",
    "\n",
    "import torch\n",
    "# import argparse\n",
    "# import os\n",
    "import sys\n",
    "import yaml \n",
    "from tqdm import tqdm\n",
    "# import json \n",
    "sys.path.append('/data/leslie/sarthak/hyena/hyena-dna/')\n",
    "# from src.dataloaders.datasets.DNase_dataset import DNaseDataset\n",
    "from src.tasks.decoders import SequenceDecoder\n",
    "import pytorch_lightning as pl\n",
    "from src.dataloaders.datasets.hg38_char_tokenizer import CharacterTokenizer\n",
    "from src.models.sequence.dna_embedding import DNAEmbeddingModel\n",
    "from torch.utils.data import DataLoader\n",
    "from src.dataloaders.datasets.ccre_dataset import CcreDataset\n",
    "from src.models.sequence.long_conv_lm import ConvLMHeadModel\n",
    "\n",
    "class Evals():\n",
    "    def __init__(self, model_type, ckpt_path, filter=True, cfg = None, classification=True):\n",
    "        #model type is like ccre, DNase, DNase_ctst etc.\n",
    "        #ckpt_path is the path to the model checkpoint\n",
    "        #filter is a boolean which is true if you want to filter the dataset to only include the cell types present in the training set\n",
    "        #cfg is the path to the config file, if it's not provided, it will be inferred from the model type, but if you need a specific config, this is good to provide\n",
    "        type_list = ['ccre', 'DNase_ctst', 'DNase_allcelltypes', 'DNase']\n",
    "        if model_type not in type_list:\n",
    "            raise ValueError('Model type not recognized')\n",
    "        self.model_type = model_type   \n",
    "        self.filter = filter\n",
    "        self.classification = classification\n",
    "        self.ckpt_path = ckpt_path\n",
    "        self.device = torch.device(\"cuda\" if torch.cuda.is_available() else \"cpu\")\n",
    "        self.cfg = cfg #this is for if we want to define a separate one\n",
    "        self.tokenizer = self.setup_tokenizer()\n",
    "        self.setup_model()\n",
    "        self.dataset = self.setup_dataset()\n",
    "        \n",
    "        \n",
    "    def setup_tokenizer(self):\n",
    "        model_type = self.model_type\n",
    "        acgtn_list = ['ccre', 'DNase_ctst', 'DNase_allcelltypes']\n",
    "        extra_list = ['DNase']\n",
    "        if model_type in acgtn_list:\n",
    "            tokenizer = CharacterTokenizer( #make sure to fix the tokenizer too\n",
    "                characters=['A', 'C', 'G', 'T', 'N'],\n",
    "                model_max_length=1024 + 2,  # add 2 since default adds eos/eos tokens, crop later\n",
    "                add_special_tokens=False,\n",
    "                padding_side='left'\n",
    "            )\n",
    "            return tokenizer\n",
    "        else:\n",
    "            tokenizer = CharacterTokenizer( #make sure to fix the tokenizer too\n",
    "                characters=['A', 'C', 'G', 'T', 'N', 'S', 'U', 'V', 'W', 'X', 'Y', 'Z'],\n",
    "                model_max_length=1024 + 2,  # add 2 since default adds eos/eos tokens, crop later\n",
    "                add_special_tokens=False,\n",
    "                padding_side='left'\n",
    "            )\n",
    "            return tokenizer\n",
    "        \n",
    "    def setup_model(self):\n",
    "        model_type = self.model_type\n",
    "        if model_type == 'ccre':\n",
    "            cfg = '/data/leslie/sarthak/hyena/hyena-dna/configs/evals/ccre.yaml'\n",
    "            self.model = HG38Encoder(cfg, self.ckpt_path, 1024).eval()\n",
    "        elif model_type == 'DNase_ctst':\n",
    "            if self.classification:\n",
    "                cfg = '/data/leslie/sarthak/hyena/hyena-dna/configs/evals/DNase_ctst_classification.yaml'\n",
    "            else:\n",
    "                cfg = '/data/leslie/sarthak/hyena/hyena-dna/configs/evals/DNase_ctst.yaml'\n",
    "            self.regression_head(cfg, adjust_embedding=False) #new 171 dimensional vocab and lm head size\n",
    "        elif model_type == 'DNase_allcelltypes':\n",
    "            if self.classification:\n",
    "                cfg = '/data/leslie/sarthak/hyena/hyena-dna/configs/evals/DNase_allcelltypes_classification.yaml'\n",
    "            else:\n",
    "                cfg = '/data/leslie/sarthak/hyena/hyena-dna/configs/evals/DNase_allcelltypes.yaml'\n",
    "            self.regression_head(cfg, adjust_embedding=False) #original 16 dimensional vocab and lm head size\n",
    "        elif model_type == 'DNase':\n",
    "            cfg = '/data/leslie/sarthak/hyena/hyena-dna/configs/evals/DNase.yaml'\n",
    "            self.regression_head(cfg, adjust_embedding=True) #20 dimensional input but 16 output lm size\n",
    "    \n",
    "    def setup_dataset(self):\n",
    "        model_type = self.model_type\n",
    "        if model_type == 'ccre':\n",
    "            dataset = CcreDataset(max_length = 1024, split = 'test', tokenizer=self.tokenizer, rc_aug = False, tokenizer_name='char', add_eos='True')\n",
    "            return dataset\n",
    "        elif model_type == 'DNase':\n",
    "            from src.dataloaders.datasets.DNase_dataset import DNaseDataset\n",
    "            dataset = DNaseDataset(max_length = 1024, split = 'test', tokenizer=self.tokenizer, rc_aug = False, tokenizer_name='char', add_eos='True', filter = self.filter, classification=self.classification)\n",
    "            return dataset\n",
    "        elif model_type == 'DNase_ctst':\n",
    "            from src.dataloaders.datasets.DNase_ctst_dataset import DNaseCtstDataset\n",
    "            dataset = DNaseCtstDataset(max_length = 1024, split = 'test', tokenizer=self.tokenizer, rc_aug = False, tokenizer_name='char', add_eos='True', filter = self.filter, classification=self.classification)\n",
    "            return dataset\n",
    "        elif model_type == 'DNase_allcelltypes':\n",
    "            from src.dataloaders.datasets.DNase_allcelltypes import DNaseAllCellTypeDataset\n",
    "            dataset = DNaseAllCellTypeDataset(max_length = 1024, split = 'test', tokenizer=self.tokenizer, rc_aug = False, tokenizer_name='char', add_eos='True', filter = self.filter, classification=self.classification)\n",
    "            return dataset\n",
    "        \n",
    "    def regression_head(self, cfg, adjust_embedding=False):\n",
    "        if self.cfg is None:\n",
    "            cfg = yaml.load(open(cfg, 'r'), Loader=yaml.FullLoader)\n",
    "        else:\n",
    "            cfg = '/data/leslie/sarthak/hyena/hyena-dna/configs/evals/' + self.cfg\n",
    "            cfg = yaml.load(open(cfg, 'r'), Loader=yaml.FullLoader)\n",
    "        train_cfg = cfg['train']  # grab section `train` section of config\n",
    "        model_cfg = cfg['model_config']  # grab the `model` section of config\n",
    "        d_output = train_cfg['d_output']  #TODO make it so that we just adjust this with self.classificaiton, no need for evals\n",
    "        backbone = DNAEmbeddingModel(**model_cfg)\n",
    "        decoder = SequenceDecoder(model_cfg['d_model'], d_output=d_output, l_output=0, mode='pool')\n",
    "        state_dict = torch.load(self.ckpt_path, map_location='cpu')  # has both backbone and decoder\n",
    "        # loads model from ddp by removing prexix to single if necessary\n",
    "        torch.nn.modules.utils.consume_prefix_in_state_dict_if_present(\n",
    "            state_dict[\"state_dict\"], \"model.\"\n",
    "        )\n",
    "        model_state_dict = state_dict[\"state_dict\"]\n",
    "        # need to remove torchmetrics. to remove keys, need to convert to list first\n",
    "        for key in list(model_state_dict.keys()):\n",
    "            if \"torchmetrics\" in key:\n",
    "                model_state_dict.pop(key)\n",
    "        # the state_dict keys slightly mismatch from Lightning..., so we fix it here\n",
    "        decoder_state_dict = {}\n",
    "        decoder_state_dict['output_transform.weight'] = model_state_dict.pop('decoder.0.output_transform.weight')\n",
    "        decoder_state_dict['output_transform.bias'] = model_state_dict.pop('decoder.0.output_transform.bias')\n",
    "        if adjust_embedding:\n",
    "            embedding = torch.nn.Embedding(20, 128)\n",
    "            backbone.backbone.embeddings.word_embeddings = embedding\n",
    "        # now actually load the state dict to the decoder and backbone separately\n",
    "        decoder.load_state_dict(decoder_state_dict, strict=True)\n",
    "        backbone.load_state_dict(model_state_dict, strict=True)\n",
    "        self.decoder = decoder.to(self.device).eval()\n",
    "        self.backbone = backbone.to(self.device).eval()\n",
    "#let's work on making that evaluation utils\n",
    "    def evaluate(self, batch_size=4096, num_workers=4):\n",
    "        if self.model_type == 'ccre':\n",
    "            targets = torch.zeros((len(self.dataset), 1023))\n",
    "            predicts = torch.zeros((len(self.dataset), 1023))\n",
    "            ccre = DataLoader(self.dataset, batch_size=4096, shuffle=False, num_workers=4) #results are identical even if you shuffle, obviously since it's just the mean\n",
    "            with torch.no_grad():\n",
    "                idx = 0\n",
    "                for i, batch in tqdm(enumerate(ccre), total = len(ccre)):\n",
    "                    seq, target = batch\n",
    "                    seq = seq.unsqueeze(0)\n",
    "                    seq = seq.to(self.device)\n",
    "                    b_size = seq.shape[0]\n",
    "                    y_hat = self.model.encode(seq)\n",
    "                    y_hat = y_hat[0].logits[0,:,:]\n",
    "                    targets[idx:b_size+idx,:] = target\n",
    "                    predicts[idx:b_size+idx,:] = y_hat.detach().cpu()\n",
    "                    idx += b_size\n",
    "        elif self.model_type == 'DNase' or self.model_type == 'DNase_ctst': #this does the flatten then reshape\n",
    "            targets_flat = torch.zeros(len(self.dataset)) #because output is just a single value, it's so obvious it's kind of stupid\n",
    "            predicts_flat = torch.zeros(len(self.dataset))\n",
    "            targets_class_flat = torch.zeros(len(self.dataset))\n",
    "            predicts_class_flat = torch.zeros(len(self.dataset))\n",
    "            DNase = DataLoader(self.dataset, batch_size=batch_size, shuffle=False, num_workers=num_workers) #results are identical even if you shuffle, obviously since it's just the mean\n",
    "            with torch.no_grad():\n",
    "                idx = 0\n",
    "                for i, batch in tqdm(enumerate(DNase), total = len(DNase)):\n",
    "                    seq, target = batch\n",
    "                    seq = seq.to(self.device)\n",
    "                    b_size = seq.shape[0]\n",
    "                    y_hat, _ = self.backbone(seq)\n",
    "                    y_hat = self.decoder(y_hat)\n",
    "                    if self.classification:\n",
    "                        targets_flat[idx:b_size+idx] = target[1].squeeze()\n",
    "                        targets_class_flat[idx:b_size+idx] = target[0].squeeze()\n",
    "                        predicts_flat[idx:b_size+idx] = y_hat[:,1].detach().cpu().squeeze() #note the .squeeze not necessary\n",
    "                        predicts_class_flat[idx:b_size+idx] = y_hat[:,0].detach().cpu().squeeze()\n",
    "                    else:\n",
    "                        targets_flat[idx:b_size+idx] = target.squeeze()\n",
    "                        predicts_flat[idx:b_size+idx] = y_hat.detach().cpu().squeeze()\n",
    "                    idx += b_size\n",
    "                    # if i == 5:\n",
    "                    #     break\n",
    "            targets = targets_flat.reshape(-1, self.dataset.cell_types)\n",
    "            predicts = predicts_flat.reshape(-1, self.dataset.cell_types)\n",
    "            targets2 = targets_class_flat.reshape(-1, self.dataset.cell_types)\n",
    "            predicts2 = predicts_class_flat.reshape(-1, self.dataset.cell_types)\n",
    "            if self.classification:\n",
    "                targets = (targets2, targets)\n",
    "                predicts = (predicts2, predicts)\n",
    "            return targets, predicts\n",
    "        elif self.model_type == 'DNase_allcelltypes':\n",
    "            targets = torch.zeros((len(self.dataset), 161))\n",
    "            predicts = torch.zeros((len(self.dataset), 161))\n",
    "            targets_class = torch.zeros((len(self.dataset), 161))\n",
    "            predicts_class = torch.zeros((len(self.dataset), 161))\n",
    "            DNase = DataLoader(self.dataset, batch_size=batch_size, shuffle=False, num_workers=num_workers) #results are identical even if you shuffle, obviously since it's just the mean\n",
    "            with torch.no_grad():\n",
    "                idx = 0\n",
    "                for i, batch in tqdm(enumerate(DNase), total = len(DNase)):\n",
    "                    seq, target = batch\n",
    "                    seq = seq.to(self.device)\n",
    "                    b_size = seq.shape[0]\n",
    "                    # target = target.to(device)\n",
    "                    y_hat, _ = self.backbone(seq)\n",
    "                    y_hat = self.decoder(y_hat)\n",
    "                    # print(y_hat)\n",
    "                    # print(target)\n",
    "                    if self.classification:\n",
    "                        targets_class[idx:b_size+idx,:] = target[0]\n",
    "                        predicts_class[idx:b_size+idx,:] = y_hat[:,:161].detach().cpu()\n",
    "                        targets[idx:b_size+idx,:] = target[1]\n",
    "                        predicts[idx:b_size+idx,:] = y_hat[:,161:].detach().cpu()\n",
    "                    else:\n",
    "                        targets[idx:b_size+idx,:] = target\n",
    "                        predicts[idx:b_size+idx,:] = y_hat.detach().cpu()\n",
    "                    idx += b_size\n",
    "                    # if i == 5:\n",
    "                    #     break\n",
    "            if self.classification:\n",
    "                targets = (targets_class, targets)\n",
    "                predicts = (predicts_class, predicts)\n",
    "            return targets, predicts"
   ]
  },
  {
   "cell_type": "code",
   "execution_count": 75,
   "metadata": {},
   "outputs": [
    {
     "name": "stderr",
     "output_type": "stream",
     "text": [
      "  0%|          | 5/264775 [00:15<231:15:32,  3.14s/it]\n"
     ]
    }
   ],
   "source": [
    "ctst = Evals('DNase_ctst', ctst_path, filter=True, classification=True)\n",
    "targets,predicts = ctst.evaluate(batch_size = 64, num_workers = 1)"
   ]
  },
  {
   "cell_type": "code",
   "execution_count": 76,
   "metadata": {},
   "outputs": [
    {
     "data": {
      "text/plain": [
       "2"
      ]
     },
     "execution_count": 76,
     "metadata": {},
     "output_type": "execute_result"
    }
   ],
   "source": [
    "#let's make sure it actually worked! only the first 5 batches are going to be done\n",
    "len(targets)"
   ]
  },
  {
   "cell_type": "code",
   "execution_count": 77,
   "metadata": {},
   "outputs": [
    {
     "data": {
      "text/plain": [
       "torch.Size([105252, 161])"
      ]
     },
     "execution_count": 77,
     "metadata": {},
     "output_type": "execute_result"
    }
   ],
   "source": [
    "targets[0].shape\n",
    "#this is about 64*264775/161, it's basically exactly that shape, so we're probably correct"
   ]
  },
  {
   "cell_type": "code",
   "execution_count": 82,
   "metadata": {},
   "outputs": [
    {
     "data": {
      "text/plain": [
       "tensor([-10.0000,  -1.1888, -10.0000,  -2.6834, -10.0000, -10.0000, -10.0000,\n",
       "        -10.0000, -10.0000,  -3.1970,  -3.1362,  -0.6400, -10.0000,  -2.7933,\n",
       "        -10.0000, -10.0000, -10.0000, -10.0000, -10.0000,  -2.9364, -10.0000,\n",
       "        -10.0000, -10.0000, -10.0000, -10.0000, -10.0000, -10.0000, -10.0000,\n",
       "        -10.0000, -10.0000,  -1.9988, -10.0000, -10.0000, -10.0000, -10.0000,\n",
       "         -2.0236,  -2.5367, -10.0000, -10.0000,  -0.6557, -10.0000, -10.0000,\n",
       "        -10.0000, -10.0000, -10.0000,  -0.4904, -10.0000, -10.0000, -10.0000,\n",
       "        -10.0000, -10.0000,   1.0666,   0.1828,   0.7807,  -0.4622,  -0.5024,\n",
       "         -1.3944, -10.0000, -10.0000, -10.0000,  -1.4567,  -1.5473,   0.2794,\n",
       "         -1.5674,   0.1411,  -1.2771,  -1.8280,  -1.3054, -10.0000, -10.0000,\n",
       "        -10.0000,  -1.2153, -10.0000, -10.0000,  -1.3412,  -1.8704, -10.0000,\n",
       "        -10.0000, -10.0000, -10.0000, -10.0000,  -2.5884, -10.0000,  -1.2475,\n",
       "         -0.9299,  -1.9488,  -0.5997,  -1.9992,  -0.9325, -10.0000,  -0.3091,\n",
       "         -0.8643, -10.0000,  -0.8927,  -2.0479, -10.0000, -10.0000,  -0.5906,\n",
       "        -10.0000, -10.0000, -10.0000,  -1.3991,   0.0885, -10.0000,  -1.1150,\n",
       "        -10.0000,  -1.4759, -10.0000,  -2.7343,   0.0923, -10.0000,  -2.1830,\n",
       "        -10.0000,  -0.3405,  -0.5072,  -1.9499, -10.0000,  -1.0593,  -1.0262,\n",
       "          1.0863,  -2.9089,  -0.6978,  -1.0936,  -2.3465,  -2.5884,  -0.7039,\n",
       "         -2.2640,  -1.0745,  -0.6802,  -2.0783,  -0.4656,  -1.5352, -10.0000,\n",
       "         -0.5768, -10.0000,   0.1599,  -2.8513, -10.0000,  -1.6389,  -0.4903,\n",
       "        -10.0000,   0.0200,  -1.3321,   0.8549,  -0.3134,  -0.1487,  -0.8417,\n",
       "         -0.6985,  -1.6844, -10.0000, -10.0000,  -3.1181, -10.0000,   0.8081,\n",
       "         -0.5790,  -0.0358,   0.2702, -10.0000, -10.0000,  -3.0268,  -2.2397])"
      ]
     },
     "execution_count": 82,
     "metadata": {},
     "output_type": "execute_result"
    }
   ],
   "source": [
    "#so if it's filling the first 161 each time, expect to see the first 64*5 filled which is 320, so almost the second row\n",
    "targets[1][1] #wait why is the entire second one filled? oh wait no it actually did 6 because breaks when it's 5!!"
   ]
  },
  {
   "cell_type": "code",
   "execution_count": 83,
   "metadata": {},
   "outputs": [
    {
     "data": {
      "text/plain": [
       "tensor([0.7598, 0.6773, 0.0000, 0.0000])"
      ]
     },
     "execution_count": 83,
     "metadata": {},
     "output_type": "execute_result"
    }
   ],
   "source": [
    "targets[1][2,60:64] #now we expect it to go to 384, which is number 62, so should be index 61, so let's do 60:64\n",
    "#first should have value and next, but not third, and it's exactly like we expected! So fills it in the way we want!!"
   ]
  },
  {
   "cell_type": "code",
   "execution_count": 84,
   "metadata": {},
   "outputs": [
    {
     "data": {
      "text/plain": [
       "tensor([0.8470, 0.9340, 0.0000, 0.0000])"
      ]
     },
     "execution_count": 84,
     "metadata": {},
     "output_type": "execute_result"
    }
   ],
   "source": [
    "predicts[1][2,60:64] #let's see if it's the same for the predicts, and it is, and the predictions kinda nice?"
   ]
  },
  {
   "cell_type": "markdown",
   "metadata": {},
   "source": [
    "# now let's do the multitasking one"
   ]
  },
  {
   "cell_type": "code",
   "execution_count": 95,
   "metadata": {},
   "outputs": [
    {
     "name": "stdout",
     "output_type": "stream",
     "text": [
      "0\n",
      "[tensor([[ 8,  7,  9,  ...,  9,  7,  8],\n",
      "        [10,  8,  8,  ...,  7, 10, 10],\n",
      "        [10,  8,  8,  ...,  8,  7,  8],\n",
      "        ...,\n",
      "        [ 8,  8,  9,  ...,  8,  9,  8],\n",
      "        [ 7,  8,  9,  ..., 10, 10,  8],\n",
      "        [ 8, 10,  9,  ...,  8,  8,  7]]), [tensor([[0, 1, 0,  ..., 0, 1, 0],\n",
      "        [0, 1, 0,  ..., 0, 1, 1],\n",
      "        [1, 1, 1,  ..., 1, 1, 1],\n",
      "        ...,\n",
      "        [1, 1, 1,  ..., 0, 1, 1],\n",
      "        [1, 1, 1,  ..., 1, 1, 1],\n",
      "        [1, 1, 1,  ..., 0, 1, 1]]), tensor([[-10.0000,  -0.4581, -10.0000,  ..., -10.0000,  -1.7576, -10.0000],\n",
      "        [-10.0000,  -1.1888, -10.0000,  ..., -10.0000,  -3.0268,  -2.2397],\n",
      "        [  0.2071,   1.3613,  -2.4325,  ...,  -0.7399,   4.2481,  -0.7007],\n",
      "        ...,\n",
      "        [  2.2684,   2.4656,   1.3764,  ..., -10.0000,   0.6194,  -0.8016],\n",
      "        [  1.7570,   1.9776,   0.3576,  ...,  -0.1018,   0.3272,  -1.5674],\n",
      "        [  1.8915,   1.7942,  -0.1421,  ..., -10.0000,   0.5980,  -0.8934]])]]\n"
     ]
    }
   ],
   "source": [
    "multitasking = Evals('DNase_allcelltypes', multitasking_path, filter=True, classification=True)\n",
    "#first let's verify shapes and sizes\n",
    "#first let's ensure that the sizes of it line up\n",
    "loader = DataLoader(multitasking.dataset, batch_size=64, shuffle=False, num_workers=1)\n",
    "for i, batch in enumerate(loader):\n",
    "    print(i)\n",
    "    print(batch)\n",
    "    if i == 0:\n",
    "        break"
   ]
  },
  {
   "cell_type": "code",
   "execution_count": 90,
   "metadata": {},
   "outputs": [
    {
     "data": {
      "text/plain": [
       "torch.Size([64, 1023])"
      ]
     },
     "execution_count": 90,
     "metadata": {},
     "output_type": "execute_result"
    }
   ],
   "source": [
    "seq,target = batch\n",
    "seq.shape"
   ]
  },
  {
   "cell_type": "code",
   "execution_count": 91,
   "metadata": {},
   "outputs": [
    {
     "name": "stdout",
     "output_type": "stream",
     "text": [
      "torch.Size([64, 322])\n"
     ]
    }
   ],
   "source": [
    "#that seems fine, now let's see the output\n",
    "out,_ = multitasking.backbone(seq)\n",
    "out2 = multitasking.decoder(out)\n",
    "print(out2.shape)"
   ]
  },
  {
   "cell_type": "code",
   "execution_count": 93,
   "metadata": {},
   "outputs": [
    {
     "name": "stdout",
     "output_type": "stream",
     "text": [
      "torch.Size([64, 161]) torch.Size([64, 161])\n"
     ]
    }
   ],
   "source": [
    "#and then we split it\n",
    "group1 = out2[:,:161]\n",
    "group2 = out2[:,161:]\n",
    "print(group1.shape,group2.shape)"
   ]
  },
  {
   "cell_type": "code",
   "execution_count": 96,
   "metadata": {},
   "outputs": [
    {
     "name": "stderr",
     "output_type": "stream",
     "text": [
      "  0%|          | 5/1645 [00:18<1:40:24,  3.67s/it]\n"
     ]
    }
   ],
   "source": [
    "#that way we can easily assign the values, let's test it again!!\n",
    "targets,predicts = multitasking.evaluate(batch_size = 64, num_workers = 1)\n",
    "#let's make sure it actually worked! only the first 5 batches are going to be done"
   ]
  },
  {
   "cell_type": "code",
   "execution_count": 97,
   "metadata": {},
   "outputs": [
    {
     "data": {
      "text/plain": [
       "2"
      ]
     },
     "execution_count": 97,
     "metadata": {},
     "output_type": "execute_result"
    }
   ],
   "source": [
    "len(targets)"
   ]
  },
  {
   "cell_type": "code",
   "execution_count": 99,
   "metadata": {},
   "outputs": [
    {
     "data": {
      "text/plain": [
       "torch.Size([105252, 161])"
      ]
     },
     "execution_count": 99,
     "metadata": {},
     "output_type": "execute_result"
    }
   ],
   "source": [
    "targets[0].shape #same size as expected"
   ]
  },
  {
   "cell_type": "code",
   "execution_count": 100,
   "metadata": {},
   "outputs": [
    {
     "name": "stdout",
     "output_type": "stream",
     "text": [
      "tensor([ 1.5312e+00,  1.3749e+00,  4.4333e-01,  6.2896e-01,  3.2693e-01,\n",
      "         1.1829e+00,  5.3676e-01,  9.1645e-01,  7.8030e-01,  1.2836e+00,\n",
      "         1.4689e+00,  1.6648e+00,  1.8419e+00,  1.3222e+00,  1.4890e+00,\n",
      "         9.8073e-01,  1.6293e+00,  1.7660e+00,  1.2401e+00,  1.1336e+00,\n",
      "         8.1193e-01,  1.3321e+00,  1.0181e+00,  8.2505e-01,  1.1019e+00,\n",
      "         1.1416e+00,  9.2684e-01,  1.3270e+00,  5.2542e-01,  4.5234e-01,\n",
      "         1.0179e+00,  8.8031e-01,  9.9684e-01,  1.1454e+00,  6.6114e-01,\n",
      "         1.1022e+00,  3.1261e-01,  1.0666e+00,  4.8010e-01,  4.9307e-01,\n",
      "        -6.7950e-01, -7.1893e-01,  3.6200e-01, -3.3970e-01, -1.0000e+01,\n",
      "         3.6856e-01,  2.4516e-01, -1.0000e+01,  5.1556e-01, -1.0000e+01,\n",
      "        -1.8974e-01,  2.3487e+00,  1.1324e+00,  2.2507e+00,  1.9197e+00,\n",
      "         1.2080e+00, -9.5411e-03, -2.4066e-01,  1.1510e+00, -4.3971e-01,\n",
      "         1.5761e-01, -7.5912e-02,  7.3937e-02,  8.1866e-02,  6.8733e-01,\n",
      "        -1.5518e-01,  2.5096e-01,  2.0218e-01,  3.8493e-01, -1.0000e+01,\n",
      "         8.5244e-01,  5.6480e-01, -1.2942e-02,  1.3371e+00,  3.9962e-01,\n",
      "        -6.2360e-02, -8.4138e-01, -1.9298e-01, -1.0000e+01, -1.0000e+01,\n",
      "        -5.4167e-01, -9.6949e-03,  1.6769e-01,  7.7328e-01, -6.1582e-01,\n",
      "        -5.1904e-01,  8.4922e-01, -3.5918e-01,  1.5624e-01,  9.5237e-01,\n",
      "         9.8967e-02, -2.4461e-01,  8.8812e-02, -1.4151e+00, -4.2644e-01,\n",
      "        -9.7451e-01, -6.0834e-01, -1.5238e-01,  1.8296e-01,  1.7301e+00,\n",
      "        -1.0000e+01,  5.5415e-01,  7.0257e-01, -2.7348e-02,  4.5055e-01,\n",
      "         1.4694e+00,  1.3805e-02,  9.8455e-01, -6.6122e-02,  1.1605e+00,\n",
      "         1.0521e-01,  1.0148e+00, -3.4440e-01,  4.5315e-01,  1.0465e+00,\n",
      "         8.2263e-01,  6.1068e-01, -9.0602e-01, -1.7269e-01,  1.2702e+00,\n",
      "         2.4823e-02,  8.1694e-01,  1.2513e+00,  4.3177e-01,  2.6225e-01,\n",
      "         9.2708e-01,  2.6254e-01,  1.2167e-01,  4.9468e-01, -2.2068e-01,\n",
      "         3.1195e-01,  1.4272e+00,  7.2712e-01,  8.6607e-01,  1.1371e+00,\n",
      "         3.9730e-01, -4.8866e-02,  1.1686e-01,  4.1161e-01,  1.0204e+00,\n",
      "         3.7505e-01,  6.0357e-01,  1.5517e-01,  1.3149e-01,  4.9199e-01,\n",
      "         1.0607e+00, -2.4418e-01, -6.6927e-01,  1.1733e+00,  5.1862e-01,\n",
      "        -2.3777e-01,  6.9121e-01,  3.6406e-01,  1.1177e+00,  1.0123e+00,\n",
      "         1.1177e+00,  9.8040e-01,  3.0071e-02, -2.0097e-01,  1.8011e-01,\n",
      "        -2.3086e-01])\n"
     ]
    }
   ],
   "source": [
    "#now let's make sure the first 64*6 are filled, so that means 383 should be but not 384\n",
    "print(targets[1][383])"
   ]
  },
  {
   "cell_type": "code",
   "execution_count": 101,
   "metadata": {},
   "outputs": [
    {
     "name": "stdout",
     "output_type": "stream",
     "text": [
      "tensor([0., 0., 0., 0., 0., 0., 0., 0., 0., 0., 0., 0., 0., 0., 0., 0., 0., 0., 0., 0., 0., 0., 0., 0.,\n",
      "        0., 0., 0., 0., 0., 0., 0., 0., 0., 0., 0., 0., 0., 0., 0., 0., 0., 0., 0., 0., 0., 0., 0., 0.,\n",
      "        0., 0., 0., 0., 0., 0., 0., 0., 0., 0., 0., 0., 0., 0., 0., 0., 0., 0., 0., 0., 0., 0., 0., 0.,\n",
      "        0., 0., 0., 0., 0., 0., 0., 0., 0., 0., 0., 0., 0., 0., 0., 0., 0., 0., 0., 0., 0., 0., 0., 0.,\n",
      "        0., 0., 0., 0., 0., 0., 0., 0., 0., 0., 0., 0., 0., 0., 0., 0., 0., 0., 0., 0., 0., 0., 0., 0.,\n",
      "        0., 0., 0., 0., 0., 0., 0., 0., 0., 0., 0., 0., 0., 0., 0., 0., 0., 0., 0., 0., 0., 0., 0., 0.,\n",
      "        0., 0., 0., 0., 0., 0., 0., 0., 0., 0., 0., 0., 0., 0., 0., 0., 0.])\n"
     ]
    }
   ],
   "source": [
    "print(targets[1][384]) #yupperoo!!"
   ]
  },
  {
   "cell_type": "code",
   "execution_count": 103,
   "metadata": {},
   "outputs": [
    {
     "name": "stdout",
     "output_type": "stream",
     "text": [
      "tensor([1., 1., 1., 1., 1., 1., 1., 1., 1., 1., 1., 1., 1., 1., 1., 1., 1., 1.,\n",
      "        1., 1., 1., 1., 1., 1., 1., 1., 1., 1., 1., 1., 1., 1., 1., 1., 1., 1.,\n",
      "        1., 1., 1., 1., 1., 1., 1., 1., 0., 1., 1., 0., 1., 0., 1., 1., 1., 1.,\n",
      "        1., 1., 1., 1., 1., 1., 1., 1., 1., 1., 1., 1., 1., 1., 1., 0., 1., 1.,\n",
      "        1., 1., 1., 1., 1., 1., 0., 0., 1., 1., 1., 1., 1., 1., 1., 1., 1., 1.,\n",
      "        1., 1., 1., 1., 1., 1., 1., 1., 1., 1., 0., 1., 1., 1., 1., 1., 1., 1.,\n",
      "        1., 1., 1., 1., 1., 1., 1., 1., 1., 1., 1., 1., 1., 1., 1., 1., 1., 1.,\n",
      "        1., 1., 1., 1., 1., 1., 1., 1., 1., 1., 1., 1., 1., 1., 1., 1., 1., 1.,\n",
      "        1., 1., 1., 1., 1., 1., 1., 1., 1., 1., 1., 1., 1., 1., 1., 1., 1.])\n"
     ]
    }
   ],
   "source": [
    "print(targets[0][383])"
   ]
  },
  {
   "cell_type": "code",
   "execution_count": 104,
   "metadata": {},
   "outputs": [
    {
     "name": "stdout",
     "output_type": "stream",
     "text": [
      "tensor([0., 0., 0., 0., 0., 0., 0., 0., 0., 0., 0., 0., 0., 0., 0., 0., 0., 0., 0., 0., 0., 0., 0., 0.,\n",
      "        0., 0., 0., 0., 0., 0., 0., 0., 0., 0., 0., 0., 0., 0., 0., 0., 0., 0., 0., 0., 0., 0., 0., 0.,\n",
      "        0., 0., 0., 0., 0., 0., 0., 0., 0., 0., 0., 0., 0., 0., 0., 0., 0., 0., 0., 0., 0., 0., 0., 0.,\n",
      "        0., 0., 0., 0., 0., 0., 0., 0., 0., 0., 0., 0., 0., 0., 0., 0., 0., 0., 0., 0., 0., 0., 0., 0.,\n",
      "        0., 0., 0., 0., 0., 0., 0., 0., 0., 0., 0., 0., 0., 0., 0., 0., 0., 0., 0., 0., 0., 0., 0., 0.,\n",
      "        0., 0., 0., 0., 0., 0., 0., 0., 0., 0., 0., 0., 0., 0., 0., 0., 0., 0., 0., 0., 0., 0., 0., 0.,\n",
      "        0., 0., 0., 0., 0., 0., 0., 0., 0., 0., 0., 0., 0., 0., 0., 0., 0.])\n"
     ]
    }
   ],
   "source": [
    "print(targets[0][384]) #also seems good, harder to tell cuz was zero before"
   ]
  },
  {
   "cell_type": "markdown",
   "metadata": {},
   "source": [
    "# evaluating multitasking model"
   ]
  },
  {
   "cell_type": "code",
   "execution_count": 6,
   "metadata": {},
   "outputs": [
    {
     "name": "stdout",
     "output_type": "stream",
     "text": [
      "torch.Size([105252, 161]) torch.Size([105252, 161])\n"
     ]
    }
   ],
   "source": [
    "#we will now evaluate the multitasking model, we saved out the results already, we can now load in the data\n",
    "import torch\n",
    "target_reg1 = torch.load('/data/leslie/sarthak/hyena/hyena-dna/evals/results/multitasking_targets_reg.pt')\n",
    "target_reg2 = torch.load('/data/leslie/sarthak/hyena/hyena-dna/evals/results/multitasking_targets.pt')\n",
    "#print shapes\n",
    "print(target_reg1.shape, target_reg2.shape)"
   ]
  },
  {
   "cell_type": "code",
   "execution_count": 7,
   "metadata": {},
   "outputs": [
    {
     "data": {
      "text/plain": [
       "True"
      ]
     },
     "execution_count": 7,
     "metadata": {},
     "output_type": "execute_result"
    }
   ],
   "source": [
    "#just make sure these are completely identical\n",
    "torch.allclose(target_reg1, target_reg2)"
   ]
  },
  {
   "cell_type": "code",
   "execution_count": 9,
   "metadata": {},
   "outputs": [
    {
     "name": "stdout",
     "output_type": "stream",
     "text": [
      "tensor([-10.0000,  -0.4581, -10.0000, -10.0000,  -1.8792])\n",
      "tensor([-10.0000,  -0.4581, -10.0000, -10.0000,  -1.8792])\n"
     ]
    }
   ],
   "source": [
    "print(target_reg1[0,0:5])\n",
    "print(target_reg2[0,0:5]) #they are identical, as we hoped"
   ]
  },
  {
   "cell_type": "code",
   "execution_count": 10,
   "metadata": {},
   "outputs": [
    {
     "name": "stdout",
     "output_type": "stream",
     "text": [
      "torch.Size([105252, 161]) torch.Size([105252, 161]) torch.Size([105252, 161]) torch.Size([105252, 161]) torch.Size([105252, 161])\n"
     ]
    }
   ],
   "source": [
    "#now let's load in the predictions and the targets for classification\n",
    "treg = torch.load('/data/leslie/sarthak/hyena/hyena-dna/evals/results/multitasking_targets_reg.pt') #the target regression\n",
    "tclass = torch.load('/data/leslie/sarthak/hyena/hyena-dna/evals/results/multitasking_targets_class.pt') #target classes\n",
    "preg1 = torch.load('/data/leslie/sarthak/hyena/hyena-dna/evals/results/multitasking_predicts.pt') #the predictions from original model\n",
    "preg2 = torch.load('/data/leslie/sarthak/hyena/hyena-dna/evals/results/multitasking_predicts_reg.pt') #predictions from model that also does class\n",
    "pclass = torch.load('/data/leslie/sarthak/hyena/hyena-dna/evals/results/multitasking_predicts_class.pt') #prediction from model that also does class\n",
    "#and print all the shapes\n",
    "print(treg.shape, tclass.shape, preg1.shape, preg2.shape, pclass.shape)"
   ]
  },
  {
   "cell_type": "code",
   "execution_count": 11,
   "metadata": {},
   "outputs": [
    {
     "name": "stdout",
     "output_type": "stream",
     "text": [
      "0.3006180457432864\n",
      "0.29061552608347463\n"
     ]
    }
   ],
   "source": [
    "#all identical shapes as we expected\n",
    "#now we can evaluate the regression and classification, first let's compare the regression results to the target\n",
    "#we will do correlations along the columns\n",
    "import numpy as np\n",
    "from scipy.stats import pearsonr\n",
    "corrs1 = []\n",
    "corrs2 = []\n",
    "for i in range(treg.shape[1]):\n",
    "    corr = pearsonr(treg[:,i], preg2[:,i])\n",
    "    corrs2.append(corr)\n",
    "    corr = pearsonr(treg[:,i], preg1[:,i])\n",
    "    corrs1.append(corr)\n",
    "print(np.mean(corrs1))\n",
    "print(np.mean(corrs2))"
   ]
  },
  {
   "cell_type": "code",
   "execution_count": 12,
   "metadata": {},
   "outputs": [
    {
     "data": {
      "text/plain": [
       "(array([ 3.,  1.,  5.,  1., 11.,  4.,  5.,  3.,  3.,  0.,  1.,  3.,  2.,\n",
       "         1.,  0.,  1.,  0.,  3.,  1.,  5.,  2.,  2.,  2.,  3.,  3.,  2.,\n",
       "         4.,  4.,  1.,  3.,  5.,  5.,  5., 10.,  6., 10.,  7.,  4.,  4.,\n",
       "         1.,  4.,  1.,  4.,  2.,  3.,  1.,  1.,  6.,  2.,  1.]),\n",
       " array([0.31942813, 0.32952181, 0.3396155 , 0.34970918, 0.35980286,\n",
       "        0.36989655, 0.37999023, 0.39008391, 0.4001776 , 0.41027128,\n",
       "        0.42036496, 0.43045864, 0.44055233, 0.45064601, 0.46073969,\n",
       "        0.47083338, 0.48092706, 0.49102074, 0.50111443, 0.51120811,\n",
       "        0.52130179, 0.53139548, 0.54148916, 0.55158284, 0.56167653,\n",
       "        0.57177021, 0.58186389, 0.59195758, 0.60205126, 0.61214494,\n",
       "        0.62223863, 0.63233231, 0.64242599, 0.65251968, 0.66261336,\n",
       "        0.67270704, 0.68280073, 0.69289441, 0.70298809, 0.71308178,\n",
       "        0.72317546, 0.73326914, 0.74336283, 0.75345651, 0.76355019,\n",
       "        0.77364388, 0.78373756, 0.79383124, 0.80392493, 0.81401861,\n",
       "        0.82411229]),\n",
       " <BarContainer object of 50 artists>)"
      ]
     },
     "execution_count": 12,
     "metadata": {},
     "output_type": "execute_result"
    },
    {
     "data": {
      "image/png": "[encoded data removed]",
      "text/plain": [
       "<Figure size 640x480 with 1 Axes>"
      ]
     },
     "metadata": {},
     "output_type": "display_data"
    }
   ],
   "source": [
    "#histogram of distributions\n",
    "import matplotlib.pyplot as plt\n",
    "plt.hist(np.array(corrs1)[:,0], bins = 50)\n",
    "plt.hist(np.array(corrs2)[:,0], bins = 50)\n",
    "#they are very similar, but it's hard to really tell"
   ]
  },
  {
   "cell_type": "code",
   "execution_count": 13,
   "metadata": {},
   "outputs": [
    {
     "name": "stderr",
     "output_type": "stream",
     "text": [
      "100%|██████████| 105252/105252 [03:10<00:00, 551.60it/s]\n"
     ]
    }
   ],
   "source": [
    "#let's do per row now\n",
    "from tqdm import tqdm\n",
    "corrs1 = []\n",
    "corrs2 = []\n",
    "for i in tqdm(range(treg.shape[0])):\n",
    "    corr = pearsonr(treg[i,:], preg2[i,:])\n",
    "    corrs2.append(corr)\n",
    "    corr = pearsonr(treg[i,:], preg1[i,:])\n",
    "    corrs1.append(corr)"
   ]
  },
  {
   "cell_type": "code",
   "execution_count": 14,
   "metadata": {},
   "outputs": [
    {
     "name": "stdout",
     "output_type": "stream",
     "text": [
      "0.23881655294068857\n",
      "0.2101141809802058\n"
     ]
    },
    {
     "data": {
      "text/plain": [
       "(array([2.000e+00, 0.000e+00, 1.000e+00, 2.000e+00, 5.000e+00, 0.000e+00,\n",
       "        4.000e+00, 4.000e+00, 1.000e+00, 3.000e+00, 7.000e+00, 1.400e+01,\n",
       "        1.400e+01, 3.200e+01, 5.400e+01, 9.500e+01, 1.900e+02, 3.790e+02,\n",
       "        5.820e+02, 8.630e+02, 1.285e+03, 1.876e+03, 2.481e+03, 3.142e+03,\n",
       "        3.940e+03, 4.754e+03, 5.256e+03, 6.001e+03, 6.378e+03, 6.589e+03,\n",
       "        6.794e+03, 6.817e+03, 6.877e+03, 6.412e+03, 5.758e+03, 5.109e+03,\n",
       "        3.921e+03, 3.190e+03, 2.760e+03, 2.495e+03, 2.101e+03, 1.920e+03,\n",
       "        1.708e+03, 1.512e+03, 1.222e+03, 1.085e+03, 7.520e+02, 5.250e+02,\n",
       "        2.670e+02, 7.300e+01]),\n",
       " array([-0.68447229, -0.65128715, -0.61810201, -0.58491687, -0.55173172,\n",
       "        -0.51854658, -0.48536144, -0.4521763 , -0.41899116, -0.38580602,\n",
       "        -0.35262088, -0.31943574, -0.2862506 , -0.25306546, -0.21988032,\n",
       "        -0.18669518, -0.15351004, -0.1203249 , -0.08713976, -0.05395461,\n",
       "        -0.02076947,  0.01241567,  0.04560081,  0.07878595,  0.11197109,\n",
       "         0.14515623,  0.17834137,  0.21152651,  0.24471165,  0.27789679,\n",
       "         0.31108193,  0.34426707,  0.37745221,  0.41063735,  0.44382249,\n",
       "         0.47700764,  0.51019278,  0.54337792,  0.57656306,  0.6097482 ,\n",
       "         0.64293334,  0.67611848,  0.70930362,  0.74248876,  0.7756739 ,\n",
       "         0.80885904,  0.84204418,  0.87522932,  0.90841446,  0.9415996 ,\n",
       "         0.97478475]),\n",
       " <BarContainer object of 50 artists>)"
      ]
     },
     "execution_count": 14,
     "metadata": {},
     "output_type": "execute_result"
    },
    {
     "data": {
      "image/png": "[encoded data removed]",
      "text/plain": [
       "<Figure size 640x480 with 1 Axes>"
      ]
     },
     "metadata": {},
     "output_type": "display_data"
    }
   ],
   "source": [
    "#now let's plot the distributions\n",
    "print(np.mean(corrs1))\n",
    "print(np.mean(corrs2))\n",
    "plt.hist(np.array(corrs1)[:,0], bins = 50)\n",
    "plt.hist(np.array(corrs2)[:,0], bins = 50)"
   ]
  },
  {
   "cell_type": "code",
   "execution_count": 15,
   "metadata": {},
   "outputs": [
    {
     "data": {
      "text/plain": [
       "{'whiskers': [<matplotlib.lines.Line2D at 0x2b3c29e5a290>,\n",
       "  <matplotlib.lines.Line2D at 0x2b3c29e5ae50>,\n",
       "  <matplotlib.lines.Line2D at 0x2b3c29e40f50>,\n",
       "  <matplotlib.lines.Line2D at 0x2b3c29e405d0>],\n",
       " 'caps': [<matplotlib.lines.Line2D at 0x2b3c29e5ba10>,\n",
       "  <matplotlib.lines.Line2D at 0x2b3c29e43a10>,\n",
       "  <matplotlib.lines.Line2D at 0x2b3c29e74550>,\n",
       "  <matplotlib.lines.Line2D at 0x2b3c29e74f10>],\n",
       " 'boxes': [<matplotlib.lines.Line2D at 0x2b3c29d95e10>,\n",
       "  <matplotlib.lines.Line2D at 0x2b3c29e41a50>],\n",
       " 'medians': [<matplotlib.lines.Line2D at 0x2b3c29e42f50>,\n",
       "  <matplotlib.lines.Line2D at 0x2b3c29e75950>],\n",
       " 'fliers': [<matplotlib.lines.Line2D at 0x2b3c29e424d0>,\n",
       "  <matplotlib.lines.Line2D at 0x2b3c29e76410>],\n",
       " 'means': []}"
      ]
     },
     "execution_count": 15,
     "metadata": {},
     "output_type": "execute_result"
    },
    {
     "data": {
      "image/png": "[encoded data removed]",
      "text/plain": [
       "<Figure size 640x480 with 1 Axes>"
      ]
     },
     "metadata": {},
     "output_type": "display_data"
    }
   ],
   "source": [
    "#let's do a boxplot\n",
    "plt.boxplot([np.array(corrs1)[:,0], np.array(corrs2)[:,0]]) #wow, the first one is much better!"
   ]
  },
  {
   "cell_type": "code",
   "execution_count": 16,
   "metadata": {},
   "outputs": [
    {
     "name": "stdout",
     "output_type": "stream",
     "text": [
      "torch.Size([16352624]) torch.Size([16352624]) torch.Size([16352624])\n"
     ]
    }
   ],
   "source": [
    "#now we have to consider masking them\n",
    "mask = treg != -10\n",
    "preg1_masked = preg1[mask]\n",
    "preg2_masked = preg2[mask]\n",
    "treg_masked = treg[mask]\n",
    "#and print shapes\n",
    "print(preg1_masked.shape, preg2_masked.shape, treg_masked.shape)"
   ]
  },
  {
   "cell_type": "code",
   "execution_count": 17,
   "metadata": {},
   "outputs": [
    {
     "data": {
      "text/plain": [
       "torch.Size([105252, 161])"
      ]
     },
     "execution_count": 17,
     "metadata": {},
     "output_type": "execute_result"
    }
   ],
   "source": [
    "mask.shape"
   ]
  },
  {
   "cell_type": "code",
   "execution_count": 18,
   "metadata": {},
   "outputs": [
    {
     "name": "stdout",
     "output_type": "stream",
     "text": [
      "PearsonRResult(statistic=0.596312088507674, pvalue=0.0) PearsonRResult(statistic=0.6909049625691586, pvalue=0.0)\n"
     ]
    }
   ],
   "source": [
    "#just do a correlation on this for now, and isnce it's 1d vectors, should just get a single value\n",
    "corr1 = pearsonr(treg_masked, preg1_masked)\n",
    "corr2 = pearsonr(treg_masked, preg2_masked)\n",
    "print(corr1, corr2) #significantly better for this!! So we know that it's doing better at predicting the other ones!\n",
    "#that was the hypothesis and this does make sense"
   ]
  },
  {
   "cell_type": "code",
   "execution_count": 23,
   "metadata": {},
   "outputs": [
    {
     "data": {
      "text/plain": [
       "<matplotlib.legend.Legend at 0x2b3c2c2a9dd0>"
      ]
     },
     "execution_count": 23,
     "metadata": {},
     "output_type": "execute_result"
    },
    {
     "data": {
      "image/png": "[encoded data removed]",
      "text/plain": [
       "<Figure size 640x480 with 1 Axes>"
      ]
     },
     "metadata": {},
     "output_type": "display_data"
    }
   ],
   "source": [
    "#let's plot this, but we have to sample it because too many points, every 11 should be fine\n",
    "plt.plot([-10,8],[-10,8], color='red')\n",
    "plt.scatter(treg_masked[::100], preg1_masked[::100])\n",
    "plt.scatter(treg_masked[::100], preg2_masked[::100])\n",
    "#legend\n",
    "plt.legend(['1:1 line', 'Original', 'classification too'])\n",
    "#this classification model has no reason to predict -10 values so doesn't even try, makes it more regression to the mean\n",
    "#worse at smaller values, but equal for larger values and better for middle values"
   ]
  },
  {
   "cell_type": "code",
   "execution_count": 24,
   "metadata": {},
   "outputs": [
    {
     "name": "stdout",
     "output_type": "stream",
     "text": [
      "torch.Size([105252, 161]) torch.Size([105252, 161]) torch.Size([105252, 161])\n"
     ]
    }
   ],
   "source": [
    "#now let's find a way to do correlations per row\n",
    "#let's create the masked objects as copies of the original\n",
    "treg_masked = treg.clone()\n",
    "preg1_masked = preg1.clone()\n",
    "preg2_masked = preg2.clone()\n",
    "#now find values that are -10 in the target\n",
    "mask = treg == -10\n",
    "#and replace the mask indices with NaN\n",
    "treg_masked[mask] = np.nan\n",
    "preg1_masked[mask] = np.nan\n",
    "preg2_masked[mask] = np.nan\n",
    "#print all the shapes\n",
    "print(treg_masked.shape, preg1_masked.shape, preg2_masked.shape)"
   ]
  },
  {
   "cell_type": "code",
   "execution_count": 26,
   "metadata": {},
   "outputs": [
    {
     "name": "stdout",
     "output_type": "stream",
     "text": [
      "tensor([        nan, -4.5808e-01,         nan,         nan, -1.8792e+00,\n",
      "                nan, -2.3478e+00, -1.8173e+00, -6.1973e-01, -3.1970e+00,\n",
      "        -3.1362e+00, -6.3732e-01,         nan,         nan,         nan,\n",
      "                nan,         nan,         nan,         nan, -1.6359e+00,\n",
      "        -2.9812e+00,         nan,         nan, -1.9674e+00,         nan,\n",
      "                nan,         nan, -1.1343e+00, -1.4971e+00,         nan,\n",
      "                nan,         nan, -1.6084e+00,         nan,         nan,\n",
      "        -2.0236e+00, -2.5367e+00, -1.1614e-01, -5.7076e-01,         nan,\n",
      "                nan,         nan,         nan,         nan,         nan,\n",
      "        -6.2989e-01,         nan, -3.2462e-01,         nan,         nan,\n",
      "                nan, -2.0274e-01,         nan, -1.7594e+00,         nan,\n",
      "        -7.5590e-01, -1.1066e+00, -1.7550e+00,         nan,         nan,\n",
      "        -1.2859e+00,         nan, -4.0290e-02,         nan, -5.8336e-01,\n",
      "                nan,         nan,         nan,         nan,         nan,\n",
      "                nan,         nan,         nan,         nan, -7.3588e-01,\n",
      "        -4.0794e-01,         nan,         nan,         nan,         nan,\n",
      "                nan, -2.7017e+00,         nan,  1.8350e+00, -5.8716e-02,\n",
      "        -2.0472e+00,  6.2031e-04, -1.5060e+00,         nan,  3.8892e-01,\n",
      "        -5.4557e-01, -7.9473e-01,         nan,         nan, -2.2882e+00,\n",
      "                nan,         nan, -1.7029e+00,         nan,         nan,\n",
      "                nan,         nan, -1.0525e+00, -5.3042e-01,  3.1996e-01,\n",
      "        -2.8669e-01, -9.9336e-01, -2.0395e-01, -1.0798e+00, -1.5536e-01,\n",
      "                nan,         nan,         nan,  1.6758e-01,  2.8610e-01,\n",
      "                nan,         nan,         nan,         nan,  1.6354e-01,\n",
      "                nan,         nan,         nan, -2.0694e+00, -1.7942e+00,\n",
      "                nan, -7.3466e-01, -1.0402e+00,  9.2766e-02, -1.6520e+00,\n",
      "        -1.2083e+00,         nan, -1.5517e+00,  1.2717e-01,         nan,\n",
      "        -1.9727e+00, -1.7651e+00, -1.5085e+00,         nan, -1.1466e+00,\n",
      "                nan,         nan,         nan, -1.2911e-01,         nan,\n",
      "                nan,         nan, -8.9330e-01, -2.7886e+00, -8.8353e-01,\n",
      "                nan,         nan,         nan,         nan, -1.5294e+00,\n",
      "        -6.4778e-01,         nan,         nan,         nan, -1.7576e+00,\n",
      "                nan])\n"
     ]
    }
   ],
   "source": [
    "print(treg_masked[0])"
   ]
  },
  {
   "cell_type": "code",
   "execution_count": 31,
   "metadata": {},
   "outputs": [
    {
     "name": "stdout",
     "output_type": "stream",
     "text": [
      "0.3334134577661768 0.3456259685463429\n"
     ]
    }
   ],
   "source": [
    "#now let's do it per column\n",
    "corrs1 = []\n",
    "corrs2 = []\n",
    "for i in range(treg_masked.shape[1]):\n",
    "    #a key is we need to remove the NaN values\n",
    "    temp_target = treg_masked[:,i]\n",
    "    #and remove nan\n",
    "    temp_target = temp_target[~torch.isnan(temp_target)]\n",
    "    # print(temp_target, temp_target.shape)\n",
    "    \n",
    "    # break\n",
    "    temp_reg1 = preg1_masked[:,i]\n",
    "    temp_reg1 = temp_reg1[~torch.isnan(temp_reg1)]\n",
    "    corr = pearsonr(temp_target, temp_reg1)\n",
    "    corrs1.append(corr)\n",
    "    temp_reg2 = preg2_masked[:,i]\n",
    "    temp_reg2 = temp_reg2[~torch.isnan(temp_reg2)]\n",
    "    corr = pearsonr(temp_target, temp_reg2)\n",
    "    corrs2.append(corr)\n",
    "#print the means\n",
    "print(np.mean(corrs1), np.mean(corrs2)) #only slighlty higher"
   ]
  },
  {
   "cell_type": "code",
   "execution_count": 33,
   "metadata": {},
   "outputs": [
    {
     "data": {
      "text/plain": [
       "<matplotlib.legend.Legend at 0x2b3c1e41dad0>"
      ]
     },
     "execution_count": 33,
     "metadata": {},
     "output_type": "execute_result"
    },
    {
     "data": {
      "image/png": "[encoded data removed]",
      "text/plain": [
       "<Figure size 640x480 with 1 Axes>"
      ]
     },
     "metadata": {},
     "output_type": "display_data"
    }
   ],
   "source": [
    "#plot the distribution\n",
    "plt.hist(np.array(corrs1)[:,0], bins = 50)\n",
    "plt.hist(np.array(corrs2)[:,0], bins = 50)\n",
    "#legend\n",
    "plt.legend(['Original', 'Classification too'])"
   ]
  },
  {
   "cell_type": "code",
   "execution_count": 34,
   "metadata": {},
   "outputs": [
    {
     "name": "stderr",
     "output_type": "stream",
     "text": [
      "100%|██████████| 105252/105252 [03:20<00:00, 525.90it/s]\n"
     ]
    }
   ],
   "source": [
    "#and now per row\n",
    "corrs1 = []\n",
    "corrs2 = []\n",
    "for i in tqdm(range(treg_masked.shape[0])):\n",
    "    #a key is we need to remove the NaN values\n",
    "    temp_target = treg_masked[i,:]\n",
    "    #and remove nan\n",
    "    temp_target = temp_target[~torch.isnan(temp_target)]\n",
    "    temp_reg1 = preg1_masked[i,:]\n",
    "    temp_reg1 = temp_reg1[~torch.isnan(temp_reg1)]\n",
    "    corr = pearsonr(temp_target, temp_reg1)\n",
    "    corrs1.append(corr)\n",
    "\n",
    "    temp_reg2 = preg2_masked[i,:]\n",
    "    temp_reg2 = temp_reg2[~torch.isnan(temp_reg2)]\n",
    "    corr = pearsonr(temp_target, temp_reg2)\n",
    "    corrs2.append(corr)"
   ]
  },
  {
   "cell_type": "code",
   "execution_count": 35,
   "metadata": {},
   "outputs": [
    {
     "name": "stdout",
     "output_type": "stream",
     "text": [
      "0.21928802238523684 0.25967691783175445\n"
     ]
    },
    {
     "data": {
      "text/plain": [
       "<matplotlib.legend.Legend at 0x2b3c25561dd0>"
      ]
     },
     "execution_count": 35,
     "metadata": {},
     "output_type": "execute_result"
    },
    {
     "data": {
      "image/png": "[encoded data removed]",
      "text/plain": [
       "<Figure size 640x480 with 1 Axes>"
      ]
     },
     "metadata": {},
     "output_type": "display_data"
    }
   ],
   "source": [
    "print(np.mean(corrs1), np.mean(corrs2)) #only slighlty higher\n",
    "#and plot\n",
    "plt.hist(np.array(corrs1)[:,0], bins = 50)\n",
    "plt.hist(np.array(corrs2)[:,0], bins = 50)\n",
    "#legend\n",
    "plt.legend(['Original', 'Classification too'])"
   ]
  },
  {
   "cell_type": "markdown",
   "metadata": {},
   "source": [
    "## conclusions\n",
    "The model that does classification and disregards the -10 points does much better in general because it doesn't usually have to worry about the negative values, this is good and shows the model is actually doing MSE"
   ]
  },
  {
   "cell_type": "markdown",
   "metadata": {},
   "source": [
    "# evaluating classification\n",
    "We now evaluate how well it's able to classify the values"
   ]
  },
  {
   "cell_type": "code",
   "execution_count": 41,
   "metadata": {},
   "outputs": [
    {
     "name": "stdout",
     "output_type": "stream",
     "text": [
      "[[   53612   539336]\n",
      " [   31841 16320783]]\n"
     ]
    }
   ],
   "source": [
    "#the easy answer is just create a confusion matrix and roc curve for the classification\n",
    "from sklearn.metrics import confusion_matrix\n",
    "from sklearn.metrics import roc_curve\n",
    "from sklearn.metrics import roc_auc_score\n",
    "#let's just do it for all the values together\n",
    "#first have to take pclass and use 0 as the threshold\n",
    "pclass_binary = np.where(pclass > 0, 1, 0)\n",
    "cm = confusion_matrix(tclass.numpy().flatten(), pclass_binary.flatten())\n",
    "print(cm)"
   ]
  },
  {
   "cell_type": "code",
   "execution_count": 40,
   "metadata": {},
   "outputs": [
    {
     "data": {
      "text/plain": [
       "(105252, 161)"
      ]
     },
     "execution_count": 40,
     "metadata": {},
     "output_type": "execute_result"
    }
   ],
   "source": [
    "pclass_binary.shape"
   ]
  },
  {
   "cell_type": "code",
   "execution_count": 43,
   "metadata": {},
   "outputs": [
    {
     "name": "stdout",
     "output_type": "stream",
     "text": [
      "[[0.00316378 0.03182755]\n",
      " [0.00187902 0.96312966]]\n"
     ]
    }
   ],
   "source": [
    "#normalize cm by dividing by the number of samples\n",
    "cm_new = cm / np.sum(cm)\n",
    "print(cm_new)\n",
    "#most of them are open and can properly predict this, let's see the roc curve"
   ]
  },
  {
   "cell_type": "code",
   "execution_count": 44,
   "metadata": {},
   "outputs": [
    {
     "data": {
      "text/plain": [
       "[<matplotlib.lines.Line2D at 0x2b3c2e35bcd0>]"
      ]
     },
     "execution_count": 44,
     "metadata": {},
     "output_type": "execute_result"
    },
    {
     "data": {
      "image/png": "[encoded data removed]",
      "text/plain": [
       "<Figure size 640x480 with 1 Axes>"
      ]
     },
     "metadata": {},
     "output_type": "display_data"
    }
   ],
   "source": [
    "#roc curve now\n",
    "fpr, tpr, thresholds = roc_curve(tclass.numpy().flatten(), pclass.flatten())\n",
    "plt.plot(fpr, tpr)\n",
    "plt.plot([0,1],[0,1], color='red')"
   ]
  },
  {
   "cell_type": "code",
   "execution_count": 45,
   "metadata": {},
   "outputs": [
    {
     "data": {
      "text/plain": [
       "0.9221599384095003"
      ]
     },
     "execution_count": 45,
     "metadata": {},
     "output_type": "execute_result"
    }
   ],
   "source": [
    "#and auc\n",
    "roc_auc_score(tclass.numpy().flatten(), pclass.flatten())"
   ]
  },
  {
   "cell_type": "code",
   "execution_count": 46,
   "metadata": {},
   "outputs": [
    {
     "data": {
      "text/plain": [
       "[<matplotlib.lines.Line2D at 0x2b3c2e117ad0>]"
      ]
     },
     "execution_count": 46,
     "metadata": {},
     "output_type": "execute_result"
    },
    {
     "data": {
      "image/png": "[encoded data removed]",
      "text/plain": [
       "<Figure size 640x480 with 1 Axes>"
      ]
     },
     "metadata": {},
     "output_type": "display_data"
    }
   ],
   "source": [
    "#we can also do precision recall curve\n",
    "from sklearn.metrics import precision_recall_curve\n",
    "precision, recall, thresholds = precision_recall_curve(tclass.numpy().flatten(), pclass.flatten())\n",
    "plt.plot(recall, precision)"
   ]
  },
  {
   "cell_type": "code",
   "execution_count": 47,
   "metadata": {},
   "outputs": [
    {
     "data": {
      "text/plain": [
       "0.9968743607488747"
      ]
     },
     "execution_count": 47,
     "metadata": {},
     "output_type": "execute_result"
    }
   ],
   "source": [
    "#and we find the area underneath the curve\n",
    "from sklearn.metrics import auc\n",
    "auc(recall, precision) \n",
    "#insane precision and recall!!"
   ]
  },
  {
   "cell_type": "code",
   "execution_count": 48,
   "metadata": {},
   "outputs": [
    {
     "data": {
      "text/plain": [
       "tensor([[1.3113, 1.0276, 2.4768,  ..., 2.2193, 4.1963, 3.7032],\n",
       "        [0.9108, 1.2559, 2.4030,  ..., 1.1982, 5.6989, 4.1233],\n",
       "        [2.2807, 2.6887, 3.0480,  ..., 0.8409, 4.6183, 2.5676],\n",
       "        ...,\n",
       "        [3.6389, 3.8199, 6.1429,  ..., 2.4347, 7.0609, 6.4253],\n",
       "        [6.4838, 6.6250, 6.6446,  ..., 2.9762, 8.2959, 6.8535],\n",
       "        [4.6932, 4.7125, 5.9956,  ..., 2.6815, 7.3133, 6.5013]])"
      ]
     },
     "execution_count": 48,
     "metadata": {},
     "output_type": "execute_result"
    }
   ],
   "source": [
    "pclass #yeah that's the sorts of values we'd expect... but why is this so much better than looking one row at a time??"
   ]
  },
  {
   "cell_type": "code",
   "execution_count": 49,
   "metadata": {},
   "outputs": [
    {
     "name": "stdout",
     "output_type": "stream",
     "text": [
      "0.8437360357336126 0.987681174542341\n"
     ]
    }
   ],
   "source": [
    "#let's compare one column at a time and find the rocauc and prcauc\n",
    "auclist = []\n",
    "prclist = []\n",
    "for i in range(tclass.shape[1]):\n",
    "    # fpr, tpr, thresholds = roc_curve(tclass[:,i], pclass[:,i])\n",
    "    auclist.append(roc_auc_score(tclass[:,i], pclass[:,i]))\n",
    "    precision, recall, thresholds = precision_recall_curve(tclass[:,i], pclass[:,i])\n",
    "    prclist.append(auc(recall, precision))\n",
    "#print the means\n",
    "print(np.mean(auclist), np.mean(prclist)) #this is much better than the average, but it's still very good"
   ]
  },
  {
   "cell_type": "code",
   "execution_count": 51,
   "metadata": {},
   "outputs": [
    {
     "data": {
      "text/plain": [
       "<matplotlib.legend.Legend at 0x2b3c2e5112d0>"
      ]
     },
     "execution_count": 51,
     "metadata": {},
     "output_type": "execute_result"
    },
    {
     "data": {
      "image/png": "[encoded data removed]",
      "text/plain": [
       "<Figure size 640x480 with 1 Axes>"
      ]
     },
     "metadata": {},
     "output_type": "display_data"
    }
   ],
   "source": [
    "#let's look at the distribution\n",
    "plt.hist(auclist, bins = 50)\n",
    "plt.hist(prclist, bins = 50)\n",
    "plt.legend(['roc_auc', 'pr_auc'])\n",
    "#actually pretty good!!\n",
    "#shows that for some cell types pehnomenal"
   ]
  },
  {
   "cell_type": "code",
   "execution_count": 54,
   "metadata": {},
   "outputs": [
    {
     "name": "stderr",
     "output_type": "stream",
     "text": [
      "100%|██████████| 105252/105252 [03:11<00:00, 549.86it/s]\n"
     ]
    }
   ],
   "source": [
    "#and by rows\n",
    "auclist = []\n",
    "prclist = []\n",
    "for i in tqdm(range(tclass.shape[0])):\n",
    "    # fpr, tpr, thresholds = roc_curve(tclass[i,:], pclass[i,:])\n",
    "    #check to ensure that tclass[i,:] is not all the same 0 or 1 output\n",
    "    if torch.all(tclass[i,:] == 0) or torch.all(tclass[i,:] == 1):\n",
    "        continue\n",
    "    auclist.append(roc_auc_score(tclass[i,:], pclass[i,:]))\n",
    "    precision, recall, thresholds = precision_recall_curve(tclass[i,:], pclass[i,:])\n",
    "    prclist.append(auc(recall, precision))"
   ]
  },
  {
   "cell_type": "code",
   "execution_count": 56,
   "metadata": {},
   "outputs": [
    {
     "name": "stdout",
     "output_type": "stream",
     "text": [
      "87140 87140\n",
      "0.9139230694689952 0.9950151543557907\n"
     ]
    },
    {
     "data": {
      "text/plain": [
       "<matplotlib.legend.Legend at 0x2b3c2eb929d0>"
      ]
     },
     "execution_count": 56,
     "metadata": {},
     "output_type": "execute_result"
    },
    {
     "data": {
      "image/png": "[encoded data removed]",
      "text/plain": [
       "<Figure size 640x480 with 1 Axes>"
      ]
     },
     "metadata": {},
     "output_type": "display_data"
    }
   ],
   "source": [
    "print(len(auclist), len(prclist)) #shoudl be the same length, but skips CREs where all the same\n",
    "print(np.mean(auclist), np.mean(prclist)) #this is much better than the average, but it's still very good\n",
    "#and plot them\n",
    "plt.hist(auclist, bins = 50)\n",
    "plt.hist(prclist, bins = 50)\n",
    "plt.legend(['roc_auc', 'pr_auc'])"
   ]
  },
  {
   "cell_type": "code",
   "execution_count": 58,
   "metadata": {},
   "outputs": [
    {
     "name": "stdout",
     "output_type": "stream",
     "text": [
      "tensor([0., 1., 0., 0., 1., 0., 1., 1., 1., 1., 1., 1., 0., 0., 0., 0., 0., 0.,\n",
      "        0., 1., 1., 0., 0., 1., 0., 0., 0., 1., 1., 0., 0., 0., 1., 0., 0., 1.,\n",
      "        1., 1., 1., 0., 0., 0., 0., 0., 0., 1., 0., 1., 0., 0., 0., 1., 0., 1.,\n",
      "        0., 1., 1., 1., 0., 0., 1., 0., 1., 0., 1., 0., 0., 0., 0., 0., 0., 0.,\n",
      "        0., 0., 1., 1., 0., 0., 0., 0., 0., 1., 0., 1., 1., 1., 1., 1., 0., 1.,\n",
      "        1., 1., 0., 0., 1., 0., 0., 1., 0., 0., 0., 0., 1., 1., 1., 1., 1., 1.,\n",
      "        1., 1., 0., 0., 0., 1., 1., 0., 0., 0., 0., 1., 0., 0., 0., 1., 1., 0.,\n",
      "        1., 1., 1., 1., 1., 0., 1., 1., 0., 1., 1., 1., 0., 1., 0., 0., 0., 1.,\n",
      "        0., 0., 0., 1., 1., 1., 0., 0., 0., 0., 1., 1., 0., 0., 0., 1., 0.])\n",
      "tensor([ 1.3113,  1.0276,  2.4768,  3.5758,  3.2231,  3.1419,  4.0295,  3.1059,\n",
      "         2.3982,  3.9641,  3.5131,  1.7574,  1.5665,  3.9942,  3.3422,  1.4613,\n",
      "         1.6208,  1.8042,  1.1558,  3.8076,  3.3139,  1.6151,  2.5940,  2.3656,\n",
      "         2.2174,  0.3841,  3.4716,  1.1116,  2.4532,  0.4068,  3.7172,  0.7693,\n",
      "         2.7121,  0.2558,  2.6654,  2.9993,  3.2487,  5.2166,  1.4840,  1.7232,\n",
      "         1.0848,  0.7143,  1.4387,  1.1965, -0.1054,  2.4211,  1.9824,  1.6224,\n",
      "         1.6123,  1.0640,  0.9670,  3.3873,  2.0803,  4.1015,  1.9808,  3.4188,\n",
      "         4.1627,  4.1555,  2.8186,  1.4098,  4.4016,  4.4631,  3.0001,  4.3283,\n",
      "         2.2662,  5.6704,  5.0758,  3.9410,  1.4551,  1.1284,  1.7845,  5.3990,\n",
      "         1.1197,  3.4247,  4.7378,  4.2357,  4.6024,  4.3283,  1.2087,  1.2397,\n",
      "         1.0487,  5.4778,  4.9358,  3.6838,  3.6702,  4.3725,  3.9893,  3.6546,\n",
      "         3.1744,  3.5800,  1.6608,  2.8509,  3.7004,  1.0278,  4.5025,  1.4859,\n",
      "         1.3261,  3.9891,  3.9178,  0.4425,  2.4902,  4.3682,  5.2012,  2.4211,\n",
      "         3.5032,  5.7118,  4.2205,  1.4426,  3.8724,  7.1110,  3.2949,  5.1039,\n",
      "         3.1853,  3.4408,  5.1286,  5.1867,  3.5571,  2.7918,  3.5567,  5.9497,\n",
      "         5.0125,  4.8003,  7.1169,  5.1303,  3.6971,  3.7845,  3.7227,  4.4481,\n",
      "         5.3725,  3.3070,  4.4944,  2.4806,  3.8602,  2.8220,  4.7107,  2.9423,\n",
      "         4.1470,  4.2547,  5.1644,  5.2357,  4.6765,  6.3771,  4.6519,  3.7713,\n",
      "         3.9108,  4.0364,  5.2221,  2.6143,  5.2897,  2.0804,  3.8716,  5.0564,\n",
      "         3.1343,  3.2875,  4.9956,  5.4824,  6.6309,  2.8555,  2.2193,  4.1963,\n",
      "         3.7032])\n",
      "0.6440387016229713\n",
      "0.5244076084418389\n",
      "0.6440387016229713\n",
      "0.5244076084418389\n"
     ]
    }
   ],
   "source": [
    "print(tclass[0,:]) #let's make sure when we manually calculate this we get the exact same results\n",
    "print(pclass[0,:])\n",
    "print(auclist[0])\n",
    "print(prclist[0])\n",
    "print(roc_auc_score(tclass[0,:], pclass[0,:]))\n",
    "#and auc of prc\n",
    "precision, recall, thresholds = precision_recall_curve(tclass[0,:], pclass[0,:])\n",
    "print(auc(recall, precision)) #both of these line up with our list, now let's manually go ahead and check\n",
    "#oh seems like this is one of the worst ones, so that makes sense"
   ]
  },
  {
   "cell_type": "code",
   "execution_count": 60,
   "metadata": {},
   "outputs": [
    {
     "data": {
      "text/plain": [
       "[0.6440387016229713,\n",
       " 0.8085271317829457,\n",
       " 0.8461968680089484,\n",
       " 0.7760536398467432,\n",
       " 0.5701754385964912,\n",
       " 0.8089171974522293,\n",
       " 0.9654088050314465,\n",
       " 0.9792993630573248,\n",
       " 1.0,\n",
       " 0.93125,\n",
       " 0.8666666666666667,\n",
       " 0.9276729559748428,\n",
       " 0.9517543859649122,\n",
       " 0.8634596695821185,\n",
       " 0.9271523178807948,\n",
       " 0.9559748427672956,\n",
       " 0.9937106918238994,\n",
       " 0.9666666666666667,\n",
       " 0.9612903225806452,\n",
       " 0.9591194968553459,\n",
       " 0.9808917197452229,\n",
       " 0.9811320754716981,\n",
       " 0.9156050955414012,\n",
       " 1.0,\n",
       " 0.9472573839662447,\n",
       " 0.9580645161290323,\n",
       " 0.9763071895424836,\n",
       " 0.89375,\n",
       " 0.8301886792452831,\n",
       " 0.9721706864564007,\n",
       " 0.9562913907284769,\n",
       " 0.9506237006237005,\n",
       " 0.9463576158940397,\n",
       " 0.9704641350210971,\n",
       " 0.8794063079777366,\n",
       " 0.9251592356687899,\n",
       " 0.9782051282051282,\n",
       " 0.9591397849462366,\n",
       " 0.9793939393939394,\n",
       " 0.9598173515981735,\n",
       " 0.9473118279569892,\n",
       " 0.9390380313199104,\n",
       " 0.9746835443037976,\n",
       " 0.975,\n",
       " 0.9559748427672956,\n",
       " 0.88125,\n",
       " 0.9012820512820513,\n",
       " 0.9535864978902954,\n",
       " 0.8754310344827587,\n",
       " 0.9397435897435898,\n",
       " 0.9692982456140351,\n",
       " 0.9509232264334304,\n",
       " 0.9264705882352942,\n",
       " 0.9654088050314465,\n",
       " 0.99375,\n",
       " 0.9824840764331211,\n",
       " 0.9820512820512821,\n",
       " 0.9806451612903225,\n",
       " 0.963821892393321,\n",
       " 0.9602564102564103,\n",
       " 0.9873417721518987,\n",
       " 0.96875,\n",
       " 0.9433962264150944,\n",
       " 0.9585987261146496,\n",
       " 0.947452229299363,\n",
       " 0.9741721854304636,\n",
       " 0.9509803921568627,\n",
       " 0.99375,\n",
       " 0.95,\n",
       " 0.9198312236286921,\n",
       " 0.7389937106918238,\n",
       " 0.95,\n",
       " 0.925,\n",
       " 0.7675189393939393,\n",
       " 0.879746835443038,\n",
       " 0.79375,\n",
       " 0.80625,\n",
       " 0.9125,\n",
       " 0.9379084967320261,\n",
       " 0.95,\n",
       " 0.975,\n",
       " 0.9028662420382165,\n",
       " 0.925,\n",
       " 0.89375,\n",
       " 0.8,\n",
       " 0.65176399026764,\n",
       " 0.6855509355509355,\n",
       " 0.775,\n",
       " 0.7754777070063694,\n",
       " 0.8333333333333334,\n",
       " 0.85,\n",
       " 0.8134095634095634,\n",
       " 0.914102564102564,\n",
       " 0.98125,\n",
       " 0.95,\n",
       " 0.83125,\n",
       " 0.8478664192949908,\n",
       " 0.9767932489451477,\n",
       " 0.8925619834710744,\n",
       " 0.894702419882276]"
      ]
     },
     "execution_count": 60,
     "metadata": {},
     "output_type": "execute_result"
    }
   ],
   "source": [
    "auclist[:100] #enhancers seem to be the worst ones lmfao!!"
   ]
  },
  {
   "cell_type": "code",
   "execution_count": 65,
   "metadata": {},
   "outputs": [],
   "source": [
    "\n",
    "import torch \n",
    "import sys\n",
    "import yaml \n",
    "sys.path.append('/data/leslie/sarthak/hyena/hyena-dna/')\n",
    "from src.tasks.decoders import SequenceDecoder\n",
    "from src.models.sequence.dna_embedding import DNAEmbeddingModel\n",
    "from src.dataloaders.datasets.hg38_char_tokenizer import CharacterTokenizer\n",
    "# import shap\n",
    "import numpy as np\n",
    "import matplotlib.pyplot as plt\n",
    "import seaborn as sns\n",
    "import pandas as pd\n",
    "import logomaker\n",
    "from tqdm import tqdm\n",
    "\n",
    "#TODO there are many NotImplementedErrors that need to be fixed, search for self.dataset to see where it's used and fix it\n",
    "#TODO there is one difference based on the opposite signs function that is in shap_testing5, but not in the actual ism_utils.py, copy paste it\n",
    "\n",
    "class ISMUtils():\n",
    "    def __init__(self, model_type, ckpt_path, cfg = None, split = 'train', filter=True):\n",
    "        type_list = ['ccre', 'DNase_ctst', 'DNase_allcelltypes', 'DNase']\n",
    "        if model_type not in type_list:\n",
    "            raise ValueError('Model type not recognized')\n",
    "        self.mtype = model_type\n",
    "        if cfg is not None:\n",
    "            cfg = '/data/leslie/sarthak/hyena/hyena-dna/configs/evals/'+cfg\n",
    "        \n",
    "        #check to see the type, and then load the right tokenizer, class and cfg\n",
    "        if self.mtype == 'DNase':\n",
    "            from src.dataloaders.datasets.DNase_dataset import DNaseDataset as DatasetClass\n",
    "            self.tokenizer = CharacterTokenizer( #make sure to fix the tokenizer too\n",
    "                characters=['A', 'C', 'G', 'T', 'N', 'S', 'U', 'V', 'W', 'X', 'Y', 'Z'],\n",
    "                model_max_length=1024 + 2,  # add 2 since default adds eos/eos tokens, crop later\n",
    "                add_special_tokens=False,\n",
    "                padding_side='left'\n",
    "            )\n",
    "            if cfg is None:\n",
    "                cfg = '/data/leslie/sarthak/hyena/hyena-dna/configs/evals/DNase.yaml'\n",
    "                \n",
    "        elif self.mtype == 'DNase_allcelltypes':\n",
    "            from src.dataloaders.datasets.DNase_allcelltypes import DNaseAllCellTypeDataset as DatasetClass\n",
    "            self.tokenizer = CharacterTokenizer( #make sure to fix the tokenizer too\n",
    "                characters=['A', 'C', 'G', 'T', 'N'],\n",
    "                model_max_length=1024 + 2,  # add 2 since default adds eos/eos tokens, crop later\n",
    "                add_special_tokens=False,\n",
    "                padding_side='left'\n",
    "            )\n",
    "            if cfg is None:\n",
    "                cfg = '/data/leslie/sarthak/hyena/hyena-dna/configs/evals/DNase_allcelltypes.yaml'\n",
    "\n",
    "        elif self.mtype == 'DNase_ctst':\n",
    "            from src.dataloaders.datasets.DNase_ctst_dataset import DNaseCtstDataset as DatasetClass\n",
    "            self.tokenizer = CharacterTokenizer( #make sure to fix the tokenizer too\n",
    "                characters=['A', 'C', 'G', 'T', 'N'],\n",
    "                model_max_length=1024 + 2,  # add 2 since default adds eos/eos tokens, crop later\n",
    "                add_special_tokens=False,\n",
    "                padding_side='left'\n",
    "            )\n",
    "            if cfg is None:\n",
    "                cfg = '/data/leslie/sarthak/hyena/hyena-dna/configs/evals/DNase_ctst.yaml'\n",
    "\n",
    "        else:\n",
    "            raise ValueError('Model type not recognized')\n",
    "\n",
    "        #now we load the model and dataset\n",
    "\n",
    "        # self.device = torch.device(\"cuda:0\" if torch.cuda.is_available() else \"cpu\")\n",
    "        self.dataset = DatasetClass(max_length = 1024, split = split, tokenizer=self.tokenizer, rc_aug = False, tokenizer_name='char', add_eos='True', filter = filter)\n",
    "        cfg = yaml.load(open(cfg, 'r'), Loader=yaml.FullLoader)\n",
    "        \n",
    "        train_cfg = cfg['train']  # grab section `train` section of config\n",
    "        model_cfg = cfg['model_config']  # grab the `model` section of config\n",
    "        d_output = train_cfg['d_output']\n",
    "        backbone = DNAEmbeddingModel(**model_cfg)\n",
    "        # backbone_skip = DNAEmbeddingModel(skip_embedding=True, **model_cfg)\n",
    "        decoder = SequenceDecoder(model_cfg['d_model'], d_output=d_output, l_output=0, mode='pool')\n",
    "        state_dict = torch.load(ckpt_path, map_location='cpu')  # has both backbone and decoder\n",
    "        \n",
    "        # loads model from ddp by removing prexix to single if necessary\n",
    "        torch.nn.modules.utils.consume_prefix_in_state_dict_if_present(\n",
    "            state_dict[\"state_dict\"], \"model.\"\n",
    "        )\n",
    "\n",
    "        model_state_dict = state_dict[\"state_dict\"]\n",
    "\n",
    "        # need to remove torchmetrics. to remove keys, need to convert to list first\n",
    "        for key in list(model_state_dict.keys()):\n",
    "            if \"torchmetrics\" in key:\n",
    "                model_state_dict.pop(key)\n",
    "\n",
    "        # the state_dict keys slightly mismatch from Lightning..., so we fix it here\n",
    "        decoder_state_dict = {}\n",
    "        decoder_state_dict['output_transform.weight'] = model_state_dict.pop('decoder.0.output_transform.weight')\n",
    "        decoder_state_dict['output_transform.bias'] = model_state_dict.pop('decoder.0.output_transform.bias')\n",
    "\n",
    "        #now adjust the backbone if needed\n",
    "        if self.mtype == 'DNase':\n",
    "            embedding1 = torch.nn.Embedding(20, 128)\n",
    "            # embedding2 = torch.nn.Embedding(20, 128)\n",
    "            backbone.backbone.embeddings.word_embeddings = embedding1 #again a hack\n",
    "            # backbone_skip.backbone.embeddings.word_embeddings = embedding2 #again a hack\n",
    "\n",
    "        # now actually load the state dict to the decoder and backbone separately\n",
    "        decoder.load_state_dict(decoder_state_dict, strict=True)\n",
    "        backbone.load_state_dict(model_state_dict, strict=True)\n",
    "\n",
    "        self.backbone = backbone.eval()\n",
    "        self.decoder = decoder.eval()\n",
    "\n",
    "        self.bed = pd.read_csv('/data/leslie/sarthak/data/GRCh38-cCREs.bed', header=None, delimiter='\\t').to_numpy()\n",
    "        self.middle = 1023//2 #just used for the logo plots\n",
    "\n",
    "    def calculate_ISM(self,ccre, cuda = False, return_out = False, progress_bar = False):\n",
    "        #does ISM for that ccre, based on the model type\n",
    "        #Does what the ISM.py and ISM_allcelltypes.py files do but for one ccre at a time\n",
    "        #ccre should be the index of the ccre, not the index to get that dataset\n",
    "        device = \"cuda:0\" if cuda else \"cpu\"\n",
    "        backbone = self.backbone.to(device)\n",
    "        decoder = self.decoder.to(device)\n",
    "        #first have to load in the batch\n",
    "        #if it's the different groups have very different dataset classes\n",
    "        if self.mtype == 'DNase' or self.mtype == 'DNase_ctst':\n",
    "            ccre = 161*ccre\n",
    "            ccre_list = []\n",
    "            out_list = []\n",
    "            for i in range(161):\n",
    "                a,b = self.dataset[ccre+i]\n",
    "                ccre_list.append(a)\n",
    "                if isinstance(b,tuple):\n",
    "                    raise NotImplementedError('This is not implemented yet, need to consider how to do ISM with the classification model')\n",
    "                out_list.append(b.item())\n",
    "            ccre_list = torch.stack(ccre_list)\n",
    "        else:\n",
    "            ccre_list = self.dataset[ccre][0].unsqueeze(0)\n",
    "\n",
    "        temp,_ = backbone(ccre_list.to(device))\n",
    "        out = decoder(temp)\n",
    "\n",
    "        out_gt_np = out.detach().cpu().numpy().reshape(1, 1, 161) #the initial output of the model before ism\n",
    "        \n",
    "        #now we can calculate the ISM\n",
    "        #we add someway to return the output of the model as well if we want to\n",
    "        ISM_results = np.ones((4,1023,161))*out_gt_np\n",
    "        if self.mtype == 'DNase_ctst':\n",
    "            ISM_results = np.ones((4,1024,161))*out_gt_np #because is full 1024 sequence length...\n",
    "        if self.mtype == 'DNase' or self.mtype == 'DNase_ctst':\n",
    "            seq = ccre_list[0]\n",
    "        else:\n",
    "            seq = ccre_list.squeeze()\n",
    "        token_list = [7,8,9,10] #tokenize this list first\n",
    "\n",
    "        if progress_bar:\n",
    "            iterator = tqdm(enumerate(seq), total = len(seq))\n",
    "        else:\n",
    "            iterator = enumerate(seq)\n",
    "        with torch.no_grad():\n",
    "            for idx, nucleotide in iterator: \n",
    "                temp_token_list = token_list.copy() #we make a copy\n",
    "                # print(nucleotide)\n",
    "                if nucleotide not in temp_token_list:\n",
    "                    continue #basically skips this and none of it is updated, because is a weird tooken, whether permutation, ctst or something else\n",
    "                temp_token_list.remove(nucleotide)\n",
    "                temp_token_list = np.array(temp_token_list)\n",
    "                results_list = []\n",
    "                for j in temp_token_list:\n",
    "                    temp_seq = ccre_list.clone() #never put on the gpu\n",
    "                    if self.mtype == 'DNase' or self.mtype == 'DNase_ctst':\n",
    "                        temp_seq[:,idx] = j\n",
    "                    else:\n",
    "                        temp_seq[idx] = j\n",
    "                    a,_ = backbone(temp_seq.to(device))\n",
    "                    out = decoder(a)\n",
    "                    results_list.append(out.detach().cpu().numpy())\n",
    "                ISM_results[temp_token_list-7,idx,:] = np.array(results_list).squeeze()\n",
    "        #relatively slow on the CPU\n",
    "        #and now we subtract the out_gt from it\n",
    "        ISM_results_normalized = ISM_results - out_gt_np #is mutated - reference\n",
    "        \n",
    "        if return_out: #but this is optional\n",
    "            return ISM_results_normalized, out_gt_np\n",
    "        return ISM_results_normalized\n",
    "\n",
    "    def var(self, idx):\n",
    "        #This is the idx for the ccre, so if you want it for ccre 2 it's just idx == 2. Not 161*idx\n",
    "        seq_idx = idx\n",
    "        cCRE_id = self.dataset.array[seq_idx][0] #get the id from the array\n",
    "        row = self.dataset.cCRE_dict[cCRE_id]\n",
    "        #now we can calculate the variance using this data\n",
    "        # print(np.var(dnase_filtered[row,:])) #identical\n",
    "        \n",
    "        return np.var(self.dataset.cell_dnase_levels[row,:])\n",
    "\n",
    "    def output(self,idx):\n",
    "        #given the index, this finds the associated output (single value)\n",
    "        #this literally just puts it thorugh the model, but it's like 2 lines of code and really easy to do yourself\n",
    "        a,b = self.dataset[idx]\n",
    "        temp,_ = self.backbone(a.unsqueeze(0))\n",
    "        out = self.decoder(temp)\n",
    "\n",
    "        if self.mtype == 'DNase':\n",
    "            print(f'predicted output: {out}, actual output: {b}')\n",
    "            return b, out\n",
    "\n",
    "        elif self.mtype == 'DNase_allcelltypes':\n",
    "            print(f'predicted output: {out[0,0]}, actual output: {b[0]}')\n",
    "            return b[0], out[0,0]\n",
    "\n",
    "    def output_all(self,idx):\n",
    "        #given the index, this finds the associated output (all values averaged across the cell types for a singel ccre)\n",
    "        #if it's DNase, then we need to do it for all the cell types, here the input idx should not be 161 times any number, rather just the ccre number\n",
    "        if self.mtype == 'DNase' or self.mtype == 'DNase_ctst':\n",
    "            idx = 161*idx\n",
    "            out_list = []\n",
    "            target_list = []\n",
    "            for i in range(161):\n",
    "                a,b = self.dataset[idx+i]\n",
    "                temp,_ = self.backbone(a.unsqueeze(0))\n",
    "                out = self.decoder(temp)\n",
    "                out_list.append(out.item())\n",
    "                if isinstance(b,tuple):\n",
    "                    raise NotImplementedError('This is not implemented yet, need to consider how to do handle these outputs and what we want to display')\n",
    "                target_list.append(b.item())\n",
    "            out = np.mean(out_list)\n",
    "            print(f'predicted output mean: {out}, actual output mean: {np.mean(target_list)}')\n",
    "            #but return the whole lists\n",
    "            return np.array(target_list), np.array(out_list)\n",
    "\n",
    "        if self.mtype == 'DNase_allcelltypes':\n",
    "            a,b = self.dataset[idx]\n",
    "            temp,_ = self.backbone(a.unsqueeze(0))\n",
    "            out = self.decoder(temp)\n",
    "            print(f'predicted output mean: {torch.mean(out)}, actual output mean: {torch.mean(b)}')\n",
    "            return b.detach().numpy(), out.detach().numpy()\n",
    "\n",
    "    def plot_singlecelltype(self, data, celltype = 0):\n",
    "        #given the index, this finds the associated output (single value)\n",
    "        #we can either take in the actual data, or the ccre number\n",
    "        #actual data must be formatted the same as the saved data\n",
    "        if type(data) == int:\n",
    "            data_loaded = np.load(f'/data/leslie/sarthak/hyena/hyena-dna/shap_analysis/saved_ISM/ISM_run1_normalized_{data}.npy')\n",
    "        elif type(data) == np.ndarray: #you can also just give it the data and then it doesn't need to load it\n",
    "            data_loaded = data\n",
    "        fig, ax = plt.subplots(1,1, figsize = (20,10))\n",
    "        sns.heatmap(data_loaded[:,:,celltype], cmap = 'seismic', center = 0)\n",
    "        plt.yticks([0.5,1.5,2.5,3.5],['A','C','G','T'])\n",
    "        plt.xlabel('sequence position')\n",
    "        plt.title(f'ISM scores for the {celltype} cell type of the {data} ccre')\n",
    "        plt.show()\n",
    "\n",
    "    def plot_all(self,data):\n",
    "        #once again can give the ccre or the actual data\n",
    "        if type(data) == int:\n",
    "            data_loaded = np.load(f'/data/leslie/sarthak/hyena/hyena-dna/shap_analysis/saved_ISM/ISM_run1_normalized_{data}.npy')\n",
    "        elif type(data) == np.ndarray:\n",
    "            data_loaded = data\n",
    "        fig, ax = plt.subplots(1,1, figsize = (20,10))\n",
    "        sns.heatmap(data_loaded.sum(axis = 0).T, cmap = 'seismic', center = 0)\n",
    "        plt.ylabel('celltype')\n",
    "        plt.xlabel('sequence position')\n",
    "        plt.title('ISM scores for all cell types single ccre')\n",
    "        plt.show()\n",
    "\n",
    "    def default_heights(self,data):\n",
    "        #it will sum across the nucelotides and average over the celltypes\n",
    "        if type(data) == int:\n",
    "            data_loaded = np.load(f'/data/leslie/sarthak/hyena/hyena-dna/shap_analysis/saved_ISM/ISM_run1_normalized_{data}.npy')\n",
    "        elif type(data) == np.ndarray:\n",
    "            data_loaded = data\n",
    "        return data_loaded.sum(axis = 0).mean(axis = 1)\n",
    "\n",
    "    def logoplot(self,ccre,heights = None, startend=None,flip_heights = False): #potentially we add the title as an input into the model\n",
    "        #so given the ccre number and the heights, this will plot the logo plot\n",
    "        #note ccre should be the ccre number regardless of the model type\n",
    "        #heights must be provided, is usually the sum across the axis=1 for the data that is used for plot_all, uses same start and end\n",
    "        if self.mtype == 'DNase' or self.mtype == 'DNase_ctst':\n",
    "            ccre = 161*ccre\n",
    "        a,b = self.dataset[ccre]\n",
    "        seq=self.dataset.tokenizer.decode(a)\n",
    "        if startend is None and self.mtype == 'DNase':\n",
    "            start = self.middle-50+4\n",
    "            end = self.middle+50+4\n",
    "        elif startend is None and self.mtype == 'DNase_allcelltypes':\n",
    "            start = self.middle-50\n",
    "            end = self.middle+50\n",
    "        elif self.mtype == 'DNase': #if specify it, add 4 to the dnase, just so aligns with the multitasking model\n",
    "            start = startend[0]+4\n",
    "            end = startend[1]+4\n",
    "        elif self.mtype == 'DNase_ctst':\n",
    "            start = startend[0]+1\n",
    "            end = startend[1]+1\n",
    "        else:\n",
    "            start = startend[0]\n",
    "            end = startend[1]\n",
    "\n",
    "        #now we can define cut_seq\n",
    "        cut_seq = seq[start:end]\n",
    "                    \n",
    "        if heights is None:\n",
    "            raise ValueError('Need to provide heights')\n",
    "\n",
    "        #now we define cut heights\n",
    "        heights = heights[start:end]\n",
    "        if flip_heights:\n",
    "            heights = -heights\n",
    "        logo_df = pd.DataFrame(0, index=np.arange(len(cut_seq)), columns=list(set(cut_seq)), dtype=float)\n",
    "\n",
    "        # Fill the DataFrame with heights, converting heights to float if necessary\n",
    "        for i, symbol in enumerate(cut_seq):\n",
    "            logo_df.loc[i, symbol] = heights[i]\n",
    "\n",
    "        # Generate the sequence logo\n",
    "        # fig, ax = \n",
    "        # fig.set_size_inches(20, 3)  # Set the desired width and height here        \n",
    "        logo = logomaker.Logo(logo_df, color_scheme='classic', flip_below = True, figsize = (20,3))\n",
    "        plt.title('Sequence logo')\n",
    "        # fig.show()\n",
    "    \n",
    "    def find_ccre_type(self, idx):\n",
    "        #this function will use the ccre id to find the specific type\n",
    "        #uses the index of the dataset, not the cCRE for the DNase model!!\n",
    "        #first get the id\n",
    "        if self.mtype == 'DNase':        \n",
    "            seq_idx = int(idx/self.dataset.cell_types)\n",
    "        else:\n",
    "            seq_idx = idx\n",
    "        ccre_id = self.dataset.array[seq_idx][0]\n",
    "        line = np.where(self.bed[:,3] == ccre_id)\n",
    "        return self.bed[line[0][0], -1]\n",
    "ckpt = '/data/leslie/sarthak/hyena/hyena-dna/outputs/2024-02-23/09-35-33-196632/checkpoints/381-val_loss=3.57483.ckpt'\n",
    "ism = ISMUtils('DNase_allcelltypes', ckpt, filter=True, split='test')"
   ]
  },
  {
   "cell_type": "code",
   "execution_count": 67,
   "metadata": {},
   "outputs": [
    {
     "data": {
      "text/plain": [
       "'DNase-H3K4me3,CTCF-bound'"
      ]
     },
     "execution_count": 67,
     "metadata": {},
     "output_type": "execute_result"
    }
   ],
   "source": [
    "ism.find_ccre_type(0)"
   ]
  },
  {
   "cell_type": "code",
   "execution_count": 72,
   "metadata": {},
   "outputs": [
    {
     "name": "stdout",
     "output_type": "stream",
     "text": [
      "DNase-H3K4me3,CTCF-bound 0.6440387016229713\n",
      "dELS 0.8085271317829457\n",
      "dELS,CTCF-bound 0.8461968680089484\n",
      "CTCF-only,CTCF-bound 0.7760536398467432\n",
      "CTCF-only,CTCF-bound 0.5701754385964912\n",
      "pELS,CTCF-bound 0.8089171974522293\n",
      "pELS 0.9654088050314465\n",
      "pELS 0.9792993630573248\n",
      "pELS 1.0\n",
      "pELS,CTCF-bound 0.93125\n"
     ]
    }
   ],
   "source": [
    "for i in range(10):\n",
    "    print(ism.find_ccre_type(i), auclist[i])"
   ]
  },
  {
   "cell_type": "code",
   "execution_count": 73,
   "metadata": {},
   "outputs": [],
   "source": [
    "#amazing on some of these proximal enhancer like sequences!!\n",
    "#let's now find the pearsonr for the first 10 rows\n",
    "corrs1 = []\n",
    "corrs2 = []\n",
    "for i in range(10):\n",
    "    corr = pearsonr(treg[i,:], preg2[i,:])\n",
    "    corrs2.append(corr)\n",
    "    corr = pearsonr(treg[i,:], preg1[i,:])\n",
    "    corrs1.append(corr)"
   ]
  },
  {
   "cell_type": "code",
   "execution_count": 75,
   "metadata": {},
   "outputs": [
    {
     "name": "stdout",
     "output_type": "stream",
     "text": [
      "DNase-H3K4me3,CTCF-bound 0.6440387016229713 0.34016903825646594 0.2228108035208005\n",
      "dELS 0.8085271317829457 0.580221444553118 0.3701492008487959\n",
      "dELS,CTCF-bound 0.8461968680089484 0.38995398467282516 0.23009318424334008\n",
      "CTCF-only,CTCF-bound 0.7760536398467432 0.16928319218856663 0.2991806629476228\n",
      "CTCF-only,CTCF-bound 0.5701754385964912 0.15028117236617997 0.19685424558692044\n",
      "pELS,CTCF-bound 0.8089171974522293 0.19717566552606441 0.1434035177298844\n",
      "pELS 0.9654088050314465 0.5014363965343012 0.42173735721018385\n",
      "pELS 0.9792993630573248 0.538314919574546 0.3249080003170075\n",
      "pELS 1.0 0.5483675022251822 0.5866514410341183\n",
      "pELS,CTCF-bound 0.93125 0.5285477976116271 0.4553639655638356\n"
     ]
    }
   ],
   "source": [
    "for i in range(10):\n",
    "    print(ism.find_ccre_type(i), auclist[i], corrs1[i].statistic, corrs2[i].statistic)\n",
    "#see that it's not the best relationship, but generally when better at predicting the other ones, it's better at predicting the DNase, wait that's\n",
    "#with the whole non masked one, that's not good, should consider mask... oh well!\n",
    "#the kernel ended, could do it later, but the point is we want to do it on the training data anyways"
   ]
  },
  {
   "cell_type": "markdown",
   "metadata": {},
   "source": [
    "# testing to see if my evaluation is correct"
   ]
  },
  {
   "cell_type": "code",
   "execution_count": 1,
   "metadata": {},
   "outputs": [
    {
     "name": "stderr",
     "output_type": "stream",
     "text": [
      "100%|██████████| 206/206 [01:19<00:00,  2.61it/s]"
     ]
    },
    {
     "name": "stdout",
     "output_type": "stream",
     "text": [
      "torch.Size([105252, 161]) torch.Size([105252, 161]) torch.Size([105252, 161]) torch.Size([105252, 161])\n"
     ]
    },
    {
     "name": "stderr",
     "output_type": "stream",
     "text": [
      "\n"
     ]
    }
   ],
   "source": [
    "#let's take in the data and see if we can manually take the outputs and see if we truly get such a good classification accuracy\n",
    "#for now stick to multitasking model\n",
    "import torch\n",
    "from evals.evals_utils import Evals\n",
    "\n",
    "multitasking_path = '/data/leslie/sarthak/hyena/hyena-dna/outputs/2024-03-20/22-26-03-326937/checkpoints/138-val_loss=0.37743.ckpt'\n",
    "\n",
    "eval_multitasking = Evals('DNase_allcelltypes',multitasking_path, classification=True)\n",
    "targets,predicts = eval_multitasking.evaluate(num_workers = 1, batch_size = 512, stop=10)\n",
    "targets_class,targets_reg = targets\n",
    "predicts_class,predicts_reg = predicts\n",
    "print(targets_class.shape, targets_reg.shape, predicts_class.shape, predicts_reg.shape)\n",
    "#one worker basic gpu takes like 2.5 minutes to evaluate the model, easy!"
   ]
  },
  {
   "cell_type": "code",
   "execution_count": 2,
   "metadata": {},
   "outputs": [
    {
     "data": {
      "text/plain": [
       "<matplotlib.collections.PathCollection at 0x2b68af518690>"
      ]
     },
     "execution_count": 2,
     "metadata": {},
     "output_type": "execute_result"
    },
    {
     "data": {
      "image/png": "[encoded data removed]",
      "text/plain": [
       "<Figure size 640x480 with 1 Axes>"
      ]
     },
     "metadata": {},
     "output_type": "display_data"
    }
   ],
   "source": [
    "#an easy answer is let's plot some of the targets_class and predicts_class on a scatterplot\n",
    "import matplotlib.pyplot as plt\n",
    "plt.scatter(targets_class.flatten()[::100], predicts_class.flatten()[::100])\n",
    "#hard to tell why it would actually be so good..."
   ]
  },
  {
   "cell_type": "code",
   "execution_count": 5,
   "metadata": {},
   "outputs": [
    {
     "data": {
      "text/plain": [
       "{'whiskers': [<matplotlib.lines.Line2D at 0x2b68c9980710>,\n",
       "  <matplotlib.lines.Line2D at 0x2b68c996a410>,\n",
       "  <matplotlib.lines.Line2D at 0x2b68c9ad93d0>,\n",
       "  <matplotlib.lines.Line2D at 0x2b68c9ad9bd0>],\n",
       " 'caps': [<matplotlib.lines.Line2D at 0x2b68c9abe890>,\n",
       "  <matplotlib.lines.Line2D at 0x2b68c9abf110>,\n",
       "  <matplotlib.lines.Line2D at 0x2b68c9ada490>,\n",
       "  <matplotlib.lines.Line2D at 0x2b68c9adad50>],\n",
       " 'boxes': [<matplotlib.lines.Line2D at 0x2b68bfc83c90>,\n",
       "  <matplotlib.lines.Line2D at 0x2b68c9ad8bd0>],\n",
       " 'medians': [<matplotlib.lines.Line2D at 0x2b68c9abfa10>,\n",
       "  <matplotlib.lines.Line2D at 0x2b68c9adb510>],\n",
       " 'fliers': [<matplotlib.lines.Line2D at 0x2b68c9ad8250>,\n",
       "  <matplotlib.lines.Line2D at 0x2b68c9adbd10>],\n",
       " 'means': []}"
      ]
     },
     "execution_count": 5,
     "metadata": {},
     "output_type": "execute_result"
    },
    {
     "data": {
      "image/png": "[encoded data removed]",
      "text/plain": [
       "<Figure size 640x480 with 1 Axes>"
      ]
     },
     "metadata": {},
     "output_type": "display_data"
    }
   ],
   "source": [
    "#let's do a boxplot of the two groups\n",
    "group1 = targets_class.flatten()==0\n",
    "group2 = targets_class.flatten()==1\n",
    "#now do the boxplot of the predicts_class with those masks\n",
    "plt.boxplot([predicts_class.flatten()[group1][::100], predicts_class.flatten()[group2][::100]])"
   ]
  },
  {
   "cell_type": "code",
   "execution_count": 7,
   "metadata": {},
   "outputs": [
    {
     "data": {
      "text/plain": [
       "[<matplotlib.lines.Line2D at 0x2b6a8c0275d0>]"
      ]
     },
     "execution_count": 7,
     "metadata": {},
     "output_type": "execute_result"
    },
    {
     "data": {
      "image/png": "[encoded data removed]",
      "text/plain": [
       "<Figure size 640x480 with 1 Axes>"
      ]
     },
     "metadata": {},
     "output_type": "display_data"
    }
   ],
   "source": [
    "#now let's do the auc curve\n",
    "from sklearn.metrics import roc_curve\n",
    "from sklearn.metrics import roc_auc_score\n",
    "fpr, tpr, thresholds = roc_curve(targets_class.flatten(), predicts_class.flatten())\n",
    "plt.plot(fpr, tpr)\n",
    "plt.plot([0,1],[0,1], color='red')\n",
    "#not ideal since correlation in my model"
   ]
  },
  {
   "cell_type": "code",
   "execution_count": 8,
   "metadata": {},
   "outputs": [
    {
     "data": {
      "text/plain": [
       "0.9221599384095003"
      ]
     },
     "execution_count": 8,
     "metadata": {},
     "output_type": "execute_result"
    }
   ],
   "source": [
    "#let's find the auc score\n",
    "roc_auc_score(targets_class.flatten(), predicts_class.flatten())"
   ]
  },
  {
   "cell_type": "code",
   "execution_count": null,
   "metadata": {},
   "outputs": [],
   "source": []
  },
  {
   "cell_type": "code",
   "execution_count": 10,
   "metadata": {},
   "outputs": [
    {
     "name": "stdout",
     "output_type": "stream",
     "text": [
      "(5855281,) (5855281,)\n",
      "16945572\n"
     ]
    }
   ],
   "source": [
    "#let's manually calculae the area under the curve for this\n",
    "print(fpr.shape,tpr.shape)\n",
    "print(targets_class.shape[0]*targets_class.shape[1]) #much more here, like 3x the number of points "
   ]
  },
  {
   "cell_type": "code",
   "execution_count": 12,
   "metadata": {},
   "outputs": [
    {
     "data": {
      "text/plain": [
       "0.9221599384095003"
      ]
     },
     "execution_count": 12,
     "metadata": {},
     "output_type": "execute_result"
    }
   ],
   "source": [
    "import numpy as np\n",
    "np.trapz(tpr, fpr) #the exact same area... so let's make sure I am finding roc correctly"
   ]
  },
  {
   "cell_type": "code",
   "execution_count": 28,
   "metadata": {},
   "outputs": [
    {
     "data": {
      "text/plain": [
       "[<matplotlib.lines.Line2D at 0x2b6a8d056910>]"
      ]
     },
     "execution_count": 28,
     "metadata": {},
     "output_type": "execute_result"
    },
    {
     "data": {
      "image/png": "[encoded data removed]",
      "text/plain": [
       "<Figure size 640x480 with 1 Axes>"
      ]
     },
     "metadata": {},
     "output_type": "display_data"
    }
   ],
   "source": [
    "#redo roc curve with the pos_label=0\n",
    "fpr, tpr, thresholds = roc_curve(targets_class.flatten(), predicts_class.flatten(), pos_label=0)\n",
    "plt.plot(fpr, tpr)\n",
    "plt.plot([0,1],[0,1], color='red')"
   ]
  },
  {
   "cell_type": "code",
   "execution_count": 29,
   "metadata": {},
   "outputs": [
    {
     "ename": "TypeError",
     "evalue": "got an unexpected keyword argument 'pos_label'",
     "output_type": "error",
     "traceback": [
      "\u001b[0;31m---------------------------------------------------------------------------\u001b[0m",
      "\u001b[0;31mTypeError\u001b[0m                                 Traceback (most recent call last)",
      "Cell \u001b[0;32mIn[29], line 2\u001b[0m\n\u001b[1;32m      1\u001b[0m \u001b[38;5;66;03m#and now do auc\u001b[39;00m\n\u001b[0;32m----> 2\u001b[0m \u001b[43mroc_auc_score\u001b[49m\u001b[43m(\u001b[49m\u001b[43mtargets_class\u001b[49m\u001b[38;5;241;43m.\u001b[39;49m\u001b[43mflatten\u001b[49m\u001b[43m(\u001b[49m\u001b[43m)\u001b[49m\u001b[43m,\u001b[49m\u001b[43m \u001b[49m\u001b[43mpredicts_class\u001b[49m\u001b[38;5;241;43m.\u001b[39;49m\u001b[43mflatten\u001b[49m\u001b[43m(\u001b[49m\u001b[43m)\u001b[49m\u001b[43m,\u001b[49m\u001b[43m \u001b[49m\u001b[43mpos_label\u001b[49m\u001b[38;5;241;43m=\u001b[39;49m\u001b[38;5;241;43m0\u001b[39;49m\u001b[43m)\u001b[49m \u001b[38;5;66;03m#this is the same as the other one, so it's the same\u001b[39;00m\n",
      "File \u001b[0;32m/data/leslie/sarthak/environments/hyena-dna/lib/python3.11/site-packages/sklearn/utils/_param_validation.py:191\u001b[0m, in \u001b[0;36mvalidate_params.<locals>.decorator.<locals>.wrapper\u001b[0;34m(*args, **kwargs)\u001b[0m\n\u001b[1;32m    188\u001b[0m func_sig \u001b[38;5;241m=\u001b[39m signature(func)\n\u001b[1;32m    190\u001b[0m \u001b[38;5;66;03m# Map *args/**kwargs to the function signature\u001b[39;00m\n\u001b[0;32m--> 191\u001b[0m params \u001b[38;5;241m=\u001b[39m \u001b[43mfunc_sig\u001b[49m\u001b[38;5;241;43m.\u001b[39;49m\u001b[43mbind\u001b[49m\u001b[43m(\u001b[49m\u001b[38;5;241;43m*\u001b[39;49m\u001b[43margs\u001b[49m\u001b[43m,\u001b[49m\u001b[43m \u001b[49m\u001b[38;5;241;43m*\u001b[39;49m\u001b[38;5;241;43m*\u001b[39;49m\u001b[43mkwargs\u001b[49m\u001b[43m)\u001b[49m\n\u001b[1;32m    192\u001b[0m params\u001b[38;5;241m.\u001b[39mapply_defaults()\n\u001b[1;32m    194\u001b[0m \u001b[38;5;66;03m# ignore self/cls and positional/keyword markers\u001b[39;00m\n",
      "File \u001b[0;32m/data/leslie/sarthak/environments/hyena-dna/lib/python3.11/inspect.py:3212\u001b[0m, in \u001b[0;36mSignature.bind\u001b[0;34m(self, *args, **kwargs)\u001b[0m\n\u001b[1;32m   3207\u001b[0m \u001b[38;5;28;01mdef\u001b[39;00m \u001b[38;5;21mbind\u001b[39m(\u001b[38;5;28mself\u001b[39m, \u001b[38;5;241m/\u001b[39m, \u001b[38;5;241m*\u001b[39margs, \u001b[38;5;241m*\u001b[39m\u001b[38;5;241m*\u001b[39mkwargs):\n\u001b[1;32m   3208\u001b[0m \u001b[38;5;250m    \u001b[39m\u001b[38;5;124;03m\"\"\"Get a BoundArguments object, that maps the passed `args`\u001b[39;00m\n\u001b[1;32m   3209\u001b[0m \u001b[38;5;124;03m    and `kwargs` to the function's signature.  Raises `TypeError`\u001b[39;00m\n\u001b[1;32m   3210\u001b[0m \u001b[38;5;124;03m    if the passed arguments can not be bound.\u001b[39;00m\n\u001b[1;32m   3211\u001b[0m \u001b[38;5;124;03m    \"\"\"\u001b[39;00m\n\u001b[0;32m-> 3212\u001b[0m     \u001b[38;5;28;01mreturn\u001b[39;00m \u001b[38;5;28;43mself\u001b[39;49m\u001b[38;5;241;43m.\u001b[39;49m\u001b[43m_bind\u001b[49m\u001b[43m(\u001b[49m\u001b[43margs\u001b[49m\u001b[43m,\u001b[49m\u001b[43m \u001b[49m\u001b[43mkwargs\u001b[49m\u001b[43m)\u001b[49m\n",
      "File \u001b[0;32m/data/leslie/sarthak/environments/hyena-dna/lib/python3.11/inspect.py:3201\u001b[0m, in \u001b[0;36mSignature._bind\u001b[0;34m(self, args, kwargs, partial)\u001b[0m\n\u001b[1;32m   3199\u001b[0m         arguments[kwargs_param\u001b[38;5;241m.\u001b[39mname] \u001b[38;5;241m=\u001b[39m kwargs\n\u001b[1;32m   3200\u001b[0m     \u001b[38;5;28;01melse\u001b[39;00m:\n\u001b[0;32m-> 3201\u001b[0m         \u001b[38;5;28;01mraise\u001b[39;00m \u001b[38;5;167;01mTypeError\u001b[39;00m(\n\u001b[1;32m   3202\u001b[0m             \u001b[38;5;124m'\u001b[39m\u001b[38;5;124mgot an unexpected keyword argument \u001b[39m\u001b[38;5;132;01m{arg!r}\u001b[39;00m\u001b[38;5;124m'\u001b[39m\u001b[38;5;241m.\u001b[39mformat(\n\u001b[1;32m   3203\u001b[0m                 arg\u001b[38;5;241m=\u001b[39m\u001b[38;5;28mnext\u001b[39m(\u001b[38;5;28miter\u001b[39m(kwargs))))\n\u001b[1;32m   3205\u001b[0m \u001b[38;5;28;01mreturn\u001b[39;00m \u001b[38;5;28mself\u001b[39m\u001b[38;5;241m.\u001b[39m_bound_arguments_cls(\u001b[38;5;28mself\u001b[39m, arguments)\n",
      "\u001b[0;31mTypeError\u001b[0m: got an unexpected keyword argument 'pos_label'"
     ]
    }
   ],
   "source": [
    "#and now do auc\n",
    "roc_auc_score(targets_class.flatten(), predicts_class.flatten(), pos_label=0) #this is the same as the other one, so it's the same"
   ]
  },
  {
   "cell_type": "code",
   "execution_count": 14,
   "metadata": {},
   "outputs": [
    {
     "data": {
      "text/plain": [
       "[<matplotlib.lines.Line2D at 0x2b6a8c4175d0>]"
      ]
     },
     "execution_count": 14,
     "metadata": {},
     "output_type": "execute_result"
    },
    {
     "data": {
      "image/png": "[encoded data removed]",
      "text/plain": [
       "<Figure size 640x480 with 1 Axes>"
      ]
     },
     "metadata": {},
     "output_type": "display_data"
    }
   ],
   "source": [
    "#let's now find the prc\n",
    "from sklearn.metrics import precision_recall_curve\n",
    "# from sklearn.metrics import auc\n",
    "precision, recall, thresholds = precision_recall_curve(targets_class.flatten(), predicts_class.flatten())\n",
    "plt.plot(recall, precision)\n",
    "plt.plot([0,1],[1,0], color='red')"
   ]
  },
  {
   "cell_type": "code",
   "execution_count": 15,
   "metadata": {},
   "outputs": [
    {
     "data": {
      "text/plain": [
       "[<matplotlib.lines.Line2D at 0x2b6a8c4a7350>]"
      ]
     },
     "execution_count": 15,
     "metadata": {},
     "output_type": "execute_result"
    },
    {
     "data": {
      "image/png": "[encoded data removed]",
      "text/plain": [
       "<Figure size 640x480 with 1 Axes>"
      ]
     },
     "metadata": {},
     "output_type": "display_data"
    }
   ],
   "source": [
    "#let's swap the positive and negative and see how the curve is now\n",
    "temp_label = np.abs(targets_class.flatten()-1)\n",
    "temp_targets = -predicts_class.flatten()\n",
    "precision,recall,thresholds = precision_recall_curve(temp_label, temp_targets)\n",
    "plt.plot(recall, precision)\n",
    "plt.plot([0,1],[1,0], color='red')"
   ]
  },
  {
   "cell_type": "code",
   "execution_count": 18,
   "metadata": {},
   "outputs": [
    {
     "data": {
      "text/plain": [
       "[<matplotlib.lines.Line2D at 0x2b6a8c4e8090>]"
      ]
     },
     "execution_count": 18,
     "metadata": {},
     "output_type": "execute_result"
    },
    {
     "data": {
      "image/png": "[encoded data removed]",
      "text/plain": [
       "<Figure size 640x480 with 1 Axes>"
      ]
     },
     "metadata": {},
     "output_type": "display_data"
    }
   ],
   "source": [
    "#and if we just swap the labels\n",
    "precision, recall, thresholds = precision_recall_curve(targets_class.flatten(), predicts_class.flatten(), pos_label=1) #this is the normal one\n",
    "plt.plot(recall, precision)\n",
    "plt.plot([0,1],[1,0], color='red')"
   ]
  },
  {
   "cell_type": "code",
   "execution_count": 24,
   "metadata": {},
   "outputs": [
    {
     "data": {
      "text/plain": [
       "[<matplotlib.lines.Line2D at 0x2b6a8cfef510>]"
      ]
     },
     "execution_count": 24,
     "metadata": {},
     "output_type": "execute_result"
    },
    {
     "data": {
      "image/png": "[encoded data removed]",
      "text/plain": [
       "<Figure size 640x480 with 1 Axes>"
      ]
     },
     "metadata": {},
     "output_type": "display_data"
    }
   ],
   "source": [
    "precision, recall, thresholds = precision_recall_curve(targets_class.flatten(), predicts_class.flatten(), pos_label=0) #this is the normal one\n",
    "plt.plot(recall, precision)\n",
    "# plt.plot([0,1],[1,0], color='red')"
   ]
  },
  {
   "cell_type": "code",
   "execution_count": 25,
   "metadata": {},
   "outputs": [
    {
     "data": {
      "text/plain": [
       "0.018350445140178997"
      ]
     },
     "execution_count": 25,
     "metadata": {},
     "output_type": "execute_result"
    }
   ],
   "source": [
    "#now use auc to find the auc\n",
    "from sklearn.metrics import auc\n",
    "auc(recall, precision) #this is terrible of .02... but it's because the model is so good at predicting the positive class, not really the other way...\n",
    "#we could bias the model and not use basic CE loss?? do with multitasking model since it's so much faster"
   ]
  },
  {
   "cell_type": "code",
   "execution_count": 27,
   "metadata": {},
   "outputs": [
    {
     "data": {
      "text/plain": [
       "tensor(592948)"
      ]
     },
     "execution_count": 27,
     "metadata": {},
     "output_type": "execute_result"
    }
   ],
   "source": [
    "#let's find how many values of target_class are 0\n",
    "num0 = torch.sum(targets_class==0)\n",
    "num0 #ahh this is the number of thresholds!"
   ]
  },
  {
   "cell_type": "code",
   "execution_count": 30,
   "metadata": {},
   "outputs": [
    {
     "data": {
      "text/plain": [
       "16945572"
      ]
     },
     "execution_count": 30,
     "metadata": {},
     "output_type": "execute_result"
    }
   ],
   "source": [
    "numelem = torch.numel(targets_class)\n",
    "numelem"
   ]
  },
  {
   "cell_type": "code",
   "execution_count": 31,
   "metadata": {},
   "outputs": [
    {
     "data": {
      "text/plain": [
       "tensor(0.0350)"
      ]
     },
     "execution_count": 31,
     "metadata": {},
     "output_type": "execute_result"
    }
   ],
   "source": [
    "num0/numelem #only 3.5% are closed... uh oh"
   ]
  },
  {
   "cell_type": "code",
   "execution_count": 33,
   "metadata": {},
   "outputs": [
    {
     "data": {
      "text/plain": [
       "(1063878, 161)"
      ]
     },
     "execution_count": 33,
     "metadata": {},
     "output_type": "execute_result"
    }
   ],
   "source": [
    "eval_multitasking.dataset.cell_dnase_levels.shape"
   ]
  },
  {
   "cell_type": "code",
   "execution_count": 36,
   "metadata": {},
   "outputs": [
    {
     "name": "stdout",
     "output_type": "stream",
     "text": [
      "6471895\n"
     ]
    },
    {
     "data": {
      "text/plain": [
       "0.38192248688920033"
      ]
     },
     "execution_count": 36,
     "metadata": {},
     "output_type": "execute_result"
    }
   ],
   "source": [
    "#find how many of these are 0\n",
    "num0 = np.sum(eval_multitasking.dataset.cell_dnase_levels==-10)\n",
    "print(num0)\n",
    "#that is 6.5 million...\n",
    "num0/numelem #now it's like 40%?? that's correct, what is going on with my labels"
   ]
  },
  {
   "cell_type": "code",
   "execution_count": 37,
   "metadata": {},
   "outputs": [
    {
     "data": {
      "text/plain": [
       "tensor(592948)"
      ]
     },
     "execution_count": 37,
     "metadata": {},
     "output_type": "execute_result"
    }
   ],
   "source": [
    "num0 = torch.sum(targets_reg==-10)\n",
    "num0"
   ]
  },
  {
   "cell_type": "code",
   "execution_count": 39,
   "metadata": {},
   "outputs": [
    {
     "name": "stdout",
     "output_type": "stream",
     "text": [
      "6471895\n",
      "171284358\n",
      "0.037784506860807456\n"
     ]
    }
   ],
   "source": [
    "#oh wait, we're only looking at the test data, yes for the test data there's way less elements\n",
    "#let's find it for the celldnaselevels matrix\n",
    "num0 = np.sum(eval_multitasking.dataset.cell_dnase_levels==-10)\n",
    "print(num0)\n",
    "numelem = np.prod(eval_multitasking.dataset.cell_dnase_levels.shape)\n",
    "print(numelem)\n",
    "print(num0/numelem)\n",
    "#this percentage seems more accurate!!"
   ]
  },
  {
   "cell_type": "code",
   "execution_count": null,
   "metadata": {},
   "outputs": [],
   "source": []
  }
 ],
 "metadata": {
  "kernelspec": {
   "display_name": "Python 3 (ipykernel)",
   "language": "python",
   "name": "python3"
  },
  "language_info": {
   "codemirror_mode": {
    "name": "ipython",
    "version": 3
   },
   "file_extension": ".py",
   "mimetype": "text/x-python",
   "name": "python",
   "nbconvert_exporter": "python",
   "pygments_lexer": "ipython3",
   "version": "3.11.7"
  }
 },
 "nbformat": 4,
 "nbformat_minor": 2
}
