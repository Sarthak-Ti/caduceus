{
 "cells": [
  {
   "cell_type": "markdown",
   "metadata": {},
   "source": [
    "# General dataset 3\n",
    "\n",
    "I need this to work on multiple cell types, idea is it can load in the values for diffeerrent cell types based on the index"
   ]
  },
  {
   "cell_type": "code",
   "execution_count": 1,
   "metadata": {},
   "outputs": [
    {
     "name": "stdout",
     "output_type": "stream",
     "text": [
      "replacing cell type number with data indices\n"
     ]
    }
   ],
   "source": [
    "import sys\n",
    "sys.path.append('/data1/lesliec/sarthak/caduceus')\n",
    "from src.dataloaders.datasets.general_dataset import GeneralDataset\n",
    "dataset = GeneralDataset(\n",
    "    split='train',\n",
    "    data_path='/data1/lesliec/sarthak/data/DK_zarr/zarr_arrays/test_chrom_dnase_chunkchrom.zarr',\n",
    "    length=524288,\n",
    "    mlm=0.25,\n",
    "    acc_mlm=0.25,\n",
    "    data_idxs='/data1/lesliec/sarthak/data/DK_zarr/idx_lists/all_matched_immune.json'\n",
    ")"
   ]
  },
  {
   "cell_type": "code",
   "execution_count": 2,
   "metadata": {},
   "outputs": [
    {
     "data": {
      "text/html": [
       "<div>\n",
       "<style scoped>\n",
       "    .dataframe tbody tr th:only-of-type {\n",
       "        vertical-align: middle;\n",
       "    }\n",
       "\n",
       "    .dataframe tbody tr th {\n",
       "        vertical-align: top;\n",
       "    }\n",
       "\n",
       "    .dataframe thead th {\n",
       "        text-align: right;\n",
       "    }\n",
       "</style>\n",
       "<table border=\"1\" class=\"dataframe\">\n",
       "  <thead>\n",
       "    <tr style=\"text-align: right;\">\n",
       "      <th></th>\n",
       "      <th>0</th>\n",
       "      <th>1</th>\n",
       "      <th>2</th>\n",
       "      <th>3</th>\n",
       "    </tr>\n",
       "  </thead>\n",
       "  <tbody>\n",
       "    <tr>\n",
       "      <th>0</th>\n",
       "      <td>chr1</td>\n",
       "      <td>0</td>\n",
       "      <td>524288</td>\n",
       "      <td>train</td>\n",
       "    </tr>\n",
       "    <tr>\n",
       "      <th>1</th>\n",
       "      <td>chr1</td>\n",
       "      <td>262144</td>\n",
       "      <td>786432</td>\n",
       "      <td>train</td>\n",
       "    </tr>\n",
       "    <tr>\n",
       "      <th>2</th>\n",
       "      <td>chr1</td>\n",
       "      <td>524288</td>\n",
       "      <td>1048576</td>\n",
       "      <td>train</td>\n",
       "    </tr>\n",
       "    <tr>\n",
       "      <th>3</th>\n",
       "      <td>chr1</td>\n",
       "      <td>786432</td>\n",
       "      <td>1310720</td>\n",
       "      <td>train</td>\n",
       "    </tr>\n",
       "    <tr>\n",
       "      <th>4</th>\n",
       "      <td>chr1</td>\n",
       "      <td>1048576</td>\n",
       "      <td>1572864</td>\n",
       "      <td>train</td>\n",
       "    </tr>\n",
       "    <tr>\n",
       "      <th>...</th>\n",
       "      <td>...</td>\n",
       "      <td>...</td>\n",
       "      <td>...</td>\n",
       "      <td>...</td>\n",
       "    </tr>\n",
       "    <tr>\n",
       "      <th>8879</th>\n",
       "      <td>chrX</td>\n",
       "      <td>154402816</td>\n",
       "      <td>154927104</td>\n",
       "      <td>train</td>\n",
       "    </tr>\n",
       "    <tr>\n",
       "      <th>8880</th>\n",
       "      <td>chrX</td>\n",
       "      <td>154664960</td>\n",
       "      <td>155189248</td>\n",
       "      <td>train</td>\n",
       "    </tr>\n",
       "    <tr>\n",
       "      <th>8881</th>\n",
       "      <td>chrX</td>\n",
       "      <td>154927104</td>\n",
       "      <td>155451392</td>\n",
       "      <td>train</td>\n",
       "    </tr>\n",
       "    <tr>\n",
       "      <th>8882</th>\n",
       "      <td>chrX</td>\n",
       "      <td>155189248</td>\n",
       "      <td>155713536</td>\n",
       "      <td>train</td>\n",
       "    </tr>\n",
       "    <tr>\n",
       "      <th>8883</th>\n",
       "      <td>chrX</td>\n",
       "      <td>155451392</td>\n",
       "      <td>155975680</td>\n",
       "      <td>train</td>\n",
       "    </tr>\n",
       "  </tbody>\n",
       "</table>\n",
       "<p>8884 rows × 4 columns</p>\n",
       "</div>"
      ],
      "text/plain": [
       "         0          1          2      3\n",
       "0     chr1          0     524288  train\n",
       "1     chr1     262144     786432  train\n",
       "2     chr1     524288    1048576  train\n",
       "3     chr1     786432    1310720  train\n",
       "4     chr1    1048576    1572864  train\n",
       "...    ...        ...        ...    ...\n",
       "8879  chrX  154402816  154927104  train\n",
       "8880  chrX  154664960  155189248  train\n",
       "8881  chrX  154927104  155451392  train\n",
       "8882  chrX  155189248  155713536  train\n",
       "8883  chrX  155451392  155975680  train\n",
       "\n",
       "[8884 rows x 4 columns]"
      ]
     },
     "execution_count": 2,
     "metadata": {},
     "output_type": "execute_result"
    }
   ],
   "source": [
    "#let's test an output\n",
    "dataset.sequences"
   ]
  },
  {
   "cell_type": "code",
   "execution_count": 3,
   "metadata": {},
   "outputs": [
    {
     "data": {
      "text/plain": [
       "tensor([[0., 0., 0., 0., 0., 0., 0., 0., 0., 0.],\n",
       "        [0., 0., 0., 0., 0., 0., 0., 0., 0., 0.]])"
      ]
     },
     "execution_count": 3,
     "metadata": {},
     "output_type": "execute_result"
    }
   ],
   "source": [
    "out1 = dataset[0]\n",
    "out1[0][1][:,:10]"
   ]
  },
  {
   "cell_type": "code",
   "execution_count": null,
   "metadata": {},
   "outputs": [
    {
     "data": {
      "text/plain": [
       "False"
      ]
     },
     "execution_count": 5,
     "metadata": {},
     "output_type": "execute_result"
    }
   ],
   "source": [
    "import numpy as np\n",
    "np.allclose(out1[0][1], dataset.data['chr1'][0,0:524288]) #not cell ty pe 0, want the first one of the list we defined"
   ]
  },
  {
   "cell_type": "code",
   "execution_count": 6,
   "metadata": {},
   "outputs": [
    {
     "data": {
      "text/plain": [
       "False"
      ]
     },
     "execution_count": 6,
     "metadata": {},
     "output_type": "execute_result"
    }
   ],
   "source": [
    "celltype_idx = dataset.data_idxs[0]\n",
    "np.allclose(out1[0][1], dataset.data['chr1'][celltype_idx,0:524288])"
   ]
  },
  {
   "cell_type": "code",
   "execution_count": 7,
   "metadata": {},
   "outputs": [
    {
     "data": {
      "text/plain": [
       "(torch.Size([2, 524288]), (524288,))"
      ]
     },
     "execution_count": 7,
     "metadata": {},
     "output_type": "execute_result"
    }
   ],
   "source": [
    "out1[0][1].shape, dataset.data['chr1'][celltype_idx,0:524288].shape"
   ]
  },
  {
   "cell_type": "code",
   "execution_count": 9,
   "metadata": {},
   "outputs": [
    {
     "data": {
      "text/plain": [
       "True"
      ]
     },
     "execution_count": 9,
     "metadata": {},
     "output_type": "execute_result"
    }
   ],
   "source": [
    "np.allclose(out1[1][1][:,0], dataset.data['chr1'][celltype_idx,0:524288])"
   ]
  },
  {
   "cell_type": "code",
   "execution_count": 10,
   "metadata": {},
   "outputs": [
    {
     "data": {
      "text/plain": [
       "[2277, 4262, 1087, 8842, 8870]"
      ]
     },
     "execution_count": 10,
     "metadata": {},
     "output_type": "execute_result"
    }
   ],
   "source": [
    "#let's choose 5 indices at random between 0 and 8883\n",
    "import random\n",
    "rand_idxs = random.sample(range(0, 8883), 5)\n",
    "rand_idxs"
   ]
  },
  {
   "cell_type": "code",
   "execution_count": 13,
   "metadata": {},
   "outputs": [
    {
     "name": "stdout",
     "output_type": "stream",
     "text": [
      "True\n",
      "True\n",
      "True\n",
      "True\n",
      "True\n"
     ]
    }
   ],
   "source": [
    "for idx in rand_idxs:\n",
    "    out = dataset[idx]\n",
    "    chrom, start, end, split = dataset.sequences.iloc[idx]\n",
    "    print(np.allclose(out[1][1][:,0], dataset.data[chrom][celltype_idx,start:end]))"
   ]
  },
  {
   "cell_type": "code",
   "execution_count": null,
   "metadata": {},
   "outputs": [
    {
     "data": {
      "text/plain": [
       "torch.Size([524288])"
      ]
     },
     "execution_count": 20,
     "metadata": {},
     "output_type": "execute_result"
    }
   ],
   "source": [
    "dataset[0][1][0][:,0].shape"
   ]
  },
  {
   "cell_type": "code",
   "execution_count": 21,
   "metadata": {},
   "outputs": [
    {
     "name": "stdout",
     "output_type": "stream",
     "text": [
      "done with idx 17754\n",
      "done with idx 26638\n",
      "done with idx 35522\n",
      "done with idx 44406\n",
      "done with idx 53290\n",
      "done with idx 62174\n",
      "done with idx 71058\n",
      "True\n",
      "True\n",
      "True\n",
      "True\n",
      "True\n",
      "True\n"
     ]
    }
   ],
   "source": [
    "#works for celltype 0, now let's see if it makes seure all sequences are the same\n",
    "seqs = []\n",
    "i = rand_idxs[-1]\n",
    "while i < len(dataset):\n",
    "    seqs.append(dataset[i][1][0][:,0]) #seocnd one is the mask, that might differ, seq should be identical\n",
    "    # print(seqs[0].shape)\n",
    "    # break\n",
    "    i = i + len(dataset.sequences)\n",
    "    print('done with idx', i)\n",
    "for i in range(len(seqs)-1):\n",
    "    print(np.allclose(seqs[i], seqs[i+1]))"
   ]
  },
  {
   "cell_type": "code",
   "execution_count": null,
   "metadata": {},
   "outputs": [
    {
     "name": "stdout",
     "output_type": "stream",
     "text": [
      "7\n",
      "tensor([0., 0., 0., 1., 0., 1., 1., 1., 0., 0., 1., 0., 0., 0., 1., 0., 1., 0.,\n",
      "        1., 1., 1., 0., 0., 1., 0., 1., 1., 1., 1., 1.])\n",
      "tensor([0., 0., 0., 1., 0., 1., 1., 1., 0., 0., 1., 0., 0., 0., 1., 0., 1., 0.,\n",
      "        1., 1., 1., 0., 0., 1., 0., 1., 1., 1., 1., 1.])\n"
     ]
    }
   ],
   "source": [
    "print(len(seqs))\n",
    "print(seqs[0][233333:233333+30])\n",
    "print(seqs[1][233333:233333+30]) #why just A and C?"
   ]
  },
  {
   "cell_type": "code",
   "execution_count": null,
   "metadata": {},
   "outputs": [
    {
     "name": "stdout",
     "output_type": "stream",
     "text": [
      "tensor([0., 0., 0., 0., 0., 0., 0., 0., 1., 0., 0., 1., 1., 0., 0., 0., 1., 0.,\n",
      "        0., 1., 0., 0., 0., 0., 0., 0., 0., 1., 0., 0.])\n",
      "tensor([0., 0., 0., 0., 0., 0., 0., 0., 1., 0., 0., 1., 1., 0., 0., 0., 1., 0.,\n",
      "        0., 1., 0., 0., 0., 0., 0., 0., 0., 1., 0., 0.])\n"
     ]
    }
   ],
   "source": [
    "s = 0\n",
    "print(seqs[0][s:s+30])\n",
    "print(seqs[1][s:s+30])\n",
    "#something is almost definitely wrong??"
   ]
  },
  {
   "cell_type": "code",
   "execution_count": 26,
   "metadata": {},
   "outputs": [
    {
     "data": {
      "text/plain": [
       "torch.Size([524288, 6])"
      ]
     },
     "execution_count": 26,
     "metadata": {},
     "output_type": "execute_result"
    }
   ],
   "source": [
    "out = dataset[i]\n",
    "out[1][0].shape"
   ]
  },
  {
   "cell_type": "code",
   "execution_count": 27,
   "metadata": {},
   "outputs": [
    {
     "name": "stdout",
     "output_type": "stream",
     "text": [
      "done with idx 17754\n",
      "done with idx 26638\n",
      "done with idx 35522\n",
      "done with idx 44406\n",
      "done with idx 53290\n",
      "done with idx 62174\n",
      "done with idx 71058\n",
      "True\n",
      "True\n",
      "True\n",
      "True\n",
      "True\n",
      "True\n"
     ]
    }
   ],
   "source": [
    "#oh, because it's one hot encoded lmfao!!!!\n",
    "\n",
    "seqs = []\n",
    "i = rand_idxs[-1]\n",
    "while i < len(dataset):\n",
    "    seqs.append(dataset[i][1][0][:,:-1]) #last is the mask!\n",
    "    # print(seqs[0].shape)\n",
    "    # break\n",
    "    i = i + len(dataset.sequences)\n",
    "    print('done with idx', i)\n",
    "for i in range(len(seqs)-1):\n",
    "    print(np.allclose(seqs[i], seqs[i+1]))"
   ]
  },
  {
   "cell_type": "code",
   "execution_count": null,
   "metadata": {},
   "outputs": [
    {
     "name": "stdout",
     "output_type": "stream",
     "text": [
      "7\n",
      "tensor([[0., 0., 0., 1., 0.],\n",
      "        [0., 0., 0., 1., 0.],\n",
      "        [0., 0., 0., 1., 0.],\n",
      "        [1., 0., 0., 0., 0.],\n",
      "        [0., 0., 0., 1., 0.],\n",
      "        [1., 0., 0., 0., 0.],\n",
      "        [1., 0., 0., 0., 0.],\n",
      "        [1., 0., 0., 0., 0.],\n",
      "        [0., 0., 1., 0., 0.],\n",
      "        [0., 0., 0., 1., 0.]])\n",
      "tensor([[0., 0., 0., 1., 0.],\n",
      "        [0., 0., 0., 1., 0.],\n",
      "        [0., 0., 0., 1., 0.],\n",
      "        [1., 0., 0., 0., 0.],\n",
      "        [0., 0., 0., 1., 0.],\n",
      "        [1., 0., 0., 0., 0.],\n",
      "        [1., 0., 0., 0., 0.],\n",
      "        [1., 0., 0., 0., 0.],\n",
      "        [0., 0., 1., 0., 0.],\n",
      "        [0., 0., 0., 1., 0.]])\n"
     ]
    }
   ],
   "source": [
    "print(len(seqs))\n",
    "print(seqs[0][233333:233333+10])\n",
    "print(seqs[1][233333:233333+10])\n",
    "#this is more like what you would expect!!"
   ]
  },
  {
   "cell_type": "code",
   "execution_count": 30,
   "metadata": {},
   "outputs": [
    {
     "name": "stdout",
     "output_type": "stream",
     "text": [
      "[47493, 57010, 38327, 46623, 30170, 24573, 47601, 4079, 16506, 18139, 22511, 7821, 8241, 61689, 58275]\n",
      "True\n",
      "True\n",
      "True\n",
      "True\n",
      "True\n",
      "True\n",
      "True\n",
      "True\n",
      "True\n",
      "True\n",
      "True\n",
      "True\n",
      "True\n",
      "True\n",
      "True\n"
     ]
    }
   ],
   "source": [
    "#now let's find some truly random regions!\n",
    "\n",
    "rand_idxs = random.sample(range(0, len(dataset)), 15)\n",
    "print(rand_idxs)\n",
    "for idx in rand_idxs:\n",
    "    out = dataset[idx]\n",
    "    celltype_idx = dataset.data_idxs[idx//len(dataset.sequences)] #takes into account\n",
    "    seq_idx = idx % len(dataset.sequences)\n",
    "    chrom, start, end, split = dataset.sequences.iloc[seq_idx]\n",
    "    print(np.allclose(out[1][1][:,0], dataset.data[chrom][celltype_idx,start:end]))"
   ]
  },
  {
   "cell_type": "code",
   "execution_count": null,
   "metadata": {},
   "outputs": [],
   "source": [
    "#so it does as we think, finding the right sequence and cell type and then simply grabs those values and then does masking but we looking at true values here!"
   ]
  },
  {
   "cell_type": "markdown",
   "metadata": {},
   "source": [
    "# now testing it\n",
    "\n",
    "Added a lot of features like load expression data and can multitask or find the right index"
   ]
  },
  {
   "cell_type": "code",
   "execution_count": null,
   "metadata": {},
   "outputs": [
    {
     "name": "stdout",
     "output_type": "stream",
     "text": [
      "replacing cell type number with data indices\n",
      "[4759 4760 4831 4764 4758]\n",
      "[457 177 120 522 392]\n"
     ]
    }
   ],
   "source": [
    "import json\n",
    "import torch\n",
    "import numpy as np\n",
    "import pandas as pd\n",
    "import sys\n",
    "sys.path.append('/data1/lesliec/sarthak/caduceus')\n",
    "from src.dataloaders.datasets.general_dataset import GeneralDataset\n",
    "\n",
    "#to finetune on Enformer CAGE\n",
    "dataset = GeneralDataset(\n",
    "    split='train',\n",
    "    data_path='/data1/lesliec/sarthak/data/DK_zarr/zarr_arrays/dnase_chunkchrom_processed.zarr',\n",
    "    sequences_bed_file='/data1/lesliec/sarthak/data/DK_zarr/sequences_enformer.bed',\n",
    "    length=524288,\n",
    "    mlm=0,\n",
    "    acc_mlm=0,\n",
    "    additional_data='/data1/lesliec/sarthak/data/enformer/data/labels.zarr',\n",
    "    additional_data_idxs='/data1/lesliec/sarthak/data/DK_zarr/idx_lists/nob_immune_CAGE.json',\n",
    "    data_idxs='/data1/lesliec/sarthak/data/DK_zarr/idx_lists/nob_immune.json',\n",
    ")\n",
    "\n",
    "#tells it to get train split, then uses base pair DNase for input, then predicts the pooled values from the Enformer CAGE data\n",
    "#data_idxs tells it to subset to thoe indices\n",
    "\n",
    "print(dataset.additional_data_idxs) #CAGE values\n",
    "print(dataset.data_idxs) #DNase values"
   ]
  },
  {
   "cell_type": "code",
   "execution_count": null,
   "metadata": {},
   "outputs": [
    {
     "name": "stdout",
     "output_type": "stream",
     "text": [
      "170105\n",
      "34021\n",
      "5\n",
      "170105\n"
     ]
    }
   ],
   "source": [
    "print(len(dataset))\n",
    "print(len(dataset.sequences))\n",
    "print(len(dataset.additional_data_idxs))\n",
    "print(len(dataset.additional_data_idxs)* len(dataset.sequences)) #it's cell types times sequences"
   ]
  },
  {
   "cell_type": "code",
   "execution_count": 7,
   "metadata": {},
   "outputs": [
    {
     "name": "stdout",
     "output_type": "stream",
     "text": [
      "40003\n"
     ]
    }
   ],
   "source": [
    "#so let's get a random index between 0 and 170105\n",
    "import random\n",
    "rand_idx = random.sample(range(0, 170105), 1)[0]\n",
    "print(rand_idx)"
   ]
  },
  {
   "cell_type": "code",
   "execution_count": 12,
   "metadata": {},
   "outputs": [
    {
     "name": "stdout",
     "output_type": "stream",
     "text": [
      "torch.Size([6, 524288]) torch.Size([2, 524288]) torch.Size([524288, 6]) torch.Size([524288, 2]) (896, 1)\n"
     ]
    }
   ],
   "source": [
    "out = dataset[rand_idx]\n",
    "print(out[0][0].shape, out[0][1].shape, out[1][0].shape, out[1][1].shape, out[1][2].shape)"
   ]
  },
  {
   "cell_type": "code",
   "execution_count": 10,
   "metadata": {},
   "outputs": [
    {
     "name": "stdout",
     "output_type": "stream",
     "text": [
      "1\n",
      "5982\n"
     ]
    }
   ],
   "source": [
    "#so based on our approach we would do this. First get cell type information by doing //34021 th eoriginal amount of sequences\n",
    "\n",
    "celltype_idx = rand_idx // 34021\n",
    "print(celltype_idx)\n",
    "\n",
    "#then get the sequence info by doing % 34021\n",
    "seq_idx = rand_idx % 34021\n",
    "print(seq_idx)\n",
    "\n",
    "#also it won't be that actual index sicne we're using a subset of the indices. Just logically looking it will be index 177 for Dnase and 4760 for CAGE"
   ]
  },
  {
   "cell_type": "code",
   "execution_count": 11,
   "metadata": {},
   "outputs": [
    {
     "data": {
      "text/plain": [
       "0        chr11\n",
       "1    133564200\n",
       "2    133695272\n",
       "3        train\n",
       "Name: 5982, dtype: object"
      ]
     },
     "execution_count": 11,
     "metadata": {},
     "output_type": "execute_result"
    }
   ],
   "source": [
    "dataset.sequences.iloc[seq_idx] #this is the sequence info"
   ]
  },
  {
   "cell_type": "code",
   "execution_count": 13,
   "metadata": {},
   "outputs": [
    {
     "name": "stdout",
     "output_type": "stream",
     "text": [
      "chr11 133367592 133891880 train 524288\n"
     ]
    }
   ],
   "source": [
    "#let's grab chrom, start, end, split\n",
    "chrom, start, end, split = dataset.sequences.iloc[seq_idx]\n",
    "#now have to adjust start and end to be length 524288\n",
    "length = end - start\n",
    "if length < 524288:\n",
    "    start = start - (524288 - length) // 2\n",
    "    end = end + (524288 - length) // 2\n",
    "\n",
    "print(chrom, start, end, split, end-start)"
   ]
  },
  {
   "cell_type": "code",
   "execution_count": 14,
   "metadata": {},
   "outputs": [
    {
     "data": {
      "text/plain": [
       "(524288,)"
      ]
     },
     "execution_count": 14,
     "metadata": {},
     "output_type": "execute_result"
    }
   ],
   "source": [
    "#now let's grab these values\n",
    "seq = dataset.genome[chrom][start:end]\n",
    "seq.shape"
   ]
  },
  {
   "cell_type": "code",
   "execution_count": 15,
   "metadata": {},
   "outputs": [
    {
     "data": {
      "text/plain": [
       "array([ 7,  9, 10, ...,  7,  8,  8], dtype=int8)"
      ]
     },
     "execution_count": 15,
     "metadata": {},
     "output_type": "execute_result"
    }
   ],
   "source": [
    "seq"
   ]
  },
  {
   "cell_type": "code",
   "execution_count": null,
   "metadata": {},
   "outputs": [
    {
     "data": {
      "text/plain": [
       "tensor([[1., 0., 0.,  ..., 1., 0., 0.],\n",
       "        [0., 0., 0.,  ..., 0., 1., 1.],\n",
       "        [0., 1., 0.,  ..., 0., 0., 0.],\n",
       "        [0., 0., 1.,  ..., 0., 0., 0.],\n",
       "        [0., 0., 0.,  ..., 0., 0., 0.],\n",
       "        [0., 0., 0.,  ..., 0., 0., 0.]])"
      ]
     },
     "execution_count": 16,
     "metadata": {},
     "output_type": "execute_result"
    }
   ],
   "source": [
    "out[0][0] #seems to allign, but let's check"
   ]
  },
  {
   "cell_type": "code",
   "execution_count": 17,
   "metadata": {},
   "outputs": [
    {
     "data": {
      "text/plain": [
       "False"
      ]
     },
     "execution_count": 17,
     "metadata": {},
     "output_type": "execute_result"
    }
   ],
   "source": [
    "11 in seq"
   ]
  },
  {
   "cell_type": "code",
   "execution_count": 24,
   "metadata": {},
   "outputs": [
    {
     "data": {
      "text/plain": [
       "torch.Size([524288])"
      ]
     },
     "execution_count": 24,
     "metadata": {},
     "output_type": "execute_result"
    }
   ],
   "source": [
    "torch.tensor(seq-7, dtype=torch.int64).shape"
   ]
  },
  {
   "cell_type": "code",
   "execution_count": 25,
   "metadata": {},
   "outputs": [
    {
     "data": {
      "text/plain": [
       "torch.Size([524288, 4])"
      ]
     },
     "execution_count": 25,
     "metadata": {},
     "output_type": "execute_result"
    }
   ],
   "source": [
    "#so let's do torch.nn.onehot\n",
    "seq_onehot = torch.nn.functional.one_hot(torch.tensor(seq-7, dtype=torch.int64), num_classes=4)\n",
    "seq_onehot.shape"
   ]
  },
  {
   "cell_type": "code",
   "execution_count": 26,
   "metadata": {},
   "outputs": [
    {
     "data": {
      "text/plain": [
       "torch.Size([6, 524288])"
      ]
     },
     "execution_count": 26,
     "metadata": {},
     "output_type": "execute_result"
    }
   ],
   "source": [
    "out[0][0].shape"
   ]
  },
  {
   "cell_type": "code",
   "execution_count": 29,
   "metadata": {},
   "outputs": [
    {
     "data": {
      "text/plain": [
       "True"
      ]
     },
     "execution_count": 29,
     "metadata": {},
     "output_type": "execute_result"
    }
   ],
   "source": [
    "torch.allclose(out[0][0][:4].t().to(torch.int64), seq_onehot) #so this is the one hot encoded version of the sequence"
   ]
  },
  {
   "cell_type": "code",
   "execution_count": null,
   "metadata": {},
   "outputs": [
    {
     "data": {
      "text/plain": [
       "(674, 135086622)"
      ]
     },
     "execution_count": 31,
     "metadata": {},
     "output_type": "execute_result"
    }
   ],
   "source": [
    "#sequence is the easy part, the hard part is DNase then CAGE\n",
    "dataset.data[chrom].shape"
   ]
  },
  {
   "cell_type": "code",
   "execution_count": null,
   "metadata": {},
   "outputs": [
    {
     "data": {
      "text/plain": [
       "(524288,)"
      ]
     },
     "execution_count": 30,
     "metadata": {},
     "output_type": "execute_result"
    }
   ],
   "source": [
    "data = dataset.data[chrom][celltype_idx, start:end]\n",
    "data.shape"
   ]
  },
  {
   "cell_type": "code",
   "execution_count": 33,
   "metadata": {},
   "outputs": [
    {
     "data": {
      "text/plain": [
       "False"
      ]
     },
     "execution_count": 33,
     "metadata": {},
     "output_type": "execute_result"
    }
   ],
   "source": [
    "#now let's see if this matches?\n",
    "torch.allclose(out[0][1][0], torch.tensor(data, dtype=torch.float32)) #so this is the DNase data"
   ]
  },
  {
   "cell_type": "code",
   "execution_count": 34,
   "metadata": {},
   "outputs": [
    {
     "name": "stdout",
     "output_type": "stream",
     "text": [
      "177\n"
     ]
    }
   ],
   "source": [
    "#hmmm, let's see\n",
    "#ahh celltype idx is 1, we want the 177 or whatever\n",
    "true_celltype_idx = dataset.data_idxs[celltype_idx]\n",
    "print(true_celltype_idx)"
   ]
  },
  {
   "cell_type": "code",
   "execution_count": 35,
   "metadata": {},
   "outputs": [
    {
     "data": {
      "text/plain": [
       "True"
      ]
     },
     "execution_count": 35,
     "metadata": {},
     "output_type": "execute_result"
    }
   ],
   "source": [
    "data = dataset.data[chrom][true_celltype_idx, start:end]\n",
    "torch.allclose(out[0][1][0], torch.tensor(data, dtype=torch.float32)) #so this is the DNase data"
   ]
  },
  {
   "cell_type": "code",
   "execution_count": 37,
   "metadata": {},
   "outputs": [
    {
     "name": "stdout",
     "output_type": "stream",
     "text": [
      "4760\n",
      "(896, 5313)\n"
     ]
    }
   ],
   "source": [
    "#perfect! This all matches as we expect!!\n",
    "#final thing is CAGE, not too bad, similar concept\n",
    "true_celltype_idx = dataset.additional_data_idxs[celltype_idx]\n",
    "print(true_celltype_idx)\n",
    "extra_data = dataset.additional_data[split][seq_idx]\n",
    "print(extra_data.shape)"
   ]
  },
  {
   "cell_type": "code",
   "execution_count": 38,
   "metadata": {},
   "outputs": [
    {
     "name": "stdout",
     "output_type": "stream",
     "text": [
      "(896,)\n"
     ]
    }
   ],
   "source": [
    "extra_data = extra_data[:,true_celltype_idx]\n",
    "print(extra_data.shape)"
   ]
  },
  {
   "cell_type": "code",
   "execution_count": 41,
   "metadata": {},
   "outputs": [
    {
     "data": {
      "text/plain": [
       "(896, 1)"
      ]
     },
     "execution_count": 41,
     "metadata": {},
     "output_type": "execute_result"
    }
   ],
   "source": [
    "out[1][2].shape"
   ]
  },
  {
   "cell_type": "code",
   "execution_count": null,
   "metadata": {},
   "outputs": [
    {
     "data": {
      "text/plain": [
       "True"
      ]
     },
     "execution_count": 42,
     "metadata": {},
     "output_type": "execute_result"
    }
   ],
   "source": [
    "#now let's compare\n",
    "np.allclose(out[1][2][:,0], extra_data) #so this is the CAGE data\n",
    "#this matches as well, because the key is to use the sequence index!!"
   ]
  },
  {
   "cell_type": "code",
   "execution_count": 44,
   "metadata": {},
   "outputs": [
    {
     "data": {
      "text/plain": [
       "True"
      ]
     },
     "execution_count": 44,
     "metadata": {},
     "output_type": "execute_result"
    }
   ],
   "source": [
    "#I'm now quite confident this is good. Just some housekeeping\n",
    "np.allclose(out[0][0][:5], out[1][0][:,:5].T) #so this is the one hot encoded version of the sequence"
   ]
  },
  {
   "cell_type": "code",
   "execution_count": null,
   "metadata": {},
   "outputs": [
    {
     "data": {
      "text/plain": [
       "(tensor(0.), tensor(0.))"
      ]
     },
     "execution_count": 45,
     "metadata": {},
     "output_type": "execute_result"
    }
   ],
   "source": [
    "out[0][0][5].max(), out[0][0][5].min() #all zeros for the mask column!"
   ]
  },
  {
   "cell_type": "code",
   "execution_count": 48,
   "metadata": {},
   "outputs": [
    {
     "data": {
      "text/plain": [
       "torch.Size([2, 524288])"
      ]
     },
     "execution_count": 48,
     "metadata": {},
     "output_type": "execute_result"
    }
   ],
   "source": [
    "out[0][1].shape"
   ]
  },
  {
   "cell_type": "code",
   "execution_count": null,
   "metadata": {},
   "outputs": [
    {
     "data": {
      "text/plain": [
       "True"
      ]
     },
     "execution_count": 50,
     "metadata": {},
     "output_type": "execute_result"
    }
   ],
   "source": [
    "np.allclose(out[0][1][0,:], out[1][1][:,0]) #so this is the DNase data, all data matches"
   ]
  },
  {
   "cell_type": "code",
   "execution_count": null,
   "metadata": {},
   "outputs": [
    {
     "data": {
      "text/plain": [
       "(tensor(0.), tensor(0.))"
      ]
     },
     "execution_count": 46,
     "metadata": {},
     "output_type": "execute_result"
    }
   ],
   "source": [
    "out[0][1][1].max(), out[0][1][1].min() #all zeros for the mask column!"
   ]
  },
  {
   "cell_type": "code",
   "execution_count": null,
   "metadata": {},
   "outputs": [],
   "source": [
    "#so the data looks good then!!! I am happy with the dataset!"
   ]
  },
  {
   "cell_type": "markdown",
   "metadata": {},
   "source": [
    "# how to train for RNA seq"
   ]
  },
  {
   "cell_type": "code",
   "execution_count": null,
   "metadata": {},
   "outputs": [],
   "source": [
    "#the idea is we have models training to predict RNA seq\n",
    "#but we are only inputting DNAse seq for one?\n",
    "\n",
    "#wait yeah it's fine because accessibility input of DNase and then predict all DM12878 tracks, that's fine, only need the one input!"
   ]
  }
 ],
 "metadata": {
  "kernelspec": {
   "display_name": "default",
   "language": "python",
   "name": "python3"
  },
  "language_info": {
   "codemirror_mode": {
    "name": "ipython",
    "version": 3
   },
   "file_extension": ".py",
   "mimetype": "text/x-python",
   "name": "python",
   "nbconvert_exporter": "python",
   "pygments_lexer": "ipython3",
   "version": "3.11.7"
  }
 },
 "nbformat": 4,
 "nbformat_minor": 2
}
