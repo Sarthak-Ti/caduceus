{
 "cells": [
  {
   "cell_type": "markdown",
   "metadata": {},
   "source": [
    "# dataset classification\n",
    "3/15/24\n",
    "\n",
    "The point of this document is to test the dataset class for classification and see if our changes work properly, we will also do various tests with the model to ensure it's working"
   ]
  },
  {
   "cell_type": "code",
   "execution_count": 1,
   "metadata": {},
   "outputs": [
    {
     "name": "stdout",
     "output_type": "stream",
     "text": [
      "test\n"
     ]
    }
   ],
   "source": [
    "print('test')"
   ]
  },
  {
   "cell_type": "code",
   "execution_count": 2,
   "metadata": {},
   "outputs": [],
   "source": [
    "#first let's load in the dataset class\n",
    "from src.dataloaders.datasets.DNase_dataset import DNaseDataset\n",
    "from src.dataloaders.datasets.hg38_char_tokenizer import CharacterTokenizer\n",
    "tokenizer = CharacterTokenizer( #make sure to fix the tokenizer too\n",
    "                characters=['A', 'C', 'G', 'T', 'N', 'S', 'U', 'V', 'W', 'X', 'Y', 'Z'],\n",
    "                model_max_length=1024 + 2,  # add 2 since default adds eos/eos tokens, crop later\n",
    "                add_special_tokens=False,\n",
    "                padding_side='left'\n",
    "            )\n",
    "\n",
    "dataset = DNaseDataset(max_length = 1024, split = 'test', tokenizer=tokenizer, rc_aug = False, tokenizer_name='char', add_eos='True', filter = True)\n"
   ]
  },
  {
   "cell_type": "code",
   "execution_count": 3,
   "metadata": {},
   "outputs": [],
   "source": [
    "a,b = dataset[0]"
   ]
  },
  {
   "cell_type": "code",
   "execution_count": 4,
   "metadata": {},
   "outputs": [
    {
     "name": "stdout",
     "output_type": "stream",
     "text": [
      "tensor([12, 13, 14,  ...,  9,  9, 10])\n",
      "tensor([-10.])\n"
     ]
    }
   ],
   "source": [
    "print(a)\n",
    "print(b) #this is the normal one, now set classificaiton to true"
   ]
  },
  {
   "cell_type": "code",
   "execution_count": 5,
   "metadata": {},
   "outputs": [
    {
     "name": "stdout",
     "output_type": "stream",
     "text": [
      "tensor([12, 13, 14,  ...,  9,  9, 10])\n",
      "tensor([-10.])\n"
     ]
    }
   ],
   "source": [
    "classification = DNaseDataset(max_length = 1024, split = 'test', tokenizer=tokenizer, rc_aug = False, tokenizer_name='char', add_eos='True', filter = True, classification = True)\n",
    "a,b = dataset[0]\n",
    "print(a)\n",
    "print(b)"
   ]
  },
  {
   "cell_type": "code",
   "execution_count": 6,
   "metadata": {},
   "outputs": [
    {
     "name": "stdout",
     "output_type": "stream",
     "text": [
      "tensor([12, 13, 14,  ...,  9,  9, 10])\n",
      "(tensor([0]), tensor([-10.]))\n"
     ]
    }
   ],
   "source": [
    "a2,b2 = classification[0]\n",
    "print(a2)\n",
    "print(b2) #this is the classification one, and we see that it is indeed the two outputs in a tuple!!"
   ]
  },
  {
   "cell_type": "code",
   "execution_count": 8,
   "metadata": {},
   "outputs": [
    {
     "data": {
      "text/plain": [
       "True"
      ]
     },
     "execution_count": 8,
     "metadata": {},
     "output_type": "execute_result"
    }
   ],
   "source": [
    "import torch\n",
    "torch.allclose(a,a2)"
   ]
  },
  {
   "cell_type": "code",
   "execution_count": 10,
   "metadata": {},
   "outputs": [
    {
     "name": "stdout",
     "output_type": "stream",
     "text": [
      "True\n",
      "True\n",
      "True\n",
      "True\n",
      "True\n",
      "True\n",
      "True\n",
      "True\n",
      "True\n",
      "True\n",
      "[tensor([-10.]), tensor([-0.4581]), tensor([-10.]), tensor([-10.]), tensor([-1.8792]), tensor([-10.]), tensor([-2.3478]), tensor([-1.8173]), tensor([-0.6197]), tensor([-3.1970])]\n",
      "[(tensor([0]), tensor([-10.])), (tensor([1]), tensor([-0.4581])), (tensor([0]), tensor([-10.])), (tensor([0]), tensor([-10.])), (tensor([1]), tensor([-1.8792])), (tensor([0]), tensor([-10.])), (tensor([1]), tensor([-2.3478])), (tensor([1]), tensor([-1.8173])), (tensor([1]), tensor([-0.6197])), (tensor([1]), tensor([-3.1970]))]\n"
     ]
    }
   ],
   "source": [
    "#let's find several other examples\n",
    "reg_list = []\n",
    "class_list = []\n",
    "for i in range(10):\n",
    "    a,b = dataset[i]\n",
    "    a2,b2 = classification[i]\n",
    "    print(torch.allclose(a,a2))\n",
    "    # print(b)\n",
    "    # print(b2)\n",
    "    # print('')\n",
    "    reg_list.append(b)\n",
    "    class_list.append(b2)\n",
    "print(reg_list)\n",
    "print(class_list)"
   ]
  },
  {
   "cell_type": "code",
   "execution_count": 11,
   "metadata": {},
   "outputs": [
    {
     "name": "stdout",
     "output_type": "stream",
     "text": [
      "tensor([8, 7, 9,  ..., 9, 7, 8])\n",
      "(tensor([0, 1, 0, 0, 1, 0, 1, 1, 1, 1, 1, 1, 0, 0, 0, 0, 0, 0, 0, 1, 1, 0, 0, 1,\n",
      "        0, 0, 0, 1, 1, 0, 0, 0, 1, 0, 0, 1, 1, 1, 1, 0, 0, 0, 0, 0, 0, 1, 0, 1,\n",
      "        0, 0, 0, 1, 0, 1, 0, 1, 1, 1, 0, 0, 1, 0, 1, 0, 1, 0, 0, 0, 0, 0, 0, 0,\n",
      "        0, 0, 1, 1, 0, 0, 0, 0, 0, 1, 0, 1, 1, 1, 1, 1, 0, 1, 1, 1, 0, 0, 1, 0,\n",
      "        0, 1, 0, 0, 0, 0, 1, 1, 1, 1, 1, 1, 1, 1, 0, 0, 0, 1, 1, 0, 0, 0, 0, 1,\n",
      "        0, 0, 0, 1, 1, 0, 1, 1, 1, 1, 1, 0, 1, 1, 0, 1, 1, 1, 0, 1, 0, 0, 0, 1,\n",
      "        0, 0, 0, 1, 1, 1, 0, 0, 0, 0, 1, 1, 0, 0, 0, 1, 0]), tensor([-1.0000e+01, -4.5808e-01, -1.0000e+01, -1.0000e+01, -1.8792e+00,\n",
      "        -1.0000e+01, -2.3478e+00, -1.8173e+00, -6.1973e-01, -3.1970e+00,\n",
      "        -3.1362e+00, -6.3732e-01, -1.0000e+01, -1.0000e+01, -1.0000e+01,\n",
      "        -1.0000e+01, -1.0000e+01, -1.0000e+01, -1.0000e+01, -1.6359e+00,\n",
      "        -2.9812e+00, -1.0000e+01, -1.0000e+01, -1.9674e+00, -1.0000e+01,\n",
      "        -1.0000e+01, -1.0000e+01, -1.1343e+00, -1.4971e+00, -1.0000e+01,\n",
      "        -1.0000e+01, -1.0000e+01, -1.6084e+00, -1.0000e+01, -1.0000e+01,\n",
      "        -2.0236e+00, -2.5367e+00, -1.1614e-01, -5.7076e-01, -1.0000e+01,\n",
      "        -1.0000e+01, -1.0000e+01, -1.0000e+01, -1.0000e+01, -1.0000e+01,\n",
      "        -6.2989e-01, -1.0000e+01, -3.2462e-01, -1.0000e+01, -1.0000e+01,\n",
      "        -1.0000e+01, -2.0274e-01, -1.0000e+01, -1.7594e+00, -1.0000e+01,\n",
      "        -7.5590e-01, -1.1066e+00, -1.7550e+00, -1.0000e+01, -1.0000e+01,\n",
      "        -1.2859e+00, -1.0000e+01, -4.0290e-02, -1.0000e+01, -5.8336e-01,\n",
      "        -1.0000e+01, -1.0000e+01, -1.0000e+01, -1.0000e+01, -1.0000e+01,\n",
      "        -1.0000e+01, -1.0000e+01, -1.0000e+01, -1.0000e+01, -7.3588e-01,\n",
      "        -4.0794e-01, -1.0000e+01, -1.0000e+01, -1.0000e+01, -1.0000e+01,\n",
      "        -1.0000e+01, -2.7017e+00, -1.0000e+01,  1.8350e+00, -5.8716e-02,\n",
      "        -2.0472e+00,  6.2031e-04, -1.5060e+00, -1.0000e+01,  3.8892e-01,\n",
      "        -5.4557e-01, -7.9473e-01, -1.0000e+01, -1.0000e+01, -2.2882e+00,\n",
      "        -1.0000e+01, -1.0000e+01, -1.7029e+00, -1.0000e+01, -1.0000e+01,\n",
      "        -1.0000e+01, -1.0000e+01, -1.0525e+00, -5.3042e-01,  3.1996e-01,\n",
      "        -2.8669e-01, -9.9336e-01, -2.0395e-01, -1.0798e+00, -1.5536e-01,\n",
      "        -1.0000e+01, -1.0000e+01, -1.0000e+01,  1.6758e-01,  2.8610e-01,\n",
      "        -1.0000e+01, -1.0000e+01, -1.0000e+01, -1.0000e+01,  1.6354e-01,\n",
      "        -1.0000e+01, -1.0000e+01, -1.0000e+01, -2.0694e+00, -1.7942e+00,\n",
      "        -1.0000e+01, -7.3466e-01, -1.0402e+00,  9.2766e-02, -1.6520e+00,\n",
      "        -1.2083e+00, -1.0000e+01, -1.5517e+00,  1.2717e-01, -1.0000e+01,\n",
      "        -1.9727e+00, -1.7651e+00, -1.5085e+00, -1.0000e+01, -1.1466e+00,\n",
      "        -1.0000e+01, -1.0000e+01, -1.0000e+01, -1.2911e-01, -1.0000e+01,\n",
      "        -1.0000e+01, -1.0000e+01, -8.9330e-01, -2.7886e+00, -8.8353e-01,\n",
      "        -1.0000e+01, -1.0000e+01, -1.0000e+01, -1.0000e+01, -1.5294e+00,\n",
      "        -6.4778e-01, -1.0000e+01, -1.0000e+01, -1.0000e+01, -1.7576e+00,\n",
      "        -1.0000e+01]))\n"
     ]
    }
   ],
   "source": [
    "#seems to work just fine, now let's test the multitasking model and the ctst model\n",
    "from src.dataloaders.datasets.DNase_allcelltypes import DNaseAllCellTypeDataset\n",
    "classification_multitask = DNaseAllCellTypeDataset(max_length = 1024, split = 'test', tokenizer=tokenizer, rc_aug = False, tokenizer_name='char', add_eos='True', filter = True, classification = True)\n",
    "a,b = classification_multitask[0]\n",
    "print(a)\n",
    "print(b)"
   ]
  },
  {
   "cell_type": "code",
   "execution_count": 12,
   "metadata": {},
   "outputs": [
    {
     "data": {
      "text/plain": [
       "tensor([0, 1, 0, 0, 1, 0, 1, 1, 1, 1, 1, 1, 0, 0, 0, 0, 0, 0, 0, 1, 1, 0, 0, 1,\n",
       "        0, 0, 0, 1, 1, 0, 0, 0, 1, 0, 0, 1, 1, 1, 1, 0, 0, 0, 0, 0, 0, 1, 0, 1,\n",
       "        0, 0, 0, 1, 0, 1, 0, 1, 1, 1, 0, 0, 1, 0, 1, 0, 1, 0, 0, 0, 0, 0, 0, 0,\n",
       "        0, 0, 1, 1, 0, 0, 0, 0, 0, 1, 0, 1, 1, 1, 1, 1, 0, 1, 1, 1, 0, 0, 1, 0,\n",
       "        0, 1, 0, 0, 0, 0, 1, 1, 1, 1, 1, 1, 1, 1, 0, 0, 0, 1, 1, 0, 0, 0, 0, 1,\n",
       "        0, 0, 0, 1, 1, 0, 1, 1, 1, 1, 1, 0, 1, 1, 0, 1, 1, 1, 0, 1, 0, 0, 0, 1,\n",
       "        0, 0, 0, 1, 1, 1, 0, 0, 0, 0, 1, 1, 0, 0, 0, 1, 0])"
      ]
     },
     "execution_count": 12,
     "metadata": {},
     "output_type": "execute_result"
    }
   ],
   "source": [
    "b[0] #tensor of all the classes, the associated regression values are there"
   ]
  },
  {
   "cell_type": "code",
   "execution_count": 14,
   "metadata": {},
   "outputs": [
    {
     "name": "stdout",
     "output_type": "stream",
     "text": [
      "tensor([8, 7, 9,  ..., 9, 7, 8])\n",
      "tensor([12, 13, 14,  ...,  9,  9, 10])\n"
     ]
    },
    {
     "data": {
      "text/plain": [
       "True"
      ]
     },
     "execution_count": 14,
     "metadata": {},
     "output_type": "execute_result"
    }
   ],
   "source": [
    "print(a)\n",
    "print(a2)\n",
    "torch.allclose(a[3:-4],a2[7:]) #this makes sense, as  this is what we use with our ism utils to align the sequences"
   ]
  },
  {
   "cell_type": "code",
   "execution_count": 18,
   "metadata": {},
   "outputs": [
    {
     "name": "stdout",
     "output_type": "stream",
     "text": [
      "tensor(0)\n",
      "tensor(-10.)\n",
      "(tensor([0]), tensor([-10.]))\n",
      "\n",
      "tensor(1)\n",
      "tensor(-0.4581)\n",
      "(tensor([1]), tensor([-0.4581]))\n",
      "\n",
      "tensor(0)\n",
      "tensor(-10.)\n",
      "(tensor([0]), tensor([-10.]))\n",
      "\n",
      "tensor(0)\n",
      "tensor(-10.)\n",
      "(tensor([0]), tensor([-10.]))\n",
      "\n",
      "tensor(1)\n",
      "tensor(-1.8792)\n",
      "(tensor([1]), tensor([-1.8792]))\n",
      "\n",
      "tensor(0)\n",
      "tensor(-10.)\n",
      "(tensor([0]), tensor([-10.]))\n",
      "\n",
      "tensor(1)\n",
      "tensor(-2.3478)\n",
      "(tensor([1]), tensor([-2.3478]))\n",
      "\n",
      "tensor(1)\n",
      "tensor(-1.8173)\n",
      "(tensor([1]), tensor([-1.8173]))\n",
      "\n",
      "tensor(1)\n",
      "tensor(-0.6197)\n",
      "(tensor([1]), tensor([-0.6197]))\n",
      "\n",
      "tensor(1)\n",
      "tensor(-3.1970)\n",
      "(tensor([1]), tensor([-3.1970]))\n",
      "\n"
     ]
    }
   ],
   "source": [
    "#now let's loop and make sure the a matches and the b matches\n",
    "for i in range(161):\n",
    "    tempa,tempb = classification[i]\n",
    "    # print(torch.allclose(a,tempa))\n",
    "    if not torch.allclose(b[0][i],tempb[0]):\n",
    "        print('no')\n",
    "    if not torch.allclose(b[1][i],tempb[1]):\n",
    "        print('no')\n",
    "    # print(torch.allclose(b[0][i],b2[0]))\n",
    "    # print(torch.allclose(b[1][i],b2[i]))\n",
    "    if i<10:\n",
    "        print(b[0][i])\n",
    "        print(b[1][i])\n",
    "        print(tempb)\n",
    "        print('')\n",
    "    # reg_list.append(b)\n",
    "    # class_list.append"
   ]
  },
  {
   "cell_type": "code",
   "execution_count": 20,
   "metadata": {},
   "outputs": [
    {
     "name": "stdout",
     "output_type": "stream",
     "text": [
      "tensor([ 8, 10,  8,  ..., 10,  9,  7])\n",
      "tensor(1) tensor(0.5242)\n",
      "tensor([12, 13, 14,  ...,  8,  7,  8])\n",
      "(tensor([1]), tensor([0.5242]))\n"
     ]
    }
   ],
   "source": [
    "#let's jsut test it with a very random ccre number 83728\n",
    "a,b = classification_multitask[83728]\n",
    "print(a)\n",
    "print(b[0][0],b[1][0])\n",
    "a2,b2 = classification[83728*161]\n",
    "print(a2)\n",
    "print(b2)"
   ]
  },
  {
   "cell_type": "code",
   "execution_count": 22,
   "metadata": {},
   "outputs": [
    {
     "name": "stdout",
     "output_type": "stream",
     "text": [
      "True\n",
      "tensor([7, 9, 7,  ..., 8, 7, 8])\n",
      "tensor([7, 9, 7,  ..., 8, 7, 8])\n"
     ]
    }
   ],
   "source": [
    "print(torch.allclose(a[3:-4],a2[7:]))\n",
    "print(a[3:-4])\n",
    "print(a2[7:])"
   ]
  },
  {
   "cell_type": "code",
   "execution_count": 23,
   "metadata": {},
   "outputs": [
    {
     "name": "stdout",
     "output_type": "stream",
     "text": [
      "tensor([19,  8,  7,  ...,  9,  7,  8])\n",
      "(tensor([0]), tensor([-10.]))\n",
      "tensor([12, 13, 14,  ...,  9,  9, 10])\n",
      "(tensor([0]), tensor([-10.]))\n"
     ]
    }
   ],
   "source": [
    "#finally let's test the ctst model\n",
    "from src.dataloaders.datasets.DNase_ctst_dataset import DNaseCtstDataset\n",
    "classification_ctst = DNaseCtstDataset(max_length = 1024, split = 'test', tokenizer=tokenizer, rc_aug = False, tokenizer_name='char', add_eos='True', filter = True, classification = True)\n",
    "a,b = classification_ctst[0]\n",
    "print(a)\n",
    "print(b)\n",
    "a2,b2 = classification[0]\n",
    "print(a2)\n",
    "print(b2)"
   ]
  },
  {
   "cell_type": "code",
   "execution_count": 24,
   "metadata": {},
   "outputs": [
    {
     "name": "stdout",
     "output_type": "stream",
     "text": [
      "16945572\n",
      "16945572\n"
     ]
    }
   ],
   "source": [
    "print(len(classification_ctst))\n",
    "print(len(classification))"
   ]
  },
  {
   "cell_type": "code",
   "execution_count": 28,
   "metadata": {},
   "outputs": [],
   "source": [
    "#and now do a for loop that just randomly generates indices between 0 and the length of the dataset\n",
    "for i in range(1000): #2 seconds for 1000... and all match\n",
    "    idx = torch.randint(0,16945572,(1,))\n",
    "    a,b = classification_ctst[idx]\n",
    "    a2,b2 = classification[idx]\n",
    "    # print(torch.allclose(a[4:-4],a2[7:]))\n",
    "    # print(torch.allclose(b[0],b2[0]))\n",
    "    # print(torch.allclose(b[1],b2[1]))\n",
    "    # print('')\n",
    "    #if any of those are false, then print error\n",
    "    if not torch.allclose(a[4:-4],a2[7:]):\n",
    "        print('no')\n",
    "    if not torch.allclose(b[0],b2[0]):\n",
    "        print('no')\n",
    "    if not torch.allclose(b[1],b2[1]):\n",
    "        print('no')\n",
    "        "
   ]
  },
  {
   "cell_type": "code",
   "execution_count": 30,
   "metadata": {},
   "outputs": [
    {
     "name": "stdout",
     "output_type": "stream",
     "text": [
      "tensor([13152039])\n",
      "(tensor([1]), tensor([0.5150]))\n",
      "(tensor([1]), tensor([0.5150]))\n",
      "tensor([ 7,  9,  9,  ..., 10,  9, 10])\n",
      "tensor([ 7,  9,  9,  ..., 10,  9, 10])\n"
     ]
    }
   ],
   "source": [
    "print(idx)\n",
    "print(b)\n",
    "print(b2)\n",
    "print(a[4:-4])\n",
    "print(a2[7:])"
   ]
  },
  {
   "cell_type": "code",
   "execution_count": 33,
   "metadata": {},
   "outputs": [
    {
     "name": "stdout",
     "output_type": "stream",
     "text": [
      "tensor([5615])\n",
      "tensor([ 7, 10,  9,  ..., 10,  9, 10])\n",
      "tensor([1, 1, 1, 1, 1, 1, 1, 1, 1, 1, 1, 1, 1, 1, 1, 1, 1, 1, 1, 1, 1, 1, 1, 1,\n",
      "        1, 1, 1, 1, 1, 0, 1, 1, 1, 1, 1, 1, 1, 1, 1, 1, 1, 1, 1, 1, 1, 1, 1, 1,\n",
      "        1, 1, 1, 1, 1, 1, 1, 1, 1, 1, 1, 1, 1, 1, 1, 1, 1, 1, 1, 1, 1, 1, 1, 1,\n",
      "        1, 1, 1, 1, 1, 1, 1, 1, 1, 1, 1, 1, 1, 1, 1, 1, 1, 1, 1, 1, 1, 1, 1, 1,\n",
      "        1, 1, 1, 1, 1, 1, 1, 1, 1, 1, 1, 1, 1, 1, 1, 1, 1, 1, 1, 1, 1, 1, 1, 1,\n",
      "        1, 1, 1, 1, 1, 1, 1, 1, 1, 1, 1, 1, 1, 1, 1, 1, 1, 1, 1, 1, 1, 1, 1, 1,\n",
      "        1, 1, 1, 1, 1, 1, 1, 1, 1, 1, 1, 1, 1, 1, 1, 1, 1]) tensor([ 7.9067e-01,  1.1987e-02,  1.2789e+00,  5.1513e-01,  6.7055e-01,\n",
      "         6.2309e-01,  6.8574e-01,  5.1906e-02,  7.7424e-01, -2.7482e-01,\n",
      "         1.9750e-01, -2.8510e-02,  3.4374e-01,  1.4384e-01, -3.4549e-01,\n",
      "         4.4669e-01,  5.7090e-01, -6.6406e-02, -1.5417e-01,  9.8665e-02,\n",
      "         4.2766e-01, -1.4391e+00,  4.7185e-01,  4.3733e-01,  6.4870e-01,\n",
      "         2.8997e-01,  8.6265e-01,  7.3861e-02, -2.5913e-01, -1.0000e+01,\n",
      "         8.5760e-01,  6.4485e-01,  2.0113e-01,  9.6245e-01, -3.4235e-01,\n",
      "         3.9059e-01, -1.3049e-01,  1.0755e+00,  8.2946e-01, -4.5266e-01,\n",
      "         4.3580e-01,  4.9255e-01,  9.4253e-01,  5.6846e-01,  7.9447e-01,\n",
      "         2.9780e-01,  4.7296e-01,  9.2911e-01,  4.3959e-01,  7.2704e-01,\n",
      "         6.4774e-01,  3.3134e-01, -6.1941e-01,  8.1950e-01,  3.7833e-01,\n",
      "         1.2220e+00,  1.2590e+00,  1.3239e+00,  9.8024e-01, -1.3427e+00,\n",
      "         1.2436e+00,  1.1209e+00,  1.2868e-01,  1.2762e+00,  2.8702e-02,\n",
      "         6.1566e-01,  9.1698e-02,  1.1453e+00,  2.4116e-01,  1.7226e-01,\n",
      "         1.8090e-01,  1.1033e+00,  4.0057e-01,  1.3559e+00,  1.3112e+00,\n",
      "         6.4266e-01,  7.7525e-01,  1.5093e+00,  2.1062e+00,  2.0956e+00,\n",
      "         1.6720e+00,  1.8219e+00,  1.0987e+00,  1.6659e+00,  1.6480e+00,\n",
      "         6.5919e-01, -4.2185e-01,  1.7409e+00,  1.4802e+00, -1.2031e-01,\n",
      "        -1.2087e+00,  1.1124e+00,  8.2734e-01,  1.7119e+00,  4.6240e-01,\n",
      "         1.9058e-01, -4.5410e-02, -6.5620e-01, -3.9458e-01, -7.4943e-02,\n",
      "         1.0748e+00,  9.0188e-01,  2.2654e-01,  8.4750e-01,  1.4036e-01,\n",
      "         5.1984e-01,  2.5418e-01, -3.3621e-01,  4.0958e-01,  2.6190e-01,\n",
      "         1.7760e+00,  2.8428e-01,  1.1340e+00,  1.1607e+00,  7.1428e-01,\n",
      "         8.5899e-01,  6.2282e-01,  7.0411e-01,  5.0429e-01, -2.5748e-02,\n",
      "         6.0049e-01,  1.0679e+00, -2.8697e-01,  2.6999e+00,  2.5623e+00,\n",
      "         5.7678e-01,  1.3401e+00, -4.8278e-01,  1.5622e+00,  7.2303e-01,\n",
      "        -3.2924e-01,  1.8906e-01,  8.7151e-01,  1.4482e+00,  5.0902e-01,\n",
      "         8.8631e-01,  7.8074e-01,  1.2187e+00,  3.0335e-01,  1.6153e+00,\n",
      "         2.0111e+00,  1.2094e+00,  1.1198e+00,  2.2084e+00,  8.7707e-01,\n",
      "         2.9184e-01,  7.2207e-01,  1.3655e-01,  1.3025e+00,  1.3891e+00,\n",
      "         2.3388e-02,  1.0006e+00,  8.9524e-01,  9.2083e-01, -2.3758e-01,\n",
      "         6.0757e-01,  1.8579e+00,  1.4463e+00,  9.1295e-03,  1.1109e+00,\n",
      "         9.7100e-01])\n"
     ]
    }
   ],
   "source": [
    "#i'm going to assume that we are probably fine, every value works, let's do one final test\n",
    "random_ccre = torch.randint(0,14572,(1,))\n",
    "print(random_ccre)\n",
    "a,b = classification_multitask[random_ccre]\n",
    "print(a)\n",
    "print(b[0],b[1])"
   ]
  },
  {
   "cell_type": "code",
   "execution_count": 34,
   "metadata": {},
   "outputs": [
    {
     "data": {
      "text/plain": [
       "(tensor([29]),)"
      ]
     },
     "execution_count": 34,
     "metadata": {},
     "output_type": "execute_result"
    }
   ],
   "source": [
    "#only one is closed, find which one is zero\n",
    "torch.where(b[0] == 0)"
   ]
  },
  {
   "cell_type": "code",
   "execution_count": 36,
   "metadata": {},
   "outputs": [
    {
     "name": "stdout",
     "output_type": "stream",
     "text": [
      "tensor(0)\n",
      "tensor(-10.)\n"
     ]
    },
    {
     "data": {
      "text/plain": [
       "(tensor([29]),)"
      ]
     },
     "execution_count": 36,
     "metadata": {},
     "output_type": "execute_result"
    }
   ],
   "source": [
    "print(b[0][29])\n",
    "print(b[1][29])\n",
    "#check to see all values of b[1] that are -10\n",
    "torch.where(b[1] == -10)"
   ]
  },
  {
   "cell_type": "code",
   "execution_count": 39,
   "metadata": {},
   "outputs": [
    {
     "name": "stdout",
     "output_type": "stream",
     "text": [
      "tensor([False, False, False, False, False, False, False, False, False, False,\n",
      "        False, False, False, False, False, False, False, False, False, False,\n",
      "        False, False, False, False, False, False, False, False, False, False,\n",
      "        False, False, False, False, False, False, False, False, False, False,\n",
      "        False, False, False, False, False, False, False, False, False, False,\n",
      "        False, False, False, False, False, False, False, False, False, False,\n",
      "        False, False, False, False, False, False, False, False, False, False,\n",
      "        False, False, False, False, False, False, False, False, False, False,\n",
      "        False, False, False, False, False, False, False, False, False, False,\n",
      "        False, False, False, False, False, False, False, False, False, False,\n",
      "        False, False, False, False, False, False, False, False, False, False,\n",
      "        False, False, False, False, False, False, False, False, False, False,\n",
      "        False, False, False, False, False, False, False, False, False, False,\n",
      "        False, False, False, False, False, False, False, False, False, False,\n",
      "        False, False, False, False, False, False, False, False, False, False,\n",
      "        False, False, False, False, False, False, False, False, False, False])\n",
      "tensor([False, False, False, False, False, False, False, False, False, False,\n",
      "        False, False, False, False, False, False, False, False, False, False,\n",
      "        False, False, False, False, False, False, False, False, False,  True,\n",
      "        False, False, False, False, False, False, False, False, False, False,\n",
      "        False, False, False, False, False, False, False, False, False, False,\n",
      "        False, False, False, False, False, False, False, False, False, False,\n",
      "        False, False, False, False, False, False, False, False, False, False,\n",
      "        False, False, False, False, False, False, False, False, False, False,\n",
      "        False, False, False, False, False, False, False, False, False, False,\n",
      "        False, False, False, False, False, False, False, False, False, False,\n",
      "        False, False, False, False, False, False, False, False, False, False,\n",
      "        False, False, False, False, False, False, False, False, False, False,\n",
      "        False, False, False, False, False, False, False, False, False, False,\n",
      "        False, False, False, False, False, False, False, False, False, False,\n",
      "        False, False, False, False, False, False, False, False, False, False,\n",
      "        False, False, False, False, False, False, False, False, False, False,\n",
      "        False])\n"
     ]
    }
   ],
   "source": [
    "#now mask it\n",
    "mask = b[1] != -10\n",
    "# print(mask)\n",
    "print(b[1][mask]==-10)\n",
    "print(b[1]==-10)\n",
    "\n",
    "#just the single true, for this case, I think it's safe to say our dataset works properly!!"
   ]
  },
  {
   "cell_type": "code",
   "execution_count": 42,
   "metadata": {},
   "outputs": [
    {
     "name": "stdout",
     "output_type": "stream",
     "text": [
      "True\n",
      "True\n"
     ]
    }
   ],
   "source": [
    "#we can conclude that the datasets work!\n",
    "print(isinstance(b[0],torch.Tensor))\n",
    "print(isinstance(b,tuple))\n"
   ]
  }
 ],
 "metadata": {
  "kernelspec": {
   "display_name": "Python 3 (ipykernel)",
   "language": "python",
   "name": "python3"
  },
  "language_info": {
   "codemirror_mode": {
    "name": "ipython",
    "version": 3
   },
   "file_extension": ".py",
   "mimetype": "text/x-python",
   "name": "python",
   "nbconvert_exporter": "python",
   "pygments_lexer": "ipython3",
   "version": "3.11.7"
  }
 },
 "nbformat": 4,
 "nbformat_minor": 2
}
