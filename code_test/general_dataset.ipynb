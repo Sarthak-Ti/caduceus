{
 "cells": [
  {
   "cell_type": "markdown",
   "metadata": {},
   "source": [
    "# we need to create a general dataset, this has a few main steps\n",
    "\n",
    "This will load in sequences, then apply preprocessing in the wayy david kelley does it with the scaling, shifting and whatever else he does. Then we will also do the unmappable regions\n",
    "\n",
    "If needed we can prcompute the filled in values or whatever, let's review what he does an dmake sure it makes sense"
   ]
  },
  {
   "cell_type": "code",
   "execution_count": 1,
   "metadata": {},
   "outputs": [
    {
     "data": {
      "text/html": [
       "<div>\n",
       "<style scoped>\n",
       "    .dataframe tbody tr th:only-of-type {\n",
       "        vertical-align: middle;\n",
       "    }\n",
       "\n",
       "    .dataframe tbody tr th {\n",
       "        vertical-align: top;\n",
       "    }\n",
       "\n",
       "    .dataframe thead th {\n",
       "        text-align: right;\n",
       "    }\n",
       "</style>\n",
       "<table border=\"1\" class=\"dataframe\">\n",
       "  <thead>\n",
       "    <tr style=\"text-align: right;\">\n",
       "      <th></th>\n",
       "      <th>0</th>\n",
       "      <th>1</th>\n",
       "      <th>2</th>\n",
       "    </tr>\n",
       "  </thead>\n",
       "  <tbody>\n",
       "    <tr>\n",
       "      <th>0</th>\n",
       "      <td>chr1</td>\n",
       "      <td>0</td>\n",
       "      <td>10146</td>\n",
       "    </tr>\n",
       "    <tr>\n",
       "      <th>1</th>\n",
       "      <td>chr1</td>\n",
       "      <td>10258</td>\n",
       "      <td>10312</td>\n",
       "    </tr>\n",
       "    <tr>\n",
       "      <th>2</th>\n",
       "      <td>chr1</td>\n",
       "      <td>10352</td>\n",
       "      <td>10435</td>\n",
       "    </tr>\n",
       "    <tr>\n",
       "      <th>3</th>\n",
       "      <td>chr1</td>\n",
       "      <td>10468</td>\n",
       "      <td>13293</td>\n",
       "    </tr>\n",
       "    <tr>\n",
       "      <th>4</th>\n",
       "      <td>chr1</td>\n",
       "      <td>13358</td>\n",
       "      <td>13946</td>\n",
       "    </tr>\n",
       "  </tbody>\n",
       "</table>\n",
       "</div>"
      ],
      "text/plain": [
       "      0      1      2\n",
       "0  chr1      0  10146\n",
       "1  chr1  10258  10312\n",
       "2  chr1  10352  10435\n",
       "3  chr1  10468  13293\n",
       "4  chr1  13358  13946"
      ]
     },
     "execution_count": 1,
     "metadata": {},
     "output_type": "execute_result"
    }
   ],
   "source": [
    "#so first of all, there is this unmap_human.bed, so we can simply turn that into a np array that is by genome and load it in in its entirity. Just 3 GB, let's do that!\n",
    "\n",
    "import pandas as pd\n",
    "import numpy as np\n",
    "\n",
    "unmap_human = pd.read_csv(\"/data1/lesliec/sarthak/data/borzoi/umap_human.bed\", sep=\"\\t\", header=None)\n",
    "unmap_human.head()"
   ]
  },
  {
   "cell_type": "code",
   "execution_count": 7,
   "metadata": {},
   "outputs": [
    {
     "data": {
      "text/plain": [
       "array(['chr1', 'chr10', 'chr10_KI270824v1_alt', 'chr11',\n",
       "       'chr11_KI270903v1_alt', 'chr12', 'chr12_GL877875v1_alt',\n",
       "       'chr12_KI270835v1_alt', 'chr13', 'chr13_KI270840v1_alt', 'chr14',\n",
       "       'chr14_GL000009v2_random', 'chr14_GL000194v1_random',\n",
       "       'chr14_GL000225v1_random', 'chr14_KI270722v1_random',\n",
       "       'chr14_KI270723v1_random', 'chr14_KI270724v1_random',\n",
       "       'chr14_KI270725v1_random', 'chr15', 'chr15_KI270727v1_random',\n",
       "       'chr15_KI270850v1_alt', 'chr15_KI270852v1_alt',\n",
       "       'chr15_KI270905v1_alt', 'chr16', 'chr16_KI270728v1_random',\n",
       "       'chr16_KI270853v1_alt', 'chr17', 'chr17_GL000205v2_random',\n",
       "       'chr17_GL383563v3_alt', 'chr17_KI270729v1_random',\n",
       "       'chr17_KI270730v1_random', 'chr18', 'chr19',\n",
       "       'chr19_GL383573v1_alt', 'chr19_GL383576v1_alt',\n",
       "       'chr19_GL949746v1_alt', 'chr19_GL949747v2_alt',\n",
       "       'chr19_GL949748v2_alt', 'chr19_GL949749v2_alt',\n",
       "       'chr19_GL949750v2_alt', 'chr19_GL949751v2_alt',\n",
       "       'chr19_GL949752v1_alt', 'chr19_GL949753v2_alt',\n",
       "       'chr19_KI270867v1_alt', 'chr19_KI270938v1_alt',\n",
       "       'chr1_KI270706v1_random', 'chr1_KI270707v1_random',\n",
       "       'chr1_KI270708v1_random', 'chr1_KI270712v1_random',\n",
       "       'chr1_KI270766v1_alt', 'chr2', 'chr20', 'chr21', 'chr22',\n",
       "       'chr22_KI270731v1_random', 'chr22_KI270734v1_random',\n",
       "       'chr22_KI270736v1_random', 'chr22_KI270738v1_random',\n",
       "       'chr22_KI270739v1_random', 'chr22_KI270876v1_alt',\n",
       "       'chr22_KI270878v1_alt', 'chr2_KI270715v1_random',\n",
       "       'chr2_KI270716v1_random', 'chr2_KI270767v1_alt',\n",
       "       'chr2_KI270768v1_alt', 'chr2_KI270893v1_alt',\n",
       "       'chr2_KI270894v1_alt', 'chr3', 'chr3_GL000221v1_random',\n",
       "       'chr3_KI270779v1_alt', 'chr3_KI270780v1_alt',\n",
       "       'chr3_KI270784v1_alt', 'chr3_KI270895v1_alt',\n",
       "       'chr3_KI270924v1_alt', 'chr3_KI270934v1_alt',\n",
       "       'chr3_KI270935v1_alt', 'chr3_KI270936v1_alt',\n",
       "       'chr3_KI270937v1_alt', 'chr4', 'chr4_GL000008v2_random',\n",
       "       'chr4_KI270896v1_alt', 'chr5', 'chr5_GL000208v1_random', 'chr6',\n",
       "       'chr7', 'chr8', 'chr8_KI270813v1_alt', 'chr9',\n",
       "       'chr9_KI270719v1_random', 'chrUn_GL000195v1', 'chrUn_GL000214v1',\n",
       "       'chrUn_GL000216v2', 'chrUn_GL000218v1', 'chrUn_GL000219v1',\n",
       "       'chrUn_GL000224v1', 'chrUn_GL000226v1', 'chrUn_KI270302v1',\n",
       "       'chrUn_KI270303v1', 'chrUn_KI270304v1', 'chrUn_KI270305v1',\n",
       "       'chrUn_KI270310v1', 'chrUn_KI270311v1', 'chrUn_KI270312v1',\n",
       "       'chrUn_KI270315v1', 'chrUn_KI270316v1', 'chrUn_KI270317v1',\n",
       "       'chrUn_KI270320v1', 'chrUn_KI270322v1', 'chrUn_KI270329v1',\n",
       "       'chrUn_KI270333v1', 'chrUn_KI270334v1', 'chrUn_KI270335v1',\n",
       "       'chrUn_KI270336v1', 'chrUn_KI270337v1', 'chrUn_KI270338v1',\n",
       "       'chrUn_KI270340v1', 'chrUn_KI270362v1', 'chrUn_KI270364v1',\n",
       "       'chrUn_KI270366v1', 'chrUn_KI270371v1', 'chrUn_KI270372v1',\n",
       "       'chrUn_KI270373v1', 'chrUn_KI270374v1', 'chrUn_KI270375v1',\n",
       "       'chrUn_KI270376v1', 'chrUn_KI270378v1', 'chrUn_KI270381v1',\n",
       "       'chrUn_KI270382v1', 'chrUn_KI270383v1', 'chrUn_KI270384v1',\n",
       "       'chrUn_KI270385v1', 'chrUn_KI270386v1', 'chrUn_KI270387v1',\n",
       "       'chrUn_KI270388v1', 'chrUn_KI270389v1', 'chrUn_KI270390v1',\n",
       "       'chrUn_KI270391v1', 'chrUn_KI270392v1', 'chrUn_KI270393v1',\n",
       "       'chrUn_KI270394v1', 'chrUn_KI270395v1', 'chrUn_KI270396v1',\n",
       "       'chrUn_KI270411v1', 'chrUn_KI270412v1', 'chrUn_KI270414v1',\n",
       "       'chrUn_KI270417v1', 'chrUn_KI270418v1', 'chrUn_KI270419v1',\n",
       "       'chrUn_KI270420v1', 'chrUn_KI270422v1', 'chrUn_KI270423v1',\n",
       "       'chrUn_KI270424v1', 'chrUn_KI270425v1', 'chrUn_KI270429v1',\n",
       "       'chrUn_KI270435v1', 'chrUn_KI270438v1', 'chrUn_KI270442v1',\n",
       "       'chrUn_KI270448v1', 'chrUn_KI270465v1', 'chrUn_KI270466v1',\n",
       "       'chrUn_KI270467v1', 'chrUn_KI270468v1', 'chrUn_KI270507v1',\n",
       "       'chrUn_KI270509v1', 'chrUn_KI270510v1', 'chrUn_KI270511v1',\n",
       "       'chrUn_KI270512v1', 'chrUn_KI270515v1', 'chrUn_KI270516v1',\n",
       "       'chrUn_KI270517v1', 'chrUn_KI270518v1', 'chrUn_KI270519v1',\n",
       "       'chrUn_KI270521v1', 'chrUn_KI270522v1', 'chrUn_KI270529v1',\n",
       "       'chrUn_KI270530v1', 'chrUn_KI270538v1', 'chrUn_KI270544v1',\n",
       "       'chrUn_KI270548v1', 'chrUn_KI270579v1', 'chrUn_KI270584v1',\n",
       "       'chrUn_KI270587v1', 'chrUn_KI270588v1', 'chrUn_KI270589v1',\n",
       "       'chrUn_KI270590v1', 'chrUn_KI270591v1', 'chrUn_KI270593v1',\n",
       "       'chrUn_KI270741v1', 'chrUn_KI270742v1', 'chrUn_KI270743v1',\n",
       "       'chrUn_KI270744v1', 'chrUn_KI270747v1', 'chrUn_KI270749v1',\n",
       "       'chrUn_KI270750v1', 'chrUn_KI270751v1', 'chrUn_KI270754v1',\n",
       "       'chrUn_KI270757v1', 'chrX', 'chrX_KI270880v1_alt',\n",
       "       'chrX_KI270913v1_alt', 'chrY'], dtype=object)"
      ]
     },
     "execution_count": 7,
     "metadata": {},
     "output_type": "execute_result"
    }
   ],
   "source": [
    "#find unique values for column 0\n",
    "chromosomes = unmap_human[0].unique()\n",
    "chromosomes"
   ]
  },
  {
   "cell_type": "code",
   "execution_count": 2,
   "metadata": {},
   "outputs": [],
   "source": [
    "#let's just make it a np array of values\n",
    "umap_chr1 = np.zeros(248956422)\n",
    "for i in range(unmap_human.shape[0]):\n",
    "    if unmap_human.iloc[i, 0] == \"chr1\":\n",
    "        umap_chr1[unmap_human.iloc[i, 1]:unmap_human.iloc[i, 2]] = 1"
   ]
  },
  {
   "cell_type": "code",
   "execution_count": null,
   "metadata": {},
   "outputs": [
    {
     "data": {
      "text/plain": [
       "[<matplotlib.lines.Line2D at 0x7ff4d088c9d0>]"
      ]
     },
     "execution_count": 3,
     "metadata": {},
     "output_type": "execute_result"
    },
    {
     "data": {
      "image/png": "[encoded data removed]",
      "text/plain": [
       "<Figure size 640x480 with 1 Axes>"
      ]
     },
     "metadata": {},
     "output_type": "display_data"
    }
   ],
   "source": [
    "#this process is actually pretty slow lol, but it's fine? let's test it now\n",
    "import matplotlib.pyplot as plt\n",
    "plt.plot(umap_chr1) #this literally doesn't tell us anything lmao!!"
   ]
  },
  {
   "cell_type": "code",
   "execution_count": null,
   "metadata": {},
   "outputs": [
    {
     "data": {
      "text/plain": [
       "0.16038682464676488"
      ]
     },
     "execution_count": 5,
     "metadata": {},
     "output_type": "execute_result"
    }
   ],
   "source": [
    "umap_chr1.sum()/len(umap_chr1) #16% of the genome is unmappable, that's extremely high, at least for chr1!"
   ]
  },
  {
   "cell_type": "code",
   "execution_count": 8,
   "metadata": {},
   "outputs": [
    {
     "data": {
      "text/html": [
       "<div>\n",
       "<style scoped>\n",
       "    .dataframe tbody tr th:only-of-type {\n",
       "        vertical-align: middle;\n",
       "    }\n",
       "\n",
       "    .dataframe tbody tr th {\n",
       "        vertical-align: top;\n",
       "    }\n",
       "\n",
       "    .dataframe thead th {\n",
       "        text-align: right;\n",
       "    }\n",
       "</style>\n",
       "<table border=\"1\" class=\"dataframe\">\n",
       "  <thead>\n",
       "    <tr style=\"text-align: right;\">\n",
       "      <th></th>\n",
       "      <th>0</th>\n",
       "      <th>1</th>\n",
       "      <th>2</th>\n",
       "    </tr>\n",
       "  </thead>\n",
       "  <tbody>\n",
       "    <tr>\n",
       "      <th>0</th>\n",
       "      <td>chr1</td>\n",
       "      <td>0</td>\n",
       "      <td>10146</td>\n",
       "    </tr>\n",
       "    <tr>\n",
       "      <th>1</th>\n",
       "      <td>chr1</td>\n",
       "      <td>10258</td>\n",
       "      <td>10312</td>\n",
       "    </tr>\n",
       "    <tr>\n",
       "      <th>2</th>\n",
       "      <td>chr1</td>\n",
       "      <td>10352</td>\n",
       "      <td>10435</td>\n",
       "    </tr>\n",
       "    <tr>\n",
       "      <th>3</th>\n",
       "      <td>chr1</td>\n",
       "      <td>10471</td>\n",
       "      <td>10589</td>\n",
       "    </tr>\n",
       "    <tr>\n",
       "      <th>4</th>\n",
       "      <td>chr1</td>\n",
       "      <td>10654</td>\n",
       "      <td>10783</td>\n",
       "    </tr>\n",
       "  </tbody>\n",
       "</table>\n",
       "</div>"
      ],
      "text/plain": [
       "      0      1      2\n",
       "0  chr1      0  10146\n",
       "1  chr1  10258  10312\n",
       "2  chr1  10352  10435\n",
       "3  chr1  10471  10589\n",
       "4  chr1  10654  10783"
      ]
     },
     "execution_count": 8,
     "metadata": {},
     "output_type": "execute_result"
    }
   ],
   "source": [
    "#let's compare witht he other human bed file\n",
    "unmap_human2 = pd.read_csv(\"/data1/lesliec/sarthak/data/borzoi/umap_k36_t10_l32_hg38.bed\", sep=\"\\t\", header=None)\n",
    "unmap_human2.head()"
   ]
  },
  {
   "cell_type": "code",
   "execution_count": null,
   "metadata": {},
   "outputs": [
    {
     "data": {
      "text/plain": [
       "array(['chr1', 'chr10', 'chr11', 'chr12', 'chr13', 'chr14', 'chr15',\n",
       "       'chr16', 'chr17', 'chr18', 'chr19', 'chr2', 'chr20', 'chr21',\n",
       "       'chr22', 'chr3', 'chr4', 'chr5', 'chr6', 'chr7', 'chr8', 'chr9',\n",
       "       'chrX', 'chrY'], dtype=object)"
      ]
     },
     "execution_count": 9,
     "metadata": {},
     "output_type": "execute_result"
    }
   ],
   "source": [
    "unmap_human2[0].unique() #this is the same as the other one, but seems to just be a reduced value of them"
   ]
  },
  {
   "cell_type": "code",
   "execution_count": null,
   "metadata": {},
   "outputs": [
    {
     "data": {
      "text/plain": [
       "((1472317, 3), (1522122, 3))"
      ]
     },
     "execution_count": 10,
     "metadata": {},
     "output_type": "execute_result"
    }
   ],
   "source": [
    "unmap_human.shape, unmap_human2.shape #they are not the same, that's strange. Seems simlar tho, let's see where we got it from.\n",
    "#it seems they download both. LEt's see what's used in the makefile\n",
    "#so they seem to use this weird name one alongwith the blacklist and then used bedtools to merge them!\n",
    "\n"
   ]
  },
  {
   "cell_type": "code",
   "execution_count": null,
   "metadata": {},
   "outputs": [
    {
     "name": "stdout",
     "output_type": "stream",
     "text": [
      "0.15896259948658806\n"
     ]
    }
   ],
   "source": [
    "#another option is make sure that unmap_human2 is entirely contained within unmap_human\n",
    "umap_chr1_2 = np.zeros(248956422)\n",
    "for i in range(unmap_human2.shape[0]):\n",
    "    if unmap_human2.iloc[i, 0] == \"chr1\":\n",
    "        umap_chr1_2[unmap_human2.iloc[i, 1]:unmap_human2.iloc[i, 2]] = 1\n",
    "print(umap_chr1_2.sum()/len(umap_chr1_2)) #this is 15.9%, so it's just a bit less"
   ]
  },
  {
   "cell_type": "code",
   "execution_count": null,
   "metadata": {},
   "outputs": [
    {
     "data": {
      "text/plain": [
       "(0.0, 1.0)"
      ]
     },
     "execution_count": 12,
     "metadata": {},
     "output_type": "execute_result"
    }
   ],
   "source": [
    "#now make sure it's contained\n",
    "diff = umap_chr1 - umap_chr1_2 #this is all 0, so it's contained\n",
    "#the difference should be either 0 or 1, if it's negative then there's wrong ones\n",
    "diff.min(), diff.max() #yup it's as expected, just more values, because contains blacklist, so let's use this for the unmappable"
   ]
  },
  {
   "cell_type": "code",
   "execution_count": null,
   "metadata": {},
   "outputs": [],
   "source": [
    "#so u se the umap_human.bed and create the full list"
   ]
  },
  {
   "cell_type": "code",
   "execution_count": 15,
   "metadata": {},
   "outputs": [
    {
     "name": "stdout",
     "output_type": "stream",
     "text": [
      "Chromosome: chr1 Percentage: 0.16038682464676488\n",
      "Chromosome: chr2 Percentage: 0.07407372283009434\n",
      "Chromosome: chr3 Percentage: 0.04965291074114168\n",
      "Chromosome: chr4 Percentage: 0.04782573152501364\n",
      "Chromosome: chr5 Percentage: 0.06119281389736554\n",
      "Chromosome: chr6 Percentage: 0.043103302633422325\n",
      "Chromosome: chr7 Percentage: 0.06528848249594461\n",
      "Chromosome: chr8 Percentage: 0.043645726881470046\n",
      "Chromosome: chr9 Percentage: 0.1326802045700994\n",
      "Chromosome: chr10 Percentage: 0.04530081573874804\n",
      "Chromosome: chr11 Percentage: 0.048350727020008345\n",
      "Chromosome: chr12 Percentage: 0.040556435214191826\n",
      "Chromosome: chr13 Percentage: 0.09097160787440944\n",
      "Chromosome: chr14 Percentage: 0.09506335209139534\n",
      "Chromosome: chr15 Percentage: 0.11278987211665502\n",
      "Chromosome: chr16 Percentage: 0.07818539021258909\n",
      "Chromosome: chr17 Percentage: 0.04571814178788286\n",
      "Chromosome: chr18 Percentage: 0.035868213112413706\n",
      "Chromosome: chr19 Percentage: 0.033751127737528294\n",
      "Chromosome: chr20 Percentage: 0.02687380364102437\n",
      "Chromosome: chr21 Percentage: 0.05719035438258347\n",
      "Chromosome: chr22 Percentage: 0.07484171265925407\n",
      "Chromosome: chrX Percentage: 0.0849843913646863\n",
      "Chromosome: chrY Percentage: 0.1754849208107594\n"
     ]
    }
   ],
   "source": [
    "#we can save it for all the different chromosomes using np.savez\n",
    "chroms = ['chr1', 'chr2', 'chr3', 'chr4', 'chr5', 'chr6', 'chr7', 'chr8', 'chr9', 'chr10', 'chr11', 'chr12', 'chr13', 'chr14', 'chr15', 'chr16', 'chr17', 'chr18', 'chr19', 'chr20', 'chr21', 'chr22','chrX', 'chrY']\n",
    "umap = {}\n",
    "for chrom in chroms:\n",
    "    umap[chrom] = np.zeros(248956422, dtype=np.uint8)\n",
    "    for i in range(unmap_human.shape[0]):\n",
    "        if unmap_human.iloc[i, 0] == chrom:\n",
    "            umap[chrom][unmap_human.iloc[i, 1]:unmap_human.iloc[i, 2]] = 1\n",
    "    a = umap[chrom].sum()/len(umap[chrom])\n",
    "    print('Chromosome:', chrom, 'Percentage:',a)\n",
    "# np.save(f\"/data1/lesliec/sarthak/data/borzoi/umap_{chrom}.npy\", umap[chrom])"
   ]
  },
  {
   "cell_type": "code",
   "execution_count": 16,
   "metadata": {},
   "outputs": [],
   "source": [
    "#now let's save it\n",
    "np.savez(\"/data1/lesliec/sarthak/data/borzoi/umap.npz\", **umap)"
   ]
  },
  {
   "cell_type": "code",
   "execution_count": null,
   "metadata": {},
   "outputs": [],
   "source": [
    "#let's load it in\n",
    "loaded = np.load(\"/data1/lesliec/sarthak/data/borzoi/umap.npz\")\n",
    "umap_swapped = {chrom: ~loaded[chrom] & 1 for chrom in loaded.files}\n",
    "#ok 6 seconds to load it and swap it, that's fine"
   ]
  },
  {
   "cell_type": "code",
   "execution_count": 18,
   "metadata": {},
   "outputs": [
    {
     "name": "stdout",
     "output_type": "stream",
     "text": [
      "Chromosome: chr1 Percentage: 0.8396131753532351\n",
      "Chromosome: chr2 Percentage: 0.9259262771699056\n",
      "Chromosome: chr3 Percentage: 0.9503470892588584\n",
      "Chromosome: chr4 Percentage: 0.9521742684749863\n",
      "Chromosome: chr5 Percentage: 0.9388071861026345\n",
      "Chromosome: chr6 Percentage: 0.9568966973665777\n",
      "Chromosome: chr7 Percentage: 0.9347115175040553\n",
      "Chromosome: chr8 Percentage: 0.9563542731185299\n",
      "Chromosome: chr9 Percentage: 0.8673197954299006\n",
      "Chromosome: chr10 Percentage: 0.954699184261252\n",
      "Chromosome: chr11 Percentage: 0.9516492729799917\n",
      "Chromosome: chr12 Percentage: 0.9594435647858082\n",
      "Chromosome: chr13 Percentage: 0.9090283921255906\n",
      "Chromosome: chr14 Percentage: 0.9049366479086046\n",
      "Chromosome: chr15 Percentage: 0.887210127883345\n",
      "Chromosome: chr16 Percentage: 0.9218146097874109\n",
      "Chromosome: chr17 Percentage: 0.9542818582121171\n",
      "Chromosome: chr18 Percentage: 0.9641317868875863\n",
      "Chromosome: chr19 Percentage: 0.9662488722624717\n",
      "Chromosome: chr20 Percentage: 0.9731261963589757\n",
      "Chromosome: chr21 Percentage: 0.9428096456174165\n",
      "Chromosome: chr22 Percentage: 0.9251582873407459\n",
      "Chromosome: chrX Percentage: 0.9150156086353137\n",
      "Chromosome: chrY Percentage: 0.8245150791892406\n"
     ]
    }
   ],
   "source": [
    "#now let's verify it's actually swapped\n",
    "for chrom in chroms:\n",
    "    print('Chromosome:', chrom, 'Percentage:',umap_swapped[chrom].sum()/len(umap_swapped[chrom]))"
   ]
  },
  {
   "cell_type": "code",
   "execution_count": 19,
   "metadata": {},
   "outputs": [
    {
     "name": "stdout",
     "output_type": "stream",
     "text": [
      "Chromosome: chr1 Percentage: 0.8396131753532351 Original: 0.16038682464676488 Sum: 1.0\n",
      "Chromosome: chr2 Percentage: 0.9259262771699056 Original: 0.07407372283009434 Sum: 1.0\n",
      "Chromosome: chr3 Percentage: 0.9503470892588584 Original: 0.04965291074114168 Sum: 1.0\n",
      "Chromosome: chr4 Percentage: 0.9521742684749863 Original: 0.04782573152501364 Sum: 1.0\n",
      "Chromosome: chr5 Percentage: 0.9388071861026345 Original: 0.06119281389736554 Sum: 1.0\n",
      "Chromosome: chr6 Percentage: 0.9568966973665777 Original: 0.043103302633422325 Sum: 1.0\n",
      "Chromosome: chr7 Percentage: 0.9347115175040553 Original: 0.06528848249594461 Sum: 1.0\n",
      "Chromosome: chr8 Percentage: 0.9563542731185299 Original: 0.043645726881470046 Sum: 1.0\n",
      "Chromosome: chr9 Percentage: 0.8673197954299006 Original: 0.1326802045700994 Sum: 1.0\n",
      "Chromosome: chr10 Percentage: 0.954699184261252 Original: 0.04530081573874804 Sum: 1.0\n",
      "Chromosome: chr11 Percentage: 0.9516492729799917 Original: 0.048350727020008345 Sum: 1.0\n",
      "Chromosome: chr12 Percentage: 0.9594435647858082 Original: 0.040556435214191826 Sum: 1.0\n",
      "Chromosome: chr13 Percentage: 0.9090283921255906 Original: 0.09097160787440944 Sum: 1.0\n",
      "Chromosome: chr14 Percentage: 0.9049366479086046 Original: 0.09506335209139534 Sum: 1.0\n",
      "Chromosome: chr15 Percentage: 0.887210127883345 Original: 0.11278987211665502 Sum: 1.0\n",
      "Chromosome: chr16 Percentage: 0.9218146097874109 Original: 0.07818539021258909 Sum: 1.0\n",
      "Chromosome: chr17 Percentage: 0.9542818582121171 Original: 0.04571814178788286 Sum: 1.0\n",
      "Chromosome: chr18 Percentage: 0.9641317868875863 Original: 0.035868213112413706 Sum: 1.0\n",
      "Chromosome: chr19 Percentage: 0.9662488722624717 Original: 0.033751127737528294 Sum: 1.0\n",
      "Chromosome: chr20 Percentage: 0.9731261963589757 Original: 0.02687380364102437 Sum: 1.0\n",
      "Chromosome: chr21 Percentage: 0.9428096456174165 Original: 0.05719035438258347 Sum: 1.0\n",
      "Chromosome: chr22 Percentage: 0.9251582873407459 Original: 0.07484171265925407 Sum: 1.0\n",
      "Chromosome: chrX Percentage: 0.9150156086353137 Original: 0.0849843913646863 Sum: 1.0\n",
      "Chromosome: chrY Percentage: 0.8245150791892406 Original: 0.1754849208107594 Sum: 1.0\n"
     ]
    }
   ],
   "source": [
    "for chrom in chroms:\n",
    "    print('Chromosome:', chrom, 'Percentage:',umap_swapped[chrom].sum()/len(umap_swapped[chrom]), 'Original:', umap[chrom].sum()/len(umap[chrom]), 'Sum:', (umap[chrom].sum()+umap_swapped[chrom].sum())/len(umap[chrom]))"
   ]
  },
  {
   "cell_type": "code",
   "execution_count": null,
   "metadata": {},
   "outputs": [
    {
     "name": "stdout",
     "output_type": "stream",
     "text": [
      "Chromosome: chr1 Difference: 255 1\n",
      "Chromosome: chr2 Difference: 255 1\n",
      "Chromosome: chr3 Difference: 255 1\n",
      "Chromosome: chr4 Difference: 255 1\n",
      "Chromosome: chr5 Difference: 255 1\n",
      "Chromosome: chr6 Difference: 255 1\n",
      "Chromosome: chr7 Difference: 255 1\n",
      "Chromosome: chr8 Difference: 255 1\n",
      "Chromosome: chr9 Difference: 255 1\n",
      "Chromosome: chr10 Difference: 255 1\n",
      "Chromosome: chr11 Difference: 255 1\n",
      "Chromosome: chr12 Difference: 255 1\n",
      "Chromosome: chr13 Difference: 255 1\n",
      "Chromosome: chr14 Difference: 255 1\n",
      "Chromosome: chr15 Difference: 255 1\n",
      "Chromosome: chr16 Difference: 255 1\n",
      "Chromosome: chr17 Difference: 255 1\n",
      "Chromosome: chr18 Difference: 255 1\n",
      "Chromosome: chr19 Difference: 255 1\n",
      "Chromosome: chr20 Difference: 255 1\n",
      "Chromosome: chr21 Difference: 255 1\n",
      "Chromosome: chr22 Difference: 255 1\n",
      "Chromosome: chrX Difference: 255 1\n",
      "Chromosome: chrY Difference: 255 1\n"
     ]
    }
   ],
   "source": [
    "#one other way to test is simply to find the difference\n",
    "for chrom in chroms:\n",
    "    print('Chromosome:', chrom, 'Difference:', np.abs((umap[chrom] - umap_swapped[chrom])).max(), np.abs((umap[chrom] - umap_swapped[chrom])).min()) #should be 1 always\n",
    "#wait why is difference 255??"
   ]
  },
  {
   "cell_type": "code",
   "execution_count": 21,
   "metadata": {},
   "outputs": [
    {
     "name": "stdout",
     "output_type": "stream",
     "text": [
      "Chromosome: chr1 Difference: 1 1\n",
      "Chromosome: chr2 Difference: 1 1\n",
      "Chromosome: chr3 Difference: 1 1\n",
      "Chromosome: chr4 Difference: 1 1\n",
      "Chromosome: chr5 Difference: 1 1\n",
      "Chromosome: chr6 Difference: 1 1\n",
      "Chromosome: chr7 Difference: 1 1\n",
      "Chromosome: chr8 Difference: 1 1\n",
      "Chromosome: chr9 Difference: 1 1\n",
      "Chromosome: chr10 Difference: 1 1\n",
      "Chromosome: chr11 Difference: 1 1\n",
      "Chromosome: chr12 Difference: 1 1\n",
      "Chromosome: chr13 Difference: 1 1\n",
      "Chromosome: chr14 Difference: 1 1\n",
      "Chromosome: chr15 Difference: 1 1\n",
      "Chromosome: chr16 Difference: 1 1\n",
      "Chromosome: chr17 Difference: 1 1\n",
      "Chromosome: chr18 Difference: 1 1\n",
      "Chromosome: chr19 Difference: 1 1\n",
      "Chromosome: chr20 Difference: 1 1\n",
      "Chromosome: chr21 Difference: 1 1\n",
      "Chromosome: chr22 Difference: 1 1\n",
      "Chromosome: chrX Difference: 1 1\n",
      "Chromosome: chrY Difference: 1 1\n"
     ]
    }
   ],
   "source": [
    "#oh because -1 becomes 255!\n",
    "\n",
    "# Check the difference\n",
    "for chrom in loaded.files:\n",
    "    original = loaded[chrom].astype(np.int16)\n",
    "    swapped = umap_swapped[chrom].astype(np.int16)\n",
    "    difference = np.abs(original - swapped)\n",
    "    print('Chromosome:', chrom, 'Difference:', difference.max(), difference.min())  # should be 1 always"
   ]
  },
  {
   "cell_type": "code",
   "execution_count": 23,
   "metadata": {},
   "outputs": [
    {
     "data": {
      "text/plain": [
       "array(['chr1', 'chr10', 'chr10_KI270824v1_alt', 'chr11',\n",
       "       'chr11_KI270903v1_alt', 'chr12', 'chr12_GL877875v1_alt',\n",
       "       'chr12_KI270835v1_alt', 'chr13', 'chr13_KI270840v1_alt', 'chr14',\n",
       "       'chr14_GL000009v2_random', 'chr14_GL000194v1_random',\n",
       "       'chr14_GL000225v1_random', 'chr14_KI270722v1_random',\n",
       "       'chr14_KI270723v1_random', 'chr14_KI270724v1_random',\n",
       "       'chr14_KI270725v1_random', 'chr15', 'chr15_KI270727v1_random',\n",
       "       'chr15_KI270850v1_alt', 'chr15_KI270852v1_alt',\n",
       "       'chr15_KI270905v1_alt', 'chr16', 'chr16_KI270728v1_random',\n",
       "       'chr16_KI270853v1_alt', 'chr17', 'chr17_GL000205v2_random',\n",
       "       'chr17_GL383563v3_alt', 'chr17_KI270729v1_random',\n",
       "       'chr17_KI270730v1_random', 'chr18', 'chr19',\n",
       "       'chr19_GL383573v1_alt', 'chr19_GL383576v1_alt',\n",
       "       'chr19_GL949746v1_alt', 'chr19_GL949747v2_alt',\n",
       "       'chr19_GL949748v2_alt', 'chr19_GL949749v2_alt',\n",
       "       'chr19_GL949750v2_alt', 'chr19_GL949751v2_alt',\n",
       "       'chr19_GL949752v1_alt', 'chr19_GL949753v2_alt',\n",
       "       'chr19_KI270867v1_alt', 'chr19_KI270938v1_alt',\n",
       "       'chr1_KI270706v1_random', 'chr1_KI270707v1_random',\n",
       "       'chr1_KI270708v1_random', 'chr1_KI270712v1_random',\n",
       "       'chr1_KI270766v1_alt', 'chr2', 'chr20', 'chr21', 'chr22',\n",
       "       'chr22_KI270731v1_random', 'chr22_KI270734v1_random',\n",
       "       'chr22_KI270736v1_random', 'chr22_KI270738v1_random',\n",
       "       'chr22_KI270739v1_random', 'chr22_KI270876v1_alt',\n",
       "       'chr22_KI270878v1_alt', 'chr2_KI270715v1_random',\n",
       "       'chr2_KI270716v1_random', 'chr2_KI270767v1_alt',\n",
       "       'chr2_KI270768v1_alt', 'chr2_KI270893v1_alt',\n",
       "       'chr2_KI270894v1_alt', 'chr3', 'chr3_GL000221v1_random',\n",
       "       'chr3_KI270779v1_alt', 'chr3_KI270780v1_alt',\n",
       "       'chr3_KI270784v1_alt', 'chr3_KI270895v1_alt',\n",
       "       'chr3_KI270924v1_alt', 'chr3_KI270934v1_alt',\n",
       "       'chr3_KI270935v1_alt', 'chr3_KI270936v1_alt',\n",
       "       'chr3_KI270937v1_alt', 'chr4', 'chr4_GL000008v2_random',\n",
       "       'chr4_KI270896v1_alt', 'chr5', 'chr5_GL000208v1_random', 'chr6',\n",
       "       'chr7', 'chr8', 'chr8_KI270813v1_alt', 'chr9',\n",
       "       'chr9_KI270719v1_random', 'chrUn_GL000195v1', 'chrUn_GL000214v1',\n",
       "       'chrUn_GL000216v2', 'chrUn_GL000218v1', 'chrUn_GL000219v1',\n",
       "       'chrUn_GL000224v1', 'chrUn_GL000226v1', 'chrUn_KI270302v1',\n",
       "       'chrUn_KI270303v1', 'chrUn_KI270304v1', 'chrUn_KI270305v1',\n",
       "       'chrUn_KI270310v1', 'chrUn_KI270311v1', 'chrUn_KI270312v1',\n",
       "       'chrUn_KI270315v1', 'chrUn_KI270316v1', 'chrUn_KI270317v1',\n",
       "       'chrUn_KI270320v1', 'chrUn_KI270322v1', 'chrUn_KI270329v1',\n",
       "       'chrUn_KI270333v1', 'chrUn_KI270334v1', 'chrUn_KI270335v1',\n",
       "       'chrUn_KI270336v1', 'chrUn_KI270337v1', 'chrUn_KI270338v1',\n",
       "       'chrUn_KI270340v1', 'chrUn_KI270362v1', 'chrUn_KI270364v1',\n",
       "       'chrUn_KI270366v1', 'chrUn_KI270371v1', 'chrUn_KI270372v1',\n",
       "       'chrUn_KI270373v1', 'chrUn_KI270374v1', 'chrUn_KI270375v1',\n",
       "       'chrUn_KI270376v1', 'chrUn_KI270378v1', 'chrUn_KI270381v1',\n",
       "       'chrUn_KI270382v1', 'chrUn_KI270383v1', 'chrUn_KI270384v1',\n",
       "       'chrUn_KI270385v1', 'chrUn_KI270386v1', 'chrUn_KI270387v1',\n",
       "       'chrUn_KI270388v1', 'chrUn_KI270389v1', 'chrUn_KI270390v1',\n",
       "       'chrUn_KI270391v1', 'chrUn_KI270392v1', 'chrUn_KI270393v1',\n",
       "       'chrUn_KI270394v1', 'chrUn_KI270395v1', 'chrUn_KI270396v1',\n",
       "       'chrUn_KI270411v1', 'chrUn_KI270412v1', 'chrUn_KI270414v1',\n",
       "       'chrUn_KI270417v1', 'chrUn_KI270418v1', 'chrUn_KI270419v1',\n",
       "       'chrUn_KI270420v1', 'chrUn_KI270422v1', 'chrUn_KI270423v1',\n",
       "       'chrUn_KI270424v1', 'chrUn_KI270425v1', 'chrUn_KI270429v1',\n",
       "       'chrUn_KI270435v1', 'chrUn_KI270438v1', 'chrUn_KI270442v1',\n",
       "       'chrUn_KI270448v1', 'chrUn_KI270465v1', 'chrUn_KI270466v1',\n",
       "       'chrUn_KI270467v1', 'chrUn_KI270468v1', 'chrUn_KI270507v1',\n",
       "       'chrUn_KI270509v1', 'chrUn_KI270510v1', 'chrUn_KI270511v1',\n",
       "       'chrUn_KI270512v1', 'chrUn_KI270515v1', 'chrUn_KI270516v1',\n",
       "       'chrUn_KI270517v1', 'chrUn_KI270518v1', 'chrUn_KI270519v1',\n",
       "       'chrUn_KI270521v1', 'chrUn_KI270522v1', 'chrUn_KI270529v1',\n",
       "       'chrUn_KI270530v1', 'chrUn_KI270538v1', 'chrUn_KI270544v1',\n",
       "       'chrUn_KI270548v1', 'chrUn_KI270579v1', 'chrUn_KI270584v1',\n",
       "       'chrUn_KI270587v1', 'chrUn_KI270588v1', 'chrUn_KI270589v1',\n",
       "       'chrUn_KI270590v1', 'chrUn_KI270591v1', 'chrUn_KI270593v1',\n",
       "       'chrUn_KI270741v1', 'chrUn_KI270742v1', 'chrUn_KI270743v1',\n",
       "       'chrUn_KI270744v1', 'chrUn_KI270747v1', 'chrUn_KI270749v1',\n",
       "       'chrUn_KI270750v1', 'chrUn_KI270751v1', 'chrUn_KI270754v1',\n",
       "       'chrUn_KI270757v1', 'chrX', 'chrX_KI270880v1_alt',\n",
       "       'chrX_KI270913v1_alt', 'chrY'], dtype=object)"
      ]
     },
     "execution_count": 23,
     "metadata": {},
     "output_type": "execute_result"
    }
   ],
   "source": [
    "#the final thing we need to do is check with the blaclist bed file\n",
    "blacklist = pd.read_csv(\"/data1/lesliec/sarthak/data/borzoi/hg38.blacklist.rep.bed\", sep=\"\\t\", header=None)\n",
    "#see if this is unique or if there is overlap here too...\n",
    "blacklist[0].unique() #this is the same as the other ones, but seems to just be a reduced value of them"
   ]
  },
  {
   "cell_type": "code",
   "execution_count": 24,
   "metadata": {},
   "outputs": [
    {
     "name": "stdout",
     "output_type": "stream",
     "text": [
      "0.01423682494922746\n"
     ]
    }
   ],
   "source": [
    "#let's check chromosome 1\n",
    "blacklist_chr1 = np.zeros(248956422)\n",
    "for i in range(blacklist.shape[0]):\n",
    "    if blacklist.iloc[i, 0] == \"chr1\":\n",
    "        blacklist_chr1[blacklist.iloc[i, 1]:blacklist.iloc[i, 2]] = 1\n",
    "print(blacklist_chr1.sum()/len(blacklist_chr1))"
   ]
  },
  {
   "cell_type": "code",
   "execution_count": null,
   "metadata": {},
   "outputs": [
    {
     "data": {
      "text/plain": [
       "(0.0, 1.0)"
      ]
     },
     "execution_count": 25,
     "metadata": {},
     "output_type": "execute_result"
    }
   ],
   "source": [
    "#now check the difference\n",
    "diff = umap_chr1 - blacklist_chr1\n",
    "diff.min(), diff.max() #this is 0 and 1 implying everything is also contained in the umap"
   ]
  },
  {
   "cell_type": "code",
   "execution_count": 26,
   "metadata": {},
   "outputs": [
    {
     "data": {
      "text/plain": [
       "(7115, 3)"
      ]
     },
     "execution_count": 26,
     "metadata": {},
     "output_type": "execute_result"
    }
   ],
   "source": [
    "#and let's do this for the blacklist regions too\n",
    "blacklist.shape"
   ]
  },
  {
   "cell_type": "code",
   "execution_count": null,
   "metadata": {},
   "outputs": [],
   "source": [
    "#save out the blacklist np array"
   ]
  },
  {
   "cell_type": "code",
   "execution_count": 27,
   "metadata": {},
   "outputs": [
    {
     "name": "stdout",
     "output_type": "stream",
     "text": [
      "Chromosome: chr1 Percentage: 0.16038682464676488\n",
      "Chromosome: chr2 Percentage: 0.07614212103908027\n",
      "Chromosome: chr3 Percentage: 0.06233831489892318\n",
      "Chromosome: chr4 Percentage: 0.06259522569132525\n",
      "Chromosome: chr5 Percentage: 0.08391809023573372\n",
      "Chromosome: chr6 Percentage: 0.06282475626921702\n",
      "Chromosome: chr7 Percentage: 0.10200437886183669\n",
      "Chromosome: chr8 Percentage: 0.07486555130640749\n",
      "Chromosome: chr9 Percentage: 0.23867666133527338\n",
      "Chromosome: chr10 Percentage: 0.0842910784932762\n",
      "Chromosome: chr11 Percentage: 0.08910744692394484\n",
      "Chromosome: chr12 Percentage: 0.07575885642853772\n",
      "Chromosome: chr13 Percentage: 0.19803348120928058\n",
      "Chromosome: chr14 Percentage: 0.2210931425233193\n",
      "Chromosome: chr15 Percentage: 0.27531557652494865\n",
      "Chromosome: chr16 Percentage: 0.21546503868318598\n",
      "Chromosome: chr17 Percentage: 0.13670639961177763\n",
      "Chromosome: chr18 Percentage: 0.11110186674589698\n",
      "Chromosome: chr19 Percentage: 0.14334530425119985\n",
      "Chromosome: chr20 Percentage: 0.1038170917780658\n",
      "Chromosome: chr21 Percentage: 0.30481505420372346\n",
      "Chromosome: chr22 Percentage: 0.3666447599325505\n",
      "Chromosome: chrX Percentage: 0.13558887880000944\n",
      "Chromosome: chrY Percentage: 0.7634120464815684\n",
      "Chromosome: chr1 Percentage: 0.01423682494922746\n",
      "Chromosome: chr2 Percentage: 0.009257893921682771\n",
      "Chromosome: chr3 Percentage: 0.016362635736083226\n",
      "Chromosome: chr4 Percentage: 0.012342825184960216\n",
      "Chromosome: chr5 Percentage: 0.023225666166601277\n",
      "Chromosome: chr6 Percentage: 0.009866592550603863\n",
      "Chromosome: chr7 Percentage: 0.027545214462369877\n",
      "Chromosome: chr8 Percentage: 0.020314859511288228\n",
      "Chromosome: chr9 Percentage: 0.02147296561905611\n",
      "Chromosome: chr10 Percentage: 0.019726007874800458\n",
      "Chromosome: chr11 Percentage: 0.03308832461588979\n",
      "Chromosome: chr12 Percentage: 0.02587699121372887\n",
      "Chromosome: chr13 Percentage: 0.018740039289174157\n",
      "Chromosome: chr14 Percentage: 0.021935159240264804\n",
      "Chromosome: chr15 Percentage: 0.02742462390550227\n",
      "Chromosome: chr16 Percentage: 0.028368463026414752\n",
      "Chromosome: chr17 Percentage: 0.0521118466756623\n",
      "Chromosome: chr18 Percentage: 0.06814002936423465\n",
      "Chromosome: chr19 Percentage: 0.06604135862502494\n",
      "Chromosome: chr20 Percentage: 0.049680136295345394\n",
      "Chromosome: chr21 Percentage: 0.05600832695657371\n",
      "Chromosome: chr22 Percentage: 0.0536330807925969\n",
      "Chromosome: chrX Percentage: 0.029250280831829373\n",
      "Chromosome: chrY Percentage: 0.02194317181721383\n"
     ]
    }
   ],
   "source": [
    "#wait I realized we messed up, the sizes are all wrong, we need to make sure they are the same size as the genome\n",
    "chrom_lengths = {}\n",
    "with open('/data1/lesliec/sarthak/data/chrombpnet_test/hg38.chrom.sizes') as f:\n",
    "    for line in f:\n",
    "        chrom, length = line.strip().split()\n",
    "        chrom_lengths[chrom] = int(length)\n",
    "        \n",
    "#now save out the blacklist np array and redo the umap one\n",
    "\n",
    "#first umap redo\n",
    "umap = {}\n",
    "for chrom in chroms:\n",
    "    umap[chrom] = np.zeros(chrom_lengths[chrom], dtype=np.uint8)\n",
    "    for i in range(unmap_human.shape[0]):\n",
    "        if unmap_human.iloc[i, 0] == chrom:\n",
    "            umap[chrom][unmap_human.iloc[i, 1]:unmap_human.iloc[i, 2]] = 1\n",
    "    a = umap[chrom].sum()/len(umap[chrom])\n",
    "    print('Chromosome:', chrom, 'Percentage:',a) #should be higher than before since we now seem to be saving the proper values lol\n",
    "\n",
    "black_list = {}\n",
    "for chrom in chroms:\n",
    "    black_list[chrom] = np.zeros(chrom_lengths[chrom], dtype=np.uint8)\n",
    "    for i in range(blacklist.shape[0]):\n",
    "        if blacklist.iloc[i, 0] == chrom:\n",
    "            black_list[chrom][blacklist.iloc[i, 1]:blacklist.iloc[i, 2]] = 1\n",
    "    a = black_list[chrom].sum()/len(black_list[chrom])\n",
    "    print('Chromosome:', chrom, 'Percentage:',a)"
   ]
  },
  {
   "cell_type": "code",
   "execution_count": 28,
   "metadata": {},
   "outputs": [],
   "source": [
    "#now save it out\n",
    "np.savez(\"/data1/lesliec/sarthak/data/borzoi/umap.npz\", **umap)\n",
    "np.savez(\"/data1/lesliec/sarthak/data/borzoi/blacklist.npz\", **black_list)"
   ]
  },
  {
   "cell_type": "code",
   "execution_count": 29,
   "metadata": {},
   "outputs": [
    {
     "name": "stdout",
     "output_type": "stream",
     "text": [
      "Chromosome: chr1 Difference: 1 1\n",
      "Chromosome: chr2 Difference: 1 1\n",
      "Chromosome: chr3 Difference: 1 1\n",
      "Chromosome: chr4 Difference: 1 1\n",
      "Chromosome: chr5 Difference: 1 1\n",
      "Chromosome: chr6 Difference: 1 1\n",
      "Chromosome: chr7 Difference: 1 1\n",
      "Chromosome: chr8 Difference: 1 1\n",
      "Chromosome: chr9 Difference: 1 1\n",
      "Chromosome: chr10 Difference: 1 1\n",
      "Chromosome: chr11 Difference: 1 1\n",
      "Chromosome: chr12 Difference: 1 1\n",
      "Chromosome: chr13 Difference: 1 1\n",
      "Chromosome: chr14 Difference: 1 1\n",
      "Chromosome: chr15 Difference: 1 1\n",
      "Chromosome: chr16 Difference: 1 1\n",
      "Chromosome: chr17 Difference: 1 1\n",
      "Chromosome: chr18 Difference: 1 1\n",
      "Chromosome: chr19 Difference: 1 1\n",
      "Chromosome: chr20 Difference: 1 1\n",
      "Chromosome: chr21 Difference: 1 1\n",
      "Chromosome: chr22 Difference: 1 1\n",
      "Chromosome: chrX Difference: 1 1\n",
      "Chromosome: chrY Difference: 1 1\n"
     ]
    }
   ],
   "source": [
    "#just a few tests again, like ensuring that we can load in the inverse\n",
    "loaded = np.load(\"/data1/lesliec/sarthak/data/borzoi/umap.npz\")\n",
    "umap_swapped = {chrom: ~loaded[chrom] & 1 for chrom in loaded.files}\n",
    "for chrom in loaded.files:\n",
    "    original = loaded[chrom].astype(np.int16)\n",
    "    swapped = umap_swapped[chrom].astype(np.int16)\n",
    "    difference = np.abs(original - swapped)\n",
    "    print('Chromosome:', chrom, 'Difference:', difference.max(), difference.min())  # should be 1 always"
   ]
  },
  {
   "cell_type": "code",
   "execution_count": 30,
   "metadata": {},
   "outputs": [
    {
     "name": "stdout",
     "output_type": "stream",
     "text": [
      "Chromosome: chr1 Difference: 1 0\n",
      "Chromosome: chr2 Difference: 1 0\n",
      "Chromosome: chr3 Difference: 1 0\n",
      "Chromosome: chr4 Difference: 1 0\n",
      "Chromosome: chr5 Difference: 1 0\n",
      "Chromosome: chr6 Difference: 1 0\n",
      "Chromosome: chr7 Difference: 1 0\n",
      "Chromosome: chr8 Difference: 1 0\n",
      "Chromosome: chr9 Difference: 1 0\n",
      "Chromosome: chr10 Difference: 1 0\n",
      "Chromosome: chr11 Difference: 1 0\n",
      "Chromosome: chr12 Difference: 1 0\n",
      "Chromosome: chr13 Difference: 1 0\n",
      "Chromosome: chr14 Difference: 1 0\n",
      "Chromosome: chr15 Difference: 1 0\n",
      "Chromosome: chr16 Difference: 1 0\n",
      "Chromosome: chr17 Difference: 1 0\n",
      "Chromosome: chr18 Difference: 1 0\n",
      "Chromosome: chr19 Difference: 1 0\n",
      "Chromosome: chr20 Difference: 1 0\n",
      "Chromosome: chr21 Difference: 1 0\n",
      "Chromosome: chr22 Difference: 1 0\n",
      "Chromosome: chrX Difference: 1 0\n",
      "Chromosome: chrY Difference: 1 0\n"
     ]
    }
   ],
   "source": [
    "#and now ensure that the blacklist is a subset of the umap\n",
    "black_list = np.load(\"/data1/lesliec/sarthak/data/borzoi/blacklist.npz\")\n",
    "for chrom in chroms:\n",
    "    print('Chromosome:', chrom, 'Difference:', np.abs((umap[chrom] - black_list[chrom])).max(), np.abs((umap[chrom] - black_list[chrom])).min()) #should be 0 or 1!"
   ]
  },
  {
   "cell_type": "code",
   "execution_count": null,
   "metadata": {},
   "outputs": [],
   "source": [
    "#so now we have the data correctly loaded and we can easily do the preprocessing!"
   ]
  },
  {
   "cell_type": "markdown",
   "metadata": {},
   "source": [
    "# the rest of the preprocessing\n",
    "\n",
    "So this is where it's confusing, we have to first deal with the blacklist regions I guess because they're worse, then we deal with the unmappable regions which also includes the blacklisted regions"
   ]
  },
  {
   "cell_type": "code",
   "execution_count": 12,
   "metadata": {},
   "outputs": [
    {
     "data": {
      "text/html": [
       "<pre style=\"white-space:pre;overflow-x:auto;line-height:normal;font-family:Menlo,'DejaVu Sans Mono',consolas,'Courier New',monospace\"><span style=\"font-weight: bold\">/</span>\n",
       "├── <span style=\"font-weight: bold\">chr1</span> (674, 248956422) float16\n",
       "├── <span style=\"font-weight: bold\">chr10</span> (674, 133797422) float16\n",
       "├── <span style=\"font-weight: bold\">chr11</span> (674, 135086622) float16\n",
       "├── <span style=\"font-weight: bold\">chr12</span> (674, 133275309) float16\n",
       "├── <span style=\"font-weight: bold\">chr13</span> (674, 114364328) float16\n",
       "├── <span style=\"font-weight: bold\">chr14</span> (674, 107043718) float16\n",
       "├── <span style=\"font-weight: bold\">chr15</span> (674, 101991189) float16\n",
       "├── <span style=\"font-weight: bold\">chr16</span> (674, 90338345) float16\n",
       "├── <span style=\"font-weight: bold\">chr17</span> (674, 83257441) float16\n",
       "├── <span style=\"font-weight: bold\">chr18</span> (674, 80373285) float16\n",
       "├── <span style=\"font-weight: bold\">chr19</span> (674, 58617616) float16\n",
       "├── <span style=\"font-weight: bold\">chr2</span> (674, 242193529) float16\n",
       "├── <span style=\"font-weight: bold\">chr20</span> (674, 64444167) float16\n",
       "├── <span style=\"font-weight: bold\">chr21</span> (674, 46709983) float16\n",
       "├── <span style=\"font-weight: bold\">chr22</span> (674, 50818468) float16\n",
       "├── <span style=\"font-weight: bold\">chr3</span> (674, 198295559) float16\n",
       "├── <span style=\"font-weight: bold\">chr4</span> (674, 190214555) float16\n",
       "├── <span style=\"font-weight: bold\">chr5</span> (674, 181538259) float16\n",
       "├── <span style=\"font-weight: bold\">chr6</span> (674, 170805979) float16\n",
       "├── <span style=\"font-weight: bold\">chr7</span> (674, 159345973) float16\n",
       "├── <span style=\"font-weight: bold\">chr8</span> (674, 145138636) float16\n",
       "├── <span style=\"font-weight: bold\">chr9</span> (674, 138394717) float16\n",
       "├── <span style=\"font-weight: bold\">chrX</span> (674, 156040895) float16\n",
       "└── <span style=\"font-weight: bold\">chrY</span> (674, 57227415) float16\n",
       "</pre>\n"
      ],
      "text/plain": [
       "\u001b[1m/\u001b[0m\n",
       "├── \u001b[1mchr1\u001b[0m (674, 248956422) float16\n",
       "├── \u001b[1mchr10\u001b[0m (674, 133797422) float16\n",
       "├── \u001b[1mchr11\u001b[0m (674, 135086622) float16\n",
       "├── \u001b[1mchr12\u001b[0m (674, 133275309) float16\n",
       "├── \u001b[1mchr13\u001b[0m (674, 114364328) float16\n",
       "├── \u001b[1mchr14\u001b[0m (674, 107043718) float16\n",
       "├── \u001b[1mchr15\u001b[0m (674, 101991189) float16\n",
       "├── \u001b[1mchr16\u001b[0m (674, 90338345) float16\n",
       "├── \u001b[1mchr17\u001b[0m (674, 83257441) float16\n",
       "├── \u001b[1mchr18\u001b[0m (674, 80373285) float16\n",
       "├── \u001b[1mchr19\u001b[0m (674, 58617616) float16\n",
       "├── \u001b[1mchr2\u001b[0m (674, 242193529) float16\n",
       "├── \u001b[1mchr20\u001b[0m (674, 64444167) float16\n",
       "├── \u001b[1mchr21\u001b[0m (674, 46709983) float16\n",
       "├── \u001b[1mchr22\u001b[0m (674, 50818468) float16\n",
       "├── \u001b[1mchr3\u001b[0m (674, 198295559) float16\n",
       "├── \u001b[1mchr4\u001b[0m (674, 190214555) float16\n",
       "├── \u001b[1mchr5\u001b[0m (674, 181538259) float16\n",
       "├── \u001b[1mchr6\u001b[0m (674, 170805979) float16\n",
       "├── \u001b[1mchr7\u001b[0m (674, 159345973) float16\n",
       "├── \u001b[1mchr8\u001b[0m (674, 145138636) float16\n",
       "├── \u001b[1mchr9\u001b[0m (674, 138394717) float16\n",
       "├── \u001b[1mchrX\u001b[0m (674, 156040895) float16\n",
       "└── \u001b[1mchrY\u001b[0m (674, 57227415) float16\n"
      ]
     },
     "execution_count": 12,
     "metadata": {},
     "output_type": "execute_result"
    }
   ],
   "source": [
    "#like the clipping and scaling stuff, now we cna look at my basenji data full pipeline and see how to do it\n",
    "\n",
    "#what happens is we go through the sequences.py file, let's just open a random sequence\n",
    "\n",
    "import zarr\n",
    "import numpy as np\n",
    "import pandas as pd\n",
    "\n",
    "zarr_open = zarr.open(\"/data1/lesliec/sarthak/data/DK_zarr/zarr_arrays/test_chrom_dnase_chunkchrom.zarr\", mode='r')\n",
    "zarr_open.tree()"
   ]
  },
  {
   "cell_type": "code",
   "execution_count": 13,
   "metadata": {},
   "outputs": [
    {
     "data": {
      "text/plain": [
       "(674, 196608)"
      ]
     },
     "execution_count": 13,
     "metadata": {},
     "output_type": "execute_result"
    }
   ],
   "source": [
    "#let's also take a random sequence\n",
    "#chr4\t82524421\t82721029\tfold0\n",
    "\n",
    "#so now let's grab this data\n",
    "seq = zarr_open['chr4'][:,82524421:82721029]\n",
    "seq.shape"
   ]
  },
  {
   "cell_type": "code",
   "execution_count": 14,
   "metadata": {},
   "outputs": [
    {
     "data": {
      "text/plain": [
       "(674,)"
      ]
     },
     "execution_count": 14,
     "metadata": {},
     "output_type": "execute_result"
    }
   ],
   "source": [
    "baseline_cov = np.percentile(seq, 100*0.5, axis=1)\n",
    "baseline_cov.shape"
   ]
  },
  {
   "cell_type": "code",
   "execution_count": 15,
   "metadata": {},
   "outputs": [
    {
     "data": {
      "text/plain": [
       "array([0.04055786, 0.02928162, 0.02059937, 0.04962158, 0.0390625 ,\n",
       "       0.03302002, 0.04217529, 0.03335571, 0.03775024, 0.0242157 ,\n",
       "       0.        , 0.04776001, 0.04187012, 0.03366089, 0.0161438 ,\n",
       "       0.05014038, 0.03240967, 0.03363037, 0.03390503, 0.01010895,\n",
       "       0.02566528, 0.03445435, 0.02203369, 0.04907227, 0.03067017,\n",
       "       0.02059937, 0.03512573, 0.02197266, 0.02403259, 0.03540039,\n",
       "       0.03811646, 0.03973389, 0.04660034, 0.03936768, 0.03894043,\n",
       "       0.04202271, 0.01545715, 0.03140259, 0.0378418 , 0.02574158,\n",
       "       0.02246094, 0.0486145 , 0.02792358, 0.00536728, 0.02702332,\n",
       "       0.03170776, 0.0425415 , 0.00862122, 0.03469849, 0.        ,\n",
       "       0.        , 0.        , 0.        , 0.        , 0.02287292,\n",
       "       0.        , 0.02812195, 0.02354431, 0.        , 0.        ,\n",
       "       0.01690674, 0.02032471, 0.02394104, 0.        , 0.        ,\n",
       "       0.        , 0.01277924, 0.00880432, 0.01861572, 0.        ,\n",
       "       0.04147339, 0.02688599, 0.02297974, 0.04156494, 0.03027344,\n",
       "       0.01333618, 0.02024841, 0.02130127, 0.02210999, 0.01075745,\n",
       "       0.02233887, 0.02133179, 0.03778076, 0.0124054 , 0.01561737,\n",
       "       0.00965118, 0.02812195, 0.01189423, 0.02580261, 0.01846313,\n",
       "       0.        , 0.01802063, 0.01637268, 0.02522278, 0.03094482,\n",
       "       0.01585388, 0.        , 0.02322388, 0.        , 0.03579712,\n",
       "       0.01686096, 0.02323914, 0.02099609, 0.02253723, 0.        ,\n",
       "       0.02627563, 0.01670837, 0.        , 0.0304718 , 0.01582336,\n",
       "       0.01332855, 0.01702881, 0.02127075, 0.        , 0.        ,\n",
       "       0.        , 0.01441956, 0.02970886, 0.03518677, 0.01811218,\n",
       "       0.02993774, 0.01408386, 0.01727295, 0.01111603, 0.        ,\n",
       "       0.01026154, 0.        , 0.009552  , 0.        , 0.01586914,\n",
       "       0.03448486, 0.02598572, 0.01676941, 0.02177429, 0.02429199,\n",
       "       0.00854492, 0.01475525, 0.03625488, 0.01264191, 0.02752686,\n",
       "       0.        , 0.02880859, 0.01056671, 0.        , 0.02069092,\n",
       "       0.03805542, 0.01222992, 0.00925446, 0.00995636, 0.01571655,\n",
       "       0.03262329, 0.03695679, 0.03759766, 0.        , 0.03521729,\n",
       "       0.01171112, 0.01875305, 0.03579712, 0.02854919, 0.        ,\n",
       "       0.        , 0.        , 0.01893616, 0.04733276, 0.01351929,\n",
       "       0.0266571 , 0.02906799, 0.02806091, 0.02172852, 0.02861023,\n",
       "       0.04342651, 0.02679443, 0.03289795, 0.03610229, 0.04260254,\n",
       "       0.03585815, 0.01306915, 0.01028442, 0.03295898, 0.0402832 ,\n",
       "       0.03204346, 0.02258301, 0.03536987, 0.02267456, 0.04077148,\n",
       "       0.02568054, 0.0218811 , 0.04406738, 0.        , 0.03759766,\n",
       "       0.01455688, 0.02682495, 0.02604675, 0.04116821, 0.02853394,\n",
       "       0.04321289, 0.02684021, 0.02687073, 0.04870605, 0.        ,\n",
       "       0.0461731 , 0.04489136, 0.04174805, 0.03805542, 0.0395813 ,\n",
       "       0.02760315, 0.00760269, 0.02975464, 0.03131104, 0.02505493,\n",
       "       0.03128052, 0.02536011, 0.03619385, 0.03469849, 0.04095459,\n",
       "       0.03192139, 0.02903748, 0.03552246, 0.01806641, 0.02189636,\n",
       "       0.02851868, 0.03530884, 0.        , 0.04104614, 0.0446167 ,\n",
       "       0.04302979, 0.03393555, 0.04394531, 0.        , 0.01924133,\n",
       "       0.02568054, 0.02076721, 0.04891968, 0.02944946, 0.02731323,\n",
       "       0.01905823, 0.05297852, 0.02737427, 0.01763916, 0.        ,\n",
       "       0.0222168 , 0.03582764, 0.03421021, 0.04956055, 0.03613281,\n",
       "       0.03146362, 0.03210449, 0.        , 0.01500702, 0.02671814,\n",
       "       0.02531433, 0.03973389, 0.04721069, 0.        , 0.        ,\n",
       "       0.03497314, 0.0249939 , 0.02464294, 0.03674316, 0.02856445,\n",
       "       0.01331329, 0.02890015, 0.04940796, 0.        , 0.01654053,\n",
       "       0.04431152, 0.02838135, 0.02961731, 0.02775574, 0.04190063,\n",
       "       0.02368164, 0.02879333, 0.03594971, 0.01994324, 0.02790833,\n",
       "       0.0089798 , 0.        , 0.03897095, 0.05422974, 0.02613831,\n",
       "       0.0369873 , 0.02099609, 0.0322876 , 0.03945923, 0.01272583,\n",
       "       0.03356934, 0.04467773, 0.03833008, 0.01409149, 0.04977417,\n",
       "       0.01284027, 0.04187012, 0.0335083 , 0.04006958, 0.04101562,\n",
       "       0.02642822, 0.01853943, 0.03536987, 0.02662659, 0.03866577,\n",
       "       0.01860046, 0.01719666, 0.02856445, 0.0307312 , 0.03820801,\n",
       "       0.03839111, 0.04925537, 0.02856445, 0.03108215, 0.0291748 ,\n",
       "       0.03488159, 0.02146912, 0.03649902, 0.02197266, 0.01889038,\n",
       "       0.02703857, 0.03253174, 0.03009033, 0.02619934, 0.04022217,\n",
       "       0.0284729 , 0.0269928 , 0.03622437, 0.01334381, 0.02079773,\n",
       "       0.04144287, 0.0484314 , 0.0241394 , 0.0308075 , 0.03268433,\n",
       "       0.0269165 , 0.04324341, 0.01386261, 0.03268433, 0.0294342 ,\n",
       "       0.04104614, 0.02194214, 0.03466797, 0.03573608, 0.00773239,\n",
       "       0.01364136, 0.        , 0.02574158, 0.03123474, 0.        ,\n",
       "       0.03765869, 0.03839111, 0.0385437 , 0.03561401, 0.        ,\n",
       "       0.        , 0.02819824, 0.02006531, 0.02186584, 0.02151489,\n",
       "       0.05953979, 0.01496887, 0.03240967, 0.01281738, 0.01759338,\n",
       "       0.04940796, 0.02372742, 0.04837036, 0.02174377, 0.02290344,\n",
       "       0.02357483, 0.02093506, 0.03939819, 0.03610229, 0.05813599,\n",
       "       0.0453186 , 0.04626465, 0.03390503, 0.03939819, 0.02322388,\n",
       "       0.02946472, 0.03271484, 0.03781128, 0.01543427, 0.04434204,\n",
       "       0.02365112, 0.03921509, 0.04956055, 0.02764893, 0.03186035,\n",
       "       0.0211792 , 0.04354858, 0.03295898, 0.02009583, 0.03747559,\n",
       "       0.02828979, 0.02041626, 0.02172852, 0.02410889, 0.05319214,\n",
       "       0.03053284, 0.        , 0.        , 0.0163269 , 0.04864502,\n",
       "       0.02920532, 0.01161194, 0.02281189, 0.02593994, 0.03234863,\n",
       "       0.0262146 , 0.02302551, 0.02587891, 0.04251099, 0.04525757,\n",
       "       0.02954102, 0.0350647 , 0.02540588, 0.0355835 , 0.03549194,\n",
       "       0.03363037, 0.04421997, 0.03384399, 0.02464294, 0.04882812,\n",
       "       0.03164673, 0.03231812, 0.04949951, 0.02758789, 0.02947998,\n",
       "       0.01158905, 0.0241394 , 0.03677368, 0.0486145 , 0.04153442,\n",
       "       0.03375244, 0.03445435, 0.03811646, 0.03890991, 0.02941895,\n",
       "       0.        , 0.03796387, 0.0282135 , 0.03814697, 0.05989075,\n",
       "       0.        , 0.02600098, 0.02229309, 0.00865173, 0.        ,\n",
       "       0.04229736, 0.03289795, 0.03561401, 0.04901123, 0.02093506,\n",
       "       0.02937317, 0.        , 0.0430603 , 0.04711914, 0.01332092,\n",
       "       0.02812195, 0.02883911, 0.02684021, 0.02911377, 0.04309082,\n",
       "       0.02630615, 0.01742554, 0.03842163, 0.02999878, 0.02690125,\n",
       "       0.02626038, 0.02581787, 0.01064301, 0.04507446, 0.02456665,\n",
       "       0.04064941, 0.0453186 , 0.04003906, 0.02217102, 0.02563477,\n",
       "       0.03253174, 0.04147339, 0.02578735, 0.0300293 , 0.04641724,\n",
       "       0.04003906, 0.0226593 , 0.03491211, 0.        , 0.01641846,\n",
       "       0.02127075, 0.03405762, 0.04501343, 0.02980042, 0.01747131,\n",
       "       0.01797485, 0.0191803 , 0.02571106, 0.03942871, 0.05194092,\n",
       "       0.03100586, 0.02703857, 0.        , 0.02996826, 0.0174408 ,\n",
       "       0.        , 0.03616333, 0.03631592, 0.03109741, 0.03112793,\n",
       "       0.02838135, 0.        , 0.02659607, 0.043396  , 0.02452087,\n",
       "       0.03939819, 0.03546143, 0.01922607, 0.0308075 , 0.01338196,\n",
       "       0.03234863, 0.0191803 , 0.        , 0.03964233, 0.02546692,\n",
       "       0.03887939, 0.0574646 , 0.01820374, 0.04284668, 0.05975342,\n",
       "       0.04238892, 0.02554321, 0.03500366, 0.02896118, 0.01490021,\n",
       "       0.02998352, 0.03463745, 0.04660034, 0.01864624, 0.05059814,\n",
       "       0.        , 0.03649902, 0.04312134, 0.02578735, 0.01425171,\n",
       "       0.0291748 , 0.03347778, 0.03485107, 0.04492188, 0.02313232,\n",
       "       0.03189087, 0.04577637, 0.03137207, 0.        , 0.02867126,\n",
       "       0.02818298, 0.01242065, 0.04476929, 0.02400208, 0.03897095,\n",
       "       0.02908325, 0.04830933, 0.0324707 , 0.04626465, 0.03070068,\n",
       "       0.03424072, 0.05722046, 0.02020264, 0.0324707 , 0.02560425,\n",
       "       0.04202271, 0.02482605, 0.03900146, 0.02590942, 0.03004456,\n",
       "       0.02775574, 0.02375793, 0.0275116 , 0.01759338, 0.03045654,\n",
       "       0.00997162, 0.03952026, 0.03768921, 0.03335571, 0.04956055,\n",
       "       0.02516174, 0.        , 0.03198242, 0.04415894, 0.03509521,\n",
       "       0.02740479, 0.02377319, 0.04162598, 0.03146362, 0.03579712,\n",
       "       0.02571106, 0.02690125, 0.04516602, 0.02580261, 0.02629089,\n",
       "       0.0275116 , 0.03384399, 0.05215454, 0.05505371, 0.01924133,\n",
       "       0.03034973, 0.03041077, 0.04129028, 0.03219604, 0.02478027,\n",
       "       0.03207397, 0.04162598, 0.04837036, 0.03665161, 0.03424072,\n",
       "       0.02661133, 0.02690125, 0.04443359, 0.02375793, 0.03588867,\n",
       "       0.02615356, 0.03649902, 0.        , 0.0305481 , 0.0329895 ,\n",
       "       0.02304077, 0.02323914, 0.03396606, 0.        , 0.04257202,\n",
       "       0.01248932, 0.02992249, 0.02467346, 0.03158569, 0.03103638,\n",
       "       0.03041077, 0.02230835, 0.02255249, 0.03747559, 0.04299927,\n",
       "       0.0479126 , 0.00900269, 0.03353882, 0.02870178, 0.03295898,\n",
       "       0.05358887, 0.03411865, 0.03268433, 0.02920532, 0.02546692,\n",
       "       0.02172852, 0.02825928, 0.03439331, 0.03302002, 0.02139282,\n",
       "       0.04110718, 0.01478577, 0.02864075, 0.04907227, 0.0124588 ,\n",
       "       0.02635193, 0.0216217 , 0.03604126, 0.03555298, 0.02380371,\n",
       "       0.03887939, 0.03463745, 0.0401001 , 0.02871704, 0.03530884,\n",
       "       0.05355835, 0.03482056, 0.03274536, 0.        , 0.05697632,\n",
       "       0.03887939, 0.03564453, 0.02629089, 0.05014038])"
      ]
     },
     "execution_count": 15,
     "metadata": {},
     "output_type": "execute_result"
    }
   ],
   "source": [
    "baseline_cov"
   ]
  },
  {
   "cell_type": "code",
   "execution_count": 16,
   "metadata": {},
   "outputs": [
    {
     "data": {
      "text/plain": [
       "(196608,)"
      ]
     },
     "execution_count": 16,
     "metadata": {},
     "output_type": "execute_result"
    }
   ],
   "source": [
    "#now get the blacklist values\n",
    "loaded = np.load(\"/data1/lesliec/sarthak/data/borzoi/blacklist.npz\")\n",
    "blacklist = loaded['chr4'][82524421:82721029]\n",
    "blacklist.shape"
   ]
  },
  {
   "cell_type": "code",
   "execution_count": 17,
   "metadata": {},
   "outputs": [
    {
     "data": {
      "text/plain": [
       "0"
      ]
     },
     "execution_count": 17,
     "metadata": {},
     "output_type": "execute_result"
    }
   ],
   "source": [
    "blacklist.sum() #no blacklist here"
   ]
  },
  {
   "cell_type": "code",
   "execution_count": 18,
   "metadata": {},
   "outputs": [
    {
     "name": "stdout",
     "output_type": "stream",
     "text": [
      "chr13 18604798 18801406\n"
     ]
    }
   ],
   "source": [
    "#blacklist is so small, maybe we just ignore it? idk bro\n",
    "#I guess jsut do it, it's not particularly hard at all...\n",
    "#first check if blacklist.sum() is greater than 0, if it is 0 then we just ignore it, if it's greater than 0, then we do the percentile clipping!\n",
    "\n",
    "#then we can scale, pool, clipsoft, clip, and exxtremem clip! and that's it, let's go through the sequences to find one where blacklist is not none\n",
    "\n",
    "seqs = pd.read_csv(\"/data1/lesliec/sarthak/data/borzoi/sequences_borzoi.bed\", sep=\"\\t\", header=None)\n",
    "for index, row in seqs.iterrows():\n",
    "    chrom, start, end = row[0], row[1], row[2]\n",
    "    blacklist = loaded[chrom][start:end]\n",
    "    if blacklist.sum() > 0:\n",
    "        print(chrom, start, end)\n",
    "        break"
   ]
  },
  {
   "cell_type": "code",
   "execution_count": 19,
   "metadata": {},
   "outputs": [
    {
     "name": "stdout",
     "output_type": "stream",
     "text": [
      "362\n"
     ]
    }
   ],
   "source": [
    "#now let's load this in\n",
    "seq = zarr_open[chrom][:,start:end]\n",
    "baseline_cov = np.percentile(seq, 100*0.5, axis=1)\n",
    "#now get the blacklist\n",
    "blacklist = loaded[chrom][start:end]\n",
    "print(blacklist.sum())\n",
    "\n",
    "#now we can do the percentile clipping\n",
    "# seq_clipped = np.clip(seq)"
   ]
  },
  {
   "cell_type": "code",
   "execution_count": 24,
   "metadata": {},
   "outputs": [
    {
     "data": {
      "text/plain": [
       "(674, 196608)"
      ]
     },
     "execution_count": 24,
     "metadata": {},
     "output_type": "execute_result"
    }
   ],
   "source": [
    "seq.shape"
   ]
  },
  {
   "cell_type": "code",
   "execution_count": 29,
   "metadata": {},
   "outputs": [
    {
     "name": "stdout",
     "output_type": "stream",
     "text": [
      "(674, 362)\n"
     ]
    }
   ],
   "source": [
    "#now the percentile clipping! this is not bad\n",
    "seq_blacklist = seq[:,blacklist==1]\n",
    "print(seq_blacklist.shape)\n",
    "# seq_blacklist = np.clip(seq_blacklist, 0, baseline_cov, axis=1)\n",
    "#there's no clip that works across axes, so just do it manually\n",
    "seq_blacklist = np.minimum(seq_blacklist, baseline_cov[:,None])\n",
    "seq[:,blacklist==1] = seq_blacklist"
   ]
  },
  {
   "cell_type": "code",
   "execution_count": 30,
   "metadata": {},
   "outputs": [],
   "source": [
    "#now we take this modified seq and then scale it, no pooling for now, that can happen later!\n",
    "#we will use the targets.txt file, but for now just manually do it\n",
    "\n",
    "seq = seq*2"
   ]
  },
  {
   "cell_type": "code",
   "execution_count": 31,
   "metadata": {},
   "outputs": [],
   "source": [
    "#now we do the clipsoft and then the clip\n",
    "clip_mask = (seq > 32)\n",
    "seq[clip_mask] = np.sqrt(seq[clip_mask] - 32+1) + 31"
   ]
  },
  {
   "cell_type": "code",
   "execution_count": 32,
   "metadata": {},
   "outputs": [],
   "source": [
    "#and then the hard clip\n",
    "seq = np.clip(seq,0,128)"
   ]
  },
  {
   "cell_type": "code",
   "execution_count": 33,
   "metadata": {},
   "outputs": [
    {
     "data": {
      "text/plain": [
       "[<matplotlib.lines.Line2D at 0x7f62d9f53410>]"
      ]
     },
     "execution_count": 33,
     "metadata": {},
     "output_type": "execute_result"
    },
    {
     "data": {
      "image/png": "[encoded data removed]",
      "text/plain": [
       "<Figure size 640x480 with 1 Axes>"
      ]
     },
     "metadata": {},
     "output_type": "display_data"
    }
   ],
   "source": [
    "#and with that, we have our final data\n",
    "import matplotlib.pyplot as plt\n",
    "plt.plot(seq[0])"
   ]
  },
  {
   "cell_type": "code",
   "execution_count": null,
   "metadata": {},
   "outputs": [
    {
     "data": {
      "text/plain": [
       "5.305"
      ]
     },
     "execution_count": 36,
     "metadata": {},
     "output_type": "execute_result"
    }
   ],
   "source": [
    "seq.max() #not even affected by the crop lmfao!!"
   ]
  },
  {
   "cell_type": "code",
   "execution_count": 37,
   "metadata": {},
   "outputs": [],
   "source": [
    "#wait there's 2 more steps, first it's extreme clipping\n",
    "extreme_clip = np.percentile(seq, 100*0.9999, axis=1)\n",
    "#now applyy it to the seq along the axis again\n",
    "seq = np.minimum(seq, extreme_clip[:,None])"
   ]
  },
  {
   "cell_type": "code",
   "execution_count": 38,
   "metadata": {},
   "outputs": [
    {
     "name": "stdout",
     "output_type": "stream",
     "text": [
      "69338\n"
     ]
    }
   ],
   "source": [
    "#and the final step is if it's unmappable, we deal with it\n",
    "unmap = np.load(\"/data1/lesliec/sarthak/data/borzoi/umap.npz\")\n",
    "unmap = unmap[chrom][start:end]\n",
    "print(unmap.sum())"
   ]
  },
  {
   "cell_type": "code",
   "execution_count": 43,
   "metadata": {},
   "outputs": [
    {
     "data": {
      "text/plain": [
       "(196608,)"
      ]
     },
     "execution_count": 43,
     "metadata": {},
     "output_type": "execute_result"
    }
   ],
   "source": [
    "unmap.shape"
   ]
  },
  {
   "cell_type": "code",
   "execution_count": 40,
   "metadata": {},
   "outputs": [
    {
     "data": {
      "text/plain": [
       "(1, 674)"
      ]
     },
     "execution_count": 40,
     "metadata": {},
     "output_type": "execute_result"
    }
   ],
   "source": [
    "seq_target_null = np.percentile(seq, q=[100*0.5], axis=1)\n",
    "seq_target_null.shape"
   ]
  },
  {
   "cell_type": "code",
   "execution_count": 45,
   "metadata": {},
   "outputs": [
    {
     "data": {
      "text/plain": [
       "(674, 69338)"
      ]
     },
     "execution_count": 45,
     "metadata": {},
     "output_type": "execute_result"
    }
   ],
   "source": [
    "seq[:,unmap==1].shape"
   ]
  },
  {
   "cell_type": "code",
   "execution_count": null,
   "metadata": {},
   "outputs": [
    {
     "ename": "ValueError",
     "evalue": "operands could not be broadcast together with shapes (674,69338) (674,1,196608) ",
     "output_type": "error",
     "traceback": [
      "\u001b[0;31m---------------------------------------------------------------------------\u001b[0m",
      "\u001b[0;31mValueError\u001b[0m                                Traceback (most recent call last)",
      "Cell \u001b[0;32mIn[46], line 1\u001b[0m\n\u001b[0;32m----> 1\u001b[0m (\u001b[43mseq\u001b[49m\u001b[43m[\u001b[49m\u001b[43m:\u001b[49m\u001b[43m,\u001b[49m\u001b[43munmap\u001b[49m\u001b[38;5;241;43m==\u001b[39;49m\u001b[38;5;241;43m1\u001b[39;49m\u001b[43m]\u001b[49m\u001b[43m \u001b[49m\u001b[38;5;241;43m==\u001b[39;49m\u001b[43m \u001b[49m\u001b[43mseq\u001b[49m\u001b[43m[\u001b[49m\u001b[43m:\u001b[49m\u001b[43m,\u001b[49m\u001b[43munmap\u001b[49m\u001b[43m[\u001b[49m\u001b[38;5;241;43m0\u001b[39;49m\u001b[43m]\u001b[49m\u001b[38;5;241;43m==\u001b[39;49m\u001b[38;5;241;43m1\u001b[39;49m\u001b[43m]\u001b[49m)\u001b[38;5;241m.\u001b[39mall() \u001b[38;5;66;03m#this is true, so we can just do this\u001b[39;00m\n",
      "\u001b[0;31mValueError\u001b[0m: operands could not be broadcast together with shapes (674,69338) (674,1,196608) "
     ]
    }
   ],
   "source": [
    "# (seq[:,unmap==1] == seq[:,unmap[0]==1]).all() #this is true, so we can just do this\n",
    "#this is not true, so don't do unmap [0], just as is, otherwise broadacasts elementwise, remember that's dumb!!"
   ]
  },
  {
   "cell_type": "code",
   "execution_count": null,
   "metadata": {},
   "outputs": [
    {
     "data": {
      "text/plain": [
       "(1, 1, 674)"
      ]
     },
     "execution_count": 47,
     "metadata": {},
     "output_type": "execute_result"
    }
   ],
   "source": [
    "seq_target_null[:,None].shape"
   ]
  },
  {
   "cell_type": "code",
   "execution_count": null,
   "metadata": {},
   "outputs": [
    {
     "data": {
      "text/plain": [
       "(674, 1)"
      ]
     },
     "execution_count": 48,
     "metadata": {},
     "output_type": "execute_result"
    }
   ],
   "source": [
    "seq_target_null[0,:,None].shape #this is correct"
   ]
  },
  {
   "cell_type": "code",
   "execution_count": 49,
   "metadata": {},
   "outputs": [],
   "source": [
    "#and now applyy the unmap\n",
    "# seq[:,unmap==1] = seq_target_null[:,None]\n",
    "seq_unmap = seq[:,unmap==1]\n",
    "seq_unmap = np.minimum(seq_unmap, seq_target_null[0,:,None])\n",
    "seq[:,unmap==1] = seq_unmap"
   ]
  },
  {
   "cell_type": "code",
   "execution_count": 52,
   "metadata": {},
   "outputs": [
    {
     "data": {
      "text/plain": [
       "0.0643310546875"
      ]
     },
     "execution_count": 52,
     "metadata": {},
     "output_type": "execute_result"
    }
   ],
   "source": [
    "seq_target_null.max()"
   ]
  },
  {
   "cell_type": "code",
   "execution_count": 50,
   "metadata": {},
   "outputs": [
    {
     "data": {
      "text/plain": [
       "5.291783203124851"
      ]
     },
     "execution_count": 50,
     "metadata": {},
     "output_type": "execute_result"
    }
   ],
   "source": [
    "seq.max() #this is 128, so it's working"
   ]
  },
  {
   "cell_type": "code",
   "execution_count": null,
   "metadata": {},
   "outputs": [
    {
     "data": {
      "text/plain": [
       "(674, 1)"
      ]
     },
     "execution_count": 54,
     "metadata": {},
     "output_type": "execute_result"
    }
   ],
   "source": [
    "baseline_cov[:,None].shape #yeah it's correct"
   ]
  },
  {
   "cell_type": "code",
   "execution_count": null,
   "metadata": {},
   "outputs": [
    {
     "data": {
      "text/plain": [
       "5.291783203124851"
      ]
     },
     "execution_count": 55,
     "metadata": {},
     "output_type": "execute_result"
    }
   ],
   "source": [
    "#let's do it all at once\n",
    "\n",
    "#load the sequence\n",
    "seq = zarr_open[chrom][:,start:end]\n",
    "\n",
    "#load the blacklist and define values to set it to\n",
    "blacklist = loaded[chrom][start:end]\n",
    "if blacklist.sum() > 0:\n",
    "    baseline_cov = np.percentile(seq, 100*0.5, axis=1)\n",
    "    seq_blacklist = seq[:,blacklist==1]\n",
    "    seq_blacklist = np.minimum(seq_blacklist, baseline_cov[:,None])\n",
    "    seq[:,blacklist==1] = seq_blacklist\n",
    "\n",
    "#technically pooling is done here, but it's ok we can do it later, doesn't change the clipping since it's all mean? might change the percentile stuff for unmappable clipping tho\n",
    "\n",
    "#scale and clip soft then clip\n",
    "seq = seq*2\n",
    "clip_mask = (seq > 32)\n",
    "seq[clip_mask] = np.sqrt(seq[clip_mask] - 32+1) + 31\n",
    "seq = np.clip(seq,0,128)\n",
    "\n",
    "#extreme clip\n",
    "extreme_clip = np.percentile(seq, 100*0.9999, axis=1)\n",
    "seq = np.minimum(seq, extreme_clip[:,None])\n",
    "\n",
    "\n",
    "#load unmappable regions and find the percentile to set values to\n",
    "unmap = np.load(\"/data1/lesliec/sarthak/data/borzoi/umap.npz\")\n",
    "unmap = unmap[chrom][start:end]\n",
    "seq_target_null = np.percentile(seq, q=[100*0.5], axis=1)\n",
    "seq_unmap = seq[:,unmap==1]\n",
    "seq_unmap = np.minimum(seq_unmap, seq_target_null[0,:,None])\n",
    "seq[:,unmap==1] = seq_unmap\n",
    "seq.max()\n",
    "\n",
    "#it's certainly ynot the fastest, 9 seconds to load the data and process..."
   ]
  },
  {
   "cell_type": "code",
   "execution_count": null,
   "metadata": {},
   "outputs": [
    {
     "data": {
      "text/plain": [
       "dtype('float64')"
      ]
     },
     "execution_count": 56,
     "metadata": {},
     "output_type": "execute_result"
    }
   ],
   "source": [
    "seq.dtype"
   ]
  },
  {
   "cell_type": "markdown",
   "metadata": {},
   "source": [
    "# let's benchmark the speed quickly and see what's slow or fast"
   ]
  },
  {
   "cell_type": "code",
   "execution_count": 60,
   "metadata": {},
   "outputs": [],
   "source": [
    "zarr_open = zarr.open(\"/data1/lesliec/sarthak/data/DK_zarr/zarr_arrays/test_chrom_dnase_chunkchrom.zarr\", mode='r')"
   ]
  },
  {
   "cell_type": "code",
   "execution_count": 65,
   "metadata": {},
   "outputs": [],
   "source": [
    "chrom = 'chr13'\n",
    "start = 18604798\n",
    "end = 18801406"
   ]
  },
  {
   "cell_type": "code",
   "execution_count": 66,
   "metadata": {},
   "outputs": [
    {
     "name": "stdout",
     "output_type": "stream",
     "text": [
      "load seq: 2.811349630355835\n",
      "process seq: 6.277900695800781\n"
     ]
    }
   ],
   "source": [
    "# now let's test it\n",
    "\n",
    "def process_data(seq, blacklist, unmap, scale, clip, clip_soft, blacklist_pct=0.5, umap_clip=0.5):\n",
    "    '''This function will process the data, it does the basenji processing where you do blacklist clipping\n",
    "    Then skip pooling (can do it later, only might affect unmappable clipping, but if doing mean pooling won't affect clipsoft and clip),\n",
    "    Then scale and clip soft then clip, \n",
    "    then extereme clip,\n",
    "    then change unmappable regions\n",
    "    \n",
    "    Args:\n",
    "        seq: the sequence to process\n",
    "        blacklist: the already loaded values form the blacklist npz file that was loaded\n",
    "        unmappable_npz: the already loaded values from the unmappable regions npz file that was loaded\n",
    "        scale: the scale to apply (from targets.txt)\n",
    "        clip: the clip to apply (from targets.txt)\n",
    "        clip_soft: the soft clip to apply (from targets.txt)\n",
    "        blacklist_pct: the percentage to clip the blacklist to\n",
    "        \n",
    "    \n",
    "    '''\n",
    "    #first find blacklist values and if they overlap, clip them to baseline\n",
    "    if blacklist.sum() > 0:\n",
    "        baseline_cov = np.percentile(seq, 100*blacklist_pct, axis=1)\n",
    "        seq_blacklist = seq[:,blacklist==1]\n",
    "        seq_blacklist = np.minimum(seq_blacklist, baseline_cov[:,None])\n",
    "        seq[:,blacklist==1] = seq_blacklist\n",
    "    \n",
    "    #now scale and clip soft then clip\n",
    "    seq = seq * scale\n",
    "    clip_mask = (seq > 32)\n",
    "    seq[clip_mask] = np.sqrt(seq[clip_mask] - clip_soft+1) + clip_soft-1\n",
    "    seq = np.clip(seq,0,clip)\n",
    "    \n",
    "    #now extreme clip\n",
    "    extreme_clip = np.percentile(seq, 100*0.9999, axis=1)\n",
    "    seq = np.minimum(seq, extreme_clip[:,None])\n",
    "\n",
    "    #and finally, use unmappable regions\n",
    "    seq_target_null = np.percentile(seq, q=[100*umap_clip], axis=1)\n",
    "    seq_unmap = seq[:,unmap==1]\n",
    "    seq_unmap = np.minimum(seq_unmap, seq_target_null[0,:,None])\n",
    "    seq[:,unmap==1] = seq_unmap\n",
    "\n",
    "    return seq\n",
    "\n",
    "import time\n",
    "start_time = time.time()\n",
    "seq = zarr_open[chrom][:,start:end]\n",
    "print('load seq:',time.time()-start_time)\n",
    "\n",
    "start_time = time.time()\n",
    "seq = process_data(seq, blacklist, unmap, 2, 128, 32)\n",
    "print('process seq:',time.time()-start_time)"
   ]
  },
  {
   "cell_type": "code",
   "execution_count": null,
   "metadata": {},
   "outputs": [
    {
     "name": "stdout",
     "output_type": "stream",
     "text": [
      "blacklist: 0.8846228122711182\n",
      "clip: 3.3365132808685303\n",
      "unmap: 2.036334991455078\n"
     ]
    }
   ],
   "source": [
    "#let's see what happens if we don't do blacklist\n",
    "def process_data(seq, blacklist, unmap, scale, clip, clip_soft, blacklist_pct=0.5, umap_clip=0.5):\n",
    "    '''This function will process the data, it does the basenji processing where you do blacklist clipping\n",
    "    Then skip pooling (can do it later, only might affect unmappable clipping, but if doing mean pooling won't affect clipsoft and clip),\n",
    "    Then scale and clip soft then clip, \n",
    "    then extereme clip,\n",
    "    then change unmappable regions\n",
    "    \n",
    "    Args:\n",
    "        seq: the sequence to process\n",
    "        blacklist: the already loaded values form the blacklist npz file that was loaded\n",
    "        unmappable_npz: the already loaded values from the unmappable regions npz file that was loaded\n",
    "        scale: the scale to apply (from targets.txt)\n",
    "        clip: the clip to apply (from targets.txt)\n",
    "        clip_soft: the soft clip to apply (from targets.txt)\n",
    "        blacklist_pct: the percentage to clip the blacklist to\n",
    "        \n",
    "    \n",
    "    '''\n",
    "    #first find blacklist values and if they overlap, clip them to baseline\n",
    "    start = time.time()\n",
    "    if blacklist.sum() > 0:\n",
    "        baseline_cov = np.percentile(seq, 100*blacklist_pct, axis=1)\n",
    "        seq_blacklist = seq[:,blacklist==1]\n",
    "        seq_blacklist = np.minimum(seq_blacklist, baseline_cov[:,None])\n",
    "        seq[:,blacklist==1] = seq_blacklist\n",
    "    print('blacklist:',time.time()-start)\n",
    "\n",
    "    #now scale and clip soft then clip\n",
    "    start = time.time()\n",
    "    seq = seq * scale\n",
    "    clip_mask = (seq > 32)\n",
    "    seq[clip_mask] = np.sqrt(seq[clip_mask] - clip_soft+1) + clip_soft-1\n",
    "    seq = np.clip(seq,0,clip)\n",
    "    \n",
    "    #now extreme clip\n",
    "    extreme_clip = np.percentile(seq, 100*0.9999, axis=1)\n",
    "    seq = np.minimum(seq, extreme_clip[:,None])\n",
    "    print('clip:',time.time()-start)\n",
    "\n",
    "    #and finally, use unmappable regions\n",
    "    start = time.time()\n",
    "    seq_target_null = np.percentile(seq, q=[100*umap_clip], axis=1)\n",
    "    seq_unmap = seq[:,unmap==1]\n",
    "    seq_unmap = np.minimum(seq_unmap, seq_target_null[0,:,None])\n",
    "    seq[:,unmap==1] = seq_unmap\n",
    "    print('unmap:',time.time()-start)\n",
    "\n",
    "    return seq\n",
    "\n",
    "seq = zarr_open[chrom][:,start:end]\n",
    "seq = process_data(seq, blacklist, unmap, 2, 128, 32)\n",
    "\n",
    "#9 seconds overall"
   ]
  },
  {
   "cell_type": "code",
   "execution_count": null,
   "metadata": {},
   "outputs": [
    {
     "name": "stdout",
     "output_type": "stream",
     "text": [
      "[[False False False ... False False False]\n",
      " [False False False ... False False False]\n",
      " [False False False ... False False False]\n",
      " ...\n",
      " [False False False ... False False False]\n",
      " [False False False ... False False False]\n",
      " [False False False ... False False False]]\n"
     ]
    }
   ],
   "source": [
    "#let's check stuff to see what can speed it up\n",
    "\n",
    "\n",
    "\n",
    "seq = zarr_open[chrom][:,start:end]\n",
    "clip_mask = seq > 32\n",
    "# seq = process_data(seq, blacklist, unmap, 2, 128, 32)"
   ]
  },
  {
   "cell_type": "code",
   "execution_count": null,
   "metadata": {},
   "outputs": [
    {
     "data": {
      "text/plain": [
       "0"
      ]
     },
     "execution_count": 72,
     "metadata": {},
     "output_type": "execute_result"
    }
   ],
   "source": [
    "clip_mask.sum()"
   ]
  },
  {
   "cell_type": "code",
   "execution_count": 74,
   "metadata": {},
   "outputs": [
    {
     "data": {
      "text/plain": [
       "69338"
      ]
     },
     "execution_count": 74,
     "metadata": {},
     "output_type": "execute_result"
    }
   ],
   "source": [
    "unmap.sum()"
   ]
  },
  {
   "cell_type": "code",
   "execution_count": 75,
   "metadata": {},
   "outputs": [
    {
     "name": "stdout",
     "output_type": "stream",
     "text": [
      "blacklist: 0.8817660808563232\n",
      "clip: 1.1256473064422607\n",
      "unmap: 1.576805830001831\n"
     ]
    }
   ],
   "source": [
    "#so we can edit it to check if there's anythign in the clip mask\n",
    "def process_data(seq, blacklist, unmap, scale, clip, clip_soft, blacklist_pct=0.5, umap_clip=0.5):\n",
    "    '''This function will process the data, it does the basenji processing where you do blacklist clipping\n",
    "    Then skip pooling (can do it later, only might affect unmappable clipping, but if doing mean pooling won't affect clipsoft and clip),\n",
    "    Then scale and clip soft then clip, \n",
    "    then extereme clip,\n",
    "    then change unmappable regions\n",
    "    \n",
    "    Args:\n",
    "        seq: the sequence to process\n",
    "        blacklist: the already loaded values form the blacklist npz file that was loaded\n",
    "        unmappable_npz: the already loaded values from the unmappable regions npz file that was loaded\n",
    "        scale: the scale to apply (from targets.txt)\n",
    "        clip: the clip to apply (from targets.txt)\n",
    "        clip_soft: the soft clip to apply (from targets.txt)\n",
    "        blacklist_pct: the percentage to clip the blacklist to\n",
    "        \n",
    "    \n",
    "    '''\n",
    "    #first find blacklist values and if they overlap, clip them to baseline\n",
    "    start = time.time()\n",
    "    if blacklist.sum() > 0:\n",
    "        baseline_cov = np.percentile(seq, 100*blacklist_pct, axis=1)\n",
    "        seq_blacklist = seq[:,blacklist==1]\n",
    "        seq_blacklist = np.minimum(seq_blacklist, baseline_cov[:,None])\n",
    "        seq[:,blacklist==1] = seq_blacklist\n",
    "    print('blacklist:',time.time()-start)\n",
    "\n",
    "    #now scale and clip soft then clip\n",
    "    start = time.time()\n",
    "    seq = seq * scale\n",
    "    clip_mask = (seq > 32)\n",
    "    if clip_mask.sum() > 0:\n",
    "        seq[clip_mask] = np.sqrt(seq[clip_mask] - clip_soft+1) + clip_soft-1\n",
    "        seq = np.clip(seq,0,clip)\n",
    "\n",
    "        #now extreme clip\n",
    "        extreme_clip = np.percentile(seq, 100*0.9999, axis=1)\n",
    "        seq = np.minimum(seq, extreme_clip[:,None])\n",
    "    print('clip:',time.time()-start)\n",
    "\n",
    "    #and finally, use unmappable regions\n",
    "    start = time.time()\n",
    "    if unmap.sum() > 0:\n",
    "        seq_target_null = np.percentile(seq, q=[100*umap_clip], axis=1)\n",
    "        seq_unmap = seq[:,unmap==1]\n",
    "        seq_unmap = np.minimum(seq_unmap, seq_target_null[0,:,None])\n",
    "        seq[:,unmap==1] = seq_unmap\n",
    "    print('unmap:',time.time()-start)\n",
    "\n",
    "    return seq\n",
    "\n",
    "seq = zarr_open[chrom][:,start:end]\n",
    "seq = process_data(seq, blacklist, unmap, 2, 128, 32)"
   ]
  },
  {
   "cell_type": "markdown",
   "metadata": {},
   "source": [
    "# final steps\n",
    "\n",
    "Now we have a way to process the data, find a good wayy to finalize and make this dataset class!! Not too hard, just has to do things like\n",
    "\n",
    "Loop ovewr sequences file or span the genome, so arguments about span and length\n",
    "\n",
    "If outside of a certain region in the span, can 'clean up' the data and remove those values when reporting the final length \n",
    "\n",
    "Mayybe just quickly goes through and makes a quick sequences.txt file! or a df or whatever\n",
    "\n",
    "Then we also have to make sure to add lengths to the left and right if outside of the genome (also add values to the blacklist and unmappables!)\n",
    "\n",
    "that should do it for now, see other datasets, mainly graph reg and GPN one to see if we missing anything! Make it good\n",
    "\n",
    "One thing we can do is if we want a subset and say create it, it will create it and then test it!\n",
    "\n",
    "First let's test it and see speed, see if it's the slowdown, or if it's fine as is... we can always just make a function to create subset of the data"
   ]
  },
  {
   "cell_type": "markdown",
   "metadata": {},
   "source": [
    "# created the dataset, now we test it\n",
    "\n",
    "Then we will also look at some threshold stuff, like how to set it"
   ]
  },
  {
   "cell_type": "code",
   "execution_count": 76,
   "metadata": {},
   "outputs": [],
   "source": [
    "from src.dataloaders.datasets.general_dataset import GeneralDataset\n",
    "\n",
    "dataset = GeneralDataset(\n",
    "    split='train',\n",
    "    preprocess=False,\n",
    "    data_path='/data1/lesliec/sarthak/data/DK_zarr/zarr_arrays/cell_type_arrays/GM12878_DNase.npz',\n",
    "    data_is_zarr=False,\n",
    "    sequences_bed_file='/data1/lesliec/sarthak/data/DK_zarr/sequences_enformer.bed',\n",
    "    length=524288\n",
    ")"
   ]
  },
  {
   "cell_type": "code",
   "execution_count": 77,
   "metadata": {},
   "outputs": [
    {
     "data": {
      "text/html": [
       "<div>\n",
       "<style scoped>\n",
       "    .dataframe tbody tr th:only-of-type {\n",
       "        vertical-align: middle;\n",
       "    }\n",
       "\n",
       "    .dataframe tbody tr th {\n",
       "        vertical-align: top;\n",
       "    }\n",
       "\n",
       "    .dataframe thead th {\n",
       "        text-align: right;\n",
       "    }\n",
       "</style>\n",
       "<table border=\"1\" class=\"dataframe\">\n",
       "  <thead>\n",
       "    <tr style=\"text-align: right;\">\n",
       "      <th></th>\n",
       "      <th>0</th>\n",
       "      <th>1</th>\n",
       "      <th>2</th>\n",
       "      <th>3</th>\n",
       "    </tr>\n",
       "  </thead>\n",
       "  <tbody>\n",
       "    <tr>\n",
       "      <th>0</th>\n",
       "      <td>chr18</td>\n",
       "      <td>928386</td>\n",
       "      <td>1059458</td>\n",
       "      <td>train</td>\n",
       "    </tr>\n",
       "    <tr>\n",
       "      <th>1</th>\n",
       "      <td>chr4</td>\n",
       "      <td>113630947</td>\n",
       "      <td>113762019</td>\n",
       "      <td>train</td>\n",
       "    </tr>\n",
       "    <tr>\n",
       "      <th>2</th>\n",
       "      <td>chr11</td>\n",
       "      <td>18427720</td>\n",
       "      <td>18558792</td>\n",
       "      <td>train</td>\n",
       "    </tr>\n",
       "    <tr>\n",
       "      <th>3</th>\n",
       "      <td>chr16</td>\n",
       "      <td>85805681</td>\n",
       "      <td>85936753</td>\n",
       "      <td>train</td>\n",
       "    </tr>\n",
       "    <tr>\n",
       "      <th>4</th>\n",
       "      <td>chr3</td>\n",
       "      <td>158386188</td>\n",
       "      <td>158517260</td>\n",
       "      <td>train</td>\n",
       "    </tr>\n",
       "    <tr>\n",
       "      <th>...</th>\n",
       "      <td>...</td>\n",
       "      <td>...</td>\n",
       "      <td>...</td>\n",
       "      <td>...</td>\n",
       "    </tr>\n",
       "    <tr>\n",
       "      <th>34016</th>\n",
       "      <td>chr7</td>\n",
       "      <td>50515122</td>\n",
       "      <td>50646194</td>\n",
       "      <td>train</td>\n",
       "    </tr>\n",
       "    <tr>\n",
       "      <th>34017</th>\n",
       "      <td>chr7</td>\n",
       "      <td>135602769</td>\n",
       "      <td>135733841</td>\n",
       "      <td>train</td>\n",
       "    </tr>\n",
       "    <tr>\n",
       "      <th>34018</th>\n",
       "      <td>chr4</td>\n",
       "      <td>189004198</td>\n",
       "      <td>189135270</td>\n",
       "      <td>train</td>\n",
       "    </tr>\n",
       "    <tr>\n",
       "      <th>34019</th>\n",
       "      <td>chr4</td>\n",
       "      <td>10438099</td>\n",
       "      <td>10569171</td>\n",
       "      <td>train</td>\n",
       "    </tr>\n",
       "    <tr>\n",
       "      <th>34020</th>\n",
       "      <td>chr1</td>\n",
       "      <td>185730272</td>\n",
       "      <td>185861344</td>\n",
       "      <td>train</td>\n",
       "    </tr>\n",
       "  </tbody>\n",
       "</table>\n",
       "<p>34021 rows × 4 columns</p>\n",
       "</div>"
      ],
      "text/plain": [
       "           0          1          2      3\n",
       "0      chr18     928386    1059458  train\n",
       "1       chr4  113630947  113762019  train\n",
       "2      chr11   18427720   18558792  train\n",
       "3      chr16   85805681   85936753  train\n",
       "4       chr3  158386188  158517260  train\n",
       "...      ...        ...        ...    ...\n",
       "34016   chr7   50515122   50646194  train\n",
       "34017   chr7  135602769  135733841  train\n",
       "34018   chr4  189004198  189135270  train\n",
       "34019   chr4   10438099   10569171  train\n",
       "34020   chr1  185730272  185861344  train\n",
       "\n",
       "[34021 rows x 4 columns]"
      ]
     },
     "execution_count": 77,
     "metadata": {},
     "output_type": "execute_result"
    }
   ],
   "source": [
    "#now we can test things\n",
    "#I timed it already, but basicallyy it takes 2 minutes to load in the full dataset,s so not an issue at all\n",
    "#but let's find a region that is close to the thing, the main seqs is 131k, and we move more than 131k to the left\n",
    "#let's find an example that is at the start of the chromosome to see how it deals with extensions\n",
    "seqs = dataset.sequences\n",
    "seqs"
   ]
  },
  {
   "cell_type": "code",
   "execution_count": 78,
   "metadata": {},
   "outputs": [
    {
     "data": {
      "text/html": [
       "<div>\n",
       "<style scoped>\n",
       "    .dataframe tbody tr th:only-of-type {\n",
       "        vertical-align: middle;\n",
       "    }\n",
       "\n",
       "    .dataframe tbody tr th {\n",
       "        vertical-align: top;\n",
       "    }\n",
       "\n",
       "    .dataframe thead th {\n",
       "        text-align: right;\n",
       "    }\n",
       "</style>\n",
       "<table border=\"1\" class=\"dataframe\">\n",
       "  <thead>\n",
       "    <tr style=\"text-align: right;\">\n",
       "      <th></th>\n",
       "      <th>0</th>\n",
       "      <th>1</th>\n",
       "      <th>2</th>\n",
       "      <th>3</th>\n",
       "    </tr>\n",
       "  </thead>\n",
       "  <tbody>\n",
       "    <tr>\n",
       "      <th>1022</th>\n",
       "      <td>chr3</td>\n",
       "      <td>10000</td>\n",
       "      <td>141072</td>\n",
       "      <td>train</td>\n",
       "    </tr>\n",
       "    <tr>\n",
       "      <th>1400</th>\n",
       "      <td>chr10</td>\n",
       "      <td>75599</td>\n",
       "      <td>206671</td>\n",
       "      <td>train</td>\n",
       "    </tr>\n",
       "    <tr>\n",
       "      <th>6733</th>\n",
       "      <td>chr4</td>\n",
       "      <td>75599</td>\n",
       "      <td>206671</td>\n",
       "      <td>train</td>\n",
       "    </tr>\n",
       "    <tr>\n",
       "      <th>17051</th>\n",
       "      <td>chr6</td>\n",
       "      <td>125599</td>\n",
       "      <td>256671</td>\n",
       "      <td>train</td>\n",
       "    </tr>\n",
       "    <tr>\n",
       "      <th>18309</th>\n",
       "      <td>chr16</td>\n",
       "      <td>75599</td>\n",
       "      <td>206671</td>\n",
       "      <td>train</td>\n",
       "    </tr>\n",
       "    <tr>\n",
       "      <th>19543</th>\n",
       "      <td>chr3</td>\n",
       "      <td>75599</td>\n",
       "      <td>206671</td>\n",
       "      <td>train</td>\n",
       "    </tr>\n",
       "    <tr>\n",
       "      <th>21324</th>\n",
       "      <td>chr17</td>\n",
       "      <td>125599</td>\n",
       "      <td>256671</td>\n",
       "      <td>train</td>\n",
       "    </tr>\n",
       "    <tr>\n",
       "      <th>25870</th>\n",
       "      <td>chr4</td>\n",
       "      <td>10000</td>\n",
       "      <td>141072</td>\n",
       "      <td>train</td>\n",
       "    </tr>\n",
       "    <tr>\n",
       "      <th>27331</th>\n",
       "      <td>chr5</td>\n",
       "      <td>10000</td>\n",
       "      <td>141072</td>\n",
       "      <td>train</td>\n",
       "    </tr>\n",
       "    <tr>\n",
       "      <th>27661</th>\n",
       "      <td>chr12</td>\n",
       "      <td>75599</td>\n",
       "      <td>206671</td>\n",
       "      <td>train</td>\n",
       "    </tr>\n",
       "    <tr>\n",
       "      <th>28360</th>\n",
       "      <td>chr16</td>\n",
       "      <td>10000</td>\n",
       "      <td>141072</td>\n",
       "      <td>train</td>\n",
       "    </tr>\n",
       "    <tr>\n",
       "      <th>30217</th>\n",
       "      <td>chr2</td>\n",
       "      <td>10000</td>\n",
       "      <td>141072</td>\n",
       "      <td>train</td>\n",
       "    </tr>\n",
       "    <tr>\n",
       "      <th>30336</th>\n",
       "      <td>chr2</td>\n",
       "      <td>75599</td>\n",
       "      <td>206671</td>\n",
       "      <td>train</td>\n",
       "    </tr>\n",
       "    <tr>\n",
       "      <th>31048</th>\n",
       "      <td>chr5</td>\n",
       "      <td>75599</td>\n",
       "      <td>206671</td>\n",
       "      <td>train</td>\n",
       "    </tr>\n",
       "    <tr>\n",
       "      <th>31591</th>\n",
       "      <td>chr12</td>\n",
       "      <td>10000</td>\n",
       "      <td>141072</td>\n",
       "      <td>train</td>\n",
       "    </tr>\n",
       "  </tbody>\n",
       "</table>\n",
       "</div>"
      ],
      "text/plain": [
       "           0       1       2      3\n",
       "1022    chr3   10000  141072  train\n",
       "1400   chr10   75599  206671  train\n",
       "6733    chr4   75599  206671  train\n",
       "17051   chr6  125599  256671  train\n",
       "18309  chr16   75599  206671  train\n",
       "19543   chr3   75599  206671  train\n",
       "21324  chr17  125599  256671  train\n",
       "25870   chr4   10000  141072  train\n",
       "27331   chr5   10000  141072  train\n",
       "27661  chr12   75599  206671  train\n",
       "28360  chr16   10000  141072  train\n",
       "30217   chr2   10000  141072  train\n",
       "30336   chr2   75599  206671  train\n",
       "31048   chr5   75599  206671  train\n",
       "31591  chr12   10000  141072  train"
      ]
     },
     "execution_count": 78,
     "metadata": {},
     "output_type": "execute_result"
    }
   ],
   "source": [
    "#find an example in the pd array that is a value less than 131k\n",
    "seqs[seqs[1] < 131000] #this is the first one, so let's use this"
   ]
  },
  {
   "cell_type": "code",
   "execution_count": 79,
   "metadata": {},
   "outputs": [
    {
     "data": {
      "text/plain": [
       "(1, 131072)"
      ]
     },
     "execution_count": 79,
     "metadata": {},
     "output_type": "execute_result"
    }
   ],
   "source": [
    "#let's do chr3 from 10000 to 141072\n",
    "chrom = 'chr3'\n",
    "start = 10000\n",
    "end = 141072\n",
    "seq = dataset.data[chrom][:,start:end]\n",
    "seq.shape"
   ]
  },
  {
   "cell_type": "code",
   "execution_count": 80,
   "metadata": {},
   "outputs": [
    {
     "data": {
      "text/plain": [
       "array([[0.        , 0.        , 0.        , ..., 0.05328369, 0.05328369,\n",
       "        0.05328369]])"
      ]
     },
     "execution_count": 80,
     "metadata": {},
     "output_type": "execute_result"
    }
   ],
   "source": [
    "seq"
   ]
  },
  {
   "cell_type": "code",
   "execution_count": 82,
   "metadata": {},
   "outputs": [
    {
     "data": {
      "text/plain": [
       "[<matplotlib.lines.Line2D at 0x7f6064860f50>]"
      ]
     },
     "execution_count": 82,
     "metadata": {},
     "output_type": "execute_result"
    },
    {
     "data": {
      "image/png": "[encoded data removed]",
      "text/plain": [
       "<Figure size 640x480 with 1 Axes>"
      ]
     },
     "metadata": {},
     "output_type": "display_data"
    }
   ],
   "source": [
    "plt.plot(seq[0])"
   ]
  },
  {
   "cell_type": "code",
   "execution_count": null,
   "metadata": {},
   "outputs": [
    {
     "data": {
      "text/plain": [
       "[<matplotlib.lines.Line2D at 0x7f6062e21210>]"
      ]
     },
     "execution_count": 83,
     "metadata": {},
     "output_type": "execute_result"
    },
    {
     "data": {
      "image/png": "[encoded data removed]",
      "text/plain": [
       "<Figure size 640x480 with 1 Axes>"
      ]
     },
     "metadata": {},
     "output_type": "display_data"
    }
   ],
   "source": [
    "data,label = dataset[1022]\n",
    "plt.plot(label[0]) #this is the label, so it's the same as the seq, but with the extension\n",
    "#this is definitely extended, if we plot ours in the middle it's a perfect match"
   ]
  },
  {
   "cell_type": "code",
   "execution_count": 88,
   "metadata": {},
   "outputs": [
    {
     "data": {
      "text/plain": [
       "torch.Size([1, 524288])"
      ]
     },
     "execution_count": 88,
     "metadata": {},
     "output_type": "execute_result"
    }
   ],
   "source": [
    "label.shape"
   ]
  },
  {
   "cell_type": "code",
   "execution_count": 90,
   "metadata": {},
   "outputs": [
    {
     "data": {
      "text/plain": [
       "[<matplotlib.lines.Line2D at 0x7f62d9cc1650>]"
      ]
     },
     "execution_count": 90,
     "metadata": {},
     "output_type": "execute_result"
    },
    {
     "data": {
      "image/png": "[encoded data removed]",
      "text/plain": [
       "<Figure size 640x480 with 1 Axes>"
      ]
     },
     "metadata": {},
     "output_type": "display_data"
    }
   ],
   "source": [
    "#let's verify it's the case\n",
    "#let's get the middle 131072 of the label\n",
    "middle = label.shape[1]//2\n",
    "middle_start = middle - 131072//2\n",
    "middle_end = middle + 131072//2\n",
    "plt.plot(label[0,middle_start:middle_end]) #this is the label, so it's the same as the seq, but with the extension"
   ]
  },
  {
   "cell_type": "code",
   "execution_count": null,
   "metadata": {},
   "outputs": [
    {
     "data": {
      "text/plain": [
       "True"
      ]
     },
     "execution_count": 91,
     "metadata": {},
     "output_type": "execute_result"
    }
   ],
   "source": [
    "np.allclose(label[0,middle_start:middle_end], seq[0]) #this is true, so it's the same, meaning it is indeed correct"
   ]
  },
  {
   "cell_type": "code",
   "execution_count": 92,
   "metadata": {},
   "outputs": [
    {
     "name": "stdout",
     "output_type": "stream",
     "text": [
      "(131072,)\n"
     ]
    },
    {
     "data": {
      "text/plain": [
       "array([ 8, 10,  7, ...,  7,  7, 10], dtype=int8)"
      ]
     },
     "execution_count": 92,
     "metadata": {},
     "output_type": "execute_result"
    }
   ],
   "source": [
    "#now let's check the actual sequence too\n",
    "seq = dataset.genome[chrom][start:end]\n",
    "print(seq.shape)\n",
    "seq"
   ]
  },
  {
   "cell_type": "code",
   "execution_count": 93,
   "metadata": {},
   "outputs": [
    {
     "data": {
      "text/plain": [
       "torch.Size([4, 524288])"
      ]
     },
     "execution_count": 93,
     "metadata": {},
     "output_type": "execute_result"
    }
   ],
   "source": [
    "data.shape"
   ]
  },
  {
   "cell_type": "code",
   "execution_count": 94,
   "metadata": {},
   "outputs": [
    {
     "data": {
      "text/plain": [
       "tensor([[0., 0., 0.,  ..., 0., 0., 0.],\n",
       "        [0., 0., 0.,  ..., 1., 1., 0.],\n",
       "        [0., 0., 0.,  ..., 0., 0., 0.],\n",
       "        [0., 0., 0.,  ..., 0., 0., 1.]])"
      ]
     },
     "execution_count": 94,
     "metadata": {},
     "output_type": "execute_result"
    }
   ],
   "source": [
    "data"
   ]
  },
  {
   "cell_type": "code",
   "execution_count": null,
   "metadata": {},
   "outputs": [
    {
     "data": {
      "text/plain": [
       "tensor([[0., 0., 1.,  ..., 1., 1., 0.],\n",
       "        [1., 0., 0.,  ..., 0., 0., 0.],\n",
       "        [0., 0., 0.,  ..., 0., 0., 0.],\n",
       "        [0., 1., 0.,  ..., 0., 0., 1.]])"
      ]
     },
     "execution_count": 95,
     "metadata": {},
     "output_type": "execute_result"
    }
   ],
   "source": [
    "#let's find the overlap again\n",
    "data[:,middle_start:middle_end] #clearly looks correct"
   ]
  },
  {
   "cell_type": "code",
   "execution_count": 96,
   "metadata": {},
   "outputs": [
    {
     "data": {
      "text/plain": [
       "tensor([[0., 0., 1., 1., 0., 0., 0., 0., 1., 1., 0., 0.],\n",
       "        [1., 0., 0., 0., 1., 1., 1., 0., 0., 0., 1., 1.],\n",
       "        [0., 0., 0., 0., 0., 0., 0., 0., 0., 0., 0., 0.],\n",
       "        [0., 1., 0., 0., 0., 0., 0., 1., 0., 0., 0., 0.]])"
      ]
     },
     "execution_count": 96,
     "metadata": {},
     "output_type": "execute_result"
    }
   ],
   "source": [
    "#let's check like the first 12 or so\n",
    "\n",
    "data[:,middle_start:middle_end][:, :12] #this is the first 12, so it's correct"
   ]
  },
  {
   "cell_type": "code",
   "execution_count": 97,
   "metadata": {},
   "outputs": [
    {
     "data": {
      "text/plain": [
       "array([ 8, 10,  7,  7,  8,  8,  8, 10,  7,  7,  8,  8], dtype=int8)"
      ]
     },
     "execution_count": 97,
     "metadata": {},
     "output_type": "execute_result"
    }
   ],
   "source": [
    "seq[:12]"
   ]
  },
  {
   "cell_type": "code",
   "execution_count": 99,
   "metadata": {},
   "outputs": [
    {
     "data": {
      "text/plain": [
       "array([[0.06854248, 0.06854248, 0.06854248, 0.06854248, 0.06854248,\n",
       "        0.07611084, 0.07611084, 0.07611084, 0.07611084, 0.07611084]])"
      ]
     },
     "execution_count": 99,
     "metadata": {},
     "output_type": "execute_result"
    }
   ],
   "source": [
    "#yyeah I think it's fine, the one thing is we will have a separate class for N\n",
    "\n",
    "#changed it, but let's test to make sure our shapes are right\n",
    "\n",
    "data = dataset.data[chrom][:,1000000:1000010]\n",
    "data"
   ]
  },
  {
   "cell_type": "code",
   "execution_count": null,
   "metadata": {},
   "outputs": [
    {
     "data": {
      "text/plain": [
       "tensor([[0.0685, 0.0685, 0.0685, 0.0685, 0.0685, 0.0761, 0.0761, 0.0761, 0.0761,\n",
       "         0.0761]], dtype=torch.float64)"
      ]
     },
     "execution_count": 102,
     "metadata": {},
     "output_type": "execute_result"
    }
   ],
   "source": [
    "import torch\n",
    "torch.tensor(data).flip(0) #this doesn't do anyything!"
   ]
  },
  {
   "cell_type": "code",
   "execution_count": null,
   "metadata": {},
   "outputs": [
    {
     "data": {
      "text/plain": [
       "tensor([[0.0761],\n",
       "        [0.0761],\n",
       "        [0.0761],\n",
       "        [0.0761],\n",
       "        [0.0761],\n",
       "        [0.0685],\n",
       "        [0.0685],\n",
       "        [0.0685],\n",
       "        [0.0685],\n",
       "        [0.0685]], dtype=torch.float64)"
      ]
     },
     "execution_count": 103,
     "metadata": {},
     "output_type": "execute_result"
    }
   ],
   "source": [
    "torch.tensor(data).transpose(0,1).flip(0) #actually reverses things now!"
   ]
  },
  {
   "cell_type": "code",
   "execution_count": null,
   "metadata": {},
   "outputs": [],
   "source": [
    "#so I changed the shapes too, now we can restart the server and see what the shapes are like and if this makes sense!\n",
    "#we will also test the pool feature, can see if it works as we expect!!\n",
    "\n",
    "import numpy as np\n",
    "import torch\n",
    "from src.dataloaders.datasets.general_dataset import GeneralDataset\n",
    "\n",
    "dataset = GeneralDataset(\n",
    "    split='train',\n",
    "    preprocess=False,\n",
    "    data_path='/data1/lesliec/sarthak/data/DK_zarr/zarr_arrays/cell_type_arrays/GM12878_DNase.npz',\n",
    "    data_is_zarr=False,\n",
    "    sequences_bed_file='/data1/lesliec/sarthak/data/DK_zarr/sequences_enformer.bed',\n",
    "    length=524288,\n",
    "    pool=128\n",
    ")"
   ]
  },
  {
   "cell_type": "code",
   "execution_count": 2,
   "metadata": {},
   "outputs": [],
   "source": [
    "out = dataset[0]"
   ]
  },
  {
   "cell_type": "code",
   "execution_count": 3,
   "metadata": {},
   "outputs": [
    {
     "data": {
      "text/plain": [
       "torch.Size([5, 524288])"
      ]
     },
     "execution_count": 3,
     "metadata": {},
     "output_type": "execute_result"
    }
   ],
   "source": [
    "out[0].shape"
   ]
  },
  {
   "cell_type": "code",
   "execution_count": 4,
   "metadata": {},
   "outputs": [
    {
     "data": {
      "text/plain": [
       "torch.Size([4096, 1])"
      ]
     },
     "execution_count": 4,
     "metadata": {},
     "output_type": "execute_result"
    }
   ],
   "source": [
    "out[1].shape"
   ]
  },
  {
   "cell_type": "code",
   "execution_count": null,
   "metadata": {},
   "outputs": [
    {
     "data": {
      "text/plain": [
       "4096.0"
      ]
     },
     "execution_count": 5,
     "metadata": {},
     "output_type": "execute_result"
    }
   ],
   "source": [
    "524288/128 #the output shape cuz we did the pooling, makes sense!"
   ]
  },
  {
   "cell_type": "code",
   "execution_count": 6,
   "metadata": {},
   "outputs": [
    {
     "name": "stdout",
     "output_type": "stream",
     "text": [
      "False\n"
     ]
    }
   ],
   "source": [
    "#let's also do rc augmentation\n",
    "dataset = GeneralDataset(\n",
    "    split='train',\n",
    "    preprocess=False,\n",
    "    data_path='/data1/lesliec/sarthak/data/DK_zarr/zarr_arrays/cell_type_arrays/GM12878_DNase.npz',\n",
    "    data_is_zarr=False,\n",
    "    sequences_bed_file='/data1/lesliec/sarthak/data/DK_zarr/sequences_enformer.bed',\n",
    "    length=524288,\n",
    "    pool=128,\n",
    "    rc_aug=True,\n",
    ")\n",
    "out = dataset[0]\n",
    "print(dataset.last_flip)"
   ]
  },
  {
   "cell_type": "code",
   "execution_count": null,
   "metadata": {},
   "outputs": [
    {
     "ename": "IndexError",
     "evalue": "arrays used as indices must be of integer (or boolean) type",
     "output_type": "error",
     "traceback": [
      "\u001b[0;31m---------------------------------------------------------------------------\u001b[0m",
      "\u001b[0;31mIndexError\u001b[0m                                Traceback (most recent call last)",
      "Cell \u001b[0;32mIn[7], line 2\u001b[0m\n\u001b[1;32m      1\u001b[0m \u001b[38;5;66;03m#so in this case it did not flip the last element, let's redo it\u001b[39;00m\n\u001b[0;32m----> 2\u001b[0m data,label \u001b[38;5;241m=\u001b[39m \u001b[43mdataset\u001b[49m\u001b[43m[\u001b[49m\u001b[38;5;241;43m1022\u001b[39;49m\u001b[43m]\u001b[49m\n\u001b[1;32m      3\u001b[0m \u001b[38;5;28mprint\u001b[39m(dataset\u001b[38;5;241m.\u001b[39mlast_flip) \u001b[38;5;66;03m#this is true, so it did flip it\u001b[39;00m\n",
      "File \u001b[0;32m/data1/lesliec/sarthak/caduceus/src/dataloaders/datasets/general_dataset.py:185\u001b[0m, in \u001b[0;36m__getitem__\u001b[0;34m(self, index)\u001b[0m\n\u001b[1;32m    181\u001b[0m         seq \u001b[38;5;241m=\u001b[39m np\u001b[38;5;241m.\u001b[39mconcatenate([leftpad, \u001b[38;5;28mself\u001b[39m\u001b[38;5;241m.\u001b[39mgenome[chrom][start:end], rightpad])\n\u001b[1;32m    184\u001b[0m \u001b[38;5;28;01melse\u001b[39;00m: \u001b[38;5;66;03m#just grab the sequence and data directly\u001b[39;00m\n\u001b[0;32m--> 185\u001b[0m     seq \u001b[38;5;241m=\u001b[39m \u001b[38;5;28mself\u001b[39m\u001b[38;5;241m.\u001b[39mgenome[chrom][start:end]\n\u001b[1;32m    187\u001b[0m \u001b[38;5;28;01mif\u001b[39;00m \u001b[38;5;28mself\u001b[39m\u001b[38;5;241m.\u001b[39mrc_aug \u001b[38;5;129;01mand\u001b[39;00m coin_flip():\n\u001b[1;32m    188\u001b[0m     seq \u001b[38;5;241m=\u001b[39m \u001b[38;5;28mself\u001b[39m\u001b[38;5;241m.\u001b[39mcomplement_array[seq[::\u001b[38;5;241m-\u001b[39m\u001b[38;5;241m1\u001b[39m]]\n",
      "\u001b[0;31mIndexError\u001b[0m: arrays used as indices must be of integer (or boolean) type"
     ]
    }
   ],
   "source": [
    "#so in this case it did not flip the last element, let's redo it\n",
    "data,label = dataset[1022]\n",
    "print(dataset.last_flip) "
   ]
  },
  {
   "cell_type": "code",
   "execution_count": 8,
   "metadata": {},
   "outputs": [
    {
     "data": {
      "text/plain": [
       "524288"
      ]
     },
     "execution_count": 8,
     "metadata": {},
     "output_type": "execute_result"
    }
   ],
   "source": [
    "dataset.length"
   ]
  },
  {
   "cell_type": "code",
   "execution_count": null,
   "metadata": {},
   "outputs": [
    {
     "name": "stdout",
     "output_type": "stream",
     "text": [
      "chr3 10000 141072 train\n"
     ]
    }
   ],
   "source": [
    "#huh why is it going into the thing, it's going into the else statement that should only happen when self.length is none, but it clealry isn't?\n",
    "#also why is it giving this error anyways, that's weird\n",
    "chrom, start, end, split = dataset.sequences.iloc[1022]\n",
    "print(chrom, start, end, split) #yeah this is what we've been using for forever"
   ]
  },
  {
   "cell_type": "code",
   "execution_count": null,
   "metadata": {},
   "outputs": [
    {
     "data": {
      "text/plain": [
       "array([ 8, 10,  7, ...,  7,  7, 10], dtype=int8)"
      ]
     },
     "execution_count": 13,
     "metadata": {},
     "output_type": "execute_result"
    }
   ],
   "source": [
    "dataset.genome[chrom][start:end] #so it works if you call it directly, I think the issue is that it goes both the if and else?\n",
    "#let's reload it and see if it's still an issue, this is strange!"
   ]
  },
  {
   "cell_type": "code",
   "execution_count": null,
   "metadata": {},
   "outputs": [
    {
     "name": "stdout",
     "output_type": "stream",
     "text": [
      "doing cropping\n"
     ]
    },
    {
     "ename": "IndexError",
     "evalue": "arrays used as indices must be of integer (or boolean) type",
     "output_type": "error",
     "traceback": [
      "\u001b[0;31m---------------------------------------------------------------------------\u001b[0m",
      "\u001b[0;31mIndexError\u001b[0m                                Traceback (most recent call last)",
      "Cell \u001b[0;32mIn[1], line 15\u001b[0m\n\u001b[1;32m      3\u001b[0m \u001b[38;5;28;01mfrom\u001b[39;00m \u001b[38;5;21;01msrc\u001b[39;00m\u001b[38;5;21;01m.\u001b[39;00m\u001b[38;5;21;01mdataloaders\u001b[39;00m\u001b[38;5;21;01m.\u001b[39;00m\u001b[38;5;21;01mdatasets\u001b[39;00m\u001b[38;5;21;01m.\u001b[39;00m\u001b[38;5;21;01mgeneral_dataset\u001b[39;00m \u001b[38;5;28;01mimport\u001b[39;00m GeneralDataset\n\u001b[1;32m      5\u001b[0m dataset \u001b[38;5;241m=\u001b[39m GeneralDataset(\n\u001b[1;32m      6\u001b[0m     split\u001b[38;5;241m=\u001b[39m\u001b[38;5;124m'\u001b[39m\u001b[38;5;124mtrain\u001b[39m\u001b[38;5;124m'\u001b[39m,\n\u001b[1;32m      7\u001b[0m     preprocess\u001b[38;5;241m=\u001b[39m\u001b[38;5;28;01mFalse\u001b[39;00m,\n\u001b[0;32m   (...)\u001b[0m\n\u001b[1;32m     13\u001b[0m     rc_aug\u001b[38;5;241m=\u001b[39m\u001b[38;5;28;01mTrue\u001b[39;00m,\n\u001b[1;32m     14\u001b[0m )\n\u001b[0;32m---> 15\u001b[0m out \u001b[38;5;241m=\u001b[39m \u001b[43mdataset\u001b[49m\u001b[43m[\u001b[49m\u001b[38;5;241;43m1022\u001b[39;49m\u001b[43m]\u001b[49m\n\u001b[1;32m     16\u001b[0m \u001b[38;5;28mprint\u001b[39m(dataset\u001b[38;5;241m.\u001b[39mlast_flip)\n",
      "File \u001b[0;32m/data1/lesliec/sarthak/caduceus/src/dataloaders/datasets/general_dataset.py:190\u001b[0m, in \u001b[0;36mGeneralDataset.__getitem__\u001b[0;34m(self, index)\u001b[0m\n\u001b[1;32m    187\u001b[0m     seq \u001b[38;5;241m=\u001b[39m \u001b[38;5;28mself\u001b[39m\u001b[38;5;241m.\u001b[39mgenome[chrom][start:end]\n\u001b[1;32m    189\u001b[0m \u001b[38;5;28;01mif\u001b[39;00m \u001b[38;5;28mself\u001b[39m\u001b[38;5;241m.\u001b[39mrc_aug \u001b[38;5;129;01mand\u001b[39;00m coin_flip():\n\u001b[0;32m--> 190\u001b[0m     seq \u001b[38;5;241m=\u001b[39m \u001b[38;5;28;43mself\u001b[39;49m\u001b[38;5;241;43m.\u001b[39;49m\u001b[43mcomplement_array\u001b[49m\u001b[43m[\u001b[49m\u001b[43mseq\u001b[49m\u001b[43m[\u001b[49m\u001b[43m:\u001b[49m\u001b[43m:\u001b[49m\u001b[38;5;241;43m-\u001b[39;49m\u001b[38;5;241;43m1\u001b[39;49m\u001b[43m]\u001b[49m\u001b[43m]\u001b[49m\n\u001b[1;32m    191\u001b[0m     flip \u001b[38;5;241m=\u001b[39m \u001b[38;5;28;01mTrue\u001b[39;00m\n\u001b[1;32m    192\u001b[0m     \u001b[38;5;28mself\u001b[39m\u001b[38;5;241m.\u001b[39mlast_flip \u001b[38;5;241m=\u001b[39m \u001b[38;5;28;01mTrue\u001b[39;00m\n",
      "\u001b[0;31mIndexError\u001b[0m: arrays used as indices must be of integer (or boolean) type"
     ]
    }
   ],
   "source": [
    "import numpy as np\n",
    "import torch\n",
    "from src.dataloaders.datasets.general_dataset import GeneralDataset\n",
    "\n",
    "dataset = GeneralDataset(\n",
    "    split='train',\n",
    "    preprocess=False,\n",
    "    data_path='/data1/lesliec/sarthak/data/DK_zarr/zarr_arrays/cell_type_arrays/GM12878_DNase.npz',\n",
    "    data_is_zarr=False,\n",
    "    sequences_bed_file='/data1/lesliec/sarthak/data/DK_zarr/sequences_enformer.bed',\n",
    "    length=524288,\n",
    "    pool=128,\n",
    "    rc_aug=True,\n",
    ")\n",
    "out = dataset[1022]\n",
    "print(dataset.last_flip)\n",
    "\n",
    "#ok mismatch was what was imported was different, so pointed to the wrong line!! that's why don't edit after make it"
   ]
  },
  {
   "cell_type": "code",
   "execution_count": 3,
   "metadata": {},
   "outputs": [
    {
     "data": {
      "text/plain": [
       "array([ 0,  0,  0,  0,  0,  0,  0, 10,  9,  8,  7, 11])"
      ]
     },
     "execution_count": 3,
     "metadata": {},
     "output_type": "execute_result"
    }
   ],
   "source": [
    "chrom, start, end, split = dataset.sequences.iloc[1022]\n",
    "seq = dataset.genome[chrom][start:end]\n",
    "dataset.complement_array"
   ]
  },
  {
   "cell_type": "code",
   "execution_count": 4,
   "metadata": {},
   "outputs": [
    {
     "data": {
      "text/plain": [
       "array([ 8, 10,  7, ...,  7,  7, 10], dtype=int8)"
      ]
     },
     "execution_count": 4,
     "metadata": {},
     "output_type": "execute_result"
    }
   ],
   "source": [
    "seq"
   ]
  },
  {
   "cell_type": "code",
   "execution_count": null,
   "metadata": {},
   "outputs": [
    {
     "data": {
      "text/plain": [
       "array([ 9,  7, 10, ..., 10, 10,  7])"
      ]
     },
     "execution_count": 5,
     "metadata": {},
     "output_type": "execute_result"
    }
   ],
   "source": [
    "dataset.complement_array[seq]"
   ]
  },
  {
   "cell_type": "code",
   "execution_count": null,
   "metadata": {},
   "outputs": [
    {
     "data": {
      "text/plain": [
       "array([ 7, 10, 10, ..., 10,  7,  9])"
      ]
     },
     "execution_count": 6,
     "metadata": {},
     "output_type": "execute_result"
    }
   ],
   "source": [
    "dataset.complement_array[seq[::-1]] #so this works, the issue is with padding somehow it runs into an issue, let's manually pad"
   ]
  },
  {
   "cell_type": "code",
   "execution_count": 7,
   "metadata": {},
   "outputs": [
    {
     "name": "stdout",
     "output_type": "stream",
     "text": [
      "393216 -186608 337680\n"
     ]
    }
   ],
   "source": [
    "leftpad = np.zeros(0)\n",
    "rightpad = np.zeros(0)\n",
    "if dataset.length is not None:\n",
    "    diff = dataset.length - (end - start)\n",
    "    if diff > 0:\n",
    "        start = start - diff // 2\n",
    "        end = end + diff // 2\n",
    "        print(diff, start, end)\n",
    "        if start < 0:\n",
    "            leftpad = np.ones(-start)*11\n",
    "            start = 0\n",
    "        chromlen = dataset.genome[chrom].shape[0]\n",
    "        if end > chromlen:\n",
    "            rightpad = np.ones(end-chromlen)*11\n",
    "            end = chromlen\n",
    "        seq = np.concatenate([leftpad, dataset.genome[chrom][start:end], rightpad])"
   ]
  },
  {
   "cell_type": "code",
   "execution_count": null,
   "metadata": {},
   "outputs": [
    {
     "data": {
      "text/plain": [
       "dtype('float64')"
      ]
     },
     "execution_count": 9,
     "metadata": {},
     "output_type": "execute_result"
    }
   ],
   "source": [
    "seq.dtype #yeah so that's the issue, the left and rightpad are float64, we can make it int8 I guess?"
   ]
  },
  {
   "cell_type": "code",
   "execution_count": null,
   "metadata": {},
   "outputs": [
    {
     "data": {
      "text/plain": [
       "dtype('float64')"
      ]
     },
     "execution_count": 10,
     "metadata": {},
     "output_type": "execute_result"
    }
   ],
   "source": [
    "np.zeros(0).dtype #yeah that's the default, now this makes sense!"
   ]
  },
  {
   "cell_type": "code",
   "execution_count": 1,
   "metadata": {},
   "outputs": [
    {
     "name": "stdout",
     "output_type": "stream",
     "text": [
      "True\n"
     ]
    }
   ],
   "source": [
    "#now restart and do it again!\n",
    "\n",
    "import numpy as np\n",
    "import torch\n",
    "from src.dataloaders.datasets.general_dataset import GeneralDataset\n",
    "\n",
    "dataset = GeneralDataset(\n",
    "    split='train',\n",
    "    preprocess=False,\n",
    "    data_path='/data1/lesliec/sarthak/data/DK_zarr/zarr_arrays/cell_type_arrays/GM12878_DNase.npz',\n",
    "    data_is_zarr=False,\n",
    "    sequences_bed_file='/data1/lesliec/sarthak/data/DK_zarr/sequences_enformer.bed',\n",
    "    length=524288,\n",
    "    pool=128,\n",
    "    rc_aug=True,\n",
    ")\n",
    "out = dataset[1022]\n",
    "print(dataset.last_flip)"
   ]
  },
  {
   "cell_type": "code",
   "execution_count": 9,
   "metadata": {},
   "outputs": [
    {
     "data": {
      "text/plain": [
       "(torch.Size([5, 524288]), torch.Size([4096, 1]))"
      ]
     },
     "execution_count": 9,
     "metadata": {},
     "output_type": "execute_result"
    }
   ],
   "source": [
    "out[0].shape, out[1].shape #this is correct, so now we can check the rc augmentation"
   ]
  },
  {
   "cell_type": "code",
   "execution_count": 2,
   "metadata": {},
   "outputs": [
    {
     "name": "stdout",
     "output_type": "stream",
     "text": [
      "(337680,)\n"
     ]
    }
   ],
   "source": [
    "#now let's verify this is actually the reverse complement and what we would expect\n",
    "start = -186608\n",
    "end = 337680\n",
    "chrom = 'chr13'\n",
    "seq = dataset.genome[chrom][0:end]\n",
    "print(seq.shape)"
   ]
  },
  {
   "cell_type": "code",
   "execution_count": null,
   "metadata": {},
   "outputs": [
    {
     "data": {
      "text/plain": [
       "tensor([     0.,      0.,      0.,      0., 186608.])"
      ]
     },
     "execution_count": 5,
     "metadata": {},
     "output_type": "execute_result"
    }
   ],
   "source": [
    "#note that we will have a ton of values that are 11 that are now at the end cuz it's flipped\n",
    "#let's verify all those values are 11\n",
    "out[0][:,start:].sum(1) #all just Ns"
   ]
  },
  {
   "cell_type": "code",
   "execution_count": null,
   "metadata": {},
   "outputs": [
    {
     "data": {
      "text/plain": [
       "tensor([ 91326.,  55809.,  54405.,  88460., 196608.])"
      ]
     },
     "execution_count": 7,
     "metadata": {},
     "output_type": "execute_result"
    }
   ],
   "source": [
    "out[0][:,start-300000:].sum(1) #all just Ns"
   ]
  },
  {
   "cell_type": "code",
   "execution_count": null,
   "metadata": {},
   "outputs": [
    {
     "data": {
      "text/plain": [
       "tensor([     0,      5,      1,      7, 327680])"
      ]
     },
     "execution_count": 8,
     "metadata": {},
     "output_type": "execute_result"
    }
   ],
   "source": [
    "#now turn the one hot into a vector of the index\n"
   ]
  },
  {
   "cell_type": "code",
   "execution_count": null,
   "metadata": {},
   "outputs": [
    {
     "data": {
      "text/plain": [
       "[<matplotlib.lines.Line2D at 0x7f3dde9368d0>]"
      ]
     },
     "execution_count": 10,
     "metadata": {},
     "output_type": "execute_result"
    },
    {
     "data": {
      "image/png": "[encoded data removed]",
      "text/plain": [
       "<Figure size 640x480 with 1 Axes>"
      ]
     },
     "metadata": {},
     "output_type": "display_data"
    }
   ],
   "source": [
    "collapsed = np.argmax(out[0], axis=0)\n",
    "import matplotlib.pyplot as plt\n",
    "plt.plot(collapsed) #yeah all the end values are as expected, simply just Ns!!!!"
   ]
  },
  {
   "cell_type": "code",
   "execution_count": 11,
   "metadata": {},
   "outputs": [
    {
     "data": {
      "text/plain": [
       "array([11, 11, 11, 11, 11, 11, 11, 11, 11, 11, 11, 11, 11, 11, 11, 11, 11,\n",
       "       11, 11, 11, 11, 11, 11, 11, 11, 11, 11, 11, 11, 11, 11, 11, 11, 11,\n",
       "       11, 11, 11, 11, 11, 11, 11, 11, 11, 11, 11, 11, 11, 11, 11, 11, 11,\n",
       "       11, 11, 11, 11, 11, 11, 11, 11, 11, 11, 11, 11, 11, 11, 11, 11, 11,\n",
       "       11, 11, 11, 11, 11, 11, 11, 11, 11, 11, 11, 11, 11, 11, 11, 11, 11,\n",
       "       11, 11, 11, 11, 11, 11, 11, 11, 11, 11, 11, 11, 11, 11, 11],\n",
       "      dtype=int8)"
      ]
     },
     "execution_count": 11,
     "metadata": {},
     "output_type": "execute_result"
    }
   ],
   "source": [
    "#now let's look at some of the values\n",
    "seq_reversed = seq[::-1]\n",
    "seq_reversed[:100]"
   ]
  },
  {
   "cell_type": "code",
   "execution_count": null,
   "metadata": {},
   "outputs": [
    {
     "data": {
      "text/plain": [
       "array([11], dtype=int8)"
      ]
     },
     "execution_count": 18,
     "metadata": {},
     "output_type": "execute_result"
    }
   ],
   "source": [
    "np.unique(seq) #wait wtf, somethis is wrong"
   ]
  },
  {
   "cell_type": "code",
   "execution_count": 19,
   "metadata": {},
   "outputs": [
    {
     "data": {
      "text/plain": [
       "(337680,)"
      ]
     },
     "execution_count": 19,
     "metadata": {},
     "output_type": "execute_result"
    }
   ],
   "source": [
    "seq.shape"
   ]
  },
  {
   "cell_type": "code",
   "execution_count": null,
   "metadata": {},
   "outputs": [
    {
     "data": {
      "text/plain": [
       "array([11], dtype=int8)"
      ]
     },
     "execution_count": 23,
     "metadata": {},
     "output_type": "execute_result"
    }
   ],
   "source": [
    "# dataset.genome['chr13'][:337680] #this is the original sequence, so it should have lots of unique values\n",
    "np.unique(dataset.genome['chr13'][:3337680]) #why is there N values all the way until 3.3 million?? if go to 30 million then you see some real values, this is strange when data clealry not like that"
   ]
  },
  {
   "cell_type": "code",
   "execution_count": null,
   "metadata": {},
   "outputs": [
    {
     "name": "stdout",
     "output_type": "stream",
     "text": [
      "chr3 10000 141072 train\n"
     ]
    }
   ],
   "source": [
    "chrom, start, end, split = dataset.sequences.iloc[1022]\n",
    "print(chrom, start, end, split) #this is the one we are using\n",
    "#oh we're using th ewrong chromosome lmfaoooo"
   ]
  },
  {
   "cell_type": "code",
   "execution_count": 26,
   "metadata": {},
   "outputs": [],
   "source": [
    "start = -186608\n",
    "end = 337680\n",
    "seq = dataset.genome['chr3'][0:end]\n",
    "seq_reversed = seq[::-1]"
   ]
  },
  {
   "cell_type": "code",
   "execution_count": 27,
   "metadata": {},
   "outputs": [
    {
     "data": {
      "text/plain": [
       "array([10,  8,  8,  8, 10,  9, 10,  7,  8,  8,  7,  7,  8, 10, 10,  8,  9,\n",
       "        7,  8, 10, 10, 10, 10,  9,  9, 10,  7,  9, 10,  7,  7, 10,  7,  9,\n",
       "       10,  8,  9, 10, 10, 10,  7,  7, 10,  7,  9,  8,  9, 10, 10,  8,  8,\n",
       "       10,  9, 10, 10, 10, 10, 10, 10,  9,  9, 10, 10, 10,  9, 10,  7,  7,\n",
       "        8,  9, 10,  7,  8,  7,  7,  9,  7,  9, 10,  9,  7,  9, 10,  7, 10,\n",
       "       10,  8,  7,  8,  8,  8, 10, 10,  7,  7,  8, 10, 10,  9, 10],\n",
       "      dtype=int8)"
      ]
     },
     "execution_count": 27,
     "metadata": {},
     "output_type": "execute_result"
    }
   ],
   "source": [
    "seq_reversed[:100]"
   ]
  },
  {
   "cell_type": "code",
   "execution_count": null,
   "metadata": {},
   "outputs": [
    {
     "data": {
      "text/plain": [
       "tensor([ 7,  9,  9,  9,  7,  8,  7, 10,  9,  9, 10, 10,  9,  7,  7,  9,  8, 10,\n",
       "         9,  7,  7,  7,  7,  8,  8,  7, 10,  8,  7, 10, 10,  7, 10,  8,  7,  9,\n",
       "         8,  7,  7,  7, 10, 10,  7, 10,  8,  9,  8,  7,  7,  9,  9,  7,  8,  7,\n",
       "         7,  7,  7,  7,  7,  8,  8,  7,  7,  7,  8,  7, 10, 10,  9,  8,  7, 10,\n",
       "         9, 10, 10,  8, 10,  8,  7,  8, 10,  8,  7, 10,  7,  7,  9, 10,  9,  9,\n",
       "         9,  7,  7, 10, 10,  9,  7,  7,  8,  7])"
      ]
     },
     "execution_count": 29,
     "metadata": {},
     "output_type": "execute_result"
    }
   ],
   "source": [
    "collapsed[:100]+7"
   ]
  },
  {
   "cell_type": "code",
   "execution_count": 33,
   "metadata": {},
   "outputs": [],
   "source": [
    "#we can clealry see it's the ocmplement, so after reversed, all the complement stuff!!\n",
    "complements = {7:10, 8:9, 9:8, 10:7, 11:11}\n",
    "for i,s in enumerate(seq_reversed):\n",
    "    if complements[s] != collapsed[i]+7:\n",
    "        print(i, s, collapsed[i])\n",
    "        break"
   ]
  },
  {
   "cell_type": "code",
   "execution_count": 34,
   "metadata": {},
   "outputs": [
    {
     "data": {
      "text/plain": [
       "torch.Size([4096, 1])"
      ]
     },
     "execution_count": 34,
     "metadata": {},
     "output_type": "execute_result"
    }
   ],
   "source": [
    "#RC obviously works, now let's test the pooling\n",
    "\n",
    "#we still have the output, let's reverse it and then compare\n",
    "out[1].shape"
   ]
  },
  {
   "cell_type": "code",
   "execution_count": 37,
   "metadata": {},
   "outputs": [
    {
     "data": {
      "text/plain": [
       "(1, 337680)"
      ]
     },
     "execution_count": 37,
     "metadata": {},
     "output_type": "execute_result"
    }
   ],
   "source": [
    "data = dataset.data[chrom][:,0:end]\n",
    "data.shape"
   ]
  },
  {
   "cell_type": "code",
   "execution_count": 38,
   "metadata": {},
   "outputs": [
    {
     "name": "stdout",
     "output_type": "stream",
     "text": [
      "(337680,) torch.Size([4096])\n"
     ]
    }
   ],
   "source": [
    "data = data[0]\n",
    "tdata = out[1][:,0]\n",
    "print(data.shape, tdata.shape)"
   ]
  },
  {
   "cell_type": "code",
   "execution_count": 39,
   "metadata": {},
   "outputs": [
    {
     "data": {
      "text/plain": [
       "0.0"
      ]
     },
     "execution_count": 39,
     "metadata": {},
     "output_type": "execute_result"
    }
   ],
   "source": [
    "#now let's compare the values\n",
    "data_rev = data[::-1]\n",
    "data_rev[:128].mean()"
   ]
  },
  {
   "cell_type": "code",
   "execution_count": 40,
   "metadata": {},
   "outputs": [
    {
     "data": {
      "text/plain": [
       "tensor(0.)"
      ]
     },
     "execution_count": 40,
     "metadata": {},
     "output_type": "execute_result"
    }
   ],
   "source": [
    "tdata[0]"
   ]
  },
  {
   "cell_type": "code",
   "execution_count": null,
   "metadata": {},
   "outputs": [
    {
     "data": {
      "text/plain": [
       "tensor([0.0000, 0.0000, 0.0000, 0.0102, 0.0285, 0.0459, 0.0785, 0.0381, 0.0745,\n",
       "        0.0599, 0.0455, 0.0575, 0.0749, 0.0382, 0.0280, 0.0302, 0.0655, 0.0846,\n",
       "        0.0939, 0.0572, 0.0494, 0.0271, 0.0177, 0.0212, 0.0146, 0.0463, 0.0275,\n",
       "        0.0000, 0.0000, 0.0324, 0.0372, 0.0435, 0.0211, 0.0401, 0.0849, 0.0337,\n",
       "        0.0466, 0.1297, 0.0964, 0.0720, 0.0996, 0.0721, 0.0763, 0.1380, 0.1773,\n",
       "        0.0247, 0.0625, 0.0951, 0.0235, 0.0160, 0.0451, 0.1106, 0.1900, 0.1976,\n",
       "        0.2323, 0.1199, 0.0707, 0.0597, 0.1011, 0.0909, 0.1084, 0.1199, 0.0471,\n",
       "        0.0666, 0.0818, 0.1048, 0.1054, 0.1202, 0.1249, 0.1123, 0.1041, 0.0447,\n",
       "        0.0505, 0.0656, 0.1027, 0.0241, 0.0249, 0.0187, 0.0090, 0.0261, 0.0370,\n",
       "        0.0509, 0.0463, 0.0530, 0.0716, 0.0600, 0.0962, 0.0681, 0.0855, 0.0735,\n",
       "        0.0583, 0.0322, 0.0461, 0.0870, 0.0563, 0.0220, 0.0204, 0.0364, 0.0487,\n",
       "        0.0941])"
      ]
     },
     "execution_count": 42,
     "metadata": {},
     "output_type": "execute_result"
    }
   ],
   "source": [
    "tdata[:100] #starting from value 3"
   ]
  },
  {
   "cell_type": "code",
   "execution_count": 43,
   "metadata": {},
   "outputs": [
    {
     "data": {
      "text/plain": [
       "0.010172009468078613"
      ]
     },
     "execution_count": 43,
     "metadata": {},
     "output_type": "execute_result"
    }
   ],
   "source": [
    "s = 128*3\n",
    "data_rev[s:s+128].mean() #this is the mean of the pooled values, so it should be the same as the target"
   ]
  },
  {
   "cell_type": "code",
   "execution_count": null,
   "metadata": {},
   "outputs": [
    {
     "data": {
      "text/plain": [
       "0.028488755226135254"
      ]
     },
     "execution_count": 44,
     "metadata": {},
     "output_type": "execute_result"
    }
   ],
   "source": [
    "#let's check the next one\n",
    "s = 128*4\n",
    "data_rev[s:s+128].mean() #this is indeed correct. LEt's finalize it by checking some of th elast values"
   ]
  },
  {
   "cell_type": "code",
   "execution_count": 45,
   "metadata": {},
   "outputs": [
    {
     "data": {
      "text/plain": [
       "tensor([0., 0., 0., 0., 0., 0., 0., 0., 0., 0., 0., 0., 0., 0., 0., 0., 0., 0., 0., 0., 0., 0., 0., 0.,\n",
       "        0., 0., 0., 0., 0., 0., 0., 0., 0., 0., 0., 0., 0., 0., 0., 0., 0., 0., 0., 0., 0., 0., 0., 0.,\n",
       "        0., 0., 0., 0., 0., 0., 0., 0., 0., 0., 0., 0., 0., 0., 0., 0., 0., 0., 0., 0., 0., 0., 0., 0.,\n",
       "        0., 0., 0., 0., 0., 0., 0., 0., 0., 0., 0., 0., 0., 0., 0., 0., 0., 0., 0., 0., 0., 0., 0., 0.,\n",
       "        0., 0., 0., 0.])"
      ]
     },
     "execution_count": 45,
     "metadata": {},
     "output_type": "execute_result"
    }
   ],
   "source": [
    "tdata[-100:]"
   ]
  },
  {
   "cell_type": "code",
   "execution_count": null,
   "metadata": {},
   "outputs": [
    {
     "data": {
      "text/plain": [
       "0.008183289547355808"
      ]
     },
     "execution_count": 48,
     "metadata": {},
     "output_type": "execute_result"
    }
   ],
   "source": [
    "#all zeros\n",
    "data_rev[-98*128:].mean() #this should also be zero, why isn't it?"
   ]
  },
  {
   "cell_type": "code",
   "execution_count": 49,
   "metadata": {},
   "outputs": [
    {
     "data": {
      "text/plain": [
       "(337680,)"
      ]
     },
     "execution_count": 49,
     "metadata": {},
     "output_type": "execute_result"
    }
   ],
   "source": [
    "#oh because we have all the appended values! This makes it hard, we can make a true one where we append a bunch of zeros\n",
    "data_rev.shape"
   ]
  },
  {
   "cell_type": "code",
   "execution_count": 50,
   "metadata": {},
   "outputs": [
    {
     "data": {
      "text/plain": [
       "0.0"
      ]
     },
     "execution_count": 50,
     "metadata": {},
     "output_type": "execute_result"
    }
   ],
   "source": [
    "true_data = np.zeros(524288)\n",
    "true_data[:data_rev.shape[0]] = data_rev\n",
    "true_data[-100*128:].mean() #this is indeed zero, so now we can check the last values"
   ]
  },
  {
   "cell_type": "code",
   "execution_count": null,
   "metadata": {},
   "outputs": [
    {
     "data": {
      "text/plain": [
       "2558"
      ]
     },
     "execution_count": 52,
     "metadata": {},
     "output_type": "execute_result"
    }
   ],
   "source": [
    "#find the last element of tdata that is not zero\n",
    "last_nonzero = np.where(tdata != 0)[0][-1]\n",
    "last_nonzero #this is it"
   ]
  },
  {
   "cell_type": "code",
   "execution_count": 53,
   "metadata": {},
   "outputs": [
    {
     "data": {
      "text/plain": [
       "tensor(0.0042)"
      ]
     },
     "execution_count": 53,
     "metadata": {},
     "output_type": "execute_result"
    }
   ],
   "source": [
    "tdata[2558]"
   ]
  },
  {
   "cell_type": "code",
   "execution_count": 55,
   "metadata": {},
   "outputs": [
    {
     "data": {
      "text/plain": [
       "0.004223465919494629"
      ]
     },
     "execution_count": 55,
     "metadata": {},
     "output_type": "execute_result"
    }
   ],
   "source": [
    "#now check the true data\n",
    "s = 2558\n",
    "true_data[s*128:(s+1)*128].mean() #this is indeed correct, so we can see that the pooling works as expected"
   ]
  },
  {
   "cell_type": "code",
   "execution_count": null,
   "metadata": {},
   "outputs": [
    {
     "data": {
      "text/plain": [
       "0.028488755226135254"
      ]
     },
     "execution_count": 56,
     "metadata": {},
     "output_type": "execute_result"
    }
   ],
   "source": [
    "#works like a charm!! jkust check some last values\n",
    "s = 128*4\n",
    "true_data[s:s+128].mean() #perfeclty fine!!!!"
   ]
  },
  {
   "cell_type": "code",
   "execution_count": 57,
   "metadata": {},
   "outputs": [
    {
     "name": "stdout",
     "output_type": "stream",
     "text": [
      "torch.Size([5, 524288]) torch.float32\n",
      "torch.Size([4096, 1]) torch.float32\n"
     ]
    }
   ],
   "source": [
    "out = dataset[1022]\n",
    "print(out[0].shape, out[0].dtype)\n",
    "print(out[1].shape, out[1].dtype)"
   ]
  },
  {
   "cell_type": "code",
   "execution_count": null,
   "metadata": {},
   "outputs": [
    {
     "data": {
      "text/plain": [
       "tensor([[0., 0., 0.,  ..., 0., 0., 0.],\n",
       "        [0., 0., 0.,  ..., 1., 1., 0.],\n",
       "        [0., 0., 0.,  ..., 0., 0., 0.],\n",
       "        [0., 0., 0.,  ..., 0., 0., 1.],\n",
       "        [1., 1., 1.,  ..., 0., 0., 0.]])"
      ]
     },
     "execution_count": 58,
     "metadata": {},
     "output_type": "execute_result"
    }
   ],
   "source": [
    "out[0] #5 is N, this is good!"
   ]
  },
  {
   "cell_type": "markdown",
   "metadata": {},
   "source": [
    "# so it works, we can confirm this approach makes sense!\n",
    "\n",
    "Now difficult part is deciding how to mask and combine the data"
   ]
  },
  {
   "cell_type": "code",
   "execution_count": 62,
   "metadata": {},
   "outputs": [
    {
     "name": "stdout",
     "output_type": "stream",
     "text": [
      "torch.Size([6, 5])\n"
     ]
    }
   ],
   "source": [
    "#we worked on and made this function, we need to test it\n",
    "\n",
    "def mask_data(seq, mask_pct=0.15):\n",
    "    \"\"\"This function will mask the data, it does the BERT masking where you do 80% truly masked, 10% random, 10% unchanged\n",
    "    Note that for random replacement, it cannot be the N token, sicne it's very rare anyways, always random nucleotide!\n",
    "    Args:\n",
    "        seq: the sequence to mask, this is a tensor of shape (length, 5) if one hot encoding\n",
    "        mask_pct: the percentage of the sequence to mask, default is 0.15 or 15%\n",
    "    Returns:\n",
    "        seq: the masked sequence, this is a tensor of shape (length, 6) if one hot encoding, where the last column is the mask track (only tells if masked, some are random or unchanged)\n",
    "        seq_unmask: the unmasked sequence, this is a tensor of shape (length, 6), where the last column is the mask track (tells all elements that have been changed)\n",
    "    \"\"\"\n",
    "    # Create a probability vector (one per token) and sample which tokens to mask\n",
    "    probability_matrix = torch.full((seq.shape[0],), mask_pct) #size of length, defines for each element if we mask it or not\n",
    "    masked_indices = torch.bernoulli(probability_matrix).bool() #finds which indices to mask, so shape is length, and is True or False for each index\n",
    "\n",
    "    # Append the mask track to the sequence, resulting in a tensor of shape [seq_len, 6],\n",
    "    # where the last column is the mask track\n",
    "    seq_unmask = torch.cat([seq, masked_indices.unsqueeze(1).float()], dim=1) #so now seq_unmask is shape length x 6, where 6 is the 5 one hot classes and the mask\n",
    "\n",
    "    # Get positions that were chosen to be masked\n",
    "    all_mask_positions = torch.nonzero(masked_indices).squeeze()\n",
    "    num_masked = all_mask_positions.numel()\n",
    "    \n",
    "    # Determine counts for the three groups: 80% truly masked, 10% random, 10% unchanged\n",
    "    num_mask = int(0.8 * num_masked)\n",
    "    num_random = int(0.1 * num_masked)\n",
    "    # To avoid rounding issues, let the remaining be unchanged\n",
    "    # num_unchanged = num_masked - num_mask - num_random\n",
    "    \n",
    "    # Shuffle the masked positions to randomly assign each to a category\n",
    "    permuted = all_mask_positions[torch.randperm(num_masked)]\n",
    "    mask_positions = permuted[:num_mask]  # 80%: replace with mask token\n",
    "    random_positions = permuted[num_mask:num_mask+num_random]  # 10%: random token\n",
    "    unchanged_positions = permuted[num_mask+num_random:]  # 10%: leave as is\n",
    "    \n",
    "    seq_masked = seq_unmask.clone()  # Create a copy to modify, note that the mask track should be 0 for ones where it's not masked but is random or unchanged\n",
    "    seq_masked[mask_positions, :-1] = 0  # Set to zero for every class but the last (tells it it's masked)\n",
    "    \n",
    "    random_tokens = torch.randint(0, 4, (random_positions.numel(),))\n",
    "    random_one_hot = torch.zeros((random_positions.numel(), 4))\n",
    "    random_one_hot.scatter_(1, random_tokens.unsqueeze(1), 1.0)\n",
    "    seq_masked[random_positions, :4] = random_one_hot\n",
    "    #and remove the masked value, it doesn't know it's masked\n",
    "    seq_masked[random_positions, -1] = 0\n",
    "    \n",
    "    #and we remove the mask token from the unchanged value\n",
    "    seq_masked[unchanged_positions, -1] = 0\n",
    "    # seq = seq_masked #now we have the masked sequence, so we can use this for the rest of the processing\n",
    "    \n",
    "    return seq_masked, seq_unmask #return the masked sequence and the unmasked sequence, so we can use it for the rest of the processing\n",
    "\n",
    "test_seq = [[1,0,0,0,0],[0,1,0,0,0],[0,0,1,0,0],[0,0,0,1,0],[0,0,0,0,1],[0,0,0,0,1]] #ACGTNN\n",
    "test_seq = torch.tensor(test_seq, dtype=torch.float32)\n",
    "print(test_seq.shape)\n",
    "\n"
   ]
  },
  {
   "cell_type": "code",
   "execution_count": 64,
   "metadata": {},
   "outputs": [
    {
     "ename": "IndexError",
     "evalue": "too many indices for tensor of dimension 0",
     "output_type": "error",
     "traceback": [
      "\u001b[0;31m---------------------------------------------------------------------------\u001b[0m",
      "\u001b[0;31mIndexError\u001b[0m                                Traceback (most recent call last)",
      "Cell \u001b[0;32mIn[64], line 2\u001b[0m\n\u001b[1;32m      1\u001b[0m \u001b[38;5;66;03m#should be shape length x 5 which it is, so we can input it\u001b[39;00m\n\u001b[0;32m----> 2\u001b[0m masked_seq, unmasked_seq \u001b[38;5;241m=\u001b[39m \u001b[43mmask_data\u001b[49m\u001b[43m(\u001b[49m\u001b[43mtest_seq\u001b[49m\u001b[43m,\u001b[49m\u001b[43m \u001b[49m\u001b[43mmask_pct\u001b[49m\u001b[38;5;241;43m=\u001b[39;49m\u001b[38;5;241;43m0.5\u001b[39;49m\u001b[43m)\u001b[49m\n\u001b[1;32m      3\u001b[0m \u001b[38;5;28mprint\u001b[39m(masked_seq\u001b[38;5;241m.\u001b[39mshape) \u001b[38;5;66;03m#should be length x 6, so 5 for the one hot and 1 for the mask track\u001b[39;00m\n",
      "Cell \u001b[0;32mIn[62], line 32\u001b[0m, in \u001b[0;36mmask_data\u001b[0;34m(seq, mask_pct)\u001b[0m\n\u001b[1;32m     27\u001b[0m num_random \u001b[38;5;241m=\u001b[39m \u001b[38;5;28mint\u001b[39m(\u001b[38;5;241m0.1\u001b[39m \u001b[38;5;241m*\u001b[39m num_masked)\n\u001b[1;32m     28\u001b[0m \u001b[38;5;66;03m# To avoid rounding issues, let the remaining be unchanged\u001b[39;00m\n\u001b[1;32m     29\u001b[0m \u001b[38;5;66;03m# num_unchanged = num_masked - num_mask - num_random\u001b[39;00m\n\u001b[1;32m     30\u001b[0m \n\u001b[1;32m     31\u001b[0m \u001b[38;5;66;03m# Shuffle the masked positions to randomly assign each to a category\u001b[39;00m\n\u001b[0;32m---> 32\u001b[0m permuted \u001b[38;5;241m=\u001b[39m \u001b[43mall_mask_positions\u001b[49m\u001b[43m[\u001b[49m\u001b[43mtorch\u001b[49m\u001b[38;5;241;43m.\u001b[39;49m\u001b[43mrandperm\u001b[49m\u001b[43m(\u001b[49m\u001b[43mnum_masked\u001b[49m\u001b[43m)\u001b[49m\u001b[43m]\u001b[49m\n\u001b[1;32m     33\u001b[0m mask_positions \u001b[38;5;241m=\u001b[39m permuted[:num_mask]  \u001b[38;5;66;03m# 80%: replace with mask token\u001b[39;00m\n\u001b[1;32m     34\u001b[0m random_positions \u001b[38;5;241m=\u001b[39m permuted[num_mask:num_mask\u001b[38;5;241m+\u001b[39mnum_random]  \u001b[38;5;66;03m# 10%: random token\u001b[39;00m\n",
      "\u001b[0;31mIndexError\u001b[0m: too many indices for tensor of dimension 0"
     ]
    }
   ],
   "source": [
    "#should be shape length x 5 which it is, so we can input it\n",
    "masked_seq, unmasked_seq = mask_data(test_seq, mask_pct=0.5)\n",
    "print(masked_seq.shape) #should be length x 6, so 5 for the one hot and 1 for the mask track"
   ]
  },
  {
   "cell_type": "code",
   "execution_count": 65,
   "metadata": {},
   "outputs": [
    {
     "name": "stdout",
     "output_type": "stream",
     "text": [
      "tensor([0.5000, 0.5000, 0.5000, 0.5000, 0.5000, 0.5000])\n"
     ]
    }
   ],
   "source": [
    "#hmmmm, seems we have some issues, let's manually go through and test it\n",
    "seq = test_seq.clone()\n",
    "mask_pct = 0.5\n",
    "probability_matrix = torch.full((seq.shape[0],), mask_pct)\n",
    "masked_indices = torch.bernoulli(probability_matrix).bool()\n",
    "print(probability_matrix)"
   ]
  },
  {
   "cell_type": "code",
   "execution_count": null,
   "metadata": {},
   "outputs": [
    {
     "name": "stdout",
     "output_type": "stream",
     "text": [
      "tensor([ True,  True, False, False,  True,  True])\n"
     ]
    }
   ],
   "source": [
    "print(masked_indices) #yeah this is exactly what we'd exxpect"
   ]
  },
  {
   "cell_type": "code",
   "execution_count": 67,
   "metadata": {},
   "outputs": [
    {
     "name": "stdout",
     "output_type": "stream",
     "text": [
      "tensor([0, 1, 4, 5])\n",
      "4\n"
     ]
    }
   ],
   "source": [
    "all_mask_positions = torch.nonzero(masked_indices).squeeze()\n",
    "num_masked = all_mask_positions.numel()\n",
    "print(all_mask_positions)\n",
    "print(num_masked) #this is the number of masked positions, so we can see how many we have"
   ]
  },
  {
   "cell_type": "code",
   "execution_count": null,
   "metadata": {},
   "outputs": [
    {
     "name": "stdout",
     "output_type": "stream",
     "text": [
      "tensor([1, 4, 0, 5])\n",
      "tensor([1, 4, 0]) tensor([], dtype=torch.int64) tensor([5])\n"
     ]
    }
   ],
   "source": [
    "num_mask = int(0.8 * num_masked)\n",
    "num_random = int(0.1 * num_masked)\n",
    "permuted = all_mask_positions[torch.randperm(num_masked)]\n",
    "print(permuted)\n",
    "mask_positions = permuted[:num_mask]  # 80%: replace with mask token\n",
    "random_positions = permuted[num_mask:num_mask+num_random]  # 10%: random token\n",
    "unchanged_positions = permuted[num_mask+num_random:]  # 10%: leave as is\n",
    "print(mask_positions,random_positions, unchanged_positions) #these are the positions we will mask, random and unchanged\n",
    "\n",
    "#ahh see the issue is our sequence is so short that it may be what is causing the issue!"
   ]
  },
  {
   "cell_type": "code",
   "execution_count": 70,
   "metadata": {},
   "outputs": [
    {
     "name": "stdout",
     "output_type": "stream",
     "text": [
      "tensor([[1., 0., 0., 0., 0.],\n",
      "        [0., 1., 0., 0., 0.],\n",
      "        [0., 0., 1., 0., 0.],\n",
      "        [0., 0., 0., 1., 0.],\n",
      "        [0., 0., 0., 0., 1.],\n",
      "        [1., 0., 0., 0., 0.],\n",
      "        [1., 0., 0., 0., 0.],\n",
      "        [1., 0., 0., 0., 0.],\n",
      "        [1., 0., 0., 0., 0.],\n",
      "        [1., 0., 0., 0., 0.],\n",
      "        [0., 1., 0., 0., 0.],\n",
      "        [0., 1., 0., 0., 0.],\n",
      "        [0., 1., 0., 0., 0.],\n",
      "        [0., 1., 0., 0., 0.],\n",
      "        [0., 1., 0., 0., 0.],\n",
      "        [0., 1., 0., 0., 0.],\n",
      "        [0., 0., 0., 1., 0.],\n",
      "        [0., 1., 0., 0., 0.],\n",
      "        [0., 0., 0., 1., 0.],\n",
      "        [0., 1., 0., 0., 0.],\n",
      "        [0., 0., 0., 1., 0.],\n",
      "        [0., 1., 0., 0., 0.],\n",
      "        [0., 0., 0., 1., 0.],\n",
      "        [0., 0., 1., 0., 0.],\n",
      "        [0., 0., 1., 0., 0.],\n",
      "        [0., 0., 1., 0., 0.],\n",
      "        [0., 0., 1., 0., 0.],\n",
      "        [0., 0., 1., 0., 0.],\n",
      "        [0., 0., 1., 0., 0.],\n",
      "        [0., 0., 1., 0., 0.],\n",
      "        [0., 0., 1., 0., 0.],\n",
      "        [0., 0., 1., 0., 0.],\n",
      "        [0., 0., 1., 0., 0.],\n",
      "        [0., 0., 1., 0., 0.],\n",
      "        [0., 0., 1., 0., 0.],\n",
      "        [0., 0., 0., 0., 1.],\n",
      "        [0., 0., 0., 0., 1.],\n",
      "        [0., 0., 0., 0., 1.],\n",
      "        [0., 0., 0., 0., 1.],\n",
      "        [0., 0., 0., 0., 1.],\n",
      "        [0., 0., 0., 0., 1.],\n",
      "        [0., 0., 0., 0., 1.],\n",
      "        [0., 0., 0., 0., 1.],\n",
      "        [0., 0., 0., 0., 1.],\n",
      "        [0., 0., 0., 0., 1.],\n",
      "        [0., 0., 0., 0., 1.],\n",
      "        [0., 0., 0., 0., 1.],\n",
      "        [0., 0., 0., 0., 1.],\n",
      "        [0., 0., 0., 0., 1.],\n",
      "        [0., 0., 0., 0., 1.],\n",
      "        [1., 0., 0., 0., 0.],\n",
      "        [0., 1., 0., 0., 0.],\n",
      "        [0., 0., 0., 1., 0.],\n",
      "        [0., 0., 0., 0., 1.],\n",
      "        [0., 0., 0., 1., 0.],\n",
      "        [0., 0., 0., 0., 1.],\n",
      "        [0., 0., 0., 1., 0.],\n",
      "        [0., 0., 0., 0., 1.],\n",
      "        [0., 0., 0., 1., 0.],\n",
      "        [0., 0., 0., 0., 1.],\n",
      "        [0., 0., 0., 0., 1.],\n",
      "        [0., 0., 0., 0., 1.],\n",
      "        [0., 0., 0., 0., 1.],\n",
      "        [0., 0., 0., 0., 1.],\n",
      "        [0., 0., 0., 0., 1.],\n",
      "        [0., 0., 0., 0., 1.],\n",
      "        [0., 0., 0., 0., 1.],\n",
      "        [0., 0., 0., 0., 1.],\n",
      "        [0., 0., 0., 0., 1.],\n",
      "        [0., 0., 0., 0., 1.],\n",
      "        [0., 0., 0., 0., 1.],\n",
      "        [0., 0., 0., 0., 1.],\n",
      "        [0., 0., 0., 0., 1.],\n",
      "        [0., 0., 0., 0., 1.],\n",
      "        [0., 0., 0., 0., 1.],\n",
      "        [0., 0., 0., 0., 1.],\n",
      "        [0., 0., 0., 0., 1.],\n",
      "        [0., 0., 0., 0., 1.],\n",
      "        [0., 0., 0., 0., 1.],\n",
      "        [0., 0., 0., 0., 1.]])\n",
      "torch.Size([80, 5])\n"
     ]
    }
   ],
   "source": [
    "#let' smake our test seq longer\n",
    "conversion = {'A': (1,0,0,0,0), 'C': (0,1,0,0,0), 'G': (0,0,1,0,0), 'T': (0,0,0,1,0), 'N': (0,0,0,0,1)}\n",
    "\n",
    "test_seq = 'ACGTNAAAAACCCCCCTCTCTCTGGGGGGGGGGGGNNNNNNNNNNNNNNNACTNTNTNTNNNNNNNNNNNNNNNNNNNNN'\n",
    "test_seq = [conversion[i] for i in test_seq]\n",
    "# print(test_seq)\n",
    "test_seq = torch.tensor(test_seq, dtype=torch.float32)\n",
    "print(test_seq)\n",
    "print(test_seq.shape) #should be shape length x 5 which it is, so we can input it"
   ]
  },
  {
   "cell_type": "code",
   "execution_count": 72,
   "metadata": {},
   "outputs": [
    {
     "name": "stdout",
     "output_type": "stream",
     "text": [
      "tensor([[1., 0., 0., 0., 0., 0.],\n",
      "        [0., 0., 0., 0., 0., 1.],\n",
      "        [0., 0., 1., 0., 0., 0.],\n",
      "        [0., 0., 0., 1., 0., 0.],\n",
      "        [0., 0., 0., 0., 0., 1.],\n",
      "        [0., 0., 0., 0., 0., 1.],\n",
      "        [1., 0., 0., 0., 0., 0.],\n",
      "        [0., 0., 0., 0., 0., 1.],\n",
      "        [1., 0., 0., 0., 0., 0.],\n",
      "        [0., 0., 0., 0., 0., 1.],\n",
      "        [0., 1., 0., 0., 0., 0.],\n",
      "        [0., 0., 0., 0., 0., 1.],\n",
      "        [0., 1., 0., 0., 0., 0.],\n",
      "        [0., 1., 0., 0., 0., 0.],\n",
      "        [0., 1., 0., 0., 0., 0.],\n",
      "        [0., 0., 0., 0., 0., 1.],\n",
      "        [0., 0., 0., 0., 0., 1.],\n",
      "        [0., 1., 0., 0., 0., 0.],\n",
      "        [0., 0., 0., 1., 0., 0.],\n",
      "        [0., 0., 0., 0., 0., 1.],\n",
      "        [0., 0., 0., 1., 0., 0.],\n",
      "        [0., 1., 0., 0., 0., 0.],\n",
      "        [1., 0., 0., 0., 0., 0.],\n",
      "        [0., 0., 1., 0., 0., 0.],\n",
      "        [0., 0., 1., 0., 0., 0.],\n",
      "        [0., 0., 1., 0., 0., 0.],\n",
      "        [0., 0., 0., 0., 0., 1.],\n",
      "        [0., 0., 1., 0., 0., 0.],\n",
      "        [0., 0., 1., 0., 0., 0.],\n",
      "        [0., 0., 1., 0., 0., 0.],\n",
      "        [0., 0., 0., 0., 0., 1.],\n",
      "        [0., 0., 1., 0., 0., 0.],\n",
      "        [0., 0., 1., 0., 0., 0.],\n",
      "        [0., 0., 1., 0., 0., 0.],\n",
      "        [0., 0., 1., 0., 0., 0.],\n",
      "        [0., 0., 0., 0., 1., 0.],\n",
      "        [1., 0., 0., 0., 1., 0.],\n",
      "        [0., 0., 0., 0., 1., 0.],\n",
      "        [0., 0., 0., 0., 0., 1.],\n",
      "        [0., 0., 0., 0., 1., 0.],\n",
      "        [0., 0., 0., 0., 0., 1.],\n",
      "        [0., 0., 0., 0., 0., 1.],\n",
      "        [0., 0., 0., 0., 1., 0.],\n",
      "        [0., 0., 0., 0., 0., 1.],\n",
      "        [0., 0., 0., 0., 0., 1.],\n",
      "        [0., 0., 0., 0., 1., 0.],\n",
      "        [0., 0., 0., 0., 1., 0.],\n",
      "        [0., 0., 0., 0., 1., 0.],\n",
      "        [0., 0., 0., 0., 0., 1.],\n",
      "        [0., 0., 0., 0., 0., 1.],\n",
      "        [0., 0., 0., 0., 0., 1.],\n",
      "        [0., 1., 0., 0., 0., 0.],\n",
      "        [0., 0., 0., 0., 0., 1.],\n",
      "        [0., 0., 0., 0., 1., 0.],\n",
      "        [0., 0., 0., 1., 0., 0.],\n",
      "        [0., 0., 0., 0., 1., 0.],\n",
      "        [0., 0., 0., 1., 0., 0.],\n",
      "        [0., 0., 0., 0., 1., 0.],\n",
      "        [0., 0., 0., 1., 0., 0.],\n",
      "        [0., 0., 0., 0., 1., 0.],\n",
      "        [0., 0., 0., 0., 0., 1.],\n",
      "        [0., 0., 0., 0., 0., 1.],\n",
      "        [0., 0., 0., 0., 1., 0.],\n",
      "        [0., 0., 0., 0., 1., 0.],\n",
      "        [0., 0., 0., 0., 0., 1.],\n",
      "        [0., 0., 0., 0., 1., 0.],\n",
      "        [0., 0., 0., 0., 1., 0.],\n",
      "        [0., 0., 0., 0., 1., 0.],\n",
      "        [0., 0., 0., 0., 0., 1.],\n",
      "        [0., 0., 0., 0., 0., 1.],\n",
      "        [0., 0., 0., 0., 0., 1.],\n",
      "        [0., 0., 0., 0., 0., 1.],\n",
      "        [0., 0., 0., 0., 0., 1.],\n",
      "        [0., 0., 0., 0., 0., 1.],\n",
      "        [0., 0., 0., 0., 0., 1.],\n",
      "        [0., 0., 0., 0., 1., 0.],\n",
      "        [0., 0., 0., 0., 0., 1.],\n",
      "        [1., 0., 0., 0., 1., 0.],\n",
      "        [0., 0., 0., 0., 1., 0.],\n",
      "        [0., 0., 0., 0., 0., 1.]])\n"
     ]
    }
   ],
   "source": [
    "#now let's input this into it\n",
    "masked_seq, unmasked_seq = mask_data(test_seq, mask_pct=0.5)\n",
    "print(masked_seq)"
   ]
  },
  {
   "cell_type": "code",
   "execution_count": 73,
   "metadata": {},
   "outputs": [
    {
     "name": "stdout",
     "output_type": "stream",
     "text": [
      "tensor([[1., 0., 0., 0., 0., 0.],\n",
      "        [0., 1., 0., 0., 0., 1.],\n",
      "        [0., 0., 1., 0., 0., 0.],\n",
      "        [0., 0., 0., 1., 0., 0.],\n",
      "        [0., 0., 0., 0., 1., 1.],\n",
      "        [1., 0., 0., 0., 0., 1.],\n",
      "        [1., 0., 0., 0., 0., 0.],\n",
      "        [1., 0., 0., 0., 0., 1.],\n",
      "        [1., 0., 0., 0., 0., 0.],\n",
      "        [1., 0., 0., 0., 0., 1.],\n",
      "        [0., 1., 0., 0., 0., 0.],\n",
      "        [0., 1., 0., 0., 0., 1.],\n",
      "        [0., 1., 0., 0., 0., 0.],\n",
      "        [0., 1., 0., 0., 0., 1.],\n",
      "        [0., 1., 0., 0., 0., 0.],\n",
      "        [0., 1., 0., 0., 0., 1.],\n",
      "        [0., 0., 0., 1., 0., 1.],\n",
      "        [0., 1., 0., 0., 0., 0.],\n",
      "        [0., 0., 0., 1., 0., 0.],\n",
      "        [0., 1., 0., 0., 0., 1.],\n",
      "        [0., 0., 0., 1., 0., 0.],\n",
      "        [0., 1., 0., 0., 0., 0.],\n",
      "        [0., 0., 0., 1., 0., 1.],\n",
      "        [0., 0., 1., 0., 0., 0.],\n",
      "        [0., 0., 1., 0., 0., 0.],\n",
      "        [0., 0., 1., 0., 0., 1.],\n",
      "        [0., 0., 1., 0., 0., 1.],\n",
      "        [0., 0., 1., 0., 0., 0.],\n",
      "        [0., 0., 1., 0., 0., 0.],\n",
      "        [0., 0., 1., 0., 0., 0.],\n",
      "        [0., 0., 1., 0., 0., 1.],\n",
      "        [0., 0., 1., 0., 0., 0.],\n",
      "        [0., 0., 1., 0., 0., 0.],\n",
      "        [0., 0., 1., 0., 0., 0.],\n",
      "        [0., 0., 1., 0., 0., 0.],\n",
      "        [0., 0., 0., 0., 1., 0.],\n",
      "        [0., 0., 0., 0., 1., 1.],\n",
      "        [0., 0., 0., 0., 1., 0.],\n",
      "        [0., 0., 0., 0., 1., 1.],\n",
      "        [0., 0., 0., 0., 1., 0.],\n",
      "        [0., 0., 0., 0., 1., 1.],\n",
      "        [0., 0., 0., 0., 1., 1.],\n",
      "        [0., 0., 0., 0., 1., 0.],\n",
      "        [0., 0., 0., 0., 1., 1.],\n",
      "        [0., 0., 0., 0., 1., 1.],\n",
      "        [0., 0., 0., 0., 1., 0.],\n",
      "        [0., 0., 0., 0., 1., 0.],\n",
      "        [0., 0., 0., 0., 1., 0.],\n",
      "        [0., 0., 0., 0., 1., 1.],\n",
      "        [0., 0., 0., 0., 1., 1.],\n",
      "        [1., 0., 0., 0., 0., 1.],\n",
      "        [0., 1., 0., 0., 0., 0.],\n",
      "        [0., 0., 0., 1., 0., 1.],\n",
      "        [0., 0., 0., 0., 1., 0.],\n",
      "        [0., 0., 0., 1., 0., 0.],\n",
      "        [0., 0., 0., 0., 1., 0.],\n",
      "        [0., 0., 0., 1., 0., 1.],\n",
      "        [0., 0., 0., 0., 1., 0.],\n",
      "        [0., 0., 0., 1., 0., 0.],\n",
      "        [0., 0., 0., 0., 1., 1.],\n",
      "        [0., 0., 0., 0., 1., 1.],\n",
      "        [0., 0., 0., 0., 1., 1.],\n",
      "        [0., 0., 0., 0., 1., 1.],\n",
      "        [0., 0., 0., 0., 1., 0.],\n",
      "        [0., 0., 0., 0., 1., 1.],\n",
      "        [0., 0., 0., 0., 1., 1.],\n",
      "        [0., 0., 0., 0., 1., 0.],\n",
      "        [0., 0., 0., 0., 1., 0.],\n",
      "        [0., 0., 0., 0., 1., 1.],\n",
      "        [0., 0., 0., 0., 1., 1.],\n",
      "        [0., 0., 0., 0., 1., 1.],\n",
      "        [0., 0., 0., 0., 1., 1.],\n",
      "        [0., 0., 0., 0., 1., 1.],\n",
      "        [0., 0., 0., 0., 1., 1.],\n",
      "        [0., 0., 0., 0., 1., 1.],\n",
      "        [0., 0., 0., 0., 1., 0.],\n",
      "        [0., 0., 0., 0., 1., 1.],\n",
      "        [0., 0., 0., 0., 1., 1.],\n",
      "        [0., 0., 0., 0., 1., 0.],\n",
      "        [0., 0., 0., 0., 1., 1.]])\n"
     ]
    }
   ],
   "source": [
    "print(unmasked_seq) #should be length x 6, so 5 for the one hot and 1 for the mask track"
   ]
  },
  {
   "cell_type": "code",
   "execution_count": 74,
   "metadata": {},
   "outputs": [
    {
     "data": {
      "text/plain": [
       "True"
      ]
     },
     "execution_count": 74,
     "metadata": {},
     "output_type": "execute_result"
    }
   ],
   "source": [
    "#so let's verify it works\n",
    "torch.allclose(unmasked_seq[:,:-1], test_seq) #this should be true, so we can see that the unmasked sequence is indeed the same as the original sequence"
   ]
  },
  {
   "cell_type": "code",
   "execution_count": null,
   "metadata": {},
   "outputs": [
    {
     "data": {
      "text/plain": [
       "tensor(32.)"
      ]
     },
     "execution_count": 75,
     "metadata": {},
     "output_type": "execute_result"
    }
   ],
   "source": [
    "#so we have the same values, but it also specifies which values are masked, let's see the percentage\n",
    "masked_seq[:,-1].sum() #roughly half, this is right!! "
   ]
  },
  {
   "cell_type": "code",
   "execution_count": null,
   "metadata": {},
   "outputs": [
    {
     "data": {
      "text/plain": [
       "tensor([1., 1., 1., 1., 1., 1., 1., 1., 1., 1., 1., 1., 1., 1., 1., 1., 1., 1.,\n",
       "        1., 1., 1., 1., 1., 1., 1., 1., 1., 1., 1., 1., 1., 1., 1., 1., 1., 1.,\n",
       "        2., 1., 1., 1., 1., 1., 1., 1., 1., 1., 1., 1., 1., 1., 1., 1., 1., 1.,\n",
       "        1., 1., 1., 1., 1., 1., 1., 1., 1., 1., 1., 1., 1., 1., 1., 1., 1., 1.,\n",
       "        1., 1., 1., 1., 1., 2., 1., 1.])"
      ]
     },
     "execution_count": 76,
     "metadata": {},
     "output_type": "execute_result"
    }
   ],
   "source": [
    "#wait masked seq has some major issues, for some reason it can sometimes have 2 values... it should never be 2 values\n",
    "masked_seq.sum(1) #it's masked, should only be 1 thing!!"
   ]
  },
  {
   "cell_type": "code",
   "execution_count": 80,
   "metadata": {},
   "outputs": [
    {
     "name": "stdout",
     "output_type": "stream",
     "text": [
      "tensor([1, 2]) tensor([[0., 0., 0., 0.],\n",
      "        [0., 0., 0., 0.]])\n"
     ]
    }
   ],
   "source": [
    "#issue is that it doesn't replace it with the proper one, rather it seems to add a second value... let's check this\n",
    "random_positions = torch.tensor([10,3]) #let's just say this\n",
    "random_tokens = torch.randint(0, 4, (random_positions.numel(),))\n",
    "random_one_hot = torch.zeros((random_positions.numel(), 4))\n",
    "print(random_tokens, random_one_hot)"
   ]
  },
  {
   "cell_type": "code",
   "execution_count": 81,
   "metadata": {},
   "outputs": [
    {
     "data": {
      "text/plain": [
       "tensor([[0., 1., 0., 0.],\n",
       "        [0., 0., 1., 0.]])"
      ]
     },
     "execution_count": 81,
     "metadata": {},
     "output_type": "execute_result"
    }
   ],
   "source": [
    "random_one_hot.scatter_(1, random_tokens.unsqueeze(1), 1.0)"
   ]
  },
  {
   "cell_type": "code",
   "execution_count": null,
   "metadata": {},
   "outputs": [
    {
     "data": {
      "text/plain": [
       "tensor([3, 1, 2, 3, 3, 2, 2, 2, 3, 3, 1, 3, 2, 1, 1, 2, 3, 0, 0, 1, 0, 2, 0, 2,\n",
       "        3, 0, 1, 3, 2, 2, 1, 2, 1, 3, 1, 0, 2, 0, 0, 0, 3, 1, 3, 1, 1, 1, 0, 3,\n",
       "        3, 3, 3, 3, 0, 0, 1, 2, 0, 2, 1, 3, 0, 3, 2, 2, 3, 3, 2, 1, 0, 0, 0, 3,\n",
       "        0, 0, 2, 3, 1, 0, 0, 3, 3, 3, 0, 1, 3, 3, 0, 0, 2, 1, 0, 0, 1, 0, 0, 2,\n",
       "        1, 3, 1, 3])"
      ]
     },
     "execution_count": 83,
     "metadata": {},
     "output_type": "execute_result"
    }
   ],
   "source": [
    "#right this seems correct...\n",
    "torch.randint(0,4,(100,)) #between 0 and 3 as we expect!"
   ]
  },
  {
   "cell_type": "code",
   "execution_count": 84,
   "metadata": {},
   "outputs": [
    {
     "name": "stdout",
     "output_type": "stream",
     "text": [
      "tensor([[0., 0., 0., 0., 0., 1.],\n",
      "        [0., 1., 0., 0., 0., 0.],\n",
      "        [0., 0., 1., 0., 0., 0.],\n",
      "        [0., 0., 0., 0., 0., 1.],\n",
      "        [0., 0., 0., 0., 1., 0.],\n",
      "        [1., 0., 0., 0., 0., 0.],\n",
      "        [1., 0., 0., 0., 0., 0.],\n",
      "        [1., 0., 0., 0., 0., 0.],\n",
      "        [0., 0., 0., 0., 0., 1.],\n",
      "        [1., 0., 0., 0., 0., 0.],\n",
      "        [0., 1., 0., 0., 0., 0.],\n",
      "        [0., 0., 0., 0., 0., 1.],\n",
      "        [0., 1., 0., 0., 0., 0.],\n",
      "        [0., 1., 0., 0., 0., 0.],\n",
      "        [0., 1., 0., 0., 0., 0.],\n",
      "        [0., 1., 0., 0., 0., 0.],\n",
      "        [0., 0., 0., 0., 0., 1.],\n",
      "        [0., 1., 0., 0., 0., 0.],\n",
      "        [0., 0., 0., 0., 0., 1.],\n",
      "        [0., 1., 0., 0., 0., 0.],\n",
      "        [0., 0., 0., 0., 0., 1.],\n",
      "        [0., 0., 0., 0., 0., 1.],\n",
      "        [0., 0., 0., 1., 0., 0.],\n",
      "        [0., 0., 1., 0., 0., 0.],\n",
      "        [0., 0., 0., 0., 0., 1.],\n",
      "        [0., 0., 1., 0., 0., 0.],\n",
      "        [0., 0., 0., 0., 0., 1.],\n",
      "        [0., 0., 1., 0., 0., 0.],\n",
      "        [0., 0., 1., 0., 0., 0.],\n",
      "        [0., 0., 1., 0., 0., 0.],\n",
      "        [0., 0., 1., 0., 0., 0.],\n",
      "        [0., 0., 0., 0., 0., 1.],\n",
      "        [0., 0., 1., 0., 0., 0.],\n",
      "        [0., 0., 0., 0., 0., 1.],\n",
      "        [0., 0., 0., 0., 0., 1.],\n",
      "        [0., 0., 0., 0., 1., 0.],\n",
      "        [0., 0., 0., 0., 0., 1.],\n",
      "        [0., 0., 0., 0., 0., 1.],\n",
      "        [0., 0., 0., 0., 0., 1.],\n",
      "        [0., 0., 0., 0., 0., 1.],\n",
      "        [0., 0., 0., 0., 1., 0.],\n",
      "        [0., 0., 0., 0., 1., 0.],\n",
      "        [0., 0., 0., 0., 1., 0.],\n",
      "        [0., 0., 0., 0., 1., 0.],\n",
      "        [1., 0., 0., 0., 0., 0.],\n",
      "        [1., 0., 0., 0., 0., 0.],\n",
      "        [0., 0., 0., 0., 0., 1.],\n",
      "        [0., 0., 0., 0., 0., 1.],\n",
      "        [0., 0., 0., 0., 1., 0.],\n",
      "        [0., 0., 0., 0., 0., 1.],\n",
      "        [1., 0., 0., 0., 0., 0.],\n",
      "        [0., 0., 0., 0., 0., 1.],\n",
      "        [0., 0., 0., 1., 0., 0.],\n",
      "        [0., 0., 0., 0., 1., 0.],\n",
      "        [0., 0., 0., 1., 0., 0.],\n",
      "        [0., 0., 0., 0., 1., 0.],\n",
      "        [0., 0., 0., 0., 0., 1.],\n",
      "        [0., 0., 0., 0., 1., 0.],\n",
      "        [0., 0., 0., 1., 0., 0.],\n",
      "        [0., 0., 0., 0., 0., 1.],\n",
      "        [0., 0., 0., 0., 0., 1.],\n",
      "        [0., 0., 0., 0., 1., 0.],\n",
      "        [0., 0., 0., 0., 1., 0.],\n",
      "        [0., 0., 0., 0., 0., 1.],\n",
      "        [0., 0., 0., 0., 0., 1.],\n",
      "        [0., 0., 0., 0., 1., 0.],\n",
      "        [0., 0., 0., 0., 0., 1.],\n",
      "        [0., 0., 0., 0., 1., 0.],\n",
      "        [0., 0., 0., 0., 1., 0.],\n",
      "        [0., 0., 0., 0., 0., 1.],\n",
      "        [0., 0., 0., 0., 1., 0.],\n",
      "        [0., 0., 0., 0., 1., 0.],\n",
      "        [0., 0., 0., 0., 0., 1.],\n",
      "        [0., 0., 0., 0., 1., 0.],\n",
      "        [0., 0., 0., 1., 0., 0.],\n",
      "        [0., 0., 0., 0., 1., 0.],\n",
      "        [0., 0., 0., 0., 1., 0.],\n",
      "        [0., 0., 0., 0., 1., 0.],\n",
      "        [0., 0., 0., 0., 1., 0.],\n",
      "        [0., 0., 0., 0., 0., 1.]])\n"
     ]
    }
   ],
   "source": [
    "#oh the issue is if it was originally N and we need to replace it by random, the N remains, we dont' want to generate N, but it can still have that, so need to manually set it to 0!\n",
    "#it's as simple as adding a line saying that set the N to 0 before we add in the replacement.\n",
    "\n",
    "#or do something like this\n",
    "\n",
    "def mask_data(seq, mask_pct=0.15):\n",
    "    \"\"\"This function will mask the data, it does the BERT masking where you do 80% truly masked, 10% random, 10% unchanged\n",
    "    Note that for random replacement, it cannot be the N token, sicne it's very rare anyways, always random nucleotide!\n",
    "    Args:\n",
    "        seq: the sequence to mask, this is a tensor of shape (length, 5) if one hot encoding\n",
    "        mask_pct: the percentage of the sequence to mask, default is 0.15 or 15%\n",
    "    Returns:\n",
    "        seq: the masked sequence, this is a tensor of shape (length, 6) if one hot encoding, where the last column is the mask track (only tells if masked, some are random or unchanged)\n",
    "        seq_unmask: the unmasked sequence, this is a tensor of shape (length, 6), where the last column is the mask track (tells all elements that have been changed)\n",
    "    \"\"\"\n",
    "    # Create a probability vector (one per token) and sample which tokens to mask\n",
    "    probability_matrix = torch.full((seq.shape[0],), mask_pct) #size of length, defines for each element if we mask it or not\n",
    "    masked_indices = torch.bernoulli(probability_matrix).bool() #finds which indices to mask, so shape is length, and is True or False for each index\n",
    "\n",
    "    # Append the mask track to the sequence, resulting in a tensor of shape [seq_len, 6],\n",
    "    # where the last column is the mask track\n",
    "    seq_unmask = torch.cat([seq, masked_indices.unsqueeze(1).float()], dim=1) #so now seq_unmask is shape length x 6, where 6 is the 5 one hot classes and the mask\n",
    "\n",
    "    # Get positions that were chosen to be masked\n",
    "    all_mask_positions = torch.nonzero(masked_indices).squeeze()\n",
    "    num_masked = all_mask_positions.numel()\n",
    "    \n",
    "    # Determine counts for the three groups: 80% truly masked, 10% random, 10% unchanged\n",
    "    num_mask = int(0.8 * num_masked)\n",
    "    num_random = int(0.1 * num_masked)\n",
    "    # To avoid rounding issues, let the remaining be unchanged\n",
    "    # num_unchanged = num_masked - num_mask - num_random\n",
    "    \n",
    "    # Shuffle the masked positions to randomly assign each to a category\n",
    "    permuted = all_mask_positions[torch.randperm(num_masked)]\n",
    "    mask_positions = permuted[:num_mask]  # 80%: replace with mask token\n",
    "    random_positions = permuted[num_mask:num_mask+num_random]  # 10%: random token\n",
    "    unchanged_positions = permuted[num_mask+num_random:]  # 10%: leave as is\n",
    "    \n",
    "    seq_masked = seq_unmask.clone()  # Create a copy to modify, note that the mask track should be 0 for ones where it's not masked but is random or unchanged\n",
    "    seq_masked[mask_positions, :-1] = 0  # Set to zero for every class but the last (tells it it's masked)\n",
    "    \n",
    "    random_tokens = torch.randint(0, 4, (random_positions.numel(),))\n",
    "    random_one_hot = torch.zeros((random_positions.numel(), 5))\n",
    "    random_one_hot.scatter_(1, random_tokens.unsqueeze(1), 1.0)\n",
    "    seq_masked[random_positions, :5] = random_one_hot\n",
    "    #and remove the masked value, it doesn't know it's masked\n",
    "    seq_masked[random_positions, -1] = 0\n",
    "    \n",
    "    #and we remove the mask token from the unchanged value\n",
    "    seq_masked[unchanged_positions, -1] = 0\n",
    "    # seq = seq_masked #now we have the masked sequence, so we can use this for the rest of the processing\n",
    "    \n",
    "    return seq_masked, seq_unmask #return the masked sequence and the unmasked sequence, so we can use it for the rest of the processing\n",
    "\n",
    "#now let's test it again, use the old test seq\n",
    "masked_seq, unmasked_seq = mask_data(test_seq, mask_pct=0.5)\n",
    "print(masked_seq)"
   ]
  },
  {
   "cell_type": "code",
   "execution_count": 85,
   "metadata": {},
   "outputs": [
    {
     "name": "stdout",
     "output_type": "stream",
     "text": [
      "tensor([[1., 0., 0., 0., 0., 1.],\n",
      "        [0., 1., 0., 0., 0., 0.],\n",
      "        [0., 0., 1., 0., 0., 0.],\n",
      "        [0., 0., 0., 1., 0., 1.],\n",
      "        [0., 0., 0., 0., 1., 0.],\n",
      "        [1., 0., 0., 0., 0., 0.],\n",
      "        [1., 0., 0., 0., 0., 0.],\n",
      "        [1., 0., 0., 0., 0., 0.],\n",
      "        [1., 0., 0., 0., 0., 1.],\n",
      "        [1., 0., 0., 0., 0., 0.],\n",
      "        [0., 1., 0., 0., 0., 0.],\n",
      "        [0., 1., 0., 0., 0., 1.],\n",
      "        [0., 1., 0., 0., 0., 1.],\n",
      "        [0., 1., 0., 0., 0., 0.],\n",
      "        [0., 1., 0., 0., 0., 0.],\n",
      "        [0., 1., 0., 0., 0., 0.],\n",
      "        [0., 0., 0., 1., 0., 1.],\n",
      "        [0., 1., 0., 0., 0., 0.],\n",
      "        [0., 0., 0., 1., 0., 1.],\n",
      "        [0., 1., 0., 0., 0., 0.],\n",
      "        [0., 0., 0., 1., 0., 1.],\n",
      "        [0., 1., 0., 0., 0., 1.],\n",
      "        [0., 0., 0., 1., 0., 0.],\n",
      "        [0., 0., 1., 0., 0., 0.],\n",
      "        [0., 0., 1., 0., 0., 1.],\n",
      "        [0., 0., 1., 0., 0., 0.],\n",
      "        [0., 0., 1., 0., 0., 1.],\n",
      "        [0., 0., 1., 0., 0., 0.],\n",
      "        [0., 0., 1., 0., 0., 0.],\n",
      "        [0., 0., 1., 0., 0., 0.],\n",
      "        [0., 0., 1., 0., 0., 0.],\n",
      "        [0., 0., 1., 0., 0., 1.],\n",
      "        [0., 0., 1., 0., 0., 0.],\n",
      "        [0., 0., 1., 0., 0., 1.],\n",
      "        [0., 0., 1., 0., 0., 1.],\n",
      "        [0., 0., 0., 0., 1., 0.],\n",
      "        [0., 0., 0., 0., 1., 1.],\n",
      "        [0., 0., 0., 0., 1., 1.],\n",
      "        [0., 0., 0., 0., 1., 1.],\n",
      "        [0., 0., 0., 0., 1., 1.],\n",
      "        [0., 0., 0., 0., 1., 0.],\n",
      "        [0., 0., 0., 0., 1., 0.],\n",
      "        [0., 0., 0., 0., 1., 0.],\n",
      "        [0., 0., 0., 0., 1., 0.],\n",
      "        [0., 0., 0., 0., 1., 1.],\n",
      "        [0., 0., 0., 0., 1., 1.],\n",
      "        [0., 0., 0., 0., 1., 1.],\n",
      "        [0., 0., 0., 0., 1., 1.],\n",
      "        [0., 0., 0., 0., 1., 1.],\n",
      "        [0., 0., 0., 0., 1., 1.],\n",
      "        [1., 0., 0., 0., 0., 0.],\n",
      "        [0., 1., 0., 0., 0., 1.],\n",
      "        [0., 0., 0., 1., 0., 0.],\n",
      "        [0., 0., 0., 0., 1., 0.],\n",
      "        [0., 0., 0., 1., 0., 0.],\n",
      "        [0., 0., 0., 0., 1., 0.],\n",
      "        [0., 0., 0., 1., 0., 1.],\n",
      "        [0., 0., 0., 0., 1., 0.],\n",
      "        [0., 0., 0., 1., 0., 0.],\n",
      "        [0., 0., 0., 0., 1., 1.],\n",
      "        [0., 0., 0., 0., 1., 1.],\n",
      "        [0., 0., 0., 0., 1., 1.],\n",
      "        [0., 0., 0., 0., 1., 0.],\n",
      "        [0., 0., 0., 0., 1., 1.],\n",
      "        [0., 0., 0., 0., 1., 1.],\n",
      "        [0., 0., 0., 0., 1., 1.],\n",
      "        [0., 0., 0., 0., 1., 1.],\n",
      "        [0., 0., 0., 0., 1., 0.],\n",
      "        [0., 0., 0., 0., 1., 1.],\n",
      "        [0., 0., 0., 0., 1., 1.],\n",
      "        [0., 0., 0., 0., 1., 0.],\n",
      "        [0., 0., 0., 0., 1., 0.],\n",
      "        [0., 0., 0., 0., 1., 1.],\n",
      "        [0., 0., 0., 0., 1., 0.],\n",
      "        [0., 0., 0., 0., 1., 1.],\n",
      "        [0., 0., 0., 0., 1., 0.],\n",
      "        [0., 0., 0., 0., 1., 0.],\n",
      "        [0., 0., 0., 0., 1., 0.],\n",
      "        [0., 0., 0., 0., 1., 0.],\n",
      "        [0., 0., 0., 0., 1., 1.]])\n"
     ]
    }
   ],
   "source": [
    "print(unmasked_seq) #should be length x 6, so 5 for the one hot and 1 for the mask track"
   ]
  },
  {
   "cell_type": "code",
   "execution_count": null,
   "metadata": {},
   "outputs": [
    {
     "data": {
      "text/plain": [
       "tensor([1., 1., 1., 1., 1., 1., 1., 1., 1., 1., 1., 1., 1., 1., 1., 1., 1., 1.,\n",
       "        1., 1., 1., 1., 1., 1., 1., 1., 1., 1., 1., 1., 1., 1., 1., 1., 1., 1.,\n",
       "        1., 1., 1., 1., 1., 1., 1., 1., 1., 1., 1., 1., 1., 1., 1., 1., 1., 1.,\n",
       "        1., 1., 1., 1., 1., 1., 1., 1., 1., 1., 1., 1., 1., 1., 1., 1., 1., 1.,\n",
       "        1., 1., 1., 1., 1., 1., 1., 1.])"
      ]
     },
     "execution_count": 86,
     "metadata": {},
     "output_type": "execute_result"
    }
   ],
   "source": [
    "masked_seq.sum(1) #nothing is greater than 1, this is good! Let's test a few more things"
   ]
  },
  {
   "cell_type": "code",
   "execution_count": 87,
   "metadata": {},
   "outputs": [
    {
     "name": "stdout",
     "output_type": "stream",
     "text": [
      "torch.Size([1790, 5])\n"
     ]
    }
   ],
   "source": [
    "test_seq = 'ACTCTCTCTNNNNNNNNNNNNNNNNNNNNNNNNNNNNNNNNNNNNNNNNNNNNNNNNNNNNNNNNNNNNNNNNNNNNNNNNNNNNNNNNNNNNNNNNNNNNNNNNNNNNNNNCGTGTGTAGGGTTTTGGGCCCNNNNNNNNNNNNNNNNNNNNNNNNNNNNNNNNNNNNNNNNNNNNNN'*10\n",
    "test_seq = [conversion[i] for i in test_seq]\n",
    "test_seq = torch.tensor(test_seq, dtype=torch.float32)\n",
    "print(test_seq.shape) #should be shape length x 5 which it is, so we can input it"
   ]
  },
  {
   "cell_type": "code",
   "execution_count": 88,
   "metadata": {},
   "outputs": [
    {
     "name": "stdout",
     "output_type": "stream",
     "text": [
      "tensor([[1., 0., 0., 0., 0., 0.],\n",
      "        [0., 1., 0., 0., 0., 0.],\n",
      "        [0., 0., 0., 1., 0., 0.],\n",
      "        ...,\n",
      "        [0., 0., 0., 0., 0., 1.],\n",
      "        [1., 0., 0., 0., 0., 0.],\n",
      "        [0., 0., 0., 0., 0., 1.]])\n"
     ]
    }
   ],
   "source": [
    "#now let's input this into it\n",
    "masked_seq, unmasked_seq = mask_data(test_seq, mask_pct=0.5)\n",
    "print(masked_seq)"
   ]
  },
  {
   "cell_type": "code",
   "execution_count": 89,
   "metadata": {},
   "outputs": [
    {
     "name": "stdout",
     "output_type": "stream",
     "text": [
      "tensor([[1., 0., 0., 0., 0., 0.],\n",
      "        [0., 1., 0., 0., 0., 0.],\n",
      "        [0., 0., 0., 1., 0., 0.],\n",
      "        ...,\n",
      "        [0., 0., 0., 0., 1., 1.],\n",
      "        [0., 0., 0., 0., 1., 1.],\n",
      "        [0., 0., 0., 0., 1., 1.]])\n"
     ]
    }
   ],
   "source": [
    "print(unmasked_seq) #should be length x 6, so 5 for the one hot and 1 for the mask track"
   ]
  },
  {
   "cell_type": "code",
   "execution_count": null,
   "metadata": {},
   "outputs": [
    {
     "data": {
      "text/plain": [
       "tensor(1.)"
      ]
     },
     "execution_count": 90,
     "metadata": {},
     "output_type": "execute_result"
    }
   ],
   "source": [
    "masked_seq.sum(1).max() #good, it does indeed replace the N values as well"
   ]
  },
  {
   "cell_type": "code",
   "execution_count": 92,
   "metadata": {},
   "outputs": [
    {
     "data": {
      "text/plain": [
       "torch.Size([5, 524288])"
      ]
     },
     "execution_count": 92,
     "metadata": {},
     "output_type": "execute_result"
    }
   ],
   "source": [
    "#now let's input this with an actual sequence and see what's up\n",
    "seq,data = dataset[1022]\n",
    "seq.shape"
   ]
  },
  {
   "cell_type": "code",
   "execution_count": null,
   "metadata": {},
   "outputs": [
    {
     "name": "stdout",
     "output_type": "stream",
     "text": [
      "torch.Size([524288, 6])\n"
     ]
    },
    {
     "data": {
      "text/plain": [
       "tensor(1.)"
      ]
     },
     "execution_count": 93,
     "metadata": {},
     "output_type": "execute_result"
    }
   ],
   "source": [
    "masked_seq, unmasked_seq = mask_data(seq.transpose(1,0), mask_pct=0.5)\n",
    "print(masked_seq.shape) #should be length x 6, so 5 for the one hot and 1 for the mask track\n",
    "masked_seq.sum(1).max() #good, it does indeed have a 1 mask and is incredibly fast!"
   ]
  },
  {
   "cell_type": "code",
   "execution_count": null,
   "metadata": {},
   "outputs": [
    {
     "name": "stdout",
     "output_type": "stream",
     "text": [
      "torch.Size([524288, 6])\n",
      "torch.Size([524288, 6])\n",
      "torch.Size([524288, 6])\n",
      "torch.Size([524288, 6])\n",
      "torch.Size([524288, 6])\n",
      "torch.Size([524288, 6])\n",
      "torch.Size([524288, 6])\n",
      "torch.Size([524288, 6])\n",
      "torch.Size([524288, 6])\n",
      "torch.Size([524288, 6])\n",
      "torch.Size([524288, 6])\n",
      "torch.Size([524288, 6])\n",
      "torch.Size([524288, 6])\n",
      "torch.Size([524288, 6])\n",
      "torch.Size([524288, 6])\n",
      "torch.Size([524288, 6])\n",
      "torch.Size([524288, 6])\n",
      "torch.Size([524288, 6])\n",
      "torch.Size([524288, 6])\n",
      "torch.Size([524288, 6])\n",
      "torch.Size([524288, 6])\n",
      "torch.Size([524288, 6])\n",
      "torch.Size([524288, 6])\n",
      "torch.Size([524288, 6])\n",
      "torch.Size([524288, 6])\n",
      "torch.Size([524288, 6])\n",
      "torch.Size([524288, 6])\n",
      "torch.Size([524288, 6])\n",
      "torch.Size([524288, 6])\n",
      "torch.Size([524288, 6])\n",
      "torch.Size([524288, 6])\n",
      "torch.Size([524288, 6])\n",
      "torch.Size([524288, 6])\n",
      "torch.Size([524288, 6])\n",
      "torch.Size([524288, 6])\n",
      "torch.Size([524288, 6])\n",
      "torch.Size([524288, 6])\n",
      "torch.Size([524288, 6])\n",
      "torch.Size([524288, 6])\n",
      "torch.Size([524288, 6])\n",
      "torch.Size([524288, 6])\n",
      "torch.Size([524288, 6])\n",
      "torch.Size([524288, 6])\n",
      "torch.Size([524288, 6])\n",
      "torch.Size([524288, 6])\n",
      "torch.Size([524288, 6])\n",
      "torch.Size([524288, 6])\n",
      "torch.Size([524288, 6])\n",
      "torch.Size([524288, 6])\n",
      "torch.Size([524288, 6])\n",
      "torch.Size([524288, 6])\n",
      "torch.Size([524288, 6])\n",
      "torch.Size([524288, 6])\n",
      "torch.Size([524288, 6])\n",
      "torch.Size([524288, 6])\n",
      "torch.Size([524288, 6])\n",
      "torch.Size([524288, 6])\n",
      "torch.Size([524288, 6])\n",
      "torch.Size([524288, 6])\n",
      "torch.Size([524288, 6])\n",
      "torch.Size([524288, 6])\n",
      "torch.Size([524288, 6])\n",
      "torch.Size([524288, 6])\n",
      "torch.Size([524288, 6])\n",
      "torch.Size([524288, 6])\n",
      "torch.Size([524288, 6])\n",
      "torch.Size([524288, 6])\n",
      "torch.Size([524288, 6])\n",
      "torch.Size([524288, 6])\n",
      "torch.Size([524288, 6])\n",
      "torch.Size([524288, 6])\n",
      "torch.Size([524288, 6])\n",
      "torch.Size([524288, 6])\n",
      "torch.Size([524288, 6])\n",
      "torch.Size([524288, 6])\n",
      "torch.Size([524288, 6])\n",
      "torch.Size([524288, 6])\n",
      "torch.Size([524288, 6])\n",
      "torch.Size([524288, 6])\n",
      "torch.Size([524288, 6])\n",
      "torch.Size([524288, 6])\n",
      "torch.Size([524288, 6])\n",
      "torch.Size([524288, 6])\n",
      "torch.Size([524288, 6])\n",
      "torch.Size([524288, 6])\n",
      "torch.Size([524288, 6])\n",
      "torch.Size([524288, 6])\n",
      "torch.Size([524288, 6])\n",
      "torch.Size([524288, 6])\n",
      "torch.Size([524288, 6])\n",
      "torch.Size([524288, 6])\n",
      "torch.Size([524288, 6])\n",
      "torch.Size([524288, 6])\n",
      "torch.Size([524288, 6])\n",
      "torch.Size([524288, 6])\n",
      "torch.Size([524288, 6])\n",
      "torch.Size([524288, 6])\n",
      "torch.Size([524288, 6])\n",
      "torch.Size([524288, 6])\n",
      "torch.Size([524288, 6])\n"
     ]
    }
   ],
   "source": [
    "for i in range(100):\n",
    "    seq,data = dataset[1022]\n",
    "    masked_seq, unmasked_seq = mask_data(seq.transpose(1,0), mask_pct=0.5)\n",
    "    print(masked_seq.shape) #should be length x 6, so 5 for the one hot and 1 for the mask track\n",
    "    masked_seq.sum(1).max() #good, it does indeed have a 1 mask and is incredibly fast!\n",
    "#3 seconds, and I think the slow part is the computing the max lol"
   ]
  },
  {
   "cell_type": "code",
   "execution_count": null,
   "metadata": {},
   "outputs": [],
   "source": [
    "for i in range(100):\n",
    "    seq,data = dataset[1022]\n",
    "    masked_seq, unmasked_seq = mask_data(seq.transpose(1,0), mask_pct=0.5)\n",
    "#ok the max was fast, but still it's 2.5 seconds to run it 100 times, so this is incredibly fast and not at all the slowdown!!!"
   ]
  },
  {
   "cell_type": "code",
   "execution_count": 97,
   "metadata": {},
   "outputs": [
    {
     "name": "stdout",
     "output_type": "stream",
     "text": [
      "torch.Size([5, 524288])\n",
      "torch.Size([524288, 6])\n",
      "torch.Size([524288, 6])\n"
     ]
    }
   ],
   "source": [
    "#let's look at a random sequence\n",
    "print(seq.shape)\n",
    "print(masked_seq.shape)\n",
    "print(unmasked_seq.shape)"
   ]
  },
  {
   "cell_type": "code",
   "execution_count": null,
   "metadata": {},
   "outputs": [
    {
     "name": "stdout",
     "output_type": "stream",
     "text": [
      "tensor([[0., 0., 0., 0., 0., 1.],\n",
      "        [0., 0., 0., 0., 0., 1.],\n",
      "        [0., 0., 0., 0., 0., 1.],\n",
      "        [0., 0., 0., 0., 0., 1.],\n",
      "        [0., 0., 0., 0., 0., 1.],\n",
      "        [0., 0., 0., 0., 0., 1.],\n",
      "        [0., 0., 0., 0., 1., 0.],\n",
      "        [0., 0., 0., 0., 1., 0.],\n",
      "        [0., 0., 0., 0., 0., 1.],\n",
      "        [0., 0., 0., 0., 1., 0.]])\n"
     ]
    }
   ],
   "source": [
    "print(masked_seq[10000:10010]) #shows you what is masked, and a lot of masked elements and Ns since it's literally 1254"
   ]
  },
  {
   "cell_type": "code",
   "execution_count": null,
   "metadata": {},
   "outputs": [
    {
     "data": {
      "text/plain": [
       "tensor([[0., 0., 0., 0., 1.],\n",
       "        [0., 0., 0., 0., 1.],\n",
       "        [0., 0., 0., 0., 1.],\n",
       "        [0., 0., 0., 0., 1.],\n",
       "        [0., 0., 0., 0., 1.],\n",
       "        [0., 0., 0., 0., 1.],\n",
       "        [0., 0., 0., 0., 1.],\n",
       "        [0., 0., 0., 0., 1.],\n",
       "        [0., 0., 0., 0., 1.],\n",
       "        [0., 0., 0., 0., 1.]])"
      ]
     },
     "execution_count": 99,
     "metadata": {},
     "output_type": "execute_result"
    }
   ],
   "source": [
    "seq.transpose(1,0)[10000:10010] #yes it is all Ns"
   ]
  },
  {
   "cell_type": "code",
   "execution_count": null,
   "metadata": {},
   "outputs": [
    {
     "data": {
      "text/plain": [
       "tensor([[0., 0., 0., 0., 1., 1.],\n",
       "        [0., 0., 0., 0., 1., 1.],\n",
       "        [0., 0., 0., 0., 1., 1.],\n",
       "        [0., 0., 0., 0., 1., 1.],\n",
       "        [0., 0., 0., 0., 1., 1.],\n",
       "        [0., 0., 0., 0., 1., 1.],\n",
       "        [0., 0., 0., 0., 1., 0.],\n",
       "        [0., 0., 0., 0., 1., 0.],\n",
       "        [0., 0., 0., 0., 1., 1.],\n",
       "        [0., 0., 0., 0., 1., 0.]])"
      ]
     },
     "execution_count": 100,
     "metadata": {},
     "output_type": "execute_result"
    }
   ],
   "source": [
    "#and unmasked should show all Ns but also tell us what is masked\n",
    "unmasked_seq[10000:10010] #works exactly as expected!!"
   ]
  },
  {
   "cell_type": "code",
   "execution_count": null,
   "metadata": {},
   "outputs": [
    {
     "data": {
      "text/plain": [
       "tensor([[1., 0., 0., 0., 0.],\n",
       "        [0., 0., 0., 1., 0.],\n",
       "        [0., 0., 0., 1., 0.],\n",
       "        [0., 0., 0., 1., 0.],\n",
       "        [0., 1., 0., 0., 0.],\n",
       "        [0., 1., 0., 0., 0.],\n",
       "        [0., 1., 0., 0., 0.],\n",
       "        [0., 0., 0., 1., 0.],\n",
       "        [0., 1., 0., 0., 0.],\n",
       "        [0., 0., 0., 1., 0.]])"
      ]
     },
     "execution_count": 102,
     "metadata": {},
     "output_type": "execute_result"
    }
   ],
   "source": [
    "#let's look at another region\n",
    "seq.transpose(1,0)[int(5e5):int(5e5)+10]"
   ]
  },
  {
   "cell_type": "code",
   "execution_count": null,
   "metadata": {},
   "outputs": [
    {
     "data": {
      "text/plain": [
       "tensor([[1., 0., 0., 0., 0., 0.],\n",
       "        [0., 0., 0., 1., 0., 0.],\n",
       "        [0., 0., 0., 1., 0., 0.],\n",
       "        [0., 0., 0., 0., 0., 1.],\n",
       "        [0., 1., 0., 0., 0., 0.],\n",
       "        [0., 1., 0., 0., 0., 0.],\n",
       "        [0., 0., 0., 0., 0., 1.],\n",
       "        [0., 0., 0., 1., 0., 0.],\n",
       "        [0., 0., 0., 0., 0., 1.],\n",
       "        [0., 0., 0., 0., 0., 1.]])"
      ]
     },
     "execution_count": 103,
     "metadata": {},
     "output_type": "execute_result"
    }
   ],
   "source": [
    "masked_seq[int(5e5):int(5e5)+10]"
   ]
  },
  {
   "cell_type": "code",
   "execution_count": 105,
   "metadata": {},
   "outputs": [
    {
     "data": {
      "text/plain": [
       "tensor([[1., 0., 0., 0., 0., 0.],\n",
       "        [0., 0., 0., 1., 0., 0.],\n",
       "        [0., 0., 0., 1., 0., 0.],\n",
       "        [0., 0., 0., 1., 0., 1.],\n",
       "        [0., 1., 0., 0., 0., 0.],\n",
       "        [0., 1., 0., 0., 0., 0.],\n",
       "        [0., 1., 0., 0., 0., 1.],\n",
       "        [0., 0., 0., 1., 0., 1.],\n",
       "        [0., 1., 0., 0., 0., 1.],\n",
       "        [0., 0., 0., 1., 0., 1.]])"
      ]
     },
     "execution_count": 105,
     "metadata": {},
     "output_type": "execute_result"
    }
   ],
   "source": [
    "unmasked_seq[int(5e5):int(5e5)+10] #this is all masked, so it works as expected"
   ]
  },
  {
   "cell_type": "code",
   "execution_count": 107,
   "metadata": {},
   "outputs": [
    {
     "data": {
      "text/plain": [
       "tensor([[1., 0., 0., 0., 0., 0.],\n",
       "        [1., 0., 0., 0., 0., 0.],\n",
       "        [0., 0., 0., 0., 0., 1.],\n",
       "        [0., 0., 0., 1., 0., 0.],\n",
       "        [0., 0., 0., 0., 0., 1.],\n",
       "        [0., 0., 0., 1., 0., 0.],\n",
       "        [0., 0., 0., 0., 0., 1.],\n",
       "        [1., 0., 0., 0., 0., 0.],\n",
       "        [0., 0., 1., 0., 0., 0.],\n",
       "        [0., 0., 0., 0., 0., 1.]])"
      ]
     },
     "execution_count": 107,
     "metadata": {},
     "output_type": "execute_result"
    }
   ],
   "source": [
    "#let's find a region that was replaced at random!\n",
    "start = int(5e5)+5000\n",
    "end = start+10\n",
    "masked_seq[start:end]"
   ]
  },
  {
   "cell_type": "code",
   "execution_count": null,
   "metadata": {},
   "outputs": [
    {
     "data": {
      "text/plain": [
       "tensor([[0., 0., 1., 0., 0., 1.],\n",
       "        [1., 0., 0., 0., 0., 0.],\n",
       "        [0., 0., 0., 1., 0., 1.],\n",
       "        [0., 0., 0., 1., 0., 0.],\n",
       "        [0., 0., 0., 1., 0., 1.],\n",
       "        [0., 0., 0., 1., 0., 0.],\n",
       "        [0., 0., 0., 1., 0., 1.],\n",
       "        [1., 0., 0., 0., 0., 0.],\n",
       "        [0., 0., 1., 0., 0., 0.],\n",
       "        [1., 0., 0., 0., 0., 1.]])"
      ]
     },
     "execution_count": 108,
     "metadata": {},
     "output_type": "execute_result"
    }
   ],
   "source": [
    "unmasked_seq[start:end] #here the first value was changed to something random but the model doesn't know"
   ]
  },
  {
   "cell_type": "code",
   "execution_count": null,
   "metadata": {},
   "outputs": [
    {
     "data": {
      "text/plain": [
       "tensor([[0., 0., 1., 0., 0.],\n",
       "        [1., 0., 0., 0., 0.],\n",
       "        [0., 0., 0., 1., 0.],\n",
       "        [0., 0., 0., 1., 0.],\n",
       "        [0., 0., 0., 1., 0.],\n",
       "        [0., 0., 0., 1., 0.],\n",
       "        [0., 0., 0., 1., 0.],\n",
       "        [1., 0., 0., 0., 0.],\n",
       "        [0., 0., 1., 0., 0.],\n",
       "        [1., 0., 0., 0., 0.]])"
      ]
     },
     "execution_count": 109,
     "metadata": {},
     "output_type": "execute_result"
    }
   ],
   "source": [
    "seq.transpose(1,0)[start:end] #this is the original sequence, matches the unmasked, I'd say it looks good!!"
   ]
  },
  {
   "cell_type": "code",
   "execution_count": 110,
   "metadata": {},
   "outputs": [
    {
     "name": "stdout",
     "output_type": "stream",
     "text": [
      "tensor([ 88853.,  54288.,  56099.,  91999., 169865.,  63184.])\n"
     ]
    }
   ],
   "source": [
    "#final thing is rerun it and make sure the numbers add up\n",
    "masked_seq, unmasked_seq = mask_data(seq.transpose(1,0), mask_pct=0.15)\n",
    "print(masked_seq.sum(0))"
   ]
  },
  {
   "cell_type": "code",
   "execution_count": null,
   "metadata": {},
   "outputs": [
    {
     "name": "stdout",
     "output_type": "stream",
     "text": [
      "tensor(78981.)\n"
     ]
    }
   ],
   "source": [
    "#we get like 63000, wait but that excludes the 20% of the masked things that are idfferent\n",
    "print(unmasked_seq.sum(0)[-1])\n",
    "#this looks like, roughtly 80k is 15% of the 500k, so we're good"
   ]
  },
  {
   "cell_type": "markdown",
   "metadata": {},
   "source": [
    "# testing masking accessibility"
   ]
  },
  {
   "cell_type": "code",
   "execution_count": null,
   "metadata": {},
   "outputs": [
    {
     "name": "stdout",
     "output_type": "stream",
     "text": [
      "seq shape: torch.Size([100, 1])\n",
      "tensor([0.5000, 0.5000, 0.5000, 0.5000, 0.5000, 0.5000, 0.5000, 0.5000, 0.5000,\n",
      "        0.5000, 0.5000, 0.5000, 0.5000, 0.5000, 0.5000, 0.5000, 0.5000, 0.5000,\n",
      "        0.5000, 0.5000, 0.5000, 0.5000, 0.5000, 0.5000, 0.5000, 0.5000, 0.5000,\n",
      "        0.5000, 0.5000, 0.5000, 0.5000, 0.5000, 0.5000, 0.5000, 0.5000, 0.5000,\n",
      "        0.5000, 0.5000, 0.5000, 0.5000, 0.5000, 0.5000, 0.5000, 0.5000, 0.5000,\n",
      "        0.5000, 0.5000, 0.5000, 0.5000, 0.5000])\n",
      "tensor([ True, False, False, False,  True,  True,  True, False, False,  True,\n",
      "         True,  True, False,  True, False,  True,  True,  True, False, False,\n",
      "        False, False, False, False,  True, False, False,  True,  True,  True,\n",
      "         True,  True, False,  True,  True,  True, False, False,  True, False,\n",
      "         True, False,  True, False,  True,  True, False,  True, False,  True])\n"
     ]
    }
   ],
   "source": [
    "#still working on the function, let's just paste and define things here\n",
    "span = 2\n",
    "seq = torch.arange(100)\n",
    "mask_pct = 0.5\n",
    "\n",
    "num_elements = seq.shape[0]//span #chunks into chunks of size span\n",
    "    \n",
    "if len(seq.shape) == 1: #if it's just a 1D tensor, we need to add a dimension for the mask track\n",
    "    seq = seq.unsqueeze(1) #so now it's shape length x 1, so we can concatenate other things\n",
    "\n",
    "# Create a probability vector (one per token) and sample which tokens to mask\n",
    "probability_matrix = torch.full((num_elements,), mask_pct) #size of length, defines for each element if we mask it or not\n",
    "masked_indices = torch.bernoulli(probability_matrix).bool() #finds which indices to mask, so shape is length, and is True or False for each index\n",
    "\n",
    "print('seq shape:', seq.shape)\n",
    "print(probability_matrix)\n",
    "print(masked_indices) #so far no issues at all"
   ]
  },
  {
   "cell_type": "code",
   "execution_count": null,
   "metadata": {},
   "outputs": [
    {
     "name": "stdout",
     "output_type": "stream",
     "text": [
      "tensor([ 0,  8, 10, 12, 18, 20, 22, 26, 30, 32, 34, 48, 54, 56, 58, 60, 62, 66,\n",
      "        68, 70, 76, 80, 84, 88, 90, 94, 98])\n",
      "tensor([32, 33, 80, 81, 12, 13, 34, 35, 58, 59, 90, 91,  0,  1, 84, 85, 70, 71,\n",
      "        60, 61,  8,  9, 56, 57, 10, 11, 88, 89, 18, 19, 66, 67, 20, 21, 68, 69,\n",
      "        22, 23, 94, 95, 98, 99])\n",
      "tensor([30, 31, 26, 27])\n",
      "tensor([62, 63, 76, 77, 54, 55, 48, 49])\n"
     ]
    }
   ],
   "source": [
    "# Get positions that were chosen to be masked\n",
    "all_mask_positions = torch.nonzero(masked_indices).squeeze()*span #squeeze to remove the extra dimension, and multiply by span to get the actual positions in the original sequence\n",
    "num_masked = all_mask_positions.numel()\n",
    "\n",
    "# Determine counts for the three groups: 80% truly masked, 10% random, 10% unchanged\n",
    "num_mask = int(0.8 * num_masked)\n",
    "num_random = int(0.1 * num_masked)\n",
    "# To avoid rounding issues, let the remaining be unchanged\n",
    "# num_unchanged = num_masked - num_mask - num_random\n",
    "\n",
    "# Shuffle the masked positions to randomly assign each to a category\n",
    "permuted = all_mask_positions[torch.randperm(num_masked)]\n",
    "mask_positions = permuted[:num_mask]  # 80%: replace with mask token\n",
    "random_positions = permuted[num_mask:num_mask+num_random]  # 10%: random token\n",
    "unchanged_positions = permuted[num_mask+num_random:]  # 10%: leave as is\n",
    "\n",
    "if span > 1:\n",
    "    masked_indices = masked_indices.repeat_interleave(span) #so now we have a mask for every element in the span, so size length again\n",
    "    #now for each of the positions, we need to expand and then make masking apply per index\n",
    "    mask_positions = (mask_positions.unsqueeze(1) + torch.arange(span)).flatten()\n",
    "    random_positions = (random_positions.unsqueeze(1) + torch.arange(span)).flatten()\n",
    "    unchanged_positions = (unchanged_positions.unsqueeze(1) + torch.arange(span)).flatten()\n",
    "    #and now they are grouped and we can just deal with them\n",
    "\n",
    "#this is where things get tricky, but it should work\n",
    "\n",
    "print(all_mask_positions) #this seems totally fine and consistent with the above, like 98 and 99 indices are masked, so are 01\n",
    "print(mask_positions)\n",
    "print(random_positions)\n",
    "print(unchanged_positions)"
   ]
  },
  {
   "cell_type": "code",
   "execution_count": null,
   "metadata": {},
   "outputs": [
    {
     "name": "stdout",
     "output_type": "stream",
     "text": [
      "tensor([[ 0.,  1.],\n",
      "        [ 1.,  1.],\n",
      "        [ 2.,  0.],\n",
      "        [ 3.,  0.],\n",
      "        [ 4.,  0.],\n",
      "        [ 5.,  0.],\n",
      "        [ 6.,  0.],\n",
      "        [ 7.,  0.],\n",
      "        [ 8.,  1.],\n",
      "        [ 9.,  1.],\n",
      "        [10.,  1.],\n",
      "        [11.,  1.],\n",
      "        [12.,  1.],\n",
      "        [13.,  1.],\n",
      "        [14.,  0.],\n",
      "        [15.,  0.],\n",
      "        [16.,  0.],\n",
      "        [17.,  0.],\n",
      "        [18.,  1.],\n",
      "        [19.,  1.],\n",
      "        [20.,  1.],\n",
      "        [21.,  1.],\n",
      "        [22.,  1.],\n",
      "        [23.,  1.],\n",
      "        [24.,  0.],\n",
      "        [25.,  0.],\n",
      "        [26.,  1.],\n",
      "        [27.,  1.],\n",
      "        [28.,  0.],\n",
      "        [29.,  0.],\n",
      "        [30.,  1.],\n",
      "        [31.,  1.],\n",
      "        [32.,  1.],\n",
      "        [33.,  1.],\n",
      "        [34.,  1.],\n",
      "        [35.,  1.],\n",
      "        [36.,  0.],\n",
      "        [37.,  0.],\n",
      "        [38.,  0.],\n",
      "        [39.,  0.],\n",
      "        [40.,  0.],\n",
      "        [41.,  0.],\n",
      "        [42.,  0.],\n",
      "        [43.,  0.],\n",
      "        [44.,  0.],\n",
      "        [45.,  0.],\n",
      "        [46.,  0.],\n",
      "        [47.,  0.],\n",
      "        [48.,  1.],\n",
      "        [49.,  1.],\n",
      "        [50.,  0.],\n",
      "        [51.,  0.],\n",
      "        [52.,  0.],\n",
      "        [53.,  0.],\n",
      "        [54.,  1.],\n",
      "        [55.,  1.],\n",
      "        [56.,  1.],\n",
      "        [57.,  1.],\n",
      "        [58.,  1.],\n",
      "        [59.,  1.],\n",
      "        [60.,  1.],\n",
      "        [61.,  1.],\n",
      "        [62.,  1.],\n",
      "        [63.,  1.],\n",
      "        [64.,  0.],\n",
      "        [65.,  0.],\n",
      "        [66.,  1.],\n",
      "        [67.,  1.],\n",
      "        [68.,  1.],\n",
      "        [69.,  1.],\n",
      "        [70.,  1.],\n",
      "        [71.,  1.],\n",
      "        [72.,  0.],\n",
      "        [73.,  0.],\n",
      "        [74.,  0.],\n",
      "        [75.,  0.],\n",
      "        [76.,  1.],\n",
      "        [77.,  1.],\n",
      "        [78.,  0.],\n",
      "        [79.,  0.],\n",
      "        [80.,  1.],\n",
      "        [81.,  1.],\n",
      "        [82.,  0.],\n",
      "        [83.,  0.],\n",
      "        [84.,  1.],\n",
      "        [85.,  1.],\n",
      "        [86.,  0.],\n",
      "        [87.,  0.],\n",
      "        [88.,  1.],\n",
      "        [89.,  1.],\n",
      "        [90.,  1.],\n",
      "        [91.,  1.],\n",
      "        [92.,  0.],\n",
      "        [93.,  0.],\n",
      "        [94.,  1.],\n",
      "        [95.,  1.],\n",
      "        [96.,  0.],\n",
      "        [97.,  0.],\n",
      "        [98.,  1.],\n",
      "        [99.,  1.]])\n"
     ]
    }
   ],
   "source": [
    "#now this is whatever\n",
    "\n",
    "# Append the mask track to the sequence, resulting in a tensor of shape [seq_len, 6], or [seq_len, 2] if acc data\n",
    "# where the last column is the mask track\n",
    "seq_unmask = torch.cat([seq, masked_indices.unsqueeze(1).float()], dim=1) #so now seq_unmask is shape length x 6, where 6 is the 5 one hot classes and the mask\n",
    "\n",
    "print(seq_unmask) #mask lines up as you'd expect"
   ]
  },
  {
   "cell_type": "code",
   "execution_count": null,
   "metadata": {},
   "outputs": [
    {
     "name": "stdout",
     "output_type": "stream",
     "text": [
      "tensor([[ 0.,  1.],\n",
      "        [ 0.,  1.],\n",
      "        [ 2.,  0.],\n",
      "        [ 3.,  0.],\n",
      "        [ 4.,  0.],\n",
      "        [ 5.,  0.],\n",
      "        [ 6.,  0.],\n",
      "        [ 7.,  0.],\n",
      "        [ 0.,  1.],\n",
      "        [ 0.,  1.],\n",
      "        [ 0.,  1.],\n",
      "        [ 0.,  1.],\n",
      "        [ 0.,  1.],\n",
      "        [ 0.,  1.],\n",
      "        [14.,  0.],\n",
      "        [15.,  0.],\n",
      "        [16.,  0.],\n",
      "        [17.,  0.],\n",
      "        [ 0.,  1.],\n",
      "        [ 0.,  1.],\n",
      "        [ 0.,  1.],\n",
      "        [ 0.,  1.],\n",
      "        [ 0.,  1.],\n",
      "        [ 0.,  1.],\n",
      "        [24.,  0.],\n",
      "        [25.,  0.],\n",
      "        [26.,  1.],\n",
      "        [27.,  1.],\n",
      "        [28.,  0.],\n",
      "        [29.,  0.],\n",
      "        [30.,  1.],\n",
      "        [31.,  1.],\n",
      "        [ 0.,  1.],\n",
      "        [ 0.,  1.],\n",
      "        [ 0.,  1.],\n",
      "        [ 0.,  1.],\n",
      "        [36.,  0.],\n",
      "        [37.,  0.],\n",
      "        [38.,  0.],\n",
      "        [39.,  0.],\n",
      "        [40.,  0.],\n",
      "        [41.,  0.],\n",
      "        [42.,  0.],\n",
      "        [43.,  0.],\n",
      "        [44.,  0.],\n",
      "        [45.,  0.],\n",
      "        [46.,  0.],\n",
      "        [47.,  0.],\n",
      "        [48.,  1.],\n",
      "        [49.,  1.],\n",
      "        [50.,  0.],\n",
      "        [51.,  0.],\n",
      "        [52.,  0.],\n",
      "        [53.,  0.],\n",
      "        [54.,  1.],\n",
      "        [55.,  1.],\n",
      "        [ 0.,  1.],\n",
      "        [ 0.,  1.],\n",
      "        [ 0.,  1.],\n",
      "        [ 0.,  1.],\n",
      "        [ 0.,  1.],\n",
      "        [ 0.,  1.],\n",
      "        [62.,  1.],\n",
      "        [63.,  1.],\n",
      "        [64.,  0.],\n",
      "        [65.,  0.],\n",
      "        [ 0.,  1.],\n",
      "        [ 0.,  1.],\n",
      "        [ 0.,  1.],\n",
      "        [ 0.,  1.],\n",
      "        [ 0.,  1.],\n",
      "        [ 0.,  1.],\n",
      "        [72.,  0.],\n",
      "        [73.,  0.],\n",
      "        [74.,  0.],\n",
      "        [75.,  0.],\n",
      "        [76.,  1.],\n",
      "        [77.,  1.],\n",
      "        [78.,  0.],\n",
      "        [79.,  0.],\n",
      "        [ 0.,  1.],\n",
      "        [ 0.,  1.],\n",
      "        [82.,  0.],\n",
      "        [83.,  0.],\n",
      "        [ 0.,  1.],\n",
      "        [ 0.,  1.],\n",
      "        [86.,  0.],\n",
      "        [87.,  0.],\n",
      "        [ 0.,  1.],\n",
      "        [ 0.,  1.],\n",
      "        [ 0.,  1.],\n",
      "        [ 0.,  1.],\n",
      "        [92.,  0.],\n",
      "        [93.,  0.],\n",
      "        [ 0.,  1.],\n",
      "        [ 0.,  1.],\n",
      "        [96.,  0.],\n",
      "        [97.,  0.],\n",
      "        [ 0.,  1.],\n",
      "        [ 0.,  1.]])\n"
     ]
    }
   ],
   "source": [
    "seq_masked = seq_unmask.clone()  # Create a copy to modify, note that the mask track should be 0 for ones where it's not masked but is random or unchanged\n",
    "seq_masked[mask_positions, :-1] = 0 \n",
    "print(seq_masked) #looks exactly as you'd exxpect!! where it's 1 just set sto 0!!"
   ]
  },
  {
   "cell_type": "code",
   "execution_count": null,
   "metadata": {},
   "outputs": [
    {
     "data": {
      "text/plain": [
       "tensor([[20, 21],\n",
       "        [10, 11],\n",
       "        [31, 32],\n",
       "        [62, 63]])"
      ]
     },
     "execution_count": 120,
     "metadata": {},
     "output_type": "execute_result"
    }
   ],
   "source": [
    "#and the numbers are as you'd exxpect, \n",
    "\n",
    "#hard part is the replacing with random, let's see how we could do that\n",
    "\n",
    "rand_start = torch.randint(0, seq.shape[0]-span, (random_positions.numel(),)) #only 4!~\n",
    "rand_idx = (rand_start.unsqueeze(1) + torch.arange(span))\n",
    "rand_idx"
   ]
  },
  {
   "cell_type": "code",
   "execution_count": 121,
   "metadata": {},
   "outputs": [
    {
     "data": {
      "text/plain": [
       "tensor([20, 21, 10, 11, 31, 32, 62, 63])"
      ]
     },
     "execution_count": 121,
     "metadata": {},
     "output_type": "execute_result"
    }
   ],
   "source": [
    "rand_idx = rand_idx.flatten()\n",
    "rand_idx"
   ]
  },
  {
   "cell_type": "code",
   "execution_count": null,
   "metadata": {},
   "outputs": [],
   "source": [
    "#maybe just assign index xsequentially after flattening might work?"
   ]
  },
  {
   "cell_type": "code",
   "execution_count": null,
   "metadata": {},
   "outputs": [
    {
     "data": {
      "text/plain": [
       "tensor([20, 21, 10, 11, 31, 32, 62, 63])"
      ]
     },
     "execution_count": 122,
     "metadata": {},
     "output_type": "execute_result"
    }
   ],
   "source": [
    "rand_vals = seq.squeeze(1)[rand_idx] #this is the random values we want to replace with\n",
    "rand_vals #will match exactly because sequence is just the indexx"
   ]
  },
  {
   "cell_type": "code",
   "execution_count": 123,
   "metadata": {},
   "outputs": [
    {
     "data": {
      "text/plain": [
       "tensor([30, 31, 26, 27])"
      ]
     },
     "execution_count": 123,
     "metadata": {},
     "output_type": "execute_result"
    }
   ],
   "source": [
    "random_positions"
   ]
  },
  {
   "cell_type": "code",
   "execution_count": 126,
   "metadata": {},
   "outputs": [
    {
     "data": {
      "text/plain": [
       "tensor([30., 31., 26., 27.])"
      ]
     },
     "execution_count": 126,
     "metadata": {},
     "output_type": "execute_result"
    }
   ],
   "source": [
    "seq_masked[random_positions, 0]"
   ]
  },
  {
   "cell_type": "code",
   "execution_count": null,
   "metadata": {},
   "outputs": [
    {
     "data": {
      "text/plain": [
       "tensor([43, 44, 11, 12])"
      ]
     },
     "execution_count": 127,
     "metadata": {},
     "output_type": "execute_result"
    }
   ],
   "source": [
    "#wait a minute... we already exxpanded the random positions, so we don't need to exxpand it again!! those positions are correct. What we need to do is find numbers that are divided by span, found too many samples!!\n",
    "\n",
    "rand_start = torch.randint(0, seq.shape[0]-span, (random_positions.numel()//span,))\n",
    "rand_idx = (rand_start.unsqueeze(1) + torch.arange(span)).flatten()\n",
    "rand_vals = seq.squeeze(1)[rand_idx] #this is the random values we want to replace with\n",
    "rand_vals"
   ]
  },
  {
   "cell_type": "code",
   "execution_count": 130,
   "metadata": {},
   "outputs": [
    {
     "data": {
      "text/plain": [
       "tensor([[ 0.,  1.],\n",
       "        [ 0.,  1.],\n",
       "        [ 2.,  0.],\n",
       "        [ 3.,  0.],\n",
       "        [ 4.,  0.],\n",
       "        [ 5.,  0.],\n",
       "        [ 6.,  0.],\n",
       "        [ 7.,  0.],\n",
       "        [ 0.,  1.],\n",
       "        [ 0.,  1.],\n",
       "        [ 0.,  1.],\n",
       "        [ 0.,  1.],\n",
       "        [ 0.,  1.],\n",
       "        [ 0.,  1.],\n",
       "        [14.,  0.],\n",
       "        [15.,  0.],\n",
       "        [16.,  0.],\n",
       "        [17.,  0.],\n",
       "        [ 0.,  1.],\n",
       "        [ 0.,  1.],\n",
       "        [ 0.,  1.],\n",
       "        [ 0.,  1.],\n",
       "        [ 0.,  1.],\n",
       "        [ 0.,  1.],\n",
       "        [24.,  0.],\n",
       "        [25.,  0.],\n",
       "        [11.,  1.],\n",
       "        [12.,  1.],\n",
       "        [28.,  0.],\n",
       "        [29.,  0.],\n",
       "        [43.,  1.],\n",
       "        [44.,  1.],\n",
       "        [ 0.,  1.],\n",
       "        [ 0.,  1.],\n",
       "        [ 0.,  1.],\n",
       "        [ 0.,  1.],\n",
       "        [36.,  0.],\n",
       "        [37.,  0.],\n",
       "        [38.,  0.],\n",
       "        [39.,  0.],\n",
       "        [40.,  0.],\n",
       "        [41.,  0.],\n",
       "        [42.,  0.],\n",
       "        [43.,  0.],\n",
       "        [44.,  0.],\n",
       "        [45.,  0.],\n",
       "        [46.,  0.],\n",
       "        [47.,  0.],\n",
       "        [48.,  1.],\n",
       "        [49.,  1.],\n",
       "        [50.,  0.],\n",
       "        [51.,  0.],\n",
       "        [52.,  0.],\n",
       "        [53.,  0.],\n",
       "        [54.,  1.],\n",
       "        [55.,  1.],\n",
       "        [ 0.,  1.],\n",
       "        [ 0.,  1.],\n",
       "        [ 0.,  1.],\n",
       "        [ 0.,  1.],\n",
       "        [ 0.,  1.],\n",
       "        [ 0.,  1.],\n",
       "        [62.,  1.],\n",
       "        [63.,  1.],\n",
       "        [64.,  0.],\n",
       "        [65.,  0.],\n",
       "        [ 0.,  1.],\n",
       "        [ 0.,  1.],\n",
       "        [ 0.,  1.],\n",
       "        [ 0.,  1.],\n",
       "        [ 0.,  1.],\n",
       "        [ 0.,  1.],\n",
       "        [72.,  0.],\n",
       "        [73.,  0.],\n",
       "        [74.,  0.],\n",
       "        [75.,  0.],\n",
       "        [76.,  1.],\n",
       "        [77.,  1.],\n",
       "        [78.,  0.],\n",
       "        [79.,  0.],\n",
       "        [ 0.,  1.],\n",
       "        [ 0.,  1.],\n",
       "        [82.,  0.],\n",
       "        [83.,  0.],\n",
       "        [ 0.,  1.],\n",
       "        [ 0.,  1.],\n",
       "        [86.,  0.],\n",
       "        [87.,  0.],\n",
       "        [ 0.,  1.],\n",
       "        [ 0.,  1.],\n",
       "        [ 0.,  1.],\n",
       "        [ 0.,  1.],\n",
       "        [92.,  0.],\n",
       "        [93.,  0.],\n",
       "        [ 0.,  1.],\n",
       "        [ 0.,  1.],\n",
       "        [96.,  0.],\n",
       "        [97.,  0.],\n",
       "        [ 0.,  1.],\n",
       "        [ 0.,  1.]])"
      ]
     },
     "execution_count": 130,
     "metadata": {},
     "output_type": "execute_result"
    }
   ],
   "source": [
    "#now the values themselves match, can just assign!!\n",
    "seq_masked[random_positions, 0] = rand_vals.float()\n",
    "seq_masked"
   ]
  },
  {
   "cell_type": "code",
   "execution_count": 131,
   "metadata": {},
   "outputs": [
    {
     "data": {
      "text/plain": [
       "tensor([[ 0.,  1.],\n",
       "        [ 0.,  1.],\n",
       "        [ 2.,  0.],\n",
       "        [ 3.,  0.],\n",
       "        [ 4.,  0.],\n",
       "        [ 5.,  0.],\n",
       "        [ 6.,  0.],\n",
       "        [ 7.,  0.],\n",
       "        [ 0.,  1.],\n",
       "        [ 0.,  1.],\n",
       "        [ 0.,  1.],\n",
       "        [ 0.,  1.],\n",
       "        [ 0.,  1.],\n",
       "        [ 0.,  1.],\n",
       "        [14.,  0.],\n",
       "        [15.,  0.],\n",
       "        [16.,  0.],\n",
       "        [17.,  0.],\n",
       "        [ 0.,  1.],\n",
       "        [ 0.,  1.],\n",
       "        [ 0.,  1.],\n",
       "        [ 0.,  1.],\n",
       "        [ 0.,  1.],\n",
       "        [ 0.,  1.],\n",
       "        [24.,  0.],\n",
       "        [25.,  0.],\n",
       "        [11.,  0.],\n",
       "        [12.,  0.],\n",
       "        [28.,  0.],\n",
       "        [29.,  0.],\n",
       "        [43.,  0.],\n",
       "        [44.,  0.],\n",
       "        [ 0.,  1.],\n",
       "        [ 0.,  1.],\n",
       "        [ 0.,  1.],\n",
       "        [ 0.,  1.],\n",
       "        [36.,  0.],\n",
       "        [37.,  0.],\n",
       "        [38.,  0.],\n",
       "        [39.,  0.],\n",
       "        [40.,  0.],\n",
       "        [41.,  0.],\n",
       "        [42.,  0.],\n",
       "        [43.,  0.],\n",
       "        [44.,  0.],\n",
       "        [45.,  0.],\n",
       "        [46.,  0.],\n",
       "        [47.,  0.],\n",
       "        [48.,  0.],\n",
       "        [49.,  0.],\n",
       "        [50.,  0.],\n",
       "        [51.,  0.],\n",
       "        [52.,  0.],\n",
       "        [53.,  0.],\n",
       "        [54.,  0.],\n",
       "        [55.,  0.],\n",
       "        [ 0.,  1.],\n",
       "        [ 0.,  1.],\n",
       "        [ 0.,  1.],\n",
       "        [ 0.,  1.],\n",
       "        [ 0.,  1.],\n",
       "        [ 0.,  1.],\n",
       "        [62.,  0.],\n",
       "        [63.,  0.],\n",
       "        [64.,  0.],\n",
       "        [65.,  0.],\n",
       "        [ 0.,  1.],\n",
       "        [ 0.,  1.],\n",
       "        [ 0.,  1.],\n",
       "        [ 0.,  1.],\n",
       "        [ 0.,  1.],\n",
       "        [ 0.,  1.],\n",
       "        [72.,  0.],\n",
       "        [73.,  0.],\n",
       "        [74.,  0.],\n",
       "        [75.,  0.],\n",
       "        [76.,  0.],\n",
       "        [77.,  0.],\n",
       "        [78.,  0.],\n",
       "        [79.,  0.],\n",
       "        [ 0.,  1.],\n",
       "        [ 0.,  1.],\n",
       "        [82.,  0.],\n",
       "        [83.,  0.],\n",
       "        [ 0.,  1.],\n",
       "        [ 0.,  1.],\n",
       "        [86.,  0.],\n",
       "        [87.,  0.],\n",
       "        [ 0.,  1.],\n",
       "        [ 0.,  1.],\n",
       "        [ 0.,  1.],\n",
       "        [ 0.,  1.],\n",
       "        [92.,  0.],\n",
       "        [93.,  0.],\n",
       "        [ 0.,  1.],\n",
       "        [ 0.,  1.],\n",
       "        [96.,  0.],\n",
       "        [97.,  0.],\n",
       "        [ 0.,  1.],\n",
       "        [ 0.,  1.]])"
      ]
     },
     "execution_count": 131,
     "metadata": {},
     "output_type": "execute_result"
    }
   ],
   "source": [
    "#and now remove the indication that it's masked\n",
    "seq_masked[random_positions, -1] = 0\n",
    "seq_masked[unchanged_positions, -1] = 0\n",
    "seq_masked"
   ]
  },
  {
   "cell_type": "code",
   "execution_count": 135,
   "metadata": {},
   "outputs": [
    {
     "name": "stdout",
     "output_type": "stream",
     "text": [
      "torch.Size([100, 2])\n",
      "torch.Size([100, 2])\n"
     ]
    }
   ],
   "source": [
    "#that actually worked really well! Wow I didn't think it would work like that\n",
    "def mask_seq(seq, mask_pct=0.15, replace_with_N=False, span=1, stype='seq'):\n",
    "    \"\"\"This function will mask the sequence data, it does the BERT masking where you do 80% truly masked, 10% random, 10% unchanged\n",
    "    Note that for random replacement, it cannot be the N token, sicne it's very rare anyways, always random nucleotide!\n",
    "    Args:\n",
    "        seq: the sequence to mask, this is a tensor of shape (length, 5) if one hot encoding, or (length,) if not one hot and is accessibility data\n",
    "        mask_pct: the percentage of the sequence to mask, default is 0.15 or 15%\n",
    "        replace_with_N: whether to allow random replacement of values with N\n",
    "        span: the size of the span to mask, default is 1, so it masks every element independently, but can be larger to mask chunks of size span\n",
    "        stype: the type of sequence, 'seq' for nucleotide data and 'acc' for accessibility data, default is 'seq'\n",
    "    Returns:\n",
    "        seq: the masked sequence, this is a tensor of shape (length, 6) if one hot encoding or (length, 2) if acc, where the last column is the mask track (only tells if masked, some are random or unchanged)\n",
    "        seq_unmask: the unmasked sequence, this is a tensor of shape (length, 6) if ohe or (length, 2), where the last column is the mask track (tells all elements that have been changed or goign to evaluate)\n",
    "    \"\"\"\n",
    "\n",
    "    if replace_with_N:\n",
    "        random_max = 5\n",
    "    else:\n",
    "        random_max = 4\n",
    "    \n",
    "    num_elements = seq.shape[0]//span #chunks into chunks of size span\n",
    "    \n",
    "    if len(seq.shape) == 1: #if it's just a 1D tensor, we need to add a dimension for the mask track\n",
    "        seq = seq.unsqueeze(1) #so now it's shape length x 1, so we can concatenate other things\n",
    "    \n",
    "    # Create a probability vector (one per token) and sample which tokens to mask\n",
    "    probability_matrix = torch.full((num_elements,), mask_pct) #size of length, defines for each element if we mask it or not\n",
    "    masked_indices = torch.bernoulli(probability_matrix).bool() #finds which indices to mask, so shape is length, and is True or False for each index\n",
    "\n",
    "    # Get positions that were chosen to be masked\n",
    "    all_mask_positions = torch.nonzero(masked_indices).squeeze()*span #squeeze to remove the extra dimension, and multiply by span to get the actual positions in the original sequence\n",
    "    num_masked = all_mask_positions.numel()\n",
    "    \n",
    "    # Determine counts for the three groups: 80% truly masked, 10% random, 10% unchanged\n",
    "    num_mask = int(0.8 * num_masked)\n",
    "    num_random = int(0.1 * num_masked)\n",
    "    # To avoid rounding issues, let the remaining be unchanged\n",
    "    # num_unchanged = num_masked - num_mask - num_random\n",
    "    \n",
    "    # Shuffle the masked positions to randomly assign each to a category\n",
    "    permuted = all_mask_positions[torch.randperm(num_masked)]\n",
    "    mask_positions = permuted[:num_mask]  # 80%: replace with mask token\n",
    "    random_positions = permuted[num_mask:num_mask+num_random]  # 10%: random token\n",
    "    unchanged_positions = permuted[num_mask+num_random:]  # 10%: leave as is\n",
    "\n",
    "    if span > 1:\n",
    "        masked_indices = masked_indices.repeat_interleave(span) #so now we have a mask for every element in the span, so size length again\n",
    "        #now for each of the positions, we need to expand and then make masking apply per index\n",
    "        mask_positions = (mask_positions.unsqueeze(1) + torch.arange(span)).flatten()\n",
    "        random_positions = (random_positions.unsqueeze(1) + torch.arange(span)).flatten()\n",
    "        unchanged_positions = (unchanged_positions.unsqueeze(1) + torch.arange(span)).flatten()\n",
    "        #and now they are grouped and we can just deal with them\n",
    "\n",
    "    # Append the mask track to the sequence, resulting in a tensor of shape [seq_len, 6], or [seq_len, 2] if acc data\n",
    "    # where the last column is the mask track\n",
    "    seq_unmask = torch.cat([seq, masked_indices.unsqueeze(1).float()], dim=1) #so now seq_unmask is shape length x 6, where 6 is the 5 one hot classes and the mask\n",
    "    \n",
    "    seq_masked = seq_unmask.clone()  # Create a copy to modify, note that the mask track should be 0 for ones where it's not masked but is random or unchanged\n",
    "    seq_masked[mask_positions, :-1] = 0  # Set to zero for every class but the last (tells it it's masked)\n",
    "    \n",
    "    if stype == 'seq':\n",
    "        random_tokens = torch.randint(0, random_max, (random_positions.numel(),)) #generate random values for each position\n",
    "        random_one_hot = torch.zeros((random_positions.numel(), 5)) #one hot encode them\n",
    "        random_one_hot.scatter_(1, random_tokens.unsqueeze(1), 1.0)\n",
    "        seq_masked[random_positions, :5] = random_one_hot #assign them to the set positions\n",
    "        \n",
    "    elif stype == 'acc':\n",
    "        #for accessibility, we will select random values from somewhere else in the sequence and then slightly shift and noise them\n",
    "        #get a random value between 0 and len(seq)-span\n",
    "        rand_start = torch.randint(0, seq.shape[0]-span, (random_positions.numel()//span,))\n",
    "        rand_idx = (rand_start.unsqueeze(1) + torch.arange(span)) #so now we have a random index for each of the random positions, and we can just select from there\n",
    "        rand_vals = seq.squeeze(1)[rand_idx] #get the values from the sequence at those random positions, so now we have a random value for each of the random positions\n",
    "        #and we can add some noise to it, so we can just add a small random value to it. Noise will be values between -0.1 and 0.1\n",
    "        rand_vals_mean = rand_vals.mean(1, keepdim=True) #get the mean of the random values for each position, keeps the dim so we can broadcast it\n",
    "        noise = torch.randn(rand_vals.shape) * rand_vals_mean * 0.1 #gaussian noise with std of 0.1 times the mean of the random values, so we can add some larger nosie to larger values\n",
    "        rand_vals = (rand_vals + noise).flatten()\n",
    "        #and now set the values\n",
    "        seq_masked[random_positions, 0] = rand_vals #set the values to the random values with noise, so now we have a random value for each of the random positions\n",
    "    \n",
    "    #and remove the masked value, it doesn't know it's masked\n",
    "    seq_masked[random_positions, -1] = 0\n",
    "    \n",
    "    #and we remove the mask token from the unchanged value\n",
    "    seq_masked[unchanged_positions, -1] = 0\n",
    "    # seq = seq_masked #now we have the masked sequence, so we can use this for the rest of the processing\n",
    "    \n",
    "    return seq_masked, seq_unmask #return the masked sequence and the unmasked sequence, so we can use it for the rest of the processing\n",
    "\n",
    "seq = torch.arange(100).float()\n",
    "mask_pct = 0.5\n",
    "masked_seq, unmasked_seq = mask_seq(seq, mask_pct=mask_pct, replace_with_N=False, span=2, stype='acc')\n",
    "print(masked_seq.shape) #should be length x 6, so 5 for the one hot and 1 for the mask track\n",
    "print(unmasked_seq.shape)"
   ]
  },
  {
   "cell_type": "code",
   "execution_count": null,
   "metadata": {},
   "outputs": [
    {
     "data": {
      "text/plain": [
       "tensor([[ 0,  0],\n",
       "        [ 1,  0],\n",
       "        [ 2,  0],\n",
       "        [ 3,  0],\n",
       "        [ 4,  0],\n",
       "        [ 5,  0],\n",
       "        [ 0,  1],\n",
       "        [ 0,  1],\n",
       "        [58,  0],\n",
       "        [55,  0],\n",
       "        [10,  0],\n",
       "        [11,  0],\n",
       "        [12,  0],\n",
       "        [13,  0],\n",
       "        [ 0,  1],\n",
       "        [ 0,  1],\n",
       "        [16,  0],\n",
       "        [17,  0],\n",
       "        [18,  0],\n",
       "        [19,  0],\n",
       "        [20,  0],\n",
       "        [21,  0],\n",
       "        [ 0,  1],\n",
       "        [ 0,  1],\n",
       "        [24,  0],\n",
       "        [25,  0],\n",
       "        [ 0,  1],\n",
       "        [ 0,  1],\n",
       "        [ 0,  1],\n",
       "        [ 0,  1],\n",
       "        [30,  0],\n",
       "        [31,  0],\n",
       "        [32,  0],\n",
       "        [33,  0],\n",
       "        [34,  0],\n",
       "        [35,  0],\n",
       "        [ 0,  1],\n",
       "        [ 0,  1],\n",
       "        [ 0,  1],\n",
       "        [ 0,  1],\n",
       "        [40,  0],\n",
       "        [41,  0],\n",
       "        [44,  0],\n",
       "        [45,  0],\n",
       "        [44,  0],\n",
       "        [45,  0],\n",
       "        [ 0,  1],\n",
       "        [ 0,  1],\n",
       "        [48,  0],\n",
       "        [49,  0],\n",
       "        [ 0,  1],\n",
       "        [ 0,  1],\n",
       "        [ 0,  1],\n",
       "        [ 0,  1],\n",
       "        [54,  0],\n",
       "        [55,  0],\n",
       "        [56,  0],\n",
       "        [57,  0],\n",
       "        [58,  0],\n",
       "        [59,  0],\n",
       "        [ 0,  1],\n",
       "        [ 0,  1],\n",
       "        [62,  0],\n",
       "        [63,  0],\n",
       "        [ 0,  1],\n",
       "        [ 0,  1],\n",
       "        [ 0,  1],\n",
       "        [ 0,  1],\n",
       "        [ 0,  1],\n",
       "        [ 0,  1],\n",
       "        [ 0,  1],\n",
       "        [ 0,  1],\n",
       "        [72,  0],\n",
       "        [73,  0],\n",
       "        [74,  0],\n",
       "        [75,  0],\n",
       "        [76,  0],\n",
       "        [77,  0],\n",
       "        [ 0,  1],\n",
       "        [ 0,  1],\n",
       "        [ 0,  1],\n",
       "        [ 0,  1],\n",
       "        [82,  0],\n",
       "        [83,  0],\n",
       "        [84,  0],\n",
       "        [85,  0],\n",
       "        [ 0,  1],\n",
       "        [ 0,  1],\n",
       "        [88,  0],\n",
       "        [89,  0],\n",
       "        [90,  0],\n",
       "        [91,  0],\n",
       "        [ 0,  1],\n",
       "        [ 0,  1],\n",
       "        [94,  0],\n",
       "        [95,  0],\n",
       "        [ 0,  1],\n",
       "        [ 0,  1],\n",
       "        [98,  0],\n",
       "        [99,  0]])"
      ]
     },
     "execution_count": 138,
     "metadata": {},
     "output_type": "execute_result"
    }
   ],
   "source": [
    "masked_seq.long() #obvious when it was replaced with the wrong thing..."
   ]
  },
  {
   "cell_type": "code",
   "execution_count": 139,
   "metadata": {},
   "outputs": [
    {
     "data": {
      "text/plain": [
       "tensor([[ 0,  1],\n",
       "        [ 1,  1],\n",
       "        [ 2,  0],\n",
       "        [ 3,  0],\n",
       "        [ 4,  0],\n",
       "        [ 5,  0],\n",
       "        [ 6,  1],\n",
       "        [ 7,  1],\n",
       "        [ 8,  1],\n",
       "        [ 9,  1],\n",
       "        [10,  0],\n",
       "        [11,  0],\n",
       "        [12,  0],\n",
       "        [13,  0],\n",
       "        [14,  1],\n",
       "        [15,  1],\n",
       "        [16,  0],\n",
       "        [17,  0],\n",
       "        [18,  0],\n",
       "        [19,  0],\n",
       "        [20,  0],\n",
       "        [21,  0],\n",
       "        [22,  1],\n",
       "        [23,  1],\n",
       "        [24,  0],\n",
       "        [25,  0],\n",
       "        [26,  1],\n",
       "        [27,  1],\n",
       "        [28,  1],\n",
       "        [29,  1],\n",
       "        [30,  0],\n",
       "        [31,  0],\n",
       "        [32,  1],\n",
       "        [33,  1],\n",
       "        [34,  0],\n",
       "        [35,  0],\n",
       "        [36,  1],\n",
       "        [37,  1],\n",
       "        [38,  1],\n",
       "        [39,  1],\n",
       "        [40,  0],\n",
       "        [41,  0],\n",
       "        [42,  1],\n",
       "        [43,  1],\n",
       "        [44,  0],\n",
       "        [45,  0],\n",
       "        [46,  1],\n",
       "        [47,  1],\n",
       "        [48,  0],\n",
       "        [49,  0],\n",
       "        [50,  1],\n",
       "        [51,  1],\n",
       "        [52,  1],\n",
       "        [53,  1],\n",
       "        [54,  0],\n",
       "        [55,  0],\n",
       "        [56,  0],\n",
       "        [57,  0],\n",
       "        [58,  0],\n",
       "        [59,  0],\n",
       "        [60,  1],\n",
       "        [61,  1],\n",
       "        [62,  0],\n",
       "        [63,  0],\n",
       "        [64,  1],\n",
       "        [65,  1],\n",
       "        [66,  1],\n",
       "        [67,  1],\n",
       "        [68,  1],\n",
       "        [69,  1],\n",
       "        [70,  1],\n",
       "        [71,  1],\n",
       "        [72,  0],\n",
       "        [73,  0],\n",
       "        [74,  0],\n",
       "        [75,  0],\n",
       "        [76,  0],\n",
       "        [77,  0],\n",
       "        [78,  1],\n",
       "        [79,  1],\n",
       "        [80,  1],\n",
       "        [81,  1],\n",
       "        [82,  0],\n",
       "        [83,  0],\n",
       "        [84,  0],\n",
       "        [85,  0],\n",
       "        [86,  1],\n",
       "        [87,  1],\n",
       "        [88,  0],\n",
       "        [89,  0],\n",
       "        [90,  0],\n",
       "        [91,  0],\n",
       "        [92,  1],\n",
       "        [93,  1],\n",
       "        [94,  0],\n",
       "        [95,  0],\n",
       "        [96,  1],\n",
       "        [97,  1],\n",
       "        [98,  1],\n",
       "        [99,  1]])"
      ]
     },
     "execution_count": 139,
     "metadata": {},
     "output_type": "execute_result"
    }
   ],
   "source": [
    "unmasked_seq.long()"
   ]
  },
  {
   "cell_type": "code",
   "execution_count": 140,
   "metadata": {},
   "outputs": [
    {
     "data": {
      "text/plain": [
       "torch.Size([5, 524288])"
      ]
     },
     "execution_count": 140,
     "metadata": {},
     "output_type": "execute_result"
    }
   ],
   "source": [
    "#now let's test it with an actual sequence,\n",
    "seq,data = dataset[1022]\n",
    "seq.shape"
   ]
  },
  {
   "cell_type": "code",
   "execution_count": 141,
   "metadata": {},
   "outputs": [
    {
     "data": {
      "text/plain": [
       "torch.Size([4096, 1])"
      ]
     },
     "execution_count": 141,
     "metadata": {},
     "output_type": "execute_result"
    }
   ],
   "source": [
    "data.shape"
   ]
  },
  {
   "cell_type": "code",
   "execution_count": 142,
   "metadata": {},
   "outputs": [
    {
     "name": "stdout",
     "output_type": "stream",
     "text": [
      "torch.Size([5, 524288])\n",
      "torch.Size([524288, 1])\n"
     ]
    }
   ],
   "source": [
    "#this dataset is not the one we're looking for\n",
    "dataset = GeneralDataset(\n",
    "    split='train',\n",
    "    preprocess=False,\n",
    "    data_path='/data1/lesliec/sarthak/data/DK_zarr/zarr_arrays/cell_type_arrays/GM12878_DNase.npz',\n",
    "    data_is_zarr=False,\n",
    "    sequences_bed_file='/data1/lesliec/sarthak/data/DK_zarr/sequences_enformer.bed',\n",
    "    length=524288,\n",
    ")\n",
    "seq,data = dataset[1022]\n",
    "print(seq.shape)\n",
    "print(data.shape)"
   ]
  },
  {
   "cell_type": "code",
   "execution_count": 143,
   "metadata": {},
   "outputs": [
    {
     "data": {
      "text/plain": [
       "torch.Size([524288])"
      ]
     },
     "execution_count": 143,
     "metadata": {},
     "output_type": "execute_result"
    }
   ],
   "source": [
    "data = data.squeeze(1) #remove the extra dimension so it's shape (length,)\n",
    "data.shape"
   ]
  },
  {
   "cell_type": "code",
   "execution_count": 144,
   "metadata": {},
   "outputs": [
    {
     "data": {
      "text/plain": [
       "tensor([0., 0., 0.,  ..., 0., 0., 0.])"
      ]
     },
     "execution_count": 144,
     "metadata": {},
     "output_type": "execute_result"
    }
   ],
   "source": [
    "#first see what the dat ais like\n",
    "data"
   ]
  },
  {
   "cell_type": "code",
   "execution_count": 145,
   "metadata": {},
   "outputs": [
    {
     "data": {
      "text/plain": [
       "[<matplotlib.lines.Line2D at 0x7f3c94e21650>]"
      ]
     },
     "execution_count": 145,
     "metadata": {},
     "output_type": "execute_result"
    },
    {
     "data": {
      "image/png": "[encoded data removed]",
      "text/plain": [
       "<Figure size 640x480 with 1 Axes>"
      ]
     },
     "metadata": {},
     "output_type": "display_data"
    }
   ],
   "source": [
    "import matplotlib.pyplot as plt\n",
    "plt.plot(data)"
   ]
  },
  {
   "cell_type": "code",
   "execution_count": 149,
   "metadata": {},
   "outputs": [
    {
     "data": {
      "text/plain": [
       "torch.Size([524288])"
      ]
     },
     "execution_count": 149,
     "metadata": {},
     "output_type": "execute_result"
    }
   ],
   "source": [
    "data.shape"
   ]
  },
  {
   "cell_type": "code",
   "execution_count": null,
   "metadata": {},
   "outputs": [
    {
     "ename": "RuntimeError",
     "evalue": "Sizes of tensors must match except in dimension 1. Expected size 524288 but got size 524000 for tensor number 1 in the list.",
     "output_type": "error",
     "traceback": [
      "\u001b[0;31m---------------------------------------------------------------------------\u001b[0m",
      "\u001b[0;31mRuntimeError\u001b[0m                              Traceback (most recent call last)",
      "Cell \u001b[0;32mIn[148], line 1\u001b[0m\n\u001b[0;32m----> 1\u001b[0m mask_data, unmask_data \u001b[38;5;241m=\u001b[39m \u001b[43mmask_seq\u001b[49m\u001b[43m(\u001b[49m\u001b[43mdata\u001b[49m\u001b[43m,\u001b[49m\u001b[43m \u001b[49m\u001b[43mmask_pct\u001b[49m\u001b[38;5;241;43m=\u001b[39;49m\u001b[38;5;241;43m0.15\u001b[39;49m\u001b[43m,\u001b[49m\u001b[43m \u001b[49m\u001b[43mreplace_with_N\u001b[49m\u001b[38;5;241;43m=\u001b[39;49m\u001b[38;5;28;43;01mFalse\u001b[39;49;00m\u001b[43m,\u001b[49m\u001b[43m \u001b[49m\u001b[43mspan\u001b[49m\u001b[38;5;241;43m=\u001b[39;49m\u001b[38;5;241;43m500\u001b[39;49m\u001b[43m,\u001b[49m\u001b[43m \u001b[49m\u001b[43mstype\u001b[49m\u001b[38;5;241;43m=\u001b[39;49m\u001b[38;5;124;43m'\u001b[39;49m\u001b[38;5;124;43macc\u001b[39;49m\u001b[38;5;124;43m'\u001b[39;49m\u001b[43m)\u001b[49m\n\u001b[1;32m      2\u001b[0m \u001b[38;5;28mprint\u001b[39m(mask_data\u001b[38;5;241m.\u001b[39mshape) \u001b[38;5;66;03m#should be length x 6, so 5 for the one hot and 1 for the mask track\u001b[39;00m\n\u001b[1;32m      3\u001b[0m \u001b[38;5;28mprint\u001b[39m(unmask_data\u001b[38;5;241m.\u001b[39mshape)\n",
      "Cell \u001b[0;32mIn[135], line 56\u001b[0m, in \u001b[0;36mmask_seq\u001b[0;34m(seq, mask_pct, replace_with_N, span, stype)\u001b[0m\n\u001b[1;32m     51\u001b[0m     unchanged_positions \u001b[38;5;241m=\u001b[39m (unchanged_positions\u001b[38;5;241m.\u001b[39munsqueeze(\u001b[38;5;241m1\u001b[39m) \u001b[38;5;241m+\u001b[39m torch\u001b[38;5;241m.\u001b[39marange(span))\u001b[38;5;241m.\u001b[39mflatten()\n\u001b[1;32m     52\u001b[0m     \u001b[38;5;66;03m#and now they are grouped and we can just deal with them\u001b[39;00m\n\u001b[1;32m     53\u001b[0m \n\u001b[1;32m     54\u001b[0m \u001b[38;5;66;03m# Append the mask track to the sequence, resulting in a tensor of shape [seq_len, 6], or [seq_len, 2] if acc data\u001b[39;00m\n\u001b[1;32m     55\u001b[0m \u001b[38;5;66;03m# where the last column is the mask track\u001b[39;00m\n\u001b[0;32m---> 56\u001b[0m seq_unmask \u001b[38;5;241m=\u001b[39m \u001b[43mtorch\u001b[49m\u001b[38;5;241;43m.\u001b[39;49m\u001b[43mcat\u001b[49m\u001b[43m(\u001b[49m\u001b[43m[\u001b[49m\u001b[43mseq\u001b[49m\u001b[43m,\u001b[49m\u001b[43m \u001b[49m\u001b[43mmasked_indices\u001b[49m\u001b[38;5;241;43m.\u001b[39;49m\u001b[43munsqueeze\u001b[49m\u001b[43m(\u001b[49m\u001b[38;5;241;43m1\u001b[39;49m\u001b[43m)\u001b[49m\u001b[38;5;241;43m.\u001b[39;49m\u001b[43mfloat\u001b[49m\u001b[43m(\u001b[49m\u001b[43m)\u001b[49m\u001b[43m]\u001b[49m\u001b[43m,\u001b[49m\u001b[43m \u001b[49m\u001b[43mdim\u001b[49m\u001b[38;5;241;43m=\u001b[39;49m\u001b[38;5;241;43m1\u001b[39;49m\u001b[43m)\u001b[49m \u001b[38;5;66;03m#so now seq_unmask is shape length x 6, where 6 is the 5 one hot classes and the mask\u001b[39;00m\n\u001b[1;32m     58\u001b[0m seq_masked \u001b[38;5;241m=\u001b[39m seq_unmask\u001b[38;5;241m.\u001b[39mclone()  \u001b[38;5;66;03m# Create a copy to modify, note that the mask track should be 0 for ones where it's not masked but is random or unchanged\u001b[39;00m\n\u001b[1;32m     59\u001b[0m seq_masked[mask_positions, :\u001b[38;5;241m-\u001b[39m\u001b[38;5;241m1\u001b[39m] \u001b[38;5;241m=\u001b[39m \u001b[38;5;241m0\u001b[39m  \u001b[38;5;66;03m# Set to zero for every class but the last (tells it it's masked)\u001b[39;00m\n",
      "\u001b[0;31mRuntimeError\u001b[0m: Sizes of tensors must match except in dimension 1. Expected size 524288 but got size 524000 for tensor number 1 in the list."
     ]
    }
   ],
   "source": [
    "mask_data, unmask_data = mask_seq(data, mask_pct=0.15, replace_with_N=False, span=500, stype='acc')\n",
    "print(mask_data.shape) #should be length x 6, so 5 for the one hot and 1 for the mask track\n",
    "print(unmask_data.shape)\n",
    "\n",
    "#ahh need to account for if span is less, then when we append extra elemments on, it has to make it the right size, primarily just for masked indices\n",
    "#for the rest it's fine, never need to idnex xinto the end"
   ]
  },
  {
   "cell_type": "code",
   "execution_count": null,
   "metadata": {},
   "outputs": [
    {
     "name": "stdout",
     "output_type": "stream",
     "text": [
      "torch.Size([524288, 1]) torch.Size([524288])\n"
     ]
    }
   ],
   "source": [
    "def mask_seq(seq, mask_pct=0.15, replace_with_N=False, span=1, stype='seq'):\n",
    "    \"\"\"This function will mask the sequence data, it does the BERT masking where you do 80% truly masked, 10% random, 10% unchanged\n",
    "    Note that for random replacement, it cannot be the N token, sicne it's very rare anyways, always random nucleotide!\n",
    "    Args:\n",
    "        seq: the sequence to mask, this is a tensor of shape (length, 5) if one hot encoding, or (length,) if not one hot and is accessibility data\n",
    "        mask_pct: the percentage of the sequence to mask, default is 0.15 or 15%\n",
    "        replace_with_N: whether to allow random replacement of values with N\n",
    "        span: the size of the span to mask, default is 1, so it masks every element independently, but can be larger to mask chunks of size span\n",
    "        stype: the type of sequence, 'seq' for nucleotide data and 'acc' for accessibility data, default is 'seq'\n",
    "    Returns:\n",
    "        seq: the masked sequence, this is a tensor of shape (length, 6) if one hot encoding or (length, 2) if acc, where the last column is the mask track (only tells if masked, some are random or unchanged)\n",
    "        seq_unmask: the unmasked sequence, this is a tensor of shape (length, 6) if ohe or (length, 2), where the last column is the mask track (tells all elements that have been changed or goign to evaluate)\n",
    "    \"\"\"\n",
    "\n",
    "    if replace_with_N:\n",
    "        random_max = 5\n",
    "    else:\n",
    "        random_max = 4\n",
    "    \n",
    "    num_elements = seq.shape[0]//span #chunks into chunks of size span\n",
    "    \n",
    "    if len(seq.shape) == 1: #if it's just a 1D tensor, we need to add a dimension for the mask track\n",
    "        seq = seq.unsqueeze(1) #so now it's shape length x 1, so we can concatenate other things\n",
    "    \n",
    "    # Create a probability vector (one per token) and sample which tokens to mask\n",
    "    probability_matrix = torch.full((num_elements,), mask_pct) #size of length, defines for each element if we mask it or not\n",
    "    masked_indices = torch.bernoulli(probability_matrix).bool() #finds which indices to mask, so shape is length, and is True or False for each index\n",
    "\n",
    "    # Get positions that were chosen to be masked\n",
    "    all_mask_positions = torch.nonzero(masked_indices).squeeze()*span #squeeze to remove the extra dimension, and multiply by span to get the actual positions in the original sequence\n",
    "    num_masked = all_mask_positions.numel()\n",
    "    \n",
    "    # Determine counts for the three groups: 80% truly masked, 10% random, 10% unchanged\n",
    "    num_mask = int(0.8 * num_masked)\n",
    "    num_random = int(0.1 * num_masked)\n",
    "    # To avoid rounding issues, let the remaining be unchanged\n",
    "    # num_unchanged = num_masked - num_mask - num_random\n",
    "    \n",
    "    # Shuffle the masked positions to randomly assign each to a category\n",
    "    permuted = all_mask_positions[torch.randperm(num_masked)]\n",
    "    mask_positions = permuted[:num_mask]  # 80%: replace with mask token\n",
    "    random_positions = permuted[num_mask:num_mask+num_random]  # 10%: random token\n",
    "    unchanged_positions = permuted[num_mask+num_random:]  # 10%: leave as is\n",
    "\n",
    "    if span > 1:\n",
    "        masked_indices = masked_indices.repeat_interleave(span) #so now we have a mask for every element in the span, so size length again\n",
    "        #and append zeros until the size of seq\n",
    "        extra = seq.shape[0] % span\n",
    "        if extra > 0:\n",
    "            masked_indices = torch.cat([masked_indices, torch.zeros(extra, dtype=torch.bool)]) #so now we have a mask for every element in the span, so size length again\n",
    "        #now for each of the positions, we need to expand and then make masking apply per index\n",
    "        mask_positions = (mask_positions.unsqueeze(1) + torch.arange(span)).flatten()\n",
    "        random_positions = (random_positions.unsqueeze(1) + torch.arange(span)).flatten()\n",
    "        unchanged_positions = (unchanged_positions.unsqueeze(1) + torch.arange(span)).flatten()\n",
    "        #and now they are grouped and we can just deal with them\n",
    "\n",
    "    # Append the mask track to the sequence, resulting in a tensor of shape [seq_len, 6], or [seq_len, 2] if acc data\n",
    "    # where the last column is the mask track\n",
    "    # print(seq.shape, masked_indices.shape)\n",
    "    seq_unmask = torch.cat([seq, masked_indices.unsqueeze(1).float()], dim=1) #so now seq_unmask is shape length x 6, where 6 is the 5 one hot classes and the mask\n",
    "    \n",
    "    seq_masked = seq_unmask.clone()  # Create a copy to modify, note that the mask track should be 0 for ones where it's not masked but is random or unchanged\n",
    "    seq_masked[mask_positions, :-1] = 0  # Set to zero for every class but the last (tells it it's masked)\n",
    "    \n",
    "    if stype == 'seq':\n",
    "        random_tokens = torch.randint(0, random_max, (random_positions.numel(),)) #generate random values for each position\n",
    "        random_one_hot = torch.zeros((random_positions.numel(), 5)) #one hot encode them\n",
    "        random_one_hot.scatter_(1, random_tokens.unsqueeze(1), 1.0)\n",
    "        seq_masked[random_positions, :5] = random_one_hot #assign them to the set positions\n",
    "        \n",
    "    elif stype == 'acc':\n",
    "        #for accessibility, we will select random values from somewhere else in the sequence and then slightly shift and noise them\n",
    "        #get a random value between 0 and len(seq)-span\n",
    "        rand_start = torch.randint(0, seq.shape[0]-span, (random_positions.numel()//span,))\n",
    "        rand_idx = (rand_start.unsqueeze(1) + torch.arange(span)) #so now we have a random index for each of the random positions, and we can just select from there\n",
    "        rand_vals = seq.squeeze(1)[rand_idx] #get the values from the sequence at those random positions, so now we have a random value for each of the random positions\n",
    "        #and we can add some noise to it, so we can just add a small random value to it. Noise will be values between -0.1 and 0.1\n",
    "        rand_vals_mean = rand_vals.mean(1, keepdim=True) #get the mean of the random values for each position, keeps the dim so we can broadcast it\n",
    "        noise = torch.randn(rand_vals.shape) * rand_vals_mean * 0.1 #gaussian noise with std of 0.1 times the mean of the random values, so we can add some larger nosie to larger values\n",
    "        rand_vals = (rand_vals + noise).flatten()\n",
    "        #and now set the values\n",
    "        seq_masked[random_positions, 0] = rand_vals #set the values to the random values with noise, so now we have a random value for each of the random positions\n",
    "    \n",
    "    #and remove the masked value, it doesn't know it's masked\n",
    "    seq_masked[random_positions, -1] = 0\n",
    "    \n",
    "    #and we remove the mask token from the unchanged value\n",
    "    seq_masked[unchanged_positions, -1] = 0\n",
    "    # seq = seq_masked #now we have the masked sequence, so we can use this for the rest of the processing\n",
    "    \n",
    "    return seq_masked, seq_unmask #return the masked sequence and the unmasked sequence, so we can use it for the rest of the processing\n",
    "\n",
    "mask_data, unmask_data = mask_seq(data, mask_pct=0.15, replace_with_N=False, span=500, stype='acc')\n"
   ]
  },
  {
   "cell_type": "code",
   "execution_count": 161,
   "metadata": {},
   "outputs": [
    {
     "name": "stdout",
     "output_type": "stream",
     "text": [
      "torch.Size([524288, 2])\n",
      "torch.Size([524288, 2])\n"
     ]
    }
   ],
   "source": [
    "#full funciton again\n",
    "\n",
    "def mask_seq(seq, mask_pct=0.15, replace_with_N=False, span=1, stype='seq'):\n",
    "    \"\"\"This function will mask the sequence data, it does the BERT masking where you do 80% truly masked, 10% random, 10% unchanged\n",
    "    Note that for random replacement, it cannot be the N token, sicne it's very rare anyways, always random nucleotide!\n",
    "    Args:\n",
    "        seq: the sequence to mask, this is a tensor of shape (length, 5) if one hot encoding, or (length,) if not one hot and is accessibility data\n",
    "        mask_pct: the percentage of the sequence to mask, default is 0.15 or 15%\n",
    "        replace_with_N: whether to allow random replacement of values with N\n",
    "        span: the size of the span to mask, default is 1, so it masks every element independently, but can be larger to mask chunks of size span\n",
    "        stype: the type of sequence, 'seq' for nucleotide data and 'acc' for accessibility data, default is 'seq'\n",
    "    Returns:\n",
    "        seq: the masked sequence, this is a tensor of shape (length, 6) if one hot encoding or (length, 2) if acc, where the last column is the mask track (only tells if masked, some are random or unchanged)\n",
    "        seq_unmask: the unmasked sequence, this is a tensor of shape (length, 6) if ohe or (length, 2), where the last column is the mask track (tells all elements that have been changed or goign to evaluate)\n",
    "    \"\"\"\n",
    "\n",
    "    if replace_with_N:\n",
    "        random_max = 5\n",
    "    else:\n",
    "        random_max = 4\n",
    "    \n",
    "    num_elements = seq.shape[0]//span #chunks into chunks of size span\n",
    "    \n",
    "    if len(seq.shape) == 1: #if it's just a 1D tensor, we need to add a dimension for the mask track\n",
    "        seq = seq.unsqueeze(1) #so now it's shape length x 1, so we can concatenate other things\n",
    "    \n",
    "    # Create a probability vector (one per token) and sample which tokens to mask\n",
    "    probability_matrix = torch.full((num_elements,), mask_pct) #size of length, defines for each element if we mask it or not\n",
    "    masked_indices = torch.bernoulli(probability_matrix).bool() #finds which indices to mask, so shape is length, and is True or False for each index\n",
    "\n",
    "    # Get positions that were chosen to be masked\n",
    "    all_mask_positions = torch.nonzero(masked_indices).squeeze()*span #squeeze to remove the extra dimension, and multiply by span to get the actual positions in the original sequence\n",
    "    num_masked = all_mask_positions.numel()\n",
    "    \n",
    "    # Determine counts for the three groups: 80% truly masked, 10% random, 10% unchanged\n",
    "    num_mask = int(0.8 * num_masked)\n",
    "    num_random = int(0.1 * num_masked)\n",
    "    # To avoid rounding issues, let the remaining be unchanged\n",
    "    # num_unchanged = num_masked - num_mask - num_random\n",
    "    \n",
    "    # Shuffle the masked positions to randomly assign each to a category\n",
    "    permuted = all_mask_positions[torch.randperm(num_masked)]\n",
    "    mask_positions = permuted[:num_mask]  # 80%: replace with mask token\n",
    "    random_positions = permuted[num_mask:num_mask+num_random]  # 10%: random token\n",
    "    unchanged_positions = permuted[num_mask+num_random:]  # 10%: leave as is\n",
    "\n",
    "    if span > 1:\n",
    "        masked_indices = masked_indices.repeat_interleave(span) #so now we have a mask for every element in the span, so size length again\n",
    "        #and append zeros until the size of seq\n",
    "        extra = seq.shape[0] % span\n",
    "        if extra > 0:\n",
    "            masked_indices = torch.cat([masked_indices, torch.zeros(extra, dtype=torch.bool)]) #so now we have a mask for every element in the span, so size length again\n",
    "        \n",
    "        #now for each of the positions, we need to expand and then make masking apply per index\n",
    "        mask_positions = (mask_positions.unsqueeze(1) + torch.arange(span)).flatten()\n",
    "        random_positions = (random_positions.unsqueeze(1) + torch.arange(span)).flatten()\n",
    "        unchanged_positions = (unchanged_positions.unsqueeze(1) + torch.arange(span)).flatten()\n",
    "        #and now they are grouped and we can just deal with them\n",
    "\n",
    "    # Append the mask track to the sequence, resulting in a tensor of shape [seq_len, 6], or [seq_len, 2] if acc data\n",
    "    # where the last column is the mask track\n",
    "    seq_unmask = torch.cat([seq, masked_indices.unsqueeze(1).float()], dim=1) #so now seq_unmask is shape length x 6, where 6 is the 5 one hot classes and the mask\n",
    "    \n",
    "    seq_masked = seq_unmask.clone()  # Create a copy to modify, note that the mask track should be 0 for ones where it's not masked but is random or unchanged\n",
    "    seq_masked[mask_positions, :-1] = 0  # Set to zero for every class but the last (tells it it's masked)\n",
    "    \n",
    "    if stype == 'seq':\n",
    "        random_tokens = torch.randint(0, random_max, (random_positions.numel(),)) #generate random values for each position\n",
    "        random_one_hot = torch.zeros((random_positions.numel(), 5)) #one hot encode them\n",
    "        random_one_hot.scatter_(1, random_tokens.unsqueeze(1), 1.0)\n",
    "        seq_masked[random_positions, :5] = random_one_hot #assign them to the set positions\n",
    "        \n",
    "    elif stype == 'acc':\n",
    "        #for accessibility, we will select random values from somewhere else in the sequence and then slightly shift and noise them\n",
    "        #get a random value between 0 and len(seq)-span\n",
    "        rand_start = torch.randint(0, seq.shape[0]-span, (random_positions.numel()//span,))\n",
    "        rand_idx = (rand_start.unsqueeze(1) + torch.arange(span)) #so now we have a random index for each of the random positions, and we can just select from there\n",
    "        rand_vals = seq.squeeze(1)[rand_idx] #get the values from the sequence at those random positions, so now we have a random value for each of the random positions\n",
    "        #and we can add some noise to it, so we can just add a small random value to it. Noise will be values between -0.1 and 0.1\n",
    "        rand_vals_mean = rand_vals.mean(1, keepdim=True) #get the mean of the random values for each position, keeps the dim so we can broadcast it\n",
    "        noise = torch.randn(rand_vals.shape) * rand_vals_mean * 0.1 #gaussian noise with std of 0.1 times the mean of the random values, so we can add some larger nosie to larger values\n",
    "        rand_vals = torch.clamp((rand_vals + noise).flatten(), min=0)\n",
    "        #and now set the values\n",
    "        seq_masked[random_positions, 0] = rand_vals #set the values to the random values with noise, so now we have a random value for each of the random positions\n",
    "    \n",
    "    #and remove the masked value, it doesn't know it's masked\n",
    "    seq_masked[random_positions, -1] = 0\n",
    "    \n",
    "    #and we remove the mask token from the unchanged value\n",
    "    seq_masked[unchanged_positions, -1] = 0\n",
    "    # seq = seq_masked #now we have the masked sequence, so we can use this for the rest of the processing\n",
    "    \n",
    "    return seq_masked, seq_unmask #return the masked sequence and the unmasked sequence, so we can use it for the rest of the processing\n",
    "\n",
    "mask_data, unmask_data = mask_seq(data, mask_pct=0.15, replace_with_N=False, span=500, stype='acc')\n",
    "print(mask_data.shape) #should be length x 2, see if it makes sense\n",
    "print(unmask_data.shape)"
   ]
  },
  {
   "cell_type": "code",
   "execution_count": null,
   "metadata": {},
   "outputs": [
    {
     "data": {
      "text/plain": [
       "[<matplotlib.lines.Line2D at 0x7f3cfaaf4990>]"
      ]
     },
     "execution_count": 160,
     "metadata": {},
     "output_type": "execute_result"
    },
    {
     "data": {
      "image/png": "[encoded data removed]",
      "text/plain": [
       "<Figure size 640x480 with 1 Axes>"
      ]
     },
     "metadata": {},
     "output_type": "display_data"
    }
   ],
   "source": [
    "#and let's test if it makes sense with a plot\n",
    "plt.plot(data)\n",
    "plt.plot(mask_data[:, 0], 'r') #masked data should be red\n",
    "#there will obviously be regions where it differs, and lots of random regions like you see "
   ]
  },
  {
   "cell_type": "code",
   "execution_count": null,
   "metadata": {},
   "outputs": [],
   "source": [
    "#let's test the speed of the masking\n",
    "for i in range(100):\n",
    "    # seq,data = dataset[1022]\n",
    "    # data = data.squeeze(1) #remove the extra dimension so it's shape (length,)\n",
    "    mask_data, unmask_data = mask_seq(data, mask_pct=0.15, replace_with_N=False, span=500, stype='acc')\n",
    "#literally 0.4 seconds, I think the other one might be slower?"
   ]
  },
  {
   "cell_type": "code",
   "execution_count": 164,
   "metadata": {},
   "outputs": [
    {
     "data": {
      "text/plain": [
       "torch.Size([5, 524288])"
      ]
     },
     "execution_count": 164,
     "metadata": {},
     "output_type": "execute_result"
    }
   ],
   "source": [
    "seq.shape"
   ]
  },
  {
   "cell_type": "code",
   "execution_count": 165,
   "metadata": {},
   "outputs": [],
   "source": [
    "#let's test both\n",
    "tempseq = seq.transpose(1,0)\n",
    "for i in range(100):\n",
    "    a,b = mask_seq(tempseq, mask_pct=0.15, replace_with_N=False,stype='seq')\n",
    "    a,b = mask_seq(data, mask_pct=0.15, replace_with_N=False, span=500, stype='acc')\n",
    "#yeah the normal masking is the slower one, quite a bit actually??"
   ]
  },
  {
   "cell_type": "code",
   "execution_count": 167,
   "metadata": {},
   "outputs": [
    {
     "name": "stderr",
     "output_type": "stream",
     "text": [
      "  0%|          | 0/100 [00:00<?, ?it/s]"
     ]
    },
    {
     "name": "stderr",
     "output_type": "stream",
     "text": [
      "100%|██████████| 100/100 [00:10<00:00,  9.95it/s]\n"
     ]
    }
   ],
   "source": [
    "from tqdm import tqdm\n",
    "for i in tqdm(range(100)):\n",
    "    a,b = mask_seq(tempseq, mask_pct=0.15, replace_with_N=False,stype='seq')"
   ]
  },
  {
   "cell_type": "code",
   "execution_count": 168,
   "metadata": {},
   "outputs": [
    {
     "name": "stderr",
     "output_type": "stream",
     "text": [
      "100%|██████████| 100/100 [00:01<00:00, 51.10it/s]\n"
     ]
    }
   ],
   "source": [
    "for i in tqdm(range(100)):\n",
    "    a,b = mask_seq(data, mask_pct=0.15, replace_with_N=False, span=500, stype='acc')"
   ]
  },
  {
   "cell_type": "code",
   "execution_count": null,
   "metadata": {},
   "outputs": [],
   "source": [
    "#well maybe the slow part is the bernoulli or maybe it's something else, regardless like 0.1 seconds per thing, so we're fine! "
   ]
  },
  {
   "cell_type": "markdown",
   "metadata": {},
   "source": [
    "# final thing, reset the thing, reimport it and tell it to do the masking, see what happens!!"
   ]
  },
  {
   "cell_type": "code",
   "execution_count": null,
   "metadata": {},
   "outputs": [],
   "source": [
    "from tqdm import tqdm\n",
    "import torch\n",
    "from src.dataloaders.datasets.general_dataset import GeneralDataset\n",
    "#all done in a new file, this is too many cells"
   ]
  }
 ],
 "metadata": {
  "kernelspec": {
   "display_name": "Python 3 (ipykernel)",
   "language": "python",
   "name": "python3"
  }
 },
 "nbformat": 4,
 "nbformat_minor": 2
}
