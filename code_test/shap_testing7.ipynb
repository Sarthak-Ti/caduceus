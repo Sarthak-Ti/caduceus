{
 "cells": [
  {
   "cell_type": "markdown",
   "metadata": {},
   "source": [
    "# shap_testing7.ipynb\n",
    "3.28.24\n",
    "\n",
    "The point of this file is to go through and get a list of variances to find the indices, these indicies will be used to submit a job that calculates ISM (which we will also test in this file)\n",
    "\n",
    "We will also compare it to gradients"
   ]
  },
  {
   "cell_type": "code",
   "execution_count": 45,
   "metadata": {},
   "outputs": [],
   "source": [
    "#first let's test to see how fast getting variances for any cCRE is\n",
    "#the next method is to actually speed it up using batching...\n",
    "#can test regression at least by checking it with my old function and comparing the results later\n",
    "#now that we use tensors, we can go ahead and find some ways to use larger batches\n",
    "\n",
    "#let's fix the code\n",
    "import torch \n",
    "import sys\n",
    "import yaml \n",
    "sys.path.append('/data/leslie/sarthak/hyena/hyena-dna/')\n",
    "from src.tasks.decoders import SequenceDecoder\n",
    "from src.models.sequence.dna_embedding import DNAEmbeddingModel\n",
    "from src.dataloaders.datasets.hg38_char_tokenizer import CharacterTokenizer\n",
    "# import shap\n",
    "import numpy as np\n",
    "import matplotlib.pyplot as plt\n",
    "import seaborn as sns\n",
    "import pandas as pd\n",
    "import logomaker\n",
    "from tqdm import tqdm\n",
    "import time\n",
    "class ISMUtils():\n",
    "    def __init__(self, model_type, ckpt_path, cfg = None, split = 'train', filter=True, classification = False):\n",
    "        type_list = ['ccre', 'DNase_ctst', 'DNase_allcelltypes', 'DNase']\n",
    "        if model_type not in type_list:\n",
    "            raise ValueError('Model type not recognized')\n",
    "        self.mtype = model_type\n",
    "        if cfg is not None:\n",
    "            cfg = '/data/leslie/sarthak/hyena/hyena-dna/configs/evals/'+cfg\n",
    "        self.classification = classification\n",
    "        \n",
    "        #check to see the type, and then load the right tokenizer, class and cfg\n",
    "        if self.mtype == 'DNase':\n",
    "            from src.dataloaders.datasets.DNase_dataset import DNaseDataset as DatasetClass\n",
    "            self.tokenizer = CharacterTokenizer( #make sure to fix the tokenizer too\n",
    "                characters=['A', 'C', 'G', 'T', 'N', 'S', 'U', 'V', 'W', 'X', 'Y', 'Z'],\n",
    "                model_max_length=1024 + 2,  # add 2 since default adds eos/eos tokens, crop later\n",
    "                add_special_tokens=False,\n",
    "                padding_side='left'\n",
    "            )\n",
    "            if cfg is None:\n",
    "                cfg = '/data/leslie/sarthak/hyena/hyena-dna/configs/evals/DNase.yaml'\n",
    "                \n",
    "        elif self.mtype == 'DNase_allcelltypes':\n",
    "            from src.dataloaders.datasets.DNase_allcelltypes import DNaseAllCellTypeDataset as DatasetClass\n",
    "            self.tokenizer = CharacterTokenizer( #make sure to fix the tokenizer too\n",
    "                characters=['A', 'C', 'G', 'T', 'N'],\n",
    "                model_max_length=1024 + 2,  # add 2 since default adds eos/eos tokens, crop later\n",
    "                add_special_tokens=False,\n",
    "                padding_side='left'\n",
    "            )\n",
    "            if cfg is None:\n",
    "                if self.classification:\n",
    "                    cfg = '/data/leslie/sarthak/hyena/hyena-dna/configs/evals/DNase_allcelltypes_classification.yaml'\n",
    "                else:\n",
    "                    cfg = '/data/leslie/sarthak/hyena/hyena-dna/configs/evals/DNase_allcelltypes.yaml'\n",
    "                 \n",
    "\n",
    "        elif self.mtype == 'DNase_ctst':\n",
    "            from src.dataloaders.datasets.DNase_ctst_dataset import DNaseCtstDataset as DatasetClass\n",
    "            self.tokenizer = CharacterTokenizer( #make sure to fix the tokenizer too\n",
    "                characters=['A', 'C', 'G', 'T', 'N'],\n",
    "                model_max_length=1024 + 2,  # add 2 since default adds eos/eos tokens, crop later\n",
    "                add_special_tokens=False,\n",
    "                padding_side='left'\n",
    "            )\n",
    "            if cfg is None:\n",
    "                if self.classification:\n",
    "                    cfg = '/data/leslie/sarthak/hyena/hyena-dna/configs/evals/DNase_ctst_classification.yaml'\n",
    "                else:\n",
    "                    cfg = '/data/leslie/sarthak/hyena/hyena-dna/configs/evals/DNase_ctst.yaml'\n",
    "\n",
    "        else:\n",
    "            raise ValueError('Model type not recognized')\n",
    "\n",
    "        #now we load the model and dataset\n",
    "\n",
    "        # self.device = torch.device(\"cuda:0\" if torch.cuda.is_available() else \"cpu\")\n",
    "        self.dataset = DatasetClass(max_length = 1024, split = split, tokenizer=self.tokenizer, rc_aug = False, tokenizer_name='char', add_eos='True', filter = filter, classification=self.classification)\n",
    "        cfg = yaml.load(open(cfg, 'r'), Loader=yaml.FullLoader)\n",
    "        \n",
    "        train_cfg = cfg['train']  # grab section `train` section of config\n",
    "        model_cfg = cfg['model_config']  # grab the `model` section of config\n",
    "        d_output = train_cfg['d_output']\n",
    "        backbone = DNAEmbeddingModel(**model_cfg)\n",
    "        # backbone_skip = DNAEmbeddingModel(skip_embedding=True, **model_cfg)\n",
    "        decoder = SequenceDecoder(model_cfg['d_model'], d_output=d_output, l_output=0, mode='pool')\n",
    "        state_dict = torch.load(ckpt_path, map_location='cpu')  # has both backbone and decoder\n",
    "        \n",
    "        # loads model from ddp by removing prexix to single if necessary\n",
    "        torch.nn.modules.utils.consume_prefix_in_state_dict_if_present(\n",
    "            state_dict[\"state_dict\"], \"model.\"\n",
    "        )\n",
    "\n",
    "        model_state_dict = state_dict[\"state_dict\"]\n",
    "\n",
    "        # need to remove torchmetrics. to remove keys, need to convert to list first\n",
    "        for key in list(model_state_dict.keys()):\n",
    "            if \"torchmetrics\" in key:\n",
    "                model_state_dict.pop(key)\n",
    "\n",
    "        # the state_dict keys slightly mismatch from Lightning..., so we fix it here\n",
    "        decoder_state_dict = {}\n",
    "        decoder_state_dict['output_transform.weight'] = model_state_dict.pop('decoder.0.output_transform.weight')\n",
    "        decoder_state_dict['output_transform.bias'] = model_state_dict.pop('decoder.0.output_transform.bias')\n",
    "\n",
    "        #now adjust the backbone if needed\n",
    "        if self.mtype == 'DNase':\n",
    "            embedding1 = torch.nn.Embedding(20, 128)\n",
    "            # embedding2 = torch.nn.Embedding(20, 128)\n",
    "            backbone.backbone.embeddings.word_embeddings = embedding1 #again a hack\n",
    "            # backbone_skip.backbone.embeddings.word_embeddings = embedding2 #again a hack\n",
    "\n",
    "        # now actually load the state dict to the decoder and backbone separately\n",
    "        decoder.load_state_dict(decoder_state_dict, strict=True)\n",
    "        backbone.load_state_dict(model_state_dict, strict=True)\n",
    "\n",
    "        self.backbone = backbone.eval()\n",
    "        self.decoder = decoder.eval()\n",
    "\n",
    "        self.bed = pd.read_csv('/data/leslie/sarthak/data/GRCh38-cCREs.bed', header=None, delimiter='\\t').to_numpy()\n",
    "        self.middle = 1023//2 #just used for the logo plots\n",
    "\n",
    "    def calculate_ISM(self,ccre, cuda = False, return_out = False, progress_bar = False, stop=False):\n",
    "        #does ISM for that ccre, based on the model type\n",
    "        #Does what the ISM.py and ISM_allcelltypes.py files do but for one ccre at a time\n",
    "        #ccre should be the index of the ccre, not the index to get that dataset\n",
    "        device = \"cuda:0\" if cuda else \"cpu\"\n",
    "        backbone = self.backbone.to(device)\n",
    "        decoder = self.decoder.to(device)\n",
    "        #first have to load in the batch\n",
    "        #if it's the different groups have very different dataset classes\n",
    "        if self.mtype == 'DNase' or self.mtype == 'DNase_ctst':\n",
    "            ccre = 161*ccre\n",
    "            ccre_list = []\n",
    "            out_list = []\n",
    "            class_list = []\n",
    "            for i in range(161):\n",
    "                a,b = self.dataset[ccre+i]\n",
    "                ccre_list.append(a)\n",
    "                if self.classification:\n",
    "                    # raise NotImplementedError('This is not implemented yet, need to consider how to do ISM with the classification model')\n",
    "                    class_list.append(b[0].item())\n",
    "                    b = b[1] #just ignore the classification stuff?\n",
    "                out_list.append(b.item())\n",
    "            ccre_list = torch.stack(ccre_list)\n",
    "        else:\n",
    "            ccre_list = self.dataset[ccre][0].unsqueeze(0)\n",
    "            class_list = self.dataset[ccre][1][0] #the classification stuff\n",
    "        # print(class_list)\n",
    "        temp,_ = backbone(ccre_list.to(device)) #pass whole ccre as a batch\n",
    "        out = decoder(temp)\n",
    "        seqlen = ccre_list.shape[1] #because it's batch x seq\n",
    "        dim_out = out.shape[1]//2\n",
    "\n",
    "        if self.classification:\n",
    "            out_class = out[:,:dim_out]\n",
    "            out = out[:,dim_out:] #just ignore the classification stuff? for now maybe and we just look at the regression outputs?\n",
    "            #but if it thinks that the thing is closed, we should keep it as 0... or maybe set it to some other value? idk\n",
    "            #i say keep it but we know that we can mask it, no let's mask for reg, but still need to use for class...\n",
    "            #and let's keep the class out\n",
    "            out_class_gt = out_class.detach().reshape(1,1,161)\n",
    "            ISM_class = torch.ones((4,seqlen,161)).to(device)*out_class_gt\n",
    "            out_class_gt_np = out_class.detach().cpu().numpy().reshape(1,1,161)\n",
    "            \n",
    "        out_gt = out.detach().reshape(1,1,161)\n",
    "        ISM_results = torch.ones((4,seqlen,161)).to(device)*out_gt\n",
    "        out_gt_np = out.detach().cpu().numpy().reshape(1, 1, 161) #the initial output of the model before ism\n",
    "        # if self.classification:\n",
    "        #     mask_idx = np.array(class_list) == 1 #if it's open\n",
    "        #     #now we make this a matrix of the same size as the output which will be 3x1x161 or just 3x161\n",
    "        #     mask = np.zeros((1,1,161))\n",
    "        #     mask[:,:,mask_idx] = 1\n",
    "        # print(mask)\n",
    "        if self.mtype == 'DNase' or self.mtype == 'DNase_ctst': #we just need the first sequence, don't care about the useless stuff\n",
    "            seq = ccre_list[0]\n",
    "        else:\n",
    "            seq = ccre_list.squeeze() #get rid f the embedding dimension\n",
    "        token_list = [7,8,9,10] #tokenize this list first\n",
    "        mutations = {\n",
    "            7: np.array([8,9,10]),\n",
    "            8: np.array([7,9,10]),\n",
    "            9: np.array([7,8,10]),\n",
    "            10: np.array([7,8,9])\n",
    "        }\n",
    "        ccre_list_gpu = ccre_list.to(device)\n",
    "\n",
    "        if progress_bar:\n",
    "            iterator = tqdm(enumerate(seq), total = len(seq))\n",
    "        else:\n",
    "            iterator = enumerate(seq)\n",
    "        with torch.no_grad():\n",
    "            for idx, nucleotide in iterator: \n",
    "                # temp_token_list = token_list.copy() #we make a copy\n",
    "                # print(nucleotide)\n",
    "                if nucleotide not in token_list:\n",
    "                    continue #basically skips this and none of it is updated, because is a weird tooken, whether permutation, ctst or something else\n",
    "                temp_token_list = mutations[nucleotide.item()]\n",
    "                temp_token_list_gpu = torch.tensor(temp_token_list).to(device)\n",
    "                batch_seq = torch.zeros(ccre_list_gpu.shape[0]*3,ccre_list_gpu.shape[1], dtype=torch.long).to(device)\n",
    "                #make batch_seq a long tensor\n",
    "                for idx2,j in enumerate(temp_token_list):\n",
    "                    temp_seq = ccre_list_gpu.clone() #already put on the gpu\n",
    "                    if self.mtype in ['DNase', 'DNase_ctst']:\n",
    "                        temp_seq[:,idx] = j #should be 161x1024 or 1023. \n",
    "                    else:\n",
    "                        temp_seq[idx] = j #should be 1x1023 because we unsqueezed\n",
    "                    #now we need to stach them together\n",
    "                    batch_seq[idx2*ccre_list_gpu.shape[0]:(idx2+1)*ccre_list_gpu.shape[0]] = temp_seq\n",
    "                a,_ = backbone(batch_seq)\n",
    "                out = decoder(a)\n",
    "                # print(out.shape) #is 483 x 2 or 3 x 161*2...\n",
    "                # we shoudl split into reg and class, but likely need a way to reshape it properly too\n",
    "                if self.classification:\n",
    "                    reg_results = out[:,dim_out:].view(3,1,161) #now 483x1 or 3x161 and transformed into a 3x1x161 matrix\n",
    "                    class_results = out[:,:dim_out].view(3,1,161)\n",
    "                else:\n",
    "                    reg_results = out.view(3,1,161) \n",
    "                \n",
    "                ISM_results[temp_token_list_gpu-7,idx,:] = reg_results.squeeze()\n",
    "                if self.classification:\n",
    "                    ISM_class[temp_token_list_gpu-7,idx,:] = class_results.squeeze()\n",
    "        return 0 #just say we done for now\n",
    "        #relatively slow on the CPU\n",
    "        #and now we subtract the out_gt from it\n",
    "        ISM_results_normalized = ISM_results - out_gt_np #is mutated - reference\n",
    "        if self.classification:\n",
    "            ISM_class_normalized = ISM_class - out_class_gt_np\n",
    "            # ISM_results_normalized *= mask\n",
    "        if self.classification and return_out:\n",
    "            return ISM_results_normalized, ISM_class_normalized, out_gt_np, out_class_gt_np\n",
    "        elif self.classification:\n",
    "            return ISM_results_normalized, ISM_class_normalized \n",
    "        elif return_out: #but this is optional\n",
    "            return ISM_results_normalized, out_gt_np\n",
    "        return ISM_results_normalized\n",
    "\n",
    "    def var(self, idx):\n",
    "        #This is the idx for the ccre, so if you want it for ccre 2 it's just idx == 2. Not 161*idx\n",
    "        seq_idx = idx\n",
    "        cCRE_id = self.dataset.array[seq_idx][0] #get the id from the array\n",
    "        row = self.dataset.cCRE_dict[cCRE_id]\n",
    "        #now we can calculate the variance using this data\n",
    "        # print(np.var(dnase_filtered[row,:])) #identical\n",
    "        \n",
    "        return np.var(self.dataset.cell_dnase_levels[row,:])\n",
    "\n",
    "    def output(self,idx):\n",
    "        #given the index, this finds the associated output (single value)\n",
    "        #this literally just puts it thorugh the model, but it's like 2 lines of code and really easy to do yourself\n",
    "        a,b = self.dataset[idx]\n",
    "        temp,_ = self.backbone(a.unsqueeze(0))\n",
    "        out = self.decoder(temp)\n",
    "\n",
    "        if self.mtype == 'DNase':\n",
    "            print(f'predicted output: {out}, actual output: {b}')\n",
    "            return b, out\n",
    "\n",
    "        elif self.mtype == 'DNase_allcelltypes':\n",
    "            print(f'predicted output: {out[0,0]}, actual output: {b[0]}')\n",
    "            return b[0], out[0,0]\n",
    "\n",
    "    def output_all(self,idx, print_out = False):\n",
    "        #given the index, this finds the associated output (all values averaged across the cell types for a singel ccre)\n",
    "        #if it's DNase, then we need to do it for all the cell types, here the input idx should not be 161 times any number, rather just the ccre number\n",
    "        if self.mtype == 'DNase' or self.mtype == 'DNase_ctst':\n",
    "            idx = 161*idx\n",
    "            out_list = []\n",
    "            target_list = []\n",
    "            for i in range(161):\n",
    "                a,b = self.dataset[idx+i]\n",
    "                temp,_ = self.backbone(a.unsqueeze(0))\n",
    "                out = self.decoder(temp)\n",
    "                out_list.append(out.item())\n",
    "                if isinstance(b,tuple):\n",
    "                    raise NotImplementedError('This is not implemented yet, need to consider how to do handle these outputs and what we want to display')\n",
    "                target_list.append(b.item())\n",
    "            out = np.mean(out_list)\n",
    "            if print_out:\n",
    "                print(f'predicted output mean: {out}, actual output mean: {np.mean(target_list)}')\n",
    "            #but return the whole lists\n",
    "            return np.array(target_list), np.array(out_list)\n",
    "\n",
    "        if self.mtype == 'DNase_allcelltypes':\n",
    "            a,b = self.dataset[idx]\n",
    "            temp,_ = self.backbone(a.unsqueeze(0))\n",
    "            out = self.decoder(temp)\n",
    "            print(f'predicted output mean: {torch.mean(out)}, actual output mean: {torch.mean(b)}')\n",
    "            return b.detach().numpy(), out.detach().numpy()\n",
    "    \n",
    "    def find_ccre_type(self, idx):\n",
    "        #this function will use the ccre id to find the specific type\n",
    "        #uses the index of the dataset, not the cCRE for the DNase model!!\n",
    "        #first get the id\n",
    "        if self.mtype == 'DNase':        \n",
    "            seq_idx = int(idx/self.dataset.cell_types)\n",
    "        else:\n",
    "            seq_idx = idx\n",
    "        ccre_id = self.dataset.array[seq_idx][0]\n",
    "        line = np.where(self.bed[:,3] == ccre_id)\n",
    "        return self.bed[line[0][0], -1]\n",
    "\n",
    "#let's test the speed of our ISM\n",
    "ckpt_path = '/data/leslie/sarthak/hyena/hyena-dna/outputs/2024-03-20/16-22-11-658258/checkpoints/10-val_loss=0.38773.ckpt'\n",
    "util = ISMUtils('DNase_ctst', ckpt_path, classification=True)\n",
    "# out = util.calculate_ISM(0, cuda=True, progress_bar = True, return_out=True, stop = 20)\n",
    "#by editing it to batch, almost doubled the speed... wait could it just be that it's an A100??"
   ]
  },
  {
   "cell_type": "code",
   "execution_count": 3,
   "metadata": {},
   "outputs": [
    {
     "ename": "IndexError",
     "evalue": "index 856076 is out of bounds for axis 0 with size 856076",
     "output_type": "error",
     "traceback": [
      "\u001b[0;31m---------------------------------------------------------------------------\u001b[0m",
      "\u001b[0;31mIndexError\u001b[0m                                Traceback (most recent call last)",
      "Cell \u001b[0;32mIn[3], line 3\u001b[0m\n\u001b[1;32m      1\u001b[0m var_list \u001b[38;5;241m=\u001b[39m []\n\u001b[1;32m      2\u001b[0m \u001b[38;5;28;01mfor\u001b[39;00m i \u001b[38;5;129;01min\u001b[39;00m \u001b[38;5;28mrange\u001b[39m(\u001b[38;5;28mlen\u001b[39m(util\u001b[38;5;241m.\u001b[39mdataset)):\n\u001b[0;32m----> 3\u001b[0m     a \u001b[38;5;241m=\u001b[39m \u001b[43mutil\u001b[49m\u001b[38;5;241;43m.\u001b[39;49m\u001b[43mvar\u001b[49m\u001b[43m(\u001b[49m\u001b[43mi\u001b[49m\u001b[43m)\u001b[49m\n\u001b[1;32m      4\u001b[0m     var_list\u001b[38;5;241m.\u001b[39mappend(a)\n\u001b[1;32m      5\u001b[0m \u001b[38;5;28mprint\u001b[39m(a) \u001b[38;5;66;03m#did all 1000 quite quickly\u001b[39;00m\n",
      "Cell \u001b[0;32mIn[1], line 295\u001b[0m, in \u001b[0;36mISMUtils.var\u001b[0;34m(self, idx)\u001b[0m\n\u001b[1;32m    292\u001b[0m \u001b[38;5;28;01mdef\u001b[39;00m \u001b[38;5;21mvar\u001b[39m(\u001b[38;5;28mself\u001b[39m, idx):\n\u001b[1;32m    293\u001b[0m     \u001b[38;5;66;03m#This is the idx for the ccre, so if you want it for ccre 2 it's just idx == 2. Not 161*idx\u001b[39;00m\n\u001b[1;32m    294\u001b[0m     seq_idx \u001b[38;5;241m=\u001b[39m idx\n\u001b[0;32m--> 295\u001b[0m     cCRE_id \u001b[38;5;241m=\u001b[39m \u001b[38;5;28;43mself\u001b[39;49m\u001b[38;5;241;43m.\u001b[39;49m\u001b[43mdataset\u001b[49m\u001b[38;5;241;43m.\u001b[39;49m\u001b[43marray\u001b[49m\u001b[43m[\u001b[49m\u001b[43mseq_idx\u001b[49m\u001b[43m]\u001b[49m[\u001b[38;5;241m0\u001b[39m] \u001b[38;5;66;03m#get the id from the array\u001b[39;00m\n\u001b[1;32m    296\u001b[0m     row \u001b[38;5;241m=\u001b[39m \u001b[38;5;28mself\u001b[39m\u001b[38;5;241m.\u001b[39mdataset\u001b[38;5;241m.\u001b[39mcCRE_dict[cCRE_id]\n\u001b[1;32m    297\u001b[0m     \u001b[38;5;66;03m#now we can calculate the variance using this data\u001b[39;00m\n\u001b[1;32m    298\u001b[0m     \u001b[38;5;66;03m# print(np.var(dnase_filtered[row,:])) #identical\u001b[39;00m\n",
      "\u001b[0;31mIndexError\u001b[0m: index 856076 is out of bounds for axis 0 with size 856076"
     ]
    }
   ],
   "source": [
    "var_list = []\n",
    "for i in range(len(util.dataset)):\n",
    "    a = util.var(i)\n",
    "    var_list.append(a)\n",
    "print(a) #did all 1000 quite quickly"
   ]
  },
  {
   "cell_type": "code",
   "execution_count": 6,
   "metadata": {},
   "outputs": [
    {
     "data": {
      "text/plain": [
       "856076.0"
      ]
     },
     "execution_count": 6,
     "metadata": {},
     "output_type": "execute_result"
    }
   ],
   "source": [
    "len(util.dataset)/161 #took 1 minute for the train set?"
   ]
  },
  {
   "cell_type": "code",
   "execution_count": 7,
   "metadata": {},
   "outputs": [
    {
     "data": {
      "text/plain": [
       "<Axes: ylabel='Count'>"
      ]
     },
     "execution_count": 7,
     "metadata": {},
     "output_type": "execute_result"
    },
    {
     "data": {
      "image/png": "[encoded data removed]",
      "text/plain": [
       "<Figure size 640x480 with 1 Axes>"
      ]
     },
     "metadata": {},
     "output_type": "display_data"
    }
   ],
   "source": [
    "#let's do a histogram of it\n",
    "sns.histplot(var_list, bins = 50)"
   ]
  },
  {
   "cell_type": "code",
   "execution_count": 8,
   "metadata": {},
   "outputs": [
    {
     "name": "stdout",
     "output_type": "stream",
     "text": [
      "[757776 616550 757564 115827 824614 757514 616864 273257 740436 367431\n",
      " 616718 856009 824637 757687 686456 406553 757674 856029 616875 856014\n",
      " 824624 616947  59451 757785 644000 616907 752761 616950 757705 676796\n",
      " 616656 824607 546019 856056 855978 757494 757561 644312 855994 611847\n",
      " 757528 343654 625515 184114 625433 616681  40999 656337 770152 856062\n",
      " 616892 757482 757630 616964 700151 574204  98430 578187 757541 660295\n",
      " 461768 616631 757569 757486 736386 746899 757579 663782 824667 655887\n",
      " 365050 757750 725181 855990 228242 747521 856045 619499 757485 757744\n",
      " 856010 757808 616773 675501 554394 616804 757577 702806 616585 616906\n",
      " 117442 333210 687903 757507 274007 616925 552638 147841 824677 757717\n",
      " 824662 177838 428507 570015 153484 824730 616862 616852 688542 227722\n",
      " 616800 757527 616904 757521  61085 757483 437061 740304 616833 754855\n",
      " 381139 616984 757738 506182 616620 376894 616683 757766 625434 757735\n",
      " 521979 757805 627636 616732 467465 611849 116200 824642 757708 562337\n",
      " 757597 374012 616679 757515 311395 616985 757617 728922 243665 757646\n",
      " 856008 757636 616719 704163 330965 856020 616838 757755 555974 824655\n",
      " 757596 757582 177822 428579 760152 824660 246492 616655 757637 616796\n",
      " 616941 757500 856033 425632 855987  64541 117447 791118 687907 657122\n",
      " 757583 160444 855976 757578 116155 616866 632275 757754 140458    794\n",
      " 757727 616978 272841 616901 430080 856046 148037 757581 616795 704587\n",
      " 757622 616622 757732 757638 757505 616918 546678 757688 616867 856052\n",
      " 616896    795 616806 229645 772943 616803 321753 824612 757807 625913\n",
      " 513425 616988 757479  36909 616551 625341 855989 856032 616932 747475\n",
      " 616940 546620 643983 680142 757800 757489 799043 856055 824687 616935\n",
      " 824698 151702 616759 611848 547684  40660 454913 757468 341278 757737\n",
      " 616573 824595 210228 740502 472370  41329 757703 387431 757677  40580\n",
      " 749822 616754 616915 658213 658989 248930 616772 295700 824686 855986\n",
      " 616841 616876 616549 824619 757655 757711 616687 616582 824703 116152\n",
      " 757741 757633 616587 856021 757484 757743 616694 133149 420632 856019\n",
      " 616784 856013 757654 616752 757720 757749 616817  36914 616733 229647\n",
      " 574315 616931 616959 747503 616774 757469 152522 616650 616653 616936\n",
      " 343650 295663 461209 757603 856048 757783 404442 757629 856022 616682\n",
      " 757706  90565 855996 278978 625511 757656 273212 240837 448269 757558\n",
      " 532298 616942 667900 616903 333235 616738 757653 616737      0 757563\n",
      " 757773 757568 757780 574210 757715 616765 574078 705938 757756 757616\n",
      " 757599  49937 757547  66501  41457 855992 496611 616927 214008  36912\n",
      "  40615 465672 616976 616647 757722 740432 757524 616877 616571 757626\n",
      " 856016 546655 229646 616949 757474 757642 730951 757685 757810 625340\n",
      " 616680 616937 583655 278862 824596 757657 616673 616872 616730 616929\n",
      " 757513 757631 616797 613495 278331 757719 616856 747515 824615 757774\n",
      " 757643 616938 616651 757481 616775 616603 757696 574131 574061 574317\n",
      " 757628 607055 133148 616676 856064 616916 616809 411921 616727 616608\n",
      " 757736 616995 757604 757619 616794 342870 616971 683688 616742 757587\n",
      " 616646 757648 757480 616888 396322 856025 616822 552626 757704 616644\n",
      " 616874  40613 116039 140132 287946  91023 757771 757537 343657 527746\n",
      " 616853 616597 757718 757751 757625 757584 757539 616690 690159 574173\n",
      " 757649 116041 616677 616898 616939 711026 616760 757731 757769 625338\n",
      " 204874 757580 616672 116040 757557 757516 649303 616821 757710 342886\n",
      " 616146  41359 616921 757600 757775 616820 757729 757701 757721 757609\n",
      " 757475 442419 757565 574212 757487 757545 574175 273676 616611 616868\n",
      " 757552 757620 616846 757550 757611 562262 127358 616761 757559 341283\n",
      " 333238 616607 855979 757607 616606 757531 616886 757608 757488 562333\n",
      " 757546 757693 757477 616756 616592 757673 616642 616610    123 616798\n",
      " 616562 630841 757470 341277 340866 454916 616746 757567 616596 757574\n",
      " 616961 757570 757519 757698 616954 616698 545946 757645 757532 616854\n",
      " 616788 412196 616645 616674 757635 757534 757745 757491 624474 757536\n",
      " 616826 616764 757707 757533 311394 616593 616609 683689 616638 616905\n",
      " 574213 757700 757518 616572 616895 856037 616960 757702 757627 616570\n",
      " 616974 616548 757512 117986 616629 616844 616666 757538 616897 616871\n",
      " 176834 757664 616887 757747 616715 616865 574211 616605 616811 616578\n",
      " 757610 757551 757692 616870 657469 757689 616755 757623 616700 757640\n",
      " 480502 616787 176697 757660 757661 616902 616827 757763  40612 757659\n",
      " 616640 757694 616913  36910 616641 616831 526554 757734 616770 616577\n",
      " 757471 153485 757606 757624 135448 117918 757548 343655 757615 616658\n",
      " 616848 574214 757650 115825 616716 616766 757543 757815 757613 115824\n",
      " 616958  66502 616654 625332 757520 757542 616688 757778 616648 757571\n",
      " 616579 616671 616580 616769 757549 757772 616889 616781 616810 757742\n",
      " 616689 546632 616699 333239 616581 757605 757517 757555 757621 411920\n",
      " 616911 616635 757690 616667 616567 757554 757777 757553 598945 616663\n",
      " 616670 616802 616792 616558 616860 616616 616639 757647 616890 616859\n",
      " 616561 616849 757566 616828 757733 757612 616814 757476 757560 343656\n",
      " 616970 616705 616786 616829 757691 616564 616665 616912 616830 616767\n",
      " 616861 616565 616637 616793 757535 757697 616946 757614 616825 616778\n",
      " 616662 757544 616824 757695 616851 616659 757762 616922 616845 562263\n",
      " 616808 757699 616850 616924 616703 616812 616559 616763 616552 616919\n",
      " 616668 616568 616843 616563 616669 176846 616566 616815 616873 616776\n",
      " 616973 616664 616661 616782 616934 616777 616869 616771 616628 616660\n",
      " 616945 616955 616636 616783 757556 616634 545945 616652 616560 616790\n",
      " 616701 616780 616923 616768 616882 616957 616791 616920 616657 616956\n",
      " 616557 616813 616779 616569 616823 616789 616972 616556 616816 616944]\n"
     ]
    }
   ],
   "source": [
    "#let's try preallocating an array instead of appending\n",
    "#the other option is to just vectorize the whole thing, requires a tiny bit more work\n",
    "# var_list = np.zeros(len(util.dataset))\n",
    "# for i in range(len(util.dataset)):\n",
    "#     a = util.var(i)\n",
    "#     var_list[i] = a\n",
    "# print(a) #\n",
    "\n",
    "#it's fast enough to where we don't care\n",
    "var_list = np.array(var_list)\n",
    "#now we should find the top 800 variances\n",
    "top_idx = np.argsort(var_list)[-800:]\n",
    "print(top_idx)"
   ]
  },
  {
   "cell_type": "code",
   "execution_count": 9,
   "metadata": {},
   "outputs": [
    {
     "name": "stdout",
     "output_type": "stream",
     "text": [
      "21.97047326794178\n",
      "37.3295163225902\n",
      "37.3295163225902\n"
     ]
    }
   ],
   "source": [
    "#this is the top idx of variances, we can verify this makes sense\n",
    "#0 idx is lowest, -1 idx is highest, let's print them to see if it makes sense\n",
    "print(var_list[top_idx[0]])\n",
    "print(var_list[top_idx[-1]])\n",
    "print(np.max(var_list))"
   ]
  },
  {
   "cell_type": "code",
   "execution_count": 14,
   "metadata": {},
   "outputs": [
    {
     "name": "stdout",
     "output_type": "stream",
     "text": [
      "[1.96999192237854, 1.8382842540740967, 3.092090606689453, 3.3291566371917725, 3.1063358783721924, 3.0512406826019287, 3.2146494388580322, 3.334730863571167, 2.4374845027923584, 2.7568743228912354, 2.7754642963409424, 2.316953182220459, 2.2804460525512695, 2.838026762008667, 2.753607988357544, 3.0812642574310303, 2.7424964904785156, 2.5019071102142334, 2.648059606552124, 2.96549916267395, 3.4042694568634033, 1.6005873680114746, 2.908557891845703, 3.167809247970581, 3.022590398788452, 2.875159502029419, 2.9145219326019287, 2.067584991455078, 2.7382237911224365, 1.916175365447998, 3.079648733139038, 2.2228031158447266, 3.529783010482788, 1.7062971591949463, 3.6110970973968506, 3.0794291496276855, 3.2628538608551025, 4.8217549324035645, 3.6904473304748535, 4.014173984527588, 3.5620930194854736, 3.7181613445281982, 3.7487499713897705, 3.754755735397339, 3.0803730487823486, 3.808440685272217, 3.374964952468872, 3.3942487239837646, 3.764517068862915, 3.416642427444458, 3.2250876426696777, 4.230443477630615, 3.975355863571167, 4.789794445037842, 4.0853424072265625, 3.16705060005188, 3.2393639087677, 3.9810523986816406, 3.7375495433807373, 3.715041399002075, 4.294591426849365, 4.174365043640137, 4.226766109466553, 4.302098274230957, 4.552309036254883, 4.084003925323486, 4.202432155609131, 4.11297082901001, 3.582923173904419, 3.412045955657959, 4.119107723236084, 4.3786797523498535, 3.5931830406188965, 3.976670503616333, 4.294740676879883, 3.8169057369232178, 4.200706481933594, 3.564488649368286, 3.3417346477508545, 3.305379867553711, 3.2454333305358887, 3.6175527572631836, 4.159255027770996, 4.716923236846924, 3.6667044162750244, 3.848262071609497, 4.119969367980957, 3.6470746994018555, 3.564971685409546, 3.551912546157837, 4.207306861877441, 3.4303269386291504, 3.7749269008636475, 3.077066659927368, 3.6005215644836426, 3.2041471004486084, 3.557757616043091, 4.82292366027832, 4.116417407989502, 3.85083270072937, 3.6047980785369873, 3.690459966659546, 3.117522954940796, 3.176798105239868, 4.604832172393799, 3.0726187229156494, 4.338113307952881, 4.251566410064697, 3.9952392578125, 2.0236215591430664, 4.307192802429199, 2.7760512828826904, 4.130898952484131, 3.618062734603882, 2.9874398708343506, 2.455096960067749, 4.5853190422058105, 3.3467860221862793, 4.228976249694824, 2.701042413711548, 4.3379693031311035, 2.897524833679199, 3.38844633102417, 4.4355149269104, 4.208242893218994, 3.668203592300415, 4.64992618560791, 3.6667563915252686, 3.7638189792633057, 3.948131561279297, 4.147433757781982, 3.426351308822632, 4.648948669433594, 3.2236740589141846, 3.2459938526153564, 4.069173336029053, 4.180938720703125, 4.494913578033447, 4.759355545043945, 3.402787923812866, 4.505924701690674, 2.714287519454956, 4.051618576049805, 4.306770324707031, 3.902316093444824, 4.765929698944092, 4.282693862915039, 4.06379508972168, 4.228111743927002, 3.1589391231536865, 4.10695219039917, 4.162448406219482, 4.281459808349609, 3.19706130027771, 3.8948938846588135, 2.964817523956299, 4.045212268829346, 3.6971187591552734, 4.119546413421631, 4.5967631340026855, 4.3645806312561035]\n"
     ]
    }
   ],
   "source": [
    "#let's get the output for the top_idx\n",
    "idx = top_idx[-1]\n",
    "idx = 161*idx\n",
    "out_list = []\n",
    "target_list = []\n",
    "for i in range(161):\n",
    "    a,b = util.dataset[idx+i]\n",
    "    temp,_ = util.backbone(a.unsqueeze(0))\n",
    "    out = util.decoder(temp)\n",
    "    out_list.append(out[0,1].item())\n",
    "    target_list.append(b[1].item())\n",
    "print(out_list)"
   ]
  },
  {
   "cell_type": "code",
   "execution_count": 17,
   "metadata": {},
   "outputs": [
    {
     "data": {
      "text/plain": [
       "<Axes: ylabel='Count'>"
      ]
     },
     "execution_count": 17,
     "metadata": {},
     "output_type": "execute_result"
    },
    {
     "data": {
      "image/png": "[encoded data removed]",
      "text/plain": [
       "<Figure size 640x480 with 1 Axes>"
      ]
     },
     "metadata": {},
     "output_type": "display_data"
    }
   ],
   "source": [
    "#sns histogram of target_list\n",
    "sns.histplot(target_list, bins = 50)\n",
    "#indeed that is highly variable..."
   ]
  },
  {
   "cell_type": "code",
   "execution_count": 20,
   "metadata": {},
   "outputs": [],
   "source": [
    "idx = top_idx[0]\n",
    "idx = 161*idx\n",
    "target_list = []\n",
    "for i in range(161):\n",
    "    a,b = util.dataset[idx+i]\n",
    "    target_list.append(b[1].item())"
   ]
  },
  {
   "cell_type": "code",
   "execution_count": 21,
   "metadata": {},
   "outputs": [
    {
     "data": {
      "text/plain": [
       "<Axes: ylabel='Count'>"
      ]
     },
     "execution_count": 21,
     "metadata": {},
     "output_type": "execute_result"
    },
    {
     "data": {
      "image/png": "[encoded data removed]",
      "text/plain": [
       "<Figure size 640x480 with 1 Axes>"
      ]
     },
     "metadata": {},
     "output_type": "display_data"
    }
   ],
   "source": [
    "sns.histplot(target_list, bins = 50)\n",
    "#I think this is a good mixture, what if we also get a list of the "
   ]
  },
  {
   "cell_type": "code",
   "execution_count": 22,
   "metadata": {},
   "outputs": [],
   "source": [
    "#save out the top_idx list\n",
    "np.save('/data/leslie/sarthak/hyena/hyena-dna/shap_analysis/most_variable_cCREs/most_variable_train.npy', top_idx)"
   ]
  },
  {
   "cell_type": "code",
   "execution_count": 23,
   "metadata": {},
   "outputs": [],
   "source": [
    "util = ISMUtils('DNase_ctst', ckpt_path, classification=True, split = 'val')"
   ]
  },
  {
   "cell_type": "code",
   "execution_count": 25,
   "metadata": {},
   "outputs": [
    {
     "name": "stdout",
     "output_type": "stream",
     "text": [
      "3.4798981593815297\n"
     ]
    }
   ],
   "source": [
    "var_list = []\n",
    "for i in range(int(len(util.dataset)/161)):\n",
    "    a = util.var(i)\n",
    "    var_list.append(a)\n",
    "print(a) #did all 1000 quite quickly\n",
    "\n",
    "#get the top 100\n",
    "var_list = np.array(var_list)\n",
    "top_idx = np.argsort(var_list)[-100:]"
   ]
  },
  {
   "cell_type": "code",
   "execution_count": 26,
   "metadata": {},
   "outputs": [
    {
     "name": "stdout",
     "output_type": "stream",
     "text": [
      "19.3763573713277\n",
      "26.76852364601814\n"
     ]
    }
   ],
   "source": [
    "print(var_list[top_idx[0]])\n",
    "print(var_list[top_idx[-1]])\n",
    "#similar values! because similar ratio so makes sense"
   ]
  },
  {
   "cell_type": "code",
   "execution_count": 27,
   "metadata": {},
   "outputs": [],
   "source": [
    "#now save it out\n",
    "np.save('/data/leslie/sarthak/hyena/hyena-dna/shap_analysis/most_variable_cCREs/most_variable_val.npy', top_idx)"
   ]
  },
  {
   "cell_type": "code",
   "execution_count": 28,
   "metadata": {},
   "outputs": [
    {
     "name": "stdout",
     "output_type": "stream",
     "text": [
      "3.997605204595969\n",
      "18.963990608596635\n",
      "26.212336163246196\n"
     ]
    }
   ],
   "source": [
    "#finally for test\n",
    "util = ISMUtils('DNase_ctst', ckpt_path, classification=True, split = 'test')\n",
    "var_list = []\n",
    "for i in range(int(len(util.dataset)/161)):\n",
    "    a = util.var(i)\n",
    "    var_list.append(a)\n",
    "print(a) #did all 1000 quite quickly\n",
    "\n",
    "#get the top 100\n",
    "var_list = np.array(var_list)\n",
    "top_idx = np.argsort(var_list)[-100:]\n",
    "print(var_list[top_idx[0]])\n",
    "print(var_list[top_idx[-1]])"
   ]
  },
  {
   "cell_type": "code",
   "execution_count": 29,
   "metadata": {},
   "outputs": [],
   "source": [
    "np.save('/data/leslie/sarthak/hyena/hyena-dna/shap_analysis/most_variable_cCREs/most_variable_test.npy', top_idx)"
   ]
  },
  {
   "cell_type": "code",
   "execution_count": 30,
   "metadata": {},
   "outputs": [
    {
     "name": "stdout",
     "output_type": "stream",
     "text": [
      "800\n",
      "{6780929, 12576779, 14030863, 10657808, 8603666, 6709272, 6699032, 15935515, 2977821, 16066590, 6744099, 12142627, 5910565, 15110184, 8497195, 9637935, 5693491, 11538487, 2777143, 7792697, 11638841, 6461497, 10680379, 11907133, 6901822, 15073339, 5675072, 5894211, 4087877, 5210182, 14768197, 10055752, 14585928, 15304778, 1814605, 3833935, 9543760, 788565, 6250582, 7303256, 11927641, 15947866, 10342489, 4053082, 9005149, 12558435, 71780, 5310564, 825446, 10389610, 1871984, 4997235, 12234872, 5529721, 6410365, 12779652, 13510793, 14772361, 12136592, 7022737, 4692116, 10309780, 11370647, 2736280, 5136536, 5660825, 1931419, 3965086, 8890526, 12800160, 16861345, 3578017, 16693412, 227500, 3094701, 15282350, 7798958, 6500531, 8339637, 16564407, 9750712, 14948540, 8214717, 7286973, 11034818, 6291652, 4905161, 16838859, 10508492, 5279947, 13037772, 413903, 5062866, 6744276, 16877782, 10338518, 2392283, 1583323, 11909342, 782562, 8714470, 8921320, 15673577, 4268267, 6312172, 13045997, 9068779, 8679664, 12990705, 14569712, 9617651, 1329395, 13326582, 8227078, 9441543, 4219148, 14319884, 12724495, 12724496, 9750802, 9406739, 13414677, 13754651, 10508573, 16460067, 5691689, 10055981, 15321392, 11335987, 8288565, 9777462, 4411707, 4135232, 15649089, 4024640, 15601989, 5456198, 440655, 2031953, 1470802, 2623828, 4714841, 12831066, 403803, 6334813, 15630690, 835941, 7020915, 1595769, 6777211, 16017794, 14983556, 14584197, 13037967, 1786264, 6042009, 6615449, 14137757, 6613406, 254368, 15204774, 7184813, 977327, 4039088, 6080946, 8800691, 9011634, 1102264, 6588863, 16431552, 70081, 11930053, 14410188, 1006028, 6646227, 2312660, 5710291, 4215255, 16738777, 3264989, 4375006, 5097950, 7002592, 14574055, 12276202, 2413039, 2746865, 2044401, 7881203, 2628086, 16222711, 15796728, 5593598, 213504, 12677644, 16904719, 5528080, 8403473, 8040977, 3375635, 64017, 16185892, 13449771, 11373102, 10800, 1708592, 7639603, 8268340, 10727990, 12730936, 12567097, 3150392, 15897145, 10256958, 2224703, 15737414, 15575627, 9810511, 5405264, 4977233, 6279762, 6822480, 16308822, 4524638, 9540192, 883299, 989797, 11836005, 8729202, 5790322, 14774899, 12984948, 15252089, 7717498, 6597243, 16001663, 16812674, 3562115, 13404805, 2054795, 12997262, 14690960, 15573652, 12905108, 5491349, 12378775, 4932248, 6371990, 10103450, 4930203, 6199964, 1200796, 7207582, 11184795, 3887777, 10183330, 6306466, 4313763, 6376105, 7860907, 10449581, 1929904, 5845687, 12634808, 5012159, 7080640, 1231556, 7289543, 10971847, 3328718, 15518416, 14863060, 10201813, 10062553, 16675549, 12321508, 11135720, 9153256, 10980074, 4176621, 14039793, 7758578, 9640690, 11350771, 12548859, 2511613, 16331518, 12294912, 5634819, 12100356, 6507269, 10814214, 4467464, 1196809, 10722058, 6871821, 9050893, 6451986, 3963666, 16395029, 16562969, 6523674, 1094429, 13191968, 6497059, 14523173, 9937705, 1481513, 664364, 5151536, 10922802, 2716469, 1925942, 1446840, 1772345, 14560057, 13386561, 8065858, 13423427, 16104260, 1993539, 6058824, 322377, 8868681, 189260, 8100686, 15092562, 6062932, 299860, 1287004, 5243740, 4219745, 3021670, 10900330, 4608876, 13947763, 897908, 10216309, 7242614, 14738295, 4039543, 16757625, 1743738, 5694327, 11565948, 4139898, 1155966, 8579969, 6404995, 676742, 6712202, 6304652, 11963277, 13470606, 16763791, 11107212, 4561810, 2872217, 4924316, 12737437, 4684701, 15291293, 1207197, 14369697, 3447727, 5426098, 5419959, 16608184, 15707065, 5721018, 3605433, 4791227, 5254077, 2014139, 16157630, 13829056, 16759741, 11295682, 9743301, 617413, 11420616, 7619529, 1571786, 4740046, 9669591, 4801498, 2069466, 15844317, 16913378, 12571619, 4135910, 4602856, 8834027, 1727472, 7013363, 4273140, 1807350, 8127480, 14740474, 10202107, 15383548, 15508476, 1946618, 4131839, 15725570, 7476227, 4942853, 11774981, 15940614, 4035593, 9837577, 13898764, 10595341, 1350679, 14064665, 6986777, 8950811, 1053, 8823838, 16104478, 11070494, 1121311, 16737314, 12909602, 12893221, 6530085, 12739623, 8178734, 14148654, 16466992, 10961968, 5383217, 1203254, 7162939, 3173438, 3529798, 6968395, 9059405, 1414222, 15496271, 6446162, 13851731, 11385940, 7554130, 488537, 13763674, 3150940, 1381468, 6927455, 1705056, 6448227, 5350500, 595045, 2444390, 9925735, 4559973, 4029542, 2491499, 3576940, 8764525, 1789038, 11453556, 7965821, 8227970, 15504515, 15469698, 1318021, 3980422, 15225994, 8256650, 4080781, 12987537, 9294993, 5151893, 3812506, 9893020, 10009760, 220322, 14120102, 14523561, 16671914, 933035, 6522031, 12756145, 9776307, 12254389, 13966518, 10775736, 10126523, 2567359, 14097600, 3513540, 85190, 5782734, 10294481, 16471249, 8246485, 2018522, 11171036, 14103773, 11590877, 11879647, 15101154, 16622818, 3405028, 10257641, 14150895, 5948656, 6532337, 14044403, 10761460, 3456246, 5672182, 4123897, 2663673, 4539645, 14544134, 12776715, 14636300, 16928014, 2501907, 12829973, 5940506, 11046174, 2950434, 4193572, 14667045, 9356582, 6513968, 15160628, 5932342, 13839670, 4762934, 10741050, 14095676, 6092097, 11040065, 1973573, 15369545, 10554700, 14785870, 16377171, 6915413, 5449046, 1017174, 11631961, 6800737, 15058277, 7245158, 13061485, 14767469, 16725359, 8068462, 5406062, 14976374, 7867768, 16553337, 5473660, 7042431, 10182015, 1377664, 8068484, 5469573, 15267206, 8971658, 4746635, 3114380, 3394958, 14011791, 16850328, 10706328, 5164443, 226717, 4472221, 6874526, 4119967, 10700194, 14376355, 34221, 6067629, 5846445, 16518576, 12965300, 11623861, 10544566, 4054462, 4992447, 13315527, 6421961, 822730, 5486027, 2332110, 7087567, 2121168, 2117072, 13358548, 4279766, 10794457, 11017692, 16498142, 4908511, 13485540, 9086439, 7814632, 9565681, 14599667, 7810552, 16897529, 7206392, 9979385, 110077, 13743616, 3751426, 3790339, 5070342, 4931079, 8214025, 12660237, 1895950, 9281042, 10587668, 429590, 5744153, 2088473, 6000154, 16651804, 15173149, 2344483, 16367141, 7026215, 6530600, 16856621, 1627693, 376365, 7226925, 3622446, 16682554, 3575355, 10237500, 6385211, 9332289, 14159438, 7390798, 12963413, 1367640, 12574297, 3040862, 12886900, 241252, 16289381, 6420072, 5121641, 3628653, 2186865, 5232241, 1611377, 13172341, 11773559, 12551801, 13903487, 16610945, 15468167, 5377674, 13622923, 11894412, 9799310, 14628502, 5424791, 14470809, 12777116, 507551, 6493861, 16279208, 14313129, 4212392, 10120875, 6684332, 2623146, 3993265, 5187250, 15005363, 9789109, 9893561, 8797888, 15318722, 1380039, 5742281, 5678796, 10079949, 1115858, 2361046, 12771030, 10335960, 9238234, 4441825, 11284196, 2191076, 13766386, 1195762, 12840690, 8386293, 11001589, 11931387, 7407362, 3559170, 3102472, 4282123, 14239501, 3880719, 13991699, 1726238, 16658207, 1640225, 1586985, 16727854, 12662578, 11583288, 2187068, 958268, 1890110, 2010948, 4134725, 3508036, 14102341, 3995464, 7028553, 13174602, 8617802, 7573325, 1263438, 14432083, 16066389, 4185944, 6141784, 2129755, 9869148, 9099101, 9211742, 5840738, 15208295, 2334568, 11566953, 1697647, 5126008, 14589818, 13815675, 10549116, 7579529, 10700684, 14256014, 7198610, 8695699, 14362517, 4327320, 13488026, 12924829, 14952350, 1757090, 16910243, 12638118, 7630761, 4767661, 2930610, 10579893, 16895928, 13615034, 3616699, 8064956, 11194302, 5423039, 13027264, 4188096, 15411138, 14970814, 14475204, 8722375, 3291079, 12154825, 4855753, 8634315, 13131723, 9224139, 5101512, 14368720, 4337619, 14763988, 6645719, 2213849, 12443612, 651239, 7509994, 14473194, 11751403, 11042800, 8732660, 15953909, 9709559, 9424893, 16711678, 14729215}\n"
     ]
    }
   ],
   "source": [
    "#we will now do a job that calculates ISM, first let's test our classification models with the new ISM procedure to make sure it is actually identical\n",
    "#we won't run it here, but can use a rejection sampling approach!\n",
    "import random\n",
    "train_idx = np.load('/data/leslie/sarthak/hyena/hyena-dna/shap_analysis/most_variable_cCREs/most_variable_train.npy')\n",
    "# train_idx = set(train_idx) #this will technically speed things up because sets are implemented with hash tables but we're doing 800 things\n",
    "other_idx = set()\n",
    "while len(other_idx) < len(train_idx):\n",
    "    sample = random.randint(0,len(util.dataset)-1)\n",
    "    if sample not in train_idx:\n",
    "        other_idx.add(sample)\n",
    "print(len(other_idx))\n",
    "print(other_idx)"
   ]
  },
  {
   "cell_type": "code",
   "execution_count": null,
   "metadata": {},
   "outputs": [],
   "source": []
  },
  {
   "cell_type": "code",
   "execution_count": 31,
   "metadata": {},
   "outputs": [
    {
     "name": "stdout",
     "output_type": "stream",
     "text": [
      "setup: 4.033229827880859\n"
     ]
    },
    {
     "name": "stderr",
     "output_type": "stream",
     "text": [
      "  0%|          | 0/1024 [00:00<?, ?it/s]"
     ]
    },
    {
     "name": "stdout",
     "output_type": "stream",
     "text": [
      "altering: 0.002004384994506836\n",
      "model: 0.25556039810180664\n",
      "storing: 0.00014901161193847656\n"
     ]
    },
    {
     "name": "stderr",
     "output_type": "stream",
     "text": [
      "  0%|          | 2/1024 [00:00<04:58,  3.42it/s]"
     ]
    },
    {
     "name": "stdout",
     "output_type": "stream",
     "text": [
      "storing in big matrix: 0.2713608741760254\n",
      "altering: 0.0015299320220947266\n",
      "model: 0.007149934768676758\n",
      "storing: 7.081031799316406e-05\n"
     ]
    },
    {
     "name": "stderr",
     "output_type": "stream",
     "text": [
      "  0%|          | 3/1024 [00:00<04:49,  3.53it/s]"
     ]
    },
    {
     "name": "stdout",
     "output_type": "stream",
     "text": [
      "storing in big matrix: 0.2582743167877197\n",
      "altering: 0.0016450881958007812\n",
      "model: 0.007145881652832031\n",
      "storing: 6.818771362304688e-05\n"
     ]
    },
    {
     "name": "stderr",
     "output_type": "stream",
     "text": [
      "  0%|          | 4/1024 [00:01<04:46,  3.56it/s]"
     ]
    },
    {
     "name": "stdout",
     "output_type": "stream",
     "text": [
      "storing in big matrix: 0.26425719261169434\n",
      "altering: 0.0016143321990966797\n",
      "model: 0.007064104080200195\n",
      "storing: 7.081031799316406e-05\n"
     ]
    },
    {
     "name": "stderr",
     "output_type": "stream",
     "text": [
      "  0%|          | 5/1024 [00:01<04:44,  3.59it/s]"
     ]
    },
    {
     "name": "stdout",
     "output_type": "stream",
     "text": [
      "storing in big matrix: 0.2622082233428955\n",
      "altering: 0.0016508102416992188\n",
      "model: 0.007158756256103516\n",
      "storing: 6.866455078125e-05\n"
     ]
    },
    {
     "name": "stderr",
     "output_type": "stream",
     "text": [
      "  1%|          | 6/1024 [00:01<04:42,  3.60it/s]"
     ]
    },
    {
     "name": "stdout",
     "output_type": "stream",
     "text": [
      "storing in big matrix: 0.26294469833374023\n",
      "altering: 0.0017473697662353516\n",
      "model: 0.007098197937011719\n",
      "storing: 6.556510925292969e-05\n"
     ]
    },
    {
     "name": "stderr",
     "output_type": "stream",
     "text": [
      "  1%|          | 7/1024 [00:01<04:41,  3.61it/s]"
     ]
    },
    {
     "name": "stdout",
     "output_type": "stream",
     "text": [
      "storing in big matrix: 0.26262545585632324\n",
      "altering: 0.0016150474548339844\n",
      "model: 0.00719451904296875\n",
      "storing: 6.985664367675781e-05\n"
     ]
    },
    {
     "name": "stderr",
     "output_type": "stream",
     "text": [
      "  1%|          | 8/1024 [00:02<04:40,  3.62it/s]"
     ]
    },
    {
     "name": "stdout",
     "output_type": "stream",
     "text": [
      "storing in big matrix: 0.26144886016845703\n",
      "altering: 0.001604318618774414\n",
      "model: 0.007266044616699219\n",
      "storing: 6.628036499023438e-05\n"
     ]
    },
    {
     "name": "stderr",
     "output_type": "stream",
     "text": [
      "  1%|          | 9/1024 [00:02<04:40,  3.62it/s]"
     ]
    },
    {
     "name": "stdout",
     "output_type": "stream",
     "text": [
      "storing in big matrix: 0.2650725841522217\n",
      "altering: 0.0015752315521240234\n",
      "model: 0.007012367248535156\n",
      "storing: 8.368492126464844e-05\n"
     ]
    },
    {
     "name": "stderr",
     "output_type": "stream",
     "text": [
      "  1%|          | 10/1024 [00:02<04:40,  3.62it/s]"
     ]
    },
    {
     "name": "stdout",
     "output_type": "stream",
     "text": [
      "storing in big matrix: 0.2635207176208496\n",
      "altering: 0.0016026496887207031\n",
      "model: 0.007063388824462891\n",
      "storing: 6.961822509765625e-05\n"
     ]
    },
    {
     "name": "stderr",
     "output_type": "stream",
     "text": [
      "  1%|          | 11/1024 [00:03<04:39,  3.62it/s]"
     ]
    },
    {
     "name": "stdout",
     "output_type": "stream",
     "text": [
      "storing in big matrix: 0.26361703872680664\n",
      "altering: 0.0016033649444580078\n",
      "model: 0.007082223892211914\n",
      "storing: 7.152557373046875e-05\n"
     ]
    },
    {
     "name": "stderr",
     "output_type": "stream",
     "text": [
      "  1%|          | 12/1024 [00:03<04:40,  3.61it/s]"
     ]
    },
    {
     "name": "stdout",
     "output_type": "stream",
     "text": [
      "storing in big matrix: 0.2667267322540283\n",
      "altering: 0.0016100406646728516\n",
      "model: 0.007091522216796875\n",
      "storing: 8.058547973632812e-05\n"
     ]
    },
    {
     "name": "stderr",
     "output_type": "stream",
     "text": [
      "  1%|▏         | 13/1024 [00:03<04:39,  3.61it/s]"
     ]
    },
    {
     "name": "stdout",
     "output_type": "stream",
     "text": [
      "storing in big matrix: 0.26342320442199707\n",
      "altering: 0.0016238689422607422\n",
      "model: 0.007038593292236328\n",
      "storing: 6.985664367675781e-05\n"
     ]
    },
    {
     "name": "stderr",
     "output_type": "stream",
     "text": [
      "  1%|▏         | 14/1024 [00:03<04:39,  3.62it/s]"
     ]
    },
    {
     "name": "stdout",
     "output_type": "stream",
     "text": [
      "storing in big matrix: 0.2628645896911621\n",
      "altering: 0.0015957355499267578\n",
      "model: 0.007064342498779297\n",
      "storing: 6.961822509765625e-05\n"
     ]
    },
    {
     "name": "stderr",
     "output_type": "stream",
     "text": [
      "  1%|▏         | 15/1024 [00:04<04:39,  3.61it/s]"
     ]
    },
    {
     "name": "stdout",
     "output_type": "stream",
     "text": [
      "storing in big matrix: 0.267012357711792\n",
      "altering: 0.001626729965209961\n",
      "model: 0.007082939147949219\n",
      "storing: 7.581710815429688e-05\n"
     ]
    },
    {
     "name": "stderr",
     "output_type": "stream",
     "text": [
      "  2%|▏         | 16/1024 [00:04<04:39,  3.60it/s]"
     ]
    },
    {
     "name": "stdout",
     "output_type": "stream",
     "text": [
      "storing in big matrix: 0.2664813995361328\n",
      "altering: 0.001627206802368164\n",
      "model: 0.007065534591674805\n",
      "storing: 6.723403930664062e-05\n"
     ]
    },
    {
     "name": "stderr",
     "output_type": "stream",
     "text": [
      "  2%|▏         | 17/1024 [00:04<04:40,  3.59it/s]"
     ]
    },
    {
     "name": "stdout",
     "output_type": "stream",
     "text": [
      "storing in big matrix: 0.26755380630493164\n",
      "altering: 0.0015795230865478516\n",
      "model: 0.0070378780364990234\n",
      "storing: 7.009506225585938e-05\n"
     ]
    },
    {
     "name": "stderr",
     "output_type": "stream",
     "text": [
      "  2%|▏         | 18/1024 [00:05<04:41,  3.58it/s]"
     ]
    },
    {
     "name": "stdout",
     "output_type": "stream",
     "text": [
      "storing in big matrix: 0.2694096565246582\n",
      "altering: 0.0015881061553955078\n",
      "model: 0.007005929946899414\n",
      "storing: 6.794929504394531e-05\n"
     ]
    },
    {
     "name": "stderr",
     "output_type": "stream",
     "text": [
      "  2%|▏         | 19/1024 [00:05<04:39,  3.60it/s]"
     ]
    },
    {
     "name": "stdout",
     "output_type": "stream",
     "text": [
      "storing in big matrix: 0.26266026496887207\n",
      "altering: 0.00157928466796875\n",
      "model: 0.0070803165435791016\n",
      "storing: 6.937980651855469e-05\n"
     ]
    },
    {
     "name": "stderr",
     "output_type": "stream",
     "text": [
      "  2%|▏         | 20/1024 [00:05<04:39,  3.60it/s]"
     ]
    },
    {
     "name": "stdout",
     "output_type": "stream",
     "text": [
      "storing in big matrix: 0.26611995697021484\n",
      "altering: 0.001621246337890625\n",
      "model: 0.006998300552368164\n",
      "storing: 6.651878356933594e-05\n"
     ]
    },
    {
     "name": "stderr",
     "output_type": "stream",
     "text": [
      "  2%|▏         | 21/1024 [00:05<04:39,  3.59it/s]"
     ]
    },
    {
     "name": "stdout",
     "output_type": "stream",
     "text": [
      "storing in big matrix: 0.26624035835266113\n",
      "altering: 0.0016274452209472656\n",
      "model: 0.007186174392700195\n",
      "storing: 6.914138793945312e-05\n"
     ]
    },
    {
     "name": "stderr",
     "output_type": "stream",
     "text": [
      "  2%|▏         | 22/1024 [00:06<04:39,  3.59it/s]"
     ]
    },
    {
     "name": "stdout",
     "output_type": "stream",
     "text": [
      "storing in big matrix: 0.26650166511535645\n",
      "altering: 0.0016160011291503906\n",
      "model: 0.006958961486816406\n",
      "storing: 6.818771362304688e-05\n"
     ]
    },
    {
     "name": "stderr",
     "output_type": "stream",
     "text": [
      "  2%|▏         | 23/1024 [00:06<04:38,  3.59it/s]"
     ]
    },
    {
     "name": "stdout",
     "output_type": "stream",
     "text": [
      "storing in big matrix: 0.2658815383911133\n",
      "altering: 0.001604318618774414\n",
      "model: 0.007180929183959961\n",
      "storing: 6.842613220214844e-05\n"
     ]
    },
    {
     "name": "stderr",
     "output_type": "stream",
     "text": [
      "  2%|▏         | 24/1024 [00:06<04:37,  3.60it/s]"
     ]
    },
    {
     "name": "stdout",
     "output_type": "stream",
     "text": [
      "storing in big matrix: 0.2640504837036133\n",
      "altering: 0.001596689224243164\n",
      "model: 0.00703883171081543\n",
      "storing: 6.699562072753906e-05\n"
     ]
    },
    {
     "name": "stderr",
     "output_type": "stream",
     "text": [
      "  2%|▏         | 25/1024 [00:06<04:37,  3.60it/s]"
     ]
    },
    {
     "name": "stdout",
     "output_type": "stream",
     "text": [
      "storing in big matrix: 0.2651181221008301\n",
      "altering: 0.0017211437225341797\n",
      "model: 0.00706171989440918\n",
      "storing: 0.00012421607971191406\n"
     ]
    },
    {
     "name": "stderr",
     "output_type": "stream",
     "text": [
      "  2%|▏         | 25/1024 [00:07<04:49,  3.46it/s]\n"
     ]
    },
    {
     "ename": "KeyboardInterrupt",
     "evalue": "",
     "output_type": "error",
     "traceback": [
      "\u001b[0;31m---------------------------------------------------------------------------\u001b[0m",
      "\u001b[0;31mKeyboardInterrupt\u001b[0m                         Traceback (most recent call last)",
      "Cell \u001b[0;32mIn[31], line 1\u001b[0m\n\u001b[0;32m----> 1\u001b[0m out \u001b[38;5;241m=\u001b[39m \u001b[43mutil\u001b[49m\u001b[38;5;241;43m.\u001b[39;49m\u001b[43mcalculate_ISM\u001b[49m\u001b[43m(\u001b[49m\u001b[38;5;241;43m0\u001b[39;49m\u001b[43m,\u001b[49m\u001b[43m \u001b[49m\u001b[43mcuda\u001b[49m\u001b[38;5;241;43m=\u001b[39;49m\u001b[38;5;28;43;01mTrue\u001b[39;49;00m\u001b[43m,\u001b[49m\u001b[43m \u001b[49m\u001b[43mprogress_bar\u001b[49m\u001b[43m \u001b[49m\u001b[38;5;241;43m=\u001b[39;49m\u001b[43m \u001b[49m\u001b[38;5;28;43;01mTrue\u001b[39;49;00m\u001b[43m,\u001b[49m\u001b[43m \u001b[49m\u001b[43mreturn_out\u001b[49m\u001b[38;5;241;43m=\u001b[39;49m\u001b[38;5;28;43;01mTrue\u001b[39;49;00m\u001b[43m)\u001b[49m\n",
      "Cell \u001b[0;32mIn[1], line 269\u001b[0m, in \u001b[0;36mISMUtils.calculate_ISM\u001b[0;34m(self, ccre, cuda, return_out, progress_bar, stop)\u001b[0m\n\u001b[1;32m    267\u001b[0m ISM_results[temp_token_list\u001b[38;5;241m-\u001b[39m\u001b[38;5;241m7\u001b[39m,idx,:] \u001b[38;5;241m=\u001b[39m reg_results\u001b[38;5;241m.\u001b[39msqueeze()\n\u001b[1;32m    268\u001b[0m \u001b[38;5;28;01mif\u001b[39;00m \u001b[38;5;28mself\u001b[39m\u001b[38;5;241m.\u001b[39mclassification:\n\u001b[0;32m--> 269\u001b[0m     ISM_class[temp_token_list\u001b[38;5;241m-\u001b[39m\u001b[38;5;241m7\u001b[39m,idx,:] \u001b[38;5;241m=\u001b[39m \u001b[43mclass_results\u001b[49m\u001b[38;5;241;43m.\u001b[39;49m\u001b[43msqueeze\u001b[49m\u001b[43m(\u001b[49m\u001b[43m)\u001b[49m\n\u001b[1;32m    270\u001b[0m \u001b[38;5;66;03m# torch.cuda.synchronize()\u001b[39;00m\n\u001b[1;32m    271\u001b[0m end \u001b[38;5;241m=\u001b[39m time\u001b[38;5;241m.\u001b[39mtime()\n",
      "\u001b[0;31mKeyboardInterrupt\u001b[0m: "
     ]
    }
   ],
   "source": [
    "out = util.calculate_ISM(0, cuda=True, progress_bar = True, return_out=True)"
   ]
  },
  {
   "cell_type": "code",
   "execution_count": 46,
   "metadata": {},
   "outputs": [
    {
     "ename": "ZeroDivisionError",
     "evalue": "division by zero",
     "output_type": "error",
     "traceback": [
      "\u001b[0;31m---------------------------------------------------------------------------\u001b[0m",
      "\u001b[0;31mZeroDivisionError\u001b[0m                         Traceback (most recent call last)",
      "Cell \u001b[0;32mIn[46], line 1\u001b[0m\n\u001b[0;32m----> 1\u001b[0m \u001b[38;5;241;43m1\u001b[39;49m\u001b[38;5;241;43m/\u001b[39;49m\u001b[38;5;241;43m0\u001b[39;49m\n",
      "\u001b[0;31mZeroDivisionError\u001b[0m: division by zero"
     ]
    }
   ],
   "source": [
    "1/0"
   ]
  },
  {
   "cell_type": "code",
   "execution_count": 44,
   "metadata": {},
   "outputs": [
    {
     "name": "stdout",
     "output_type": "stream",
     "text": [
      "setup: 0.3585214614868164\n"
     ]
    },
    {
     "name": "stderr",
     "output_type": "stream",
     "text": [
      "  0%|          | 0/1024 [00:00<?, ?it/s]"
     ]
    },
    {
     "name": "stdout",
     "output_type": "stream",
     "text": [
      "altering: 0.0017354488372802734\n"
     ]
    },
    {
     "name": "stderr",
     "output_type": "stream",
     "text": [
      "  0%|          | 2/1024 [00:00<03:16,  5.21it/s]"
     ]
    },
    {
     "name": "stdout",
     "output_type": "stream",
     "text": [
      "model: 0.3810770511627197\n",
      "storing: 0.00019025802612304688\n",
      "storing in big matrix: 0.0003521442413330078\n",
      "altering: 0.0017750263214111328\n"
     ]
    },
    {
     "name": "stderr",
     "output_type": "stream",
     "text": [
      "  0%|          | 3/1024 [00:00<03:51,  4.41it/s]"
     ]
    },
    {
     "name": "stdout",
     "output_type": "stream",
     "text": [
      "model: 0.26898860931396484\n",
      "storing: 0.00021028518676757812\n",
      "storing in big matrix: 0.00038623809814453125\n",
      "altering: 0.0018854141235351562\n"
     ]
    },
    {
     "name": "stderr",
     "output_type": "stream",
     "text": [
      "  0%|          | 4/1024 [00:00<04:08,  4.11it/s]"
     ]
    },
    {
     "name": "stdout",
     "output_type": "stream",
     "text": [
      "model: 0.26589512825012207\n",
      "storing: 0.00021505355834960938\n",
      "storing in big matrix: 0.0003592967987060547\n",
      "altering: 0.0018358230590820312\n"
     ]
    },
    {
     "name": "stderr",
     "output_type": "stream",
     "text": [
      "  0%|          | 5/1024 [00:01<04:18,  3.94it/s]"
     ]
    },
    {
     "name": "stdout",
     "output_type": "stream",
     "text": [
      "model: 0.2686784267425537\n",
      "storing: 0.00021457672119140625\n",
      "storing in big matrix: 0.0003407001495361328\n",
      "altering: 0.0018486976623535156\n"
     ]
    },
    {
     "name": "stderr",
     "output_type": "stream",
     "text": [
      "  1%|          | 6/1024 [00:01<04:24,  3.85it/s]"
     ]
    },
    {
     "name": "stdout",
     "output_type": "stream",
     "text": [
      "model: 0.2656867504119873\n",
      "storing: 0.0002040863037109375\n",
      "storing in big matrix: 0.00035452842712402344\n",
      "altering: 0.0017981529235839844\n"
     ]
    },
    {
     "name": "stderr",
     "output_type": "stream",
     "text": [
      "  1%|          | 7/1024 [00:01<04:28,  3.79it/s]"
     ]
    },
    {
     "name": "stdout",
     "output_type": "stream",
     "text": [
      "model: 0.2673969268798828\n",
      "storing: 0.0002033710479736328\n",
      "storing in big matrix: 0.0003497600555419922\n",
      "altering: 0.0017986297607421875\n"
     ]
    },
    {
     "name": "stderr",
     "output_type": "stream",
     "text": [
      "  1%|          | 8/1024 [00:02<04:31,  3.75it/s]"
     ]
    },
    {
     "name": "stdout",
     "output_type": "stream",
     "text": [
      "model: 0.26809048652648926\n",
      "storing: 0.0001983642578125\n",
      "storing in big matrix: 0.00036454200744628906\n",
      "altering: 0.0017452239990234375\n"
     ]
    },
    {
     "name": "stderr",
     "output_type": "stream",
     "text": [
      "  1%|          | 9/1024 [00:02<04:33,  3.71it/s]"
     ]
    },
    {
     "name": "stdout",
     "output_type": "stream",
     "text": [
      "model: 0.2700541019439697\n",
      "storing: 0.0002884864807128906\n",
      "storing in big matrix: 0.0003514289855957031\n",
      "altering: 0.001806020736694336\n"
     ]
    },
    {
     "name": "stderr",
     "output_type": "stream",
     "text": [
      "  1%|          | 10/1024 [00:02<04:35,  3.68it/s]"
     ]
    },
    {
     "name": "stdout",
     "output_type": "stream",
     "text": [
      "model: 0.2703723907470703\n",
      "storing: 0.00020623207092285156\n",
      "storing in big matrix: 0.0003762245178222656\n",
      "altering: 0.0017745494842529297\n"
     ]
    },
    {
     "name": "stderr",
     "output_type": "stream",
     "text": [
      "  1%|          | 10/1024 [00:02<04:48,  3.51it/s]"
     ]
    },
    {
     "name": "stdout",
     "output_type": "stream",
     "text": [
      "model: 0.2669665813446045\n",
      "storing: 0.00023055076599121094\n",
      "storing in big matrix: 0.0003821849822998047\n"
     ]
    },
    {
     "name": "stderr",
     "output_type": "stream",
     "text": [
      "\n"
     ]
    }
   ],
   "source": [
    "#let's see what happens when we remove the print statements? everything seems fast except for the storing in big matrix\n",
    "#actually just kept print statements but added the synchronize to test the real speed\n",
    "#get gc\n",
    "import gc\n",
    "gc.collect()\n",
    "torch.cuda.empty_cache()\n",
    "out = util.calculate_ISM(0, cuda=True, progress_bar = True, return_out=True, stop = 10)"
   ]
  },
  {
   "cell_type": "code",
   "execution_count": 47,
   "metadata": {},
   "outputs": [
    {
     "name": "stderr",
     "output_type": "stream",
     "text": [
      "100%|██████████| 1024/1024 [04:49<00:00,  3.54it/s]\n"
     ]
    }
   ],
   "source": [
    "#good thing we checked by synchronizing, it is indeed the model running that is the slow part!\n",
    "#have to synchronize before and after the model runs to really time it, and we found it's indeed the model that's the slowdown now!\n",
    "#wait no, now it's the storing that is slow, not even the storing in the big matrix? let's place some more strategic synchronize statements\n",
    "#when we fixed the synchronize statements, we see indeed it is the model that is slow. \n",
    "#in order to better batch things we need to fundamentally change the way we do ISM, we need to do it in a batched way\n",
    "\n",
    "#ooooooh, what if we find all the As that we are supposed to change, then take like 4 of them (make this a parameter of the function itself).\n",
    "#then it's the same indexing mechanism and the same fundamental change, but we only do it once, so bigger batches... that's it!!\n",
    "#so we have 4 sections, A list, C list, G list, T list, and then we just do it all at once, and then we can just reshape it and assign it like we do now...\n",
    "#that's it, that's the solution, we just have to do it all at once, and then we can just reshape it and assign it like we do now...\n",
    "\n",
    "#an annoying to code solution for sure, but before then, first remove all the torch.synchronize and end and start timers and just test the speed\n",
    "gc.collect()\n",
    "torch.cuda.empty_cache()\n",
    "out = util.calculate_ISM(0, cuda=True, progress_bar = True, return_out=True)\n",
    "#1080ti is much slower!\n",
    "#we are actually close to the full memory usage, this means that we can't increase the batch size, also may be artifically slower, like 4x than the A100\n",
    "#we'll actually retest this on the A100 where we can increase batch size"
   ]
  },
  {
   "cell_type": "code",
   "execution_count": 52,
   "metadata": {},
   "outputs": [
    {
     "data": {
      "text/plain": [
       "{0: '[CLS]',\n",
       " 1: '[SEP]',\n",
       " 2: '[BOS]',\n",
       " 3: '[MASK]',\n",
       " 4: '[PAD]',\n",
       " 5: '[RESERVED]',\n",
       " 6: '[UNK]',\n",
       " 7: 'A',\n",
       " 8: 'C',\n",
       " 9: 'G',\n",
       " 10: 'T',\n",
       " 11: 'N'}"
      ]
     },
     "execution_count": 52,
     "metadata": {},
     "output_type": "execute_result"
    }
   ],
   "source": [
    "util.dataset.tokenizer._vocab_int_to_str"
   ]
  },
  {
   "cell_type": "code",
   "execution_count": 53,
   "metadata": {},
   "outputs": [
    {
     "name": "stdout",
     "output_type": "stream",
     "text": [
      "tensor([12,  9,  9,  ...,  8, 10,  8])\n"
     ]
    }
   ],
   "source": [
    "a,b = util.dataset[0]\n",
    "print(a)"
   ]
  },
  {
   "cell_type": "code",
   "execution_count": 57,
   "metadata": {},
   "outputs": [
    {
     "data": {
      "text/plain": [
       "(338,)"
      ]
     },
     "execution_count": 57,
     "metadata": {},
     "output_type": "execute_result"
    }
   ],
   "source": [
    "A_loc = np.where(a == 7)[0]\n",
    "A_loc.shape #338 of them are like this"
   ]
  },
  {
   "cell_type": "code",
   "execution_count": 58,
   "metadata": {},
   "outputs": [
    {
     "data": {
      "text/plain": [
       "[array([ 5,  6, 10, 12, 14, 15, 26, 27, 30]),\n",
       " array([31, 34, 35, 36, 42, 45, 47, 51, 61]),\n",
       " array([62, 64, 66, 70, 74, 76, 81, 83]),\n",
       " array([ 84,  85,  86,  93,  94,  96,  98, 104]),\n",
       " array([112, 115, 117, 120, 121, 123, 125, 127]),\n",
       " array([128, 132, 139, 140, 143, 146, 148, 149]),\n",
       " array([150, 153, 155, 161, 173, 175, 177, 181]),\n",
       " array([182, 183, 185, 187, 193, 198, 204, 205]),\n",
       " array([207, 210, 211, 213, 218, 220, 222, 224]),\n",
       " array([225, 228, 229, 230, 234, 236, 241, 243]),\n",
       " array([244, 247, 249, 255, 257, 258, 259, 263]),\n",
       " array([270, 275, 276, 279, 283, 284, 285, 286]),\n",
       " array([287, 291, 303, 305, 306, 307, 309, 310]),\n",
       " array([312, 316, 319, 320, 322, 324, 325, 328]),\n",
       " array([331, 332, 335, 337, 338, 345, 347, 352]),\n",
       " array([359, 361, 363, 366, 368, 370, 372, 374]),\n",
       " array([376, 377, 379, 381, 390, 391, 392, 397]),\n",
       " array([398, 402, 408, 410, 412, 413, 414, 416]),\n",
       " array([417, 419, 423, 427, 428, 429, 434, 435]),\n",
       " array([437, 442, 444, 450, 452, 453, 456, 460]),\n",
       " array([463, 467, 468, 469, 473, 478, 479, 480]),\n",
       " array([482, 484, 485, 486, 488, 491, 492, 494]),\n",
       " array([497, 502, 506, 507, 509, 510, 512, 514]),\n",
       " array([515, 518, 522, 525, 533, 550, 555, 557]),\n",
       " array([558, 560, 561, 562, 567, 569, 570, 572]),\n",
       " array([577, 582, 584, 587, 592, 601, 603, 609]),\n",
       " array([610, 618, 622, 626, 631, 635, 638, 641]),\n",
       " array([643, 645, 647, 649, 650, 651, 653, 657]),\n",
       " array([661, 663, 665, 666, 667, 670, 680, 682]),\n",
       " array([685, 691, 695, 697, 699, 703, 705, 706]),\n",
       " array([707, 708, 714, 715, 723, 725, 727, 739]),\n",
       " array([743, 745, 749, 753, 756, 758, 760, 761]),\n",
       " array([765, 773, 775, 779, 780, 787, 788, 796]),\n",
       " array([803, 805, 807, 809, 812, 813, 816, 819]),\n",
       " array([823, 826, 827, 828, 830, 836, 837, 842]),\n",
       " array([844, 845, 853, 863, 864, 865, 866, 868]),\n",
       " array([869, 873, 874, 876, 880, 883, 884, 885]),\n",
       " array([886, 888, 890, 893, 901, 905, 906, 911]),\n",
       " array([922, 923, 925, 940, 943, 944, 953, 955]),\n",
       " array([956, 958, 968, 970, 972, 974, 975, 976]),\n",
       " array([ 979,  987,  988,  989,  992,  994, 1003, 1005]),\n",
       " array([1007, 1009, 1010, 1011, 1012, 1015, 1016, 1017])]"
      ]
     },
     "execution_count": 58,
     "metadata": {},
     "output_type": "execute_result"
    }
   ],
   "source": [
    "#now we batch them into sections of length 8\n",
    "batch_size = 8\n",
    "# A_loc = A_loc\n",
    "A_loc_split = np.array_split(A_loc, len(A_loc)//batch_size)\n",
    "A_loc_split"
   ]
  },
  {
   "cell_type": "code",
   "execution_count": 59,
   "metadata": {},
   "outputs": [
    {
     "name": "stdout",
     "output_type": "stream",
     "text": [
      "[array([ 5,  6, 10, 12, 14, 15, 26, 27]), array([30, 31, 34, 35, 36, 42, 45, 47]), array([51, 61, 62, 64, 66, 70, 74, 76]), array([81, 83, 84, 85, 86, 93, 94, 96]), array([ 98, 104, 112, 115, 117, 120, 121, 123]), array([125, 127, 128, 132, 139, 140, 143, 146]), array([148, 149, 150, 153, 155, 161, 173, 175]), array([177, 181, 182, 183, 185, 187, 193, 198]), array([204, 205, 207, 210, 211, 213, 218, 220]), array([222, 224, 225, 228, 229, 230, 234, 236]), array([241, 243, 244, 247, 249, 255, 257, 258]), array([259, 263, 270, 275, 276, 279, 283, 284]), array([285, 286, 287, 291, 303, 305, 306, 307]), array([309, 310, 312, 316, 319, 320, 322, 324]), array([325, 328, 331, 332, 335, 337, 338, 345]), array([347, 352, 359, 361, 363, 366, 368, 370]), array([372, 374, 376, 377, 379, 381, 390, 391]), array([392, 397, 398, 402, 408, 410, 412, 413]), array([414, 416, 417, 419, 423, 427, 428, 429]), array([434, 435, 437, 442, 444, 450, 452, 453]), array([456, 460, 463, 467, 468, 469, 473, 478]), array([479, 480, 482, 484, 485, 486, 488, 491]), array([492, 494, 497, 502, 506, 507, 509, 510]), array([512, 514, 515, 518, 522, 525, 533, 550]), array([555, 557, 558, 560, 561, 562, 567, 569]), array([570, 572, 577, 582, 584, 587, 592, 601]), array([603, 609, 610, 618, 622, 626, 631, 635]), array([638, 641, 643, 645, 647, 649, 650, 651]), array([653, 657, 661, 663, 665, 666, 667, 670]), array([680, 682, 685, 691, 695, 697, 699, 703]), array([705, 706, 707, 708, 714, 715, 723, 725]), array([727, 739, 743, 745, 749, 753, 756, 758]), array([760, 761, 765, 773, 775, 779, 780, 787]), array([788, 796, 803, 805, 807, 809, 812, 813]), array([816, 819, 823, 826, 827, 828, 830, 836]), array([837, 842, 844, 845, 853, 863, 864, 865]), array([866, 868, 869, 873, 874, 876, 880, 883]), array([884, 885, 886, 888, 890, 893, 901]), array([905, 906, 911, 922, 923, 925, 940]), array([943, 944, 953, 955, 956, 958, 968]), array([970, 972, 974, 975, 976, 979, 987]), array([ 988,  989,  992,  994, 1003, 1005, 1007]), array([1009, 1010, 1011, 1012, 1015, 1016, 1017])]\n"
     ]
    }
   ],
   "source": [
    "#alternative approach\n",
    "num_batches = -(-len(A_loc) // batch_size)\n",
    "A_loc_split = np.array_split(A_loc, num_batches)\n",
    "print(A_loc_split)\n",
    "#makes the last remainder into length of 7, also it's in ascending order"
   ]
  },
  {
   "cell_type": "code",
   "execution_count": 99,
   "metadata": {},
   "outputs": [],
   "source": [
    "#so we will rewrite many sections of the code\n",
    "#first let's test to see how fast getting variances for any cCRE is\n",
    "#the next method is to actually speed it up using batching...\n",
    "#can test regression at least by checking it with my old function and comparing the results later\n",
    "#now that we use tensors, we can go ahead and find some ways to use larger batches\n",
    "\n",
    "#let's fix the code\n",
    "import torch \n",
    "import sys\n",
    "import yaml \n",
    "sys.path.append('/data/leslie/sarthak/hyena/hyena-dna/')\n",
    "from src.tasks.decoders import SequenceDecoder\n",
    "from src.models.sequence.dna_embedding import DNAEmbeddingModel\n",
    "from src.dataloaders.datasets.hg38_char_tokenizer import CharacterTokenizer\n",
    "# import shap\n",
    "import numpy as np\n",
    "import matplotlib.pyplot as plt\n",
    "import seaborn as sns\n",
    "import pandas as pd\n",
    "import logomaker\n",
    "from tqdm import tqdm\n",
    "import time\n",
    "class ISMUtils():\n",
    "    def __init__(self, model_type, ckpt_path, cfg = None, split = 'train', filter=True, classification = False):\n",
    "        type_list = ['ccre', 'DNase_ctst', 'DNase_allcelltypes', 'DNase']\n",
    "        if model_type not in type_list:\n",
    "            raise ValueError('Model type not recognized')\n",
    "        self.mtype = model_type\n",
    "        if cfg is not None:\n",
    "            cfg = '/data/leslie/sarthak/hyena/hyena-dna/configs/evals/'+cfg\n",
    "        self.classification = classification\n",
    "        \n",
    "        #check to see the type, and then load the right tokenizer, class and cfg\n",
    "        if self.mtype == 'DNase':\n",
    "            from src.dataloaders.datasets.DNase_dataset import DNaseDataset as DatasetClass\n",
    "            self.tokenizer = CharacterTokenizer( #make sure to fix the tokenizer too\n",
    "                characters=['A', 'C', 'G', 'T', 'N', 'S', 'U', 'V', 'W', 'X', 'Y', 'Z'],\n",
    "                model_max_length=1024 + 2,  # add 2 since default adds eos/eos tokens, crop later\n",
    "                add_special_tokens=False,\n",
    "                padding_side='left'\n",
    "            )\n",
    "            if cfg is None:\n",
    "                cfg = '/data/leslie/sarthak/hyena/hyena-dna/configs/evals/DNase.yaml'\n",
    "                \n",
    "        elif self.mtype == 'DNase_allcelltypes':\n",
    "            from src.dataloaders.datasets.DNase_allcelltypes import DNaseAllCellTypeDataset as DatasetClass\n",
    "            self.tokenizer = CharacterTokenizer( #make sure to fix the tokenizer too\n",
    "                characters=['A', 'C', 'G', 'T', 'N'],\n",
    "                model_max_length=1024 + 2,  # add 2 since default adds eos/eos tokens, crop later\n",
    "                add_special_tokens=False,\n",
    "                padding_side='left'\n",
    "            )\n",
    "            if cfg is None:\n",
    "                if self.classification:\n",
    "                    cfg = '/data/leslie/sarthak/hyena/hyena-dna/configs/evals/DNase_allcelltypes_classification.yaml'\n",
    "                else:\n",
    "                    cfg = '/data/leslie/sarthak/hyena/hyena-dna/configs/evals/DNase_allcelltypes.yaml'\n",
    "                 \n",
    "\n",
    "        elif self.mtype == 'DNase_ctst':\n",
    "            from src.dataloaders.datasets.DNase_ctst_dataset import DNaseCtstDataset as DatasetClass\n",
    "            self.tokenizer = CharacterTokenizer( #make sure to fix the tokenizer too\n",
    "                characters=['A', 'C', 'G', 'T', 'N'],\n",
    "                model_max_length=1024 + 2,  # add 2 since default adds eos/eos tokens, crop later\n",
    "                add_special_tokens=False,\n",
    "                padding_side='left'\n",
    "            )\n",
    "            if cfg is None:\n",
    "                if self.classification:\n",
    "                    cfg = '/data/leslie/sarthak/hyena/hyena-dna/configs/evals/DNase_ctst_classification.yaml'\n",
    "                else:\n",
    "                    cfg = '/data/leslie/sarthak/hyena/hyena-dna/configs/evals/DNase_ctst.yaml'\n",
    "\n",
    "        else:\n",
    "            raise ValueError('Model type not recognized')\n",
    "\n",
    "        #now we load the model and dataset\n",
    "\n",
    "        # self.device = torch.device(\"cuda:0\" if torch.cuda.is_available() else \"cpu\")\n",
    "        self.dataset = DatasetClass(max_length = 1024, split = split, tokenizer=self.tokenizer, rc_aug = False, tokenizer_name='char', add_eos='True', filter = filter, classification=self.classification)\n",
    "        cfg = yaml.load(open(cfg, 'r'), Loader=yaml.FullLoader)\n",
    "        \n",
    "        train_cfg = cfg['train']  # grab section `train` section of config\n",
    "        model_cfg = cfg['model_config']  # grab the `model` section of config\n",
    "        d_output = train_cfg['d_output']\n",
    "        backbone = DNAEmbeddingModel(**model_cfg)\n",
    "        # backbone_skip = DNAEmbeddingModel(skip_embedding=True, **model_cfg)\n",
    "        decoder = SequenceDecoder(model_cfg['d_model'], d_output=d_output, l_output=0, mode='pool')\n",
    "        state_dict = torch.load(ckpt_path, map_location='cpu')  # has both backbone and decoder\n",
    "        \n",
    "        # loads model from ddp by removing prexix to single if necessary\n",
    "        torch.nn.modules.utils.consume_prefix_in_state_dict_if_present(\n",
    "            state_dict[\"state_dict\"], \"model.\"\n",
    "        )\n",
    "\n",
    "        model_state_dict = state_dict[\"state_dict\"]\n",
    "\n",
    "        # need to remove torchmetrics. to remove keys, need to convert to list first\n",
    "        for key in list(model_state_dict.keys()):\n",
    "            if \"torchmetrics\" in key:\n",
    "                model_state_dict.pop(key)\n",
    "\n",
    "        # the state_dict keys slightly mismatch from Lightning..., so we fix it here\n",
    "        decoder_state_dict = {}\n",
    "        decoder_state_dict['output_transform.weight'] = model_state_dict.pop('decoder.0.output_transform.weight')\n",
    "        decoder_state_dict['output_transform.bias'] = model_state_dict.pop('decoder.0.output_transform.bias')\n",
    "\n",
    "        #now adjust the backbone if needed\n",
    "        if self.mtype == 'DNase':\n",
    "            embedding1 = torch.nn.Embedding(20, 128)\n",
    "            # embedding2 = torch.nn.Embedding(20, 128)\n",
    "            backbone.backbone.embeddings.word_embeddings = embedding1 #again a hack\n",
    "            # backbone_skip.backbone.embeddings.word_embeddings = embedding2 #again a hack\n",
    "\n",
    "        # now actually load the state dict to the decoder and backbone separately\n",
    "        decoder.load_state_dict(decoder_state_dict, strict=True)\n",
    "        backbone.load_state_dict(model_state_dict, strict=True)\n",
    "\n",
    "        self.backbone = backbone.eval()\n",
    "        self.decoder = decoder.eval()\n",
    "\n",
    "        self.bed = pd.read_csv('/data/leslie/sarthak/data/GRCh38-cCREs.bed', header=None, delimiter='\\t').to_numpy()\n",
    "        self.middle = 1023//2 #just used for the logo plots\n",
    "\n",
    "    def calculate_ISM(self,ccre, cuda = False, return_out = False, progress_bar = False, stop=False):\n",
    "        #does ISM for that ccre, based on the model type\n",
    "        #Does what the ISM.py and ISM_allcelltypes.py files do but for one ccre at a time\n",
    "        #ccre should be the index of the ccre, not the index to get that dataset\n",
    "        device = \"cuda:0\" if cuda else \"cpu\"\n",
    "        backbone = self.backbone.to(device)\n",
    "        decoder = self.decoder.to(device)\n",
    "        #first have to load in the batch\n",
    "        #if it's the different groups have very different dataset classes\n",
    "        if self.mtype == 'DNase' or self.mtype == 'DNase_ctst':\n",
    "            ccre = 161*ccre\n",
    "            ccre_list = []\n",
    "            out_list = []\n",
    "            class_list = []\n",
    "            for i in range(161):\n",
    "                a,b = self.dataset[ccre+i]\n",
    "                ccre_list.append(a)\n",
    "                if self.classification:\n",
    "                    # raise NotImplementedError('This is not implemented yet, need to consider how to do ISM with the classification model')\n",
    "                    class_list.append(b[0].item())\n",
    "                    b = b[1] #just ignore the classification stuff?\n",
    "                out_list.append(b.item())\n",
    "            ccre_list = torch.stack(ccre_list) #note these should all be identical other than the unique tokens at the beginning\n",
    "        else:\n",
    "            ccre_list = self.dataset[ccre][0].unsqueeze(0)\n",
    "            class_list = self.dataset[ccre][1][0] #the classification stuff\n",
    "        # print(class_list)\n",
    "        temp,_ = backbone(ccre_list.to(device)) #pass whole ccre as a batch\n",
    "        out = decoder(temp)\n",
    "        seqlen = ccre_list.shape[1] #because it's batch x seq\n",
    "        dim_out = out.shape[1]//2\n",
    "\n",
    "        if self.classification:\n",
    "            out_class = out[:,:dim_out]\n",
    "            out = out[:,dim_out:] #just ignore the classification stuff? for now maybe and we just look at the regression outputs?\n",
    "            #but if it thinks that the thing is closed, we should keep it as 0... or maybe set it to some other value? idk\n",
    "            #i say keep it but we know that we can mask it, no let's mask for reg, but still need to use for class...\n",
    "            #and let's keep the class out\n",
    "            out_class_gt = out_class.detach().reshape(1,1,161)\n",
    "            ISM_class = torch.ones((4,seqlen,161)).to(device)\n",
    "            out_class_gt_np = out_class.detach().cpu().numpy().reshape(1,1,161)\n",
    "            \n",
    "        out_gt = out.detach().reshape(1,1,161)\n",
    "        ISM_results = torch.ones((4,seqlen,161)).to(device).detach().cpu().numpy()\n",
    "        print(ISM_results.shape)\n",
    "        out_gt_np = out.detach().cpu().numpy().reshape(1, 1, 161) #the initial output of the model before ism\n",
    "        # if self.classification:\n",
    "        #     mask_idx = np.array(class_list) == 1 #if it's open\n",
    "        #     #now we make this a matrix of the same size as the output which will be 3x1x161 or just 3x161\n",
    "        #     mask = np.zeros((1,1,161))\n",
    "        #     mask[:,:,mask_idx] = 1\n",
    "        # print(mask)\n",
    "        if self.mtype == 'DNase' or self.mtype == 'DNase_ctst': #we just need the first sequence, don't care about the useless stuff\n",
    "            seq = ccre_list[0]\n",
    "        else:\n",
    "            seq = ccre_list.squeeze() #get rid f the embedding dimension\n",
    "        token_list = [7,8,9,10] #tokenize this list first\n",
    "        mutations = {\n",
    "            7: np.array([8,9,10]),\n",
    "            8: np.array([7,9,10]),\n",
    "            9: np.array([7,8,10]),\n",
    "            10: np.array([7,8,9])\n",
    "        }\n",
    "        ccre_list_gpu = ccre_list.to(device)\n",
    "        #the whole above section takes only like .3 seconds, not a huge time use or sink, can ignore it\n",
    "\n",
    "        # if progress_bar:\n",
    "        #     iterator = tqdm(enumerate(seq), total = len(seq))\n",
    "        # else:\n",
    "        #     iterator = enumerate(seq)\n",
    "\n",
    "        #let's actually preallocate things, here we can use the explicit 7,8,9,10 tokens, so we don't need to bother continuing\n",
    "        # A_loc = np.where(seq.detach().cpu().numpy() == 7)[0]\n",
    "        # C_loc = np.where(seq.detach().cpu().numpy() == 8)[0]\n",
    "        # G_loc = np.where(seq.detach().cpu().numpy() == 9)[0]\n",
    "        # T_loc = np.where(seq.detach().cpu().numpy() == 10)[0]\n",
    "        #we can just use seq because ACGT will be same locations across the sequence\n",
    "        #don't actually use the above, we can instead, just use a for loop to define the splits\n",
    "        ccre_len = ccre_list_gpu.shape[0]\n",
    "        nuc_pos = {}\n",
    "        for i in range(7,11):\n",
    "            loc = np.where(seq.detach().cpu().numpy() == i)[0]\n",
    "            num_batches = -(-len(loc) // batch_size)\n",
    "            loc_split = np.array_split(loc, num_batches)\n",
    "            nuc_pos[i] = loc_split #with this we can do 2 internal for loops, one over each nucleotide, one over each batch\n",
    "\n",
    "        with torch.no_grad():\n",
    "            #now we loop over the nucleotides first\n",
    "            for nuc_idx, nucleotide in enumerate(nuc_pos.keys()):\n",
    "                #nuc_idx goes from 0 to 3, while nucleotide is 7-10 corresponds to ACGT in that order\n",
    "                temp_token_list = mutations[nucleotide]\n",
    "                        # temp_token_list_gpu = torch.tensor(temp_token_list).to(device)\n",
    "                for batch_idx, batch in enumerate(nuc_pos[nucleotide]):\n",
    "                    #now we have the batch, we can do the same thing as before\n",
    "                    #actually we need to do a third and fourth for loop even\n",
    "                    #here batch_idx is the index of the batch, likely not too useful except for storing our data\n",
    "                    #batch is the actual batch of indices, like array([ 5,  6, 10, 12, 14, 15, 26, 27]) from above\n",
    "                    batch_seq = torch.zeros(ccre_list_gpu.shape[0]*len(batch)*3,ccre_list_gpu.shape[1], dtype=torch.long).to(device)\n",
    "                    # print(batch_seq.shape)\n",
    "                    #batch seq is size 161*3*batch_size x 1024 for the DNase model, only 1*3*batch_size x 1023 for the multitasking mdoel\n",
    "                    #idea is we calculate it with these large batches\n",
    "                    for counter, seq_idx in enumerate(batch):\n",
    "                        #counter tells us how far into the batch we are, seq_idx is the actual index of the sequence, like 5, 6, 10, 12, 14, 15, 26, 27\n",
    "                        for idx2,k in enumerate(temp_token_list):\n",
    "                            #idx2 is just another counter, k is the mutated nucleotide we are replacing it with\n",
    "                            temp_seq = ccre_list_gpu.clone() #have to clone it because we will be changing it\n",
    "                            temp_seq[:,seq_idx] = k\n",
    "                            #so we assigned the temp_seq by replacing that idx with the other 3 possibilities\n",
    "                            #but this assignment below seems a bit sus, might be correct tho\n",
    "                            #only goes as far back as the batch\n",
    "                            #very first element should be 0 to 161, second from 161 to 161*2, then next counter we go from 161*3 to 161*4 etc.\n",
    "                            batch_seq[counter*3*ccre_len+idx2*ccre_len:counter*3*ccre_len+(idx2+1)*ccre_len,:] = temp_seq\n",
    "                    # return batch_seq #might somehow be correct?? Then we run iti throught the model\n",
    "                    # a,_ = backbone(batch_seq)\n",
    "                    # out = decoder(a)\n",
    "                    # return(out)\n",
    "                    #temporarily just assign out to a matrix of random values\n",
    "                    out = torch.rand((3*len(batch)*161,2)).to(device)\n",
    "                    #now need to assign it in the larger tensor\n",
    "                    if self.classification:\n",
    "                        reg_results = out[:,dim_out:].view(3,-1,161) #now 483x1 or 3x161 and transformed into a 3x1x161 matrix\n",
    "                        class_results = out[:,:dim_out].view(3,-1,161)\n",
    "                    else:\n",
    "                        reg_results = out.view(3,-1,161)\n",
    "                    # reshaped_out = out.view(-1, 3, 161)\n",
    "                    # print(reg_results.shape)\n",
    "                    # print(batch, batch.shape)\n",
    "                    # print(temp_token_list, len(temp_token_list))\n",
    "                    # print(ISM_results[temp_token_list-7,batch,:].shape)\n",
    "                    ISM_results[temp_token_list-7,batch,:] = reg_results.detach().cpu().numpy()\n",
    "                    return 0\n",
    "                        # temp_seq[:,seq_idx] = temp_token_list[counter] #should be 161x1024 or 1023.\n",
    "                    # temp_seq = ccre_list_gpu.clone()\n",
    "\n",
    "            for i in range(len(nuc_pos[7])):\n",
    "                batch_seq = torch.zeros(ccre_list_gpu.shape[0]*3,ccre_list_gpu.shape[1], dtype=torch.long).to(device)\n",
    "                for j in range(7,11):\n",
    "                    loc = nuc_pos[j][i]\n",
    "                    temp_token_list = mutations[j]\n",
    "                    temp_token_list_gpu = torch.tensor(temp_token_list).to(device)\n",
    "                    for idx2,k in enumerate(temp_token_list):\n",
    "                        temp_seq = ccre_list_gpu.clone()\n",
    "            \n",
    "        \n",
    "        with torch.no_grad():\n",
    "            for idx, nucleotide in iterator: \n",
    "                if nucleotide not in token_list:\n",
    "                    continue #basically skips this and none of it is updated, because is a weird tooken, whether permutation, ctst or something else\n",
    "                temp_token_list = mutations[nucleotide.item()]\n",
    "                temp_token_list_gpu = torch.tensor(temp_token_list).to(device)\n",
    "                batch_seq = torch.zeros(ccre_list_gpu.shape[0]*3,ccre_list_gpu.shape[1], dtype=torch.long).to(device)\n",
    "                #make batch_seq a long tensor\n",
    "                for idx2,j in enumerate(temp_token_list):\n",
    "                    temp_seq = ccre_list_gpu.clone() #already put on the gpu\n",
    "                    if self.mtype in ['DNase', 'DNase_ctst']:\n",
    "                        temp_seq[:,idx] = j #should be 161x1024 or 1023. \n",
    "                    else:\n",
    "                        temp_seq[idx] = j #should be 1x1023 because we unsqueezed\n",
    "                    #now we need to stach them together\n",
    "                    batch_seq[idx2*ccre_list_gpu.shape[0]:(idx2+1)*ccre_list_gpu.shape[0]] = temp_seq\n",
    "                a,_ = backbone(batch_seq)\n",
    "                out = decoder(a)\n",
    "                # print(out.shape) #is 483 x 2 or 3 x 161*2...\n",
    "                # we shoudl split into reg and class, but likely need a way to reshape it properly too\n",
    "                if self.classification:\n",
    "                    reg_results = out[:,dim_out:].view(3,1,161) #now 483x1 or 3x161 and transformed into a 3x1x161 matrix\n",
    "                    class_results = out[:,:dim_out].view(3,1,161)\n",
    "                else:\n",
    "                    reg_results = out.view(3,1,161) \n",
    "                \n",
    "                ISM_results[temp_token_list_gpu-7,idx,:] = reg_results.squeeze()\n",
    "                if self.classification:\n",
    "                    ISM_class[temp_token_list_gpu-7,idx,:] = class_results.squeeze()\n",
    "        return 0 #just say we done for now\n",
    "        #relatively slow on the CPU\n",
    "        #and now we subtract the out_gt from it\n",
    "        ISM_results_normalized = ISM_results - out_gt_np #is mutated - reference\n",
    "        if self.classification:\n",
    "            ISM_class_normalized = ISM_class - out_class_gt_np\n",
    "            # ISM_results_normalized *= mask\n",
    "        if self.classification and return_out:\n",
    "            return ISM_results_normalized, ISM_class_normalized, out_gt_np, out_class_gt_np\n",
    "        elif self.classification:\n",
    "            return ISM_results_normalized, ISM_class_normalized \n",
    "        elif return_out: #but this is optional\n",
    "            return ISM_results_normalized, out_gt_np\n",
    "        return ISM_results_normalized\n",
    "\n",
    "    def var(self, idx):\n",
    "        #This is the idx for the ccre, so if you want it for ccre 2 it's just idx == 2. Not 161*idx\n",
    "        seq_idx = idx\n",
    "        cCRE_id = self.dataset.array[seq_idx][0] #get the id from the array\n",
    "        row = self.dataset.cCRE_dict[cCRE_id]\n",
    "        #now we can calculate the variance using this data\n",
    "        # print(np.var(dnase_filtered[row,:])) #identical\n",
    "        \n",
    "        return np.var(self.dataset.cell_dnase_levels[row,:])\n",
    "\n",
    "    def output(self,idx):\n",
    "        #given the index, this finds the associated output (single value)\n",
    "        #this literally just puts it thorugh the model, but it's like 2 lines of code and really easy to do yourself\n",
    "        a,b = self.dataset[idx]\n",
    "        temp,_ = self.backbone(a.unsqueeze(0))\n",
    "        out = self.decoder(temp)\n",
    "\n",
    "        if self.mtype == 'DNase':\n",
    "            print(f'predicted output: {out}, actual output: {b}')\n",
    "            return b, out\n",
    "\n",
    "        elif self.mtype == 'DNase_allcelltypes':\n",
    "            print(f'predicted output: {out[0,0]}, actual output: {b[0]}')\n",
    "            return b[0], out[0,0]\n",
    "\n",
    "    def output_all(self,idx, print_out = False):\n",
    "        #given the index, this finds the associated output (all values averaged across the cell types for a singel ccre)\n",
    "        #if it's DNase, then we need to do it for all the cell types, here the input idx should not be 161 times any number, rather just the ccre number\n",
    "        if self.mtype == 'DNase' or self.mtype == 'DNase_ctst':\n",
    "            idx = 161*idx\n",
    "            out_list = []\n",
    "            target_list = []\n",
    "            for i in range(161):\n",
    "                a,b = self.dataset[idx+i]\n",
    "                temp,_ = self.backbone(a.unsqueeze(0))\n",
    "                out = self.decoder(temp)\n",
    "                out_list.append(out.item())\n",
    "                if isinstance(b,tuple):\n",
    "                    raise NotImplementedError('This is not implemented yet, need to consider how to do handle these outputs and what we want to display')\n",
    "                target_list.append(b.item())\n",
    "            out = np.mean(out_list)\n",
    "            if print_out:\n",
    "                print(f'predicted output mean: {out}, actual output mean: {np.mean(target_list)}')\n",
    "            #but return the whole lists\n",
    "            return np.array(target_list), np.array(out_list)\n",
    "\n",
    "        if self.mtype == 'DNase_allcelltypes':\n",
    "            a,b = self.dataset[idx]\n",
    "            temp,_ = self.backbone(a.unsqueeze(0))\n",
    "            out = self.decoder(temp)\n",
    "            print(f'predicted output mean: {torch.mean(out)}, actual output mean: {torch.mean(b)}')\n",
    "            return b.detach().numpy(), out.detach().numpy()\n",
    "    \n",
    "    def find_ccre_type(self, idx):\n",
    "        #this function will use the ccre id to find the specific type\n",
    "        #uses the index of the dataset, not the cCRE for the DNase model!!\n",
    "        #first get the id\n",
    "        if self.mtype == 'DNase':        \n",
    "            seq_idx = int(idx/self.dataset.cell_types)\n",
    "        else:\n",
    "            seq_idx = idx\n",
    "        ccre_id = self.dataset.array[seq_idx][0]\n",
    "        line = np.where(self.bed[:,3] == ccre_id)\n",
    "        return self.bed[line[0][0], -1]\n",
    "\n",
    "#let's test the speed of our ISM\n",
    "ckpt_path = '/data/leslie/sarthak/hyena/hyena-dna/outputs/2024-03-20/16-22-11-658258/checkpoints/10-val_loss=0.38773.ckpt'\n",
    "util = ISMUtils('DNase_ctst', ckpt_path, classification=True)\n",
    "# out = util.calculate_ISM(0, cuda=True, progress_bar = True, return_out=True, stop = 20)\n",
    "#by editing it to batch, almost doubled the speed... wait could it just be that it's an A100??"
   ]
  },
  {
   "cell_type": "code",
   "execution_count": 61,
   "metadata": {},
   "outputs": [
    {
     "ename": "ZeroDivisionError",
     "evalue": "division by zero",
     "output_type": "error",
     "traceback": [
      "\u001b[0;31m---------------------------------------------------------------------------\u001b[0m",
      "\u001b[0;31mZeroDivisionError\u001b[0m                         Traceback (most recent call last)",
      "Cell \u001b[0;32mIn[61], line 1\u001b[0m\n\u001b[0;32m----> 1\u001b[0m \u001b[38;5;241;43m1\u001b[39;49m\u001b[38;5;241;43m/\u001b[39;49m\u001b[38;5;241;43m0\u001b[39;49m \u001b[38;5;66;03m#clears cuda\u001b[39;00m\n",
      "\u001b[0;31mZeroDivisionError\u001b[0m: division by zero"
     ]
    }
   ],
   "source": [
    "1/0 #clears cuda memory since now %debug is this"
   ]
  },
  {
   "cell_type": "code",
   "execution_count": 62,
   "metadata": {},
   "outputs": [
    {
     "name": "stdout",
     "output_type": "stream",
     "text": [
      "torch.Size([3864, 1024])\n"
     ]
    }
   ],
   "source": [
    "gc.collect()\n",
    "torch.cuda.empty_cache()\n",
    "out = util.calculate_ISM(0, cuda=True, progress_bar = True, return_out=True)\n",
    "#the assignment worked??"
   ]
  },
  {
   "cell_type": "code",
   "execution_count": 63,
   "metadata": {},
   "outputs": [
    {
     "data": {
      "text/plain": [
       "3864"
      ]
     },
     "execution_count": 63,
     "metadata": {},
     "output_type": "execute_result"
    }
   ],
   "source": [
    "#let's see if the shape is correct, we're doing batches of 8\n",
    "8*161*3 #yupperoo dude, ok maybe?"
   ]
  },
  {
   "cell_type": "code",
   "execution_count": 65,
   "metadata": {},
   "outputs": [
    {
     "ename": "ZeroDivisionError",
     "evalue": "division by zero",
     "output_type": "error",
     "traceback": [
      "\u001b[0;31m---------------------------------------------------------------------------\u001b[0m",
      "\u001b[0;31mZeroDivisionError\u001b[0m                         Traceback (most recent call last)",
      "Cell \u001b[0;32mIn[65], line 1\u001b[0m\n\u001b[0;32m----> 1\u001b[0m \u001b[38;5;241;43m1\u001b[39;49m\u001b[38;5;241;43m/\u001b[39;49m\u001b[38;5;241;43m0\u001b[39;49m\n",
      "\u001b[0;31mZeroDivisionError\u001b[0m: division by zero"
     ]
    }
   ],
   "source": [
    "1/0"
   ]
  },
  {
   "cell_type": "code",
   "execution_count": 66,
   "metadata": {},
   "outputs": [
    {
     "name": "stdout",
     "output_type": "stream",
     "text": [
      "torch.Size([3864, 1024])\n",
      "torch.Size([3864, 1024])\n"
     ]
    }
   ],
   "source": [
    "gc.collect()\n",
    "torch.cuda.empty_cache()\n",
    "out = util.calculate_ISM(0, cuda=True, progress_bar = True, return_out=True)\n",
    "print(out.shape)"
   ]
  },
  {
   "cell_type": "code",
   "execution_count": 67,
   "metadata": {},
   "outputs": [
    {
     "name": "stdout",
     "output_type": "stream",
     "text": [
      "tensor(0, device='cuda:0')\n"
     ]
    }
   ],
   "source": [
    "#let's check to see how many elements of out are 0\n",
    "print(torch.sum(out==0))"
   ]
  },
  {
   "cell_type": "code",
   "execution_count": 69,
   "metadata": {},
   "outputs": [
    {
     "name": "stdout",
     "output_type": "stream",
     "text": [
      "tensor([12,  9,  9, 10,  9,  8,  7,  9,  9, 10], device='cuda:0')\n",
      "tensor([13,  9,  9, 10,  9,  8,  7,  9,  9, 10], device='cuda:0')\n"
     ]
    }
   ],
   "source": [
    "print(out[0,:10]) #first element of the first batch is 5, so we should see idx 6 (cuz extra element for cell type) which is normally 7 be 8 and 9\n",
    "print(out[1,:10])"
   ]
  },
  {
   "cell_type": "code",
   "execution_count": 70,
   "metadata": {},
   "outputs": [
    {
     "data": {
      "text/plain": [
       "True"
      ]
     },
     "execution_count": 70,
     "metadata": {},
     "output_type": "execute_result"
    }
   ],
   "source": [
    "#are they equal\n",
    "torch.allclose(out[0,1:], out[1,1:])\n",
    "#yeah something is wrong here, they shouldn't be like this?"
   ]
  },
  {
   "cell_type": "code",
   "execution_count": 72,
   "metadata": {},
   "outputs": [
    {
     "ename": "ZeroDivisionError",
     "evalue": "division by zero",
     "output_type": "error",
     "traceback": [
      "\u001b[0;31m---------------------------------------------------------------------------\u001b[0m",
      "\u001b[0;31mZeroDivisionError\u001b[0m                         Traceback (most recent call last)",
      "Cell \u001b[0;32mIn[72], line 2\u001b[0m\n\u001b[1;32m      1\u001b[0m \u001b[38;5;66;03m#have to duplicate temp seq every single time, lots of duplications son...\u001b[39;00m\n\u001b[0;32m----> 2\u001b[0m \u001b[38;5;241;43m1\u001b[39;49m\u001b[38;5;241;43m/\u001b[39;49m\u001b[38;5;241;43m0\u001b[39;49m\n",
      "\u001b[0;31mZeroDivisionError\u001b[0m: division by zero"
     ]
    }
   ],
   "source": [
    "#have to duplicate temp seq every single time, lots of duplications son...\n",
    "1/0"
   ]
  },
  {
   "cell_type": "code",
   "execution_count": 73,
   "metadata": {},
   "outputs": [
    {
     "name": "stdout",
     "output_type": "stream",
     "text": [
      "torch.Size([3864, 1024])\n",
      "torch.Size([3864, 1024])\n"
     ]
    }
   ],
   "source": [
    "gc.collect()\n",
    "torch.cuda.empty_cache()\n",
    "out = util.calculate_ISM(0, cuda=True, progress_bar = True, return_out=True)\n",
    "print(out.shape)"
   ]
  },
  {
   "cell_type": "code",
   "execution_count": 75,
   "metadata": {},
   "outputs": [
    {
     "name": "stdout",
     "output_type": "stream",
     "text": [
      "tensor([12,  9,  9, 10,  9,  8,  7,  9,  9, 10], device='cuda:0')\n",
      "tensor([13,  9,  9, 10,  9,  8,  7,  9,  9, 10], device='cuda:0')\n",
      "tensor([12,  9,  9, 10,  9,  9,  7,  9,  9, 10], device='cuda:0')\n"
     ]
    }
   ],
   "source": [
    "#1 second for the batch, for all the batches not even that long\n",
    "print(out[0,:10]) #first element of the first batch is 5, so we should see idx 6 (cuz extra element for cell type) which is normally 7 be 8 and 9\n",
    "print(out[1,:10])\n",
    "#wait, I just realized they're different celltypes too... this is not good at all, should be the same celltype??\n",
    "#maybe the indexing is off somehow, or it's something fundamentally wrong with what I'm doing, gotta check the logic\n",
    "#waittttt, it's actually correct, the way I'm doing it is all 161 cell types, so let's check the outp161\n",
    "print(out[161,:10]) #so that was a 7, was first changed to 8, then 9!"
   ]
  },
  {
   "cell_type": "code",
   "execution_count": 77,
   "metadata": {},
   "outputs": [
    {
     "name": "stdout",
     "output_type": "stream",
     "text": [
      "tensor([12,  9,  9, 10,  9, 10,  7,  9,  9, 10], device='cuda:0')\n",
      "tensor([12,  9,  9, 10,  9,  7,  8,  9,  9, 10], device='cuda:0')\n"
     ]
    }
   ],
   "source": [
    "print(out[161*2,:10]) #shoudl now be 10\n",
    "print(out[161*3,:10]) #should now be the next 7 that's different and that original one should be 7 again\n",
    "#yessssirrrrr!!! I think it might actually ybe correct somehow, there's no way we actually did it???"
   ]
  },
  {
   "cell_type": "code",
   "execution_count": 79,
   "metadata": {},
   "outputs": [
    {
     "ename": "ZeroDivisionError",
     "evalue": "division by zero",
     "output_type": "error",
     "traceback": [
      "\u001b[0;31m---------------------------------------------------------------------------\u001b[0m",
      "\u001b[0;31mZeroDivisionError\u001b[0m                         Traceback (most recent call last)",
      "Cell \u001b[0;32mIn[79], line 1\u001b[0m\n\u001b[0;32m----> 1\u001b[0m \u001b[38;5;241;43m1\u001b[39;49m\u001b[38;5;241;43m/\u001b[39;49m\u001b[38;5;241;43m0\u001b[39;49m\n",
      "\u001b[0;31mZeroDivisionError\u001b[0m: division by zero"
     ]
    }
   ],
   "source": [
    "1/0"
   ]
  },
  {
   "cell_type": "code",
   "execution_count": 81,
   "metadata": {},
   "outputs": [
    {
     "name": "stdout",
     "output_type": "stream",
     "text": [
      "torch.Size([3864, 2])\n"
     ]
    }
   ],
   "source": [
    "#now the quetion is how do we properly assign it to a matrix?\n",
    "#let's see the shape of out, will be annoying, but again just gotta reshape it and split to classification and reg, should just be output_len x 2\n",
    "gc.collect()\n",
    "torch.cuda.empty_cache()\n",
    "out = util.calculate_ISM(0, cuda=False, progress_bar = True, return_out=True) #not using cuda is slow as shit, but I guess that's how it is if we dont' get a big gpu?\n",
    "print(out.shape) #it took 4 minutes for one batch lmfao!"
   ]
  },
  {
   "cell_type": "code",
   "execution_count": 83,
   "metadata": {},
   "outputs": [
    {
     "data": {
      "text/plain": [
       "torch.Size([8, 3, 161])"
      ]
     },
     "execution_count": 83,
     "metadata": {},
     "output_type": "execute_result"
    }
   ],
   "source": [
    "#now let's see how we could possibly split this, unironically we could probably do .view?\n",
    "#let's just see what chatgpt thinks\n",
    "output_tensor = out[:,0] #should be 3864, no other dimension\n",
    "reshaped_output = output_tensor.view(-1, 3, 161)\n",
    "reshaped_output.shape #hmm, this seems quite promising"
   ]
  },
  {
   "cell_type": "code",
   "execution_count": 85,
   "metadata": {},
   "outputs": [
    {
     "ename": "ZeroDivisionError",
     "evalue": "division by zero",
     "output_type": "error",
     "traceback": [
      "\u001b[0;31m---------------------------------------------------------------------------\u001b[0m",
      "\u001b[0;31mZeroDivisionError\u001b[0m                         Traceback (most recent call last)",
      "Cell \u001b[0;32mIn[85], line 1\u001b[0m\n\u001b[0;32m----> 1\u001b[0m \u001b[38;5;241;43m1\u001b[39;49m\u001b[38;5;241;43m/\u001b[39;49m\u001b[38;5;241;43m0\u001b[39;49m\n",
      "\u001b[0;31mZeroDivisionError\u001b[0m: division by zero"
     ]
    }
   ],
   "source": [
    "1/0"
   ]
  },
  {
   "cell_type": "code",
   "execution_count": 100,
   "metadata": {},
   "outputs": [
    {
     "name": "stdout",
     "output_type": "stream",
     "text": [
      "(4, 1024, 161)\n"
     ]
    },
    {
     "ename": "IndexError",
     "evalue": "shape mismatch: indexing arrays could not be broadcast together with shapes (3,) (8,) ",
     "output_type": "error",
     "traceback": [
      "\u001b[0;31m---------------------------------------------------------------------------\u001b[0m",
      "\u001b[0;31mIndexError\u001b[0m                                Traceback (most recent call last)",
      "Cell \u001b[0;32mIn[100], line 5\u001b[0m\n\u001b[1;32m      3\u001b[0m gc\u001b[38;5;241m.\u001b[39mcollect()\n\u001b[1;32m      4\u001b[0m torch\u001b[38;5;241m.\u001b[39mcuda\u001b[38;5;241m.\u001b[39mempty_cache()\n\u001b[0;32m----> 5\u001b[0m out \u001b[38;5;241m=\u001b[39m \u001b[43mutil\u001b[49m\u001b[38;5;241;43m.\u001b[39;49m\u001b[43mcalculate_ISM\u001b[49m\u001b[43m(\u001b[49m\u001b[38;5;241;43m0\u001b[39;49m\u001b[43m,\u001b[49m\u001b[43m \u001b[49m\u001b[43mcuda\u001b[49m\u001b[38;5;241;43m=\u001b[39;49m\u001b[38;5;28;43;01mFalse\u001b[39;49;00m\u001b[43m,\u001b[49m\u001b[43m \u001b[49m\u001b[43mprogress_bar\u001b[49m\u001b[43m \u001b[49m\u001b[38;5;241;43m=\u001b[39;49m\u001b[43m \u001b[49m\u001b[38;5;28;43;01mTrue\u001b[39;49;00m\u001b[43m,\u001b[49m\u001b[43m \u001b[49m\u001b[43mreturn_out\u001b[49m\u001b[38;5;241;43m=\u001b[39;49m\u001b[38;5;28;43;01mTrue\u001b[39;49;00m\u001b[43m)\u001b[49m \u001b[38;5;66;03m#not using cuda is slow as shit, but I guess that's how it is if we dont' get a big gpu?\u001b[39;00m\n\u001b[1;32m      6\u001b[0m \u001b[38;5;28mprint\u001b[39m(out\u001b[38;5;241m.\u001b[39mshape) \u001b[38;5;66;03m#it took 4 minutes for one batch lmfao!\u001b[39;00m\n\u001b[1;32m      7\u001b[0m \u001b[38;5;66;03m#let's see if indexing works, if it does, have to ensure that it indexes the way we think it does\u001b[39;00m\n",
      "Cell \u001b[0;32mIn[99], line 254\u001b[0m, in \u001b[0;36mISMUtils.calculate_ISM\u001b[0;34m(self, ccre, cuda, return_out, progress_bar, stop)\u001b[0m\n\u001b[1;32m    248\u001b[0m     reg_results \u001b[38;5;241m=\u001b[39m out\u001b[38;5;241m.\u001b[39mview(\u001b[38;5;241m3\u001b[39m,\u001b[38;5;241m-\u001b[39m\u001b[38;5;241m1\u001b[39m,\u001b[38;5;241m161\u001b[39m)\n\u001b[1;32m    249\u001b[0m \u001b[38;5;66;03m# reshaped_out = out.view(-1, 3, 161)\u001b[39;00m\n\u001b[1;32m    250\u001b[0m \u001b[38;5;66;03m# print(reg_results.shape)\u001b[39;00m\n\u001b[1;32m    251\u001b[0m \u001b[38;5;66;03m# print(batch, batch.shape)\u001b[39;00m\n\u001b[1;32m    252\u001b[0m \u001b[38;5;66;03m# print(temp_token_list, len(temp_token_list))\u001b[39;00m\n\u001b[1;32m    253\u001b[0m \u001b[38;5;66;03m# print(ISM_results[temp_token_list-7,batch,:].shape)\u001b[39;00m\n\u001b[0;32m--> 254\u001b[0m \u001b[43mISM_results\u001b[49m\u001b[43m[\u001b[49m\u001b[43mtemp_token_list\u001b[49m\u001b[38;5;241;43m-\u001b[39;49m\u001b[38;5;241;43m7\u001b[39;49m\u001b[43m,\u001b[49m\u001b[43mbatch\u001b[49m\u001b[43m,\u001b[49m\u001b[43m:\u001b[49m\u001b[43m]\u001b[49m \u001b[38;5;241m=\u001b[39m reg_results\u001b[38;5;241m.\u001b[39mdetach()\u001b[38;5;241m.\u001b[39mcpu()\u001b[38;5;241m.\u001b[39mnumpy()\n\u001b[1;32m    255\u001b[0m \u001b[38;5;28;01mreturn\u001b[39;00m \u001b[38;5;241m0\u001b[39m\n\u001b[1;32m    256\u001b[0m     \u001b[38;5;66;03m# temp_seq[:,seq_idx] = temp_token_list[counter] #should be 161x1024 or 1023.\u001b[39;00m\n\u001b[1;32m    257\u001b[0m \u001b[38;5;66;03m# temp_seq = ccre_list_gpu.clone()\u001b[39;00m\n",
      "\u001b[0;31mIndexError\u001b[0m: shape mismatch: indexing arrays could not be broadcast together with shapes (3,) (8,) "
     ]
    }
   ],
   "source": [
    "#now the quetion is how do we properly assign it to a matrix?\n",
    "#let's see the shape of out, will be annoying, but again just gotta reshape it and split to classification and reg, should just be output_len x 2\n",
    "gc.collect()\n",
    "torch.cuda.empty_cache()\n",
    "out = util.calculate_ISM(0, cuda=False, progress_bar = True, return_out=True) #not using cuda is slow as shit, but I guess that's how it is if we dont' get a big gpu?\n",
    "print(out.shape) #it took 4 minutes for one batch lmfao!\n",
    "#let's see if indexing works, if it does, have to ensure that it indexes the way we think it does"
   ]
  },
  {
   "cell_type": "code",
   "execution_count": null,
   "metadata": {},
   "outputs": [],
   "source": [
    "#let's try doing this with numpy maybe?\n",
    "#that doesn't work either, but I have a much better idea, just stack several of these together, use a custom dataset class to do this!\n",
    "#so we will rewrite many sections of the code\n",
    "#first let's test to see how fast getting variances for any cCRE is\n",
    "#the next method is to actually speed it up using batching...\n",
    "#can test regression at least by checking it with my old function and comparing the results later\n",
    "#now that we use tensors, we can go ahead and find some ways to use larger batches\n",
    "\n",
    "#let's fix the code\n",
    "import torch \n",
    "import sys\n",
    "import yaml \n",
    "sys.path.append('/data/leslie/sarthak/hyena/hyena-dna/')\n",
    "from src.tasks.decoders import SequenceDecoder\n",
    "from src.models.sequence.dna_embedding import DNAEmbeddingModel\n",
    "from src.dataloaders.datasets.hg38_char_tokenizer import CharacterTokenizer\n",
    "# import shap\n",
    "import numpy as np\n",
    "import matplotlib.pyplot as plt\n",
    "import seaborn as sns\n",
    "import pandas as pd\n",
    "import logomaker\n",
    "from tqdm import tqdm\n",
    "import time\n",
    "class ISMUtils():\n",
    "    def __init__(self, model_type, ckpt_path, cfg = None, split = 'train', filter=True, classification = False):\n",
    "        type_list = ['ccre', 'DNase_ctst', 'DNase_allcelltypes', 'DNase']\n",
    "        if model_type not in type_list:\n",
    "            raise ValueError('Model type not recognized')\n",
    "        self.mtype = model_type\n",
    "        if cfg is not None:\n",
    "            cfg = '/data/leslie/sarthak/hyena/hyena-dna/configs/evals/'+cfg\n",
    "        self.classification = classification\n",
    "        \n",
    "        #check to see the type, and then load the right tokenizer, class and cfg\n",
    "        if self.mtype == 'DNase':\n",
    "            from src.dataloaders.datasets.DNase_dataset import DNaseDataset as DatasetClass\n",
    "            self.tokenizer = CharacterTokenizer( #make sure to fix the tokenizer too\n",
    "                characters=['A', 'C', 'G', 'T', 'N', 'S', 'U', 'V', 'W', 'X', 'Y', 'Z'],\n",
    "                model_max_length=1024 + 2,  # add 2 since default adds eos/eos tokens, crop later\n",
    "                add_special_tokens=False,\n",
    "                padding_side='left'\n",
    "            )\n",
    "            if cfg is None:\n",
    "                cfg = '/data/leslie/sarthak/hyena/hyena-dna/configs/evals/DNase.yaml'\n",
    "                \n",
    "        elif self.mtype == 'DNase_allcelltypes':\n",
    "            from src.dataloaders.datasets.DNase_allcelltypes import DNaseAllCellTypeDataset as DatasetClass\n",
    "            self.tokenizer = CharacterTokenizer( #make sure to fix the tokenizer too\n",
    "                characters=['A', 'C', 'G', 'T', 'N'],\n",
    "                model_max_length=1024 + 2,  # add 2 since default adds eos/eos tokens, crop later\n",
    "                add_special_tokens=False,\n",
    "                padding_side='left'\n",
    "            )\n",
    "            if cfg is None:\n",
    "                if self.classification:\n",
    "                    cfg = '/data/leslie/sarthak/hyena/hyena-dna/configs/evals/DNase_allcelltypes_classification.yaml'\n",
    "                else:\n",
    "                    cfg = '/data/leslie/sarthak/hyena/hyena-dna/configs/evals/DNase_allcelltypes.yaml'\n",
    "                 \n",
    "\n",
    "        elif self.mtype == 'DNase_ctst':\n",
    "            from src.dataloaders.datasets.DNase_ctst_dataset import DNaseCtstDataset as DatasetClass\n",
    "            self.tokenizer = CharacterTokenizer( #make sure to fix the tokenizer too\n",
    "                characters=['A', 'C', 'G', 'T', 'N'],\n",
    "                model_max_length=1024 + 2,  # add 2 since default adds eos/eos tokens, crop later\n",
    "                add_special_tokens=False,\n",
    "                padding_side='left'\n",
    "            )\n",
    "            if cfg is None:\n",
    "                if self.classification:\n",
    "                    cfg = '/data/leslie/sarthak/hyena/hyena-dna/configs/evals/DNase_ctst_classification.yaml'\n",
    "                else:\n",
    "                    cfg = '/data/leslie/sarthak/hyena/hyena-dna/configs/evals/DNase_ctst.yaml'\n",
    "\n",
    "        else:\n",
    "            raise ValueError('Model type not recognized')\n",
    "\n",
    "        #now we load the model and dataset\n",
    "\n",
    "        # self.device = torch.device(\"cuda:0\" if torch.cuda.is_available() else \"cpu\")\n",
    "        self.dataset = DatasetClass(max_length = 1024, split = split, tokenizer=self.tokenizer, rc_aug = False, tokenizer_name='char', add_eos='True', filter = filter, classification=self.classification)\n",
    "        cfg = yaml.load(open(cfg, 'r'), Loader=yaml.FullLoader)\n",
    "        \n",
    "        train_cfg = cfg['train']  # grab section `train` section of config\n",
    "        model_cfg = cfg['model_config']  # grab the `model` section of config\n",
    "        d_output = train_cfg['d_output']\n",
    "        backbone = DNAEmbeddingModel(**model_cfg)\n",
    "        # backbone_skip = DNAEmbeddingModel(skip_embedding=True, **model_cfg)\n",
    "        decoder = SequenceDecoder(model_cfg['d_model'], d_output=d_output, l_output=0, mode='pool')\n",
    "        state_dict = torch.load(ckpt_path, map_location='cpu')  # has both backbone and decoder\n",
    "        \n",
    "        # loads model from ddp by removing prexix to single if necessary\n",
    "        torch.nn.modules.utils.consume_prefix_in_state_dict_if_present(\n",
    "            state_dict[\"state_dict\"], \"model.\"\n",
    "        )\n",
    "\n",
    "        model_state_dict = state_dict[\"state_dict\"]\n",
    "\n",
    "        # need to remove torchmetrics. to remove keys, need to convert to list first\n",
    "        for key in list(model_state_dict.keys()):\n",
    "            if \"torchmetrics\" in key:\n",
    "                model_state_dict.pop(key)\n",
    "\n",
    "        # the state_dict keys slightly mismatch from Lightning..., so we fix it here\n",
    "        decoder_state_dict = {}\n",
    "        decoder_state_dict['output_transform.weight'] = model_state_dict.pop('decoder.0.output_transform.weight')\n",
    "        decoder_state_dict['output_transform.bias'] = model_state_dict.pop('decoder.0.output_transform.bias')\n",
    "\n",
    "        #now adjust the backbone if needed\n",
    "        if self.mtype == 'DNase':\n",
    "            embedding1 = torch.nn.Embedding(20, 128)\n",
    "            # embedding2 = torch.nn.Embedding(20, 128)\n",
    "            backbone.backbone.embeddings.word_embeddings = embedding1 #again a hack\n",
    "            # backbone_skip.backbone.embeddings.word_embeddings = embedding2 #again a hack\n",
    "\n",
    "        # now actually load the state dict to the decoder and backbone separately\n",
    "        decoder.load_state_dict(decoder_state_dict, strict=True)\n",
    "        backbone.load_state_dict(model_state_dict, strict=True)\n",
    "\n",
    "        self.backbone = backbone.eval()\n",
    "        self.decoder = decoder.eval()\n",
    "\n",
    "        self.bed = pd.read_csv('/data/leslie/sarthak/data/GRCh38-cCREs.bed', header=None, delimiter='\\t').to_numpy()\n",
    "        self.middle = 1023//2 #just used for the logo plots\n",
    "\n",
    "    def calculate_ISM(self,ccre, cuda = False, return_out = False, progress_bar = False, stop=False, b_size = 8):\n",
    "        #does ISM for that ccre, based on the model type\n",
    "        #Does what the ISM.py and ISM_allcelltypes.py files do but for one ccre at a time\n",
    "        #ccre should be the index of the ccre, not the index to get that dataset\n",
    "        device = \"cuda:0\" if cuda else \"cpu\"\n",
    "        self.device = device\n",
    "        backbone = self.backbone.to(device)\n",
    "        decoder = self.decoder.to(device)\n",
    "        #first have to load in the batch\n",
    "        #if it's the different groups have very different dataset classes\n",
    "        if self.mtype == 'DNase' or self.mtype == 'DNase_ctst':\n",
    "            ccre = 161*ccre\n",
    "            ccre_list = []\n",
    "            out_list = []\n",
    "            class_list = []\n",
    "            for i in range(161):\n",
    "                a,b = self.dataset[ccre+i]\n",
    "                ccre_list.append(a)\n",
    "                if self.classification:\n",
    "                    # raise NotImplementedError('This is not implemented yet, need to consider how to do ISM with the classification model')\n",
    "                    class_list.append(b[0].item())\n",
    "                    b = b[1] #just ignore the classification stuff?\n",
    "                out_list.append(b.item())\n",
    "            ccre_list = torch.stack(ccre_list) #note these should all be identical other than the unique tokens at the beginning\n",
    "        else:\n",
    "            ccre_list = self.dataset[ccre][0].unsqueeze(0)\n",
    "            class_list = self.dataset[ccre][1][0] #the classification stuff\n",
    "        # print(class_list)\n",
    "        temp,_ = backbone(ccre_list.to(device)) #pass whole ccre as a batch\n",
    "        out = decoder(temp)\n",
    "        seqlen = ccre_list.shape[1] #because it's batch x seq\n",
    "        self.seqlen = seqlen\n",
    "        dim_out = out.shape[1]//2\n",
    "        self.dim_out = dim_out\n",
    "\n",
    "        if self.classification:\n",
    "            out_class = out[:,:dim_out]\n",
    "            out = out[:,dim_out:] #just ignore the classification stuff? for now maybe and we just look at the regression outputs?\n",
    "            #but if it thinks that the thing is closed, we should keep it as 0... or maybe set it to some other value? idk\n",
    "            #i say keep it but we know that we can mask it, no let's mask for reg, but still need to use for class...\n",
    "            #and let's keep the class out\n",
    "            out_class_gt = out_class.detach().reshape(1,1,161)\n",
    "            ISM_class = torch.ones((4,seqlen,161)).to(device)\n",
    "            out_class_gt_np = out_class.detach().cpu().numpy().reshape(1,1,161)\n",
    "            \n",
    "        out_gt = out.detach().reshape(1,1,161)\n",
    "        ISM_results = torch.ones((4,seqlen,161)).to(device)\n",
    "        print(ISM_results.shape)\n",
    "        out_gt_np = out.detach().cpu().numpy().reshape(1, 1, 161) #the initial output of the model before ism\n",
    "        # if self.classification:\n",
    "        #     mask_idx = np.array(class_list) == 1 #if it's open\n",
    "        #     #now we make this a matrix of the same size as the output which will be 3x1x161 or just 3x161\n",
    "        #     mask = np.zeros((1,1,161))\n",
    "        #     mask[:,:,mask_idx] = 1\n",
    "        # print(mask)\n",
    "        if self.mtype == 'DNase' or self.mtype == 'DNase_ctst': #we just need the first sequence, don't care about the useless stuff\n",
    "            seq = ccre_list[0]\n",
    "        else:\n",
    "            seq = ccre_list.squeeze() #get rid f the embedding dimension\n",
    "        token_list = [7,8,9,10] #tokenize this list first\n",
    "        mutations = {\n",
    "            7: np.array([8,9,10]),\n",
    "            8: np.array([7,9,10]),\n",
    "            9: np.array([7,8,10]),\n",
    "            10: np.array([7,8,9])\n",
    "        }\n",
    "        self.mutations = mutations\n",
    "        ccre_list_gpu = ccre_list.to(device)\n",
    "        #the whole above section takes only like .3 seconds, not a huge time use or sink, can ignore it\n",
    "\n",
    "        # if progress_bar:\n",
    "        #     iterator = tqdm(enumerate(seq), total = len(seq))\n",
    "        # else:\n",
    "        #     iterator = enumerate(seq)\n",
    "\n",
    "        #let's actually preallocate things, here we can use the explicit 7,8,9,10 tokens, so we don't need to bother continuing\n",
    "        # A_loc = np.where(seq.detach().cpu().numpy() == 7)[0]\n",
    "        # C_loc = np.where(seq.detach().cpu().numpy() == 8)[0]\n",
    "        # G_loc = np.where(seq.detach().cpu().numpy() == 9)[0]\n",
    "        # T_loc = np.where(seq.detach().cpu().numpy() == 10)[0]\n",
    "        #we can just use seq because ACGT will be same locations across the sequence\n",
    "        #don't actually use the above, we can instead, just use a for loop to define the splits\n",
    "        ccre_len = ccre_list_gpu.shape[0]\n",
    "        self.ccre_len = ccre_len\n",
    "\n",
    "        # filtered_elements = [x.item() for x in seq if x.item() in mutations]\n",
    "        batches = [range(i, min(i + b_size, seqlen)) for i in range(0, seqlen, b_size)]\n",
    "\n",
    "        if progress_bar:\n",
    "            iterator = tqdm(enumerate(batches), total = len(batches))\n",
    "        else:\n",
    "            iterator = enumerate(batches)\n",
    "        # nuc_pos = {}\n",
    "        # for i in range(7,11):\n",
    "        #     loc = np.where(seq.detach().cpu().numpy() == i)[0]\n",
    "        #     num_batches = -(-len(loc) // batch_size)\n",
    "        #     loc_split = np.array_split(loc, num_batches)\n",
    "        #     nuc_pos[i] = loc_split #with this we can do 2 internal for loops, one over each nucleotide, one over each batch\n",
    "\n",
    "        with torch.no_grad():\n",
    "            #first we use ism_dataset to get the data back\n",
    "            for counter, batch in iterator: #batches is a list of ranges, batch is a range that has up to b_size elements\n",
    "                batch_seq, nucleotide_list = self.ism_dataset(batch, ccre_list_gpu) #batch_seq should be 3*161*b_size x 1024 for DNase and 3**b_size x 1024 for the multitasking\n",
    "                a,_ = backbone(batch_seq)\n",
    "                out = decoder(a)\n",
    "                if self.classification:\n",
    "                    class_results = out[:,:dim_out].view(3,-1,161)\n",
    "                    reg_results = out[:,dim_out:].view(3,-1,161)\n",
    "                else:\n",
    "                    reg_results = out.view(3,-1,161)\n",
    "                for batch_counter, batch_idx in enumerate(batch):\n",
    "                    temp_token_list = mutations[nucleotide_list[batch_counter]]\n",
    "                    ISM_results[temp_token_list-7,batch_idx,:] = reg_results[:,batch_counter,:]\n",
    "                    if self.classification:\n",
    "                        ISM_class[temp_token_list-7,batch_idx,:] = class_results[:,batch_counter,:]\n",
    "        #now we subtract the out_gt from it\n",
    "        ISM_results_normalized = ISM_results.detach().cpu().numpy() - out_gt_np #is mutated - reference\n",
    "        if self.classification:\n",
    "            ISM_class_normalized = ISM_class.detach().cpu().numpy() - out_class_gt_np\n",
    "\n",
    "        out = torch.rand((3*len(batch)*161,2)).to(device)\n",
    "        return 0\n",
    "                        # temp_seq[:,seq_idx] = temp_token_list[counter] #should be 161x1024 or 1023.\n",
    "                    # temp_seq = ccre_list_gpu.clone()\n",
    "        \n",
    "        with torch.no_grad():\n",
    "            for idx, nucleotide in iterator: \n",
    "                if nucleotide not in token_list:\n",
    "                    continue #basically skips this and none of it is updated, because is a weird tooken, whether permutation, ctst or something else\n",
    "                temp_token_list = mutations[nucleotide.item()]\n",
    "                temp_token_list_gpu = torch.tensor(temp_token_list).to(device)\n",
    "                batch_seq = torch.zeros(ccre_list_gpu.shape[0]*3,ccre_list_gpu.shape[1], dtype=torch.long).to(device)\n",
    "                #make batch_seq a long tensor\n",
    "                for idx2,j in enumerate(temp_token_list):\n",
    "                    temp_seq = ccre_list_gpu.clone() #already put on the gpu\n",
    "                    if self.mtype in ['DNase', 'DNase_ctst']:\n",
    "                        temp_seq[:,idx] = j #should be 161x1024 or 1023. \n",
    "                    else:\n",
    "                        temp_seq[idx] = j #should be 1x1023 because we unsqueezed\n",
    "                    #now we need to stach them together\n",
    "                    batch_seq[idx2*ccre_list_gpu.shape[0]:(idx2+1)*ccre_list_gpu.shape[0]] = temp_seq\n",
    "                a,_ = backbone(batch_seq)\n",
    "                out = decoder(a)\n",
    "                # print(out.shape) #is 483 x 2 or 3 x 161*2...\n",
    "                # we shoudl split into reg and class, but likely need a way to reshape it properly too\n",
    "                if self.classification:\n",
    "                    reg_results = out[:,dim_out:].view(3,1,161) #now 483x1 or 3x161 and transformed into a 3x1x161 matrix\n",
    "                    class_results = out[:,:dim_out].view(3,1,161)\n",
    "                else:\n",
    "                    reg_results = out.view(3,1,161) \n",
    "                \n",
    "                ISM_results[temp_token_list_gpu-7,idx,:] = reg_results.squeeze()\n",
    "                if self.classification:\n",
    "                    ISM_class[temp_token_list_gpu-7,idx,:] = class_results.squeeze()\n",
    "        return 0 #just say we done for now\n",
    "        #relatively slow on the CPU\n",
    "        #and now we subtract the out_gt from it\n",
    "        ISM_results_normalized = ISM_results - out_gt_np #is mutated - reference\n",
    "        if self.classification:\n",
    "            ISM_class_normalized = ISM_class - out_class_gt_np\n",
    "            # ISM_results_normalized *= mask\n",
    "        if self.classification and return_out:\n",
    "            return ISM_results_normalized, ISM_class_normalized, out_gt_np, out_class_gt_np\n",
    "        elif self.classification:\n",
    "            return ISM_results_normalized, ISM_class_normalized \n",
    "        elif return_out: #but this is optional\n",
    "            return ISM_results_normalized, out_gt_np\n",
    "        return ISM_results_normalized\n",
    "    def ism_dataset(self,idx_list, seq, ccre=None):\n",
    "        #this function takes in the idx which now instead of just 161 for each CRE is now 1024 or 1023 for each cRE, does it for all celltypes simultaneously tho\n",
    "        #idx is equal to the cCRE we are interested in, NOT the index of the dataset\n",
    "        #but then cre 1 for example starts at 0 and goes to 1023, this way we can use the dataloader to batch the data\n",
    "        #or we can just load it directly too... actually we probably should, this is why it's not a separate class but rather is a function, called ism_dataset, but really it's just a function\n",
    "        #this way we can load it for anything, let's then just do two indices, one for the ccre and one for the index\n",
    "        #if this is the slow part, we just make it a class, use dataloader to use multiple cores, and then idx is the actual input, ccre can be defined elsewhere\n",
    "        #so given the ccre and index, it returns the data batched for model evaluation, and also the corresponding indices\n",
    "        #smarter not to repeat getting the sequence each time, we can just call it once and then pass it in\n",
    "        # temp_seq = seq.clone()\n",
    "        #preallocate the tensor\n",
    "        nucleotide_list = []\n",
    "        batched_input = torch.zeros(3*seq.shape[0]*len(idx_list),seq.shape[1], dtype=torch.long).to(self.device)\n",
    "        for counter, idx in enumerate(idx_list):\n",
    "            nucleotide = seq[0,idx]\n",
    "            temp_token_list = self.mutations[nucleotide]\n",
    "            nucleotide_list.append(nucleotide)\n",
    "            for idx2,k in enumerate(temp_token_list):\n",
    "                temp_seq = seq.clone()\n",
    "                temp_seq[:,idx] = k\n",
    "                batched_input[counter*3+idx2,:] = temp_seq\n",
    "        return batched_input, nucleotide_list\n",
    "            \n",
    "        \n",
    "    def var(self, idx):\n",
    "        #This is the idx for the ccre, so if you want it for ccre 2 it's just idx == 2. Not 161*idx\n",
    "        seq_idx = idx\n",
    "        cCRE_id = self.dataset.array[seq_idx][0] #get the id from the array\n",
    "        row = self.dataset.cCRE_dict[cCRE_id]\n",
    "        #now we can calculate the variance using this data\n",
    "        # print(np.var(dnase_filtered[row,:])) #identical\n",
    "        \n",
    "        return np.var(self.dataset.cell_dnase_levels[row,:])\n",
    "\n",
    "    def output(self,idx):\n",
    "        #given the index, this finds the associated output (single value)\n",
    "        #this literally just puts it thorugh the model, but it's like 2 lines of code and really easy to do yourself\n",
    "        a,b = self.dataset[idx]\n",
    "        temp,_ = self.backbone(a.unsqueeze(0))\n",
    "        out = self.decoder(temp)\n",
    "\n",
    "        if self.mtype == 'DNase':\n",
    "            print(f'predicted output: {out}, actual output: {b}')\n",
    "            return b, out\n",
    "\n",
    "        elif self.mtype == 'DNase_allcelltypes':\n",
    "            print(f'predicted output: {out[0,0]}, actual output: {b[0]}')\n",
    "            return b[0], out[0,0]\n",
    "\n",
    "    def output_all(self,idx, print_out = False):\n",
    "        #given the index, this finds the associated output (all values averaged across the cell types for a singel ccre)\n",
    "        #if it's DNase, then we need to do it for all the cell types, here the input idx should not be 161 times any number, rather just the ccre number\n",
    "        if self.mtype == 'DNase' or self.mtype == 'DNase_ctst':\n",
    "            idx = 161*idx\n",
    "            out_list = []\n",
    "            target_list = []\n",
    "            for i in range(161):\n",
    "                a,b = self.dataset[idx+i]\n",
    "                temp,_ = self.backbone(a.unsqueeze(0))\n",
    "                out = self.decoder(temp)\n",
    "                out_list.append(out.item())\n",
    "                if isinstance(b,tuple):\n",
    "                    raise NotImplementedError('This is not implemented yet, need to consider how to do handle these outputs and what we want to display')\n",
    "                target_list.append(b.item())\n",
    "            out = np.mean(out_list)\n",
    "            if print_out:\n",
    "                print(f'predicted output mean: {out}, actual output mean: {np.mean(target_list)}')\n",
    "            #but return the whole lists\n",
    "            return np.array(target_list), np.array(out_list)\n",
    "\n",
    "        if self.mtype == 'DNase_allcelltypes':\n",
    "            a,b = self.dataset[idx]\n",
    "            temp,_ = self.backbone(a.unsqueeze(0))\n",
    "            out = self.decoder(temp)\n",
    "            print(f'predicted output mean: {torch.mean(out)}, actual output mean: {torch.mean(b)}')\n",
    "            return b.detach().numpy(), out.detach().numpy()\n",
    "    \n",
    "    def find_ccre_type(self, idx):\n",
    "        #this function will use the ccre id to find the specific type\n",
    "        #uses the index of the dataset, not the cCRE for the DNase model!!\n",
    "        #first get the id\n",
    "        if self.mtype == 'DNase':        \n",
    "            seq_idx = int(idx/self.dataset.cell_types)\n",
    "        else:\n",
    "            seq_idx = idx\n",
    "        ccre_id = self.dataset.array[seq_idx][0]\n",
    "        line = np.where(self.bed[:,3] == ccre_id)\n",
    "        return self.bed[line[0][0], -1]\n",
    "\n",
    "#let's test the speed of our ISM\n",
    "ckpt_path = '/data/leslie/sarthak/hyena/hyena-dna/outputs/2024-03-20/16-22-11-658258/checkpoints/10-val_loss=0.38773.ckpt'\n",
    "util = ISMUtils('DNase_ctst', ckpt_path, classification=True)\n",
    "# out = util.calculate_ISM(0, cuda=True, progress_bar = True, return_out=True, stop = 20)\n",
    "#by editing it to batch, almost doubled the speed... wait could it just be that it's an A100??"
   ]
  },
  {
   "cell_type": "code",
   "execution_count": 36,
   "metadata": {},
   "outputs": [],
   "source": [
    "#i realized the best method is just what I started with but batch it for n terms... so let's just do that, verifies accuracy too, won't be as elegant or efficient, but probably more useful lol\n",
    "#first let's test to see how fast getting variances for any cCRE is\n",
    "#the next method is to actually speed it up using batching...\n",
    "#can test regression at least by checking it with my old function and comparing the results later\n",
    "#now that we use tensors, we can go ahead and find some ways to use larger batches\n",
    "\n",
    "#let's fix the code\n",
    "import torch \n",
    "import sys\n",
    "import yaml \n",
    "sys.path.append('/data/leslie/sarthak/hyena/hyena-dna/')\n",
    "from src.tasks.decoders import SequenceDecoder\n",
    "from src.models.sequence.dna_embedding import DNAEmbeddingModel\n",
    "from src.dataloaders.datasets.hg38_char_tokenizer import CharacterTokenizer\n",
    "# import shap\n",
    "import numpy as np\n",
    "import matplotlib.pyplot as plt\n",
    "import seaborn as sns\n",
    "import pandas as pd\n",
    "import logomaker\n",
    "from tqdm import tqdm\n",
    "import time\n",
    "class ISMUtils():\n",
    "    def __init__(self, model_type, ckpt_path, cfg = None, split = 'train', filter=True, classification = False):\n",
    "        type_list = ['ccre', 'DNase_ctst', 'DNase_allcelltypes', 'DNase']\n",
    "        if model_type not in type_list:\n",
    "            raise ValueError('Model type not recognized')\n",
    "        self.mtype = model_type\n",
    "        if cfg is not None:\n",
    "            cfg = '/data/leslie/sarthak/hyena/hyena-dna/configs/evals/'+cfg\n",
    "        self.classification = classification\n",
    "        \n",
    "        #check to see the type, and then load the right tokenizer, class and cfg\n",
    "        if self.mtype == 'DNase':\n",
    "            from src.dataloaders.datasets.DNase_dataset import DNaseDataset as DatasetClass\n",
    "            self.tokenizer = CharacterTokenizer( #make sure to fix the tokenizer too\n",
    "                characters=['A', 'C', 'G', 'T', 'N', 'S', 'U', 'V', 'W', 'X', 'Y', 'Z'],\n",
    "                model_max_length=1024 + 2,  # add 2 since default adds eos/eos tokens, crop later\n",
    "                add_special_tokens=False,\n",
    "                padding_side='left'\n",
    "            )\n",
    "            if cfg is None:\n",
    "                cfg = '/data/leslie/sarthak/hyena/hyena-dna/configs/evals/DNase.yaml'\n",
    "                \n",
    "        elif self.mtype == 'DNase_allcelltypes':\n",
    "            from src.dataloaders.datasets.DNase_allcelltypes import DNaseAllCellTypeDataset as DatasetClass\n",
    "            self.tokenizer = CharacterTokenizer( #make sure to fix the tokenizer too\n",
    "                characters=['A', 'C', 'G', 'T', 'N'],\n",
    "                model_max_length=1024 + 2,  # add 2 since default adds eos/eos tokens, crop later\n",
    "                add_special_tokens=False,\n",
    "                padding_side='left'\n",
    "            )\n",
    "            if cfg is None:\n",
    "                if self.classification:\n",
    "                    cfg = '/data/leslie/sarthak/hyena/hyena-dna/configs/evals/DNase_allcelltypes_classification.yaml'\n",
    "                else:\n",
    "                    cfg = '/data/leslie/sarthak/hyena/hyena-dna/configs/evals/DNase_allcelltypes.yaml'\n",
    "                 \n",
    "\n",
    "        elif self.mtype == 'DNase_ctst':\n",
    "            from src.dataloaders.datasets.DNase_ctst_dataset import DNaseCtstDataset as DatasetClass\n",
    "            self.tokenizer = CharacterTokenizer( #make sure to fix the tokenizer too\n",
    "                characters=['A', 'C', 'G', 'T', 'N'],\n",
    "                model_max_length=1024 + 2,  # add 2 since default adds eos/eos tokens, crop later\n",
    "                add_special_tokens=False,\n",
    "                padding_side='left'\n",
    "            )\n",
    "            if cfg is None:\n",
    "                if self.classification:\n",
    "                    cfg = '/data/leslie/sarthak/hyena/hyena-dna/configs/evals/DNase_ctst_classification.yaml'\n",
    "                else:\n",
    "                    cfg = '/data/leslie/sarthak/hyena/hyena-dna/configs/evals/DNase_ctst.yaml'\n",
    "\n",
    "        else:\n",
    "            raise ValueError('Model type not recognized')\n",
    "\n",
    "        #now we load the model and dataset\n",
    "\n",
    "        # self.device = torch.device(\"cuda:0\" if torch.cuda.is_available() else \"cpu\")\n",
    "        self.dataset = DatasetClass(max_length = 1024, split = split, tokenizer=self.tokenizer, rc_aug = False, tokenizer_name='char', add_eos='True', filter = filter, classification=self.classification)\n",
    "        cfg = yaml.load(open(cfg, 'r'), Loader=yaml.FullLoader)\n",
    "        \n",
    "        train_cfg = cfg['train']  # grab section `train` section of config\n",
    "        model_cfg = cfg['model_config']  # grab the `model` section of config\n",
    "        d_output = train_cfg['d_output']\n",
    "        backbone = DNAEmbeddingModel(**model_cfg)\n",
    "        # backbone_skip = DNAEmbeddingModel(skip_embedding=True, **model_cfg)\n",
    "        decoder = SequenceDecoder(model_cfg['d_model'], d_output=d_output, l_output=0, mode='pool')\n",
    "        state_dict = torch.load(ckpt_path, map_location='cpu')  # has both backbone and decoder\n",
    "        \n",
    "        # loads model from ddp by removing prexix to single if necessary\n",
    "        torch.nn.modules.utils.consume_prefix_in_state_dict_if_present(\n",
    "            state_dict[\"state_dict\"], \"model.\"\n",
    "        )\n",
    "\n",
    "        model_state_dict = state_dict[\"state_dict\"]\n",
    "\n",
    "        # need to remove torchmetrics. to remove keys, need to convert to list first\n",
    "        for key in list(model_state_dict.keys()):\n",
    "            if \"torchmetrics\" in key:\n",
    "                model_state_dict.pop(key)\n",
    "\n",
    "        # the state_dict keys slightly mismatch from Lightning..., so we fix it here\n",
    "        decoder_state_dict = {}\n",
    "        decoder_state_dict['output_transform.weight'] = model_state_dict.pop('decoder.0.output_transform.weight')\n",
    "        decoder_state_dict['output_transform.bias'] = model_state_dict.pop('decoder.0.output_transform.bias')\n",
    "\n",
    "        #now adjust the backbone if needed\n",
    "        if self.mtype == 'DNase':\n",
    "            embedding1 = torch.nn.Embedding(20, 128)\n",
    "            # embedding2 = torch.nn.Embedding(20, 128)\n",
    "            backbone.backbone.embeddings.word_embeddings = embedding1 #again a hack\n",
    "            # backbone_skip.backbone.embeddings.word_embeddings = embedding2 #again a hack\n",
    "\n",
    "        # now actually load the state dict to the decoder and backbone separately\n",
    "        decoder.load_state_dict(decoder_state_dict, strict=True)\n",
    "        backbone.load_state_dict(model_state_dict, strict=True)\n",
    "\n",
    "        self.backbone = backbone.eval()\n",
    "        self.decoder = decoder.eval()\n",
    "\n",
    "        self.bed = pd.read_csv('/data/leslie/sarthak/data/GRCh38-cCREs.bed', header=None, delimiter='\\t').to_numpy()\n",
    "        self.middle = 1023//2 #just used for the logo plots\n",
    "\n",
    "    def calculate_ISM(self,ccre, cuda = False, return_out = False, progress_bar = False, stop=False, b_size = 8):\n",
    "        #does ISM for that ccre, based on the model type\n",
    "        #Does what the ISM.py and ISM_allcelltypes.py files do but for one ccre at a time\n",
    "        #ccre should be the index of the ccre, not the index to get that dataset\n",
    "        # start = time.time()\n",
    "        device = \"cuda:0\" if cuda else \"cpu\"\n",
    "        backbone = self.backbone.to(device)\n",
    "        decoder = self.decoder.to(device)\n",
    "        #first have to load in the batch\n",
    "        #if it's the different groups have very different dataset classes\n",
    "        if self.mtype == 'DNase' or self.mtype == 'DNase_ctst':\n",
    "            ccre = 161*ccre\n",
    "            ccre_list = []\n",
    "            out_list = []\n",
    "            class_list = []\n",
    "            for i in range(161):\n",
    "                a,b = self.dataset[ccre+i]\n",
    "                ccre_list.append(a)\n",
    "                if self.classification:\n",
    "                    # raise NotImplementedError('This is not implemented yet, need to consider how to do ISM with the classification model')\n",
    "                    class_list.append(b[0].item())\n",
    "                    b = b[1] #just ignore the classification stuff?\n",
    "                out_list.append(b.item())\n",
    "            ccre_list = torch.stack(ccre_list)\n",
    "        else:\n",
    "            ccre_list = self.dataset[ccre][0].unsqueeze(0)\n",
    "            class_list = self.dataset[ccre][1][0] #the classification stuff\n",
    "        # print(class_list)\n",
    "        temp,_ = backbone(ccre_list.to(device)) #pass whole ccre as a batch\n",
    "        out = decoder(temp)\n",
    "        seqlen = ccre_list.shape[1] #because it's batch x seq\n",
    "        dim_out = out.shape[1]//2\n",
    "        #also a dimension for ccre_list.shape[0]\n",
    "        dim_celltypes = ccre_list.shape[0]\n",
    "\n",
    "        if self.classification:\n",
    "            out_class = out[:,:dim_out]\n",
    "            out = out[:,dim_out:] #just ignore the classification stuff? for now maybe and we just look at the regression outputs?\n",
    "            #but if it thinks that the thing is closed, we should keep it as 0... or maybe set it to some other value? idk\n",
    "            #i say keep it but we know that we can mask it, no let's mask for reg, but still need to use for class...\n",
    "            #and let's keep the class out\n",
    "            out_class_gt = out_class.detach().reshape(1,1,161)\n",
    "            ISM_class = torch.ones((4,seqlen,161)).to(device)*out_class_gt\n",
    "            out_class_gt_np = out_class.detach().cpu().numpy().reshape(1,1,161)\n",
    "            \n",
    "        out_gt = out.detach().reshape(1,1,161)\n",
    "        ISM_results = torch.ones((4,seqlen,161)).to(device)*out_gt\n",
    "        out_gt_np = out.detach().cpu().numpy().reshape(1, 1, 161) #the initial output of the model before ism\n",
    "        # if self.classification:\n",
    "        #     mask_idx = np.array(class_list) == 1 #if it's open\n",
    "        #     #now we make this a matrix of the same size as the output which will be 3x1x161 or just 3x161\n",
    "        #     mask = np.zeros((1,1,161))\n",
    "        #     mask[:,:,mask_idx] = 1\n",
    "        # print(mask)\n",
    "        if self.mtype == 'DNase' or self.mtype == 'DNase_ctst': #we just need the first sequence, don't care about the useless stuff\n",
    "            seq = ccre_list[0]\n",
    "        else:\n",
    "            seq = ccre_list.squeeze() #get rid f the embedding dimension\n",
    "        token_list = [7,8,9,10] #tokenize this list first\n",
    "        mutations = {\n",
    "            7: np.array([8,9,10]),\n",
    "            8: np.array([7,9,10]),\n",
    "            9: np.array([7,8,10]),\n",
    "            10: np.array([7,8,9])\n",
    "        }\n",
    "        ccre_list_gpu = ccre_list.to(device)\n",
    "\n",
    "        if progress_bar:\n",
    "            iterator = tqdm(enumerate(seq), total = len(seq))\n",
    "        else:\n",
    "            iterator = enumerate(seq)\n",
    "        batch_seq = torch.zeros(dim_celltypes*3*b_size,ccre_list_gpu.shape[1], dtype=torch.long).to(device)\n",
    "\n",
    "        # end = time.time()\n",
    "        # print(f'setup: {end-start}')\n",
    "        \n",
    "        counter = 0 #counter is equal to len(idx_list), but it's for convenience\n",
    "        idx_list = []\n",
    "        with torch.no_grad():\n",
    "            for idx, nucleotide in iterator: \n",
    "                # start = time.time()\n",
    "                # temp_token_list = token_list.copy() #we make a copy\n",
    "                # print(nucleotide)\n",
    "                if nucleotide not in token_list:\n",
    "                    continue #basically skips this and none of it is updated, because is a weird tooken, whether permutation, ctst or something else\n",
    "                temp_token_list = mutations[nucleotide.item()]\n",
    "                temp_token_list_gpu = torch.tensor(temp_token_list).to(device)\n",
    "                #make batch_seq a long tensor\n",
    "                for idx2,j in enumerate(temp_token_list):\n",
    "                    temp_seq = ccre_list_gpu.clone() #already put on the gpu\n",
    "                    if self.mtype in ['DNase', 'DNase_ctst']:\n",
    "                        temp_seq[:,idx] = j #should be 161x1024 or 1023. \n",
    "                    else:\n",
    "                        temp_seq[idx] = j #should be 1x1023 because we unsqueezed\n",
    "                    #now we need to stach them together\n",
    "                    batch_seq[counter*3*dim_celltypes+idx2*dim_celltypes:counter*3*dim_celltypes+(idx2+1)*dim_celltypes] = temp_seq\n",
    "                counter += 1\n",
    "                idx_list.append(idx)\n",
    "                torch.cuda.synchronize()\n",
    "                # end = time.time()\n",
    "                # print(f'loop: {end-start}')\n",
    "                if counter == b_size:\n",
    "                    # start = time.time()\n",
    "                    a,_ = backbone(batch_seq)\n",
    "                    out = decoder(a)\n",
    "                    # torch.cuda.synchronize()\n",
    "                    # end = time.time()\n",
    "                    # print(f'forward: {end-start}')\n",
    "                    # print(out.shape) #is 483 x 2 or 3 x 161*2...\n",
    "                    # we shoudl split into reg and class, but likely need a way to reshape it properly too\n",
    "                    # start = time.time()\n",
    "                    if self.classification:\n",
    "                        reg_results = out[:,dim_out:].view(3,-1,161) #now 483x1 or 3x161 and transformed into a 3x1x161 matrix\n",
    "                        class_results = out[:,:dim_out].view(3,-1,161)\n",
    "                    else:\n",
    "                        reg_results = out.view(3,-1,161) \n",
    "                    for batch_idx,batch in enumerate(idx_list):                        \n",
    "                        ISM_results[temp_token_list_gpu-7,batch,:] = reg_results[:,batch_idx,:]\n",
    "                        if self.classification:\n",
    "                            ISM_class[temp_token_list_gpu-7,batch,:] = class_results[:,batch_idx,:] \n",
    "                    counter = 0\n",
    "                    idx_list = []\n",
    "                    # torch.cuda.synchronize()\n",
    "                    # end = time.time()\n",
    "                    # print(f'storing: {end-start}')\n",
    "        # return 0 #just say we done for now\n",
    "        #relatively slow on the CPU\n",
    "        #and now we subtract the out_gt from it\n",
    "        ISM_results_normalized = ISM_results.detach().cpu().numpy() - out_gt_np #is mutated - reference\n",
    "        if self.classification:\n",
    "            ISM_class_normalized = ISM_class.detach().cpu().numpy() - out_class_gt_np\n",
    "            # ISM_results_normalized *= mask\n",
    "        if self.classification and return_out:\n",
    "            return ISM_results_normalized, ISM_class_normalized, out_gt_np, out_class_gt_np\n",
    "        elif self.classification:\n",
    "            return ISM_results_normalized, ISM_class_normalized \n",
    "        elif return_out: #but this is optional\n",
    "            return ISM_results_normalized, out_gt_np\n",
    "        return ISM_results_normalized\n",
    "\n",
    "    def var(self, idx):\n",
    "        #This is the idx for the ccre, so if you want it for ccre 2 it's just idx == 2. Not 161*idx\n",
    "        seq_idx = idx\n",
    "        cCRE_id = self.dataset.array[seq_idx][0] #get the id from the array\n",
    "        row = self.dataset.cCRE_dict[cCRE_id]\n",
    "        #now we can calculate the variance using this data\n",
    "        # print(np.var(dnase_filtered[row,:])) #identical\n",
    "        \n",
    "        return np.var(self.dataset.cell_dnase_levels[row,:])\n",
    "\n",
    "    def output(self,idx):\n",
    "        #given the index, this finds the associated output (single value)\n",
    "        #this literally just puts it thorugh the model, but it's like 2 lines of code and really easy to do yourself\n",
    "        a,b = self.dataset[idx]\n",
    "        temp,_ = self.backbone(a.unsqueeze(0))\n",
    "        out = self.decoder(temp)\n",
    "\n",
    "        if self.mtype == 'DNase':\n",
    "            print(f'predicted output: {out}, actual output: {b}')\n",
    "            return b, out\n",
    "\n",
    "        elif self.mtype == 'DNase_allcelltypes':\n",
    "            print(f'predicted output: {out[0,0]}, actual output: {b[0]}')\n",
    "            return b[0], out[0,0]\n",
    "\n",
    "    def output_all(self,idx, print_out = False):\n",
    "        #given the index, this finds the associated output (all values averaged across the cell types for a singel ccre)\n",
    "        #if it's DNase, then we need to do it for all the cell types, here the input idx should not be 161 times any number, rather just the ccre number\n",
    "        if self.mtype == 'DNase' or self.mtype == 'DNase_ctst':\n",
    "            idx = 161*idx\n",
    "            out_list = []\n",
    "            target_list = []\n",
    "            for i in range(161):\n",
    "                a,b = self.dataset[idx+i]\n",
    "                temp,_ = self.backbone(a.unsqueeze(0))\n",
    "                out = self.decoder(temp)\n",
    "                out_list.append(out.item())\n",
    "                if isinstance(b,tuple):\n",
    "                    raise NotImplementedError('This is not implemented yet, need to consider how to do handle these outputs and what we want to display')\n",
    "                target_list.append(b.item())\n",
    "            out = np.mean(out_list)\n",
    "            if print_out:\n",
    "                print(f'predicted output mean: {out}, actual output mean: {np.mean(target_list)}')\n",
    "            #but return the whole lists\n",
    "            return np.array(target_list), np.array(out_list)\n",
    "\n",
    "        if self.mtype == 'DNase_allcelltypes':\n",
    "            a,b = self.dataset[idx]\n",
    "            temp,_ = self.backbone(a.unsqueeze(0))\n",
    "            out = self.decoder(temp)\n",
    "            print(f'predicted output mean: {torch.mean(out)}, actual output mean: {torch.mean(b)}')\n",
    "            return b.detach().numpy(), out.detach().numpy()\n",
    "    \n",
    "    def find_ccre_type(self, idx):\n",
    "        #this function will use the ccre id to find the specific type\n",
    "        #uses the index of the dataset, not the cCRE for the DNase model!!\n",
    "        #first get the id\n",
    "        if self.mtype == 'DNase':        \n",
    "            seq_idx = int(idx/self.dataset.cell_types)\n",
    "        else:\n",
    "            seq_idx = idx\n",
    "        ccre_id = self.dataset.array[seq_idx][0]\n",
    "        line = np.where(self.bed[:,3] == ccre_id)\n",
    "        return self.bed[line[0][0], -1]\n",
    "\n",
    "#let's test the speed of our ISM\n",
    "ckpt_path = '/data/leslie/sarthak/hyena/hyena-dna/outputs/2024-03-20/16-22-11-658258/checkpoints/10-val_loss=0.38773.ckpt'\n",
    "util = ISMUtils('DNase_ctst', ckpt_path, classification=True)\n",
    "# out = util.calculate_ISM(0, cuda=True, progress_bar = True, return_out=True, stop = 20)\n",
    "#by editing it to batch, almost doubled the speed... wait could it just be that it's an A100??"
   ]
  },
  {
   "cell_type": "code",
   "execution_count": 4,
   "metadata": {},
   "outputs": [
    {
     "name": "stderr",
     "output_type": "stream",
     "text": [
      "100%|██████████| 1024/1024 [01:03<00:00, 16.12it/s]\n"
     ]
    },
    {
     "ename": "TypeError",
     "evalue": "can't convert cuda:0 device type tensor to numpy. Use Tensor.cpu() to copy the tensor to host memory first.",
     "output_type": "error",
     "traceback": [
      "\u001b[0;31m---------------------------------------------------------------------------\u001b[0m",
      "\u001b[0;31mTypeError\u001b[0m                                 Traceback (most recent call last)",
      "Cell \u001b[0;32mIn[4], line 1\u001b[0m\n\u001b[0;32m----> 1\u001b[0m out \u001b[38;5;241m=\u001b[39m \u001b[43mutil\u001b[49m\u001b[38;5;241;43m.\u001b[39;49m\u001b[43mcalculate_ISM\u001b[49m\u001b[43m(\u001b[49m\u001b[38;5;241;43m0\u001b[39;49m\u001b[43m,\u001b[49m\u001b[43m \u001b[49m\u001b[43mcuda\u001b[49m\u001b[38;5;241;43m=\u001b[39;49m\u001b[38;5;28;43;01mTrue\u001b[39;49;00m\u001b[43m,\u001b[49m\u001b[43m \u001b[49m\u001b[43mprogress_bar\u001b[49m\u001b[43m \u001b[49m\u001b[38;5;241;43m=\u001b[39;49m\u001b[43m \u001b[49m\u001b[38;5;28;43;01mTrue\u001b[39;49;00m\u001b[43m,\u001b[49m\u001b[43m \u001b[49m\u001b[43mreturn_out\u001b[49m\u001b[38;5;241;43m=\u001b[39;49m\u001b[38;5;28;43;01mTrue\u001b[39;49;00m\u001b[43m,\u001b[49m\u001b[43m \u001b[49m\u001b[43mb_size\u001b[49m\u001b[43m \u001b[49m\u001b[38;5;241;43m=\u001b[39;49m\u001b[43m \u001b[49m\u001b[38;5;241;43m8\u001b[39;49m\u001b[43m)\u001b[49m\n",
      "Cell \u001b[0;32mIn[3], line 237\u001b[0m, in \u001b[0;36mISMUtils.calculate_ISM\u001b[0;34m(self, ccre, cuda, return_out, progress_bar, stop, b_size)\u001b[0m\n\u001b[1;32m    233\u001b[0m             idx_list \u001b[38;5;241m=\u001b[39m []\n\u001b[1;32m    234\u001b[0m \u001b[38;5;66;03m# return 0 #just say we done for now\u001b[39;00m\n\u001b[1;32m    235\u001b[0m \u001b[38;5;66;03m#relatively slow on the CPU\u001b[39;00m\n\u001b[1;32m    236\u001b[0m \u001b[38;5;66;03m#and now we subtract the out_gt from it\u001b[39;00m\n\u001b[0;32m--> 237\u001b[0m ISM_results_normalized \u001b[38;5;241m=\u001b[39m \u001b[43mISM_results\u001b[49m\u001b[43m \u001b[49m\u001b[38;5;241;43m-\u001b[39;49m\u001b[43m \u001b[49m\u001b[43mout_gt_np\u001b[49m \u001b[38;5;66;03m#is mutated - reference\u001b[39;00m\n\u001b[1;32m    238\u001b[0m \u001b[38;5;28;01mif\u001b[39;00m \u001b[38;5;28mself\u001b[39m\u001b[38;5;241m.\u001b[39mclassification:\n\u001b[1;32m    239\u001b[0m     ISM_class_normalized \u001b[38;5;241m=\u001b[39m ISM_class \u001b[38;5;241m-\u001b[39m out_class_gt_np\n",
      "File \u001b[0;32m/data/leslie/sarthak/environments/hyena-dna/lib/python3.11/site-packages/torch/_tensor.py:1030\u001b[0m, in \u001b[0;36mTensor.__array__\u001b[0;34m(self, dtype)\u001b[0m\n\u001b[1;32m   1028\u001b[0m     \u001b[38;5;28;01mreturn\u001b[39;00m handle_torch_function(Tensor\u001b[38;5;241m.\u001b[39m__array__, (\u001b[38;5;28mself\u001b[39m,), \u001b[38;5;28mself\u001b[39m, dtype\u001b[38;5;241m=\u001b[39mdtype)\n\u001b[1;32m   1029\u001b[0m \u001b[38;5;28;01mif\u001b[39;00m dtype \u001b[38;5;129;01mis\u001b[39;00m \u001b[38;5;28;01mNone\u001b[39;00m:\n\u001b[0;32m-> 1030\u001b[0m     \u001b[38;5;28;01mreturn\u001b[39;00m \u001b[38;5;28;43mself\u001b[39;49m\u001b[38;5;241;43m.\u001b[39;49m\u001b[43mnumpy\u001b[49m\u001b[43m(\u001b[49m\u001b[43m)\u001b[49m\n\u001b[1;32m   1031\u001b[0m \u001b[38;5;28;01melse\u001b[39;00m:\n\u001b[1;32m   1032\u001b[0m     \u001b[38;5;28;01mreturn\u001b[39;00m \u001b[38;5;28mself\u001b[39m\u001b[38;5;241m.\u001b[39mnumpy()\u001b[38;5;241m.\u001b[39mastype(dtype, copy\u001b[38;5;241m=\u001b[39m\u001b[38;5;28;01mFalse\u001b[39;00m)\n",
      "\u001b[0;31mTypeError\u001b[0m: can't convert cuda:0 device type tensor to numpy. Use Tensor.cpu() to copy the tensor to host memory first."
     ]
    }
   ],
   "source": [
    "out = util.calculate_ISM(0, cuda=True, progress_bar = True, return_out=True, b_size = 8)"
   ]
  },
  {
   "cell_type": "code",
   "execution_count": 3,
   "metadata": {},
   "outputs": [
    {
     "ename": "ZeroDivisionError",
     "evalue": "division by zero",
     "output_type": "error",
     "traceback": [
      "\u001b[0;31m---------------------------------------------------------------------------\u001b[0m",
      "\u001b[0;31mZeroDivisionError\u001b[0m                         Traceback (most recent call last)",
      "Cell \u001b[0;32mIn[3], line 1\u001b[0m\n\u001b[0;32m----> 1\u001b[0m \u001b[38;5;241;43m1\u001b[39;49m\u001b[38;5;241;43m/\u001b[39;49m\u001b[38;5;241;43m0\u001b[39;49m\n",
      "\u001b[0;31mZeroDivisionError\u001b[0m: division by zero"
     ]
    }
   ],
   "source": [
    "1/0"
   ]
  },
  {
   "cell_type": "code",
   "execution_count": 15,
   "metadata": {},
   "outputs": [
    {
     "name": "stderr",
     "output_type": "stream",
     "text": [
      "100%|██████████| 1024/1024 [01:04<00:00, 15.95it/s]\n"
     ]
    }
   ],
   "source": [
    "#that's a good amount faster! we'll check accuracy later, but what if we just increased b_size?\n",
    "import gc\n",
    "gc.collect()\n",
    "torch.cuda.empty_cache()\n",
    "out = util.calculate_ISM(0, cuda=True, progress_bar = True, return_out=True, b_size = 8) #takes about 60 GB of memory..."
   ]
  },
  {
   "cell_type": "code",
   "execution_count": 5,
   "metadata": {},
   "outputs": [
    {
     "name": "stderr",
     "output_type": "stream",
     "text": [
      "  0%|          | 0/1024 [00:00<?, ?it/s]"
     ]
    },
    {
     "name": "stdout",
     "output_type": "stream",
     "text": [
      "setup: 0.23724031448364258\n",
      "loop: 0.000301361083984375\n",
      "loop: 0.00017833709716796875\n",
      "loop: 0.00016880035400390625\n",
      "loop: 0.00015163421630859375\n",
      "loop: 0.00014543533325195312\n",
      "loop: 0.00014352798461914062\n",
      "loop: 0.0001480579376220703\n",
      "loop: 0.0001544952392578125\n"
     ]
    },
    {
     "name": "stderr",
     "output_type": "stream",
     "text": [
      "  1%|          | 9/1024 [00:01<02:14,  7.57it/s]"
     ]
    },
    {
     "name": "stdout",
     "output_type": "stream",
     "text": [
      "forward: 1.1642043590545654\n",
      "storing: 0.0015053749084472656\n",
      "loop: 0.0002918243408203125\n",
      "loop: 0.00015807151794433594\n",
      "loop: 0.0001533031463623047\n",
      "loop: 0.00014328956604003906\n",
      "loop: 0.00015616416931152344\n",
      "loop: 0.00014519691467285156\n",
      "loop: 0.0001404285430908203\n",
      "loop: 0.00015115737915039062\n"
     ]
    },
    {
     "name": "stderr",
     "output_type": "stream",
     "text": [
      "  2%|▏         | 17/1024 [00:01<01:33, 10.74it/s]"
     ]
    },
    {
     "name": "stdout",
     "output_type": "stream",
     "text": [
      "forward: 0.49452853202819824\n",
      "storing: 0.0015268325805664062\n",
      "loop: 0.0002930164337158203\n",
      "loop: 0.0001697540283203125\n",
      "loop: 0.00015354156494140625\n",
      "loop: 0.0005245208740234375\n",
      "loop: 0.00017023086547851562\n",
      "loop: 0.00015163421630859375\n",
      "loop: 0.0001461505889892578\n",
      "loop: 0.006103515625\n"
     ]
    },
    {
     "name": "stderr",
     "output_type": "stream",
     "text": [
      "  2%|▏         | 25/1024 [00:02<01:19, 12.54it/s]"
     ]
    },
    {
     "name": "stdout",
     "output_type": "stream",
     "text": [
      "forward: 0.4942626953125\n",
      "storing: 0.0006582736968994141\n",
      "loop: 0.0008249282836914062\n",
      "loop: 0.0001862049102783203\n",
      "loop: 0.006507396697998047\n",
      "loop: 0.00018215179443359375\n",
      "loop: 0.00015497207641601562\n",
      "loop: 0.0001430511474609375\n",
      "loop: 0.00015163421630859375\n",
      "loop: 0.00014925003051757812\n"
     ]
    },
    {
     "name": "stderr",
     "output_type": "stream",
     "text": [
      "  3%|▎         | 33/1024 [00:02<01:12, 13.65it/s]"
     ]
    },
    {
     "name": "stdout",
     "output_type": "stream",
     "text": [
      "forward: 0.49451231956481934\n",
      "storing: 0.0006604194641113281\n",
      "loop: 0.00030040740966796875\n",
      "loop: 0.0001621246337890625\n",
      "loop: 0.00014781951904296875\n",
      "loop: 0.00014400482177734375\n",
      "loop: 0.0001537799835205078\n",
      "loop: 0.00014925003051757812\n",
      "loop: 0.00015091896057128906\n",
      "loop: 0.00014543533325195312\n"
     ]
    },
    {
     "name": "stderr",
     "output_type": "stream",
     "text": [
      "  4%|▍         | 41/1024 [00:03<01:08, 14.39it/s]"
     ]
    },
    {
     "name": "stdout",
     "output_type": "stream",
     "text": [
      "forward: 0.49846363067626953\n",
      "storing: 0.0006601810455322266\n",
      "loop: 0.0002849102020263672\n",
      "loop: 0.0001614093780517578\n",
      "loop: 0.00015687942504882812\n",
      "loop: 0.0003783702850341797\n",
      "loop: 0.0001709461212158203\n",
      "loop: 0.0001480579376220703\n",
      "loop: 0.00014781951904296875\n",
      "loop: 0.00015115737915039062\n"
     ]
    },
    {
     "name": "stderr",
     "output_type": "stream",
     "text": [
      "  5%|▍         | 49/1024 [00:03<01:05, 14.90it/s]"
     ]
    },
    {
     "name": "stdout",
     "output_type": "stream",
     "text": [
      "forward: 0.49555516242980957\n",
      "storing: 0.0009627342224121094\n",
      "loop: 0.0002837181091308594\n",
      "loop: 0.0001621246337890625\n",
      "loop: 0.00014448165893554688\n",
      "loop: 0.0001468658447265625\n",
      "loop: 0.00015878677368164062\n",
      "loop: 0.0001537799835205078\n",
      "loop: 0.0001513957977294922\n",
      "loop: 0.00014257431030273438\n"
     ]
    },
    {
     "name": "stderr",
     "output_type": "stream",
     "text": [
      "  6%|▌         | 57/1024 [00:04<01:03, 15.26it/s]"
     ]
    },
    {
     "name": "stdout",
     "output_type": "stream",
     "text": [
      "forward: 0.4940297603607178\n",
      "storing: 0.0006594657897949219\n",
      "loop: 0.00028705596923828125\n",
      "loop: 0.0001690387725830078\n",
      "loop: 0.00015592575073242188\n",
      "loop: 0.00014710426330566406\n",
      "loop: 0.00014138221740722656\n",
      "loop: 0.00013971328735351562\n",
      "loop: 0.00014400482177734375\n",
      "loop: 0.0001430511474609375\n"
     ]
    },
    {
     "name": "stderr",
     "output_type": "stream",
     "text": [
      "  6%|▋         | 65/1024 [00:04<01:01, 15.51it/s]"
     ]
    },
    {
     "name": "stdout",
     "output_type": "stream",
     "text": [
      "forward: 0.49475979804992676\n",
      "storing: 0.0006613731384277344\n",
      "loop: 0.0002932548522949219\n",
      "loop: 0.00015616416931152344\n",
      "loop: 0.0001633167266845703\n",
      "loop: 0.00014829635620117188\n",
      "loop: 0.000148773193359375\n",
      "loop: 0.00013947486877441406\n",
      "loop: 0.00014448165893554688\n",
      "loop: 0.00016951560974121094\n"
     ]
    },
    {
     "name": "stderr",
     "output_type": "stream",
     "text": [
      "  7%|▋         | 73/1024 [00:05<01:00, 15.66it/s]"
     ]
    },
    {
     "name": "stdout",
     "output_type": "stream",
     "text": [
      "forward: 0.49625134468078613\n",
      "storing: 0.00064849853515625\n",
      "loop: 0.00028133392333984375\n",
      "loop: 0.00033926963806152344\n",
      "loop: 0.00016427040100097656\n",
      "loop: 0.0001506805419921875\n",
      "loop: 0.0001537799835205078\n",
      "loop: 0.00014734268188476562\n",
      "loop: 0.0001418590545654297\n",
      "loop: 0.00014853477478027344\n"
     ]
    },
    {
     "name": "stderr",
     "output_type": "stream",
     "text": [
      "  8%|▊         | 81/1024 [00:05<00:59, 15.78it/s]"
     ]
    },
    {
     "name": "stdout",
     "output_type": "stream",
     "text": [
      "forward: 0.49537158012390137\n",
      "storing: 0.0006802082061767578\n",
      "loop: 0.0002818107604980469\n",
      "loop: 0.0001690387725830078\n",
      "loop: 0.00014638900756835938\n",
      "loop: 0.00014472007751464844\n",
      "loop: 0.0001418590545654297\n",
      "loop: 0.00014734268188476562\n",
      "loop: 0.00014591217041015625\n",
      "loop: 0.0001518726348876953\n"
     ]
    },
    {
     "name": "stderr",
     "output_type": "stream",
     "text": [
      "  9%|▊         | 89/1024 [00:06<00:58, 15.86it/s]"
     ]
    },
    {
     "name": "stdout",
     "output_type": "stream",
     "text": [
      "forward: 0.4945194721221924\n",
      "storing: 0.0006492137908935547\n",
      "loop: 0.0003008842468261719\n",
      "loop: 0.0001652240753173828\n",
      "loop: 0.00014710426330566406\n",
      "loop: 0.00015401840209960938\n",
      "loop: 0.00014066696166992188\n",
      "loop: 0.0001385211944580078\n",
      "loop: 0.00015091896057128906\n",
      "loop: 0.00013971328735351562\n"
     ]
    },
    {
     "name": "stderr",
     "output_type": "stream",
     "text": [
      "  9%|▉         | 97/1024 [00:06<00:58, 15.92it/s]"
     ]
    },
    {
     "name": "stdout",
     "output_type": "stream",
     "text": [
      "forward: 0.49486398696899414\n",
      "storing: 0.000652313232421875\n",
      "loop: 0.0002865791320800781\n",
      "loop: 0.0001575946807861328\n",
      "loop: 0.00015282630920410156\n",
      "loop: 0.00015592575073242188\n",
      "loop: 0.00015354156494140625\n",
      "loop: 0.00015735626220703125\n",
      "loop: 0.0001461505889892578\n",
      "loop: 0.00013947486877441406\n"
     ]
    },
    {
     "name": "stderr",
     "output_type": "stream",
     "text": [
      " 10%|█         | 105/1024 [00:07<00:57, 15.97it/s]"
     ]
    },
    {
     "name": "stdout",
     "output_type": "stream",
     "text": [
      "forward: 0.4941732883453369\n",
      "storing: 0.0006604194641113281\n",
      "loop: 0.00028967857360839844\n",
      "loop: 0.0001685619354248047\n",
      "loop: 0.00015306472778320312\n",
      "loop: 0.000152587890625\n",
      "loop: 0.0001437664031982422\n",
      "loop: 0.00015115737915039062\n",
      "loop: 0.0001456737518310547\n",
      "loop: 0.00013899803161621094\n"
     ]
    },
    {
     "name": "stderr",
     "output_type": "stream",
     "text": [
      " 11%|█         | 113/1024 [00:07<00:56, 15.99it/s]"
     ]
    },
    {
     "name": "stdout",
     "output_type": "stream",
     "text": [
      "forward: 0.4950571060180664\n",
      "storing: 0.0009016990661621094\n",
      "loop: 0.00028824806213378906\n",
      "loop: 0.0001614093780517578\n",
      "loop: 0.00014591217041015625\n",
      "loop: 0.0001461505889892578\n",
      "loop: 0.0001506805419921875\n",
      "loop: 0.0001494884490966797\n",
      "loop: 0.0001518726348876953\n",
      "loop: 0.0001380443572998047\n"
     ]
    },
    {
     "name": "stderr",
     "output_type": "stream",
     "text": [
      " 12%|█▏        | 121/1024 [00:08<00:56, 16.02it/s]"
     ]
    },
    {
     "name": "stdout",
     "output_type": "stream",
     "text": [
      "forward: 0.4943726062774658\n",
      "storing: 0.0006458759307861328\n",
      "loop: 0.0002994537353515625\n",
      "loop: 0.00016021728515625\n",
      "loop: 0.00014328956604003906\n",
      "loop: 0.0001690387725830078\n",
      "loop: 0.00014352798461914062\n",
      "loop: 0.00014448165893554688\n",
      "loop: 0.0001456737518310547\n",
      "loop: 0.0001392364501953125\n"
     ]
    },
    {
     "name": "stderr",
     "output_type": "stream",
     "text": [
      " 13%|█▎        | 129/1024 [00:08<00:55, 16.03it/s]"
     ]
    },
    {
     "name": "stdout",
     "output_type": "stream",
     "text": [
      "forward: 0.49482131004333496\n",
      "storing: 0.0006525516510009766\n",
      "loop: 0.0003116130828857422\n",
      "loop: 0.00016188621520996094\n",
      "loop: 0.00015020370483398438\n",
      "loop: 0.0001430511474609375\n",
      "loop: 0.0001571178436279297\n",
      "loop: 0.0001506805419921875\n",
      "loop: 0.00015115737915039062\n",
      "loop: 0.00015091896057128906\n"
     ]
    },
    {
     "name": "stderr",
     "output_type": "stream",
     "text": [
      " 13%|█▎        | 137/1024 [00:09<00:55, 16.01it/s]"
     ]
    },
    {
     "name": "stdout",
     "output_type": "stream",
     "text": [
      "forward: 0.4981060028076172\n",
      "storing: 0.0006577968597412109\n",
      "loop: 0.0002918243408203125\n",
      "loop: 0.00016832351684570312\n",
      "loop: 0.00014829635620117188\n",
      "loop: 0.00014138221740722656\n",
      "loop: 0.00015234947204589844\n",
      "loop: 0.0001430511474609375\n",
      "loop: 0.000152587890625\n",
      "loop: 0.00015497207641601562\n"
     ]
    },
    {
     "name": "stderr",
     "output_type": "stream",
     "text": [
      " 14%|█▍        | 145/1024 [00:09<00:54, 16.02it/s]"
     ]
    },
    {
     "name": "stdout",
     "output_type": "stream",
     "text": [
      "forward: 0.4947354793548584\n",
      "storing: 0.0006580352783203125\n",
      "loop: 0.00028514862060546875\n",
      "loop: 0.00018310546875\n",
      "loop: 0.00016021728515625\n",
      "loop: 0.00014448165893554688\n",
      "loop: 0.00014281272888183594\n",
      "loop: 0.00013971328735351562\n",
      "loop: 0.0005211830139160156\n",
      "loop: 0.00016427040100097656\n"
     ]
    },
    {
     "name": "stderr",
     "output_type": "stream",
     "text": [
      " 15%|█▍        | 153/1024 [00:10<00:54, 16.03it/s]"
     ]
    },
    {
     "name": "stdout",
     "output_type": "stream",
     "text": [
      "forward: 0.4944882392883301\n",
      "storing: 0.0009903907775878906\n",
      "loop: 0.0002999305725097656\n",
      "loop: 0.00016236305236816406\n",
      "loop: 0.00014662742614746094\n",
      "loop: 0.00015044212341308594\n",
      "loop: 0.0001647472381591797\n",
      "loop: 0.00015473365783691406\n",
      "loop: 0.0001456737518310547\n",
      "loop: 0.00015163421630859375\n"
     ]
    },
    {
     "name": "stderr",
     "output_type": "stream",
     "text": [
      " 16%|█▌        | 161/1024 [00:10<00:54, 15.98it/s]"
     ]
    },
    {
     "name": "stdout",
     "output_type": "stream",
     "text": [
      "forward: 0.4946575164794922\n",
      "storing: 0.000982046127319336\n",
      "loop: 0.0002791881561279297\n",
      "loop: 0.00016880035400390625\n",
      "loop: 0.0001652240753173828\n",
      "loop: 0.000152587890625\n",
      "loop: 0.0001533031463623047\n",
      "loop: 0.00014448165893554688\n",
      "loop: 0.0001506805419921875\n",
      "loop: 0.00015115737915039062\n"
     ]
    },
    {
     "name": "stderr",
     "output_type": "stream",
     "text": [
      " 17%|█▋        | 169/1024 [00:11<00:53, 15.99it/s]"
     ]
    },
    {
     "name": "stdout",
     "output_type": "stream",
     "text": [
      "forward: 0.4961667060852051\n",
      "storing: 0.0006504058837890625\n",
      "loop: 0.0002918243408203125\n",
      "loop: 0.00016808509826660156\n",
      "loop: 0.0001556873321533203\n",
      "loop: 0.0001468658447265625\n",
      "loop: 0.00014090538024902344\n",
      "loop: 0.0001728534698486328\n",
      "loop: 0.00014638900756835938\n",
      "loop: 0.00014853477478027344\n"
     ]
    },
    {
     "name": "stderr",
     "output_type": "stream",
     "text": [
      " 17%|█▋        | 177/1024 [00:11<00:52, 16.01it/s]"
     ]
    },
    {
     "name": "stdout",
     "output_type": "stream",
     "text": [
      "forward: 0.495147705078125\n",
      "storing: 0.0006623268127441406\n",
      "loop: 0.00028514862060546875\n",
      "loop: 0.00016260147094726562\n",
      "loop: 0.00016045570373535156\n",
      "loop: 0.00014901161193847656\n",
      "loop: 0.0001418590545654297\n",
      "loop: 0.0001423358917236328\n",
      "loop: 0.00014019012451171875\n",
      "loop: 0.00014495849609375\n"
     ]
    },
    {
     "name": "stderr",
     "output_type": "stream",
     "text": [
      " 18%|█▊        | 185/1024 [00:12<00:52, 16.02it/s]"
     ]
    },
    {
     "name": "stdout",
     "output_type": "stream",
     "text": [
      "forward: 0.494767427444458\n",
      "storing: 0.0006556510925292969\n",
      "loop: 0.0002853870391845703\n",
      "loop: 0.0001685619354248047\n",
      "loop: 0.00014519691467285156\n",
      "loop: 0.0001461505889892578\n",
      "loop: 0.00015211105346679688\n",
      "loop: 0.00015211105346679688\n",
      "loop: 0.00014495849609375\n",
      "loop: 0.00014591217041015625\n"
     ]
    },
    {
     "name": "stderr",
     "output_type": "stream",
     "text": [
      " 19%|█▉        | 193/1024 [00:12<00:51, 16.02it/s]"
     ]
    },
    {
     "name": "stdout",
     "output_type": "stream",
     "text": [
      "forward: 0.49604225158691406\n",
      "storing: 0.0006518363952636719\n",
      "loop: 0.00028586387634277344\n",
      "loop: 0.00016427040100097656\n",
      "loop: 0.000152587890625\n",
      "loop: 0.00015544891357421875\n",
      "loop: 0.00014591217041015625\n",
      "loop: 0.00014710426330566406\n",
      "loop: 0.00015401840209960938\n",
      "loop: 0.00014710426330566406\n"
     ]
    },
    {
     "name": "stderr",
     "output_type": "stream",
     "text": [
      " 20%|█▉        | 201/1024 [00:13<00:51, 16.01it/s]"
     ]
    },
    {
     "name": "stdout",
     "output_type": "stream",
     "text": [
      "forward: 0.49660658836364746\n",
      "storing: 0.0006685256958007812\n",
      "loop: 0.0002949237823486328\n",
      "loop: 0.00017786026000976562\n",
      "loop: 0.0001518726348876953\n",
      "loop: 0.00014257431030273438\n",
      "loop: 0.00014257431030273438\n",
      "loop: 0.00015234947204589844\n",
      "loop: 0.00014066696166992188\n",
      "loop: 0.0001595020294189453\n"
     ]
    },
    {
     "name": "stderr",
     "output_type": "stream",
     "text": [
      " 20%|██        | 209/1024 [00:13<00:50, 16.01it/s]"
     ]
    },
    {
     "name": "stdout",
     "output_type": "stream",
     "text": [
      "forward: 0.4958486557006836\n",
      "storing: 0.0006499290466308594\n",
      "loop: 0.0003058910369873047\n",
      "loop: 0.000156402587890625\n",
      "loop: 0.00014591217041015625\n",
      "loop: 0.00015425682067871094\n",
      "loop: 0.0001399517059326172\n",
      "loop: 0.00014352798461914062\n",
      "loop: 0.00015115737915039062\n",
      "loop: 0.0001518726348876953\n"
     ]
    },
    {
     "name": "stderr",
     "output_type": "stream",
     "text": [
      " 21%|██        | 217/1024 [00:14<00:50, 16.02it/s]"
     ]
    },
    {
     "name": "stdout",
     "output_type": "stream",
     "text": [
      "forward: 0.4951949119567871\n",
      "storing: 0.00066375732421875\n",
      "loop: 0.00029158592224121094\n",
      "loop: 0.00015878677368164062\n",
      "loop: 0.00015616416931152344\n",
      "loop: 0.00014448165893554688\n",
      "loop: 0.00015020370483398438\n",
      "loop: 0.00014138221740722656\n",
      "loop: 0.0001468658447265625\n",
      "loop: 0.0001392364501953125\n"
     ]
    },
    {
     "name": "stderr",
     "output_type": "stream",
     "text": [
      " 22%|██▏       | 225/1024 [00:14<00:49, 16.03it/s]"
     ]
    },
    {
     "name": "stdout",
     "output_type": "stream",
     "text": [
      "forward: 0.4956684112548828\n",
      "storing: 0.0006544589996337891\n",
      "loop: 0.0002837181091308594\n",
      "loop: 0.00016570091247558594\n",
      "loop: 0.000152587890625\n",
      "loop: 0.00015211105346679688\n",
      "loop: 0.00014281272888183594\n",
      "loop: 0.0001399517059326172\n",
      "loop: 0.00015020370483398438\n",
      "loop: 0.0001506805419921875\n"
     ]
    },
    {
     "name": "stderr",
     "output_type": "stream",
     "text": [
      " 23%|██▎       | 233/1024 [00:15<00:49, 16.02it/s]"
     ]
    },
    {
     "name": "stdout",
     "output_type": "stream",
     "text": [
      "forward: 0.4966590404510498\n",
      "storing: 0.0006608963012695312\n",
      "loop: 0.00029778480529785156\n",
      "loop: 0.00015473365783691406\n",
      "loop: 0.00014853477478027344\n",
      "loop: 0.00015282630920410156\n",
      "loop: 0.00014519691467285156\n",
      "loop: 0.00014853477478027344\n",
      "loop: 0.0001437664031982422\n",
      "loop: 0.0001456737518310547\n"
     ]
    },
    {
     "name": "stderr",
     "output_type": "stream",
     "text": [
      " 24%|██▎       | 241/1024 [00:15<00:48, 16.02it/s]"
     ]
    },
    {
     "name": "stdout",
     "output_type": "stream",
     "text": [
      "forward: 0.4960041046142578\n",
      "storing: 0.0006656646728515625\n",
      "loop: 0.00028443336486816406\n",
      "loop: 0.00017714500427246094\n",
      "loop: 0.0001461505889892578\n",
      "loop: 0.00015687942504882812\n",
      "loop: 0.0001552104949951172\n",
      "loop: 0.00015234947204589844\n",
      "loop: 0.0001404285430908203\n",
      "loop: 0.00015354156494140625\n"
     ]
    },
    {
     "name": "stderr",
     "output_type": "stream",
     "text": [
      " 24%|██▍       | 249/1024 [00:16<00:48, 16.02it/s]"
     ]
    },
    {
     "name": "stdout",
     "output_type": "stream",
     "text": [
      "forward: 0.4962897300720215\n",
      "storing: 0.0006647109985351562\n",
      "loop: 0.00028896331787109375\n",
      "loop: 0.00016951560974121094\n",
      "loop: 0.00015091896057128906\n",
      "loop: 0.0001628398895263672\n",
      "loop: 0.0001499652862548828\n",
      "loop: 0.0001442432403564453\n",
      "loop: 0.00013899803161621094\n",
      "loop: 0.0010232925415039062\n"
     ]
    },
    {
     "name": "stderr",
     "output_type": "stream",
     "text": [
      " 25%|██▌       | 257/1024 [00:16<00:47, 16.01it/s]"
     ]
    },
    {
     "name": "stdout",
     "output_type": "stream",
     "text": [
      "forward: 0.49594807624816895\n",
      "storing: 0.0006549358367919922\n",
      "loop: 0.00028586387634277344\n",
      "loop: 0.0001583099365234375\n",
      "loop: 0.0001537799835205078\n",
      "loop: 0.0001533031463623047\n",
      "loop: 0.00014710426330566406\n",
      "loop: 0.0001723766326904297\n",
      "loop: 0.00014472007751464844\n",
      "loop: 0.0001494884490966797\n"
     ]
    },
    {
     "name": "stderr",
     "output_type": "stream",
     "text": [
      " 26%|██▌       | 265/1024 [00:17<00:47, 16.01it/s]"
     ]
    },
    {
     "name": "stdout",
     "output_type": "stream",
     "text": [
      "forward: 0.4962160587310791\n",
      "storing: 0.0006487369537353516\n",
      "loop: 0.0002892017364501953\n",
      "loop: 0.00016808509826660156\n",
      "loop: 0.00015282630920410156\n",
      "loop: 0.00015997886657714844\n",
      "loop: 0.00014519691467285156\n",
      "loop: 0.00014781951904296875\n",
      "loop: 0.0004227161407470703\n",
      "loop: 0.0002071857452392578\n"
     ]
    },
    {
     "name": "stderr",
     "output_type": "stream",
     "text": [
      " 27%|██▋       | 273/1024 [00:17<00:46, 16.01it/s]"
     ]
    },
    {
     "name": "stdout",
     "output_type": "stream",
     "text": [
      "forward: 0.49573802947998047\n",
      "storing: 0.0006554126739501953\n",
      "loop: 0.0002956390380859375\n",
      "loop: 0.00016117095947265625\n",
      "loop: 0.00015354156494140625\n",
      "loop: 0.00014495849609375\n",
      "loop: 0.00014638900756835938\n",
      "loop: 0.00014400482177734375\n",
      "loop: 0.0001392364501953125\n",
      "loop: 0.0001506805419921875\n"
     ]
    },
    {
     "name": "stderr",
     "output_type": "stream",
     "text": [
      " 27%|██▋       | 281/1024 [00:18<00:46, 16.01it/s]"
     ]
    },
    {
     "name": "stdout",
     "output_type": "stream",
     "text": [
      "forward: 0.49640393257141113\n",
      "storing: 0.0006556510925292969\n",
      "loop: 0.0002925395965576172\n",
      "loop: 0.00016021728515625\n",
      "loop: 0.00014472007751464844\n",
      "loop: 0.00014209747314453125\n",
      "loop: 0.00015163421630859375\n",
      "loop: 0.00014090538024902344\n",
      "loop: 0.0001418590545654297\n",
      "loop: 0.00014519691467285156\n"
     ]
    },
    {
     "name": "stderr",
     "output_type": "stream",
     "text": [
      " 28%|██▊       | 289/1024 [00:18<00:45, 16.02it/s]"
     ]
    },
    {
     "name": "stdout",
     "output_type": "stream",
     "text": [
      "forward: 0.49600934982299805\n",
      "storing: 0.0006573200225830078\n",
      "loop: 0.00031304359436035156\n",
      "loop: 0.0001621246337890625\n",
      "loop: 0.000156402587890625\n",
      "loop: 0.0001552104949951172\n",
      "loop: 0.0001506805419921875\n",
      "loop: 0.0001480579376220703\n",
      "loop: 0.0001499652862548828\n",
      "loop: 0.0001475811004638672\n"
     ]
    },
    {
     "name": "stderr",
     "output_type": "stream",
     "text": [
      " 29%|██▉       | 297/1024 [00:19<00:45, 15.98it/s]"
     ]
    },
    {
     "name": "stdout",
     "output_type": "stream",
     "text": [
      "forward: 0.4994385242462158\n",
      "storing: 0.0006616115570068359\n",
      "loop: 0.00029349327087402344\n",
      "loop: 0.00016808509826660156\n",
      "loop: 0.0001499652862548828\n",
      "loop: 0.00016188621520996094\n",
      "loop: 0.0001494884490966797\n",
      "loop: 0.00014781951904296875\n",
      "loop: 0.00014019012451171875\n",
      "loop: 0.00015091896057128906\n"
     ]
    },
    {
     "name": "stderr",
     "output_type": "stream",
     "text": [
      " 30%|██▉       | 305/1024 [00:19<00:45, 15.97it/s]"
     ]
    },
    {
     "name": "stdout",
     "output_type": "stream",
     "text": [
      "forward: 0.4983236789703369\n",
      "storing: 0.0006668567657470703\n",
      "loop: 0.0002894401550292969\n",
      "loop: 0.00016021728515625\n",
      "loop: 0.005896329879760742\n",
      "loop: 0.0002276897430419922\n",
      "loop: 0.00014972686767578125\n",
      "loop: 0.00015234947204589844\n",
      "loop: 0.0001499652862548828\n",
      "loop: 0.0001399517059326172\n"
     ]
    },
    {
     "name": "stderr",
     "output_type": "stream",
     "text": [
      " 31%|███       | 313/1024 [00:20<00:44, 15.92it/s]"
     ]
    },
    {
     "name": "stdout",
     "output_type": "stream",
     "text": [
      "forward: 0.497042179107666\n",
      "storing: 0.0007226467132568359\n",
      "loop: 0.0003159046173095703\n",
      "loop: 0.00017881393432617188\n",
      "loop: 0.00015044212341308594\n",
      "loop: 0.00014257431030273438\n",
      "loop: 0.00015211105346679688\n",
      "loop: 0.0001475811004638672\n",
      "loop: 0.00013899803161621094\n",
      "loop: 0.00014543533325195312\n"
     ]
    },
    {
     "name": "stderr",
     "output_type": "stream",
     "text": [
      " 31%|███▏      | 321/1024 [00:20<00:44, 15.94it/s]"
     ]
    },
    {
     "name": "stdout",
     "output_type": "stream",
     "text": [
      "forward: 0.49677348136901855\n",
      "storing: 0.0006554126739501953\n",
      "loop: 0.0003001689910888672\n",
      "loop: 0.0001583099365234375\n",
      "loop: 0.00015115737915039062\n",
      "loop: 0.0001423358917236328\n",
      "loop: 0.00014257431030273438\n",
      "loop: 0.00015020370483398438\n",
      "loop: 0.00016069412231445312\n",
      "loop: 0.00014829635620117188\n"
     ]
    },
    {
     "name": "stderr",
     "output_type": "stream",
     "text": [
      " 32%|███▏      | 329/1024 [00:21<00:43, 15.96it/s]"
     ]
    },
    {
     "name": "stdout",
     "output_type": "stream",
     "text": [
      "forward: 0.49701452255249023\n",
      "storing: 0.0006513595581054688\n",
      "loop: 0.0002970695495605469\n",
      "loop: 0.00016450881958007812\n",
      "loop: 0.00014781951904296875\n",
      "loop: 0.00014495849609375\n",
      "loop: 0.0001575946807861328\n",
      "loop: 0.000148773193359375\n",
      "loop: 0.0001423358917236328\n",
      "loop: 0.00015306472778320312\n"
     ]
    },
    {
     "name": "stderr",
     "output_type": "stream",
     "text": [
      " 33%|███▎      | 337/1024 [00:21<00:43, 15.97it/s]"
     ]
    },
    {
     "name": "stdout",
     "output_type": "stream",
     "text": [
      "forward: 0.496685266494751\n",
      "storing: 0.0006494522094726562\n",
      "loop: 0.00028324127197265625\n",
      "loop: 0.00015807151794433594\n",
      "loop: 0.00015735626220703125\n",
      "loop: 0.00014638900756835938\n",
      "loop: 0.00016188621520996094\n",
      "loop: 0.000148773193359375\n",
      "loop: 0.0001506805419921875\n",
      "loop: 0.0001461505889892578\n"
     ]
    },
    {
     "name": "stderr",
     "output_type": "stream",
     "text": [
      " 34%|███▎      | 345/1024 [00:22<00:42, 15.98it/s]"
     ]
    },
    {
     "name": "stdout",
     "output_type": "stream",
     "text": [
      "forward: 0.4962882995605469\n",
      "storing: 0.0006620883941650391\n",
      "loop: 0.0002994537353515625\n",
      "loop: 0.00016498565673828125\n",
      "loop: 0.00014591217041015625\n",
      "loop: 0.00015735626220703125\n",
      "loop: 0.0001537799835205078\n",
      "loop: 0.0001461505889892578\n",
      "loop: 0.00015974044799804688\n",
      "loop: 0.00014352798461914062\n"
     ]
    },
    {
     "name": "stderr",
     "output_type": "stream",
     "text": [
      " 34%|███▍      | 353/1024 [00:22<00:41, 15.98it/s]"
     ]
    },
    {
     "name": "stdout",
     "output_type": "stream",
     "text": [
      "forward: 0.49765872955322266\n",
      "storing: 0.0006656646728515625\n",
      "loop: 0.0003063678741455078\n",
      "loop: 0.00016689300537109375\n",
      "loop: 0.00015020370483398438\n",
      "loop: 0.00015163421630859375\n",
      "loop: 0.0004513263702392578\n",
      "loop: 0.00016570091247558594\n",
      "loop: 0.00014209747314453125\n",
      "loop: 0.00014710426330566406\n"
     ]
    },
    {
     "name": "stderr",
     "output_type": "stream",
     "text": [
      " 35%|███▌      | 361/1024 [00:23<00:41, 15.98it/s]"
     ]
    },
    {
     "name": "stdout",
     "output_type": "stream",
     "text": [
      "forward: 0.4969298839569092\n",
      "storing: 0.0006577968597412109\n",
      "loop: 0.0003108978271484375\n",
      "loop: 0.00016498565673828125\n",
      "loop: 0.00014495849609375\n",
      "loop: 0.00015306472778320312\n",
      "loop: 0.0001609325408935547\n",
      "loop: 0.00014138221740722656\n",
      "loop: 0.000148773193359375\n",
      "loop: 0.0001380443572998047\n"
     ]
    },
    {
     "name": "stderr",
     "output_type": "stream",
     "text": [
      " 36%|███▌      | 369/1024 [00:23<00:41, 15.88it/s]"
     ]
    },
    {
     "name": "stdout",
     "output_type": "stream",
     "text": [
      "forward: 0.5006749629974365\n",
      "storing: 0.0006525516510009766\n",
      "loop: 0.0003039836883544922\n",
      "loop: 0.00015854835510253906\n",
      "loop: 0.0001499652862548828\n",
      "loop: 0.0001423358917236328\n",
      "loop: 0.0001621246337890625\n",
      "loop: 0.00014400482177734375\n",
      "loop: 0.00014543533325195312\n",
      "loop: 0.00014066696166992188\n"
     ]
    },
    {
     "name": "stderr",
     "output_type": "stream",
     "text": [
      " 37%|███▋      | 377/1024 [00:24<00:40, 15.92it/s]"
     ]
    },
    {
     "name": "stdout",
     "output_type": "stream",
     "text": [
      "forward: 0.4961543083190918\n",
      "storing: 0.0006639957427978516\n",
      "loop: 0.00030303001403808594\n",
      "loop: 0.00017571449279785156\n",
      "loop: 0.0001468658447265625\n",
      "loop: 0.00015091896057128906\n",
      "loop: 0.000141143798828125\n",
      "loop: 0.00014972686767578125\n",
      "loop: 0.0001513957977294922\n",
      "loop: 0.0009875297546386719\n"
     ]
    },
    {
     "name": "stderr",
     "output_type": "stream",
     "text": [
      " 38%|███▊      | 385/1024 [00:24<00:40, 15.94it/s]"
     ]
    },
    {
     "name": "stdout",
     "output_type": "stream",
     "text": [
      "forward: 0.4967508316040039\n",
      "storing: 0.0006606578826904297\n",
      "loop: 0.0005078315734863281\n",
      "loop: 0.00018095970153808594\n",
      "loop: 0.0001583099365234375\n",
      "loop: 0.00015044212341308594\n",
      "loop: 0.00014853477478027344\n",
      "loop: 0.00013971328735351562\n",
      "loop: 0.00013828277587890625\n",
      "loop: 0.00014472007751464844\n"
     ]
    },
    {
     "name": "stderr",
     "output_type": "stream",
     "text": [
      " 38%|███▊      | 393/1024 [00:25<00:39, 15.95it/s]"
     ]
    },
    {
     "name": "stdout",
     "output_type": "stream",
     "text": [
      "forward: 0.4967968463897705\n",
      "storing: 0.000652313232421875\n",
      "loop: 0.0003008842468261719\n",
      "loop: 0.00016164779663085938\n",
      "loop: 0.00015115737915039062\n",
      "loop: 0.00015091896057128906\n",
      "loop: 0.00014328956604003906\n",
      "loop: 0.00013875961303710938\n",
      "loop: 0.0001595020294189453\n",
      "loop: 0.00015044212341308594\n"
     ]
    },
    {
     "name": "stderr",
     "output_type": "stream",
     "text": [
      " 39%|███▉      | 401/1024 [00:25<00:39, 15.90it/s]"
     ]
    },
    {
     "name": "stdout",
     "output_type": "stream",
     "text": [
      "forward: 0.5036563873291016\n",
      "storing: 0.0006554126739501953\n",
      "loop: 0.0003006458282470703\n",
      "loop: 0.0001556873321533203\n",
      "loop: 0.0001575946807861328\n",
      "loop: 0.00014448165893554688\n",
      "loop: 0.0001583099365234375\n",
      "loop: 0.00015115737915039062\n",
      "loop: 0.00014901161193847656\n",
      "loop: 0.00014066696166992188\n"
     ]
    },
    {
     "name": "stderr",
     "output_type": "stream",
     "text": [
      " 40%|███▉      | 409/1024 [00:26<00:38, 15.92it/s]"
     ]
    },
    {
     "name": "stdout",
     "output_type": "stream",
     "text": [
      "forward: 0.4973487854003906\n",
      "storing: 0.0006587505340576172\n",
      "loop: 0.0002951622009277344\n",
      "loop: 0.00016307830810546875\n",
      "loop: 0.00015878677368164062\n",
      "loop: 0.0001418590545654297\n",
      "loop: 0.00014090538024902344\n",
      "loop: 0.00014066696166992188\n",
      "loop: 0.00014328956604003906\n",
      "loop: 0.00013875961303710938\n"
     ]
    },
    {
     "name": "stderr",
     "output_type": "stream",
     "text": [
      " 41%|████      | 417/1024 [00:26<00:38, 15.90it/s]"
     ]
    },
    {
     "name": "stdout",
     "output_type": "stream",
     "text": [
      "forward: 0.5020513534545898\n",
      "storing: 0.0006492137908935547\n",
      "loop: 0.00028443336486816406\n",
      "loop: 0.00016117095947265625\n",
      "loop: 0.00033926963806152344\n",
      "loop: 0.000164031982421875\n",
      "loop: 0.00016379356384277344\n",
      "loop: 0.00014901161193847656\n",
      "loop: 0.0001399517059326172\n",
      "loop: 0.0001475811004638672\n"
     ]
    },
    {
     "name": "stderr",
     "output_type": "stream",
     "text": [
      " 42%|████▏     | 425/1024 [00:27<00:37, 15.91it/s]"
     ]
    },
    {
     "name": "stdout",
     "output_type": "stream",
     "text": [
      "forward: 0.497438907623291\n",
      "storing: 0.0009970664978027344\n",
      "loop: 0.00030684471130371094\n",
      "loop: 0.00016832351684570312\n",
      "loop: 0.0001442432403564453\n",
      "loop: 0.00015163421630859375\n",
      "loop: 0.0001442432403564453\n",
      "loop: 0.0001518726348876953\n",
      "loop: 0.00014281272888183594\n",
      "loop: 0.00014925003051757812\n"
     ]
    },
    {
     "name": "stderr",
     "output_type": "stream",
     "text": [
      " 42%|████▏     | 433/1024 [00:27<00:37, 15.88it/s]"
     ]
    },
    {
     "name": "stdout",
     "output_type": "stream",
     "text": [
      "forward: 0.4969441890716553\n",
      "storing: 0.0006668567657470703\n",
      "loop: 0.00028824806213378906\n",
      "loop: 0.00015735626220703125\n",
      "loop: 0.000152587890625\n",
      "loop: 0.0001556873321533203\n",
      "loop: 0.0001404285430908203\n",
      "loop: 0.00015234947204589844\n",
      "loop: 0.00015282630920410156\n",
      "loop: 0.00015211105346679688\n"
     ]
    },
    {
     "name": "stderr",
     "output_type": "stream",
     "text": [
      " 43%|████▎     | 441/1024 [00:28<00:36, 15.91it/s]"
     ]
    },
    {
     "name": "stdout",
     "output_type": "stream",
     "text": [
      "forward: 0.49684691429138184\n",
      "storing: 0.0006556510925292969\n",
      "loop: 0.00028705596923828125\n",
      "loop: 0.0001652240753173828\n",
      "loop: 0.00015592575073242188\n",
      "loop: 0.00014591217041015625\n",
      "loop: 0.00015473365783691406\n",
      "loop: 0.00014400482177734375\n",
      "loop: 0.001028299331665039\n",
      "loop: 0.0001544952392578125\n"
     ]
    },
    {
     "name": "stderr",
     "output_type": "stream",
     "text": [
      " 44%|████▍     | 449/1024 [00:28<00:36, 15.91it/s]"
     ]
    },
    {
     "name": "stdout",
     "output_type": "stream",
     "text": [
      "forward: 0.4983813762664795\n",
      "storing: 0.0015106201171875\n",
      "loop: 0.0002872943878173828\n",
      "loop: 0.00015878677368164062\n",
      "loop: 0.0001544952392578125\n",
      "loop: 0.0001442432403564453\n",
      "loop: 0.00048232078552246094\n",
      "loop: 0.0001621246337890625\n",
      "loop: 0.0001571178436279297\n",
      "loop: 0.0001404285430908203\n"
     ]
    },
    {
     "name": "stderr",
     "output_type": "stream",
     "text": [
      " 45%|████▍     | 457/1024 [00:29<00:35, 15.93it/s]"
     ]
    },
    {
     "name": "stdout",
     "output_type": "stream",
     "text": [
      "forward: 0.497180700302124\n",
      "storing: 0.0006544589996337891\n",
      "loop: 0.00029969215393066406\n",
      "loop: 0.00015878677368164062\n",
      "loop: 0.0001468658447265625\n",
      "loop: 0.000141143798828125\n",
      "loop: 0.0001533031463623047\n",
      "loop: 0.00014829635620117188\n",
      "loop: 0.00013947486877441406\n",
      "loop: 0.00014710426330566406\n"
     ]
    },
    {
     "name": "stderr",
     "output_type": "stream",
     "text": [
      " 45%|████▌     | 465/1024 [00:29<00:35, 15.94it/s]"
     ]
    },
    {
     "name": "stdout",
     "output_type": "stream",
     "text": [
      "forward: 0.49723172187805176\n",
      "storing: 0.0006587505340576172\n",
      "loop: 0.0002987384796142578\n",
      "loop: 0.00036144256591796875\n",
      "loop: 0.0001506805419921875\n",
      "loop: 0.0001430511474609375\n",
      "loop: 0.00014162063598632812\n",
      "loop: 0.00015115737915039062\n",
      "loop: 0.0001468658447265625\n",
      "loop: 0.0001556873321533203\n"
     ]
    },
    {
     "name": "stderr",
     "output_type": "stream",
     "text": [
      " 46%|████▌     | 473/1024 [00:30<00:34, 15.94it/s]"
     ]
    },
    {
     "name": "stdout",
     "output_type": "stream",
     "text": [
      "forward: 0.498366117477417\n",
      "storing: 0.0006575584411621094\n",
      "loop: 0.0002911090850830078\n",
      "loop: 0.00016832351684570312\n",
      "loop: 0.0001647472381591797\n",
      "loop: 0.00015091896057128906\n",
      "loop: 0.00014710426330566406\n",
      "loop: 0.00013947486877441406\n",
      "loop: 0.0001385211944580078\n",
      "loop: 0.00014019012451171875\n"
     ]
    },
    {
     "name": "stderr",
     "output_type": "stream",
     "text": [
      " 47%|████▋     | 481/1024 [00:30<00:34, 15.95it/s]"
     ]
    },
    {
     "name": "stdout",
     "output_type": "stream",
     "text": [
      "forward: 0.4976935386657715\n",
      "storing: 0.0006668567657470703\n",
      "loop: 0.00029754638671875\n",
      "loop: 0.0001590251922607422\n",
      "loop: 0.0001571178436279297\n",
      "loop: 0.00014257431030273438\n",
      "loop: 0.00014090538024902344\n",
      "loop: 0.0001418590545654297\n",
      "loop: 0.00014662742614746094\n",
      "loop: 0.00014019012451171875\n"
     ]
    },
    {
     "name": "stderr",
     "output_type": "stream",
     "text": [
      " 48%|████▊     | 489/1024 [00:31<00:33, 15.89it/s]"
     ]
    },
    {
     "name": "stdout",
     "output_type": "stream",
     "text": [
      "forward: 0.504425048828125\n",
      "storing: 0.0006623268127441406\n",
      "loop: 0.0004191398620605469\n",
      "loop: 0.00016880035400390625\n",
      "loop: 0.00014472007751464844\n",
      "loop: 0.00015497207641601562\n",
      "loop: 0.000156402587890625\n",
      "loop: 0.0001399517059326172\n",
      "loop: 0.00014352798461914062\n",
      "loop: 0.00014448165893554688\n"
     ]
    },
    {
     "name": "stderr",
     "output_type": "stream",
     "text": [
      " 49%|████▊     | 497/1024 [00:31<00:33, 15.91it/s]"
     ]
    },
    {
     "name": "stdout",
     "output_type": "stream",
     "text": [
      "forward: 0.4984452724456787\n",
      "storing: 0.0006532669067382812\n",
      "loop: 0.0002868175506591797\n",
      "loop: 0.00016689300537109375\n",
      "loop: 0.00015115737915039062\n",
      "loop: 0.00015401840209960938\n",
      "loop: 0.000156402587890625\n",
      "loop: 0.00014209747314453125\n",
      "loop: 0.00014543533325195312\n",
      "loop: 0.00015282630920410156\n"
     ]
    },
    {
     "name": "stderr",
     "output_type": "stream",
     "text": [
      " 49%|████▉     | 505/1024 [00:32<00:32, 15.88it/s]"
     ]
    },
    {
     "name": "stdout",
     "output_type": "stream",
     "text": [
      "forward: 0.5023057460784912\n",
      "storing: 0.0006501674652099609\n",
      "loop: 0.0003037452697753906\n",
      "loop: 0.00015664100646972656\n",
      "loop: 0.00015401840209960938\n",
      "loop: 0.00015234947204589844\n",
      "loop: 0.00014019012451171875\n",
      "loop: 0.000141143798828125\n",
      "loop: 0.00015807151794433594\n",
      "loop: 0.000141143798828125\n"
     ]
    },
    {
     "name": "stderr",
     "output_type": "stream",
     "text": [
      " 50%|█████     | 513/1024 [00:32<00:32, 15.85it/s]"
     ]
    },
    {
     "name": "stdout",
     "output_type": "stream",
     "text": [
      "forward: 0.5040292739868164\n",
      "storing: 0.0006575584411621094\n",
      "loop: 0.0002923011779785156\n",
      "loop: 0.00015544891357421875\n",
      "loop: 0.00014495849609375\n",
      "loop: 0.0001552104949951172\n",
      "loop: 0.0001544952392578125\n",
      "loop: 0.00014352798461914062\n",
      "loop: 0.00015211105346679688\n",
      "loop: 0.0001468658447265625\n"
     ]
    },
    {
     "name": "stderr",
     "output_type": "stream",
     "text": [
      " 51%|█████     | 521/1024 [00:33<00:31, 15.87it/s]"
     ]
    },
    {
     "name": "stdout",
     "output_type": "stream",
     "text": [
      "forward: 0.49755191802978516\n",
      "storing: 0.0006635189056396484\n",
      "loop: 0.0003001689910888672\n",
      "loop: 0.007322549819946289\n",
      "loop: 0.000171661376953125\n",
      "loop: 0.0001518726348876953\n",
      "loop: 0.00014066696166992188\n",
      "loop: 0.0001571178436279297\n",
      "loop: 0.00014710426330566406\n",
      "loop: 0.00014209747314453125\n"
     ]
    },
    {
     "name": "stderr",
     "output_type": "stream",
     "text": [
      " 52%|█████▏    | 529/1024 [00:33<00:31, 15.82it/s]"
     ]
    },
    {
     "name": "stdout",
     "output_type": "stream",
     "text": [
      "forward: 0.49804091453552246\n",
      "storing: 0.0006673336029052734\n",
      "loop: 0.00029778480529785156\n",
      "loop: 0.00016760826110839844\n",
      "loop: 0.000985860824584961\n",
      "loop: 0.000186920166015625\n",
      "loop: 0.00014352798461914062\n",
      "loop: 0.00014543533325195312\n",
      "loop: 0.0001442432403564453\n",
      "loop: 0.00015163421630859375\n"
     ]
    },
    {
     "name": "stderr",
     "output_type": "stream",
     "text": [
      " 52%|█████▏    | 537/1024 [00:34<00:30, 15.83it/s]"
     ]
    },
    {
     "name": "stdout",
     "output_type": "stream",
     "text": [
      "forward: 0.5005240440368652\n",
      "storing: 0.0006558895111083984\n",
      "loop: 0.0002918243408203125\n",
      "loop: 0.00016045570373535156\n",
      "loop: 0.0001575946807861328\n",
      "loop: 0.0001494884490966797\n",
      "loop: 0.00015997886657714844\n",
      "loop: 0.0001513957977294922\n",
      "loop: 0.0001461505889892578\n",
      "loop: 0.00014591217041015625\n"
     ]
    },
    {
     "name": "stderr",
     "output_type": "stream",
     "text": [
      " 53%|█████▎    | 545/1024 [00:34<00:30, 15.86it/s]"
     ]
    },
    {
     "name": "stdout",
     "output_type": "stream",
     "text": [
      "forward: 0.4985635280609131\n",
      "storing: 0.0006539821624755859\n",
      "loop: 0.0002961158752441406\n",
      "loop: 0.00016260147094726562\n",
      "loop: 0.00015211105346679688\n",
      "loop: 0.00014734268188476562\n",
      "loop: 0.00014352798461914062\n",
      "loop: 0.00014781951904296875\n",
      "loop: 0.00014448165893554688\n",
      "loop: 0.0001506805419921875\n"
     ]
    },
    {
     "name": "stderr",
     "output_type": "stream",
     "text": [
      " 54%|█████▍    | 553/1024 [00:35<00:29, 15.88it/s]"
     ]
    },
    {
     "name": "stdout",
     "output_type": "stream",
     "text": [
      "forward: 0.4992997646331787\n",
      "storing: 0.0006563663482666016\n",
      "loop: 0.00029778480529785156\n",
      "loop: 0.0001614093780517578\n",
      "loop: 0.0001533031463623047\n",
      "loop: 0.0001533031463623047\n",
      "loop: 0.00014209747314453125\n",
      "loop: 0.00048804283142089844\n",
      "loop: 0.0002002716064453125\n",
      "loop: 0.0001418590545654297\n"
     ]
    },
    {
     "name": "stderr",
     "output_type": "stream",
     "text": [
      " 55%|█████▍    | 561/1024 [00:35<00:29, 15.88it/s]"
     ]
    },
    {
     "name": "stdout",
     "output_type": "stream",
     "text": [
      "forward: 0.4996027946472168\n",
      "storing: 0.0006577968597412109\n",
      "loop: 0.0002856254577636719\n",
      "loop: 0.0001590251922607422\n",
      "loop: 0.00015854835510253906\n",
      "loop: 0.00015401840209960938\n",
      "loop: 0.0001442432403564453\n",
      "loop: 0.0001437664031982422\n",
      "loop: 0.00013947486877441406\n",
      "loop: 0.0001552104949951172\n"
     ]
    },
    {
     "name": "stderr",
     "output_type": "stream",
     "text": [
      " 56%|█████▌    | 569/1024 [00:36<00:28, 15.89it/s]"
     ]
    },
    {
     "name": "stdout",
     "output_type": "stream",
     "text": [
      "forward: 0.49877238273620605\n",
      "storing: 0.0006511211395263672\n",
      "loop: 0.0002849102020263672\n",
      "loop: 0.0001590251922607422\n",
      "loop: 0.00015020370483398438\n",
      "loop: 0.00014328956604003906\n",
      "loop: 0.0001442432403564453\n",
      "loop: 0.00015115737915039062\n",
      "loop: 0.00015234947204589844\n",
      "loop: 0.00014710426330566406\n"
     ]
    },
    {
     "name": "stderr",
     "output_type": "stream",
     "text": [
      " 56%|█████▋    | 577/1024 [00:36<00:28, 15.89it/s]"
     ]
    },
    {
     "name": "stdout",
     "output_type": "stream",
     "text": [
      "forward: 0.49979734420776367\n",
      "storing: 0.0009927749633789062\n",
      "loop: 0.00028133392333984375\n",
      "loop: 0.0001709461212158203\n",
      "loop: 0.00015807151794433594\n",
      "loop: 0.00015854835510253906\n",
      "loop: 0.0001506805419921875\n",
      "loop: 0.00014090538024902344\n",
      "loop: 0.00014710426330566406\n",
      "loop: 0.00014138221740722656\n"
     ]
    },
    {
     "name": "stderr",
     "output_type": "stream",
     "text": [
      " 57%|█████▋    | 585/1024 [00:37<00:27, 15.90it/s]"
     ]
    },
    {
     "name": "stdout",
     "output_type": "stream",
     "text": [
      "forward: 0.4991881847381592\n",
      "storing: 0.0006573200225830078\n",
      "loop: 0.00029754638671875\n",
      "loop: 0.0001609325408935547\n",
      "loop: 0.0001442432403564453\n",
      "loop: 0.00014638900756835938\n",
      "loop: 0.0001456737518310547\n",
      "loop: 0.0001499652862548828\n",
      "loop: 0.0001494884490966797\n",
      "loop: 0.0001392364501953125\n"
     ]
    },
    {
     "name": "stderr",
     "output_type": "stream",
     "text": [
      " 58%|█████▊    | 593/1024 [00:37<00:27, 15.86it/s]"
     ]
    },
    {
     "name": "stdout",
     "output_type": "stream",
     "text": [
      "forward: 0.5040655136108398\n",
      "storing: 0.0008542537689208984\n",
      "loop: 0.0002815723419189453\n",
      "loop: 0.00016808509826660156\n",
      "loop: 0.000164031982421875\n",
      "loop: 0.0001537799835205078\n",
      "loop: 0.00014281272888183594\n",
      "loop: 0.00014352798461914062\n",
      "loop: 0.0001499652862548828\n",
      "loop: 0.00015115737915039062\n"
     ]
    },
    {
     "name": "stderr",
     "output_type": "stream",
     "text": [
      " 59%|█████▊    | 601/1024 [00:38<00:26, 15.88it/s]"
     ]
    },
    {
     "name": "stdout",
     "output_type": "stream",
     "text": [
      "forward: 0.49870896339416504\n",
      "storing: 0.0006580352783203125\n",
      "loop: 0.0002849102020263672\n",
      "loop: 0.00016736984252929688\n",
      "loop: 0.00014829635620117188\n",
      "loop: 0.0001513957977294922\n",
      "loop: 0.0001468658447265625\n",
      "loop: 0.00015401840209960938\n",
      "loop: 0.00014400482177734375\n",
      "loop: 0.00015044212341308594\n"
     ]
    },
    {
     "name": "stderr",
     "output_type": "stream",
     "text": [
      " 59%|█████▉    | 609/1024 [00:38<00:26, 15.90it/s]"
     ]
    },
    {
     "name": "stdout",
     "output_type": "stream",
     "text": [
      "forward: 0.498837947845459\n",
      "storing: 0.0006563663482666016\n",
      "loop: 0.0002987384796142578\n",
      "loop: 0.0001614093780517578\n",
      "loop: 0.00015282630920410156\n",
      "loop: 0.0001552104949951172\n",
      "loop: 0.00015282630920410156\n",
      "loop: 0.00015163421630859375\n",
      "loop: 0.00014281272888183594\n",
      "loop: 0.00015878677368164062\n"
     ]
    },
    {
     "name": "stderr",
     "output_type": "stream",
     "text": [
      " 60%|██████    | 617/1024 [00:39<00:25, 15.90it/s]"
     ]
    },
    {
     "name": "stdout",
     "output_type": "stream",
     "text": [
      "forward: 0.49895644187927246\n",
      "storing: 0.0006530284881591797\n",
      "loop: 0.0002994537353515625\n",
      "loop: 0.00015854835510253906\n",
      "loop: 0.0001506805419921875\n",
      "loop: 0.00016069412231445312\n",
      "loop: 0.00015234947204589844\n",
      "loop: 0.00014019012451171875\n",
      "loop: 0.0001480579376220703\n",
      "loop: 0.00014972686767578125\n"
     ]
    },
    {
     "name": "stderr",
     "output_type": "stream",
     "text": [
      " 61%|██████    | 625/1024 [00:39<00:25, 15.90it/s]"
     ]
    },
    {
     "name": "stdout",
     "output_type": "stream",
     "text": [
      "forward: 0.4996328353881836\n",
      "storing: 0.0006532669067382812\n",
      "loop: 0.00030231475830078125\n",
      "loop: 0.0001575946807861328\n",
      "loop: 0.0001494884490966797\n",
      "loop: 0.000148773193359375\n",
      "loop: 0.00015974044799804688\n",
      "loop: 0.00015497207641601562\n",
      "loop: 0.00013947486877441406\n",
      "loop: 0.00015091896057128906\n"
     ]
    },
    {
     "name": "stderr",
     "output_type": "stream",
     "text": [
      " 62%|██████▏   | 633/1024 [00:40<00:24, 15.89it/s]"
     ]
    },
    {
     "name": "stdout",
     "output_type": "stream",
     "text": [
      "forward: 0.5011658668518066\n",
      "storing: 0.0006501674652099609\n",
      "loop: 0.0002944469451904297\n",
      "loop: 0.0001652240753173828\n",
      "loop: 0.0001475811004638672\n",
      "loop: 0.00014710426330566406\n",
      "loop: 0.0001544952392578125\n",
      "loop: 0.0001399517059326172\n",
      "loop: 0.00014328956604003906\n",
      "loop: 0.00014519691467285156\n"
     ]
    },
    {
     "name": "stderr",
     "output_type": "stream",
     "text": [
      " 63%|██████▎   | 641/1024 [00:40<00:24, 15.87it/s]"
     ]
    },
    {
     "name": "stdout",
     "output_type": "stream",
     "text": [
      "forward: 0.5018594264984131\n",
      "storing: 0.0006635189056396484\n",
      "loop: 0.0002987384796142578\n",
      "loop: 0.000171661376953125\n",
      "loop: 0.0001456737518310547\n",
      "loop: 0.00015616416931152344\n",
      "loop: 0.00014090538024902344\n",
      "loop: 0.0001456737518310547\n",
      "loop: 0.0001392364501953125\n",
      "loop: 0.00015473365783691406\n"
     ]
    },
    {
     "name": "stderr",
     "output_type": "stream",
     "text": [
      " 63%|██████▎   | 649/1024 [00:41<00:23, 15.85it/s]"
     ]
    },
    {
     "name": "stdout",
     "output_type": "stream",
     "text": [
      "forward: 0.5029442310333252\n",
      "storing: 0.0006556510925292969\n",
      "loop: 0.0002849102020263672\n",
      "loop: 0.00015687942504882812\n",
      "loop: 0.0001437664031982422\n",
      "loop: 0.000148773193359375\n",
      "loop: 0.0001404285430908203\n",
      "loop: 0.00015306472778320312\n",
      "loop: 0.00014543533325195312\n",
      "loop: 0.00014519691467285156\n"
     ]
    },
    {
     "name": "stderr",
     "output_type": "stream",
     "text": [
      " 64%|██████▍   | 657/1024 [00:41<00:23, 15.87it/s]"
     ]
    },
    {
     "name": "stdout",
     "output_type": "stream",
     "text": [
      "forward: 0.49907660484313965\n",
      "storing: 0.0006518363952636719\n",
      "loop: 0.0010542869567871094\n",
      "loop: 0.0001614093780517578\n",
      "loop: 0.00015687942504882812\n",
      "loop: 0.00015163421630859375\n",
      "loop: 0.0001513957977294922\n",
      "loop: 0.00014591217041015625\n",
      "loop: 0.00013828277587890625\n",
      "loop: 0.00014495849609375\n"
     ]
    },
    {
     "name": "stderr",
     "output_type": "stream",
     "text": [
      " 65%|██████▍   | 665/1024 [00:42<00:22, 15.87it/s]"
     ]
    },
    {
     "name": "stdout",
     "output_type": "stream",
     "text": [
      "forward: 0.5001862049102783\n",
      "storing: 0.0006554126739501953\n",
      "loop: 0.00029659271240234375\n",
      "loop: 0.00016164779663085938\n",
      "loop: 0.00047516822814941406\n",
      "loop: 0.00018215179443359375\n",
      "loop: 0.00015854835510253906\n",
      "loop: 0.0001418590545654297\n",
      "loop: 0.0001423358917236328\n",
      "loop: 0.00014925003051757812\n"
     ]
    },
    {
     "name": "stderr",
     "output_type": "stream",
     "text": [
      " 66%|██████▌   | 673/1024 [00:42<00:22, 15.88it/s]"
     ]
    },
    {
     "name": "stdout",
     "output_type": "stream",
     "text": [
      "forward: 0.49947071075439453\n",
      "storing: 0.0006639957427978516\n",
      "loop: 0.0002942085266113281\n",
      "loop: 0.00016736984252929688\n",
      "loop: 0.00015664100646972656\n",
      "loop: 0.00014829635620117188\n",
      "loop: 0.00015282630920410156\n",
      "loop: 0.00015592575073242188\n",
      "loop: 0.000148773193359375\n",
      "loop: 0.00014138221740722656\n"
     ]
    },
    {
     "name": "stderr",
     "output_type": "stream",
     "text": [
      " 67%|██████▋   | 681/1024 [00:43<00:21, 15.90it/s]"
     ]
    },
    {
     "name": "stdout",
     "output_type": "stream",
     "text": [
      "forward: 0.49887800216674805\n",
      "storing: 0.0005507469177246094\n",
      "loop: 0.0002493858337402344\n",
      "loop: 0.0001556873321533203\n",
      "loop: 0.0001494884490966797\n",
      "loop: 0.00015425682067871094\n",
      "loop: 0.00014090538024902344\n",
      "loop: 0.00014734268188476562\n",
      "loop: 0.00015473365783691406\n",
      "loop: 0.0006020069122314453\n"
     ]
    },
    {
     "name": "stderr",
     "output_type": "stream",
     "text": [
      " 67%|██████▋   | 689/1024 [00:43<00:21, 15.90it/s]"
     ]
    },
    {
     "name": "stdout",
     "output_type": "stream",
     "text": [
      "forward: 0.49962520599365234\n",
      "storing: 0.0006754398345947266\n",
      "loop: 0.00029015541076660156\n",
      "loop: 0.0001609325408935547\n",
      "loop: 0.0001475811004638672\n",
      "loop: 0.00016260147094726562\n",
      "loop: 0.00015211105346679688\n",
      "loop: 0.0001480579376220703\n",
      "loop: 0.00014066696166992188\n",
      "loop: 0.00014853477478027344\n"
     ]
    },
    {
     "name": "stderr",
     "output_type": "stream",
     "text": [
      " 68%|██████▊   | 697/1024 [00:44<00:20, 15.89it/s]"
     ]
    },
    {
     "name": "stdout",
     "output_type": "stream",
     "text": [
      "forward: 0.5000889301300049\n",
      "storing: 0.0006570816040039062\n",
      "loop: 0.00028395652770996094\n",
      "loop: 0.00017189979553222656\n",
      "loop: 0.0001456737518310547\n",
      "loop: 0.00015234947204589844\n",
      "loop: 0.000148773193359375\n",
      "loop: 0.00014710426330566406\n",
      "loop: 0.00013971328735351562\n",
      "loop: 0.00015592575073242188\n"
     ]
    },
    {
     "name": "stderr",
     "output_type": "stream",
     "text": [
      " 69%|██████▉   | 705/1024 [00:44<00:20, 15.87it/s]"
     ]
    },
    {
     "name": "stdout",
     "output_type": "stream",
     "text": [
      "forward: 0.5013256072998047\n",
      "storing: 0.0014286041259765625\n",
      "loop: 0.00029921531677246094\n",
      "loop: 0.00015974044799804688\n",
      "loop: 0.00014591217041015625\n",
      "loop: 0.0001430511474609375\n",
      "loop: 0.00016260147094726562\n",
      "loop: 0.00021982192993164062\n",
      "loop: 0.000148773193359375\n",
      "loop: 0.00015234947204589844\n"
     ]
    },
    {
     "name": "stderr",
     "output_type": "stream",
     "text": [
      " 70%|██████▉   | 713/1024 [00:45<00:19, 15.88it/s]"
     ]
    },
    {
     "name": "stdout",
     "output_type": "stream",
     "text": [
      "forward: 0.49952244758605957\n",
      "storing: 0.0006551742553710938\n",
      "loop: 0.000293731689453125\n",
      "loop: 0.0001575946807861328\n",
      "loop: 0.00014591217041015625\n",
      "loop: 0.0001647472381591797\n",
      "loop: 0.00015473365783691406\n",
      "loop: 0.00015115737915039062\n",
      "loop: 0.00014829635620117188\n",
      "loop: 0.0001461505889892578\n"
     ]
    },
    {
     "name": "stderr",
     "output_type": "stream",
     "text": [
      " 70%|███████   | 721/1024 [00:45<00:19, 15.88it/s]"
     ]
    },
    {
     "name": "stdout",
     "output_type": "stream",
     "text": [
      "forward: 0.5001938343048096\n",
      "storing: 0.0006511211395263672\n",
      "loop: 0.0003063678741455078\n",
      "loop: 0.0001652240753173828\n",
      "loop: 0.0001475811004638672\n",
      "loop: 0.0001513957977294922\n",
      "loop: 0.00014138221740722656\n",
      "loop: 0.00015211105346679688\n",
      "loop: 0.00014591217041015625\n",
      "loop: 0.00014591217041015625\n"
     ]
    },
    {
     "name": "stderr",
     "output_type": "stream",
     "text": [
      " 71%|███████   | 729/1024 [00:46<00:18, 15.82it/s]"
     ]
    },
    {
     "name": "stdout",
     "output_type": "stream",
     "text": [
      "forward: 0.5003018379211426\n",
      "storing: 0.0006580352783203125\n",
      "loop: 0.0002918243408203125\n",
      "loop: 0.00016927719116210938\n",
      "loop: 0.0001556873321533203\n",
      "loop: 0.0001468658447265625\n",
      "loop: 0.0001614093780517578\n",
      "loop: 0.0001468658447265625\n",
      "loop: 0.0001456737518310547\n",
      "loop: 0.00014781951904296875\n"
     ]
    },
    {
     "name": "stderr",
     "output_type": "stream",
     "text": [
      " 72%|███████▏  | 737/1024 [00:46<00:18, 15.84it/s]"
     ]
    },
    {
     "name": "stdout",
     "output_type": "stream",
     "text": [
      "forward: 0.49984264373779297\n",
      "storing: 0.0006520748138427734\n",
      "loop: 0.0002853870391845703\n",
      "loop: 0.00016808509826660156\n",
      "loop: 0.0001468658447265625\n",
      "loop: 0.0006856918334960938\n",
      "loop: 0.0001690387725830078\n",
      "loop: 0.00014972686767578125\n",
      "loop: 0.00014638900756835938\n",
      "loop: 0.00014638900756835938\n"
     ]
    },
    {
     "name": "stderr",
     "output_type": "stream",
     "text": [
      " 73%|███████▎  | 745/1024 [00:47<00:17, 15.80it/s]"
     ]
    },
    {
     "name": "stdout",
     "output_type": "stream",
     "text": [
      "forward: 0.4991006851196289\n",
      "storing: 0.0072443485260009766\n",
      "loop: 0.0002818107604980469\n",
      "loop: 0.00016999244689941406\n",
      "loop: 0.00014853477478027344\n",
      "loop: 0.000152587890625\n",
      "loop: 0.00014019012451171875\n",
      "loop: 0.00014853477478027344\n",
      "loop: 0.0001533031463623047\n",
      "loop: 0.0001442432403564453\n"
     ]
    },
    {
     "name": "stderr",
     "output_type": "stream",
     "text": [
      " 74%|███████▎  | 753/1024 [00:47<00:17, 15.84it/s]"
     ]
    },
    {
     "name": "stdout",
     "output_type": "stream",
     "text": [
      "forward: 0.49881887435913086\n",
      "storing: 0.0006482601165771484\n",
      "loop: 0.0002884864807128906\n",
      "loop: 0.0029098987579345703\n",
      "loop: 0.00017905235290527344\n",
      "loop: 0.00048542022705078125\n",
      "loop: 0.00016546249389648438\n",
      "loop: 0.00014448165893554688\n",
      "loop: 0.00014543533325195312\n",
      "loop: 0.00013899803161621094\n"
     ]
    },
    {
     "name": "stderr",
     "output_type": "stream",
     "text": [
      " 74%|███████▍  | 761/1024 [00:48<00:16, 15.82it/s]"
     ]
    },
    {
     "name": "stdout",
     "output_type": "stream",
     "text": [
      "forward: 0.5007212162017822\n",
      "storing: 0.0006532669067382812\n",
      "loop: 0.0002942085266113281\n",
      "loop: 0.0001697540283203125\n",
      "loop: 0.00015807151794433594\n",
      "loop: 0.00015497207641601562\n",
      "loop: 0.00014352798461914062\n",
      "loop: 0.0001518726348876953\n",
      "loop: 0.0001430511474609375\n",
      "loop: 0.00014972686767578125\n"
     ]
    },
    {
     "name": "stderr",
     "output_type": "stream",
     "text": [
      " 75%|███████▌  | 769/1024 [00:48<00:16, 15.78it/s]"
     ]
    },
    {
     "name": "stdout",
     "output_type": "stream",
     "text": [
      "forward: 0.49962496757507324\n",
      "storing: 0.007269859313964844\n",
      "loop: 0.000301361083984375\n",
      "loop: 0.00017189979553222656\n",
      "loop: 0.00015735626220703125\n",
      "loop: 0.00014591217041015625\n",
      "loop: 0.00014138221740722656\n",
      "loop: 0.0001518726348876953\n",
      "loop: 0.00014781951904296875\n",
      "loop: 0.000152587890625\n"
     ]
    },
    {
     "name": "stderr",
     "output_type": "stream",
     "text": [
      " 76%|███████▌  | 777/1024 [00:49<00:15, 15.82it/s]"
     ]
    },
    {
     "name": "stdout",
     "output_type": "stream",
     "text": [
      "forward: 0.4998342990875244\n",
      "storing: 0.0006539821624755859\n",
      "loop: 0.00030112266540527344\n",
      "loop: 0.00016450881958007812\n",
      "loop: 0.00014472007751464844\n",
      "loop: 0.00014257431030273438\n",
      "loop: 0.00014591217041015625\n",
      "loop: 0.0001494884490966797\n",
      "loop: 0.0001518726348876953\n",
      "loop: 0.00014972686767578125\n"
     ]
    },
    {
     "name": "stderr",
     "output_type": "stream",
     "text": [
      " 77%|███████▋  | 785/1024 [00:49<00:15, 15.84it/s]"
     ]
    },
    {
     "name": "stdout",
     "output_type": "stream",
     "text": [
      "forward: 0.4997835159301758\n",
      "storing: 0.0006561279296875\n",
      "loop: 0.00030422210693359375\n",
      "loop: 0.00016641616821289062\n",
      "loop: 0.0001461505889892578\n",
      "loop: 0.0001437664031982422\n",
      "loop: 0.00015687942504882812\n",
      "loop: 0.00015354156494140625\n",
      "loop: 0.0001518726348876953\n",
      "loop: 0.00015115737915039062\n"
     ]
    },
    {
     "name": "stderr",
     "output_type": "stream",
     "text": [
      " 77%|███████▋  | 793/1024 [00:50<00:14, 15.83it/s]"
     ]
    },
    {
     "name": "stdout",
     "output_type": "stream",
     "text": [
      "forward: 0.5030472278594971\n",
      "storing: 0.0006620883941650391\n",
      "loop: 0.00028967857360839844\n",
      "loop: 0.00016427040100097656\n",
      "loop: 0.00015997886657714844\n",
      "loop: 0.0001437664031982422\n",
      "loop: 0.0001456737518310547\n",
      "loop: 0.0001513957977294922\n",
      "loop: 0.0001537799835205078\n",
      "loop: 0.00014472007751464844\n"
     ]
    },
    {
     "name": "stderr",
     "output_type": "stream",
     "text": [
      " 78%|███████▊  | 801/1024 [00:50<00:14, 15.84it/s]"
     ]
    },
    {
     "name": "stdout",
     "output_type": "stream",
     "text": [
      "forward: 0.5013442039489746\n",
      "storing: 0.0006618499755859375\n",
      "loop: 0.0003044605255126953\n",
      "loop: 0.00016164779663085938\n",
      "loop: 0.0007154941558837891\n",
      "loop: 0.00016951560974121094\n",
      "loop: 0.0001423358917236328\n",
      "loop: 0.00015044212341308594\n",
      "loop: 0.00014734268188476562\n",
      "loop: 0.0001468658447265625\n"
     ]
    },
    {
     "name": "stderr",
     "output_type": "stream",
     "text": [
      " 79%|███████▉  | 809/1024 [00:51<00:13, 15.84it/s]"
     ]
    },
    {
     "name": "stdout",
     "output_type": "stream",
     "text": [
      "forward: 0.5006616115570068\n",
      "storing: 0.0006496906280517578\n",
      "loop: 0.0002899169921875\n",
      "loop: 0.00016427040100097656\n",
      "loop: 0.00015854835510253906\n",
      "loop: 0.00014162063598632812\n",
      "loop: 0.00014090538024902344\n",
      "loop: 0.00015306472778320312\n",
      "loop: 0.00015425682067871094\n",
      "loop: 0.00014352798461914062\n"
     ]
    },
    {
     "name": "stderr",
     "output_type": "stream",
     "text": [
      " 80%|███████▉  | 817/1024 [00:51<00:13, 15.86it/s]"
     ]
    },
    {
     "name": "stdout",
     "output_type": "stream",
     "text": [
      "forward: 0.5001649856567383\n",
      "storing: 0.0006573200225830078\n",
      "loop: 0.0003216266632080078\n",
      "loop: 0.00016927719116210938\n",
      "loop: 0.0001437664031982422\n",
      "loop: 0.0001513957977294922\n",
      "loop: 0.00016260147094726562\n",
      "loop: 0.00014853477478027344\n",
      "loop: 0.00014090538024902344\n",
      "loop: 0.0001480579376220703\n"
     ]
    },
    {
     "name": "stderr",
     "output_type": "stream",
     "text": [
      " 81%|████████  | 825/1024 [00:52<00:12, 15.81it/s]"
     ]
    },
    {
     "name": "stdout",
     "output_type": "stream",
     "text": [
      "forward: 0.49973177909851074\n",
      "storing: 0.0006575584411621094\n",
      "loop: 0.0002880096435546875\n",
      "loop: 0.00015592575073242188\n",
      "loop: 0.00014495849609375\n",
      "loop: 0.00014925003051757812\n",
      "loop: 0.00015544891357421875\n",
      "loop: 0.00013971328735351562\n",
      "loop: 0.00014972686767578125\n",
      "loop: 0.0001418590545654297\n"
     ]
    },
    {
     "name": "stderr",
     "output_type": "stream",
     "text": [
      " 81%|████████▏ | 833/1024 [00:52<00:12, 15.84it/s]"
     ]
    },
    {
     "name": "stdout",
     "output_type": "stream",
     "text": [
      "forward: 0.5001428127288818\n",
      "storing: 0.0006558895111083984\n",
      "loop: 0.0003018379211425781\n",
      "loop: 0.00017261505126953125\n",
      "loop: 0.0001552104949951172\n",
      "loop: 0.0001418590545654297\n",
      "loop: 0.00014257431030273438\n",
      "loop: 0.00014734268188476562\n",
      "loop: 0.00014352798461914062\n",
      "loop: 0.00015425682067871094\n"
     ]
    },
    {
     "name": "stderr",
     "output_type": "stream",
     "text": [
      " 82%|████████▏ | 841/1024 [00:53<00:11, 15.82it/s]"
     ]
    },
    {
     "name": "stdout",
     "output_type": "stream",
     "text": [
      "forward: 0.503695011138916\n",
      "storing: 0.0006530284881591797\n",
      "loop: 0.0003082752227783203\n",
      "loop: 0.00015497207641601562\n",
      "loop: 0.00015306472778320312\n",
      "loop: 0.0001404285430908203\n",
      "loop: 0.00014138221740722656\n",
      "loop: 0.00015163421630859375\n",
      "loop: 0.00015354156494140625\n",
      "loop: 0.00014400482177734375\n"
     ]
    },
    {
     "name": "stderr",
     "output_type": "stream",
     "text": [
      " 83%|████████▎ | 849/1024 [00:53<00:11, 15.83it/s]"
     ]
    },
    {
     "name": "stdout",
     "output_type": "stream",
     "text": [
      "forward: 0.5007071495056152\n",
      "storing: 0.0006442070007324219\n",
      "loop: 0.00030493736267089844\n",
      "loop: 0.00017023086547851562\n",
      "loop: 0.0001518726348876953\n",
      "loop: 0.00015473365783691406\n",
      "loop: 0.00014090538024902344\n",
      "loop: 0.00014638900756835938\n",
      "loop: 0.00015044212341308594\n",
      "loop: 0.00015234947204589844\n"
     ]
    },
    {
     "name": "stderr",
     "output_type": "stream",
     "text": [
      " 84%|████████▎ | 857/1024 [00:54<00:10, 15.85it/s]"
     ]
    },
    {
     "name": "stdout",
     "output_type": "stream",
     "text": [
      "forward: 0.5001406669616699\n",
      "storing: 0.0006570816040039062\n",
      "loop: 0.0002884864807128906\n",
      "loop: 0.00016021728515625\n",
      "loop: 0.00015687942504882812\n",
      "loop: 0.00015473365783691406\n",
      "loop: 0.00015425682067871094\n",
      "loop: 0.0001442432403564453\n",
      "loop: 0.00013828277587890625\n",
      "loop: 0.0001392364501953125\n"
     ]
    },
    {
     "name": "stderr",
     "output_type": "stream",
     "text": [
      " 84%|████████▍ | 865/1024 [00:54<00:10, 15.38it/s]"
     ]
    },
    {
     "name": "stdout",
     "output_type": "stream",
     "text": [
      "forward: 0.5530109405517578\n",
      "storing: 0.0006952285766601562\n",
      "loop: 0.000316619873046875\n",
      "loop: 0.000164031982421875\n",
      "loop: 0.00015616416931152344\n",
      "loop: 0.00014352798461914062\n",
      "loop: 0.00014543533325195312\n",
      "loop: 0.00014781951904296875\n",
      "loop: 0.000148773193359375\n",
      "loop: 0.00015544891357421875\n"
     ]
    },
    {
     "name": "stderr",
     "output_type": "stream",
     "text": [
      " 85%|████████▌ | 873/1024 [00:55<00:09, 15.54it/s]"
     ]
    },
    {
     "name": "stdout",
     "output_type": "stream",
     "text": [
      "forward: 0.4991297721862793\n",
      "storing: 0.0006647109985351562\n",
      "loop: 0.0002875328063964844\n",
      "loop: 0.0001652240753173828\n",
      "loop: 0.00016021728515625\n",
      "loop: 0.00014638900756835938\n",
      "loop: 0.0001583099365234375\n",
      "loop: 0.00015211105346679688\n",
      "loop: 0.00014638900756835938\n",
      "loop: 0.00013971328735351562\n"
     ]
    },
    {
     "name": "stderr",
     "output_type": "stream",
     "text": [
      " 86%|████████▌ | 881/1024 [00:56<00:09, 15.64it/s]"
     ]
    },
    {
     "name": "stdout",
     "output_type": "stream",
     "text": [
      "forward: 0.5006763935089111\n",
      "storing: 0.0006666183471679688\n",
      "loop: 0.00031113624572753906\n",
      "loop: 0.00016188621520996094\n",
      "loop: 0.00014495849609375\n",
      "loop: 0.00014829635620117188\n",
      "loop: 0.00014328956604003906\n",
      "loop: 0.0001480579376220703\n",
      "loop: 0.00014519691467285156\n",
      "loop: 0.00014328956604003906\n"
     ]
    },
    {
     "name": "stderr",
     "output_type": "stream",
     "text": [
      " 87%|████████▋ | 889/1024 [00:56<00:08, 15.69it/s]"
     ]
    },
    {
     "name": "stdout",
     "output_type": "stream",
     "text": [
      "forward: 0.5015907287597656\n",
      "storing: 0.0006506443023681641\n",
      "loop: 0.00029158592224121094\n",
      "loop: 0.00015497207641601562\n",
      "loop: 0.00015306472778320312\n",
      "loop: 0.00014734268188476562\n",
      "loop: 0.00014591217041015625\n",
      "loop: 0.00014901161193847656\n",
      "loop: 0.0001614093780517578\n",
      "loop: 0.000152587890625\n"
     ]
    },
    {
     "name": "stderr",
     "output_type": "stream",
     "text": [
      " 88%|████████▊ | 897/1024 [00:57<00:08, 15.74it/s]"
     ]
    },
    {
     "name": "stdout",
     "output_type": "stream",
     "text": [
      "forward: 0.5012190341949463\n",
      "storing: 0.0006537437438964844\n",
      "loop: 0.0002887248992919922\n",
      "loop: 0.00016546249389648438\n",
      "loop: 0.00016069412231445312\n",
      "loop: 0.00014638900756835938\n",
      "loop: 0.0001404285430908203\n",
      "loop: 0.0001437664031982422\n",
      "loop: 0.00015473365783691406\n",
      "loop: 0.0001506805419921875\n"
     ]
    },
    {
     "name": "stderr",
     "output_type": "stream",
     "text": [
      " 88%|████████▊ | 905/1024 [00:57<00:07, 15.78it/s]"
     ]
    },
    {
     "name": "stdout",
     "output_type": "stream",
     "text": [
      "forward: 0.5011110305786133\n",
      "storing: 0.0006506443023681641\n",
      "loop: 0.0002923011779785156\n",
      "loop: 0.0001590251922607422\n",
      "loop: 0.00015091896057128906\n",
      "loop: 0.00015616416931152344\n",
      "loop: 0.00015401840209960938\n",
      "loop: 0.00015664100646972656\n",
      "loop: 0.00014710426330566406\n",
      "loop: 0.00014734268188476562\n"
     ]
    },
    {
     "name": "stderr",
     "output_type": "stream",
     "text": [
      " 89%|████████▉ | 913/1024 [00:58<00:07, 15.81it/s]"
     ]
    },
    {
     "name": "stdout",
     "output_type": "stream",
     "text": [
      "forward: 0.5001869201660156\n",
      "storing: 0.0006623268127441406\n",
      "loop: 0.0002970695495605469\n",
      "loop: 0.00016045570373535156\n",
      "loop: 0.00043392181396484375\n",
      "loop: 0.00017309188842773438\n",
      "loop: 0.00015497207641601562\n",
      "loop: 0.005606889724731445\n",
      "loop: 0.0001709461212158203\n",
      "loop: 0.00014710426330566406\n"
     ]
    },
    {
     "name": "stderr",
     "output_type": "stream",
     "text": [
      " 90%|████████▉ | 921/1024 [00:58<00:06, 15.76it/s]"
     ]
    },
    {
     "name": "stdout",
     "output_type": "stream",
     "text": [
      "forward: 0.5021224021911621\n",
      "storing: 0.0006568431854248047\n",
      "loop: 0.0003173351287841797\n",
      "loop: 0.00015497207641601562\n",
      "loop: 0.00014400482177734375\n",
      "loop: 0.00014662742614746094\n",
      "loop: 0.00014066696166992188\n",
      "loop: 0.00014400482177734375\n",
      "loop: 0.0001513957977294922\n",
      "loop: 0.00015163421630859375\n"
     ]
    },
    {
     "name": "stderr",
     "output_type": "stream",
     "text": [
      " 91%|█████████ | 929/1024 [00:59<00:06, 15.79it/s]"
     ]
    },
    {
     "name": "stdout",
     "output_type": "stream",
     "text": [
      "forward: 0.5012166500091553\n",
      "storing: 0.0006659030914306641\n",
      "loop: 0.0003032684326171875\n",
      "loop: 0.0001652240753173828\n",
      "loop: 0.00016570091247558594\n",
      "loop: 0.0001556873321533203\n",
      "loop: 0.0001513957977294922\n",
      "loop: 0.0001437664031982422\n",
      "loop: 0.00015044212341308594\n",
      "loop: 0.0001518726348876953\n"
     ]
    },
    {
     "name": "stderr",
     "output_type": "stream",
     "text": [
      " 92%|█████████▏| 937/1024 [00:59<00:05, 15.79it/s]"
     ]
    },
    {
     "name": "stdout",
     "output_type": "stream",
     "text": [
      "forward: 0.5033700466156006\n",
      "storing: 0.0006661415100097656\n",
      "loop: 0.0002942085266113281\n",
      "loop: 0.0004551410675048828\n",
      "loop: 0.00017309188842773438\n",
      "loop: 0.0001437664031982422\n",
      "loop: 0.0001480579376220703\n",
      "loop: 0.0004169940948486328\n",
      "loop: 0.0001513957977294922\n",
      "loop: 0.00015020370483398438\n"
     ]
    },
    {
     "name": "stderr",
     "output_type": "stream",
     "text": [
      " 92%|█████████▏| 945/1024 [01:00<00:04, 15.80it/s]"
     ]
    },
    {
     "name": "stdout",
     "output_type": "stream",
     "text": [
      "forward: 0.5011141300201416\n",
      "storing: 0.000545501708984375\n",
      "loop: 0.00022673606872558594\n",
      "loop: 0.0001678466796875\n",
      "loop: 0.00015425682067871094\n",
      "loop: 0.000156402587890625\n",
      "loop: 0.00015091896057128906\n",
      "loop: 0.0001499652862548828\n",
      "loop: 0.0006277561187744141\n",
      "loop: 0.0001628398895263672\n"
     ]
    },
    {
     "name": "stderr",
     "output_type": "stream",
     "text": [
      " 93%|█████████▎| 953/1024 [01:00<00:04, 15.82it/s]"
     ]
    },
    {
     "name": "stdout",
     "output_type": "stream",
     "text": [
      "forward: 0.5007095336914062\n",
      "storing: 0.0006630420684814453\n",
      "loop: 0.00027489662170410156\n",
      "loop: 0.0001628398895263672\n",
      "loop: 0.00014328956604003906\n",
      "loop: 0.00015091896057128906\n",
      "loop: 0.00015425682067871094\n",
      "loop: 0.00014090538024902344\n",
      "loop: 0.0006613731384277344\n",
      "loop: 0.00019049644470214844\n"
     ]
    },
    {
     "name": "stderr",
     "output_type": "stream",
     "text": [
      " 94%|█████████▍| 961/1024 [01:01<00:03, 15.81it/s]"
     ]
    },
    {
     "name": "stdout",
     "output_type": "stream",
     "text": [
      "forward: 0.502666711807251\n",
      "storing: 0.0011675357818603516\n",
      "loop: 0.0002872943878173828\n",
      "loop: 0.00016188621520996094\n",
      "loop: 0.0001685619354248047\n",
      "loop: 0.00015592575073242188\n",
      "loop: 0.00015425682067871094\n",
      "loop: 0.00014519691467285156\n",
      "loop: 0.00014328956604003906\n",
      "loop: 0.00014019012451171875\n"
     ]
    },
    {
     "name": "stderr",
     "output_type": "stream",
     "text": [
      " 95%|█████████▍| 969/1024 [01:01<00:03, 15.83it/s]"
     ]
    },
    {
     "name": "stdout",
     "output_type": "stream",
     "text": [
      "forward: 0.5002808570861816\n",
      "storing: 0.0006473064422607422\n",
      "loop: 0.0002944469451904297\n",
      "loop: 0.00015544891357421875\n",
      "loop: 0.00015234947204589844\n",
      "loop: 0.0001430511474609375\n",
      "loop: 0.00015211105346679688\n",
      "loop: 0.0001475811004638672\n",
      "loop: 0.000141143798828125\n",
      "loop: 0.00014019012451171875\n"
     ]
    },
    {
     "name": "stderr",
     "output_type": "stream",
     "text": [
      " 95%|█████████▌| 977/1024 [01:02<00:02, 15.85it/s]"
     ]
    },
    {
     "name": "stdout",
     "output_type": "stream",
     "text": [
      "forward: 0.500434398651123\n",
      "storing: 0.0006697177886962891\n",
      "loop: 0.0003046989440917969\n",
      "loop: 0.00016951560974121094\n",
      "loop: 0.00014853477478027344\n",
      "loop: 0.0001494884490966797\n",
      "loop: 0.0001468658447265625\n",
      "loop: 0.00015306472778320312\n",
      "loop: 0.00015163421630859375\n",
      "loop: 0.000156402587890625\n"
     ]
    },
    {
     "name": "stderr",
     "output_type": "stream",
     "text": [
      " 96%|█████████▌| 985/1024 [01:02<00:02, 15.85it/s]"
     ]
    },
    {
     "name": "stdout",
     "output_type": "stream",
     "text": [
      "forward: 0.501582145690918\n",
      "storing: 0.0006773471832275391\n",
      "loop: 0.0002994537353515625\n",
      "loop: 0.0001735687255859375\n",
      "loop: 0.00014638900756835938\n",
      "loop: 0.00014257431030273438\n",
      "loop: 0.00014090538024902344\n",
      "loop: 0.0001506805419921875\n",
      "loop: 0.0006906986236572266\n",
      "loop: 0.0001552104949951172\n"
     ]
    },
    {
     "name": "stderr",
     "output_type": "stream",
     "text": [
      " 97%|█████████▋| 993/1024 [01:03<00:01, 15.84it/s]"
     ]
    },
    {
     "name": "stdout",
     "output_type": "stream",
     "text": [
      "forward: 0.5020718574523926\n",
      "storing: 0.0006709098815917969\n",
      "loop: 0.00029778480529785156\n",
      "loop: 0.0001633167266845703\n",
      "loop: 0.0001552104949951172\n",
      "loop: 0.00015020370483398438\n",
      "loop: 0.00014901161193847656\n",
      "loop: 0.00015282630920410156\n",
      "loop: 0.00014400482177734375\n",
      "loop: 0.00015687942504882812\n"
     ]
    },
    {
     "name": "stderr",
     "output_type": "stream",
     "text": [
      " 98%|█████████▊| 1001/1024 [01:03<00:01, 15.84it/s]"
     ]
    },
    {
     "name": "stdout",
     "output_type": "stream",
     "text": [
      "forward: 0.5014595985412598\n",
      "storing: 0.00067901611328125\n",
      "loop: 0.00028324127197265625\n",
      "loop: 0.00016880035400390625\n",
      "loop: 0.0001456737518310547\n",
      "loop: 0.00015497207641601562\n",
      "loop: 0.00014138221740722656\n",
      "loop: 0.00015306472778320312\n",
      "loop: 0.00013899803161621094\n",
      "loop: 0.00014853477478027344\n"
     ]
    },
    {
     "name": "stderr",
     "output_type": "stream",
     "text": [
      " 99%|█████████▊| 1009/1024 [01:04<00:00, 15.85it/s]"
     ]
    },
    {
     "name": "stdout",
     "output_type": "stream",
     "text": [
      "forward: 0.5010967254638672\n",
      "storing: 0.0006597042083740234\n",
      "loop: 0.0002853870391845703\n",
      "loop: 0.0001595020294189453\n",
      "loop: 0.00014591217041015625\n",
      "loop: 0.0001423358917236328\n",
      "loop: 0.00015234947204589844\n",
      "loop: 0.00014591217041015625\n",
      "loop: 0.00014019012451171875\n",
      "loop: 0.00014853477478027344\n"
     ]
    },
    {
     "name": "stderr",
     "output_type": "stream",
     "text": [
      "100%|██████████| 1024/1024 [01:04<00:00, 15.85it/s]"
     ]
    },
    {
     "name": "stdout",
     "output_type": "stream",
     "text": [
      "forward: 0.5001440048217773\n",
      "storing: 0.0006654262542724609\n",
      "loop: 0.0002853870391845703\n",
      "loop: 0.00017070770263671875\n",
      "loop: 0.0001533031463623047\n",
      "loop: 0.00014781951904296875\n",
      "loop: 0.0001552104949951172\n",
      "loop: 0.00015354156494140625\n",
      "loop: 0.0001437664031982422\n"
     ]
    },
    {
     "name": "stderr",
     "output_type": "stream",
     "text": [
      "\n"
     ]
    }
   ],
   "source": [
    "#that's a good amount faster! we'll check accuracy later, but what if we just increased b_size?\n",
    "import gc\n",
    "gc.collect()\n",
    "torch.cuda.empty_cache()\n",
    "out = util.calculate_ISM(0, cuda=True, progress_bar = True, return_out=True, b_size = 8) #takes about 60 GB of memory..."
   ]
  },
  {
   "cell_type": "code",
   "execution_count": 6,
   "metadata": {},
   "outputs": [
    {
     "name": "stderr",
     "output_type": "stream",
     "text": [
      "  0%|          | 3/1024 [00:00<00:53, 19.03it/s]"
     ]
    },
    {
     "name": "stdout",
     "output_type": "stream",
     "text": [
      "setup: 0.22580790519714355\n",
      "loop: 0.00023508071899414062\n",
      "forward: 0.09164953231811523\n",
      "storing: 0.00016236305236816406\n",
      "loop: 0.0002300739288330078\n",
      "forward: 0.062085628509521484\n",
      "storing: 0.0001838207244873047\n",
      "loop: 0.0002837181091308594\n"
     ]
    },
    {
     "name": "stderr",
     "output_type": "stream",
     "text": [
      "  1%|          | 7/1024 [00:00<01:01, 16.55it/s]"
     ]
    },
    {
     "name": "stdout",
     "output_type": "stream",
     "text": [
      "forward: 0.06327033042907715\n",
      "storing: 0.0001671314239501953\n",
      "loop: 0.0003597736358642578\n",
      "forward: 0.06259608268737793\n",
      "storing: 0.00014257431030273438\n",
      "loop: 0.0002703666687011719\n",
      "forward: 0.06226086616516113\n",
      "storing: 0.0001685619354248047\n",
      "loop: 0.00021958351135253906\n",
      "forward: 0.06245684623718262\n",
      "storing: 0.0002048015594482422\n",
      "loop: 0.00028586387634277344\n"
     ]
    },
    {
     "name": "stderr",
     "output_type": "stream",
     "text": [
      "  1%|          | 11/1024 [00:00<01:03, 16.02it/s]"
     ]
    },
    {
     "name": "stdout",
     "output_type": "stream",
     "text": [
      "forward: 0.06385493278503418\n",
      "storing: 0.00021219253540039062\n",
      "loop: 0.00024509429931640625\n",
      "forward: 0.062175750732421875\n",
      "storing: 0.000179290771484375\n",
      "loop: 0.0002760887145996094\n",
      "forward: 0.06209588050842285\n",
      "storing: 0.0001442432403564453\n",
      "loop: 0.0002205371856689453\n",
      "forward: 0.06263041496276855\n",
      "storing: 0.00020241737365722656\n",
      "loop: 0.00027871131896972656\n"
     ]
    },
    {
     "name": "stderr",
     "output_type": "stream",
     "text": [
      "  1%|▏         | 15/1024 [00:00<01:03, 15.81it/s]"
     ]
    },
    {
     "name": "stdout",
     "output_type": "stream",
     "text": [
      "forward: 0.06342530250549316\n",
      "storing: 0.00018525123596191406\n",
      "loop: 0.00022912025451660156\n",
      "forward: 0.06237149238586426\n",
      "storing: 0.00014519691467285156\n",
      "loop: 0.00027298927307128906\n",
      "forward: 0.06267237663269043\n",
      "storing: 0.00016832351684570312\n",
      "loop: 0.00022745132446289062\n",
      "forward: 0.06256794929504395\n",
      "storing: 0.0002624988555908203\n",
      "loop: 0.0002636909484863281\n"
     ]
    },
    {
     "name": "stderr",
     "output_type": "stream",
     "text": [
      "  2%|▏         | 19/1024 [00:01<01:03, 15.72it/s]"
     ]
    },
    {
     "name": "stdout",
     "output_type": "stream",
     "text": [
      "forward: 0.06372714042663574\n",
      "storing: 0.0001690387725830078\n",
      "loop: 0.00023293495178222656\n",
      "forward: 0.06222057342529297\n",
      "storing: 0.00022721290588378906\n",
      "loop: 0.0002949237823486328\n",
      "forward: 0.06261515617370605\n",
      "storing: 0.00014853477478027344\n",
      "loop: 0.00024390220642089844\n",
      "forward: 0.06247854232788086\n",
      "storing: 0.00017690658569335938\n",
      "loop: 0.0002758502960205078\n"
     ]
    },
    {
     "name": "stderr",
     "output_type": "stream",
     "text": [
      "  2%|▏         | 23/1024 [00:01<01:03, 15.75it/s]"
     ]
    },
    {
     "name": "stdout",
     "output_type": "stream",
     "text": [
      "forward: 0.06359529495239258\n",
      "storing: 0.00018167495727539062\n",
      "loop: 0.0002377033233642578\n",
      "forward: 0.0621488094329834\n",
      "storing: 0.00018858909606933594\n",
      "loop: 0.00028514862060546875\n",
      "forward: 0.061769962310791016\n",
      "storing: 0.0001838207244873047\n",
      "loop: 0.00023627281188964844\n",
      "forward: 0.06173276901245117\n",
      "storing: 0.00018405914306640625\n",
      "loop: 0.0002732276916503906\n"
     ]
    },
    {
     "name": "stderr",
     "output_type": "stream",
     "text": [
      "  3%|▎         | 27/1024 [00:01<01:03, 15.77it/s]"
     ]
    },
    {
     "name": "stdout",
     "output_type": "stream",
     "text": [
      "forward: 0.06277656555175781\n",
      "storing: 0.00018095970153808594\n",
      "loop: 0.00023484230041503906\n",
      "forward: 0.06225776672363281\n",
      "storing: 0.000186920166015625\n",
      "loop: 0.000278472900390625\n",
      "forward: 0.06175494194030762\n",
      "storing: 0.00018525123596191406\n",
      "loop: 0.0003800392150878906\n",
      "forward: 0.06187796592712402\n",
      "storing: 0.00014328956604003906\n",
      "loop: 0.0002696514129638672\n"
     ]
    },
    {
     "name": "stderr",
     "output_type": "stream",
     "text": [
      "  3%|▎         | 31/1024 [00:01<01:02, 15.77it/s]"
     ]
    },
    {
     "name": "stdout",
     "output_type": "stream",
     "text": [
      "forward: 0.06337904930114746\n",
      "storing: 0.00018095970153808594\n",
      "loop: 0.00024271011352539062\n",
      "forward: 0.06257033348083496\n",
      "storing: 0.00017762184143066406\n",
      "loop: 0.0002715587615966797\n",
      "forward: 0.06172490119934082\n",
      "storing: 0.00016498565673828125\n",
      "loop: 0.00021696090698242188\n",
      "forward: 0.06172442436218262\n",
      "storing: 0.00016999244689941406\n",
      "loop: 0.00026416778564453125\n"
     ]
    },
    {
     "name": "stderr",
     "output_type": "stream",
     "text": [
      "  3%|▎         | 35/1024 [00:02<01:02, 15.76it/s]"
     ]
    },
    {
     "name": "stdout",
     "output_type": "stream",
     "text": [
      "forward: 0.06326103210449219\n",
      "storing: 0.00017905235290527344\n",
      "loop: 0.000240325927734375\n",
      "forward: 0.06183767318725586\n",
      "storing: 0.00018453598022460938\n",
      "loop: 0.00026988983154296875\n",
      "forward: 0.061797142028808594\n",
      "storing: 0.0001838207244873047\n",
      "loop: 0.00022721290588378906\n",
      "forward: 0.06241273880004883\n",
      "storing: 0.00018906593322753906\n",
      "loop: 0.00027179718017578125\n"
     ]
    },
    {
     "name": "stderr",
     "output_type": "stream",
     "text": [
      "  4%|▍         | 39/1024 [00:02<01:02, 15.80it/s]"
     ]
    },
    {
     "name": "stdout",
     "output_type": "stream",
     "text": [
      "forward: 0.0633087158203125\n",
      "storing: 0.00019288063049316406\n",
      "loop: 0.00024056434631347656\n",
      "forward: 0.06172513961791992\n",
      "storing: 0.0001862049102783203\n",
      "loop: 0.0002810955047607422\n",
      "forward: 0.06157112121582031\n",
      "storing: 0.0001399517059326172\n",
      "loop: 0.0002262592315673828\n",
      "forward: 0.06161212921142578\n",
      "storing: 0.0001900196075439453\n",
      "loop: 0.00027251243591308594\n"
     ]
    },
    {
     "name": "stderr",
     "output_type": "stream",
     "text": [
      "  4%|▍         | 43/1024 [00:02<01:02, 15.71it/s]"
     ]
    },
    {
     "name": "stdout",
     "output_type": "stream",
     "text": [
      "forward: 0.06285595893859863\n",
      "storing: 0.00019359588623046875\n",
      "loop: 0.0002353191375732422\n",
      "forward: 0.062238454818725586\n",
      "storing: 0.00022363662719726562\n",
      "loop: 0.00028395652770996094\n",
      "forward: 0.06432533264160156\n",
      "storing: 0.0001983642578125\n",
      "loop: 0.00023293495178222656\n",
      "forward: 0.06174659729003906\n",
      "storing: 0.00018715858459472656\n",
      "loop: 0.0002918243408203125\n"
     ]
    },
    {
     "name": "stderr",
     "output_type": "stream",
     "text": [
      "  5%|▍         | 47/1024 [00:02<01:01, 15.77it/s]"
     ]
    },
    {
     "name": "stdout",
     "output_type": "stream",
     "text": [
      "forward: 0.06278038024902344\n",
      "storing: 0.00020360946655273438\n",
      "loop: 0.0002357959747314453\n",
      "forward: 0.061652183532714844\n",
      "storing: 0.00018286705017089844\n",
      "loop: 0.00026679039001464844\n",
      "forward: 0.06164073944091797\n",
      "storing: 0.00019121170043945312\n",
      "loop: 0.0002415180206298828\n",
      "forward: 0.06211066246032715\n",
      "storing: 0.000186920166015625\n",
      "loop: 0.00028204917907714844\n"
     ]
    },
    {
     "name": "stderr",
     "output_type": "stream",
     "text": [
      "  5%|▍         | 51/1024 [00:03<01:01, 15.78it/s]"
     ]
    },
    {
     "name": "stdout",
     "output_type": "stream",
     "text": [
      "forward: 0.06282496452331543\n",
      "storing: 0.00019216537475585938\n",
      "loop: 0.00024771690368652344\n",
      "forward: 0.06162071228027344\n",
      "storing: 0.00018024444580078125\n",
      "loop: 0.0002739429473876953\n",
      "forward: 0.06180000305175781\n",
      "storing: 0.0001697540283203125\n",
      "loop: 0.00023603439331054688\n",
      "forward: 0.06221318244934082\n",
      "storing: 0.00014328956604003906\n",
      "loop: 0.00025963783264160156\n"
     ]
    },
    {
     "name": "stderr",
     "output_type": "stream",
     "text": [
      "  5%|▌         | 55/1024 [00:03<01:01, 15.79it/s]"
     ]
    },
    {
     "name": "stdout",
     "output_type": "stream",
     "text": [
      "forward: 0.06319451332092285\n",
      "storing: 0.0001926422119140625\n",
      "loop: 0.00023674964904785156\n",
      "forward: 0.061643123626708984\n",
      "storing: 0.00018286705017089844\n",
      "loop: 0.0002713203430175781\n",
      "forward: 0.061687469482421875\n",
      "storing: 0.00019097328186035156\n",
      "loop: 0.000247955322265625\n",
      "forward: 0.06215167045593262\n",
      "storing: 0.0001990795135498047\n",
      "loop: 0.0002815723419189453\n"
     ]
    },
    {
     "name": "stderr",
     "output_type": "stream",
     "text": [
      "  6%|▌         | 59/1024 [00:03<01:01, 15.76it/s]"
     ]
    },
    {
     "name": "stdout",
     "output_type": "stream",
     "text": [
      "forward: 0.06334137916564941\n",
      "storing: 0.0001761913299560547\n",
      "loop: 0.00022721290588378906\n",
      "forward: 0.06184840202331543\n",
      "storing: 0.0001575946807861328\n",
      "loop: 0.0002720355987548828\n",
      "forward: 0.06225252151489258\n",
      "storing: 0.00020194053649902344\n",
      "loop: 0.000255584716796875\n",
      "forward: 0.06220602989196777\n",
      "storing: 0.00014543533325195312\n",
      "loop: 0.0002815723419189453\n"
     ]
    },
    {
     "name": "stderr",
     "output_type": "stream",
     "text": [
      "  6%|▌         | 63/1024 [00:03<01:01, 15.61it/s]"
     ]
    },
    {
     "name": "stdout",
     "output_type": "stream",
     "text": [
      "forward: 0.06298685073852539\n",
      "storing: 0.0001811981201171875\n",
      "loop: 0.0002281665802001953\n",
      "forward: 0.06174921989440918\n",
      "storing: 0.0001952648162841797\n",
      "loop: 0.000274658203125\n",
      "forward: 0.06209707260131836\n",
      "storing: 0.0001773834228515625\n",
      "loop: 0.000225067138671875\n",
      "forward: 0.06626415252685547\n",
      "storing: 0.00022172927856445312\n",
      "loop: 0.0002837181091308594\n"
     ]
    },
    {
     "name": "stderr",
     "output_type": "stream",
     "text": [
      "  7%|▋         | 67/1024 [00:04<01:01, 15.52it/s]"
     ]
    },
    {
     "name": "stdout",
     "output_type": "stream",
     "text": [
      "forward: 0.0631568431854248\n",
      "storing: 0.0001914501190185547\n",
      "loop: 0.00023031234741210938\n",
      "forward: 0.06224822998046875\n",
      "storing: 0.00019168853759765625\n",
      "loop: 0.0002658367156982422\n",
      "forward: 0.06692147254943848\n",
      "storing: 0.0002422332763671875\n",
      "loop: 0.0002562999725341797\n",
      "forward: 0.061636924743652344\n",
      "storing: 0.00021219253540039062\n",
      "loop: 0.00028586387634277344\n"
     ]
    },
    {
     "name": "stderr",
     "output_type": "stream",
     "text": [
      "  7%|▋         | 71/1024 [00:04<01:01, 15.41it/s]"
     ]
    },
    {
     "name": "stdout",
     "output_type": "stream",
     "text": [
      "forward: 0.06276822090148926\n",
      "storing: 0.00021791458129882812\n",
      "loop: 0.00023937225341796875\n",
      "forward: 0.06293654441833496\n",
      "storing: 0.00023126602172851562\n",
      "loop: 0.0002815723419189453\n",
      "forward: 0.06802582740783691\n",
      "storing: 0.00022864341735839844\n",
      "loop: 0.0002384185791015625\n",
      "forward: 0.06201767921447754\n",
      "storing: 0.00021648406982421875\n"
     ]
    },
    {
     "name": "stderr",
     "output_type": "stream",
     "text": [
      "  7%|▋         | 73/1024 [00:04<01:02, 15.27it/s]"
     ]
    },
    {
     "name": "stdout",
     "output_type": "stream",
     "text": [
      "loop: 0.0003139972686767578\n",
      "forward: 0.06233811378479004\n",
      "storing: 0.00018930435180664062\n",
      "loop: 0.000244140625\n",
      "forward: 0.062068939208984375\n",
      "storing: 0.00022292137145996094\n",
      "loop: 0.0002982616424560547\n",
      "forward: 0.06353449821472168\n",
      "storing: 0.000225067138671875\n",
      "loop: 0.0002467632293701172\n"
     ]
    },
    {
     "name": "stderr",
     "output_type": "stream",
     "text": [
      "  8%|▊         | 77/1024 [00:04<01:01, 15.47it/s]"
     ]
    },
    {
     "name": "stdout",
     "output_type": "stream",
     "text": [
      "forward: 0.06276154518127441\n",
      "storing: 0.000194549560546875\n",
      "loop: 0.00026798248291015625\n",
      "forward: 0.061647653579711914\n",
      "storing: 0.00021123886108398438\n",
      "loop: 0.00023627281188964844\n",
      "forward: 0.06300878524780273\n",
      "storing: 0.00020956993103027344\n",
      "loop: 0.00028824806213378906\n",
      "forward: 0.06216287612915039\n",
      "storing: 0.0002110004425048828\n",
      "loop: 0.00024700164794921875\n"
     ]
    },
    {
     "name": "stderr",
     "output_type": "stream",
     "text": [
      "  8%|▊         | 81/1024 [00:05<01:00, 15.62it/s]"
     ]
    },
    {
     "name": "stdout",
     "output_type": "stream",
     "text": [
      "forward: 0.06340217590332031\n",
      "storing: 0.00023865699768066406\n",
      "loop: 0.00027751922607421875\n",
      "forward: 0.06219625473022461\n",
      "storing: 0.00021409988403320312\n",
      "loop: 0.00025200843811035156\n",
      "forward: 0.061731576919555664\n",
      "storing: 0.00022339820861816406\n",
      "loop: 0.0002841949462890625\n",
      "forward: 0.06537461280822754\n",
      "storing: 0.00019979476928710938\n",
      "loop: 0.00024962425231933594\n"
     ]
    },
    {
     "name": "stderr",
     "output_type": "stream",
     "text": [
      "  8%|▊         | 85/1024 [00:05<01:00, 15.59it/s]"
     ]
    },
    {
     "name": "stdout",
     "output_type": "stream",
     "text": [
      "forward: 0.06331729888916016\n",
      "storing: 0.0002162456512451172\n",
      "loop: 0.000270843505859375\n",
      "forward: 0.06208992004394531\n",
      "storing: 0.00022101402282714844\n",
      "loop: 0.00026702880859375\n",
      "forward: 0.062322139739990234\n",
      "storing: 0.0002193450927734375\n",
      "loop: 0.0002899169921875\n",
      "forward: 0.06212806701660156\n",
      "storing: 0.000213623046875\n",
      "loop: 0.00024247169494628906\n"
     ]
    },
    {
     "name": "stderr",
     "output_type": "stream",
     "text": [
      "  9%|▊         | 89/1024 [00:05<00:59, 15.67it/s]"
     ]
    },
    {
     "name": "stdout",
     "output_type": "stream",
     "text": [
      "forward: 0.06329035758972168\n",
      "storing: 0.00023031234741210938\n",
      "loop: 0.0002827644348144531\n",
      "forward: 0.06205320358276367\n",
      "storing: 0.00018143653869628906\n",
      "loop: 0.00023937225341796875\n",
      "forward: 0.06212115287780762\n",
      "storing: 0.00023126602172851562\n",
      "loop: 0.00029277801513671875\n",
      "forward: 0.06788849830627441\n",
      "storing: 0.00037407875061035156\n",
      "loop: 0.0002551078796386719\n"
     ]
    },
    {
     "name": "stderr",
     "output_type": "stream",
     "text": [
      "  9%|▉         | 93/1024 [00:05<01:01, 15.26it/s]"
     ]
    },
    {
     "name": "stdout",
     "output_type": "stream",
     "text": [
      "forward: 0.0682516098022461\n",
      "storing: 0.0002071857452392578\n",
      "loop: 0.0002739429473876953\n",
      "forward: 0.06708645820617676\n",
      "storing: 0.0002319812774658203\n",
      "loop: 0.0002543926239013672\n",
      "forward: 0.06221270561218262\n",
      "storing: 0.00019931793212890625\n",
      "loop: 0.00027251243591308594\n",
      "forward: 0.06512212753295898\n"
     ]
    },
    {
     "name": "stderr",
     "output_type": "stream",
     "text": [
      "  9%|▉         | 97/1024 [00:06<01:00, 15.20it/s]"
     ]
    },
    {
     "name": "stdout",
     "output_type": "stream",
     "text": [
      "storing: 0.001300811767578125\n",
      "loop: 0.00024628639221191406\n",
      "forward: 0.06441402435302734\n",
      "storing: 0.0002269744873046875\n",
      "loop: 0.0002963542938232422\n",
      "forward: 0.06222033500671387\n",
      "storing: 0.00026488304138183594\n",
      "loop: 0.00024271011352539062\n",
      "forward: 0.062432289123535156\n",
      "storing: 0.00023794174194335938\n",
      "loop: 0.00029730796813964844\n"
     ]
    },
    {
     "name": "stderr",
     "output_type": "stream",
     "text": [
      " 10%|▉         | 101/1024 [00:06<00:59, 15.39it/s]"
     ]
    },
    {
     "name": "stdout",
     "output_type": "stream",
     "text": [
      "forward: 0.06316781044006348\n",
      "storing: 0.00023674964904785156\n",
      "loop: 0.00023984909057617188\n",
      "forward: 0.0620419979095459\n",
      "storing: 0.0002205371856689453\n",
      "loop: 0.0002982616424560547\n",
      "forward: 0.06166481971740723\n",
      "storing: 0.0002048015594482422\n",
      "loop: 0.0002543926239013672\n",
      "forward: 0.06470417976379395\n",
      "storing: 0.00020360946655273438\n",
      "loop: 0.00027441978454589844\n"
     ]
    },
    {
     "name": "stderr",
     "output_type": "stream",
     "text": [
      " 10%|█         | 105/1024 [00:06<00:59, 15.51it/s]"
     ]
    },
    {
     "name": "stdout",
     "output_type": "stream",
     "text": [
      "forward: 0.0633080005645752\n",
      "storing: 0.00023436546325683594\n",
      "loop: 0.0002617835998535156\n",
      "forward: 0.06225299835205078\n",
      "storing: 0.00024628639221191406\n",
      "loop: 0.0002875328063964844\n",
      "forward: 0.06350994110107422\n",
      "storing: 0.0002200603485107422\n",
      "loop: 0.0002384185791015625\n",
      "forward: 0.06201004981994629\n",
      "storing: 0.00022602081298828125\n",
      "loop: 0.000286102294921875\n"
     ]
    },
    {
     "name": "stderr",
     "output_type": "stream",
     "text": [
      " 11%|█         | 109/1024 [00:06<00:59, 15.44it/s]"
     ]
    },
    {
     "name": "stdout",
     "output_type": "stream",
     "text": [
      "forward: 0.06264829635620117\n",
      "storing: 0.00023365020751953125\n",
      "loop: 0.0002460479736328125\n",
      "forward: 0.06221199035644531\n",
      "storing: 0.00022268295288085938\n",
      "loop: 0.00030517578125\n",
      "forward: 0.06211352348327637\n",
      "storing: 0.00020599365234375\n",
      "loop: 0.0002493858337402344\n",
      "forward: 0.06231379508972168\n",
      "storing: 0.0001919269561767578\n",
      "loop: 0.0002639293670654297\n"
     ]
    },
    {
     "name": "stderr",
     "output_type": "stream",
     "text": [
      " 11%|█         | 113/1024 [00:07<00:59, 15.39it/s]"
     ]
    },
    {
     "name": "stdout",
     "output_type": "stream",
     "text": [
      "forward: 0.06327629089355469\n",
      "storing: 0.00021886825561523438\n",
      "loop: 0.0002503395080566406\n",
      "forward: 0.061873435974121094\n",
      "storing: 0.0001862049102783203\n",
      "loop: 0.0002799034118652344\n",
      "forward: 0.06204676628112793\n",
      "storing: 0.0001995563507080078\n",
      "loop: 0.00024127960205078125\n",
      "forward: 0.06784462928771973\n",
      "storing: 0.0002167224884033203\n",
      "loop: 0.00029397010803222656\n"
     ]
    },
    {
     "name": "stderr",
     "output_type": "stream",
     "text": [
      " 11%|█▏        | 117/1024 [00:07<00:58, 15.47it/s]"
     ]
    },
    {
     "name": "stdout",
     "output_type": "stream",
     "text": [
      "forward: 0.06312036514282227\n",
      "storing: 0.0002307891845703125\n",
      "loop: 0.0002460479736328125\n",
      "forward: 0.061714887619018555\n",
      "storing: 0.00023126602172851562\n",
      "loop: 0.00028967857360839844\n",
      "forward: 0.06550002098083496\n",
      "storing: 0.00023937225341796875\n",
      "loop: 0.0002560615539550781\n",
      "forward: 0.061754703521728516\n",
      "storing: 0.00022220611572265625\n",
      "loop: 0.00027680397033691406\n"
     ]
    },
    {
     "name": "stderr",
     "output_type": "stream",
     "text": [
      " 12%|█▏        | 121/1024 [00:07<00:58, 15.43it/s]"
     ]
    },
    {
     "name": "stdout",
     "output_type": "stream",
     "text": [
      "forward: 0.06286907196044922\n",
      "storing: 0.00021529197692871094\n",
      "loop: 0.0002415180206298828\n",
      "forward: 0.06217312812805176\n",
      "storing: 0.00023317337036132812\n",
      "loop: 0.00030040740966796875\n",
      "forward: 0.06226515769958496\n",
      "storing: 0.00021791458129882812\n",
      "loop: 0.0002455711364746094\n",
      "forward: 0.06702780723571777\n",
      "storing: 0.00019478797912597656\n",
      "loop: 0.0002665519714355469\n"
     ]
    },
    {
     "name": "stderr",
     "output_type": "stream",
     "text": [
      " 12%|█▏        | 125/1024 [00:07<00:58, 15.29it/s]"
     ]
    },
    {
     "name": "stdout",
     "output_type": "stream",
     "text": [
      "forward: 0.0672297477722168\n",
      "storing: 0.00023245811462402344\n",
      "loop: 0.00024819374084472656\n",
      "forward: 0.062239646911621094\n",
      "storing: 0.0002193450927734375\n",
      "loop: 0.00029206275939941406\n",
      "forward: 0.06197857856750488\n",
      "storing: 0.00023674964904785156\n",
      "loop: 0.00024771690368652344\n",
      "forward: 0.06159043312072754\n",
      "storing: 0.0002090930938720703\n",
      "loop: 0.000274658203125\n"
     ]
    },
    {
     "name": "stderr",
     "output_type": "stream",
     "text": [
      " 13%|█▎        | 129/1024 [00:08<00:58, 15.30it/s]"
     ]
    },
    {
     "name": "stdout",
     "output_type": "stream",
     "text": [
      "forward: 0.06858992576599121\n",
      "storing: 0.0002105236053466797\n",
      "loop: 0.00023674964904785156\n",
      "forward: 0.06635904312133789\n",
      "storing: 0.0002231597900390625\n",
      "loop: 0.0002951622009277344\n",
      "forward: 0.06197834014892578\n",
      "storing: 0.00021982192993164062\n",
      "loop: 0.00022673606872558594\n",
      "forward: 0.06169629096984863\n",
      "storing: 0.00021505355834960938\n",
      "loop: 0.00029850006103515625\n"
     ]
    },
    {
     "name": "stderr",
     "output_type": "stream",
     "text": [
      " 13%|█▎        | 133/1024 [00:08<00:58, 15.30it/s]"
     ]
    },
    {
     "name": "stdout",
     "output_type": "stream",
     "text": [
      "forward: 0.06313872337341309\n",
      "storing: 0.0002238750457763672\n",
      "loop: 0.0002448558807373047\n",
      "forward: 0.06270647048950195\n",
      "storing: 0.0002346038818359375\n",
      "loop: 0.00029158592224121094\n",
      "forward: 0.06811976432800293\n",
      "storing: 0.00019288063049316406\n",
      "loop: 0.00024509429931640625\n",
      "forward: 0.06203269958496094\n",
      "storing: 0.00019621849060058594\n",
      "loop: 0.00028586387634277344\n"
     ]
    },
    {
     "name": "stderr",
     "output_type": "stream",
     "text": [
      " 13%|█▎        | 137/1024 [00:08<00:57, 15.47it/s]"
     ]
    },
    {
     "name": "stdout",
     "output_type": "stream",
     "text": [
      "forward: 0.06272459030151367\n",
      "storing: 0.0002503395080566406\n",
      "loop: 0.00025272369384765625\n",
      "forward: 0.0640873908996582\n",
      "storing: 0.00022029876708984375\n",
      "loop: 0.00029277801513671875\n",
      "forward: 0.0621795654296875\n",
      "storing: 0.00018930435180664062\n",
      "loop: 0.0002410411834716797\n",
      "forward: 0.062380075454711914\n",
      "storing: 0.00023102760314941406\n",
      "loop: 0.00029397010803222656\n"
     ]
    },
    {
     "name": "stderr",
     "output_type": "stream",
     "text": [
      " 14%|█▍        | 141/1024 [00:09<00:57, 15.42it/s]"
     ]
    },
    {
     "name": "stdout",
     "output_type": "stream",
     "text": [
      "forward: 0.06325316429138184\n",
      "storing: 0.0002186298370361328\n",
      "loop: 0.0002560615539550781\n",
      "forward: 0.06212806701660156\n",
      "storing: 0.00021910667419433594\n",
      "loop: 0.00028061866760253906\n",
      "forward: 0.0668032169342041\n",
      "storing: 0.0002307891845703125\n",
      "loop: 0.00024056434631347656\n",
      "forward: 0.06192183494567871\n",
      "storing: 0.00023508071899414062\n",
      "loop: 0.0003070831298828125\n"
     ]
    },
    {
     "name": "stderr",
     "output_type": "stream",
     "text": [
      " 14%|█▍        | 145/1024 [00:09<00:56, 15.46it/s]"
     ]
    },
    {
     "name": "stdout",
     "output_type": "stream",
     "text": [
      "forward: 0.06331157684326172\n",
      "storing: 0.00020837783813476562\n",
      "loop: 0.00023555755615234375\n",
      "forward: 0.06217765808105469\n",
      "storing: 0.00023293495178222656\n",
      "loop: 0.0002849102020263672\n",
      "forward: 0.062035560607910156\n",
      "storing: 0.00023984909057617188\n",
      "loop: 0.0002570152282714844\n",
      "forward: 0.06512212753295898\n",
      "storing: 0.00022411346435546875\n",
      "loop: 0.0002913475036621094\n"
     ]
    },
    {
     "name": "stderr",
     "output_type": "stream",
     "text": [
      " 15%|█▍        | 149/1024 [00:09<00:56, 15.61it/s]"
     ]
    },
    {
     "name": "stdout",
     "output_type": "stream",
     "text": [
      "forward: 0.0626528263092041\n",
      "storing: 0.0002086162567138672\n",
      "loop: 0.00023293495178222656\n",
      "forward: 0.0619969367980957\n",
      "storing: 0.00017452239990234375\n",
      "loop: 0.0002636909484863281\n",
      "forward: 0.062193870544433594\n",
      "storing: 0.00018596649169921875\n",
      "loop: 0.000225067138671875\n",
      "forward: 0.06244778633117676\n",
      "storing: 0.0002300739288330078\n",
      "loop: 0.00027823448181152344\n"
     ]
    },
    {
     "name": "stderr",
     "output_type": "stream",
     "text": [
      " 15%|█▍        | 153/1024 [00:09<00:56, 15.52it/s]"
     ]
    },
    {
     "name": "stdout",
     "output_type": "stream",
     "text": [
      "forward: 0.06669998168945312\n",
      "storing: 0.00023555755615234375\n",
      "loop: 0.00023937225341796875\n",
      "forward: 0.0644068717956543\n",
      "storing: 0.00023126602172851562\n",
      "loop: 0.0003025531768798828\n",
      "forward: 0.0622248649597168\n",
      "storing: 0.0001723766326904297\n",
      "loop: 0.00022363662719726562\n",
      "forward: 0.062270402908325195\n",
      "storing: 0.00022554397583007812\n",
      "loop: 0.0002791881561279297\n"
     ]
    },
    {
     "name": "stderr",
     "output_type": "stream",
     "text": [
      " 15%|█▌        | 157/1024 [00:10<00:55, 15.50it/s]"
     ]
    },
    {
     "name": "stdout",
     "output_type": "stream",
     "text": [
      "forward: 0.06346678733825684\n",
      "storing: 0.00017714500427246094\n",
      "loop: 0.00022649765014648438\n",
      "forward: 0.0677328109741211\n",
      "storing: 0.0002231597900390625\n",
      "loop: 0.0002846717834472656\n",
      "forward: 0.06163811683654785\n",
      "storing: 0.0001881122589111328\n",
      "loop: 0.00023436546325683594\n",
      "forward: 0.06220102310180664\n",
      "storing: 0.00019216537475585938\n",
      "loop: 0.00028395652770996094\n"
     ]
    },
    {
     "name": "stderr",
     "output_type": "stream",
     "text": [
      " 16%|█▌        | 161/1024 [00:10<00:55, 15.61it/s]"
     ]
    },
    {
     "name": "stdout",
     "output_type": "stream",
     "text": [
      "forward: 0.06413650512695312\n",
      "storing: 0.00023818016052246094\n",
      "loop: 0.00024390220642089844\n",
      "forward: 0.0622403621673584\n",
      "storing: 0.00023555755615234375\n",
      "loop: 0.0002932548522949219\n",
      "forward: 0.06208610534667969\n",
      "storing: 0.00021386146545410156\n",
      "loop: 0.0002510547637939453\n",
      "forward: 0.061685800552368164\n",
      "storing: 0.00020456314086914062\n",
      "loop: 0.0002892017364501953\n"
     ]
    },
    {
     "name": "stderr",
     "output_type": "stream",
     "text": [
      " 16%|█▌        | 165/1024 [00:10<00:55, 15.46it/s]"
     ]
    },
    {
     "name": "stdout",
     "output_type": "stream",
     "text": [
      "forward: 0.06270933151245117\n",
      "storing: 0.00019478797912597656\n",
      "loop: 0.0002434253692626953\n",
      "forward: 0.0645909309387207\n",
      "storing: 0.0002295970916748047\n",
      "loop: 0.0002949237823486328\n",
      "forward: 0.062265634536743164\n",
      "storing: 0.00021648406982421875\n",
      "loop: 0.00025272369384765625\n",
      "forward: 0.06227922439575195\n",
      "storing: 0.00020551681518554688\n",
      "loop: 0.00029158592224121094\n"
     ]
    },
    {
     "name": "stderr",
     "output_type": "stream",
     "text": [
      " 17%|█▋        | 169/1024 [00:10<00:54, 15.59it/s]"
     ]
    },
    {
     "name": "stdout",
     "output_type": "stream",
     "text": [
      "forward: 0.06323003768920898\n",
      "storing: 0.00022673606872558594\n",
      "loop: 0.0002536773681640625\n",
      "forward: 0.06177043914794922\n",
      "storing: 0.0002422332763671875\n",
      "loop: 0.00029754638671875\n",
      "forward: 0.062441349029541016\n",
      "storing: 0.0002257823944091797\n",
      "loop: 0.0002543926239013672\n",
      "forward: 0.06225299835205078\n",
      "storing: 0.0001952648162841797\n",
      "loop: 0.0002834796905517578\n"
     ]
    },
    {
     "name": "stderr",
     "output_type": "stream",
     "text": [
      " 17%|█▋        | 173/1024 [00:11<00:54, 15.54it/s]"
     ]
    },
    {
     "name": "stdout",
     "output_type": "stream",
     "text": [
      "forward: 0.06326937675476074\n",
      "storing: 0.0002334117889404297\n",
      "loop: 0.0002543926239013672\n",
      "forward: 0.062346458435058594\n",
      "storing: 0.00023293495178222656\n",
      "loop: 0.0002994537353515625\n",
      "forward: 0.0651547908782959\n",
      "storing: 0.00022912025451660156\n",
      "loop: 0.00024199485778808594\n",
      "forward: 0.06210160255432129\n",
      "storing: 0.00022673606872558594\n",
      "loop: 0.00028514862060546875\n"
     ]
    },
    {
     "name": "stderr",
     "output_type": "stream",
     "text": [
      " 17%|█▋        | 177/1024 [00:11<00:54, 15.54it/s]"
     ]
    },
    {
     "name": "stdout",
     "output_type": "stream",
     "text": [
      "forward: 0.06329631805419922\n",
      "storing: 0.00022554397583007812\n",
      "loop: 0.00024080276489257812\n",
      "forward: 0.06573224067687988\n",
      "storing: 0.0001976490020751953\n",
      "loop: 0.00026535987854003906\n",
      "forward: 0.062187910079956055\n",
      "storing: 0.00020265579223632812\n",
      "loop: 0.0002377033233642578\n",
      "forward: 0.06218767166137695\n",
      "storing: 0.0002281665802001953\n",
      "loop: 0.0002853870391845703\n"
     ]
    },
    {
     "name": "stderr",
     "output_type": "stream",
     "text": [
      " 18%|█▊        | 181/1024 [00:11<00:54, 15.46it/s]"
     ]
    },
    {
     "name": "stdout",
     "output_type": "stream",
     "text": [
      "forward: 0.0686185359954834\n",
      "storing: 0.0002453327178955078\n",
      "loop: 0.00024700164794921875\n",
      "forward: 0.06364893913269043\n",
      "storing: 0.00022339820861816406\n",
      "loop: 0.0002830028533935547\n",
      "forward: 0.06198310852050781\n",
      "storing: 0.00022363662719726562\n",
      "loop: 0.00024580955505371094\n",
      "forward: 0.06230902671813965\n",
      "storing: 0.0002391338348388672\n",
      "loop: 0.000286102294921875\n"
     ]
    },
    {
     "name": "stderr",
     "output_type": "stream",
     "text": [
      " 18%|█▊        | 185/1024 [00:11<00:53, 15.60it/s]"
     ]
    },
    {
     "name": "stdout",
     "output_type": "stream",
     "text": [
      "forward: 0.06326794624328613\n",
      "storing: 0.0002372264862060547\n",
      "loop: 0.000240325927734375\n",
      "forward: 0.06177473068237305\n",
      "storing: 0.00023174285888671875\n",
      "loop: 0.00029158592224121094\n",
      "forward: 0.06201457977294922\n",
      "storing: 0.0002117156982421875\n",
      "loop: 0.00024008750915527344\n",
      "forward: 0.062384605407714844\n",
      "storing: 0.00022101402282714844\n",
      "loop: 0.00028395652770996094\n"
     ]
    },
    {
     "name": "stderr",
     "output_type": "stream",
     "text": [
      " 18%|█▊        | 189/1024 [00:12<00:53, 15.66it/s]"
     ]
    },
    {
     "name": "stdout",
     "output_type": "stream",
     "text": [
      "forward: 0.06315445899963379\n",
      "storing: 0.0002162456512451172\n",
      "loop: 0.00023746490478515625\n",
      "forward: 0.062361717224121094\n",
      "storing: 0.00021958351135253906\n",
      "loop: 0.00028705596923828125\n",
      "forward: 0.06214618682861328\n",
      "storing: 0.0002002716064453125\n",
      "loop: 0.00023126602172851562\n",
      "forward: 0.06232118606567383\n",
      "storing: 0.000225067138671875\n",
      "loop: 0.0002925395965576172\n"
     ]
    },
    {
     "name": "stderr",
     "output_type": "stream",
     "text": [
      " 19%|█▉        | 193/1024 [00:12<00:53, 15.68it/s]"
     ]
    },
    {
     "name": "stdout",
     "output_type": "stream",
     "text": [
      "forward: 0.06414413452148438\n",
      "storing: 0.00022459030151367188\n",
      "loop: 0.0002455711364746094\n",
      "forward: 0.06165432929992676\n",
      "storing: 0.00018143653869628906\n",
      "loop: 0.00026702880859375\n",
      "forward: 0.062343597412109375\n",
      "storing: 0.0002281665802001953\n",
      "loop: 0.0002465248107910156\n",
      "forward: 0.062187910079956055\n",
      "storing: 0.0002224445343017578\n",
      "loop: 0.0002760887145996094\n"
     ]
    },
    {
     "name": "stderr",
     "output_type": "stream",
     "text": [
      " 19%|█▉        | 197/1024 [00:12<00:53, 15.41it/s]"
     ]
    },
    {
     "name": "stdout",
     "output_type": "stream",
     "text": [
      "forward: 0.0684213638305664\n",
      "storing: 0.00021338462829589844\n",
      "loop: 0.0002415180206298828\n",
      "forward: 0.06827878952026367\n",
      "storing: 0.00022912025451660156\n",
      "loop: 0.0002932548522949219\n",
      "forward: 0.062123775482177734\n",
      "storing: 0.00025844573974609375\n",
      "loop: 0.0002486705780029297\n",
      "forward: 0.06224393844604492\n",
      "storing: 0.00023055076599121094\n",
      "loop: 0.0002913475036621094\n"
     ]
    },
    {
     "name": "stderr",
     "output_type": "stream",
     "text": [
      " 20%|█▉        | 201/1024 [00:12<00:53, 15.33it/s]"
     ]
    },
    {
     "name": "stdout",
     "output_type": "stream",
     "text": [
      "forward: 0.06315946578979492\n",
      "storing: 0.00021529197692871094\n",
      "loop: 0.0002346038818359375\n",
      "forward: 0.06220412254333496\n",
      "storing: 0.007016420364379883\n",
      "loop: 0.0002892017364501953\n",
      "forward: 0.06417655944824219\n",
      "storing: 0.00021791458129882812\n",
      "loop: 0.0002522468566894531\n",
      "forward: 0.06204509735107422\n",
      "storing: 0.0002486705780029297\n",
      "loop: 0.00031757354736328125\n"
     ]
    },
    {
     "name": "stderr",
     "output_type": "stream",
     "text": [
      " 20%|██        | 205/1024 [00:13<00:53, 15.33it/s]"
     ]
    },
    {
     "name": "stdout",
     "output_type": "stream",
     "text": [
      "forward: 0.062149763107299805\n",
      "storing: 0.00019502639770507812\n",
      "loop: 0.00024437904357910156\n",
      "forward: 0.062224626541137695\n",
      "storing: 0.00023174285888671875\n",
      "loop: 0.0002980232238769531\n",
      "forward: 0.06809663772583008\n",
      "storing: 0.00024437904357910156\n",
      "loop: 0.0002472400665283203\n",
      "forward: 0.06220579147338867\n",
      "storing: 0.00022530555725097656\n",
      "loop: 0.0002830028533935547\n"
     ]
    },
    {
     "name": "stderr",
     "output_type": "stream",
     "text": [
      " 20%|██        | 209/1024 [00:13<00:52, 15.52it/s]"
     ]
    },
    {
     "name": "stdout",
     "output_type": "stream",
     "text": [
      "forward: 0.06313467025756836\n",
      "storing: 0.00021719932556152344\n",
      "loop: 0.0002493858337402344\n",
      "forward: 0.06235480308532715\n",
      "storing: 0.00020241737365722656\n",
      "loop: 0.001096487045288086\n",
      "forward: 0.062088727951049805\n",
      "storing: 0.00020575523376464844\n",
      "loop: 0.00024509429931640625\n",
      "forward: 0.06184029579162598\n",
      "storing: 0.0001728534698486328\n",
      "loop: 0.0002613067626953125\n"
     ]
    },
    {
     "name": "stderr",
     "output_type": "stream",
     "text": [
      " 21%|██        | 213/1024 [00:13<00:51, 15.63it/s]"
     ]
    },
    {
     "name": "stdout",
     "output_type": "stream",
     "text": [
      "forward: 0.06280875205993652\n",
      "storing: 0.00018334388732910156\n",
      "loop: 0.0002315044403076172\n",
      "forward: 0.06219625473022461\n",
      "storing: 0.00018358230590820312\n",
      "loop: 0.0002684593200683594\n",
      "forward: 0.06223869323730469\n",
      "storing: 0.0002033710479736328\n",
      "loop: 0.000244140625\n",
      "forward: 0.06232285499572754\n",
      "storing: 0.00022745132446289062\n",
      "loop: 0.00028133392333984375\n"
     ]
    },
    {
     "name": "stderr",
     "output_type": "stream",
     "text": [
      " 21%|██        | 217/1024 [00:13<00:51, 15.65it/s]"
     ]
    },
    {
     "name": "stdout",
     "output_type": "stream",
     "text": [
      "forward: 0.06341695785522461\n",
      "storing: 0.00021958351135253906\n",
      "loop: 0.00024890899658203125\n",
      "forward: 0.06279993057250977\n",
      "storing: 0.00020742416381835938\n",
      "loop: 0.0002734661102294922\n",
      "forward: 0.06230497360229492\n",
      "storing: 0.00023746490478515625\n",
      "loop: 0.0002532005310058594\n",
      "forward: 0.062204837799072266\n",
      "storing: 0.0002219676971435547\n",
      "loop: 0.00028395652770996094\n"
     ]
    },
    {
     "name": "stderr",
     "output_type": "stream",
     "text": [
      " 22%|██▏       | 221/1024 [00:14<00:52, 15.42it/s]"
     ]
    },
    {
     "name": "stdout",
     "output_type": "stream",
     "text": [
      "forward: 0.06697797775268555\n",
      "storing: 0.0002162456512451172\n",
      "loop: 0.00023889541625976562\n",
      "forward: 0.06236720085144043\n",
      "storing: 0.00632023811340332\n",
      "loop: 0.0002799034118652344\n",
      "forward: 0.06230974197387695\n",
      "storing: 0.00027179718017578125\n",
      "loop: 0.00024175643920898438\n",
      "forward: 0.06231188774108887\n",
      "storing: 0.000213623046875\n",
      "loop: 0.0002856254577636719\n"
     ]
    },
    {
     "name": "stderr",
     "output_type": "stream",
     "text": [
      " 22%|██▏       | 225/1024 [00:14<00:52, 15.34it/s]"
     ]
    },
    {
     "name": "stdout",
     "output_type": "stream",
     "text": [
      "forward: 0.06346368789672852\n",
      "storing: 0.0002243518829345703\n",
      "loop: 0.0002391338348388672\n",
      "forward: 0.062410831451416016\n",
      "storing: 0.00020360946655273438\n",
      "loop: 0.0002903938293457031\n",
      "forward: 0.06218695640563965\n",
      "storing: 0.00020766258239746094\n",
      "loop: 0.00023794174194335938\n",
      "forward: 0.06215691566467285\n",
      "storing: 0.00019121170043945312\n",
      "loop: 0.0002689361572265625\n"
     ]
    },
    {
     "name": "stderr",
     "output_type": "stream",
     "text": [
      " 22%|██▏       | 229/1024 [00:14<00:51, 15.49it/s]"
     ]
    },
    {
     "name": "stdout",
     "output_type": "stream",
     "text": [
      "forward: 0.06221127510070801\n",
      "storing: 0.0002117156982421875\n",
      "loop: 0.00024437904357910156\n",
      "forward: 0.06406331062316895\n",
      "storing: 0.00023627281188964844\n",
      "loop: 0.00029158592224121094\n",
      "forward: 0.062185049057006836\n",
      "storing: 0.00021028518676757812\n",
      "loop: 0.00023651123046875\n",
      "forward: 0.06266283988952637\n",
      "storing: 0.00021910667419433594\n",
      "loop: 0.00027370452880859375\n"
     ]
    },
    {
     "name": "stderr",
     "output_type": "stream",
     "text": [
      " 23%|██▎       | 233/1024 [00:14<00:51, 15.48it/s]"
     ]
    },
    {
     "name": "stdout",
     "output_type": "stream",
     "text": [
      "forward: 0.06337833404541016\n",
      "storing: 0.0002377033233642578\n",
      "loop: 0.00023818016052246094\n",
      "forward: 0.06207442283630371\n",
      "storing: 0.00022792816162109375\n",
      "loop: 0.0002875328063964844\n",
      "forward: 0.0657808780670166\n",
      "storing: 0.00020265579223632812\n",
      "loop: 0.00025463104248046875\n",
      "forward: 0.06214547157287598\n",
      "storing: 0.00018787384033203125\n",
      "loop: 0.0002827644348144531\n"
     ]
    },
    {
     "name": "stderr",
     "output_type": "stream",
     "text": [
      " 23%|██▎       | 237/1024 [00:15<00:50, 15.53it/s]"
     ]
    },
    {
     "name": "stdout",
     "output_type": "stream",
     "text": [
      "forward: 0.06344389915466309\n",
      "storing: 0.000232696533203125\n",
      "loop: 0.00024437904357910156\n",
      "forward: 0.062421560287475586\n",
      "storing: 0.0002243518829345703\n",
      "loop: 0.0002849102020263672\n",
      "forward: 0.06399273872375488\n",
      "storing: 0.0002071857452392578\n",
      "loop: 0.00023818016052246094\n",
      "forward: 0.062073707580566406\n",
      "storing: 0.0002117156982421875\n",
      "loop: 0.00029587745666503906\n"
     ]
    },
    {
     "name": "stderr",
     "output_type": "stream",
     "text": [
      " 24%|██▎       | 241/1024 [00:15<00:50, 15.50it/s]"
     ]
    },
    {
     "name": "stdout",
     "output_type": "stream",
     "text": [
      "forward: 0.06179475784301758\n",
      "storing: 0.0001876354217529297\n",
      "loop: 0.00024580955505371094\n",
      "forward: 0.06231880187988281\n",
      "storing: 0.00023174285888671875\n",
      "loop: 0.0002989768981933594\n",
      "forward: 0.06243276596069336\n",
      "storing: 0.0002090930938720703\n",
      "loop: 0.00024962425231933594\n",
      "forward: 0.06229281425476074\n",
      "storing: 0.00022983551025390625\n",
      "loop: 0.0002808570861816406\n"
     ]
    },
    {
     "name": "stderr",
     "output_type": "stream",
     "text": [
      " 24%|██▍       | 245/1024 [00:15<00:50, 15.30it/s]"
     ]
    },
    {
     "name": "stdout",
     "output_type": "stream",
     "text": [
      "forward: 0.06326103210449219\n",
      "storing: 0.00023317337036132812\n",
      "loop: 0.0002548694610595703\n",
      "forward: 0.0654447078704834\n",
      "storing: 0.00023126602172851562\n",
      "loop: 0.0002903938293457031\n",
      "forward: 0.06847572326660156\n",
      "storing: 0.00026345252990722656\n",
      "loop: 0.00023508071899414062\n",
      "forward: 0.06214165687561035\n",
      "storing: 0.0002148151397705078\n"
     ]
    },
    {
     "name": "stderr",
     "output_type": "stream",
     "text": [
      " 24%|██▍       | 247/1024 [00:15<00:50, 15.43it/s]"
     ]
    },
    {
     "name": "stdout",
     "output_type": "stream",
     "text": [
      "loop: 0.0003008842468261719\n",
      "forward: 0.061730384826660156\n",
      "storing: 0.00017952919006347656\n",
      "loop: 0.00023293495178222656\n",
      "forward: 0.0621953010559082\n",
      "storing: 0.00019288063049316406\n",
      "loop: 0.00025844573974609375\n",
      "forward: 0.06230330467224121\n",
      "storing: 0.0002281665802001953\n",
      "loop: 0.0002410411834716797\n"
     ]
    },
    {
     "name": "stderr",
     "output_type": "stream",
     "text": [
      " 25%|██▍       | 251/1024 [00:16<00:49, 15.55it/s]"
     ]
    },
    {
     "name": "stdout",
     "output_type": "stream",
     "text": [
      "forward: 0.06322264671325684\n",
      "storing: 0.0002288818359375\n",
      "loop: 0.00026726722717285156\n",
      "forward: 0.06235146522521973\n",
      "storing: 0.00022649765014648438\n",
      "loop: 0.00024771690368652344\n",
      "forward: 0.0630350112915039\n",
      "storing: 0.00020575523376464844\n",
      "loop: 0.0002892017364501953\n",
      "forward: 0.06218409538269043\n",
      "storing: 0.00021457672119140625\n",
      "loop: 0.00024580955505371094\n"
     ]
    },
    {
     "name": "stderr",
     "output_type": "stream",
     "text": [
      " 25%|██▍       | 255/1024 [00:16<00:49, 15.66it/s]"
     ]
    },
    {
     "name": "stdout",
     "output_type": "stream",
     "text": [
      "forward: 0.06282448768615723\n",
      "storing: 0.00023698806762695312\n",
      "loop: 0.00028252601623535156\n",
      "forward: 0.06167411804199219\n",
      "storing: 0.0002048015594482422\n",
      "loop: 0.00048613548278808594\n",
      "forward: 0.062274932861328125\n",
      "storing: 0.000179290771484375\n",
      "loop: 0.00025916099548339844\n",
      "forward: 0.06233382225036621\n",
      "storing: 0.0002231597900390625\n",
      "loop: 0.00025010108947753906\n"
     ]
    },
    {
     "name": "stderr",
     "output_type": "stream",
     "text": [
      " 25%|██▌       | 259/1024 [00:16<00:48, 15.70it/s]"
     ]
    },
    {
     "name": "stdout",
     "output_type": "stream",
     "text": [
      "forward: 0.06338858604431152\n",
      "storing: 0.00021314620971679688\n",
      "loop: 0.0002613067626953125\n",
      "forward: 0.062151193618774414\n",
      "storing: 0.0002307891845703125\n",
      "loop: 0.00023937225341796875\n",
      "forward: 0.06220507621765137\n",
      "storing: 0.00021982192993164062\n",
      "loop: 0.00027942657470703125\n",
      "forward: 0.06206226348876953\n",
      "storing: 0.00021219253540039062\n",
      "loop: 0.00025463104248046875\n"
     ]
    },
    {
     "name": "stderr",
     "output_type": "stream",
     "text": [
      " 26%|██▌       | 263/1024 [00:16<00:48, 15.75it/s]"
     ]
    },
    {
     "name": "stdout",
     "output_type": "stream",
     "text": [
      "forward: 0.06269717216491699\n",
      "storing: 0.00018858909606933594\n",
      "loop: 0.00026035308837890625\n",
      "forward: 0.06210446357727051\n",
      "storing: 0.0002110004425048828\n",
      "loop: 0.00024771690368652344\n",
      "forward: 0.062067270278930664\n",
      "storing: 0.000186920166015625\n",
      "loop: 0.0002703666687011719\n",
      "forward: 0.06211137771606445\n",
      "storing: 0.00022983551025390625\n",
      "loop: 0.0002460479736328125\n"
     ]
    },
    {
     "name": "stderr",
     "output_type": "stream",
     "text": [
      " 26%|██▌       | 267/1024 [00:17<00:48, 15.73it/s]"
     ]
    },
    {
     "name": "stdout",
     "output_type": "stream",
     "text": [
      "forward: 0.06383013725280762\n",
      "storing: 0.00023937225341796875\n",
      "loop: 0.00027751922607421875\n",
      "forward: 0.06209230422973633\n",
      "storing: 0.000202178955078125\n",
      "loop: 0.0002474784851074219\n",
      "forward: 0.0622861385345459\n",
      "storing: 0.00022912025451660156\n",
      "loop: 0.00030684471130371094\n",
      "forward: 0.06201910972595215\n",
      "storing: 0.00023102760314941406\n",
      "loop: 0.006502389907836914\n"
     ]
    },
    {
     "name": "stderr",
     "output_type": "stream",
     "text": [
      " 26%|██▋       | 271/1024 [00:17<00:48, 15.57it/s]"
     ]
    },
    {
     "name": "stdout",
     "output_type": "stream",
     "text": [
      "forward: 0.06342554092407227\n",
      "storing: 0.0002028942108154297\n",
      "loop: 0.0002758502960205078\n",
      "forward: 0.0622563362121582\n",
      "storing: 0.0002219676971435547\n",
      "loop: 0.0002346038818359375\n",
      "forward: 0.062221527099609375\n",
      "storing: 0.0002110004425048828\n",
      "loop: 0.0002894401550292969\n",
      "forward: 0.06284499168395996\n",
      "storing: 0.0002269744873046875\n",
      "loop: 0.0002472400665283203\n"
     ]
    },
    {
     "name": "stderr",
     "output_type": "stream",
     "text": [
      " 27%|██▋       | 275/1024 [00:17<00:48, 15.30it/s]"
     ]
    },
    {
     "name": "stdout",
     "output_type": "stream",
     "text": [
      "forward: 0.0684654712677002\n",
      "storing: 0.00023937225341796875\n",
      "loop: 0.0002999305725097656\n",
      "forward: 0.06223750114440918\n",
      "storing: 0.00572657585144043\n",
      "loop: 0.00024390220642089844\n",
      "forward: 0.06211996078491211\n",
      "storing: 0.00017786026000976562\n",
      "loop: 0.0002627372741699219\n",
      "forward: 0.06177663803100586\n",
      "storing: 0.00020766258239746094\n",
      "loop: 0.00024080276489257812\n"
     ]
    },
    {
     "name": "stderr",
     "output_type": "stream",
     "text": [
      " 27%|██▋       | 279/1024 [00:17<00:48, 15.46it/s]"
     ]
    },
    {
     "name": "stdout",
     "output_type": "stream",
     "text": [
      "forward: 0.06332969665527344\n",
      "storing: 0.0002315044403076172\n",
      "loop: 0.00029087066650390625\n",
      "forward: 0.06399393081665039\n",
      "storing: 0.00023365020751953125\n",
      "loop: 0.00024628639221191406\n",
      "forward: 0.06242036819458008\n",
      "storing: 0.00023293495178222656\n",
      "loop: 0.0002808570861816406\n",
      "forward: 0.062274932861328125\n",
      "storing: 0.00021386146545410156\n",
      "loop: 0.0002455711364746094\n"
     ]
    },
    {
     "name": "stderr",
     "output_type": "stream",
     "text": [
      " 28%|██▊       | 283/1024 [00:18<00:47, 15.50it/s]"
     ]
    },
    {
     "name": "stdout",
     "output_type": "stream",
     "text": [
      "forward: 0.0647132396697998\n",
      "storing: 0.0002319812774658203\n",
      "loop: 0.0002906322479248047\n",
      "forward: 0.06206464767456055\n",
      "storing: 0.00023293495178222656\n",
      "loop: 0.0002467632293701172\n",
      "forward: 0.06389617919921875\n",
      "storing: 0.00021958351135253906\n",
      "loop: 0.00028443336486816406\n",
      "forward: 0.06242871284484863\n",
      "storing: 0.000217437744140625\n",
      "loop: 0.00023627281188964844\n"
     ]
    },
    {
     "name": "stderr",
     "output_type": "stream",
     "text": [
      " 28%|██▊       | 287/1024 [00:18<00:47, 15.47it/s]"
     ]
    },
    {
     "name": "stdout",
     "output_type": "stream",
     "text": [
      "forward: 0.06332516670227051\n",
      "storing: 0.0002295970916748047\n",
      "loop: 0.0002677440643310547\n",
      "forward: 0.0662848949432373\n",
      "storing: 0.00020170211791992188\n",
      "loop: 0.00024008750915527344\n",
      "forward: 0.06208348274230957\n",
      "storing: 0.00021123886108398438\n",
      "loop: 0.0002834796905517578\n",
      "forward: 0.06555414199829102\n",
      "storing: 0.00020122528076171875\n",
      "loop: 0.000232696533203125\n"
     ]
    },
    {
     "name": "stderr",
     "output_type": "stream",
     "text": [
      " 28%|██▊       | 291/1024 [00:18<00:47, 15.53it/s]"
     ]
    },
    {
     "name": "stdout",
     "output_type": "stream",
     "text": [
      "forward: 0.06232285499572754\n",
      "storing: 0.00020432472229003906\n",
      "loop: 0.0002818107604980469\n",
      "forward: 0.06243085861206055\n",
      "storing: 0.0001804828643798828\n",
      "loop: 0.00022125244140625\n",
      "forward: 0.062306880950927734\n",
      "storing: 0.00022649765014648438\n",
      "loop: 0.00027632713317871094\n",
      "forward: 0.06210136413574219\n",
      "storing: 0.00018548965454101562\n",
      "loop: 0.00023698806762695312\n"
     ]
    },
    {
     "name": "stderr",
     "output_type": "stream",
     "text": [
      " 29%|██▉       | 295/1024 [00:18<00:46, 15.57it/s]"
     ]
    },
    {
     "name": "stdout",
     "output_type": "stream",
     "text": [
      "forward: 0.06285786628723145\n",
      "storing: 0.0002090930938720703\n",
      "loop: 0.00027370452880859375\n",
      "forward: 0.06413817405700684\n",
      "storing: 0.0001881122589111328\n",
      "loop: 0.000240325927734375\n",
      "forward: 0.062390804290771484\n",
      "storing: 0.00019550323486328125\n",
      "loop: 0.0002849102020263672\n",
      "forward: 0.06234121322631836\n",
      "storing: 0.0002200603485107422\n",
      "loop: 0.0002448558807373047\n"
     ]
    },
    {
     "name": "stderr",
     "output_type": "stream",
     "text": [
      " 29%|██▉       | 299/1024 [00:19<00:46, 15.58it/s]"
     ]
    },
    {
     "name": "stdout",
     "output_type": "stream",
     "text": [
      "forward: 0.06570267677307129\n",
      "storing: 0.0002243518829345703\n",
      "loop: 0.0002853870391845703\n",
      "forward: 0.06221914291381836\n",
      "storing: 0.0002300739288330078\n",
      "loop: 0.0002510547637939453\n",
      "forward: 0.06193208694458008\n",
      "storing: 0.00022649765014648438\n",
      "loop: 0.0002925395965576172\n",
      "forward: 0.06222796440124512\n",
      "storing: 0.00018644332885742188\n",
      "loop: 0.00024247169494628906\n"
     ]
    },
    {
     "name": "stderr",
     "output_type": "stream",
     "text": [
      " 30%|██▉       | 303/1024 [00:19<00:46, 15.61it/s]"
     ]
    },
    {
     "name": "stdout",
     "output_type": "stream",
     "text": [
      "forward: 0.06316566467285156\n",
      "storing: 0.00024127960205078125\n",
      "loop: 0.00028443336486816406\n",
      "forward: 0.06336212158203125\n",
      "storing: 0.00024080276489257812\n",
      "loop: 0.00025081634521484375\n",
      "forward: 0.062402963638305664\n",
      "storing: 0.0001468658447265625\n",
      "loop: 0.00027489662170410156\n",
      "forward: 0.06220602989196777\n",
      "storing: 0.00017333030700683594\n",
      "loop: 0.0002415180206298828\n"
     ]
    },
    {
     "name": "stderr",
     "output_type": "stream",
     "text": [
      " 30%|██▉       | 307/1024 [00:19<00:45, 15.70it/s]"
     ]
    },
    {
     "name": "stdout",
     "output_type": "stream",
     "text": [
      "forward: 0.06304097175598145\n",
      "storing: 0.0002028942108154297\n",
      "loop: 0.00026917457580566406\n",
      "forward: 0.061609745025634766\n",
      "storing: 0.00021123886108398438\n",
      "loop: 0.00024080276489257812\n",
      "forward: 0.062181949615478516\n",
      "storing: 0.00019669532775878906\n",
      "loop: 0.00027370452880859375\n",
      "forward: 0.0624239444732666\n",
      "storing: 0.00021004676818847656\n",
      "loop: 0.0002396106719970703\n"
     ]
    },
    {
     "name": "stderr",
     "output_type": "stream",
     "text": [
      " 30%|███       | 311/1024 [00:19<00:45, 15.50it/s]"
     ]
    },
    {
     "name": "stdout",
     "output_type": "stream",
     "text": [
      "forward: 0.06339693069458008\n",
      "storing: 0.00020384788513183594\n",
      "loop: 0.0002849102020263672\n",
      "forward: 0.06797003746032715\n",
      "storing: 0.00021028518676757812\n",
      "loop: 0.0002377033233642578\n",
      "forward: 0.06223416328430176\n",
      "storing: 0.0002002716064453125\n",
      "loop: 0.00027561187744140625\n",
      "forward: 0.062253713607788086\n",
      "storing: 0.00021409988403320312\n",
      "loop: 0.0002353191375732422\n"
     ]
    },
    {
     "name": "stderr",
     "output_type": "stream",
     "text": [
      " 31%|███       | 315/1024 [00:20<00:45, 15.60it/s]"
     ]
    },
    {
     "name": "stdout",
     "output_type": "stream",
     "text": [
      "forward: 0.06346893310546875\n",
      "storing: 0.00020074844360351562\n",
      "loop: 0.0002665519714355469\n",
      "forward: 0.062277793884277344\n",
      "storing: 0.0002231597900390625\n",
      "loop: 0.00024962425231933594\n",
      "forward: 0.0623776912689209\n",
      "storing: 0.00023293495178222656\n",
      "loop: 0.00028586387634277344\n",
      "forward: 0.06220221519470215\n",
      "storing: 0.00023746490478515625\n",
      "loop: 0.0002429485321044922\n"
     ]
    },
    {
     "name": "stderr",
     "output_type": "stream",
     "text": [
      " 31%|███       | 319/1024 [00:20<00:44, 15.68it/s]"
     ]
    },
    {
     "name": "stdout",
     "output_type": "stream",
     "text": [
      "forward: 0.0632331371307373\n",
      "storing: 0.00024008750915527344\n",
      "loop: 0.00028824806213378906\n",
      "forward: 0.06202363967895508\n",
      "storing: 0.00021409988403320312\n",
      "loop: 0.0002448558807373047\n",
      "forward: 0.06206536293029785\n",
      "storing: 0.00020241737365722656\n",
      "loop: 0.0002734661102294922\n",
      "forward: 0.06237649917602539\n",
      "storing: 0.0002338886260986328\n",
      "loop: 0.0002429485321044922\n"
     ]
    },
    {
     "name": "stderr",
     "output_type": "stream",
     "text": [
      " 32%|███▏      | 323/1024 [00:20<00:44, 15.60it/s]"
     ]
    },
    {
     "name": "stdout",
     "output_type": "stream",
     "text": [
      "forward: 0.06739020347595215\n",
      "storing: 0.00022983551025390625\n",
      "loop: 0.0002808570861816406\n",
      "forward: 0.06215381622314453\n",
      "storing: 0.00017189979553222656\n",
      "loop: 0.00021910667419433594\n",
      "forward: 0.06221461296081543\n",
      "storing: 0.0002257823944091797\n",
      "loop: 0.0002880096435546875\n",
      "forward: 0.06194114685058594\n",
      "storing: 0.0002009868621826172\n",
      "loop: 0.00023412704467773438\n"
     ]
    },
    {
     "name": "stderr",
     "output_type": "stream",
     "text": [
      " 32%|███▏      | 327/1024 [00:21<00:45, 15.43it/s]"
     ]
    },
    {
     "name": "stdout",
     "output_type": "stream",
     "text": [
      "forward: 0.06332898139953613\n",
      "storing: 0.0002117156982421875\n",
      "loop: 0.00026679039001464844\n",
      "forward: 0.062331438064575195\n",
      "storing: 0.00020599365234375\n",
      "loop: 0.000244140625\n",
      "forward: 0.06879734992980957\n",
      "storing: 0.00022363662719726562\n",
      "loop: 0.0002942085266113281\n",
      "forward: 0.06217384338378906\n",
      "storing: 0.00020623207092285156\n",
      "loop: 0.00023508071899414062\n"
     ]
    },
    {
     "name": "stderr",
     "output_type": "stream",
     "text": [
      " 32%|███▏      | 331/1024 [00:21<00:45, 15.38it/s]"
     ]
    },
    {
     "name": "stdout",
     "output_type": "stream",
     "text": [
      "forward: 0.06288743019104004\n",
      "storing: 0.00023865699768066406\n",
      "loop: 0.0002856254577636719\n",
      "forward: 0.06771516799926758\n",
      "storing: 0.00022339820861816406\n",
      "loop: 0.0002529621124267578\n",
      "forward: 0.06255078315734863\n",
      "storing: 0.0001995563507080078\n",
      "loop: 0.00026607513427734375\n",
      "forward: 0.06222033500671387\n",
      "storing: 0.0001881122589111328\n"
     ]
    },
    {
     "name": "stderr",
     "output_type": "stream",
     "text": [
      " 33%|███▎      | 335/1024 [00:21<00:44, 15.36it/s]"
     ]
    },
    {
     "name": "stdout",
     "output_type": "stream",
     "text": [
      "loop: 0.0067479610443115234\n",
      "forward: 0.06214404106140137\n",
      "storing: 0.0001881122589111328\n",
      "loop: 0.00026679039001464844\n",
      "forward: 0.06230735778808594\n",
      "storing: 0.0002048015594482422\n",
      "loop: 0.00023174285888671875\n",
      "forward: 0.06377458572387695\n",
      "storing: 0.00025534629821777344\n",
      "loop: 0.0003063678741455078\n"
     ]
    },
    {
     "name": "stderr",
     "output_type": "stream",
     "text": [
      " 33%|███▎      | 339/1024 [00:21<00:44, 15.43it/s]"
     ]
    },
    {
     "name": "stdout",
     "output_type": "stream",
     "text": [
      "forward: 0.06733298301696777\n",
      "storing: 0.0001900196075439453\n",
      "loop: 0.00025153160095214844\n",
      "forward: 0.06221914291381836\n",
      "storing: 0.00015211105346679688\n",
      "loop: 0.00022363662719726562\n",
      "forward: 0.06237339973449707\n",
      "storing: 0.00014925003051757812\n",
      "loop: 0.00018310546875\n",
      "forward: 0.062365055084228516\n",
      "storing: 0.0001480579376220703\n",
      "loop: 0.00022864341735839844\n"
     ]
    },
    {
     "name": "stderr",
     "output_type": "stream",
     "text": [
      " 33%|███▎      | 343/1024 [00:22<00:44, 15.46it/s]"
     ]
    },
    {
     "name": "stdout",
     "output_type": "stream",
     "text": [
      "forward: 0.06314325332641602\n",
      "storing: 0.0001499652862548828\n",
      "loop: 0.00018548965454101562\n",
      "forward: 0.0624690055847168\n",
      "storing: 0.00015592575073242188\n",
      "loop: 0.00022649765014648438\n",
      "forward: 0.06227755546569824\n",
      "storing: 0.0001480579376220703\n",
      "loop: 0.00019502639770507812\n",
      "forward: 0.06627202033996582\n",
      "storing: 0.0001475811004638672\n",
      "loop: 0.0002257823944091797\n"
     ]
    },
    {
     "name": "stderr",
     "output_type": "stream",
     "text": [
      " 34%|███▍      | 347/1024 [00:22<00:43, 15.62it/s]"
     ]
    },
    {
     "name": "stdout",
     "output_type": "stream",
     "text": [
      "forward: 0.06357455253601074\n",
      "storing: 0.00015091896057128906\n",
      "loop: 0.00019240379333496094\n",
      "forward: 0.062252044677734375\n",
      "storing: 0.00014925003051757812\n",
      "loop: 0.0002124309539794922\n",
      "forward: 0.06206321716308594\n",
      "storing: 0.00014829635620117188\n",
      "loop: 0.0001857280731201172\n",
      "forward: 0.06227612495422363\n",
      "storing: 0.000148773193359375\n",
      "loop: 0.00021266937255859375\n"
     ]
    },
    {
     "name": "stderr",
     "output_type": "stream",
     "text": [
      " 34%|███▍      | 351/1024 [00:22<00:43, 15.45it/s]"
     ]
    },
    {
     "name": "stdout",
     "output_type": "stream",
     "text": [
      "forward: 0.06967854499816895\n",
      "storing: 0.00023627281188964844\n",
      "loop: 0.0002529621124267578\n",
      "forward: 0.06218314170837402\n",
      "storing: 0.00021457672119140625\n",
      "loop: 0.00028443336486816406\n",
      "forward: 0.062310218811035156\n",
      "storing: 0.00021958351135253906\n",
      "loop: 0.0002357959747314453\n",
      "forward: 0.06396365165710449\n",
      "storing: 0.0002090930938720703\n",
      "loop: 0.00027680397033691406\n"
     ]
    },
    {
     "name": "stderr",
     "output_type": "stream",
     "text": [
      " 35%|███▍      | 355/1024 [00:22<00:43, 15.35it/s]"
     ]
    },
    {
     "name": "stdout",
     "output_type": "stream",
     "text": [
      "forward: 0.06335020065307617\n",
      "storing: 0.0002117156982421875\n",
      "loop: 0.0002262592315673828\n",
      "forward: 0.06239008903503418\n",
      "storing: 0.0002105236053466797\n",
      "loop: 0.0002961158752441406\n",
      "forward: 0.06864094734191895\n",
      "storing: 0.00021886825561523438\n",
      "loop: 0.00023818016052246094\n",
      "forward: 0.062125205993652344\n",
      "storing: 0.0002257823944091797\n",
      "loop: 0.00029397010803222656\n"
     ]
    },
    {
     "name": "stderr",
     "output_type": "stream",
     "text": [
      " 35%|███▌      | 359/1024 [00:23<00:42, 15.48it/s]"
     ]
    },
    {
     "name": "stdout",
     "output_type": "stream",
     "text": [
      "forward: 0.06328368186950684\n",
      "storing: 0.0002307891845703125\n",
      "loop: 0.00024366378784179688\n",
      "forward: 0.062451839447021484\n",
      "storing: 0.00021576881408691406\n",
      "loop: 0.00028634071350097656\n",
      "forward: 0.06224370002746582\n",
      "storing: 0.0002090930938720703\n",
      "loop: 0.00024127960205078125\n",
      "forward: 0.06337475776672363\n",
      "storing: 0.00021529197692871094\n",
      "loop: 0.0002760887145996094\n"
     ]
    },
    {
     "name": "stderr",
     "output_type": "stream",
     "text": [
      " 35%|███▌      | 363/1024 [00:23<00:43, 15.33it/s]"
     ]
    },
    {
     "name": "stdout",
     "output_type": "stream",
     "text": [
      "forward: 0.06315135955810547\n",
      "storing: 0.00020575523376464844\n",
      "loop: 0.00023794174194335938\n",
      "forward: 0.06419634819030762\n",
      "storing: 0.00021886825561523438\n",
      "loop: 0.000278472900390625\n",
      "forward: 0.062304019927978516\n",
      "storing: 0.000202178955078125\n",
      "loop: 0.00022912025451660156\n",
      "forward: 0.06825470924377441\n",
      "storing: 0.00021791458129882812\n",
      "loop: 0.00027942657470703125\n"
     ]
    },
    {
     "name": "stderr",
     "output_type": "stream",
     "text": [
      " 36%|███▌      | 367/1024 [00:23<00:42, 15.52it/s]"
     ]
    },
    {
     "name": "stdout",
     "output_type": "stream",
     "text": [
      "forward: 0.06216835975646973\n",
      "storing: 0.0001976490020751953\n",
      "loop: 0.00023627281188964844\n",
      "forward: 0.06215190887451172\n",
      "storing: 0.00021147727966308594\n",
      "loop: 0.0002853870391845703\n",
      "forward: 0.06327271461486816\n",
      "storing: 0.0002231597900390625\n",
      "loop: 0.00022745132446289062\n",
      "forward: 0.062317609786987305\n",
      "storing: 0.0002028942108154297\n",
      "loop: 0.00027489662170410156\n"
     ]
    },
    {
     "name": "stderr",
     "output_type": "stream",
     "text": [
      " 36%|███▌      | 371/1024 [00:23<00:42, 15.44it/s]"
     ]
    },
    {
     "name": "stdout",
     "output_type": "stream",
     "text": [
      "forward: 0.06331682205200195\n",
      "storing: 0.00021958351135253906\n",
      "loop: 0.00022912025451660156\n",
      "forward: 0.062491416931152344\n",
      "storing: 0.0002155303955078125\n",
      "loop: 0.0002827644348144531\n",
      "forward: 0.06231212615966797\n",
      "storing: 0.00019931793212890625\n",
      "loop: 0.0002281665802001953\n",
      "forward: 0.06672167778015137\n",
      "storing: 0.00021386146545410156\n",
      "loop: 0.0002961158752441406\n"
     ]
    },
    {
     "name": "stderr",
     "output_type": "stream",
     "text": [
      " 37%|███▋      | 375/1024 [00:24<00:41, 15.48it/s]"
     ]
    },
    {
     "name": "stdout",
     "output_type": "stream",
     "text": [
      "forward: 0.06276440620422363\n",
      "storing: 0.00021767616271972656\n",
      "loop: 0.0002257823944091797\n",
      "forward: 0.0620570182800293\n",
      "storing: 0.00021004676818847656\n",
      "loop: 0.00028634071350097656\n",
      "forward: 0.06535005569458008\n",
      "storing: 0.00022077560424804688\n",
      "loop: 0.00024247169494628906\n",
      "forward: 0.06230735778808594\n",
      "storing: 0.00021147727966308594\n",
      "loop: 0.0002887248992919922\n"
     ]
    },
    {
     "name": "stderr",
     "output_type": "stream",
     "text": [
      " 37%|███▋      | 377/1024 [00:24<00:42, 15.31it/s]"
     ]
    },
    {
     "name": "stdout",
     "output_type": "stream",
     "text": [
      "forward: 0.06287908554077148\n",
      "storing: 0.006760120391845703\n",
      "loop: 0.0002319812774658203\n",
      "forward: 0.062244415283203125\n",
      "storing: 0.00020384788513183594\n",
      "loop: 0.0002892017364501953\n",
      "forward: 0.06201457977294922\n",
      "storing: 0.00024056434631347656\n",
      "loop: 0.0002391338348388672\n",
      "forward: 0.062082529067993164\n"
     ]
    },
    {
     "name": "stderr",
     "output_type": "stream",
     "text": [
      " 37%|███▋      | 381/1024 [00:24<00:41, 15.36it/s]"
     ]
    },
    {
     "name": "stdout",
     "output_type": "stream",
     "text": [
      "storing: 0.0012860298156738281\n",
      "loop: 0.00026226043701171875\n",
      "forward: 0.062322378158569336\n",
      "storing: 0.00021266937255859375\n",
      "loop: 0.0002465248107910156\n",
      "forward: 0.06228041648864746\n",
      "storing: 0.00020360946655273438\n",
      "loop: 0.00027179718017578125\n",
      "forward: 0.062347412109375\n",
      "storing: 0.00022101402282714844\n",
      "loop: 0.0002505779266357422\n"
     ]
    },
    {
     "name": "stderr",
     "output_type": "stream",
     "text": [
      " 38%|███▊      | 385/1024 [00:24<00:41, 15.54it/s]"
     ]
    },
    {
     "name": "stdout",
     "output_type": "stream",
     "text": [
      "forward: 0.06350064277648926\n",
      "storing: 0.00022125244140625\n",
      "loop: 0.0002772808074951172\n",
      "forward: 0.06226801872253418\n",
      "storing: 0.0001380443572998047\n",
      "loop: 0.00022530555725097656\n",
      "forward: 0.062198638916015625\n",
      "storing: 0.00016951560974121094\n",
      "loop: 0.00027441978454589844\n",
      "forward: 0.06202840805053711\n",
      "storing: 0.0001404285430908203\n",
      "loop: 0.0002200603485107422\n"
     ]
    },
    {
     "name": "stderr",
     "output_type": "stream",
     "text": [
      " 38%|███▊      | 389/1024 [00:25<00:40, 15.64it/s]"
     ]
    },
    {
     "name": "stdout",
     "output_type": "stream",
     "text": [
      "forward: 0.06338882446289062\n",
      "storing: 0.0001804828643798828\n",
      "loop: 0.00026416778564453125\n",
      "forward: 0.06225872039794922\n",
      "storing: 0.0001990795135498047\n",
      "loop: 0.00023484230041503906\n",
      "forward: 0.06238579750061035\n",
      "storing: 0.0002028942108154297\n",
      "loop: 0.00027441978454589844\n",
      "forward: 0.062453269958496094\n",
      "storing: 0.0002162456512451172\n",
      "loop: 0.00040602684020996094\n"
     ]
    },
    {
     "name": "stderr",
     "output_type": "stream",
     "text": [
      " 38%|███▊      | 393/1024 [00:25<00:40, 15.45it/s]"
     ]
    },
    {
     "name": "stdout",
     "output_type": "stream",
     "text": [
      "forward: 0.07151603698730469\n",
      "storing: 0.00021719932556152344\n",
      "loop: 0.00026345252990722656\n",
      "forward: 0.0623934268951416\n",
      "storing: 0.0002067089080810547\n",
      "loop: 0.0002720355987548828\n",
      "forward: 0.06237077713012695\n",
      "storing: 0.0002105236053466797\n",
      "loop: 0.0002856254577636719\n",
      "forward: 0.062462806701660156\n",
      "storing: 0.0002181529998779297\n",
      "loop: 0.0002396106719970703\n"
     ]
    },
    {
     "name": "stderr",
     "output_type": "stream",
     "text": [
      " 39%|███▉      | 397/1024 [00:25<00:40, 15.50it/s]"
     ]
    },
    {
     "name": "stdout",
     "output_type": "stream",
     "text": [
      "forward: 0.06342220306396484\n",
      "storing: 0.00021004676818847656\n",
      "loop: 0.0002834796905517578\n",
      "forward: 0.0648798942565918\n",
      "storing: 0.0002110004425048828\n",
      "loop: 0.0002338886260986328\n",
      "forward: 0.061960458755493164\n",
      "storing: 0.000202178955078125\n",
      "loop: 0.0002727508544921875\n",
      "forward: 0.06258797645568848\n",
      "storing: 0.000202178955078125\n",
      "loop: 0.00023365020751953125\n"
     ]
    },
    {
     "name": "stderr",
     "output_type": "stream",
     "text": [
      " 39%|███▉      | 401/1024 [00:25<00:40, 15.48it/s]"
     ]
    },
    {
     "name": "stdout",
     "output_type": "stream",
     "text": [
      "forward: 0.06836700439453125\n",
      "storing: 0.00021004676818847656\n",
      "loop: 0.0002791881561279297\n",
      "forward: 0.062180519104003906\n",
      "storing: 0.00020575523376464844\n",
      "loop: 0.00024771690368652344\n",
      "forward: 0.062133073806762695\n",
      "storing: 0.0002143383026123047\n",
      "loop: 0.00028443336486816406\n",
      "forward: 0.06202411651611328\n",
      "storing: 0.00021529197692871094\n",
      "loop: 0.00022864341735839844\n"
     ]
    },
    {
     "name": "stderr",
     "output_type": "stream",
     "text": [
      " 40%|███▉      | 405/1024 [00:26<00:40, 15.37it/s]"
     ]
    },
    {
     "name": "stdout",
     "output_type": "stream",
     "text": [
      "forward: 0.0631716251373291\n",
      "storing: 0.0002155303955078125\n",
      "loop: 0.0003485679626464844\n",
      "forward: 0.06234335899353027\n",
      "storing: 0.00021004676818847656\n",
      "loop: 0.00023484230041503906\n",
      "forward: 0.062354326248168945\n",
      "storing: 0.00022482872009277344\n",
      "loop: 0.0002989768981933594\n",
      "forward: 0.06221365928649902\n",
      "storing: 0.00021314620971679688\n",
      "loop: 0.0002422332763671875\n"
     ]
    },
    {
     "name": "stderr",
     "output_type": "stream",
     "text": [
      " 40%|███▉      | 409/1024 [00:26<00:39, 15.56it/s]"
     ]
    },
    {
     "name": "stdout",
     "output_type": "stream",
     "text": [
      "forward: 0.06184792518615723\n",
      "storing: 0.00022172927856445312\n",
      "loop: 0.0002722740173339844\n",
      "forward: 0.06213879585266113\n",
      "storing: 0.00021195411682128906\n",
      "loop: 0.00022721290588378906\n",
      "forward: 0.0626993179321289\n",
      "storing: 0.00021123886108398438\n",
      "loop: 0.0002894401550292969\n",
      "forward: 0.062271833419799805\n",
      "storing: 0.00020742416381835938\n",
      "loop: 0.0002315044403076172\n"
     ]
    },
    {
     "name": "stderr",
     "output_type": "stream",
     "text": [
      " 40%|████      | 413/1024 [00:26<00:39, 15.63it/s]"
     ]
    },
    {
     "name": "stdout",
     "output_type": "stream",
     "text": [
      "forward: 0.06326651573181152\n",
      "storing: 0.0002205371856689453\n",
      "loop: 0.0002796649932861328\n",
      "forward: 0.06242656707763672\n",
      "storing: 0.00019693374633789062\n",
      "loop: 0.00022554397583007812\n",
      "forward: 0.06258225440979004\n",
      "storing: 0.0002079010009765625\n",
      "loop: 0.0002722740173339844\n",
      "forward: 0.0624237060546875\n",
      "storing: 0.00020885467529296875\n",
      "loop: 0.00022792816162109375\n"
     ]
    },
    {
     "name": "stderr",
     "output_type": "stream",
     "text": [
      " 41%|████      | 417/1024 [00:26<00:39, 15.36it/s]"
     ]
    },
    {
     "name": "stdout",
     "output_type": "stream",
     "text": [
      "forward: 0.06953835487365723\n",
      "storing: 0.00021982192993164062\n",
      "loop: 0.0002665519714355469\n",
      "forward: 0.0664823055267334\n",
      "storing: 0.0002484321594238281\n",
      "loop: 0.0002288818359375\n",
      "forward: 0.06231856346130371\n",
      "storing: 0.00020051002502441406\n",
      "loop: 0.0002720355987548828\n",
      "forward: 0.06284618377685547\n",
      "storing: 0.0001914501190185547\n",
      "loop: 0.00022912025451660156\n"
     ]
    },
    {
     "name": "stderr",
     "output_type": "stream",
     "text": [
      " 41%|████      | 421/1024 [00:27<00:38, 15.54it/s]"
     ]
    },
    {
     "name": "stdout",
     "output_type": "stream",
     "text": [
      "forward: 0.06311178207397461\n",
      "storing: 0.0002124309539794922\n",
      "loop: 0.0002732276916503906\n",
      "forward: 0.062314510345458984\n",
      "storing: 0.00020694732666015625\n",
      "loop: 0.00023674964904785156\n",
      "forward: 0.0621953010559082\n",
      "storing: 0.00021314620971679688\n",
      "loop: 0.0002956390380859375\n",
      "forward: 0.06221795082092285\n",
      "storing: 0.00021386146545410156\n",
      "loop: 0.00023698806762695312\n"
     ]
    },
    {
     "name": "stderr",
     "output_type": "stream",
     "text": [
      " 42%|████▏     | 425/1024 [00:27<00:38, 15.40it/s]"
     ]
    },
    {
     "name": "stdout",
     "output_type": "stream",
     "text": [
      "forward: 0.0661773681640625\n",
      "storing: 0.00021123886108398438\n",
      "loop: 0.0002627372741699219\n",
      "forward: 0.06720185279846191\n",
      "storing: 0.00021195411682128906\n",
      "loop: 0.00023794174194335938\n",
      "forward: 0.061907052993774414\n",
      "storing: 0.0002079010009765625\n",
      "loop: 0.0002841949462890625\n",
      "forward: 0.06231951713562012\n",
      "storing: 0.0002071857452392578\n",
      "loop: 0.00024199485778808594\n"
     ]
    },
    {
     "name": "stderr",
     "output_type": "stream",
     "text": [
      " 42%|████▏     | 429/1024 [00:27<00:38, 15.55it/s]"
     ]
    },
    {
     "name": "stdout",
     "output_type": "stream",
     "text": [
      "forward: 0.06330037117004395\n",
      "storing: 0.0002143383026123047\n",
      "loop: 0.00026535987854003906\n",
      "forward: 0.06256103515625\n",
      "storing: 0.00019359588623046875\n",
      "loop: 0.00022792816162109375\n",
      "forward: 0.06221508979797363\n",
      "storing: 0.0002033710479736328\n",
      "loop: 0.0002734661102294922\n",
      "forward: 0.06213259696960449\n",
      "storing: 0.00021123886108398438\n",
      "loop: 0.00024247169494628906\n"
     ]
    },
    {
     "name": "stderr",
     "output_type": "stream",
     "text": [
      " 42%|████▏     | 433/1024 [00:27<00:37, 15.67it/s]"
     ]
    },
    {
     "name": "stdout",
     "output_type": "stream",
     "text": [
      "forward: 0.06287074089050293\n",
      "storing: 0.0002155303955078125\n",
      "loop: 0.0002923011779785156\n",
      "forward: 0.061753034591674805\n",
      "storing: 0.00021505355834960938\n",
      "loop: 0.00024008750915527344\n",
      "forward: 0.06235504150390625\n",
      "storing: 0.00020956993103027344\n",
      "loop: 0.0002758502960205078\n",
      "forward: 0.06240224838256836\n",
      "storing: 0.00021409988403320312\n",
      "loop: 0.00022935867309570312\n"
     ]
    },
    {
     "name": "stderr",
     "output_type": "stream",
     "text": [
      " 43%|████▎     | 437/1024 [00:28<00:37, 15.56it/s]"
     ]
    },
    {
     "name": "stdout",
     "output_type": "stream",
     "text": [
      "forward: 0.06870436668395996\n",
      "storing: 0.0002148151397705078\n",
      "loop: 0.00026917457580566406\n",
      "forward: 0.06228375434875488\n",
      "storing: 0.00020074844360351562\n",
      "loop: 0.0002315044403076172\n",
      "forward: 0.06220698356628418\n",
      "storing: 0.00021028518676757812\n",
      "loop: 0.00026535987854003906\n",
      "forward: 0.062399864196777344\n",
      "storing: 0.00020599365234375\n",
      "loop: 0.0002391338348388672\n"
     ]
    },
    {
     "name": "stderr",
     "output_type": "stream",
     "text": [
      " 43%|████▎     | 441/1024 [00:28<00:37, 15.64it/s]"
     ]
    },
    {
     "name": "stdout",
     "output_type": "stream",
     "text": [
      "forward: 0.06336665153503418\n",
      "storing: 0.00022125244140625\n",
      "loop: 0.0002779960632324219\n",
      "forward: 0.06229138374328613\n",
      "storing: 0.00017762184143066406\n",
      "loop: 0.000232696533203125\n",
      "forward: 0.06233668327331543\n",
      "storing: 0.0002071857452392578\n",
      "loop: 0.000270843505859375\n",
      "forward: 0.06239938735961914\n",
      "storing: 0.00020194053649902344\n",
      "loop: 0.0002307891845703125\n"
     ]
    },
    {
     "name": "stderr",
     "output_type": "stream",
     "text": [
      " 43%|████▎     | 445/1024 [00:28<00:37, 15.49it/s]"
     ]
    },
    {
     "name": "stdout",
     "output_type": "stream",
     "text": [
      "forward: 0.06330299377441406\n",
      "storing: 0.00021648406982421875\n",
      "loop: 0.000278472900390625\n",
      "forward: 0.06225752830505371\n",
      "storing: 0.005784511566162109\n",
      "loop: 0.0002448558807373047\n",
      "forward: 0.06180071830749512\n",
      "storing: 0.0002052783966064453\n",
      "loop: 0.00028967857360839844\n",
      "forward: 0.06226158142089844\n",
      "storing: 0.0002162456512451172\n",
      "loop: 0.00023651123046875\n"
     ]
    },
    {
     "name": "stderr",
     "output_type": "stream",
     "text": [
      " 44%|████▍     | 449/1024 [00:28<00:37, 15.53it/s]"
     ]
    },
    {
     "name": "stdout",
     "output_type": "stream",
     "text": [
      "forward: 0.06365823745727539\n",
      "storing: 0.0002193450927734375\n",
      "loop: 0.0002765655517578125\n",
      "forward: 0.06442499160766602\n",
      "storing: 0.00021696090698242188\n",
      "loop: 0.00024271011352539062\n",
      "forward: 0.06206941604614258\n",
      "storing: 0.00020694732666015625\n",
      "loop: 0.0002982616424560547\n",
      "forward: 0.06493854522705078\n",
      "storing: 0.00021386146545410156\n",
      "loop: 0.00022554397583007812\n"
     ]
    },
    {
     "name": "stderr",
     "output_type": "stream",
     "text": [
      " 44%|████▍     | 453/1024 [00:29<00:36, 15.57it/s]"
     ]
    },
    {
     "name": "stdout",
     "output_type": "stream",
     "text": [
      "forward: 0.06206655502319336\n",
      "storing: 0.00020170211791992188\n",
      "loop: 0.00027561187744140625\n",
      "forward: 0.06228303909301758\n",
      "storing: 0.00022029876708984375\n",
      "loop: 0.00022840499877929688\n",
      "forward: 0.0627140998840332\n",
      "storing: 0.0002105236053466797\n",
      "loop: 0.0002727508544921875\n",
      "forward: 0.06232810020446777\n",
      "storing: 0.00021839141845703125\n",
      "loop: 0.00023412704467773438\n"
     ]
    },
    {
     "name": "stderr",
     "output_type": "stream",
     "text": [
      " 45%|████▍     | 457/1024 [00:29<00:36, 15.65it/s]"
     ]
    },
    {
     "name": "stdout",
     "output_type": "stream",
     "text": [
      "forward: 0.06334877014160156\n",
      "storing: 0.00021219253540039062\n",
      "loop: 0.0002765655517578125\n",
      "forward: 0.06216311454772949\n",
      "storing: 0.00019598007202148438\n",
      "loop: 0.00022363662719726562\n",
      "forward: 0.06238579750061035\n",
      "storing: 0.00021314620971679688\n",
      "loop: 0.0002942085266113281\n",
      "forward: 0.06284236907958984\n",
      "storing: 0.00022459030151367188\n",
      "loop: 0.00023627281188964844\n"
     ]
    },
    {
     "name": "stderr",
     "output_type": "stream",
     "text": [
      " 45%|████▌     | 461/1024 [00:29<00:36, 15.43it/s]"
     ]
    },
    {
     "name": "stdout",
     "output_type": "stream",
     "text": [
      "forward: 0.0634145736694336\n",
      "storing: 0.0002205371856689453\n",
      "loop: 0.0002713203430175781\n",
      "forward: 0.0624547004699707\n",
      "storing: 0.00020885467529296875\n",
      "loop: 0.00023031234741210938\n",
      "forward: 0.06836199760437012\n",
      "storing: 0.0002124309539794922\n",
      "loop: 0.00028705596923828125\n",
      "forward: 0.06212139129638672\n",
      "storing: 0.00021791458129882812\n",
      "loop: 0.0002429485321044922\n"
     ]
    },
    {
     "name": "stderr",
     "output_type": "stream",
     "text": [
      " 45%|████▌     | 465/1024 [00:29<00:36, 15.35it/s]"
     ]
    },
    {
     "name": "stdout",
     "output_type": "stream",
     "text": [
      "forward: 0.06338191032409668\n",
      "storing: 0.00021600723266601562\n",
      "loop: 0.0002701282501220703\n",
      "forward: 0.06839966773986816\n",
      "storing: 0.0001957416534423828\n",
      "loop: 0.00024271011352539062\n",
      "forward: 0.06252312660217285\n",
      "storing: 0.00021648406982421875\n",
      "loop: 0.0002903938293457031\n",
      "forward: 0.062145233154296875\n",
      "storing: 0.00020599365234375\n",
      "loop: 0.00024437904357910156\n"
     ]
    },
    {
     "name": "stderr",
     "output_type": "stream",
     "text": [
      " 46%|████▌     | 469/1024 [00:30<00:35, 15.50it/s]"
     ]
    },
    {
     "name": "stdout",
     "output_type": "stream",
     "text": [
      "forward: 0.06338858604431152\n",
      "storing: 0.0002193450927734375\n",
      "loop: 0.00026869773864746094\n",
      "forward: 0.0628211498260498\n",
      "storing: 0.0002079010009765625\n",
      "loop: 0.0002269744873046875\n",
      "forward: 0.06264567375183105\n",
      "storing: 0.00021696090698242188\n",
      "loop: 0.0002853870391845703\n",
      "forward: 0.06248927116394043\n",
      "storing: 0.00020647048950195312\n",
      "loop: 0.00025081634521484375\n"
     ]
    },
    {
     "name": "stderr",
     "output_type": "stream",
     "text": [
      " 46%|████▌     | 473/1024 [00:30<00:35, 15.42it/s]"
     ]
    },
    {
     "name": "stdout",
     "output_type": "stream",
     "text": [
      "forward: 0.06347990036010742\n",
      "storing: 0.0002205371856689453\n",
      "loop: 0.0002911090850830078\n",
      "forward: 0.062304019927978516\n",
      "storing: 0.005620241165161133\n",
      "loop: 0.0002453327178955078\n",
      "forward: 0.06202197074890137\n",
      "storing: 0.00021839141845703125\n",
      "loop: 0.00028133392333984375\n",
      "forward: 0.06229591369628906\n",
      "storing: 0.00021409988403320312\n",
      "loop: 0.0002503395080566406\n"
     ]
    },
    {
     "name": "stderr",
     "output_type": "stream",
     "text": [
      " 47%|████▋     | 477/1024 [00:30<00:35, 15.48it/s]"
     ]
    },
    {
     "name": "stdout",
     "output_type": "stream",
     "text": [
      "forward: 0.06789851188659668\n",
      "storing: 0.00021147727966308594\n",
      "loop: 0.0002739429473876953\n",
      "forward: 0.06217241287231445\n",
      "storing: 0.0002162456512451172\n",
      "loop: 0.0002372264862060547\n",
      "forward: 0.06171393394470215\n",
      "storing: 0.00021648406982421875\n",
      "loop: 0.00028324127197265625\n",
      "forward: 0.06214404106140137\n",
      "storing: 0.0002110004425048828\n",
      "loop: 0.00022864341735839844\n"
     ]
    },
    {
     "name": "stderr",
     "output_type": "stream",
     "text": [
      " 47%|████▋     | 481/1024 [00:30<00:35, 15.35it/s]"
     ]
    },
    {
     "name": "stdout",
     "output_type": "stream",
     "text": [
      "forward: 0.06340742111206055\n",
      "storing: 0.00021982192993164062\n",
      "loop: 0.0002665519714355469\n",
      "forward: 0.06229376792907715\n",
      "storing: 0.0002856254577636719\n",
      "loop: 0.0002715587615966797\n",
      "forward: 0.0626070499420166\n",
      "storing: 0.006806373596191406\n",
      "loop: 0.00028824806213378906\n",
      "forward: 0.06232738494873047\n",
      "storing: 0.00019979476928710938\n",
      "loop: 0.00023102760314941406\n"
     ]
    },
    {
     "name": "stderr",
     "output_type": "stream",
     "text": [
      " 47%|████▋     | 485/1024 [00:31<00:35, 15.34it/s]"
     ]
    },
    {
     "name": "stdout",
     "output_type": "stream",
     "text": [
      "forward: 0.06231403350830078\n",
      "storing: 0.00021195411682128906\n",
      "loop: 0.00028252601623535156\n",
      "forward: 0.0681142807006836\n",
      "storing: 0.0002186298370361328\n",
      "loop: 0.00022840499877929688\n",
      "forward: 0.06217551231384277\n",
      "storing: 0.00020813941955566406\n",
      "loop: 0.0002677440643310547\n",
      "forward: 0.06216883659362793\n",
      "storing: 0.0002143383026123047\n",
      "loop: 0.0002257823944091797\n"
     ]
    },
    {
     "name": "stderr",
     "output_type": "stream",
     "text": [
      " 48%|████▊     | 489/1024 [00:31<00:34, 15.41it/s]"
     ]
    },
    {
     "name": "stdout",
     "output_type": "stream",
     "text": [
      "forward: 0.0630486011505127\n",
      "storing: 0.00022029876708984375\n",
      "loop: 0.0002796649932861328\n",
      "forward: 0.06579232215881348\n",
      "storing: 0.0002129077911376953\n",
      "loop: 0.0002288818359375\n",
      "forward: 0.062439680099487305\n",
      "storing: 0.0002028942108154297\n",
      "loop: 0.0002720355987548828\n",
      "forward: 0.062399864196777344\n",
      "storing: 0.0002002716064453125\n",
      "loop: 0.0002372264862060547\n"
     ]
    },
    {
     "name": "stderr",
     "output_type": "stream",
     "text": [
      " 48%|████▊     | 493/1024 [00:31<00:34, 15.43it/s]"
     ]
    },
    {
     "name": "stdout",
     "output_type": "stream",
     "text": [
      "forward: 0.06356644630432129\n",
      "storing: 0.0002129077911376953\n",
      "loop: 0.0002627372741699219\n",
      "forward: 0.0629432201385498\n",
      "storing: 0.00020122528076171875\n",
      "loop: 0.00024056434631347656\n",
      "forward: 0.06510066986083984\n",
      "storing: 0.00021457672119140625\n",
      "loop: 0.00028824806213378906\n",
      "forward: 0.062226295471191406\n",
      "storing: 0.00020885467529296875\n",
      "loop: 0.0002295970916748047\n"
     ]
    },
    {
     "name": "stderr",
     "output_type": "stream",
     "text": [
      " 49%|████▊     | 497/1024 [00:32<00:33, 15.54it/s]"
     ]
    },
    {
     "name": "stdout",
     "output_type": "stream",
     "text": [
      "forward: 0.06366562843322754\n",
      "storing: 0.00021338462829589844\n",
      "loop: 0.0002846717834472656\n",
      "forward: 0.06244254112243652\n",
      "storing: 0.00020313262939453125\n",
      "loop: 0.00023818016052246094\n",
      "forward: 0.06288385391235352\n",
      "storing: 0.0001995563507080078\n",
      "loop: 0.00026726722717285156\n",
      "forward: 0.06388473510742188\n",
      "storing: 0.00021457672119140625\n",
      "loop: 0.00025177001953125\n"
     ]
    },
    {
     "name": "stderr",
     "output_type": "stream",
     "text": [
      " 49%|████▉     | 501/1024 [00:32<00:33, 15.58it/s]"
     ]
    },
    {
     "name": "stdout",
     "output_type": "stream",
     "text": [
      "forward: 0.06322431564331055\n",
      "storing: 0.0002219676971435547\n",
      "loop: 0.00027751922607421875\n",
      "forward: 0.06206774711608887\n",
      "storing: 0.0002193450927734375\n",
      "loop: 0.00024819374084472656\n",
      "forward: 0.06286048889160156\n",
      "storing: 0.00021338462829589844\n",
      "loop: 0.0002808570861816406\n",
      "forward: 0.06236720085144043\n",
      "storing: 0.00021314620971679688\n",
      "loop: 0.0002288818359375\n"
     ]
    },
    {
     "name": "stderr",
     "output_type": "stream",
     "text": [
      " 49%|████▉     | 505/1024 [00:32<00:33, 15.50it/s]"
     ]
    },
    {
     "name": "stdout",
     "output_type": "stream",
     "text": [
      "forward: 0.06370186805725098\n",
      "storing: 0.00022029876708984375\n",
      "loop: 0.0002646446228027344\n",
      "forward: 0.06246304512023926\n",
      "storing: 0.00021314620971679688\n",
      "loop: 0.00024318695068359375\n",
      "forward: 0.06589245796203613\n",
      "storing: 0.0002143383026123047\n",
      "loop: 0.00029158592224121094\n",
      "forward: 0.06674504280090332\n",
      "storing: 0.0002143383026123047\n",
      "loop: 0.0002307891845703125\n"
     ]
    },
    {
     "name": "stderr",
     "output_type": "stream",
     "text": [
      " 50%|████▉     | 509/1024 [00:32<00:33, 15.48it/s]"
     ]
    },
    {
     "name": "stdout",
     "output_type": "stream",
     "text": [
      "forward: 0.06283783912658691\n",
      "storing: 0.00020956993103027344\n",
      "loop: 0.0002675056457519531\n",
      "forward: 0.06269979476928711\n",
      "storing: 0.00019884109497070312\n",
      "loop: 0.00023651123046875\n",
      "forward: 0.06245541572570801\n",
      "storing: 0.0002219676971435547\n",
      "loop: 0.000278472900390625\n",
      "forward: 0.06825709342956543\n",
      "storing: 0.0002124309539794922\n",
      "loop: 0.00023508071899414062\n"
     ]
    },
    {
     "name": "stderr",
     "output_type": "stream",
     "text": [
      " 50%|█████     | 513/1024 [00:33<00:33, 15.42it/s]"
     ]
    },
    {
     "name": "stdout",
     "output_type": "stream",
     "text": [
      "forward: 0.06348419189453125\n",
      "storing: 0.00024175643920898438\n",
      "loop: 0.00028967857360839844\n",
      "forward: 0.06258678436279297\n",
      "storing: 0.0002148151397705078\n",
      "loop: 0.00024390220642089844\n",
      "forward: 0.06262636184692383\n",
      "storing: 0.00021338462829589844\n",
      "loop: 0.0002846717834472656\n",
      "forward: 0.062302350997924805\n",
      "storing: 0.00022149085998535156\n",
      "loop: 0.00023126602172851562\n"
     ]
    },
    {
     "name": "stderr",
     "output_type": "stream",
     "text": [
      " 50%|█████     | 517/1024 [00:33<00:32, 15.42it/s]"
     ]
    },
    {
     "name": "stdout",
     "output_type": "stream",
     "text": [
      "forward: 0.06839323043823242\n",
      "storing: 0.00022649765014648438\n",
      "loop: 0.0004420280456542969\n",
      "forward: 0.06232786178588867\n",
      "storing: 0.00020742416381835938\n",
      "loop: 0.00023746490478515625\n",
      "forward: 0.0626075267791748\n",
      "storing: 0.00021314620971679688\n",
      "loop: 0.00027632713317871094\n",
      "forward: 0.06266641616821289\n",
      "storing: 0.0002009868621826172\n",
      "loop: 0.0002262592315673828\n"
     ]
    },
    {
     "name": "stderr",
     "output_type": "stream",
     "text": [
      " 51%|█████     | 521/1024 [00:33<00:32, 15.54it/s]"
     ]
    },
    {
     "name": "stdout",
     "output_type": "stream",
     "text": [
      "forward: 0.06391739845275879\n",
      "storing: 0.00022172927856445312\n",
      "loop: 0.0002758502960205078\n",
      "forward: 0.06214594841003418\n",
      "storing: 0.0002143383026123047\n",
      "loop: 0.0002543926239013672\n",
      "forward: 0.06268310546875\n",
      "storing: 0.0002143383026123047\n",
      "loop: 0.000286102294921875\n",
      "forward: 0.06402254104614258\n",
      "storing: 0.0002300739288330078\n",
      "loop: 0.0002315044403076172\n"
     ]
    },
    {
     "name": "stderr",
     "output_type": "stream",
     "text": [
      " 51%|█████▏    | 525/1024 [00:33<00:32, 15.54it/s]"
     ]
    },
    {
     "name": "stdout",
     "output_type": "stream",
     "text": [
      "forward: 0.06356239318847656\n",
      "storing: 0.00022459030151367188\n",
      "loop: 0.0002715587615966797\n",
      "forward: 0.06267118453979492\n",
      "storing: 0.0002124309539794922\n",
      "loop: 0.00023508071899414062\n",
      "forward: 0.0628666877746582\n",
      "storing: 0.00021767616271972656\n",
      "loop: 0.0002753734588623047\n",
      "forward: 0.06233406066894531\n",
      "storing: 0.0002124309539794922\n",
      "loop: 0.000240325927734375\n"
     ]
    },
    {
     "name": "stderr",
     "output_type": "stream",
     "text": [
      " 52%|█████▏    | 529/1024 [00:34<00:31, 15.58it/s]"
     ]
    },
    {
     "name": "stdout",
     "output_type": "stream",
     "text": [
      "forward: 0.06315851211547852\n",
      "storing: 0.0002143383026123047\n",
      "loop: 0.0002777576446533203\n",
      "forward: 0.0622711181640625\n",
      "storing: 0.0002124309539794922\n",
      "loop: 0.0002384185791015625\n",
      "forward: 0.06376314163208008\n",
      "storing: 0.000209808349609375\n",
      "loop: 0.0002872943878173828\n",
      "forward: 0.06258749961853027\n",
      "storing: 0.00021076202392578125\n",
      "loop: 0.0002377033233642578\n"
     ]
    },
    {
     "name": "stderr",
     "output_type": "stream",
     "text": [
      " 52%|█████▏    | 533/1024 [00:34<00:31, 15.45it/s]"
     ]
    },
    {
     "name": "stdout",
     "output_type": "stream",
     "text": [
      "forward: 0.0637044906616211\n",
      "storing: 0.0002243518829345703\n",
      "loop: 0.00027060508728027344\n",
      "forward: 0.062186479568481445\n",
      "storing: 0.00021409988403320312\n",
      "loop: 0.00023245811462402344\n",
      "forward: 0.06751847267150879\n",
      "storing: 0.00021696090698242188\n",
      "loop: 0.00027489662170410156\n",
      "forward: 0.06213712692260742\n",
      "storing: 0.00021004676818847656\n",
      "loop: 0.00023818016052246094\n"
     ]
    },
    {
     "name": "stderr",
     "output_type": "stream",
     "text": [
      " 52%|█████▏    | 537/1024 [00:34<00:31, 15.56it/s]"
     ]
    },
    {
     "name": "stdout",
     "output_type": "stream",
     "text": [
      "forward: 0.06347346305847168\n",
      "storing: 0.00022029876708984375\n",
      "loop: 0.00026988983154296875\n",
      "forward: 0.06268596649169922\n",
      "storing: 0.0002155303955078125\n",
      "loop: 0.0002429485321044922\n",
      "forward: 0.06278038024902344\n",
      "storing: 0.0002052783966064453\n",
      "loop: 0.0002770423889160156\n",
      "forward: 0.06486749649047852\n",
      "storing: 0.0002143383026123047\n",
      "loop: 0.0002384185791015625\n"
     ]
    },
    {
     "name": "stderr",
     "output_type": "stream",
     "text": [
      " 53%|█████▎    | 541/1024 [00:34<00:31, 15.55it/s]"
     ]
    },
    {
     "name": "stdout",
     "output_type": "stream",
     "text": [
      "forward: 0.06312847137451172\n",
      "storing: 0.00020837783813476562\n",
      "loop: 0.00027060508728027344\n",
      "forward: 0.06286406517028809\n",
      "storing: 0.0001964569091796875\n",
      "loop: 0.0002429485321044922\n",
      "forward: 0.06260204315185547\n",
      "storing: 0.000209808349609375\n",
      "loop: 0.00029087066650390625\n",
      "forward: 0.06612324714660645\n",
      "storing: 0.00020933151245117188\n",
      "loop: 0.0002455711364746094\n"
     ]
    },
    {
     "name": "stderr",
     "output_type": "stream",
     "text": [
      " 53%|█████▎    | 545/1024 [00:35<00:30, 15.46it/s]"
     ]
    },
    {
     "name": "stdout",
     "output_type": "stream",
     "text": [
      "forward: 0.06382870674133301\n",
      "storing: 0.00022530555725097656\n",
      "loop: 0.00027370452880859375\n",
      "forward: 0.06405353546142578\n",
      "storing: 0.00021314620971679688\n",
      "loop: 0.0002429485321044922\n",
      "forward: 0.06220579147338867\n",
      "storing: 0.0002110004425048828\n",
      "loop: 0.0002803802490234375\n",
      "forward: 0.06274008750915527\n",
      "storing: 0.00021576881408691406\n",
      "loop: 0.0002372264862060547\n"
     ]
    },
    {
     "name": "stderr",
     "output_type": "stream",
     "text": [
      " 54%|█████▎    | 549/1024 [00:35<00:30, 15.35it/s]"
     ]
    },
    {
     "name": "stdout",
     "output_type": "stream",
     "text": [
      "forward: 0.06850504875183105\n",
      "storing: 0.0002205371856689453\n",
      "loop: 0.00027179718017578125\n",
      "forward: 0.0656585693359375\n",
      "storing: 0.0002567768096923828\n",
      "loop: 0.00023412704467773438\n",
      "forward: 0.06179165840148926\n",
      "storing: 0.00020742416381835938\n",
      "loop: 0.0002789497375488281\n",
      "forward: 0.06266999244689941\n"
     ]
    },
    {
     "name": "stderr",
     "output_type": "stream",
     "text": [
      " 54%|█████▍    | 553/1024 [00:35<00:30, 15.33it/s]"
     ]
    },
    {
     "name": "stdout",
     "output_type": "stream",
     "text": [
      "storing: 0.0013325214385986328\n",
      "loop: 0.0002510547637939453\n",
      "forward: 0.06253361701965332\n",
      "storing: 0.0002079010009765625\n",
      "loop: 0.00028252601623535156\n",
      "forward: 0.062415122985839844\n",
      "storing: 0.00020647048950195312\n",
      "loop: 0.00024819374084472656\n",
      "forward: 0.06305599212646484\n",
      "storing: 0.0002129077911376953\n",
      "loop: 0.00029587745666503906\n"
     ]
    },
    {
     "name": "stderr",
     "output_type": "stream",
     "text": [
      " 54%|█████▍    | 557/1024 [00:35<00:30, 15.48it/s]"
     ]
    },
    {
     "name": "stdout",
     "output_type": "stream",
     "text": [
      "forward: 0.06313490867614746\n",
      "storing: 0.00020432472229003906\n",
      "loop: 0.0002288818359375\n",
      "forward: 0.06295537948608398\n",
      "storing: 0.00020647048950195312\n",
      "loop: 0.00027680397033691406\n",
      "forward: 0.06250405311584473\n",
      "storing: 0.0002110004425048828\n",
      "loop: 0.00023436546325683594\n",
      "forward: 0.06267333030700684\n",
      "storing: 0.00020647048950195312\n",
      "loop: 0.00026679039001464844\n"
     ]
    },
    {
     "name": "stderr",
     "output_type": "stream",
     "text": [
      " 55%|█████▍    | 561/1024 [00:36<00:29, 15.52it/s]"
     ]
    },
    {
     "name": "stdout",
     "output_type": "stream",
     "text": [
      "forward: 0.06374883651733398\n",
      "storing: 0.00022077560424804688\n",
      "loop: 0.00023031234741210938\n",
      "forward: 0.06234312057495117\n",
      "storing: 0.0002090930938720703\n",
      "loop: 0.0002853870391845703\n",
      "forward: 0.06433534622192383\n",
      "storing: 0.0002281665802001953\n",
      "loop: 0.00023055076599121094\n",
      "forward: 0.06190752983093262\n",
      "storing: 0.00021028518676757812\n",
      "loop: 0.00028133392333984375\n"
     ]
    },
    {
     "name": "stderr",
     "output_type": "stream",
     "text": [
      " 55%|█████▌    | 565/1024 [00:36<00:29, 15.37it/s]"
     ]
    },
    {
     "name": "stdout",
     "output_type": "stream",
     "text": [
      "forward: 0.06383371353149414\n",
      "storing: 0.00022268295288085938\n",
      "loop: 0.00023174285888671875\n",
      "forward: 0.06248784065246582\n",
      "storing: 0.0002186298370361328\n",
      "loop: 0.00028896331787109375\n",
      "forward: 0.06305503845214844\n",
      "storing: 0.00022673606872558594\n",
      "loop: 0.00024580955505371094\n",
      "forward: 0.06783771514892578\n",
      "storing: 0.00020575523376464844\n",
      "loop: 0.00028133392333984375\n"
     ]
    },
    {
     "name": "stderr",
     "output_type": "stream",
     "text": [
      " 56%|█████▌    | 569/1024 [00:36<00:29, 15.34it/s]"
     ]
    },
    {
     "name": "stdout",
     "output_type": "stream",
     "text": [
      "forward: 0.06312131881713867\n",
      "storing: 0.0070798397064208984\n",
      "loop: 0.00023818016052246094\n",
      "forward: 0.06301164627075195\n",
      "storing: 0.0001976490020751953\n",
      "loop: 0.00026869773864746094\n",
      "forward: 0.062422752380371094\n",
      "storing: 0.00021791458129882812\n",
      "loop: 0.0002384185791015625\n",
      "forward: 0.06239771842956543\n",
      "storing: 0.00022482872009277344\n",
      "loop: 0.0002827644348144531\n"
     ]
    },
    {
     "name": "stderr",
     "output_type": "stream",
     "text": [
      " 56%|█████▌    | 573/1024 [00:36<00:29, 15.38it/s]"
     ]
    },
    {
     "name": "stdout",
     "output_type": "stream",
     "text": [
      "forward: 0.06211566925048828\n",
      "storing: 0.00021409988403320312\n",
      "loop: 0.0003771781921386719\n",
      "forward: 0.06841707229614258\n",
      "storing: 0.00021600723266601562\n",
      "loop: 0.0002810955047607422\n",
      "forward: 0.06266260147094727\n",
      "storing: 0.00018024444580078125\n",
      "loop: 0.000217437744140625\n",
      "forward: 0.06258416175842285\n",
      "storing: 0.0001361370086669922\n",
      "loop: 0.0002620220184326172\n"
     ]
    },
    {
     "name": "stderr",
     "output_type": "stream",
     "text": [
      " 56%|█████▋    | 577/1024 [00:37<00:28, 15.46it/s]"
     ]
    },
    {
     "name": "stdout",
     "output_type": "stream",
     "text": [
      "forward: 0.06250810623168945\n",
      "storing: 0.0002086162567138672\n",
      "loop: 0.0002396106719970703\n",
      "forward: 0.06262612342834473\n",
      "storing: 0.0002071857452392578\n",
      "loop: 0.00027942657470703125\n",
      "forward: 0.06470561027526855\n",
      "storing: 0.00020742416381835938\n",
      "loop: 0.0002448558807373047\n",
      "forward: 0.06249880790710449\n",
      "storing: 0.0002052783966064453\n",
      "loop: 0.0002720355987548828\n"
     ]
    },
    {
     "name": "stderr",
     "output_type": "stream",
     "text": [
      " 57%|█████▋    | 581/1024 [00:37<00:28, 15.55it/s]"
     ]
    },
    {
     "name": "stdout",
     "output_type": "stream",
     "text": [
      "forward: 0.06360673904418945\n",
      "storing: 0.00022363662719726562\n",
      "loop: 0.00023627281188964844\n",
      "forward: 0.0626981258392334\n",
      "storing: 0.00021696090698242188\n",
      "loop: 0.00029087066650390625\n",
      "forward: 0.06256341934204102\n",
      "storing: 0.000209808349609375\n",
      "loop: 0.0002472400665283203\n",
      "forward: 0.06243705749511719\n",
      "storing: 0.0002129077911376953\n",
      "loop: 0.0002791881561279297\n"
     ]
    },
    {
     "name": "stderr",
     "output_type": "stream",
     "text": [
      " 57%|█████▋    | 585/1024 [00:37<00:28, 15.46it/s]"
     ]
    },
    {
     "name": "stdout",
     "output_type": "stream",
     "text": [
      "forward: 0.06375932693481445\n",
      "storing: 0.00021076202392578125\n",
      "loop: 0.005477190017700195\n",
      "forward: 0.06238818168640137\n",
      "storing: 0.00021195411682128906\n",
      "loop: 0.0002880096435546875\n",
      "forward: 0.06252717971801758\n",
      "storing: 0.00020647048950195312\n",
      "loop: 0.00023436546325683594\n",
      "forward: 0.06275033950805664\n",
      "storing: 0.0002090930938720703\n",
      "loop: 0.00027680397033691406\n"
     ]
    },
    {
     "name": "stderr",
     "output_type": "stream",
     "text": [
      " 58%|█████▊    | 589/1024 [00:37<00:28, 15.48it/s]"
     ]
    },
    {
     "name": "stdout",
     "output_type": "stream",
     "text": [
      "forward: 0.0635066032409668\n",
      "storing: 0.00020885467529296875\n",
      "loop: 0.0002346038818359375\n",
      "forward: 0.062258005142211914\n",
      "storing: 0.00021219253540039062\n",
      "loop: 0.00027871131896972656\n",
      "forward: 0.06424093246459961\n",
      "storing: 0.00022172927856445312\n",
      "loop: 0.0002391338348388672\n",
      "forward: 0.06298685073852539\n",
      "storing: 0.00021195411682128906\n",
      "loop: 0.0002803802490234375\n"
     ]
    },
    {
     "name": "stderr",
     "output_type": "stream",
     "text": [
      " 58%|█████▊    | 593/1024 [00:38<00:28, 15.39it/s]"
     ]
    },
    {
     "name": "stdout",
     "output_type": "stream",
     "text": [
      "forward: 0.06272220611572266\n",
      "storing: 0.00019788742065429688\n",
      "loop: 0.0002372264862060547\n",
      "forward: 0.06238675117492676\n",
      "storing: 0.00021004676818847656\n",
      "loop: 0.0003871917724609375\n",
      "forward: 0.06796598434448242\n",
      "storing: 0.00019693374633789062\n",
      "loop: 0.00022912025451660156\n",
      "forward: 0.06220531463623047\n",
      "storing: 0.00020694732666015625\n",
      "loop: 0.00027942657470703125\n"
     ]
    },
    {
     "name": "stderr",
     "output_type": "stream",
     "text": [
      " 58%|█████▊    | 597/1024 [00:38<00:27, 15.36it/s]"
     ]
    },
    {
     "name": "stdout",
     "output_type": "stream",
     "text": [
      "forward: 0.07035541534423828\n",
      "storing: 0.00022363662719726562\n",
      "loop: 0.00024819374084472656\n",
      "forward: 0.06225252151489258\n",
      "storing: 0.00020575523376464844\n",
      "loop: 0.0006358623504638672\n",
      "forward: 0.062200307846069336\n",
      "storing: 0.0002110004425048828\n",
      "loop: 0.0002510547637939453\n",
      "forward: 0.06219911575317383\n",
      "storing: 0.00026226043701171875\n",
      "loop: 0.0003135204315185547\n"
     ]
    },
    {
     "name": "stderr",
     "output_type": "stream",
     "text": [
      " 59%|█████▊    | 601/1024 [00:38<00:27, 15.25it/s]"
     ]
    },
    {
     "name": "stdout",
     "output_type": "stream",
     "text": [
      "forward: 0.06780290603637695\n",
      "storing: 0.00019550323486328125\n",
      "loop: 0.00023889541625976562\n",
      "forward: 0.06818604469299316\n",
      "storing: 0.0001583099365234375\n",
      "loop: 0.00024080276489257812\n",
      "forward: 0.06321287155151367\n",
      "storing: 0.0001513957977294922\n",
      "loop: 0.00020241737365722656\n",
      "forward: 0.06233930587768555\n",
      "storing: 0.00014853477478027344\n",
      "loop: 0.0002124309539794922\n"
     ]
    },
    {
     "name": "stderr",
     "output_type": "stream",
     "text": [
      " 59%|█████▉    | 605/1024 [00:39<00:27, 15.27it/s]"
     ]
    },
    {
     "name": "stdout",
     "output_type": "stream",
     "text": [
      "forward: 0.06363606452941895\n",
      "storing: 0.0001499652862548828\n",
      "loop: 0.00018715858459472656\n",
      "forward: 0.06256794929504395\n",
      "storing: 0.00014710426330566406\n",
      "loop: 0.00021266937255859375\n",
      "forward: 0.06254196166992188\n",
      "storing: 0.00014972686767578125\n",
      "loop: 0.0001919269561767578\n",
      "forward: 0.06829357147216797\n",
      "storing: 0.00014901161193847656\n",
      "loop: 0.00021839141845703125\n"
     ]
    },
    {
     "name": "stderr",
     "output_type": "stream",
     "text": [
      " 59%|█████▉    | 609/1024 [00:39<00:26, 15.38it/s]"
     ]
    },
    {
     "name": "stdout",
     "output_type": "stream",
     "text": [
      "forward: 0.0632178783416748\n",
      "storing: 0.0001583099365234375\n",
      "loop: 0.00019550323486328125\n",
      "forward: 0.06734943389892578\n",
      "storing: 0.00015044212341308594\n",
      "loop: 0.00022292137145996094\n",
      "forward: 0.062424421310424805\n",
      "storing: 0.0001480579376220703\n",
      "loop: 0.00019168853759765625\n",
      "forward: 0.06271672248840332\n",
      "storing: 0.00014972686767578125\n",
      "loop: 0.00022339820861816406\n"
     ]
    },
    {
     "name": "stderr",
     "output_type": "stream",
     "text": [
      " 60%|█████▉    | 613/1024 [00:39<00:26, 15.53it/s]"
     ]
    },
    {
     "name": "stdout",
     "output_type": "stream",
     "text": [
      "forward: 0.06354951858520508\n",
      "storing: 0.00022268295288085938\n",
      "loop: 0.0002472400665283203\n",
      "forward: 0.06232762336730957\n",
      "storing: 0.00019812583923339844\n",
      "loop: 0.0002689361572265625\n",
      "forward: 0.062177181243896484\n",
      "storing: 0.0002067089080810547\n",
      "loop: 0.00024247169494628906\n",
      "forward: 0.06279945373535156\n",
      "storing: 0.0002040863037109375\n",
      "loop: 0.0002772808074951172\n"
     ]
    },
    {
     "name": "stderr",
     "output_type": "stream",
     "text": [
      " 60%|██████    | 617/1024 [00:39<00:26, 15.55it/s]"
     ]
    },
    {
     "name": "stdout",
     "output_type": "stream",
     "text": [
      "forward: 0.06535696983337402\n",
      "storing: 0.00016164779663085938\n",
      "loop: 0.00021219253540039062\n",
      "forward: 0.06271123886108398\n",
      "storing: 0.00016570091247558594\n",
      "loop: 0.0002434253692626953\n",
      "forward: 0.06261563301086426\n",
      "storing: 0.0001609325408935547\n",
      "loop: 0.00021338462829589844\n",
      "forward: 0.06238603591918945\n",
      "storing: 0.00022602081298828125\n",
      "loop: 0.000274658203125\n"
     ]
    },
    {
     "name": "stderr",
     "output_type": "stream",
     "text": [
      " 61%|██████    | 621/1024 [00:40<00:25, 15.63it/s]"
     ]
    },
    {
     "name": "stdout",
     "output_type": "stream",
     "text": [
      "forward: 0.06310033798217773\n",
      "storing: 0.0001659393310546875\n",
      "loop: 0.0002002716064453125\n",
      "forward: 0.06228375434875488\n",
      "storing: 0.00019407272338867188\n",
      "loop: 0.00025343894958496094\n",
      "forward: 0.06274652481079102\n",
      "storing: 0.00014710426330566406\n",
      "loop: 0.0002014636993408203\n",
      "forward: 0.062470197677612305\n",
      "storing: 0.0001442432403564453\n",
      "loop: 0.00026154518127441406\n"
     ]
    },
    {
     "name": "stderr",
     "output_type": "stream",
     "text": [
      " 61%|██████    | 625/1024 [00:40<00:25, 15.49it/s]"
     ]
    },
    {
     "name": "stdout",
     "output_type": "stream",
     "text": [
      "forward: 0.06367063522338867\n",
      "storing: 0.0001552104949951172\n",
      "loop: 0.000202178955078125\n",
      "forward: 0.06259036064147949\n",
      "storing: 0.0001938343048095703\n",
      "loop: 0.00026226043701171875\n",
      "forward: 0.06685256958007812\n",
      "storing: 0.0002315044403076172\n",
      "loop: 0.0002522468566894531\n",
      "forward: 0.06221175193786621\n",
      "storing: 0.00016546249389648438\n",
      "loop: 0.000247955322265625\n"
     ]
    },
    {
     "name": "stderr",
     "output_type": "stream",
     "text": [
      " 61%|██████▏   | 629/1024 [00:40<00:25, 15.42it/s]"
     ]
    },
    {
     "name": "stdout",
     "output_type": "stream",
     "text": [
      "forward: 0.06369161605834961\n",
      "storing: 0.0001685619354248047\n",
      "loop: 0.00019884109497070312\n",
      "forward: 0.06268906593322754\n",
      "storing: 0.0001876354217529297\n",
      "loop: 0.0002601146697998047\n",
      "forward: 0.06707239151000977\n",
      "storing: 0.00019288063049316406\n",
      "loop: 0.00023651123046875\n",
      "forward: 0.06232333183288574\n",
      "storing: 0.00015974044799804688\n",
      "loop: 0.0002434253692626953\n"
     ]
    },
    {
     "name": "stderr",
     "output_type": "stream",
     "text": [
      " 62%|██████▏   | 633/1024 [00:40<00:25, 15.53it/s]"
     ]
    },
    {
     "name": "stdout",
     "output_type": "stream",
     "text": [
      "forward: 0.06310009956359863\n",
      "storing: 0.00022101402282714844\n",
      "loop: 0.00023317337036132812\n",
      "forward: 0.062407732009887695\n",
      "storing: 0.0005712509155273438\n",
      "loop: 0.00028133392333984375\n",
      "forward: 0.06285858154296875\n",
      "storing: 0.00016379356384277344\n",
      "loop: 0.0002124309539794922\n",
      "forward: 0.062493324279785156\n",
      "storing: 0.0002014636993408203\n",
      "loop: 0.0002689361572265625\n"
     ]
    },
    {
     "name": "stderr",
     "output_type": "stream",
     "text": [
      " 62%|██████▏   | 637/1024 [00:41<00:24, 15.62it/s]"
     ]
    },
    {
     "name": "stdout",
     "output_type": "stream",
     "text": [
      "forward: 0.06274986267089844\n",
      "storing: 0.00017261505126953125\n",
      "loop: 0.00022292137145996094\n",
      "forward: 0.06305289268493652\n",
      "storing: 0.00022864341735839844\n",
      "loop: 0.00027298927307128906\n",
      "forward: 0.0622713565826416\n",
      "storing: 0.0001614093780517578\n",
      "loop: 0.0002067089080810547\n",
      "forward: 0.0621945858001709\n",
      "storing: 0.00018167495727539062\n",
      "loop: 0.00025963783264160156\n"
     ]
    },
    {
     "name": "stderr",
     "output_type": "stream",
     "text": [
      " 63%|██████▎   | 641/1024 [00:41<00:24, 15.63it/s]"
     ]
    },
    {
     "name": "stdout",
     "output_type": "stream",
     "text": [
      "forward: 0.06342935562133789\n",
      "storing: 0.0002434253692626953\n",
      "loop: 0.00024056434631347656\n",
      "forward: 0.06281113624572754\n",
      "storing: 0.00017642974853515625\n",
      "loop: 0.0002532005310058594\n",
      "forward: 0.06263351440429688\n",
      "storing: 0.0001609325408935547\n",
      "loop: 0.0002040863037109375\n",
      "forward: 0.06274533271789551\n",
      "storing: 0.00020074844360351562\n",
      "loop: 0.000255584716796875\n"
     ]
    },
    {
     "name": "stderr",
     "output_type": "stream",
     "text": [
      " 63%|██████▎   | 645/1024 [00:41<00:24, 15.58it/s]"
     ]
    },
    {
     "name": "stdout",
     "output_type": "stream",
     "text": [
      "forward: 0.06385612487792969\n",
      "storing: 0.0002532005310058594\n",
      "loop: 0.0002732276916503906\n",
      "forward: 0.06438851356506348\n",
      "storing: 0.00016880035400390625\n",
      "loop: 0.0002446174621582031\n",
      "forward: 0.06252622604370117\n",
      "storing: 0.00016045570373535156\n",
      "loop: 0.00022172927856445312\n",
      "forward: 0.06276345252990723\n",
      "storing: 0.00016164779663085938\n",
      "loop: 0.00023436546325683594\n"
     ]
    },
    {
     "name": "stderr",
     "output_type": "stream",
     "text": [
      " 63%|██████▎   | 649/1024 [00:41<00:24, 15.61it/s]"
     ]
    },
    {
     "name": "stdout",
     "output_type": "stream",
     "text": [
      "forward: 0.06386971473693848\n",
      "storing: 0.0003402233123779297\n",
      "loop: 0.0002453327178955078\n",
      "forward: 0.06262779235839844\n",
      "storing: 0.00016951560974121094\n",
      "loop: 0.0002448558807373047\n",
      "forward: 0.06253480911254883\n",
      "storing: 0.00016498565673828125\n",
      "loop: 0.0002014636993408203\n",
      "forward: 0.06252574920654297\n",
      "storing: 0.0001926422119140625\n",
      "loop: 0.00025725364685058594\n"
     ]
    },
    {
     "name": "stderr",
     "output_type": "stream",
     "text": [
      " 64%|██████▍   | 653/1024 [00:42<00:23, 15.66it/s]"
     ]
    },
    {
     "name": "stdout",
     "output_type": "stream",
     "text": [
      "forward: 0.06312727928161621\n",
      "storing: 0.00016760826110839844\n",
      "loop: 0.00020575523376464844\n",
      "forward: 0.061914920806884766\n",
      "storing: 0.00020122528076171875\n",
      "loop: 0.0002589225769042969\n",
      "forward: 0.06285405158996582\n",
      "storing: 0.00011968612670898438\n",
      "loop: 0.0002009868621826172\n",
      "forward: 0.06252121925354004\n",
      "storing: 0.0001690387725830078\n",
      "loop: 0.00024080276489257812\n"
     ]
    },
    {
     "name": "stderr",
     "output_type": "stream",
     "text": [
      " 64%|██████▍   | 657/1024 [00:42<00:23, 15.67it/s]"
     ]
    },
    {
     "name": "stdout",
     "output_type": "stream",
     "text": [
      "forward: 0.06382369995117188\n",
      "storing: 0.00018405914306640625\n",
      "loop: 0.0002319812774658203\n",
      "forward: 0.06256365776062012\n",
      "storing: 0.0001308917999267578\n",
      "loop: 0.0002357959747314453\n",
      "forward: 0.06264591217041016\n",
      "storing: 0.0001480579376220703\n",
      "loop: 0.00019407272338867188\n",
      "forward: 0.06216835975646973\n",
      "storing: 0.0001571178436279297\n",
      "loop: 0.00028133392333984375\n"
     ]
    },
    {
     "name": "stderr",
     "output_type": "stream",
     "text": [
      " 65%|██████▍   | 661/1024 [00:42<00:23, 15.63it/s]"
     ]
    },
    {
     "name": "stdout",
     "output_type": "stream",
     "text": [
      "forward: 0.06311392784118652\n",
      "storing: 0.00015926361083984375\n",
      "loop: 0.0008366107940673828\n",
      "forward: 0.06281924247741699\n",
      "storing: 0.0001842975616455078\n",
      "loop: 0.0002639293670654297\n",
      "forward: 0.06270289421081543\n",
      "storing: 0.0001735687255859375\n",
      "loop: 0.0002319812774658203\n",
      "forward: 0.06279516220092773\n",
      "storing: 0.0002071857452392578\n",
      "loop: 0.0002644062042236328\n"
     ]
    },
    {
     "name": "stderr",
     "output_type": "stream",
     "text": [
      " 65%|██████▍   | 665/1024 [00:42<00:22, 15.65it/s]"
     ]
    },
    {
     "name": "stdout",
     "output_type": "stream",
     "text": [
      "forward: 0.06368780136108398\n",
      "storing: 0.0001633167266845703\n",
      "loop: 0.00020551681518554688\n",
      "forward: 0.062242746353149414\n",
      "storing: 0.00017189979553222656\n",
      "loop: 0.00024890899658203125\n",
      "forward: 0.06223416328430176\n",
      "storing: 0.00018095970153808594\n",
      "loop: 0.0002224445343017578\n",
      "forward: 0.06268119812011719\n",
      "storing: 0.00018167495727539062\n",
      "loop: 0.00026416778564453125\n"
     ]
    },
    {
     "name": "stderr",
     "output_type": "stream",
     "text": [
      " 65%|██████▌   | 669/1024 [00:43<00:22, 15.49it/s]"
     ]
    },
    {
     "name": "stdout",
     "output_type": "stream",
     "text": [
      "forward: 0.06384038925170898\n",
      "storing: 0.0001933574676513672\n",
      "loop: 0.00022459030151367188\n",
      "forward: 0.06245112419128418\n",
      "storing: 0.0002052783966064453\n",
      "loop: 0.0002701282501220703\n",
      "forward: 0.06228375434875488\n",
      "storing: 0.0002124309539794922\n",
      "loop: 0.0007226467132568359\n",
      "forward: 0.06209301948547363\n",
      "storing: 0.0001614093780517578\n",
      "loop: 0.00024366378784179688\n"
     ]
    },
    {
     "name": "stderr",
     "output_type": "stream",
     "text": [
      " 66%|██████▌   | 673/1024 [00:43<00:22, 15.52it/s]"
     ]
    },
    {
     "name": "stdout",
     "output_type": "stream",
     "text": [
      "forward: 0.06352615356445312\n",
      "storing: 0.00019621849060058594\n",
      "loop: 0.0002129077911376953\n",
      "forward: 0.06291580200195312\n",
      "storing: 0.0002853870391845703\n",
      "loop: 0.0003948211669921875\n",
      "forward: 0.06263089179992676\n",
      "storing: 0.00022339820861816406\n",
      "loop: 0.00024700164794921875\n",
      "forward: 0.06307506561279297\n",
      "storing: 0.000171661376953125\n",
      "loop: 0.0002541542053222656\n"
     ]
    },
    {
     "name": "stderr",
     "output_type": "stream",
     "text": [
      " 66%|██████▌   | 677/1024 [00:43<00:22, 15.59it/s]"
     ]
    },
    {
     "name": "stdout",
     "output_type": "stream",
     "text": [
      "forward: 0.06370282173156738\n",
      "storing: 0.00015783309936523438\n",
      "loop: 0.0002071857452392578\n",
      "forward: 0.062376976013183594\n",
      "storing: 0.00023436546325683594\n",
      "loop: 0.0002956390380859375\n",
      "forward: 0.06220507621765137\n",
      "storing: 0.00016069412231445312\n",
      "loop: 0.0002086162567138672\n",
      "forward: 0.06280279159545898\n",
      "storing: 0.00015282630920410156\n",
      "loop: 0.00024437904357910156\n"
     ]
    },
    {
     "name": "stderr",
     "output_type": "stream",
     "text": [
      " 67%|██████▋   | 681/1024 [00:43<00:22, 15.50it/s]"
     ]
    },
    {
     "name": "stdout",
     "output_type": "stream",
     "text": [
      "forward: 0.06394529342651367\n",
      "storing: 0.00018167495727539062\n",
      "loop: 0.00022840499877929688\n",
      "forward: 0.06273198127746582\n",
      "storing: 0.0002124309539794922\n",
      "loop: 0.00027251243591308594\n",
      "forward: 0.06272768974304199\n",
      "storing: 0.0001704692840576172\n",
      "loop: 0.00020647048950195312\n",
      "forward: 0.06536626815795898\n",
      "storing: 0.0001595020294189453\n",
      "loop: 0.00024318695068359375\n"
     ]
    },
    {
     "name": "stderr",
     "output_type": "stream",
     "text": [
      " 67%|██████▋   | 685/1024 [00:44<00:21, 15.57it/s]"
     ]
    },
    {
     "name": "stdout",
     "output_type": "stream",
     "text": [
      "forward: 0.06328821182250977\n",
      "storing: 0.00019073486328125\n",
      "loop: 0.0006725788116455078\n",
      "forward: 0.06294941902160645\n",
      "storing: 0.0002186298370361328\n",
      "loop: 0.00027489662170410156\n",
      "forward: 0.062474966049194336\n",
      "storing: 0.0001728534698486328\n",
      "loop: 0.00021958351135253906\n",
      "forward: 0.06250596046447754\n",
      "storing: 0.0002167224884033203\n",
      "loop: 0.0002655982971191406\n"
     ]
    },
    {
     "name": "stderr",
     "output_type": "stream",
     "text": [
      " 67%|██████▋   | 689/1024 [00:44<00:21, 15.65it/s]"
     ]
    },
    {
     "name": "stdout",
     "output_type": "stream",
     "text": [
      "forward: 0.06272459030151367\n",
      "storing: 0.0001709461212158203\n",
      "loop: 0.00022220611572265625\n",
      "forward: 0.06252455711364746\n",
      "storing: 0.000194549560546875\n",
      "loop: 0.00027441978454589844\n",
      "forward: 0.06219172477722168\n",
      "storing: 0.0001614093780517578\n",
      "loop: 0.00020647048950195312\n",
      "forward: 0.06249380111694336\n",
      "storing: 0.0001964569091796875\n",
      "loop: 0.0002663135528564453\n"
     ]
    },
    {
     "name": "stderr",
     "output_type": "stream",
     "text": [
      " 68%|██████▊   | 693/1024 [00:44<00:21, 15.62it/s]"
     ]
    },
    {
     "name": "stdout",
     "output_type": "stream",
     "text": [
      "forward: 0.0638735294342041\n",
      "storing: 0.00020599365234375\n",
      "loop: 0.00022935867309570312\n",
      "forward: 0.06314778327941895\n",
      "storing: 0.00016307830810546875\n",
      "loop: 0.00023651123046875\n",
      "forward: 0.06259632110595703\n",
      "storing: 0.00020933151245117188\n",
      "loop: 0.00023651123046875\n",
      "forward: 0.06271958351135254\n",
      "storing: 0.00019621849060058594\n",
      "loop: 0.0002684593200683594\n"
     ]
    },
    {
     "name": "stderr",
     "output_type": "stream",
     "text": [
      " 68%|██████▊   | 697/1024 [00:44<00:21, 15.48it/s]"
     ]
    },
    {
     "name": "stdout",
     "output_type": "stream",
     "text": [
      "forward: 0.06382942199707031\n",
      "storing: 0.0002052783966064453\n",
      "loop: 0.0002353191375732422\n",
      "forward: 0.06804490089416504\n",
      "storing: 0.0001666545867919922\n",
      "loop: 0.00023746490478515625\n",
      "forward: 0.06275081634521484\n",
      "storing: 0.0002276897430419922\n",
      "loop: 0.00025272369384765625\n",
      "forward: 0.06270790100097656\n",
      "storing: 0.000217437744140625\n",
      "loop: 0.00027370452880859375\n"
     ]
    },
    {
     "name": "stderr",
     "output_type": "stream",
     "text": [
      " 68%|██████▊   | 701/1024 [00:45<00:20, 15.58it/s]"
     ]
    },
    {
     "name": "stdout",
     "output_type": "stream",
     "text": [
      "forward: 0.06378507614135742\n",
      "storing: 0.0001685619354248047\n",
      "loop: 0.00021648406982421875\n",
      "forward: 0.0623629093170166\n",
      "storing: 0.0001862049102783203\n",
      "loop: 0.00025582313537597656\n",
      "forward: 0.062177419662475586\n",
      "storing: 0.0001678466796875\n",
      "loop: 0.00021314620971679688\n",
      "forward: 0.06278586387634277\n",
      "storing: 0.0001609325408935547\n",
      "loop: 0.0002460479736328125\n"
     ]
    },
    {
     "name": "stderr",
     "output_type": "stream",
     "text": [
      " 69%|██████▉   | 705/1024 [00:45<00:20, 15.39it/s]"
     ]
    },
    {
     "name": "stdout",
     "output_type": "stream",
     "text": [
      "forward: 0.06387782096862793\n",
      "storing: 0.00017380714416503906\n",
      "loop: 0.00022792816162109375\n",
      "forward: 0.06292295455932617\n",
      "storing: 0.00015878677368164062\n",
      "loop: 0.00023412704467773438\n",
      "forward: 0.0626993179321289\n",
      "storing: 0.00021409988403320312\n",
      "loop: 0.00024437904357910156\n",
      "forward: 0.06808185577392578\n",
      "storing: 0.00019621849060058594\n",
      "loop: 0.0002562999725341797\n"
     ]
    },
    {
     "name": "stderr",
     "output_type": "stream",
     "text": [
      " 69%|██████▉   | 709/1024 [00:45<00:20, 15.54it/s]"
     ]
    },
    {
     "name": "stdout",
     "output_type": "stream",
     "text": [
      "forward: 0.06231975555419922\n",
      "storing: 0.00017547607421875\n",
      "loop: 0.00021338462829589844\n",
      "forward: 0.06279778480529785\n",
      "storing: 0.00015807151794433594\n",
      "loop: 0.0002307891845703125\n",
      "forward: 0.06259822845458984\n",
      "storing: 0.00024819374084472656\n",
      "loop: 0.00024509429931640625\n",
      "forward: 0.06276655197143555\n",
      "storing: 0.0001761913299560547\n",
      "loop: 0.0002720355987548828\n"
     ]
    },
    {
     "name": "stderr",
     "output_type": "stream",
     "text": [
      " 70%|██████▉   | 713/1024 [00:45<00:19, 15.58it/s]"
     ]
    },
    {
     "name": "stdout",
     "output_type": "stream",
     "text": [
      "forward: 0.0640561580657959\n",
      "storing: 0.00015664100646972656\n",
      "loop: 0.0002186298370361328\n",
      "forward: 0.062319040298461914\n",
      "storing: 0.00015211105346679688\n",
      "loop: 0.00026297569274902344\n",
      "forward: 0.06226158142089844\n",
      "storing: 0.00017499923706054688\n",
      "loop: 0.000232696533203125\n",
      "forward: 0.06296610832214355\n",
      "storing: 0.0001373291015625\n",
      "loop: 0.0002372264862060547\n"
     ]
    },
    {
     "name": "stderr",
     "output_type": "stream",
     "text": [
      " 70%|███████   | 717/1024 [00:46<00:19, 15.62it/s]"
     ]
    },
    {
     "name": "stdout",
     "output_type": "stream",
     "text": [
      "forward: 0.06348276138305664\n",
      "storing: 0.00019049644470214844\n",
      "loop: 0.00021457672119140625\n",
      "forward: 0.06245279312133789\n",
      "storing: 0.00018548965454101562\n",
      "loop: 0.0002484321594238281\n",
      "forward: 0.06268978118896484\n",
      "storing: 0.0001735687255859375\n",
      "loop: 0.00022935867309570312\n",
      "forward: 0.06273484230041504\n",
      "storing: 0.00016021728515625\n",
      "loop: 0.00024390220642089844\n"
     ]
    },
    {
     "name": "stderr",
     "output_type": "stream",
     "text": [
      " 70%|███████   | 721/1024 [00:46<00:19, 15.55it/s]"
     ]
    },
    {
     "name": "stdout",
     "output_type": "stream",
     "text": [
      "forward: 0.06626057624816895\n",
      "storing: 0.00024008750915527344\n",
      "loop: 0.00025844573974609375\n",
      "forward: 0.06227827072143555\n",
      "storing: 0.00020575523376464844\n",
      "loop: 0.0002753734588623047\n",
      "forward: 0.0628824234008789\n",
      "storing: 0.0001590251922607422\n",
      "loop: 0.0002067089080810547\n",
      "forward: 0.06277108192443848\n",
      "storing: 0.00019121170043945312\n",
      "loop: 0.0002734661102294922\n"
     ]
    },
    {
     "name": "stderr",
     "output_type": "stream",
     "text": [
      " 71%|███████   | 725/1024 [00:46<00:19, 15.61it/s]"
     ]
    },
    {
     "name": "stdout",
     "output_type": "stream",
     "text": [
      "forward: 0.06407904624938965\n",
      "storing: 0.00024771690368652344\n",
      "loop: 0.0002472400665283203\n",
      "forward: 0.0629582405090332\n",
      "storing: 0.00017452239990234375\n",
      "loop: 0.00024580955505371094\n",
      "forward: 0.062229156494140625\n",
      "storing: 0.0001583099365234375\n",
      "loop: 0.00021576881408691406\n",
      "forward: 0.06212139129638672\n",
      "storing: 0.00017571449279785156\n",
      "loop: 0.00026416778564453125\n"
     ]
    },
    {
     "name": "stderr",
     "output_type": "stream",
     "text": [
      " 71%|███████   | 729/1024 [00:47<00:19, 15.16it/s]"
     ]
    },
    {
     "name": "stdout",
     "output_type": "stream",
     "text": [
      "forward: 0.06726765632629395\n",
      "storing: 0.00019979476928710938\n",
      "loop: 0.00024437904357910156\n",
      "forward: 0.06234383583068848\n",
      "storing: 0.00016307830810546875\n",
      "loop: 0.00023245811462402344\n",
      "forward: 0.06374740600585938\n",
      "storing: 0.00022935867309570312\n",
      "loop: 0.0002377033233642578\n",
      "forward: 0.06760263442993164\n",
      "storing: 0.00020647048950195312\n",
      "loop: 0.0002868175506591797\n"
     ]
    },
    {
     "name": "stderr",
     "output_type": "stream",
     "text": [
      " 72%|███████▏  | 733/1024 [00:47<00:18, 15.36it/s]"
     ]
    },
    {
     "name": "stdout",
     "output_type": "stream",
     "text": [
      "forward: 0.06409072875976562\n",
      "storing: 0.0001628398895263672\n",
      "loop: 0.00021457672119140625\n",
      "forward: 0.0626685619354248\n",
      "storing: 0.0001842975616455078\n",
      "loop: 0.000263214111328125\n",
      "forward: 0.06401419639587402\n",
      "storing: 0.00017404556274414062\n",
      "loop: 0.0002155303955078125\n",
      "forward: 0.062053680419921875\n",
      "storing: 0.00021409988403320312\n",
      "loop: 0.0002834796905517578\n"
     ]
    },
    {
     "name": "stderr",
     "output_type": "stream",
     "text": [
      " 72%|███████▏  | 737/1024 [00:47<00:18, 15.47it/s]"
     ]
    },
    {
     "name": "stdout",
     "output_type": "stream",
     "text": [
      "forward: 0.06379246711730957\n",
      "storing: 0.00016570091247558594\n",
      "loop: 0.0002067089080810547\n",
      "forward: 0.06284046173095703\n",
      "storing: 0.00021076202392578125\n",
      "loop: 0.0002753734588623047\n",
      "forward: 0.06260108947753906\n",
      "storing: 0.00023651123046875\n",
      "loop: 0.0002465248107910156\n",
      "forward: 0.06307387351989746\n",
      "storing: 0.0001704692840576172\n",
      "loop: 0.00024962425231933594\n"
     ]
    },
    {
     "name": "stderr",
     "output_type": "stream",
     "text": [
      " 72%|███████▏  | 741/1024 [00:47<00:18, 15.57it/s]"
     ]
    },
    {
     "name": "stdout",
     "output_type": "stream",
     "text": [
      "forward: 0.06354188919067383\n",
      "storing: 0.00016069412231445312\n",
      "loop: 0.000213623046875\n",
      "forward: 0.062107086181640625\n",
      "storing: 0.0001938343048095703\n",
      "loop: 0.0002720355987548828\n",
      "forward: 0.06238508224487305\n",
      "storing: 0.00019097328186035156\n",
      "loop: 0.00023365020751953125\n",
      "forward: 0.0628666877746582\n",
      "storing: 0.00015687942504882812\n",
      "loop: 0.00024509429931640625\n"
     ]
    },
    {
     "name": "stderr",
     "output_type": "stream",
     "text": [
      " 73%|███████▎  | 745/1024 [00:48<00:17, 15.60it/s]"
     ]
    },
    {
     "name": "stdout",
     "output_type": "stream",
     "text": [
      "forward: 0.06373763084411621\n",
      "storing: 0.00018715858459472656\n",
      "loop: 0.000217437744140625\n",
      "forward: 0.06299662590026855\n",
      "storing: 0.0001785755157470703\n",
      "loop: 0.00024437904357910156\n",
      "forward: 0.06273269653320312\n",
      "storing: 0.00021886825561523438\n",
      "loop: 0.00023126602172851562\n",
      "forward: 0.06250524520874023\n",
      "storing: 0.00016021728515625\n",
      "loop: 0.0002357959747314453\n"
     ]
    },
    {
     "name": "stderr",
     "output_type": "stream",
     "text": [
      " 73%|███████▎  | 749/1024 [00:48<00:17, 15.46it/s]"
     ]
    },
    {
     "name": "stdout",
     "output_type": "stream",
     "text": [
      "forward: 0.06309723854064941\n",
      "storing: 0.0001819133758544922\n",
      "loop: 0.00021958351135253906\n",
      "forward: 0.06855368614196777\n",
      "storing: 0.00016546249389648438\n",
      "loop: 0.00024318695068359375\n",
      "forward: 0.06307268142700195\n",
      "storing: 0.00022411346435546875\n",
      "loop: 0.00024247169494628906\n",
      "forward: 0.0627908706665039\n",
      "storing: 0.0001609325408935547\n",
      "loop: 0.0002353191375732422\n"
     ]
    },
    {
     "name": "stderr",
     "output_type": "stream",
     "text": [
      " 74%|███████▎  | 753/1024 [00:48<00:17, 15.56it/s]"
     ]
    },
    {
     "name": "stdout",
     "output_type": "stream",
     "text": [
      "forward: 0.06231212615966797\n",
      "storing: 0.00018405914306640625\n",
      "loop: 0.00022029876708984375\n",
      "forward: 0.06300568580627441\n",
      "storing: 0.00023937225341796875\n",
      "loop: 0.0002906322479248047\n",
      "forward: 0.06281352043151855\n",
      "storing: 0.00016689300537109375\n",
      "loop: 0.00020694732666015625\n",
      "forward: 0.06260180473327637\n",
      "storing: 0.00015878677368164062\n",
      "loop: 0.00023436546325683594\n"
     ]
    },
    {
     "name": "stderr",
     "output_type": "stream",
     "text": [
      " 74%|███████▍  | 757/1024 [00:48<00:17, 15.61it/s]"
     ]
    },
    {
     "name": "stdout",
     "output_type": "stream",
     "text": [
      "forward: 0.0637509822845459\n",
      "storing: 0.0002448558807373047\n",
      "loop: 0.0002512931823730469\n",
      "forward: 0.06309676170349121\n",
      "storing: 0.0001919269561767578\n",
      "loop: 0.0002713203430175781\n",
      "forward: 0.06239724159240723\n",
      "storing: 0.00016045570373535156\n",
      "loop: 0.00020742416381835938\n",
      "forward: 0.0621180534362793\n",
      "storing: 0.0002090930938720703\n",
      "loop: 0.007626056671142578\n"
     ]
    },
    {
     "name": "stderr",
     "output_type": "stream",
     "text": [
      " 74%|███████▍  | 761/1024 [00:49<00:17, 15.29it/s]"
     ]
    },
    {
     "name": "stdout",
     "output_type": "stream",
     "text": [
      "forward: 0.062422752380371094\n",
      "storing: 0.00018525123596191406\n",
      "loop: 0.00022602081298828125\n",
      "forward: 0.06266164779663086\n",
      "storing: 0.00016260147094726562\n",
      "loop: 0.00023984909057617188\n",
      "forward: 0.0627448558807373\n",
      "storing: 0.0001900196075439453\n",
      "loop: 0.00022125244140625\n",
      "forward: 0.0675809383392334\n",
      "storing: 0.0001881122589111328\n",
      "loop: 0.00025463104248046875\n"
     ]
    },
    {
     "name": "stderr",
     "output_type": "stream",
     "text": [
      " 75%|███████▍  | 765/1024 [00:49<00:16, 15.45it/s]"
     ]
    },
    {
     "name": "stdout",
     "output_type": "stream",
     "text": [
      "forward: 0.06329607963562012\n",
      "storing: 0.00016999244689941406\n",
      "loop: 0.00021648406982421875\n",
      "forward: 0.06255602836608887\n",
      "storing: 0.0001571178436279297\n",
      "loop: 0.0002353191375732422\n",
      "forward: 0.06285762786865234\n",
      "storing: 0.0002377033233642578\n",
      "loop: 0.000240325927734375\n",
      "forward: 0.06309366226196289\n",
      "storing: 0.00021696090698242188\n",
      "loop: 0.0002677440643310547\n"
     ]
    },
    {
     "name": "stderr",
     "output_type": "stream",
     "text": [
      " 75%|███████▌  | 769/1024 [00:49<00:16, 15.53it/s]"
     ]
    },
    {
     "name": "stdout",
     "output_type": "stream",
     "text": [
      "forward: 0.06349563598632812\n",
      "storing: 0.0001652240753173828\n",
      "loop: 0.00021266937255859375\n",
      "forward: 0.06278729438781738\n",
      "storing: 0.00019121170043945312\n",
      "loop: 0.00026035308837890625\n",
      "forward: 0.06283950805664062\n",
      "storing: 0.0001811981201171875\n",
      "loop: 0.00022864341735839844\n",
      "forward: 0.06287002563476562\n",
      "storing: 0.00016450881958007812\n",
      "loop: 0.00025343894958496094\n"
     ]
    },
    {
     "name": "stderr",
     "output_type": "stream",
     "text": [
      " 75%|███████▌  | 771/1024 [00:49<00:16, 15.04it/s]"
     ]
    },
    {
     "name": "stdout",
     "output_type": "stream",
     "text": [
      "forward: 0.062270164489746094\n",
      "storing: 0.00588536262512207\n",
      "loop: 0.0002129077911376953\n",
      "forward: 0.06569576263427734\n",
      "storing: 0.00021219253540039062\n",
      "loop: 0.0002911090850830078\n",
      "forward: 0.06842231750488281\n",
      "storing: 0.0002090930938720703\n",
      "loop: 0.00021910667419433594\n",
      "forward: 0.06238961219787598\n"
     ]
    },
    {
     "name": "stderr",
     "output_type": "stream",
     "text": [
      " 76%|███████▌  | 775/1024 [00:49<00:16, 14.97it/s]"
     ]
    },
    {
     "name": "stdout",
     "output_type": "stream",
     "text": [
      "storing: 0.001215219497680664\n",
      "loop: 0.00023055076599121094\n",
      "forward: 0.06599116325378418\n",
      "storing: 0.0002231597900390625\n",
      "loop: 0.00024771690368652344\n",
      "forward: 0.06610822677612305\n",
      "storing: 0.00021529197692871094\n",
      "loop: 0.0002815723419189453\n"
     ]
    },
    {
     "name": "stderr",
     "output_type": "stream",
     "text": [
      " 76%|███████▌  | 779/1024 [00:50<00:16, 15.18it/s]"
     ]
    },
    {
     "name": "stdout",
     "output_type": "stream",
     "text": [
      "forward: 0.06864047050476074\n",
      "storing: 0.00017142295837402344\n",
      "loop: 0.0002129077911376953\n",
      "forward: 0.06225848197937012\n",
      "storing: 0.00022149085998535156\n",
      "loop: 0.0002853870391845703\n",
      "forward: 0.06273293495178223\n",
      "storing: 0.00022983551025390625\n",
      "loop: 0.000247955322265625\n",
      "forward: 0.06278824806213379\n",
      "storing: 0.00017189979553222656\n",
      "loop: 0.0002453327178955078\n"
     ]
    },
    {
     "name": "stderr",
     "output_type": "stream",
     "text": [
      " 76%|███████▋  | 783/1024 [00:50<00:15, 15.42it/s]"
     ]
    },
    {
     "name": "stdout",
     "output_type": "stream",
     "text": [
      "forward: 0.06403994560241699\n",
      "storing: 0.00020384788513183594\n",
      "loop: 0.00022172927856445312\n",
      "forward: 0.06245231628417969\n",
      "storing: 0.0001690387725830078\n",
      "loop: 0.0002529621124267578\n",
      "forward: 0.062169790267944336\n",
      "storing: 0.00018739700317382812\n",
      "loop: 0.0002238750457763672\n",
      "forward: 0.06259465217590332\n",
      "storing: 0.00015926361083984375\n",
      "loop: 0.00024700164794921875\n"
     ]
    },
    {
     "name": "stderr",
     "output_type": "stream",
     "text": [
      " 77%|███████▋  | 787/1024 [00:50<00:15, 15.48it/s]"
     ]
    },
    {
     "name": "stdout",
     "output_type": "stream",
     "text": [
      "forward: 0.06523776054382324\n",
      "storing: 0.00018477439880371094\n",
      "loop: 0.00022268295288085938\n",
      "forward: 0.06271600723266602\n",
      "storing: 0.00019598007202148438\n",
      "loop: 0.0002694129943847656\n",
      "forward: 0.06301426887512207\n",
      "storing: 0.0001735687255859375\n",
      "loop: 0.0002243518829345703\n",
      "forward: 0.06260299682617188\n",
      "storing: 0.00016307830810546875\n",
      "loop: 0.0002353191375732422\n"
     ]
    },
    {
     "name": "stderr",
     "output_type": "stream",
     "text": [
      " 77%|███████▋  | 791/1024 [00:51<00:15, 15.45it/s]"
     ]
    },
    {
     "name": "stdout",
     "output_type": "stream",
     "text": [
      "forward: 0.06334304809570312\n",
      "storing: 0.0002460479736328125\n",
      "loop: 0.00024080276489257812\n",
      "forward: 0.06219935417175293\n",
      "storing: 0.00018906593322753906\n",
      "loop: 0.0002684593200683594\n",
      "forward: 0.06301236152648926\n",
      "storing: 0.00015974044799804688\n",
      "loop: 0.00022125244140625\n",
      "forward: 0.06573033332824707\n",
      "storing: 0.0002753734588623047\n",
      "loop: 0.00031447410583496094\n",
      "forward: 0.07083773612976074\n",
      "storing: 0.00026035308837890625\n",
      "loop: 0.0006060600280761719\n"
     ]
    },
    {
     "name": "stderr",
     "output_type": "stream",
     "text": [
      " 78%|███████▊  | 795/1024 [00:51<00:20, 11.24it/s]"
     ]
    },
    {
     "name": "stdout",
     "output_type": "stream",
     "text": [
      "forward: 0.2895798683166504\n",
      "storing: 0.0002117156982421875\n",
      "loop: 0.0002911090850830078\n",
      "forward: 0.06245684623718262\n",
      "storing: 0.0001926422119140625\n",
      "loop: 0.0002377033233642578\n",
      "forward: 0.06260466575622559\n",
      "storing: 0.00019359588623046875\n",
      "loop: 0.0002758502960205078\n",
      "forward: 0.06220221519470215\n",
      "storing: 0.00016069412231445312\n",
      "loop: 0.00020265579223632812\n"
     ]
    },
    {
     "name": "stderr",
     "output_type": "stream",
     "text": [
      " 78%|███████▊  | 799/1024 [00:51<00:17, 13.02it/s]"
     ]
    },
    {
     "name": "stdout",
     "output_type": "stream",
     "text": [
      "forward: 0.06314229965209961\n",
      "storing: 0.00018143653869628906\n",
      "loop: 0.0002522468566894531\n",
      "forward: 0.06272649765014648\n",
      "storing: 0.0001838207244873047\n",
      "loop: 0.00022459030151367188\n",
      "forward: 0.06736040115356445\n",
      "storing: 0.00017905235290527344\n",
      "loop: 0.00026702880859375\n",
      "forward: 0.06315732002258301\n",
      "storing: 0.00015854835510253906\n",
      "loop: 0.00020837783813476562\n"
     ]
    },
    {
     "name": "stderr",
     "output_type": "stream",
     "text": [
      " 78%|███████▊  | 803/1024 [00:52<00:15, 14.07it/s]"
     ]
    },
    {
     "name": "stdout",
     "output_type": "stream",
     "text": [
      "forward: 0.06681084632873535\n",
      "storing: 0.00021219253540039062\n",
      "loop: 0.00026154518127441406\n",
      "forward: 0.06545829772949219\n",
      "storing: 0.0002243518829345703\n",
      "loop: 0.00023245811462402344\n",
      "forward: 0.06264829635620117\n",
      "storing: 0.00016307830810546875\n",
      "loop: 0.0002415180206298828\n",
      "forward: 0.06256103515625\n",
      "storing: 0.00015592575073242188\n",
      "loop: 0.00020194053649902344\n"
     ]
    },
    {
     "name": "stderr",
     "output_type": "stream",
     "text": [
      " 79%|███████▉  | 807/1024 [00:52<00:14, 14.84it/s]"
     ]
    },
    {
     "name": "stdout",
     "output_type": "stream",
     "text": [
      "forward: 0.06367325782775879\n",
      "storing: 0.00019168853759765625\n",
      "loop: 0.0002627372741699219\n",
      "forward: 0.06222343444824219\n",
      "storing: 0.00022149085998535156\n",
      "loop: 0.0002465248107910156\n",
      "forward: 0.0629122257232666\n",
      "storing: 0.0001747608184814453\n",
      "loop: 0.00024366378784179688\n",
      "forward: 0.06276583671569824\n",
      "storing: 0.00015974044799804688\n",
      "loop: 0.0001990795135498047\n"
     ]
    },
    {
     "name": "stderr",
     "output_type": "stream",
     "text": [
      " 79%|███████▉  | 811/1024 [00:52<00:14, 15.09it/s]"
     ]
    },
    {
     "name": "stdout",
     "output_type": "stream",
     "text": [
      "forward: 0.06386637687683105\n",
      "storing: 0.005983829498291016\n",
      "loop: 0.00025725364685058594\n",
      "forward: 0.06246471405029297\n",
      "storing: 0.0002319812774658203\n",
      "loop: 0.0002415180206298828\n",
      "forward: 0.06272721290588379\n",
      "storing: 0.00016760826110839844\n",
      "loop: 0.0002493858337402344\n",
      "forward: 0.0630185604095459\n",
      "storing: 0.0002048015594482422\n",
      "loop: 0.0002193450927734375\n"
     ]
    },
    {
     "name": "stderr",
     "output_type": "stream",
     "text": [
      " 80%|███████▉  | 815/1024 [00:52<00:13, 15.27it/s]"
     ]
    },
    {
     "name": "stdout",
     "output_type": "stream",
     "text": [
      "forward: 0.06363916397094727\n",
      "storing: 0.00023508071899414062\n",
      "loop: 0.0002696514129638672\n",
      "forward: 0.0627741813659668\n",
      "storing: 0.0001614093780517578\n",
      "loop: 0.00021696090698242188\n",
      "forward: 0.06502413749694824\n",
      "storing: 0.00021338462829589844\n",
      "loop: 0.00027060508728027344\n",
      "forward: 0.06216239929199219\n",
      "storing: 0.00024175643920898438\n",
      "loop: 0.0002377033233642578\n"
     ]
    },
    {
     "name": "stderr",
     "output_type": "stream",
     "text": [
      " 80%|███████▉  | 819/1024 [00:53<00:13, 15.25it/s]"
     ]
    },
    {
     "name": "stdout",
     "output_type": "stream",
     "text": [
      "forward: 0.06374335289001465\n",
      "storing: 0.00019550323486328125\n",
      "loop: 0.0002605915069580078\n",
      "forward: 0.06884002685546875\n",
      "storing: 0.00021457672119140625\n",
      "loop: 0.0002541542053222656\n",
      "forward: 0.062439918518066406\n",
      "storing: 0.0002219676971435547\n",
      "loop: 0.00028061866760253906\n"
     ]
    },
    {
     "name": "stderr",
     "output_type": "stream",
     "text": [
      " 80%|████████  | 823/1024 [00:53<00:13, 15.31it/s]"
     ]
    },
    {
     "name": "stdout",
     "output_type": "stream",
     "text": [
      "forward: 0.06331348419189453\n",
      "storing: 0.0001666545867919922\n",
      "loop: 0.00021386146545410156\n",
      "forward: 0.06278657913208008\n",
      "storing: 0.00015687942504882812\n",
      "loop: 0.00024008750915527344\n",
      "forward: 0.06263375282287598\n",
      "storing: 0.00018858909606933594\n",
      "loop: 0.00023674964904785156\n",
      "forward: 0.06302356719970703\n",
      "storing: 0.0002315044403076172\n",
      "loop: 0.0002830028533935547\n"
     ]
    },
    {
     "name": "stderr",
     "output_type": "stream",
     "text": [
      " 81%|████████  | 825/1024 [00:53<00:12, 15.38it/s]"
     ]
    },
    {
     "name": "stdout",
     "output_type": "stream",
     "text": [
      "forward: 0.06375265121459961\n",
      "storing: 0.00017142295837402344\n",
      "loop: 0.00022292137145996094\n",
      "forward: 0.06241488456726074\n",
      "storing: 0.0001685619354248047\n",
      "loop: 0.0004100799560546875\n",
      "forward: 0.06788444519042969\n",
      "storing: 0.0002505779266357422\n",
      "loop: 0.00024628639221191406\n"
     ]
    },
    {
     "name": "stderr",
     "output_type": "stream",
     "text": [
      " 81%|████████  | 829/1024 [00:53<00:13, 14.91it/s]"
     ]
    },
    {
     "name": "stdout",
     "output_type": "stream",
     "text": [
      "forward: 0.07010984420776367\n",
      "storing: 0.0001862049102783203\n",
      "loop: 0.00024628639221191406\n",
      "forward: 0.06815147399902344\n",
      "storing: 0.00033593177795410156\n",
      "loop: 0.000217437744140625\n",
      "forward: 0.06603407859802246\n",
      "storing: 0.00021719932556152344\n",
      "loop: 0.0002968311309814453\n",
      "forward: 0.06253981590270996\n",
      "storing: 0.0001666545867919922\n"
     ]
    },
    {
     "name": "stderr",
     "output_type": "stream",
     "text": [
      " 81%|████████▏ | 833/1024 [00:54<00:12, 15.16it/s]"
     ]
    },
    {
     "name": "stdout",
     "output_type": "stream",
     "text": [
      "loop: 0.0011980533599853516\n",
      "forward: 0.06239962577819824\n",
      "storing: 0.00016164779663085938\n",
      "loop: 0.0002505779266357422\n",
      "forward: 0.06204390525817871\n",
      "storing: 0.00016546249389648438\n",
      "loop: 0.00020837783813476562\n",
      "forward: 0.0668630599975586\n",
      "storing: 0.00020003318786621094\n",
      "loop: 0.00027489662170410156\n"
     ]
    },
    {
     "name": "stderr",
     "output_type": "stream",
     "text": [
      " 82%|████████▏ | 837/1024 [00:54<00:12, 15.40it/s]"
     ]
    },
    {
     "name": "stdout",
     "output_type": "stream",
     "text": [
      "forward: 0.0639040470123291\n",
      "storing: 0.00016570091247558594\n",
      "loop: 0.00021529197692871094\n",
      "forward: 0.06285381317138672\n",
      "storing: 0.00018668174743652344\n",
      "loop: 0.00025963783264160156\n",
      "forward: 0.06266474723815918\n",
      "storing: 0.00016951560974121094\n",
      "loop: 0.00021004676818847656\n",
      "forward: 0.06215786933898926\n",
      "storing: 0.0001678466796875\n",
      "loop: 0.00023889541625976562\n"
     ]
    },
    {
     "name": "stderr",
     "output_type": "stream",
     "text": [
      " 82%|████████▏ | 841/1024 [00:54<00:11, 15.40it/s]"
     ]
    },
    {
     "name": "stdout",
     "output_type": "stream",
     "text": [
      "forward: 0.06387090682983398\n",
      "storing: 0.00020503997802734375\n",
      "loop: 0.0010502338409423828\n",
      "forward: 0.06287121772766113\n",
      "storing: 0.00015926361083984375\n",
      "loop: 0.00023818016052246094\n",
      "forward: 0.06283998489379883\n",
      "storing: 0.00018739700317382812\n",
      "loop: 0.00022292137145996094\n",
      "forward: 0.06513357162475586\n",
      "storing: 0.000156402587890625\n",
      "loop: 0.00023627281188964844\n"
     ]
    },
    {
     "name": "stderr",
     "output_type": "stream",
     "text": [
      " 83%|████████▎ | 845/1024 [00:54<00:11, 15.37it/s]"
     ]
    },
    {
     "name": "stdout",
     "output_type": "stream",
     "text": [
      "forward: 0.06332087516784668\n",
      "storing: 0.00023484230041503906\n",
      "loop: 0.00024127960205078125\n",
      "forward: 0.06803178787231445\n",
      "storing: 0.0001697540283203125\n",
      "loop: 0.0002465248107910156\n",
      "forward: 0.06295108795166016\n",
      "storing: 0.00016927719116210938\n",
      "loop: 0.00019812583923339844\n",
      "forward: 0.06287145614624023\n",
      "storing: 0.0002415180206298828\n",
      "loop: 0.0002911090850830078\n"
     ]
    },
    {
     "name": "stderr",
     "output_type": "stream",
     "text": [
      " 83%|████████▎ | 849/1024 [00:55<00:11, 15.53it/s]"
     ]
    },
    {
     "name": "stdout",
     "output_type": "stream",
     "text": [
      "forward: 0.06264734268188477\n",
      "storing: 0.00016117095947265625\n",
      "loop: 0.0002288818359375\n",
      "forward: 0.06225109100341797\n",
      "storing: 0.00017690658569335938\n",
      "loop: 0.0002608299255371094\n",
      "forward: 0.06279897689819336\n",
      "storing: 0.0002002716064453125\n",
      "loop: 0.0002295970916748047\n",
      "forward: 0.0628042221069336\n",
      "storing: 0.0002086162567138672\n",
      "loop: 0.00027942657470703125\n"
     ]
    },
    {
     "name": "stderr",
     "output_type": "stream",
     "text": [
      " 83%|████████▎ | 853/1024 [00:55<00:11, 15.52it/s]"
     ]
    },
    {
     "name": "stdout",
     "output_type": "stream",
     "text": [
      "forward: 0.06350541114807129\n",
      "storing: 0.0001595020294189453\n",
      "loop: 0.00020766258239746094\n",
      "forward: 0.06266188621520996\n",
      "storing: 0.00016546249389648438\n",
      "loop: 0.0002522468566894531\n",
      "forward: 0.0627889633178711\n",
      "storing: 0.00015115737915039062\n",
      "loop: 0.00020694732666015625\n",
      "forward: 0.0644993782043457\n",
      "storing: 0.0001800060272216797\n",
      "loop: 0.0002567768096923828\n"
     ]
    },
    {
     "name": "stderr",
     "output_type": "stream",
     "text": [
      " 84%|████████▎ | 857/1024 [00:55<00:10, 15.57it/s]"
     ]
    },
    {
     "name": "stdout",
     "output_type": "stream",
     "text": [
      "forward: 0.06323099136352539\n",
      "storing: 0.0001552104949951172\n",
      "loop: 0.0001976490020751953\n",
      "forward: 0.0630960464477539\n",
      "storing: 0.0001697540283203125\n",
      "loop: 0.00025463104248046875\n",
      "forward: 0.06290316581726074\n",
      "storing: 0.00013446807861328125\n",
      "loop: 0.0003485679626464844\n",
      "forward: 0.06259560585021973\n",
      "storing: 0.0001480579376220703\n",
      "loop: 0.0002484321594238281\n"
     ]
    },
    {
     "name": "stderr",
     "output_type": "stream",
     "text": [
      " 84%|████████▍ | 861/1024 [00:55<00:10, 15.62it/s]"
     ]
    },
    {
     "name": "stdout",
     "output_type": "stream",
     "text": [
      "forward: 0.06363463401794434\n",
      "storing: 0.0001571178436279297\n",
      "loop: 0.0002067089080810547\n",
      "forward: 0.06270718574523926\n",
      "storing: 0.0002002716064453125\n",
      "loop: 0.00026416778564453125\n",
      "forward: 0.062101125717163086\n",
      "storing: 0.00019073486328125\n",
      "loop: 0.00023412704467773438\n",
      "forward: 0.06276488304138184\n",
      "storing: 0.00017333030700683594\n",
      "loop: 0.0002589225769042969\n"
     ]
    },
    {
     "name": "stderr",
     "output_type": "stream",
     "text": [
      " 84%|████████▍ | 865/1024 [00:56<00:10, 15.61it/s]"
     ]
    },
    {
     "name": "stdout",
     "output_type": "stream",
     "text": [
      "forward: 0.06376504898071289\n",
      "storing: 0.00017905235290527344\n",
      "loop: 0.00021386146545410156\n",
      "forward: 0.06276154518127441\n",
      "storing: 0.00018334388732910156\n",
      "loop: 0.00025463104248046875\n",
      "forward: 0.06296944618225098\n",
      "storing: 0.0001704692840576172\n",
      "loop: 0.0002167224884033203\n",
      "forward: 0.0625448226928711\n",
      "storing: 0.00015926361083984375\n",
      "loop: 0.00024318695068359375\n"
     ]
    },
    {
     "name": "stderr",
     "output_type": "stream",
     "text": [
      " 85%|████████▍ | 869/1024 [00:56<00:09, 15.64it/s]"
     ]
    },
    {
     "name": "stdout",
     "output_type": "stream",
     "text": [
      "forward: 0.06321239471435547\n",
      "storing: 0.00018930435180664062\n",
      "loop: 0.00021409988403320312\n",
      "forward: 0.06260561943054199\n",
      "storing: 0.00017118453979492188\n",
      "loop: 0.0002532005310058594\n",
      "forward: 0.0628511905670166\n",
      "storing: 0.0001583099365234375\n",
      "loop: 0.0002028942108154297\n",
      "forward: 0.06259918212890625\n",
      "storing: 0.0001633167266845703\n",
      "loop: 0.00022983551025390625\n"
     ]
    },
    {
     "name": "stderr",
     "output_type": "stream",
     "text": [
      " 85%|████████▌ | 873/1024 [00:56<00:09, 15.62it/s]"
     ]
    },
    {
     "name": "stdout",
     "output_type": "stream",
     "text": [
      "forward: 0.06390190124511719\n",
      "storing: 0.0001850128173828125\n",
      "loop: 0.00023412704467773438\n",
      "forward: 0.06366920471191406\n",
      "storing: 0.00017118453979492188\n",
      "loop: 0.0002503395080566406\n",
      "forward: 0.06216764450073242\n",
      "storing: 0.00016570091247558594\n",
      "loop: 0.0002257823944091797\n",
      "forward: 0.06265449523925781\n",
      "storing: 0.00015854835510253906\n",
      "loop: 0.00023412704467773438\n"
     ]
    },
    {
     "name": "stderr",
     "output_type": "stream",
     "text": [
      " 86%|████████▌ | 877/1024 [00:56<00:09, 15.42it/s]"
     ]
    },
    {
     "name": "stdout",
     "output_type": "stream",
     "text": [
      "forward: 0.06415104866027832\n",
      "storing: 0.0002372264862060547\n",
      "loop: 0.00024771690368652344\n",
      "forward: 0.06247687339782715\n",
      "storing: 0.0002181529998779297\n",
      "loop: 0.0002803802490234375\n",
      "forward: 0.06293725967407227\n",
      "storing: 0.0001590251922607422\n",
      "loop: 0.00020241737365722656\n",
      "forward: 0.06771969795227051\n",
      "storing: 0.0001780986785888672\n",
      "loop: 0.0002620220184326172\n"
     ]
    },
    {
     "name": "stderr",
     "output_type": "stream",
     "text": [
      " 86%|████████▌ | 881/1024 [00:57<00:09, 15.52it/s]"
     ]
    },
    {
     "name": "stdout",
     "output_type": "stream",
     "text": [
      "forward: 0.06351661682128906\n",
      "storing: 0.00023674964904785156\n",
      "loop: 0.00024700164794921875\n",
      "forward: 0.06287431716918945\n",
      "storing: 0.0001671314239501953\n",
      "loop: 0.00024008750915527344\n",
      "forward: 0.06263542175292969\n",
      "storing: 0.0001552104949951172\n",
      "loop: 0.00019407272338867188\n",
      "forward: 0.0631411075592041\n",
      "storing: 0.00016880035400390625\n",
      "loop: 0.00025963783264160156\n"
     ]
    },
    {
     "name": "stderr",
     "output_type": "stream",
     "text": [
      " 86%|████████▋ | 885/1024 [00:57<00:08, 15.50it/s]"
     ]
    },
    {
     "name": "stdout",
     "output_type": "stream",
     "text": [
      "forward: 0.06680130958557129\n",
      "storing: 0.00017976760864257812\n",
      "loop: 0.0002372264862060547\n",
      "forward: 0.062283992767333984\n",
      "storing: 0.0001494884490966797\n",
      "loop: 0.0002384185791015625\n",
      "forward: 0.06273746490478516\n",
      "storing: 0.00015664100646972656\n",
      "loop: 0.00020742416381835938\n",
      "forward: 0.0629279613494873\n",
      "storing: 0.00016379356384277344\n",
      "loop: 0.0002777576446533203\n"
     ]
    },
    {
     "name": "stderr",
     "output_type": "stream",
     "text": [
      " 87%|████████▋ | 889/1024 [00:57<00:08, 15.58it/s]"
     ]
    },
    {
     "name": "stdout",
     "output_type": "stream",
     "text": [
      "forward: 0.06366539001464844\n",
      "storing: 0.00016832351684570312\n",
      "loop: 0.0002162456512451172\n",
      "forward: 0.0630030632019043\n",
      "storing: 0.0001556873321533203\n",
      "loop: 0.00022912025451660156\n",
      "forward: 0.0625755786895752\n",
      "storing: 0.000213623046875\n",
      "loop: 0.00023651123046875\n",
      "forward: 0.0620882511138916\n",
      "storing: 0.00018310546875\n",
      "loop: 0.000263214111328125\n"
     ]
    },
    {
     "name": "stderr",
     "output_type": "stream",
     "text": [
      " 87%|████████▋ | 893/1024 [00:57<00:08, 15.58it/s]"
     ]
    },
    {
     "name": "stdout",
     "output_type": "stream",
     "text": [
      "forward: 0.06328511238098145\n",
      "storing: 0.00015354156494140625\n",
      "loop: 0.00019669532775878906\n",
      "forward: 0.06294584274291992\n",
      "storing: 0.00019216537475585938\n",
      "loop: 0.0002777576446533203\n",
      "forward: 0.0630195140838623\n",
      "storing: 0.0002186298370361328\n",
      "loop: 0.00023603439331054688\n",
      "forward: 0.06295585632324219\n",
      "storing: 0.00016045570373535156\n",
      "loop: 0.00023746490478515625\n"
     ]
    },
    {
     "name": "stderr",
     "output_type": "stream",
     "text": [
      " 88%|████████▊ | 897/1024 [00:58<00:08, 15.62it/s]"
     ]
    },
    {
     "name": "stdout",
     "output_type": "stream",
     "text": [
      "forward: 0.06374430656433105\n",
      "storing: 0.0001671314239501953\n",
      "loop: 0.00021409988403320312\n",
      "forward: 0.062181711196899414\n",
      "storing: 0.00014901161193847656\n",
      "loop: 0.0002684593200683594\n",
      "forward: 0.06206798553466797\n",
      "storing: 0.00020694732666015625\n",
      "loop: 0.00024628639221191406\n",
      "forward: 0.06298518180847168\n",
      "storing: 0.0001628398895263672\n",
      "loop: 0.00023937225341796875\n"
     ]
    },
    {
     "name": "stderr",
     "output_type": "stream",
     "text": [
      " 88%|████████▊ | 901/1024 [00:58<00:07, 15.62it/s]"
     ]
    },
    {
     "name": "stdout",
     "output_type": "stream",
     "text": [
      "forward: 0.06378817558288574\n",
      "storing: 0.00016736984252929688\n",
      "loop: 0.000225067138671875\n",
      "forward: 0.06271958351135254\n",
      "storing: 0.0001919269561767578\n",
      "loop: 0.00025963783264160156\n",
      "forward: 0.06287884712219238\n",
      "storing: 0.00017786026000976562\n",
      "loop: 0.00022411346435546875\n",
      "forward: 0.06254005432128906\n",
      "storing: 0.00015497207641601562\n",
      "loop: 0.00023889541625976562\n"
     ]
    },
    {
     "name": "stderr",
     "output_type": "stream",
     "text": [
      " 88%|████████▊ | 905/1024 [00:58<00:07, 15.63it/s]"
     ]
    },
    {
     "name": "stdout",
     "output_type": "stream",
     "text": [
      "forward: 0.0632786750793457\n",
      "storing: 0.00023746490478515625\n",
      "loop: 0.00025010108947753906\n",
      "forward: 0.06243109703063965\n",
      "storing: 0.0001704692840576172\n",
      "loop: 0.0002665519714355469\n",
      "forward: 0.06281876564025879\n",
      "storing: 0.00016069412231445312\n",
      "loop: 0.0002117156982421875\n",
      "forward: 0.06266260147094727\n",
      "storing: 0.00019288063049316406\n",
      "loop: 0.0002627372741699219\n"
     ]
    },
    {
     "name": "stderr",
     "output_type": "stream",
     "text": [
      " 89%|████████▉ | 909/1024 [00:58<00:07, 15.49it/s]"
     ]
    },
    {
     "name": "stdout",
     "output_type": "stream",
     "text": [
      "forward: 0.0692138671875\n",
      "storing: 0.0001819133758544922\n",
      "loop: 0.00022840499877929688\n",
      "forward: 0.06240034103393555\n",
      "storing: 0.0001289844512939453\n",
      "loop: 0.0002315044403076172\n",
      "forward: 0.06285738945007324\n",
      "storing: 0.00018477439880371094\n",
      "loop: 0.00022220611572265625\n",
      "forward: 0.06282615661621094\n",
      "storing: 0.00025081634521484375\n",
      "loop: 0.0003018379211425781\n"
     ]
    },
    {
     "name": "stderr",
     "output_type": "stream",
     "text": [
      " 89%|████████▉ | 911/1024 [00:59<00:07, 15.37it/s]"
     ]
    },
    {
     "name": "stdout",
     "output_type": "stream",
     "text": [
      "forward: 0.0647127628326416\n",
      "storing: 0.00016498565673828125\n",
      "loop: 0.00022172927856445312\n",
      "forward: 0.06522369384765625\n",
      "storing: 0.00016427040100097656\n",
      "loop: 0.00023698806762695312\n",
      "forward: 0.06566905975341797\n",
      "storing: 0.0001666545867919922\n",
      "loop: 0.00021409988403320312\n",
      "forward: 0.0685112476348877\n"
     ]
    },
    {
     "name": "stderr",
     "output_type": "stream",
     "text": [
      " 89%|████████▉ | 915/1024 [00:59<00:07, 15.21it/s]"
     ]
    },
    {
     "name": "stdout",
     "output_type": "stream",
     "text": [
      "storing: 0.0014183521270751953\n",
      "loop: 0.00027298927307128906\n",
      "forward: 0.06532931327819824\n",
      "storing: 0.00018787384033203125\n",
      "loop: 0.00020456314086914062\n",
      "forward: 0.062230825424194336\n",
      "storing: 0.00019407272338867188\n",
      "loop: 0.00027108192443847656\n"
     ]
    },
    {
     "name": "stderr",
     "output_type": "stream",
     "text": [
      " 90%|████████▉ | 919/1024 [00:59<00:06, 15.26it/s]"
     ]
    },
    {
     "name": "stdout",
     "output_type": "stream",
     "text": [
      "forward: 0.06397294998168945\n",
      "storing: 0.00016736984252929688\n",
      "loop: 0.00021123886108398438\n",
      "forward: 0.06269550323486328\n",
      "storing: 0.00023055076599121094\n",
      "loop: 0.0002925395965576172\n",
      "forward: 0.06264948844909668\n",
      "storing: 0.0001652240753173828\n",
      "loop: 0.00021195411682128906\n",
      "forward: 0.06222963333129883\n",
      "storing: 0.00016760826110839844\n",
      "loop: 0.0002453327178955078\n"
     ]
    },
    {
     "name": "stderr",
     "output_type": "stream",
     "text": [
      " 90%|█████████ | 923/1024 [00:59<00:06, 15.43it/s]"
     ]
    },
    {
     "name": "stdout",
     "output_type": "stream",
     "text": [
      "forward: 0.06386804580688477\n",
      "storing: 0.00018024444580078125\n",
      "loop: 0.00021910667419433594\n",
      "forward: 0.06292462348937988\n",
      "storing: 0.0002238750457763672\n",
      "loop: 0.00029015541076660156\n",
      "forward: 0.06257820129394531\n",
      "storing: 0.00016570091247558594\n",
      "loop: 0.00020074844360351562\n",
      "forward: 0.06295442581176758\n",
      "storing: 0.00018835067749023438\n",
      "loop: 0.0002422332763671875\n"
     ]
    },
    {
     "name": "stderr",
     "output_type": "stream",
     "text": [
      " 91%|█████████ | 927/1024 [01:00<00:06, 15.45it/s]"
     ]
    },
    {
     "name": "stdout",
     "output_type": "stream",
     "text": [
      "forward: 0.06368470191955566\n",
      "storing: 0.00016641616821289062\n",
      "loop: 0.00020933151245117188\n",
      "forward: 0.062386274337768555\n",
      "storing: 0.00022602081298828125\n",
      "loop: 0.00028204917907714844\n",
      "forward: 0.06473374366760254\n",
      "storing: 0.0001628398895263672\n",
      "loop: 0.000213623046875\n",
      "forward: 0.0630490779876709\n",
      "storing: 0.00019097328186035156\n",
      "loop: 0.00026988983154296875\n"
     ]
    },
    {
     "name": "stderr",
     "output_type": "stream",
     "text": [
      " 91%|█████████ | 931/1024 [01:00<00:06, 15.46it/s]"
     ]
    },
    {
     "name": "stdout",
     "output_type": "stream",
     "text": [
      "forward: 0.06377983093261719\n",
      "storing: 0.00023412704467773438\n",
      "loop: 0.00025010108947753906\n",
      "forward: 0.06315398216247559\n",
      "storing: 0.00015997886657714844\n",
      "loop: 0.00024509429931640625\n",
      "forward: 0.06217837333679199\n",
      "storing: 0.0001614093780517578\n",
      "loop: 0.00020885467529296875\n",
      "forward: 0.06232118606567383\n",
      "storing: 0.0028018951416015625\n",
      "loop: 0.000263214111328125\n"
     ]
    },
    {
     "name": "stderr",
     "output_type": "stream",
     "text": [
      " 91%|█████████ | 933/1024 [01:00<00:05, 15.19it/s]"
     ]
    },
    {
     "name": "stdout",
     "output_type": "stream",
     "text": [
      "forward: 0.06928396224975586\n",
      "storing: 0.0002224445343017578\n",
      "loop: 0.0002429485321044922\n",
      "forward: 0.0654611587524414\n",
      "storing: 0.00018095970153808594\n",
      "loop: 0.00025391578674316406\n",
      "forward: 0.06486010551452637\n",
      "storing: 0.00018525123596191406\n",
      "loop: 0.00020122528076171875\n",
      "forward: 0.06676602363586426\n",
      "storing: 0.00019073486328125\n"
     ]
    },
    {
     "name": "stderr",
     "output_type": "stream",
     "text": [
      " 92%|█████████▏| 937/1024 [01:00<00:05, 15.20it/s]"
     ]
    },
    {
     "name": "stdout",
     "output_type": "stream",
     "text": [
      "loop: 0.00027179718017578125\n",
      "forward: 0.0624232292175293\n",
      "storing: 0.0002396106719970703\n",
      "loop: 0.00024890899658203125\n",
      "forward: 0.06411910057067871\n",
      "storing: 0.00016999244689941406\n",
      "loop: 0.00024509429931640625\n",
      "forward: 0.06452560424804688\n",
      "storing: 0.00019407272338867188\n",
      "loop: 0.0002193450927734375\n"
     ]
    },
    {
     "name": "stderr",
     "output_type": "stream",
     "text": [
      " 92%|█████████▏| 941/1024 [01:00<00:05, 15.15it/s]"
     ]
    },
    {
     "name": "stdout",
     "output_type": "stream",
     "text": [
      "forward: 0.06381750106811523\n",
      "storing: 0.00021147727966308594\n",
      "loop: 0.0002887248992919922\n",
      "forward: 0.06289362907409668\n",
      "storing: 0.000240325927734375\n",
      "loop: 0.00022220611572265625\n",
      "forward: 0.0625009536743164\n",
      "storing: 0.00016808509826660156\n",
      "loop: 0.00024509429931640625\n",
      "forward: 0.06220126152038574\n",
      "storing: 0.00016832351684570312\n",
      "loop: 0.00022077560424804688\n"
     ]
    },
    {
     "name": "stderr",
     "output_type": "stream",
     "text": [
      " 92%|█████████▏| 945/1024 [01:01<00:05, 15.30it/s]"
     ]
    },
    {
     "name": "stdout",
     "output_type": "stream",
     "text": [
      "forward: 0.06275463104248047\n",
      "storing: 0.00023174285888671875\n",
      "loop: 0.0002918243408203125\n",
      "forward: 0.06285762786865234\n",
      "storing: 0.00017261505126953125\n",
      "loop: 0.00022459030151367188\n",
      "forward: 0.06576085090637207\n",
      "storing: 0.0003066062927246094\n",
      "loop: 0.0002396106719970703\n",
      "forward: 0.0653076171875\n",
      "storing: 0.0002014636993408203\n",
      "loop: 0.0002422332763671875\n"
     ]
    },
    {
     "name": "stderr",
     "output_type": "stream",
     "text": [
      " 93%|█████████▎| 949/1024 [01:01<00:04, 15.20it/s]"
     ]
    },
    {
     "name": "stdout",
     "output_type": "stream",
     "text": [
      "forward: 0.0671851634979248\n",
      "storing: 0.00022745132446289062\n",
      "loop: 0.0002837181091308594\n",
      "forward: 0.06595253944396973\n",
      "storing: 0.00016450881958007812\n",
      "loop: 0.0002155303955078125\n",
      "forward: 0.06277894973754883\n",
      "storing: 0.00016570091247558594\n",
      "loop: 0.0002429485321044922\n",
      "forward: 0.06264805793762207\n",
      "storing: 0.00016188621520996094\n",
      "loop: 0.0002105236053466797\n"
     ]
    },
    {
     "name": "stderr",
     "output_type": "stream",
     "text": [
      " 93%|█████████▎| 953/1024 [01:01<00:04, 15.44it/s]"
     ]
    },
    {
     "name": "stdout",
     "output_type": "stream",
     "text": [
      "forward: 0.06329202651977539\n",
      "storing: 0.00021076202392578125\n",
      "loop: 0.00025391578674316406\n",
      "forward: 0.062287092208862305\n",
      "storing: 0.0001575946807861328\n",
      "loop: 0.00020456314086914062\n",
      "forward: 0.06278133392333984\n",
      "storing: 0.00018930435180664062\n",
      "loop: 0.0002465248107910156\n",
      "forward: 0.06254935264587402\n",
      "storing: 0.0002410411834716797\n",
      "loop: 0.0002510547637939453\n"
     ]
    },
    {
     "name": "stderr",
     "output_type": "stream",
     "text": [
      " 93%|█████████▎| 957/1024 [01:02<00:04, 15.54it/s]"
     ]
    },
    {
     "name": "stdout",
     "output_type": "stream",
     "text": [
      "forward: 0.06393766403198242\n",
      "storing: 0.00016880035400390625\n",
      "loop: 0.00024366378784179688\n",
      "forward: 0.06250333786010742\n",
      "storing: 0.00016021728515625\n",
      "loop: 0.00020647048950195312\n",
      "forward: 0.06275296211242676\n",
      "storing: 0.000209808349609375\n",
      "loop: 0.00030040740966796875\n",
      "forward: 0.062372684478759766\n",
      "storing: 0.0001678466796875\n",
      "loop: 0.00021338462829589844\n"
     ]
    },
    {
     "name": "stderr",
     "output_type": "stream",
     "text": [
      " 94%|█████████▍| 961/1024 [01:02<00:04, 15.47it/s]"
     ]
    },
    {
     "name": "stdout",
     "output_type": "stream",
     "text": [
      "forward: 0.06613016128540039\n",
      "storing: 0.00016164779663085938\n",
      "loop: 0.000240325927734375\n",
      "forward: 0.06437993049621582\n",
      "storing: 0.00019812583923339844\n",
      "loop: 0.000244140625\n",
      "forward: 0.06272292137145996\n",
      "storing: 0.00020074844360351562\n",
      "loop: 0.0002720355987548828\n",
      "forward: 0.06261610984802246\n",
      "storing: 0.00015807151794433594\n",
      "loop: 0.000202178955078125\n"
     ]
    },
    {
     "name": "stderr",
     "output_type": "stream",
     "text": [
      " 94%|█████████▍| 965/1024 [01:02<00:03, 15.44it/s]"
     ]
    },
    {
     "name": "stdout",
     "output_type": "stream",
     "text": [
      "forward: 0.06323361396789551\n",
      "storing: 0.000194549560546875\n",
      "loop: 0.00026106834411621094\n",
      "forward: 0.062369346618652344\n",
      "storing: 0.00016307830810546875\n",
      "loop: 0.0002117156982421875\n",
      "forward: 0.06660962104797363\n",
      "storing: 0.00017309188842773438\n",
      "loop: 0.0002524852752685547\n",
      "forward: 0.06290602684020996\n",
      "storing: 0.00017333030700683594\n",
      "loop: 0.00021958351135253906\n"
     ]
    },
    {
     "name": "stderr",
     "output_type": "stream",
     "text": [
      " 95%|█████████▍| 969/1024 [01:02<00:03, 15.56it/s]"
     ]
    },
    {
     "name": "stdout",
     "output_type": "stream",
     "text": [
      "forward: 0.06400513648986816\n",
      "storing: 0.0001609325408935547\n",
      "loop: 0.00023484230041503906\n",
      "forward: 0.06231975555419922\n",
      "storing: 0.00022459030151367188\n",
      "loop: 0.00023245811462402344\n",
      "forward: 0.06226611137390137\n",
      "storing: 0.0001819133758544922\n",
      "loop: 0.00025153160095214844\n",
      "forward: 0.06280755996704102\n",
      "storing: 0.00018286705017089844\n",
      "loop: 0.0002243518829345703\n"
     ]
    },
    {
     "name": "stderr",
     "output_type": "stream",
     "text": [
      " 95%|█████████▌| 973/1024 [01:03<00:03, 15.54it/s]"
     ]
    },
    {
     "name": "stdout",
     "output_type": "stream",
     "text": [
      "forward: 0.06394386291503906\n",
      "storing: 0.000179290771484375\n",
      "loop: 0.0002636909484863281\n",
      "forward: 0.06266927719116211\n",
      "storing: 0.0001990795135498047\n",
      "loop: 0.0002224445343017578\n",
      "forward: 0.06388092041015625\n",
      "storing: 0.0002162456512451172\n",
      "loop: 0.0002970695495605469\n",
      "forward: 0.0655362606048584\n",
      "storing: 0.00016379356384277344\n",
      "loop: 0.00021004676818847656\n"
     ]
    },
    {
     "name": "stderr",
     "output_type": "stream",
     "text": [
      " 95%|█████████▌| 977/1024 [01:03<00:03, 15.51it/s]"
     ]
    },
    {
     "name": "stdout",
     "output_type": "stream",
     "text": [
      "forward: 0.06330418586730957\n",
      "storing: 0.00019097328186035156\n",
      "loop: 0.0002567768096923828\n",
      "forward: 0.063018798828125\n",
      "storing: 0.00018596649169921875\n",
      "loop: 0.0002193450927734375\n",
      "forward: 0.0627596378326416\n",
      "storing: 0.0002105236053466797\n",
      "loop: 0.0002810955047607422\n",
      "forward: 0.0631253719329834\n",
      "storing: 0.00016355514526367188\n",
      "loop: 0.00021314620971679688\n"
     ]
    },
    {
     "name": "stderr",
     "output_type": "stream",
     "text": [
      " 96%|█████████▌| 981/1024 [01:03<00:02, 15.17it/s]"
     ]
    },
    {
     "name": "stdout",
     "output_type": "stream",
     "text": [
      "forward: 0.06931185722351074\n",
      "storing: 0.00024199485778808594\n",
      "loop: 0.00027632713317871094\n",
      "forward: 0.06534504890441895\n",
      "storing: 0.000186920166015625\n",
      "loop: 0.00022459030151367188\n",
      "forward: 0.06713032722473145\n",
      "storing: 0.0001842975616455078\n",
      "loop: 0.0002658367156982422\n",
      "forward: 0.06664800643920898\n"
     ]
    },
    {
     "name": "stderr",
     "output_type": "stream",
     "text": [
      " 96%|█████████▌| 985/1024 [01:03<00:02, 15.28it/s]"
     ]
    },
    {
     "name": "stdout",
     "output_type": "stream",
     "text": [
      "storing: 0.00113677978515625\n",
      "loop: 0.00023174285888671875\n",
      "forward: 0.06223583221435547\n",
      "storing: 0.00018215179443359375\n",
      "loop: 0.0002713203430175781\n",
      "forward: 0.06301760673522949\n",
      "storing: 0.00019311904907226562\n",
      "loop: 0.00025272369384765625\n",
      "forward: 0.06307196617126465\n",
      "storing: 0.00016641616821289062\n",
      "loop: 0.0002543926239013672\n"
     ]
    },
    {
     "name": "stderr",
     "output_type": "stream",
     "text": [
      " 97%|█████████▋| 989/1024 [01:04<00:02, 15.43it/s]"
     ]
    },
    {
     "name": "stdout",
     "output_type": "stream",
     "text": [
      "forward: 0.06403732299804688\n",
      "storing: 0.0002028942108154297\n",
      "loop: 0.0002276897430419922\n",
      "forward: 0.062375783920288086\n",
      "storing: 0.00019240379333496094\n",
      "loop: 0.0002491474151611328\n",
      "forward: 0.06209683418273926\n",
      "storing: 0.00019311904907226562\n",
      "loop: 0.0002338886260986328\n",
      "forward: 0.06386852264404297\n",
      "storing: 0.0001652240753173828\n",
      "loop: 0.00023317337036132812\n"
     ]
    },
    {
     "name": "stderr",
     "output_type": "stream",
     "text": [
      " 97%|█████████▋| 993/1024 [01:04<00:01, 15.52it/s]"
     ]
    },
    {
     "name": "stdout",
     "output_type": "stream",
     "text": [
      "forward: 0.06383347511291504\n",
      "storing: 0.00016498565673828125\n",
      "loop: 0.00020742416381835938\n",
      "forward: 0.06270551681518555\n",
      "storing: 0.00018835067749023438\n",
      "loop: 0.0002655982971191406\n",
      "forward: 0.06283736228942871\n",
      "storing: 0.00016832351684570312\n",
      "loop: 0.00021004676818847656\n",
      "forward: 0.06280398368835449\n",
      "storing: 0.00017595291137695312\n",
      "loop: 0.0002636909484863281\n"
     ]
    },
    {
     "name": "stderr",
     "output_type": "stream",
     "text": [
      " 97%|█████████▋| 997/1024 [01:04<00:01, 15.58it/s]"
     ]
    },
    {
     "name": "stdout",
     "output_type": "stream",
     "text": [
      "forward: 0.0632331371307373\n",
      "storing: 0.00015974044799804688\n",
      "loop: 0.00019788742065429688\n",
      "forward: 0.06223726272583008\n",
      "storing: 0.00020575523376464844\n",
      "loop: 0.0002765655517578125\n",
      "forward: 0.06313037872314453\n",
      "storing: 0.0001678466796875\n",
      "loop: 0.00021958351135253906\n",
      "forward: 0.06274104118347168\n",
      "storing: 0.00021266937255859375\n",
      "loop: 0.00028204917907714844\n"
     ]
    },
    {
     "name": "stderr",
     "output_type": "stream",
     "text": [
      " 98%|█████████▊| 1001/1024 [01:04<00:01, 15.62it/s]"
     ]
    },
    {
     "name": "stdout",
     "output_type": "stream",
     "text": [
      "forward: 0.0632028579711914\n",
      "storing: 0.00015926361083984375\n",
      "loop: 0.000217437744140625\n",
      "forward: 0.06290221214294434\n",
      "storing: 0.00018167495727539062\n",
      "loop: 0.00025773048400878906\n",
      "forward: 0.06263613700866699\n",
      "storing: 0.0002474784851074219\n",
      "loop: 0.0002560615539550781\n",
      "forward: 0.062203168869018555\n",
      "storing: 0.00018668174743652344\n",
      "loop: 0.0002472400665283203\n"
     ]
    },
    {
     "name": "stderr",
     "output_type": "stream",
     "text": [
      " 98%|█████████▊| 1005/1024 [01:05<00:01, 15.60it/s]"
     ]
    },
    {
     "name": "stdout",
     "output_type": "stream",
     "text": [
      "forward: 0.06368613243103027\n",
      "storing: 0.00016570091247558594\n",
      "loop: 0.00021314620971679688\n",
      "forward: 0.06288409233093262\n",
      "storing: 0.00021910667419433594\n",
      "loop: 0.0002846717834472656\n",
      "forward: 0.06270122528076172\n",
      "storing: 0.0001800060272216797\n",
      "loop: 0.00023365020751953125\n",
      "forward: 0.06323957443237305\n",
      "storing: 0.00016260147094726562\n",
      "loop: 0.00023818016052246094\n"
     ]
    },
    {
     "name": "stderr",
     "output_type": "stream",
     "text": [
      " 99%|█████████▊| 1009/1024 [01:05<00:00, 15.54it/s]"
     ]
    },
    {
     "name": "stdout",
     "output_type": "stream",
     "text": [
      "forward: 0.06473755836486816\n",
      "storing: 0.0001881122589111328\n",
      "loop: 0.00022172927856445312\n",
      "forward: 0.06261706352233887\n",
      "storing: 0.00024080276489257812\n",
      "loop: 0.00028014183044433594\n",
      "forward: 0.06365323066711426\n",
      "storing: 0.0001704692840576172\n",
      "loop: 0.00021386146545410156\n",
      "forward: 0.0628821849822998\n",
      "storing: 0.0001583099365234375\n",
      "loop: 0.0007193088531494141\n"
     ]
    },
    {
     "name": "stderr",
     "output_type": "stream",
     "text": [
      " 99%|█████████▉| 1013/1024 [01:05<00:00, 15.46it/s]"
     ]
    },
    {
     "name": "stdout",
     "output_type": "stream",
     "text": [
      "forward: 0.06371378898620605\n",
      "storing: 0.00020599365234375\n",
      "loop: 0.00022149085998535156\n",
      "forward: 0.06289052963256836\n",
      "storing: 0.00019741058349609375\n",
      "loop: 0.00025725364685058594\n",
      "forward: 0.062355756759643555\n",
      "storing: 0.000164031982421875\n",
      "loop: 0.0002067089080810547\n",
      "forward: 0.0659646987915039\n",
      "storing: 0.0001850128173828125\n",
      "loop: 0.00025653839111328125\n"
     ]
    },
    {
     "name": "stderr",
     "output_type": "stream",
     "text": [
      " 99%|█████████▉| 1017/1024 [01:05<00:00, 15.49it/s]"
     ]
    },
    {
     "name": "stdout",
     "output_type": "stream",
     "text": [
      "forward: 0.06347155570983887\n",
      "storing: 0.00019669532775878906\n",
      "loop: 0.0002262592315673828\n",
      "forward: 0.06463003158569336\n",
      "storing: 0.00017833709716796875\n",
      "loop: 0.0002529621124267578\n",
      "forward: 0.06273317337036133\n",
      "storing: 0.00016307830810546875\n",
      "loop: 0.00020432472229003906\n",
      "forward: 0.06289529800415039\n",
      "storing: 0.0002372264862060547\n",
      "loop: 0.00029540061950683594\n"
     ]
    },
    {
     "name": "stderr",
     "output_type": "stream",
     "text": [
      "100%|█████████▉| 1021/1024 [01:06<00:00, 15.53it/s]"
     ]
    },
    {
     "name": "stdout",
     "output_type": "stream",
     "text": [
      "forward: 0.06330013275146484\n",
      "storing: 0.00021719932556152344\n",
      "loop: 0.0002529621124267578\n",
      "forward: 0.06306886672973633\n",
      "storing: 0.0001666545867919922\n",
      "loop: 0.0002491474151611328\n",
      "forward: 0.06293749809265137\n",
      "storing: 0.00016689300537109375\n",
      "loop: 0.0002033710479736328\n",
      "forward: 0.06304526329040527\n",
      "storing: 0.00023651123046875\n",
      "loop: 0.0002942085266113281\n"
     ]
    },
    {
     "name": "stderr",
     "output_type": "stream",
     "text": [
      "100%|██████████| 1024/1024 [01:06<00:00, 15.43it/s]"
     ]
    },
    {
     "name": "stdout",
     "output_type": "stream",
     "text": [
      "forward: 0.06395149230957031\n",
      "storing: 0.00021719932556152344\n",
      "loop: 0.00024390220642089844\n",
      "forward: 0.06264400482177734\n",
      "storing: 0.00017309188842773438\n",
      "loop: 0.00024318695068359375\n",
      "forward: 0.062198638916015625\n",
      "storing: 0.0001990795135498047\n"
     ]
    },
    {
     "name": "stderr",
     "output_type": "stream",
     "text": [
      "\n"
     ]
    }
   ],
   "source": [
    "#that's a good amount faster! we'll check accuracy later, but what if we just increased b_size?\n",
    "import gc\n",
    "gc.collect()\n",
    "torch.cuda.empty_cache()\n",
    "out = util.calculate_ISM(0, cuda=True, progress_bar = True, return_out=True, b_size = 1) #takes about 12 GB of memory..."
   ]
  },
  {
   "cell_type": "code",
   "execution_count": 7,
   "metadata": {},
   "outputs": [
    {
     "name": "stdout",
     "output_type": "stream",
     "text": [
      "tensor([12,  9,  9,  ...,  8, 10,  8])\n"
     ]
    }
   ],
   "source": [
    "#let's test with some arbitrary sequence\n",
    "a,b = util.dataset[0]\n",
    "print(a)"
   ]
  },
  {
   "cell_type": "code",
   "execution_count": 8,
   "metadata": {},
   "outputs": [
    {
     "data": {
      "text/plain": [
       "torch.Size([300, 1024])"
      ]
     },
     "execution_count": 8,
     "metadata": {},
     "output_type": "execute_result"
    }
   ],
   "source": [
    "a_repeat = a.repeat(300,1)\n",
    "a_repeat.shape"
   ]
  },
  {
   "cell_type": "code",
   "execution_count": 9,
   "metadata": {},
   "outputs": [],
   "source": [
    "#now move a and a_repeat to the device\n",
    "device = 'cuda:0'\n",
    "a = a.to(device)\n",
    "a_repeat = a_repeat.to(device)"
   ]
  },
  {
   "cell_type": "code",
   "execution_count": 10,
   "metadata": {},
   "outputs": [
    {
     "name": "stdout",
     "output_type": "stream",
     "text": [
      "backbone 0.24576210975646973\n",
      "decoder 0.17038846015930176\n"
     ]
    }
   ],
   "source": [
    "#and now put them through the model and time it\n",
    "start = time.time()\n",
    "temp,_ = util.backbone(a.unsqueeze(0))\n",
    "torch.cuda.synchronize()\n",
    "end1 = time.time()\n",
    "out = util.decoder(temp)\n",
    "torch.cuda.synchronize()\n",
    "end2 = time.time()\n",
    "print(f'backbone {end1-start}')\n",
    "print(f'decoder {end2-end1}')"
   ]
  },
  {
   "cell_type": "code",
   "execution_count": 11,
   "metadata": {},
   "outputs": [
    {
     "name": "stdout",
     "output_type": "stream",
     "text": [
      "backbone 0.046315908432006836\n",
      "decoder 0.00095367431640625\n"
     ]
    }
   ],
   "source": [
    "#and now put them through the model and time it\n",
    "start = time.time()\n",
    "temp,_ = util.backbone(a_repeat)\n",
    "torch.cuda.synchronize()\n",
    "end1 = time.time()\n",
    "out = util.decoder(temp)\n",
    "torch.cuda.synchronize()\n",
    "end2 = time.time()\n",
    "print(f'backbone {end1-start}')\n",
    "print(f'decoder {end2-end1}')"
   ]
  },
  {
   "cell_type": "code",
   "execution_count": 12,
   "metadata": {},
   "outputs": [],
   "source": [
    "a = a.unsqueeze(0)"
   ]
  },
  {
   "cell_type": "code",
   "execution_count": 14,
   "metadata": {},
   "outputs": [
    {
     "name": "stdout",
     "output_type": "stream",
     "text": [
      "Timing backbone:\n"
     ]
    },
    {
     "name": "stdout",
     "output_type": "stream",
     "text": [
      "2.45 ms ± 47 µs per loop (mean ± std. dev. of 10 runs, 100 loops each)\n",
      "Timing decoder:\n",
      "2.98 ms ± 141 µs per loop (mean ± std. dev. of 10 runs, 100 loops each)\n"
     ]
    }
   ],
   "source": [
    "def measure_backbone(a):\n",
    "    torch.cuda.synchronize()  # Ensure all queued operations are complete\n",
    "    _ = util.backbone(a)\n",
    "    torch.cuda.synchronize()  # Wait for backbone to finish\n",
    "\n",
    "# Define a function to measure decoder timing\n",
    "def measure_decoder(a):\n",
    "    temp, _ = util.backbone(a)\n",
    "    torch.cuda.synchronize()  # Ensure backbone is complete\n",
    "    _ = util.decoder(temp)\n",
    "    torch.cuda.synchronize()  # Wait for decoder to finish\n",
    "\n",
    "# Use %timeit with the functions\n",
    "print(\"Timing backbone:\")\n",
    "%timeit -r 10 -n 100 measure_backbone(a)\n",
    "\n",
    "print(\"Timing decoder:\")\n",
    "%timeit -r 10 -n 100 measure_decoder(a)\n",
    "#300x the data but 10x the speed, so it's not linear, but it's not bad either, so we can use this to speed up the ISM"
   ]
  },
  {
   "cell_type": "code",
   "execution_count": 15,
   "metadata": {},
   "outputs": [
    {
     "name": "stdout",
     "output_type": "stream",
     "text": [
      "Timing backbone:\n",
      "39 ms ± 727 µs per loop (mean ± std. dev. of 10 runs, 100 loops each)\n",
      "Timing decoder:\n",
      "40.1 ms ± 181 µs per loop (mean ± std. dev. of 10 runs, 100 loops each)\n"
     ]
    }
   ],
   "source": [
    "print(\"Timing backbone:\")\n",
    "%timeit -r 10 -n 100 measure_backbone(a_repeat)\n",
    "\n",
    "print(\"Timing decoder:\")\n",
    "%timeit -r 10 -n 100 measure_decoder(a_repeat)"
   ]
  },
  {
   "cell_type": "code",
   "execution_count": 16,
   "metadata": {},
   "outputs": [
    {
     "name": "stdout",
     "output_type": "stream",
     "text": [
      "torch.Size([483, 1024]) torch.Size([3864, 1024])\n"
     ]
    }
   ],
   "source": [
    "#let's now test it using the actual sizes\n",
    "a = a.repeat(161*3,1)\n",
    "a_repeat = a.repeat(8,1)\n",
    "print(a.shape, a_repeat.shape)"
   ]
  },
  {
   "cell_type": "code",
   "execution_count": 17,
   "metadata": {},
   "outputs": [
    {
     "name": "stdout",
     "output_type": "stream",
     "text": [
      "Timing backbone:\n",
      "62.4 ms ± 3.22 ms per loop (mean ± std. dev. of 10 runs, 10 loops each)\n",
      "Timing decoder:\n",
      "62.7 ms ± 419 µs per loop (mean ± std. dev. of 10 runs, 10 loops each)\n"
     ]
    }
   ],
   "source": [
    "print(\"Timing backbone:\")\n",
    "%timeit -r 10 -n 10 measure_backbone(a)\n",
    "\n",
    "print(\"Timing decoder:\")\n",
    "%timeit -r 10 -n 10 measure_decoder(a)"
   ]
  },
  {
   "cell_type": "code",
   "execution_count": 27,
   "metadata": {},
   "outputs": [
    {
     "ename": "ZeroDivisionError",
     "evalue": "division by zero",
     "output_type": "error",
     "traceback": [
      "\u001b[0;31m---------------------------------------------------------------------------\u001b[0m",
      "\u001b[0;31mZeroDivisionError\u001b[0m                         Traceback (most recent call last)",
      "Cell \u001b[0;32mIn[27], line 1\u001b[0m\n\u001b[0;32m----> 1\u001b[0m \u001b[38;5;241;43m1\u001b[39;49m\u001b[38;5;241;43m/\u001b[39;49m\u001b[38;5;241;43m0\u001b[39;49m\n",
      "\u001b[0;31mZeroDivisionError\u001b[0m: division by zero"
     ]
    }
   ],
   "source": [
    "1/0"
   ]
  },
  {
   "cell_type": "code",
   "execution_count": 28,
   "metadata": {},
   "outputs": [],
   "source": [
    "gc.collect()\n",
    "torch.cuda.empty_cache()"
   ]
  },
  {
   "cell_type": "code",
   "execution_count": 31,
   "metadata": {},
   "outputs": [
    {
     "data": {
      "text/plain": [
       "torch.Size([3864, 1024])"
      ]
     },
     "execution_count": 31,
     "metadata": {},
     "output_type": "execute_result"
    }
   ],
   "source": [
    "a_repeat.shape"
   ]
  },
  {
   "cell_type": "code",
   "execution_count": 32,
   "metadata": {},
   "outputs": [
    {
     "name": "stdout",
     "output_type": "stream",
     "text": [
      "Timing backbone:\n"
     ]
    },
    {
     "name": "stdout",
     "output_type": "stream",
     "text": [
      "257 ms ± 1.1 ms per loop (mean ± std. dev. of 10 runs, 100 loops each)\n",
      "Timing decoder:\n",
      "260 ms ± 221 µs per loop (mean ± std. dev. of 10 runs, 100 loops each)\n"
     ]
    }
   ],
   "source": [
    "print(\"Timing backbone:\")\n",
    "%timeit -r 10 -n 100 measure_backbone(a_repeat[:2000]) #so it is more efficient but not a huge amount lol\n",
    "\n",
    "print(\"Timing decoder:\")\n",
    "%timeit -r 10 -n 100 measure_decoder(a_repeat[:2000])"
   ]
  },
  {
   "cell_type": "code",
   "execution_count": 35,
   "metadata": {},
   "outputs": [
    {
     "name": "stdout",
     "output_type": "stream",
     "text": [
      "Timing backbone:\n"
     ]
    },
    {
     "ename": "RuntimeError",
     "evalue": "Unsupported dtype BFloat16",
     "output_type": "error",
     "traceback": [
      "\u001b[0;31m---------------------------------------------------------------------------\u001b[0m",
      "\u001b[0;31mRuntimeError\u001b[0m                              Traceback (most recent call last)",
      "Cell \u001b[0;32mIn[35], line 6\u001b[0m\n\u001b[1;32m      4\u001b[0m util\u001b[38;5;241m.\u001b[39mdecoder \u001b[38;5;241m=\u001b[39m util\u001b[38;5;241m.\u001b[39mdecoder\u001b[38;5;241m.\u001b[39mbfloat16()\n\u001b[1;32m      5\u001b[0m \u001b[38;5;28mprint\u001b[39m(\u001b[38;5;124m\"\u001b[39m\u001b[38;5;124mTiming backbone:\u001b[39m\u001b[38;5;124m\"\u001b[39m)\n\u001b[0;32m----> 6\u001b[0m \u001b[43mget_ipython\u001b[49m\u001b[43m(\u001b[49m\u001b[43m)\u001b[49m\u001b[38;5;241;43m.\u001b[39;49m\u001b[43mrun_line_magic\u001b[49m\u001b[43m(\u001b[49m\u001b[38;5;124;43m'\u001b[39;49m\u001b[38;5;124;43mtimeit\u001b[39;49m\u001b[38;5;124;43m'\u001b[39;49m\u001b[43m,\u001b[49m\u001b[43m \u001b[49m\u001b[38;5;124;43m'\u001b[39;49m\u001b[38;5;124;43m-r 10 -n 100 measure_backbone(a_repeat[:2000]) #so it is more efficient but not a huge amount lol\u001b[39;49m\u001b[38;5;124;43m'\u001b[39;49m\u001b[43m)\u001b[49m\n\u001b[1;32m      8\u001b[0m \u001b[38;5;28mprint\u001b[39m(\u001b[38;5;124m\"\u001b[39m\u001b[38;5;124mTiming decoder:\u001b[39m\u001b[38;5;124m\"\u001b[39m)\n\u001b[1;32m      9\u001b[0m get_ipython()\u001b[38;5;241m.\u001b[39mrun_line_magic(\u001b[38;5;124m'\u001b[39m\u001b[38;5;124mtimeit\u001b[39m\u001b[38;5;124m'\u001b[39m, \u001b[38;5;124m'\u001b[39m\u001b[38;5;124m-r 10 -n 100 measure_decoder(a_repeat[:2000])\u001b[39m\u001b[38;5;124m'\u001b[39m)\n",
      "File \u001b[0;32m/data/leslie/sarthak/environments/hyena-dna/lib/python3.11/site-packages/IPython/core/interactiveshell.py:2456\u001b[0m, in \u001b[0;36mInteractiveShell.run_line_magic\u001b[0;34m(self, magic_name, line, _stack_depth)\u001b[0m\n\u001b[1;32m   2454\u001b[0m     kwargs[\u001b[38;5;124m'\u001b[39m\u001b[38;5;124mlocal_ns\u001b[39m\u001b[38;5;124m'\u001b[39m] \u001b[38;5;241m=\u001b[39m \u001b[38;5;28mself\u001b[39m\u001b[38;5;241m.\u001b[39mget_local_scope(stack_depth)\n\u001b[1;32m   2455\u001b[0m \u001b[38;5;28;01mwith\u001b[39;00m \u001b[38;5;28mself\u001b[39m\u001b[38;5;241m.\u001b[39mbuiltin_trap:\n\u001b[0;32m-> 2456\u001b[0m     result \u001b[38;5;241m=\u001b[39m \u001b[43mfn\u001b[49m\u001b[43m(\u001b[49m\u001b[38;5;241;43m*\u001b[39;49m\u001b[43margs\u001b[49m\u001b[43m,\u001b[49m\u001b[43m \u001b[49m\u001b[38;5;241;43m*\u001b[39;49m\u001b[38;5;241;43m*\u001b[39;49m\u001b[43mkwargs\u001b[49m\u001b[43m)\u001b[49m\n\u001b[1;32m   2458\u001b[0m \u001b[38;5;66;03m# The code below prevents the output from being displayed\u001b[39;00m\n\u001b[1;32m   2459\u001b[0m \u001b[38;5;66;03m# when using magics with decorator @output_can_be_silenced\u001b[39;00m\n\u001b[1;32m   2460\u001b[0m \u001b[38;5;66;03m# when the last Python token in the expression is a ';'.\u001b[39;00m\n\u001b[1;32m   2461\u001b[0m \u001b[38;5;28;01mif\u001b[39;00m \u001b[38;5;28mgetattr\u001b[39m(fn, magic\u001b[38;5;241m.\u001b[39mMAGIC_OUTPUT_CAN_BE_SILENCED, \u001b[38;5;28;01mFalse\u001b[39;00m):\n",
      "File \u001b[0;32m/data/leslie/sarthak/environments/hyena-dna/lib/python3.11/site-packages/IPython/core/magics/execution.py:1189\u001b[0m, in \u001b[0;36mExecutionMagics.timeit\u001b[0;34m(self, line, cell, local_ns)\u001b[0m\n\u001b[1;32m   1186\u001b[0m         \u001b[38;5;28;01mif\u001b[39;00m time_number \u001b[38;5;241m>\u001b[39m\u001b[38;5;241m=\u001b[39m \u001b[38;5;241m0.2\u001b[39m:\n\u001b[1;32m   1187\u001b[0m             \u001b[38;5;28;01mbreak\u001b[39;00m\n\u001b[0;32m-> 1189\u001b[0m all_runs \u001b[38;5;241m=\u001b[39m \u001b[43mtimer\u001b[49m\u001b[38;5;241;43m.\u001b[39;49m\u001b[43mrepeat\u001b[49m\u001b[43m(\u001b[49m\u001b[43mrepeat\u001b[49m\u001b[43m,\u001b[49m\u001b[43m \u001b[49m\u001b[43mnumber\u001b[49m\u001b[43m)\u001b[49m\n\u001b[1;32m   1190\u001b[0m best \u001b[38;5;241m=\u001b[39m \u001b[38;5;28mmin\u001b[39m(all_runs) \u001b[38;5;241m/\u001b[39m number\n\u001b[1;32m   1191\u001b[0m worst \u001b[38;5;241m=\u001b[39m \u001b[38;5;28mmax\u001b[39m(all_runs) \u001b[38;5;241m/\u001b[39m number\n",
      "File \u001b[0;32m/data/leslie/sarthak/environments/hyena-dna/lib/python3.11/timeit.py:208\u001b[0m, in \u001b[0;36mTimer.repeat\u001b[0;34m(self, repeat, number)\u001b[0m\n\u001b[1;32m    206\u001b[0m r \u001b[38;5;241m=\u001b[39m []\n\u001b[1;32m    207\u001b[0m \u001b[38;5;28;01mfor\u001b[39;00m i \u001b[38;5;129;01min\u001b[39;00m \u001b[38;5;28mrange\u001b[39m(repeat):\n\u001b[0;32m--> 208\u001b[0m     t \u001b[38;5;241m=\u001b[39m \u001b[38;5;28;43mself\u001b[39;49m\u001b[38;5;241;43m.\u001b[39;49m\u001b[43mtimeit\u001b[49m\u001b[43m(\u001b[49m\u001b[43mnumber\u001b[49m\u001b[43m)\u001b[49m\n\u001b[1;32m    209\u001b[0m     r\u001b[38;5;241m.\u001b[39mappend(t)\n\u001b[1;32m    210\u001b[0m \u001b[38;5;28;01mreturn\u001b[39;00m r\n",
      "File \u001b[0;32m/data/leslie/sarthak/environments/hyena-dna/lib/python3.11/site-packages/IPython/core/magics/execution.py:173\u001b[0m, in \u001b[0;36mTimer.timeit\u001b[0;34m(self, number)\u001b[0m\n\u001b[1;32m    171\u001b[0m gc\u001b[38;5;241m.\u001b[39mdisable()\n\u001b[1;32m    172\u001b[0m \u001b[38;5;28;01mtry\u001b[39;00m:\n\u001b[0;32m--> 173\u001b[0m     timing \u001b[38;5;241m=\u001b[39m \u001b[38;5;28;43mself\u001b[39;49m\u001b[38;5;241;43m.\u001b[39;49m\u001b[43minner\u001b[49m\u001b[43m(\u001b[49m\u001b[43mit\u001b[49m\u001b[43m,\u001b[49m\u001b[43m \u001b[49m\u001b[38;5;28;43mself\u001b[39;49m\u001b[38;5;241;43m.\u001b[39;49m\u001b[43mtimer\u001b[49m\u001b[43m)\u001b[49m\n\u001b[1;32m    174\u001b[0m \u001b[38;5;28;01mfinally\u001b[39;00m:\n\u001b[1;32m    175\u001b[0m     \u001b[38;5;28;01mif\u001b[39;00m gcold:\n",
      "File \u001b[0;32m<magic-timeit>:1\u001b[0m, in \u001b[0;36minner\u001b[0;34m(_it, _timer)\u001b[0m\n",
      "Cell \u001b[0;32mIn[14], line 3\u001b[0m, in \u001b[0;36mmeasure_backbone\u001b[0;34m(a)\u001b[0m\n\u001b[1;32m      1\u001b[0m \u001b[38;5;28;01mdef\u001b[39;00m \u001b[38;5;21mmeasure_backbone\u001b[39m(a):\n\u001b[1;32m      2\u001b[0m     torch\u001b[38;5;241m.\u001b[39mcuda\u001b[38;5;241m.\u001b[39msynchronize()  \u001b[38;5;66;03m# Ensure all queued operations are complete\u001b[39;00m\n\u001b[0;32m----> 3\u001b[0m     _ \u001b[38;5;241m=\u001b[39m \u001b[43mutil\u001b[49m\u001b[38;5;241;43m.\u001b[39;49m\u001b[43mbackbone\u001b[49m\u001b[43m(\u001b[49m\u001b[43ma\u001b[49m\u001b[43m)\u001b[49m\n\u001b[1;32m      4\u001b[0m     torch\u001b[38;5;241m.\u001b[39mcuda\u001b[38;5;241m.\u001b[39msynchronize()\n",
      "File \u001b[0;32m/data/leslie/sarthak/environments/hyena-dna/lib/python3.11/site-packages/torch/nn/modules/module.py:1518\u001b[0m, in \u001b[0;36mModule._wrapped_call_impl\u001b[0;34m(self, *args, **kwargs)\u001b[0m\n\u001b[1;32m   1516\u001b[0m     \u001b[38;5;28;01mreturn\u001b[39;00m \u001b[38;5;28mself\u001b[39m\u001b[38;5;241m.\u001b[39m_compiled_call_impl(\u001b[38;5;241m*\u001b[39margs, \u001b[38;5;241m*\u001b[39m\u001b[38;5;241m*\u001b[39mkwargs)  \u001b[38;5;66;03m# type: ignore[misc]\u001b[39;00m\n\u001b[1;32m   1517\u001b[0m \u001b[38;5;28;01melse\u001b[39;00m:\n\u001b[0;32m-> 1518\u001b[0m     \u001b[38;5;28;01mreturn\u001b[39;00m \u001b[38;5;28;43mself\u001b[39;49m\u001b[38;5;241;43m.\u001b[39;49m\u001b[43m_call_impl\u001b[49m\u001b[43m(\u001b[49m\u001b[38;5;241;43m*\u001b[39;49m\u001b[43margs\u001b[49m\u001b[43m,\u001b[49m\u001b[43m \u001b[49m\u001b[38;5;241;43m*\u001b[39;49m\u001b[38;5;241;43m*\u001b[39;49m\u001b[43mkwargs\u001b[49m\u001b[43m)\u001b[49m\n",
      "File \u001b[0;32m/data/leslie/sarthak/environments/hyena-dna/lib/python3.11/site-packages/torch/nn/modules/module.py:1527\u001b[0m, in \u001b[0;36mModule._call_impl\u001b[0;34m(self, *args, **kwargs)\u001b[0m\n\u001b[1;32m   1522\u001b[0m \u001b[38;5;66;03m# If we don't have any hooks, we want to skip the rest of the logic in\u001b[39;00m\n\u001b[1;32m   1523\u001b[0m \u001b[38;5;66;03m# this function, and just call forward.\u001b[39;00m\n\u001b[1;32m   1524\u001b[0m \u001b[38;5;28;01mif\u001b[39;00m \u001b[38;5;129;01mnot\u001b[39;00m (\u001b[38;5;28mself\u001b[39m\u001b[38;5;241m.\u001b[39m_backward_hooks \u001b[38;5;129;01mor\u001b[39;00m \u001b[38;5;28mself\u001b[39m\u001b[38;5;241m.\u001b[39m_backward_pre_hooks \u001b[38;5;129;01mor\u001b[39;00m \u001b[38;5;28mself\u001b[39m\u001b[38;5;241m.\u001b[39m_forward_hooks \u001b[38;5;129;01mor\u001b[39;00m \u001b[38;5;28mself\u001b[39m\u001b[38;5;241m.\u001b[39m_forward_pre_hooks\n\u001b[1;32m   1525\u001b[0m         \u001b[38;5;129;01mor\u001b[39;00m _global_backward_pre_hooks \u001b[38;5;129;01mor\u001b[39;00m _global_backward_hooks\n\u001b[1;32m   1526\u001b[0m         \u001b[38;5;129;01mor\u001b[39;00m _global_forward_hooks \u001b[38;5;129;01mor\u001b[39;00m _global_forward_pre_hooks):\n\u001b[0;32m-> 1527\u001b[0m     \u001b[38;5;28;01mreturn\u001b[39;00m \u001b[43mforward_call\u001b[49m\u001b[43m(\u001b[49m\u001b[38;5;241;43m*\u001b[39;49m\u001b[43margs\u001b[49m\u001b[43m,\u001b[49m\u001b[43m \u001b[49m\u001b[38;5;241;43m*\u001b[39;49m\u001b[38;5;241;43m*\u001b[39;49m\u001b[43mkwargs\u001b[49m\u001b[43m)\u001b[49m\n\u001b[1;32m   1529\u001b[0m \u001b[38;5;28;01mtry\u001b[39;00m:\n\u001b[1;32m   1530\u001b[0m     result \u001b[38;5;241m=\u001b[39m \u001b[38;5;28;01mNone\u001b[39;00m\n",
      "File \u001b[0;32m/lila/data/leslie/sarthak/hyena/hyena-dna/src/models/sequence/dna_embedding.py:76\u001b[0m, in \u001b[0;36mDNAEmbeddingModel.forward\u001b[0;34m(self, input_ids, position_ids, inference_params, state)\u001b[0m\n\u001b[1;32m     75\u001b[0m \u001b[38;5;28;01mdef\u001b[39;00m \u001b[38;5;21mforward\u001b[39m(\u001b[38;5;28mself\u001b[39m, input_ids, position_ids\u001b[38;5;241m=\u001b[39m\u001b[38;5;28;01mNone\u001b[39;00m, inference_params\u001b[38;5;241m=\u001b[39m\u001b[38;5;28;01mNone\u001b[39;00m, state\u001b[38;5;241m=\u001b[39m\u001b[38;5;28;01mNone\u001b[39;00m): \u001b[38;5;66;03m# state for the repo interface\u001b[39;00m\n\u001b[0;32m---> 76\u001b[0m     hidden_states \u001b[38;5;241m=\u001b[39m \u001b[38;5;28;43mself\u001b[39;49m\u001b[38;5;241;43m.\u001b[39;49m\u001b[43mbackbone\u001b[49m\u001b[43m(\u001b[49m\u001b[43minput_ids\u001b[49m\u001b[43m,\u001b[49m\u001b[43m \u001b[49m\u001b[43mposition_ids\u001b[49m\u001b[38;5;241;43m=\u001b[39;49m\u001b[43mposition_ids\u001b[49m\u001b[43m,\u001b[49m\n\u001b[1;32m     77\u001b[0m \u001b[43m                                  \u001b[49m\u001b[43minference_params\u001b[49m\u001b[38;5;241;43m=\u001b[39;49m\u001b[43minference_params\u001b[49m\u001b[43m)\u001b[49m\n\u001b[1;32m     78\u001b[0m     \u001b[38;5;66;03m# we only need the last hidden state for embeddings (decoder head will predict classification task)\u001b[39;00m\n\u001b[1;32m     79\u001b[0m     \u001b[38;5;66;03m#lm head will NOT use the downstream task\u001b[39;00m\n\u001b[1;32m     80\u001b[0m     \u001b[38;5;28;01mreturn\u001b[39;00m hidden_states, \u001b[38;5;28;01mNone\u001b[39;00m\n",
      "File \u001b[0;32m/data/leslie/sarthak/environments/hyena-dna/lib/python3.11/site-packages/torch/nn/modules/module.py:1518\u001b[0m, in \u001b[0;36mModule._wrapped_call_impl\u001b[0;34m(self, *args, **kwargs)\u001b[0m\n\u001b[1;32m   1516\u001b[0m     \u001b[38;5;28;01mreturn\u001b[39;00m \u001b[38;5;28mself\u001b[39m\u001b[38;5;241m.\u001b[39m_compiled_call_impl(\u001b[38;5;241m*\u001b[39margs, \u001b[38;5;241m*\u001b[39m\u001b[38;5;241m*\u001b[39mkwargs)  \u001b[38;5;66;03m# type: ignore[misc]\u001b[39;00m\n\u001b[1;32m   1517\u001b[0m \u001b[38;5;28;01melse\u001b[39;00m:\n\u001b[0;32m-> 1518\u001b[0m     \u001b[38;5;28;01mreturn\u001b[39;00m \u001b[38;5;28;43mself\u001b[39;49m\u001b[38;5;241;43m.\u001b[39;49m\u001b[43m_call_impl\u001b[49m\u001b[43m(\u001b[49m\u001b[38;5;241;43m*\u001b[39;49m\u001b[43margs\u001b[49m\u001b[43m,\u001b[49m\u001b[43m \u001b[49m\u001b[38;5;241;43m*\u001b[39;49m\u001b[38;5;241;43m*\u001b[39;49m\u001b[43mkwargs\u001b[49m\u001b[43m)\u001b[49m\n",
      "File \u001b[0;32m/data/leslie/sarthak/environments/hyena-dna/lib/python3.11/site-packages/torch/nn/modules/module.py:1527\u001b[0m, in \u001b[0;36mModule._call_impl\u001b[0;34m(self, *args, **kwargs)\u001b[0m\n\u001b[1;32m   1522\u001b[0m \u001b[38;5;66;03m# If we don't have any hooks, we want to skip the rest of the logic in\u001b[39;00m\n\u001b[1;32m   1523\u001b[0m \u001b[38;5;66;03m# this function, and just call forward.\u001b[39;00m\n\u001b[1;32m   1524\u001b[0m \u001b[38;5;28;01mif\u001b[39;00m \u001b[38;5;129;01mnot\u001b[39;00m (\u001b[38;5;28mself\u001b[39m\u001b[38;5;241m.\u001b[39m_backward_hooks \u001b[38;5;129;01mor\u001b[39;00m \u001b[38;5;28mself\u001b[39m\u001b[38;5;241m.\u001b[39m_backward_pre_hooks \u001b[38;5;129;01mor\u001b[39;00m \u001b[38;5;28mself\u001b[39m\u001b[38;5;241m.\u001b[39m_forward_hooks \u001b[38;5;129;01mor\u001b[39;00m \u001b[38;5;28mself\u001b[39m\u001b[38;5;241m.\u001b[39m_forward_pre_hooks\n\u001b[1;32m   1525\u001b[0m         \u001b[38;5;129;01mor\u001b[39;00m _global_backward_pre_hooks \u001b[38;5;129;01mor\u001b[39;00m _global_backward_hooks\n\u001b[1;32m   1526\u001b[0m         \u001b[38;5;129;01mor\u001b[39;00m _global_forward_hooks \u001b[38;5;129;01mor\u001b[39;00m _global_forward_pre_hooks):\n\u001b[0;32m-> 1527\u001b[0m     \u001b[38;5;28;01mreturn\u001b[39;00m \u001b[43mforward_call\u001b[49m\u001b[43m(\u001b[49m\u001b[38;5;241;43m*\u001b[39;49m\u001b[43margs\u001b[49m\u001b[43m,\u001b[49m\u001b[43m \u001b[49m\u001b[38;5;241;43m*\u001b[39;49m\u001b[38;5;241;43m*\u001b[39;49m\u001b[43mkwargs\u001b[49m\u001b[43m)\u001b[49m\n\u001b[1;32m   1529\u001b[0m \u001b[38;5;28;01mtry\u001b[39;00m:\n\u001b[1;32m   1530\u001b[0m     result \u001b[38;5;241m=\u001b[39m \u001b[38;5;28;01mNone\u001b[39;00m\n",
      "File \u001b[0;32m/lila/data/leslie/sarthak/hyena/hyena-dna/src/models/sequence/long_conv_lm.py:404\u001b[0m, in \u001b[0;36mLMBackbone.forward\u001b[0;34m(self, input_ids, position_ids, inference_params)\u001b[0m\n\u001b[1;32m    402\u001b[0m     mixer_kwargs[\u001b[38;5;124m\"\u001b[39m\u001b[38;5;124minference_params\u001b[39m\u001b[38;5;124m\"\u001b[39m] \u001b[38;5;241m=\u001b[39m inference_params\n\u001b[1;32m    403\u001b[0m \u001b[38;5;28;01mfor\u001b[39;00m layer \u001b[38;5;129;01min\u001b[39;00m \u001b[38;5;28mself\u001b[39m\u001b[38;5;241m.\u001b[39mlayers:\n\u001b[0;32m--> 404\u001b[0m     hidden_states, residual \u001b[38;5;241m=\u001b[39m \u001b[43mlayer\u001b[49m\u001b[43m(\u001b[49m\n\u001b[1;32m    405\u001b[0m \u001b[43m        \u001b[49m\u001b[43mhidden_states\u001b[49m\u001b[43m,\u001b[49m\u001b[43m \u001b[49m\u001b[43mresidual\u001b[49m\u001b[43m,\u001b[49m\u001b[43m \u001b[49m\u001b[43mmixer_kwargs\u001b[49m\u001b[38;5;241;43m=\u001b[39;49m\u001b[43mmixer_kwargs\u001b[49m\n\u001b[1;32m    406\u001b[0m \u001b[43m    \u001b[49m\u001b[43m)\u001b[49m\n\u001b[1;32m    407\u001b[0m \u001b[38;5;66;03m# print(hidden_states.shape) # only 1 layer and output is the same shape\u001b[39;00m\n\u001b[1;32m    408\u001b[0m \u001b[38;5;66;03m# import sys\u001b[39;00m\n\u001b[1;32m    409\u001b[0m \u001b[38;5;66;03m# sys.exit()\u001b[39;00m\n\u001b[1;32m    410\u001b[0m \u001b[38;5;28;01mif\u001b[39;00m \u001b[38;5;129;01mnot\u001b[39;00m \u001b[38;5;28mself\u001b[39m\u001b[38;5;241m.\u001b[39mfused_dropout_add_ln:\n",
      "File \u001b[0;32m/data/leslie/sarthak/environments/hyena-dna/lib/python3.11/site-packages/torch/nn/modules/module.py:1518\u001b[0m, in \u001b[0;36mModule._wrapped_call_impl\u001b[0;34m(self, *args, **kwargs)\u001b[0m\n\u001b[1;32m   1516\u001b[0m     \u001b[38;5;28;01mreturn\u001b[39;00m \u001b[38;5;28mself\u001b[39m\u001b[38;5;241m.\u001b[39m_compiled_call_impl(\u001b[38;5;241m*\u001b[39margs, \u001b[38;5;241m*\u001b[39m\u001b[38;5;241m*\u001b[39mkwargs)  \u001b[38;5;66;03m# type: ignore[misc]\u001b[39;00m\n\u001b[1;32m   1517\u001b[0m \u001b[38;5;28;01melse\u001b[39;00m:\n\u001b[0;32m-> 1518\u001b[0m     \u001b[38;5;28;01mreturn\u001b[39;00m \u001b[38;5;28;43mself\u001b[39;49m\u001b[38;5;241;43m.\u001b[39;49m\u001b[43m_call_impl\u001b[49m\u001b[43m(\u001b[49m\u001b[38;5;241;43m*\u001b[39;49m\u001b[43margs\u001b[49m\u001b[43m,\u001b[49m\u001b[43m \u001b[49m\u001b[38;5;241;43m*\u001b[39;49m\u001b[38;5;241;43m*\u001b[39;49m\u001b[43mkwargs\u001b[49m\u001b[43m)\u001b[49m\n",
      "File \u001b[0;32m/data/leslie/sarthak/environments/hyena-dna/lib/python3.11/site-packages/torch/nn/modules/module.py:1527\u001b[0m, in \u001b[0;36mModule._call_impl\u001b[0;34m(self, *args, **kwargs)\u001b[0m\n\u001b[1;32m   1522\u001b[0m \u001b[38;5;66;03m# If we don't have any hooks, we want to skip the rest of the logic in\u001b[39;00m\n\u001b[1;32m   1523\u001b[0m \u001b[38;5;66;03m# this function, and just call forward.\u001b[39;00m\n\u001b[1;32m   1524\u001b[0m \u001b[38;5;28;01mif\u001b[39;00m \u001b[38;5;129;01mnot\u001b[39;00m (\u001b[38;5;28mself\u001b[39m\u001b[38;5;241m.\u001b[39m_backward_hooks \u001b[38;5;129;01mor\u001b[39;00m \u001b[38;5;28mself\u001b[39m\u001b[38;5;241m.\u001b[39m_backward_pre_hooks \u001b[38;5;129;01mor\u001b[39;00m \u001b[38;5;28mself\u001b[39m\u001b[38;5;241m.\u001b[39m_forward_hooks \u001b[38;5;129;01mor\u001b[39;00m \u001b[38;5;28mself\u001b[39m\u001b[38;5;241m.\u001b[39m_forward_pre_hooks\n\u001b[1;32m   1525\u001b[0m         \u001b[38;5;129;01mor\u001b[39;00m _global_backward_pre_hooks \u001b[38;5;129;01mor\u001b[39;00m _global_backward_hooks\n\u001b[1;32m   1526\u001b[0m         \u001b[38;5;129;01mor\u001b[39;00m _global_forward_hooks \u001b[38;5;129;01mor\u001b[39;00m _global_forward_pre_hooks):\n\u001b[0;32m-> 1527\u001b[0m     \u001b[38;5;28;01mreturn\u001b[39;00m \u001b[43mforward_call\u001b[49m\u001b[43m(\u001b[49m\u001b[38;5;241;43m*\u001b[39;49m\u001b[43margs\u001b[49m\u001b[43m,\u001b[49m\u001b[43m \u001b[49m\u001b[38;5;241;43m*\u001b[39;49m\u001b[38;5;241;43m*\u001b[39;49m\u001b[43mkwargs\u001b[49m\u001b[43m)\u001b[49m\n\u001b[1;32m   1529\u001b[0m \u001b[38;5;28;01mtry\u001b[39;00m:\n\u001b[1;32m   1530\u001b[0m     result \u001b[38;5;241m=\u001b[39m \u001b[38;5;28;01mNone\u001b[39;00m\n",
      "File \u001b[0;32m/data/leslie/sarthak/environments/hyena-dna/lib/python3.11/site-packages/flash_attn/modules/block.py:148\u001b[0m, in \u001b[0;36mBlock.forward\u001b[0;34m(self, hidden_states, residual, mixer_subset, mixer_kwargs)\u001b[0m\n\u001b[1;32m    146\u001b[0m \u001b[38;5;28;01mif\u001b[39;00m mixer_subset \u001b[38;5;129;01mis\u001b[39;00m \u001b[38;5;129;01mnot\u001b[39;00m \u001b[38;5;28;01mNone\u001b[39;00m:\n\u001b[1;32m    147\u001b[0m     mixer_kwargs[\u001b[38;5;124m'\u001b[39m\u001b[38;5;124mmixer_subset\u001b[39m\u001b[38;5;124m'\u001b[39m] \u001b[38;5;241m=\u001b[39m mixer_subset\n\u001b[0;32m--> 148\u001b[0m hidden_states \u001b[38;5;241m=\u001b[39m \u001b[38;5;28;43mself\u001b[39;49m\u001b[38;5;241;43m.\u001b[39;49m\u001b[43mmixer\u001b[49m\u001b[43m(\u001b[49m\u001b[43mhidden_states\u001b[49m\u001b[43m,\u001b[49m\u001b[43m \u001b[49m\u001b[38;5;241;43m*\u001b[39;49m\u001b[38;5;241;43m*\u001b[39;49m\u001b[43mmixer_kwargs\u001b[49m\u001b[43m)\u001b[49m\n\u001b[1;32m    149\u001b[0m \u001b[38;5;28;01mif\u001b[39;00m mixer_subset \u001b[38;5;129;01mis\u001b[39;00m \u001b[38;5;129;01mnot\u001b[39;00m \u001b[38;5;28;01mNone\u001b[39;00m:\n\u001b[1;32m    150\u001b[0m     residual \u001b[38;5;241m=\u001b[39m residual[:, mixer_subset]\n",
      "File \u001b[0;32m/data/leslie/sarthak/environments/hyena-dna/lib/python3.11/site-packages/torch/nn/modules/module.py:1518\u001b[0m, in \u001b[0;36mModule._wrapped_call_impl\u001b[0;34m(self, *args, **kwargs)\u001b[0m\n\u001b[1;32m   1516\u001b[0m     \u001b[38;5;28;01mreturn\u001b[39;00m \u001b[38;5;28mself\u001b[39m\u001b[38;5;241m.\u001b[39m_compiled_call_impl(\u001b[38;5;241m*\u001b[39margs, \u001b[38;5;241m*\u001b[39m\u001b[38;5;241m*\u001b[39mkwargs)  \u001b[38;5;66;03m# type: ignore[misc]\u001b[39;00m\n\u001b[1;32m   1517\u001b[0m \u001b[38;5;28;01melse\u001b[39;00m:\n\u001b[0;32m-> 1518\u001b[0m     \u001b[38;5;28;01mreturn\u001b[39;00m \u001b[38;5;28;43mself\u001b[39;49m\u001b[38;5;241;43m.\u001b[39;49m\u001b[43m_call_impl\u001b[49m\u001b[43m(\u001b[49m\u001b[38;5;241;43m*\u001b[39;49m\u001b[43margs\u001b[49m\u001b[43m,\u001b[49m\u001b[43m \u001b[49m\u001b[38;5;241;43m*\u001b[39;49m\u001b[38;5;241;43m*\u001b[39;49m\u001b[43mkwargs\u001b[49m\u001b[43m)\u001b[49m\n",
      "File \u001b[0;32m/data/leslie/sarthak/environments/hyena-dna/lib/python3.11/site-packages/torch/nn/modules/module.py:1527\u001b[0m, in \u001b[0;36mModule._call_impl\u001b[0;34m(self, *args, **kwargs)\u001b[0m\n\u001b[1;32m   1522\u001b[0m \u001b[38;5;66;03m# If we don't have any hooks, we want to skip the rest of the logic in\u001b[39;00m\n\u001b[1;32m   1523\u001b[0m \u001b[38;5;66;03m# this function, and just call forward.\u001b[39;00m\n\u001b[1;32m   1524\u001b[0m \u001b[38;5;28;01mif\u001b[39;00m \u001b[38;5;129;01mnot\u001b[39;00m (\u001b[38;5;28mself\u001b[39m\u001b[38;5;241m.\u001b[39m_backward_hooks \u001b[38;5;129;01mor\u001b[39;00m \u001b[38;5;28mself\u001b[39m\u001b[38;5;241m.\u001b[39m_backward_pre_hooks \u001b[38;5;129;01mor\u001b[39;00m \u001b[38;5;28mself\u001b[39m\u001b[38;5;241m.\u001b[39m_forward_hooks \u001b[38;5;129;01mor\u001b[39;00m \u001b[38;5;28mself\u001b[39m\u001b[38;5;241m.\u001b[39m_forward_pre_hooks\n\u001b[1;32m   1525\u001b[0m         \u001b[38;5;129;01mor\u001b[39;00m _global_backward_pre_hooks \u001b[38;5;129;01mor\u001b[39;00m _global_backward_hooks\n\u001b[1;32m   1526\u001b[0m         \u001b[38;5;129;01mor\u001b[39;00m _global_forward_hooks \u001b[38;5;129;01mor\u001b[39;00m _global_forward_pre_hooks):\n\u001b[0;32m-> 1527\u001b[0m     \u001b[38;5;28;01mreturn\u001b[39;00m \u001b[43mforward_call\u001b[49m\u001b[43m(\u001b[49m\u001b[38;5;241;43m*\u001b[39;49m\u001b[43margs\u001b[49m\u001b[43m,\u001b[49m\u001b[43m \u001b[49m\u001b[38;5;241;43m*\u001b[39;49m\u001b[38;5;241;43m*\u001b[39;49m\u001b[43mkwargs\u001b[49m\u001b[43m)\u001b[49m\n\u001b[1;32m   1529\u001b[0m \u001b[38;5;28;01mtry\u001b[39;00m:\n\u001b[1;32m   1530\u001b[0m     result \u001b[38;5;241m=\u001b[39m \u001b[38;5;28;01mNone\u001b[39;00m\n",
      "File \u001b[0;32m/lila/data/leslie/sarthak/hyena/hyena-dna/src/models/sequence/hyena.py:423\u001b[0m, in \u001b[0;36mHyenaOperator.forward\u001b[0;34m(self, u, *args, **kwargs)\u001b[0m\n\u001b[1;32m    420\u001b[0m     v \u001b[38;5;241m=\u001b[39m \u001b[38;5;28mself\u001b[39m\u001b[38;5;241m.\u001b[39mdropout(v \u001b[38;5;241m*\u001b[39m x_i)\n\u001b[1;32m    422\u001b[0m \u001b[38;5;66;03m# the bias term is broadcasted. Last dimension (l) is handled by fftconv\u001b[39;00m\n\u001b[0;32m--> 423\u001b[0m v \u001b[38;5;241m=\u001b[39m \u001b[38;5;28;43mself\u001b[39;49m\u001b[38;5;241;43m.\u001b[39;49m\u001b[43mfilter_fn\u001b[49m\u001b[43m(\u001b[49m\u001b[43mv\u001b[49m\u001b[43m,\u001b[49m\u001b[43m \u001b[49m\u001b[43ml_filter\u001b[49m\u001b[43m,\u001b[49m\u001b[43m \u001b[49m\u001b[43mk\u001b[49m\u001b[38;5;241;43m=\u001b[39;49m\u001b[43mk\u001b[49m\u001b[43m[\u001b[49m\u001b[43mo\u001b[49m\u001b[43m]\u001b[49m\u001b[43m,\u001b[49m\u001b[43m \u001b[49m\u001b[43mbias\u001b[49m\u001b[38;5;241;43m=\u001b[39;49m\u001b[43mbias\u001b[49m\u001b[43m[\u001b[49m\u001b[43mo\u001b[49m\u001b[43m,\u001b[49m\u001b[43m \u001b[49m\u001b[38;5;28;43;01mNone\u001b[39;49;00m\u001b[43m,\u001b[49m\u001b[43m \u001b[49m\u001b[43m:\u001b[49m\u001b[43m,\u001b[49m\u001b[43m \u001b[49m\u001b[38;5;28;43;01mNone\u001b[39;49;00m\u001b[43m]\u001b[49m\u001b[43m)\u001b[49m\n\u001b[1;32m    425\u001b[0m \u001b[38;5;28;01mif\u001b[39;00m \u001b[38;5;28mself\u001b[39m\u001b[38;5;241m.\u001b[39mpost_order_ffn:\n\u001b[1;32m    426\u001b[0m     w \u001b[38;5;241m=\u001b[39m \u001b[38;5;28mself\u001b[39m\u001b[38;5;241m.\u001b[39mord_proj_w[o]\n",
      "File \u001b[0;32m/data/leslie/sarthak/environments/hyena-dna/lib/python3.11/site-packages/torch/nn/modules/module.py:1518\u001b[0m, in \u001b[0;36mModule._wrapped_call_impl\u001b[0;34m(self, *args, **kwargs)\u001b[0m\n\u001b[1;32m   1516\u001b[0m     \u001b[38;5;28;01mreturn\u001b[39;00m \u001b[38;5;28mself\u001b[39m\u001b[38;5;241m.\u001b[39m_compiled_call_impl(\u001b[38;5;241m*\u001b[39margs, \u001b[38;5;241m*\u001b[39m\u001b[38;5;241m*\u001b[39mkwargs)  \u001b[38;5;66;03m# type: ignore[misc]\u001b[39;00m\n\u001b[1;32m   1517\u001b[0m \u001b[38;5;28;01melse\u001b[39;00m:\n\u001b[0;32m-> 1518\u001b[0m     \u001b[38;5;28;01mreturn\u001b[39;00m \u001b[38;5;28;43mself\u001b[39;49m\u001b[38;5;241;43m.\u001b[39;49m\u001b[43m_call_impl\u001b[49m\u001b[43m(\u001b[49m\u001b[38;5;241;43m*\u001b[39;49m\u001b[43margs\u001b[49m\u001b[43m,\u001b[49m\u001b[43m \u001b[49m\u001b[38;5;241;43m*\u001b[39;49m\u001b[38;5;241;43m*\u001b[39;49m\u001b[43mkwargs\u001b[49m\u001b[43m)\u001b[49m\n",
      "File \u001b[0;32m/data/leslie/sarthak/environments/hyena-dna/lib/python3.11/site-packages/torch/nn/modules/module.py:1527\u001b[0m, in \u001b[0;36mModule._call_impl\u001b[0;34m(self, *args, **kwargs)\u001b[0m\n\u001b[1;32m   1522\u001b[0m \u001b[38;5;66;03m# If we don't have any hooks, we want to skip the rest of the logic in\u001b[39;00m\n\u001b[1;32m   1523\u001b[0m \u001b[38;5;66;03m# this function, and just call forward.\u001b[39;00m\n\u001b[1;32m   1524\u001b[0m \u001b[38;5;28;01mif\u001b[39;00m \u001b[38;5;129;01mnot\u001b[39;00m (\u001b[38;5;28mself\u001b[39m\u001b[38;5;241m.\u001b[39m_backward_hooks \u001b[38;5;129;01mor\u001b[39;00m \u001b[38;5;28mself\u001b[39m\u001b[38;5;241m.\u001b[39m_backward_pre_hooks \u001b[38;5;129;01mor\u001b[39;00m \u001b[38;5;28mself\u001b[39m\u001b[38;5;241m.\u001b[39m_forward_hooks \u001b[38;5;129;01mor\u001b[39;00m \u001b[38;5;28mself\u001b[39m\u001b[38;5;241m.\u001b[39m_forward_pre_hooks\n\u001b[1;32m   1525\u001b[0m         \u001b[38;5;129;01mor\u001b[39;00m _global_backward_pre_hooks \u001b[38;5;129;01mor\u001b[39;00m _global_backward_hooks\n\u001b[1;32m   1526\u001b[0m         \u001b[38;5;129;01mor\u001b[39;00m _global_forward_hooks \u001b[38;5;129;01mor\u001b[39;00m _global_forward_pre_hooks):\n\u001b[0;32m-> 1527\u001b[0m     \u001b[38;5;28;01mreturn\u001b[39;00m \u001b[43mforward_call\u001b[49m\u001b[43m(\u001b[49m\u001b[38;5;241;43m*\u001b[39;49m\u001b[43margs\u001b[49m\u001b[43m,\u001b[49m\u001b[43m \u001b[49m\u001b[38;5;241;43m*\u001b[39;49m\u001b[38;5;241;43m*\u001b[39;49m\u001b[43mkwargs\u001b[49m\u001b[43m)\u001b[49m\n\u001b[1;32m   1529\u001b[0m \u001b[38;5;28;01mtry\u001b[39;00m:\n\u001b[1;32m   1530\u001b[0m     result \u001b[38;5;241m=\u001b[39m \u001b[38;5;28;01mNone\u001b[39;00m\n",
      "File \u001b[0;32m/lila/data/leslie/sarthak/hyena/hyena-dna/src/models/sequence/hyena.py:261\u001b[0m, in \u001b[0;36mHyenaFilter.forward\u001b[0;34m(self, x, L, k, bias, *args, **kwargs)\u001b[0m\n\u001b[1;32m    252\u001b[0m     y \u001b[38;5;241m=\u001b[39m fftconv_func(\n\u001b[1;32m    253\u001b[0m         x,\n\u001b[1;32m    254\u001b[0m         k,\n\u001b[0;32m   (...)\u001b[0m\n\u001b[1;32m    258\u001b[0m         force_fp16_output\u001b[38;5;241m=\u001b[39mtorch\u001b[38;5;241m.\u001b[39mis_autocast_enabled(),\n\u001b[1;32m    259\u001b[0m     )\n\u001b[1;32m    260\u001b[0m \u001b[38;5;28;01melse\u001b[39;00m:\n\u001b[0;32m--> 261\u001b[0m     y \u001b[38;5;241m=\u001b[39m \u001b[43mfftconv_ref\u001b[49m\u001b[43m(\u001b[49m\u001b[43mx\u001b[49m\u001b[43m,\u001b[49m\u001b[43m \u001b[49m\u001b[43mk\u001b[49m\u001b[43m,\u001b[49m\u001b[43m \u001b[49m\u001b[43mbias\u001b[49m\u001b[43m,\u001b[49m\u001b[43m \u001b[49m\u001b[43mdropout_mask\u001b[49m\u001b[38;5;241;43m=\u001b[39;49m\u001b[38;5;28;43;01mNone\u001b[39;49;00m\u001b[43m,\u001b[49m\u001b[43m \u001b[49m\u001b[43mgelu\u001b[49m\u001b[38;5;241;43m=\u001b[39;49m\u001b[38;5;28;43;01mFalse\u001b[39;49;00m\u001b[43m,\u001b[49m\u001b[43m \u001b[49m\u001b[43mbidirectional\u001b[49m\u001b[38;5;241;43m=\u001b[39;49m\u001b[38;5;28;43mself\u001b[39;49m\u001b[38;5;241;43m.\u001b[39;49m\u001b[43mbidirectional\u001b[49m\u001b[43m)\u001b[49m\n\u001b[1;32m    262\u001b[0m     \u001b[38;5;66;03m# y = (\u001b[39;00m\n\u001b[1;32m    263\u001b[0m     \u001b[38;5;66;03m#     FFTConvFuncv2.apply(x, k.to(dtype=torch.float32))\u001b[39;00m\n\u001b[1;32m    264\u001b[0m     \u001b[38;5;66;03m#     + bias.unsqueeze(-1) * x\u001b[39;00m\n\u001b[1;32m    265\u001b[0m     \u001b[38;5;66;03m# )\u001b[39;00m\n\u001b[1;32m    267\u001b[0m \u001b[38;5;28;01mreturn\u001b[39;00m y\u001b[38;5;241m.\u001b[39mto(dtype\u001b[38;5;241m=\u001b[39mx\u001b[38;5;241m.\u001b[39mdtype)\n",
      "File \u001b[0;32m/lila/data/leslie/sarthak/hyena/hyena-dna/src/models/sequence/hyena.py:62\u001b[0m, in \u001b[0;36mfftconv_ref\u001b[0;34m(u, k, D, dropout_mask, gelu, k_rev, bidirectional)\u001b[0m\n\u001b[1;32m     60\u001b[0m seqlen \u001b[38;5;241m=\u001b[39m u\u001b[38;5;241m.\u001b[39mshape[\u001b[38;5;241m-\u001b[39m\u001b[38;5;241m1\u001b[39m]\n\u001b[1;32m     61\u001b[0m fft_size \u001b[38;5;241m=\u001b[39m \u001b[38;5;241m2\u001b[39m \u001b[38;5;241m*\u001b[39m seqlen\n\u001b[0;32m---> 62\u001b[0m k_f \u001b[38;5;241m=\u001b[39m \u001b[43mtorch\u001b[49m\u001b[38;5;241;43m.\u001b[39;49m\u001b[43mfft\u001b[49m\u001b[38;5;241;43m.\u001b[39;49m\u001b[43mrfft\u001b[49m\u001b[43m(\u001b[49m\u001b[43mk\u001b[49m\u001b[43m,\u001b[49m\u001b[43m \u001b[49m\u001b[43mn\u001b[49m\u001b[38;5;241;43m=\u001b[39;49m\u001b[43mfft_size\u001b[49m\u001b[43m)\u001b[49m \u001b[38;5;241m/\u001b[39m fft_size\n\u001b[1;32m     63\u001b[0m \u001b[38;5;28;01mif\u001b[39;00m k_rev \u001b[38;5;129;01mis\u001b[39;00m \u001b[38;5;129;01mnot\u001b[39;00m \u001b[38;5;28;01mNone\u001b[39;00m:\n\u001b[1;32m     64\u001b[0m     k_rev_f \u001b[38;5;241m=\u001b[39m torch\u001b[38;5;241m.\u001b[39mfft\u001b[38;5;241m.\u001b[39mrfft(k_rev, n\u001b[38;5;241m=\u001b[39mfft_size) \u001b[38;5;241m/\u001b[39m fft_size\n",
      "\u001b[0;31mRuntimeError\u001b[0m: Unsupported dtype BFloat16"
     ]
    }
   ],
   "source": [
    "#one final thing to test is to do bfloat 16, see how much that speeds things up\n",
    "a_repeat = a_repeat.long()\n",
    "util.backbone = util.backbone.bfloat16()\n",
    "util.decoder = util.decoder.bfloat16()\n",
    "print(\"Timing backbone:\")\n",
    "%timeit -r 10 -n 100 measure_backbone(a_repeat[:2000]) #so it is more efficient but not a huge amount lol\n",
    "\n",
    "print(\"Timing decoder:\")\n",
    "%timeit -r 10 -n 100 measure_decoder(a_repeat[:2000])"
   ]
  },
  {
   "cell_type": "markdown",
   "metadata": {},
   "source": [
    "# finally, let's test our new results on a regression model"
   ]
  },
  {
   "cell_type": "code",
   "execution_count": 37,
   "metadata": {},
   "outputs": [
    {
     "name": "stderr",
     "output_type": "stream",
     "text": [
      "100%|██████████| 1024/1024 [01:04<00:00, 15.83it/s]\n"
     ]
    }
   ],
   "source": [
    "ckpt_path = '/data/leslie/sarthak/hyena/hyena-dna/outputs/2024-02-17/15-43-26-621154/checkpoints/last.ckpt'\n",
    "util = ISMUtils('DNase_ctst', ckpt_path, classification=False)\n",
    "out_original_ctst = util.calculate_ISM(0, cuda=True, progress_bar = True, return_out=False, b_size = 8) #takes about 60 GB of memory..."
   ]
  },
  {
   "cell_type": "code",
   "execution_count": 38,
   "metadata": {},
   "outputs": [
    {
     "ename": "NameError",
     "evalue": "name 'i' is not defined",
     "output_type": "error",
     "traceback": [
      "\u001b[0;31m---------------------------------------------------------------------------\u001b[0m",
      "\u001b[0;31mNameError\u001b[0m                                 Traceback (most recent call last)",
      "Cell \u001b[0;32mIn[38], line 22\u001b[0m\n\u001b[1;32m      4\u001b[0m \u001b[38;5;66;03m#test it on various ccREs and compare it to the saved values\u001b[39;00m\n\u001b[1;32m      5\u001b[0m \u001b[38;5;66;03m#first for the non all cell type\u001b[39;00m\n\u001b[1;32m      6\u001b[0m \u001b[38;5;66;03m# multitasking_path = '/data/leslie/sarthak/hyena/hyena-dna/outputs/2024-02-23/09-35-33-196632/checkpoints/381-val_loss=3.57483.ckpt'\u001b[39;00m\n\u001b[0;32m   (...)\u001b[0m\n\u001b[1;32m     18\u001b[0m \u001b[38;5;66;03m# # util_cts2 = ISMUtils('DNase',cts_path2) #the old 10% 100 epoch model that also used the old embeddings\u001b[39;00m\n\u001b[1;32m     19\u001b[0m \u001b[38;5;66;03m# del util_cts\u001b[39;00m\n\u001b[1;32m     21\u001b[0m util_ctst \u001b[38;5;241m=\u001b[39m ISMUtilsOld(\u001b[38;5;124m'\u001b[39m\u001b[38;5;124mDNase_ctst\u001b[39m\u001b[38;5;124m'\u001b[39m,ckpt_path)\n\u001b[0;32m---> 22\u001b[0m out_old_ctst \u001b[38;5;241m=\u001b[39m util_ctst\u001b[38;5;241m.\u001b[39mcalculate_ISM(\u001b[43mi\u001b[49m, cuda \u001b[38;5;241m=\u001b[39m \u001b[38;5;28;01mTrue\u001b[39;00m, progress_bar\u001b[38;5;241m=\u001b[39m\u001b[38;5;28;01mTrue\u001b[39;00m)\n\u001b[1;32m     23\u001b[0m     \u001b[38;5;66;03m# np.save(f'/data/leslie/sarthak/hyena/hyena-dna/shap_analysis/saved_ISM/ISM_run1_normalized_ctst{i}.npy', ism)\u001b[39;00m\n",
      "\u001b[0;31mNameError\u001b[0m: name 'i' is not defined"
     ]
    }
   ],
   "source": [
    "from shap_analysis.ism_utils import ISMUtils as ISMUtilsOld\n",
    "import numpy as np\n",
    "\n",
    "#test it on various ccREs and compare it to the saved values\n",
    "#first for the non all cell type\n",
    "# multitasking_path = '/data/leslie/sarthak/hyena/hyena-dna/outputs/2024-02-23/09-35-33-196632/checkpoints/381-val_loss=3.57483.ckpt'\n",
    "# cts_path = '/data/leslie/sarthak/hyena/hyena-dna/outputs/2024-02-29/15-45-02-282170/checkpoints/last.ckpt'\n",
    "# cts_path2 = '/data/leslie/sarthak/hyena/hyena-dna/outputs/2024-02-09/17-38-16-568113/checkpoints/last.ckpt' #this is again the 10% 100 epochs one\n",
    "# ctst_path = '/data/leslie/sarthak/hyena/hyena-dna/outputs/2024-02-23/09-35-11-173861/checkpoints/last.ckpt'\n",
    "\n",
    "#let's try the ctst path\n",
    "# util_cts = ISMUtils('DNase',cts_path, cfg = 'DNase_full.yaml')\n",
    "# #now we can do the ism\n",
    "# for i in range(56,100):\n",
    "#     ism = util_cts.calculate_ISM(i, cuda = True)\n",
    "#     np.save(f'/data/leslie/sarthak/hyena/hyena-dna/shap_analysis/saved_ISM/ISM_run1_normalized_fulltrain{i}.npy', ism)\n",
    "\n",
    "# # util_cts2 = ISMUtils('DNase',cts_path2) #the old 10% 100 epoch model that also used the old embeddings\n",
    "# del util_cts\n",
    "\n",
    "util_ctst = ISMUtilsOld('DNase_ctst',ckpt_path)\n",
    "\n",
    "    # np.save(f'/data/leslie/sarthak/hyena/hyena-dna/shap_analysis/saved_ISM/ISM_run1_normalized_ctst{i}.npy', ism)"
   ]
  },
  {
   "cell_type": "code",
   "execution_count": 39,
   "metadata": {},
   "outputs": [
    {
     "name": "stderr",
     "output_type": "stream",
     "text": [
      "100%|██████████| 1024/1024 [01:08<00:00, 14.89it/s]\n"
     ]
    }
   ],
   "source": [
    "out_old_ctst = util_ctst.calculate_ISM(0, cuda = True, progress_bar=True)"
   ]
  },
  {
   "cell_type": "code",
   "execution_count": 41,
   "metadata": {},
   "outputs": [
    {
     "data": {
      "text/plain": [
       "False"
      ]
     },
     "execution_count": 41,
     "metadata": {},
     "output_type": "execute_result"
    }
   ],
   "source": [
    "np.allclose(out_old_ctst,out_original_ctst)"
   ]
  },
  {
   "cell_type": "code",
   "execution_count": 45,
   "metadata": {},
   "outputs": [
    {
     "data": {
      "text/plain": [
       "<Axes: >"
      ]
     },
     "execution_count": 45,
     "metadata": {},
     "output_type": "execute_result"
    },
    {
     "data": {
      "image/png": "[encoded data removed]",
      "text/plain": [
       "<Figure size 640x480 with 2 Axes>"
      ]
     },
     "metadata": {},
     "output_type": "display_data"
    }
   ],
   "source": [
    "import seaborn as sns\n",
    "sns.heatmap(out_old_ctst.sum(axis=0))"
   ]
  },
  {
   "cell_type": "code",
   "execution_count": 46,
   "metadata": {},
   "outputs": [
    {
     "data": {
      "text/plain": [
       "<Axes: >"
      ]
     },
     "execution_count": 46,
     "metadata": {},
     "output_type": "execute_result"
    },
    {
     "data": {
      "image/png": "[encoded data removed]",
      "text/plain": [
       "<Figure size 640x480 with 2 Axes>"
      ]
     },
     "metadata": {},
     "output_type": "display_data"
    }
   ],
   "source": [
    "sns.heatmap(out_original_ctst.sum(axis=0))"
   ]
  },
  {
   "cell_type": "code",
   "execution_count": 44,
   "metadata": {},
   "outputs": [
    {
     "data": {
      "text/plain": [
       "2.202348232269287"
      ]
     },
     "execution_count": 44,
     "metadata": {},
     "output_type": "execute_result"
    }
   ],
   "source": [
    "np.max(out_original_ctst-out_old_ctst)\n",
    "#bro, they're not even really close... shows something is up"
   ]
  },
  {
   "cell_type": "code",
   "execution_count": 51,
   "metadata": {},
   "outputs": [],
   "source": [
    "#let's remake the original utils with classification!\n",
    "\n",
    "#i realized the best method is just what I started with but batch it for n terms... so let's just do that, verifies accuracy too, won't be as elegant or efficient, but probably more useful lol\n",
    "#first let's test to see how fast getting variances for any cCRE is\n",
    "#the next method is to actually speed it up using batching...\n",
    "#can test regression at least by checking it with my old function and comparing the results later\n",
    "#now that we use tensors, we can go ahead and find some ways to use larger batches\n",
    "\n",
    "#let's fix the code\n",
    "import torch \n",
    "import sys\n",
    "import yaml \n",
    "sys.path.append('/data/leslie/sarthak/hyena/hyena-dna/')\n",
    "from src.tasks.decoders import SequenceDecoder\n",
    "from src.models.sequence.dna_embedding import DNAEmbeddingModel\n",
    "from src.dataloaders.datasets.hg38_char_tokenizer import CharacterTokenizer\n",
    "# import shap\n",
    "import numpy as np\n",
    "import matplotlib.pyplot as plt\n",
    "import seaborn as sns\n",
    "import pandas as pd\n",
    "import logomaker\n",
    "from tqdm import tqdm\n",
    "import time\n",
    "class ISMUtils():\n",
    "    def __init__(self, model_type, ckpt_path, cfg = None, split = 'train', filter=True, classification = False):\n",
    "        type_list = ['ccre', 'DNase_ctst', 'DNase_allcelltypes', 'DNase']\n",
    "        if model_type not in type_list:\n",
    "            raise ValueError('Model type not recognized')\n",
    "        self.mtype = model_type\n",
    "        if cfg is not None:\n",
    "            cfg = '/data/leslie/sarthak/hyena/hyena-dna/configs/evals/'+cfg\n",
    "        self.classification = classification\n",
    "        \n",
    "        #check to see the type, and then load the right tokenizer, class and cfg\n",
    "        if self.mtype == 'DNase':\n",
    "            from src.dataloaders.datasets.DNase_dataset import DNaseDataset as DatasetClass\n",
    "            self.tokenizer = CharacterTokenizer( #make sure to fix the tokenizer too\n",
    "                characters=['A', 'C', 'G', 'T', 'N', 'S', 'U', 'V', 'W', 'X', 'Y', 'Z'],\n",
    "                model_max_length=1024 + 2,  # add 2 since default adds eos/eos tokens, crop later\n",
    "                add_special_tokens=False,\n",
    "                padding_side='left'\n",
    "            )\n",
    "            if cfg is None:\n",
    "                cfg = '/data/leslie/sarthak/hyena/hyena-dna/configs/evals/DNase.yaml'\n",
    "                \n",
    "        elif self.mtype == 'DNase_allcelltypes':\n",
    "            from src.dataloaders.datasets.DNase_allcelltypes import DNaseAllCellTypeDataset as DatasetClass\n",
    "            self.tokenizer = CharacterTokenizer( #make sure to fix the tokenizer too\n",
    "                characters=['A', 'C', 'G', 'T', 'N'],\n",
    "                model_max_length=1024 + 2,  # add 2 since default adds eos/eos tokens, crop later\n",
    "                add_special_tokens=False,\n",
    "                padding_side='left'\n",
    "            )\n",
    "            if cfg is None:\n",
    "                if self.classification:\n",
    "                    cfg = '/data/leslie/sarthak/hyena/hyena-dna/configs/evals/DNase_allcelltypes_classification.yaml'\n",
    "                else:\n",
    "                    cfg = '/data/leslie/sarthak/hyena/hyena-dna/configs/evals/DNase_allcelltypes.yaml'\n",
    "                 \n",
    "\n",
    "        elif self.mtype == 'DNase_ctst':\n",
    "            from src.dataloaders.datasets.DNase_ctst_dataset import DNaseCtstDataset as DatasetClass\n",
    "            self.tokenizer = CharacterTokenizer( #make sure to fix the tokenizer too\n",
    "                characters=['A', 'C', 'G', 'T', 'N'],\n",
    "                model_max_length=1024 + 2,  # add 2 since default adds eos/eos tokens, crop later\n",
    "                add_special_tokens=False,\n",
    "                padding_side='left'\n",
    "            )\n",
    "            if cfg is None:\n",
    "                if self.classification:\n",
    "                    cfg = '/data/leslie/sarthak/hyena/hyena-dna/configs/evals/DNase_ctst_classification.yaml'\n",
    "                else:\n",
    "                    cfg = '/data/leslie/sarthak/hyena/hyena-dna/configs/evals/DNase_ctst.yaml'\n",
    "\n",
    "        else:\n",
    "            raise ValueError('Model type not recognized')\n",
    "\n",
    "        #now we load the model and dataset\n",
    "\n",
    "        # self.device = torch.device(\"cuda:0\" if torch.cuda.is_available() else \"cpu\")\n",
    "        self.dataset = DatasetClass(max_length = 1024, split = split, tokenizer=self.tokenizer, rc_aug = False, tokenizer_name='char', add_eos='True', filter = filter, classification=self.classification)\n",
    "        cfg = yaml.load(open(cfg, 'r'), Loader=yaml.FullLoader)\n",
    "        \n",
    "        train_cfg = cfg['train']  # grab section `train` section of config\n",
    "        model_cfg = cfg['model_config']  # grab the `model` section of config\n",
    "        d_output = train_cfg['d_output']\n",
    "        backbone = DNAEmbeddingModel(**model_cfg)\n",
    "        # backbone_skip = DNAEmbeddingModel(skip_embedding=True, **model_cfg)\n",
    "        decoder = SequenceDecoder(model_cfg['d_model'], d_output=d_output, l_output=0, mode='pool')\n",
    "        state_dict = torch.load(ckpt_path, map_location='cpu')  # has both backbone and decoder\n",
    "        \n",
    "        # loads model from ddp by removing prexix to single if necessary\n",
    "        torch.nn.modules.utils.consume_prefix_in_state_dict_if_present(\n",
    "            state_dict[\"state_dict\"], \"model.\"\n",
    "        )\n",
    "\n",
    "        model_state_dict = state_dict[\"state_dict\"]\n",
    "\n",
    "        # need to remove torchmetrics. to remove keys, need to convert to list first\n",
    "        for key in list(model_state_dict.keys()):\n",
    "            if \"torchmetrics\" in key:\n",
    "                model_state_dict.pop(key)\n",
    "\n",
    "        # the state_dict keys slightly mismatch from Lightning..., so we fix it here\n",
    "        decoder_state_dict = {}\n",
    "        decoder_state_dict['output_transform.weight'] = model_state_dict.pop('decoder.0.output_transform.weight')\n",
    "        decoder_state_dict['output_transform.bias'] = model_state_dict.pop('decoder.0.output_transform.bias')\n",
    "\n",
    "        #now adjust the backbone if needed\n",
    "        if self.mtype == 'DNase':\n",
    "            embedding1 = torch.nn.Embedding(20, 128)\n",
    "            # embedding2 = torch.nn.Embedding(20, 128)\n",
    "            backbone.backbone.embeddings.word_embeddings = embedding1 #again a hack\n",
    "            # backbone_skip.backbone.embeddings.word_embeddings = embedding2 #again a hack\n",
    "\n",
    "        # now actually load the state dict to the decoder and backbone separately\n",
    "        decoder.load_state_dict(decoder_state_dict, strict=True)\n",
    "        backbone.load_state_dict(model_state_dict, strict=True)\n",
    "\n",
    "        self.backbone = backbone.eval()\n",
    "        self.decoder = decoder.eval()\n",
    "\n",
    "        self.bed = pd.read_csv('/data/leslie/sarthak/data/GRCh38-cCREs.bed', header=None, delimiter='\\t').to_numpy()\n",
    "        self.middle = 1023//2 #just used for the logo plots\n",
    "\n",
    "    def calculate_ISM(self,ccre, cuda = False, return_out = False, progress_bar = False, stop=False, b_size = 8):\n",
    "        #does ISM for that ccre, based on the model type\n",
    "        #Does what the ISM.py and ISM_allcelltypes.py files do but for one ccre at a time\n",
    "        #ccre should be the index of the ccre, not the index to get that dataset\n",
    "        # start = time.time()\n",
    "        device = \"cuda:0\" if cuda else \"cpu\"\n",
    "        backbone = self.backbone.to(device)\n",
    "        decoder = self.decoder.to(device)\n",
    "        #first have to load in the batch\n",
    "        #if it's the different groups have very different dataset classes\n",
    "        if self.mtype == 'DNase' or self.mtype == 'DNase_ctst':\n",
    "            ccre = 161*ccre\n",
    "            ccre_list = []\n",
    "            out_list = []\n",
    "            class_list = []\n",
    "            for i in range(161):\n",
    "                a,b = self.dataset[ccre+i]\n",
    "                ccre_list.append(a)\n",
    "                if self.classification:\n",
    "                    # raise NotImplementedError('This is not implemented yet, need to consider how to do ISM with the classification model')\n",
    "                    class_list.append(b[0].item())\n",
    "                    b = b[1] #just ignore the classification stuff?\n",
    "                out_list.append(b.item())\n",
    "            ccre_list = torch.stack(ccre_list)\n",
    "        else:\n",
    "            ccre_list = self.dataset[ccre][0].unsqueeze(0)\n",
    "            class_list = self.dataset[ccre][1][0] #the classification stuff\n",
    "        # print(class_list)\n",
    "        temp,_ = backbone(ccre_list.to(device)) #pass whole ccre as a batch\n",
    "        out = decoder(temp)\n",
    "        seqlen = ccre_list.shape[1] #because it's batch x seq\n",
    "        dim_out = out.shape[1]//2\n",
    "        #also a dimension for ccre_list.shape[0]\n",
    "        dim_celltypes = ccre_list.shape[0]\n",
    "\n",
    "        if self.classification:\n",
    "            out_class = out[:,:dim_out]\n",
    "            out = out[:,dim_out:] #just ignore the classification stuff? for now maybe and we just look at the regression outputs?\n",
    "            #but if it thinks that the thing is closed, we should keep it as 0... or maybe set it to some other value? idk\n",
    "            #i say keep it but we know that we can mask it, no let's mask for reg, but still need to use for class...\n",
    "            #and let's keep the class out\n",
    "            out_class_gt = out_class.detach().reshape(1,1,161)\n",
    "            ISM_class = torch.ones((4,seqlen,161)).to(device)*out_class_gt\n",
    "            out_class_gt_np = out_class.detach().cpu().numpy().reshape(1,1,161)\n",
    "            \n",
    "        out_gt = out.detach().reshape(1,1,161)\n",
    "        ISM_results = torch.ones((4,seqlen,161)).to(device)*out_gt\n",
    "        out_gt_np = out.detach().cpu().numpy().reshape(1, 1, 161) #the initial output of the model before ism\n",
    "        # if self.classification:\n",
    "        #     mask_idx = np.array(class_list) == 1 #if it's open\n",
    "        #     #now we make this a matrix of the same size as the output which will be 3x1x161 or just 3x161\n",
    "        #     mask = np.zeros((1,1,161))\n",
    "        #     mask[:,:,mask_idx] = 1\n",
    "        # print(mask)\n",
    "        if self.mtype == 'DNase' or self.mtype == 'DNase_ctst': #we just need the first sequence, don't care about the useless stuff\n",
    "            seq = ccre_list[0]\n",
    "        else:\n",
    "            seq = ccre_list.squeeze() #get rid f the embedding dimension\n",
    "        token_list = [7,8,9,10] #tokenize this list first\n",
    "        mutations = {\n",
    "            7: np.array([8,9,10]),\n",
    "            8: np.array([7,9,10]),\n",
    "            9: np.array([7,8,10]),\n",
    "            10: np.array([7,8,9])\n",
    "        }\n",
    "        ccre_list_gpu = ccre_list.to(device)\n",
    "\n",
    "        if progress_bar:\n",
    "            iterator = tqdm(enumerate(seq), total = len(seq))\n",
    "        else:\n",
    "            iterator = enumerate(seq)\n",
    "        batch_seq = torch.zeros(dim_celltypes*3*b_size,ccre_list_gpu.shape[1], dtype=torch.long).to(device)\n",
    "\n",
    "        # end = time.time()\n",
    "        # print(f'setup: {end-start}')\n",
    "        \n",
    "        # counter = 0 #counter is equal to len(idx_list), but it's for convenience\n",
    "        # idx_list = []\n",
    "        with torch.no_grad():\n",
    "            for idx, nucleotide in iterator: \n",
    "                # start = time.time()\n",
    "                # temp_token_list = token_list.copy() #we make a copy\n",
    "                # print(nucleotide)\n",
    "                if nucleotide not in token_list:\n",
    "                    continue #basically skips this and none of it is updated, because is a weird tooken, whether permutation, ctst or something else\n",
    "                temp_token_list = mutations[nucleotide.item()]\n",
    "                # temp_token_list_gpu = torch.tensor(temp_token_list).to(device)\n",
    "                #make batch_seq a long tensor\n",
    "                class_list = []\n",
    "                results_list = []\n",
    "                for idx2,j in enumerate(temp_token_list):\n",
    "                    temp_seq = ccre_list_gpu.clone() #already put on the gpu\n",
    "                    if self.mtype in ['DNase', 'DNase_ctst']:\n",
    "                        temp_seq[:,idx] = j #should be 161x1024 or 1023. \n",
    "                    else:\n",
    "                        temp_seq[idx] = j #should be 1x1023 because we unsqueezed\n",
    "                    #now we need to stach them together\n",
    "                    # batch_seq[counter*3*dim_celltypes+idx2*dim_celltypes:counter*3*dim_celltypes+(idx2+1)*dim_celltypes] = temp_seq\n",
    "                # counter += 1\n",
    "                # idx_list.append(idx)\n",
    "                # torch.cuda.synchronize()\n",
    "                # end = time.time()\n",
    "                # print(f'loop: {end-start}')\n",
    "                # if counter == b_size:\n",
    "                    # start = time.time()\n",
    "                    a,_ = backbone(temp_seq)\n",
    "                    out = decoder(a)\n",
    "                    if self.classification:\n",
    "                        class_list.append(out[:,:dim_out].detach().cpu().numpy())\n",
    "                        results_list.append(out[:,dim_out:].detach().cpu().numpy())\n",
    "                    else:\n",
    "                        results_list.append(out.detach().cpu().numpy())\n",
    "\n",
    "                ISM_results[temp_token_list-7,idx,:] = torch.tensor(results_list).squeeze().to(device)\n",
    "                if self.classification:\n",
    "                    ISM_class[temp_token_list-7,idx,:] = torch.tensor(class_list).squeeze().to(device)\n",
    "                    # torch.cuda.synchronize()\n",
    "                    # end = time.time()\n",
    "                    # print(f'forward: {end-start}')\n",
    "                    # print(out.shape) #is 483 x 2 or 3 x 161*2...\n",
    "                    # we shoudl split into reg and class, but likely need a way to reshape it properly too\n",
    "                    # start = time.time()\n",
    "                    # if self.classification:\n",
    "                    #     reg_results = out[:,dim_out:].view(3,-1,161) #now 483x1 or 3x161 and transformed into a 3x1x161 matrix\n",
    "                    #     class_results = out[:,:dim_out].view(3,-1,161)\n",
    "                    # else:\n",
    "                    #     reg_results = out.view(3,-1,161) \n",
    "                    # for batch_idx,batch in enumerate(idx_list):                        \n",
    "                    #     ISM_results[temp_token_list_gpu-7,batch,:] = reg_results[:,batch_idx,:]\n",
    "                    #     if self.classification:\n",
    "                    #         ISM_class[temp_token_list_gpu-7,batch,:] = class_results[:,batch_idx,:] \n",
    "                    # counter = 0\n",
    "                    # idx_list = []\n",
    "                    # torch.cuda.synchronize()\n",
    "                    # end = time.time()\n",
    "                    # print(f'storing: {end-start}')\n",
    "        # return 0 #just say we done for now\n",
    "        #relatively slow on the CPU\n",
    "        #and now we subtract the out_gt from it\n",
    "        ISM_results_normalized = ISM_results.detach().cpu().numpy() - out_gt_np #is mutated - reference\n",
    "        if self.classification:\n",
    "            ISM_class_normalized = ISM_class.detach().cpu().numpy() - out_class_gt_np\n",
    "            # ISM_results_normalized *= mask\n",
    "        if self.classification and return_out:\n",
    "            return ISM_results_normalized, ISM_class_normalized, out_gt_np, out_class_gt_np\n",
    "        elif self.classification:\n",
    "            return ISM_results_normalized, ISM_class_normalized \n",
    "        elif return_out: #but this is optional\n",
    "            return ISM_results_normalized, out_gt_np\n",
    "        return ISM_results_normalized\n",
    "\n",
    "    def var(self, idx):\n",
    "        #This is the idx for the ccre, so if you want it for ccre 2 it's just idx == 2. Not 161*idx\n",
    "        seq_idx = idx\n",
    "        cCRE_id = self.dataset.array[seq_idx][0] #get the id from the array\n",
    "        row = self.dataset.cCRE_dict[cCRE_id]\n",
    "        #now we can calculate the variance using this data\n",
    "        # print(np.var(dnase_filtered[row,:])) #identical\n",
    "        \n",
    "        return np.var(self.dataset.cell_dnase_levels[row,:])\n",
    "\n",
    "    def output(self,idx):\n",
    "        #given the index, this finds the associated output (single value)\n",
    "        #this literally just puts it thorugh the model, but it's like 2 lines of code and really easy to do yourself\n",
    "        a,b = self.dataset[idx]\n",
    "        temp,_ = self.backbone(a.unsqueeze(0))\n",
    "        out = self.decoder(temp)\n",
    "\n",
    "        if self.mtype == 'DNase':\n",
    "            print(f'predicted output: {out}, actual output: {b}')\n",
    "            return b, out\n",
    "\n",
    "        elif self.mtype == 'DNase_allcelltypes':\n",
    "            print(f'predicted output: {out[0,0]}, actual output: {b[0]}')\n",
    "            return b[0], out[0,0]\n",
    "\n",
    "    def output_all(self,idx, print_out = False):\n",
    "        #given the index, this finds the associated output (all values averaged across the cell types for a singel ccre)\n",
    "        #if it's DNase, then we need to do it for all the cell types, here the input idx should not be 161 times any number, rather just the ccre number\n",
    "        if self.mtype == 'DNase' or self.mtype == 'DNase_ctst':\n",
    "            idx = 161*idx\n",
    "            out_list = []\n",
    "            target_list = []\n",
    "            for i in range(161):\n",
    "                a,b = self.dataset[idx+i]\n",
    "                temp,_ = self.backbone(a.unsqueeze(0))\n",
    "                out = self.decoder(temp)\n",
    "                out_list.append(out.item())\n",
    "                if isinstance(b,tuple):\n",
    "                    raise NotImplementedError('This is not implemented yet, need to consider how to do handle these outputs and what we want to display')\n",
    "                target_list.append(b.item())\n",
    "            out = np.mean(out_list)\n",
    "            if print_out:\n",
    "                print(f'predicted output mean: {out}, actual output mean: {np.mean(target_list)}')\n",
    "            #but return the whole lists\n",
    "            return np.array(target_list), np.array(out_list)\n",
    "\n",
    "        if self.mtype == 'DNase_allcelltypes':\n",
    "            a,b = self.dataset[idx]\n",
    "            temp,_ = self.backbone(a.unsqueeze(0))\n",
    "            out = self.decoder(temp)\n",
    "            print(f'predicted output mean: {torch.mean(out)}, actual output mean: {torch.mean(b)}')\n",
    "            return b.detach().numpy(), out.detach().numpy()\n",
    "    \n",
    "    def find_ccre_type(self, idx):\n",
    "        #this function will use the ccre id to find the specific type\n",
    "        #uses the index of the dataset, not the cCRE for the DNase model!!\n",
    "        #first get the id\n",
    "        if self.mtype == 'DNase':        \n",
    "            seq_idx = int(idx/self.dataset.cell_types)\n",
    "        else:\n",
    "            seq_idx = idx\n",
    "        ccre_id = self.dataset.array[seq_idx][0]\n",
    "        line = np.where(self.bed[:,3] == ccre_id)\n",
    "        return self.bed[line[0][0], -1]\n",
    "\n",
    "#let's test the speed of our ISM\n",
    "# ckpt_path = '/data/leslie/sarthak/hyena/hyena-dna/outputs/2024-03-20/16-22-11-658258/checkpoints/10-val_loss=0.38773.ckpt'\n",
    "# util = ISMUtils('DNase_ctst', ckpt_path, classification=True)\n",
    "# out = util.calculate_ISM(0, cuda=True, progress_bar = True, return_out=True, stop = 20)\n",
    "#by editing it to batch, almost doubled the speed... wait could it just be that it's an A100??"
   ]
  },
  {
   "cell_type": "code",
   "execution_count": 52,
   "metadata": {},
   "outputs": [
    {
     "name": "stderr",
     "output_type": "stream",
     "text": [
      " 11%|█         | 108/1024 [00:07<01:01, 15.01it/s]"
     ]
    },
    {
     "name": "stderr",
     "output_type": "stream",
     "text": [
      "100%|██████████| 1024/1024 [01:08<00:00, 15.02it/s]\n"
     ]
    }
   ],
   "source": [
    "ckpt_path = '/data/leslie/sarthak/hyena/hyena-dna/outputs/2024-02-17/15-43-26-621154/checkpoints/last.ckpt'\n",
    "util = ISMUtils('DNase_ctst', ckpt_path, classification=False)\n",
    "out_new_ctst = util.calculate_ISM(0, cuda=True, progress_bar = True, return_out=False) #takes about 60 GB of memory...\n",
    "#takes 4 seconds longer than the batched approach?"
   ]
  },
  {
   "cell_type": "code",
   "execution_count": 53,
   "metadata": {},
   "outputs": [
    {
     "data": {
      "text/plain": [
       "True"
      ]
     },
     "execution_count": 53,
     "metadata": {},
     "output_type": "execute_result"
    }
   ],
   "source": [
    "#let's see if this is the same\n",
    "np.allclose(out_new_ctst,out_old_ctst)\n",
    "#whew! We can stick to this new method then, lets transfer it over? then push to github"
   ]
  },
  {
   "cell_type": "code",
   "execution_count": null,
   "metadata": {},
   "outputs": [],
   "source": []
  }
 ],
 "metadata": {
  "kernelspec": {
   "display_name": "Python 3 (ipykernel)",
   "language": "python",
   "name": "python3"
  },
  "language_info": {
   "codemirror_mode": {
    "name": "ipython",
    "version": 3
   },
   "file_extension": ".py",
   "mimetype": "text/x-python",
   "name": "python",
   "nbconvert_exporter": "python",
   "pygments_lexer": "ipython3",
   "version": "3.11.7"
  }
 },
 "nbformat": 4,
 "nbformat_minor": 2
}
