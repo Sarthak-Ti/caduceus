{
 "cells": [
  {
   "cell_type": "markdown",
   "id": "e2b63876",
   "metadata": {},
   "source": [
    "# we are now going to use our model to do TF chip preedictions"
   ]
  },
  {
   "cell_type": "code",
   "execution_count": null,
   "id": "e5f3f2a4",
   "metadata": {},
   "outputs": [],
   "source": [
    "# first we will do for just one cell type, GM12878\n",
    "#later we can try other cell types like K562\n",
    "#importantly, we will first process the chip seq data\n",
    "\n",
    "#to process the chip data, we need to first create a targets.txt file, then use the saved unprocessed data to load and write it!\n"
   ]
  },
  {
   "cell_type": "code",
   "execution_count": 8,
   "id": "9687fbcd",
   "metadata": {},
   "outputs": [
    {
     "data": {
      "text/html": [
       "<div>\n",
       "<style scoped>\n",
       "    .dataframe tbody tr th:only-of-type {\n",
       "        vertical-align: middle;\n",
       "    }\n",
       "\n",
       "    .dataframe tbody tr th {\n",
       "        vertical-align: top;\n",
       "    }\n",
       "\n",
       "    .dataframe thead th {\n",
       "        text-align: right;\n",
       "    }\n",
       "</style>\n",
       "<table border=\"1\" class=\"dataframe\">\n",
       "  <thead>\n",
       "    <tr style=\"text-align: right;\">\n",
       "      <th></th>\n",
       "      <th>identifier</th>\n",
       "      <th>clip</th>\n",
       "      <th>clip_soft</th>\n",
       "      <th>scale</th>\n",
       "      <th>sum_stat</th>\n",
       "      <th>strand_pair</th>\n",
       "      <th>description</th>\n",
       "    </tr>\n",
       "  </thead>\n",
       "  <tbody>\n",
       "    <tr>\n",
       "      <th>0</th>\n",
       "      <td>ENCFF839QLL</td>\n",
       "      <td>128</td>\n",
       "      <td>32</td>\n",
       "      <td>2.0</td>\n",
       "      <td>mean</td>\n",
       "      <td>0</td>\n",
       "      <td>CHIP:ZFX:22Rv1</td>\n",
       "    </tr>\n",
       "    <tr>\n",
       "      <th>1</th>\n",
       "      <td>ENCFF809PHW</td>\n",
       "      <td>128</td>\n",
       "      <td>32</td>\n",
       "      <td>2.0</td>\n",
       "      <td>mean</td>\n",
       "      <td>1</td>\n",
       "      <td>CHIP:CTCF:22Rv1</td>\n",
       "    </tr>\n",
       "    <tr>\n",
       "      <th>2</th>\n",
       "      <td>ENCFF589EBF</td>\n",
       "      <td>128</td>\n",
       "      <td>32</td>\n",
       "      <td>2.0</td>\n",
       "      <td>mean</td>\n",
       "      <td>2</td>\n",
       "      <td>CHIP:CTCF:22Rv1 treated with 10 nM 17B-hydroxy...</td>\n",
       "    </tr>\n",
       "    <tr>\n",
       "      <th>3</th>\n",
       "      <td>ENCFF221XZD</td>\n",
       "      <td>128</td>\n",
       "      <td>32</td>\n",
       "      <td>2.0</td>\n",
       "      <td>mean</td>\n",
       "      <td>3</td>\n",
       "      <td>CHIP:CEBPB:A549</td>\n",
       "    </tr>\n",
       "    <tr>\n",
       "      <th>4</th>\n",
       "      <td>ENCFF543YLG</td>\n",
       "      <td>128</td>\n",
       "      <td>32</td>\n",
       "      <td>2.0</td>\n",
       "      <td>mean</td>\n",
       "      <td>4</td>\n",
       "      <td>CHIP:HDAC2:A549</td>\n",
       "    </tr>\n",
       "    <tr>\n",
       "      <th>...</th>\n",
       "      <td>...</td>\n",
       "      <td>...</td>\n",
       "      <td>...</td>\n",
       "      <td>...</td>\n",
       "      <td>...</td>\n",
       "      <td>...</td>\n",
       "      <td>...</td>\n",
       "    </tr>\n",
       "    <tr>\n",
       "      <th>1916</th>\n",
       "      <td>ENCFF108IFR</td>\n",
       "      <td>128</td>\n",
       "      <td>32</td>\n",
       "      <td>2.0</td>\n",
       "      <td>mean</td>\n",
       "      <td>1916</td>\n",
       "      <td>CHIP:POLR2AphosphoS5:vagina female adult (51 y...</td>\n",
       "    </tr>\n",
       "    <tr>\n",
       "      <th>1917</th>\n",
       "      <td>ENCFF948LKS</td>\n",
       "      <td>128</td>\n",
       "      <td>32</td>\n",
       "      <td>2.0</td>\n",
       "      <td>mean</td>\n",
       "      <td>1917</td>\n",
       "      <td>CHIP:POLR2AphosphoS5:vagina female adult (53 y...</td>\n",
       "    </tr>\n",
       "    <tr>\n",
       "      <th>1918</th>\n",
       "      <td>ENCFF469VIV</td>\n",
       "      <td>128</td>\n",
       "      <td>32</td>\n",
       "      <td>2.0</td>\n",
       "      <td>mean</td>\n",
       "      <td>1918</td>\n",
       "      <td>CHIP:CTCF:vagina female adult (53 years)</td>\n",
       "    </tr>\n",
       "    <tr>\n",
       "      <th>1919</th>\n",
       "      <td>ENCFF416EKA</td>\n",
       "      <td>128</td>\n",
       "      <td>32</td>\n",
       "      <td>2.0</td>\n",
       "      <td>mean</td>\n",
       "      <td>1919</td>\n",
       "      <td>CHIP:POLR2A:vagina female adult (53 years)</td>\n",
       "    </tr>\n",
       "    <tr>\n",
       "      <th>1920</th>\n",
       "      <td>ENCFF718FJH</td>\n",
       "      <td>128</td>\n",
       "      <td>32</td>\n",
       "      <td>2.0</td>\n",
       "      <td>mean</td>\n",
       "      <td>1920</td>\n",
       "      <td>CHIP:EP300:vagina female adult (53 years)</td>\n",
       "    </tr>\n",
       "  </tbody>\n",
       "</table>\n",
       "<p>1921 rows × 7 columns</p>\n",
       "</div>"
      ],
      "text/plain": [
       "       identifier  clip  clip_soft  scale sum_stat  strand_pair  \\\n",
       "0     ENCFF839QLL   128         32    2.0     mean            0   \n",
       "1     ENCFF809PHW   128         32    2.0     mean            1   \n",
       "2     ENCFF589EBF   128         32    2.0     mean            2   \n",
       "3     ENCFF221XZD   128         32    2.0     mean            3   \n",
       "4     ENCFF543YLG   128         32    2.0     mean            4   \n",
       "...           ...   ...        ...    ...      ...          ...   \n",
       "1916  ENCFF108IFR   128         32    2.0     mean         1916   \n",
       "1917  ENCFF948LKS   128         32    2.0     mean         1917   \n",
       "1918  ENCFF469VIV   128         32    2.0     mean         1918   \n",
       "1919  ENCFF416EKA   128         32    2.0     mean         1919   \n",
       "1920  ENCFF718FJH   128         32    2.0     mean         1920   \n",
       "\n",
       "                                            description  \n",
       "0                                        CHIP:ZFX:22Rv1  \n",
       "1                                       CHIP:CTCF:22Rv1  \n",
       "2     CHIP:CTCF:22Rv1 treated with 10 nM 17B-hydroxy...  \n",
       "3                                       CHIP:CEBPB:A549  \n",
       "4                                       CHIP:HDAC2:A549  \n",
       "...                                                 ...  \n",
       "1916  CHIP:POLR2AphosphoS5:vagina female adult (51 y...  \n",
       "1917  CHIP:POLR2AphosphoS5:vagina female adult (53 y...  \n",
       "1918           CHIP:CTCF:vagina female adult (53 years)  \n",
       "1919         CHIP:POLR2A:vagina female adult (53 years)  \n",
       "1920          CHIP:EP300:vagina female adult (53 years)  \n",
       "\n",
       "[1921 rows x 7 columns]"
      ]
     },
     "execution_count": 8,
     "metadata": {},
     "output_type": "execute_result"
    }
   ],
   "source": [
    "#let's make the targets.txt file which is a subset of the existing one\n",
    "import pandas as pd\n",
    "data_path = '/data1/lesliec/sarthak/data/DK_zarr/targets_ChIP_TF_ENCODE.txt'\n",
    "targets = pd.read_csv(data_path, sep='\\t', index_col=0)\n",
    "targets"
   ]
  },
  {
   "cell_type": "code",
   "execution_count": 6,
   "id": "3e7be962",
   "metadata": {},
   "outputs": [
    {
     "data": {
      "text/plain": [
       "array([   0,    1,    2, ..., 1918, 1919, 1920])"
      ]
     },
     "execution_count": 6,
     "metadata": {},
     "output_type": "execute_result"
    }
   ],
   "source": [
    "targets.index.to_numpy()"
   ]
  },
  {
   "cell_type": "code",
   "execution_count": 10,
   "id": "21bf96d8",
   "metadata": {},
   "outputs": [
    {
     "data": {
      "text/html": [
       "<div>\n",
       "<style scoped>\n",
       "    .dataframe tbody tr th:only-of-type {\n",
       "        vertical-align: middle;\n",
       "    }\n",
       "\n",
       "    .dataframe tbody tr th {\n",
       "        vertical-align: top;\n",
       "    }\n",
       "\n",
       "    .dataframe thead th {\n",
       "        text-align: right;\n",
       "    }\n",
       "</style>\n",
       "<table border=\"1\" class=\"dataframe\">\n",
       "  <thead>\n",
       "    <tr style=\"text-align: right;\">\n",
       "      <th></th>\n",
       "      <th>identifier</th>\n",
       "      <th>clip</th>\n",
       "      <th>clip_soft</th>\n",
       "      <th>scale</th>\n",
       "      <th>sum_stat</th>\n",
       "      <th>strand_pair</th>\n",
       "      <th>description</th>\n",
       "    </tr>\n",
       "  </thead>\n",
       "  <tbody>\n",
       "    <tr>\n",
       "      <th>92</th>\n",
       "      <td>ENCFF930HBS</td>\n",
       "      <td>128</td>\n",
       "      <td>32</td>\n",
       "      <td>2.0</td>\n",
       "      <td>mean</td>\n",
       "      <td>92</td>\n",
       "      <td>CHIP:CBFB:GM12878</td>\n",
       "    </tr>\n",
       "    <tr>\n",
       "      <th>93</th>\n",
       "      <td>ENCFF304SIN</td>\n",
       "      <td>128</td>\n",
       "      <td>32</td>\n",
       "      <td>2.0</td>\n",
       "      <td>mean</td>\n",
       "      <td>93</td>\n",
       "      <td>CHIP:ETV6:GM12878</td>\n",
       "    </tr>\n",
       "    <tr>\n",
       "      <th>94</th>\n",
       "      <td>ENCFF935KTD</td>\n",
       "      <td>128</td>\n",
       "      <td>32</td>\n",
       "      <td>2.0</td>\n",
       "      <td>mean</td>\n",
       "      <td>94</td>\n",
       "      <td>CHIP:IKZF1:GM12878</td>\n",
       "    </tr>\n",
       "    <tr>\n",
       "      <th>95</th>\n",
       "      <td>ENCFF366YYF</td>\n",
       "      <td>128</td>\n",
       "      <td>32</td>\n",
       "      <td>2.0</td>\n",
       "      <td>mean</td>\n",
       "      <td>95</td>\n",
       "      <td>CHIP:ZBTB40:GM12878</td>\n",
       "    </tr>\n",
       "    <tr>\n",
       "      <th>96</th>\n",
       "      <td>ENCFF985ZEV</td>\n",
       "      <td>128</td>\n",
       "      <td>32</td>\n",
       "      <td>2.0</td>\n",
       "      <td>mean</td>\n",
       "      <td>96</td>\n",
       "      <td>CHIP:YY1:GM12878</td>\n",
       "    </tr>\n",
       "    <tr>\n",
       "      <th>...</th>\n",
       "      <td>...</td>\n",
       "      <td>...</td>\n",
       "      <td>...</td>\n",
       "      <td>...</td>\n",
       "      <td>...</td>\n",
       "      <td>...</td>\n",
       "      <td>...</td>\n",
       "    </tr>\n",
       "    <tr>\n",
       "      <th>249</th>\n",
       "      <td>ENCFF344JQP</td>\n",
       "      <td>128</td>\n",
       "      <td>32</td>\n",
       "      <td>2.0</td>\n",
       "      <td>mean</td>\n",
       "      <td>249</td>\n",
       "      <td>CHIP:USF1:GM12878</td>\n",
       "    </tr>\n",
       "    <tr>\n",
       "      <th>250</th>\n",
       "      <td>ENCFF676UXN</td>\n",
       "      <td>128</td>\n",
       "      <td>32</td>\n",
       "      <td>2.0</td>\n",
       "      <td>mean</td>\n",
       "      <td>250</td>\n",
       "      <td>CHIP:ZNF207:GM12878</td>\n",
       "    </tr>\n",
       "    <tr>\n",
       "      <th>251</th>\n",
       "      <td>ENCFF535BIH</td>\n",
       "      <td>128</td>\n",
       "      <td>32</td>\n",
       "      <td>2.0</td>\n",
       "      <td>mean</td>\n",
       "      <td>251</td>\n",
       "      <td>CHIP:PBX3:GM12878</td>\n",
       "    </tr>\n",
       "    <tr>\n",
       "      <th>252</th>\n",
       "      <td>ENCFF647IAI</td>\n",
       "      <td>128</td>\n",
       "      <td>32</td>\n",
       "      <td>2.0</td>\n",
       "      <td>mean</td>\n",
       "      <td>252</td>\n",
       "      <td>CHIP:POLR2AphosphoS5:GM12878</td>\n",
       "    </tr>\n",
       "    <tr>\n",
       "      <th>253</th>\n",
       "      <td>ENCFF898IWR</td>\n",
       "      <td>128</td>\n",
       "      <td>32</td>\n",
       "      <td>2.0</td>\n",
       "      <td>mean</td>\n",
       "      <td>253</td>\n",
       "      <td>CHIP:BCL11A:GM12878</td>\n",
       "    </tr>\n",
       "  </tbody>\n",
       "</table>\n",
       "<p>162 rows × 7 columns</p>\n",
       "</div>"
      ],
      "text/plain": [
       "      identifier  clip  clip_soft  scale sum_stat  strand_pair  \\\n",
       "92   ENCFF930HBS   128         32    2.0     mean           92   \n",
       "93   ENCFF304SIN   128         32    2.0     mean           93   \n",
       "94   ENCFF935KTD   128         32    2.0     mean           94   \n",
       "95   ENCFF366YYF   128         32    2.0     mean           95   \n",
       "96   ENCFF985ZEV   128         32    2.0     mean           96   \n",
       "..           ...   ...        ...    ...      ...          ...   \n",
       "249  ENCFF344JQP   128         32    2.0     mean          249   \n",
       "250  ENCFF676UXN   128         32    2.0     mean          250   \n",
       "251  ENCFF535BIH   128         32    2.0     mean          251   \n",
       "252  ENCFF647IAI   128         32    2.0     mean          252   \n",
       "253  ENCFF898IWR   128         32    2.0     mean          253   \n",
       "\n",
       "                      description  \n",
       "92              CHIP:CBFB:GM12878  \n",
       "93              CHIP:ETV6:GM12878  \n",
       "94             CHIP:IKZF1:GM12878  \n",
       "95            CHIP:ZBTB40:GM12878  \n",
       "96               CHIP:YY1:GM12878  \n",
       "..                            ...  \n",
       "249             CHIP:USF1:GM12878  \n",
       "250           CHIP:ZNF207:GM12878  \n",
       "251             CHIP:PBX3:GM12878  \n",
       "252  CHIP:POLR2AphosphoS5:GM12878  \n",
       "253           CHIP:BCL11A:GM12878  \n",
       "\n",
       "[162 rows x 7 columns]"
      ]
     },
     "execution_count": 10,
     "metadata": {},
     "output_type": "execute_result"
    }
   ],
   "source": [
    "#filter to ones where there is only gm1287878 in the description\n",
    "\n",
    "targets_gm = targets[targets['description'].str.contains(':GM12878')]\n",
    "targets_gm"
   ]
  },
  {
   "cell_type": "code",
   "execution_count": 12,
   "id": "4a9aca6b",
   "metadata": {},
   "outputs": [
    {
     "name": "stdout",
     "output_type": "stream",
     "text": [
      "140\n"
     ]
    }
   ],
   "source": [
    "#can just filter these, and it should be good, no need to save it out\n",
    "#let's look at the descriptions\n",
    "print(len(targets_gm['description'].unique()))"
   ]
  },
  {
   "cell_type": "code",
   "execution_count": 14,
   "id": "5dd0880e",
   "metadata": {},
   "outputs": [
    {
     "data": {
      "text/plain": [
       "array(['CHIP:CBFB:GM12878', 'CHIP:ETV6:GM12878', 'CHIP:IKZF1:GM12878',\n",
       "       'CHIP:ZBTB40:GM12878', 'CHIP:YY1:GM12878', 'CHIP:KAT2A:GM12878',\n",
       "       'CHIP:PAX8:GM12878', 'CHIP:BACH1:GM12878', 'CHIP:TRIM22:GM12878',\n",
       "       'CHIP:NFXL1:GM12878', 'CHIP:ZNF592:GM12878', 'CHIP:IKZF2:GM12878',\n",
       "       'CHIP:ZNF217:GM12878', 'CHIP:HDGF:GM12878', 'CHIP:SMARCA5:GM12878',\n",
       "       'CHIP:PKNOX1:GM12878', 'CHIP:TCF12:GM12878', 'CHIP:NKRF:GM12878',\n",
       "       'CHIP:TBX21:GM12878', 'CHIP:MEF2B:GM12878', 'CHIP:NFYB:GM12878',\n",
       "       'CHIP:CHD4:GM12878', 'CHIP:E4F1:GM12878', 'CHIP:ZSCAN29:GM12878',\n",
       "       'CHIP:ARID3A:GM12878', 'CHIP:KDM1A:GM12878', 'CHIP:RELB:GM12878',\n",
       "       'CHIP:EED:GM12878', 'CHIP:YBX1:GM12878', 'CHIP:ZBED1:GM12878',\n",
       "       'CHIP:NFATC3:GM12878', 'CHIP:CEBPB:GM12878', 'CHIP:IRF3:GM12878',\n",
       "       'CHIP:SUZ12:GM12878', 'CHIP:CEBPZ:GM12878', 'CHIP:BCLAF1:GM12878',\n",
       "       'CHIP:STAT1:GM12878', 'CHIP:GABPA:GM12878', 'CHIP:HDAC2:GM12878',\n",
       "       'CHIP:RBBP5:GM12878', 'CHIP:EP300:GM12878', 'CHIP:RFX5:GM12878',\n",
       "       'CHIP:MLLT1:GM12878', 'CHIP:TCF7:GM12878', 'CHIP:NBN:GM12878',\n",
       "       'CHIP:DPF2:GM12878', 'CHIP:HCFC1:GM12878', 'CHIP:NR2F1:GM12878',\n",
       "       'CHIP:ZBTB33:GM12878', 'CHIP:SMAD5:GM12878', 'CHIP:RAD51:GM12878',\n",
       "       'CHIP:MAX:GM12878', 'CHIP:FOXK2:GM12878', 'CHIP:BMI1:GM12878',\n",
       "       'CHIP:ARNT:GM12878', 'CHIP:JUNB:GM12878', 'CHIP:HSF1:GM12878',\n",
       "       'CHIP:RCOR1:GM12878', 'CHIP:CHD1:GM12878', 'CHIP:BHLHE40:GM12878',\n",
       "       'CHIP:NR2C2:GM12878', 'CHIP:SUPT20H:GM12878', 'CHIP:MTA2:GM12878',\n",
       "       'CHIP:ZZZ3:GM12878', 'CHIP:NFYA:GM12878', 'CHIP:MXI1:GM12878',\n",
       "       'CHIP:POLR2AphosphoS2:GM12878', 'CHIP:ZNF143:GM12878',\n",
       "       'CHIP:CTCF:GM12878', 'CHIP:NRF1:GM12878', 'CHIP:SMC3:GM12878',\n",
       "       'CHIP:EBF1:GM12878', 'CHIP:CBX3:GM12878', 'CHIP:ELK1:GM12878',\n",
       "       'CHIP:BRCA1:GM12878', 'CHIP:STAT3:GM12878', 'CHIP:NFE2:GM12878',\n",
       "       'CHIP:TBP:GM12878', 'CHIP:UBTF:GM12878', 'CHIP:WRNIP1:GM12878',\n",
       "       'CHIP:ATF7:GM12878', 'CHIP:SKIL:GM12878', 'CHIP:USF2:GM12878',\n",
       "       'CHIP:SRF:GM12878', 'CHIP:HDAC6:GM12878', 'CHIP:MAZ:GM12878',\n",
       "       'CHIP:E2F4:GM12878', 'CHIP:ELF1:GM12878', 'CHIP:RB1:GM12878',\n",
       "       'CHIP:BCL3:GM12878', 'CHIP:CREM:GM12878', 'CHIP:KLF5:GM12878',\n",
       "       'CHIP:ZNF24:GM12878', 'CHIP:ATF2:GM12878', 'CHIP:SMAD1:GM12878',\n",
       "       'CHIP:MYB:GM12878', 'CHIP:GATAD2B:GM12878', 'CHIP:TBL1XR1:GM12878',\n",
       "       'CHIP:TAF1:GM12878', 'CHIP:PAX5:GM12878', 'CHIP:ASH2L:GM12878',\n",
       "       'CHIP:TARDBP:GM12878', 'CHIP:ZNF384:GM12878', 'CHIP:IRF4:GM12878',\n",
       "       'CHIP:ZFP36:GM12878', 'CHIP:ZNF687:GM12878', 'CHIP:ESRRA:GM12878',\n",
       "       'CHIP:CUX1:GM12878', 'CHIP:MAFK:GM12878', 'CHIP:JUND:GM12878',\n",
       "       'CHIP:SIN3A:GM12878', 'CHIP:CBX5:GM12878', 'CHIP:CHD2:GM12878',\n",
       "       'CHIP:MEF2C:GM12878', 'CHIP:ETS1:GM12878', 'CHIP:E2F8:GM12878',\n",
       "       'CHIP:RAD21:GM12878', 'CHIP:MTA3:GM12878', 'CHIP:EGR1:GM12878',\n",
       "       'CHIP:BATF:GM12878', 'CHIP:STAT5A:GM12878', 'CHIP:RXRA:GM12878',\n",
       "       'CHIP:REST:GM12878', 'CHIP:NR2C1:GM12878', 'CHIP:NFATC1:GM12878',\n",
       "       'CHIP:IRF5:GM12878', 'CHIP:SIX5:GM12878', 'CHIP:RUNX3:GM12878',\n",
       "       'CHIP:ZNF622:GM12878', 'CHIP:MEF2A:GM12878', 'CHIP:EZH2:GM12878',\n",
       "       'CHIP:POLR2A:GM12878', 'CHIP:NFIC:GM12878', 'CHIP:H2AFZ:GM12878',\n",
       "       'CHIP:LARP7:GM12878', 'CHIP:USF1:GM12878', 'CHIP:ZNF207:GM12878',\n",
       "       'CHIP:PBX3:GM12878', 'CHIP:POLR2AphosphoS5:GM12878',\n",
       "       'CHIP:BCL11A:GM12878'], dtype=object)"
      ]
     },
     "execution_count": 14,
     "metadata": {},
     "output_type": "execute_result"
    }
   ],
   "source": [
    "targets_gm['description'].unique()"
   ]
  },
  {
   "cell_type": "code",
   "execution_count": null,
   "id": "31e0f388",
   "metadata": {},
   "outputs": [],
   "source": [
    "#ok so some repeats is interesting, but again keep it same as enformer!\n",
    "#now we just process it"
   ]
  },
  {
   "cell_type": "code",
   "execution_count": 15,
   "id": "3991839d",
   "metadata": {},
   "outputs": [
    {
     "ename": "KeyError",
     "evalue": "0",
     "output_type": "error",
     "traceback": [
      "\u001b[0;31m---------------------------------------------------------------------------\u001b[0m",
      "\u001b[0;31mKeyError\u001b[0m                                  Traceback (most recent call last)",
      "File \u001b[0;32m/data1/lesliec/sarthak/caduceus/.pixi/envs/default/lib/python3.11/site-packages/pandas/core/indexes/base.py:3791\u001b[0m, in \u001b[0;36mIndex.get_loc\u001b[0;34m(self, key)\u001b[0m\n\u001b[1;32m   3790\u001b[0m \u001b[38;5;28;01mtry\u001b[39;00m:\n\u001b[0;32m-> 3791\u001b[0m     \u001b[38;5;28;01mreturn\u001b[39;00m \u001b[38;5;28;43mself\u001b[39;49m\u001b[38;5;241;43m.\u001b[39;49m\u001b[43m_engine\u001b[49m\u001b[38;5;241;43m.\u001b[39;49m\u001b[43mget_loc\u001b[49m\u001b[43m(\u001b[49m\u001b[43mcasted_key\u001b[49m\u001b[43m)\u001b[49m\n\u001b[1;32m   3792\u001b[0m \u001b[38;5;28;01mexcept\u001b[39;00m \u001b[38;5;167;01mKeyError\u001b[39;00m \u001b[38;5;28;01mas\u001b[39;00m err:\n",
      "File \u001b[0;32mindex.pyx:152\u001b[0m, in \u001b[0;36mpandas._libs.index.IndexEngine.get_loc\u001b[0;34m()\u001b[0m\n",
      "File \u001b[0;32mindex.pyx:181\u001b[0m, in \u001b[0;36mpandas._libs.index.IndexEngine.get_loc\u001b[0;34m()\u001b[0m\n",
      "File \u001b[0;32mpandas/_libs/hashtable_class_helper.pxi:2606\u001b[0m, in \u001b[0;36mpandas._libs.hashtable.Int64HashTable.get_item\u001b[0;34m()\u001b[0m\n",
      "File \u001b[0;32mpandas/_libs/hashtable_class_helper.pxi:2630\u001b[0m, in \u001b[0;36mpandas._libs.hashtable.Int64HashTable.get_item\u001b[0;34m()\u001b[0m\n",
      "\u001b[0;31mKeyError\u001b[0m: 0",
      "\nThe above exception was the direct cause of the following exception:\n",
      "\u001b[0;31mKeyError\u001b[0m                                  Traceback (most recent call last)",
      "Cell \u001b[0;32mIn[15], line 2\u001b[0m\n\u001b[1;32m      1\u001b[0m \u001b[38;5;66;03m#also here's something interesting, can't grab index 0, as [0] doesn't work on filtered data, sue index integer indexing with iloc\u001b[39;00m\n\u001b[0;32m----> 2\u001b[0m \u001b[43mtargets_gm\u001b[49m\u001b[43m[\u001b[49m\u001b[38;5;124;43m'\u001b[39;49m\u001b[38;5;124;43mdescription\u001b[39;49m\u001b[38;5;124;43m'\u001b[39;49m\u001b[43m]\u001b[49m\u001b[43m[\u001b[49m\u001b[38;5;241;43m0\u001b[39;49m\u001b[43m]\u001b[49m\n",
      "File \u001b[0;32m/data1/lesliec/sarthak/caduceus/.pixi/envs/default/lib/python3.11/site-packages/pandas/core/series.py:1040\u001b[0m, in \u001b[0;36mSeries.__getitem__\u001b[0;34m(self, key)\u001b[0m\n\u001b[1;32m   1037\u001b[0m     \u001b[38;5;28;01mreturn\u001b[39;00m \u001b[38;5;28mself\u001b[39m\u001b[38;5;241m.\u001b[39m_values[key]\n\u001b[1;32m   1039\u001b[0m \u001b[38;5;28;01melif\u001b[39;00m key_is_scalar:\n\u001b[0;32m-> 1040\u001b[0m     \u001b[38;5;28;01mreturn\u001b[39;00m \u001b[38;5;28;43mself\u001b[39;49m\u001b[38;5;241;43m.\u001b[39;49m\u001b[43m_get_value\u001b[49m\u001b[43m(\u001b[49m\u001b[43mkey\u001b[49m\u001b[43m)\u001b[49m\n\u001b[1;32m   1042\u001b[0m \u001b[38;5;66;03m# Convert generator to list before going through hashable part\u001b[39;00m\n\u001b[1;32m   1043\u001b[0m \u001b[38;5;66;03m# (We will iterate through the generator there to check for slices)\u001b[39;00m\n\u001b[1;32m   1044\u001b[0m \u001b[38;5;28;01mif\u001b[39;00m is_iterator(key):\n",
      "File \u001b[0;32m/data1/lesliec/sarthak/caduceus/.pixi/envs/default/lib/python3.11/site-packages/pandas/core/series.py:1156\u001b[0m, in \u001b[0;36mSeries._get_value\u001b[0;34m(self, label, takeable)\u001b[0m\n\u001b[1;32m   1153\u001b[0m     \u001b[38;5;28;01mreturn\u001b[39;00m \u001b[38;5;28mself\u001b[39m\u001b[38;5;241m.\u001b[39m_values[label]\n\u001b[1;32m   1155\u001b[0m \u001b[38;5;66;03m# Similar to Index.get_value, but we do not fall back to positional\u001b[39;00m\n\u001b[0;32m-> 1156\u001b[0m loc \u001b[38;5;241m=\u001b[39m \u001b[38;5;28;43mself\u001b[39;49m\u001b[38;5;241;43m.\u001b[39;49m\u001b[43mindex\u001b[49m\u001b[38;5;241;43m.\u001b[39;49m\u001b[43mget_loc\u001b[49m\u001b[43m(\u001b[49m\u001b[43mlabel\u001b[49m\u001b[43m)\u001b[49m\n\u001b[1;32m   1158\u001b[0m \u001b[38;5;28;01mif\u001b[39;00m is_integer(loc):\n\u001b[1;32m   1159\u001b[0m     \u001b[38;5;28;01mreturn\u001b[39;00m \u001b[38;5;28mself\u001b[39m\u001b[38;5;241m.\u001b[39m_values[loc]\n",
      "File \u001b[0;32m/data1/lesliec/sarthak/caduceus/.pixi/envs/default/lib/python3.11/site-packages/pandas/core/indexes/base.py:3798\u001b[0m, in \u001b[0;36mIndex.get_loc\u001b[0;34m(self, key)\u001b[0m\n\u001b[1;32m   3793\u001b[0m     \u001b[38;5;28;01mif\u001b[39;00m \u001b[38;5;28misinstance\u001b[39m(casted_key, \u001b[38;5;28mslice\u001b[39m) \u001b[38;5;129;01mor\u001b[39;00m (\n\u001b[1;32m   3794\u001b[0m         \u001b[38;5;28misinstance\u001b[39m(casted_key, abc\u001b[38;5;241m.\u001b[39mIterable)\n\u001b[1;32m   3795\u001b[0m         \u001b[38;5;129;01mand\u001b[39;00m \u001b[38;5;28many\u001b[39m(\u001b[38;5;28misinstance\u001b[39m(x, \u001b[38;5;28mslice\u001b[39m) \u001b[38;5;28;01mfor\u001b[39;00m x \u001b[38;5;129;01min\u001b[39;00m casted_key)\n\u001b[1;32m   3796\u001b[0m     ):\n\u001b[1;32m   3797\u001b[0m         \u001b[38;5;28;01mraise\u001b[39;00m InvalidIndexError(key)\n\u001b[0;32m-> 3798\u001b[0m     \u001b[38;5;28;01mraise\u001b[39;00m \u001b[38;5;167;01mKeyError\u001b[39;00m(key) \u001b[38;5;28;01mfrom\u001b[39;00m \u001b[38;5;21;01merr\u001b[39;00m\n\u001b[1;32m   3799\u001b[0m \u001b[38;5;28;01mexcept\u001b[39;00m \u001b[38;5;167;01mTypeError\u001b[39;00m:\n\u001b[1;32m   3800\u001b[0m     \u001b[38;5;66;03m# If we have a listlike key, _check_indexing_error will raise\u001b[39;00m\n\u001b[1;32m   3801\u001b[0m     \u001b[38;5;66;03m#  InvalidIndexError. Otherwise we fall through and re-raise\u001b[39;00m\n\u001b[1;32m   3802\u001b[0m     \u001b[38;5;66;03m#  the TypeError.\u001b[39;00m\n\u001b[1;32m   3803\u001b[0m     \u001b[38;5;28mself\u001b[39m\u001b[38;5;241m.\u001b[39m_check_indexing_error(key)\n",
      "\u001b[0;31mKeyError\u001b[0m: 0"
     ]
    }
   ],
   "source": [
    "#also here's something interesting, can't grab index 0, as [0] doesn't work on filtered data, sue index integer indexing with iloc\n",
    "targets_gm['description'][0]"
   ]
  },
  {
   "cell_type": "code",
   "execution_count": null,
   "id": "ef102396",
   "metadata": {},
   "outputs": [
    {
     "data": {
      "text/plain": [
       "'CHIP:CBFB:GM12878'"
      ]
     },
     "execution_count": 16,
     "metadata": {},
     "output_type": "execute_result"
    }
   ],
   "source": [
    "targets_gm['description'].iloc[0] #this is the first one!"
   ]
  },
  {
   "cell_type": "markdown",
   "id": "228a9164",
   "metadata": {},
   "source": [
    "# we will now manually compare some examples by loading, processing and doing npallclose"
   ]
  },
  {
   "cell_type": "code",
   "execution_count": 2,
   "id": "61bae22c",
   "metadata": {},
   "outputs": [
    {
     "data": {
      "text/html": [
       "<pre style=\"white-space:pre;overflow-x:auto;line-height:normal;font-family:Menlo,'DejaVu Sans Mono',consolas,'Courier New',monospace\"><span style=\"font-weight: bold\">/</span>\n",
       "├── <span style=\"font-weight: bold\">chr1</span> (1921, 248956422) float16\n",
       "├── <span style=\"font-weight: bold\">chr10</span> (1921, 133797422) float16\n",
       "├── <span style=\"font-weight: bold\">chr11</span> (1921, 135086622) float16\n",
       "├── <span style=\"font-weight: bold\">chr12</span> (1921, 133275309) float16\n",
       "├── <span style=\"font-weight: bold\">chr13</span> (1921, 114364328) float16\n",
       "├── <span style=\"font-weight: bold\">chr14</span> (1921, 107043718) float16\n",
       "├── <span style=\"font-weight: bold\">chr15</span> (1921, 101991189) float16\n",
       "├── <span style=\"font-weight: bold\">chr16</span> (1921, 90338345) float16\n",
       "├── <span style=\"font-weight: bold\">chr17</span> (1921, 83257441) float16\n",
       "├── <span style=\"font-weight: bold\">chr18</span> (1921, 80373285) float16\n",
       "├── <span style=\"font-weight: bold\">chr19</span> (1921, 58617616) float16\n",
       "├── <span style=\"font-weight: bold\">chr2</span> (1921, 242193529) float16\n",
       "├── <span style=\"font-weight: bold\">chr20</span> (1921, 64444167) float16\n",
       "├── <span style=\"font-weight: bold\">chr21</span> (1921, 46709983) float16\n",
       "├── <span style=\"font-weight: bold\">chr22</span> (1921, 50818468) float16\n",
       "├── <span style=\"font-weight: bold\">chr3</span> (1921, 198295559) float16\n",
       "├── <span style=\"font-weight: bold\">chr4</span> (1921, 190214555) float16\n",
       "├── <span style=\"font-weight: bold\">chr5</span> (1921, 181538259) float16\n",
       "├── <span style=\"font-weight: bold\">chr6</span> (1921, 170805979) float16\n",
       "├── <span style=\"font-weight: bold\">chr7</span> (1921, 159345973) float16\n",
       "├── <span style=\"font-weight: bold\">chr8</span> (1921, 145138636) float16\n",
       "├── <span style=\"font-weight: bold\">chr9</span> (1921, 138394717) float16\n",
       "├── <span style=\"font-weight: bold\">chrX</span> (1921, 156040895) float16\n",
       "└── <span style=\"font-weight: bold\">chrY</span> (1921, 57227415) float16\n",
       "</pre>\n"
      ],
      "text/plain": [
       "\u001b[1m/\u001b[0m\n",
       "├── \u001b[1mchr1\u001b[0m (1921, 248956422) float16\n",
       "├── \u001b[1mchr10\u001b[0m (1921, 133797422) float16\n",
       "├── \u001b[1mchr11\u001b[0m (1921, 135086622) float16\n",
       "├── \u001b[1mchr12\u001b[0m (1921, 133275309) float16\n",
       "├── \u001b[1mchr13\u001b[0m (1921, 114364328) float16\n",
       "├── \u001b[1mchr14\u001b[0m (1921, 107043718) float16\n",
       "├── \u001b[1mchr15\u001b[0m (1921, 101991189) float16\n",
       "├── \u001b[1mchr16\u001b[0m (1921, 90338345) float16\n",
       "├── \u001b[1mchr17\u001b[0m (1921, 83257441) float16\n",
       "├── \u001b[1mchr18\u001b[0m (1921, 80373285) float16\n",
       "├── \u001b[1mchr19\u001b[0m (1921, 58617616) float16\n",
       "├── \u001b[1mchr2\u001b[0m (1921, 242193529) float16\n",
       "├── \u001b[1mchr20\u001b[0m (1921, 64444167) float16\n",
       "├── \u001b[1mchr21\u001b[0m (1921, 46709983) float16\n",
       "├── \u001b[1mchr22\u001b[0m (1921, 50818468) float16\n",
       "├── \u001b[1mchr3\u001b[0m (1921, 198295559) float16\n",
       "├── \u001b[1mchr4\u001b[0m (1921, 190214555) float16\n",
       "├── \u001b[1mchr5\u001b[0m (1921, 181538259) float16\n",
       "├── \u001b[1mchr6\u001b[0m (1921, 170805979) float16\n",
       "├── \u001b[1mchr7\u001b[0m (1921, 159345973) float16\n",
       "├── \u001b[1mchr8\u001b[0m (1921, 145138636) float16\n",
       "├── \u001b[1mchr9\u001b[0m (1921, 138394717) float16\n",
       "├── \u001b[1mchrX\u001b[0m (1921, 156040895) float16\n",
       "└── \u001b[1mchrY\u001b[0m (1921, 57227415) float16\n"
      ]
     },
     "execution_count": 2,
     "metadata": {},
     "output_type": "execute_result"
    }
   ],
   "source": [
    "import zarr\n",
    "\n",
    "zarr_og = zarr.open('/data1/lesliec/sarthak/data/DK_zarr/zarr_arrays/test_chrom_chip_tf_chunkchrom.zarr', mode='r')\n",
    "zarr_new = zarr.open('/data1/lesliec/sarthak/data/DK_zarr/zarr_arrays/TFChIP_gm12878.zarr', mode='r')\n",
    "zarr_og.tree()"
   ]
  },
  {
   "cell_type": "code",
   "execution_count": 3,
   "id": "6889413e",
   "metadata": {},
   "outputs": [
    {
     "data": {
      "text/html": [
       "<pre style=\"white-space:pre;overflow-x:auto;line-height:normal;font-family:Menlo,'DejaVu Sans Mono',consolas,'Courier New',monospace\"><span style=\"font-weight: bold\">/</span>\n",
       "├── <span style=\"font-weight: bold\">chr1</span> (162, 248956422) float16\n",
       "├── <span style=\"font-weight: bold\">chr10</span> (162, 133797422) float16\n",
       "├── <span style=\"font-weight: bold\">chr11</span> (162, 135086622) float16\n",
       "├── <span style=\"font-weight: bold\">chr12</span> (162, 133275309) float16\n",
       "├── <span style=\"font-weight: bold\">chr13</span> (162, 114364328) float16\n",
       "├── <span style=\"font-weight: bold\">chr14</span> (162, 107043718) float16\n",
       "├── <span style=\"font-weight: bold\">chr15</span> (162, 101991189) float16\n",
       "├── <span style=\"font-weight: bold\">chr16</span> (162, 90338345) float16\n",
       "├── <span style=\"font-weight: bold\">chr17</span> (162, 83257441) float16\n",
       "├── <span style=\"font-weight: bold\">chr18</span> (162, 80373285) float16\n",
       "├── <span style=\"font-weight: bold\">chr19</span> (162, 58617616) float16\n",
       "├── <span style=\"font-weight: bold\">chr2</span> (162, 242193529) float16\n",
       "├── <span style=\"font-weight: bold\">chr20</span> (162, 64444167) float16\n",
       "├── <span style=\"font-weight: bold\">chr21</span> (162, 46709983) float16\n",
       "├── <span style=\"font-weight: bold\">chr22</span> (162, 50818468) float16\n",
       "├── <span style=\"font-weight: bold\">chr3</span> (162, 198295559) float16\n",
       "├── <span style=\"font-weight: bold\">chr4</span> (162, 190214555) float16\n",
       "├── <span style=\"font-weight: bold\">chr5</span> (162, 181538259) float16\n",
       "├── <span style=\"font-weight: bold\">chr6</span> (162, 170805979) float16\n",
       "├── <span style=\"font-weight: bold\">chr7</span> (162, 159345973) float16\n",
       "├── <span style=\"font-weight: bold\">chr8</span> (162, 145138636) float16\n",
       "├── <span style=\"font-weight: bold\">chr9</span> (162, 138394717) float16\n",
       "├── <span style=\"font-weight: bold\">chrX</span> (162, 156040895) float16\n",
       "└── <span style=\"font-weight: bold\">chrY</span> (162, 57227415) float16\n",
       "</pre>\n"
      ],
      "text/plain": [
       "\u001b[1m/\u001b[0m\n",
       "├── \u001b[1mchr1\u001b[0m (162, 248956422) float16\n",
       "├── \u001b[1mchr10\u001b[0m (162, 133797422) float16\n",
       "├── \u001b[1mchr11\u001b[0m (162, 135086622) float16\n",
       "├── \u001b[1mchr12\u001b[0m (162, 133275309) float16\n",
       "├── \u001b[1mchr13\u001b[0m (162, 114364328) float16\n",
       "├── \u001b[1mchr14\u001b[0m (162, 107043718) float16\n",
       "├── \u001b[1mchr15\u001b[0m (162, 101991189) float16\n",
       "├── \u001b[1mchr16\u001b[0m (162, 90338345) float16\n",
       "├── \u001b[1mchr17\u001b[0m (162, 83257441) float16\n",
       "├── \u001b[1mchr18\u001b[0m (162, 80373285) float16\n",
       "├── \u001b[1mchr19\u001b[0m (162, 58617616) float16\n",
       "├── \u001b[1mchr2\u001b[0m (162, 242193529) float16\n",
       "├── \u001b[1mchr20\u001b[0m (162, 64444167) float16\n",
       "├── \u001b[1mchr21\u001b[0m (162, 46709983) float16\n",
       "├── \u001b[1mchr22\u001b[0m (162, 50818468) float16\n",
       "├── \u001b[1mchr3\u001b[0m (162, 198295559) float16\n",
       "├── \u001b[1mchr4\u001b[0m (162, 190214555) float16\n",
       "├── \u001b[1mchr5\u001b[0m (162, 181538259) float16\n",
       "├── \u001b[1mchr6\u001b[0m (162, 170805979) float16\n",
       "├── \u001b[1mchr7\u001b[0m (162, 159345973) float16\n",
       "├── \u001b[1mchr8\u001b[0m (162, 145138636) float16\n",
       "├── \u001b[1mchr9\u001b[0m (162, 138394717) float16\n",
       "├── \u001b[1mchrX\u001b[0m (162, 156040895) float16\n",
       "└── \u001b[1mchrY\u001b[0m (162, 57227415) float16\n"
      ]
     },
     "execution_count": 3,
     "metadata": {},
     "output_type": "execute_result"
    }
   ],
   "source": [
    "zarr_new.tree()"
   ]
  },
  {
   "cell_type": "code",
   "execution_count": null,
   "id": "3a73f5f7",
   "metadata": {},
   "outputs": [
    {
     "data": {
      "text/plain": [
       "array([ 92,  93,  94,  95,  96,  97,  98,  99, 100, 101, 102, 103, 104,\n",
       "       105, 106, 107, 108, 109, 110, 111, 112, 113, 114, 115, 116, 117,\n",
       "       118, 119, 120, 121, 122, 123, 124, 125, 126, 127, 128, 129, 130,\n",
       "       131, 132, 133, 134, 135, 136, 137, 138, 139, 140, 141, 142, 143,\n",
       "       144, 145, 146, 147, 148, 149, 150, 151, 152, 153, 154, 155, 156,\n",
       "       157, 158, 159, 160, 161, 162, 163, 164, 165, 166, 167, 168, 169,\n",
       "       170, 171, 172, 173, 174, 175, 176, 177, 178, 179, 180, 181, 182,\n",
       "       183, 184, 185, 186, 187, 188, 189, 190, 191, 192, 193, 194, 195,\n",
       "       196, 197, 198, 199, 200, 201, 202, 203, 204, 205, 206, 207, 208,\n",
       "       209, 210, 211, 212, 213, 214, 215, 216, 217, 218, 219, 220, 221,\n",
       "       222, 223, 224, 225, 226, 227, 228, 229, 230, 231, 232, 233, 234,\n",
       "       235, 236, 237, 238, 239, 240, 241, 242, 243, 244, 245, 246, 247,\n",
       "       248, 249, 250, 251, 252, 253])"
      ]
     },
     "execution_count": 4,
     "metadata": {},
     "output_type": "execute_result"
    }
   ],
   "source": [
    "#yeah seems quite straightforward, let's choose a random chromosome and section\n",
    "\n",
    "\n",
    "\n",
    "#now we have certain indices to manually check!\n",
    "\n",
    "import pandas as pd\n",
    "data_path = '/data1/lesliec/sarthak/data/DK_zarr/targets_ChIP_TF_ENCODE.txt'\n",
    "targets = pd.read_csv(data_path, sep='\\t', index_col=0)\n",
    "targets_gm = targets[targets['description'].str.contains(':GM12878')]\n",
    "indices = targets_gm.index.to_numpy()\n",
    "indices"
   ]
  },
  {
   "cell_type": "code",
   "execution_count": 12,
   "id": "56f77f1c",
   "metadata": {},
   "outputs": [],
   "source": [
    "import numpy as np\n",
    "def process_data(seq, blacklist, unmap, scale, clip, clip_soft, blacklist_pct=0.5, umap_clip=0.5):\n",
    "    '''This function will process the data, it does the basenji processing where you do blacklist clipping\n",
    "    Then skip pooling (can do it later, only might affect unmappable clipping, but if doing mean pooling won't affect clipsoft and clip),\n",
    "    Then scale and clip soft then clip, \n",
    "    then extereme clip,\n",
    "    then change unmappable regions\n",
    "    \n",
    "    Args:\n",
    "        seq: the sequence to process\n",
    "        blacklist: the already loaded values form the blacklist npz file that was loaded\n",
    "        unmappable_npz: the already loaded values from the unmappable regions npz file that was loaded\n",
    "        scale: the scale to apply (from targets.txt)\n",
    "        clip: the clip to apply (from targets.txt)\n",
    "        clip_soft: the soft clip to apply (from targets.txt)\n",
    "        blacklist_pct: the percentage to clip the blacklist to\n",
    "        \n",
    "    \n",
    "    '''\n",
    "    #first find blacklist values and if they overlap, clip them to baseline\n",
    "    if blacklist.sum() > 0:\n",
    "        baseline_cov = np.percentile(seq, 100*blacklist_pct, axis=1)\n",
    "        seq_blacklist = seq[:,blacklist==1]\n",
    "        seq_blacklist = np.minimum(seq_blacklist, baseline_cov[:,None])\n",
    "        seq[:,blacklist==1] = seq_blacklist\n",
    "    \n",
    "    #now scale and clip soft then clip\n",
    "    seq = seq * scale\n",
    "    clip_mask = (seq > 32)\n",
    "    if clip_mask.sum() > 0:\n",
    "        seq[clip_mask] = np.sqrt(seq[clip_mask] - clip_soft+1) + clip_soft-1\n",
    "        seq = np.clip(seq,0,clip)\n",
    "    \n",
    "    #now extreme clip, could be extreme values like lots of 0.0002 but then one that is 13. Not good potentially\n",
    "    extreme_clip = np.percentile(seq, 100*0.9999999, axis=1)\n",
    "    seq = np.minimum(seq, extreme_clip[:,None])\n",
    "\n",
    "    #and finally, use unmappable regions\n",
    "    if unmap.sum() > 0:\n",
    "        seq_target_null = np.percentile(seq, q=[100*umap_clip], axis=1)\n",
    "        seq_unmap = seq[:,unmap==1]\n",
    "        seq_unmap = np.minimum(seq_unmap, seq_target_null[0,:,None])\n",
    "        seq[:,unmap==1] = seq_unmap\n",
    "\n",
    "    return seq\n",
    "\n",
    "unmappable_file: str = '/data1/lesliec/sarthak/data/borzoi/umap.npz'\n",
    "blacklist_file: str = '/data1/lesliec/sarthak/data/borzoi/blacklist.npz'\n",
    "\n",
    "with np.load(blacklist_file) as data:\n",
    "    blacklist = {key: np.array(data[key]) for key in data}\n",
    "with np.load(unmappable_file) as data:\n",
    "    unmappable = {key: np.array(data[key]) for key in data}"
   ]
  },
  {
   "cell_type": "code",
   "execution_count": null,
   "id": "a7ae4671",
   "metadata": {},
   "outputs": [
    {
     "name": "stdout",
     "output_type": "stream",
     "text": [
      "Index 0, True\n",
      "Index 1, True\n",
      "Index 2, True\n",
      "Index 3, True\n",
      "Index 4, True\n",
      "Index 5, True\n",
      "Index 6, True\n",
      "Index 7, True\n",
      "Index 8, True\n",
      "Index 9, True\n",
      "Index 10, True\n",
      "Index 11, True\n",
      "Index 12, True\n",
      "Index 13, True\n",
      "Index 14, True\n",
      "Index 15, True\n",
      "Index 16, True\n",
      "Index 17, True\n",
      "Index 18, True\n",
      "Index 19, True\n",
      "Index 20, True\n",
      "Index 21, True\n",
      "Index 22, True\n",
      "Index 23, True\n",
      "Index 24, True\n",
      "Index 25, True\n",
      "Index 26, True\n",
      "Index 27, True\n",
      "Index 28, True\n",
      "Index 29, True\n",
      "Index 30, True\n",
      "Index 31, True\n",
      "Index 32, True\n",
      "Index 33, True\n",
      "Index 34, True\n",
      "Index 35, True\n",
      "Index 36, True\n",
      "Index 37, True\n",
      "Index 38, True\n",
      "Index 39, True\n",
      "Index 40, True\n",
      "Index 41, True\n",
      "Index 42, True\n",
      "Index 43, True\n",
      "Index 44, True\n",
      "Index 45, True\n",
      "Index 46, True\n",
      "Index 47, True\n",
      "Index 48, True\n",
      "Index 49, True\n",
      "Index 50, True\n",
      "Index 51, True\n",
      "Index 52, True\n",
      "Index 53, True\n",
      "Index 54, True\n",
      "Index 55, True\n",
      "Index 56, True\n",
      "Index 57, True\n",
      "Index 58, True\n",
      "Index 59, True\n",
      "Index 60, True\n",
      "Index 61, True\n",
      "Index 62, True\n",
      "Index 63, True\n",
      "Index 64, True\n",
      "Index 65, True\n",
      "Index 66, True\n",
      "Index 67, True\n",
      "Index 68, True\n",
      "Index 69, True\n",
      "Index 70, True\n",
      "Index 71, True\n",
      "Index 72, True\n",
      "Index 73, True\n",
      "Index 74, True\n",
      "Index 75, True\n",
      "Index 76, True\n",
      "Index 77, True\n",
      "Index 78, True\n",
      "Index 79, True\n",
      "Index 80, True\n",
      "Index 81, True\n",
      "Index 82, True\n",
      "Index 83, True\n",
      "Index 84, True\n",
      "Index 85, True\n",
      "Index 86, True\n",
      "Index 87, True\n",
      "Index 88, True\n",
      "Index 89, True\n",
      "Index 90, True\n",
      "Index 91, True\n",
      "Index 92, True\n",
      "Index 93, True\n",
      "Index 94, True\n",
      "Index 95, True\n",
      "Index 96, True\n",
      "Index 97, True\n",
      "Index 98, True\n",
      "Index 99, True\n",
      "Index 100, True\n",
      "Index 101, True\n",
      "Index 102, True\n",
      "Index 103, True\n",
      "Index 104, True\n",
      "Index 105, True\n",
      "Index 106, True\n",
      "Index 107, True\n",
      "Index 108, True\n",
      "Index 109, True\n",
      "Index 110, True\n",
      "Index 111, True\n",
      "Index 112, True\n",
      "Index 113, True\n",
      "Index 114, True\n",
      "Index 115, True\n",
      "Index 116, True\n",
      "Index 117, True\n",
      "Index 118, True\n",
      "Index 119, True\n",
      "Index 120, True\n",
      "Index 121, True\n",
      "Index 122, True\n",
      "Index 123, True\n",
      "Index 124, True\n",
      "Index 125, True\n",
      "Index 126, True\n",
      "Index 127, True\n",
      "Index 128, True\n",
      "Index 129, True\n",
      "Index 130, True\n",
      "Index 131, True\n",
      "Index 132, True\n",
      "Index 133, True\n",
      "Index 134, True\n",
      "Index 135, True\n",
      "Index 136, True\n",
      "Index 137, True\n",
      "Index 138, True\n",
      "Index 139, True\n",
      "Index 140, True\n",
      "Index 141, True\n",
      "Index 142, True\n",
      "Index 143, True\n",
      "Index 144, True\n",
      "Index 145, True\n",
      "Index 146, True\n",
      "Index 147, True\n",
      "Index 148, True\n",
      "Index 149, True\n",
      "Index 150, True\n",
      "Index 151, True\n",
      "Index 152, True\n",
      "Index 153, True\n",
      "Index 154, True\n",
      "Index 155, True\n",
      "Index 156, True\n",
      "Index 157, True\n",
      "Index 158, True\n",
      "Index 159, True\n",
      "Index 160, True\n",
      "Index 161, True\n"
     ]
    }
   ],
   "source": [
    "chrom = 'chr13'\n",
    "start = int(1e6*13) #check a random location too\n",
    "end = start + int(1e6)\n",
    "targets_scale = targets_gm['scale'].iloc[0]\n",
    "targets_clip = targets_gm['clip'].iloc[0]\n",
    "targets_clip_soft = targets_gm['clip_soft'].iloc[0]\n",
    "\n",
    "for i,idx in enumerate(indices):\n",
    "    og_val = zarr_og[chrom][i:i+1, start:end]\n",
    "    newval = zarr_new[chrom][idx:idx+1, start:end]\n",
    "    #now have to process og_val\n",
    "    blist = blacklist[chrom][start:end]\n",
    "    unmap = unmappable[chrom][start:end]\n",
    "    data = process_data(og_val, blist, unmap, targets_scale, targets_clip, targets_clip_soft)\n",
    "    print(f'Index {i}, {np.allclose(og_val, data)}') #wait why is ogval the same as data??"
   ]
  },
  {
   "cell_type": "code",
   "execution_count": 19,
   "id": "b1719de0",
   "metadata": {},
   "outputs": [
    {
     "name": "stdout",
     "output_type": "stream",
     "text": [
      "[0. 0. 0. ... 0. 0. 0.]\n",
      "[0. 0. 0. ... 0. 0. 0.]\n",
      "[0 0 0 ... 0 0 0]\n",
      "[1 1 1 ... 1 1 1]\n",
      "2.0\n",
      "128\n",
      "32\n"
     ]
    }
   ],
   "source": [
    "print(og_val, newval, blist, unmap, targets_scale, targets_clip, targets_clip_soft, sep='\\n')"
   ]
  },
  {
   "cell_type": "code",
   "execution_count": null,
   "id": "0b110e37",
   "metadata": {},
   "outputs": [
    {
     "data": {
      "text/plain": [
       "0.0"
      ]
     },
     "execution_count": 24,
     "metadata": {},
     "output_type": "execute_result"
    }
   ],
   "source": [
    "og_val.max() #oh because it's all 0 lol!"
   ]
  },
  {
   "cell_type": "code",
   "execution_count": 42,
   "id": "b6effaa5",
   "metadata": {},
   "outputs": [
    {
     "name": "stdout",
     "output_type": "stream",
     "text": [
      "Index 0, False, True\n"
     ]
    }
   ],
   "source": [
    "chrom = 'chr13'\n",
    "start = int(1e6*31) #check a random location too\n",
    "end = start + int(1e6)\n",
    "targets_scale = targets_gm['scale'].iloc[0]\n",
    "targets_clip = targets_gm['clip'].iloc[0]\n",
    "targets_clip_soft = targets_gm['clip_soft'].iloc[0]\n",
    "\n",
    "for i,idx in enumerate(indices):\n",
    "    og_val = zarr_og[chrom][idx:idx+1, start:end]\n",
    "    newval = zarr_new[chrom][i:i+1, start:end]\n",
    "    #now have to process og_val\n",
    "    blist = blacklist[chrom][start:end]\n",
    "    unmap = unmappable[chrom][start:end]\n",
    "    data = process_data(og_val, blist, unmap, targets_scale, targets_clip, targets_clip_soft)\n",
    "    print(f'Index {i}, {np.allclose(og_val, data)}, {np.allclose(data,newval)}')\n",
    "    break"
   ]
  },
  {
   "cell_type": "code",
   "execution_count": 43,
   "id": "1dcc24e5",
   "metadata": {},
   "outputs": [
    {
     "data": {
      "text/plain": [
       "(0, 92)"
      ]
     },
     "execution_count": 43,
     "metadata": {},
     "output_type": "execute_result"
    }
   ],
   "source": [
    "i,idx"
   ]
  },
  {
   "cell_type": "code",
   "execution_count": 44,
   "id": "58c600b6",
   "metadata": {},
   "outputs": [
    {
     "data": {
      "text/plain": [
       "14.78"
      ]
     },
     "execution_count": 44,
     "metadata": {},
     "output_type": "execute_result"
    }
   ],
   "source": [
    "og_val.max()"
   ]
  },
  {
   "cell_type": "code",
   "execution_count": 45,
   "id": "568bf594",
   "metadata": {},
   "outputs": [
    {
     "data": {
      "text/plain": [
       "(1, 1000000)"
      ]
     },
     "execution_count": 45,
     "metadata": {},
     "output_type": "execute_result"
    }
   ],
   "source": [
    "og_val.shape"
   ]
  },
  {
   "cell_type": "code",
   "execution_count": 46,
   "id": "e2d7738d",
   "metadata": {},
   "outputs": [
    {
     "data": {
      "text/plain": [
       "[<matplotlib.lines.Line2D at 0x7fcc168a8190>]"
      ]
     },
     "execution_count": 46,
     "metadata": {},
     "output_type": "execute_result"
    },
    {
     "data": {
      "image/png": "[encoded data removed]",
      "text/plain": [
       "<Figure size 640x480 with 1 Axes>"
      ]
     },
     "metadata": {},
     "output_type": "display_data"
    }
   ],
   "source": [
    "import matplotlib.pyplot as plt\n",
    "plt.plot(og_val[0])"
   ]
  },
  {
   "cell_type": "code",
   "execution_count": 47,
   "id": "b9d978b1",
   "metadata": {},
   "outputs": [
    {
     "data": {
      "text/plain": [
       "[<matplotlib.lines.Line2D at 0x7fcc167be690>]"
      ]
     },
     "execution_count": 47,
     "metadata": {},
     "output_type": "execute_result"
    },
    {
     "data": {
      "image/png": "[encoded data removed]",
      "text/plain": [
       "<Figure size 640x480 with 1 Axes>"
      ]
     },
     "metadata": {},
     "output_type": "display_data"
    }
   ],
   "source": [
    "plt.plot(newval[0])"
   ]
  },
  {
   "cell_type": "code",
   "execution_count": 48,
   "id": "4b44d105",
   "metadata": {},
   "outputs": [
    {
     "data": {
      "text/plain": [
       "[<matplotlib.lines.Line2D at 0x7fcc1675e790>]"
      ]
     },
     "execution_count": 48,
     "metadata": {},
     "output_type": "execute_result"
    },
    {
     "data": {
      "image/png": "[encoded data removed]",
      "text/plain": [
       "<Figure size 640x480 with 1 Axes>"
      ]
     },
     "metadata": {},
     "output_type": "display_data"
    }
   ],
   "source": [
    "plt.plot(data[0])"
   ]
  },
  {
   "cell_type": "code",
   "execution_count": 50,
   "id": "c53023b6",
   "metadata": {},
   "outputs": [
    {
     "name": "stdout",
     "output_type": "stream",
     "text": [
      "Index 0, False, True\n"
     ]
    }
   ],
   "source": [
    "#ok this does seem good!!\n",
    "\n",
    "chrom = 'chr13'\n",
    "start = int(1e6*31) #check a random location too\n",
    "end = start + int(1e6)\n",
    "targets_scale = targets_gm['scale'].iloc[0]\n",
    "targets_clip = targets_gm['clip'].iloc[0]\n",
    "targets_clip_soft = targets_gm['clip_soft'].iloc[0]\n",
    "\n",
    "for i,idx in enumerate(indices):\n",
    "    og_val = zarr_og[chrom][idx:idx+1, start:end]\n",
    "    newval = zarr_new[chrom][i:i+1, start:end]\n",
    "    #now have to process og_val\n",
    "    blist = blacklist[chrom][start:end]\n",
    "    unmap = unmappable[chrom][start:end]\n",
    "    data = process_data(og_val, blist, unmap, targets_scale, targets_clip, targets_clip_soft)\n",
    "    if not np.allclose(data,newval):\n",
    "        break\n",
    "    print(f'Index {i}, {np.allclose(og_val, data)}, {np.allclose(data,newval)}')"
   ]
  },
  {
   "cell_type": "code",
   "execution_count": 51,
   "id": "1da631e3",
   "metadata": {},
   "outputs": [
    {
     "data": {
      "text/plain": [
       "Text(0.5, 1.0, 'Processed Value')"
      ]
     },
     "execution_count": 51,
     "metadata": {},
     "output_type": "execute_result"
    },
    {
     "data": {
      "image/png": "[encoded data removed]",
      "text/plain": [
       "<Figure size 1000x1500 with 3 Axes>"
      ]
     },
     "metadata": {},
     "output_type": "display_data"
    }
   ],
   "source": [
    "#ok so the first one is true then the second isn't, probably numerical precision?\n",
    "#do a 3 plot subplot\n",
    "fig, axs = plt.subplots(3, 1, figsize=(10, 15))\n",
    "axs[0].plot(og_val[0])\n",
    "axs[0].set_title('Original Value')\n",
    "axs[1].plot(newval[0])\n",
    "axs[1].set_title('New Value')\n",
    "axs[2].plot(data[0])\n",
    "axs[2].set_title('Processed Value')\n"
   ]
  },
  {
   "cell_type": "code",
   "execution_count": null,
   "id": "97444575",
   "metadata": {},
   "outputs": [
    {
     "data": {
      "text/plain": [
       "[<matplotlib.lines.Line2D at 0x7fcc1640add0>]"
      ]
     },
     "execution_count": 52,
     "metadata": {},
     "output_type": "execute_result"
    },
    {
     "data": {
      "image/png": "[encoded data removed]",
      "text/plain": [
       "<Figure size 640x480 with 1 Axes>"
      ]
     },
     "metadata": {},
     "output_type": "display_data"
    }
   ],
   "source": [
    "plt.plot(newval[0])\n",
    "plt.plot(data[0]-newval[0]) #diff is basically 0, so it is npallclsoe"
   ]
  },
  {
   "cell_type": "code",
   "execution_count": 53,
   "id": "9d2c65ae",
   "metadata": {},
   "outputs": [
    {
     "name": "stdout",
     "output_type": "stream",
     "text": [
      "Index 0, False, True\n",
      "Index 1, False, True\n",
      "Index 2, False, True\n",
      "Index 3, False, True\n",
      "Index 4, False, True\n",
      "Index 5, False, True\n",
      "Index 6, False, True\n",
      "Index 7, False, True\n",
      "Index 8, False, True\n",
      "Index 9, False, True\n",
      "Index 10, False, True\n",
      "Index 11, False, True\n",
      "Index 12, False, True\n",
      "Index 13, False, True\n",
      "Index 14, False, True\n",
      "Index 15, False, True\n",
      "Index 16, False, True\n",
      "Index 17, False, True\n",
      "Index 18, False, True\n",
      "Index 19, False, True\n",
      "Index 20, False, True\n",
      "Index 21, False, True\n",
      "Index 22, False, True\n",
      "Index 23, False, True\n",
      "Index 24, False, True\n",
      "Index 25, False, True\n",
      "Index 26, False, True\n",
      "Index 27, False, True\n",
      "Index 28, False, True\n",
      "Index 29, False, True\n",
      "Index 30, False, True\n",
      "Index 31, False, True\n",
      "Index 32, False, True\n",
      "Index 33, False, True\n",
      "Index 34, False, True\n",
      "Index 35, False, True\n",
      "Index 36, False, True\n",
      "Index 37, False, True\n",
      "Index 38, False, True\n",
      "Index 39, False, True\n",
      "Index 40, False, True\n",
      "Index 41, False, True\n",
      "Index 42, False, True\n",
      "Index 43, False, True\n",
      "Index 44, False, True\n",
      "Index 45, False, True\n",
      "Index 46, False, True\n",
      "Index 47, False, True\n",
      "Index 48, False, True\n",
      "Index 49, False, True\n",
      "Index 50, False, True\n",
      "Index 51, False, True\n",
      "Index 52, False, True\n",
      "Index 53, False, True\n",
      "Index 54, False, True\n",
      "Index 55, False, True\n",
      "Index 56, False, True\n",
      "Index 57, False, True\n",
      "Index 58, False, True\n",
      "Index 59, False, True\n",
      "Index 60, False, True\n",
      "Index 61, False, True\n",
      "Index 62, False, True\n",
      "Index 63, False, True\n",
      "Index 64, False, True\n",
      "Index 65, False, True\n",
      "Index 66, False, True\n",
      "Index 67, False, True\n",
      "Index 68, False, True\n",
      "Index 69, False, True\n",
      "Index 70, False, True\n",
      "Index 71, False, True\n",
      "Index 72, False, True\n",
      "Index 73, False, True\n",
      "Index 74, False, True\n",
      "Index 75, False, True\n",
      "Index 76, False, True\n",
      "Index 77, False, True\n",
      "Index 78, False, True\n",
      "Index 79, False, True\n",
      "Index 80, False, True\n",
      "Index 81, False, True\n",
      "Index 82, False, True\n",
      "Index 83, False, True\n",
      "Index 84, False, True\n",
      "Index 85, False, True\n",
      "Index 86, False, True\n",
      "Index 87, False, True\n",
      "Index 88, False, True\n",
      "Index 89, False, True\n",
      "Index 90, False, True\n",
      "Index 91, False, True\n",
      "Index 92, False, True\n",
      "Index 93, False, True\n",
      "Index 94, False, True\n",
      "Index 95, False, True\n",
      "Index 96, False, True\n",
      "Index 97, False, True\n",
      "Index 98, False, True\n",
      "Index 99, False, True\n",
      "Index 100, False, True\n",
      "Index 101, False, True\n",
      "Index 102, False, True\n",
      "Index 103, False, True\n",
      "Index 104, False, True\n",
      "Index 105, False, True\n",
      "Index 106, False, True\n",
      "Index 107, False, True\n",
      "Index 108, False, True\n",
      "Index 109, False, True\n",
      "Index 110, False, True\n",
      "Index 111, False, True\n",
      "Index 112, False, True\n",
      "Index 113, False, True\n",
      "Index 114, False, True\n",
      "Index 115, False, True\n",
      "Index 116, False, True\n",
      "Index 117, False, True\n",
      "Index 118, False, True\n",
      "Index 119, False, True\n",
      "Index 120, False, True\n",
      "Index 121, False, True\n",
      "Index 122, False, True\n",
      "Index 123, False, True\n",
      "Index 124, False, True\n",
      "Index 125, False, True\n",
      "Index 126, False, True\n",
      "Index 127, False, True\n",
      "Index 128, False, True\n",
      "Index 129, False, True\n",
      "Index 130, False, True\n",
      "Index 131, False, True\n",
      "Index 132, False, True\n",
      "Index 133, False, True\n",
      "Index 134, False, True\n",
      "Index 135, False, True\n",
      "Index 136, False, True\n",
      "Index 137, False, True\n",
      "Index 138, False, True\n",
      "Index 139, False, True\n",
      "Index 140, False, True\n",
      "Index 141, False, True\n",
      "Index 142, False, True\n",
      "Index 143, False, True\n",
      "Index 144, False, True\n",
      "Index 145, False, True\n",
      "Index 146, False, True\n",
      "Index 147, False, True\n",
      "Index 148, False, True\n",
      "Index 149, False, True\n",
      "Index 150, False, True\n",
      "Index 151, False, True\n",
      "Index 152, False, True\n",
      "Index 153, False, True\n",
      "Index 154, False, True\n",
      "Index 155, False, True\n",
      "Index 156, False, True\n",
      "Index 157, False, True\n",
      "Index 158, False, True\n",
      "Index 159, False, True\n",
      "Index 160, False, True\n",
      "Index 161, False, True\n"
     ]
    }
   ],
   "source": [
    "chrom = 'chr13'\n",
    "start = int(1e6*31) #check a random location too\n",
    "end = start + int(1e6)\n",
    "targets_scale = targets_gm['scale'].iloc[0]\n",
    "targets_clip = targets_gm['clip'].iloc[0]\n",
    "targets_clip_soft = targets_gm['clip_soft'].iloc[0]\n",
    "\n",
    "for i,idx in enumerate(indices):\n",
    "    og_val = zarr_og[chrom][idx:idx+1, start:end]\n",
    "    newval = zarr_new[chrom][i:i+1, start:end]\n",
    "    #now have to process og_val\n",
    "    blist = blacklist[chrom][start:end]\n",
    "    unmap = unmappable[chrom][start:end]\n",
    "    data = process_data(og_val, blist, unmap, targets_scale, targets_clip, targets_clip_soft)\n",
    "    val1 = np.allclose(og_val, data, atol=0.01, rtol=0.01) #data has to be within 1%, or it has to be within 1% of the original value\n",
    "    val2 = np.allclose(data,newval, atol=0.01, rtol=0.01)\n",
    "    if not val2:\n",
    "        break\n",
    "    print(f'Index {i}, {val1}, {val2}')"
   ]
  },
  {
   "cell_type": "markdown",
   "id": "4f41d26f",
   "metadata": {},
   "source": [
    "# testing dataset"
   ]
  },
  {
   "cell_type": "code",
   "execution_count": 1,
   "id": "aa634cbd",
   "metadata": {},
   "outputs": [],
   "source": [
    "#relatively striaghtforward, need to test dataset to make sure it makes sense and that it works!\n",
    "#let's first load it in like we would for the multiple RNA seq\n",
    "\n",
    "# dataset:\n",
    "#   _name_: GeneralLoader\n",
    "#   dataset_name: GeneralLoader\n",
    "#   batch_size_eval: ${eval:${.batch_size} * 2}\n",
    "#   shuffle: true\n",
    "#   pin_memory: true\n",
    "#   batch_size: 1\n",
    "#   num_workers: 7\n",
    "#   data_path: /data1/lesliec/sarthak/data/DK_zarr/zarr_arrays/cell_type_arrays/GM12878_DNase.npz\n",
    "#   length: 524288\n",
    "#   shift_sequences: 0\n",
    "#   load_in: false\n",
    "#   rc_aug: false\n",
    "#   mlm: 0\n",
    "#   acc_mlm: 0\n",
    "#   acc_type: continuous\n",
    "#   acc_mask_size: 500\n",
    "#   weight_peaks: false\n",
    "#   additional_data: /data1/lesliec/sarthak/data/borzoi/borzoi.zarr\n",
    "#   sequences_bed_file: /data1/lesliec/sarthak/data/DK_zarr/sequences_borzoi_fold3-4.bed\n",
    "#   additional_data_idxs: /data1/lesliec/sarthak/data/DK_zarr/idx_lists/gm12878_RNA.json\n",
    "import sys\n",
    "sys.path.append('/data1/lesliec/sarthak/caduceus/src/dataloaders/datasets')\n",
    "from general_dataset import GeneralDataset\n",
    "data_path = '/data1/lesliec/sarthak/data/DK_zarr/zarr_arrays/cell_type_arrays/GM12878_DNase.npz'\n",
    "length = 524288\n",
    "shift_sequences = 0\n",
    "load_in = False\n",
    "rc_aug = False\n",
    "mlm = 0\n",
    "acc_mlm = 0\n",
    "acc_type = 'continuous'\n",
    "acc_mask_size = 500\n",
    "weight_peaks = False\n",
    "additional_data = '/data1/lesliec/sarthak/data/borzoi/borzoi.zarr'\n",
    "sequences_bed_file = '/data1/lesliec/sarthak/data/DK_zarr/sequences_borzoi_fold3-4.bed'\n",
    "additional_data_idxs = '/data1/lesliec/sarthak/data/DK_zarr/idx_lists/gm12878_RNA.json'\n",
    "\n",
    "dataset = GeneralDataset(split='train',\n",
    "    data_path=data_path,\n",
    "    length=length,\n",
    "    shift_sequences=shift_sequences,\n",
    "    load_in=load_in,\n",
    "    rc_aug=rc_aug,\n",
    "    mlm=mlm,\n",
    "    acc_mlm=acc_mlm,\n",
    "    acc_type=acc_type,\n",
    "    acc_mask_size=acc_mask_size,\n",
    "    weight_peaks=weight_peaks,\n",
    "    additional_data=additional_data,\n",
    "    sequences_bed_file=sequences_bed_file,\n",
    "    additional_data_idxs=additional_data_idxs\n",
    ")"
   ]
  },
  {
   "cell_type": "code",
   "execution_count": 6,
   "id": "41cf936a",
   "metadata": {},
   "outputs": [],
   "source": [
    "out = dataset[0]"
   ]
  },
  {
   "cell_type": "code",
   "execution_count": 7,
   "id": "f5f8e40f",
   "metadata": {},
   "outputs": [
    {
     "name": "stdout",
     "output_type": "stream",
     "text": [
      "torch.Size([6, 524288]) torch.float32\n",
      "torch.Size([2, 524288]) torch.float32\n",
      "torch.Size([524288, 6]) torch.float32\n",
      "torch.Size([524288, 2]) torch.float32\n",
      "(6144, 30) float16\n"
     ]
    }
   ],
   "source": [
    "for i in out[0]:\n",
    "    print(i.shape, i.dtype)\n",
    "for i in out[1]:\n",
    "    print(i.shape, i.dtype)"
   ]
  },
  {
   "cell_type": "code",
   "execution_count": null,
   "id": "d5d386d7",
   "metadata": {},
   "outputs": [],
   "source": [
    "#importantly it's 6144 (pooled length) x 30 (number of outputs)"
   ]
  },
  {
   "cell_type": "code",
   "execution_count": 2,
   "id": "43b76566",
   "metadata": {},
   "outputs": [],
   "source": [
    "#let's see it with this new set of data\n",
    "\n",
    "sequences_bed_file = '/data1/lesliec/sarthak/data/DK_zarr/sequences_enformer.bed'\n",
    "additional_tracks = '/data1/lesliec/sarthak/data/DK_zarr/zarr_arrays/TFChIP_gm12878.zarr'\n",
    "\n",
    "dataset = GeneralDataset(split='train',\n",
    "    data_path=data_path,\n",
    "    length=length,\n",
    "    shift_sequences=shift_sequences,\n",
    "    load_in=load_in,\n",
    "    rc_aug=rc_aug,\n",
    "    mlm=mlm,\n",
    "    acc_mlm=acc_mlm,\n",
    "    acc_type=acc_type,\n",
    "    acc_mask_size=acc_mask_size,\n",
    "    weight_peaks=weight_peaks,\n",
    "    sequences_bed_file=sequences_bed_file,\n",
    "    additional_tracks=additional_tracks,\n",
    ")"
   ]
  },
  {
   "cell_type": "code",
   "execution_count": 3,
   "id": "968a9937",
   "metadata": {},
   "outputs": [
    {
     "data": {
      "text/plain": [
       "(162, 114364328)"
      ]
     },
     "execution_count": 3,
     "metadata": {},
     "output_type": "execute_result"
    }
   ],
   "source": [
    "dataset.additional_tracks['chr13'].shape"
   ]
  },
  {
   "cell_type": "code",
   "execution_count": 4,
   "id": "bdc07d8e",
   "metadata": {},
   "outputs": [
    {
     "name": "stdout",
     "output_type": "stream",
     "text": [
      "torch.Size([6, 524288]) torch.float32\n",
      "torch.Size([2, 524288]) torch.float32\n",
      "torch.Size([524288, 6]) torch.float32\n",
      "torch.Size([524288, 2]) torch.float32\n",
      "(524288, 162) float16\n"
     ]
    }
   ],
   "source": [
    "outputs = dataset[0]\n",
    "for i in outputs[0]:\n",
    "    print(i.shape, i.dtype)\n",
    "for i in outputs[1]:\n",
    "    print(i.shape, i.dtype)"
   ]
  },
  {
   "cell_type": "code",
   "execution_count": null,
   "id": "da109eca",
   "metadata": {},
   "outputs": [],
   "source": []
  }
 ],
 "metadata": {
  "kernelspec": {
   "display_name": "default",
   "language": "python",
   "name": "python3"
  },
  "language_info": {
   "codemirror_mode": {
    "name": "ipython",
    "version": 3
   },
   "file_extension": ".py",
   "mimetype": "text/x-python",
   "name": "python",
   "nbconvert_exporter": "python",
   "pygments_lexer": "ipython3",
   "version": "3.11.7"
  }
 },
 "nbformat": 4,
 "nbformat_minor": 5
}
