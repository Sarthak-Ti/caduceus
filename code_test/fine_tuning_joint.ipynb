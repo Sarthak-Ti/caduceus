{
 "cells": [
  {
   "cell_type": "markdown",
   "metadata": {},
   "source": [
    "# in order to fine tune the joint model we have to do some things, like first of all get the expression data"
   ]
  },
  {
   "cell_type": "code",
   "execution_count": 1,
   "metadata": {},
   "outputs": [
    {
     "data": {
      "text/html": [
       "<pre style=\"white-space:pre;overflow-x:auto;line-height:normal;font-family:Menlo,'DejaVu Sans Mono',consolas,'Courier New',monospace\"><span style=\"font-weight: bold\">/</span>\n",
       "├── <span style=\"font-weight: bold\">test</span> (1937, 114688, 675) float16\n",
       "├── <span style=\"font-weight: bold\">train</span> (34021, 114688, 675) float16\n",
       "└── <span style=\"font-weight: bold\">val</span> (2213, 114688, 675) float16\n",
       "</pre>\n"
      ],
      "text/plain": [
       "\u001b[1m/\u001b[0m\n",
       "├── \u001b[1mtest\u001b[0m (1937, 114688, 675) float16\n",
       "├── \u001b[1mtrain\u001b[0m (34021, 114688, 675) float16\n",
       "└── \u001b[1mval\u001b[0m (2213, 114688, 675) float16\n"
      ]
     },
     "execution_count": 1,
     "metadata": {},
     "output_type": "execute_result"
    }
   ],
   "source": [
    "# for the data we have to get the data and save it as a separate npz file for train val and test I think\n",
    "import zarr\n",
    "arr = zarr.open('/data1/lesliec/sarthak/data/borzoi/outputs/hg38/labels.zarr', mode='r')\n",
    "arr.tree()"
   ]
  },
  {
   "cell_type": "code",
   "execution_count": 5,
   "metadata": {},
   "outputs": [
    {
     "data": {
      "text/html": [
       "<pre style=\"white-space:pre;overflow-x:auto;line-height:normal;font-family:Menlo,'DejaVu Sans Mono',consolas,'Courier New',monospace\"><span style=\"font-weight: bold\">/</span>\n",
       "└── <span style=\"font-weight: bold\">labels</span> (34021, 896, 5313) float32\n",
       "</pre>\n"
      ],
      "text/plain": [
       "\u001b[1m/\u001b[0m\n",
       "└── \u001b[1mlabels\u001b[0m (34021, 896, 5313) float32\n"
      ]
     },
     "execution_count": 5,
     "metadata": {},
     "output_type": "execute_result"
    }
   ],
   "source": [
    "arr = zarr.open('/data1/lesliec/sarthak/data/enformer/data/train_label.zarr', mode='r')\n",
    "arr.tree()"
   ]
  },
  {
   "cell_type": "code",
   "execution_count": 6,
   "metadata": {},
   "outputs": [],
   "source": [
    "GM12878CAGE = arr['labels'][:,:,5110]"
   ]
  },
  {
   "cell_type": "code",
   "execution_count": 7,
   "metadata": {},
   "outputs": [
    {
     "data": {
      "text/plain": [
       "(34021, 896)"
      ]
     },
     "execution_count": 7,
     "metadata": {},
     "output_type": "execute_result"
    }
   ],
   "source": [
    "GM12878CAGE.shape"
   ]
  },
  {
   "cell_type": "code",
   "execution_count": 3,
   "metadata": {},
   "outputs": [
    {
     "data": {
      "text/html": [
       "<pre style=\"white-space:pre;overflow-x:auto;line-height:normal;font-family:Menlo,'DejaVu Sans Mono',consolas,'Courier New',monospace\"><span style=\"font-weight: bold\">/</span>\n",
       "└── <span style=\"font-weight: bold\">labels</span> (1937, 896, 5313) float32\n",
       "</pre>\n"
      ],
      "text/plain": [
       "\u001b[1m/\u001b[0m\n",
       "└── \u001b[1mlabels\u001b[0m (1937, 896, 5313) float32\n"
      ]
     },
     "execution_count": 3,
     "metadata": {},
     "output_type": "execute_result"
    }
   ],
   "source": [
    "arr = zarr.open('/data1/lesliec/sarthak/data/enformer/data/test_label.zarr', mode='r')\n",
    "arr.tree()"
   ]
  },
  {
   "cell_type": "code",
   "execution_count": 4,
   "metadata": {},
   "outputs": [
    {
     "data": {
      "text/plain": [
       "(1937, 896)"
      ]
     },
     "execution_count": 4,
     "metadata": {},
     "output_type": "execute_result"
    }
   ],
   "source": [
    "GM12878CAGETEST = arr['labels'][:,:,5110]\n",
    "GM12878CAGETEST.shape"
   ]
  },
  {
   "cell_type": "code",
   "execution_count": 8,
   "metadata": {},
   "outputs": [
    {
     "data": {
      "text/plain": [
       "(2213, 896)"
      ]
     },
     "execution_count": 8,
     "metadata": {},
     "output_type": "execute_result"
    }
   ],
   "source": [
    "arr = zarr.open('/data1/lesliec/sarthak/data/enformer/data/val_label.zarr', mode='r')\n",
    "GM12878CAGEVAL = arr['labels'][:,:,5110]\n",
    "GM12878CAGEVAL.shape"
   ]
  },
  {
   "cell_type": "code",
   "execution_count": 9,
   "metadata": {},
   "outputs": [
    {
     "data": {
      "text/plain": [
       "KeysView(NpzFile '/data1/lesliec/sarthak/data/DK_zarr/zarr_arrays/cell_type_arrays/GM12878_DNase.npz' with keys: chr19, chr10, chr12, chr8, chr1...)"
      ]
     },
     "execution_count": 9,
     "metadata": {},
     "output_type": "execute_result"
    }
   ],
   "source": [
    "import numpy as np\n",
    "#let's see the format for the other data\n",
    "t = np.load('/data1/lesliec/sarthak/data/DK_zarr/zarr_arrays/cell_type_arrays/GM12878_DNase.npz')\n",
    "t.keys()"
   ]
  },
  {
   "cell_type": "code",
   "execution_count": 10,
   "metadata": {},
   "outputs": [
    {
     "data": {
      "text/plain": [
       "(1, 248956422)"
      ]
     },
     "execution_count": 10,
     "metadata": {},
     "output_type": "execute_result"
    }
   ],
   "source": [
    "t['chr1'].shape"
   ]
  },
  {
   "cell_type": "code",
   "execution_count": 11,
   "metadata": {},
   "outputs": [
    {
     "data": {
      "text/plain": [
       "(34021, 896, 1)"
      ]
     },
     "execution_count": 11,
     "metadata": {},
     "output_type": "execute_result"
    }
   ],
   "source": [
    "GM12878CAGE[:,:,None].shape"
   ]
  },
  {
   "cell_type": "code",
   "execution_count": 12,
   "metadata": {},
   "outputs": [],
   "source": [
    "#so we can save it as label  by tracks! tracks is 1 so just append\n",
    "final_dict = {}\n",
    "final_dict['train'] = GM12878CAGE[:,:,None]\n",
    "final_dict['val'] = GM12878CAGEVAL[:,:,None]\n",
    "final_dict['test'] = GM12878CAGETEST[:,:,None]\n",
    "#and now let's save it\n",
    "np.savez('/data1/lesliec/sarthak/data/enformer/data/GM12878CAGE.npz', **final_dict)"
   ]
  }
 ],
 "metadata": {
  "kernelspec": {
   "display_name": "default",
   "language": "python",
   "name": "python3"
  },
  "language_info": {
   "codemirror_mode": {
    "name": "ipython",
    "version": 3
   },
   "file_extension": ".py",
   "mimetype": "text/x-python",
   "name": "python",
   "nbconvert_exporter": "python",
   "pygments_lexer": "ipython3",
   "version": "3.11.7"
  }
 },
 "nbformat": 4,
 "nbformat_minor": 2
}
